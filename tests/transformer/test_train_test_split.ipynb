{
 "cells": [
  {
   "cell_type": "code",
   "execution_count": 1,
   "metadata": {
    "collapsed": true
   },
   "outputs": [],
   "source": [
    "import pandas as pd\n",
    "\n",
    "import numpy as np\n",
    "from typing import Dict, List, Union, Optional\n",
    "\n",
    "import os\n",
    "from typing import List, Tuple, Union, Any\n",
    "from collections import Counter\n",
    "import random\n",
    "import string\n",
    "from rapidfuzz import process\n",
    "\n",
    "import pyarrow as pa\n",
    "import pyarrow.parquet as pq\n",
    "import math\n",
    "import copy"
   ]
  },
  {
   "cell_type": "code",
   "execution_count": 4,
   "outputs": [],
   "source": [
    "old_chrome_data = pd.read_parquet(f\"../../data/interim/chrome/08_12_2022/http.0.parquet.gzip\")"
   ],
   "metadata": {
    "collapsed": false
   }
  },
  {
   "cell_type": "code",
   "execution_count": 2,
   "outputs": [],
   "source": [
    "new_chrome_data = pd.read_parquet(f\"ndarray_chrome_test.parquet\")"
   ],
   "metadata": {
    "collapsed": false
   }
  },
  {
   "cell_type": "code",
   "execution_count": 5,
   "outputs": [],
   "source": [
    "other_columns = old_chrome_data.columns.values.tolist()\n",
    "chrome_columns = new_chrome_data.columns.values.tolist()\n",
    "cols_not_in_chrome = list(set(other_columns).difference(chrome_columns))"
   ],
   "metadata": {
    "collapsed": false
   }
  },
  {
   "cell_type": "code",
   "execution_count": 6,
   "outputs": [
    {
     "data": {
      "text/plain": "['x-cms-cdninvalkey',\n 'x-web-ver',\n 'resin-trace',\n 'trd-ts',\n 'x-msedge-features',\n 'x-temp-format',\n 'x-site-developed-by',\n 'ihg-apigee-srv',\n 'x-redirects-version',\n 'x-client-scheme',\n 'x-debug-pass',\n 'x-pbs-fwsrvname',\n 'x-wix-ssr-cacheable',\n 'x-hootsuite-ingress',\n 'x-api-host',\n 'image-proxy',\n 'x-log-uid',\n 'x-swiftype-backend-region',\n 'x-is-shadow-site',\n 'filter-class',\n 'x-is-interanet',\n 'x-imgnow-server',\n 'x-debug-host',\n 'x-tableau-cf-response-time',\n 'ig-set-use-auth-header-for-sso',\n 'x-bbc-origin-response-status',\n 'x-skip-cache-cookie',\n 'nginx-version',\n 'x-chesscom-servedby',\n 'x-env-psm',\n 'vnd.eo.request-id',\n 'express-uuid',\n 'x-apz-server',\n 'x-trp-pba',\n 'x-cloudmap',\n 'real-uri',\n 'x-oss-restore-tier',\n 'x-cms-developed-by',\n 'x-debug-x-forwarded-host',\n 'x-ldnr-root-hl-set',\n 'se',\n 'stored-vary-value',\n 'x-apple-i-request-id',\n 'cld_by',\n 'x-crunchyroll-regenerated-from',\n 'x-xy-cip',\n 'x-oss-meta-sys-storage-class',\n 'x-inap-server',\n 'x-ak-origin',\n 'x-clara-wadp',\n 'x-server-elapsed',\n 'x-goog-meta-version-id',\n 'x-fatal-request',\n 'lb_pool',\n 'cdn-caching-enabled',\n 'x-temp-bytediff',\n 'feloma-cache',\n 'x-mixcloud-graphql-query-name',\n 'x-ingress-point',\n 'x-apple-auth-attributes',\n 'x-failure-reason',\n 'x-geo-zip',\n 'h1',\n 'x-swiftype-edge-datacenter',\n 'touch',\n 'server_help',\n 'x-accuracy',\n 'x-content-cdn-origin-ts',\n 'hbwb',\n 'x-tlive-spanid',\n 'exec-time',\n 'selected-product',\n 'x-k8s-out',\n 'x-ldnr-is-en-us',\n 'x-goog-meta-origin',\n 'x-server-requesttime',\n 'x-videoerrno',\n 'cache-ctrol',\n 'x-backup-ips',\n 'x-tos-cdn',\n 'x-shield-cache',\n 'x-lb-pop',\n 'vnd-eo-prana-client-receive',\n 'x-sw-id',\n 'x-tos-host',\n 'x-o1-p2',\n 'x-srv-ip',\n 'orihost',\n 'x-ftr-buildid',\n 'vnd.eo.parent-span-id',\n 'router-host',\n 'x-sourceinfo',\n 'x-ovp-host',\n 'scnt',\n 'ttl-set',\n 'x-swiftype-backend-node',\n 'x-origin-location',\n 'rpc-persist-psm',\n 'x-netflix.zuul.utilization',\n 'x-cdn-tos-host',\n 'message-id',\n 'dd.trace_id',\n 'x-apple-id-session-id',\n 'citiuuid',\n 'x-env-hosttype',\n 'x-swiftype-frontend-node',\n 'x-strm-request-id',\n 'x-tlb-server-name',\n 'x-k8s-host',\n 'x-amz-meta-content-disposition',\n 'c-seq',\n 'x-applogic-instance',\n 'x-goog-meta-wix-basic',\n 'x-goog-meta-contentlength',\n 'x-ss-rid',\n 'x-origin-upstream-status',\n 'cn',\n 'vnd.odesk.request-id',\n 'x-swiftype-frontend-datacenter',\n 'nw18-geo-meta',\n 'artist',\n 'x-air-content-version',\n 'x-hp-trace-project',\n 'x-strm-log-split',\n 'x-azion-ip',\n 'x-wix-bundler-imported-namespaces',\n 'web',\n 'x-li-static-content',\n 'x-cache-hot',\n 'xhs-real-ip',\n 'x-idc',\n 'x-server-time-ms',\n 'x-crunchyroll-regen-timestamp',\n 'x-tt-env',\n 'bfcache-opt-in',\n 'x-fromrack',\n 'x-goog-meta-imageformat',\n 'x-ch',\n 'x-granicus-server',\n 'x-ssl-protocol',\n 'x-cache-scope',\n 'x-redirects-date',\n 'x-zeus-shell-expiry-timestamp',\n 'vnd.eo.span-id',\n 's-rt2',\n 'x-via-lb',\n 'hp_ab_var',\n 'x-img-webp-skip-reason',\n 'x-env-proxytype',\n '_tpp_result_success_',\n 'x-env-idc',\n 'x-maxage',\n 'rpc-persist-path',\n 'x-cascade',\n 'x-cms-platform',\n 'x-uidblock-version',\n 'bounds',\n 'x-spreaker-from-cache',\n 'cld_latency',\n 'kumparan-header',\n 'bucket',\n '0',\n 'x-selected-idc',\n 'pcache-hit',\n 'x-theme-applied',\n 'x-trans-level',\n 'x-applogic',\n 'x-mnet-hli',\n 'x-selected-env',\n 'img-ver',\n 'x-fhhgng',\n 'rollout-xerox_eurasia',\n 'x-consent-setting-cache-status',\n 'vnd-eo-server-sr',\n 'x-applogic-filter-executions',\n 'zy-cache-status',\n 'x-magnolia-vary',\n 'get-svc',\n 'x-sq-region',\n 'navigationcookie',\n 'x-device-reason',\n 'x-time-zone',\n 'x-new-rule-triggered',\n 'x-slack-shared-secret-outcome',\n 'cld_hits',\n 'x-psm',\n 'width',\n 'x-applogic-status',\n 'x-warning',\n 'x-goog-meta-imagewidth',\n 'krk-reject-reason',\n 'kum-cch',\n 'x-sq-dc',\n 'x-fb-server-cluster-forwarded',\n 'websource',\n 'x-els-serverid',\n 'content-ex-length',\n 'x-user-geo',\n 'x-goog-meta-imageheight',\n 'x-cf-node-idx',\n 'x-wayfair-gql-gateway',\n 'x-flipkart-ab-ids',\n 'x-shield-ip',\n 'x-rs',\n 'x-object-meta-x-swift-migration-status',\n 'img-proc-id',\n 'rpc-persist-host',\n 'x-imgix-features',\n 'x-select-host-type',\n 'x-ably-serverid',\n 's-device-type',\n 'scg',\n 'x-hp-trace-id',\n 'x-envoy-upstream-address',\n 'ot_ts',\n 'x-xms-page-cache-actions',\n 'x-akamai-http2-push',\n 'access-time',\n 'vnd-eo-span-id',\n 'x-xy-ntype',\n 'x-lb-location',\n 'collector-error',\n 'x-rendertimestamp',\n 'v_cache',\n 'x-blopf',\n 'x-pw-front-node',\n 'x-use-ppe',\n 'x-sc-w',\n 'x-pw-cluster-node',\n 'x-hs-combine-css',\n 'tgt-actual-backend-status-message',\n 'pageid',\n 'x-buildversion',\n 'gbcdnlang',\n 'iiq-data',\n 'x-circle-r',\n 'x-cache-fs-status',\n 'x-varnish-cloudfront-viewer',\n 'x-chesscom-meta',\n 'ratelimit-info',\n 'x-cloud-env-shr',\n 'x-air-pt-value',\n 'x-waitingroom-timeout',\n 'x-responded-by',\n 'git-tag',\n 'lb_node',\n 'x-bucket',\n 'remote-cache-status',\n 'x-ss-birth',\n 'x-fc-error-type',\n 'xvid-debug',\n 'x-bb-except',\n 'x-served-via',\n 'gateway-forwarding',\n 'x-redirects-ref',\n 'x-secure-option',\n 'patent',\n 'x-dynamic-cache',\n 'site-cookie',\n 'uss-cache',\n 'x-slack-backend',\n 'x-consent',\n 'zy-accelerated',\n 'x-uuidv4',\n 'x-from-src',\n 'x-beacon',\n 'x-tb-traceid',\n 'x_h',\n 'strict-transport-policy',\n 'contentful-cache',\n 'pserver',\n 'trpc-trans-info',\n 'x-debug-requesturl',\n 'dummy',\n 'x-ftr-ttl',\n 'x-tlb-backends',\n 'query-result',\n 'x-env-proxy-host',\n 'parent-message-id',\n 'x-swiftype-edge-node',\n 'x-applogic-proxy-attempts',\n 'x-rcdn',\n 'graphql-response-deflated',\n 'x-lru-cache',\n 'x-app-reason',\n 'x-serv-id',\n 'x-env-cluster',\n 'x-amz-meta-alexa-last-modified',\n 'x-arr',\n 'cf-h2-pushed',\n 'timestamps',\n 'x-utime',\n 'edge-type',\n 'x-upwork-target-status',\n 'x-msedge-flight',\n 'x-load-time',\n 'x-lb-ip',\n 'x-ftr-trace',\n 'x-env-reason',\n 'x-imgnow-type',\n 'x-wag-id',\n 'x-handle',\n 's-id',\n 'ng-cache',\n 'device_detected_ismobilephone',\n 'rbz-geo-name',\n 'x-liid',\n 'x-http2-push',\n 'x-slack-unique-id',\n 'x-gridnum',\n 'x-vip-proxy-verification',\n 'x-rm-node',\n 'x-cachetime',\n 'x-graphql-cache',\n 'zy-server',\n 'x-backup-hosts',\n 'x-epic-cookie-blocked',\n 'cld_cache',\n 'giproxy-languageonlypath',\n 'real-source-url',\n 'tgt-actual-backend-status-code',\n 'x-w-dc',\n 'vnd.eo.trace-id',\n 'graphql-toucheduids',\n 'x-ratelimited',\n 'x-cdn-flag',\n 'x-htmlcache',\n 'x-real-cdn-host',\n 'img-skip-reason',\n 'front-innner-ip',\n 'x-debug-ua-device',\n 'x-air-pt-source',\n 'x-els-reqid',\n 'log-csoc-timing',\n 'x-swiftype-backend-datacenter',\n 'x-debug-clientconfig.defaultforrequest',\n 'vnd-eo-parent-span-id',\n 'x-edge-geo',\n 'x-m2',\n 'x-cache-cold',\n 'fetch-deliver',\n 'height',\n 'x-zipkin-span-id',\n 'rbz-geo-code',\n 'krtid',\n 'x-plg',\n 'x-ratelimit-delay',\n 'x-inap-cache-status',\n 'x-mcache',\n 'x-wadp-cache',\n 'x-pre-backend',\n 'lb_header',\n 'x-sc-h',\n 'x-journey',\n 'x-adfox',\n 'vnd-eo-server-ss',\n 'dropped-udsids',\n 'x-config-pt',\n 'x-zeus-shell-cacheable',\n 'x-oss-restore-cache',\n 'client-http-version',\n 'x-appengine-log-flush-count',\n 'x-amzn-apigw-region',\n 'shopify-edge-caching',\n 'x-derived-path',\n 'x-session-token']"
     },
     "execution_count": 6,
     "metadata": {},
     "output_type": "execute_result"
    }
   ],
   "source": [
    "cols_not_in_chrome"
   ],
   "metadata": {
    "collapsed": false
   }
  },
  {
   "cell_type": "code",
   "execution_count": 103,
   "outputs": [
    {
     "data": {
      "text/plain": "3372                      p56793v.hulk.bjpdc\n49357    web-proxy-prod-dpt-55654bbb69-npw77\n49358            advert_iis_web133v25_qcloud\n49359            advert_iis_web154v25_qcloud\n49360            advert_iis_web23v220_qcloud\n                        ...                 \n61001            advert_iis_web22v220_qcloud\n61002            advert_iis_web209v24_qcloud\n61009            advert_iis_web22v220_qcloud\n61012            advert_iis_web100v25_qcloud\n61013            advert_iis_web140v25_qcloud\nName: hostname, Length: 77, dtype: object"
     },
     "execution_count": 103,
     "metadata": {},
     "output_type": "execute_result"
    }
   ],
   "source": [
    "new_chrome_data[new_chrome_data['hostname'].notnull() == True]['hostname']"
   ],
   "metadata": {
    "collapsed": false
   }
  },
  {
   "cell_type": "code",
   "execution_count": 124,
   "outputs": [
    {
     "data": {
      "text/plain": "12285    60323\nName: x-postal-code, dtype: object"
     },
     "execution_count": 124,
     "metadata": {},
     "output_type": "execute_result"
    }
   ],
   "source": [
    "new_chrome_data[new_chrome_data['x-postal-code'].notnull() == True]['x-postal-code']"
   ],
   "metadata": {
    "collapsed": false
   }
  },
  {
   "cell_type": "code",
   "execution_count": 125,
   "outputs": [
    {
     "data": {
      "text/plain": "77768    flb-cad7971630f7d7e82b725145220a4af6\n77773    flb-4756c41efe723f99d61e3f3c86e5df0a\n77774    flb-c3c0ed9ca5fe70c3f1cb47236755c7f4\n77775    flb-36e11bd5fda783b7f1b265107abc087f\n77783    flb-f76d740882cd24b989d988b8c719f1ac\n                         ...                 \n77921    flb-23c10b9488a4b87341a9555c09031386\n77922    flb-74576765e07bb5cce0c98dd9f5099d3a\n77965    flb-fadb6f95370ec06642efdcc08c9b34c4\n77990    flb-a43d45ba757236d35363b0c5130c159b\n77991    flb-fda4d0cebd334e54d0c75558f234c3c3\nName: sm-log-id, Length: 67, dtype: object"
     },
     "execution_count": 125,
     "metadata": {},
     "output_type": "execute_result"
    }
   ],
   "source": [
    "new_chrome_data[new_chrome_data['sm-log-id'].notnull() == True]['sm-log-id']"
   ],
   "metadata": {
    "collapsed": false
   }
  },
  {
   "cell_type": "code",
   "execution_count": 5,
   "outputs": [
    {
     "data": {
      "text/plain": "          pragma content-length                     content-type   \n0       no-cache           None                  text/javascript  \\\n1           None              0                        text/html   \n2       no-cache            133  application/json; charset=utf-8   \n3           None             29                  text/javascript   \n4           None              0                        text/html   \n...          ...            ...                              ...   \n802808  no-cache             43                        image/gif   \n802809      None           None  application/json; charset=utf-8   \n802810  no-cache             43                        image/gif   \n802811  no-cache             43                        image/gif   \n802812  no-cache             43                        image/gif   \n\n                                 date  tracker  \n0       wed, 29 mar 2023 14:00:08 gmt        1  \n1       wed, 29 mar 2023 14:00:09 gmt        1  \n2       wed, 29 mar 2023 14:00:09 gmt        1  \n3       wed, 29 mar 2023 13:50:11 gmt        1  \n4       wed, 29 mar 2023 14:00:09 gmt        0  \n...                               ...      ...  \n802808  thu, 30 mar 2023 00:42:10 gmt        1  \n802809  thu, 30 mar 2023 00:28:57 gmt        0  \n802810  thu, 30 mar 2023 00:42:13 gmt        1  \n802811  thu, 30 mar 2023 00:42:15 gmt        1  \n802812  thu, 30 mar 2023 00:42:17 gmt        1  \n\n[802813 rows x 5 columns]",
      "text/html": "<div>\n<style scoped>\n    .dataframe tbody tr th:only-of-type {\n        vertical-align: middle;\n    }\n\n    .dataframe tbody tr th {\n        vertical-align: top;\n    }\n\n    .dataframe thead th {\n        text-align: right;\n    }\n</style>\n<table border=\"1\" class=\"dataframe\">\n  <thead>\n    <tr style=\"text-align: right;\">\n      <th></th>\n      <th>pragma</th>\n      <th>content-length</th>\n      <th>content-type</th>\n      <th>date</th>\n      <th>tracker</th>\n    </tr>\n  </thead>\n  <tbody>\n    <tr>\n      <th>0</th>\n      <td>no-cache</td>\n      <td>None</td>\n      <td>text/javascript</td>\n      <td>wed, 29 mar 2023 14:00:08 gmt</td>\n      <td>1</td>\n    </tr>\n    <tr>\n      <th>1</th>\n      <td>None</td>\n      <td>0</td>\n      <td>text/html</td>\n      <td>wed, 29 mar 2023 14:00:09 gmt</td>\n      <td>1</td>\n    </tr>\n    <tr>\n      <th>2</th>\n      <td>no-cache</td>\n      <td>133</td>\n      <td>application/json; charset=utf-8</td>\n      <td>wed, 29 mar 2023 14:00:09 gmt</td>\n      <td>1</td>\n    </tr>\n    <tr>\n      <th>3</th>\n      <td>None</td>\n      <td>29</td>\n      <td>text/javascript</td>\n      <td>wed, 29 mar 2023 13:50:11 gmt</td>\n      <td>1</td>\n    </tr>\n    <tr>\n      <th>4</th>\n      <td>None</td>\n      <td>0</td>\n      <td>text/html</td>\n      <td>wed, 29 mar 2023 14:00:09 gmt</td>\n      <td>0</td>\n    </tr>\n    <tr>\n      <th>...</th>\n      <td>...</td>\n      <td>...</td>\n      <td>...</td>\n      <td>...</td>\n      <td>...</td>\n    </tr>\n    <tr>\n      <th>802808</th>\n      <td>no-cache</td>\n      <td>43</td>\n      <td>image/gif</td>\n      <td>thu, 30 mar 2023 00:42:10 gmt</td>\n      <td>1</td>\n    </tr>\n    <tr>\n      <th>802809</th>\n      <td>None</td>\n      <td>None</td>\n      <td>application/json; charset=utf-8</td>\n      <td>thu, 30 mar 2023 00:28:57 gmt</td>\n      <td>0</td>\n    </tr>\n    <tr>\n      <th>802810</th>\n      <td>no-cache</td>\n      <td>43</td>\n      <td>image/gif</td>\n      <td>thu, 30 mar 2023 00:42:13 gmt</td>\n      <td>1</td>\n    </tr>\n    <tr>\n      <th>802811</th>\n      <td>no-cache</td>\n      <td>43</td>\n      <td>image/gif</td>\n      <td>thu, 30 mar 2023 00:42:15 gmt</td>\n      <td>1</td>\n    </tr>\n    <tr>\n      <th>802812</th>\n      <td>no-cache</td>\n      <td>43</td>\n      <td>image/gif</td>\n      <td>thu, 30 mar 2023 00:42:17 gmt</td>\n      <td>1</td>\n    </tr>\n  </tbody>\n</table>\n<p>802813 rows × 5 columns</p>\n</div>"
     },
     "execution_count": 5,
     "metadata": {},
     "output_type": "execute_result"
    }
   ],
   "source": [
    "new_chrome_data[['pragma', 'content-length', 'content-type', 'date', 'tracker']]"
   ],
   "metadata": {
    "collapsed": false
   }
  },
  {
   "cell_type": "code",
   "execution_count": 6,
   "outputs": [],
   "source": [
    "import matplotlib.pyplot as plt\n",
    "import seaborn as sns"
   ],
   "metadata": {
    "collapsed": false
   }
  },
  {
   "cell_type": "code",
   "execution_count": 7,
   "outputs": [
    {
     "data": {
      "text/plain": "<Axes: xlabel='tracker', ylabel='Count'>"
     },
     "execution_count": 7,
     "metadata": {},
     "output_type": "execute_result"
    },
    {
     "data": {
      "text/plain": "<Figure size 1008x504 with 1 Axes>",
      "image/png": "[encoded data removed]"
     },
     "metadata": {
      "needs_background": "light"
     },
     "output_type": "display_data"
    }
   ],
   "source": [
    "plt.figure(figsize=(14, 7))\n",
    "sns.histplot(new_chrome_data, x=\"tracker\")"
   ],
   "metadata": {
    "collapsed": false
   }
  },
  {
   "cell_type": "code",
   "execution_count": 13,
   "outputs": [
    {
     "data": {
      "text/plain": "          pragma content-length                     content-type   \n0       no-cache           2183         application/x-javascript  \\\n1           None           None           application/javascript   \n2           None           None                  text/javascript   \n3           None             18  application/json; charset=utf-8   \n4           None           None                  text/javascript   \n...          ...            ...                              ...   \n168033      None            586                         text/css   \n168034      None            418                         text/css   \n168035      None            461                         text/css   \n168036      None          21778           application/javascript   \n168037      None            490                         text/css   \n\n                                 date  \n0       fri, 12 aug 2022 09:23:48 gmt  \n1       thu, 11 aug 2022 21:14:37 gmt  \n2       fri, 12 aug 2022 09:23:48 gmt  \n3       fri, 12 aug 2022 09:23:48 gmt  \n4       fri, 12 aug 2022 09:23:49 gmt  \n...                               ...  \n168033  fri, 12 aug 2022 11:37:38 gmt  \n168034  fri, 12 aug 2022 11:37:38 gmt  \n168035  fri, 12 aug 2022 11:37:38 gmt  \n168036  fri, 12 aug 2022 11:37:38 gmt  \n168037  fri, 12 aug 2022 11:37:38 gmt  \n\n[168038 rows x 4 columns]",
      "text/html": "<div>\n<style scoped>\n    .dataframe tbody tr th:only-of-type {\n        vertical-align: middle;\n    }\n\n    .dataframe tbody tr th {\n        vertical-align: top;\n    }\n\n    .dataframe thead th {\n        text-align: right;\n    }\n</style>\n<table border=\"1\" class=\"dataframe\">\n  <thead>\n    <tr style=\"text-align: right;\">\n      <th></th>\n      <th>pragma</th>\n      <th>content-length</th>\n      <th>content-type</th>\n      <th>date</th>\n    </tr>\n  </thead>\n  <tbody>\n    <tr>\n      <th>0</th>\n      <td>no-cache</td>\n      <td>2183</td>\n      <td>application/x-javascript</td>\n      <td>fri, 12 aug 2022 09:23:48 gmt</td>\n    </tr>\n    <tr>\n      <th>1</th>\n      <td>None</td>\n      <td>None</td>\n      <td>application/javascript</td>\n      <td>thu, 11 aug 2022 21:14:37 gmt</td>\n    </tr>\n    <tr>\n      <th>2</th>\n      <td>None</td>\n      <td>None</td>\n      <td>text/javascript</td>\n      <td>fri, 12 aug 2022 09:23:48 gmt</td>\n    </tr>\n    <tr>\n      <th>3</th>\n      <td>None</td>\n      <td>18</td>\n      <td>application/json; charset=utf-8</td>\n      <td>fri, 12 aug 2022 09:23:48 gmt</td>\n    </tr>\n    <tr>\n      <th>4</th>\n      <td>None</td>\n      <td>None</td>\n      <td>text/javascript</td>\n      <td>fri, 12 aug 2022 09:23:49 gmt</td>\n    </tr>\n    <tr>\n      <th>...</th>\n      <td>...</td>\n      <td>...</td>\n      <td>...</td>\n      <td>...</td>\n    </tr>\n    <tr>\n      <th>168033</th>\n      <td>None</td>\n      <td>586</td>\n      <td>text/css</td>\n      <td>fri, 12 aug 2022 11:37:38 gmt</td>\n    </tr>\n    <tr>\n      <th>168034</th>\n      <td>None</td>\n      <td>418</td>\n      <td>text/css</td>\n      <td>fri, 12 aug 2022 11:37:38 gmt</td>\n    </tr>\n    <tr>\n      <th>168035</th>\n      <td>None</td>\n      <td>461</td>\n      <td>text/css</td>\n      <td>fri, 12 aug 2022 11:37:38 gmt</td>\n    </tr>\n    <tr>\n      <th>168036</th>\n      <td>None</td>\n      <td>21778</td>\n      <td>application/javascript</td>\n      <td>fri, 12 aug 2022 11:37:38 gmt</td>\n    </tr>\n    <tr>\n      <th>168037</th>\n      <td>None</td>\n      <td>490</td>\n      <td>text/css</td>\n      <td>fri, 12 aug 2022 11:37:38 gmt</td>\n    </tr>\n  </tbody>\n</table>\n<p>168038 rows × 4 columns</p>\n</div>"
     },
     "execution_count": 13,
     "metadata": {},
     "output_type": "execute_result"
    }
   ],
   "source": [
    "old_chrome_data[['pragma', 'content-length', 'content-type', 'date']]"
   ],
   "metadata": {
    "collapsed": false
   }
  },
  {
   "cell_type": "code",
   "execution_count": 2,
   "outputs": [],
   "source": [
    "def read_json_file(\n",
    "    name: str, target_file_name: str, target_data_dir, compression_alg\n",
    ") -> pd.DataFrame:\n",
    "    path = f\"../../data/{target_data_dir}/{target_file_name}/{name}.json.{compression_alg}\"\n",
    "    print(path)\n",
    "    print (f\"\\nDEBUG: File exists? {os.path.isfile(path)}\\n\")\n",
    "\n",
    "    return pd.read_json(\n",
    "        path,\n",
    "        orient='records',\n",
    "        compression='gzip'\n",
    "    )\n",
    "\n",
    "\n",
    "def prepare_initial_dataset(\n",
    "    file_name: str, target_file: str, target_data_dir, compression_alg\n",
    ") -> pd.DataFrame:\n",
    "    data = (\n",
    "        read_json_file(file_name, target_file, target_data_dir, compression_alg)\n",
    "        .dropna()\n",
    "        .reset_index(drop=True)\n",
    "    )\n",
    "    return data.loc[data[\"responseHeaders\"].map(len) != 0].reset_index(drop=True)"
   ],
   "metadata": {
    "collapsed": false
   }
  },
  {
   "cell_type": "code",
   "execution_count": 3,
   "outputs": [
    {
     "name": "stdout",
     "output_type": "stream",
     "text": [
      "../../data/merged/chrome/03_29_2023/merged_data.json.gz\n",
      "\n",
      "DEBUG: File exists? True\n",
      "\n"
     ]
    }
   ],
   "source": [
    "response_data = prepare_initial_dataset('merged_data', 'chrome/03_29_2023', 'merged', 'gz')"
   ],
   "metadata": {
    "collapsed": false
   }
  },
  {
   "cell_type": "code",
   "execution_count": 3,
   "outputs": [
    {
     "name": "stdout",
     "output_type": "stream",
     "text": [
      "../../data/raw/chrome/08_12_2022/http.0.json.gzip\n",
      "\n",
      "DEBUG: File exists? True\n",
      "\n"
     ]
    }
   ],
   "source": [
    "response_data = prepare_initial_dataset('http.0', 'chrome/08_12_2022', 'raw', 'gzip')"
   ],
   "metadata": {
    "collapsed": false
   }
  },
  {
   "cell_type": "code",
   "execution_count": 4,
   "outputs": [],
   "source": [
    "def process_header_rows_2_np(row: list) -> dict:\n",
    "    \"\"\"\n",
    "    Process a list of header rows and return a dictionary with lowercase keys\n",
    "    and values.\n",
    "\n",
    "    Parameters\n",
    "    ----------\n",
    "    row : list\n",
    "        A list of header rows, where each row is a list containing a key and a\n",
    "        value as strings.\n",
    "\n",
    "    Returns\n",
    "    -------\n",
    "    dict\n",
    "        A dictionary containing the header keys and values, where keys and\n",
    "        values are lowercase.\n",
    "    \"\"\"\n",
    "    http_message = np.array(row)\n",
    "    header_keys = np.char.lower(http_message[:, 0])\n",
    "    header_values = np.char.lower(http_message[:, 1])\n",
    "    parsed_row_as_dict = dict(zip(header_keys, header_values))\n",
    "    return parsed_row_as_dict"
   ],
   "metadata": {
    "collapsed": false
   }
  },
  {
   "cell_type": "code",
   "execution_count": 5,
   "outputs": [
    {
     "name": "stdout",
     "output_type": "stream",
     "text": [
      "CPU times: user 42.2 s, sys: 1.22 s, total: 43.5 s\n",
      "Wall time: 43.7 s\n"
     ]
    }
   ],
   "source": [
    "%%time\n",
    "parsed_headers = [\n",
    "        process_header_rows_2_np(i)\n",
    "        for i in response_data[\"responseHeaders\"]\n",
    "    ]"
   ],
   "metadata": {
    "collapsed": false
   }
  },
  {
   "cell_type": "code",
   "execution_count": 6,
   "outputs": [
    {
     "name": "stdout",
     "output_type": "stream",
     "text": [
      "CPU times: user 1.79 s, sys: 406 ms, total: 2.19 s\n",
      "Wall time: 2.38 s\n"
     ]
    }
   ],
   "source": [
    "%%time\n",
    "column_names = list(set().union(*[set(d.keys()) for d in parsed_headers]))"
   ],
   "metadata": {
    "collapsed": false
   }
  },
  {
   "cell_type": "code",
   "execution_count": 17,
   "outputs": [],
   "source": [
    "def rename_duplicate_keys(\n",
    "    data: List[Dict[str, str]], key_mapping: Dict[str, str]\n",
    ") -> List[Dict[str, str]]:\n",
    "    return [\n",
    "        {key_mapping.get(k, k): v for k, v in d.items()} for d in data\n",
    "    ]"
   ],
   "metadata": {
    "collapsed": false
   }
  },
  {
   "cell_type": "code",
   "execution_count": 16,
   "outputs": [],
   "source": [
    "def find_duplicates(strings: List[str]) -> List[str]:\n",
    "    \"\"\"\n",
    "    Find duplicate strings in a list and return a list of the duplicated strings.\n",
    "\n",
    "    Parameters\n",
    "    ----------\n",
    "    strings : List[str]\n",
    "        A list of strings to find duplicates in.\n",
    "\n",
    "    Returns\n",
    "    -------\n",
    "    List[str]\n",
    "        A list containing the duplicated strings found in the input list.\n",
    "\n",
    "    Examples\n",
    "    --------\n",
    "    >>> strings = [\"apple\", \"orange\", \"banana\", \"apple\", \"orange\"]\n",
    "    >>> find_duplicates(strings)\n",
    "    ['apple', 'orange']\n",
    "    \"\"\"\n",
    "    duplicates = []\n",
    "    unique_strings = set()\n",
    "\n",
    "    for string in strings:\n",
    "        if string in unique_strings:\n",
    "            duplicates.append(string)\n",
    "        else:\n",
    "            unique_strings.add(string)\n",
    "\n",
    "    return duplicates"
   ],
   "metadata": {
    "collapsed": false
   }
  },
  {
   "cell_type": "code",
   "execution_count": 18,
   "outputs": [],
   "source": [
    "def concatenate_dicts_2(\n",
    "        data: List[Dict[str, str]], column_names: List[str]\n",
    ") -> np.ndarray:\n",
    "    \"\"\"\n",
    "    Concatenate a list of dictionaries containing header data into a single NumPy array.\n",
    "\n",
    "    Parameters\n",
    "    ----------\n",
    "    data : List[Dict[str, str]]\n",
    "        A list of dictionaries, where each dictionary contains header keys and values.\n",
    "    column_names : List[str]\n",
    "        A list of header column names.\n",
    "\n",
    "    Returns\n",
    "    -------\n",
    "    np.ndarray\n",
    "        A NumPy array containing the concatenated header data.\n",
    "    \"\"\"\n",
    "    data_array = np.empty((len(data), len(column_names)), dtype=object)\n",
    "    col_to_idx = {col: idx for idx, col in enumerate(column_names)}\n",
    "\n",
    "    for i, d in enumerate(data):\n",
    "        for col, value in d.items():\n",
    "            data_array[i, col_to_idx[col]] = value\n",
    "\n",
    "    data_array[data_array is None] = np.nan\n",
    "    return data_array"
   ],
   "metadata": {
    "collapsed": false
   }
  },
  {
   "cell_type": "code",
   "execution_count": 11,
   "outputs": [
    {
     "data": {
      "text/plain": "4308"
     },
     "execution_count": 11,
     "metadata": {},
     "output_type": "execute_result"
    }
   ],
   "source": [
    "# def remove_value_at_index(\n",
    "#         arr: np.ndarray, header_name: str, column_names: List[str]\n",
    "# ) -> np.ndarray:\n",
    "#     index = column_names.index(header_name)\n",
    "#     result_array = np.hstack((arr[:, :index], arr[:, index + 1:]))\n",
    "#     return result_array\n",
    "#\n",
    "#\n",
    "# column_names.index('hostname')"
   ],
   "metadata": {
    "collapsed": false
   }
  },
  {
   "cell_type": "code",
   "execution_count": 13,
   "outputs": [
    {
     "data": {
      "text/plain": "6461"
     },
     "execution_count": 13,
     "metadata": {},
     "output_type": "execute_result"
    }
   ],
   "source": [
    "# column_names.index('protocol')"
   ],
   "metadata": {
    "collapsed": false
   }
  },
  {
   "cell_type": "code",
   "execution_count": null,
   "outputs": [],
   "source": [
    "# print(arr[arr[6461] is not None][6461])"
   ],
   "metadata": {
    "collapsed": false,
    "pycharm": {
     "is_executing": true
    }
   }
  },
  {
   "cell_type": "code",
   "execution_count": 51,
   "outputs": [
    {
     "data": {
      "text/plain": "'hostname'"
     },
     "execution_count": 51,
     "metadata": {},
     "output_type": "execute_result"
    }
   ],
   "source": [
    "# column_names.pop(6527)"
   ],
   "metadata": {
    "collapsed": false
   }
  },
  {
   "cell_type": "code",
   "execution_count": 50,
   "outputs": [
    {
     "name": "stdout",
     "output_type": "stream",
     "text": [
      "CPU times: user 40.2 s, sys: 57.3 s, total: 1min 37s\n",
      "Wall time: 3min 4s\n"
     ]
    }
   ],
   "source": [
    "%%time\n",
    "# arr = remove_value_at_index(arr, 'hostname', column_names)"
   ],
   "metadata": {
    "collapsed": false
   }
  },
  {
   "cell_type": "code",
   "execution_count": 31,
   "outputs": [
    {
     "name": "stdout",
     "output_type": "stream",
     "text": [
      "CPU times: user 1.11 s, sys: 362 ms, total: 1.47 s\n",
      "Wall time: 1.63 s\n"
     ]
    }
   ],
   "source": [
    "%%time\n",
    "def process_url_rows_v2(row: List[Dict]) -> np.ndarray:\n",
    "    return pd.DataFrame.from_records(row).to_numpy()\n",
    "\n",
    "\n",
    "url_rows = process_url_rows_v2(response_data[\"url\"])"
   ],
   "metadata": {
    "collapsed": false
   }
  },
  {
   "cell_type": "code",
   "execution_count": 55,
   "outputs": [
    {
     "name": "stdout",
     "output_type": "stream",
     "text": [
      "CPU times: user 430 ms, sys: 3.28 s, total: 3.71 s\n",
      "Wall time: 10.8 s\n"
     ]
    }
   ],
   "source": [
    "%%time\n",
    "# url_rows = remove_value_at_index(url_rows, 'protocol', [*response_data['url'][0]])"
   ],
   "metadata": {
    "collapsed": false
   }
  },
  {
   "cell_type": "code",
   "execution_count": 13,
   "outputs": [],
   "source": [
    "url_rows_column_names = [*response_data['url'][0]]"
   ],
   "metadata": {
    "collapsed": false
   }
  },
  {
   "cell_type": "code",
   "execution_count": 19,
   "outputs": [],
   "source": [
    "duplicates = find_duplicates([*url_rows_column_names, *column_names, 'tracker'])"
   ],
   "metadata": {
    "collapsed": false
   }
  },
  {
   "cell_type": "code",
   "execution_count": 20,
   "outputs": [
    {
     "data": {
      "text/plain": "['hostname', 'protocol']"
     },
     "execution_count": 20,
     "metadata": {},
     "output_type": "execute_result"
    }
   ],
   "source": [
    "duplicates"
   ],
   "metadata": {
    "collapsed": false
   }
  },
  {
   "cell_type": "code",
   "execution_count": 21,
   "outputs": [],
   "source": [
    "def create_key_mapping(duplicate_keys: List[str]) -> Dict[str, str]:\n",
    "    \"\"\"\n",
    "    Create a key mapping dictionary for renaming duplicate keys.\n",
    "\n",
    "    Parameters\n",
    "    ----------\n",
    "    duplicate_keys : List[str]\n",
    "        A list of duplicate keys to be renamed.\n",
    "\n",
    "    Returns\n",
    "    -------\n",
    "    Dict[str, str]\n",
    "        A dictionary mapping the original keys to their new names, which include '_dlc' suffix.\n",
    "\n",
    "    Examples\n",
    "    --------\n",
    "    >>> duplicate_keys = [\"a\", \"b\"]\n",
    "    >>> create_key_mapping(duplicate_keys)\n",
    "    {\"a\": \"a_dlc\", \"b\": \"b_dlc\"}\n",
    "    \"\"\"\n",
    "    return {key: f\"{key}_dlc\" for key in duplicate_keys}"
   ],
   "metadata": {
    "collapsed": false
   }
  },
  {
   "cell_type": "code",
   "execution_count": 22,
   "outputs": [],
   "source": [
    "key_mapper = create_key_mapping(duplicates)"
   ],
   "metadata": {
    "collapsed": false
   }
  },
  {
   "cell_type": "code",
   "execution_count": 23,
   "outputs": [
    {
     "data": {
      "text/plain": "{'hostname': 'hostname_dlc', 'protocol': 'protocol_dlc'}"
     },
     "execution_count": 23,
     "metadata": {},
     "output_type": "execute_result"
    }
   ],
   "source": [
    "key_mapper"
   ],
   "metadata": {
    "collapsed": false
   }
  },
  {
   "cell_type": "code",
   "execution_count": 15,
   "outputs": [],
   "source": [
    "def rename_duplicates(\n",
    "        original_arr: List[str], duplicates_arr: List[str]\n",
    ") -> List[str]:\n",
    "    \"\"\"\n",
    "    Rename the duplicated elements in the original array of strings based on the\n",
    "    given duplicates array. The duplicated strings in the original array will be\n",
    "    renamed by appending '_dlc' to their original names.\n",
    "\n",
    "    Parameters\n",
    "    ----------\n",
    "    original_arr : List[str]\n",
    "        The original array of strings containing the elements to be checked for\n",
    "        duplicates and potentially renamed.\n",
    "    duplicates_arr : List[str]\n",
    "        The array of strings containing the duplicated elements that should be\n",
    "        renamed in the original array.\n",
    "\n",
    "    Returns\n",
    "    -------\n",
    "    List[str]\n",
    "        The updated array of strings with the duplicated elements renamed.\n",
    "\n",
    "    Examples\n",
    "    --------\n",
    "    >>> original_arr = ['a', 'b', 'c', 'a', 'b']\n",
    "    >>> duplicates_arr = ['a', 'b']\n",
    "    >>> rename_duplicates(original_arr, duplicates_arr)\n",
    "    ['a', 'b', 'c', 'a_dlc', 'b_dlc']\n",
    "    \"\"\"\n",
    "    if not duplicates_arr:\n",
    "        return original_arr\n",
    "\n",
    "    renamed_arr = copy.deepcopy(original_arr)\n",
    "    duplicates_set = copy.deepcopy(duplicates_arr)\n",
    "\n",
    "    for i, header_name in enumerate(renamed_arr):\n",
    "        if header_name in duplicates_set:\n",
    "            print(f'Duplicate header name found at index {i} and renamed to '\n",
    "                  f'{header_name}_dlc')\n",
    "            renamed_arr[i] = f'{header_name}_dlc'\n",
    "            duplicates_set.remove(header_name)\n",
    "\n",
    "    return renamed_arr"
   ],
   "metadata": {
    "collapsed": false
   }
  },
  {
   "cell_type": "code",
   "execution_count": 24,
   "outputs": [
    {
     "name": "stdout",
     "output_type": "stream",
     "text": [
      "Duplicate header name found at index 659 and renamed to hostname_dlc\n",
      "Duplicate header name found at index 1511 and renamed to protocol_dlc\n"
     ]
    }
   ],
   "source": [
    "column_names = rename_duplicates(column_names, duplicates)"
   ],
   "metadata": {
    "collapsed": false
   }
  },
  {
   "cell_type": "code",
   "execution_count": 25,
   "outputs": [],
   "source": [
    "parsed_headers = rename_duplicate_keys(parsed_headers, key_mapper)"
   ],
   "metadata": {
    "collapsed": false
   }
  },
  {
   "cell_type": "code",
   "execution_count": 104,
   "outputs": [
    {
     "data": {
      "text/plain": "'hostname_dlc'"
     },
     "execution_count": 104,
     "metadata": {},
     "output_type": "execute_result"
    }
   ],
   "source": [
    "column_names[7239]"
   ],
   "metadata": {
    "collapsed": false
   }
  },
  {
   "cell_type": "code",
   "execution_count": null,
   "outputs": [],
   "source": [
    "# hostname_index = column_names.index(\"hostname\")\n",
    "# final_response_headers = remove_value_at_index(\n",
    "#     final_response_headers, \"hostname\", column_names\n",
    "# )\n",
    "# column_names.pop(hostname_index)"
   ],
   "metadata": {
    "collapsed": false
   }
  },
  {
   "cell_type": "code",
   "execution_count": 26,
   "outputs": [
    {
     "name": "stdout",
     "output_type": "stream",
     "text": [
      "CPU times: user 10.1 s, sys: 22.6 s, total: 32.7 s\n",
      "Wall time: 42.1 s\n"
     ]
    }
   ],
   "source": [
    "%%time\n",
    "arr = concatenate_dicts_2(parsed_headers, column_names)"
   ],
   "metadata": {
    "collapsed": false
   }
  },
  {
   "cell_type": "code",
   "execution_count": 27,
   "outputs": [],
   "source": [
    "def process_label_rows_v2(\n",
    "    data: List[List[Dict[str, Union[bool, str, List]]]]\n",
    ") -> np.ndarray:\n",
    "    \"\"\"\n",
    "    Process a list of label row data and return a NumPy array.\n",
    "\n",
    "    Args:\n",
    "        data (List[List[Dict[str, Union[bool, str, List]]]]): A list containing\n",
    "        label row data.\n",
    "\n",
    "    Returns:\n",
    "        np.ndarray: A NumPy array with processed label data.\n",
    "    \"\"\"\n",
    "    columns = [r[\"blocklist\"].lower() for row in data for r in row]\n",
    "    unique_columns = list(set(columns))\n",
    "\n",
    "    row_data = np.zeros((len(data), len(unique_columns)), dtype=bool)\n",
    "\n",
    "    col_to_idx = {col: idx for idx, col in enumerate(unique_columns)}\n",
    "\n",
    "    for i, row in enumerate(data):\n",
    "        for r in row:\n",
    "            col = r[\"blocklist\"].lower()\n",
    "            row_data[i, col_to_idx[col]] = r[\"isLabeled\"]\n",
    "\n",
    "    return row_data"
   ],
   "metadata": {
    "collapsed": false
   }
  },
  {
   "cell_type": "code",
   "execution_count": 28,
   "outputs": [
    {
     "name": "stdout",
     "output_type": "stream",
     "text": [
      "CPU times: user 1.54 s, sys: 1.97 s, total: 3.52 s\n",
      "Wall time: 4.71 s\n"
     ]
    }
   ],
   "source": [
    "%%time\n",
    "labels = process_label_rows_v2(response_data[\"labels\"])"
   ],
   "metadata": {
    "collapsed": false
   }
  },
  {
   "cell_type": "code",
   "execution_count": 29,
   "outputs": [],
   "source": [
    "def merge_boolean_columns(data: np.ndarray) -> np.ndarray:\n",
    "    \"\"\"\n",
    "    Merge boolean columns by summing their values along the row axis.\n",
    "\n",
    "    Args:\n",
    "        data (np.ndarray): A NumPy array containing boolean values.\n",
    "\n",
    "    Returns:\n",
    "        np.ndarray: A NumPy array with merged boolean values.\n",
    "    \"\"\"\n",
    "    merged = np.any(data, axis=1).astype(int)\n",
    "    return merged"
   ],
   "metadata": {
    "collapsed": false
   }
  },
  {
   "cell_type": "code",
   "execution_count": 30,
   "outputs": [],
   "source": [
    "labels_parsed = merge_boolean_columns(labels)"
   ],
   "metadata": {
    "collapsed": false
   }
  },
  {
   "cell_type": "code",
   "execution_count": 45,
   "outputs": [],
   "source": [
    "def concat_arrays(\n",
    "    header_array: np.ndarray,\n",
    "    url_array: np.ndarray,\n",
    "    label_array: np.ndarray,\n",
    ") -> np.ndarray:\n",
    "    \"\"\"\n",
    "    Concatenate header_array, url_array, and label_array column-wise.\n",
    "\n",
    "    Parameters\n",
    "    ----------\n",
    "    header_array : np.ndarray\n",
    "        2D NumPy array containing header information.\n",
    "    url_array : np.ndarray\n",
    "        2D NumPy array containing URL information.\n",
    "    label_array : np.ndarray\n",
    "        1D NumPy array containing label information.\n",
    "\n",
    "    Returns\n",
    "    -------\n",
    "    np.ndarray\n",
    "        A 2D NumPy array that is the concatenation of the input arrays.\n",
    "    \"\"\"\n",
    "    print(f\"header_array shape: {header_array.shape}\")\n",
    "    print(f\"url_array shape: {url_array.shape}\")\n",
    "    print(f\"label_array shape: {label_array.shape}\")\n",
    "\n",
    "    final_array = np.hstack((url_array, header_array))\n",
    "    final_array = np.column_stack((final_array, label_array))\n",
    "\n",
    "    return final_array"
   ],
   "metadata": {
    "collapsed": false
   }
  },
  {
   "cell_type": "code",
   "execution_count": null,
   "outputs": [],
   "source": [
    "%%time\n",
    "# test = concat_arrays(arr, url_rows, labels_parsed)"
   ],
   "metadata": {
    "collapsed": false,
    "pycharm": {
     "is_executing": true
    }
   }
  },
  {
   "cell_type": "code",
   "execution_count": 37,
   "outputs": [],
   "source": [
    "holdout = column_names"
   ],
   "metadata": {
    "collapsed": false
   }
  },
  {
   "cell_type": "code",
   "execution_count": 34,
   "outputs": [
    {
     "data": {
      "text/plain": "['hostname', 'pathname', 'filetype', 'filename', 'protocol', 'query']"
     },
     "execution_count": 34,
     "metadata": {},
     "output_type": "execute_result"
    }
   ],
   "source": [
    "url_rows_column_names"
   ],
   "metadata": {
    "collapsed": false
   }
  },
  {
   "cell_type": "code",
   "execution_count": 67,
   "outputs": [],
   "source": [
    "url_column_names = url_rows_column_names"
   ],
   "metadata": {
    "collapsed": false
   }
  },
  {
   "cell_type": "code",
   "execution_count": 33,
   "outputs": [],
   "source": [
    "label_column_name = ['tracker']"
   ],
   "metadata": {
    "collapsed": false
   }
  },
  {
   "cell_type": "markdown",
   "source": [
    "n"
   ],
   "metadata": {
    "collapsed": false
   }
  },
  {
   "cell_type": "code",
   "execution_count": 38,
   "outputs": [
    {
     "data": {
      "text/plain": "[]"
     },
     "execution_count": 38,
     "metadata": {},
     "output_type": "execute_result"
    }
   ],
   "source": [
    "find_duplicates([*url_rows_column_names, *holdout, *label_column_name])"
   ],
   "metadata": {
    "collapsed": false
   }
  },
  {
   "cell_type": "code",
   "execution_count": 36,
   "outputs": [
    {
     "data": {
      "text/plain": "7903"
     },
     "execution_count": 36,
     "metadata": {},
     "output_type": "execute_result"
    }
   ],
   "source": [
    "len([*url_rows_column_names, *column_names, *label_column_name])"
   ],
   "metadata": {
    "collapsed": false
   }
  },
  {
   "cell_type": "code",
   "execution_count": 40,
   "outputs": [],
   "source": [
    "column_names = [*url_rows_column_names, *holdout, *label_column_name]"
   ],
   "metadata": {
    "collapsed": false
   }
  },
  {
   "cell_type": "code",
   "execution_count": 41,
   "outputs": [
    {
     "data": {
      "text/plain": "7903"
     },
     "execution_count": 41,
     "metadata": {},
     "output_type": "execute_result"
    }
   ],
   "source": [
    "len(column_names)"
   ],
   "metadata": {
    "collapsed": false
   }
  },
  {
   "cell_type": "code",
   "execution_count": 215,
   "outputs": [],
   "source": [
    "part_a_header = arr[0:100000,:]\n",
    "part_a_url = url_rows[0:100000,:]\n",
    "part_a_label = labels_parsed[0:100000]"
   ],
   "metadata": {
    "collapsed": false
   }
  },
  {
   "cell_type": "code",
   "execution_count": 44,
   "outputs": [],
   "source": [
    "def parse_chunks(\n",
    "        header_array: np.ndarray,\n",
    "        url_array: np.ndarray,\n",
    "        label_array: np.ndarray,\n",
    "        chunk_size: int\n",
    ") -> np.ndarray:\n",
    "    num_rows = header_array.shape[0]\n",
    "    num_chunks = math.ceil(num_rows / chunk_size)\n",
    "    result_chunks = []\n",
    "\n",
    "    print(f\"num_rows: {num_rows}, num_chunks: {num_chunks}\")\n",
    "\n",
    "    for i in range(num_chunks):\n",
    "        print(f'iteration: {i}')\n",
    "        start_idx = i * chunk_size\n",
    "        end_idx = min((i + 1) * chunk_size, num_rows)\n",
    "\n",
    "        print(f\"start_idx: {start_idx}, end_idx: {end_idx}\")\n",
    "\n",
    "        part_header = header_array[start_idx:end_idx, :]\n",
    "        part_url = url_array[start_idx:end_idx, :]\n",
    "        part_label = label_array[start_idx:end_idx]\n",
    "\n",
    "        combined = concat_arrays(part_header, part_url, part_label)\n",
    "        result_chunks.append(combined.T)\n",
    "\n",
    "    return result_chunks"
   ],
   "metadata": {
    "collapsed": false
   }
  },
  {
   "cell_type": "code",
   "execution_count": 52,
   "outputs": [
    {
     "name": "stdout",
     "output_type": "stream",
     "text": [
      "num_rows: 802813, num_chunks: 33\n",
      "iteration: 0\n",
      "start_idx: 0, end_idx: 25000\n",
      "header_array shape: (25000, 7896)\n",
      "url_array shape: (25000, 6)\n",
      "label_array shape: (25000,)\n",
      "iteration: 1\n",
      "start_idx: 25000, end_idx: 50000\n",
      "header_array shape: (25000, 7896)\n",
      "url_array shape: (25000, 6)\n",
      "label_array shape: (25000,)\n",
      "iteration: 2\n",
      "start_idx: 50000, end_idx: 75000\n",
      "header_array shape: (25000, 7896)\n",
      "url_array shape: (25000, 6)\n",
      "label_array shape: (25000,)\n",
      "iteration: 3\n",
      "start_idx: 75000, end_idx: 100000\n",
      "header_array shape: (25000, 7896)\n",
      "url_array shape: (25000, 6)\n",
      "label_array shape: (25000,)\n",
      "iteration: 4\n",
      "start_idx: 100000, end_idx: 125000\n",
      "header_array shape: (25000, 7896)\n",
      "url_array shape: (25000, 6)\n",
      "label_array shape: (25000,)\n",
      "iteration: 5\n",
      "start_idx: 125000, end_idx: 150000\n",
      "header_array shape: (25000, 7896)\n",
      "url_array shape: (25000, 6)\n",
      "label_array shape: (25000,)\n",
      "iteration: 6\n",
      "start_idx: 150000, end_idx: 175000\n",
      "header_array shape: (25000, 7896)\n",
      "url_array shape: (25000, 6)\n",
      "label_array shape: (25000,)\n",
      "iteration: 7\n",
      "start_idx: 175000, end_idx: 200000\n",
      "header_array shape: (25000, 7896)\n",
      "url_array shape: (25000, 6)\n",
      "label_array shape: (25000,)\n",
      "iteration: 8\n",
      "start_idx: 200000, end_idx: 225000\n",
      "header_array shape: (25000, 7896)\n",
      "url_array shape: (25000, 6)\n",
      "label_array shape: (25000,)\n",
      "iteration: 9\n",
      "start_idx: 225000, end_idx: 250000\n",
      "header_array shape: (25000, 7896)\n",
      "url_array shape: (25000, 6)\n",
      "label_array shape: (25000,)\n",
      "iteration: 10\n",
      "start_idx: 250000, end_idx: 275000\n",
      "header_array shape: (25000, 7896)\n",
      "url_array shape: (25000, 6)\n",
      "label_array shape: (25000,)\n",
      "iteration: 11\n",
      "start_idx: 275000, end_idx: 300000\n",
      "header_array shape: (25000, 7896)\n",
      "url_array shape: (25000, 6)\n",
      "label_array shape: (25000,)\n",
      "iteration: 12\n",
      "start_idx: 300000, end_idx: 325000\n",
      "header_array shape: (25000, 7896)\n",
      "url_array shape: (25000, 6)\n",
      "label_array shape: (25000,)\n",
      "iteration: 13\n",
      "start_idx: 325000, end_idx: 350000\n",
      "header_array shape: (25000, 7896)\n",
      "url_array shape: (25000, 6)\n",
      "label_array shape: (25000,)\n",
      "iteration: 14\n",
      "start_idx: 350000, end_idx: 375000\n",
      "header_array shape: (25000, 7896)\n",
      "url_array shape: (25000, 6)\n",
      "label_array shape: (25000,)\n",
      "iteration: 15\n",
      "start_idx: 375000, end_idx: 400000\n",
      "header_array shape: (25000, 7896)\n",
      "url_array shape: (25000, 6)\n",
      "label_array shape: (25000,)\n",
      "iteration: 16\n",
      "start_idx: 400000, end_idx: 425000\n",
      "header_array shape: (25000, 7896)\n",
      "url_array shape: (25000, 6)\n",
      "label_array shape: (25000,)\n",
      "iteration: 17\n",
      "start_idx: 425000, end_idx: 450000\n",
      "header_array shape: (25000, 7896)\n",
      "url_array shape: (25000, 6)\n",
      "label_array shape: (25000,)\n",
      "iteration: 18\n",
      "start_idx: 450000, end_idx: 475000\n",
      "header_array shape: (25000, 7896)\n",
      "url_array shape: (25000, 6)\n",
      "label_array shape: (25000,)\n",
      "iteration: 19\n",
      "start_idx: 475000, end_idx: 500000\n",
      "header_array shape: (25000, 7896)\n",
      "url_array shape: (25000, 6)\n",
      "label_array shape: (25000,)\n",
      "iteration: 20\n",
      "start_idx: 500000, end_idx: 525000\n",
      "header_array shape: (25000, 7896)\n",
      "url_array shape: (25000, 6)\n",
      "label_array shape: (25000,)\n",
      "iteration: 21\n",
      "start_idx: 525000, end_idx: 550000\n",
      "header_array shape: (25000, 7896)\n",
      "url_array shape: (25000, 6)\n",
      "label_array shape: (25000,)\n",
      "iteration: 22\n",
      "start_idx: 550000, end_idx: 575000\n",
      "header_array shape: (25000, 7896)\n",
      "url_array shape: (25000, 6)\n",
      "label_array shape: (25000,)\n",
      "iteration: 23\n",
      "start_idx: 575000, end_idx: 600000\n",
      "header_array shape: (25000, 7896)\n",
      "url_array shape: (25000, 6)\n",
      "label_array shape: (25000,)\n",
      "iteration: 24\n",
      "start_idx: 600000, end_idx: 625000\n",
      "header_array shape: (25000, 7896)\n",
      "url_array shape: (25000, 6)\n",
      "label_array shape: (25000,)\n",
      "iteration: 25\n",
      "start_idx: 625000, end_idx: 650000\n",
      "header_array shape: (25000, 7896)\n",
      "url_array shape: (25000, 6)\n",
      "label_array shape: (25000,)\n",
      "iteration: 26\n",
      "start_idx: 650000, end_idx: 675000\n",
      "header_array shape: (25000, 7896)\n",
      "url_array shape: (25000, 6)\n",
      "label_array shape: (25000,)\n",
      "iteration: 27\n",
      "start_idx: 675000, end_idx: 700000\n",
      "header_array shape: (25000, 7896)\n",
      "url_array shape: (25000, 6)\n",
      "label_array shape: (25000,)\n",
      "iteration: 28\n",
      "start_idx: 700000, end_idx: 725000\n",
      "header_array shape: (25000, 7896)\n",
      "url_array shape: (25000, 6)\n",
      "label_array shape: (25000,)\n",
      "iteration: 29\n",
      "start_idx: 725000, end_idx: 750000\n",
      "header_array shape: (25000, 7896)\n",
      "url_array shape: (25000, 6)\n",
      "label_array shape: (25000,)\n",
      "iteration: 30\n",
      "start_idx: 750000, end_idx: 775000\n",
      "header_array shape: (25000, 7896)\n",
      "url_array shape: (25000, 6)\n",
      "label_array shape: (25000,)\n",
      "iteration: 31\n",
      "start_idx: 775000, end_idx: 800000\n",
      "header_array shape: (25000, 7896)\n",
      "url_array shape: (25000, 6)\n",
      "label_array shape: (25000,)\n",
      "iteration: 32\n",
      "start_idx: 800000, end_idx: 802813\n",
      "header_array shape: (2813, 7896)\n",
      "url_array shape: (2813, 6)\n",
      "label_array shape: (2813,)\n",
      "CPU times: user 57.3 s, sys: 1min 6s, total: 2min 3s\n",
      "Wall time: 3min 15s\n"
     ]
    }
   ],
   "source": [
    "%%time\n",
    "a = parse_chunks(arr, url_rows, labels_parsed, 25000)"
   ],
   "metadata": {
    "collapsed": false
   }
  },
  {
   "cell_type": "code",
   "execution_count": 53,
   "outputs": [
    {
     "name": "stdout",
     "output_type": "stream",
     "text": [
      "CPU times: user 2min 53s, sys: 43.6 s, total: 3min 37s\n",
      "Wall time: 4min 45s\n"
     ]
    }
   ],
   "source": [
    "%%time\n",
    "b = [pa.Table.from_arrays(elem, names=column_names) for elem in a]"
   ],
   "metadata": {
    "collapsed": false
   }
  },
  {
   "cell_type": "code",
   "execution_count": null,
   "outputs": [],
   "source": [
    "%%time\n",
    "final_result = pa.concat_tables(b, promote=True)"
   ],
   "metadata": {
    "collapsed": false,
    "pycharm": {
     "is_executing": true
    }
   }
  },
  {
   "cell_type": "code",
   "execution_count": 49,
   "outputs": [
    {
     "name": "stdout",
     "output_type": "stream",
     "text": [
      "done\n",
      "CPU times: user 36.1 s, sys: 7.68 s, total: 43.8 s\n",
      "Wall time: 51.4 s\n"
     ]
    }
   ],
   "source": [
    "%%time\n",
    "pq.write_table(final_result, \"ndarray_chrome_test.parquet\")\n",
    "print('done')"
   ],
   "metadata": {
    "collapsed": false
   }
  },
  {
   "cell_type": "code",
   "execution_count": 77,
   "outputs": [
    {
     "name": "stdout",
     "output_type": "stream",
     "text": [
      "header_array shape: (100000, 7895)\n",
      "url_array shape: (100000, 5)\n",
      "label_array shape: (100000,)\n",
      "CPU times: user 8.64 s, sys: 10.7 s, total: 19.3 s\n",
      "Wall time: 24.4 s\n"
     ]
    }
   ],
   "source": [
    "%%time\n",
    "# test_part_a = concat_arrays(part_a_header, part_a_url, part_a_label)"
   ],
   "metadata": {
    "collapsed": false
   }
  },
  {
   "cell_type": "code",
   "execution_count": 41,
   "outputs": [
    {
     "name": "stdout",
     "output_type": "stream",
     "text": [
      "CPU times: user 2min 49s, sys: 4.69 s, total: 2min 54s\n",
      "Wall time: 2min 55s\n"
     ]
    }
   ],
   "source": [
    "%%time\n",
    "# part_a = pd.DataFrame(test_part_a, columns=column_names)"
   ],
   "metadata": {
    "collapsed": false
   }
  },
  {
   "cell_type": "code",
   "execution_count": 43,
   "outputs": [],
   "source": [
    "# part_b = part_a.copy(deep=True)"
   ],
   "metadata": {
    "collapsed": false
   }
  },
  {
   "cell_type": "code",
   "execution_count": 48,
   "outputs": [],
   "source": [
    "# part_c = part_a.copy(deep=True)\n",
    "# part_d = part_a.copy(deep=True)\n",
    "# part_e = part_a.copy(deep=True)\n",
    "# part_f = part_a.copy(deep=True)"
   ],
   "metadata": {
    "collapsed": false
   }
  },
  {
   "cell_type": "code",
   "execution_count": 49,
   "outputs": [
    {
     "name": "stdout",
     "output_type": "stream",
     "text": [
      "CPU times: user 27.7 s, sys: 27.2 s, total: 54.9 s\n",
      "Wall time: 1min 18s\n"
     ]
    }
   ],
   "source": [
    "# %%time\n",
    "# combined = pd.concat([part_a, part_b, part_c, part_d, part_e, part_f], axis=0, ignore_index=True)"
   ],
   "metadata": {
    "collapsed": false
   }
  },
  {
   "cell_type": "code",
   "execution_count": 60,
   "outputs": [
    {
     "name": "stdout",
     "output_type": "stream",
     "text": [
      "CPU times: user 9 µs, sys: 0 ns, total: 9 µs\n",
      "Wall time: 11 µs\n"
     ]
    }
   ],
   "source": [
    "%%time\n",
    "arr_t = test_part_a.T"
   ],
   "metadata": {
    "collapsed": false
   }
  },
  {
   "cell_type": "code",
   "execution_count": 61,
   "outputs": [
    {
     "name": "stdout",
     "output_type": "stream",
     "text": [
      "CPU times: user 1min 25s, sys: 10.2 s, total: 1min 35s\n",
      "Wall time: 1min 44s\n"
     ]
    }
   ],
   "source": [
    "%%time\n",
    "arr_t_l = arr_t.tolist()"
   ],
   "metadata": {
    "collapsed": false
   }
  },
  {
   "cell_type": "code",
   "execution_count": 62,
   "outputs": [
    {
     "name": "stdout",
     "output_type": "stream",
     "text": [
      "done\n",
      "CPU times: user 12.5 s, sys: 6.46 s, total: 18.9 s\n",
      "Wall time: 24.4 s\n"
     ]
    }
   ],
   "source": [
    "%%time\n",
    "table_test = pa.table(arr_t_l, names=column_names)\n",
    "print('done')"
   ],
   "metadata": {
    "collapsed": false
   }
  },
  {
   "cell_type": "code",
   "execution_count": 66,
   "outputs": [
    {
     "name": "stdout",
     "output_type": "stream",
     "text": [
      "CPU times: user 1min 16s, sys: 5.44 s, total: 1min 21s\n",
      "Wall time: 1min 24s\n"
     ]
    }
   ],
   "source": [
    "%%time\n",
    "arr_table = pa.Table.from_arrays(arr_t, names=column_names)"
   ],
   "metadata": {
    "collapsed": false
   }
  },
  {
   "cell_type": "code",
   "execution_count": 72,
   "outputs": [
    {
     "name": "stdout",
     "output_type": "stream",
     "text": [
      "CPU times: user 3.44 ms, sys: 1.2 ms, total: 4.64 ms\n",
      "Wall time: 3.12 ms\n"
     ]
    }
   ],
   "source": [
    "%%time\n",
    "concat_table = pa.concat_tables([table_test, arr_table])"
   ],
   "metadata": {
    "collapsed": false
   }
  },
  {
   "cell_type": "code",
   "execution_count": 73,
   "outputs": [
    {
     "name": "stdout",
     "output_type": "stream",
     "text": [
      "done\n",
      "CPU times: user 7 s, sys: 738 ms, total: 7.74 s\n",
      "Wall time: 8.36 s\n"
     ]
    }
   ],
   "source": [
    "%%time\n",
    "pq.write_table(concat_table, \"ndarray_test.parquet\")\n",
    "print('done')"
   ],
   "metadata": {
    "collapsed": false
   }
  },
  {
   "cell_type": "code",
   "execution_count": 82,
   "outputs": [],
   "source": [
    "cols = concat_table.column_names"
   ],
   "metadata": {
    "collapsed": false
   }
  },
  {
   "cell_type": "code",
   "execution_count": 20,
   "outputs": [
    {
     "data": {
      "text/plain": "2520"
     },
     "execution_count": 20,
     "metadata": {},
     "output_type": "execute_result"
    }
   ],
   "source": [
    "column_names.index('hostname')"
   ],
   "metadata": {
    "collapsed": false
   }
  },
  {
   "cell_type": "code",
   "execution_count": 20,
   "outputs": [
    {
     "data": {
      "text/plain": "'hostname'"
     },
     "execution_count": 20,
     "metadata": {},
     "output_type": "execute_result"
    }
   ],
   "source": [
    "column_names.pop(2352)"
   ],
   "metadata": {
    "collapsed": false
   }
  },
  {
   "cell_type": "code",
   "execution_count": 52,
   "outputs": [
    {
     "data": {
      "text/plain": "['x-amz-id-1', 'x-gd-trace-id', 's-rt']"
     },
     "execution_count": 52,
     "metadata": {},
     "output_type": "execute_result"
    }
   ],
   "source": [
    "column_names[601:604]"
   ],
   "metadata": {
    "collapsed": false
   }
  },
  {
   "cell_type": "code",
   "execution_count": 22,
   "outputs": [],
   "source": [
    "def remove_value_at_index(\n",
    "        arr: np.ndarray, header_name: str, column_names: List[str]\n",
    ") -> np.ndarray:\n",
    "    index = column_names.index(header_name)\n",
    "    result_array = np.hstack((arr[:, :index], arr[:, index+1:]))\n",
    "    return result_array"
   ],
   "metadata": {
    "collapsed": false
   }
  },
  {
   "cell_type": "code",
   "execution_count": 28,
   "outputs": [
    {
     "name": "stdout",
     "output_type": "stream",
     "text": [
      "CPU times: user 2.18 s, sys: 2.06 s, total: 4.23 s\n",
      "Wall time: 4.69 s\n"
     ]
    }
   ],
   "source": [
    "%%time\n",
    "arr = remove_value_at_index(arr, 'hostname', column_names)"
   ],
   "metadata": {
    "collapsed": false
   }
  },
  {
   "cell_type": "code",
   "execution_count": null,
   "outputs": [],
   "source": [
    "# %%time\n",
    "# print(np.concatenate((url_rows, arr), axis=1))"
   ],
   "metadata": {
    "collapsed": false,
    "pycharm": {
     "is_executing": true
    }
   }
  },
  {
   "cell_type": "markdown",
   "source": [
    "# END OF PARSE RAW DATA TESTS"
   ],
   "metadata": {
    "collapsed": false
   }
  },
  {
   "cell_type": "code",
   "execution_count": 51,
   "outputs": [],
   "source": [
    "def test_new_categories_update(\n",
    "    element: str, dataset: pd.DataFrame\n",
    ") -> Optional[Dict[str, str]]:\n",
    "    \"\"\"\n",
    "    Test if the given column of the dataset can be converted to the Int64 data type. If so, return a dictionary\n",
    "    with the column name as the key and 'Int64' as the value. Otherwise, return None.\n",
    "\n",
    "    Parameters\n",
    "    ----------\n",
    "    element : str\n",
    "        The column name to be tested.\n",
    "    dataset : pd.DataFrame\n",
    "        The DataFrame containing the column.\n",
    "\n",
    "    Returns\n",
    "    -------\n",
    "    Optional[Dict[str, str]]\n",
    "        A dictionary with the column name and 'Int64' if the column can be converted to the Int64 data type,\n",
    "        None otherwise.\n",
    "    \"\"\"\n",
    "    categories = dataset[element].astype(\"category\").cat.categories.values.tolist()\n",
    "    try:\n",
    "        np.array(categories, dtype=\"int64\")\n",
    "        return {element: \"Int64\"}\n",
    "    except (ValueError, OverflowError):\n",
    "        return None\n",
    "\n",
    "\n",
    "def create_categories_list(dataset: pd.DataFrame) -> Dict[str, Union[str, None]]:\n",
    "    \"\"\"\n",
    "    Create a dictionary of column names and their corresponding data types for the given dataset. The data types\n",
    "    are determined based on the column values. If a column can be converted to Int64, its data type is set to\n",
    "    'Int64', otherwise it is set to 'category'.\n",
    "\n",
    "    Parameters\n",
    "    ----------\n",
    "    dataset : pd.DataFrame\n",
    "        The input DataFrame for which to create the dictionary of column names and data types.\n",
    "\n",
    "    Returns\n",
    "    -------\n",
    "    Dict[str, Union[str, None]]\n",
    "        A dictionary of column names and their corresponding data types.\n",
    "    \"\"\"\n",
    "    dtype_list = {i: \"category\" for i in dataset.columns.values[:-1]}\n",
    "    current_columns = dataset.columns.values[:-1].tolist()\n",
    "    int64_columns = [\n",
    "        test_new_categories_update(element, dataset) for element in current_columns\n",
    "    ]\n",
    "\n",
    "    int64_columns = list(filter(lambda x: type(x) is dict, int64_columns))\n",
    "    int64_columns = {k: v for d in int64_columns for k, v in d.items()}\n",
    "\n",
    "    dtype_list.update(int64_columns)\n",
    "    return dtype_list"
   ],
   "metadata": {
    "collapsed": false
   }
  },
  {
   "cell_type": "code",
   "execution_count": 12,
   "outputs": [],
   "source": [
    "def generate_large_dataframe(\n",
    "    num_rows: int,\n",
    "    num_columns: int,\n",
    "    num_int_columns: int,\n",
    "    max_cardinality: int,\n",
    "    max_length: int,\n",
    ") -> pd.DataFrame:\n",
    "    \"\"\"\n",
    "    Generate a large DataFrame with a given number of rows, columns, integer columns, and varying\n",
    "    cardinalities for categorical columns.\n",
    "\n",
    "    Parameters\n",
    "    ----------\n",
    "    num_rows : int\n",
    "        The number of rows in the DataFrame.\n",
    "    num_columns : int\n",
    "        The number of columns in the DataFrame.\n",
    "    num_int_columns : int\n",
    "        The number of integer columns in the DataFrame.\n",
    "    max_cardinality : int\n",
    "        The maximum cardinality for categorical columns.\n",
    "    max_length : int\n",
    "        The maximum length for categorical values.\n",
    "\n",
    "    Returns\n",
    "    -------\n",
    "    pd.DataFrame\n",
    "        A generated DataFrame with the specified number of rows, columns, and varying cardinalities.\n",
    "    \"\"\"\n",
    "\n",
    "    def generate_categorical_values(cardinality: int, max_length: int) -> List[str]:\n",
    "        return [\n",
    "            \"\".join(\n",
    "                random.choices(string.ascii_letters, k=random.randint(1, max_length))\n",
    "            )\n",
    "            for _ in range(cardinality)\n",
    "        ]\n",
    "\n",
    "    categorical_columns = num_columns - num_int_columns\n",
    "    categorical_data = {\n",
    "        f\"col_{i}\": np.random.choice(\n",
    "            generate_categorical_values(random.randint(1, max_cardinality), max_length),\n",
    "            size=num_rows,\n",
    "        )\n",
    "        for i in range(1, categorical_columns + 1)\n",
    "    }\n",
    "    int_data = {\n",
    "        f\"int_col_{i}\": np.random.randint(0, 100, size=num_rows)\n",
    "        for i in range(1, num_int_columns + 1)\n",
    "    }\n",
    "\n",
    "    data = {\n",
    "        \"query\": np.random.choice(list(\"1234\"), size=num_rows),\n",
    "        \"protocol\": np.random.choice(list(\"5678\"), size=num_rows),\n",
    "    }\n",
    "\n",
    "    data.update(categorical_data)\n",
    "    data.update(int_data)\n",
    "\n",
    "    return pd.DataFrame(data)"
   ],
   "metadata": {
    "collapsed": false
   }
  },
  {
   "cell_type": "code",
   "execution_count": 19,
   "outputs": [],
   "source": [
    "data = pd.read_parquet(\n",
    "    \"../../data/processed/chrome/08_12_2022/train_set_01.parquet.gzip\",\n",
    "    engine=\"pyarrow\",\n",
    "    dtype_backend=\"pyarrow\",\n",
    ")"
   ],
   "metadata": {
    "collapsed": false
   }
  },
  {
   "cell_type": "code",
   "execution_count": 11,
   "outputs": [
    {
     "name": "stdout",
     "output_type": "stream",
     "text": [
      "<class 'pandas.core.frame.DataFrame'>\n",
      "Index: 272004 entries, 256683 to 157680\n",
      "Columns: 5316 entries, hostname to tracker\n",
      "dtypes: int32[pyarrow](1), list<item: list<item: string>>[pyarrow](1), null[pyarrow](200), string[pyarrow](5114)\n",
      "memory usage: 5.5 GB\n"
     ]
    }
   ],
   "source": [
    "data.info(memory_usage=\"deep\")"
   ],
   "metadata": {
    "collapsed": false
   }
  },
  {
   "cell_type": "code",
   "execution_count": 25,
   "outputs": [],
   "source": [
    "empty_columns = [col for col in data if data[col].isnull().all() == True]"
   ],
   "metadata": {
    "collapsed": false
   }
  },
  {
   "cell_type": "code",
   "execution_count": 26,
   "outputs": [],
   "source": [
    "data.drop(empty_columns, axis=1, inplace=True)"
   ],
   "metadata": {
    "collapsed": false
   }
  },
  {
   "cell_type": "code",
   "execution_count": 27,
   "outputs": [],
   "source": [
    "data_column_values = data.columns.values[6:-1].tolist()"
   ],
   "metadata": {
    "collapsed": false
   }
  },
  {
   "cell_type": "code",
   "execution_count": 28,
   "outputs": [],
   "source": [
    "def new_fuzzy_string_matching_for_column(\n",
    "    col_name: str, col_values: List[str]\n",
    ") -> pd.DataFrame:\n",
    "    \"\"\"\n",
    "    Find fuzzy matches for a given column name with a list of column values.\n",
    "\n",
    "    Parameters\n",
    "    ----------\n",
    "    col_name : str\n",
    "        The column name for which fuzzy matches should be found.\n",
    "    col_values : List[str]\n",
    "        A list of column values to compare with the given column name.\n",
    "\n",
    "    Returns\n",
    "    -------\n",
    "    pd.DataFrame\n",
    "        A DataFrame containing the fuzzy matches, their respective scores,\n",
    "        and the original column name.\n",
    "    \"\"\"\n",
    "    fuzzy_result = pd.DataFrame(\n",
    "        process.extract(\n",
    "            col_name, col_values, processor=None, score_cutoff=80, limit=100\n",
    "        ),\n",
    "        columns=[\"fuzzy_match\", \"w_ratio\", \"index\"],\n",
    "    )\n",
    "    fuzzy_result[\"col_name\"] = col_name\n",
    "    return fuzzy_result\n",
    "\n",
    "\n",
    "def find_cols_with_similar_values(\n",
    "    fuzzy_match: str, column: str, dataset: pd.DataFrame\n",
    ") -> Optional[Tuple[str, str]]:\n",
    "    \"\"\"\n",
    "    Compare two columns and return their names if more than 50% of their values are similar.\n",
    "\n",
    "    Parameters\n",
    "    ----------\n",
    "    fuzzy_match : str\n",
    "        The name of the first column.\n",
    "    column : str\n",
    "        The name of the second column.\n",
    "\n",
    "    Returns\n",
    "    -------\n",
    "    Optional[Tuple[str, str]]\n",
    "        A tuple containing the column names if more than 50% of their values are similar, otherwise None.\n",
    "    \"\"\"\n",
    "    value_fuzzy = set(dataset[fuzzy_match].dropna().values)\n",
    "    value_column = set(dataset[column].dropna().values)\n",
    "\n",
    "    common_values = len(value_fuzzy.intersection(value_column))\n",
    "    len_value_fuzzy = len(value_fuzzy)\n",
    "\n",
    "    if common_values / len_value_fuzzy > 0.5:\n",
    "        return fuzzy_match, column\n",
    "    else:\n",
    "        return None\n",
    "\n",
    "\n",
    "def select_similar_columns(\n",
    "    fuzzy_match: str, column: str, match_df: pd.DataFrame\n",
    ") -> pd.DataFrame:\n",
    "    \"\"\"\n",
    "    Select a row from the `match_df` DataFrame based on the provided column names and remove it from the DataFrame.\n",
    "\n",
    "    Parameters\n",
    "    ----------\n",
    "    fuzzy_match : str\n",
    "        The name of the first column.\n",
    "    column : str\n",
    "        The name of the second column.\n",
    "\n",
    "    Returns\n",
    "    -------\n",
    "    pd.DataFrame\n",
    "        A DataFrame containing the selected row.\n",
    "    \"\"\"\n",
    "    row = match_df.loc[\n",
    "        (match_df[\"fuzzy_match\"] == fuzzy_match) & (match_df[\"col_name\"] == column)\n",
    "    ]\n",
    "    match_df.drop(row.index[0], inplace=True)\n",
    "    return row\n",
    "\n",
    "\n",
    "def merge_similar_columns(fuzzy_match: str, col_name: str, df: pd.DataFrame) -> None:\n",
    "    \"\"\"\n",
    "    Merge the values of two columns in the given DataFrame by replacing null values in the second column\n",
    "    with the corresponding values from the first column.\n",
    "\n",
    "    Parameters\n",
    "    ----------\n",
    "    fuzzy_match : str\n",
    "        The name of the first column.\n",
    "    col_name : str\n",
    "        The name of the second column.\n",
    "    df : pd.DataFrame\n",
    "        The DataFrame to process.\n",
    "\n",
    "    Returns\n",
    "    -------\n",
    "    None\n",
    "    \"\"\"\n",
    "    boolean_mask = df[fuzzy_match].notnull()\n",
    "    new_values = df.loc[boolean_mask, fuzzy_match].to_numpy()\n",
    "    indices_fuzzy_matches = boolean_mask[boolean_mask].index.tolist()\n",
    "\n",
    "    current_values = df[col_name].to_numpy()\n",
    "    np.put(current_values, indices_fuzzy_matches, new_values)\n",
    "    df[col_name] = current_values"
   ],
   "metadata": {
    "collapsed": false
   }
  },
  {
   "cell_type": "code",
   "execution_count": 29,
   "outputs": [
    {
     "name": "stdout",
     "output_type": "stream",
     "text": [
      "CPU times: user 19.9 s, sys: 164 ms, total: 20 s\n",
      "Wall time: 20.1 s\n"
     ]
    }
   ],
   "source": [
    "%%time\n",
    "match = [\n",
    "    new_fuzzy_string_matching_for_column(j, data_column_values[i + 1 :])\n",
    "    for i, j in enumerate(data_column_values)\n",
    "    if i != len(data_column_values) - 1\n",
    "]"
   ],
   "metadata": {
    "collapsed": false
   }
  },
  {
   "cell_type": "code",
   "execution_count": 30,
   "outputs": [],
   "source": [
    "match2 = pd.concat(match, ignore_index=True)"
   ],
   "metadata": {
    "collapsed": false
   }
  },
  {
   "cell_type": "code",
   "execution_count": 31,
   "outputs": [
    {
     "data": {
      "text/plain": "                     fuzzy_match    w_ratio index                 col_name\n0                        pragrma  92.307692  3532                   pragma\n1      x-akamai-pragma-client-ip  90.000000   390                   pragma\n2               pragma-directive  90.000000  2534                   pragma\n3                         pramga  83.333333  1041                   pragma\n4                 x-content-type  92.307692   722             content-type\n...                          ...        ...   ...                      ...\n25933                    x-width  90.000000     8                      wid\n25934    nrk-application-version  90.000000     0          nrk-application\n25935                 xc-version  80.000000    12  nrk-application-version\n25936                  x-adstyle  82.352941     2                 x-adtype\n25937             x-pbs-appsvrip  80.000000     0         x-pbs-appsvrname\n\n[25938 rows x 4 columns]",
      "text/html": "<div>\n<style scoped>\n    .dataframe tbody tr th:only-of-type {\n        vertical-align: middle;\n    }\n\n    .dataframe tbody tr th {\n        vertical-align: top;\n    }\n\n    .dataframe thead th {\n        text-align: right;\n    }\n</style>\n<table border=\"1\" class=\"dataframe\">\n  <thead>\n    <tr style=\"text-align: right;\">\n      <th></th>\n      <th>fuzzy_match</th>\n      <th>w_ratio</th>\n      <th>index</th>\n      <th>col_name</th>\n    </tr>\n  </thead>\n  <tbody>\n    <tr>\n      <th>0</th>\n      <td>pragrma</td>\n      <td>92.307692</td>\n      <td>3532</td>\n      <td>pragma</td>\n    </tr>\n    <tr>\n      <th>1</th>\n      <td>x-akamai-pragma-client-ip</td>\n      <td>90.000000</td>\n      <td>390</td>\n      <td>pragma</td>\n    </tr>\n    <tr>\n      <th>2</th>\n      <td>pragma-directive</td>\n      <td>90.000000</td>\n      <td>2534</td>\n      <td>pragma</td>\n    </tr>\n    <tr>\n      <th>3</th>\n      <td>pramga</td>\n      <td>83.333333</td>\n      <td>1041</td>\n      <td>pragma</td>\n    </tr>\n    <tr>\n      <th>4</th>\n      <td>x-content-type</td>\n      <td>92.307692</td>\n      <td>722</td>\n      <td>content-type</td>\n    </tr>\n    <tr>\n      <th>...</th>\n      <td>...</td>\n      <td>...</td>\n      <td>...</td>\n      <td>...</td>\n    </tr>\n    <tr>\n      <th>25933</th>\n      <td>x-width</td>\n      <td>90.000000</td>\n      <td>8</td>\n      <td>wid</td>\n    </tr>\n    <tr>\n      <th>25934</th>\n      <td>nrk-application-version</td>\n      <td>90.000000</td>\n      <td>0</td>\n      <td>nrk-application</td>\n    </tr>\n    <tr>\n      <th>25935</th>\n      <td>xc-version</td>\n      <td>80.000000</td>\n      <td>12</td>\n      <td>nrk-application-version</td>\n    </tr>\n    <tr>\n      <th>25936</th>\n      <td>x-adstyle</td>\n      <td>82.352941</td>\n      <td>2</td>\n      <td>x-adtype</td>\n    </tr>\n    <tr>\n      <th>25937</th>\n      <td>x-pbs-appsvrip</td>\n      <td>80.000000</td>\n      <td>0</td>\n      <td>x-pbs-appsvrname</td>\n    </tr>\n  </tbody>\n</table>\n<p>25938 rows × 4 columns</p>\n</div>"
     },
     "execution_count": 31,
     "metadata": {},
     "output_type": "execute_result"
    }
   ],
   "source": [
    "match2"
   ],
   "metadata": {
    "collapsed": false
   }
  },
  {
   "cell_type": "code",
   "execution_count": 32,
   "outputs": [
    {
     "name": "stdout",
     "output_type": "stream",
     "text": [
      "CPU times: user 1min 50s, sys: 945 ms, total: 1min 51s\n",
      "Wall time: 1min 51s\n"
     ]
    }
   ],
   "source": [
    "%%time\n",
    "result = [\n",
    "    find_cols_with_similar_values(col, col2, data)\n",
    "    for col, col2 in zip(match2[\"fuzzy_match\"], match2[\"col_name\"])\n",
    "]"
   ],
   "metadata": {
    "collapsed": false
   }
  },
  {
   "cell_type": "code",
   "execution_count": 26,
   "outputs": [
    {
     "data": {
      "text/plain": "[('pragrma', 'pragma'),\n None,\n ('pragma-directive', 'pragma'),\n ('pramga', 'pragma'),\n None,\n ('content_type', 'content-type'),\n ('contetn-type', 'content-type'),\n None,\n None,\n None,\n ('x-tb-optimization-original-content-type', 'content-type'),\n None,\n ('x-hs-alternate-content-type', 'content-type'),\n ('x-upyun-content-type', 'content-type'),\n ('x-amz-meta-content-type', 'content-type'),\n ('x-tb-oa-originalcontenttype', 'content-type'),\n None,\n ('content-style-type', 'content-type'),\n None,\n ('x-nyt-data-last-modified', 'last-modified'),\n None,\n None,\n None,\n None,\n None,\n None,\n None,\n None,\n None,\n None,\n ('x-accept-ranges', 'accept-ranges'),\n None,\n ('x-amz-meta-accept-ranges', 'accept-ranges'),\n None,\n None,\n None,\n None,\n None,\n None,\n ('x-xss-protections', 'x-xss-protection'),\n None,\n None,\n ('x-content-type-option', 'x-content-type-options'),\n None,\n None,\n None,\n ('x-content-options', 'x-content-type-options'),\n ('x-control-type-options', 'x-content-type-options'),\n None,\n None,\n None,\n None,\n None,\n None,\n None,\n None,\n None,\n None,\n ('x-amz-meta-vary', 'vary'),\n ('nginx-vary', 'vary'),\n None,\n None,\n ('stored-vary-value', 'vary'),\n None,\n ('x-goog-stored-content-encoding', 'content-encoding'),\n ('x-consumed-content-encoding', 'content-encoding'),\n ('encoding', 'content-encoding'),\n ('x-encoded-content-encoding', 'content-encoding'),\n ('x-eps-content-encoding', 'content-encoding'),\n ('cache-conrol', 'cache-control'),\n ('x-cache-control', 'cache-control'),\n ('cache_control', 'cache-control'),\n ('cache-ctrol', 'cache-control'),\n ('origin-cache-control', 'cache-control'),\n None,\n ('x-amz-meta-cache-control', 'cache-control'),\n ('x-cambria-cache-control', 'cache-control'),\n None,\n None,\n None,\n ('x-accel-cache-control', 'cache-control'),\n None,\n ('x-akamai-user-cache-control', 'cache-control'),\n ('x-litespeed-cache-control', 'cache-control'),\n ('backend-cache-control', 'cache-control'),\n ('x-varnish-cache-control', 'cache-control'),\n None,\n ('cachefly-control', 'cache-control'),\n ('cdn-cache-control', 'cache-control'),\n None,\n ('user-cache-control', 'cache-control'),\n ('x-kw-cache-control', 'cache-control'),\n ('x-hs-cache-control', 'cache-control'),\n None,\n ('expire', 'expires'),\n None,\n None,\n None,\n None,\n None,\n None,\n None,\n ('x-kw-expires', 'expires'),\n None,\n None,\n None,\n None,\n None,\n None,\n None,\n None,\n None,\n None,\n None,\n None,\n None,\n None,\n None,\n None,\n None,\n None,\n None,\n None,\n ('x-kw-date', 'date'),\n ('x-amzn-remapped-date', 'date'),\n None,\n ('x-render-date', 'date'),\n None,\n None,\n None,\n None,\n None,\n None,\n None,\n None,\n None,\n None,\n None,\n None,\n None,\n None,\n ('x-goog-stored-content-length', 'content-length'),\n ('x-original-content-length', 'content-length'),\n ('original-content-length', 'content-length'),\n ('x-xiaomi-meta-content-length', 'content-length'),\n ('x-amzn-remapped-content-length', 'content-length'),\n None,\n ('x-upyun-content-length', 'content-length'),\n ('x-amz-meta-content-length', 'content-length'),\n None,\n None,\n ('cteonnt-length', 'content-length'),\n ('ntcoent-length', 'content-length'),\n ('x-length', 'content-length'),\n ('x-jss-content-length', 'content-length'),\n ('x-raw-content-length', 'content-length'),\n None,\n None,\n None,\n None,\n ('x-amzn-remapped-connection', 'connection'),\n None,\n None,\n None,\n None,\n None,\n None,\n None,\n ('cneonction', 'connection'),\n ('x-cnection', 'connection'),\n ('nncoection', 'connection'),\n ('x-xiaomi-server-side-encryption', 'x-amz-server-side-encryption'),\n None,\n None,\n ('x-oss-server-side-encryption', 'x-amz-server-side-encryption'),\n None,\n None,\n None,\n None,\n None,\n None,\n None,\n None,\n None,\n None,\n None,\n None,\n None,\n None,\n None,\n None,\n None,\n None,\n None,\n None,\n None,\n None,\n None,\n ('servershortname', 'server'),\n None,\n None,\n None,\n None,\n None,\n None,\n None,\n None,\n None,\n None,\n None,\n None,\n None,\n None,\n None,\n None,\n None,\n None,\n None,\n None,\n None,\n None,\n None,\n None,\n None,\n None,\n None,\n None,\n None,\n None,\n None,\n None,\n None,\n None,\n None,\n None,\n None,\n None,\n None,\n None,\n None,\n None,\n None,\n None,\n None,\n None,\n None,\n None,\n None,\n None,\n None,\n None,\n None,\n None,\n None,\n None,\n None,\n None,\n None,\n None,\n None,\n None,\n None,\n None,\n None,\n None,\n None,\n None,\n None,\n None,\n None,\n None,\n None,\n None,\n None,\n None,\n None,\n None,\n None,\n None,\n None,\n None,\n None,\n None,\n None,\n None,\n None,\n None,\n None,\n None,\n ('x-amzn-remapped-server', 'server'),\n None,\n None,\n None,\n None,\n None,\n None,\n ('x-ncache', 'x-cache'),\n ('x-vcache', 'x-cache'),\n ('x-mcache', 'x-cache'),\n ('x-ecache', 'x-cache'),\n ('vx-cache', 'x-cache'),\n None,\n None,\n None,\n ('x-nginx-cache-status', 'x-cache'),\n None,\n None,\n None,\n None,\n None,\n None,\n None,\n None,\n None,\n None,\n None,\n None,\n None,\n ('varnish-x-cache', 'x-cache'),\n None,\n None,\n None,\n None,\n None,\n ('x-cache-new', 'x-cache'),\n None,\n None,\n None,\n ('x-cache-fs-status', 'x-cache'),\n None,\n None,\n None,\n None,\n None,\n None,\n None,\n ('x-cache-cold', 'x-cache'),\n ('x-cache-hot', 'x-cache'),\n None,\n None,\n ('x-ngenix-cache', 'x-cache'),\n None,\n None,\n None,\n None,\n None,\n None,\n ('x-cache-status-secondary', 'x-cache'),\n ('x-cache_status', 'x-cache'),\n None,\n None,\n None,\n None,\n None,\n None,\n None,\n None,\n None,\n None,\n ('x-cache-srcache', 'x-cache'),\n None,\n None,\n None,\n ('x-cache-blog', 'x-cache'),\n None,\n None,\n ('x-cache-cookie', 'x-cache'),\n None,\n None,\n None,\n ('x-cache-result', 'x-cache'),\n None,\n ('x-cache-combo', 'x-cache'),\n None,\n None,\n None,\n None,\n None,\n None,\n ('x-ngx-cache', 'x-cache'),\n ('x-cache-cms-status', 'x-cache'),\n None,\n ('x-cache-2', 'x-cache'),\n None,\n ('x-f-cache', 'x-cache'),\n ('x-rpcache', 'x-cache'),\n None,\n ('r-cache', 'x-cache'),\n ('x-cahce', 'x-cache'),\n None,\n ('j-cache', 'x-cache'),\n ('cache', 'x-cache'),\n ('x-origin-cache', 'x-cache'),\n None,\n None,\n None,\n None,\n None,\n None,\n None,\n None,\n None,\n None,\n None,\n None,\n None,\n None,\n None,\n None,\n None,\n None,\n None,\n None,\n None,\n None,\n None,\n None,\n None,\n ('x-goog-metageneration', 'age'),\n None,\n None,\n None,\n None,\n None,\n None,\n None,\n None,\n None,\n None,\n None,\n None,\n None,\n None,\n None,\n None,\n None,\n None,\n None,\n None,\n None,\n ('cdn-edgestorageid', 'age'),\n None,\n None,\n None,\n None,\n None,\n None,\n None,\n None,\n None,\n None,\n ('max-age', 'age'),\n None,\n ('x-amz-meta-age', 'age'),\n None,\n ('bdpagetype', 'age'),\n None,\n None,\n None,\n None,\n ('x-goog-meta-imageheight', 'age'),\n ('x-goog-meta-imagewidth', 'age'),\n None,\n None,\n None,\n ('x-cachiness-edge-age', 'age'),\n None,\n ('s-maxage', 'age'),\n None,\n None,\n ('x-wp-totalpages', 'age'),\n None,\n None,\n None,\n ('x-page', 'age'),\n ('x-per-page', 'age'),\n None,\n None,\n None,\n ('pageid', 'age'),\n None,\n None,\n None,\n None,\n ('sage-no-cache', 'age'),\n ('imagewidth', 'age'),\n ('imageheight', 'age'),\n None,\n None,\n None,\n None,\n None,\n None,\n None,\n None,\n None,\n None,\n None,\n None,\n None,\n None,\n ('x-image-server-cpu-real', 'age'),\n None,\n None,\n ('x-varnish-age', 'age'),\n ('per-page', 'age'),\n None,\n None,\n None,\n None,\n ('edge-cache-age', 'age'),\n None,\n None,\n ('hb-age', 'age'),\n ('image-size', 'age'),\n None,\n None,\n ('x-lfm-cacheable-page', 'age'),\n None,\n None,\n None,\n None,\n None,\n None,\n None,\n None,\n None,\n None,\n None,\n None,\n None,\n None,\n None,\n ('x-consumed-content-encoding', 'x-goog-stored-content-encoding'),\n None,\n ('x-goog-meta-content-length', 'x-goog-stored-content-length'),\n None,\n None,\n None,\n None,\n None,\n None,\n None,\n None,\n None,\n None,\n None,\n ('x-tos-storage-class', 'x-goog-storage-class'),\n None,\n ('x-nos-storage-class', 'x-goog-storage-class'),\n None,\n None,\n None,\n None,\n ('cfp-cache-status', 'cf-cache-status'),\n ('ki-cf-cache-status', 'cf-cache-status'),\n None,\n ('fss-cache-status', 'cf-cache-status'),\n None,\n None,\n ('cache', 'cf-cache-status'),\n None,\n None,\n ('xm-cache-status', 'cf-cache-status'),\n ('zy-cache-status', 'cf-cache-status'),\n None,\n None,\n ('ng-cache-status', 'cf-cache-status'),\n ('bl-cache-status', 'cf-cache-status'),\n None,\n ('x-hs-cf-cache-status', 'cf-cache-status'),\n ('x-cdn-cache-status', 'cf-cache-status'),\n ('x-ftr-cache-status', 'cf-cache-status'),\n None,\n ('x-status', 'cf-cache-status'),\n ('app-cache-status', 'cf-cache-status'),\n ('ddg-cache-status', 'cf-cache-status'),\n ('wpe-cache-status', 'cf-cache-status'),\n ('x-bbc-edge-cache-status', 'cf-cache-status'),\n None,\n None,\n ('x-consent-setting-cache-status', 'cf-cache-status'),\n None,\n None,\n ('x-cache_status', 'cf-cache-status'),\n ('x-hs-cache-status', 'cf-cache-status'),\n ('x-cache-fs-status', 'cf-cache-status'),\n ('x-gg-cache-status', 'cf-cache-status'),\n ('x-lb-cache-status', 'cf-cache-status'),\n ('x-cache-status-secondary', 'cf-cache-status'),\n None,\n None,\n ('yjs-cachestatus', 'cf-cache-status'),\n None,\n None,\n None,\n None,\n None,\n None,\n None,\n None,\n None,\n None,\n None,\n None,\n None,\n None,\n None,\n None,\n None,\n None,\n None,\n None,\n None,\n None,\n None,\n None,\n None,\n ('access-control-allow-credentiails', 'access-control-allow-credentials'),\n ('access-control-allow--credentials', 'access-control-allow-credentials'),\n None,\n None,\n ('x-debug-access-control-allow-credentials',\n  'access-control-allow-credentials'),\n None,\n None,\n None,\n None,\n None,\n None,\n None,\n None,\n ('x-debug-access-control-allow-origin', 'access-control-allow-origin'),\n None,\n ('amp-access-control-allow-source-origin', 'access-control-allow-origin'),\n None,\n None,\n None,\n None,\n None,\n None,\n None,\n None,\n None,\n None,\n ('cookie', 'set-cookie'),\n None,\n None,\n None,\n None,\n None,\n None,\n None,\n None,\n None,\n None,\n ('x-content-type-option', 'x-content-options'),\n None,\n None,\n ('x-content-security-policy-report-only',\n  'content-security-policy-report-only'),\n None,\n None,\n None,\n None,\n None,\n None,\n None,\n None,\n None,\n None,\n None,\n None,\n None,\n None,\n None,\n None,\n None,\n None,\n None,\n None,\n None,\n None,\n None,\n None,\n None,\n None,\n None,\n None,\n None,\n None,\n None,\n None,\n ('access-control-allow-credentiails', 'access-control-allow-headers'),\n ('access-control-allow--credentials', 'access-control-allow-headers'),\n None,\n ('allowedheaders', 'access-control-allow-headers'),\n None,\n ('max-age', 'access-control-max-age'),\n None,\n None,\n ('access-control-allow-max-age', 'access-control-max-age'),\n ('x-page', 'access-control-max-age'),\n None,\n None,\n None,\n None,\n None,\n None,\n None,\n None,\n None,\n None,\n None,\n None,\n None,\n None,\n None,\n None,\n None,\n None,\n None,\n None,\n None,\n None,\n None,\n None,\n None,\n ('cross-origin-response-policy', 'cross-origin-resource-policy'),\n None,\n None,\n None,\n None,\n ('md5', 'content-md5'),\n None,\n None,\n None,\n None,\n None,\n None,\n None,\n None,\n None,\n None,\n None,\n None,\n None,\n None,\n None,\n None,\n None,\n None,\n None,\n None,\n None,\n None,\n None,\n None,\n None,\n None,\n None,\n None,\n None,\n None,\n None,\n None,\n None,\n None,\n None,\n None,\n None,\n None,\n None,\n None,\n None,\n None,\n None,\n None,\n None,\n None,\n None,\n None,\n None,\n None,\n None,\n None,\n None,\n None,\n None,\n None,\n None,\n None,\n None,\n None,\n None,\n None,\n None,\n None,\n None,\n None,\n None,\n None,\n None,\n None,\n None,\n None,\n None,\n None,\n None,\n None,\n None,\n None,\n None,\n None,\n None,\n None,\n None,\n None,\n None,\n None,\n None,\n None,\n None,\n None,\n None,\n None,\n None,\n None,\n None,\n None,\n None,\n None,\n None,\n None,\n None,\n None,\n None,\n None,\n None,\n None,\n None,\n None,\n None,\n None,\n None,\n None,\n None,\n None,\n None,\n None,\n None,\n None,\n None,\n None,\n None,\n None,\n ('x-content-security-policy', 'content-security-policy'),\n None,\n None,\n None,\n None,\n None,\n ('cross-origin-response-policy', 'cross-origin-opener-policy'),\n None,\n ('frame-options', 'x-frame-options'),\n None,\n None,\n None,\n None,\n None,\n None,\n None,\n ('timing-allowed-origin', 'timing-allow-origin'),\n None,\n None,\n ('x-goog-meta-timing-allow-origin', 'timing-allow-origin'),\n None,\n None,\n None,\n None,\n None,\n None,\n None,\n None,\n None,\n None,\n None,\n None,\n None,\n None,\n None,\n None,\n ('x-ba-request-id', 'x-amz-request-id'),\n None,\n None,\n None,\n None,\n None,\n None,\n None,\n None,\n None,\n None,\n None,\n None,\n None,\n None,\n None,\n None,\n None,\n None,\n None,\n None,\n None,\n None,\n None,\n None,\n None,\n None,\n None,\n None,\n None,\n None,\n None,\n None,\n None,\n None,\n None,\n None,\n None,\n None,\n None,\n None,\n None,\n None,\n None,\n None,\n None,\n None,\n ('x-scs-request-id', 'x-amz-request-id'),\n None,\n None,\n None,\n None,\n ('x-clv-request-id', 'x-amz-request-id'),\n None,\n None,\n None,\n None,\n None,\n None,\n None,\n None,\n None,\n None,\n None,\n None,\n None,\n None,\n None,\n None,\n None,\n None,\n None,\n None,\n None,\n ('access-control-allow-method', 'access-control-allow-methods'),\n ('allow', 'access-control-allow-methods'),\n None,\n ('allow-control-allow-methods', 'access-control-allow-methods'),\n ('access-control-allow-option', 'access-control-allow-methods'),\n None,\n None,\n ('allowedmethods', 'access-control-allow-methods'),\n None,\n None,\n None,\n None,\n None,\n None,\n None,\n None,\n None,\n None,\n None,\n None,\n None,\n None,\n None,\n None,\n None,\n None,\n ('x-origin-cache-status', 'x-origin-cache'),\n ('cache', 'x-origin-cache'),\n None,\n None,\n None,\n None,\n None,\n None,\n ('ng-cache', 'x-origin-cache'),\n None,\n ...]"
     },
     "execution_count": 26,
     "metadata": {},
     "output_type": "execute_result"
    }
   ],
   "source": [
    "result"
   ],
   "metadata": {
    "collapsed": false
   }
  },
  {
   "cell_type": "code",
   "execution_count": 33,
   "outputs": [],
   "source": [
    "data.reset_index(drop=True, inplace=True)"
   ],
   "metadata": {
    "collapsed": false
   }
  },
  {
   "cell_type": "code",
   "execution_count": 34,
   "outputs": [],
   "source": [
    "similar_values = [\n",
    "    select_similar_columns(col[0], col[1], match2) for col in result if col is not None\n",
    "]"
   ],
   "metadata": {
    "collapsed": false
   }
  },
  {
   "cell_type": "code",
   "execution_count": 35,
   "outputs": [
    {
     "data": {
      "text/plain": "[  fuzzy_match    w_ratio index col_name\n 0     pragrma  92.307692  3532   pragma,\n         fuzzy_match  w_ratio index col_name\n 2  pragma-directive     90.0  2534   pragma,\n   fuzzy_match    w_ratio index col_name\n 3      pramga  83.333333  1041   pragma,\n     fuzzy_match    w_ratio index      col_name\n 5  content_type  91.666667  1449  content-type,\n     fuzzy_match    w_ratio index      col_name\n 6  contetn-type  91.666667  4032  content-type,\n                                 fuzzy_match  w_ratio index      col_name\n 10  x-tb-optimization-original-content-type     90.0  1513  content-type,\n                     fuzzy_match  w_ratio index      col_name\n 12  x-hs-alternate-content-type     90.0  1753  content-type,\n              fuzzy_match  w_ratio index      col_name\n 13  x-upyun-content-type     90.0  2151  content-type,\n                 fuzzy_match  w_ratio index      col_name\n 14  x-amz-meta-content-type     90.0  4339  content-type,\n                     fuzzy_match    w_ratio index      col_name\n 15  x-tb-oa-originalcontenttype  86.086957  1510  content-type,\n            fuzzy_match  w_ratio index      col_name\n 17  content-style-type     80.0  3122  content-type,\n                  fuzzy_match  w_ratio index       col_name\n 19  x-nyt-data-last-modified     90.0   557  last-modified,\n         fuzzy_match    w_ratio index       col_name\n 30  x-accept-ranges  92.857143  4688  accept-ranges,\n                  fuzzy_match  w_ratio index       col_name\n 32  x-amz-meta-accept-ranges     90.0  4258  accept-ranges,\n           fuzzy_match    w_ratio index          col_name\n 39  x-xss-protections  96.969697  4749  x-xss-protection,\n               fuzzy_match    w_ratio index                col_name\n 42  x-content-type-option  97.674419  1331  x-content-type-options,\n           fuzzy_match    w_ratio index                col_name\n 46  x-content-options  87.179487    33  x-content-type-options,\n                fuzzy_match    w_ratio index                col_name\n 47  x-control-type-options  86.363636   225  x-content-type-options,\n         fuzzy_match  w_ratio index col_name\n 58  x-amz-meta-vary     90.0   709     vary,\n    fuzzy_match  w_ratio index col_name\n 59  nginx-vary     90.0  1444     vary,\n           fuzzy_match  w_ratio index col_name\n 62  stored-vary-value     90.0  2970     vary,\n                        fuzzy_match  w_ratio index          col_name\n 64  x-goog-stored-content-encoding     90.0    16  content-encoding,\n                     fuzzy_match  w_ratio index          col_name\n 65  x-consumed-content-encoding     90.0  1647  content-encoding,\n    fuzzy_match  w_ratio index          col_name\n 66    encoding     90.0  4530  content-encoding,\n                    fuzzy_match  w_ratio index          col_name\n 67  x-encoded-content-encoding     90.0  5048  content-encoding,\n                fuzzy_match    w_ratio index          col_name\n 68  x-eps-content-encoding  84.210526   269  content-encoding,\n      fuzzy_match  w_ratio index       col_name\n 69  cache-conrol     96.0  3327  cache-control,\n         fuzzy_match    w_ratio index       col_name\n 70  x-cache-control  92.857143  1931  cache-control,\n       fuzzy_match    w_ratio index       col_name\n 71  cache_control  92.307692  2607  cache-control,\n     fuzzy_match    w_ratio index       col_name\n 72  cache-ctrol  91.666667  3348  cache-control,\n              fuzzy_match  w_ratio index       col_name\n 73  origin-cache-control     90.0   129  cache-control,\n                  fuzzy_match  w_ratio index       col_name\n 75  x-amz-meta-cache-control     90.0  1197  cache-control,\n                 fuzzy_match  w_ratio index       col_name\n 76  x-cambria-cache-control     90.0  1322  cache-control,\n               fuzzy_match  w_ratio index       col_name\n 80  x-accel-cache-control     90.0  2623  cache-control,\n                     fuzzy_match  w_ratio index       col_name\n 82  x-akamai-user-cache-control     90.0  3906  cache-control,\n                   fuzzy_match  w_ratio index       col_name\n 83  x-litespeed-cache-control     90.0  3961  cache-control,\n               fuzzy_match  w_ratio index       col_name\n 84  backend-cache-control     90.0  4153  cache-control,\n                 fuzzy_match  w_ratio index       col_name\n 85  x-varnish-cache-control     90.0  4671  cache-control,\n          fuzzy_match    w_ratio index       col_name\n 87  cachefly-control  89.655172  1220  cache-control,\n           fuzzy_match    w_ratio index       col_name\n 88  cdn-cache-control  86.666667   309  cache-control,\n            fuzzy_match    w_ratio index       col_name\n 90  user-cache-control  83.870968  2280  cache-control,\n            fuzzy_match    w_ratio index       col_name\n 91  x-kw-cache-control  83.870968  2596  cache-control,\n            fuzzy_match    w_ratio index       col_name\n 92  x-hs-cache-control  83.870968  3842  cache-control,\n    fuzzy_match    w_ratio index col_name\n 94      expire  92.307692  1188  expires,\n       fuzzy_match  w_ratio index col_name\n 102  x-kw-expires     90.0  2593  expires,\n     fuzzy_match  w_ratio index col_name\n 123   x-kw-date     90.0  2591     date,\n               fuzzy_match  w_ratio index col_name\n 124  x-amzn-remapped-date     90.0  2665     date,\n        fuzzy_match  w_ratio index col_name\n 126  x-render-date     90.0  2776     date,\n                       fuzzy_match  w_ratio index        col_name\n 141  x-goog-stored-content-length     90.0    13  content-length,\n                    fuzzy_match  w_ratio index        col_name\n 142  x-original-content-length     90.0   841  content-length,\n                  fuzzy_match  w_ratio index        col_name\n 143  original-content-length     90.0  1232  content-length,\n                       fuzzy_match  w_ratio index        col_name\n 144  x-xiaomi-meta-content-length     90.0  1351  content-length,\n                         fuzzy_match  w_ratio index        col_name\n 145  x-amzn-remapped-content-length     90.0  1768  content-length,\n                 fuzzy_match  w_ratio index        col_name\n 147  x-upyun-content-length     90.0  2136  content-length,\n                    fuzzy_match  w_ratio index        col_name\n 148  x-amz-meta-content-length     90.0  4326  content-length,\n         fuzzy_match    w_ratio index        col_name\n 151  cteonnt-length  85.714286   879  content-length,\n         fuzzy_match    w_ratio index        col_name\n 152  ntcoent-length  85.714286  1044  content-length,\n     fuzzy_match  w_ratio index        col_name\n 153    x-length     84.0   449  content-length,\n               fuzzy_match    w_ratio index        col_name\n 154  x-jss-content-length  82.352941   710  content-length,\n               fuzzy_match    w_ratio index        col_name\n 155  x-raw-content-length  82.352941  3017  content-length,\n                     fuzzy_match  w_ratio index    col_name\n 160  x-amzn-remapped-connection     90.0  2661  connection,\n     fuzzy_match  w_ratio index    col_name\n 168  cneonction     80.0   145  connection,\n     fuzzy_match  w_ratio index    col_name\n 169  x-cnection     80.0   201  connection,\n     fuzzy_match  w_ratio index    col_name\n 170  nncoection     80.0  1089  connection,\n                          fuzzy_match    w_ratio index   \n 171  x-xiaomi-server-side-encryption  91.525424  1354  \\\n \n                          col_name  \n 171  x-amz-server-side-encryption  ,\n                       fuzzy_match    w_ratio index   \n 174  x-oss-server-side-encryption  89.285714   303  \\\n \n                          col_name  \n 174  x-amz-server-side-encryption  ,\n          fuzzy_match  w_ratio index col_name\n 198  servershortname     90.0    63   server,\n                 fuzzy_match  w_ratio index col_name\n 289  x-amzn-remapped-server     90.0  2659   server,\n     fuzzy_match    w_ratio index col_name\n 296    x-ncache  93.333333  3427  x-cache,\n     fuzzy_match    w_ratio index col_name\n 297    x-vcache  93.333333  3511  x-cache,\n     fuzzy_match    w_ratio index col_name\n 298    x-mcache  93.333333  3697  x-cache,\n     fuzzy_match    w_ratio index col_name\n 299    x-ecache  93.333333  3698  x-cache,\n     fuzzy_match    w_ratio index col_name\n 300    vx-cache  93.333333  4143  x-cache,\n               fuzzy_match  w_ratio index col_name\n 304  x-nginx-cache-status     90.0   101  x-cache,\n          fuzzy_match  w_ratio index col_name\n 318  varnish-x-cache     90.0  1589  x-cache,\n      fuzzy_match  w_ratio index col_name\n 324  x-cache-new     90.0  1822  x-cache,\n            fuzzy_match  w_ratio index col_name\n 328  x-cache-fs-status     90.0  2074  x-cache,\n       fuzzy_match  w_ratio index col_name\n 336  x-cache-cold     90.0  2811  x-cache,\n      fuzzy_match  w_ratio index col_name\n 337  x-cache-hot     90.0  2812  x-cache,\n         fuzzy_match  w_ratio index col_name\n 340  x-ngenix-cache     90.0  2858  x-cache,\n                   fuzzy_match  w_ratio index col_name\n 347  x-cache-status-secondary     90.0  3188  x-cache,\n         fuzzy_match  w_ratio index col_name\n 348  x-cache_status     90.0  3202  x-cache,\n          fuzzy_match  w_ratio index col_name\n 359  x-cache-srcache     90.0  3721  x-cache,\n       fuzzy_match  w_ratio index col_name\n 363  x-cache-blog     90.0  4086  x-cache,\n         fuzzy_match  w_ratio index col_name\n 366  x-cache-cookie     90.0  4153  x-cache,\n         fuzzy_match  w_ratio index col_name\n 370  x-cache-result     90.0  4356  x-cache,\n        fuzzy_match  w_ratio index col_name\n 372  x-cache-combo     90.0  4649  x-cache,\n      fuzzy_match  w_ratio index col_name\n 379  x-ngx-cache     90.0  5049  x-cache,\n             fuzzy_match  w_ratio index col_name\n 380  x-cache-cms-status     90.0  5085  x-cache,\n     fuzzy_match  w_ratio index col_name\n 382   x-cache-2     87.5  1613  x-cache,\n     fuzzy_match  w_ratio index col_name\n 384   x-f-cache     87.5  2400  x-cache,\n     fuzzy_match  w_ratio index col_name\n 385   x-rpcache     87.5  3235  x-cache,\n     fuzzy_match    w_ratio index col_name\n 387     r-cache  85.714286  1177  x-cache,\n     fuzzy_match    w_ratio index col_name\n 388     x-cahce  85.714286  2620  x-cache,\n     fuzzy_match    w_ratio index col_name\n 390     j-cache  85.714286  4446  x-cache,\n     fuzzy_match    w_ratio index col_name\n 391       cache  83.333333   814  x-cache,\n         fuzzy_match    w_ratio index col_name\n 392  x-origin-cache  83.076923    51  x-cache,\n                fuzzy_match  w_ratio index col_name\n 418  x-goog-metageneration     90.0     2      age,\n            fuzzy_match  w_ratio index col_name\n 440  cdn-edgestorageid     90.0   587      age,\n     fuzzy_match  w_ratio index col_name\n 451     max-age     90.0   783      age,\n         fuzzy_match  w_ratio index col_name\n 453  x-amz-meta-age     90.0   948      age,\n     fuzzy_match  w_ratio index col_name\n 455  bdpagetype     90.0  1057      age,\n                  fuzzy_match  w_ratio index col_name\n 460  x-goog-meta-imageheight     90.0  1235      age,\n                 fuzzy_match  w_ratio index col_name\n 461  x-goog-meta-imagewidth     90.0  1236      age,\n               fuzzy_match  w_ratio index col_name\n 465  x-cachiness-edge-age     90.0  1358      age,\n     fuzzy_match  w_ratio index col_name\n 467    s-maxage     90.0  1480      age,\n          fuzzy_match  w_ratio index col_name\n 470  x-wp-totalpages     90.0  1753      age,\n     fuzzy_match  w_ratio index col_name\n 474      x-page     90.0  1832      age,\n     fuzzy_match  w_ratio index col_name\n 475  x-per-page     90.0  1833      age,\n     fuzzy_match  w_ratio index col_name\n 479      pageid     90.0  1889      age,\n        fuzzy_match  w_ratio index col_name\n 484  sage-no-cache     90.0  2033      age,\n     fuzzy_match  w_ratio index col_name\n 485  imagewidth     90.0  2155      age,\n      fuzzy_match  w_ratio index col_name\n 486  imageheight     90.0  2156      age,\n                  fuzzy_match  w_ratio index col_name\n 501  x-image-server-cpu-real     90.0  2521      age,\n        fuzzy_match  w_ratio index col_name\n 504  x-varnish-age     90.0  2567      age,\n     fuzzy_match  w_ratio index col_name\n 505    per-page     90.0  2575      age,\n         fuzzy_match  w_ratio index col_name\n 510  edge-cache-age     90.0  2890      age,\n     fuzzy_match  w_ratio index col_name\n 513      hb-age     90.0  2985      age,\n     fuzzy_match  w_ratio index col_name\n 514  image-size     90.0  2994      age,\n               fuzzy_match  w_ratio index col_name\n 517  x-lfm-cacheable-page     90.0  3082      age,\n                      fuzzy_match    w_ratio index   \n 533  x-consumed-content-encoding  80.701754  1630  \\\n \n                            col_name  \n 533  x-goog-stored-content-encoding  ,\n                     fuzzy_match    w_ratio index                      col_name\n 535  x-goog-meta-content-length  85.185185  4688  x-goog-stored-content-length,\n              fuzzy_match    w_ratio index              col_name\n 547  x-tos-storage-class  87.179487   441  x-goog-storage-class,\n              fuzzy_match    w_ratio index              col_name\n 549  x-nos-storage-class  87.179487  1762  x-goog-storage-class,\n           fuzzy_match    w_ratio index         col_name\n 554  cfp-cache-status  96.774194  4715  cf-cache-status,\n             fuzzy_match    w_ratio index         col_name\n 555  ki-cf-cache-status  90.909091  2363  cf-cache-status,\n           fuzzy_match    w_ratio index         col_name\n 557  fss-cache-status  90.322581  2853  cf-cache-status,\n     fuzzy_match  w_ratio index         col_name\n 560       cache     90.0   802  cf-cache-status,\n          fuzzy_match    w_ratio index         col_name\n 563  xm-cache-status  86.666667  1331  cf-cache-status,\n          fuzzy_match    w_ratio index         col_name\n 564  zy-cache-status  86.666667  1475  cf-cache-status,\n          fuzzy_match    w_ratio index         col_name\n 567  ng-cache-status  86.666667  4321  cf-cache-status,\n          fuzzy_match    w_ratio index         col_name\n 568  bl-cache-status  86.666667  4572  cf-cache-status,\n               fuzzy_match    w_ratio index         col_name\n 570  x-hs-cf-cache-status  85.714286  3823  cf-cache-status,\n             fuzzy_match    w_ratio index         col_name\n 571  x-cdn-cache-status  84.848485  2113  cf-cache-status,\n             fuzzy_match    w_ratio index         col_name\n 572  x-ftr-cache-status  84.848485  2216  cf-cache-status,\n     fuzzy_match  w_ratio index         col_name\n 574    x-status     84.0  1532  cf-cache-status,\n           fuzzy_match    w_ratio index         col_name\n 575  app-cache-status  83.870968  2249  cf-cache-status,\n           fuzzy_match    w_ratio index         col_name\n 576  ddg-cache-status  83.870968  2592  cf-cache-status,\n           fuzzy_match    w_ratio index         col_name\n 577  wpe-cache-status  83.870968  4928  cf-cache-status,\n                  fuzzy_match    w_ratio index         col_name\n 578  x-bbc-edge-cache-status  83.571429   872  cf-cache-status,\n                         fuzzy_match    w_ratio index         col_name\n 581  x-consent-setting-cache-status  83.571429  2569  cf-cache-status,\n         fuzzy_match    w_ratio index         col_name\n 584  x-cache_status  82.758621  3190  cf-cache-status,\n            fuzzy_match  w_ratio index         col_name\n 585  x-hs-cache-status    81.25  1734  cf-cache-status,\n            fuzzy_match  w_ratio index         col_name\n 586  x-cache-fs-status    81.25  2062  cf-cache-status,\n            fuzzy_match  w_ratio index         col_name\n 587  x-gg-cache-status    81.25  4193  cf-cache-status,\n            fuzzy_match  w_ratio index         col_name\n 588  x-lb-cache-status    81.25  4770  cf-cache-status,\n                   fuzzy_match    w_ratio index         col_name\n 589  x-cache-status-secondary  80.689655  3176  cf-cache-status,\n          fuzzy_match  w_ratio index         col_name\n 592  yjs-cachestatus     80.0   602  cf-cache-status,\n                            fuzzy_match    w_ratio index   \n 618  access-control-allow-credentiails  98.461538  3475  \\\n \n                              col_name  \n 618  access-control-allow-credentials  ,\n                            fuzzy_match    w_ratio index   \n 619  access-control-allow--credentials  98.461538  4682  \\\n \n                              col_name  \n 619  access-control-allow-credentials  ,\n                                   fuzzy_match    w_ratio index   \n 622  x-debug-access-control-allow-credentials  88.888889  4818  \\\n \n                              col_name  \n 622  access-control-allow-credentials  ,\n                              fuzzy_match    w_ratio index   \n 631  x-debug-access-control-allow-origin  87.096774  4816  \\\n \n                         col_name  \n 631  access-control-allow-origin  ,\n                                 fuzzy_match    w_ratio index   \n 633  amp-access-control-allow-source-origin  83.076923   313  \\\n \n                         col_name  \n 633  access-control-allow-origin  ,\n     fuzzy_match  w_ratio index    col_name\n 644      cookie     90.0  2480  set-cookie,\n                fuzzy_match    w_ratio index           col_name\n 655  x-content-type-option  84.210526  1297  x-content-options,\n                                fuzzy_match    w_ratio index   \n 658  x-content-security-policy-report-only  97.222222   327  \\\n \n                                 col_name  \n 658  content-security-policy-report-only  ,\n                            fuzzy_match    w_ratio index   \n 691  access-control-allow-credentiails  81.967213  3467  \\\n \n                          col_name  \n 691  access-control-allow-headers  ,\n                            fuzzy_match    w_ratio index   \n 692  access-control-allow--credentials  81.967213  4674  \\\n \n                          col_name  \n 692  access-control-allow-headers  ,\n         fuzzy_match  w_ratio index                      col_name\n 694  allowedheaders     80.0  1295  access-control-allow-headers,\n     fuzzy_match  w_ratio index                col_name\n 696     max-age     90.0   760  access-control-max-age,\n                       fuzzy_match  w_ratio index                col_name\n 699  access-control-allow-max-age     88.0  2415  access-control-max-age,\n     fuzzy_match    w_ratio index                col_name\n 700      x-page  81.818182  1809  access-control-max-age,\n                       fuzzy_match    w_ratio index   \n 726  cross-origin-response-policy  89.285714  2006  \\\n \n                          col_name  \n 726  cross-origin-resource-policy  ,\n     fuzzy_match  w_ratio index     col_name\n 731         md5     90.0  2739  content-md5,\n                    fuzzy_match    w_ratio index                 col_name\n 854  x-content-security-policy  95.833333   482  content-security-policy,\n                       fuzzy_match    w_ratio index                    col_name\n 860  cross-origin-response-policy  85.185185  1996  cross-origin-opener-policy,\n        fuzzy_match    w_ratio index         col_name\n 862  frame-options  92.857143  2478  x-frame-options,\n                fuzzy_match  w_ratio index             col_name\n 870  timing-allowed-origin     95.0  4933  timing-allow-origin,\n                          fuzzy_match  w_ratio index             col_name\n 873  x-goog-meta-timing-allow-origin     90.0  3349  timing-allow-origin,\n          fuzzy_match    w_ratio index          col_name\n 890  x-ba-request-id  90.322581   603  x-amz-request-id,\n           fuzzy_match  w_ratio index          col_name\n 937  x-scs-request-id    81.25   604  x-amz-request-id,\n           fuzzy_match  w_ratio index          col_name\n 942  x-clv-request-id    81.25  1481  x-amz-request-id,\n                      fuzzy_match    w_ratio index   \n 964  access-control-allow-method  98.181818  1078  \\\n \n                          col_name  \n 964  access-control-allow-methods  ,\n     fuzzy_match  w_ratio index                      col_name\n 965       allow     90.0    74  access-control-allow-methods,\n                      fuzzy_match    w_ratio index   \n 967  allow-control-allow-methods  83.636364  2851  \\\n \n                          col_name  \n 967  access-control-allow-methods  ,\n                      fuzzy_match    w_ratio index   \n 968  access-control-allow-option  83.636364  3906  \\\n \n                          col_name  \n 968  access-control-allow-methods  ,\n         fuzzy_match  w_ratio index                      col_name\n 971  allowedmethods     80.0  1273  access-control-allow-methods,\n                fuzzy_match  w_ratio index        col_name\n 990  x-origin-cache-status     90.0    43  x-origin-cache,\n     fuzzy_match  w_ratio index        col_name\n 991       cache     90.0   762  x-origin-cache,\n     fuzzy_match  w_ratio index        col_name\n 998    ng-cache     84.0  2304  x-origin-cache,\n      fuzzy_match    w_ratio index        col_name\n 1000     r-cache  83.076923  1125  x-origin-cache,\n      fuzzy_match    w_ratio index        col_name\n 1002     j-cache  83.076923  4394  x-origin-cache,\n                   fuzzy_match    w_ratio index                  col_name\n 1020  x-janus-upstream-status  80.851064  1335  x-origin-upstream-status,\n          fuzzy_match    w_ratio index         col_name\n 1025  referer-policy  96.551724  1453  referrer-policy,\n             fuzzy_match  w_ratio index         col_name\n 1026  x-referrer-policy    93.75  3883  referrer-policy,\n      fuzzy_match  w_ratio index                   col_name\n 1029       x-aed     80.0   995  x-edgeconnect-midmile-rtt,\n      fuzzy_match  w_ratio index                          col_name\n 1033       x-aed     80.0   994  x-edgeconnect-origin-mex-latency,\n           fuzzy_match    w_ratio index                    col_name\n 1045  x-ncache-status  83.571429  3761  x-edgeconnect-cache-status,\n      fuzzy_match  w_ratio index      col_name\n 1140        hits     90.0  2903  x-cache-hits,\n           fuzzy_match    w_ratio index      col_name\n 1142  x-cache-vf-hits  88.888889  4867  x-cache-hits,\n                  fuzzy_match    w_ratio index      col_name\n 1144  x-media-cdn-cache-hits  86.086957  1619  x-cache-hits,\n                 fuzzy_match    w_ratio index      col_name\n 1145  x-nearside-cache-hits  86.086957  1721  x-cache-hits,\n                fuzzy_match    w_ratio index      col_name\n 1146  x-varnish-cache-hits  86.086957  2696  x-cache-hits,\n                  fuzzy_match    w_ratio index      col_name\n 1147  x-tzla-edge-cache-hits  86.086957  2982  x-cache-hits,\n            fuzzy_match    w_ratio index      col_name\n 1150  x-cdn-cache-hits  85.714286  4479  x-cache-hits,\n            fuzzy_match    w_ratio index      col_name\n 1151  x-mrs-cache-hits  85.714286  4758  x-cache-hits,\n       fuzzy_match  w_ratio index             col_name\n 1234  disposition     90.0  4544  content-disposition,\n           fuzzy_match    w_ratio index        col_name\n 1241  xm-cache-status  96.551724  1268  x-cache-status,\n          fuzzy_match    w_ratio index        col_name\n 1244  x-cache_status  92.857143  3127  x-cache-status,\n             fuzzy_match    w_ratio index        col_name\n 1246  x-hs-cache-status  90.322581  1671  x-cache-status,\n             fuzzy_match    w_ratio index        col_name\n 1247  x-cache-fs-status  90.322581  1999  x-cache-status,\n             fuzzy_match    w_ratio index        col_name\n 1248  x-gg-cache-status  90.322581  4130  x-cache-status,\n             fuzzy_match    w_ratio index        col_name\n 1249  x-lb-cache-status  90.322581  4707  x-cache-status,\n      fuzzy_match  w_ratio index        col_name\n 1252       cache     90.0   739  x-cache-status,\n                    fuzzy_match  w_ratio index        col_name\n 1253  x-cache-status-secondary     90.0  3113  x-cache-status,\n           fuzzy_match    w_ratio index        col_name\n 1254  zy-cache-status  89.655172  1412  x-cache-status,\n           fuzzy_match    w_ratio index        col_name\n 1256  ng-cache-status  89.655172  4258  x-cache-status,\n           fuzzy_match    w_ratio index        col_name\n 1257  bl-cache-status  89.655172  4509  x-cache-status,\n              fuzzy_match  w_ratio index        col_name\n 1258  x-cdn-cache-status     87.5  2050  x-cache-status,\n              fuzzy_match  w_ratio index        col_name\n 1259  x-ftr-cache-status     87.5  2153  x-cache-status,\n              fuzzy_match  w_ratio index        col_name\n 1262  x-cache-cms-status     87.5  5010  x-cache-status,\n                 fuzzy_match    w_ratio index        col_name\n 1263  x-origin-cache-status  86.666667    20  x-cache-status,\n                   fuzzy_match    w_ratio index        col_name\n 1264  x-bbc-edge-cache-status  86.666667   809  x-cache-status,\n                 fuzzy_match    w_ratio index        col_name\n 1267  belfrage-cache-status  86.666667   872  x-cache-status,\n                  fuzzy_match    w_ratio index        col_name\n 1268  x-gateway-cache-status  86.666667   924  x-cache-status,\n            fuzzy_match    w_ratio index        col_name\n 1270  app-cache-status  86.666667  2186  x-cache-status,\n                          fuzzy_match    w_ratio index        col_name\n 1272  x-consent-setting-cache-status  86.666667  2506  x-cache-status,\n            fuzzy_match    w_ratio index        col_name\n 1273  ddg-cache-status  86.666667  2529  x-cache-status,\n            fuzzy_match    w_ratio index        col_name\n 1275  fss-cache-status  86.666667  2790  x-cache-status,\n                  fuzzy_match    w_ratio index        col_name\n 1277  x-varnish-cache-status  86.666667  3689  x-cache-status,\n                 fuzzy_match    w_ratio index        col_name\n 1279  x-swifty-cache-status  86.666667  4122  x-cache-status,\n            fuzzy_match    w_ratio index        col_name\n 1281  cfp-cache-status  86.666667  4652  x-cache-status,\n                  fuzzy_match    w_ratio index        col_name\n 1282  x-mshield-cache-status  86.666667  4753  x-cache-status,\n            fuzzy_match    w_ratio index        col_name\n 1284  wpe-cache-status  86.666667  4865  x-cache-status,\n               fuzzy_match    w_ratio index        col_name\n 1285  x-inap-cache-status  84.848485  2637  x-cache-status,\n      fuzzy_match    w_ratio index        col_name\n 1286   x-cache-2  84.705882  1538  x-cache-status,\n      fuzzy_match  w_ratio index        col_name\n 1289    x-status     84.0  1469  x-cache-status,\n      fuzzy_match  w_ratio index        col_name\n 1292    x-ncache     84.0  3352  x-cache-status,\n      fuzzy_match  w_ratio index        col_name\n 1293    x-vcache     84.0  3436  x-cache-status,\n      fuzzy_match  w_ratio index        col_name\n 1294    x-mcache     84.0  3622  x-cache-status,\n      fuzzy_match  w_ratio index        col_name\n 1295    x-ecache     84.0  3623  x-cache-status,\n      fuzzy_match  w_ratio index        col_name\n 1296    vx-cache     84.0  4068  x-cache-status,\n           fuzzy_match    w_ratio index        col_name\n 1298  yjs-cachestatus  82.758621   539  x-cache-status,\n                fuzzy_match    w_ratio index        col_name\n 1299  x-nginx-cache-status  82.352941    26  x-cache-status,\n                fuzzy_match    w_ratio index        col_name\n 1301  x-proxy-cache-status  82.352941  2978  x-cache-status,\n                fuzzy_match    w_ratio index        col_name\n 1302  x-hs-cf-cache-status  82.352941  3760  x-cache-status,\n              fuzzy_match  w_ratio index        col_name\n 1304  ki-cf-cache-status    81.25  2300  x-cache-status,\n       fuzzy_match  w_ratio index        col_name\n 1308  cache-state     80.0  3269  x-cache-status,\n         fuzzy_match    w_ratio index     col_name\n 1316  x-ksclient-ip  91.666667  2795  x-client-ip,\n          fuzzy_match  w_ratio index     col_name\n 1321  x-ks-client-ip     88.0  2802  x-client-ip,\n                fuzzy_match    w_ratio index     col_name\n 1324  x-archived-client-ip  85.714286  1907  x-client-ip,\n              fuzzy_match    w_ratio index     col_name\n 1325  x-deezer-client-ip  85.714286  2875  x-client-ip,\n                   fuzzy_match    w_ratio index     col_name\n 1326  x-boston-true-client-ip  85.714286  3139  x-client-ip,\n      fuzzy_match    w_ratio index     col_name\n 1328    clientip  84.210526  1865  x-client-ip,\n            fuzzy_match    w_ratio index     col_name\n 1331  x-true-client-ip  81.481481  1535  x-client-ip,\n                  fuzzy_match  w_ratio index     col_name\n 1339  x-client-geo-metrocode     81.0  4100  x-client-ip,\n      fuzzy_match  w_ratio index     col_name\n 1341   client.ip     80.0  2640  x-client-ip,\n                         fuzzy_match    w_ratio index                  col_name\n 1435  x-amz-meta-replication-status  90.566038  1140  x-amz-replication-status,\n                    fuzzy_match  w_ratio index                  col_name\n 1438  x-obs-replication-status     87.5  4032  x-amz-replication-status,\n               fuzzy_match  w_ratio index               col_name\n 1461  x-inap-cache-status     85.0  2616  x-origin-cache-status,\n             fuzzy_match    w_ratio index               col_name\n 1462  x-gg-cache-status  84.210526  4109  x-origin-cache-status,\n              fuzzy_match    w_ratio index               col_name\n 1466  x-cdn-cache-status  82.051282  2029  x-origin-cache-status,\n              fuzzy_match    w_ratio index               col_name\n 1467  x-ftr-cache-status  82.051282  2132  x-origin-cache-status,\n       fuzzy_match    w_ratio index               col_name\n 1469  cache-state  81.818182  3248  x-origin-cache-status,\n          fuzzy_match  w_ratio index               col_name\n 1473  x-cache_status     80.0  3106  x-origin-cache-status,\n      fuzzy_match  w_ratio index        col_name\n 1589   cache-tag     90.0    67  edge-cache-tag,\n      fuzzy_match  w_ratio index              col_name\n 1599       cache     90.0   712  x-nginx-cache-status,\n               fuzzy_match    w_ratio index              col_name\n 1603  x-inap-cache-status  87.179487  2610  x-nginx-cache-status,\n             fuzzy_match    w_ratio index              col_name\n 1604  x-gg-cache-status  86.486486  4103  x-nginx-cache-status,\n           fuzzy_match    w_ratio index              col_name\n 1606  ng-cache-status  85.714286  4231  x-nginx-cache-status,\n              fuzzy_match    w_ratio index              col_name\n 1607  x-cdn-cache-status  84.210526  2023  x-nginx-cache-status,\n      fuzzy_match  w_ratio index              col_name\n 1609    x-status     84.0  1442  x-nginx-cache-status,\n       fuzzy_match    w_ratio index              col_name\n 1611  cache-state  81.818182  3242  x-nginx-cache-status,\n             fuzzy_match    w_ratio index              col_name\n 1612  x-hs-cache-status  81.081081  1644  x-nginx-cache-status,\n             fuzzy_match    w_ratio index              col_name\n 1613  x-lb-cache-status  81.081081  4680  x-nginx-cache-status,\n                  fuzzy_match    w_ratio index              col_name\n 1614  x-varnish-cache-status  80.952381  3662  x-nginx-cache-status,\n           fuzzy_match  w_ratio index              col_name\n 1618  xm-cache-status     80.0  1241  x-nginx-cache-status,\n                fuzzy_match  w_ratio index              col_name\n 1621  x-proxy-cache-status     80.0  2951  x-nginx-cache-status,\n      fuzzy_match    w_ratio index   col_name\n 1626  x-amz-id-1  84.210526   833  x-amz-rid,\n              fuzzy_match    w_ratio index          col_name\n 1629  x-content-language  94.117647    41  content-language,\n      fuzzy_match  w_ratio index          col_name\n 1630        lang     90.0  3047  content-language,\n      fuzzy_match  w_ratio index          col_name\n 1631    language     90.0  4016  content-language,\n      fuzzy_match  w_ratio index    col_name\n 1713  x-sc-cache     80.0  2091  x-77-cache,\n      fuzzy_match  w_ratio index    col_name\n 1714  x-vc-cache     80.0  2440  x-77-cache,\n      fuzzy_match  w_ratio index    col_name\n 1716  x-lb-cache     80.0  3211  x-77-cache,\n      fuzzy_match  w_ratio index    col_name\n 1717  x-fa-cache     80.0  4491  x-77-cache,\n      fuzzy_match  w_ratio index    col_name\n 1720  x-na-cache     80.0  4741  x-77-cache,\n        fuzzy_match    w_ratio index    col_name\n 1733  x-cache-blog  81.818182  3974  x-cache-lb,\n      fuzzy_match  w_ratio index    col_name\n 1743  x-cache-op     80.0  2071  x-cache-lb,\n      fuzzy_match  w_ratio index    col_name\n 1758  x-cache-nx     80.0  4825  x-cache-lb,\n      fuzzy_match  w_ratio index                   col_name\n 1821     country     90.0   288  cloudfront-viewer-country,\n       fuzzy_match  w_ratio index                   col_name\n 1827  arc-country     81.0  4207  cloudfront-viewer-country,\n                       fuzzy_match  w_ratio index col_name\n 1830  access-control-allow-method     90.0  1003    allow,\n          fuzzy_match  w_ratio index col_name\n 1833  allowedmethods     90.0  1198    allow,\n                       fuzzy_match  w_ratio index col_name\n 1840  access-control-allow-option     90.0  3831    allow,\n      fuzzy_match  w_ratio index col_name\n 1865       x-did     80.0    90    x-tid,\n           fuzzy_match    w_ratio index      col_name\n 1921  x-fc-request-id  88.888889   299  x-request-id,\n               fuzzy_match    w_ratio index      col_name\n 1954  x-request-device-id  86.086957  1286  x-request-id,\n                 fuzzy_match    w_ratio index      col_name\n 1973  x-original-request-id  86.086957  3885  x-request-id,\n              fuzzy_match    w_ratio index      col_name\n 1975  monarch-request-id  86.086957  3973  x-request-id,\n      fuzzy_match  w_ratio index col_name\n 2137  x-cdn-flag     90.0   358      x-c,\n      fuzzy_match  w_ratio index col_name\n 2188       x-cf3     90.0  1077      x-c,\n      fuzzy_match  w_ratio index col_name\n 2191       x-cf2     90.0  1082      x-c,\n              fuzzy_match  w_ratio index col_name\n 2201  x-cartjs-updatedat     90.0  1194      x-c,\n      fuzzy_match  w_ratio index    col_name\n 2224  x-cnection     80.0    55  cneonction,\n      fuzzy_match  w_ratio index            col_name\n 2329        lang     90.0  3005  x-content-language,\n      fuzzy_match  w_ratio index            col_name\n 2331    language     90.0  3974  x-content-language,\n                      fuzzy_match    w_ratio index         col_name\n 2344  x-apple-edge-response-time  86.896552   709  x-response-time,\n                          fuzzy_match    w_ratio index         col_name\n 2345  x-dm-api-backend-response-time  86.896552  1114  x-response-time,\n                  fuzzy_match    w_ratio index         col_name\n 2354  x-server-response-time  81.081081   499  x-response-time,\n           fuzzy_match  w_ratio index         col_name\n 2358  x-response-itag     80.0  3680  x-response-time,\n                fuzzy_match  w_ratio index   col_name\n 2494  x-amz-meta-cache-tag     90.0  1568  cache-tag,\n       fuzzy_match    w_ratio index     col_name\n 2547  x-cache-hot  90.909091  2642  x-cache-hit,\n      fuzzy_match  w_ratio index     col_name\n 2549   cache-hit     90.0  1140  x-cache-hit,\n      fuzzy_match  w_ratio index     col_name\n 2573   x-cache-1     80.0  1624  x-cache-hit,\n                  fuzzy_match  w_ratio index   col_name\n 2649  x-varnish-cache-status     90.0  3591  x-varnish,\n                    fuzzy_match  w_ratio index                    col_name\n 2795  grpcgateway-content-type     80.0  1510  grpc-metadata-content-type,\n           fuzzy_match  w_ratio index           col_name\n 2855  x-forward-proto    93.75  1515  x-forwarded-proto,\n                fuzzy_match    w_ratio index           col_name\n 2856  x-forwarded-protocol  91.891892   303  x-forwarded-proto,\n      fuzzy_match  w_ratio index           col_name\n 2858       proto     90.0  4468  x-forwarded-proto,\n                      fuzzy_match    w_ratio index           col_name\n 2859  cloudfront-forwarded-proto  87.272727  3295  x-forwarded-proto,\n                      fuzzy_match    w_ratio index           col_name\n 2860  x-returned-forwarded-proto  87.272727  3740  x-forwarded-proto,\n        fuzzy_match  w_ratio index col_name\n 2867  x-eps-status     90.0    61   status,\n               fuzzy_match  w_ratio index col_name\n 2879  x-backendhttpstatus     90.0   708   status,\n                       fuzzy_match  w_ratio index col_name\n 2880  x-proxy-backendserverstatus     90.0   717   status,\n                        fuzzy_match  w_ratio index col_name\n 2882  x-bbc-origin-response-status     90.0   759   status,\n               fuzzy_match  w_ratio index col_name\n 2887  x-dsa-origin-status     90.0   978   status,\n                   fuzzy_match  w_ratio index col_name\n 2892  x-janus-upstream-status     90.0  1191   status,\n            fuzzy_match  w_ratio index col_name\n 2893  http_status_code     90.0  1197   status,\n            fuzzy_match  w_ratio index col_name\n 2927  x-do-orig-status     90.0  2422   status,\n                fuzzy_match  w_ratio index col_name\n 2932  x-origin-status-code     90.0  2551   status,\n                      fuzzy_match  w_ratio index col_name\n 2942  x-tzla-edge-backend-status     90.0  2844   status,\n             fuzzy_match  w_ratio index col_name\n 2945  x-applogic-status     90.0  2998   status,\n           fuzzy_match  w_ratio index col_name\n 2962  x-ediary-status     90.0  3859   status,\n          fuzzy_match    w_ratio index       col_name\n 2985  x-proxy-ecache  96.296296  3963  x-proxy-cache,\n          fuzzy_match    w_ratio index       col_name\n 2986  x-proxy-scache  96.296296  3966  x-proxy-cache,\n          fuzzy_match    w_ratio index       col_name\n 2987  xh-proxy-cache  96.296296  4386  x-proxy-cache,\n           fuzzy_match    w_ratio index       col_name\n 2988  x-proxy-ecacheb  92.857143  3961  x-proxy-cache,\n      fuzzy_match  w_ratio index       col_name\n 2989       cache     90.0   613  x-proxy-cache,\n                fuzzy_match  w_ratio index       col_name\n 2991  x-proxy-cache-status     90.0  2852  x-proxy-cache,\n            fuzzy_match    w_ratio index       col_name\n 2992  x-proxy-cache-s3  89.655172  1434  x-proxy-cache,\n      fuzzy_match    w_ratio index       col_name\n 2995     r-cache  83.076923   976  x-proxy-cache,\n      fuzzy_match    w_ratio index       col_name\n 2997     j-cache  83.076923  4245  x-proxy-cache,\n      fuzzy_match  w_ratio index col_name\n 3005  x-dc-token     90.0  3303     x-dc,\n                 fuzzy_match   w_ratio index                col_name\n 3060  x-content-type-option  83.72093  1105  x-control-type-options,\n       fuzzy_match  w_ratio index        col_name\n 3138  x-cache-hot     80.0  2593  x-cache-remote,\n         fuzzy_match  w_ratio index  col_name\n 3229  x-region-code     90.0  2499  x-region,\n         fuzzy_match  w_ratio index  col_name\n 3234  client-region     84.0    15  x-region,\n        fuzzy_match  w_ratio index  col_name\n 3235  x-nyt-region     84.0   329  x-region,\n         fuzzy_match  w_ratio index  col_name\n 3237  x-edge-region     84.0   782  x-region,\n            fuzzy_match  w_ratio index  col_name\n 3240  twc-geoip-region     84.0   976  x-region,\n          fuzzy_match  w_ratio index  col_name\n 3242  x-aorta-region     84.0  1416  x-region,\n               fuzzy_match  w_ratio index  col_name\n 3243  x-contentful-region     84.0  1475  x-region,\n        fuzzy_match  w_ratio index  col_name\n 3246  x-lae-region     84.0  1766  x-region,\n             fuzzy_match  w_ratio index  col_name\n 3247  x-commerce-region     84.0  1883  x-region,\n               fuzzy_match  w_ratio index  col_name\n 3248  x-amzn-apigw-region     84.0  2092  x-region,\n            fuzzy_match  w_ratio index  col_name\n 3250  x-bamtech-region     84.0  2204  x-region,\n               fuzzy_match  w_ratio index  col_name\n 3254  x-boston-geo-region     84.0  2991  x-region,\n           fuzzy_match  w_ratio index  col_name\n 3255  x-client-region     84.0  3375  x-region,\n               fuzzy_match  w_ratio index  col_name\n 3257  x-amz-bucket-region     84.0  3716  x-region,\n                           fuzzy_match  w_ratio index  col_name\n 3262  x-request-handler-origin-region     84.0  4214  x-region,\n           fuzzy_match  w_ratio index  col_name\n 3263  x-origin-region     84.0  4587  x-region,\n      fuzzy_match    w_ratio index  col_name\n 3265   ld-region  82.352941  1062  x-region,\n      fuzzy_match    w_ratio index  col_name\n 3380      tw-cdn  85.714286  1746  x-tw-cdn,\n      fuzzy_match  w_ratio index col_name\n 3399  x-cdn-name     90.0  1079    x-cdn,\n             fuzzy_match  w_ratio index col_name\n 3401  x-cdn-served-from     90.0  1431    x-cdn,\n      fuzzy_match  w_ratio index col_name\n 3422   x-tos-cdn     80.0   259    x-cdn,\n           fuzzy_match  w_ratio index col_name\n 3428  x-riotgames-cdn     80.0  3807    x-cdn,\n      fuzzy_match  w_ratio index col_name\n 3429  x-riot-cdn     80.0  3810    x-cdn,\n        fuzzy_match  w_ratio index col_name\n 3430  x-fa-for-cdn     80.0  4369    x-cdn,\n      fuzzy_match  w_ratio index      col_name\n 3482     country     90.0   171  cf-ipcountry,\n      fuzzy_match    w_ratio index      col_name\n 3485   ipcountry  85.714286  4342  cf-ipcountry,\n            fuzzy_match    w_ratio index         col_name\n 3516  x-ms-meta-fsmode  83.870968  2486  x-amz-meta-mode,\n           fuzzy_match  w_ratio index         col_name\n 3534  x-oss-meta-mode     80.0  3503  x-amz-meta-mode,\n          fuzzy_match    w_ratio index        col_name\n 3541  x-amz-meta-uid  92.857143     0  x-amz-meta-gid,\n                     fuzzy_match    w_ratio index        col_name\n 3561  x-amz-meta-is-placeholder  83.076923  4690  x-amz-meta-gid,\n           fuzzy_match    w_ratio index        col_name\n 3563  x-amz-meta-rdev  82.758621  3805  x-amz-meta-gid,\n      fuzzy_match  w_ratio index        col_name\n 3579       x-pam     80.0  3960  x-amz-meta-gid,\n                     fuzzy_match    w_ratio index        col_name\n 3598  x-amz-meta-is-placeholder  83.076923  4689  x-amz-meta-uid,\n           fuzzy_match    w_ratio index        col_name\n 3600  x-amz-meta-rdev  82.758621  3804  x-amz-meta-uid,\n      fuzzy_match  w_ratio index        col_name\n 3627       x-pam     80.0  3959  x-amz-meta-uid,\n                      fuzzy_match    w_ratio index                col_name\n 3717  x-encoded-content-encoding  83.333333  4778  x-eps-content-encoding,\n                       fuzzy_match    w_ratio index                col_name\n 3718  x-consumed-content-encoding  81.632653  1377  x-eps-content-encoding,\n      fuzzy_match  w_ratio index          col_name\n 3731     traceid     90.0    16  eagleeye-traceid,\n                  fuzzy_match    w_ratio index          col_name\n 3734  eagleeye-traceid-daily  84.210526  2216  eagleeye-traceid,\n             fuzzy_match    w_ratio index           col_name\n 3797  x-cos-object-type  94.117647   838  x-oss-object-type,\n             fuzzy_match    w_ratio index           col_name\n 3800  x-rgw-object-type  82.352941   982  x-oss-object-type,\n               fuzzy_match    w_ratio index             col_name\n 3806  x-tos-storage-class  94.736842   184  x-oss-storage-class,\n               fuzzy_match    w_ratio index             col_name\n 3808  x-nos-storage-class  94.736842  1505  x-oss-storage-class,\n                        fuzzy_match    w_ratio index             col_name\n 3812  x-oss-meta-sys-storage-class  80.851064  1017  x-oss-storage-class,\n      fuzzy_match  w_ratio index       col_name\n 3824    x-bucket     90.0  3206  x-bucket-code,\n       fuzzy_match    w_ratio index           col_name\n 3837  x-cachetime  85.714286  2700  x-swift-cachetime,\n            fuzzy_match    w_ratio index      col_name\n 3848  cdn-request-time  85.714286  1507  request-time,\n            fuzzy_match    w_ratio index      col_name\n 3849  xhs-request-time  85.714286  1644  request-time,\n                           fuzzy_match    w_ratio index   \n 4008  x-xiaomi-server-side-encryption  88.135593  1050  \\\n \n                           col_name  \n 4008  x-oss-server-side-encryption  ,\n      fuzzy_match  w_ratio index         col_name\n 4046    s_status     90.0   500  havana_s_status,\n       fuzzy_match  w_ratio index            col_name\n 4102  s_read_unit     90.0   493  havana_s_read_unit,\n                     fuzzy_match  w_ratio index col_name\n 4293  x-statuspage-skip-logging     80.0  3837    x-sct,\n            fuzzy_match    w_ratio index       col_name\n 4484  x-ms-activity-id  89.655172  3016  x-activity-id,\n      fuzzy_match    w_ratio index                col_name\n 4646     r-cache  83.076923   818  x-drupal-dynamic-cache,\n      fuzzy_match    w_ratio index                col_name\n 4648     j-cache  83.076923  4087  x-drupal-dynamic-cache,\n           fuzzy_match    w_ratio index                col_name\n 4650  x-dynamic-cache  81.081081  3053  x-drupal-dynamic-cache,\n      fuzzy_match    w_ratio index        col_name\n 4662     r-cache  83.076923   816  x-drupal-cache,\n      fuzzy_match    w_ratio index        col_name\n 4664     j-cache  83.076923  4085  x-drupal-cache,\n       fuzzy_match  w_ratio index        col_name\n 4666  x-lru-cache     80.0  1394  x-drupal-cache,\n      fuzzy_match    w_ratio index col_name\n 4680      x-page  90.909091  1470    x-age,\n      fuzzy_match    w_ratio index col_name\n 4688     max-age  83.333333   421    x-age,\n          fuzzy_match  w_ratio index col_name\n 4690  x-amz-meta-age     80.0   586    x-age,\n      fuzzy_match  w_ratio index col_name\n 4691       x-aed     80.0   688    x-age,\n                fuzzy_match  w_ratio index col_name\n 4693  x-cachiness-edge-age     80.0   996    x-age,\n          fuzzy_match  w_ratio index col_name\n 4718  edge-cache-age     80.0  2528    x-age,\n        fuzzy_match  w_ratio index col_name\n 4721  x-origin-age     80.0  3023    x-age,\n      fuzzy_match  w_ratio index col_name\n 4736   x-mrs-age     80.0  4460    x-age,\n             fuzzy_match    w_ratio index      col_name\n 4791  x-edge-datacenter  82.758621   631  x-datacenter,\n           fuzzy_match  w_ratio index           col_name\n 5031  ratelimit-limit    93.75  1289  x-ratelimit-limit,\n                            fuzzy_match  w_ratio index           col_name\n 5035  x-ratelimit-limit-general-minute     90.0  2056  x-ratelimit-limit,\n                 fuzzy_match    w_ratio index           col_name\n 5038  x-ratelimit-userlimit  89.473684   428  x-ratelimit-limit,\n                   fuzzy_match  w_ratio index           col_name\n 5040  x-ratelimit-route-limit     85.0   936  x-ratelimit-limit,\n               fuzzy_match  w_ratio index               col_name\n 5047  ratelimit-remaining     95.0  1289  x-ratelimit-remaining,\n                    fuzzy_match    w_ratio index               col_name\n 5048  x-ratelimit-ip-remaining  93.333333  4204  x-ratelimit-remaining,\n                         fuzzy_match  w_ratio index               col_name\n 5062  x-sentry-rate-limit-remaining     84.0  1870  x-ratelimit-remaining,\n         fuzzy_match  w_ratio index               col_name\n 5064  x-ratelimited     82.5  1607  x-ratelimit-remaining,\n                 fuzzy_match    w_ratio index           col_name\n 5070  x-ratelimit-userreset  89.473684   428  x-ratelimit-reset,\n      fuzzy_match  w_ratio index                       col_name\n 5090    x-method     84.0  4253  access-control-request-method,\n         fuzzy_match  w_ratio index col_name\n 5115  x-nyt-country     90.0   139  country,\n            fuzzy_match  w_ratio index col_name\n 5117  geo-country-code     90.0   409  country,\n             fuzzy_match  w_ratio index col_name\n 5119  twc-geoip-country     90.0   791  country,\n                      fuzzy_match  w_ratio index col_name\n 5120  browser-akamai-loc-country     90.0  1302  country,\n                fuzzy_match  w_ratio index col_name\n 5122  x-geoip-country-code     90.0  1420  country,\n         fuzzy_match  w_ratio index col_name\n 5123  x-log-country     90.0  1489  country,\n        fuzzy_match  w_ratio index col_name\n 5124  x-lo-country     90.0  1492  country,\n                fuzzy_match  w_ratio index col_name\n 5125  x-debug-country-code     90.0  1777  country,\n               fuzzy_match  w_ratio index col_name\n 5127  x-country-code-real     90.0  1820  country,\n             fuzzy_match  w_ratio index col_name\n 5128  x-gep-countrycode     90.0  1822  country,\n       fuzzy_match  w_ratio index col_name\n 5130  box-country     90.0  1870  country,\n            fuzzy_match  w_ratio index col_name\n 5131  x-client-country     90.0  1873  country,\n            fuzzy_match  w_ratio index col_name\n 5133  x-df-geo-country     90.0  1978  country,\n              fuzzy_match  w_ratio index col_name\n 5135  x-geo-country-code     90.0  2078  country,\n              fuzzy_match  w_ratio index col_name\n 5137  client-geo-country     90.0  2317  country,\n            fuzzy_match  w_ratio index col_name\n 5141  x-fastly-country     90.0  2552  country,\n              fuzzy_match  w_ratio index col_name\n 5142  geoip-country-code     90.0  2553  country,\n       fuzzy_match  w_ratio index col_name\n 5145  geo-country     90.0  2704  country,\n                fuzzy_match  w_ratio index col_name\n 5146  x-boston-geo-country     90.0  2801  country,\n             fuzzy_match  w_ratio index col_name\n 5149  akamaicountrycode     90.0  2880  country,\n          fuzzy_match  w_ratio index col_name\n 5150  source-country     90.0  2940  country,\n          fuzzy_match  w_ratio index col_name\n 5151  x-loom-country     90.0  3156  country,\n           fuzzy_match  w_ratio index col_name\n 5152  x-proxy-country     90.0  3246  country,\n        fuzzy_match  w_ratio index col_name\n 5155  x-nf-country     90.0  3363  country,\n                 fuzzy_match  w_ratio index col_name\n 5158  x-geoip2-country-code     90.0  3462  country,\n              fuzzy_match  w_ratio index col_name\n 5159  x-avg-country-code     90.0  3651  country,\n            fuzzy_match  w_ratio index col_name\n 5161  prometeo-country     90.0  3866  country,\n       fuzzy_match  w_ratio index col_name\n 5162  arc-country     90.0  3918  country,\n                        fuzzy_match  w_ratio index col_name\n 5163  x-request-geoip-country-code     90.0  3932  country,\n       fuzzy_match  w_ratio index col_name\n 5164  countrycode     90.0  4146  country,\n           fuzzy_match  w_ratio index col_name\n 5165  hw-country-code     90.0  4156  country,\n        fuzzy_match  w_ratio index col_name\n 5166  x-ym-country     90.0  4178  country,\n             fuzzy_match  w_ratio index col_name\n 5167  country_extracted     90.0  4532  country,\n             fuzzy_match  w_ratio index col_name\n 5168  x-berlioz-country     90.0  4576  country,\n                    fuzzy_match  w_ratio index col_name\n 5169  fastly-geoip-countrycode     90.0  4612  country,\n      fuzzy_match  w_ratio index col_name\n 5172   ipcountry     87.5  4170  country,\n      fuzzy_match    w_ratio index col_name\n 5173  mm_country  82.352941  2369  country,\n               fuzzy_match    w_ratio index             col_name\n 5204  x-tos-storage-class  84.210526    33  x-amz-storage-class,\n               fuzzy_match    w_ratio index             col_name\n 5205  x-bce-storage-class  84.210526   212  x-amz-storage-class,\n               fuzzy_match    w_ratio index             col_name\n 5206  x-cos-storage-class  84.210526   681  x-amz-storage-class,\n               fuzzy_match    w_ratio index             col_name\n 5207  x-nos-storage-class  84.210526  1354  x-amz-storage-class,\n        fuzzy_match  w_ratio index  col_name\n 5541  media-length     84.0  1441  x-length,\n               fuzzy_match    w_ratio index             col_name\n 5660  x-nos-storage-class  94.736842  1320  x-tos-storage-class,\n            fuzzy_match    w_ratio index       col_name\n 5689  x-ua-device-type  89.655172  3506  x-device-type,\n      fuzzy_match  w_ratio index        col_name\n 5711       x-idc     80.0    42  x-selected-idc,\n      fuzzy_match  w_ratio index   col_name\n 5732       x-psm     80.0    36  x-env-psm,\n      fuzzy_match  w_ratio index   col_name\n 5745       x-idc     80.0    37  x-env-idc,\n                  fuzzy_match  w_ratio index        col_name\n 5763  x-tlb-location-pattern     90.0    47  x-tlb-location,\n           fuzzy_match  w_ratio index col_name\n 5785  x-real-cdn-host     90.0     3     host,\n            fuzzy_match  w_ratio index col_name\n 5788  rpc-persist-host     90.0    34     host,\n      fuzzy_match  w_ratio index col_name\n 5796  proxy-host     90.0   712     host,\n          fuzzy_match    w_ratio index    col_name\n 5883  hw-ouser-agent  83.333333  3718  user-agent,\n          fuzzy_match    w_ratio index         col_name\n 5892  x-forwarded-ip  82.758621  3182  x-forwarded-for,\n      fuzzy_match    w_ratio index        col_name\n 5901  x-tos-host  83.333333    16  x-cdn-tos-host,\n      fuzzy_match  w_ratio index        col_name\n 5925        mode     90.0   533  sec-fetch-mode,\n      fuzzy_match  w_ratio index              col_name\n 5974       proto     90.0  4164  x-forwarded-protocol,\n           fuzzy_match  w_ratio index col_name\n 5988  rpc-persist-psm     80.0     8    x-psm,\n              fuzzy_match  w_ratio index   col_name\n 6012  x-dst-cluster-name     80.0    13  x-cluster,\n      fuzzy_match  w_ratio index col_name\n 6025   x-tlb-idc     80.0    13    x-idc,\n             fuzzy_match    w_ratio index       col_name\n 6052  x-tlb-server-name  86.666667     0  x-server-name,\n      fuzzy_match  w_ratio index col_name\n 6109   x-dst-svc     80.0     0    x-svc,\n              fuzzy_match  w_ratio index        col_name\n 6147  x-dst-cluster-name     87.5     0  x-cluster-name,\n        fuzzy_match    w_ratio index   col_name\n 6179  x-backend-by  85.714286  1081  x-backend,\n      fuzzy_match    w_ratio index col_name\n 6393   x-is-gdpr  81.818182   824   x-gdpr,\n            fuzzy_match    w_ratio index       col_name\n 6406  x-dm-api-version  89.655172   721  x-api-version,\n         fuzzy_match    w_ratio index       col_name\n 6412  x-acs-version  84.615385  1448  x-api-version,\n        fuzzy_match    w_ratio index          col_name\n 6428  x-edge-cache  85.714286  2899  x-nyt-edge-cache,\n      fuzzy_match    w_ratio index          col_name\n 6430     r-cache  83.076923   629  x-nyt-edge-cache,\n      fuzzy_match    w_ratio index          col_name\n 6432     j-cache  83.076923  3898  x-nyt-edge-cache,\n      fuzzy_match  w_ratio index         col_name\n 6450   continent     90.0  2170  x-nyt-continent,\n        fuzzy_match  w_ratio index       col_name\n 6451  x-nf-country     88.0  3223  x-nyt-country,\n        fuzzy_match  w_ratio index       col_name\n 6452  x-ym-country     88.0  4038  x-nyt-country,\n            fuzzy_match    w_ratio index       col_name\n 6453  x-client-country  82.758621  1733  x-nyt-country,\n        fuzzy_match  w_ratio index       col_name\n 6455  x-lo-country     80.0  1352  x-nyt-country,\n           fuzzy_match    w_ratio index      col_name\n 6460  x-client-region  81.481481  3045  x-nyt-region,\n            fuzzy_match    w_ratio index   col_name\n 6520  x-dm-api-version  84.705882   703  x-version,\n               fuzzy_match    w_ratio index   col_name\n 6555  x-im-policy-version  84.705882  2142  x-version,\n            fuzzy_match    w_ratio index   col_name\n 6558  x-target-version  84.705882  2255  x-version,\n                   fuzzy_match    w_ratio index   col_name\n 6582  x-periscope-web-version  84.705882  3889  x-version,\n        fuzzy_match  w_ratio index       col_name\n 6637  x-ip-version     80.0   290  x-cms-version,\n       fuzzy_match  w_ratio index                col_name\n 6813  countrycode     90.0  3972  cdn-requestcountrycode,\n      fuzzy_match  w_ratio index                col_name\n 6821     success     90.0  4338  cdn-requestpullsuccess,\n      fuzzy_match  w_ratio index             col_name\n 6826        code     90.0   502  cdn-requestpullcode,\n               fuzzy_match  w_ratio index    col_name\n 6840  x-dsa-origin-status     80.0   582  cdn-status,\n                      fuzzy_match  w_ratio index    col_name\n 6845  x-tzla-edge-backend-status     80.0  2448  cdn-status,\n                    fuzzy_match  w_ratio index    col_name\n 6848  x-webaccel-origin-status     80.0  3705  cdn-status,\n      fuzzy_match  w_ratio index   col_name\n 6868       cache     90.0   219  cdn-cache,\n              fuzzy_match  w_ratio index   col_name\n 6873  x-cdn-cache-status     90.0  1530  cdn-cache,\n       fuzzy_match  w_ratio index   col_name\n 6876  x-cdn-cache     90.0  3952  cdn-cache,\n      fuzzy_match    w_ratio index   col_name\n 6878    ng-cache  82.352941  1761  cdn-cache,\n      fuzzy_match    w_ratio index   col_name\n 6880    dj-cache  82.352941  3413  cdn-cache,\n                  fuzzy_match    w_ratio index           col_name\n 6968  x-amz-meta-imageheight  87.179487  4197  x-amz-meta-height,\n                 fuzzy_match    w_ratio index          col_name\n 6982  x-amz-meta-imagewidth  86.486486  4194  x-amz-meta-width,\n           fuzzy_match    w_ratio index         col_name\n 7163  zy-cache-status  86.666667   872  yjs-cachestatus,\n           fuzzy_match  w_ratio index         col_name\n 7172  ng-cache-status     80.0  3718  yjs-cachestatus,\n      fuzzy_match  w_ratio index col_name\n 7213        hits     90.0  2343   x-hits,\n      fuzzy_match    w_ratio index col_name\n 7216   nginx-hit  81.818182   806   x-hits,\n                  fuzzy_match    w_ratio index col_name\n 7217  x-media-cdn-cache-hits  81.818182  1059   x-hits,\n             fuzzy_match    w_ratio index col_name\n 7220  x-hit-loginstatus  81.818182  1419   x-hits,\n                  fuzzy_match    w_ratio index col_name\n 7223  x-tzla-edge-cache-hits  81.818182  2422   x-hits,\n          fuzzy_match    w_ratio index col_name\n 7224  x-request-hits  81.818182  2450   x-hits,\n      fuzzy_match    w_ratio index col_name\n 7227  x-apw-hits  81.818182  3453   x-hits,\n            fuzzy_match    w_ratio index col_name\n 7228  x-cdn-cache-hits  81.818182  3919   x-hits,\n            fuzzy_match    w_ratio index col_name\n 7231  x-mrs-cache-hits  81.818182  4198   x-hits,\n               fuzzy_match    w_ratio index             col_name\n 7317  x-nos-storage-class  84.210526  1141  x-bce-storage-class,\n               fuzzy_match    w_ratio index             col_name\n 7333  x-oss-restore-cache  84.210526   648  x-bce-restore-cache,\n              fuzzy_match    w_ratio index             col_name\n 7338  x-bce-restore-tier  81.081081     0  x-bce-restore-cache,\n              fuzzy_match    w_ratio index            col_name\n 7340  x-oss-restore-tier  83.333333   648  x-bce-restore-tier,\n      fuzzy_match  w_ratio index  col_name\n 7459       cache     90.0   165  x-cached,\n      fuzzy_match  w_ratio index  col_name\n 7466    x-ncache     87.5  2778  x-cached,\n      fuzzy_match  w_ratio index  col_name\n 7468    x-mcache     87.5  3048  x-cached,\n      fuzzy_match  w_ratio index  col_name\n 7469    x-ecache     87.5  3049  x-cached,\n      fuzzy_match  w_ratio index  col_name\n 7470    vx-cache     87.5  3494  x-cached,\n           fuzzy_match  w_ratio index  col_name\n 7483  varnish-x-cache     84.0   940  x-cached,\n             fuzzy_match  w_ratio index  col_name\n 7492  x-cache-fs-status     84.0  1425  x-cached,\n        fuzzy_match  w_ratio index  col_name\n 7498  x-cache-cold     84.0  2162  x-cached,\n          fuzzy_match  w_ratio index  col_name\n 7501  x-ngenix-cache     84.0  2209  x-cached,\n              fuzzy_match  w_ratio index  col_name\n 7503  x-cb-static-cached     84.0  2452  x-cached,\n                    fuzzy_match  w_ratio index  col_name\n 7506  x-cache-status-secondary     84.0  2539  x-cached,\n          fuzzy_match  w_ratio index  col_name\n 7507  x-cache_status     84.0  2553  x-cached,\n           fuzzy_match  w_ratio index  col_name\n 7514  x-cache-srcache     84.0  3072  x-cached,\n        fuzzy_match  w_ratio index  col_name\n 7518  x-cache-blog     84.0  3437  x-cached,\n          fuzzy_match  w_ratio index  col_name\n 7521  x-cache-cookie     84.0  3504  x-cached,\n         fuzzy_match  w_ratio index  col_name\n 7525  x-cache-combo     84.0  4000  x-cached,\n              fuzzy_match  w_ratio index  col_name\n 7530  x-cache-cms-status     84.0  4436  x-cached,\n      fuzzy_match    w_ratio index  col_name\n 7535   x-rpcache  82.352941  2586  x-cached,\n      fuzzy_match  w_ratio index  col_name\n 7537     r-cache     80.0   528  x-cached,\n      fuzzy_match  w_ratio index  col_name\n 7538     x-cahce     80.0  1971  x-cached,\n      fuzzy_match  w_ratio index  col_name\n 7541     j-cache     80.0  3797  x-cached,\n            fuzzy_match    w_ratio index         col_name\n 7600  x-scs-request-id  83.870968     0  x-ba-request-id,\n                             fuzzy_match    w_ratio index   \n 7821  x-spotx-timing-spotmarket-primary  86.206897     0  \\\n \n                        col_name  \n 7821  x-spotx-timing-spotmarket  ,\n                 fuzzy_match  w_ratio index        col_name\n 8001  x-content-type-option     90.0   614  x-content-type,\n             fuzzy_match    w_ratio index           col_name\n 8134  x-vicarius-region  88.235294     0  x-vicarius-origin,\n           fuzzy_match    w_ratio index     col_name\n 8645  x-say-cacheable  84.615385  2911  x-cacheable,\n      fuzzy_match  w_ratio index           col_name\n 8694        lang     90.0  2386  x-fandom-language,\n      fuzzy_match  w_ratio index           col_name\n 8695    language     90.0  3355  x-fandom-language,\n                fuzzy_match  w_ratio index  col_name\n 8712  x-sorting-hat-shopid     84.0   562  x-shopid,\n                   fuzzy_match  w_ratio index col_name\n 9036  x-bbc-edge-cache-status     90.0    69    cache,\n                 fuzzy_match  w_ratio index col_name\n 9042  belfrage-cache-status     90.0   132    cache,\n                  fuzzy_match  w_ratio index col_name\n 9045  x-gateway-cache-status     90.0   184    cache,\n           fuzzy_match  w_ratio index col_name\n 9051  x-fastcgi-cache     90.0   346    cache,\n        fuzzy_match  w_ratio index col_name\n 9052  middle-cache     90.0   347    cache,\n       fuzzy_match  w_ratio index col_name\n 9054  micro-cache     90.0   363    cache,\n       fuzzy_match  w_ratio index col_name\n 9061  x-app-cache     90.0   484    cache,\n           fuzzy_match  w_ratio index col_name\n 9067  xm-cache-status     90.0   528    cache,\n           fuzzy_match  w_ratio index col_name\n 9074  zy-cache-status     90.0   672    cache,\n           fuzzy_match  w_ratio index col_name\n 9077  varnish-x-cache     90.0   774    cache,\n      fuzzy_match  w_ratio index col_name\n 9078  x-batcache     90.0   779    cache,\n            fuzzy_match  w_ratio index col_name\n 9089  x-proxy-cache-s3     90.0   820    cache,\n          fuzzy_match  w_ratio index col_name\n 9090  x-memory-cache     90.0   837    cache,\n          fuzzy_match  w_ratio index col_name\n 9092  x-vercel-cache     90.0   862    cache,\n            fuzzy_match  w_ratio index col_name\n 9096  contentful-cache     90.0   885    cache,\n             fuzzy_match  w_ratio index col_name\n 9101  x-hs-cache-status     90.0   931    cache,\n       fuzzy_match  w_ratio index col_name\n 9103  x-lru-cache     90.0   940    cache,\n       fuzzy_match  w_ratio index col_name\n 9104  x-mkt-cache     90.0   947    cache,\n            fuzzy_match  w_ratio index col_name\n 9106  x-nearside-cache     90.0   972    cache,\n       fuzzy_match  w_ratio index col_name\n 9111  x-cache-new     90.0  1007    cache,\n             fuzzy_match  w_ratio index col_name\n 9118  x-litespeed-cache     90.0  1113    cache,\n              fuzzy_match  w_ratio index col_name\n 9123  cache-proxy-status     90.0  1162    cache,\n          fuzzy_match  w_ratio index col_name\n 9129  x-nextjs-cache     90.0  1254    cache,\n             fuzzy_match  w_ratio index col_name\n 9130  x-cache-fs-status     90.0  1259    cache,\n              fuzzy_match    w_ratio index          col_name\n 9206  x-geo-country-code  94.117647  1668  geo-country-code,\n              fuzzy_match    w_ratio index          col_name\n 9207  geoip-country-code  94.117647  2143  geo-country-code,\n                fuzzy_match    w_ratio index          col_name\n 9210  x-geoip-country-code  88.888889  1010  geo-country-code,\n                 fuzzy_match    w_ratio index          col_name\n 9212  x-geoip2-country-code  86.486486  3052  geo-country-code,\n             fuzzy_match    w_ratio index          col_name\n 9215  x-gep-countrycode  84.848485  1412  geo-country-code,\n           fuzzy_match    w_ratio index          col_name\n 9216  hw-country-code  83.870968  3746  geo-country-code,\n              fuzzy_match    w_ratio index          col_name\n 9217  x-avg-country-code  82.352941  3241  geo-country-code,\n       fuzzy_match    w_ratio index          col_name\n 9218  geo-country  81.481481  2294  geo-country-code,\n       fuzzy_match    w_ratio index          col_name\n 9219  countrycode  81.481481  3736  geo-country-code,\n                        fuzzy_match    w_ratio index          col_name\n 9220  x-request-geoip-country-code  80.689655  3522  geo-country-code,\n             fuzzy_match  w_ratio index    col_name\n 9224  x-geo-region-code     90.0  1666  geo-region,\n               fuzzy_match  w_ratio index    col_name\n 9226  x-boston-geo-region     90.0  2391  geo-region,\n             fuzzy_match  w_ratio index  col_name\n 9234  x-client-geo-city     90.0  3350  geo-city,\n      fuzzy_match    w_ratio index  col_name\n 9235  geoip-city  88.888889  1502  geo-city,\n      fuzzy_match  w_ratio index        col_name\n 9240   geo-metro     90.0  2191  geo-metro-code,\n             fuzzy_match  w_ratio index     col_name\n 9335  x-tec-api-version     90.0  1955  api-version,\n      fuzzy_match  w_ratio index     col_name\n 9337         api     90.0  2867  api-version,\n        fuzzy_match    w_ratio index     col_name\n 9339  wadp-version  86.956522  2582  api-version,\n      fuzzy_match    w_ratio index    col_name\n 9494   x-restart  94.736842  3311  x-restarts,\n                       fuzzy_match    w_ratio index    col_name\n 9497  x-tzla-edge-client-restarts  85.263158  2198  x-restarts,\n      fuzzy_match  w_ratio index              col_name\n 9596     success     90.0  4074  _tpp_result_success_,\n      fuzzy_match  w_ratio index    col_name\n 9705  x-mnet-hli     90.0   156  x-mnet-hl2,\n      fuzzy_match    w_ratio index    col_name\n 9707    x-mnet-h  88.888889   819  x-mnet-hl2,\n           fuzzy_match  w_ratio index                 col_name\n 9805  ng-cache-status     84.0  3448  x-bbc-edge-cache-status,\n           fuzzy_match    w_ratio index                 col_name\n 9807  zy-cache-status  83.571429   602  x-bbc-edge-cache-status,\n        fuzzy_match  w_ratio index                 col_name\n 9814  x-edge-cache     82.5  2562  x-bbc-edge-cache-status,\n             fuzzy_match  w_ratio index                 col_name\n 9817  x-gg-cache-status     80.0  3320  x-bbc-edge-cache-status,\n                 fuzzy_match    w_ratio index               col_name\n 9821  x-swifty-cache-status  85.714286  3311  x-fastly-cache-status,\n               fuzzy_match  w_ratio index               col_name\n 9832  x-inap-cache-status     80.0  1826  x-fastly-cache-status,\n           fuzzy_match    w_ratio index                          col_name\n 9845  zy-cache-status  83.571429   599  x-fastly-pre-flight-cache-status,\n           fuzzy_match    w_ratio index                          col_name\n 9848  ng-cache-status  83.571429  3445  x-fastly-pre-flight-cache-status,\n            fuzzy_match    w_ratio index                          col_name\n 9856  cfp-cache-status  80.689655  3839  x-fastly-pre-flight-cache-status,\n      fuzzy_match    w_ratio index      col_name\n 9862   x-nocache  85.714286   299  x-lb-nocache,\n           fuzzy_match    w_ratio index        col_name\n 9892  hw-country-code  89.655172  3673  x-country-code,\n       fuzzy_match  w_ratio index        col_name\n 9893  countrycode     88.0  3663  x-country-code,\n              fuzzy_match  w_ratio index        col_name\n 9894  x-geo-country-code     87.5  1595  x-country-code,\n              fuzzy_match  w_ratio index        col_name\n 9895  x-avg-country-code     87.5  3168  x-country-code,\n                 fuzzy_match    w_ratio index        col_name\n 9897  x-geoip2-country-code  86.666667  2979  x-country-code,\n                        fuzzy_match    w_ratio index        col_name\n 9898  x-request-geoip-country-code  86.666667  3449  x-country-code,\n               fuzzy_match    w_ratio index        col_name\n 9899  x-country-code-real  84.848485  1337  x-country-code,\n             fuzzy_match    w_ratio index        col_name\n 9900  x-gep-countrycode  83.870968  1339  x-country-code,\n                    fuzzy_match    w_ratio index        col_name\n 9901  fastly-geoip-countrycode  83.076923  4129  x-country-code,\n                fuzzy_match    w_ratio index        col_name\n 9902  x-geoip-country-code  82.352941   937  x-country-code,\n                fuzzy_match    w_ratio index        col_name\n 9903  x-debug-country-code  82.352941  1294  x-country-code,\n              fuzzy_match  w_ratio index        col_name\n 9904  geoip-country-code    81.25  2070  x-country-code,\n           fuzzy_match    w_ratio index       col_name\n 9908  geo-postal-code  85.714286  3870  x-postal-code,\n          fuzzy_match  w_ratio index  col_name\n 9915  x-nginx-device     90.0  2990  x-device,\n             fuzzy_match  w_ratio index  col_name\n 9917  x-hbx-device-type     90.0  3299  x-device,\n              fuzzy_match  w_ratio index  col_name\n 9918  x-device-brandname     90.0  3402  x-device,\n                  fuzzy_match  w_ratio index  col_name\n 9919  x-device-mobilebrowser     90.0  3404  x-device,\n      fuzzy_match    w_ratio index  col_name\n 9923      device  85.714286  2796  x-device,\n       fuzzy_match    w_ratio index  col_name\n 9924  x-ua-device  84.210526   661  x-device,\n             fuzzy_match  w_ratio index  col_name\n 9927  x-debug-ua-device     84.0  1290  x-device,\n          fuzzy_match  w_ratio index  col_name\n 9928  x-macys-device     84.0  1918  x-device,\n        fuzzy_match  w_ratio index  col_name\n 9929  x-cms-device     84.0  3330  x-device,\n        fuzzy_match  w_ratio index col_name\n 9939  fastly-state     90.0  3044    state,\n         fuzzy_match    w_ratio index         col_name\n 9994  x-backend-end  85.714286     0  x-backend-begin,\n           fuzzy_match    w_ratio index          col_name\n 10100  continent-code  93.333333   796  x-continent-code,\n       fuzzy_match  w_ratio index          col_name\n 10102   continent     90.0  1798  x-continent-code,\n       fuzzy_match  w_ratio index          col_name\n 10103      x-cont     90.0  2672  x-continent-code,\n               fuzzy_match    w_ratio index          col_name\n 10104  geo-continent-code  88.235294  3842  x-continent-code,\n       fuzzy_match  w_ratio index             col_name\n 10145       x-pam     80.0  3283  x-amz-meta-bounds-x,\n       fuzzy_match  w_ratio index             col_name\n 10148       x-pam     80.0  3282  x-amz-meta-bounds-y,\n                   fuzzy_match  w_ratio index   col_name\n 10162  uniformat-video-answer     90.0  2708  uniformat,\n       fuzzy_match  w_ratio index col_name\n 10165    x-is-ssr     90.0  3385      ssr,\n                            fuzzy_match  w_ratio index          col_name\n 10684  x-ratelimit-used-currentrequest     90.0   556  x-ratelimit-used,\n              fuzzy_match    w_ratio index                col_name\n 10739  x-gg-cache-status  82.051282  3205  x-gateway-cache-status,\n        fuzzy_match    w_ratio index                col_name\n 10740  cache-state  81.818182  2344  x-gateway-cache-status,\n               fuzzy_match  w_ratio index                col_name\n 10743  x-ftr-cache-status     80.0  1228  x-gateway-cache-status,\n           fuzzy_match  w_ratio index                col_name\n 10745  x-cache_status     80.0  2202  x-gateway-cache-status,\n        fuzzy_match    w_ratio index              col_name\n 10755  x-skipcache  81.818182   614  x-gateway-skip-cache,\n                 fuzzy_match    w_ratio index            col_name\n 10771  geo-connection-speed  89.473684  2011  x-connection-speed,\n       fuzzy_match    w_ratio index col_name\n 10837     x-rt-ih  85.714286     0  x-rt-iq,\n       fuzzy_match    w_ratio index    col_name\n 11036    x-mnet-h  88.888889   662  x-mnet-hli,\n             fuzzy_match  w_ratio index col_name\n 11241  x-debug-v-cookie     90.0  3209  x-debug,\n          fuzzy_match  w_ratio index col_name\n 11242  x-debug-v-sub     90.0  3210  x-debug,\n                   fuzzy_match  w_ratio index col_name\n 11243  x-debug-v-jwt_type_faj     90.0  3211  x-debug,\n                                  fuzzy_match  w_ratio index col_name\n 11244  x-debug-v-fazpay-jwt-payload-claim-id     90.0  3212  x-debug,\n                               fuzzy_match  w_ratio index col_name\n 11245  x-debug-v-x-fazpay-jwt-payload-raw     90.0  3213  x-debug,\n                                         fuzzy_match  w_ratio index col_name\n 11246  x-debug-v-x-fazpay-jwt-payload-claim-premium     90.0  3214  x-debug,\n        fuzzy_match  w_ratio index col_name\n 11247  x-debug-laa     90.0  3216  x-debug,\n          fuzzy_match  w_ratio index      col_name\n 11492  x-active-time     80.0  2312  x-cache-time,\n             fuzzy_match  w_ratio index col_name\n 11502  http_status_code     90.0   301     code,\n       fuzzy_match  w_ratio index col_name\n 11519    owoxcode     90.0  1462     code,\n                 fuzzy_match  w_ratio index col_name\n 11521  x-origin-status-code     90.0  1655     code,\n             fuzzy_match  w_ratio index col_name\n 11529  x-real-http-code     90.0  2468     code,\n            fuzzy_match  w_ratio index col_name\n 11530  x-ipa-http-code     90.0  2471     code,\n            fuzzy_match  w_ratio index col_name\n 11531  x-response-code     90.0  2577     code,\n                  fuzzy_match  w_ratio index col_name\n 11551  x-response-statuscode     90.0  3686     code,\n          fuzzy_match    w_ratio index         col_name\n 11618  bili-trace-id  92.857143    14  x-bili-trace-id,\n                fuzzy_match    w_ratio index             col_name\n 11702  x-nos-storage-class  94.736842   672  x-cos-storage-class,\n              fuzzy_match    w_ratio index           col_name\n 11717  x-rgw-object-type  82.352941   143  x-cos-object-type,\n           fuzzy_match  w_ratio index  col_name\n 11746  x-request-hits     84.0  1967  x-reqgue,\n                        fuzzy_match    w_ratio index   \n 11853  access-control-allow-option  85.185185  2827  \\\n \n                           col_name  \n 11853  access-control-allow-method  ,\n       fuzzy_match  w_ratio index                     col_name\n 11854    x-method     84.0  3529  access-control-allow-method,\n          fuzzy_match    w_ratio index         col_name\n 11890  varnish-cache  92.857143  2672  x-varnish-cache,\n            fuzzy_match    w_ratio index         col_name\n 11893  varnish-x-cache  86.666667   448  x-varnish-cache,\n       fuzzy_match    w_ratio index         col_name\n 11899     r-cache  83.076923    36  x-varnish-cache,\n       fuzzy_match    w_ratio index         col_name\n 11901     j-cache  83.076923  3305  x-varnish-cache,\n                   fuzzy_match    w_ratio index         col_name\n 11904  x-varnish-cache-status  81.081081  2623  x-varnish-cache,\n       fuzzy_match  w_ratio index         col_name\n 12078    mi-cache     84.0  2723  x-fastcgi-cache,\n       fuzzy_match    w_ratio index         col_name\n 12079     r-cache  83.076923    15  x-fastcgi-cache,\n       fuzzy_match    w_ratio index         col_name\n 12081     j-cache  83.076923  3284  x-fastcgi-cache,\n       fuzzy_match  w_ratio index         col_name\n 12083  x-sc-cache     80.0  1040  x-fastcgi-cache,\n       fuzzy_match    w_ratio index      col_name\n 12087     r-cache  83.076923    14  middle-cache,\n       fuzzy_match    w_ratio index      col_name\n 12089     j-cache  83.076923  3283  middle-cache,\n       fuzzy_match  w_ratio index      col_name\n 12091    mi-cache     80.0  2722  middle-cache,\n               fuzzy_match  w_ratio index      col_name\n 12093  x-cdn-cache-status     90.0   961  cache-status,\n               fuzzy_match  w_ratio index      col_name\n 12094  x-ftr-cache-status     90.0  1064  cache-status,\n               fuzzy_match  w_ratio index      col_name\n 12095  ki-cf-cache-status     90.0  1211  cache-status,\n                           fuzzy_match  w_ratio index      col_name\n 12097  x-consent-setting-cache-status     90.0  1417  cache-status,\n                fuzzy_match  w_ratio index      col_name\n 12098  x-inap-cache-status     90.0  1548  cache-status,\n                 fuzzy_match  w_ratio index      col_name\n 12101  x-proxy-cache-status     90.0  1889  cache-status,\n                     fuzzy_match  w_ratio index      col_name\n 12102  x-cache-status-secondary     90.0  2024  cache-status,\n                   fuzzy_match  w_ratio index      col_name\n 12104  x-varnish-cache-status     90.0  2600  cache-status,\n                 fuzzy_match  w_ratio index      col_name\n 12105  x-hs-cf-cache-status     90.0  2671  cache-status,\n                  fuzzy_match  w_ratio index      col_name\n 12108  x-swifty-cache-status     90.0  3033  cache-status,\n                   fuzzy_match  w_ratio index      col_name\n 12110  x-mshield-cache-status     90.0  3664  cache-status,\n            fuzzy_match    w_ratio index      col_name\n 12112  xm-cache-status  88.888889   179  cache-status,\n            fuzzy_match    w_ratio index      col_name\n 12113  zy-cache-status  88.888889   323  cache-status,\n            fuzzy_match    w_ratio index      col_name\n 12116  ng-cache-status  88.888889  3169  cache-status,\n            fuzzy_match    w_ratio index      col_name\n 12117  bl-cache-status  88.888889  3420  cache-status,\n          fuzzy_match  w_ratio index      col_name\n 12118  x-cachestatus     88.0   645  cache-status,\n        fuzzy_match    w_ratio index      col_name\n 12119  cache-state  86.956522  2180  cache-status,\n                       fuzzy_match    w_ratio index      col_name\n 12120  x-rocket-mastercachestatus  86.086957  3412  cache-status,\n                 fuzzy_match    w_ratio index      col_name\n 12121  x-rocket-cachestatus  86.086957  3414  cache-status,\n             fuzzy_match    w_ratio index      col_name\n 12122  app-cache-status  85.714286  1097  cache-status,\n             fuzzy_match    w_ratio index      col_name\n 12124  ddg-cache-status  85.714286  1440  cache-status,\n             fuzzy_match    w_ratio index      col_name\n 12125  fss-cache-status  85.714286  1701  cache-status,\n             fuzzy_match    w_ratio index      col_name\n 12127  cfp-cache-status  85.714286  3563  cache-status,\n             fuzzy_match    w_ratio index      col_name\n 12128  wpe-cache-status  85.714286  3776  cache-status,\n           fuzzy_match    w_ratio index      col_name\n 12129  x-cache_status  84.615385  2038  cache-status,\n       fuzzy_match  w_ratio index      col_name\n 12130    x-status     84.0   380  cache-status,\n              fuzzy_match    w_ratio index      col_name\n 12131  x-hs-cache-status  82.758621   582  cache-status,\n              fuzzy_match    w_ratio index      col_name\n 12132  x-cache-fs-status  82.758621   910  cache-status,\n              fuzzy_match    w_ratio index      col_name\n 12133  x-gg-cache-status  82.758621  3041  cache-status,\n              fuzzy_match    w_ratio index      col_name\n 12134  x-lb-cache-status  82.758621  3618  cache-status,\n               fuzzy_match  w_ratio index      col_name\n 12137  cache-proxy-status     80.0   813  cache-status,\n               fuzzy_match  w_ratio index      col_name\n 12138  x-cache-cms-status     80.0  3921  cache-status,\n       fuzzy_match    w_ratio index   col_name\n 12143   barrier_3  88.888889     0  barrier_2,\n             fuzzy_match    w_ratio index             col_name\n 12223  x-do-orig-status  85.714286  1443  x-dsa-origin-status,\n       fuzzy_match    w_ratio index col_name\n 12240     j-cache  85.714286  3268  r-cache,\n           fuzzy_match    w_ratio index col_name\n 12249  x-memory-cache  83.076923   474  r-cache,\n        fuzzy_match    w_ratio index col_name\n 12255  x-lru-cache  83.076923   577  r-cache,\n        fuzzy_match    w_ratio index col_name\n 12256  x-mkt-cache  83.076923   584  r-cache,\n             fuzzy_match    w_ratio index col_name\n 12258  x-nearside-cache  83.076923   609  r-cache,\n          fuzzy_match    w_ratio index col_name\n 12270  x-local-cache  83.076923  1244  r-cache,\n            fuzzy_match    w_ratio index col_name\n 12275  x-graphql-cache  83.076923  1678  r-cache,\n            fuzzy_match    w_ratio index col_name\n 12277  x-card-l1-cache  83.076923  1760  r-cache,\n         fuzzy_match    w_ratio index col_name\n 12279  feloma-cache  83.076923  2032  r-cache,\n            fuzzy_match    w_ratio index col_name\n 12282  x-dynamic-cache  83.076923  2234  r-cache,\n         fuzzy_match    w_ratio index col_name\n 12285  x-edge-cache  83.076923  2269  r-cache,\n          fuzzy_match    w_ratio index col_name\n 12289  varnish-cache  83.076923  2635  r-cache,\n        fuzzy_match    w_ratio index col_name\n 12294  x-nxn-cache  83.076923  2752  r-cache,\n             fuzzy_match    w_ratio index col_name\n 12297  x-platform-cache  83.076923  2799  r-cache,\n            fuzzy_match    w_ratio index col_name\n 12300  x-article-cache  83.076923  2874  r-cache,\n        fuzzy_match    w_ratio index col_name\n 12302  x-pmd-cache  83.076923  3031  r-cache,\n        fuzzy_match    w_ratio index col_name\n 12325  x-ngx-cache  83.076923  3871  r-cache,\n       fuzzy_match    w_ratio index     col_name\n 12328    mi-cache  84.210526  2706  micro-cache,\n       fuzzy_match    w_ratio index     col_name\n 12330     j-cache  83.076923  3267  micro-cache,\n              fuzzy_match  w_ratio index   col_name\n 12422  x-akamai-no-cache     80.0    70  x-nocache,\n       fuzzy_match    w_ratio index        col_name\n 12471      x-city  81.818182  1817  twc-geoip-city,\n       fuzzy_match  w_ratio index           col_name\n 12480   ipcountry     80.0  3378  twc-geoip-country,\n       fuzzy_match  w_ratio index          col_name\n 12481      device     90.0  2489  twc-device-class,\n                 fuzzy_match  w_ratio index                   col_name\n 12517  x-amz-meta-processed     80.0  2686  x-amz-meta-autocompressed,\n       fuzzy_match  w_ratio index col_name\n 12557       x-cf2     80.0     4    x-cf3,\n       fuzzy_match  w_ratio index col_name\n 12565           f     90.0  3093   cf4age,\n                fuzzy_match  w_ratio index               col_name\n 12693  x-epic-cookie-found     80.0     2  x-epic-cookie-consent,\n                 fuzzy_match    w_ratio index                  col_name\n 12769  x-amz-meta-processed  90.909091  2656  x-amz-meta-img-processed,\n         fuzzy_match    w_ratio index   col_name\n 12785  x-pb-browser  85.714286  2974  x-browser,\n               fuzzy_match    w_ratio index   col_name\n 12786  x-detected-browser  84.705882   744  x-browser,\n                fuzzy_match  w_ratio index          col_name\n 12901  x-im-policy-version     80.0  1438  x-dm-api-version,\n               fuzzy_match    w_ratio index             col_name\n 12948  x-oss-restore-tier  81.081081     0  x-oss-restore-cache,\n                fuzzy_match    w_ratio index   col_name\n 12952  x-contentful-region  84.705882   412  ld-region,\n       fuzzy_match    w_ratio index   col_name\n 12961    clientip  94.117647   649  client-ip,\n            fuzzy_match  w_ratio index   col_name\n 12965  incap-client-ip     90.0  1131  client-ip,\n           fuzzy_match  w_ratio index   col_name\n 12967  x-ks-client-ip     90.0  1586  client-ip,\n               fuzzy_match  w_ratio index   col_name\n 12968  x-deezer-client-ip     90.0  1659  client-ip,\n                    fuzzy_match  w_ratio index   col_name\n 12969  x-boston-true-client-ip     90.0  1923  client-ip,\n       fuzzy_match    w_ratio index   col_name\n 12972   client.ip  88.888889  1424  client-ip,\n          fuzzy_match    w_ratio index   col_name\n 12974  x-ksclient-ip  81.818182  1579  client-ip,\n                  fuzzy_match  w_ratio index   col_name\n 12977  x-ratelimit-client-id     80.0  3044  client-ip,\n           fuzzy_match  w_ratio index   col_name\n 12978  true_client_ip     80.0  3202  client-ip,\n       fuzzy_match    w_ratio index            col_name\n 12998      cached  81.818182    85  x-mkto-nginx-cache,\n         fuzzy_match    w_ratio index     col_name\n 13014  x-wadp-cache  86.956522  2122  x-app-cache,\n       fuzzy_match    w_ratio index     col_name\n 13015  x-fa-cache  85.714286  3302  x-app-cache,\n       fuzzy_match    w_ratio index     col_name\n 13017  x-na-cache  85.714286  3552  x-app-cache,\n       fuzzy_match    w_ratio index     col_name\n 13020     j-cache  83.076923  3146  x-app-cache,\n        fuzzy_match    w_ratio index     col_name\n 13022  x-pmd-cache  81.818182  2909  x-app-cache,\n       fuzzy_match  w_ratio index     col_name\n 13024   x-rpcache     80.0  1935  x-app-cache,\n       fuzzy_match    w_ratio index   col_name\n 13083  pcache-hit  94.736842  1629  cache-hit,\n       fuzzy_match    w_ratio index    col_name\n 13108    cdn-name  88.888889  2926  x-cdn-name,\n                  fuzzy_match    w_ratio index        col_name\n 13186  timing-allowed-origin  83.571429  3656  allowedorigins,\n          fuzzy_match    w_ratio index                   col_name\n 13237  x-cachestatus  83.076923   481  x-datastream-cache-status,\n           fuzzy_match    w_ratio index         col_name\n 13303  x-cache_status  89.655172  1858  xm-cache-status,\n              fuzzy_match  w_ratio index         col_name\n 13304  x-hs-cache-status     87.5   402  xm-cache-status,\n              fuzzy_match  w_ratio index         col_name\n 13306  x-gg-cache-status     87.5  2861  xm-cache-status,\n              fuzzy_match  w_ratio index         col_name\n 13307  x-lb-cache-status     87.5  3438  xm-cache-status,\n            fuzzy_match    w_ratio index         col_name\n 13309  zy-cache-status  86.666667   143  xm-cache-status,\n            fuzzy_match    w_ratio index         col_name\n 13311  ng-cache-status  86.666667  2989  xm-cache-status,\n            fuzzy_match    w_ratio index         col_name\n 13312  bl-cache-status  86.666667  3240  xm-cache-status,\n               fuzzy_match    w_ratio index         col_name\n 13313  x-cdn-cache-status  84.848485   781  xm-cache-status,\n               fuzzy_match    w_ratio index         col_name\n 13314  x-ftr-cache-status  84.848485   884  xm-cache-status,\n               fuzzy_match    w_ratio index         col_name\n 13316  x-cache-cms-status  84.848485  3741  xm-cache-status,\n             fuzzy_match    w_ratio index         col_name\n 13318  app-cache-status  83.870968   917  xm-cache-status,\n             fuzzy_match    w_ratio index         col_name\n 13320  ddg-cache-status  83.870968  1260  xm-cache-status,\n             fuzzy_match    w_ratio index         col_name\n 13321  fss-cache-status  83.870968  1521  xm-cache-status,\n             fuzzy_match    w_ratio index         col_name\n 13322  cfp-cache-status  83.870968  3383  xm-cache-status,\n             fuzzy_match    w_ratio index         col_name\n 13323  wpe-cache-status  83.870968  3596  xm-cache-status,\n                           fuzzy_match    w_ratio index         col_name\n 13324  x-consent-setting-cache-status  83.571429  1237  xm-cache-status,\n                fuzzy_match    w_ratio index         col_name\n 13328  x-inap-cache-status  82.352941  1368  xm-cache-status,\n                   fuzzy_match    w_ratio index         col_name\n 13330  x-mshield-cache-status  81.081081  3484  xm-cache-status,\n                 fuzzy_match  w_ratio index         col_name\n 13333  x-proxy-cache-status     80.0  1709  xm-cache-status,\n                 fuzzy_match  w_ratio index         col_name\n 13334  x-hs-cf-cache-status     80.0  2491  xm-cache-status,\n                  fuzzy_match    w_ratio index                 col_name\n 13380  x-cachiness-edge-rule  86.363636     3  x-cachiness-shield-rule,\n                               fuzzy_match    w_ratio index   \n 13390  x-cachiness-edge-surrogate-control  91.428571     4  \\\n \n                                    col_name  \n 13390  x-cachiness-shield-surrogate-control  ,\n                      fuzzy_match  w_ratio index                 col_name\n 13406  x-kunkka-upstream-latency     87.5  2881  x-kong-upstream-latency,\n                     fuzzy_match    w_ratio index                 col_name\n 13407  x-janus-upstream-latency  85.106383    24  x-kong-upstream-latency,\n                       fuzzy_match    w_ratio index                 col_name\n 13408  x-gateway-upstream-latency  81.632653  2748  x-kong-upstream-latency,\n                   fuzzy_match    w_ratio index              col_name\n 13409  x-kunkka-proxy-latency  85.714286  2881  x-kong-proxy-latency,\n                  fuzzy_match    w_ratio index              col_name\n 13410  x-janus-proxy-latency  82.926829    24  x-kong-proxy-latency,\n                         fuzzy_match    w_ratio index   \n 13411  x-cachiness-edge-desired-ttl  89.655172     0  \\\n \n                              col_name  \n 13411  x-cachiness-shield-desired-ttl  ,\n                        fuzzy_match  w_ratio index           col_name\n 13436  x-datadog-sampling-priority   84.375     0  x-datadog-sampled,\n            fuzzy_match  w_ratio index col_name\n 13446  cached_response     90.0   599   cached,\n              fuzzy_match  w_ratio index col_name\n 13449  x-cached-response     90.0  1685   cached,\n             fuzzy_match  w_ratio index col_name\n 13452  x-jg-imagecached     90.0  2986   cached,\n         fuzzy_match    w_ratio index col_name\n 13479  x-from-cache  81.818182   841   cached,\n            fuzzy_match    w_ratio index col_name\n 13480  asos-from-cache  81.818182   923   cached,\n           fuzzy_match    w_ratio index col_name\n 13512  x-enable-cache  81.818182  2022   cached,\n                  fuzzy_match    w_ratio index col_name\n 13518  x-spreaker-from-cache  81.818182  2273   cached,\n         fuzzy_match    w_ratio index col_name\n 13531  gotham-cache  81.818182  2618   cached,\n                      fuzzy_match    w_ratio index                  col_name\n 13564  x-kunkka-upstream-latency  81.632653  2856  x-janus-upstream-latency,\n                  fuzzy_match  w_ratio index                  col_name\n 13565  x-janus-proxy-latency     80.0     0  x-janus-upstream-latency,\n       fuzzy_match    w_ratio index     col_name\n 13645    ng-cache  84.210526   951  nginx-cache,\n       fuzzy_match    w_ratio index     col_name\n 13647     j-cache  83.076923  3041  nginx-cache,\n        fuzzy_match    w_ratio index     col_name\n 13648  x-ngx-cache  81.818182  3644  nginx-cache,\n           fuzzy_match  w_ratio index     col_name\n 13649  x-ngenix-cache     80.0  1453  nginx-cache,\n       fuzzy_match    w_ratio index          col_name\n 13900      v-type  81.818182  1322  x-hcs-proxy-type,\n                fuzzy_match    w_ratio index        col_name\n 14105  x-bolt-device-group  84.848485     1  x-device-group,\n            fuzzy_match    w_ratio index         col_name\n 14161  ng-cache-status  86.666667  2845  zy-cache-status,\n             fuzzy_match    w_ratio index         col_name\n 14170  cfp-cache-status  83.870968  3239  zy-cache-status,\n                           fuzzy_match    w_ratio index         col_name\n 14172  x-consent-setting-cache-status  83.571429  1093  zy-cache-status,\n              fuzzy_match  w_ratio index         col_name\n 14178  x-gg-cache-status    81.25  2717  zy-cache-status,\n                                    fuzzy_match    w_ratio index   \n 14186  x-tb-optimization-original-content-size  81.818182     2  \\\n \n                           col_name  \n 14186  x-tb-oa-originalcontentsize  ,\n                                    fuzzy_match    w_ratio index   \n 14188  x-tb-optimization-original-content-type  81.818182     2  \\\n \n                           col_name  \n 14188  x-tb-oa-originalcontenttype  ,\n                                   fuzzy_match    w_ratio index   \n 14200  x-tb-optimization-resized-content-size  85.714286     2  \\\n \n                                       col_name  \n 14200  x-tb-optimization-original-content-size  ,\n                               fuzzy_match    w_ratio index   \n 14281  x-slack-edge-shared-secret-outcome  92.063492     1  \\\n \n                             col_name  \n 14281  x-slack-shared-secret-outcome  ,\n              fuzzy_match  w_ratio index  col_name\n 14474  x-hs-cache-status     84.0   201  x-status,\n               fuzzy_match  w_ratio index  col_name\n 14477  cache-proxy-status     84.0   432  x-status,\n              fuzzy_match  w_ratio index  col_name\n 14479  x-cache-fs-status     84.0   529  x-status,\n               fuzzy_match  w_ratio index  col_name\n 14480  x-cdn-cache-status     84.0   580  x-status,\n               fuzzy_match  w_ratio index  col_name\n 14481  x-ftr-cache-status     84.0   683  x-status,\n             fuzzy_match  w_ratio index  col_name\n 14482  app-cache-status     84.0   716  x-status,\n                           fuzzy_match  w_ratio index  col_name\n 14489  x-consent-setting-cache-status     84.0  1036  x-status,\n             fuzzy_match  w_ratio index  col_name\n 14490  ddg-cache-status     84.0  1059  x-status,\n                fuzzy_match  w_ratio index  col_name\n 14492  x-next-boost-status     84.0  1101  x-status,\n                fuzzy_match  w_ratio index  col_name\n 14493  x-inap-cache-status     84.0  1167  x-status,\n             fuzzy_match  w_ratio index  col_name\n 14497  fss-cache-status     84.0  1320  x-status,\n                 fuzzy_match  w_ratio index  col_name\n 14504  x-proxy-cache-status     84.0  1508  x-status,\n                   fuzzy_match  w_ratio index  col_name\n 14511  x-varnish-cache-status     84.0  2219  x-status,\n                 fuzzy_match  w_ratio index  col_name\n 14515  x-hs-cf-cache-status     84.0  2290  x-status,\n                  fuzzy_match  w_ratio index  col_name\n 14520  x-swifty-cache-status     84.0  2652  x-status,\n              fuzzy_match  w_ratio index  col_name\n 14522  x-gg-cache-status     84.0  2660  x-status,\n            fuzzy_match  w_ratio index  col_name\n 14526  ng-cache-status     84.0  2788  x-status,\n            fuzzy_match  w_ratio index  col_name\n 14528  bl-cache-status     84.0  3039  x-status,\n             fuzzy_match  w_ratio index  col_name\n 14529  cfp-cache-status     84.0  3182  x-status,\n              fuzzy_match  w_ratio index  col_name\n 14530  x-lb-cache-status     84.0  3237  x-status,\n                   fuzzy_match  w_ratio index  col_name\n 14531  x-mshield-cache-status     84.0  3283  x-status,\n         fuzzy_match  w_ratio index  col_name\n 14532  x-ssg-status     84.0  3326  x-status,\n                       fuzzy_match  w_ratio index  col_name\n 14533  x-ftr-cache-resized-status     84.0  3344  x-status,\n             fuzzy_match  w_ratio index  col_name\n 14535  wpe-cache-status     84.0  3395  x-status,\n               fuzzy_match  w_ratio index  col_name\n 14536  x-cache-cms-status     84.0  3540  x-status,\n                  fuzzy_match    w_ratio index               col_name\n 14575  x-amz-meta-file-group  80.952381     1  x-amz-meta-file-owner,\n       fuzzy_match  w_ratio index     col_name\n 14632      device     90.0  2134  x-ua-device,\n               fuzzy_match  w_ratio index     col_name\n 14634  x-ua-device-simple     90.0  3012  x-ua-device,\n              fuzzy_match    w_ratio index     col_name\n 14635  x-debug-ua-device  85.714286   628  x-ua-device,\n           fuzzy_match  w_ratio index     col_name\n 14637  x-macys-device     80.0  1256  x-ua-device,\n                           fuzzy_match    w_ratio index   \n 14644  apple-news-services-parsed-url  85.245902     0  \\\n \n                               col_name  \n 14644  apple-news-services-request-url  ,\n                           fuzzy_match    w_ratio index   \n 14663  x-swiftype-frontend-datacenter  84.745763  1803  \\\n \n                             col_name  \n 14663  x-swiftype-backend-datacenter  ,\n       fuzzy_match  w_ratio index    col_name\n 14754  x-lb-cache     80.0  1727  x-batcache,\n       fuzzy_match  w_ratio index    col_name\n 14755  x-fa-cache     80.0  3007  x-batcache,\n       fuzzy_match  w_ratio index    col_name\n 14757  x-na-cache     80.0  3257  x-batcache,\n                    fuzzy_match    w_ratio index          col_name\n 14881  x-boston-true-client-ip  82.051282  1603  x-true-client-ip,\n       fuzzy_match  w_ratio index          col_name\n 14882   client.ip     80.0  1104  x-true-client-ip,\n           fuzzy_match  w_ratio index          col_name\n 14883  x-ks-client-ip     80.0  1266  x-true-client-ip,\n           fuzzy_match  w_ratio index          col_name\n 14884  true_client_ip     80.0  2882  x-true-client-ip,\n                 fuzzy_match  w_ratio index     col_name\n 14948  x-skipcache-by-query     90.0     0  x-skipcache,\n                fuzzy_match    w_ratio index     col_name\n 14952  x-skip-cache-cookie  81.818182   132  x-skipcache,\n       fuzzy_match    w_ratio index col_name\n 15038     x-utime  92.307692  2086   x-time,\n                          fuzzy_match    w_ratio index col_name\n 15070  x-tzla-edge-backend-conn-time  81.818182  1407   x-time,\n          fuzzy_match    w_ratio index col_name\n 15072  x-active-time  81.818182  1772   x-time,\n                       fuzzy_match    w_ratio index   \n 15130  x-encoded-content-encoding  86.792453  3400  \\\n \n                           col_name  \n 15130  x-consumed-content-encoding  ,\n       fuzzy_match    w_ratio index        col_name\n 15191     j-cache  83.076923  2793  x-memory-cache,\n       fuzzy_match    w_ratio index        col_name\n 15271  x-vc-cache  83.333333   873  x-vercel-cache,\n       fuzzy_match    w_ratio index        col_name\n 15273     j-cache  83.076923  2768  x-vercel-cache,\n        fuzzy_match  w_ratio index        col_name\n 15274  x-vhe-cache     80.0  2254  x-vercel-cache,\n       fuzzy_match    w_ratio index     col_name\n 15313  x-na-cache  85.714286  3161  x-qnm-cache,\n       fuzzy_match    w_ratio index     col_name\n 15314    x-ncache  84.210526  1736  x-qnm-cache,\n       fuzzy_match    w_ratio index     col_name\n 15315    x-mcache  84.210526  2006  x-qnm-cache,\n       fuzzy_match    w_ratio index     col_name\n 15317     j-cache  83.076923  2755  x-qnm-cache,\n        fuzzy_match    w_ratio index     col_name\n 15318  x-mkt-cache  81.818182    71  x-qnm-cache,\n        fuzzy_match    w_ratio index     col_name\n 15320  x-nxn-cache  81.818182  2239  x-qnm-cache,\n        fuzzy_match    w_ratio index     col_name\n 15321  x-pmd-cache  81.818182  2518  x-qnm-cache,\n        fuzzy_match    w_ratio index     col_name\n 15323  x-cdn-cache  81.818182  2856  x-qnm-cache,\n        fuzzy_match    w_ratio index     col_name\n 15324  x-mrs-cache  81.818182  3136  x-qnm-cache,\n        fuzzy_match    w_ratio index     col_name\n 15325  x-ngx-cache  81.818182  3358  x-qnm-cache,\n                     fuzzy_match  w_ratio index         col_name\n 15334  x-ratelimit-limit-minute     90.0  3169  ratelimit-limit,\n                         fuzzy_match    w_ratio index             col_name\n 15348  x-ratelimit-remaining-minute  80.851064  3169  ratelimit-remaining,\n       fuzzy_match    w_ratio index          col_name\n 15373     j-cache  83.076923  2745  contentful-cache,\n         fuzzy_match  w_ratio index                    col_name\n 15419  x-lo-country     82.5   189  browser-akamai-loc-country,\n        fuzzy_match  w_ratio index                    col_name\n 15420  arc-country     81.0  2615  browser-akamai-loc-country,\n       fuzzy_match  w_ratio index       col_name\n 15423         ttl     90.0   622  x-varnish-ttl,\n       fuzzy_match  w_ratio index col_name\n 15432  geoip-city     90.0   607     city,\n       fuzzy_match  w_ratio index col_name\n 15433  x-geo-city     90.0   663     city,\n       fuzzy_match  w_ratio index col_name\n 15434     mm_city     90.0  1063     city,\n       fuzzy_match  w_ratio index col_name\n 15435      x-city     90.0  1299     city,\n               fuzzy_match  w_ratio index col_name\n 15437  x-geo-ip-city-name     90.0  1842     city,\n               fuzzy_match  w_ratio index col_name\n 15438  x-geoip2-city-name     90.0  2156     city,\n              fuzzy_match  w_ratio index col_name\n 15439  x-client-geo-city     90.0  2455     city,\n          fuzzy_match  w_ratio index col_name\n 15440  prometeo-city     90.0  2557     city,\n       fuzzy_match  w_ratio index        col_name\n 15442   continent     90.0  1001  continent-code,\n               fuzzy_match  w_ratio index        col_name\n 15443  geo-continent-code     87.5  3045  continent-code,\n        fuzzy_match    w_ratio index      col_name\n 15444  countrycode  95.652174  2837  country-code,\n                 fuzzy_match  w_ratio index      col_name\n 15445  x-geoip-country-code     90.0   111  country-code,\n                 fuzzy_match  w_ratio index      col_name\n 15446  x-debug-country-code     90.0   468  country-code,\n                fuzzy_match  w_ratio index      col_name\n 15447  x-country-code-real     90.0   511  country-code,\n               fuzzy_match  w_ratio index      col_name\n 15448  x-geo-country-code     90.0   769  country-code,\n               fuzzy_match  w_ratio index      col_name\n 15449  geoip-country-code     90.0  1244  country-code,\n                  fuzzy_match  w_ratio index      col_name\n 15451  x-geoip2-country-code     90.0  2153  country-code,\n               fuzzy_match  w_ratio index      col_name\n 15452  x-avg-country-code     90.0  2342  country-code,\n                         fuzzy_match  w_ratio index      col_name\n 15453  x-request-geoip-country-code     90.0  2623  country-code,\n            fuzzy_match    w_ratio index      col_name\n 15454  hw-country-code  88.888889  2847  country-code,\n                     fuzzy_match    w_ratio index      col_name\n 15456  fastly-geoip-countrycode  86.086957  3303  country-code,\n                   fuzzy_match  w_ratio index        col_name\n 15496  x-hs-cf-lambda-enforce     90.0     0  x-hs-cf-lambda,\n                 fuzzy_match    w_ratio index           col_name\n 15529  x-hs-cf-cache-status  91.891892  2088  x-hs-cache-status,\n              fuzzy_match    w_ratio index           col_name\n 15530  x-gg-cache-status  88.235294  2458  x-hs-cache-status,\n              fuzzy_match    w_ratio index           col_name\n 15531  x-lb-cache-status  88.235294  3035  x-hs-cache-status,\n               fuzzy_match    w_ratio index           col_name\n 15534  x-cdn-cache-status  85.714286   378  x-hs-cache-status,\n               fuzzy_match    w_ratio index           col_name\n 15535  x-ftr-cache-status  85.714286   481  x-hs-cache-status,\n             fuzzy_match    w_ratio index           col_name\n 15538  fss-cache-status  84.848485  1118  x-hs-cache-status,\n                  fuzzy_match    w_ratio index           col_name\n 15539  x-swifty-cache-status  84.210526  2450  x-hs-cache-status,\n           fuzzy_match    w_ratio index           col_name\n 15540  x-cache_status  83.870968  1455  x-hs-cache-status,\n                fuzzy_match    w_ratio index           col_name\n 15541  x-inap-cache-status  83.333333   965  x-hs-cache-status,\n              fuzzy_match    w_ratio index           col_name\n 15542  x-cache-fs-status  82.352941   327  x-hs-cache-status,\n                   fuzzy_match    w_ratio index           col_name\n 15544  x-varnish-cache-status  82.051282  2017  x-hs-cache-status,\n                   fuzzy_match    w_ratio index           col_name\n 15545  x-mshield-cache-status  82.051282  3081  x-hs-cache-status,\n        fuzzy_match    w_ratio index           col_name\n 15546  cache-state  81.818182  1597  x-hs-cache-status,\n            fuzzy_match  w_ratio index           col_name\n 15548  ng-cache-status    81.25  2586  x-hs-cache-status,\n            fuzzy_match  w_ratio index           col_name\n 15549  bl-cache-status    81.25  2837  x-hs-cache-status,\n                 fuzzy_match    w_ratio index           col_name\n 15550  x-proxy-cache-status  81.081081  1306  x-hs-cache-status,\n       fuzzy_match  w_ratio index           col_name\n 15551  x-sc-cache     81.0   455  x-hs-cache-status,\n               fuzzy_match  w_ratio index           col_name\n 15554  x-cache-cms-status     80.0  3338  x-hs-cache-status,\n       fuzzy_match    w_ratio index     col_name\n 15593  x-lb-cache  85.714286  1566  x-lru-cache,\n       fuzzy_match    w_ratio index     col_name\n 15595     j-cache  83.076923  2690  x-lru-cache,\n       fuzzy_match  w_ratio index     col_name\n 15599   x-rpcache     80.0  1479  x-lru-cache,\n            fuzzy_match  w_ratio index    col_name\n 15602  x-wp-totalpages     90.0     0  x-wp-total,\n       fuzzy_match  w_ratio index    col_name\n 15603       total     90.0   823  x-wp-total,\n       fuzzy_match  w_ratio index         col_name\n 15604       total     90.0   822  x-wp-totalpages,\n       fuzzy_match    w_ratio index     col_name\n 15629     j-cache  83.076923  2683  x-mkt-cache,\n        fuzzy_match    w_ratio index     col_name\n 15630  x-pmd-cache  81.818182  2446  x-mkt-cache,\n       fuzzy_match  w_ratio index                        col_name\n 15639       x-pam     80.0  2450  x-amzn-remapped-content-length,\n                 fuzzy_match  w_ratio index       col_name\n 15646  x-origin-status-code     86.4   981  x-status-code,\n                  fuzzy_match  w_ratio index       col_name\n 15648  x-response-statuscode     82.5  3012  x-status-code,\n       fuzzy_match    w_ratio index col_name\n 15742       grace  83.333333   216  x-grace,\n       fuzzy_match    w_ratio index          col_name\n 15750     j-cache  83.076923  2658  x-nearside-cache,\n                 fuzzy_match    w_ratio index   col_name\n 15784  x-cache-only-varnish  84.705882  1325  x-cache-1,\n       fuzzy_match    w_ratio index col_name\n 15971       x-klb  88.888889  1654     x-lb,\n       fuzzy_match    w_ratio index     col_name\n 16012  x-cache-nx  85.714286  3114  x-cache-new,\n                  fuzzy_match    w_ratio index              col_name\n 16054  x-geoip2-country-code  97.560976  2041  x-geoip-country-code,\n               fuzzy_match    w_ratio index              col_name\n 16055  x-geo-country-code  94.736842   657  x-geoip-country-code,\n               fuzzy_match    w_ratio index              col_name\n 16056  geoip-country-code  94.736842  1132  x-geoip-country-code,\n              fuzzy_match    w_ratio index              col_name\n 16057  x-gep-countrycode  91.891892   401  x-geoip-country-code,\n       fuzzy_match  w_ratio index              col_name\n 16060       x-geo     90.0  1761  x-geoip-country-code,\n               fuzzy_match    w_ratio index              col_name\n 16063  x-avg-country-code  84.210526  2230  x-geoip-country-code,\n                         fuzzy_match    w_ratio index              col_name\n 16064  x-request-geoip-country-code  83.333333  2511  x-geoip-country-code,\n        fuzzy_match    w_ratio index              col_name\n 16066  countrycode  81.818182  2725  x-geoip-country-code,\n                     fuzzy_match    w_ratio index              col_name\n 16067  fastly-geoip-countrycode  81.818182  3191  x-geoip-country-code,\n                 fuzzy_match  w_ratio index              col_name\n 16068  x-debug-country-code     80.0   356  x-geoip-country-code,\n       fuzzy_match  w_ratio index              col_name\n 16070   ipcountry     80.0  2749  x-geoip-country-code,\n              fuzzy_match    w_ratio index             col_name\n 16071  x-geo-region-code  94.444444   655  x-geoip-region-code,\n          fuzzy_match  w_ratio index             col_name\n 16078  x-region-code    81.25   888  x-geoip-region-code,\n                      fuzzy_match    w_ratio index col_name\n 16101  x-pagination-current-page  81.818182  2688   x-page,\n        fuzzy_match    w_ratio index     col_name\n 16145  x-prod-n-01  90.909091     1  x-prod-a-01,\n        fuzzy_match    w_ratio index     col_name\n 16146  x-prod-n-02  81.818182     0  x-prod-a-01,\n        fuzzy_match    w_ratio index     col_name\n 16147  x-prod-n-01  90.909091     0  x-prod-n-02,\n            fuzzy_match    w_ratio index                      col_name\n 16157  x-goog-meta-spa  80.689655     8  x-goog-meta-marvel_test_mode,\n         fuzzy_match  w_ratio index                        col_name\n 16159  x-goog-meta-     90.0   262  x-goog-meta-sdk_canonical_host,\n                               fuzzy_match  w_ratio index   \n 16160  x-goog-meta-sdk_canonical_protocol     87.5     3  \\\n \n                              col_name  \n 16160  x-goog-meta-sdk_canonical_host  ,\n         fuzzy_match  w_ratio index                        col_name\n 16176  x-goog-meta-     90.0   259  x-goog-meta-marvel_customer_id,\n         fuzzy_match  w_ratio index                            col_name\n 16179  x-goog-meta-     90.0   258  x-goog-meta-sdk_canonical_protocol,\n         fuzzy_match  w_ratio index                   col_name\n 16183  x-goog-meta-     90.0   257  x-goog-meta-sdk_whitelist,\n            fuzzy_match    w_ratio index   \n 16187  x-goog-meta-spa  83.571429     1  \\\n \n                                                 col_name  \n 16187  x-goog-meta-sdk_request_parameters_case_sensitive  ,\n            fuzzy_match  w_ratio index                            col_name\n 16189  x-goog-meta-spa     80.0     0  x-goog-meta-disable_debug_elements,\n                     fuzzy_match  w_ratio index         col_name\n 16200  x-goog-meta-content_only     80.0     4  x-goog-meta-spa,\n       fuzzy_match  w_ratio index col_name\n 16301  origin-env     90.0  1904      env,\n       fuzzy_match  w_ratio index                         col_name\n 16353      device     90.0  1794  x-akamai-device-characteristics,\n         fuzzy_match  w_ratio index       col_name\n 16359  x-lo-country     96.0     2  x-log-country,\n           fuzzy_match    w_ratio index       col_name\n 16360  x-loom-country  88.888889  1666  x-log-country,\n         fuzzy_match  w_ratio index       col_name\n 16365  x-nf-country     80.0  1873  x-log-country,\n         fuzzy_match  w_ratio index       col_name\n 16367  x-ym-country     80.0  2688  x-log-country,\n              fuzzy_match  w_ratio index       col_name\n 16368  x-berlioz-country     80.0  3086  x-log-country,\n           fuzzy_match    w_ratio index      col_name\n 16385  x-loom-country  92.307692  1663  x-lo-country,\n         fuzzy_match    w_ratio index      col_name\n 16389  x-nf-country  83.333333  1870  x-lo-country,\n         fuzzy_match    w_ratio index      col_name\n 16390  x-ym-country  83.333333  2685  x-lo-country,\n              fuzzy_match    w_ratio index      col_name\n 16391  x-berlioz-country  82.758621  3083  x-lo-country,\n            fuzzy_match    w_ratio index      col_name\n 16392  x-proxy-country  81.481481  1753  x-lo-country,\n       fuzzy_match  w_ratio index           col_name\n 16553    dj-cache     84.0  2079  x-litespeed-cache,\n       fuzzy_match    w_ratio index           col_name\n 16555     j-cache  83.076923  2517  x-litespeed-cache,\n               fuzzy_match  w_ratio index   col_name\n 16599  client-geo-country     80.0   788  clientgeo,\n       fuzzy_match    w_ratio index  col_name\n 16609   client.ip  94.117647   774  clientip,\n       fuzzy_match    w_ratio index               col_name\n 16636      x-menv  81.818182  2928  x-environment-context,\n                   fuzzy_match   w_ratio index               col_name\n 16751  x-request-recalculated  83.72093     0  x-request-revalidated,\n              fuzzy_match  w_ratio index         col_name\n 16813  x-cached-response     87.5  1085  cached_response,\n        fuzzy_match    w_ratio index     col_name\n 16905  x-instana-s  90.909091     0  x-instana-t,\n       fuzzy_match  w_ratio index      col_name\n 16922       x-geo     80.0  1605  x-google-tld,\n            fuzzy_match    w_ratio index          col_name\n 16951  ihg-environment  83.870968  1301  x-ah-environment,\n            fuzzy_match    w_ratio index         col_name\n 17136  vnd.eo.trace-id  86.666667     4  vnd-eo-trace-id,\n                 fuzzy_match    w_ratio index           col_name\n 17138  vnd.odesk.request-id  86.486486     0  vnd.eo.request-id,\n           fuzzy_match    w_ratio index        col_name\n 17146  vnd.eo.span-id  85.714286     2  vnd-eo-span-id,\n                  fuzzy_match   w_ratio index               col_name\n 17150  vnd.eo.parent-span-id  90.47619     2  vnd-eo-parent-span-id,\n       fuzzy_match    w_ratio index        col_name\n 17310     j-cache  83.076923  2376  x-nextjs-cache,\n        fuzzy_match  w_ratio index        col_name\n 17311  x-nxn-cache     80.0  1860  x-nextjs-cache,\n        fuzzy_match  w_ratio index        col_name\n 17312  x-ngx-cache     80.0  2979  x-nextjs-cache,\n       fuzzy_match  w_ratio index           col_name\n 17330    x-mcache     84.0  1622  x-cache-fs-status,\n              fuzzy_match    w_ratio index           col_name\n 17335  x-gg-cache-status  82.352941  2130  x-cache-fs-status,\n ...]"
     },
     "execution_count": 35,
     "metadata": {},
     "output_type": "execute_result"
    }
   ],
   "source": [
    "similar_values"
   ],
   "metadata": {
    "collapsed": false
   }
  },
  {
   "cell_type": "code",
   "execution_count": 36,
   "outputs": [],
   "source": [
    "similar_values = pd.concat(similar_values, ignore_index=True)"
   ],
   "metadata": {
    "collapsed": false
   }
  },
  {
   "cell_type": "code",
   "execution_count": 37,
   "outputs": [
    {
     "data": {
      "text/plain": "             fuzzy_match    w_ratio index      col_name\n0                pragrma  92.307692  3532        pragma\n1       pragma-directive  90.000000  2534        pragma\n2                 pramga  83.333333  1041        pragma\n3           content_type  91.666667  1449  content-type\n4           contetn-type  91.666667  4032  content-type\n...                  ...        ...   ...           ...\n1634          x-cache-nx  80.000000     3    x-cache-vf\n1635  x-cache-cms-status  80.000000   151    x-cache-vf\n1636          x-cache-nx  80.000000     0    x-cache-ve\n1637  x-cache-cms-status  80.000000   148    x-cache-ve\n1638    memory-svg-cache  85.714286     1  memory-cache\n\n[1639 rows x 4 columns]",
      "text/html": "<div>\n<style scoped>\n    .dataframe tbody tr th:only-of-type {\n        vertical-align: middle;\n    }\n\n    .dataframe tbody tr th {\n        vertical-align: top;\n    }\n\n    .dataframe thead th {\n        text-align: right;\n    }\n</style>\n<table border=\"1\" class=\"dataframe\">\n  <thead>\n    <tr style=\"text-align: right;\">\n      <th></th>\n      <th>fuzzy_match</th>\n      <th>w_ratio</th>\n      <th>index</th>\n      <th>col_name</th>\n    </tr>\n  </thead>\n  <tbody>\n    <tr>\n      <th>0</th>\n      <td>pragrma</td>\n      <td>92.307692</td>\n      <td>3532</td>\n      <td>pragma</td>\n    </tr>\n    <tr>\n      <th>1</th>\n      <td>pragma-directive</td>\n      <td>90.000000</td>\n      <td>2534</td>\n      <td>pragma</td>\n    </tr>\n    <tr>\n      <th>2</th>\n      <td>pramga</td>\n      <td>83.333333</td>\n      <td>1041</td>\n      <td>pragma</td>\n    </tr>\n    <tr>\n      <th>3</th>\n      <td>content_type</td>\n      <td>91.666667</td>\n      <td>1449</td>\n      <td>content-type</td>\n    </tr>\n    <tr>\n      <th>4</th>\n      <td>contetn-type</td>\n      <td>91.666667</td>\n      <td>4032</td>\n      <td>content-type</td>\n    </tr>\n    <tr>\n      <th>...</th>\n      <td>...</td>\n      <td>...</td>\n      <td>...</td>\n      <td>...</td>\n    </tr>\n    <tr>\n      <th>1634</th>\n      <td>x-cache-nx</td>\n      <td>80.000000</td>\n      <td>3</td>\n      <td>x-cache-vf</td>\n    </tr>\n    <tr>\n      <th>1635</th>\n      <td>x-cache-cms-status</td>\n      <td>80.000000</td>\n      <td>151</td>\n      <td>x-cache-vf</td>\n    </tr>\n    <tr>\n      <th>1636</th>\n      <td>x-cache-nx</td>\n      <td>80.000000</td>\n      <td>0</td>\n      <td>x-cache-ve</td>\n    </tr>\n    <tr>\n      <th>1637</th>\n      <td>x-cache-cms-status</td>\n      <td>80.000000</td>\n      <td>148</td>\n      <td>x-cache-ve</td>\n    </tr>\n    <tr>\n      <th>1638</th>\n      <td>memory-svg-cache</td>\n      <td>85.714286</td>\n      <td>1</td>\n      <td>memory-cache</td>\n    </tr>\n  </tbody>\n</table>\n<p>1639 rows × 4 columns</p>\n</div>"
     },
     "execution_count": 37,
     "metadata": {},
     "output_type": "execute_result"
    }
   ],
   "source": [
    "similar_values"
   ],
   "metadata": {
    "collapsed": false
   }
  },
  {
   "cell_type": "code",
   "execution_count": 38,
   "outputs": [
    {
     "data": {
      "text/plain": "       pragma   pragrma\n267313   <NA>  no-cache",
      "text/html": "<div>\n<style scoped>\n    .dataframe tbody tr th:only-of-type {\n        vertical-align: middle;\n    }\n\n    .dataframe tbody tr th {\n        vertical-align: top;\n    }\n\n    .dataframe thead th {\n        text-align: right;\n    }\n</style>\n<table border=\"1\" class=\"dataframe\">\n  <thead>\n    <tr style=\"text-align: right;\">\n      <th></th>\n      <th>pragma</th>\n      <th>pragrma</th>\n    </tr>\n  </thead>\n  <tbody>\n    <tr>\n      <th>267313</th>\n      <td>&lt;NA&gt;</td>\n      <td>no-cache</td>\n    </tr>\n  </tbody>\n</table>\n</div>"
     },
     "execution_count": 38,
     "metadata": {},
     "output_type": "execute_result"
    }
   ],
   "source": [
    "data[data[\"pragrma\"].notna()][[\"pragma\", \"pragrma\"]]"
   ],
   "metadata": {
    "collapsed": false
   }
  },
  {
   "cell_type": "code",
   "execution_count": 39,
   "outputs": [
    {
     "data": {
      "text/plain": "0       None\n1       None\n2       None\n3       None\n4       None\n        ... \n1634    None\n1635    None\n1636    None\n1637    None\n1638    None\nLength: 1639, dtype: object"
     },
     "execution_count": 39,
     "metadata": {},
     "output_type": "execute_result"
    }
   ],
   "source": [
    "similar_values.apply(\n",
    "    lambda x: merge_similar_columns(x[\"fuzzy_match\"], x[\"col_name\"], data), axis=1\n",
    ")"
   ],
   "metadata": {
    "collapsed": false
   }
  },
  {
   "cell_type": "code",
   "execution_count": 40,
   "outputs": [
    {
     "data": {
      "text/plain": "          pragma   pragrma\n267313  no-cache  no-cache",
      "text/html": "<div>\n<style scoped>\n    .dataframe tbody tr th:only-of-type {\n        vertical-align: middle;\n    }\n\n    .dataframe tbody tr th {\n        vertical-align: top;\n    }\n\n    .dataframe thead th {\n        text-align: right;\n    }\n</style>\n<table border=\"1\" class=\"dataframe\">\n  <thead>\n    <tr style=\"text-align: right;\">\n      <th></th>\n      <th>pragma</th>\n      <th>pragrma</th>\n    </tr>\n  </thead>\n  <tbody>\n    <tr>\n      <th>267313</th>\n      <td>no-cache</td>\n      <td>no-cache</td>\n    </tr>\n  </tbody>\n</table>\n</div>"
     },
     "execution_count": 40,
     "metadata": {},
     "output_type": "execute_result"
    }
   ],
   "source": [
    "data[data[\"pragrma\"].notna()][[\"pragma\", \"pragrma\"]]"
   ],
   "metadata": {
    "collapsed": false
   }
  },
  {
   "cell_type": "code",
   "execution_count": 41,
   "outputs": [],
   "source": [
    "columns_to_remove = list(set(similar_values.fuzzy_match.values.tolist()))\n",
    "data.drop(columns_to_remove, axis=1, inplace=True)"
   ],
   "metadata": {
    "collapsed": false
   }
  },
  {
   "cell_type": "code",
   "execution_count": 42,
   "outputs": [
    {
     "ename": "KeyError",
     "evalue": "'pragrma'",
     "output_type": "error",
     "traceback": [
      "\u001B[0;31m---------------------------------------------------------------------------\u001B[0m",
      "\u001B[0;31mKeyError\u001B[0m                                  Traceback (most recent call last)",
      "File \u001B[0;32m~/miniconda3/envs/code/lib/python3.9/site-packages/pandas/core/indexes/base.py:3652\u001B[0m, in \u001B[0;36mIndex.get_loc\u001B[0;34m(self, key)\u001B[0m\n\u001B[1;32m   3651\u001B[0m \u001B[38;5;28;01mtry\u001B[39;00m:\n\u001B[0;32m-> 3652\u001B[0m     \u001B[38;5;28;01mreturn\u001B[39;00m \u001B[38;5;28;43mself\u001B[39;49m\u001B[38;5;241;43m.\u001B[39;49m\u001B[43m_engine\u001B[49m\u001B[38;5;241;43m.\u001B[39;49m\u001B[43mget_loc\u001B[49m\u001B[43m(\u001B[49m\u001B[43mcasted_key\u001B[49m\u001B[43m)\u001B[49m\n\u001B[1;32m   3653\u001B[0m \u001B[38;5;28;01mexcept\u001B[39;00m \u001B[38;5;167;01mKeyError\u001B[39;00m \u001B[38;5;28;01mas\u001B[39;00m err:\n",
      "File \u001B[0;32m~/miniconda3/envs/code/lib/python3.9/site-packages/pandas/_libs/index.pyx:147\u001B[0m, in \u001B[0;36mpandas._libs.index.IndexEngine.get_loc\u001B[0;34m()\u001B[0m\n",
      "File \u001B[0;32m~/miniconda3/envs/code/lib/python3.9/site-packages/pandas/_libs/index.pyx:176\u001B[0m, in \u001B[0;36mpandas._libs.index.IndexEngine.get_loc\u001B[0;34m()\u001B[0m\n",
      "File \u001B[0;32mpandas/_libs/hashtable_class_helper.pxi:7080\u001B[0m, in \u001B[0;36mpandas._libs.hashtable.PyObjectHashTable.get_item\u001B[0;34m()\u001B[0m\n",
      "File \u001B[0;32mpandas/_libs/hashtable_class_helper.pxi:7088\u001B[0m, in \u001B[0;36mpandas._libs.hashtable.PyObjectHashTable.get_item\u001B[0;34m()\u001B[0m\n",
      "\u001B[0;31mKeyError\u001B[0m: 'pragrma'",
      "\nThe above exception was the direct cause of the following exception:\n",
      "\u001B[0;31mKeyError\u001B[0m                                  Traceback (most recent call last)",
      "Cell \u001B[0;32mIn[42], line 1\u001B[0m\n\u001B[0;32m----> 1\u001B[0m data[\u001B[43mdata\u001B[49m\u001B[43m[\u001B[49m\u001B[38;5;124;43m'\u001B[39;49m\u001B[38;5;124;43mpragrma\u001B[39;49m\u001B[38;5;124;43m'\u001B[39;49m\u001B[43m]\u001B[49m\u001B[38;5;241m.\u001B[39mnotna()][[\u001B[38;5;124m'\u001B[39m\u001B[38;5;124mpragma\u001B[39m\u001B[38;5;124m'\u001B[39m, \u001B[38;5;124m'\u001B[39m\u001B[38;5;124mpragrma\u001B[39m\u001B[38;5;124m'\u001B[39m]]\n",
      "File \u001B[0;32m~/miniconda3/envs/code/lib/python3.9/site-packages/pandas/core/frame.py:3760\u001B[0m, in \u001B[0;36mDataFrame.__getitem__\u001B[0;34m(self, key)\u001B[0m\n\u001B[1;32m   3758\u001B[0m \u001B[38;5;28;01mif\u001B[39;00m \u001B[38;5;28mself\u001B[39m\u001B[38;5;241m.\u001B[39mcolumns\u001B[38;5;241m.\u001B[39mnlevels \u001B[38;5;241m>\u001B[39m \u001B[38;5;241m1\u001B[39m:\n\u001B[1;32m   3759\u001B[0m     \u001B[38;5;28;01mreturn\u001B[39;00m \u001B[38;5;28mself\u001B[39m\u001B[38;5;241m.\u001B[39m_getitem_multilevel(key)\n\u001B[0;32m-> 3760\u001B[0m indexer \u001B[38;5;241m=\u001B[39m \u001B[38;5;28;43mself\u001B[39;49m\u001B[38;5;241;43m.\u001B[39;49m\u001B[43mcolumns\u001B[49m\u001B[38;5;241;43m.\u001B[39;49m\u001B[43mget_loc\u001B[49m\u001B[43m(\u001B[49m\u001B[43mkey\u001B[49m\u001B[43m)\u001B[49m\n\u001B[1;32m   3761\u001B[0m \u001B[38;5;28;01mif\u001B[39;00m is_integer(indexer):\n\u001B[1;32m   3762\u001B[0m     indexer \u001B[38;5;241m=\u001B[39m [indexer]\n",
      "File \u001B[0;32m~/miniconda3/envs/code/lib/python3.9/site-packages/pandas/core/indexes/base.py:3654\u001B[0m, in \u001B[0;36mIndex.get_loc\u001B[0;34m(self, key)\u001B[0m\n\u001B[1;32m   3652\u001B[0m     \u001B[38;5;28;01mreturn\u001B[39;00m \u001B[38;5;28mself\u001B[39m\u001B[38;5;241m.\u001B[39m_engine\u001B[38;5;241m.\u001B[39mget_loc(casted_key)\n\u001B[1;32m   3653\u001B[0m \u001B[38;5;28;01mexcept\u001B[39;00m \u001B[38;5;167;01mKeyError\u001B[39;00m \u001B[38;5;28;01mas\u001B[39;00m err:\n\u001B[0;32m-> 3654\u001B[0m     \u001B[38;5;28;01mraise\u001B[39;00m \u001B[38;5;167;01mKeyError\u001B[39;00m(key) \u001B[38;5;28;01mfrom\u001B[39;00m \u001B[38;5;21;01merr\u001B[39;00m\n\u001B[1;32m   3655\u001B[0m \u001B[38;5;28;01mexcept\u001B[39;00m \u001B[38;5;167;01mTypeError\u001B[39;00m:\n\u001B[1;32m   3656\u001B[0m     \u001B[38;5;66;03m# If we have a listlike key, _check_indexing_error will raise\u001B[39;00m\n\u001B[1;32m   3657\u001B[0m     \u001B[38;5;66;03m#  InvalidIndexError. Otherwise we fall through and re-raise\u001B[39;00m\n\u001B[1;32m   3658\u001B[0m     \u001B[38;5;66;03m#  the TypeError.\u001B[39;00m\n\u001B[1;32m   3659\u001B[0m     \u001B[38;5;28mself\u001B[39m\u001B[38;5;241m.\u001B[39m_check_indexing_error(key)\n",
      "\u001B[0;31mKeyError\u001B[0m: 'pragrma'"
     ]
    }
   ],
   "source": [
    "data[data[\"pragrma\"].notna()][[\"pragma\", \"pragrma\"]]"
   ],
   "metadata": {
    "collapsed": false
   }
  },
  {
   "cell_type": "code",
   "execution_count": 43,
   "outputs": [
    {
     "data": {
      "text/plain": "                                       hostname   \n0                     tpc.googlesyndication.com  \\\n1                            res.cdn.office.net   \n2                                www.google.com   \n3       ipv4-c113-lhr004-ix.1.oca.nflxvideo.net   \n4                                      shimo.im   \n...                                         ...   \n271999                           www.criteo.com   \n272000                             ads.adfox.ru   \n272001                  synostatic.synology.com   \n272002                                tenor.com   \n272003                               r.bing.com   \n\n                                                 pathname   \n0       /pagead/js/r20220810/r20110914/client/one_clic...  \\\n1       /officehub/bundles/staying-aware.b8b088b355c55...   \n2                                       /ads/ga-audiences   \n3                                    /speedtest/range/0-0   \n4                                                       /   \n...                                                   ...   \n271999  /wp-content/uploads/2021/01/ss-logo-Lamps-Plus...   \n272000                                      /260122/event   \n272001                     /font/inter/inter-w400-6.woff2   \n272002                                    /opensearch.xml   \n272003              /rp/l_yPzUao8Z_UiytFemwYCOTvU_U.br.js   \n\n                    filetype                                        filename   \n0                         js            one_click_handler_one_afma_fy2021.js  \\\n1                         js  staying-aware.b8b088b355c55b4ea7d6.chunk.v6.js   \n2          /ads/ga-audiences                                    ga-audiences   \n3       /speedtest/range/0-0                                             0-0   \n4                          /                                                   \n...                      ...                                             ...   \n271999                   png                          ss-logo-Lamps-Plus.png   \n272000         /260122/event                                           event   \n272001                 woff2                              inter-w400-6.woff2   \n272002                   xml                                  opensearch.xml   \n272003                    js               l_yPzUao8Z_UiytFemwYCOTvU_U.br.js   \n\n       protocol                                              query    pragma   \n0        https:                                                 []      <NA>  \\\n1        https:                                                 []      <NA>   \n2        https:  [array(['t', 'sr'], dtype=object) array(['aip'...  no-cache   \n3        https:  [array(['c', 'de'], dtype=object) array(['n', ...  no-cache   \n4        https:                                                 []      <NA>   \n...         ...                                                ...       ...   \n271999   https:                                                 []      <NA>   \n272000   https:  [array(['pm', 'cyz'], dtype=object)\n array(['h...  no-cache   \n272001   https:                                                 []      <NA>   \n272002   https:                                                 []      <NA>   \n272003   https:                                                 []      <NA>   \n\n                          content-type                  last-modified   \n0       text/javascript; charset=utf-8                           <NA>  \\\n1               application/javascript  mon, 08 aug 2022 21:56:59 gmt   \n2                            image/gif                           <NA>   \n3                                 <NA>                           <NA>   \n4             text/html; charset=utf-8                           <NA>   \n...                                ...                            ...   \n271999                       image/png  fri, 12 nov 2021 05:09:38 gmt   \n272000                            <NA>  fri, 12 aug 2022 09:22:13 gmt   \n272001             binary/octet-stream  mon, 20 dec 2021 02:24:19 gmt   \n272002                 application/xml  thu, 26 apr 2018 18:25:27 gmt   \n272003  text/javascript; charset=utf-8  wed, 03 aug 2022 12:04:53 gmt   \n\n       accept-ranges  ... x-publisherdesk-origin xc-version x-amzn-waf-action   \n0                NaN  ...                   <NA>       <NA>              <NA>  \\\n1                NaN  ...                   <NA>       <NA>              <NA>   \n2                NaN  ...                   <NA>       <NA>              <NA>   \n3                NaN  ...                   <NA>       <NA>              <NA>   \n4                NaN  ...                   <NA>       <NA>              <NA>   \n...              ...  ...                    ...        ...               ...   \n271999         bytes  ...                   <NA>       <NA>              <NA>   \n272000          <NA>  ...                   <NA>       <NA>              <NA>   \n272001         bytes  ...                   <NA>       <NA>              <NA>   \n272002         bytes  ...                   <NA>       <NA>              <NA>   \n272003          <NA>  ...                   <NA>       <NA>              <NA>   \n\n       generated x-amz-req-time-micros debug_plat_b  x-ta x-pbs-appsvrname   \n0           <NA>                  <NA>         <NA>  <NA>             <NA>  \\\n1           <NA>                  <NA>         <NA>  <NA>             <NA>   \n2           <NA>                  <NA>         <NA>  <NA>             <NA>   \n3           <NA>                  <NA>         <NA>  <NA>             <NA>   \n4           <NA>                  <NA>         <NA>  <NA>             <NA>   \n...          ...                   ...          ...   ...              ...   \n271999      <NA>                  <NA>         <NA>  <NA>             <NA>   \n272000      <NA>                  <NA>         <NA>  <NA>             <NA>   \n272001      <NA>                  <NA>         <NA>  <NA>             <NA>   \n272002      <NA>                  <NA>         <NA>  <NA>             <NA>   \n272003      <NA>                  <NA>         <NA>  <NA>             <NA>   \n\n       x-pbs-appsvrip tracker  \n0                <NA>       1  \n1                <NA>       0  \n2                <NA>       1  \n3                <NA>       0  \n4                <NA>       0  \n...               ...     ...  \n271999           <NA>       0  \n272000           <NA>       1  \n272001           <NA>       0  \n272002           <NA>       0  \n272003           <NA>       0  \n\n[272004 rows x 4454 columns]",
      "text/html": "<div>\n<style scoped>\n    .dataframe tbody tr th:only-of-type {\n        vertical-align: middle;\n    }\n\n    .dataframe tbody tr th {\n        vertical-align: top;\n    }\n\n    .dataframe thead th {\n        text-align: right;\n    }\n</style>\n<table border=\"1\" class=\"dataframe\">\n  <thead>\n    <tr style=\"text-align: right;\">\n      <th></th>\n      <th>hostname</th>\n      <th>pathname</th>\n      <th>filetype</th>\n      <th>filename</th>\n      <th>protocol</th>\n      <th>query</th>\n      <th>pragma</th>\n      <th>content-type</th>\n      <th>last-modified</th>\n      <th>accept-ranges</th>\n      <th>...</th>\n      <th>x-publisherdesk-origin</th>\n      <th>xc-version</th>\n      <th>x-amzn-waf-action</th>\n      <th>generated</th>\n      <th>x-amz-req-time-micros</th>\n      <th>debug_plat_b</th>\n      <th>x-ta</th>\n      <th>x-pbs-appsvrname</th>\n      <th>x-pbs-appsvrip</th>\n      <th>tracker</th>\n    </tr>\n  </thead>\n  <tbody>\n    <tr>\n      <th>0</th>\n      <td>tpc.googlesyndication.com</td>\n      <td>/pagead/js/r20220810/r20110914/client/one_clic...</td>\n      <td>js</td>\n      <td>one_click_handler_one_afma_fy2021.js</td>\n      <td>https:</td>\n      <td>[]</td>\n      <td>&lt;NA&gt;</td>\n      <td>text/javascript; charset=utf-8</td>\n      <td>&lt;NA&gt;</td>\n      <td>NaN</td>\n      <td>...</td>\n      <td>&lt;NA&gt;</td>\n      <td>&lt;NA&gt;</td>\n      <td>&lt;NA&gt;</td>\n      <td>&lt;NA&gt;</td>\n      <td>&lt;NA&gt;</td>\n      <td>&lt;NA&gt;</td>\n      <td>&lt;NA&gt;</td>\n      <td>&lt;NA&gt;</td>\n      <td>&lt;NA&gt;</td>\n      <td>1</td>\n    </tr>\n    <tr>\n      <th>1</th>\n      <td>res.cdn.office.net</td>\n      <td>/officehub/bundles/staying-aware.b8b088b355c55...</td>\n      <td>js</td>\n      <td>staying-aware.b8b088b355c55b4ea7d6.chunk.v6.js</td>\n      <td>https:</td>\n      <td>[]</td>\n      <td>&lt;NA&gt;</td>\n      <td>application/javascript</td>\n      <td>mon, 08 aug 2022 21:56:59 gmt</td>\n      <td>NaN</td>\n      <td>...</td>\n      <td>&lt;NA&gt;</td>\n      <td>&lt;NA&gt;</td>\n      <td>&lt;NA&gt;</td>\n      <td>&lt;NA&gt;</td>\n      <td>&lt;NA&gt;</td>\n      <td>&lt;NA&gt;</td>\n      <td>&lt;NA&gt;</td>\n      <td>&lt;NA&gt;</td>\n      <td>&lt;NA&gt;</td>\n      <td>0</td>\n    </tr>\n    <tr>\n      <th>2</th>\n      <td>www.google.com</td>\n      <td>/ads/ga-audiences</td>\n      <td>/ads/ga-audiences</td>\n      <td>ga-audiences</td>\n      <td>https:</td>\n      <td>[array(['t', 'sr'], dtype=object) array(['aip'...</td>\n      <td>no-cache</td>\n      <td>image/gif</td>\n      <td>&lt;NA&gt;</td>\n      <td>NaN</td>\n      <td>...</td>\n      <td>&lt;NA&gt;</td>\n      <td>&lt;NA&gt;</td>\n      <td>&lt;NA&gt;</td>\n      <td>&lt;NA&gt;</td>\n      <td>&lt;NA&gt;</td>\n      <td>&lt;NA&gt;</td>\n      <td>&lt;NA&gt;</td>\n      <td>&lt;NA&gt;</td>\n      <td>&lt;NA&gt;</td>\n      <td>1</td>\n    </tr>\n    <tr>\n      <th>3</th>\n      <td>ipv4-c113-lhr004-ix.1.oca.nflxvideo.net</td>\n      <td>/speedtest/range/0-0</td>\n      <td>/speedtest/range/0-0</td>\n      <td>0-0</td>\n      <td>https:</td>\n      <td>[array(['c', 'de'], dtype=object) array(['n', ...</td>\n      <td>no-cache</td>\n      <td>&lt;NA&gt;</td>\n      <td>&lt;NA&gt;</td>\n      <td>NaN</td>\n      <td>...</td>\n      <td>&lt;NA&gt;</td>\n      <td>&lt;NA&gt;</td>\n      <td>&lt;NA&gt;</td>\n      <td>&lt;NA&gt;</td>\n      <td>&lt;NA&gt;</td>\n      <td>&lt;NA&gt;</td>\n      <td>&lt;NA&gt;</td>\n      <td>&lt;NA&gt;</td>\n      <td>&lt;NA&gt;</td>\n      <td>0</td>\n    </tr>\n    <tr>\n      <th>4</th>\n      <td>shimo.im</td>\n      <td>/</td>\n      <td>/</td>\n      <td></td>\n      <td>https:</td>\n      <td>[]</td>\n      <td>&lt;NA&gt;</td>\n      <td>text/html; charset=utf-8</td>\n      <td>&lt;NA&gt;</td>\n      <td>NaN</td>\n      <td>...</td>\n      <td>&lt;NA&gt;</td>\n      <td>&lt;NA&gt;</td>\n      <td>&lt;NA&gt;</td>\n      <td>&lt;NA&gt;</td>\n      <td>&lt;NA&gt;</td>\n      <td>&lt;NA&gt;</td>\n      <td>&lt;NA&gt;</td>\n      <td>&lt;NA&gt;</td>\n      <td>&lt;NA&gt;</td>\n      <td>0</td>\n    </tr>\n    <tr>\n      <th>...</th>\n      <td>...</td>\n      <td>...</td>\n      <td>...</td>\n      <td>...</td>\n      <td>...</td>\n      <td>...</td>\n      <td>...</td>\n      <td>...</td>\n      <td>...</td>\n      <td>...</td>\n      <td>...</td>\n      <td>...</td>\n      <td>...</td>\n      <td>...</td>\n      <td>...</td>\n      <td>...</td>\n      <td>...</td>\n      <td>...</td>\n      <td>...</td>\n      <td>...</td>\n      <td>...</td>\n    </tr>\n    <tr>\n      <th>271999</th>\n      <td>www.criteo.com</td>\n      <td>/wp-content/uploads/2021/01/ss-logo-Lamps-Plus...</td>\n      <td>png</td>\n      <td>ss-logo-Lamps-Plus.png</td>\n      <td>https:</td>\n      <td>[]</td>\n      <td>&lt;NA&gt;</td>\n      <td>image/png</td>\n      <td>fri, 12 nov 2021 05:09:38 gmt</td>\n      <td>bytes</td>\n      <td>...</td>\n      <td>&lt;NA&gt;</td>\n      <td>&lt;NA&gt;</td>\n      <td>&lt;NA&gt;</td>\n      <td>&lt;NA&gt;</td>\n      <td>&lt;NA&gt;</td>\n      <td>&lt;NA&gt;</td>\n      <td>&lt;NA&gt;</td>\n      <td>&lt;NA&gt;</td>\n      <td>&lt;NA&gt;</td>\n      <td>0</td>\n    </tr>\n    <tr>\n      <th>272000</th>\n      <td>ads.adfox.ru</td>\n      <td>/260122/event</td>\n      <td>/260122/event</td>\n      <td>event</td>\n      <td>https:</td>\n      <td>[array(['pm', 'cyz'], dtype=object)\n array(['h...</td>\n      <td>no-cache</td>\n      <td>&lt;NA&gt;</td>\n      <td>fri, 12 aug 2022 09:22:13 gmt</td>\n      <td>&lt;NA&gt;</td>\n      <td>...</td>\n      <td>&lt;NA&gt;</td>\n      <td>&lt;NA&gt;</td>\n      <td>&lt;NA&gt;</td>\n      <td>&lt;NA&gt;</td>\n      <td>&lt;NA&gt;</td>\n      <td>&lt;NA&gt;</td>\n      <td>&lt;NA&gt;</td>\n      <td>&lt;NA&gt;</td>\n      <td>&lt;NA&gt;</td>\n      <td>1</td>\n    </tr>\n    <tr>\n      <th>272001</th>\n      <td>synostatic.synology.com</td>\n      <td>/font/inter/inter-w400-6.woff2</td>\n      <td>woff2</td>\n      <td>inter-w400-6.woff2</td>\n      <td>https:</td>\n      <td>[]</td>\n      <td>&lt;NA&gt;</td>\n      <td>binary/octet-stream</td>\n      <td>mon, 20 dec 2021 02:24:19 gmt</td>\n      <td>bytes</td>\n      <td>...</td>\n      <td>&lt;NA&gt;</td>\n      <td>&lt;NA&gt;</td>\n      <td>&lt;NA&gt;</td>\n      <td>&lt;NA&gt;</td>\n      <td>&lt;NA&gt;</td>\n      <td>&lt;NA&gt;</td>\n      <td>&lt;NA&gt;</td>\n      <td>&lt;NA&gt;</td>\n      <td>&lt;NA&gt;</td>\n      <td>0</td>\n    </tr>\n    <tr>\n      <th>272002</th>\n      <td>tenor.com</td>\n      <td>/opensearch.xml</td>\n      <td>xml</td>\n      <td>opensearch.xml</td>\n      <td>https:</td>\n      <td>[]</td>\n      <td>&lt;NA&gt;</td>\n      <td>application/xml</td>\n      <td>thu, 26 apr 2018 18:25:27 gmt</td>\n      <td>bytes</td>\n      <td>...</td>\n      <td>&lt;NA&gt;</td>\n      <td>&lt;NA&gt;</td>\n      <td>&lt;NA&gt;</td>\n      <td>&lt;NA&gt;</td>\n      <td>&lt;NA&gt;</td>\n      <td>&lt;NA&gt;</td>\n      <td>&lt;NA&gt;</td>\n      <td>&lt;NA&gt;</td>\n      <td>&lt;NA&gt;</td>\n      <td>0</td>\n    </tr>\n    <tr>\n      <th>272003</th>\n      <td>r.bing.com</td>\n      <td>/rp/l_yPzUao8Z_UiytFemwYCOTvU_U.br.js</td>\n      <td>js</td>\n      <td>l_yPzUao8Z_UiytFemwYCOTvU_U.br.js</td>\n      <td>https:</td>\n      <td>[]</td>\n      <td>&lt;NA&gt;</td>\n      <td>text/javascript; charset=utf-8</td>\n      <td>wed, 03 aug 2022 12:04:53 gmt</td>\n      <td>&lt;NA&gt;</td>\n      <td>...</td>\n      <td>&lt;NA&gt;</td>\n      <td>&lt;NA&gt;</td>\n      <td>&lt;NA&gt;</td>\n      <td>&lt;NA&gt;</td>\n      <td>&lt;NA&gt;</td>\n      <td>&lt;NA&gt;</td>\n      <td>&lt;NA&gt;</td>\n      <td>&lt;NA&gt;</td>\n      <td>&lt;NA&gt;</td>\n      <td>0</td>\n    </tr>\n  </tbody>\n</table>\n<p>272004 rows × 4454 columns</p>\n</div>"
     },
     "execution_count": 43,
     "metadata": {},
     "output_type": "execute_result"
    }
   ],
   "source": [
    "data"
   ],
   "metadata": {
    "collapsed": false
   }
  },
  {
   "cell_type": "code",
   "execution_count": 44,
   "outputs": [
    {
     "data": {
      "text/plain": "hostname            string[pyarrow]\npathname            string[pyarrow]\nfiletype            string[pyarrow]\nfilename            string[pyarrow]\nprotocol            string[pyarrow]\n                         ...       \ndebug_plat_b        string[pyarrow]\nx-ta                string[pyarrow]\nx-pbs-appsvrname    string[pyarrow]\nx-pbs-appsvrip      string[pyarrow]\ntracker              int32[pyarrow]\nLength: 4454, dtype: object"
     },
     "execution_count": 44,
     "metadata": {},
     "output_type": "execute_result"
    }
   ],
   "source": [
    "data.dtypes"
   ],
   "metadata": {
    "collapsed": false
   }
  },
  {
   "cell_type": "code",
   "execution_count": 46,
   "outputs": [],
   "source": [
    "data = data.iloc[:, 6:]"
   ],
   "metadata": {
    "collapsed": false
   }
  },
  {
   "cell_type": "code",
   "execution_count": 47,
   "outputs": [
    {
     "data": {
      "text/plain": "          pragma                    content-type   \n0           <NA>  text/javascript; charset=utf-8  \\\n1           <NA>          application/javascript   \n2       no-cache                       image/gif   \n3       no-cache                            <NA>   \n4           <NA>        text/html; charset=utf-8   \n...          ...                             ...   \n271999      <NA>                       image/png   \n272000  no-cache                            <NA>   \n272001      <NA>             binary/octet-stream   \n272002      <NA>                 application/xml   \n272003      <NA>  text/javascript; charset=utf-8   \n\n                        last-modified accept-ranges   \n0                                <NA>           NaN  \\\n1       mon, 08 aug 2022 21:56:59 gmt           NaN   \n2                                <NA>           NaN   \n3                                <NA>           NaN   \n4                                <NA>           NaN   \n...                               ...           ...   \n271999  fri, 12 nov 2021 05:09:38 gmt         bytes   \n272000  fri, 12 aug 2022 09:22:13 gmt          <NA>   \n272001  mon, 20 dec 2021 02:24:19 gmt         bytes   \n272002  thu, 26 apr 2018 18:25:27 gmt         bytes   \n272003  wed, 03 aug 2022 12:04:53 gmt          <NA>   \n\n                                      etag   \n0                     15601544113783900868  \\\n1                                     <NA>   \n2                                     <NA>   \n3                                     <NA>   \n4                                     <NA>   \n...                                    ...   \n271999                     \"618df712-2509\"   \n272000                                <NA>   \n272001  \"4abfa4888190370d347034f9fa43c804\"   \n272002                 w/\"29a-1630333f5d8\"   \n272003                   0x8da754860160d55   \n\n                                                      p3p x-xss-protection   \n0       policyref=\"https://www.googleadservices.com/pa...                0  \\\n1                                                    <NA>             <NA>   \n2       policyref=\"https://www.googleadservices.com/pa...                0   \n3                                                    <NA>             <NA>   \n4                                                    <NA>             <NA>   \n...                                                   ...              ...   \n271999                                               <NA>             <NA>   \n272000                                               <NA>             <NA>   \n272001                                               <NA>             <NA>   \n272002                                               <NA>    1; mode=block   \n272003                                               <NA>             <NA>   \n\n       x-content-type-options            strict-transport-security   \n0                     nosniff                                 <NA>  \\\n1                     nosniff  max-age=31536000; includesubdomains   \n2                     nosniff                                 <NA>   \n3                        <NA>                                 <NA>   \n4                        <NA>  max-age=15724800; includesubdomains   \n...                       ...                                  ...   \n271999                   <NA>                          max-age=300   \n272000                nosniff                                 <NA>   \n272001                   <NA>                                 <NA>   \n272002                nosniff            max-age=31536000; preload   \n272003                   <NA>                                 <NA>   \n\n       x-robots-tag  ... x-publisherdesk-origin xc-version x-amzn-waf-action   \n0              <NA>  ...                   <NA>       <NA>              <NA>  \\\n1              <NA>  ...                   <NA>       <NA>              <NA>   \n2              <NA>  ...                   <NA>       <NA>              <NA>   \n3              <NA>  ...                   <NA>       <NA>              <NA>   \n4              <NA>  ...                   <NA>       <NA>              <NA>   \n...             ...  ...                    ...        ...               ...   \n271999         <NA>  ...                   <NA>       <NA>              <NA>   \n272000         <NA>  ...                   <NA>       <NA>              <NA>   \n272001         <NA>  ...                   <NA>       <NA>              <NA>   \n272002         <NA>  ...                   <NA>       <NA>              <NA>   \n272003         <NA>  ...                   <NA>       <NA>              <NA>   \n\n       generated x-amz-req-time-micros debug_plat_b  x-ta x-pbs-appsvrname   \n0           <NA>                  <NA>         <NA>  <NA>             <NA>  \\\n1           <NA>                  <NA>         <NA>  <NA>             <NA>   \n2           <NA>                  <NA>         <NA>  <NA>             <NA>   \n3           <NA>                  <NA>         <NA>  <NA>             <NA>   \n4           <NA>                  <NA>         <NA>  <NA>             <NA>   \n...          ...                   ...          ...   ...              ...   \n271999      <NA>                  <NA>         <NA>  <NA>             <NA>   \n272000      <NA>                  <NA>         <NA>  <NA>             <NA>   \n272001      <NA>                  <NA>         <NA>  <NA>             <NA>   \n272002      <NA>                  <NA>         <NA>  <NA>             <NA>   \n272003      <NA>                  <NA>         <NA>  <NA>             <NA>   \n\n       x-pbs-appsvrip tracker  \n0                <NA>       1  \n1                <NA>       0  \n2                <NA>       1  \n3                <NA>       0  \n4                <NA>       0  \n...               ...     ...  \n271999           <NA>       0  \n272000           <NA>       1  \n272001           <NA>       0  \n272002           <NA>       0  \n272003           <NA>       0  \n\n[272004 rows x 4448 columns]",
      "text/html": "<div>\n<style scoped>\n    .dataframe tbody tr th:only-of-type {\n        vertical-align: middle;\n    }\n\n    .dataframe tbody tr th {\n        vertical-align: top;\n    }\n\n    .dataframe thead th {\n        text-align: right;\n    }\n</style>\n<table border=\"1\" class=\"dataframe\">\n  <thead>\n    <tr style=\"text-align: right;\">\n      <th></th>\n      <th>pragma</th>\n      <th>content-type</th>\n      <th>last-modified</th>\n      <th>accept-ranges</th>\n      <th>etag</th>\n      <th>p3p</th>\n      <th>x-xss-protection</th>\n      <th>x-content-type-options</th>\n      <th>strict-transport-security</th>\n      <th>x-robots-tag</th>\n      <th>...</th>\n      <th>x-publisherdesk-origin</th>\n      <th>xc-version</th>\n      <th>x-amzn-waf-action</th>\n      <th>generated</th>\n      <th>x-amz-req-time-micros</th>\n      <th>debug_plat_b</th>\n      <th>x-ta</th>\n      <th>x-pbs-appsvrname</th>\n      <th>x-pbs-appsvrip</th>\n      <th>tracker</th>\n    </tr>\n  </thead>\n  <tbody>\n    <tr>\n      <th>0</th>\n      <td>&lt;NA&gt;</td>\n      <td>text/javascript; charset=utf-8</td>\n      <td>&lt;NA&gt;</td>\n      <td>NaN</td>\n      <td>15601544113783900868</td>\n      <td>policyref=\"https://www.googleadservices.com/pa...</td>\n      <td>0</td>\n      <td>nosniff</td>\n      <td>&lt;NA&gt;</td>\n      <td>&lt;NA&gt;</td>\n      <td>...</td>\n      <td>&lt;NA&gt;</td>\n      <td>&lt;NA&gt;</td>\n      <td>&lt;NA&gt;</td>\n      <td>&lt;NA&gt;</td>\n      <td>&lt;NA&gt;</td>\n      <td>&lt;NA&gt;</td>\n      <td>&lt;NA&gt;</td>\n      <td>&lt;NA&gt;</td>\n      <td>&lt;NA&gt;</td>\n      <td>1</td>\n    </tr>\n    <tr>\n      <th>1</th>\n      <td>&lt;NA&gt;</td>\n      <td>application/javascript</td>\n      <td>mon, 08 aug 2022 21:56:59 gmt</td>\n      <td>NaN</td>\n      <td>&lt;NA&gt;</td>\n      <td>&lt;NA&gt;</td>\n      <td>&lt;NA&gt;</td>\n      <td>nosniff</td>\n      <td>max-age=31536000; includesubdomains</td>\n      <td>&lt;NA&gt;</td>\n      <td>...</td>\n      <td>&lt;NA&gt;</td>\n      <td>&lt;NA&gt;</td>\n      <td>&lt;NA&gt;</td>\n      <td>&lt;NA&gt;</td>\n      <td>&lt;NA&gt;</td>\n      <td>&lt;NA&gt;</td>\n      <td>&lt;NA&gt;</td>\n      <td>&lt;NA&gt;</td>\n      <td>&lt;NA&gt;</td>\n      <td>0</td>\n    </tr>\n    <tr>\n      <th>2</th>\n      <td>no-cache</td>\n      <td>image/gif</td>\n      <td>&lt;NA&gt;</td>\n      <td>NaN</td>\n      <td>&lt;NA&gt;</td>\n      <td>policyref=\"https://www.googleadservices.com/pa...</td>\n      <td>0</td>\n      <td>nosniff</td>\n      <td>&lt;NA&gt;</td>\n      <td>&lt;NA&gt;</td>\n      <td>...</td>\n      <td>&lt;NA&gt;</td>\n      <td>&lt;NA&gt;</td>\n      <td>&lt;NA&gt;</td>\n      <td>&lt;NA&gt;</td>\n      <td>&lt;NA&gt;</td>\n      <td>&lt;NA&gt;</td>\n      <td>&lt;NA&gt;</td>\n      <td>&lt;NA&gt;</td>\n      <td>&lt;NA&gt;</td>\n      <td>1</td>\n    </tr>\n    <tr>\n      <th>3</th>\n      <td>no-cache</td>\n      <td>&lt;NA&gt;</td>\n      <td>&lt;NA&gt;</td>\n      <td>NaN</td>\n      <td>&lt;NA&gt;</td>\n      <td>&lt;NA&gt;</td>\n      <td>&lt;NA&gt;</td>\n      <td>&lt;NA&gt;</td>\n      <td>&lt;NA&gt;</td>\n      <td>&lt;NA&gt;</td>\n      <td>...</td>\n      <td>&lt;NA&gt;</td>\n      <td>&lt;NA&gt;</td>\n      <td>&lt;NA&gt;</td>\n      <td>&lt;NA&gt;</td>\n      <td>&lt;NA&gt;</td>\n      <td>&lt;NA&gt;</td>\n      <td>&lt;NA&gt;</td>\n      <td>&lt;NA&gt;</td>\n      <td>&lt;NA&gt;</td>\n      <td>0</td>\n    </tr>\n    <tr>\n      <th>4</th>\n      <td>&lt;NA&gt;</td>\n      <td>text/html; charset=utf-8</td>\n      <td>&lt;NA&gt;</td>\n      <td>NaN</td>\n      <td>&lt;NA&gt;</td>\n      <td>&lt;NA&gt;</td>\n      <td>&lt;NA&gt;</td>\n      <td>&lt;NA&gt;</td>\n      <td>max-age=15724800; includesubdomains</td>\n      <td>&lt;NA&gt;</td>\n      <td>...</td>\n      <td>&lt;NA&gt;</td>\n      <td>&lt;NA&gt;</td>\n      <td>&lt;NA&gt;</td>\n      <td>&lt;NA&gt;</td>\n      <td>&lt;NA&gt;</td>\n      <td>&lt;NA&gt;</td>\n      <td>&lt;NA&gt;</td>\n      <td>&lt;NA&gt;</td>\n      <td>&lt;NA&gt;</td>\n      <td>0</td>\n    </tr>\n    <tr>\n      <th>...</th>\n      <td>...</td>\n      <td>...</td>\n      <td>...</td>\n      <td>...</td>\n      <td>...</td>\n      <td>...</td>\n      <td>...</td>\n      <td>...</td>\n      <td>...</td>\n      <td>...</td>\n      <td>...</td>\n      <td>...</td>\n      <td>...</td>\n      <td>...</td>\n      <td>...</td>\n      <td>...</td>\n      <td>...</td>\n      <td>...</td>\n      <td>...</td>\n      <td>...</td>\n      <td>...</td>\n    </tr>\n    <tr>\n      <th>271999</th>\n      <td>&lt;NA&gt;</td>\n      <td>image/png</td>\n      <td>fri, 12 nov 2021 05:09:38 gmt</td>\n      <td>bytes</td>\n      <td>\"618df712-2509\"</td>\n      <td>&lt;NA&gt;</td>\n      <td>&lt;NA&gt;</td>\n      <td>&lt;NA&gt;</td>\n      <td>max-age=300</td>\n      <td>&lt;NA&gt;</td>\n      <td>...</td>\n      <td>&lt;NA&gt;</td>\n      <td>&lt;NA&gt;</td>\n      <td>&lt;NA&gt;</td>\n      <td>&lt;NA&gt;</td>\n      <td>&lt;NA&gt;</td>\n      <td>&lt;NA&gt;</td>\n      <td>&lt;NA&gt;</td>\n      <td>&lt;NA&gt;</td>\n      <td>&lt;NA&gt;</td>\n      <td>0</td>\n    </tr>\n    <tr>\n      <th>272000</th>\n      <td>no-cache</td>\n      <td>&lt;NA&gt;</td>\n      <td>fri, 12 aug 2022 09:22:13 gmt</td>\n      <td>&lt;NA&gt;</td>\n      <td>&lt;NA&gt;</td>\n      <td>&lt;NA&gt;</td>\n      <td>&lt;NA&gt;</td>\n      <td>nosniff</td>\n      <td>&lt;NA&gt;</td>\n      <td>&lt;NA&gt;</td>\n      <td>...</td>\n      <td>&lt;NA&gt;</td>\n      <td>&lt;NA&gt;</td>\n      <td>&lt;NA&gt;</td>\n      <td>&lt;NA&gt;</td>\n      <td>&lt;NA&gt;</td>\n      <td>&lt;NA&gt;</td>\n      <td>&lt;NA&gt;</td>\n      <td>&lt;NA&gt;</td>\n      <td>&lt;NA&gt;</td>\n      <td>1</td>\n    </tr>\n    <tr>\n      <th>272001</th>\n      <td>&lt;NA&gt;</td>\n      <td>binary/octet-stream</td>\n      <td>mon, 20 dec 2021 02:24:19 gmt</td>\n      <td>bytes</td>\n      <td>\"4abfa4888190370d347034f9fa43c804\"</td>\n      <td>&lt;NA&gt;</td>\n      <td>&lt;NA&gt;</td>\n      <td>&lt;NA&gt;</td>\n      <td>&lt;NA&gt;</td>\n      <td>&lt;NA&gt;</td>\n      <td>...</td>\n      <td>&lt;NA&gt;</td>\n      <td>&lt;NA&gt;</td>\n      <td>&lt;NA&gt;</td>\n      <td>&lt;NA&gt;</td>\n      <td>&lt;NA&gt;</td>\n      <td>&lt;NA&gt;</td>\n      <td>&lt;NA&gt;</td>\n      <td>&lt;NA&gt;</td>\n      <td>&lt;NA&gt;</td>\n      <td>0</td>\n    </tr>\n    <tr>\n      <th>272002</th>\n      <td>&lt;NA&gt;</td>\n      <td>application/xml</td>\n      <td>thu, 26 apr 2018 18:25:27 gmt</td>\n      <td>bytes</td>\n      <td>w/\"29a-1630333f5d8\"</td>\n      <td>&lt;NA&gt;</td>\n      <td>1; mode=block</td>\n      <td>nosniff</td>\n      <td>max-age=31536000; preload</td>\n      <td>&lt;NA&gt;</td>\n      <td>...</td>\n      <td>&lt;NA&gt;</td>\n      <td>&lt;NA&gt;</td>\n      <td>&lt;NA&gt;</td>\n      <td>&lt;NA&gt;</td>\n      <td>&lt;NA&gt;</td>\n      <td>&lt;NA&gt;</td>\n      <td>&lt;NA&gt;</td>\n      <td>&lt;NA&gt;</td>\n      <td>&lt;NA&gt;</td>\n      <td>0</td>\n    </tr>\n    <tr>\n      <th>272003</th>\n      <td>&lt;NA&gt;</td>\n      <td>text/javascript; charset=utf-8</td>\n      <td>wed, 03 aug 2022 12:04:53 gmt</td>\n      <td>&lt;NA&gt;</td>\n      <td>0x8da754860160d55</td>\n      <td>&lt;NA&gt;</td>\n      <td>&lt;NA&gt;</td>\n      <td>&lt;NA&gt;</td>\n      <td>&lt;NA&gt;</td>\n      <td>&lt;NA&gt;</td>\n      <td>...</td>\n      <td>&lt;NA&gt;</td>\n      <td>&lt;NA&gt;</td>\n      <td>&lt;NA&gt;</td>\n      <td>&lt;NA&gt;</td>\n      <td>&lt;NA&gt;</td>\n      <td>&lt;NA&gt;</td>\n      <td>&lt;NA&gt;</td>\n      <td>&lt;NA&gt;</td>\n      <td>&lt;NA&gt;</td>\n      <td>0</td>\n    </tr>\n  </tbody>\n</table>\n<p>272004 rows × 4448 columns</p>\n</div>"
     },
     "execution_count": 47,
     "metadata": {},
     "output_type": "execute_result"
    }
   ],
   "source": [
    "data"
   ],
   "metadata": {
    "collapsed": false
   }
  },
  {
   "cell_type": "code",
   "execution_count": 54,
   "outputs": [
    {
     "name": "stdout",
     "output_type": "stream",
     "text": [
      "CPU times: user 17 s, sys: 79.2 ms, total: 17.1 s\n",
      "Wall time: 17.1 s\n",
      "CPU times: user 17.3 s, sys: 122 ms, total: 17.4 s\n",
      "Wall time: 17.6 s\n"
     ]
    }
   ],
   "source": [
    "%%time\n",
    "list_of_dtypes = create_categories_list(data)"
   ],
   "metadata": {
    "collapsed": false
   }
  },
  {
   "cell_type": "code",
   "execution_count": 55,
   "outputs": [
    {
     "data": {
      "text/plain": "{'pragma': 'category',\n 'content-type': 'category',\n 'last-modified': 'category',\n 'accept-ranges': 'category',\n 'etag': 'category',\n 'p3p': 'category',\n 'x-xss-protection': 'category',\n 'x-content-type-options': 'category',\n 'strict-transport-security': 'category',\n 'x-robots-tag': 'category',\n 'vary': 'category',\n 'content-encoding': 'category',\n 'cache-control': 'category',\n 'expires': 'category',\n 'date': 'category',\n 'content-length': 'Int64',\n 'connection': 'category',\n 'x-amz-server-side-encryption': 'category',\n 'x-amz-version-id': 'category',\n 'server': 'category',\n 'x-cache': 'category',\n 'via': 'category',\n 'x-amz-cf-pop': 'category',\n 'x-amz-cf-id': 'category',\n 'age': 'category',\n 'x-guploader-uploadid': 'category',\n 'x-goog-generation': 'Int64',\n 'x-goog-hash': 'category',\n 'x-goog-storage-class': 'category',\n 'cf-cache-status': 'category',\n 'expect-ct': 'category',\n 'report-to': 'category',\n 'nel': 'category',\n 'cf-ray': 'category',\n 'alt-svc': 'category',\n 'access-control-allow-credentials': 'category',\n 'access-control-allow-origin': 'category',\n 'set-cookie': 'category',\n 'content-security-policy-report-only': 'category',\n 'akamai-true-ttl': 'Int64',\n 'server-timing': 'category',\n 'access-control-expose-headers': 'category',\n 'access-control-allow-headers': 'category',\n 'access-control-max-age': 'category',\n 'transfer-encoding': 'category',\n 'x-powered-by': 'category',\n 'x-serial': 'Int64',\n 'x-check-cacheable': 'category',\n 'cross-origin-resource-policy': 'category',\n 'content-md5': 'category',\n 'x-ms-request-id': 'category',\n 'x-ms-version': 'category',\n 'x-ms-lease-status': 'category',\n 'x-ms-blob-type': 'category',\n 'cross-origin-opener-policy-report-only': 'category',\n 'content-security-policy': 'category',\n 'x-fb-rlafr': 'Int64',\n 'document-policy': 'category',\n 'cross-origin-opener-policy': 'category',\n 'x-frame-options': 'category',\n 'x-fb-debug': 'category',\n 'priority': 'category',\n 'timing-allow-origin': 'category',\n 'x-content-cdn-origin-ts': 'Int64',\n 'x-amz-id-2': 'category',\n 'x-amz-request-id': 'category',\n 'access-control-allow-methods': 'category',\n 'x-served-by': 'category',\n 'x-origin-upstream-status': 'Int64',\n 'cf-bgj': 'category',\n 'cf-polished': 'category',\n 'edge-control': 'category',\n 'permissions-policy': 'category',\n 'referrer-policy': 'category',\n 'x-edgeconnect-midmile-rtt': 'Int64',\n 'x-edgeconnect-origin-mex-latency': 'Int64',\n 'x-edgeconnect-cache-status': 'Int64',\n 'trace-id': 'category',\n 'x-envoy-attempt-count': 'Int64',\n 'x-envoy-upstream-service-time': 'Int64',\n 'device_detected_ismobilephone': 'Int64',\n 'x-cache-hits': 'category',\n 'x-timer': 'category',\n 'x-scrolljs': 'Int64',\n 'fly-request-id': 'category',\n 'x-akamai-ro-tunnel-origin-edge-control': 'category',\n 'x-aspnet-version': 'category',\n 'content-disposition': 'category',\n 'x-cp-r': 'Int64',\n 'x-cache-status': 'category',\n 'accept-ch': 'category',\n 'x-client-ip': 'category',\n 'x-akamai-transformed': 'category',\n 'link': 'category',\n 'akamai-grn': 'category',\n 'actual-object-ttl': 'Int64',\n 'x-oracle-dms-rid': 'category',\n 'x-oracle-apmcs-request-id': 'category',\n 'x-oracle-dms-ecid': 'category',\n 'mdt-type': 'category',\n 'x-object-meta-sha1base36': 'category',\n 'x-storage': 'category',\n 'x-mol-georesp': 'category',\n 'x-rs-ben-time': 'category',\n 'x-rs-time': 'category',\n 'x-rs-ops': 'category',\n 'x-rs-ben': 'category',\n 'x-amz-replication-status': 'category',\n 'x-mol-img': 'category',\n 'x-goog-meta-s3cmd-attrs': 'category',\n 'x-n': 'category',\n 'x-e-id': 'category',\n 'x-amz-ir-id': 'category',\n 'surrogate-key': 'category',\n 'edge-cache-tag': 'category',\n 'x-amz-rid': 'category',\n 'content-language': 'category',\n 'accept-ch-lifetime': 'Int64',\n 'x-ua-compatible': 'category',\n 'x-amzn-requestid': 'category',\n 'x-upstream': 'category',\n 'x-accel-expires': 'category',\n 'x-77-nzt': 'category',\n 'x-77-cache': 'category',\n 'x-cache-lb': 'category',\n 'x-age-lb': 'Int64',\n 'x-77-nzt-ray': 'category',\n 'x-77-pop': 'category',\n 'x-edge-ip': 'category',\n 'x-edge-pop': 'category',\n 'x-lb-ip': 'category',\n 'x-lb-pop': 'category',\n 'x-hw': 'category',\n 'x-edge-location': 'category',\n 'x-edge-origin-shield-bytes': 'Int64',\n 'cloudfront-viewer-country': 'category',\n 'x-px-hash': 'category',\n 'active-cdn': 'category',\n 'x-dns-prefetch-control': 'category',\n 'x-download-options': 'category',\n 'x_req_id': 'category',\n 'dcs': 'category',\n 'x-tid': 'category',\n 'service-worker-allowed': 'category',\n 'x-request-id': 'category',\n 'custom_cache_rule_location': 'category',\n 'device_type': 'category',\n 'host_service': 'category',\n 'custom_akamai_autopurge': 'category',\n 'origin-edge-control': 'category',\n 'xserver': 'category',\n 'x-c': 'category',\n 'se': 'Int64',\n 'x-payload-length': 'Int64',\n 'x-flipkart-ab-ids': 'category',\n 'ss_friendly_ext': 'category',\n 'cross-origin-embedder-policy': 'category',\n 'unused62': 'Int64',\n 'x-response-time': 'category',\n 'x-connection-hash': 'category',\n 'x-amzn-trace-id': 'category',\n 'traceparent': 'category',\n 'x-cloud-trace-context': 'category',\n 'x-pantheon-styx-hostname': 'category',\n 'x-pingback': 'category',\n 'x-styx-req-id': 'category',\n 'version-id': 'category',\n 'storage-tier': 'category',\n 'opc-request-id': 'category',\n 'x-api-id': 'category',\n 'fastly-io-info': 'category',\n 'fastly-stats': 'category',\n 'bfcache-opt-in': 'category',\n 'x-fb-trip-id': 'Int64',\n 'dotmetrics-hit-status': 'category',\n 'rbx-cdn-provider': 'category',\n 'fastly-restarts': 'Int64',\n 'x-cache-hit': 'category',\n 'x-seen-by': 'category',\n 'x-wix-request-id': 'category',\n 'x-varnish': 'category',\n 'roblox-machine-id': 'category',\n 'wix-tracer': 'category',\n 'x-spanid': 'category',\n 'x-traceid': 'category',\n 'x-goog-meta-origin': 'category',\n 'imagepipeline': 'category',\n 'x-wss-client-request-id': 'category',\n 'x-wss-server': 'category',\n 'x-sp-mms-node': 'category',\n 'x-sp-mms-env': 'Int64',\n 'grpc-metadata-content-type': 'category',\n 'phis': 'category',\n 'x-jsd-version': 'category',\n 'x-jsd-version-type': 'category',\n 'x-wix-ssr-cacheable': 'category',\n 'x-wix-bundler-from-cache': 'category',\n 'x-wix-bundler-imported-namespaces': 'category',\n 'x-amz-meta-qc-ineu': 'category',\n 'x-runtime': 'category',\n 'x-amz-meta-source_bucket': 'category',\n 'x-forwarded-proto': 'category',\n 'google-lineitem-id': 'category',\n 'google-creative-id': 'category',\n 'status': 'category',\n 'x-design-by': 'category',\n 'x-svr-id': 'category',\n 'x-proxy-cache': 'category',\n 'x-permitted-cross-domain-policies': 'category',\n 'x-dc': 'category',\n 'x-hacker': 'category',\n 'host-header': 'category',\n 'x-ac': 'category',\n 'x-nc': 'category',\n 'shopify-edge-caching': 'category',\n 'bugsnag-session-uuid': 'category',\n 'wn': 'category',\n 'x-forwarded-https': 'category',\n 'as_gdat': 'category',\n 'x-rq': 'category',\n 'x-tt-logid': 'category',\n 'x-tt-trace-host': 'category',\n 'x-origin-response-time': 'category',\n 'x-akamai-request-id': 'category',\n 'x-cache-remote': 'category',\n 'x-tt-trace-tag': 'category',\n 'x-parent-response-time': 'category',\n 'x-acc': 'category',\n 'x-region': 'category',\n 'x-serverid': 'category',\n 'x-ulver': 'category',\n 'x-uuid': 'category',\n 'x-msedge-ref': 'category',\n 'x-q-stat': 'category',\n 'function-execution-id': 'category',\n 'x-amz-meta-hash': 'category',\n 'x-tw-cdn': 'category',\n 'akamai-x-true-ttl': 'Int64',\n 'x-cdn': 'category',\n 'server-time': 'category',\n 'x-dispatcher': 'category',\n 'x-vhost': 'category',\n 'cf-cdnjs-via': 'category',\n 'x-goog-meta-goog-reserved-file-mtime': 'Int64',\n 'cf-ipcountry': 'category',\n 'x-optimized-by': 'category',\n 'retry-after': 'Int64',\n 'pin-unauth': 'category',\n 'x-pinterest-rid': 'Int64',\n 'linkedin-action': 'Int64',\n 'x-li-fabric': 'category',\n 'x-li-pop': 'category',\n 'x-li-proto': 'category',\n 'x-li-uuid': 'category',\n 'request-context': 'category',\n 'x-azure-ref': 'category',\n 'x-amz-meta-mode': 'Int64',\n 'x-amz-meta-gid': 'Int64',\n 'x-amz-meta-mtime': 'category',\n 'x-amz-meta-surrogate-key': 'category',\n 'x-server-id': 'category',\n 'x-eps-time-spend': 'Int64',\n 'x-pw-round-time': 'category',\n 'x-readtime': 'Int64',\n 'eagleeye-traceid': 'category',\n 'x-oss-request-id': 'category',\n 'x-oss-object-type': 'category',\n 'x-oss-hash-crc64ecma': 'category',\n 'x-oss-storage-class': 'category',\n 'x-oss-server-time': 'Int64',\n 'x-bucket-code': 'Int64',\n 'ali-swift-global-savetime': 'Int64',\n 'x-swift-savetime': 'category',\n 'x-swift-cachetime': 'Int64',\n 'eagleid': 'category',\n 'picasso-ret-code': 'category',\n 'request-time': 'category',\n 's-rt': 'Int64',\n 'x-source-scheme': 'category',\n 'served-from': 'category',\n 'network_info': 'category',\n 'x-oss-cdn-auth': 'category',\n 'x-application-context': 'category',\n 'stag': 'Int64',\n 'x-envoy-decorator-operation': 'category',\n 'object-status': 'category',\n 'cdn-type': 'category',\n 'x5-punish-cache': 'category',\n 'bxuuid': 'category',\n 'use-raw': 'category',\n 'bxpunish': 'Int64',\n 'resin-trace': 'category',\n 'edge-type': 'category',\n 'fw_ip': 'category',\n 'real-source-url': 'category',\n 'x-new-origin': 'Int64',\n 'ali-ua': 'category',\n 'x-request-uuid': 'category',\n 'x-ss-make-cacheable': 'category',\n 'x-bench-route': 'category',\n 'havana_s_v': 'category',\n 'havana_s_ip': 'category',\n 'havana_s_tag': 'category',\n 'havana_s_ucode': 'category',\n 'havana_s_tid': 'category',\n 'havana_s_group': 'category',\n 'havana_s_status': 'category',\n 'uuid': 'category',\n 'x-qstatic-hit': 'Int64',\n 'kcs-via': 'category',\n 'x-nws-log-uuid': 'category',\n 'x-cache-lookup': 'category',\n 'x-nws-uuid-verify': 'category',\n 'real-uri': 'category',\n 'x-config-pt': 'Int64',\n 'xzp': 'category',\n 'xcs': 'category',\n 'havana_s_read_unit': 'category',\n 'x-realserver-nx': 'category',\n 'x-server': 'category',\n 'x-thinktime': 'Int64',\n 'ufe-result': 'category',\n 'x-node': 'category',\n 'x-eagleeye-id': 'category',\n 'x-aserver-sret': 'category',\n 'mtop-x-provider': 'category',\n 'apigw-requestid': 'category',\n 'rendered-blocks': 'category',\n 'x-sct': 'category',\n 'fetchedall': 'category',\n 'x-host-time': 'Int64',\n 'x-mru-request-id': 'category',\n 'x-host': 'category',\n 'x-aicache-os': 'category',\n 'x-date': 'category',\n 'x-accel-expires-debug': 'Int64',\n 'tls_version': 'category',\n 'x-rtag': 'category',\n 'x-activity-id': 'category',\n 'ms-cv': 'category',\n 'x-appversion': 'category',\n 'x-az': 'category',\n 'ms-operation-id': 'category',\n 'x-s1': 'category',\n 'x-s2': 'category',\n 'x-trace-id': 'category',\n 'x-is-shim': 'Int64',\n 'di_verbos': 'category',\n 'x-html-minification-powered-by': 'category',\n 'x-vcap-request-id': 'category',\n 'x-akamai-erpolicy': 'category',\n 'x-akamai-erruleid': 'category',\n 'x-akamai-rtt-value': 'Int64',\n 'x-akamai-rtt': 'category',\n 'x-drupal-dynamic-cache': 'category',\n 'x-generator': 'category',\n 'x-drupal-cache': 'category',\n 'x-acquia-host': 'category',\n 'x-acquia-path': 'category',\n 'x-acquia-site': 'category',\n 'x-acquia-purge-tags': 'category',\n 'x-age': 'category',\n 'x-ibm-trace': 'category',\n 'x-default-rule': 'category',\n 'x-dell-identity-version': 'category',\n 'x-arrserver': 'category',\n 'x-akamai-pragma-client-ip': 'category',\n 'content-location': 'category',\n 'x-source-length': 'Int64',\n 'x-datacenter': 'category',\n 'x-activityid': 'category',\n 'x-resizerversion': 'category',\n 'x-akamai-ssl-client-sid': 'category',\n 'x-newrelic-app-data': 'category',\n 'x-debug-id': 'category',\n 'x-via': 'category',\n 'imageservice-release-version': 'category',\n 'imageservice-application-version': 'category',\n 'imageservice-revision': 'category',\n 'imageservice-requestid': 'category',\n 'x-sitemuse-origin': 'category',\n 'x-dell-context-proxy-time-taken': 'category',\n 'x-dell-context-proxy-upstream-time-taken': 'category',\n 'nginx-rule': 'category',\n 'x-azure-ref-originshield': 'category',\n 'x-backside-transport': 'category',\n 'x-correlation-id': 'category',\n 'x-global-transaction-id': 'category',\n 'x-ms-creation-time': 'category',\n 'x-ms-error-code': 'category',\n 'x-ms-lease-state': 'category',\n 'x-ms-server-encrypted': 'category',\n 'x-adobe-content': 'category',\n 'x-adobe-loc': 'category',\n 'x-adobe-source': 'category',\n 'x-ens-event-id': 'category',\n 'x-offsite-uuid': 'category',\n 'x-ratelimit-limit': 'Int64',\n 'x-ratelimit-remaining': 'Int64',\n 'x-ratelimit-reset': 'category',\n 'access-control-request-method': 'category',\n 'x-ms-meta-jssdkver': 'category',\n 'x-ms-meta-jssdksrc': 'category',\n 'x-ms-route-info': 'category',\n 'ppserver': 'category',\n 'express-uuid': 'category',\n 'throughput': 'category',\n 'network-type': 'category',\n 'time-delta-millis': 'Int64',\n 'x-dc-id': 'category',\n 'x-originating-referrer': 'category',\n 'x-routing-path': 'category',\n 'x-akam-sw-version': 'category',\n 'x-amz-storage-class': 'category',\n 'x-px': 'category',\n 'x-ws-request-id': 'category',\n 'ruri': 'category',\n 'edge-copy-time': 'Int64',\n 'x-via-cdn': 'category',\n 'x-via-edge': 'category',\n 'x-uidblock-version': 'Int64',\n 'x-ban': 'category',\n 'x-debug-hit': 'category',\n 'x-fc-code-checksum': 'category',\n 'x-fc-instance-id': 'category',\n 'x-fc-invocation-duration': 'Int64',\n 'x-fc-invocation-service-version': 'Int64',\n 'x-fc-max-memory-usage': 'category',\n 'x-via-ssl': 'category',\n 'lb_node': 'category',\n 'x-clacks-overhead': 'category',\n 'x-backend-server': 'category',\n 'x-rid': 'category',\n 'x-cache-age': 'category',\n 'imagex-fmt': 'category',\n 'nw-session-id': 'category',\n 'nw-session-trace': 'category',\n 'x-bdcdn-cache-status': 'category',\n 'x-response-date': 'category',\n 'x-tt-trace-id': 'category',\n 'akamai-mon-iucid-del': 'Int64',\n 'feature-policy': 'category',\n 'x-ms-token': 'category',\n 'x-tos-request-id': 'category',\n 'x-tos-response-time': 'category',\n 'x-env-reason': 'category',\n 'x-env-proxytype': 'category',\n 'x-is-interanet': 'category',\n 'x-app-reason': 'category',\n 'x-device-reason': 'category',\n 'x-device-type': 'category',\n 'x-device-id': 'category',\n 'x-selected-idc': 'category',\n 'x-selected-env': 'category',\n 'x-env-proxy-host': 'category',\n 'x-env-psm': 'category',\n 'x-env-cluster': 'category',\n 'x-env-idc': 'category',\n 'x-env-hosttype': 'category',\n 'x-api-host': 'category',\n 'x-tlb-location': 'category',\n 'x-tt-env': 'category',\n 'x-select-host-type': 'category',\n 'orihost': 'category',\n 'host': 'category',\n 'user-agent': 'category',\n 'x-real-ip': 'category',\n 'x-forwarded-for': 'category',\n 'x-cdn-tos-host': 'category',\n 'sec-ch-ua': 'category',\n 'sec-ch-ua-mobile': 'category',\n 'sec-ch-ua-platform': 'category',\n 'accept': 'category',\n 'sec-fetch-site': 'category',\n 'sec-fetch-mode': 'category',\n 'sec-fetch-dest': 'category',\n 'referer': 'category',\n 'accept-language': 'category',\n 'x-use-ppe': 'Int64',\n 'get-svc': 'Int64',\n 'x-edge-geo': 'category',\n 'x-user-geo': 'category',\n 'x-akamai-config-log-detail': 'category',\n 'akamai-origin-hop': 'Int64',\n 'x-ss-birth': 'category',\n 'x-ss-rid': 'category',\n 'x-client-scheme': 'category',\n 'x-cluster': 'category',\n 'x-tlb-cluster': 'category',\n 'x-server-name': 'category',\n 'x-tlb-backends': 'category',\n 'rpc-persist-path': 'category',\n 'x-pre-backend': 'category',\n 'x-svc': 'category',\n 'x-tlb-server-name-version': 'Int64',\n 'x-cluster-name': 'category',\n 'x-backend': 'category',\n 'x-ion-hop': 'category',\n 'x-crop-loc': 'category',\n 'x-webkit-csp': 'category',\n 'x-lb-location': 'category',\n 'x-csrf': 'category',\n 'x-frames': 'Int64',\n 'x-bytefaas-execution-duration': 'category',\n 'x-bytefaas-request-id': 'category',\n 'access-control-request-headers': 'category',\n 'tt_stable': 'Int64',\n 'bd-tt-error-code': 'Int64',\n 'gzip-server': 'category',\n 'x-janus-mini-api-forward': 'category',\n 'x-ware-csrf-token': 'category',\n 'status_code': 'Int64',\n 'upstream-caught': 'Int64',\n 'paypal-debug-id': 'category',\n 'dc': 'category',\n 'x-b3-traceid': 'category',\n 'x-pagetype': 'category',\n 'x-nyt-route': 'category',\n 'x-origin-time': 'category',\n 'x-nyt-app-webview': 'Int64',\n 'x-gdpr': 'Int64',\n 'onion-location': 'category',\n 'x-api-version': 'category',\n 'x-nyt-edge-cache': 'category',\n 'x-nyt-pagetype': 'category',\n 'x-datadog-trace-id': 'category',\n 'x-nyt-meridiem': 'category',\n 'x-nyt-continent': 'category',\n 'x-nyt-audience-target-flat': 'category',\n 'x-samizdat-query-exe-id': 'category',\n 'x-samizdat-query-field-errors': 'Int64',\n 'samizdat-x-instance': 'category',\n 'samizdat-x-canary': 'category',\n 'x-samizdat-query-sup-code': 'category',\n 'x-join-the-band': 'category',\n 'sp-trace-id': 'category',\n 'rating': 'category',\n 'ms-cv-esi': 'category',\n 'x-version': 'category',\n 'ms-commit-id': 'category',\n 'x-amz-meta-goog-reserved-file-mtime': 'Int64',\n 'headerbiding': 'Int64',\n 'x-cms-documentid': 'category',\n 'x-cms-version': 'Int64',\n 'x-cms-state': 'category',\n 'x-cms-tenant': 'category',\n 'x-cms-type': 'category',\n 'x-cms-alias': 'category',\n 'x-cms-executiontimeinmilliseconds': 'Int64',\n 'appex-activity-id': 'category',\n 'x-trace-context': 'category',\n 'x-cms-servicelocation': 'category',\n 'x-cdn-diag': 'category',\n 'x-requestid': 'category',\n 'x-requester': 'category',\n 'x-filesize': 'Int64',\n 'x-amz-meta-crc32': 'category',\n 'x-amz-meta-uploadlocation': 'category',\n 'cdn-pullzone': 'Int64',\n 'cdn-uid': 'category',\n 'cdn-requestcountrycode': 'category',\n 'cdn-proxyver': 'category',\n 'cdn-requestpullsuccess': 'category',\n 'cdn-requestpullcode': 'Int64',\n 'cdn-cachedat': 'category',\n 'cdn-status': 'Int64',\n 'cdn-requestid': 'category',\n 'cdn-cache': 'category',\n 'google-mediationgroup-id': 'category',\n 'google-mediationtag-id': 'category',\n 'x-object-meta-mtime': 'category',\n 'x-object-meta-lp-version': 'category',\n 'x-object-meta-lp-project': 'category',\n 'x-timestamp': 'category',\n 'x-trans-id': 'category',\n 'x-openstack-request-id': 'category',\n 'x-temp-format': 'category',\n 'x-amz-meta-reqid': 'category',\n 'x-amz-meta-height': 'Int64',\n 'x-amz-meta-width': 'Int64',\n 'x-cms-cost': 'category',\n 'x-cms-trace-id': 'category',\n 'backend': 'category',\n 'cdn-storageserver': 'category',\n 'cdn-fileserver': 'Int64',\n 'x-database-date': 'category',\n 'debug': 'category',\n 'yjs-id': 'category',\n 'x-image-sys': 'category',\n 'ohc-cache-hit': 'category',\n 'ohc-file-size': 'Int64',\n 'fastly-io-warning': 'category',\n 'x-cmots-campaign-names': 'category',\n 'x-magnolia-vary': 'category',\n 'sn-reqid': 'category',\n 'dpool_header': 'category',\n 'dpool_lb7_header': 'category',\n 'dpool': 'category',\n 'x-hits': 'Int64',\n 'x-origin-server': 'category',\n 'x-bce-content-crc32': 'Int64',\n 'x-bce-debug-id': 'category',\n 'x-bce-request-id': 'category',\n 'ohc-upstream-trace': 'category',\n 'ohc-response-time': 'category',\n 'x-bce-restore-cache': 'category',\n 'leju_fqdn': 'category',\n 'x-trace': 'category',\n 'collector-error': 'category',\n 'x-fpfis': 'category',\n 'x-cid': 'category',\n 'x-amz-meta-x-ysws-access': 'category',\n 'x-cdn-provider': 'category',\n 'medium-fulfilled-by': 'category',\n 'medium-missing-time': 'Int64',\n 'worker-missing-cookies': 'Int64',\n 'x-request-received-at': 'Int64',\n 'x-dropbox-request-id': 'category',\n 'x-cached': 'category',\n 'accept-encoding': 'category',\n 'x-dropbox-response-origin': 'category',\n 'meta-source': 'category',\n 'data-source': 'category',\n 'fss-cache': 'category',\n 'fss-proxy': 'category',\n 'sepia-upstream': 'category',\n 'fss-src-cache': 'category',\n 'x-imdb-graphql-request-id': 'category',\n 'x-scs-default-mode': 'category',\n 'x-daa-tunnel': 'category',\n 'keep-alive': 'category',\n 'accept-charset': 'category',\n 'x-focus-cluster': 'category',\n 'x-sticky-vk': 'category',\n 'x-vdbg': 'category',\n 'uip-response-status': 'category',\n 'frontend-id': 'Int64',\n 'routing-server-id': 'Int64',\n 'x-obvious-info': 'category',\n 'x-obvious-tid': 'category',\n 'x-opentracing': 'category',\n 'x-fe': 'Int64',\n 'x-spotx-timing-page': 'category',\n 'x-spotx-timing-page-require': 'category',\n 'x-spotx-timing-page-context': 'category',\n 'x-spotx-timing-page-uri': 'category',\n 'x-spotx-timing-page-mux': 'category',\n 'x-spotx-timing-page-cookie': 'category',\n 'x-spotx-timing-page-exception': 'category',\n 'x-spotx-timing-page-misc': 'category',\n 'x-spotx-timing-spotmarket': 'category',\n 'x-spotx-timing-spotmarket-secondary': 'category',\n 'x-spotx-timing-transform': 'category',\n 'x-function': 'Int64',\n 'x-consent': 'category',\n 'x-serv-id': 'category',\n 'x-rs': 'category',\n 'gateway-forwarding': 'category',\n 'access-time': 'Int64',\n 'an-x-request-uuid': 'category',\n 'x-proxy-origin': 'category',\n 'x-request-guid': 'category',\n 'cdchost': 'category',\n 'x-wbx-about': 'category',\n 'x-amz-expiration': 'category',\n 'x-test-debug': 'category',\n 'cf-resized': 'category',\n 'x-org': 'category',\n 'x-content-type': 'category',\n 'x-jss-request-id': 'category',\n 'x-amz-meta-s3cmd-attrs': 'category',\n 'rlogid': 'category',\n 'x-ebay-c-version': 'category',\n 'x-ebay-request-id': 'category',\n 'x-ebay-client-tls-version': 'category',\n 'x-ebay-pop-id': 'category',\n 'x-z-chihaya': 'category',\n 'normalized-user-agent': 'category',\n 'detected-user-agent': 'category',\n 'x-vicarius-origin': 'category',\n 'x-vicarius-transactionid': 'Int64',\n 'x-vicarius-hits': 'Int64',\n 'x-rl': 'category',\n 'ats-carp-promotion': 'Int64',\n 'warning': 'category',\n 'content-range': 'category',\n 'time-in-datastore': 'Int64',\n 'x-ebay-ade': 'Int64',\n 'ufes-cache-key': 'category',\n 'suppress-x-frame-options': 'category',\n 'x-ebay-c-request-id': 'category',\n 'down-rlogids': 'category',\n 'bk-server': 'category',\n 'x-amz-meta-git_commit': 'category',\n 'x-rphost': 'category',\n 'intuit_tid': 'category',\n 'x-amz-meta-version': 'category',\n 'x-amz-meta-module': 'category',\n 'x-amz-meta-type': 'category',\n 'x-amz-meta-slug': 'category',\n 'x-amz-meta-id': 'category',\n 'x-vicarius-ttl': 'category',\n 'intuit_appid': 'category',\n 'intuit_offeringid': 'category',\n 'x-application-id': 'category',\n 'intuit_received_at': 'Int64',\n 'x-ably-serverid': 'category',\n 'event_id': 'category',\n 'x-amz-apigw-id': 'category',\n 'x-custom-header': 'category',\n 'mpulse_origin_time': 'Int64',\n 'mpulse_cdn_cache': 'category',\n 'ser': 'category',\n 'x-nf-request-id': 'category',\n 'fandom.f2.datacenter': 'category',\n 'x-goog-meta-uploadedby': 'category',\n 'x-app': 'category',\n 'x-cacheable': 'category',\n 'x-servedbyhost': 'category',\n 'content-version': 'category',\n 'x-apple-request-uuid': 'category',\n 'surrogate-control': 'category',\n 'x-pants': 'category',\n 'x-thumbnailer': 'category',\n 'x-akamai-fwd-auth-sha': 'category',\n 'x-akamai-fwd-auth-data': 'category',\n 'x-akamai-fwd-auth-sign': 'category',\n 'x-fandom-language': 'category',\n 'x-amz-meta-syncfilehash': 'category',\n 'x-sorting-hat-podid': 'Int64',\n 'x-storefront-renderer-rendered': 'Int64',\n 'x-shopid': 'category',\n 'x-shardid': 'Int64',\n 'x-shopify-stage': 'category',\n 'x-akamai-http2-push': 'Int64',\n 'x-air-hostname': 'category',\n 'x-air-trace-id': 'category',\n 'x-air-source': 'category',\n 'x-snapshot-date': 'Int64',\n 'x-air-pt': 'category',\n 'x-amz-meta-revision': 'category',\n 'x-amz-meta-pci_enabled': 'category',\n 's-rt2': 'category',\n 'x-rule-name': 'category',\n 'ak-uuid': 'category',\n 'x-dae-app': 'category',\n 'x-dae-instance': 'category',\n 'x-iinfo': 'category',\n 'x-douban-mobileapp': 'Int64',\n 'x-fastly-backend-reqs': 'Int64',\n 'pics-label': 'category',\n 'x-els-platform': 'category',\n 'x-router': 'category',\n 'x-sdfe-corr-id': 'category',\n 'x-duckduckgo-locale': 'category',\n 'x-duckduckgo-moreinfo': 'category',\n 'lb_pool': 'category',\n 'x-store-type': 'category',\n 'x-oss-md5': 'category',\n 'x-oss-last-modified': 'category',\n 'x-error': 'category',\n 'x-yandex-req-id': 'category',\n 'serverid': 'category',\n 'x-oss-version-id': 'category',\n 'x-accept-terminal': 'category',\n 's': 'category',\n 's_tid': 'category',\n 's_ip': 'category',\n 's_v': 'category',\n 's_tag': 'category',\n 's_group': 'category',\n 's_ucode': 'category',\n 'x-log-time': 'Int64',\n 'x-log-requestid': 'category',\n 'x-cached-since': 'category',\n 'x-id': 'category',\n 'x-tb-traceid': 'category',\n 'x-instance-name': 'category',\n 'x-w-dc': 'category',\n 'x-build-id': 'category',\n 'x-ms-meta-fileid': 'category',\n 'geo-region': 'category',\n 'geo-city': 'category',\n 'geo-metro-code': 'Int64',\n 'imgur-media-type': 'category',\n 'x-ratelimit-clientlimit': 'Int64',\n 'x-ratelimit-clientremaining': 'Int64',\n 'x-ratelimit-clientreset': 'Int64',\n 'x-ratelimit-userremaining': 'Int64',\n 'x-responded-by': 'category',\n 'x-amz-meta-alexa-last-modified': 'Int64',\n 'odata-version': 'category',\n 'api-version': 'category',\n 'identification-source': 'category',\n 'request-id': 'category',\n 'hp_ab_var': 'category',\n 'x-recruiting': 'category',\n 'x-rg-pi': 'Int64',\n 'x-amz-meta-x-deployment-hash': 'category',\n 'srv': 'category',\n 'x-swift-error': 'category',\n 'x-selected-backend': 'category',\n 'x-restarts': 'Int64',\n 'z_ak_client_ip': 'category',\n 'aliaka_real_ip': 'category',\n 'ce-version': 'category',\n 'origin-trial': 'category',\n '_tpp_result_success_': 'category',\n 'x-apple-jingle-correlation-key': 'category',\n 'apple-seq': 'category',\n 'apple-tk': 'category',\n 'apple-originating-system': 'category',\n 'x-responding-instance': 'category',\n 'x-apple-user-partition': 'Int64',\n 'server-processing-duration-in-ticks': 'Int64',\n 'x-wormhole-fragment': 'category',\n 'x-sw-id': 'category',\n 'x-fc-error-type': 'category',\n 'backup-by-error': 'Int64',\n 'backup-from': 'category',\n 'x-air-pt-source': 'category',\n 'x-air-pt-value': 'category',\n 'x-apple-i-request-id': 'category',\n 'x-buildversion': 'category',\n 'scnt': 'category',\n 'x-apple-auth-attributes': 'category',\n 'x-apple-id-session-id': 'category',\n 'traffic-path': 'category',\n 'hvn_host': 'category',\n 'x-mnet-hl2': 'category',\n 'x-fastly-to-nlb-rtt': 'Int64',\n 'x-request-time': 'category',\n 'x-bt-requestid': 'category',\n 'x-nginx-request-id': 'category',\n 'critical-ch': 'category',\n 'req-svc-chain': 'category',\n 'x-fastly-cache-status': 'category',\n 'x-fastly-pre-flight-cache': 'category',\n 'x-fastly-pre-flight-cache-status': 'category',\n 'x-lb-nocache': 'category',\n 'reporting-endpoints': 'category',\n 'x-yourttl': 'category',\n 'x-cicero-cache': 'category',\n 'x-fastly-backend': 'category',\n 'x-fastly-x-is-cn': 'category',\n 'x-fastlyttl': 'category',\n 'x-country-code': 'category',\n 'x-postal-code': 'Int64',\n 'x-city-code': 'category',\n 'x-device': 'category',\n 'state': 'category',\n 'x-fastly-backend-url': 'category',\n 'x-orig-url': 'category',\n 'x-url': 'category',\n 'x-fastly-server-hint': 'category',\n 'x-calculatedfetarget': 'category',\n 'x-calculatedbetarget': 'category',\n 'x-rum-validated': 'Int64',\n 'x-besku': 'category',\n 'x-backend-begin': 'category',\n 'x-diaginfo': 'category',\n 'x-beserver': 'category',\n 'x-proxy-routingcorrectness': 'Int64',\n 'x-feproxyinfo': 'category',\n 'x-feefzinfo': 'category',\n 'x-feserver': 'category',\n 'x-firsthopcafeefz': 'category',\n 'x-amz-meta-owner': 'category',\n 'x-owa-version': 'category',\n 'x-owa-diagnosticsinfo': 'category',\n 'x-iids': 'Int64',\n 'x-continent-code': 'category',\n 'x-gu-edition': 'category',\n 'x-gu-debug-url': 'category',\n 'x-yandex-dc': 'category',\n 'x-amz-meta-aspect-ratio': 'category',\n 'x-amz-meta-bounds-height': 'Int64',\n 'x-amz-meta-bounds-width': 'Int64',\n 'x-amz-meta-bounds-x': 'Int64',\n 'x-amz-meta-bounds-y': 'Int64',\n 'x-fonts-legal-notice': 'category',\n 'x-amz-meta-creator': 'category',\n 'x-yandex-sts': 'Int64',\n 'x-yandex-items-count': 'Int64',\n 'uniformat': 'category',\n 'uniformat-product-type': 'category',\n 'ssr': 'category',\n 'x-amz-meta-surrogate-control': 'category',\n 'x-gu-backend-app': 'category',\n 'x-plg': 'category',\n 'x-strm-request-id': 'category',\n 'x_h': 'category',\n 'x-strm-log-split': 'Int64',\n 'x-server-time-ms': 'Int64',\n 'bid': 'category',\n 'brequestid': 'category',\n 'bsig': 'category',\n 'tcn': 'category',\n 'x-amz-meta-last-modified': 'category',\n 'x-github-request-id': 'category',\n 'x-fastly-request-id': 'category',\n 'ic-slot': 'Int64',\n 'x-dae-mountpoint': 'category',\n 'x-douban-newbid': 'category',\n 'x-cache-group': 'category',\n 'x-dae-static-version': 'category',\n 'x-k8s-sapp': 'category',\n 'x-amz-meta-evergage-beacon-ver': 'Int64',\n 'x-amz-meta-evergage-sum': 'category',\n 'x-source': 'category',\n 'x-etsy-generated': 'category',\n 'x-resource-type': 'category',\n 'x-backend-response': 'category',\n 'x-secng-response': 'category',\n 'x-udid': 'category',\n 'x-lb-timing': 'category',\n 'x-idc-id': 'Int64',\n 'x-edge-timing': 'category',\n 'size': 'Int64',\n 'x-datasrc': 'Int64',\n 'x-delay': 'category',\n 'x-info': 'category',\n 'x-rtflag': 'Int64',\n 'x-cos-request-id': 'category',\n 'x-reddit-session': 'category',\n 'x-rate-limit-remaining': 'Int64',\n 'x-konductor': 'category',\n 'x-adobe-edge': 'category',\n 'x-backup-hosts': 'category',\n 'x-backup-ips': 'category',\n 'x-ratelimit-used': 'Int64',\n 'x-moose': 'category',\n 'log-csoc-timing': 'category',\n 'azure-version': 'category',\n 'azure-sitename': 'category',\n 'azure-instanceid': 'category',\n 'azure-regionname': 'category',\n 'azure-slotname': 'category',\n 'arr-disable-session-affinity': 'category',\n 'x-msedge-flight': 'category',\n 'x-msedge-features': 'category',\n 'x-gateway-request-id': 'category',\n 'x-gateway-cache-key': 'category',\n 'x-gateway-skip-cache': 'Int64',\n 'x-etime': 'category',\n 'x-visitor-token': 'category',\n 'x-async-user-data': 'category',\n 'x-connection-speed': 'category',\n 'x-req-id': 'category',\n 'x-ms-meta-aijssdksrc': 'category',\n 'x-ms-meta-aijssdkver': 'category',\n 'x-ms-meta-lastmodified': 'category',\n 'x-ms-session-id': 'category',\n 'x-timing': 'category',\n 'x-accel-version': 'category',\n 'x-rt-iq': 'category',\n 'x-mode': 'category',\n 'x-frontend': 'category',\n 'x-aspnetmvc-version': 'category',\n 'x-as-suppresssetcookie': 'Int64',\n 'proc_node': 'category',\n 'lb': 'category',\n 'x-warning': 'category',\n 'x-ser': 'category',\n 'x-log-uid': 'category',\n 'x-ton-expected-size': 'Int64',\n 'x-deployment': 'category',\n 'x-cms-cdninvalkey': 'category',\n 'akamai-server-ip': 'category',\n 'akamai-request-id': 'category',\n 'x-mnt-h': 'category',\n 'x-mnt-w': 'category',\n 'x-sc-h': 'category',\n 'x-sc-w': 'category',\n 'x-link-via': 'category',\n 'x-cdn-request-id': 'category',\n 'x-ca-request-id': 'category',\n 'authorization': 'category',\n 'lb_header': 'category',\n 'content-transfer-encoding': 'category',\n 'x-reqid': 'category',\n 'x-svr': 'category',\n 'x-qiniu-zone': 'Int64',\n 'x-log': 'category',\n 'x-backend-name': 'category',\n 'x-debug': 'category',\n 'x-vcl-time-ms': 'Int64',\n 'x-resp-code': 'Int64',\n 'expiry': 'category',\n 'x-ig-push-state': 'category',\n 'x-ig-request-elapsed-time-ms': 'Int64',\n 'x-ig-peak-time': 'Int64',\n 'x-ig-origin-region': 'category',\n 'x-originating-url': 'category',\n 'x-netflix.nfstatus': 'Int64',\n 'x-netflix.proxy.execution-time': 'Int64',\n 'bdqid': 'category',\n 'x-fb-content-md5': 'category',\n 'cross-origin-embedder-policy-report-only': 'category',\n 'x-ig-set-www-claim': 'Int64',\n ...}"
     },
     "execution_count": 55,
     "metadata": {},
     "output_type": "execute_result"
    }
   ],
   "source": [
    "list_of_dtypes"
   ],
   "metadata": {
    "collapsed": false
   }
  },
  {
   "cell_type": "code",
   "execution_count": 56,
   "outputs": [],
   "source": [
    "data = data.astype(list_of_dtypes)"
   ],
   "metadata": {
    "collapsed": false
   }
  },
  {
   "cell_type": "code",
   "execution_count": 57,
   "outputs": [
    {
     "data": {
      "text/plain": "pragma                    category\ncontent-type              category\nlast-modified             category\naccept-ranges             category\netag                      category\n                         ...      \ndebug_plat_b              category\nx-ta                      category\nx-pbs-appsvrname          category\nx-pbs-appsvrip            category\ntracker             int32[pyarrow]\nLength: 4448, dtype: object"
     },
     "execution_count": 57,
     "metadata": {},
     "output_type": "execute_result"
    }
   ],
   "source": [
    "data.dtypes"
   ],
   "metadata": {
    "collapsed": false
   }
  },
  {
   "cell_type": "code",
   "execution_count": 58,
   "outputs": [],
   "source": [
    "def reduced_variance_per_column(column: str, dataset: pd.DataFrame) -> List[Union[str, int, float]]:\n",
    "    \"\"\"\n",
    "    Calculate the number of unique values and the ratio of missing values for a given column in a DataFrame.\n",
    "\n",
    "    Parameters\n",
    "    ----------\n",
    "    column : str\n",
    "        The name of the column for which to compute the unique values and NA ratio.\n",
    "    dataset : pd.DataFrame\n",
    "        The DataFrame containing the specified column.\n",
    "\n",
    "    Returns\n",
    "    -------\n",
    "    List[Union[str, int, float]]\n",
    "        A list containing the column name, number of unique values (excluding NaN), and NA ratio.\n",
    "    \"\"\"\n",
    "    unique_values = dataset[column].nunique(dropna=True)\n",
    "    na_ratio = dataset[column].isna().mean()\n",
    "    return [column, unique_values, round(na_ratio, 3)]"
   ],
   "metadata": {
    "collapsed": false
   }
  },
  {
   "cell_type": "code",
   "execution_count": 77,
   "outputs": [],
   "source": [
    "def create_summary_table(dataset: pd.DataFrame) -> pd.DataFrame:\n",
    "    \"\"\"\n",
    "    Create a summary table containing the number of unique values and the NA ratio for each column in a DataFrame.\n",
    "\n",
    "    Parameters\n",
    "    ----------\n",
    "    dataset : pd.DataFrame\n",
    "        The DataFrame for which to compute the summary table.\n",
    "\n",
    "    Returns\n",
    "    -------\n",
    "    pd.DataFrame\n",
    "        A DataFrame containing the number of unique values and the NA ratio for each column in the input DataFrame.\n",
    "    \"\"\"\n",
    "    table_result = dataset.apply(\n",
    "        lambda x: pd.Series(\n",
    "            {\n",
    "                \"header_name\": x.name,\n",
    "                \"unique_values\": x.nunique(dropna=True),\n",
    "                \"na_ratio\": round(x.isna().mean(), 3)\n",
    "            }\n",
    "        )\n",
    "    ).T\n",
    "\n",
    "    table_result[\"unique_values\"] = table_result[\"unique_values\"].astype(\"Int32\")\n",
    "    table_result[\"na_ratio\"] = table_result[\"na_ratio\"].astype(\"float32\")\n",
    "    table_result.reset_index(drop=True, inplace=True)\n",
    "\n",
    "    return table_result"
   ],
   "metadata": {
    "collapsed": false
   }
  },
  {
   "cell_type": "code",
   "execution_count": 78,
   "outputs": [],
   "source": [
    "summary_table = create_summary_table(data.iloc[:, :-1])"
   ],
   "metadata": {
    "collapsed": false
   }
  },
  {
   "cell_type": "code",
   "execution_count": 79,
   "outputs": [
    {
     "data": {
      "text/plain": "                header_name  unique_values  na_ratio\n0                    pragma             13     0.873\n1              content-type            324     0.037\n2             last-modified          88351     0.330\n3             accept-ranges              2     0.517\n4                      etag         113969     0.456\n...                     ...            ...       ...\n4442  x-amz-req-time-micros              3     1.000\n4443           debug_plat_b              1     1.000\n4444                   x-ta              1     1.000\n4445       x-pbs-appsvrname              1     1.000\n4446         x-pbs-appsvrip              1     1.000\n\n[4447 rows x 3 columns]",
      "text/html": "<div>\n<style scoped>\n    .dataframe tbody tr th:only-of-type {\n        vertical-align: middle;\n    }\n\n    .dataframe tbody tr th {\n        vertical-align: top;\n    }\n\n    .dataframe thead th {\n        text-align: right;\n    }\n</style>\n<table border=\"1\" class=\"dataframe\">\n  <thead>\n    <tr style=\"text-align: right;\">\n      <th></th>\n      <th>header_name</th>\n      <th>unique_values</th>\n      <th>na_ratio</th>\n    </tr>\n  </thead>\n  <tbody>\n    <tr>\n      <th>0</th>\n      <td>pragma</td>\n      <td>13</td>\n      <td>0.873</td>\n    </tr>\n    <tr>\n      <th>1</th>\n      <td>content-type</td>\n      <td>324</td>\n      <td>0.037</td>\n    </tr>\n    <tr>\n      <th>2</th>\n      <td>last-modified</td>\n      <td>88351</td>\n      <td>0.330</td>\n    </tr>\n    <tr>\n      <th>3</th>\n      <td>accept-ranges</td>\n      <td>2</td>\n      <td>0.517</td>\n    </tr>\n    <tr>\n      <th>4</th>\n      <td>etag</td>\n      <td>113969</td>\n      <td>0.456</td>\n    </tr>\n    <tr>\n      <th>...</th>\n      <td>...</td>\n      <td>...</td>\n      <td>...</td>\n    </tr>\n    <tr>\n      <th>4442</th>\n      <td>x-amz-req-time-micros</td>\n      <td>3</td>\n      <td>1.000</td>\n    </tr>\n    <tr>\n      <th>4443</th>\n      <td>debug_plat_b</td>\n      <td>1</td>\n      <td>1.000</td>\n    </tr>\n    <tr>\n      <th>4444</th>\n      <td>x-ta</td>\n      <td>1</td>\n      <td>1.000</td>\n    </tr>\n    <tr>\n      <th>4445</th>\n      <td>x-pbs-appsvrname</td>\n      <td>1</td>\n      <td>1.000</td>\n    </tr>\n    <tr>\n      <th>4446</th>\n      <td>x-pbs-appsvrip</td>\n      <td>1</td>\n      <td>1.000</td>\n    </tr>\n  </tbody>\n</table>\n<p>4447 rows × 3 columns</p>\n</div>"
     },
     "execution_count": 79,
     "metadata": {},
     "output_type": "execute_result"
    }
   ],
   "source": [
    "summary_table"
   ],
   "metadata": {
    "collapsed": false
   }
  },
  {
   "cell_type": "code",
   "execution_count": 80,
   "outputs": [],
   "source": [
    "remove_headers_with_one_na_ratio = summary_table[\n",
    "    summary_table[\"na_ratio\"] == 1\n",
    "    ].header_name.values.tolist()\n",
    "remove_headers_with_one_value = summary_table[\n",
    "    (summary_table[\"unique_values\"] <= 1) & (summary_table[\"na_ratio\"] != 1)\n",
    "    ].header_name.values.tolist()"
   ],
   "metadata": {
    "collapsed": false
   }
  },
  {
   "cell_type": "code",
   "execution_count": 83,
   "outputs": [],
   "source": [
    "data.drop(remove_headers_with_one_na_ratio, axis=1, inplace=True)\n",
    "data.drop(remove_headers_with_one_value, axis=1, inplace=True)"
   ],
   "metadata": {
    "collapsed": false
   }
  },
  {
   "cell_type": "code",
   "execution_count": 84,
   "outputs": [
    {
     "data": {
      "text/plain": "          pragma                    content-type   \n0            NaN  text/javascript; charset=utf-8  \\\n1            NaN          application/javascript   \n2       no-cache                       image/gif   \n3       no-cache                             NaN   \n4            NaN        text/html; charset=utf-8   \n...          ...                             ...   \n271999       NaN                       image/png   \n272000  no-cache                             NaN   \n272001       NaN             binary/octet-stream   \n272002       NaN                 application/xml   \n272003       NaN  text/javascript; charset=utf-8   \n\n                        last-modified accept-ranges   \n0                                 NaN           NaN  \\\n1       mon, 08 aug 2022 21:56:59 gmt           NaN   \n2                                 NaN           NaN   \n3                                 NaN           NaN   \n4                                 NaN           NaN   \n...                               ...           ...   \n271999  fri, 12 nov 2021 05:09:38 gmt         bytes   \n272000  fri, 12 aug 2022 09:22:13 gmt           NaN   \n272001  mon, 20 dec 2021 02:24:19 gmt         bytes   \n272002  thu, 26 apr 2018 18:25:27 gmt         bytes   \n272003  wed, 03 aug 2022 12:04:53 gmt           NaN   \n\n                                      etag   \n0                     15601544113783900868  \\\n1                                     <NA>   \n2                                     <NA>   \n3                                     <NA>   \n4                                     <NA>   \n...                                    ...   \n271999                     \"618df712-2509\"   \n272000                                <NA>   \n272001  \"4abfa4888190370d347034f9fa43c804\"   \n272002                 w/\"29a-1630333f5d8\"   \n272003                   0x8da754860160d55   \n\n                                                      p3p x-xss-protection   \n0       policyref=\"https://www.googleadservices.com/pa...                0  \\\n1                                                    <NA>              NaN   \n2       policyref=\"https://www.googleadservices.com/pa...                0   \n3                                                    <NA>              NaN   \n4                                                    <NA>              NaN   \n...                                                   ...              ...   \n271999                                               <NA>              NaN   \n272000                                               <NA>              NaN   \n272001                                               <NA>              NaN   \n272002                                               <NA>    1; mode=block   \n272003                                               <NA>              NaN   \n\n       x-content-type-options            strict-transport-security   \n0                     nosniff                                 <NA>  \\\n1                     nosniff  max-age=31536000; includesubdomains   \n2                     nosniff                                 <NA>   \n3                         NaN                                 <NA>   \n4                         NaN  max-age=15724800; includesubdomains   \n...                       ...                                  ...   \n271999                    NaN                          max-age=300   \n272000                nosniff                                 <NA>   \n272001                    NaN                                 <NA>   \n272002                nosniff            max-age=31536000; preload   \n272003                    NaN                                 <NA>   \n\n       x-robots-tag  ... z-stale-enabled z-fastly-info-state z-backend-name   \n0              <NA>  ...            <NA>                <NA>           <NA>  \\\n1              <NA>  ...            <NA>                <NA>           <NA>   \n2              <NA>  ...            <NA>                <NA>           <NA>   \n3              <NA>  ...            <NA>                <NA>           <NA>   \n4              <NA>  ...            <NA>                <NA>           <NA>   \n...             ...  ...             ...                 ...            ...   \n271999         <NA>  ...            <NA>                <NA>           <NA>   \n272000         <NA>  ...            <NA>                <NA>           <NA>   \n272001         <NA>  ...            <NA>                <NA>           <NA>   \n272002         <NA>  ...            <NA>                <NA>           <NA>   \n272003         <NA>  ...            <NA>                <NA>           <NA>   \n\n       z-react-reason z-polopoly-beckend  z-url-original z-url-modified   \n0                <NA>               <NA>            <NA>            NaN  \\\n1                <NA>               <NA>            <NA>            NaN   \n2                <NA>               <NA>            <NA>            NaN   \n3                <NA>               <NA>            <NA>            NaN   \n4                <NA>               <NA>            <NA>            NaN   \n...               ...                ...             ...            ...   \n271999           <NA>               <NA>            <NA>            NaN   \n272000           <NA>               <NA>            <NA>            NaN   \n272001           <NA>               <NA>            <NA>            NaN   \n272002           <NA>               <NA>            <NA>            NaN   \n272003           <NA>               <NA>            <NA>            NaN   \n\n       z-surrogate-keys z-actions-log tracker  \n0                  <NA>          <NA>       1  \n1                  <NA>          <NA>       0  \n2                  <NA>          <NA>       1  \n3                  <NA>          <NA>       0  \n4                  <NA>          <NA>       0  \n...                 ...           ...     ...  \n271999             <NA>          <NA>       0  \n272000             <NA>          <NA>       1  \n272001             <NA>          <NA>       0  \n272002             <NA>          <NA>       0  \n272003             <NA>          <NA>       0  \n\n[272004 rows x 484 columns]",
      "text/html": "<div>\n<style scoped>\n    .dataframe tbody tr th:only-of-type {\n        vertical-align: middle;\n    }\n\n    .dataframe tbody tr th {\n        vertical-align: top;\n    }\n\n    .dataframe thead th {\n        text-align: right;\n    }\n</style>\n<table border=\"1\" class=\"dataframe\">\n  <thead>\n    <tr style=\"text-align: right;\">\n      <th></th>\n      <th>pragma</th>\n      <th>content-type</th>\n      <th>last-modified</th>\n      <th>accept-ranges</th>\n      <th>etag</th>\n      <th>p3p</th>\n      <th>x-xss-protection</th>\n      <th>x-content-type-options</th>\n      <th>strict-transport-security</th>\n      <th>x-robots-tag</th>\n      <th>...</th>\n      <th>z-stale-enabled</th>\n      <th>z-fastly-info-state</th>\n      <th>z-backend-name</th>\n      <th>z-react-reason</th>\n      <th>z-polopoly-beckend</th>\n      <th>z-url-original</th>\n      <th>z-url-modified</th>\n      <th>z-surrogate-keys</th>\n      <th>z-actions-log</th>\n      <th>tracker</th>\n    </tr>\n  </thead>\n  <tbody>\n    <tr>\n      <th>0</th>\n      <td>NaN</td>\n      <td>text/javascript; charset=utf-8</td>\n      <td>NaN</td>\n      <td>NaN</td>\n      <td>15601544113783900868</td>\n      <td>policyref=\"https://www.googleadservices.com/pa...</td>\n      <td>0</td>\n      <td>nosniff</td>\n      <td>&lt;NA&gt;</td>\n      <td>&lt;NA&gt;</td>\n      <td>...</td>\n      <td>&lt;NA&gt;</td>\n      <td>&lt;NA&gt;</td>\n      <td>&lt;NA&gt;</td>\n      <td>&lt;NA&gt;</td>\n      <td>&lt;NA&gt;</td>\n      <td>&lt;NA&gt;</td>\n      <td>NaN</td>\n      <td>&lt;NA&gt;</td>\n      <td>&lt;NA&gt;</td>\n      <td>1</td>\n    </tr>\n    <tr>\n      <th>1</th>\n      <td>NaN</td>\n      <td>application/javascript</td>\n      <td>mon, 08 aug 2022 21:56:59 gmt</td>\n      <td>NaN</td>\n      <td>&lt;NA&gt;</td>\n      <td>&lt;NA&gt;</td>\n      <td>NaN</td>\n      <td>nosniff</td>\n      <td>max-age=31536000; includesubdomains</td>\n      <td>&lt;NA&gt;</td>\n      <td>...</td>\n      <td>&lt;NA&gt;</td>\n      <td>&lt;NA&gt;</td>\n      <td>&lt;NA&gt;</td>\n      <td>&lt;NA&gt;</td>\n      <td>&lt;NA&gt;</td>\n      <td>&lt;NA&gt;</td>\n      <td>NaN</td>\n      <td>&lt;NA&gt;</td>\n      <td>&lt;NA&gt;</td>\n      <td>0</td>\n    </tr>\n    <tr>\n      <th>2</th>\n      <td>no-cache</td>\n      <td>image/gif</td>\n      <td>NaN</td>\n      <td>NaN</td>\n      <td>&lt;NA&gt;</td>\n      <td>policyref=\"https://www.googleadservices.com/pa...</td>\n      <td>0</td>\n      <td>nosniff</td>\n      <td>&lt;NA&gt;</td>\n      <td>&lt;NA&gt;</td>\n      <td>...</td>\n      <td>&lt;NA&gt;</td>\n      <td>&lt;NA&gt;</td>\n      <td>&lt;NA&gt;</td>\n      <td>&lt;NA&gt;</td>\n      <td>&lt;NA&gt;</td>\n      <td>&lt;NA&gt;</td>\n      <td>NaN</td>\n      <td>&lt;NA&gt;</td>\n      <td>&lt;NA&gt;</td>\n      <td>1</td>\n    </tr>\n    <tr>\n      <th>3</th>\n      <td>no-cache</td>\n      <td>NaN</td>\n      <td>NaN</td>\n      <td>NaN</td>\n      <td>&lt;NA&gt;</td>\n      <td>&lt;NA&gt;</td>\n      <td>NaN</td>\n      <td>NaN</td>\n      <td>&lt;NA&gt;</td>\n      <td>&lt;NA&gt;</td>\n      <td>...</td>\n      <td>&lt;NA&gt;</td>\n      <td>&lt;NA&gt;</td>\n      <td>&lt;NA&gt;</td>\n      <td>&lt;NA&gt;</td>\n      <td>&lt;NA&gt;</td>\n      <td>&lt;NA&gt;</td>\n      <td>NaN</td>\n      <td>&lt;NA&gt;</td>\n      <td>&lt;NA&gt;</td>\n      <td>0</td>\n    </tr>\n    <tr>\n      <th>4</th>\n      <td>NaN</td>\n      <td>text/html; charset=utf-8</td>\n      <td>NaN</td>\n      <td>NaN</td>\n      <td>&lt;NA&gt;</td>\n      <td>&lt;NA&gt;</td>\n      <td>NaN</td>\n      <td>NaN</td>\n      <td>max-age=15724800; includesubdomains</td>\n      <td>&lt;NA&gt;</td>\n      <td>...</td>\n      <td>&lt;NA&gt;</td>\n      <td>&lt;NA&gt;</td>\n      <td>&lt;NA&gt;</td>\n      <td>&lt;NA&gt;</td>\n      <td>&lt;NA&gt;</td>\n      <td>&lt;NA&gt;</td>\n      <td>NaN</td>\n      <td>&lt;NA&gt;</td>\n      <td>&lt;NA&gt;</td>\n      <td>0</td>\n    </tr>\n    <tr>\n      <th>...</th>\n      <td>...</td>\n      <td>...</td>\n      <td>...</td>\n      <td>...</td>\n      <td>...</td>\n      <td>...</td>\n      <td>...</td>\n      <td>...</td>\n      <td>...</td>\n      <td>...</td>\n      <td>...</td>\n      <td>...</td>\n      <td>...</td>\n      <td>...</td>\n      <td>...</td>\n      <td>...</td>\n      <td>...</td>\n      <td>...</td>\n      <td>...</td>\n      <td>...</td>\n      <td>...</td>\n    </tr>\n    <tr>\n      <th>271999</th>\n      <td>NaN</td>\n      <td>image/png</td>\n      <td>fri, 12 nov 2021 05:09:38 gmt</td>\n      <td>bytes</td>\n      <td>\"618df712-2509\"</td>\n      <td>&lt;NA&gt;</td>\n      <td>NaN</td>\n      <td>NaN</td>\n      <td>max-age=300</td>\n      <td>&lt;NA&gt;</td>\n      <td>...</td>\n      <td>&lt;NA&gt;</td>\n      <td>&lt;NA&gt;</td>\n      <td>&lt;NA&gt;</td>\n      <td>&lt;NA&gt;</td>\n      <td>&lt;NA&gt;</td>\n      <td>&lt;NA&gt;</td>\n      <td>NaN</td>\n      <td>&lt;NA&gt;</td>\n      <td>&lt;NA&gt;</td>\n      <td>0</td>\n    </tr>\n    <tr>\n      <th>272000</th>\n      <td>no-cache</td>\n      <td>NaN</td>\n      <td>fri, 12 aug 2022 09:22:13 gmt</td>\n      <td>NaN</td>\n      <td>&lt;NA&gt;</td>\n      <td>&lt;NA&gt;</td>\n      <td>NaN</td>\n      <td>nosniff</td>\n      <td>&lt;NA&gt;</td>\n      <td>&lt;NA&gt;</td>\n      <td>...</td>\n      <td>&lt;NA&gt;</td>\n      <td>&lt;NA&gt;</td>\n      <td>&lt;NA&gt;</td>\n      <td>&lt;NA&gt;</td>\n      <td>&lt;NA&gt;</td>\n      <td>&lt;NA&gt;</td>\n      <td>NaN</td>\n      <td>&lt;NA&gt;</td>\n      <td>&lt;NA&gt;</td>\n      <td>1</td>\n    </tr>\n    <tr>\n      <th>272001</th>\n      <td>NaN</td>\n      <td>binary/octet-stream</td>\n      <td>mon, 20 dec 2021 02:24:19 gmt</td>\n      <td>bytes</td>\n      <td>\"4abfa4888190370d347034f9fa43c804\"</td>\n      <td>&lt;NA&gt;</td>\n      <td>NaN</td>\n      <td>NaN</td>\n      <td>&lt;NA&gt;</td>\n      <td>&lt;NA&gt;</td>\n      <td>...</td>\n      <td>&lt;NA&gt;</td>\n      <td>&lt;NA&gt;</td>\n      <td>&lt;NA&gt;</td>\n      <td>&lt;NA&gt;</td>\n      <td>&lt;NA&gt;</td>\n      <td>&lt;NA&gt;</td>\n      <td>NaN</td>\n      <td>&lt;NA&gt;</td>\n      <td>&lt;NA&gt;</td>\n      <td>0</td>\n    </tr>\n    <tr>\n      <th>272002</th>\n      <td>NaN</td>\n      <td>application/xml</td>\n      <td>thu, 26 apr 2018 18:25:27 gmt</td>\n      <td>bytes</td>\n      <td>w/\"29a-1630333f5d8\"</td>\n      <td>&lt;NA&gt;</td>\n      <td>1; mode=block</td>\n      <td>nosniff</td>\n      <td>max-age=31536000; preload</td>\n      <td>&lt;NA&gt;</td>\n      <td>...</td>\n      <td>&lt;NA&gt;</td>\n      <td>&lt;NA&gt;</td>\n      <td>&lt;NA&gt;</td>\n      <td>&lt;NA&gt;</td>\n      <td>&lt;NA&gt;</td>\n      <td>&lt;NA&gt;</td>\n      <td>NaN</td>\n      <td>&lt;NA&gt;</td>\n      <td>&lt;NA&gt;</td>\n      <td>0</td>\n    </tr>\n    <tr>\n      <th>272003</th>\n      <td>NaN</td>\n      <td>text/javascript; charset=utf-8</td>\n      <td>wed, 03 aug 2022 12:04:53 gmt</td>\n      <td>NaN</td>\n      <td>0x8da754860160d55</td>\n      <td>&lt;NA&gt;</td>\n      <td>NaN</td>\n      <td>NaN</td>\n      <td>&lt;NA&gt;</td>\n      <td>&lt;NA&gt;</td>\n      <td>...</td>\n      <td>&lt;NA&gt;</td>\n      <td>&lt;NA&gt;</td>\n      <td>&lt;NA&gt;</td>\n      <td>&lt;NA&gt;</td>\n      <td>&lt;NA&gt;</td>\n      <td>&lt;NA&gt;</td>\n      <td>NaN</td>\n      <td>&lt;NA&gt;</td>\n      <td>&lt;NA&gt;</td>\n      <td>0</td>\n    </tr>\n  </tbody>\n</table>\n<p>272004 rows × 484 columns</p>\n</div>"
     },
     "execution_count": 84,
     "metadata": {},
     "output_type": "execute_result"
    }
   ],
   "source": [
    "data"
   ],
   "metadata": {
    "collapsed": false
   }
  },
  {
   "cell_type": "code",
   "execution_count": 85,
   "outputs": [],
   "source": [
    "del remove_headers_with_one_na_ratio\n",
    "del summary_table"
   ],
   "metadata": {
    "collapsed": false
   }
  },
  {
   "cell_type": "code",
   "execution_count": 94,
   "outputs": [],
   "source": [
    "def count_trackers_and_non_trackers(column: pd.Series, tracker: pd.Series) -> List[Union[str, int]]:\n",
    "    \"\"\"\n",
    "    Count the number of trackers and non-trackers in a given column of a DataFrame.\n",
    "\n",
    "    Parameters\n",
    "    ----------\n",
    "    column : pd.Series\n",
    "        The column to count trackers and non-trackers.\n",
    "    tracker : pd.Series\n",
    "        The 'tracker' column from the DataFrame.\n",
    "\n",
    "    Returns\n",
    "    -------\n",
    "    List[Union[str, int]]\n",
    "        A list containing the column name, the number of trackers, and the number of non-trackers.\n",
    "    \"\"\"\n",
    "    column_name = column.name\n",
    "    notnull_mask = column.notnull()\n",
    "    tracker_ratio = tracker[notnull_mask].value_counts()\n",
    "    try:\n",
    "        trackers = tracker_ratio[1]\n",
    "    except KeyError:\n",
    "        trackers = 0\n",
    "    try:\n",
    "        non_trackers = tracker_ratio[0]\n",
    "    except KeyError:\n",
    "        non_trackers = 0\n",
    "    return [column_name, trackers, non_trackers]\n",
    "\n",
    "\n",
    "def create_summary_table_2(dataset: pd.DataFrame) -> pd.DataFrame:\n",
    "    number_of_elements_reduced = np.array(\n",
    "        [\n",
    "            count_trackers_and_non_trackers(dataset[column], dataset[\"tracker\"])\n",
    "            for column in dataset.iloc[:, 4:-1].columns\n",
    "        ]\n",
    "    )\n",
    "    summary_table_2 = pd.DataFrame(\n",
    "        number_of_elements_reduced, columns=[\"header_name\", \"trackers\", \"non_trackers\"]\n",
    "    )\n",
    "    summary_table_2[\"trackers\"] = summary_table_2[\"trackers\"].astype(\"Int32\")\n",
    "    summary_table_2[\"non_trackers\"] = summary_table_2[\"non_trackers\"].astype(\"float32\")\n",
    "    summary_table_2[\"ratio\"] = (\n",
    "        summary_table_2[\"trackers\"] / summary_table_2[\"non_trackers\"]\n",
    "    ) * 100\n",
    "    summary_table_2[\"ratio2\"] = (\n",
    "        summary_table_2[\"non_trackers\"] / summary_table_2[\"trackers\"]\n",
    "    ) * 100\n",
    "    return summary_table_2\n"
   ],
   "metadata": {
    "collapsed": false
   }
  },
  {
   "cell_type": "code",
   "execution_count": 97,
   "outputs": [
    {
     "name": "stdout",
     "output_type": "stream",
     "text": [
      "CPU times: user 497 ms, sys: 203 ms, total: 700 ms\n",
      "Wall time: 815 ms\n"
     ]
    }
   ],
   "source": [
    "%%time\n",
    "summary_table_2 = create_summary_table_2(data)"
   ],
   "metadata": {
    "collapsed": false
   }
  },
  {
   "cell_type": "code",
   "execution_count": 111,
   "outputs": [],
   "source": [
    "def update_combined_columns(dataset: pd.DataFrame, col_list: List[str], classification: int, column_name: str) -> None:\n",
    "    \"\"\"\n",
    "    Update the combined columns in the dataset based on given column list and classification.\n",
    "\n",
    "    Parameters\n",
    "    ----------\n",
    "    dataset : pd.DataFrame\n",
    "        The dataset to update.\n",
    "    col_list : List[str]\n",
    "        The list of columns to process.\n",
    "    classification : int\n",
    "        The classification value (0 or 1) to filter rows in the dataset.\n",
    "    column_name : str\n",
    "        The name of the column to update in the dataset.\n",
    "    \"\"\"\n",
    "    indices = [\n",
    "        dataset[(dataset[col].notnull()) & (dataset[\"tracker\"] == classification)].index.tolist()\n",
    "        for col in col_list\n",
    "    ]\n",
    "    indices_concat = list(np.concatenate(indices).flat)\n",
    "    count_indices = dict(Counter(indices_concat))\n",
    "\n",
    "    for key, value in count_indices.items():\n",
    "        dataset.at[key, column_name] = value\n",
    "\n",
    "\n",
    "def find_cols_to_combine(information_table: pd.DataFrame) -> Tuple[List[str], List[str]]:\n",
    "    \"\"\"\n",
    "    Find columns to combine based on the given information table.\n",
    "\n",
    "    Parameters\n",
    "    ----------\n",
    "    information_table : pd.DataFrame\n",
    "        A summary table with column information.\n",
    "\n",
    "    Returns\n",
    "    -------\n",
    "    Tuple[List[str], List[str]]\n",
    "        A tuple containing two lists of column names: one for non-trackers and one for trackers.\n",
    "    \"\"\"\n",
    "    only_non_trackers = information_table[\n",
    "        information_table[\"ratio\"] <= 10\n",
    "    ].header_name.values.tolist()\n",
    "    only_trackers = information_table[\n",
    "        information_table[\"ratio2\"] <= 10\n",
    "    ].header_name.values.tolist()\n",
    "    return only_non_trackers, only_trackers\n",
    "\n",
    "\n",
    "def concise_information_wrapper(dataset: pd.DataFrame, table: pd.DataFrame) -> None:\n",
    "    \"\"\"\n",
    "    Process dataset with concise information and update the dataset with combined columns.\n",
    "\n",
    "    Parameters\n",
    "    ----------\n",
    "    dataset : pd.DataFrame\n",
    "        The dataset to process and update.\n",
    "    table : pd.DataFrame\n",
    "        A summary table with column information.\n",
    "    \"\"\"\n",
    "\n",
    "    only_non_tracker_cols, only_tracker_cols = find_cols_to_combine(table)\n",
    "\n",
    "    dataset[\"comb_col_non_tracker\"] = 0\n",
    "    dataset[\"comb_col_tracker\"] = 0\n",
    "\n",
    "    update_combined_columns(dataset, only_tracker_cols, 1, \"comb_col_tracker\")\n",
    "    update_combined_columns(dataset, only_non_tracker_cols, 0, \"comb_col_non_tracker\")"
   ],
   "metadata": {
    "collapsed": false
   }
  },
  {
   "cell_type": "code",
   "execution_count": 112,
   "outputs": [],
   "source": [
    "concise_information_wrapper(data, summary_table_2)"
   ],
   "metadata": {
    "collapsed": false
   }
  },
  {
   "cell_type": "code",
   "execution_count": 113,
   "outputs": [
    {
     "data": {
      "text/plain": "          pragma                    content-type   \n0            NaN  text/javascript; charset=utf-8  \\\n1            NaN          application/javascript   \n2       no-cache                       image/gif   \n3       no-cache                             NaN   \n4            NaN        text/html; charset=utf-8   \n...          ...                             ...   \n271999       NaN                       image/png   \n272000  no-cache                             NaN   \n272001       NaN             binary/octet-stream   \n272002       NaN                 application/xml   \n272003       NaN  text/javascript; charset=utf-8   \n\n                        last-modified accept-ranges   \n0                                 NaN           NaN  \\\n1       mon, 08 aug 2022 21:56:59 gmt           NaN   \n2                                 NaN           NaN   \n3                                 NaN           NaN   \n4                                 NaN           NaN   \n...                               ...           ...   \n271999  fri, 12 nov 2021 05:09:38 gmt         bytes   \n272000  fri, 12 aug 2022 09:22:13 gmt           NaN   \n272001  mon, 20 dec 2021 02:24:19 gmt         bytes   \n272002  thu, 26 apr 2018 18:25:27 gmt         bytes   \n272003  wed, 03 aug 2022 12:04:53 gmt           NaN   \n\n                                      etag   \n0                     15601544113783900868  \\\n1                                     <NA>   \n2                                     <NA>   \n3                                     <NA>   \n4                                     <NA>   \n...                                    ...   \n271999                     \"618df712-2509\"   \n272000                                <NA>   \n272001  \"4abfa4888190370d347034f9fa43c804\"   \n272002                 w/\"29a-1630333f5d8\"   \n272003                   0x8da754860160d55   \n\n                                                      p3p x-xss-protection   \n0       policyref=\"https://www.googleadservices.com/pa...                0  \\\n1                                                    <NA>              NaN   \n2       policyref=\"https://www.googleadservices.com/pa...                0   \n3                                                    <NA>              NaN   \n4                                                    <NA>              NaN   \n...                                                   ...              ...   \n271999                                               <NA>              NaN   \n272000                                               <NA>              NaN   \n272001                                               <NA>              NaN   \n272002                                               <NA>    1; mode=block   \n272003                                               <NA>              NaN   \n\n       x-content-type-options            strict-transport-security   \n0                     nosniff                                 <NA>  \\\n1                     nosniff  max-age=31536000; includesubdomains   \n2                     nosniff                                 <NA>   \n3                         NaN                                 <NA>   \n4                         NaN  max-age=15724800; includesubdomains   \n...                       ...                                  ...   \n271999                    NaN                          max-age=300   \n272000                nosniff                                 <NA>   \n272001                    NaN                                 <NA>   \n272002                nosniff            max-age=31536000; preload   \n272003                    NaN                                 <NA>   \n\n       x-robots-tag  ... z-backend-name z-react-reason z-polopoly-beckend   \n0              <NA>  ...           <NA>           <NA>               <NA>  \\\n1              <NA>  ...           <NA>           <NA>               <NA>   \n2              <NA>  ...           <NA>           <NA>               <NA>   \n3              <NA>  ...           <NA>           <NA>               <NA>   \n4              <NA>  ...           <NA>           <NA>               <NA>   \n...             ...  ...            ...            ...                ...   \n271999         <NA>  ...           <NA>           <NA>               <NA>   \n272000         <NA>  ...           <NA>           <NA>               <NA>   \n272001         <NA>  ...           <NA>           <NA>               <NA>   \n272002         <NA>  ...           <NA>           <NA>               <NA>   \n272003         <NA>  ...           <NA>           <NA>               <NA>   \n\n       z-url-original z-url-modified  z-surrogate-keys z-actions-log tracker   \n0                <NA>            NaN              <NA>          <NA>       1  \\\n1                <NA>            NaN              <NA>          <NA>       0   \n2                <NA>            NaN              <NA>          <NA>       1   \n3                <NA>            NaN              <NA>          <NA>       0   \n4                <NA>            NaN              <NA>          <NA>       0   \n...               ...            ...               ...           ...     ...   \n271999           <NA>            NaN              <NA>          <NA>       0   \n272000           <NA>            NaN              <NA>          <NA>       1   \n272001           <NA>            NaN              <NA>          <NA>       0   \n272002           <NA>            NaN              <NA>          <NA>       0   \n272003           <NA>            NaN              <NA>          <NA>       0   \n\n       comb_col_non_tracker comb_col_tracker  \n0                         0                0  \n1                         2                0  \n2                         0                0  \n3                         1                0  \n4                         0                0  \n...                     ...              ...  \n271999                    5                0  \n272000                    0                0  \n272001                    0                0  \n272002                    1                0  \n272003                    5                0  \n\n[272004 rows x 486 columns]",
      "text/html": "<div>\n<style scoped>\n    .dataframe tbody tr th:only-of-type {\n        vertical-align: middle;\n    }\n\n    .dataframe tbody tr th {\n        vertical-align: top;\n    }\n\n    .dataframe thead th {\n        text-align: right;\n    }\n</style>\n<table border=\"1\" class=\"dataframe\">\n  <thead>\n    <tr style=\"text-align: right;\">\n      <th></th>\n      <th>pragma</th>\n      <th>content-type</th>\n      <th>last-modified</th>\n      <th>accept-ranges</th>\n      <th>etag</th>\n      <th>p3p</th>\n      <th>x-xss-protection</th>\n      <th>x-content-type-options</th>\n      <th>strict-transport-security</th>\n      <th>x-robots-tag</th>\n      <th>...</th>\n      <th>z-backend-name</th>\n      <th>z-react-reason</th>\n      <th>z-polopoly-beckend</th>\n      <th>z-url-original</th>\n      <th>z-url-modified</th>\n      <th>z-surrogate-keys</th>\n      <th>z-actions-log</th>\n      <th>tracker</th>\n      <th>comb_col_non_tracker</th>\n      <th>comb_col_tracker</th>\n    </tr>\n  </thead>\n  <tbody>\n    <tr>\n      <th>0</th>\n      <td>NaN</td>\n      <td>text/javascript; charset=utf-8</td>\n      <td>NaN</td>\n      <td>NaN</td>\n      <td>15601544113783900868</td>\n      <td>policyref=\"https://www.googleadservices.com/pa...</td>\n      <td>0</td>\n      <td>nosniff</td>\n      <td>&lt;NA&gt;</td>\n      <td>&lt;NA&gt;</td>\n      <td>...</td>\n      <td>&lt;NA&gt;</td>\n      <td>&lt;NA&gt;</td>\n      <td>&lt;NA&gt;</td>\n      <td>&lt;NA&gt;</td>\n      <td>NaN</td>\n      <td>&lt;NA&gt;</td>\n      <td>&lt;NA&gt;</td>\n      <td>1</td>\n      <td>0</td>\n      <td>0</td>\n    </tr>\n    <tr>\n      <th>1</th>\n      <td>NaN</td>\n      <td>application/javascript</td>\n      <td>mon, 08 aug 2022 21:56:59 gmt</td>\n      <td>NaN</td>\n      <td>&lt;NA&gt;</td>\n      <td>&lt;NA&gt;</td>\n      <td>NaN</td>\n      <td>nosniff</td>\n      <td>max-age=31536000; includesubdomains</td>\n      <td>&lt;NA&gt;</td>\n      <td>...</td>\n      <td>&lt;NA&gt;</td>\n      <td>&lt;NA&gt;</td>\n      <td>&lt;NA&gt;</td>\n      <td>&lt;NA&gt;</td>\n      <td>NaN</td>\n      <td>&lt;NA&gt;</td>\n      <td>&lt;NA&gt;</td>\n      <td>0</td>\n      <td>2</td>\n      <td>0</td>\n    </tr>\n    <tr>\n      <th>2</th>\n      <td>no-cache</td>\n      <td>image/gif</td>\n      <td>NaN</td>\n      <td>NaN</td>\n      <td>&lt;NA&gt;</td>\n      <td>policyref=\"https://www.googleadservices.com/pa...</td>\n      <td>0</td>\n      <td>nosniff</td>\n      <td>&lt;NA&gt;</td>\n      <td>&lt;NA&gt;</td>\n      <td>...</td>\n      <td>&lt;NA&gt;</td>\n      <td>&lt;NA&gt;</td>\n      <td>&lt;NA&gt;</td>\n      <td>&lt;NA&gt;</td>\n      <td>NaN</td>\n      <td>&lt;NA&gt;</td>\n      <td>&lt;NA&gt;</td>\n      <td>1</td>\n      <td>0</td>\n      <td>0</td>\n    </tr>\n    <tr>\n      <th>3</th>\n      <td>no-cache</td>\n      <td>NaN</td>\n      <td>NaN</td>\n      <td>NaN</td>\n      <td>&lt;NA&gt;</td>\n      <td>&lt;NA&gt;</td>\n      <td>NaN</td>\n      <td>NaN</td>\n      <td>&lt;NA&gt;</td>\n      <td>&lt;NA&gt;</td>\n      <td>...</td>\n      <td>&lt;NA&gt;</td>\n      <td>&lt;NA&gt;</td>\n      <td>&lt;NA&gt;</td>\n      <td>&lt;NA&gt;</td>\n      <td>NaN</td>\n      <td>&lt;NA&gt;</td>\n      <td>&lt;NA&gt;</td>\n      <td>0</td>\n      <td>1</td>\n      <td>0</td>\n    </tr>\n    <tr>\n      <th>4</th>\n      <td>NaN</td>\n      <td>text/html; charset=utf-8</td>\n      <td>NaN</td>\n      <td>NaN</td>\n      <td>&lt;NA&gt;</td>\n      <td>&lt;NA&gt;</td>\n      <td>NaN</td>\n      <td>NaN</td>\n      <td>max-age=15724800; includesubdomains</td>\n      <td>&lt;NA&gt;</td>\n      <td>...</td>\n      <td>&lt;NA&gt;</td>\n      <td>&lt;NA&gt;</td>\n      <td>&lt;NA&gt;</td>\n      <td>&lt;NA&gt;</td>\n      <td>NaN</td>\n      <td>&lt;NA&gt;</td>\n      <td>&lt;NA&gt;</td>\n      <td>0</td>\n      <td>0</td>\n      <td>0</td>\n    </tr>\n    <tr>\n      <th>...</th>\n      <td>...</td>\n      <td>...</td>\n      <td>...</td>\n      <td>...</td>\n      <td>...</td>\n      <td>...</td>\n      <td>...</td>\n      <td>...</td>\n      <td>...</td>\n      <td>...</td>\n      <td>...</td>\n      <td>...</td>\n      <td>...</td>\n      <td>...</td>\n      <td>...</td>\n      <td>...</td>\n      <td>...</td>\n      <td>...</td>\n      <td>...</td>\n      <td>...</td>\n      <td>...</td>\n    </tr>\n    <tr>\n      <th>271999</th>\n      <td>NaN</td>\n      <td>image/png</td>\n      <td>fri, 12 nov 2021 05:09:38 gmt</td>\n      <td>bytes</td>\n      <td>\"618df712-2509\"</td>\n      <td>&lt;NA&gt;</td>\n      <td>NaN</td>\n      <td>NaN</td>\n      <td>max-age=300</td>\n      <td>&lt;NA&gt;</td>\n      <td>...</td>\n      <td>&lt;NA&gt;</td>\n      <td>&lt;NA&gt;</td>\n      <td>&lt;NA&gt;</td>\n      <td>&lt;NA&gt;</td>\n      <td>NaN</td>\n      <td>&lt;NA&gt;</td>\n      <td>&lt;NA&gt;</td>\n      <td>0</td>\n      <td>5</td>\n      <td>0</td>\n    </tr>\n    <tr>\n      <th>272000</th>\n      <td>no-cache</td>\n      <td>NaN</td>\n      <td>fri, 12 aug 2022 09:22:13 gmt</td>\n      <td>NaN</td>\n      <td>&lt;NA&gt;</td>\n      <td>&lt;NA&gt;</td>\n      <td>NaN</td>\n      <td>nosniff</td>\n      <td>&lt;NA&gt;</td>\n      <td>&lt;NA&gt;</td>\n      <td>...</td>\n      <td>&lt;NA&gt;</td>\n      <td>&lt;NA&gt;</td>\n      <td>&lt;NA&gt;</td>\n      <td>&lt;NA&gt;</td>\n      <td>NaN</td>\n      <td>&lt;NA&gt;</td>\n      <td>&lt;NA&gt;</td>\n      <td>1</td>\n      <td>0</td>\n      <td>0</td>\n    </tr>\n    <tr>\n      <th>272001</th>\n      <td>NaN</td>\n      <td>binary/octet-stream</td>\n      <td>mon, 20 dec 2021 02:24:19 gmt</td>\n      <td>bytes</td>\n      <td>\"4abfa4888190370d347034f9fa43c804\"</td>\n      <td>&lt;NA&gt;</td>\n      <td>NaN</td>\n      <td>NaN</td>\n      <td>&lt;NA&gt;</td>\n      <td>&lt;NA&gt;</td>\n      <td>...</td>\n      <td>&lt;NA&gt;</td>\n      <td>&lt;NA&gt;</td>\n      <td>&lt;NA&gt;</td>\n      <td>&lt;NA&gt;</td>\n      <td>NaN</td>\n      <td>&lt;NA&gt;</td>\n      <td>&lt;NA&gt;</td>\n      <td>0</td>\n      <td>0</td>\n      <td>0</td>\n    </tr>\n    <tr>\n      <th>272002</th>\n      <td>NaN</td>\n      <td>application/xml</td>\n      <td>thu, 26 apr 2018 18:25:27 gmt</td>\n      <td>bytes</td>\n      <td>w/\"29a-1630333f5d8\"</td>\n      <td>&lt;NA&gt;</td>\n      <td>1; mode=block</td>\n      <td>nosniff</td>\n      <td>max-age=31536000; preload</td>\n      <td>&lt;NA&gt;</td>\n      <td>...</td>\n      <td>&lt;NA&gt;</td>\n      <td>&lt;NA&gt;</td>\n      <td>&lt;NA&gt;</td>\n      <td>&lt;NA&gt;</td>\n      <td>NaN</td>\n      <td>&lt;NA&gt;</td>\n      <td>&lt;NA&gt;</td>\n      <td>0</td>\n      <td>1</td>\n      <td>0</td>\n    </tr>\n    <tr>\n      <th>272003</th>\n      <td>NaN</td>\n      <td>text/javascript; charset=utf-8</td>\n      <td>wed, 03 aug 2022 12:04:53 gmt</td>\n      <td>NaN</td>\n      <td>0x8da754860160d55</td>\n      <td>&lt;NA&gt;</td>\n      <td>NaN</td>\n      <td>NaN</td>\n      <td>&lt;NA&gt;</td>\n      <td>&lt;NA&gt;</td>\n      <td>...</td>\n      <td>&lt;NA&gt;</td>\n      <td>&lt;NA&gt;</td>\n      <td>&lt;NA&gt;</td>\n      <td>&lt;NA&gt;</td>\n      <td>NaN</td>\n      <td>&lt;NA&gt;</td>\n      <td>&lt;NA&gt;</td>\n      <td>0</td>\n      <td>5</td>\n      <td>0</td>\n    </tr>\n  </tbody>\n</table>\n<p>272004 rows × 486 columns</p>\n</div>"
     },
     "execution_count": 113,
     "metadata": {},
     "output_type": "execute_result"
    }
   ],
   "source": [
    "data"
   ],
   "metadata": {
    "collapsed": false
   }
  },
  {
   "cell_type": "code",
   "execution_count": 115,
   "outputs": [],
   "source": [
    "only_non_tracker_col, only_tracker_col = find_cols_to_combine(summary_table_2)"
   ],
   "metadata": {
    "collapsed": false
   }
  },
  {
   "cell_type": "code",
   "execution_count": 116,
   "outputs": [
    {
     "data": {
      "text/plain": "['akamai-true-ttl',\n 'server-timing',\n 'x-serial',\n 'x-check-cacheable',\n 'content-md5',\n 'x-ms-request-id',\n 'x-ms-version',\n 'x-ms-blob-type',\n 'cf-bgj',\n 'cf-polished',\n 'x-edgeconnect-cache-status',\n 'x-cache-hits',\n 'x-cache-status',\n 'x-client-ip',\n 'x-akamai-transformed',\n 'link',\n 'actual-object-ttl',\n 'x-oracle-dms-rid',\n 'x-oracle-dms-ecid',\n 'x-amz-ir-id',\n 'surrogate-key',\n 'edge-cache-tag',\n 'content-language',\n 'x-ua-compatible',\n 'x-upstream',\n 'x-accel-expires',\n 'x-77-nzt',\n 'x-77-cache',\n 'x-77-nzt-ray',\n 'x-77-pop',\n 'x_req_id',\n 'service-worker-allowed',\n 'traceparent',\n 'x-cloud-trace-context',\n 'x-pantheon-styx-hostname',\n 'x-styx-req-id',\n 'fastly-io-info',\n 'fastly-stats',\n 'x-fb-trip-id',\n 'x-seen-by',\n 'x-wix-request-id',\n 'x-varnish',\n 'x-jsd-version',\n 'x-jsd-version-type',\n 'x-proxy-cache',\n 'host-header',\n 'x-ac',\n 'x-nc',\n 'wn',\n 'x-rq',\n 'server-time',\n 'x-dispatcher',\n 'x-vhost',\n 'x-goog-meta-goog-reserved-file-mtime',\n 'cf-ipcountry',\n 'x-amz-meta-surrogate-key',\n 'x-server-id',\n 'x-readtime',\n 'eagleeye-traceid',\n 'x-oss-request-id',\n 'x-oss-object-type',\n 'x-oss-hash-crc64ecma',\n 'x-oss-storage-class',\n 'x-oss-server-time',\n 'x-bucket-code',\n 'ali-swift-global-savetime',\n 'x-swift-savetime',\n 'x-swift-cachetime',\n 'eagleid',\n 's-rt',\n 'served-from',\n 'network_info',\n 'object-status',\n 'cdn-type',\n 'kcs-via',\n 'x-nws-log-uuid',\n 'x-cache-lookup',\n 'x-nws-uuid-verify',\n 'xzp',\n 'x-node',\n 'x-vcap-request-id',\n 'x-drupal-dynamic-cache',\n 'x-generator',\n 'x-drupal-cache',\n 'x-age',\n 'x-via',\n 'x-azure-ref-originshield',\n 'x-ratelimit-limit',\n 'x-ratelimit-remaining',\n 'x-ratelimit-reset',\n 'x-amz-storage-class',\n 'x-px',\n 'x-ws-request-id',\n 'edge-copy-time',\n 'x-via-cdn',\n 'x-via-edge',\n 'x-ban',\n 'x-debug-hit',\n 'x-clacks-overhead',\n 'x-backend-server',\n 'x-rid',\n 'imagex-fmt',\n 'nw-session-id',\n 'nw-session-trace',\n 'x-bdcdn-cache-status',\n 'x-response-date',\n 'akamai-mon-iucid-del',\n 'feature-policy',\n 'x-tos-request-id',\n 'x-tos-response-time',\n 'x-backend',\n 'x-webkit-csp',\n 'x-nyt-route',\n 'x-origin-time',\n 'onion-location',\n 'x-api-version',\n 'x-nyt-edge-cache',\n 'x-version',\n 'x-cdn-diag',\n 'x-requestid',\n 'cdn-cache',\n 'x-object-meta-mtime',\n 'x-timestamp',\n 'x-trans-id',\n 'x-openstack-request-id',\n 'x-temp-format',\n 'yjs-id',\n 'ohc-cache-hit',\n 'ohc-file-size',\n 'fastly-io-warning',\n 'x-hits',\n 'x-bce-content-crc32',\n 'x-bce-debug-id',\n 'x-bce-request-id',\n 'x-trace',\n 'x-cdn-provider',\n 'x-cached',\n 'x-daa-tunnel',\n 'keep-alive',\n 'cdchost',\n 'x-test-debug',\n 'cf-resized',\n 'rlogid',\n 'x-ebay-pop-id',\n 'content-range',\n 'x-nf-request-id',\n 'x-cacheable',\n 'surrogate-control',\n 'ak-uuid',\n 'x-iinfo',\n 'x-cached-since',\n 'x-id',\n 'api-version',\n 'x-nginx-request-id',\n 'critical-ch',\n 'x-fastly-pre-flight-cache-status',\n 'x-country-code',\n 'x-device',\n 'x-url',\n 'x-fastly-request-id',\n 'x-source',\n 'size',\n 'x-datasrc',\n 'x-delay',\n 'x-info',\n 'x-cos-request-id',\n 'x-gateway-request-id',\n 'x-gateway-cache-key',\n 'x-gateway-skip-cache',\n 'x-frontend',\n 'x-ser',\n 'x-ton-expected-size',\n 'x-link-via',\n 'x-cdn-request-id',\n 'x-reqid',\n 'x-svr',\n 'x-qiniu-zone',\n 'x-log',\n 'x-debug',\n 'x-resp-code',\n 'x-fb-content-md5',\n 'cross-origin-embedder-policy-report-only',\n 'x-cos-hash-crc64ecma',\n 'x-storage-error-category',\n 'x-haystack-needlechecksum',\n 'x-needle-checksum',\n 'x-varnish-cache',\n 'x-response-cache',\n 'public-key-pins',\n 'cache-status',\n 'x-request-ip',\n 'x-imgix-id',\n 'vcl_data',\n 'origin-agent-cluster',\n 'atl-traceid',\n 'client-ip',\n 'x-response-cinfo',\n 'x-datastream-cache-status',\n 'nginx-cache',\n 'x-ccdn-cachettl',\n 'x-hcs-proxy-type',\n 'x-tb',\n 'x-ak-request-id',\n 'cdnsip',\n 'x-random',\n 'x-uuidv4',\n 'x-matched-path',\n 'x-vercel-id',\n 'fastly-io-ratio',\n 'fastly-io-url',\n 'x-m-log',\n 'x-m-reqid',\n 'x-qnm-cache',\n 'quic-version',\n 'country-code',\n 'x-amz-meta-created-unix-time-millis',\n 'x-hs-cf-lambda',\n 'x-amz-meta-index-tag',\n 'x-grace',\n '-x-adobe-smart-imaging',\n 'x-amz-meta-cb-modifiedtime',\n 'x-ah-environment',\n 'edge-start',\n 'origin-latency',\n 'x-origin',\n 'x-amz-meta-s3b-last-modified',\n 'x-proxy-cache-info',\n 'x-goog-meta-width',\n 'x-goog-meta-height',\n 'x-geo-country',\n 'x-fw-server',\n 'x-fw-hash',\n 'x-fw-static',\n 'x-fw-type',\n 'x-page-cache',\n 'x-ftr-request-id',\n 'xkey',\n 'x-ftr-backend-server',\n 'x-ftr-balancer',\n 'x-ftr-backend',\n 'x-ftr-dc',\n 'x-svc-build-time',\n 'x-contentstack-organization',\n 'x-icici-grn',\n 'x-coursera-request-id',\n 'x-coursera-trace-id-hex',\n 'server-node',\n 'x-mserver',\n 'x-mnrequest-id',\n 'ki-cache-type',\n 'x-edge-location-klb',\n 'x-country',\n 'x-sucuri-cache',\n 'x-vcl-version',\n 'x-ttl',\n 'x-webstats-respid',\n 'proxy-status',\n 'x-image-server-response',\n 'x-image-server-original-size',\n 'x-im-original-width',\n 'x-image-server-store-time',\n 'x-im-result-width',\n 'x-cld-skey',\n 'x-edge',\n 'ec-version',\n 'x-image-server-fetch-real',\n 'x-image-server-fetch-estimate',\n 'x-image-server-cost-estimate',\n 'x-cdn-edge-cache',\n 'x-ks-cache',\n 'x-tcp-info',\n 'x-fetcher-etag',\n 'x-fetcher-last-modified',\n 'v-ttl',\n 'tp-cache',\n 'x-svszone',\n 'x-akamai-edgescape',\n 'x-uniq-id',\n 'x-requestuuid',\n 'x-sbistracker',\n 'x-varnish-remaining-ttl',\n 'x-animated',\n 'x-canonical-ops',\n 'x-image-dimensions',\n 'x-source-image-dimensions',\n 'x-amz-meta-release',\n 'x-saycdn-ttl',\n 'x-midtier',\n 'rbz-geo-countrycode',\n 'x-vname',\n 'x-ttlset',\n 'x-times',\n 'x-pc',\n 'ar-sid',\n 'ar-atime',\n 'ar-request-id',\n 'ar-cache',\n 'x-cdn-cache-id',\n 'x-ee-request-id',\n 'x-varnish-director',\n 'x-vg-webcache',\n 'x-vg-tlsproxy',\n 'x-vg-webserver',\n 'cpc-age',\n 'remaining_edge_ttl',\n 'z-paywalldebug',\n 'z-ttl',\n 'z-block',\n 'z-true-client-ip',\n 'z-unsupported-browser',\n 'z-react-beckend',\n 'z-stale-enabled',\n 'z-fastly-info-state',\n 'z-backend-name',\n 'z-react-reason',\n 'z-polopoly-beckend',\n 'z-url-original',\n 'z-url-modified',\n 'z-surrogate-keys',\n 'z-actions-log']"
     },
     "execution_count": 116,
     "metadata": {},
     "output_type": "execute_result"
    }
   ],
   "source": [
    "only_non_tracker_col"
   ],
   "metadata": {
    "collapsed": false
   }
  },
  {
   "cell_type": "code",
   "execution_count": 119,
   "outputs": [],
   "source": [
    "data.drop(only_non_tracker_col, axis=1, inplace=True)\n",
    "data.drop(only_tracker_col, axis=1, inplace=True)"
   ],
   "metadata": {
    "collapsed": false
   }
  },
  {
   "cell_type": "code",
   "execution_count": 120,
   "outputs": [
    {
     "data": {
      "text/plain": "          pragma                    content-type   \n0            NaN  text/javascript; charset=utf-8  \\\n1            NaN          application/javascript   \n2       no-cache                       image/gif   \n3       no-cache                             NaN   \n4            NaN        text/html; charset=utf-8   \n...          ...                             ...   \n271999       NaN                       image/png   \n272000  no-cache                             NaN   \n272001       NaN             binary/octet-stream   \n272002       NaN                 application/xml   \n272003       NaN  text/javascript; charset=utf-8   \n\n                        last-modified accept-ranges   \n0                                 NaN           NaN  \\\n1       mon, 08 aug 2022 21:56:59 gmt           NaN   \n2                                 NaN           NaN   \n3                                 NaN           NaN   \n4                                 NaN           NaN   \n...                               ...           ...   \n271999  fri, 12 nov 2021 05:09:38 gmt         bytes   \n272000  fri, 12 aug 2022 09:22:13 gmt           NaN   \n272001  mon, 20 dec 2021 02:24:19 gmt         bytes   \n272002  thu, 26 apr 2018 18:25:27 gmt         bytes   \n272003  wed, 03 aug 2022 12:04:53 gmt           NaN   \n\n                                      etag   \n0                     15601544113783900868  \\\n1                                     <NA>   \n2                                     <NA>   \n3                                     <NA>   \n4                                     <NA>   \n...                                    ...   \n271999                     \"618df712-2509\"   \n272000                                <NA>   \n272001  \"4abfa4888190370d347034f9fa43c804\"   \n272002                 w/\"29a-1630333f5d8\"   \n272003                   0x8da754860160d55   \n\n                                                      p3p x-xss-protection   \n0       policyref=\"https://www.googleadservices.com/pa...                0  \\\n1                                                    <NA>              NaN   \n2       policyref=\"https://www.googleadservices.com/pa...                0   \n3                                                    <NA>              NaN   \n4                                                    <NA>              NaN   \n...                                                   ...              ...   \n271999                                               <NA>              NaN   \n272000                                               <NA>              NaN   \n272001                                               <NA>              NaN   \n272002                                               <NA>    1; mode=block   \n272003                                               <NA>              NaN   \n\n       x-content-type-options            strict-transport-security   \n0                     nosniff                                 <NA>  \\\n1                     nosniff  max-age=31536000; includesubdomains   \n2                     nosniff                                 <NA>   \n3                         NaN                                 <NA>   \n4                         NaN  max-age=15724800; includesubdomains   \n...                       ...                                  ...   \n271999                    NaN                          max-age=300   \n272000                nosniff                                 <NA>   \n272001                    NaN                                 <NA>   \n272002                nosniff            max-age=31536000; preload   \n272003                    NaN                                 <NA>   \n\n       x-robots-tag  ... x-b3-sampled x-b3-spanid x-hubspot-correlation-id   \n0              <NA>  ...         <NA>        <NA>                     <NA>  \\\n1              <NA>  ...         <NA>        <NA>                     <NA>   \n2              <NA>  ...         <NA>        <NA>                     <NA>   \n3              <NA>  ...         <NA>        <NA>                     <NA>   \n4              <NA>  ...         <NA>        <NA>                     <NA>   \n...             ...  ...          ...         ...                      ...   \n271999         <NA>  ...         <NA>        <NA>                     <NA>   \n272000         <NA>  ...         <NA>        <NA>                     <NA>   \n272001         <NA>  ...         <NA>        <NA>                     <NA>   \n272002         <NA>  ...         <NA>        <NA>                     <NA>   \n272003         <NA>  ...         <NA>        <NA>                     <NA>   \n\n       x-hs-target-asset x-hostname  x-cdn-pop x-cdn-pop-ip tracker   \n0                   <NA>       <NA>       <NA>         <NA>       1  \\\n1                   <NA>       <NA>       <NA>         <NA>       0   \n2                   <NA>       <NA>       <NA>         <NA>       1   \n3                   <NA>       <NA>       <NA>         <NA>       0   \n4                   <NA>       <NA>       <NA>         <NA>       0   \n...                  ...        ...        ...          ...     ...   \n271999              <NA>       <NA>       <NA>         <NA>       0   \n272000              <NA>       <NA>       <NA>         <NA>       1   \n272001              <NA>       <NA>       <NA>         <NA>       0   \n272002              <NA>       <NA>       <NA>         <NA>       0   \n272003              <NA>       <NA>       <NA>         <NA>       0   \n\n       comb_col_non_tracker comb_col_tracker  \n0                         0                0  \n1                         2                0  \n2                         0                0  \n3                         1                0  \n4                         0                0  \n...                     ...              ...  \n271999                    5                0  \n272000                    0                0  \n272001                    0                0  \n272002                    1                0  \n272003                    5                0  \n\n[272004 rows x 153 columns]",
      "text/html": "<div>\n<style scoped>\n    .dataframe tbody tr th:only-of-type {\n        vertical-align: middle;\n    }\n\n    .dataframe tbody tr th {\n        vertical-align: top;\n    }\n\n    .dataframe thead th {\n        text-align: right;\n    }\n</style>\n<table border=\"1\" class=\"dataframe\">\n  <thead>\n    <tr style=\"text-align: right;\">\n      <th></th>\n      <th>pragma</th>\n      <th>content-type</th>\n      <th>last-modified</th>\n      <th>accept-ranges</th>\n      <th>etag</th>\n      <th>p3p</th>\n      <th>x-xss-protection</th>\n      <th>x-content-type-options</th>\n      <th>strict-transport-security</th>\n      <th>x-robots-tag</th>\n      <th>...</th>\n      <th>x-b3-sampled</th>\n      <th>x-b3-spanid</th>\n      <th>x-hubspot-correlation-id</th>\n      <th>x-hs-target-asset</th>\n      <th>x-hostname</th>\n      <th>x-cdn-pop</th>\n      <th>x-cdn-pop-ip</th>\n      <th>tracker</th>\n      <th>comb_col_non_tracker</th>\n      <th>comb_col_tracker</th>\n    </tr>\n  </thead>\n  <tbody>\n    <tr>\n      <th>0</th>\n      <td>NaN</td>\n      <td>text/javascript; charset=utf-8</td>\n      <td>NaN</td>\n      <td>NaN</td>\n      <td>15601544113783900868</td>\n      <td>policyref=\"https://www.googleadservices.com/pa...</td>\n      <td>0</td>\n      <td>nosniff</td>\n      <td>&lt;NA&gt;</td>\n      <td>&lt;NA&gt;</td>\n      <td>...</td>\n      <td>&lt;NA&gt;</td>\n      <td>&lt;NA&gt;</td>\n      <td>&lt;NA&gt;</td>\n      <td>&lt;NA&gt;</td>\n      <td>&lt;NA&gt;</td>\n      <td>&lt;NA&gt;</td>\n      <td>&lt;NA&gt;</td>\n      <td>1</td>\n      <td>0</td>\n      <td>0</td>\n    </tr>\n    <tr>\n      <th>1</th>\n      <td>NaN</td>\n      <td>application/javascript</td>\n      <td>mon, 08 aug 2022 21:56:59 gmt</td>\n      <td>NaN</td>\n      <td>&lt;NA&gt;</td>\n      <td>&lt;NA&gt;</td>\n      <td>NaN</td>\n      <td>nosniff</td>\n      <td>max-age=31536000; includesubdomains</td>\n      <td>&lt;NA&gt;</td>\n      <td>...</td>\n      <td>&lt;NA&gt;</td>\n      <td>&lt;NA&gt;</td>\n      <td>&lt;NA&gt;</td>\n      <td>&lt;NA&gt;</td>\n      <td>&lt;NA&gt;</td>\n      <td>&lt;NA&gt;</td>\n      <td>&lt;NA&gt;</td>\n      <td>0</td>\n      <td>2</td>\n      <td>0</td>\n    </tr>\n    <tr>\n      <th>2</th>\n      <td>no-cache</td>\n      <td>image/gif</td>\n      <td>NaN</td>\n      <td>NaN</td>\n      <td>&lt;NA&gt;</td>\n      <td>policyref=\"https://www.googleadservices.com/pa...</td>\n      <td>0</td>\n      <td>nosniff</td>\n      <td>&lt;NA&gt;</td>\n      <td>&lt;NA&gt;</td>\n      <td>...</td>\n      <td>&lt;NA&gt;</td>\n      <td>&lt;NA&gt;</td>\n      <td>&lt;NA&gt;</td>\n      <td>&lt;NA&gt;</td>\n      <td>&lt;NA&gt;</td>\n      <td>&lt;NA&gt;</td>\n      <td>&lt;NA&gt;</td>\n      <td>1</td>\n      <td>0</td>\n      <td>0</td>\n    </tr>\n    <tr>\n      <th>3</th>\n      <td>no-cache</td>\n      <td>NaN</td>\n      <td>NaN</td>\n      <td>NaN</td>\n      <td>&lt;NA&gt;</td>\n      <td>&lt;NA&gt;</td>\n      <td>NaN</td>\n      <td>NaN</td>\n      <td>&lt;NA&gt;</td>\n      <td>&lt;NA&gt;</td>\n      <td>...</td>\n      <td>&lt;NA&gt;</td>\n      <td>&lt;NA&gt;</td>\n      <td>&lt;NA&gt;</td>\n      <td>&lt;NA&gt;</td>\n      <td>&lt;NA&gt;</td>\n      <td>&lt;NA&gt;</td>\n      <td>&lt;NA&gt;</td>\n      <td>0</td>\n      <td>1</td>\n      <td>0</td>\n    </tr>\n    <tr>\n      <th>4</th>\n      <td>NaN</td>\n      <td>text/html; charset=utf-8</td>\n      <td>NaN</td>\n      <td>NaN</td>\n      <td>&lt;NA&gt;</td>\n      <td>&lt;NA&gt;</td>\n      <td>NaN</td>\n      <td>NaN</td>\n      <td>max-age=15724800; includesubdomains</td>\n      <td>&lt;NA&gt;</td>\n      <td>...</td>\n      <td>&lt;NA&gt;</td>\n      <td>&lt;NA&gt;</td>\n      <td>&lt;NA&gt;</td>\n      <td>&lt;NA&gt;</td>\n      <td>&lt;NA&gt;</td>\n      <td>&lt;NA&gt;</td>\n      <td>&lt;NA&gt;</td>\n      <td>0</td>\n      <td>0</td>\n      <td>0</td>\n    </tr>\n    <tr>\n      <th>...</th>\n      <td>...</td>\n      <td>...</td>\n      <td>...</td>\n      <td>...</td>\n      <td>...</td>\n      <td>...</td>\n      <td>...</td>\n      <td>...</td>\n      <td>...</td>\n      <td>...</td>\n      <td>...</td>\n      <td>...</td>\n      <td>...</td>\n      <td>...</td>\n      <td>...</td>\n      <td>...</td>\n      <td>...</td>\n      <td>...</td>\n      <td>...</td>\n      <td>...</td>\n      <td>...</td>\n    </tr>\n    <tr>\n      <th>271999</th>\n      <td>NaN</td>\n      <td>image/png</td>\n      <td>fri, 12 nov 2021 05:09:38 gmt</td>\n      <td>bytes</td>\n      <td>\"618df712-2509\"</td>\n      <td>&lt;NA&gt;</td>\n      <td>NaN</td>\n      <td>NaN</td>\n      <td>max-age=300</td>\n      <td>&lt;NA&gt;</td>\n      <td>...</td>\n      <td>&lt;NA&gt;</td>\n      <td>&lt;NA&gt;</td>\n      <td>&lt;NA&gt;</td>\n      <td>&lt;NA&gt;</td>\n      <td>&lt;NA&gt;</td>\n      <td>&lt;NA&gt;</td>\n      <td>&lt;NA&gt;</td>\n      <td>0</td>\n      <td>5</td>\n      <td>0</td>\n    </tr>\n    <tr>\n      <th>272000</th>\n      <td>no-cache</td>\n      <td>NaN</td>\n      <td>fri, 12 aug 2022 09:22:13 gmt</td>\n      <td>NaN</td>\n      <td>&lt;NA&gt;</td>\n      <td>&lt;NA&gt;</td>\n      <td>NaN</td>\n      <td>nosniff</td>\n      <td>&lt;NA&gt;</td>\n      <td>&lt;NA&gt;</td>\n      <td>...</td>\n      <td>&lt;NA&gt;</td>\n      <td>&lt;NA&gt;</td>\n      <td>&lt;NA&gt;</td>\n      <td>&lt;NA&gt;</td>\n      <td>&lt;NA&gt;</td>\n      <td>&lt;NA&gt;</td>\n      <td>&lt;NA&gt;</td>\n      <td>1</td>\n      <td>0</td>\n      <td>0</td>\n    </tr>\n    <tr>\n      <th>272001</th>\n      <td>NaN</td>\n      <td>binary/octet-stream</td>\n      <td>mon, 20 dec 2021 02:24:19 gmt</td>\n      <td>bytes</td>\n      <td>\"4abfa4888190370d347034f9fa43c804\"</td>\n      <td>&lt;NA&gt;</td>\n      <td>NaN</td>\n      <td>NaN</td>\n      <td>&lt;NA&gt;</td>\n      <td>&lt;NA&gt;</td>\n      <td>...</td>\n      <td>&lt;NA&gt;</td>\n      <td>&lt;NA&gt;</td>\n      <td>&lt;NA&gt;</td>\n      <td>&lt;NA&gt;</td>\n      <td>&lt;NA&gt;</td>\n      <td>&lt;NA&gt;</td>\n      <td>&lt;NA&gt;</td>\n      <td>0</td>\n      <td>0</td>\n      <td>0</td>\n    </tr>\n    <tr>\n      <th>272002</th>\n      <td>NaN</td>\n      <td>application/xml</td>\n      <td>thu, 26 apr 2018 18:25:27 gmt</td>\n      <td>bytes</td>\n      <td>w/\"29a-1630333f5d8\"</td>\n      <td>&lt;NA&gt;</td>\n      <td>1; mode=block</td>\n      <td>nosniff</td>\n      <td>max-age=31536000; preload</td>\n      <td>&lt;NA&gt;</td>\n      <td>...</td>\n      <td>&lt;NA&gt;</td>\n      <td>&lt;NA&gt;</td>\n      <td>&lt;NA&gt;</td>\n      <td>&lt;NA&gt;</td>\n      <td>&lt;NA&gt;</td>\n      <td>&lt;NA&gt;</td>\n      <td>&lt;NA&gt;</td>\n      <td>0</td>\n      <td>1</td>\n      <td>0</td>\n    </tr>\n    <tr>\n      <th>272003</th>\n      <td>NaN</td>\n      <td>text/javascript; charset=utf-8</td>\n      <td>wed, 03 aug 2022 12:04:53 gmt</td>\n      <td>NaN</td>\n      <td>0x8da754860160d55</td>\n      <td>&lt;NA&gt;</td>\n      <td>NaN</td>\n      <td>NaN</td>\n      <td>&lt;NA&gt;</td>\n      <td>&lt;NA&gt;</td>\n      <td>...</td>\n      <td>&lt;NA&gt;</td>\n      <td>&lt;NA&gt;</td>\n      <td>&lt;NA&gt;</td>\n      <td>&lt;NA&gt;</td>\n      <td>&lt;NA&gt;</td>\n      <td>&lt;NA&gt;</td>\n      <td>&lt;NA&gt;</td>\n      <td>0</td>\n      <td>5</td>\n      <td>0</td>\n    </tr>\n  </tbody>\n</table>\n<p>272004 rows × 153 columns</p>\n</div>"
     },
     "execution_count": 120,
     "metadata": {},
     "output_type": "execute_result"
    }
   ],
   "source": [
    "data"
   ],
   "metadata": {
    "collapsed": false
   }
  }
 ],
 "metadata": {
  "kernelspec": {
   "display_name": "Python 3",
   "language": "python",
   "name": "python3"
  },
  "language_info": {
   "codemirror_mode": {
    "name": "ipython",
    "version": 2
   },
   "file_extension": ".py",
   "mimetype": "text/x-python",
   "name": "python",
   "nbconvert_exporter": "python",
   "pygments_lexer": "ipython2",
   "version": "2.7.6"
  }
 },
 "nbformat": 4,
 "nbformat_minor": 0
}
