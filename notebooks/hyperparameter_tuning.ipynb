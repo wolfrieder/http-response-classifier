{
 "cells": [
  {
   "cell_type": "code",
   "execution_count": 20,
   "metadata": {
    "collapsed": true,
    "ExecuteTime": {
     "end_time": "2023-09-06T09:15:16.756695Z",
     "start_time": "2023-09-06T09:15:16.748261Z"
    }
   },
   "outputs": [],
   "source": [
    "import logging\n",
    "import sys\n",
    "\n",
    "import category_encoders as ce\n",
    "from alive_progress import alive_bar\n",
    "from lightgbm import LGBMClassifier\n",
    "from sklearn.ensemble import (\n",
    "    RandomForestClassifier,\n",
    "    GradientBoostingClassifier,\n",
    "    HistGradientBoostingClassifier,\n",
    "    AdaBoostClassifier,\n",
    "    ExtraTreesClassifier,\n",
    ")\n",
    "from sklearn.linear_model import LogisticRegression\n",
    "from sklearn.naive_bayes import GaussianNB, BernoulliNB\n",
    "from sklearn.preprocessing import Normalizer, FunctionTransformer\n",
    "from sklearn.tree import DecisionTreeClassifier\n",
    "from xgboost import XGBClassifier\n",
    "from sklearn.metrics import get_scorer_names\n",
    "\n",
    "# from src.pipeline_functions.train_model_functions import *\n",
    "from typing import Dict, Tuple, List\n",
    "\n",
    "import numpy as np\n",
    "import pandas as pd\n",
    "from sklearn import metrics\n",
    "from sklearn.base import BaseEstimator\n",
    "from sklearn.metrics import (\n",
    "    make_scorer,\n",
    "    matthews_corrcoef,\n",
    "    jaccard_score,\n",
    "    average_precision_score,\n",
    "    fbeta_score,\n",
    ")\n",
    "from sklearn.model_selection import BaseCrossValidator, RepeatedStratifiedKFold\n",
    "from sklearn.model_selection import cross_validate\n",
    "from sklearn.pipeline import Pipeline\n",
    "from sklearn.compose import ColumnTransformer, make_column_selector as selector\n",
    "from joblib import Parallel, delayed\n",
    "import pickle\n",
    "import gzip\n",
    "import yaml\n",
    "from sklearn.model_selection import GridSearchCV, RandomizedSearchCV\n",
    "import matplotlib.pyplot as plt"
   ]
  },
  {
   "cell_type": "code",
   "execution_count": 2,
   "outputs": [],
   "source": [
    "browser_one = \"chrome\"\n",
    "date_one = \"08_12_2022\"\n",
    "train_data_file_name = 'train_set_featurized_BE'\n",
    "strategy = \"BE\"\n",
    "experiment_name = f\"tuning_one_test\"\n",
    "dir_path_one = f\"{browser_one}/{date_one}\"\n",
    "\n",
    "dir_path_one = f\"../data/processed/{dir_path_one}/{train_data_file_name}\"\n",
    "result_csv_filename = f\"models/result_metrics/{experiment_name}.csv\""
   ],
   "metadata": {
    "collapsed": false,
    "ExecuteTime": {
     "end_time": "2023-07-06T12:40:31.896144Z",
     "start_time": "2023-07-06T12:40:31.891095Z"
    }
   }
  },
  {
   "cell_type": "code",
   "execution_count": 11,
   "outputs": [],
   "source": [
    "def train_models(\n",
    "        models: Dict[str, BaseEstimator],\n",
    "        train_data_file_path: str,\n",
    "        cv: RepeatedStratifiedKFold,\n",
    "        clf_preprocessor: ColumnTransformer = None,\n",
    ") -> pd.DataFrame:\n",
    "    all_mean_metrics = {}\n",
    "    scoring_metrics = {\n",
    "        \"accuracy\": \"accuracy\",\n",
    "        \"roc_auc\": \"roc_auc\",\n",
    "        \"f1\": \"f1\",\n",
    "        \"balanced_accuracy\": \"balanced_accuracy\",\n",
    "        \"precision\": \"precision\",\n",
    "        \"recall\": \"recall\",\n",
    "        \"neg_log_loss\": \"neg_log_loss\",\n",
    "        \"mcc\": make_scorer(matthews_corrcoef),\n",
    "        \"jaccard\": make_scorer(jaccard_score),\n",
    "        \"aupcr\": make_scorer(average_precision_score),\n",
    "        \"fbeta\": make_scorer(fbeta_score, beta=0.5),\n",
    "    }\n",
    "\n",
    "    train_data = pd.read_parquet(f\"{train_data_file_path}.parquet.gzip\")\n",
    "    X_train, y_train = train_data.iloc[:, :-1], train_data[\"tracker\"]\n",
    "\n",
    "    for model_name, model in models.items():\n",
    "        print(f\"Training {model_name}...\")\n",
    "\n",
    "        if type(clf_preprocessor) is not None:\n",
    "            clf_pipeline = Pipeline(\n",
    "                steps=[(\"preprocessor\", clf_preprocessor),\n",
    "                       (\"classifier\", model)]\n",
    "            )\n",
    "        else:\n",
    "            clf_pipeline = Pipeline(steps=[(\"classifier\", model)])\n",
    "\n",
    "        cv_results = cross_validate(\n",
    "            clf_pipeline,\n",
    "            X_train,\n",
    "            y_train,\n",
    "            cv=cv,\n",
    "            scoring=scoring_metrics,\n",
    "            return_estimator=True,\n",
    "            n_jobs=-1,\n",
    "        )\n",
    "        mean_cv_metrics = {\n",
    "            metric: np.mean(cv_results[\"test_\" + metric])\n",
    "            for metric in scoring_metrics.keys()\n",
    "        }\n",
    "        all_mean_metrics[model_name] = mean_cv_metrics\n",
    "\n",
    "        best_estimator_idx = np.argmax(cv_results[\"test_roc_auc\"])\n",
    "        best_estimator = cv_results[\"estimator\"][best_estimator_idx]\n",
    "\n",
    "    return pd.DataFrame(all_mean_metrics).T"
   ],
   "metadata": {
    "collapsed": false,
    "ExecuteTime": {
     "end_time": "2023-07-06T13:07:07.446127Z",
     "start_time": "2023-07-06T13:07:07.441597Z"
    }
   }
  },
  {
   "cell_type": "code",
   "execution_count": 43,
   "outputs": [],
   "source": [
    "def tune_hyperparameters(models, hyperparameters, X, y, method=\"grid_search\",\n",
    "                         n_iter=100):\n",
    "    best_params = {}\n",
    "\n",
    "    for model_name, model in models.items():\n",
    "        print(f\"Tuning {model_name}...\")\n",
    "        if model_name in hyperparameters:\n",
    "            if method == \"grid_search\":\n",
    "                search = GridSearchCV(model, hyperparameters[model_name], cv=5,\n",
    "                                      scoring='matthews_corrcoef', n_jobs=-1)\n",
    "            elif method == \"random_search\":\n",
    "                search = RandomizedSearchCV(model, hyperparameters[model_name],\n",
    "                                            cv=5, scoring='matthews_corrcoef', n_jobs=-1,\n",
    "                                            n_iter=n_iter)\n",
    "            else:\n",
    "                raise ValueError(\n",
    "                    \"Invalid method. Expected one of: 'grid_search', 'random_search'\")\n",
    "\n",
    "            search.fit(X, y)\n",
    "            best_params[model_name] = search.best_params_\n",
    "        else:\n",
    "            print(f\"No hyperparameters provided for {model_name}, skipping\")\n",
    "\n",
    "    return best_params"
   ],
   "metadata": {
    "collapsed": false,
    "ExecuteTime": {
     "end_time": "2023-07-07T07:39:30.032646Z",
     "start_time": "2023-07-07T07:39:30.027822Z"
    }
   }
  },
  {
   "cell_type": "code",
   "execution_count": 5,
   "outputs": [],
   "source": [
    "def parse_parameters(params):\n",
    "    # List of parameters that should be integers\n",
    "    int_parameters = [\"max_depth\", \"min_samples_split\", \"min_samples_leaf\"]\n",
    "    for key, value in params.items():\n",
    "        if isinstance(value, list):\n",
    "            new_values = []\n",
    "            for v in value:\n",
    "                # check if the item is a nested list\n",
    "                if isinstance(v, list):\n",
    "                    new_sub_values = []\n",
    "                    for sub_v in v:\n",
    "                        new_sub_values.append(\n",
    "                            convert_to_number_or_keep_str(sub_v, key,\n",
    "                                                          int_parameters))\n",
    "                    new_values.append(new_sub_values)\n",
    "                else:\n",
    "                    new_values.append(\n",
    "                        convert_to_number_or_keep_str(v, key, int_parameters))\n",
    "            params[key] = new_values\n",
    "        elif isinstance(value, dict):\n",
    "            params[key] = parse_parameters(value)\n",
    "    return params\n",
    "\n",
    "\n",
    "def convert_to_number_or_keep_str(value, param_name, int_parameters):\n",
    "    try:\n",
    "        if param_name in int_parameters:\n",
    "            return int(value)\n",
    "        else:\n",
    "            return float(value)\n",
    "    except ValueError:\n",
    "        return value\n"
   ],
   "metadata": {
    "collapsed": false,
    "ExecuteTime": {
     "end_time": "2023-07-06T12:40:39.879939Z",
     "start_time": "2023-07-06T12:40:39.877414Z"
    }
   }
  },
  {
   "cell_type": "code",
   "execution_count": 52,
   "outputs": [],
   "source": [
    "def train_models_run(\n",
    "        train_data_file_path: str,\n",
    "        strategy: str,\n",
    "        result_csv_filename: str,\n",
    ") -> pd.DataFrame:\n",
    "    train_data = pd.read_parquet(f\"{train_data_file_path}.parquet.gzip\")\n",
    "\n",
    "    X_train, y_train = train_data.iloc[:, :-1], train_data[[\"tracker\"]]\n",
    "\n",
    "    models = {\n",
    "        \"Logistic_Regression\": LogisticRegression(\n",
    "            random_state=10,\n",
    "            n_jobs=-1,\n",
    "            max_iter=1000,\n",
    "            solver='newton-cholesky',\n",
    "        ),\n",
    "        \"Gaussian_NB\": GaussianNB(),\n",
    "        # \"Bernoulli_NB\": BernoulliNB(force_alpha=True),\n",
    "        \"Decision_Tree\": DecisionTreeClassifier(random_state=10),\n",
    "        \"Random_Forest\": RandomForestClassifier(\n",
    "                n_estimators=100,\n",
    "                n_jobs=-1,\n",
    "                random_state=10,\n",
    "                max_features=None\n",
    "            ),\n",
    "    }\n",
    "\n",
    "    cv = RepeatedStratifiedKFold(random_state=10, n_splits=5, n_repeats=1)\n",
    "\n",
    "    # with open('hyperparameters.yaml', 'r') as f:\n",
    "    #     hyperparameters = yaml.safe_load(f)\n",
    "\n",
    "    PARAMS = {\n",
    "        \"Logistic_Regression\":\n",
    "            {\"C\": [0.001, 0.01, 0.1, 1, 10, 100, 1000, 10000],\n",
    "             \"class_weight\": ['balanced', None]},\n",
    "        \"Gaussian_NB\":\n",
    "            {\"var_smoothing\": [1e-2, 1e-3, 1e-4, 1e-5, 1e-6, 1e-7, 1e-8, 1e-9,\n",
    "                               1e-10, 1e-11,\n",
    "                               1e-12, 1e-13, 1e-14, 1e-15]},\n",
    "        # \"Bernoulli_NB\":\n",
    "        #     {\"alpha\": [0.0, 0.5, 1.0],\n",
    "        #      \"binarize\": [0.0, 0.5, 1.0],\n",
    "        #      \"class_prior\": [None, [.1, .9], [.2, .8], [.3, .7], [.4, .6], [.5, .5],\n",
    "        #                      [.6, .4], [.7, .3], [.8, .2], [.9, .1]], },\n",
    "        \"Decision_Tree\":\n",
    "            {\"max_depth\": [2, 4, 6, 8, 10, 100, 1000, None],\n",
    "             \"min_samples_split\": [2, 5, 10, 20],\n",
    "             \"min_samples_leaf\": [1, 2, 4],\n",
    "             \"class_weight\": ['balanced', None]},\n",
    "        \"Random_Forest\":\n",
    "            {\"n_estimators\": [10, 50, 100, 200],\n",
    "             \"max_depth\": [2, 4, 6, 8, 10, None],\n",
    "             \"class_weight\": ['balanced', 'balanced_subsample', None],\n",
    "             \"criterion\":['gini', 'log_loss'],}\n",
    "    }\n",
    "\n",
    "    best_params = tune_hyperparameters(models, PARAMS, X_train,\n",
    "                                       y_train['tracker'],\n",
    "                                       method=\"random_search\", n_iter=50)\n",
    "\n",
    "    models = {\n",
    "        \"Logistic_Regression\": LogisticRegression(\n",
    "            **best_params[\"Logistic_Regression\"],\n",
    "            random_state=10,\n",
    "            max_iter=1000,\n",
    "            solver='newton-cholesky',\n",
    "        ),\n",
    "        \"Gaussian_NB\": GaussianNB(\n",
    "            **best_params[\"Gaussian_NB\"]\n",
    "        ),\n",
    "        # \"Bernoulli_NB\": BernoulliNB(\n",
    "        #     **best_params[\"Bernoulli_NB\"]\n",
    "        # ),\n",
    "        \"Decision_Tree\": DecisionTreeClassifier(\n",
    "            **best_params[\"Decision_Tree\"],\n",
    "            random_state=10\n",
    "        ),\n",
    "        \"Random_Forest\": RandomForestClassifier(\n",
    "            **best_params[\"Random_Forest\"],\n",
    "            random_state=10\n",
    "        ),\n",
    "    }\n",
    "\n",
    "    return train_models(\n",
    "        models, train_data_file_path, cv)"
   ],
   "metadata": {
    "collapsed": false,
    "ExecuteTime": {
     "end_time": "2023-07-07T09:48:37.439510Z",
     "start_time": "2023-07-07T09:48:37.433732Z"
    }
   }
  },
  {
   "cell_type": "code",
   "execution_count": 7,
   "outputs": [],
   "source": [
    "models = {\n",
    "    \"Logistic_Regression\": LogisticRegression(\n",
    "        random_state=10,\n",
    "        n_jobs=-1,\n",
    "        max_iter=1000,\n",
    "        solver='newton-cholesky'\n",
    "    ),\n",
    "    \"Gaussian_NB\": GaussianNB(),\n",
    "    \"Bernoulli_NB\": BernoulliNB(),\n",
    "    \"Decision_Tree\": DecisionTreeClassifier(random_state=10),\n",
    "    # \"Random_Forest\": RandomForestClassifier(\n",
    "    #     n_estimators=100,\n",
    "    #     n_jobs=-1,\n",
    "    #     random_state=10,\n",
    "    #     criterion=\"gini\",\n",
    "    #     max_features=None\n",
    "    # ),\n",
    "    # \"Extra_Trees_Classifier\": ExtraTreesClassifier(random_state=10,\n",
    "    #                                                n_jobs=-1),\n",
    "    # \"Ada_Boost\": AdaBoostClassifier(random_state=10),\n",
    "    # \"Gradient_Boosting\": GradientBoostingClassifier(random_state=10),\n",
    "    # \"LightGBM\": LGBMClassifier(random_state=10, n_jobs=-1),\n",
    "    # \"Hist_GB\": HistGradientBoostingClassifier(random_state=10),\n",
    "    # \"XGBoost\": XGBClassifier(\n",
    "    #     random_state=10,\n",
    "    #     eval_metric=\"logloss\",\n",
    "    #     n_jobs=-1,\n",
    "    # ),\n",
    "}"
   ],
   "metadata": {
    "collapsed": false,
    "ExecuteTime": {
     "end_time": "2023-07-06T13:04:38.922056Z",
     "start_time": "2023-07-06T13:04:38.917476Z"
    }
   }
  },
  {
   "cell_type": "code",
   "execution_count": 8,
   "outputs": [],
   "source": [
    "cv = RepeatedStratifiedKFold(random_state=10, n_splits=5, n_repeats=5)"
   ],
   "metadata": {
    "collapsed": false,
    "ExecuteTime": {
     "end_time": "2023-07-06T13:04:49.443746Z",
     "start_time": "2023-07-06T13:04:49.420117Z"
    }
   }
  },
  {
   "cell_type": "code",
   "execution_count": 13,
   "outputs": [
    {
     "name": "stdout",
     "output_type": "stream",
     "text": [
      "Training Logistic_Regression...\n",
      "Training Gaussian_NB...\n"
     ]
    },
    {
     "name": "stderr",
     "output_type": "stream",
     "text": [
      "/Users/wolfrieder/Documents/github_repos/thesis_project_v2/venv/lib/python3.10/site-packages/joblib/externals/loky/process_executor.py:700: UserWarning: A worker stopped while some jobs were given to the executor. This can be caused by a too short worker timeout or by a memory leak.\n",
      "  warnings.warn(\n"
     ]
    },
    {
     "name": "stdout",
     "output_type": "stream",
     "text": [
      "Training Bernoulli_NB...\n",
      "Training Decision_Tree...\n"
     ]
    },
    {
     "name": "stderr",
     "output_type": "stream",
     "text": [
      "/Users/wolfrieder/Documents/github_repos/thesis_project_v2/venv/lib/python3.10/site-packages/joblib/externals/loky/process_executor.py:700: UserWarning: A worker stopped while some jobs were given to the executor. This can be caused by a too short worker timeout or by a memory leak.\n",
      "  warnings.warn(\n"
     ]
    },
    {
     "data": {
      "text/plain": "                     accuracy   roc_auc        f1  balanced_accuracy   \nLogistic_Regression  0.892746  0.952288  0.812177           0.859550  \\\nGaussian_NB          0.852158  0.906414  0.758458           0.830802   \nBernoulli_NB         0.849276  0.917999  0.754705           0.828551   \nDecision_Tree        0.964276  0.987346  0.939487           0.954279   \n\n                     precision    recall  neg_log_loss       mcc   jaccard   \nLogistic_Regression   0.850410  0.777237     -0.248447  0.738795  0.683757  \\\nGaussian_NB           0.740109  0.777848     -2.509392  0.652506  0.610921   \nBernoulli_NB          0.733513  0.777160     -0.627624  0.646616  0.606050   \nDecision_Tree         0.949705  0.929490     -0.286175  0.914257  0.885882   \n\n                        aupcr     fbeta  \nLogistic_Regression  0.727434  0.834692  \nGaussian_NB          0.641952  0.747329  \nBernoulli_NB         0.636546  0.741846  \nDecision_Tree        0.903778  0.945591  ",
      "text/html": "<div>\n<style scoped>\n    .dataframe tbody tr th:only-of-type {\n        vertical-align: middle;\n    }\n\n    .dataframe tbody tr th {\n        vertical-align: top;\n    }\n\n    .dataframe thead th {\n        text-align: right;\n    }\n</style>\n<table border=\"1\" class=\"dataframe\">\n  <thead>\n    <tr style=\"text-align: right;\">\n      <th></th>\n      <th>accuracy</th>\n      <th>roc_auc</th>\n      <th>f1</th>\n      <th>balanced_accuracy</th>\n      <th>precision</th>\n      <th>recall</th>\n      <th>neg_log_loss</th>\n      <th>mcc</th>\n      <th>jaccard</th>\n      <th>aupcr</th>\n      <th>fbeta</th>\n    </tr>\n  </thead>\n  <tbody>\n    <tr>\n      <th>Logistic_Regression</th>\n      <td>0.892746</td>\n      <td>0.952288</td>\n      <td>0.812177</td>\n      <td>0.859550</td>\n      <td>0.850410</td>\n      <td>0.777237</td>\n      <td>-0.248447</td>\n      <td>0.738795</td>\n      <td>0.683757</td>\n      <td>0.727434</td>\n      <td>0.834692</td>\n    </tr>\n    <tr>\n      <th>Gaussian_NB</th>\n      <td>0.852158</td>\n      <td>0.906414</td>\n      <td>0.758458</td>\n      <td>0.830802</td>\n      <td>0.740109</td>\n      <td>0.777848</td>\n      <td>-2.509392</td>\n      <td>0.652506</td>\n      <td>0.610921</td>\n      <td>0.641952</td>\n      <td>0.747329</td>\n    </tr>\n    <tr>\n      <th>Bernoulli_NB</th>\n      <td>0.849276</td>\n      <td>0.917999</td>\n      <td>0.754705</td>\n      <td>0.828551</td>\n      <td>0.733513</td>\n      <td>0.777160</td>\n      <td>-0.627624</td>\n      <td>0.646616</td>\n      <td>0.606050</td>\n      <td>0.636546</td>\n      <td>0.741846</td>\n    </tr>\n    <tr>\n      <th>Decision_Tree</th>\n      <td>0.964276</td>\n      <td>0.987346</td>\n      <td>0.939487</td>\n      <td>0.954279</td>\n      <td>0.949705</td>\n      <td>0.929490</td>\n      <td>-0.286175</td>\n      <td>0.914257</td>\n      <td>0.885882</td>\n      <td>0.903778</td>\n      <td>0.945591</td>\n    </tr>\n  </tbody>\n</table>\n</div>"
     },
     "execution_count": 13,
     "metadata": {},
     "output_type": "execute_result"
    }
   ],
   "source": [
    "train_models(models, dir_path_one, cv)"
   ],
   "metadata": {
    "collapsed": false,
    "ExecuteTime": {
     "end_time": "2023-07-06T13:09:00.606849Z",
     "start_time": "2023-07-06T13:07:26.451201Z"
    }
   }
  },
  {
   "cell_type": "code",
   "execution_count": 37,
   "outputs": [],
   "source": [
    "import warnings"
   ],
   "metadata": {
    "collapsed": false,
    "ExecuteTime": {
     "end_time": "2023-07-07T07:37:59.869330Z",
     "start_time": "2023-07-07T07:37:59.866206Z"
    }
   }
  },
  {
   "cell_type": "code",
   "execution_count": 38,
   "outputs": [],
   "source": [
    "warnings.filterwarnings('ignore')"
   ],
   "metadata": {
    "collapsed": false,
    "ExecuteTime": {
     "end_time": "2023-07-07T07:38:06.290754Z",
     "start_time": "2023-07-07T07:38:06.282627Z"
    }
   }
  },
  {
   "cell_type": "code",
   "execution_count": null,
   "outputs": [
    {
     "name": "stdout",
     "output_type": "stream",
     "text": [
      "Tuning Logistic_Regression...\n",
      "Tuning Gaussian_NB...\n",
      "Tuning Decision_Tree...\n",
      "Tuning Random_Forest...\n"
     ]
    }
   ],
   "source": [
    "%%time\n",
    "train_models_run(dir_path_one, strategy, result_csv_filename)"
   ],
   "metadata": {
    "collapsed": false,
    "is_executing": true,
    "ExecuteTime": {
     "start_time": "2023-07-07T10:47:53.122477Z"
    }
   }
  },
  {
   "cell_type": "code",
   "execution_count": 2,
   "outputs": [],
   "source": [
    "models = [\n",
    "            \"Logistic_Regression\",\n",
    "            \"Gaussian_NB\",\n",
    "            \"Bernoulli_NB\",\n",
    "            \"Decision_Tree\",\n",
    "            \"Random_Forest\",\n",
    "            \"Extra_Trees_Classifier\",\n",
    "            \"Ada_Boost\",\n",
    "            \"Gradient_Boosting\",\n",
    "            \"LightGBM\",\n",
    "            \"Hist_GB\",\n",
    "            \"XGBoost\",\n",
    "        ]"
   ],
   "metadata": {
    "collapsed": false,
    "ExecuteTime": {
     "end_time": "2023-09-06T09:00:20.894706Z",
     "start_time": "2023-09-06T09:00:20.884820Z"
    }
   }
  },
  {
   "cell_type": "code",
   "execution_count": 5,
   "outputs": [],
   "source": [
    "filename = f\"{models[4]}_BE.sav.gz\"\n",
    "gzip_path = f\"../models/chrome/08_12_2022/{filename}\"\n",
    "\n",
    "with gzip.GzipFile(gzip_path, \"rb\") as f:\n",
    "    best_estimator = pickle.load(f)"
   ],
   "metadata": {
    "collapsed": false,
    "ExecuteTime": {
     "end_time": "2023-09-06T09:00:52.135440Z",
     "start_time": "2023-09-06T09:00:51.931064Z"
    }
   }
  },
  {
   "cell_type": "code",
   "execution_count": 6,
   "outputs": [
    {
     "data": {
      "text/plain": "RandomForestClassifier(max_features=None, n_jobs=-1, random_state=10)",
      "text/html": "<style>#sk-container-id-1 {color: black;background-color: white;}#sk-container-id-1 pre{padding: 0;}#sk-container-id-1 div.sk-toggleable {background-color: white;}#sk-container-id-1 label.sk-toggleable__label {cursor: pointer;display: block;width: 100%;margin-bottom: 0;padding: 0.3em;box-sizing: border-box;text-align: center;}#sk-container-id-1 label.sk-toggleable__label-arrow:before {content: \"▸\";float: left;margin-right: 0.25em;color: #696969;}#sk-container-id-1 label.sk-toggleable__label-arrow:hover:before {color: black;}#sk-container-id-1 div.sk-estimator:hover label.sk-toggleable__label-arrow:before {color: black;}#sk-container-id-1 div.sk-toggleable__content {max-height: 0;max-width: 0;overflow: hidden;text-align: left;background-color: #f0f8ff;}#sk-container-id-1 div.sk-toggleable__content pre {margin: 0.2em;color: black;border-radius: 0.25em;background-color: #f0f8ff;}#sk-container-id-1 input.sk-toggleable__control:checked~div.sk-toggleable__content {max-height: 200px;max-width: 100%;overflow: auto;}#sk-container-id-1 input.sk-toggleable__control:checked~label.sk-toggleable__label-arrow:before {content: \"▾\";}#sk-container-id-1 div.sk-estimator input.sk-toggleable__control:checked~label.sk-toggleable__label {background-color: #d4ebff;}#sk-container-id-1 div.sk-label input.sk-toggleable__control:checked~label.sk-toggleable__label {background-color: #d4ebff;}#sk-container-id-1 input.sk-hidden--visually {border: 0;clip: rect(1px 1px 1px 1px);clip: rect(1px, 1px, 1px, 1px);height: 1px;margin: -1px;overflow: hidden;padding: 0;position: absolute;width: 1px;}#sk-container-id-1 div.sk-estimator {font-family: monospace;background-color: #f0f8ff;border: 1px dotted black;border-radius: 0.25em;box-sizing: border-box;margin-bottom: 0.5em;}#sk-container-id-1 div.sk-estimator:hover {background-color: #d4ebff;}#sk-container-id-1 div.sk-parallel-item::after {content: \"\";width: 100%;border-bottom: 1px solid gray;flex-grow: 1;}#sk-container-id-1 div.sk-label:hover label.sk-toggleable__label {background-color: #d4ebff;}#sk-container-id-1 div.sk-serial::before {content: \"\";position: absolute;border-left: 1px solid gray;box-sizing: border-box;top: 0;bottom: 0;left: 50%;z-index: 0;}#sk-container-id-1 div.sk-serial {display: flex;flex-direction: column;align-items: center;background-color: white;padding-right: 0.2em;padding-left: 0.2em;position: relative;}#sk-container-id-1 div.sk-item {position: relative;z-index: 1;}#sk-container-id-1 div.sk-parallel {display: flex;align-items: stretch;justify-content: center;background-color: white;position: relative;}#sk-container-id-1 div.sk-item::before, #sk-container-id-1 div.sk-parallel-item::before {content: \"\";position: absolute;border-left: 1px solid gray;box-sizing: border-box;top: 0;bottom: 0;left: 50%;z-index: -1;}#sk-container-id-1 div.sk-parallel-item {display: flex;flex-direction: column;z-index: 1;position: relative;background-color: white;}#sk-container-id-1 div.sk-parallel-item:first-child::after {align-self: flex-end;width: 50%;}#sk-container-id-1 div.sk-parallel-item:last-child::after {align-self: flex-start;width: 50%;}#sk-container-id-1 div.sk-parallel-item:only-child::after {width: 0;}#sk-container-id-1 div.sk-dashed-wrapped {border: 1px dashed gray;margin: 0 0.4em 0.5em 0.4em;box-sizing: border-box;padding-bottom: 0.4em;background-color: white;}#sk-container-id-1 div.sk-label label {font-family: monospace;font-weight: bold;display: inline-block;line-height: 1.2em;}#sk-container-id-1 div.sk-label-container {text-align: center;}#sk-container-id-1 div.sk-container {/* jupyter's `normalize.less` sets `[hidden] { display: none; }` but bootstrap.min.css set `[hidden] { display: none !important; }` so we also need the `!important` here to be able to override the default hidden behavior on the sphinx rendered scikit-learn.org. See: https://github.com/scikit-learn/scikit-learn/issues/21755 */display: inline-block !important;position: relative;}#sk-container-id-1 div.sk-text-repr-fallback {display: none;}</style><div id=\"sk-container-id-1\" class=\"sk-top-container\"><div class=\"sk-text-repr-fallback\"><pre>RandomForestClassifier(max_features=None, n_jobs=-1, random_state=10)</pre><b>In a Jupyter environment, please rerun this cell to show the HTML representation or trust the notebook. <br />On GitHub, the HTML representation is unable to render, please try loading this page with nbviewer.org.</b></div><div class=\"sk-container\" hidden><div class=\"sk-item\"><div class=\"sk-estimator sk-toggleable\"><input class=\"sk-toggleable__control sk-hidden--visually\" id=\"sk-estimator-id-1\" type=\"checkbox\" checked><label for=\"sk-estimator-id-1\" class=\"sk-toggleable__label sk-toggleable__label-arrow\">RandomForestClassifier</label><div class=\"sk-toggleable__content\"><pre>RandomForestClassifier(max_features=None, n_jobs=-1, random_state=10)</pre></div></div></div></div></div>"
     },
     "execution_count": 6,
     "metadata": {},
     "output_type": "execute_result"
    }
   ],
   "source": [
    "best_estimator"
   ],
   "metadata": {
    "collapsed": false,
    "ExecuteTime": {
     "end_time": "2023-09-06T09:00:58.832820Z",
     "start_time": "2023-09-06T09:00:58.826860Z"
    }
   }
  },
  {
   "cell_type": "code",
   "execution_count": 7,
   "outputs": [],
   "source": [
    "browser_one = \"chrome\"\n",
    "date_one = \"08_12_2022\"\n",
    "train_data_file_name = 'test_set_featurized_BE'\n",
    "dir_path_one = f\"{browser_one}/{date_one}\"\n",
    "\n",
    "dir_path_one = f\"../data/processed/{dir_path_one}/{train_data_file_name}\""
   ],
   "metadata": {
    "collapsed": false,
    "ExecuteTime": {
     "end_time": "2023-09-06T09:02:50.863781Z",
     "start_time": "2023-09-06T09:02:50.855220Z"
    }
   }
  },
  {
   "cell_type": "code",
   "execution_count": 8,
   "outputs": [],
   "source": [
    "test_data = pd.read_parquet(f\"{dir_path_one}.parquet.gzip\")\n",
    "X_test, y_test = test_data.iloc[:, :-1], test_data[[\"tracker\"]]"
   ],
   "metadata": {
    "collapsed": false,
    "ExecuteTime": {
     "end_time": "2023-09-06T09:02:56.746661Z",
     "start_time": "2023-09-06T09:02:56.585475Z"
    }
   }
  },
  {
   "cell_type": "code",
   "execution_count": 9,
   "outputs": [],
   "source": [
    "y_pred_test = best_estimator.predict(X_test)\n",
    "y_pred_proba_test = best_estimator.predict_proba(X_test)[:, 1]"
   ],
   "metadata": {
    "collapsed": false,
    "ExecuteTime": {
     "end_time": "2023-09-06T09:03:00.758585Z",
     "start_time": "2023-09-06T09:03:00.053372Z"
    }
   }
  },
  {
   "cell_type": "code",
   "execution_count": 12,
   "outputs": [],
   "source": [
    "def calculate_metrics(\n",
    "    y_true: pd.Series, y_pred: np.ndarray, y_pred_proba: np.ndarray\n",
    ") -> Dict[str, float]:\n",
    "    \"\"\"\n",
    "    Calculate classification metrics for a given set of true labels and\n",
    "    predictions.\n",
    "\n",
    "    Parameters\n",
    "    ----------\n",
    "    y_true : pd.Series\n",
    "        The true labels for the test set.\n",
    "    y_pred : np.ndarray\n",
    "        The predicted labels for the test set.\n",
    "    y_pred_proba : np.ndarray\n",
    "        The predicted probabilities for the positive class.\n",
    "\n",
    "    Returns\n",
    "    -------\n",
    "    dict\n",
    "        A dictionary containing various classification metrics.\n",
    "    \"\"\"\n",
    "    score = metrics.log_loss(y_true, y_pred_proba)\n",
    "    auc_score = metrics.roc_auc_score(y_true, y_pred)\n",
    "    aupcr = metrics.average_precision_score(y_true, y_pred_proba)\n",
    "    f1_score = metrics.f1_score(y_true, y_pred)\n",
    "    fbeta_score = metrics.fbeta_score(y_true, y_pred, beta=0.5)\n",
    "    bal_acc = metrics.balanced_accuracy_score(y_true, y_pred)\n",
    "    precision = metrics.precision_score(y_true, y_pred)\n",
    "    recall = metrics.recall_score(y_true, y_pred)\n",
    "    mcc = metrics.matthews_corrcoef(y_true, y_pred)\n",
    "    # jaccard = metrics.jaccard_score(y_true, y_pred)\n",
    "\n",
    "    return {\n",
    "        \"accuracy\": np.round(metrics.accuracy_score(y_true, y_pred), 3),\n",
    "        \"log_loss\": np.round(score, 3),\n",
    "        \"auc\": np.round(auc_score, 3),\n",
    "        \"aupcr\": np.round(aupcr, 3),\n",
    "        \"balanced_accuracy\": np.round(bal_acc, 3),\n",
    "        \"f1\": np.round(f1_score, 3),\n",
    "        \"fbeta\": np.round(fbeta_score, 3),\n",
    "        \"precision\": np.round(precision, 3),\n",
    "        \"recall\": np.round(recall, 3),\n",
    "        \"mcc\": np.round(mcc, 3),\n",
    "        # \"jaccard\": np.round(jaccard, 3),\n",
    "    }"
   ],
   "metadata": {
    "collapsed": false,
    "ExecuteTime": {
     "end_time": "2023-09-06T09:12:06.845457Z",
     "start_time": "2023-09-06T09:12:06.842678Z"
    }
   }
  },
  {
   "cell_type": "code",
   "execution_count": 13,
   "outputs": [
    {
     "data": {
      "text/plain": "{'accuracy': 0.965,\n 'log_loss': 0.125,\n 'auc': 0.955,\n 'aupcr': 0.985,\n 'balanced_accuracy': 0.955,\n 'f1': 0.941,\n 'fbeta': 0.947,\n 'precision': 0.951,\n 'recall': 0.931,\n 'mcc': 0.917}"
     },
     "execution_count": 13,
     "metadata": {},
     "output_type": "execute_result"
    }
   ],
   "source": [
    "calculate_metrics(y_test, y_pred_test, y_pred_proba_test)"
   ],
   "metadata": {
    "collapsed": false,
    "ExecuteTime": {
     "end_time": "2023-09-06T09:12:10.774390Z",
     "start_time": "2023-09-06T09:12:10.519138Z"
    }
   }
  },
  {
   "cell_type": "code",
   "execution_count": 18,
   "outputs": [],
   "source": [
    "feature_names = [f\"feature {i}\" for i in range(X_test.shape[1])]"
   ],
   "metadata": {
    "collapsed": false,
    "ExecuteTime": {
     "end_time": "2023-09-06T09:14:44.797975Z",
     "start_time": "2023-09-06T09:14:44.790502Z"
    }
   }
  },
  {
   "cell_type": "code",
   "execution_count": 21,
   "outputs": [],
   "source": [
    "importances = best_estimator.feature_importances_\n",
    "std = np.std([tree.feature_importances_ for tree in best_estimator.estimators_], axis=0)"
   ],
   "metadata": {
    "collapsed": false,
    "ExecuteTime": {
     "end_time": "2023-09-06T09:15:52.655046Z",
     "start_time": "2023-09-06T09:15:52.629124Z"
    }
   }
  },
  {
   "cell_type": "code",
   "execution_count": 25,
   "outputs": [
    {
     "data": {
      "text/plain": "<Figure size 1600x400 with 1 Axes>",
      "image/png": "[encoded data removed]"
     },
     "metadata": {},
     "output_type": "display_data"
    }
   ],
   "source": [
    "forest_importances = pd.Series(importances, index=feature_names)\n",
    "\n",
    "fig, ax = plt.subplots(figsize=(16, 4))\n",
    "forest_importances.plot.bar(yerr=std, ax=ax)\n",
    "ax.set_title(\"Feature importances using MDI\")\n",
    "ax.set_ylabel(\"Mean decrease in impurity\")\n",
    "fig.tight_layout()"
   ],
   "metadata": {
    "collapsed": false,
    "ExecuteTime": {
     "end_time": "2023-09-06T09:17:15.312457Z",
     "start_time": "2023-09-06T09:17:14.248891Z"
    }
   }
  },
  {
   "cell_type": "code",
   "execution_count": 26,
   "outputs": [],
   "source": [
    "from sklearn.inspection import permutation_importance"
   ],
   "metadata": {
    "collapsed": false,
    "ExecuteTime": {
     "end_time": "2023-09-06T09:18:27.079399Z",
     "start_time": "2023-09-06T09:18:27.066270Z"
    }
   }
  },
  {
   "cell_type": "code",
   "execution_count": 27,
   "outputs": [
    {
     "name": "stderr",
     "output_type": "stream",
     "text": [
      "/Users/wolfrieder/Documents/github_repos/thesis_project_v2/venv/lib/python3.10/site-packages/joblib/externals/loky/process_executor.py:700: UserWarning: A worker stopped while some jobs were given to the executor. This can be caused by a too short worker timeout or by a memory leak.\n",
      "  warnings.warn(\n",
      "\n",
      "KeyboardInterrupt\n",
      "\n"
     ]
    }
   ],
   "source": [
    "result = permutation_importance(\n",
    "    best_estimator, X_test, y_test, n_repeats=10, random_state=42, n_jobs=2\n",
    ")\n",
    "\n",
    "fig, ax = plt.subplots()\n",
    "forest_importances.plot.bar(yerr=result.importances_std, ax=ax)\n",
    "ax.set_title(\"Feature importances using permutation on full model\")\n",
    "ax.set_ylabel(\"Mean accuracy decrease\")\n",
    "fig.tight_layout()\n",
    "plt.show()"
   ],
   "metadata": {
    "collapsed": false,
    "ExecuteTime": {
     "end_time": "2023-09-06T09:26:02.956549Z",
     "start_time": "2023-09-06T09:18:57.941184Z"
    }
   }
  }
 ],
 "metadata": {
  "kernelspec": {
   "display_name": "Python 3",
   "language": "python",
   "name": "python3"
  },
  "language_info": {
   "codemirror_mode": {
    "name": "ipython",
    "version": 2
   },
   "file_extension": ".py",
   "mimetype": "text/x-python",
   "name": "python",
   "nbconvert_exporter": "python",
   "pygments_lexer": "ipython2",
   "version": "2.7.6"
  }
 },
 "nbformat": 4,
 "nbformat_minor": 0
}
