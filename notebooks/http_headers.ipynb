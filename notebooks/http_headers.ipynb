{
 "cells": [
  {
   "cell_type": "code",
   "execution_count": 1,
   "source": [
    "import pandas as pd\n",
    "import matplotlib.pyplot as plt\n",
    "import seaborn as sns\n",
    "import numpy as np\n",
    "from scipy.stats import ttest_ind, mannwhitneyu, kstest"
   ],
   "metadata": {
    "collapsed": false,
    "ExecuteTime": {
     "end_time": "2023-12-01T11:17:31.908022Z",
     "start_time": "2023-12-01T11:17:31.906349Z"
    }
   },
   "outputs": []
  },
  {
   "cell_type": "code",
   "execution_count": 68,
   "source": [
    "data_train = pd.read_parquet(\n",
    "    \"../data/processed/chrome/08_12_2022/train_set_01_processed.parquet.gzip\"\n",
    ")\n",
    "\n",
    "data_test = pd.read_parquet(\n",
    "    \"../data/processed/chrome/08_12_2022/test_set_01_processed.parquet.gzip\"\n",
    ")"
   ],
   "metadata": {
    "collapsed": false
   },
   "outputs": []
  },
  {
   "cell_type": "code",
   "execution_count": 2,
   "source": [
    "chrome_old = pd.read_parquet(\n",
    "    \"../data/processed/chrome/08_12_2022/merged_data.parquet.gzip\", engine=\"pyarrow\",\n",
    "            dtype_backend=\"pyarrow\"\n",
    ")\n",
    "\n",
    "chrome_new = pd.read_parquet('../data/processed/chrome/03_29_2023/merged_data.parquet.gzip', engine=\"pyarrow\", dtype_backend=\"pyarrow\")"
   ],
   "metadata": {
    "collapsed": false,
    "ExecuteTime": {
     "end_time": "2023-12-01T11:18:09.259043Z",
     "start_time": "2023-12-01T11:17:46.481722Z"
    }
   },
   "outputs": []
  },
  {
   "cell_type": "code",
   "execution_count": 5,
   "source": [
    "chrome_train = pd.read_parquet(\n",
    "    \"../data/processed/chrome/08_12_2022/train_set_featurized_BE.parquet.gzip\"\n",
    ")\n",
    "\n",
    "chrome_test = pd.read_parquet(\n",
    "    \"../data/processed/chrome/08_12_2022/test_set_featurized_BE.parquet.gzip\"\n",
    ")"
   ],
   "metadata": {
    "collapsed": false,
    "ExecuteTime": {
     "end_time": "2023-12-01T10:38:19.520075Z",
     "start_time": "2023-12-01T10:38:19.435603Z"
    }
   },
   "outputs": []
  },
  {
   "cell_type": "code",
   "execution_count": 10,
   "source": [
    "chrome_train"
   ],
   "metadata": {
    "collapsed": false,
    "ExecuteTime": {
     "end_time": "2023-12-01T10:29:54.583824Z",
     "start_time": "2023-12-01T10:29:54.580518Z"
    }
   },
   "outputs": []
  },
  {
   "cell_type": "code",
   "execution_count": 9,
   "source": [
    "chrome_test.dtypes.value_counts()"
   ],
   "metadata": {
    "collapsed": false,
    "ExecuteTime": {
     "end_time": "2023-12-01T10:38:45.862427Z",
     "start_time": "2023-12-01T10:38:45.856621Z"
    }
   },
   "outputs": []
  },
  {
   "cell_type": "code",
   "execution_count": null,
   "source": [
    "data[f\"{elem}_binary\"] = np.where(data[elem].isnull(), 0, 1)"
   ],
   "metadata": {
    "collapsed": false
   },
   "outputs": []
  },
  {
   "cell_type": "code",
   "execution_count": 10,
   "source": [
    "chrome_test.iloc[:, 156:] = np.where(chrome_test.iloc[:, 156:].isnull(), 0, 1)"
   ],
   "metadata": {
    "collapsed": false,
    "ExecuteTime": {
     "end_time": "2023-12-01T10:15:15.009183Z",
     "start_time": "2023-12-01T10:15:14.980813Z"
    }
   },
   "outputs": []
  },
  {
   "cell_type": "code",
   "execution_count": 8,
   "source": [
    "chrome_test = chrome_test.astype(\"uint8\")"
   ],
   "metadata": {
    "collapsed": false,
    "ExecuteTime": {
     "end_time": "2023-12-01T10:38:43.744575Z",
     "start_time": "2023-12-01T10:38:43.714187Z"
    }
   },
   "outputs": []
  },
  {
   "cell_type": "code",
   "execution_count": 26,
   "source": [
    "chrome_test['x-b3-sampled_binary'] = chrome_test['x-b3-sampled_binary'].astype(\"uint8\")"
   ],
   "metadata": {
    "collapsed": false,
    "ExecuteTime": {
     "end_time": "2023-12-01T10:19:54.288629Z",
     "start_time": "2023-12-01T10:19:54.257028Z"
    }
   },
   "outputs": []
  },
  {
   "cell_type": "code",
   "execution_count": 29,
   "source": [
    "def label_as_last_column(dataset: pd.DataFrame):\n",
    "    temp_cols = dataset.columns.tolist()\n",
    "    index_col = dataset.columns.get_loc(\"tracker\")\n",
    "    new_col_order = (\n",
    "        temp_cols[0:index_col]\n",
    "        + temp_cols[index_col + 1 :]\n",
    "        + temp_cols[index_col : index_col + 1]\n",
    "    )\n",
    "    return new_col_order"
   ],
   "metadata": {
    "collapsed": false,
    "ExecuteTime": {
     "end_time": "2023-12-01T10:21:46.045699Z",
     "start_time": "2023-12-01T10:21:46.018683Z"
    }
   },
   "outputs": []
  },
  {
   "cell_type": "code",
   "execution_count": 31,
   "source": [
    "col_order = label_as_last_column(chrome_test)"
   ],
   "metadata": {
    "collapsed": false,
    "ExecuteTime": {
     "end_time": "2023-12-01T10:22:32.501259Z",
     "start_time": "2023-12-01T10:22:32.472402Z"
    }
   },
   "outputs": []
  },
  {
   "cell_type": "code",
   "execution_count": 8,
   "source": [
    "other_columns = chrome_train.columns.values.tolist()"
   ],
   "metadata": {
    "collapsed": false,
    "ExecuteTime": {
     "end_time": "2023-12-01T10:29:46.840278Z",
     "start_time": "2023-12-01T10:29:46.807484Z"
    }
   },
   "outputs": []
  },
  {
   "cell_type": "code",
   "execution_count": 9,
   "source": [
    "chrome_test = chrome_test[other_columns]"
   ],
   "metadata": {
    "collapsed": false,
    "ExecuteTime": {
     "end_time": "2023-12-01T10:29:50.230220Z",
     "start_time": "2023-12-01T10:29:50.205199Z"
    }
   },
   "outputs": []
  },
  {
   "cell_type": "code",
   "execution_count": 15,
   "source": [
    "other_columns = chrome_train.columns.values.tolist()\n",
    "cols_not_in_train_chrome = list(set(other_columns).difference(chrome_test.columns.values.tolist()))\n",
    "cols_not_in_test_chrome = list(set(chrome_test.columns.values.tolist()).difference(other_columns))"
   ],
   "metadata": {
    "collapsed": false,
    "ExecuteTime": {
     "end_time": "2023-12-01T10:04:27.869454Z",
     "start_time": "2023-12-01T10:04:27.836787Z"
    }
   },
   "outputs": []
  },
  {
   "cell_type": "code",
   "execution_count": 9,
   "source": [
    "cols_not_in_train_chrome"
   ],
   "metadata": {
    "collapsed": false,
    "ExecuteTime": {
     "end_time": "2023-12-01T10:03:08.083868Z",
     "start_time": "2023-12-01T10:03:08.054270Z"
    }
   },
   "outputs": []
  },
  {
   "cell_type": "code",
   "execution_count": 16,
   "source": [
    "cols_not_in_test_chrome"
   ],
   "metadata": {
    "collapsed": false,
    "ExecuteTime": {
     "end_time": "2023-12-01T10:04:31.818042Z",
     "start_time": "2023-12-01T10:04:31.793702Z"
    }
   },
   "outputs": []
  },
  {
   "cell_type": "code",
   "execution_count": 21,
   "source": [
    "chrome_test.drop(cols_not_in_test_chrome, axis=1, inplace=True)"
   ],
   "metadata": {
    "collapsed": false,
    "ExecuteTime": {
     "end_time": "2023-12-01T10:06:25.965788Z",
     "start_time": "2023-12-01T10:06:25.937109Z"
    }
   },
   "outputs": []
  },
  {
   "cell_type": "code",
   "execution_count": 22,
   "source": [
    "chrome_test"
   ],
   "metadata": {
    "collapsed": false,
    "ExecuteTime": {
     "end_time": "2023-12-01T10:06:31.453641Z",
     "start_time": "2023-12-01T10:06:31.434307Z"
    }
   },
   "outputs": []
  },
  {
   "cell_type": "code",
   "execution_count": 25,
   "source": [
    "chrome_test = chrome_test.reindex(columns=chrome_test.columns.tolist() + cols_not_in_train_chrome)"
   ],
   "metadata": {
    "collapsed": false,
    "ExecuteTime": {
     "end_time": "2023-12-01T10:08:14.793246Z",
     "start_time": "2023-12-01T10:08:14.755807Z"
    }
   },
   "outputs": []
  },
  {
   "cell_type": "code",
   "execution_count": 24,
   "source": [
    "chrome_test"
   ],
   "metadata": {
    "collapsed": false,
    "ExecuteTime": {
     "end_time": "2023-12-01T10:08:07.058172Z",
     "start_time": "2023-12-01T10:08:07.040647Z"
    }
   },
   "outputs": []
  },
  {
   "cell_type": "code",
   "execution_count": 10,
   "source": [
    "chrome_test.to_parquet(\"test_set_featurized_BE.parquet.gzip\", compression=\"gzip\")"
   ],
   "metadata": {
    "collapsed": false,
    "ExecuteTime": {
     "end_time": "2023-12-01T10:39:00.976855Z",
     "start_time": "2023-12-01T10:39:00.589189Z"
    }
   },
   "outputs": []
  },
  {
   "cell_type": "code",
   "execution_count": 14,
   "source": [
    "chrome_train['x-ttl_binary']"
   ],
   "metadata": {
    "collapsed": false,
    "ExecuteTime": {
     "end_time": "2023-12-01T10:03:37.146379Z",
     "start_time": "2023-12-01T10:03:37.121862Z"
    }
   },
   "outputs": []
  },
  {
   "cell_type": "code",
   "execution_count": 5,
   "source": [
    "chrome_old[['etag']].value_counts()"
   ],
   "metadata": {
    "collapsed": false,
    "ExecuteTime": {
     "end_time": "2023-11-30T20:32:04.089545Z",
     "start_time": "2023-11-30T20:32:03.759208Z"
    }
   },
   "outputs": []
  },
  {
   "cell_type": "code",
   "execution_count": 3,
   "source": [
    "firefox = pd.read_parquet('../data/processed/firefox/08_12_2022/merged_data.parquet.gzip', engine=\"pyarrow\",\n",
    "            dtype_backend=\"pyarrow\")\n",
    "\n",
    "brave = pd.read_parquet('../data/processed/brave/08_12_2022/merged_data.parquet.gzip', engine=\"pyarrow\",\n",
    "            dtype_backend=\"pyarrow\")"
   ],
   "metadata": {
    "collapsed": false,
    "ExecuteTime": {
     "end_time": "2023-12-01T11:18:28.639645Z",
     "start_time": "2023-12-01T11:18:09.259948Z"
    }
   },
   "outputs": []
  },
  {
   "cell_type": "code",
   "execution_count": 69,
   "source": [
    "data = pd.concat([data_train, data_test], ignore_index=True)"
   ],
   "metadata": {
    "collapsed": false
   },
   "outputs": []
  },
  {
   "cell_type": "code",
   "execution_count": 3,
   "source": [
    "plt.figure(figsize=(20, 10))\n",
    "cl_values = chrome_old[[\"content-length\", \"tracker\"]].dropna().astype('Int32')\n",
    "# sns.histplot(cl_values[cl_values['content-length'] < 1000], bins=10, x=\"content-length\", hue='tracker', element='step')\n",
    "\n",
    "sns.displot(cl_values[cl_values['content-length'] < 1000], x=\"content-length\", kind='ecdf', hue='tracker',\n",
    "            legend=False)\n",
    "\n",
    "plt.title('Empirical CDF of the Content-Length Header', fontsize=16)\n",
    "plt.xlabel('Content-Length Value', fontsize=14)\n",
    "plt.ylabel('Cumulative Probability', fontsize=14)\n",
    "plt.legend(title=\"Classification\", labels=['Tracker', 'Non-Tracker'], fontsize=10)\n",
    "plt.xticks(fontsize=12)\n",
    "plt.yticks(fontsize=12)\n",
    "plt.show()"
   ],
   "metadata": {
    "collapsed": false,
    "ExecuteTime": {
     "end_time": "2023-11-30T09:06:44.121997Z",
     "start_time": "2023-11-30T09:06:43.164327Z"
    }
   },
   "outputs": []
  },
  {
   "cell_type": "code",
   "execution_count": 11,
   "source": [
    "fig, axes = plt.subplots(1, 2, figsize=(6, 3))\n",
    "\n",
    "# First dataset (chrome_old)\n",
    "cl_values_chrome = chrome_old[[\"content-length\", \"tracker\"]].dropna().astype('Int32')\n",
    "sns.ecdfplot(data=cl_values_chrome[cl_values_chrome['content-length'] < 1000], x=\"content-length\", hue='tracker', ax=axes[0])\n",
    "axes[0].set_title('$Chrome_{22}$: ECDF of Content-Length Header', fontsize=9)\n",
    "axes[0].set_xlabel('Content-Length Value', fontsize=9)\n",
    "axes[0].set_ylabel('Cumulative Probability', fontsize=9)\n",
    "axes[0].tick_params(labelsize=8)\n",
    "axes[0].legend(title=\"Classification\", labels=['Tracker', 'Non-Tracker'], fontsize=8)\n",
    "\n",
    "# Second dataset (firefox_new)\n",
    "cl_values_firefox = chrome_new[[\"content-length\", \"tracker\"]].dropna().astype('Int32')\n",
    "sns.ecdfplot(data=cl_values_firefox[cl_values_firefox['content-length'] < 1000], x=\"content-length\", hue='tracker', ax=axes[1])\n",
    "axes[1].set_title('$Chrome_{23}$: ECDF of Content-Length Header', fontsize=9)\n",
    "axes[1].set_xlabel('Content-Length Value', fontsize=9)\n",
    "axes[1].set_ylabel('')\n",
    "axes[1].tick_params(labelsize=8, labelleft=False)\n",
    "axes[1].legend(title=\"Classification\", labels=['Tracker', 'Non-Tracker'], fontsize=8)\n",
    "\n",
    "plt.tight_layout()\n",
    "\n",
    "# Save the figure as a PDF\n",
    "plt.savefig('content_length_comparison.pdf', format='pdf', bbox_inches='tight')\n",
    "plt.show()"
   ],
   "metadata": {
    "collapsed": false,
    "ExecuteTime": {
     "end_time": "2023-11-30T09:23:08.347372Z",
     "start_time": "2023-11-30T09:23:06.125585Z"
    }
   },
   "outputs": []
  },
  {
   "cell_type": "code",
   "execution_count": 5,
   "source": [
    "feature = 'x-xss-protection'\n",
    "\n",
    "chrome_old_xss = chrome_old[feature].dropna().astype('category')\n",
    "# chrome_new_xss = chrome_new[feature].dropna().astype('category')\n",
    "\n",
    "firefox_xss = firefox[feature].dropna().astype('category')\n",
    "brave_xss = brave[feature].dropna().astype('category')\n",
    "\n",
    "df = pd.DataFrame({\n",
    "    feature: np.concatenate((chrome_old_xss, firefox_xss)),\n",
    "    'set': ['Chrome'] * len(chrome_old_xss) + ['Firefox'] * len(firefox_xss)\n",
    "})\n",
    "\n",
    "df2 = pd.DataFrame({\n",
    "    feature: np.concatenate((chrome_old_xss, brave_xss)),\n",
    "    'set': ['Chrome'] * len(chrome_old_xss) + ['Brave'] * len(brave_xss)\n",
    "})\n",
    "\n",
    "chrome_color = '#009E73'\n",
    "firefox_color = '#E69F00'\n",
    "brave_color = \"#0072B2\"\n",
    "\n",
    "palette = {'Chrome': '#009E73', 'Firefox': '#E69F00', 'Brave': '#0072B2'}\n",
    "palette2 = {'Chrome': '#009E73', 'Brave': '#0072B2'}\n",
    "\n",
    "fig, axes = plt.subplots(2, 2, figsize=(6, 6))  # Adjust the figsize as necessary\n",
    "\n",
    "fig.subplots_adjust(hspace=0.5)  # Adjust the vertical spacing\n",
    "\n",
    "# Row A\n",
    "fig.text(-0.02, 0.75, '(A)', ha='center', va='center', fontsize=12)\n",
    "fig.text(-0.02, 0.25, '(B)', ha='center', va='center', fontsize=12)\n",
    "\n",
    "# Plot your first two existing subplots in the first row\n",
    "# First dataset (chrome_old)\n",
    "cl_values_chrome = chrome_old[[\"content-length\", \"tracker\"]].dropna().astype('Int32')\n",
    "sns.ecdfplot(data=cl_values_chrome[cl_values_chrome['content-length'] < 10000], x=\"content-length\", hue='tracker', ax=axes[0, 0])\n",
    "axes[0, 0].set_title('$Chrome_{22}$: ECDF of Content-Length Header', fontsize=9)\n",
    "axes[0, 0].set_xlabel('Content-Length Value', fontsize=9)\n",
    "axes[0, 0].set_ylabel('Cumulative Probability', fontsize=9)\n",
    "axes[0, 0].tick_params(labelsize=8)\n",
    "axes[0, 0].legend(title=\"Classification\", labels=['Tracker', 'Non-Tracker'], fontsize=8)\n",
    "\n",
    "# Second dataset (firefox_new)\n",
    "cl_values_firefox = chrome_new[[\"content-length\", \"tracker\"]].dropna().astype('Int32')\n",
    "sns.ecdfplot(data=cl_values_firefox[cl_values_firefox['content-length'] < 10000], x=\"content-length\", hue='tracker', ax=axes[0, 1])\n",
    "axes[0, 1].set_title('$Chrome_{23}$: ECDF of Content-Length Header', fontsize=9)\n",
    "axes[0, 1].set_xlabel('Content-Length Value', fontsize=9)\n",
    "axes[0, 1].set_ylabel('')\n",
    "axes[0, 1].tick_params(labelsize=8, labelleft=False)\n",
    "axes[0, 1].legend(title=\"Classification\", labels=['Tracker', 'Non-Tracker'], fontsize=8)\n",
    "\n",
    "# Plot the new subplot in the second row for df\n",
    "sns.ecdfplot(data=df, x=feature, hue='set', log_scale=False, palette=palette, ax=axes[1, 0])\n",
    "axes[1, 0].set_title('Feature Similarity between $Chrome_{22}$ and $Firefox_{22}$', fontsize=8)\n",
    "axes[1, 0].set_xlabel('Feature Values', fontsize=9)  # Remove x-axis label\n",
    "axes[1, 0].set_ylabel('Cumulative Probability', fontsize=9)\n",
    "axes[1, 0].tick_params(labelsize=8)\n",
    "# Set the custom legend with new labels and position it in the bottom right corner\n",
    "handles, labels = axes[1, 0].get_legend_handles_labels()\n",
    "axes[1, 0].legend(labels=['$Chrome_{22}$', '$Firefox_{22}$'], loc='lower right', fontsize=8, title=\"Browser\")\n",
    "axes[1, 0].set_xticklabels([])  # Clear x-tick labels\n",
    "\n",
    "# Plot the new subplot in the second row for df2\n",
    "sns.ecdfplot(data=df2, x=feature, hue='set', log_scale=False, palette=palette2, ax=axes[1, 1])\n",
    "axes[1, 1].set_title('Feature Similarity between $Chrome_{22}$ and $Brave_{22}$', fontsize=8)\n",
    "axes[1, 1].set_xlabel('Feature Values', fontsize=9)  # Remove x-axis label\n",
    "axes[1, 1].set_ylabel('')\n",
    "axes[1, 1].tick_params(labelsize=8)\n",
    "# Set the custom legend with new labels and position it in the bottom right corner\n",
    "handles, labels = axes[1, 1].get_legend_handles_labels()\n",
    "axes[1, 1].legend(labels=['$Chrome_{22}$', '$Brave_{22}$'], loc='lower right', fontsize=8, title=\"Browser\")\n",
    "axes[1, 1].set_xticklabels([])  # Clear x-tick labels\n",
    "\n",
    "# Adjust layout\n",
    "# plt.tight_layout(rect=[0.05, 0.05, 1, 1]) \n",
    "\n",
    "# Adjust layout\n",
    "plt.tight_layout()\n",
    "plt.savefig('content_length_comparison.svg', format='svg', bbox_inches='tight')\n",
    "plt.show()"
   ],
   "metadata": {
    "collapsed": false,
    "ExecuteTime": {
     "end_time": "2023-12-01T11:19:03.722732Z",
     "start_time": "2023-12-01T11:18:58.771388Z"
    }
   },
   "outputs": []
  },
  {
   "cell_type": "code",
   "execution_count": 75,
   "source": [
    "cl_values_firefox.loc[cl_values_firefox['tracker'] == 1]['content-length'].median()"
   ],
   "metadata": {
    "collapsed": false,
    "ExecuteTime": {
     "end_time": "2023-11-30T11:40:57.300608Z",
     "start_time": "2023-11-30T11:40:57.274725Z"
    }
   },
   "outputs": []
  },
  {
   "cell_type": "code",
   "execution_count": 69,
   "source": [
    "cl_values_chrome.loc[cl_values_chrome['tracker'] == 1]"
   ],
   "metadata": {
    "collapsed": false,
    "ExecuteTime": {
     "end_time": "2023-11-30T11:35:36.473278Z",
     "start_time": "2023-11-30T11:35:36.445390Z"
    }
   },
   "outputs": []
  },
  {
   "cell_type": "code",
   "execution_count": 99,
   "source": [
    "def create_value_comparison(header_field, n_values):\n",
    "    header_field_df = pd.DataFrame(\n",
    "        brave[[f\"{header_field}\", \"tracker\"]].value_counts()\n",
    "    ).reset_index()\n",
    "    header_field_df.columns = [f\"{header_field}\", \"tracker\", \"frequency\"]\n",
    "    header_field_df.sort_values(by=[\"frequency\"], ascending=False, inplace=True)\n",
    "\n",
    "    test_values = header_field_df[0:n_values][f\"{header_field}\"].values.tolist()\n",
    "    frequent_content_types = (\n",
    "        header_field_df[header_field_df[f\"{header_field}\"].isin(test_values)]\n",
    "        .reset_index()\n",
    "        .sort_values(by=f\"{header_field}\")\n",
    "    )\n",
    "    non_tracker = frequent_content_types[frequent_content_types.tracker == 0]\n",
    "    tracker = frequent_content_types[frequent_content_types.tracker == 1]\n",
    "    return non_tracker, tracker\n",
    "\n",
    "\n",
    "def create_value_comparison_plot(non_tracker, tracker, n, header_field):\n",
    "    r = np.arange(n)\n",
    "    width = 0.25\n",
    "\n",
    "    plt.figure(figsize=(8, 5))\n",
    "    plt.bar(r, non_tracker[\"frequency\"], log=True, label=\"Non-Tracker\", width=width)\n",
    "    plt.bar(r + width, tracker[\"frequency\"], log=True, label=\"Tracker\", width=width)\n",
    "    plt.xticks(\n",
    "        r + width / 2,\n",
    "        non_tracker[f\"{header_field}\"].values.tolist(),\n",
    "        # rotation=45,\n",
    "        fontsize=12,\n",
    "        fontweight=\"bold\",\n",
    "        ha=\"right\",\n",
    "    )\n",
    "    # plt.title('Distribution of Content-Disposition Header Values', fontsize=16)\n",
    "    # plt.xlabel('Content-Disposition Value', fontsize=14)\n",
    "    # plt.ylabel('Frequency', fontsize=14)\n",
    "    # plt.legend(title=\"Classification\", labels=['Tracker', 'Non-Tracker'], fontsize=10)\n",
    "    # plt.xticks(fontsize=12)\n",
    "    # plt.yticks(fontsize=12)\n",
    "    plt.legend()"
   ],
   "metadata": {
    "collapsed": false
   },
   "outputs": []
  },
  {
   "cell_type": "code",
   "execution_count": 107,
   "source": [
    "non_tracker_cd, tracker_cd = create_value_comparison(\"server\", 20)\n",
    "create_value_comparison_plot(non_tracker_cd, tracker_cd, len(tracker_cd), 'server')"
   ],
   "metadata": {
    "collapsed": false
   },
   "outputs": []
  },
  {
   "cell_type": "code",
   "execution_count": 105,
   "source": [
    "data[['content-type', 'tracker']].value_count"
   ],
   "metadata": {
    "collapsed": false
   },
   "outputs": []
  },
  {
   "cell_type": "code",
   "execution_count": 44,
   "source": [
    "clCT = data[['content-length', 'tracker', 'content-type']]"
   ],
   "metadata": {
    "collapsed": false
   },
   "outputs": []
  },
  {
   "cell_type": "code",
   "execution_count": 47,
   "source": [
    "clCT.dropna(inplace=True)"
   ],
   "metadata": {
    "collapsed": false
   },
   "outputs": []
  },
  {
   "cell_type": "code",
   "execution_count": 53,
   "source": [
    "data[['content-length', 'tracker']].value_counts()"
   ],
   "metadata": {
    "collapsed": false
   },
   "outputs": []
  },
  {
   "cell_type": "code",
   "execution_count": 21,
   "source": [
    "chrome = pd.read_parquet(\"../data/processed/chrome/08_12_2022/train_set_01.parquet.gzip\")\n",
    "chrome2 = pd.read_parquet(\"../data/processed/chrome/08_12_2022/test_set_01.parquet.gzip\")\n",
    "\n",
    "chromee = pd.concat([chrome, chrome2], ignore_index=True)"
   ],
   "metadata": {
    "collapsed": false
   },
   "outputs": []
  },
  {
   "cell_type": "code",
   "execution_count": 54,
   "source": [
    "firefox = pd.read_parquet(\"../data/processed/firefox/08_12_2022/test_set.parquet.gzip\")"
   ],
   "metadata": {
    "collapsed": false
   },
   "outputs": []
  },
  {
   "cell_type": "code",
   "execution_count": 2,
   "source": [
    "brave = pd.read_parquet(\"../data/processed/brave/08_12_2022/test_set_0123.parquet.gzip\")"
   ],
   "metadata": {
    "collapsed": false
   },
   "outputs": []
  },
  {
   "cell_type": "code",
   "execution_count": 3,
   "source": [
    "brave = brave.iloc[:, 6:]"
   ],
   "metadata": {
    "collapsed": false
   },
   "outputs": []
  },
  {
   "cell_type": "code",
   "execution_count": 4,
   "source": [
    "# TODO change var name, a bit misleading here\n",
    "na_per_row = pd.DataFrame((brave.isnull().sum(axis=1) - len(brave.columns))*-1)\n",
    "na_per_row[\"tracker\"] = brave[\"tracker\"]"
   ],
   "metadata": {
    "collapsed": false
   },
   "outputs": []
  },
  {
   "cell_type": "code",
   "execution_count": 6,
   "source": [
    "plt.figure(figsize=(10, 6))\n",
    "g = sns.boxplot(data=na_per_row, y=na_per_row.columns.values[0], x='tracker')\n",
    "\n",
    "plt.title('Number of HTTP/S Headers per Response in Brave', fontsize=18)\n",
    "plt.xlabel('Classification', fontsize=16)\n",
    "plt.ylabel('HTTP/S header count', fontsize=16)\n",
    "plt.xticks(fontsize=14)\n",
    "plt.yticks(fontsize=14)\n",
    "g.set_xticklabels(['Non-Tracker', 'Tracker'], fontsize=14)\n",
    "plt.show()"
   ],
   "metadata": {
    "collapsed": false
   },
   "outputs": []
  },
  {
   "cell_type": "code",
   "execution_count": 76,
   "source": [
    "nt = chromee[chromee['tracker'] == 0].iloc[:, 6:]\n",
    "t = chromee[chromee['tracker'] == 1].iloc[:, 6:]"
   ],
   "metadata": {
    "collapsed": false
   },
   "outputs": []
  },
  {
   "cell_type": "code",
   "execution_count": 69,
   "source": [
    "del chrome2"
   ],
   "metadata": {
    "collapsed": false
   },
   "outputs": []
  },
  {
   "cell_type": "code",
   "execution_count": 19,
   "source": [
    "brave.iloc[:, :40]"
   ],
   "metadata": {
    "collapsed": false
   },
   "outputs": []
  },
  {
   "cell_type": "code",
   "execution_count": 57,
   "source": [
    "prevalent_header_chrome = chromee.iloc[:, 6:46]"
   ],
   "metadata": {
    "collapsed": false
   },
   "outputs": []
  },
  {
   "cell_type": "code",
   "execution_count": 58,
   "source": [
    "prevalent_header_chrome['tracker'] = chromee[['tracker']]"
   ],
   "metadata": {
    "collapsed": false
   },
   "outputs": []
  },
  {
   "cell_type": "code",
   "execution_count": 59,
   "source": [
    "nt_length = len(prevalent_header_chrome[prevalent_header_chrome[\"tracker\"] == 0])\n",
    "t_length = len(prevalent_header_chrome[prevalent_header_chrome[\"tracker\"] ==1])\n",
    "\n",
    "prevalent_header_chrome.groupby('tracker').agg(lambda x: f'{((x.notnull().sum())/ nt_length)*100} --'\n",
    "                                                         f'{((x.notnull().sum())/ t_length)*100}')"
   ],
   "metadata": {
    "collapsed": false
   },
   "outputs": []
  },
  {
   "cell_type": "code",
   "execution_count": 47,
   "source": [
    "prevalent_header_brave = brave.iloc[:, :40]\n",
    "prevalent_header_brave['tracker'] = brave[['tracker']]"
   ],
   "metadata": {
    "collapsed": false
   },
   "outputs": []
  },
  {
   "cell_type": "code",
   "execution_count": 50,
   "source": [
    "nt_lengthb = len(prevalent_header_brave[prevalent_header_brave[\"tracker\"] == 0])\n",
    "t_lengthb = len(prevalent_header_brave[prevalent_header_brave[\"tracker\"] ==1])\n",
    "\n",
    "prevalent_header_brave.groupby('tracker').agg(lambda x: f'{((x.notnull().sum())/ nt_lengthb)*100} --'\n",
    "                                                         f'{((x.notnull().sum())/ t_lengthb)*100}')"
   ],
   "metadata": {
    "collapsed": false
   },
   "outputs": []
  },
  {
   "cell_type": "code",
   "execution_count": 55,
   "source": [
    "prevalent_header_firefox = firefox.iloc[:, 6:40]\n",
    "prevalent_header_firefox['tracker'] = firefox[['tracker']]\n",
    "nt_lengthf = len(prevalent_header_firefox[prevalent_header_firefox[\"tracker\"] == 0])\n",
    "t_lengthf = len(prevalent_header_firefox[prevalent_header_firefox[\"tracker\"] == 1])\n",
    "\n",
    "prevalent_header_firefox.groupby('tracker').agg(lambda x: f'{((x.notnull().sum()) / nt_lengthf) * 100} --'\n",
    "                                                        f'{((x.notnull().sum()) / t_lengthf) * 100}')"
   ],
   "metadata": {
    "collapsed": false
   },
   "outputs": []
  },
  {
   "cell_type": "code",
   "execution_count": 65,
   "source": [
    "firefox[['tracker', 'content-encoding']].value_counts()"
   ],
   "metadata": {
    "collapsed": false
   },
   "outputs": []
  },
  {
   "cell_type": "code",
   "execution_count": 108,
   "source": [
    "data_train = pd.read_parquet(\n",
    "    \"../data/processed/chrome/08_12_2022/train_set_01_featurized.parquet.gzip\"\n",
    ")\n"
   ],
   "metadata": {
    "collapsed": false
   },
   "outputs": []
  },
  {
   "cell_type": "code",
   "execution_count": 110,
   "source": [
    "data_train['content-type'].value_counts()"
   ],
   "metadata": {
    "collapsed": false
   },
   "outputs": []
  }
 ],
 "metadata": {
  "kernelspec": {
   "display_name": "Python 3",
   "language": "python",
   "name": "python3"
  },
  "language_info": {
   "codemirror_mode": {
    "name": "ipython",
    "version": 2
   },
   "file_extension": ".py",
   "mimetype": "text/x-python",
   "name": "python",
   "nbconvert_exporter": "python",
   "pygments_lexer": "ipython2",
   "version": "2.7.6"
  }
 },
 "nbformat": 4,
 "nbformat_minor": 0
}
