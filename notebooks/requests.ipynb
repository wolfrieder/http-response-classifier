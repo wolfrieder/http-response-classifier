{
 "cells": [
  {
   "cell_type": "code",
   "id": "initial_id",
   "metadata": {
    "collapsed": true,
    "ExecuteTime": {
     "end_time": "2024-05-24T07:16:38.080442Z",
     "start_time": "2024-05-24T07:16:37.774504Z"
    }
   },
   "source": [
    "import gzip\n",
    "import json\n",
    "import pathlib\n",
    "import sys\n",
    "from os import listdir, makedirs\n",
    "from os.path import join\n",
    "from typing import Dict, List, Any, Union\n",
    "from urllib.parse import urlparse\n",
    "import os\n",
    "import pandas as pd\n",
    "from alive_progress import alive_bar\n",
    "from json_stream import load\n",
    "from json_stream.dump import JSONStreamEncoder\n",
    "from src.pipeline_functions.data_preprocessing_functions import *"
   ],
   "execution_count": 1,
   "outputs": []
  },
  {
   "metadata": {
    "ExecuteTime": {
     "end_time": "2024-05-21T13:37:14.413171Z",
     "start_time": "2024-05-21T13:37:14.406417Z"
    }
   },
   "cell_type": "code",
   "source": [
    "def generate_url(r: Dict[str, Any]) -> Dict[str, Union[str, List[str]]]:\n",
    "    \"\"\"\n",
    "    Extract and generate URL-related information from a given request dictionary.\n",
    "\n",
    "    Parameters\n",
    "    ----------\n",
    "    r : Dict[str, Any]\n",
    "        The input request dictionary containing the 'url' key.\n",
    "\n",
    "    Returns\n",
    "    -------\n",
    "    Dict[str, Union[str, List[str]]]\n",
    "        A dictionary containing URL-related information like hostname, pathname,\n",
    "        filetype, filename_one, protocol, and query.\n",
    "    \"\"\"\n",
    "    parsed_url = urlparse(r[\"url\"])\n",
    "    return {\n",
    "        \"hostname\": parsed_url.netloc,\n",
    "        \"pathname\": parsed_url.path,\n",
    "        \"filetype\": parsed_url.path.split(\"/\").pop().split(\".\").pop(),\n",
    "        \"filename_one\": parsed_url.path.split(\"/\").pop(),\n",
    "        \"protocol\": parsed_url.scheme,\n",
    "        \"query\": parsed_url.query,\n",
    "    }\n",
    "\n",
    "\n",
    "def generate_response_headers(r: Dict[str, Any]) -> List[List[str]]:\n",
    "    \"\"\"\n",
    "    Extract and generate response headers from a given request dictionary.\n",
    "\n",
    "    Parameters\n",
    "    ----------\n",
    "    r : Dict[str, Any]\n",
    "        The input request dictionary containing the 'responseHeaders' key.\n",
    "\n",
    "    Returns\n",
    "    -------\n",
    "    List[List[str]]\n",
    "        A list of lists, where each inner list contains a header name and its value.\n",
    "    \"\"\"\n",
    "    headers = r[\"requestHeaders\"]\n",
    "    transformed = []\n",
    "\n",
    "    for header in headers:\n",
    "        try:\n",
    "            transformed.append([header[\"name\"], header[\"value\"]])\n",
    "        except KeyError:\n",
    "            # TODO: philip u know\n",
    "            print(header[\"name\"])\n",
    "    return transformed"
   ],
   "id": "6e98011ff96478b5",
   "execution_count": 2,
   "outputs": []
  },
  {
   "metadata": {
    "ExecuteTime": {
     "end_time": "2024-05-21T13:37:17.001749Z",
     "start_time": "2024-05-21T13:37:16.998566Z"
    }
   },
   "cell_type": "code",
   "source": "data_path = \"../data/raw/chrome/03_29_2023/http-11.json.gz\"",
   "id": "435782e3952e74f5",
   "execution_count": 3,
   "outputs": []
  },
  {
   "metadata": {
    "ExecuteTime": {
     "end_time": "2024-05-21T13:37:19.285626Z",
     "start_time": "2024-05-21T13:37:17.721064Z"
    }
   },
   "cell_type": "code",
   "source": [
    "with gzip.open(data_path, 'r') as file:\n",
    "    data_raw = json.load(file)"
   ],
   "id": "9fd5088fa48289eb",
   "execution_count": 4,
   "outputs": []
  },
  {
   "metadata": {
    "ExecuteTime": {
     "end_time": "2024-05-21T13:37:20.771266Z",
     "start_time": "2024-05-21T13:37:20.762856Z"
    }
   },
   "cell_type": "code",
   "source": "data_raw[0]",
   "id": "44cf76e61a46a07a",
   "execution_count": 5,
   "outputs": []
  },
  {
   "metadata": {
    "ExecuteTime": {
     "end_time": "2024-05-17T20:03:02.679596Z",
     "start_time": "2024-05-17T20:03:02.676850Z"
    }
   },
   "cell_type": "code",
   "source": [
    "a = {\n",
    "    \"url\": generate_url(data[0]),\n",
    "    \"labels\": data[0][\"labels\"],\n",
    "    \"request\": {\n",
    "        \"method\": data[0][\"method\"],\n",
    "        \"initiator\": data[0][\"initiator\"],\n",
    "        },\n",
    "    \"requestHeaders\": generate_response_headers(data[0]),\n",
    "}"
   ],
   "id": "fe1f2f9ea89a44c0",
   "execution_count": 27,
   "outputs": []
  },
  {
   "metadata": {
    "ExecuteTime": {
     "end_time": "2024-05-22T06:53:53.631976Z",
     "start_time": "2024-05-22T06:53:53.627181Z"
    }
   },
   "cell_type": "code",
   "source": [
    "def read_json_file(\n",
    "    name: str, target_file_name: str, target_data_dir, compression_alg\n",
    ") -> pd.DataFrame:\n",
    "    \"\"\"\n",
    "    Read a JSON file and return a pandas DataFrame.\n",
    "\n",
    "    Parameters\n",
    "    ----------\n",
    "    name: String\n",
    "        Name of the file to read from.\n",
    "    target_file_name: String\n",
    "        Name of the file directory to read from (Path).\n",
    "        Note: data/raw/ is already defined.\n",
    "\n",
    "    Returns\n",
    "    -------\n",
    "    object, type of objs\n",
    "\n",
    "    \"\"\"\n",
    "    path = f\"../data/{target_data_dir}/{target_file_name}/{name}.json.{compression_alg}\"\n",
    "    print(f\"\\nDEBUG: File exists? {os.path.isfile(path)}\\n\")\n",
    "\n",
    "    return pd.read_json(path, orient=\"records\", compression=\"gzip\")"
   ],
   "id": "9ddcf7bda9b6988a",
   "execution_count": 2,
   "outputs": []
  },
  {
   "metadata": {
    "ExecuteTime": {
     "end_time": "2024-05-22T08:48:45.587241Z",
     "start_time": "2024-05-22T08:48:45.582917Z"
    }
   },
   "cell_type": "code",
   "source": [
    "def prepare_initial_dataset(\n",
    "    file_name: str, target_file: str, target_data_dir, compression_alg\n",
    ") -> pd.DataFrame:\n",
    "\n",
    "    data = (\n",
    "        read_json_file(file_name, target_file, target_data_dir, compression_alg)\n",
    "        .dropna()\n",
    "        .reset_index(drop=True)\n",
    "    )\n",
    "    return data.loc[data[\"responseHeaders\"].map(len) != 0].reset_index(drop=True)"
   ],
   "id": "e4a80cd682519fe4",
   "execution_count": 2,
   "outputs": []
  },
  {
   "metadata": {
    "ExecuteTime": {
     "end_time": "2024-05-22T07:00:00.412471Z",
     "start_time": "2024-05-22T06:59:40.201205Z"
    }
   },
   "cell_type": "code",
   "source": "data = read_json_file(\"merged_data_response\", \"03_29_2023\", \"merged/chrome\", \"gz\")",
   "id": "277d3cabaf94c5eb",
   "execution_count": 17,
   "outputs": []
  },
  {
   "metadata": {
    "ExecuteTime": {
     "end_time": "2024-05-22T07:01:19.739741Z",
     "start_time": "2024-05-22T07:01:18.745994Z"
    }
   },
   "cell_type": "code",
   "source": "pd.DataFrame.from_records(data['response']).to_numpy()",
   "id": "c85f9ecd58c05d2c",
   "execution_count": 19,
   "outputs": []
  },
  {
   "metadata": {
    "ExecuteTime": {
     "end_time": "2024-05-22T06:57:44.009250Z",
     "start_time": "2024-05-22T06:57:43.179038Z"
    }
   },
   "cell_type": "code",
   "source": "pd.DataFrame.from_records(data['request']).iloc[:,2].to_numpy()",
   "id": "5407ff4de21b1c49",
   "execution_count": 15,
   "outputs": []
  },
  {
   "metadata": {
    "ExecuteTime": {
     "end_time": "2024-05-22T06:57:54.451062Z",
     "start_time": "2024-05-22T06:57:54.448118Z"
    }
   },
   "cell_type": "code",
   "source": "[*data[\"request\"][0]][2]",
   "id": "18fe1718e62c8528",
   "execution_count": 16,
   "outputs": []
  },
  {
   "metadata": {
    "ExecuteTime": {
     "end_time": "2024-05-23T08:50:56.807346Z",
     "start_time": "2024-05-23T08:50:56.120906Z"
    }
   },
   "cell_type": "code",
   "source": "request_data = pd.read_parquet('../data/processed/chrome/08_12_2022/test_set_request.parquet.gzip', engine='pyarrow', dtype_backend='pyarrow')",
   "id": "c25b0cf042127e38",
   "execution_count": 2,
   "outputs": []
  },
  {
   "metadata": {
    "ExecuteTime": {
     "end_time": "2024-05-23T07:20:25.515836Z",
     "start_time": "2024-05-23T07:20:25.511527Z"
    }
   },
   "cell_type": "code",
   "source": "request_data['httpMessageId']",
   "id": "68b6cd60e8d19643",
   "execution_count": 5,
   "outputs": []
  },
  {
   "metadata": {
    "ExecuteTime": {
     "end_time": "2024-05-23T07:20:39.233590Z",
     "start_time": "2024-05-23T07:20:39.229321Z"
    }
   },
   "cell_type": "code",
   "source": "request_data['tracker']",
   "id": "de115fd4550de674",
   "execution_count": 8,
   "outputs": []
  },
  {
   "metadata": {
    "ExecuteTime": {
     "end_time": "2024-05-23T07:20:45.316929Z",
     "start_time": "2024-05-23T07:20:45.219294Z"
    }
   },
   "cell_type": "code",
   "source": "request_data.iloc[:10, 8094:]",
   "id": "a3db11a672dd5076",
   "execution_count": 9,
   "outputs": []
  },
  {
   "metadata": {
    "ExecuteTime": {
     "end_time": "2024-05-23T07:21:59.749179Z",
     "start_time": "2024-05-23T07:21:59.643866Z"
    }
   },
   "cell_type": "code",
   "source": "request_data.iloc[:10, 6:10]",
   "id": "9698b27e3fcd0ccc",
   "execution_count": 12,
   "outputs": []
  },
  {
   "metadata": {
    "ExecuteTime": {
     "end_time": "2024-05-23T07:22:04.099911Z",
     "start_time": "2024-05-23T07:22:04.097424Z"
    }
   },
   "cell_type": "code",
   "source": "data_column_values = request_data.columns.values[6:-2].tolist()",
   "id": "1570bf40035c6071",
   "execution_count": 13,
   "outputs": []
  },
  {
   "metadata": {
    "ExecuteTime": {
     "end_time": "2024-05-23T07:22:11.049360Z",
     "start_time": "2024-05-23T07:22:11.039907Z"
    }
   },
   "cell_type": "code",
   "source": "data_column_values",
   "id": "22ac8f845e93b0b6",
   "execution_count": 14,
   "outputs": []
  },
  {
   "metadata": {
    "ExecuteTime": {
     "end_time": "2024-05-22T20:12:31.891068Z",
     "start_time": "2024-05-22T20:12:31.887252Z"
    }
   },
   "cell_type": "code",
   "source": [
    "def label_as_last_column(dataset: pd.DataFrame) -> List[str]:\n",
    "    \"\"\"\n",
    "    Reorder the columns of a DataFrame, moving the \"tracker\" column to the end.\n",
    "\n",
    "    Parameters\n",
    "    ----------\n",
    "    dataset : pd.DataFrame\n",
    "        The input DataFrame with a \"tracker\" column.\n",
    "\n",
    "    Returns\n",
    "    -------\n",
    "    List[str]\n",
    "        A list of column names in the new order, with the \"tracker\" column last.\n",
    "    \"\"\"\n",
    "    temp_cols = dataset.columns.tolist()\n",
    "    index_col = dataset.columns.get_loc(\"tracker\")\n",
    "    new_col_order = (\n",
    "        temp_cols[0:index_col]\n",
    "        + temp_cols[index_col + 1:]\n",
    "        + temp_cols[index_col: index_col + 1]\n",
    "    )\n",
    "    return new_col_order"
   ],
   "id": "93993066cd0082fe",
   "execution_count": 10,
   "outputs": []
  },
  {
   "metadata": {
    "ExecuteTime": {
     "end_time": "2024-05-22T20:15:26.499155Z",
     "start_time": "2024-05-22T20:15:26.496926Z"
    }
   },
   "cell_type": "code",
   "source": "reordered_cols = label_as_last_column(request_data)",
   "id": "185598e290ff0771",
   "execution_count": 11,
   "outputs": []
  },
  {
   "metadata": {
    "ExecuteTime": {
     "end_time": "2024-05-22T20:16:22.071473Z",
     "start_time": "2024-05-22T20:16:22.068597Z"
    }
   },
   "cell_type": "code",
   "source": "reordered_cols[1755]",
   "id": "463187d1503365dd",
   "execution_count": 18,
   "outputs": []
  },
  {
   "metadata": {
    "ExecuteTime": {
     "end_time": "2024-05-22T20:16:12.296930Z",
     "start_time": "2024-05-22T20:16:12.292684Z"
    }
   },
   "cell_type": "code",
   "source": "len(reordered_cols)",
   "id": "465d2ee64de4ac22",
   "execution_count": 15,
   "outputs": []
  },
  {
   "metadata": {},
   "cell_type": "code",
   "execution_count": null,
   "source": "request_data = request_data[reordered_cols]",
   "id": "bda38cff57810d42",
   "outputs": []
  },
  {
   "metadata": {
    "ExecuteTime": {
     "end_time": "2024-05-23T08:51:39.217040Z",
     "start_time": "2024-05-23T08:51:39.195378Z"
    }
   },
   "cell_type": "code",
   "source": "request_data.iloc[:10, :10]",
   "id": "66d7e247f11ad44c",
   "execution_count": 4,
   "outputs": []
  },
  {
   "metadata": {
    "ExecuteTime": {
     "end_time": "2024-05-23T08:54:05.973572Z",
     "start_time": "2024-05-23T08:54:05.589420Z"
    }
   },
   "cell_type": "code",
   "source": [
    "empty_columns = [col for col in request_data if request_data[col].isnull().all() == True]\n",
    "request_data.drop(empty_columns, axis=1, inplace=True)\n",
    "request_data.reset_index(drop=True, inplace=True)"
   ],
   "id": "74c11ec41940de3a",
   "execution_count": 5,
   "outputs": []
  },
  {
   "metadata": {
    "ExecuteTime": {
     "end_time": "2024-05-23T08:54:09.247453Z",
     "start_time": "2024-05-23T08:54:09.228915Z"
    }
   },
   "cell_type": "code",
   "source": "request_data",
   "id": "cb7acccec40db78d",
   "execution_count": 6,
   "outputs": []
  },
  {
   "metadata": {
    "ExecuteTime": {
     "end_time": "2024-05-23T09:10:13.114914Z",
     "start_time": "2024-05-23T09:10:13.112594Z"
    }
   },
   "cell_type": "code",
   "source": "data_column_values = request_data.columns.values[6:-2].tolist()",
   "id": "626ab000bc0bc310",
   "execution_count": 7,
   "outputs": []
  },
  {
   "metadata": {
    "ExecuteTime": {
     "end_time": "2024-05-23T09:16:28.225830Z",
     "start_time": "2024-05-23T09:16:27.347079Z"
    }
   },
   "cell_type": "code",
   "source": [
    "match = [\n",
    "            new_fuzzy_string_matching_for_column(j, data_column_values[i + 1 :])\n",
    "            for i, j in enumerate(data_column_values)\n",
    "            if i != len(data_column_values) - 1\n",
    "        ]"
   ],
   "id": "eaff758871b8812a",
   "execution_count": 10,
   "outputs": []
  },
  {
   "metadata": {
    "ExecuteTime": {
     "end_time": "2024-05-23T09:16:31.924428Z",
     "start_time": "2024-05-23T09:16:31.486831Z"
    }
   },
   "cell_type": "code",
   "source": "match",
   "id": "b06943c94aea9d2",
   "execution_count": 11,
   "outputs": []
  },
  {
   "metadata": {
    "ExecuteTime": {
     "end_time": "2024-05-23T09:18:59.731998Z",
     "start_time": "2024-05-23T09:18:59.673617Z"
    }
   },
   "cell_type": "code",
   "source": "match2 = pd.concat(match, ignore_index=True)",
   "id": "2f423e9020b30afa",
   "execution_count": 12,
   "outputs": []
  },
  {
   "metadata": {
    "ExecuteTime": {
     "end_time": "2024-05-23T09:19:02.859987Z",
     "start_time": "2024-05-23T09:19:02.854101Z"
    }
   },
   "cell_type": "code",
   "source": "match2",
   "id": "c30902588b226f03",
   "execution_count": 13,
   "outputs": []
  },
  {
   "metadata": {
    "ExecuteTime": {
     "end_time": "2024-05-23T09:19:31.617814Z",
     "start_time": "2024-05-23T09:19:23.357871Z"
    }
   },
   "cell_type": "code",
   "source": [
    "result = [\n",
    "            find_cols_with_similar_values(col, col2, request_data)\n",
    "            for col, col2 in zip(match2[\"fuzzy_match\"], match2[\"col_name\"])\n",
    "        ]"
   ],
   "id": "55716d5cdcf58f83",
   "execution_count": 15,
   "outputs": []
  },
  {
   "metadata": {
    "ExecuteTime": {
     "end_time": "2024-05-23T09:19:54.357797Z",
     "start_time": "2024-05-23T09:19:54.354498Z"
    }
   },
   "cell_type": "code",
   "source": "request_data.reset_index(drop=True, inplace=True)",
   "id": "852cad015a66ef60",
   "execution_count": 17,
   "outputs": []
  },
  {
   "metadata": {
    "ExecuteTime": {
     "end_time": "2024-05-23T09:20:05.392618Z",
     "start_time": "2024-05-23T09:20:05.339826Z"
    }
   },
   "cell_type": "code",
   "source": [
    "similar_values = [\n",
    "            select_similar_columns(col[0], col[1], match2)\n",
    "            for col in result\n",
    "            if col is not None\n",
    "        ]"
   ],
   "id": "a042473b77a4f97a",
   "execution_count": 18,
   "outputs": []
  },
  {
   "metadata": {
    "ExecuteTime": {
     "end_time": "2024-05-23T09:20:08.385584Z",
     "start_time": "2024-05-23T09:20:08.332597Z"
    }
   },
   "cell_type": "code",
   "source": "similar_values",
   "id": "403efd67e665e97b",
   "execution_count": 19,
   "outputs": []
  },
  {
   "metadata": {
    "ExecuteTime": {
     "end_time": "2024-05-23T09:20:56.902268Z",
     "start_time": "2024-05-23T09:20:56.896247Z"
    }
   },
   "cell_type": "code",
   "source": "similar_values_train = pd.concat(similar_values, ignore_index=True)",
   "id": "9c9dfb096c5ba99d",
   "execution_count": 20,
   "outputs": []
  },
  {
   "metadata": {
    "ExecuteTime": {
     "end_time": "2024-05-23T09:21:00.935269Z",
     "start_time": "2024-05-23T09:21:00.929696Z"
    }
   },
   "cell_type": "code",
   "source": "similar_values_train",
   "id": "bf72a03d3f203fe7",
   "execution_count": 21,
   "outputs": []
  },
  {
   "metadata": {
    "ExecuteTime": {
     "end_time": "2024-05-23T09:21:21.534642Z",
     "start_time": "2024-05-23T09:21:21.157843Z"
    }
   },
   "cell_type": "code",
   "source": [
    "similar_values_train.apply(\n",
    "            lambda x: merge_similar_columns(x[\"fuzzy_match\"], x[\"col_name\"], request_data),\n",
    "            axis=1,\n",
    "        )"
   ],
   "id": "feb67b5f29933826",
   "execution_count": 23,
   "outputs": []
  },
  {
   "metadata": {
    "ExecuteTime": {
     "end_time": "2024-05-23T09:21:36.101091Z",
     "start_time": "2024-05-23T09:21:35.972568Z"
    }
   },
   "cell_type": "code",
   "source": [
    "columns_to_remove = list(set(similar_values_train.fuzzy_match.values.tolist()))\n",
    "request_data.drop(columns_to_remove, axis=1, inplace=True)"
   ],
   "id": "a05b9490649f78e1",
   "execution_count": 24,
   "outputs": []
  },
  {
   "metadata": {
    "ExecuteTime": {
     "end_time": "2024-05-23T09:21:39.158913Z",
     "start_time": "2024-05-23T09:21:39.138727Z"
    }
   },
   "cell_type": "code",
   "source": "request_data",
   "id": "e7f1ce347c283889",
   "execution_count": 25,
   "outputs": []
  },
  {
   "metadata": {
    "ExecuteTime": {
     "end_time": "2024-05-23T09:36:53.739594Z",
     "start_time": "2024-05-23T09:36:47.727563Z"
    }
   },
   "cell_type": "code",
   "source": [
    "request_data = request_data.iloc[:, 6:]\n",
    "list_of_dtypes = create_categories_list(request_data)\n",
    "request_data = request_data.astype(list_of_dtypes)"
   ],
   "id": "18b2b0efa23a53eb",
   "execution_count": 26,
   "outputs": []
  },
  {
   "metadata": {
    "ExecuteTime": {
     "end_time": "2024-05-23T09:36:59.124307Z",
     "start_time": "2024-05-23T09:36:59.101027Z"
    }
   },
   "cell_type": "code",
   "source": "request_data",
   "id": "1a7f72c812c4ace3",
   "execution_count": 27,
   "outputs": []
  },
  {
   "metadata": {
    "ExecuteTime": {
     "end_time": "2024-05-23T09:37:23.810649Z",
     "start_time": "2024-05-23T09:37:22.852771Z"
    }
   },
   "cell_type": "code",
   "source": "summary_table = create_summary_table(request_data.iloc[:, :-2])",
   "id": "53552df50cb3ed58",
   "execution_count": 29,
   "outputs": []
  },
  {
   "metadata": {
    "ExecuteTime": {
     "end_time": "2024-05-23T09:37:39.408158Z",
     "start_time": "2024-05-23T09:37:39.402935Z"
    }
   },
   "cell_type": "code",
   "source": [
    "remove_headers_with_one_na_ratio = summary_table[\n",
    "            summary_table[\"na_ratio\"] == 1\n",
    "        ].header_name.values.tolist()\n",
    "remove_headers_with_one_value = summary_table[\n",
    "            (summary_table[\"unique_values\"] <= 1) & (summary_table[\"na_ratio\"] != 1)\n",
    "        ].header_name.values.tolist()"
   ],
   "id": "c80fc2175dafb1d7",
   "execution_count": 30,
   "outputs": []
  },
  {
   "metadata": {
    "ExecuteTime": {
     "end_time": "2024-05-23T09:37:44.595199Z",
     "start_time": "2024-05-23T09:37:44.587548Z"
    }
   },
   "cell_type": "code",
   "source": "summary_table",
   "id": "f6b313bb1e37f2",
   "execution_count": 31,
   "outputs": []
  },
  {
   "metadata": {
    "ExecuteTime": {
     "end_time": "2024-05-23T09:41:04.475435Z",
     "start_time": "2024-05-23T09:41:04.448523Z"
    }
   },
   "cell_type": "code",
   "source": [
    "request_data.drop(remove_headers_with_one_na_ratio, axis=1, inplace=True)\n",
    "request_data.drop(remove_headers_with_one_value, axis=1, inplace=True)"
   ],
   "id": "14a1cb6d7ab91584",
   "execution_count": 32,
   "outputs": []
  },
  {
   "metadata": {
    "ExecuteTime": {
     "end_time": "2024-05-23T09:41:07.010048Z",
     "start_time": "2024-05-23T09:41:06.987085Z"
    }
   },
   "cell_type": "code",
   "source": "request_data",
   "id": "7de520cfc08c49c3",
   "execution_count": 33,
   "outputs": []
  },
  {
   "metadata": {
    "ExecuteTime": {
     "end_time": "2024-05-23T09:41:37.692346Z",
     "start_time": "2024-05-23T09:41:37.651755Z"
    }
   },
   "cell_type": "code",
   "source": "summary_table2 = create_summary_table_2(request_data)",
   "id": "964d6056a308d1f7",
   "execution_count": 34,
   "outputs": []
  },
  {
   "metadata": {
    "ExecuteTime": {
     "end_time": "2024-05-23T09:41:45.932686Z",
     "start_time": "2024-05-23T09:41:45.925004Z"
    }
   },
   "cell_type": "code",
   "source": "summary_table2",
   "id": "586c4a296044090b",
   "execution_count": 35,
   "outputs": []
  },
  {
   "metadata": {
    "ExecuteTime": {
     "end_time": "2024-05-23T09:43:31.952854Z",
     "start_time": "2024-05-23T09:43:31.948252Z"
    }
   },
   "cell_type": "code",
   "source": "data = request_data.copy(deep=True)",
   "id": "8748d82875d12abd",
   "execution_count": 39,
   "outputs": []
  },
  {
   "metadata": {
    "ExecuteTime": {
     "end_time": "2024-05-23T09:42:59.020462Z",
     "start_time": "2024-05-23T09:42:58.983771Z"
    }
   },
   "cell_type": "code",
   "source": "concise_information_wrapper(data, summary_table2)",
   "id": "1295139c259d7cd7",
   "execution_count": 37,
   "outputs": []
  },
  {
   "metadata": {
    "ExecuteTime": {
     "end_time": "2024-05-23T09:43:47.757167Z",
     "start_time": "2024-05-23T09:43:47.754448Z"
    }
   },
   "cell_type": "code",
   "source": [
    "data[\"comb_col_non_tracker\"] = 0\n",
    "data[\"comb_col_tracker\"] = 0"
   ],
   "id": "a2e1a4512ece52d2",
   "execution_count": 40,
   "outputs": []
  },
  {
   "metadata": {
    "ExecuteTime": {
     "end_time": "2024-05-23T09:43:50.102594Z",
     "start_time": "2024-05-23T09:43:50.076352Z"
    }
   },
   "cell_type": "code",
   "source": "data",
   "id": "99f929e7fc409cbd",
   "execution_count": 41,
   "outputs": []
  },
  {
   "metadata": {
    "ExecuteTime": {
     "end_time": "2024-05-23T09:44:33.085869Z",
     "start_time": "2024-05-23T09:44:33.082228Z"
    }
   },
   "cell_type": "code",
   "source": "only_non_tracker_cols, only_tracker_cols = find_cols_to_combine(summary_table2)",
   "id": "e47c4b384b6583f4",
   "execution_count": 44,
   "outputs": []
  },
  {
   "metadata": {
    "ExecuteTime": {
     "end_time": "2024-05-23T09:44:39.956249Z",
     "start_time": "2024-05-23T09:44:39.952754Z"
    }
   },
   "cell_type": "code",
   "source": "only_non_tracker_cols",
   "id": "9ff57afb29fb1340",
   "execution_count": 45,
   "outputs": []
  },
  {
   "metadata": {
    "ExecuteTime": {
     "end_time": "2024-05-23T09:44:44.600014Z",
     "start_time": "2024-05-23T09:44:44.597197Z"
    }
   },
   "cell_type": "code",
   "source": "only_tracker_cols",
   "id": "ef52cc39581f0fa8",
   "execution_count": 46,
   "outputs": []
  },
  {
   "metadata": {
    "ExecuteTime": {
     "end_time": "2024-05-23T09:45:21.540222Z",
     "start_time": "2024-05-23T09:45:21.536097Z"
    }
   },
   "cell_type": "code",
   "source": "data2 = data.copy(deep=True)",
   "id": "356ab0bbf5933323",
   "execution_count": 47,
   "outputs": []
  },
  {
   "metadata": {
    "ExecuteTime": {
     "end_time": "2024-05-23T09:45:24.385713Z",
     "start_time": "2024-05-23T09:45:24.367558Z"
    }
   },
   "cell_type": "code",
   "source": "update_combined_columns(data2, only_tracker_cols, 1, \"comb_col_tracker\")",
   "id": "de5fbd004198eaae",
   "execution_count": 48,
   "outputs": []
  },
  {
   "metadata": {
    "ExecuteTime": {
     "end_time": "2024-05-23T09:45:43.310746Z",
     "start_time": "2024-05-23T09:45:43.289926Z"
    }
   },
   "cell_type": "code",
   "source": "update_combined_columns(data2, only_non_tracker_cols, 0, \"comb_col_non_tracker\")",
   "id": "fd7a0380fd8028d0",
   "execution_count": 49,
   "outputs": []
  },
  {
   "metadata": {
    "ExecuteTime": {
     "end_time": "2024-05-23T18:54:35.896866Z",
     "start_time": "2024-05-23T18:54:35.831760Z"
    }
   },
   "cell_type": "code",
   "source": "old_data = pd.read_parquet('../data/processed/chrome/08_12_2022/train_set_featurized_BE.parquet.gzip', engine='pyarrow', dtype_backend='pyarrow')",
   "id": "8f34fed10be87b6",
   "execution_count": 2,
   "outputs": []
  },
  {
   "metadata": {
    "ExecuteTime": {
     "end_time": "2024-05-23T18:54:36.636351Z",
     "start_time": "2024-05-23T18:54:36.618552Z"
    }
   },
   "cell_type": "code",
   "source": "old_data",
   "id": "c95d8062bfb4a834",
   "execution_count": 3,
   "outputs": []
  },
  {
   "metadata": {
    "ExecuteTime": {
     "end_time": "2024-05-24T07:17:07.499097Z",
     "start_time": "2024-05-24T07:17:07.301326Z"
    }
   },
   "cell_type": "code",
   "source": "new_data_response = pd.read_parquet('../data/processed/chrome/08_12_2022/train_set_processed_response.parquet.gzip', engine='pyarrow', dtype_backend='pyarrow')",
   "id": "9977507cf94ac0a0",
   "execution_count": 2,
   "outputs": []
  },
  {
   "metadata": {
    "ExecuteTime": {
     "end_time": "2024-05-24T07:17:08.271832Z",
     "start_time": "2024-05-24T07:17:08.242645Z"
    }
   },
   "cell_type": "code",
   "source": "new_data_response",
   "id": "7d1b1e486a7cb7fc",
   "execution_count": 3,
   "outputs": []
  },
  {
   "metadata": {
    "ExecuteTime": {
     "end_time": "2024-05-24T07:19:52.792121Z",
     "start_time": "2024-05-24T07:19:52.596882Z"
    }
   },
   "cell_type": "code",
   "source": "test_response = pd.read_parquet('../data/processed/firefox/08_12_2022/merged_data_processed_response.parquet.gzip', engine='pyarrow', dtype_backend='pyarrow')",
   "id": "1e29cd5983d6fda7",
   "execution_count": 7,
   "outputs": []
  },
  {
   "metadata": {
    "ExecuteTime": {
     "end_time": "2024-05-24T07:19:53.703146Z",
     "start_time": "2024-05-24T07:19:53.676664Z"
    }
   },
   "cell_type": "code",
   "source": "test_response",
   "id": "a43bf3edf7374f31",
   "execution_count": 8,
   "outputs": []
  },
  {
   "metadata": {
    "ExecuteTime": {
     "end_time": "2024-05-24T07:19:56.135760Z",
     "start_time": "2024-05-24T07:19:56.132376Z"
    }
   },
   "cell_type": "code",
   "source": "list(set(new_data_response.columns.tolist()).difference(test_response.columns.tolist()))",
   "id": "2c86ff9b425e1fa4",
   "execution_count": 10,
   "outputs": []
  },
  {
   "metadata": {
    "ExecuteTime": {
     "end_time": "2024-05-24T07:22:32.218959Z",
     "start_time": "2024-05-24T07:22:32.206951Z"
    }
   },
   "cell_type": "code",
   "source": "new_data_request = pd.read_parquet('../data/processed/chrome/08_12_2022/train_set_featurized_request_BE.parquet.gzip', engine='pyarrow', dtype_backend='pyarrow')",
   "id": "a42d6581b60153d0",
   "execution_count": 28,
   "outputs": []
  },
  {
   "metadata": {
    "ExecuteTime": {
     "end_time": "2024-05-24T07:22:34.196404Z",
     "start_time": "2024-05-24T07:22:34.181354Z"
    }
   },
   "cell_type": "code",
   "source": "new_data_request",
   "id": "e5addb7a1c8feff7",
   "execution_count": 29,
   "outputs": []
  },
  {
   "metadata": {
    "ExecuteTime": {
     "end_time": "2024-05-24T07:27:10.025196Z",
     "start_time": "2024-05-24T07:27:10.011488Z"
    }
   },
   "cell_type": "code",
   "source": "new_data_request_2 = pd.read_parquet('../data/processed/brave/08_12_2022/merged_data_featurized_request_BE.parquet.gzip', engine='pyarrow', dtype_backend='pyarrow')",
   "id": "9548a41d6ae2ddbe",
   "execution_count": 42,
   "outputs": []
  },
  {
   "metadata": {
    "ExecuteTime": {
     "end_time": "2024-05-24T07:27:10.891969Z",
     "start_time": "2024-05-24T07:27:10.888761Z"
    }
   },
   "cell_type": "code",
   "source": "list(set(new_data_request.columns.tolist()).difference(new_data_request_2.columns.tolist()))",
   "id": "55b242f2367800a4",
   "execution_count": 43,
   "outputs": []
  },
  {
   "metadata": {
    "ExecuteTime": {
     "end_time": "2024-05-24T07:27:11.699161Z",
     "start_time": "2024-05-24T07:27:11.696340Z"
    }
   },
   "cell_type": "code",
   "source": "list(set(new_data_request_2.columns.tolist()).difference(new_data_request.columns.tolist()))",
   "id": "54af4c5b45d9a3e3",
   "execution_count": 44,
   "outputs": []
  },
  {
   "metadata": {
    "ExecuteTime": {
     "end_time": "2024-05-24T07:27:13.577585Z",
     "start_time": "2024-05-24T07:27:13.562348Z"
    }
   },
   "cell_type": "code",
   "source": "new_data_request_2",
   "id": "5e56caab2528ec12",
   "execution_count": 45,
   "outputs": []
  }
 ],
 "metadata": {
  "kernelspec": {
   "display_name": "Python 3",
   "language": "python",
   "name": "python3"
  },
  "language_info": {
   "codemirror_mode": {
    "name": "ipython",
    "version": 2
   },
   "file_extension": ".py",
   "mimetype": "text/x-python",
   "name": "python",
   "nbconvert_exporter": "python",
   "pygments_lexer": "ipython2",
   "version": "2.7.6"
  }
 },
 "nbformat": 4,
 "nbformat_minor": 5
}
