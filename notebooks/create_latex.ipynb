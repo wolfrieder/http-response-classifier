{
 "cells": [
  {
   "cell_type": "code",
   "execution_count": 5,
   "metadata": {
    "collapsed": true
   },
   "outputs": [],
   "source": [
    "with open('../tranco_list') as fp:\n",
    "    contents = fp.read().split('\\n')"
   ]
  },
  {
   "cell_type": "code",
   "execution_count": 31,
   "outputs": [],
   "source": [
    "counter = 0"
   ],
   "metadata": {
    "collapsed": false
   }
  },
  {
   "cell_type": "code",
   "execution_count": 32,
   "outputs": [
    {
     "name": "stdout",
     "output_type": "stream",
     "text": [
      "671\n"
     ]
    }
   ],
   "source": [
    "for i, j in enumerate(contents):\n",
    "    counter = counter + 1\n",
    "    if counter == 672:\n",
    "        print(i)\n",
    "        counter = 0\n",
    "        break"
   ],
   "metadata": {
    "collapsed": false
   }
  },
  {
   "cell_type": "code",
   "execution_count": 98,
   "outputs": [],
   "source": [
    "import subprocess"
   ],
   "metadata": {
    "collapsed": false
   }
  },
  {
   "cell_type": "code",
   "execution_count": 152,
   "outputs": [
    {
     "data": {
      "text/plain": "CompletedProcess(args='pbcopy', returncode=0)"
     },
     "execution_count": 152,
     "metadata": {},
     "output_type": "execute_result"
    }
   ],
   "source": [
    "tableString = ''\n",
    "row_counter = 0\n",
    "\n",
    "for i, j in enumerate(contents[6552:7056]):\n",
    "    row_counter = row_counter + 1\n",
    "    if row_counter == 6:\n",
    "        tableString = tableString + j + '\\\\\\\\' + '\\n' + '\\hline\\n'\n",
    "        row_counter = 0\n",
    "    else:\n",
    "        tableString = tableString + j + '&'\n",
    "\n",
    "subprocess.run(\"pbcopy\", text=True, input=tableString)"
   ],
   "metadata": {
    "collapsed": false
   }
  },
  {
   "cell_type": "code",
   "execution_count": 95,
   "outputs": [
    {
     "data": {
      "text/plain": "CompletedProcess(args='pbcopy', returncode=0)"
     },
     "execution_count": 95,
     "metadata": {},
     "output_type": "execute_result"
    }
   ],
   "source": [
    "import subprocess\n",
    "subprocess.run(\"pbcopy\", text=True, input=tableString)"
   ],
   "metadata": {
    "collapsed": false
   }
  },
  {
   "cell_type": "code",
   "execution_count": 151,
   "outputs": [
    {
     "data": {
      "text/plain": "504"
     },
     "execution_count": 151,
     "metadata": {},
     "output_type": "execute_result"
    }
   ],
   "source": [
    "len(contents[6552:7056])"
   ],
   "metadata": {
    "collapsed": false
   }
  },
  {
   "cell_type": "code",
   "execution_count": 150,
   "outputs": [
    {
     "data": {
      "text/plain": "7056"
     },
     "execution_count": 150,
     "metadata": {},
     "output_type": "execute_result"
    }
   ],
   "source": [
    "504*14"
   ],
   "metadata": {
    "collapsed": false
   }
  },
  {
   "cell_type": "code",
   "execution_count": 76,
   "outputs": [
    {
     "name": "stdout",
     "output_type": "stream",
     "text": [
      "google.com&youtube.com&facebook.com&akamaiedge.net&netflix.com&microsoft.com&instagram.com&twitter.com\\\\\n",
      "\\hline\n",
      "baidu.com&gtld-servers.net&linkedin.com&wikipedia.org&apple.com&yahoo.com&akamai.net&amazonaws.com\\\\\n",
      "\\hline\n",
      "bilibili.com&amazon.com&qq.com&cloudflare.com&live.com&a-msedge.net&googletagmanager.com&wordpress.org\\\\\n",
      "\\hline\n",
      "netflix.net&akadns.net&bing.com&whatsapp.com&github.com&pinterest.com&reddit.com&youtu.be\\\\\n",
      "\\hline\n",
      "office.com&microsoftonline.com&vimeo.com&windowsupdate.com&adobe.com&zhihu.com&doubleclick.net&zoom.us\\\\\n",
      "\\hline\n",
      "trafficmanager.net&wordpress.com&l-msedge.net&yandex.ru&azure.com&goo.gl&fastly.net&mail.ru\\\\\n",
      "\\hline\n",
      "googlevideo.com&bit.ly&vk.com&taobao.com&googleusercontent.com&weibo.com&domaincontrol.com&msn.com\\\\\n",
      "\\hline\n",
      "google.com.hk&csdn.net&t.co&blogspot.com&mozilla.org&tumblr.com&tiktok.com&nflxso.net\\\\\n",
      "\\hline\n",
      "paypal.com&gandi.net&macromedia.com&s-msedge.net&aaplimg.com&xvideos.com&nytimes.com&sharepoint.com\\\\\n",
      "\\hline\n",
      "sina.com.cn&nih.gov&163.com&office365.com&spotify.com&pornhub.com&windows.net&google-analytics.com\\\\\n",
      "\\hline\n",
      "europa.eu&flickr.com&cloudapp.net&skype.com&sohu.com&apple-dns.net&dropbox.com&edgekey.net\\\\\n",
      "\\hline\n",
      "medium.com&imdb.com&jd.com&stackoverflow.com&webex.com&canva.com&yahoo.co.jp&gravatar.com\\\\\n",
      "\\hline\n",
      "chaturbate.com&ebay.com&intuit.com&twitch.tv&lencr.org&fandom.com&cnn.com&icloud.com\\\\\n",
      "\\hline\n",
      "tmall.com&naver.com&soundcloud.com&aliexpress.com&t.me&myshopify.com&yandex.net&apache.org\\\\\n",
      "\\hline\n",
      "amazon.in&opera.com&attcompute.com&archive.org&bbc.com&forbes.com&outlook.com&theguardian.com\\\\\n",
      "\\hline\n",
      "bbc.co.uk&cloudfront.net&quora.com&googledomains.com&w3.org&gvt1.com&github.io&fbcdn.net\\\\\n",
      "\\hline\n",
      "t-msedge.net&xhamster.com&myfritz.net&douban.com&forms.gle&office.net&digicert.com&sourceforge.net\\\\\n",
      "\\hline\n",
      "force.com&etsy.com&zemanta.com&wellsfargo.com&indeed.com&msedge.net&nic.ru&duckduckgo.com\\\\\n",
      "\\hline\n",
      "sciencedirect.com&google.co.in&miit.gov.cn&1688.com&omtrdc.net&cloudflare.net&imgur.com&creativecommons.org\\\\\n",
      "\\hline\n",
      "who.int&weebly.com&spankbang.com&issuu.com&amazon.co.uk&discord.com&abusix.zone&twimg.com\\\\\n",
      "\\hline\n",
      "salesforce.com&booking.com&googlesyndication.com&wixsite.com&youku.com&cdc.gov&researchgate.net&washingtonpost.com\\\\\n",
      "\\hline\n",
      "reuters.com&telegram.org&xnxx.com&wikimedia.org&oracle.com&dnsowl.com&flipkart.com&p-cdn.us\\\\\n",
      "\\hline\n",
      "dailymail.co.uk&amazon.co.jp&linode.com&harvard.edu&roblox.com&wsj.com&tinyurl.com&bloomberg.com\\\\\n",
      "\\hline\n",
      "blogger.com&spo-msedge.net&teamviewer.com&wix.com&googleadservices.com&akamaihd.net&alipay.com&mit.edu\\\\\n",
      "\\hline\n",
      "ytimg.com&businessinsider.com&wa.me&shopify.com&tradingview.com&google.cn&hp.com&wp.com\\\\\n",
      "\\hline\n",
      "youtube-nocookie.com&aliyun.com&alibaba.com&hao123.com&go.com&samsung.com&sogou.com&360.cn\\\\\n",
      "\\hline\n",
      "wiley.com&slideshare.net&ok.ru&pixiv.net&cnbc.com&windows.com&php.net&dell.com\\\\\n",
      "\\hline\n",
      "freepik.com&gvt2.com&behance.net&ibm.com&cnblogs.com&akamaized.net&godaddy.com&nature.com\\\\\n",
      "\\hline\n",
      "amazon.de&tiktokcdn.com&mediafire.com&coinmarketcap.com&tencent.com&cisco.com&googleapis.com&list-manage.com\\\\\n",
      "\\hline\n",
      "springer.com&walmart.com&registrar-servers.com&fc2.com&google.de&mangosip.ru&cdninstagram.com&so.com\\\\\n",
      "\\hline\n",
      "aparat.com&stanford.edu&aol.com&espn.com&slack.com&un.org&demdex.net&kaspersky.com\\\\\n",
      "\\hline\n",
      "worldfcdn.com&grammarly.com&meraki.com&app-measurement.com&cedexis.net&gnu.org&www.gov.uk&nasa.gov\\\\\n",
      "\\hline\n",
      "binance.com&dnsmadeeasy.com&doi.org&weather.com&mega.nz&hwcdn.net&fiverr.com&epicgames.com\\\\\n",
      "\\hline\n",
      "nginx.org&zendesk.com&usatoday.com&unsplash.com&line.me&cnet.com&w3schools.com&adnxs.com\\\\\n",
      "\\hline\n",
      "iqiyi.com&azurewebsites.net&dailymotion.com&trello.com&npr.org&instructure.com&yelp.com&telegraph.co.uk\\\\\n",
      "\\hline\n",
      "google.co.uk&nginx.com&marriott.com&eventbrite.com&hubspot.com&douyu.com&linktr.ee&surveymonkey.com\\\\\n",
      "\\hline\n",
      "ilovepdf.com&indiatimes.com&edgesuite.net&stripe.com&deepl.com&steampowered.com&rakuten.co.jp&cnki.net\\\\\n",
      "\\hline\n",
      "realsrv.com&time.com&goodreads.com&deviantart.com&cpanel.net&udemy.com&google.co.jp&themeforest.net\\\\\n",
      "\\hline\n",
      "patreon.com&jianshu.com&amazon-adsystem.com&tripadvisor.com&wetransfer.com&foxnews.com&ca.gov&ted.com\\\\\n",
      "\\hline\n",
      "scorecardresearch.com&scribd.com&avito.ru&azureedge.net&snapchat.com&google.fr&comcast.net&bitly.com\\\\\n",
      "\\hline\n",
      "zillow.com&healthline.com&mailchimp.com&db.com&tiktokv.com&stuvamac.com&wired.com&huya.com\\\\\n",
      "\\hline\n",
      "addtoany.com&pubmatic.com&2mdn.net&ampproject.org&elasticbeanstalk.com&pki.goog&casalemedia.com&independent.co.uk\\\\\n",
      "\\hline\n",
      "myspace.com&hupu.com&webmd.com&google.ru&salesforceliveagent.com&o365filtering.com&pixabay.com&criteo.com\\\\\n",
      "\\hline\n",
      "livejournal.com&berkeley.edu&ggpht.com&statista.com&sberdevices.ru&facebook.net&rambler.ru&mysql.com\\\\\n",
      "\\hline\n",
      "cpanel.com&shutterstock.com&fincoad.com&wsdvs.com&herokudns.com&addthis.com&stackexchange.com&huawei.com\\\\\n",
      "\\hline\n",
      "name-services.com&squarespace.com&amazon.ca&att.net&google.ca&youdao.com&akam.net&3dmgame.com\\\\\n",
      "\\hline\n",
      "ft.com&mcafee.com&g.page&gstatic.com&digikala.com&techcrunch.com&xcal.tv&huffingtonpost.com\\\\\n",
      "\\hline\n",
      "latimes.com&gosuslugi.ru&loc.gov&bongacams.com&shifen.com&cdngslb.com&chase.com&amzn.to\\\\\n",
      "\\hline\n",
      "intel.com&fb.com&whatsapp.net&savefrom.net&a2z.com&craigslist.org&wildberries.ru&theverge.com\\\\\n",
      "\\hline\n",
      "free.fr&onlyfans.com&douyin.com&gcdn.co&daum.net&opendns.com&hotstar.com&cambridge.org\\\\\n",
      "\\hline\n",
      "rackspace.net&unity3d.com&tandfonline.com&userapi.com&beian.gov.cn&okta.com&pexels.com&speedtest.net\\\\\n",
      "\\hline\n",
      "kickstarter.com&taboola.com&cdn77.org&cornell.edu&googletagservices.com&debian.org&prnewswire.com&washington.edu\\\\\n",
      "\\hline\n",
      "uol.com.br&redd.it&investopedia.com&huffpost.com&ikea.com&apple.news&appsflyer.com&jomodns.com\\\\\n",
      "\\hline\n",
      "ring.com&alicdn.com&reg.ru&adobe.io&safebrowsing.apple&xiaomi.com&giphy.com&oup.com\\\\\n",
      "\\hline\n",
      "trustpilot.com&theatlantic.com&amazon.it&nationalgeographic.com&nicovideo.jp&tistory.com&state.gov&cbsnews.com\\\\\n",
      "\\hline\n",
      "ietf.org&android.com&fda.gov&britannica.com&feishu.cn&homedepot.com&ozon.ru&google.es\\\\\n",
      "\\hline\n",
      "aliyuncs.com&business.site&dcinside.com&nbcnews.com&yandex.com&bankofamerica.com&zoho.com&atlassian.net\\\\\n",
      "\\hline\n",
      "cctv.com&google.com.tw&incapdns.net&nstld.com&upwork.com&manitu.net&hicloud.com&sagepub.com\\\\\n",
      "\\hline\n",
      "digitalocean.com&openx.net&buzzfeed.com&pinimg.com&sitemaps.org&amazon.fr&wikihow.com&fedex.com\\\\\n",
      "\\hline\n",
      "nypost.com&usnews.com&academia.edu&bandcamp.com&ali213.net&msftconnecttest.com&pikiran-rakyat.com&globo.com\\\\\n",
      "\\hline\n",
      "consultant.ru&aboutads.info&marketwatch.com&mailchi.mp&bidswitch.net&rt.com&steamcommunity.com&hichina.com\\\\\n",
      "\\hline\n",
      "dribbble.com&disqus.com&smzdm.com&princeton.edu&primevideo.com&rlcdn.com&arnebrachhold.de&gmail.com\\\\\n",
      "\\hline\n",
      "mayoclinic.org&jimdo.com&varzesh3.com&mi.com&f5silverline.com&nga.cn&att.com&hbr.org\\\\\n",
      "\\hline\n",
      "marca.com&usda.gov&investing.com&hugedomains.com&f2pool.com&goskope.com&statcounter.com&sentry.io\\\\\n",
      "\\hline\n",
      "amazonvideo.com&amazon.es&coursera.org&rubiconproject.com&box.com&messenger.com&irs.gov&ifeng.com\\\\\n",
      "\\hline\n",
      "moatads.com&dmm.co.jp&merriam-webster.com&rbxcdn.com&change.org&livedoor.jp&gamersky.com&notion.so\\\\\n",
      "\\hline\n",
      "b-msedge.net&unesco.org&hotjar.com&ntp.org&rzone.de&launchpad.net&eastmoney.com&alibabadns.com\\\\\n",
      "\\hline\n",
      "bet365.com&roche.com&chaoxing.com&akismet.com&pbs.org&economist.com&msftncsi.com&ohthree.com\\\\\n",
      "\\hline\n",
      "hostgator.com&noaa.gov&whitehouse.gov&tribunnews.com&airbnb.com&nike.com&nr-data.net&arcgis.com\\\\\n",
      "\\hline\n",
      "adsrvr.org&saasprotection.com&eset.com&ups.com&usps.com&umich.edu&networkadvertising.org&rackspace.com\\\\\n",
      "\\hline\n",
      "consortiumeducation.com&no-ip.com&xinhuanet.com&xiaohongshu.com&columbia.edu&businesswire.com&epa.gov&elsevier.com\\\\\n",
      "\\hline\n",
      "galaxydata.ru&mozilla.com&outbrain.com&vkontakte.ru&allaboutcookies.org&nvidia.com&azure-dns.com&telegram.me\\\\\n",
      "\\hline\n",
      "avast.com&verisign.com&target.com&ea.com&bluehost.com&calendly.com&ieee.org&lenovo.com.cn\\\\\n",
      "\\hline\n",
      "accuweather.com&envato.com&mega.co.nz&y2mate.com&typepad.com&digg.com&maricopa.gov&dns.com\\\\\n",
      "\\hline\n",
      "ubuntu.com&redhat.com&worldbank.org&yahoodns.net&namu.wiki&name.com&google.com.br&9gag.com\\\\\n",
      "\\hline\n",
      "worldnic.com&opensea.io&geeksforgeeks.org&wpengine.com&bestbuy.com&ria.ru&google.com.mx&3lift.com\\\\\n",
      "\\hline\n",
      "istockphoto.com&about.com&cloudns.net&adriver.ru&sciencemag.org&miui.com&root-servers.net&herokuapp.com\\\\\n",
      "\\hline\n",
      "abc.net.au&yts.mx&stripchat.com&toutiao.com&canada.ca&rbc.ru&fb.me&google.com.sg\\\\\n",
      "\\hline\n",
      "domainmarket.com&zhibo8.cc&atlassian.com&typeform.com&psu.edu&quizlet.com&qualtrics.com&hulu.com\\\\\n",
      "\\hline\n",
      "capitalone.com&newrelic.com&deloitte.com&arxiv.org&americanexpress.com&visualstudio.com&yale.edu&shein.com\\\\\n",
      "\\hline\n",
      "media.net&cricbuzz.com&cbc.ca&autodesk.com&gitlab.com&nhentai.net&vice.com&iso.org\\\\\n",
      "\\hline\n",
      "ameblo.jp&upenn.edu&trendmicro.com&forter.com&dw.com&zdnet.com&reverso.net&ox.ac.uk\\\\\n",
      "\\hline\n",
      "msn.cn&ixigua.com&animeflv.net&constantcontact.com&mashable.com&hdfcbank.com&vox.com&eepurl.com\\\\\n",
      "\\hline\n",
      "google.com.tr&psychologytoday.com&detik.com&shaparak.ir&nintendo.net&mzstatic.com&ptinews.com&sciencedaily.com\\\\\n",
      "\\hline\n",
      "\n"
     ]
    }
   ],
   "source": [
    "print(tableString)"
   ],
   "metadata": {
    "collapsed": false
   }
  }
 ],
 "metadata": {
  "kernelspec": {
   "display_name": "Python 3",
   "language": "python",
   "name": "python3"
  },
  "language_info": {
   "codemirror_mode": {
    "name": "ipython",
    "version": 2
   },
   "file_extension": ".py",
   "mimetype": "text/x-python",
   "name": "python",
   "nbconvert_exporter": "python",
   "pygments_lexer": "ipython2",
   "version": "2.7.6"
  }
 },
 "nbformat": 4,
 "nbformat_minor": 0
}
