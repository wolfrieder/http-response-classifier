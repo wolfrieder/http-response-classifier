{
 "cells": [
  {
   "cell_type": "code",
   "execution_count": 33,
   "metadata": {
    "collapsed": true,
    "ExecuteTime": {
     "end_time": "2023-05-03T14:33:18.557747Z",
     "start_time": "2023-05-03T14:33:18.554965Z"
    }
   },
   "outputs": [],
   "source": [
    "import os\n",
    "import warnings\n",
    "\n",
    "import yaml\n",
    "from sklearn.dummy import DummyClassifier\n",
    "import pandas as pd\n",
    "import numpy as np\n",
    "# import xgboost as xgb\n",
    "# import lightgbm as lgb\n",
    "from catboost import CatBoostClassifier\n",
    "\n",
    "# from sklearn.impute import KNNImputer\n",
    "from sklearn.ensemble import (\n",
    "    RandomForestClassifier,\n",
    "    GradientBoostingClassifier,\n",
    "    HistGradientBoostingClassifier,\n",
    ")\n",
    "from sklearn.neighbors import KNeighborsClassifier\n",
    "from sklearn.tree import DecisionTreeClassifier\n",
    "from sklearn.neural_network import MLPClassifier\n",
    "from sklearn.preprocessing import Normalizer, FunctionTransformer, RobustScaler\n",
    "from sklearn.compose import ColumnTransformer, make_column_selector as selector\n",
    "from sklearn.pipeline import Pipeline\n",
    "from sklearn import metrics\n",
    "from sklearn.model_selection import RepeatedStratifiedKFold, cross_val_score\n",
    "import matplotlib.pyplot as plt\n",
    "import seaborn as sns\n",
    "from scipy.stats import kstest, shapiro, probplot\n",
    "import category_encoders as ce\n",
    "import mlflow\n",
    "import os\n",
    "import logging\n",
    "import pickle\n",
    "from sklearn.linear_model import LogisticRegression\n",
    "from sklearn.naive_bayes import GaussianNB\n",
    "from alive_progress import alive_bar\n",
    "import time"
   ]
  },
  {
   "cell_type": "code",
   "execution_count": 39,
   "outputs": [
    {
     "name": "stdout",
     "output_type": "stream",
     "text": [
      "on 300: cool!                                                                   \n",
      "on 600: cool!                                                                   \n",
      "on 900: cool!                                                                   \n",
      "Test |████████████████████████████████████████| 1000/1000 [100%] in 6.2s (161.99\n"
     ]
    }
   ],
   "source": [
    "with alive_bar(1000, force_tty=True, title='Test', bar='filling', spinner='waves') as bar:\n",
    "    bar.text(\"Loading data\")\n",
    "    for i in range(1000):\n",
    "        time.sleep(.005)\n",
    "        if i and i % 300 == 0:\n",
    "            print('cool!')\n",
    "        bar()"
   ],
   "metadata": {
    "collapsed": false,
    "ExecuteTime": {
     "end_time": "2023-05-03T14:34:14.135028Z",
     "start_time": "2023-05-03T14:34:07.959255Z"
    }
   }
  },
  {
   "cell_type": "code",
   "execution_count": 11,
   "outputs": [],
   "source": [
    "train_data = pd.read_parquet(\n",
    "    \"../data/processed/chrome/08_12_2022/train_set_01_processed.parquet.gzip\"\n",
    ")\n",
    "# test_data = pd.read_parquet('../data/processed/firefox/08_12_2022/test_set_01_processed.parquet.gzip')\n",
    "# test_data = pd.read_parquet('../data/processed/brave/08_12_2022/test_set_all_processed.parquet.gzip')\n",
    "\n",
    "test_data = pd.read_parquet('../data/processed/chrome/03_29_2023/merged_data_processed.parquet.gzip')"
   ],
   "metadata": {
    "collapsed": false
   }
  },
  {
   "cell_type": "code",
   "execution_count": 40,
   "outputs": [],
   "source": [
    "train_data = pd.read_parquet(\n",
    "    \"../data/processed/chrome/08_12_2022/train_set_01_featurized_BE.parquet.gzip\"\n",
    ")\n",
    "# test_data = pd.read_parquet('../data/processed/firefox/08_12_2022/test_set_01_processed.parquet.gzip')\n",
    "# test_data = pd.read_parquet('../data/processed/brave/08_12_2022/test_set_all_processed.parquet.gzip')\n",
    "\n",
    "test_data = pd.read_parquet('../data/processed/chrome/03_29_2023/merged_data_featurized_BE.parquet.gzip')"
   ],
   "metadata": {
    "collapsed": false,
    "ExecuteTime": {
     "end_time": "2023-05-03T14:54:29.381741Z",
     "start_time": "2023-05-03T14:54:28.923365Z"
    }
   }
  },
  {
   "cell_type": "code",
   "execution_count": 41,
   "outputs": [
    {
     "data": {
      "text/plain": "array([0.69857462, 1.75897257])"
     },
     "execution_count": 41,
     "metadata": {},
     "output_type": "execute_result"
    }
   ],
   "source": [
    "len(train_data) / (2 * np.bincount(train_data['tracker']))"
   ],
   "metadata": {
    "collapsed": false,
    "ExecuteTime": {
     "end_time": "2023-05-03T14:55:14.553248Z",
     "start_time": "2023-05-03T14:55:14.542779Z"
    }
   }
  },
  {
   "cell_type": "code",
   "execution_count": 6,
   "outputs": [
    {
     "data": {
      "text/plain": "        comb_col_non_tracker  comb_col_tracker  pragma_binary   \n0                          0                 0              0  \\\n1                          2                 0              0   \n2                          0                 0              1   \n3                          1                 0              1   \n4                          0                 0              0   \n...                      ...               ...            ...   \n271999                     5                 0              0   \n272000                     0                 0              1   \n272001                     0                 0              0   \n272002                     1                 0              0   \n272003                     5                 0              0   \n\n        content-type_binary  last-modified_binary  accept-ranges_binary   \n0                         1                     0                     0  \\\n1                         1                     1                     0   \n2                         1                     0                     0   \n3                         0                     0                     0   \n4                         1                     0                     0   \n...                     ...                   ...                   ...   \n271999                    1                     1                     1   \n272000                    0                     1                     0   \n272001                    1                     1                     1   \n272002                    1                     1                     1   \n272003                    1                     1                     0   \n\n        etag_binary  p3p_binary  x-xss-protection_binary   \n0                 1           1                        1  \\\n1                 0           0                        0   \n2                 0           1                        1   \n3                 0           0                        0   \n4                 0           0                        0   \n...             ...         ...                      ...   \n271999            1           0                        0   \n272000            0           0                        0   \n272001            1           0                        0   \n272002            1           0                        1   \n272003            1           0                        0   \n\n        x-content-type-options_binary  ...   \n0                                   1  ...  \\\n1                                   1  ...   \n2                                   1  ...   \n3                                   0  ...   \n4                                   0  ...   \n...                               ...  ...   \n271999                              0  ...   \n272000                              1  ...   \n272001                              0  ...   \n272002                              1  ...   \n272003                              0  ...   \n\n        x-amz-meta-codebuild-content-md5_binary  x-llid_binary   \n0                                             0              0  \\\n1                                             0              0   \n2                                             0              0   \n3                                             0              0   \n4                                             0              0   \n...                                         ...            ...   \n271999                                        0              0   \n272000                                        0              0   \n272001                                        0              0   \n272002                                        0              0   \n272003                                        0              0   \n\n        x-b3-sampled_binary  x-b3-spanid_binary   \n0                         0                   0  \\\n1                         0                   0   \n2                         0                   0   \n3                         0                   0   \n4                         0                   0   \n...                     ...                 ...   \n271999                    0                   0   \n272000                    0                   0   \n272001                    0                   0   \n272002                    0                   0   \n272003                    0                   0   \n\n        x-hubspot-correlation-id_binary  x-hs-target-asset_binary   \n0                                     0                         0  \\\n1                                     0                         0   \n2                                     0                         0   \n3                                     0                         0   \n4                                     0                         0   \n...                                 ...                       ...   \n271999                                0                         0   \n272000                                0                         0   \n272001                                0                         0   \n272002                                0                         0   \n272003                                0                         0   \n\n        x-hostname_binary  x-cdn-pop_binary  x-cdn-pop-ip_binary  tracker  \n0                       0                 0                    0        1  \n1                       0                 0                    0        0  \n2                       0                 0                    0        1  \n3                       0                 0                    0        0  \n4                       0                 0                    0        0  \n...                   ...               ...                  ...      ...  \n271999                  0                 0                    0        0  \n272000                  0                 0                    0        1  \n272001                  0                 0                    0        0  \n272002                  0                 0                    0        0  \n272003                  0                 0                    0        0  \n\n[272004 rows x 153 columns]",
      "text/html": "<div>\n<style scoped>\n    .dataframe tbody tr th:only-of-type {\n        vertical-align: middle;\n    }\n\n    .dataframe tbody tr th {\n        vertical-align: top;\n    }\n\n    .dataframe thead th {\n        text-align: right;\n    }\n</style>\n<table border=\"1\" class=\"dataframe\">\n  <thead>\n    <tr style=\"text-align: right;\">\n      <th></th>\n      <th>comb_col_non_tracker</th>\n      <th>comb_col_tracker</th>\n      <th>pragma_binary</th>\n      <th>content-type_binary</th>\n      <th>last-modified_binary</th>\n      <th>accept-ranges_binary</th>\n      <th>etag_binary</th>\n      <th>p3p_binary</th>\n      <th>x-xss-protection_binary</th>\n      <th>x-content-type-options_binary</th>\n      <th>...</th>\n      <th>x-amz-meta-codebuild-content-md5_binary</th>\n      <th>x-llid_binary</th>\n      <th>x-b3-sampled_binary</th>\n      <th>x-b3-spanid_binary</th>\n      <th>x-hubspot-correlation-id_binary</th>\n      <th>x-hs-target-asset_binary</th>\n      <th>x-hostname_binary</th>\n      <th>x-cdn-pop_binary</th>\n      <th>x-cdn-pop-ip_binary</th>\n      <th>tracker</th>\n    </tr>\n  </thead>\n  <tbody>\n    <tr>\n      <th>0</th>\n      <td>0</td>\n      <td>0</td>\n      <td>0</td>\n      <td>1</td>\n      <td>0</td>\n      <td>0</td>\n      <td>1</td>\n      <td>1</td>\n      <td>1</td>\n      <td>1</td>\n      <td>...</td>\n      <td>0</td>\n      <td>0</td>\n      <td>0</td>\n      <td>0</td>\n      <td>0</td>\n      <td>0</td>\n      <td>0</td>\n      <td>0</td>\n      <td>0</td>\n      <td>1</td>\n    </tr>\n    <tr>\n      <th>1</th>\n      <td>2</td>\n      <td>0</td>\n      <td>0</td>\n      <td>1</td>\n      <td>1</td>\n      <td>0</td>\n      <td>0</td>\n      <td>0</td>\n      <td>0</td>\n      <td>1</td>\n      <td>...</td>\n      <td>0</td>\n      <td>0</td>\n      <td>0</td>\n      <td>0</td>\n      <td>0</td>\n      <td>0</td>\n      <td>0</td>\n      <td>0</td>\n      <td>0</td>\n      <td>0</td>\n    </tr>\n    <tr>\n      <th>2</th>\n      <td>0</td>\n      <td>0</td>\n      <td>1</td>\n      <td>1</td>\n      <td>0</td>\n      <td>0</td>\n      <td>0</td>\n      <td>1</td>\n      <td>1</td>\n      <td>1</td>\n      <td>...</td>\n      <td>0</td>\n      <td>0</td>\n      <td>0</td>\n      <td>0</td>\n      <td>0</td>\n      <td>0</td>\n      <td>0</td>\n      <td>0</td>\n      <td>0</td>\n      <td>1</td>\n    </tr>\n    <tr>\n      <th>3</th>\n      <td>1</td>\n      <td>0</td>\n      <td>1</td>\n      <td>0</td>\n      <td>0</td>\n      <td>0</td>\n      <td>0</td>\n      <td>0</td>\n      <td>0</td>\n      <td>0</td>\n      <td>...</td>\n      <td>0</td>\n      <td>0</td>\n      <td>0</td>\n      <td>0</td>\n      <td>0</td>\n      <td>0</td>\n      <td>0</td>\n      <td>0</td>\n      <td>0</td>\n      <td>0</td>\n    </tr>\n    <tr>\n      <th>4</th>\n      <td>0</td>\n      <td>0</td>\n      <td>0</td>\n      <td>1</td>\n      <td>0</td>\n      <td>0</td>\n      <td>0</td>\n      <td>0</td>\n      <td>0</td>\n      <td>0</td>\n      <td>...</td>\n      <td>0</td>\n      <td>0</td>\n      <td>0</td>\n      <td>0</td>\n      <td>0</td>\n      <td>0</td>\n      <td>0</td>\n      <td>0</td>\n      <td>0</td>\n      <td>0</td>\n    </tr>\n    <tr>\n      <th>...</th>\n      <td>...</td>\n      <td>...</td>\n      <td>...</td>\n      <td>...</td>\n      <td>...</td>\n      <td>...</td>\n      <td>...</td>\n      <td>...</td>\n      <td>...</td>\n      <td>...</td>\n      <td>...</td>\n      <td>...</td>\n      <td>...</td>\n      <td>...</td>\n      <td>...</td>\n      <td>...</td>\n      <td>...</td>\n      <td>...</td>\n      <td>...</td>\n      <td>...</td>\n      <td>...</td>\n    </tr>\n    <tr>\n      <th>271999</th>\n      <td>5</td>\n      <td>0</td>\n      <td>0</td>\n      <td>1</td>\n      <td>1</td>\n      <td>1</td>\n      <td>1</td>\n      <td>0</td>\n      <td>0</td>\n      <td>0</td>\n      <td>...</td>\n      <td>0</td>\n      <td>0</td>\n      <td>0</td>\n      <td>0</td>\n      <td>0</td>\n      <td>0</td>\n      <td>0</td>\n      <td>0</td>\n      <td>0</td>\n      <td>0</td>\n    </tr>\n    <tr>\n      <th>272000</th>\n      <td>0</td>\n      <td>0</td>\n      <td>1</td>\n      <td>0</td>\n      <td>1</td>\n      <td>0</td>\n      <td>0</td>\n      <td>0</td>\n      <td>0</td>\n      <td>1</td>\n      <td>...</td>\n      <td>0</td>\n      <td>0</td>\n      <td>0</td>\n      <td>0</td>\n      <td>0</td>\n      <td>0</td>\n      <td>0</td>\n      <td>0</td>\n      <td>0</td>\n      <td>1</td>\n    </tr>\n    <tr>\n      <th>272001</th>\n      <td>0</td>\n      <td>0</td>\n      <td>0</td>\n      <td>1</td>\n      <td>1</td>\n      <td>1</td>\n      <td>1</td>\n      <td>0</td>\n      <td>0</td>\n      <td>0</td>\n      <td>...</td>\n      <td>0</td>\n      <td>0</td>\n      <td>0</td>\n      <td>0</td>\n      <td>0</td>\n      <td>0</td>\n      <td>0</td>\n      <td>0</td>\n      <td>0</td>\n      <td>0</td>\n    </tr>\n    <tr>\n      <th>272002</th>\n      <td>1</td>\n      <td>0</td>\n      <td>0</td>\n      <td>1</td>\n      <td>1</td>\n      <td>1</td>\n      <td>1</td>\n      <td>0</td>\n      <td>1</td>\n      <td>1</td>\n      <td>...</td>\n      <td>0</td>\n      <td>0</td>\n      <td>0</td>\n      <td>0</td>\n      <td>0</td>\n      <td>0</td>\n      <td>0</td>\n      <td>0</td>\n      <td>0</td>\n      <td>0</td>\n    </tr>\n    <tr>\n      <th>272003</th>\n      <td>5</td>\n      <td>0</td>\n      <td>0</td>\n      <td>1</td>\n      <td>1</td>\n      <td>0</td>\n      <td>1</td>\n      <td>0</td>\n      <td>0</td>\n      <td>0</td>\n      <td>...</td>\n      <td>0</td>\n      <td>0</td>\n      <td>0</td>\n      <td>0</td>\n      <td>0</td>\n      <td>0</td>\n      <td>0</td>\n      <td>0</td>\n      <td>0</td>\n      <td>0</td>\n    </tr>\n  </tbody>\n</table>\n<p>272004 rows × 153 columns</p>\n</div>"
     },
     "execution_count": 6,
     "metadata": {},
     "output_type": "execute_result"
    }
   ],
   "source": [
    "train_data"
   ],
   "metadata": {
    "collapsed": false
   }
  },
  {
   "cell_type": "code",
   "execution_count": 7,
   "outputs": [
    {
     "data": {
      "text/plain": "        comb_col_non_tracker  comb_col_tracker  pragma_binary   \n0                          0                 0              1  \\\n1                          0                 0              0   \n2                          0                 0              1   \n3                          0                 0              0   \n4                          0                 0              0   \n...                      ...               ...            ...   \n802808                     0                 0              1   \n802809                     0                 0              0   \n802810                     0                 0              1   \n802811                     0                 0              1   \n802812                     0                 0              1   \n\n        content-type_binary  last-modified_binary  accept-ranges_binary   \n0                         1                     0                     0  \\\n1                         1                     0                     0   \n2                         1                     0                     0   \n3                         1                     1                     1   \n4                         1                     0                     0   \n...                     ...                   ...                   ...   \n802808                    1                     1                     0   \n802809                    1                     0                     0   \n802810                    1                     1                     0   \n802811                    1                     1                     0   \n802812                    1                     1                     0   \n\n        etag_binary  p3p_binary  x-xss-protection_binary   \n0                 0           0                        1  \\\n1                 0           0                        0   \n2                 0           1                        1   \n3                 0           0                        1   \n4                 0           0                        1   \n...             ...         ...                      ...   \n802808            0           0                        1   \n802809            0           0                        0   \n802810            0           0                        1   \n802811            0           0                        1   \n802812            0           0                        1   \n\n        x-content-type-options_binary  ...   \n0                                   1  ...  \\\n1                                   0  ...   \n2                                   1  ...   \n3                                   1  ...   \n4                                   1  ...   \n...                               ...  ...   \n802808                              0  ...   \n802809                              0  ...   \n802810                              0  ...   \n802811                              0  ...   \n802812                              0  ...   \n\n        x-amz-meta-codebuild-content-md5_binary  x-llid_binary   \n0                                             0              0  \\\n1                                             0              0   \n2                                             0              0   \n3                                             0              0   \n4                                             0              0   \n...                                         ...            ...   \n802808                                        0              0   \n802809                                        0              0   \n802810                                        0              0   \n802811                                        0              0   \n802812                                        0              0   \n\n        x-b3-sampled_binary  x-b3-spanid_binary   \n0                         0                   0  \\\n1                         0                   0   \n2                         0                   0   \n3                         0                   0   \n4                         0                   0   \n...                     ...                 ...   \n802808                    0                   0   \n802809                    0                   0   \n802810                    0                   0   \n802811                    0                   0   \n802812                    0                   0   \n\n        x-hubspot-correlation-id_binary  x-hs-target-asset_binary   \n0                                     0                         0  \\\n1                                     0                         0   \n2                                     0                         0   \n3                                     0                         0   \n4                                     0                         0   \n...                                 ...                       ...   \n802808                                0                         0   \n802809                                0                         0   \n802810                                0                         0   \n802811                                0                         0   \n802812                                0                         0   \n\n        x-hostname_binary  x-cdn-pop_binary  x-cdn-pop-ip_binary  tracker  \n0                       0                 0                    0        1  \n1                       0                 0                    0        1  \n2                       0                 0                    0        1  \n3                       0                 0                    0        1  \n4                       0                 0                    0        0  \n...                   ...               ...                  ...      ...  \n802808                  0                 0                    0        1  \n802809                  0                 0                    0        0  \n802810                  0                 0                    0        1  \n802811                  0                 0                    0        1  \n802812                  0                 0                    0        1  \n\n[802813 rows x 153 columns]",
      "text/html": "<div>\n<style scoped>\n    .dataframe tbody tr th:only-of-type {\n        vertical-align: middle;\n    }\n\n    .dataframe tbody tr th {\n        vertical-align: top;\n    }\n\n    .dataframe thead th {\n        text-align: right;\n    }\n</style>\n<table border=\"1\" class=\"dataframe\">\n  <thead>\n    <tr style=\"text-align: right;\">\n      <th></th>\n      <th>comb_col_non_tracker</th>\n      <th>comb_col_tracker</th>\n      <th>pragma_binary</th>\n      <th>content-type_binary</th>\n      <th>last-modified_binary</th>\n      <th>accept-ranges_binary</th>\n      <th>etag_binary</th>\n      <th>p3p_binary</th>\n      <th>x-xss-protection_binary</th>\n      <th>x-content-type-options_binary</th>\n      <th>...</th>\n      <th>x-amz-meta-codebuild-content-md5_binary</th>\n      <th>x-llid_binary</th>\n      <th>x-b3-sampled_binary</th>\n      <th>x-b3-spanid_binary</th>\n      <th>x-hubspot-correlation-id_binary</th>\n      <th>x-hs-target-asset_binary</th>\n      <th>x-hostname_binary</th>\n      <th>x-cdn-pop_binary</th>\n      <th>x-cdn-pop-ip_binary</th>\n      <th>tracker</th>\n    </tr>\n  </thead>\n  <tbody>\n    <tr>\n      <th>0</th>\n      <td>0</td>\n      <td>0</td>\n      <td>1</td>\n      <td>1</td>\n      <td>0</td>\n      <td>0</td>\n      <td>0</td>\n      <td>0</td>\n      <td>1</td>\n      <td>1</td>\n      <td>...</td>\n      <td>0</td>\n      <td>0</td>\n      <td>0</td>\n      <td>0</td>\n      <td>0</td>\n      <td>0</td>\n      <td>0</td>\n      <td>0</td>\n      <td>0</td>\n      <td>1</td>\n    </tr>\n    <tr>\n      <th>1</th>\n      <td>0</td>\n      <td>0</td>\n      <td>0</td>\n      <td>1</td>\n      <td>0</td>\n      <td>0</td>\n      <td>0</td>\n      <td>0</td>\n      <td>0</td>\n      <td>0</td>\n      <td>...</td>\n      <td>0</td>\n      <td>0</td>\n      <td>0</td>\n      <td>0</td>\n      <td>0</td>\n      <td>0</td>\n      <td>0</td>\n      <td>0</td>\n      <td>0</td>\n      <td>1</td>\n    </tr>\n    <tr>\n      <th>2</th>\n      <td>0</td>\n      <td>0</td>\n      <td>1</td>\n      <td>1</td>\n      <td>0</td>\n      <td>0</td>\n      <td>0</td>\n      <td>1</td>\n      <td>1</td>\n      <td>1</td>\n      <td>...</td>\n      <td>0</td>\n      <td>0</td>\n      <td>0</td>\n      <td>0</td>\n      <td>0</td>\n      <td>0</td>\n      <td>0</td>\n      <td>0</td>\n      <td>0</td>\n      <td>1</td>\n    </tr>\n    <tr>\n      <th>3</th>\n      <td>0</td>\n      <td>0</td>\n      <td>0</td>\n      <td>1</td>\n      <td>1</td>\n      <td>1</td>\n      <td>0</td>\n      <td>0</td>\n      <td>1</td>\n      <td>1</td>\n      <td>...</td>\n      <td>0</td>\n      <td>0</td>\n      <td>0</td>\n      <td>0</td>\n      <td>0</td>\n      <td>0</td>\n      <td>0</td>\n      <td>0</td>\n      <td>0</td>\n      <td>1</td>\n    </tr>\n    <tr>\n      <th>4</th>\n      <td>0</td>\n      <td>0</td>\n      <td>0</td>\n      <td>1</td>\n      <td>0</td>\n      <td>0</td>\n      <td>0</td>\n      <td>0</td>\n      <td>1</td>\n      <td>1</td>\n      <td>...</td>\n      <td>0</td>\n      <td>0</td>\n      <td>0</td>\n      <td>0</td>\n      <td>0</td>\n      <td>0</td>\n      <td>0</td>\n      <td>0</td>\n      <td>0</td>\n      <td>0</td>\n    </tr>\n    <tr>\n      <th>...</th>\n      <td>...</td>\n      <td>...</td>\n      <td>...</td>\n      <td>...</td>\n      <td>...</td>\n      <td>...</td>\n      <td>...</td>\n      <td>...</td>\n      <td>...</td>\n      <td>...</td>\n      <td>...</td>\n      <td>...</td>\n      <td>...</td>\n      <td>...</td>\n      <td>...</td>\n      <td>...</td>\n      <td>...</td>\n      <td>...</td>\n      <td>...</td>\n      <td>...</td>\n      <td>...</td>\n    </tr>\n    <tr>\n      <th>802808</th>\n      <td>0</td>\n      <td>0</td>\n      <td>1</td>\n      <td>1</td>\n      <td>1</td>\n      <td>0</td>\n      <td>0</td>\n      <td>0</td>\n      <td>1</td>\n      <td>0</td>\n      <td>...</td>\n      <td>0</td>\n      <td>0</td>\n      <td>0</td>\n      <td>0</td>\n      <td>0</td>\n      <td>0</td>\n      <td>0</td>\n      <td>0</td>\n      <td>0</td>\n      <td>1</td>\n    </tr>\n    <tr>\n      <th>802809</th>\n      <td>0</td>\n      <td>0</td>\n      <td>0</td>\n      <td>1</td>\n      <td>0</td>\n      <td>0</td>\n      <td>0</td>\n      <td>0</td>\n      <td>0</td>\n      <td>0</td>\n      <td>...</td>\n      <td>0</td>\n      <td>0</td>\n      <td>0</td>\n      <td>0</td>\n      <td>0</td>\n      <td>0</td>\n      <td>0</td>\n      <td>0</td>\n      <td>0</td>\n      <td>0</td>\n    </tr>\n    <tr>\n      <th>802810</th>\n      <td>0</td>\n      <td>0</td>\n      <td>1</td>\n      <td>1</td>\n      <td>1</td>\n      <td>0</td>\n      <td>0</td>\n      <td>0</td>\n      <td>1</td>\n      <td>0</td>\n      <td>...</td>\n      <td>0</td>\n      <td>0</td>\n      <td>0</td>\n      <td>0</td>\n      <td>0</td>\n      <td>0</td>\n      <td>0</td>\n      <td>0</td>\n      <td>0</td>\n      <td>1</td>\n    </tr>\n    <tr>\n      <th>802811</th>\n      <td>0</td>\n      <td>0</td>\n      <td>1</td>\n      <td>1</td>\n      <td>1</td>\n      <td>0</td>\n      <td>0</td>\n      <td>0</td>\n      <td>1</td>\n      <td>0</td>\n      <td>...</td>\n      <td>0</td>\n      <td>0</td>\n      <td>0</td>\n      <td>0</td>\n      <td>0</td>\n      <td>0</td>\n      <td>0</td>\n      <td>0</td>\n      <td>0</td>\n      <td>1</td>\n    </tr>\n    <tr>\n      <th>802812</th>\n      <td>0</td>\n      <td>0</td>\n      <td>1</td>\n      <td>1</td>\n      <td>1</td>\n      <td>0</td>\n      <td>0</td>\n      <td>0</td>\n      <td>1</td>\n      <td>0</td>\n      <td>...</td>\n      <td>0</td>\n      <td>0</td>\n      <td>0</td>\n      <td>0</td>\n      <td>0</td>\n      <td>0</td>\n      <td>0</td>\n      <td>0</td>\n      <td>0</td>\n      <td>1</td>\n    </tr>\n  </tbody>\n</table>\n<p>802813 rows × 153 columns</p>\n</div>"
     },
     "execution_count": 7,
     "metadata": {},
     "output_type": "execute_result"
    }
   ],
   "source": [
    "test_data"
   ],
   "metadata": {
    "collapsed": false
   }
  },
  {
   "cell_type": "code",
   "execution_count": 84,
   "outputs": [],
   "source": [
    "# del train_data['comb_col_tracker']\n",
    "# del train_data['comb_col_non_tracker']\n",
    "#\n",
    "# del test_data['comb_col_tracker']\n",
    "# del test_data['comb_col_non_tracker']"
   ],
   "metadata": {
    "collapsed": false
   }
  },
  {
   "cell_type": "code",
   "execution_count": 43,
   "outputs": [],
   "source": [
    "def calculate_metrics(data, y_true):\n",
    "    y_pred = clf.predict(data)\n",
    "    pred_probs = clf.predict_proba(data)\n",
    "    score = metrics.log_loss(y_true, pred_probs)\n",
    "    auc_score = metrics.roc_auc_score(y_true, y_pred)\n",
    "    f1_score = metrics.f1_score(y_true, y_pred)\n",
    "    bal_acc = metrics.balanced_accuracy_score(y_true, y_pred)\n",
    "    precision = metrics.precision_score(y_true, y_pred)\n",
    "    recall = metrics.recall_score(y_true, y_pred)\n",
    "    mcc = metrics.matthews_corrcoef(y_true, y_pred)\n",
    "\n",
    "    print(\n",
    "        \"Model accuracy score : {0:0.4f}\".format(metrics.accuracy_score(y_test, y_pred))\n",
    "    )\n",
    "    print(\"Balanced accuracy score : {0:0.4f}\".format(bal_acc))\n",
    "    print(\"F1 score : {0:0.4f}\".format(f1_score))\n",
    "    print(\"Model log-loss score : {0:0.4f}\".format(score))\n",
    "    print(\"Matthews correlation coefficient score : {0:0.4f}\".format(mcc))\n",
    "    print(\"Precision score : {0:0.4f}\".format(precision))\n",
    "    print(\"Recall score : {0:0.4f}\".format(recall))\n",
    "    print(\"Model auc score : {0:0.4f}\".format(auc_score))\n",
    "\n",
    "    print(metrics.classification_report(y_test, y_pred))\n",
    "\n",
    "    disp_1 = metrics.ConfusionMatrixDisplay.from_predictions(y_test, y_pred)\n",
    "    disp_2 = metrics.PrecisionRecallDisplay.from_estimator(\n",
    "        clf, X_test, y_test, name=\"Random Forest\"\n",
    "    )\n",
    "    disp_3 = metrics.RocCurveDisplay.from_estimator(clf, X_test, y_test)\n",
    "    # mlflow.log_figure(disp_1.figure_, \"cm.png\")\n",
    "    # mlflow.log_figure(disp_2.figure_, \"prec_recall.png\")\n",
    "    # mlflow.log_figure(disp_3.figure_, \"roc.png\")"
   ],
   "metadata": {
    "collapsed": false,
    "ExecuteTime": {
     "end_time": "2023-05-03T14:56:45.653320Z",
     "start_time": "2023-05-03T14:56:45.647998Z"
    }
   }
  },
  {
   "cell_type": "code",
   "execution_count": 41,
   "outputs": [],
   "source": [
    "train_data = train_data[~train_data.iloc[:, :-1].duplicated(keep=\"first\")].reset_index(drop=True)\n",
    "test_data = test_data[~test_data.iloc[:, :-1].duplicated(keep=\"first\")].reset_index(drop=True)"
   ],
   "metadata": {
    "collapsed": false
   }
  },
  {
   "cell_type": "code",
   "execution_count": 42,
   "outputs": [],
   "source": [
    "X_train, y_train = train_data.iloc[:, :-1], train_data[[\"tracker\"]]\n",
    "X_test, y_test = test_data.iloc[:, :-1], test_data[[\"tracker\"]]\n",
    "\n",
    "del train_data\n",
    "del test_data"
   ],
   "metadata": {
    "collapsed": false,
    "ExecuteTime": {
     "end_time": "2023-05-03T14:56:43.884008Z",
     "start_time": "2023-05-03T14:56:43.874431Z"
    }
   }
  },
  {
   "cell_type": "code",
   "execution_count": 24,
   "outputs": [],
   "source": [
    "clf = RandomForestClassifier(\n",
    "    n_estimators=100,\n",
    "    n_jobs=-1,\n",
    "    random_state=10,\n",
    "    criterion=\"log_loss\",\n",
    "    max_features=None,\n",
    ")\n",
    "\n",
    "# clf = DecisionTreeClassifier()\n",
    "# clf = GradientBoostingClassifier()\n",
    "# clf = xgb.XGBClassifier()\n",
    "# clf = lgb.LGBMClassifier(class_weight=\"balanced\")\n",
    "# clf = MLPClassifier()\n",
    "# clf = LogisticRegression(n_jobs=-1, random_state=10)\n",
    "# clf = GaussianNB()"
   ],
   "metadata": {
    "collapsed": false
   }
  },
  {
   "cell_type": "code",
   "execution_count": 3,
   "outputs": [],
   "source": [
    "# logging.basicConfig(level=logging.WARN)\n",
    "# logger = logging.getLogger(__name__)\n",
    "# warnings.filterwarnings(\"ignore\")\n",
    "#\n",
    "# with open(\"../params.yaml\", \"rb\") as f:\n",
    "#     params = yaml.safe_load(f)\n",
    "#\n",
    "# mlflow.set_tracking_uri(params[\"ml_flow\"][\"MLFLOW_TRACKING_URI\"])\n",
    "# os.environ[\"MLFLOW_TRACKING_USERNAME\"] = params[\"ml_flow\"][\n",
    "#     \"MLFLOW_TRACKING_USERNAME\"\n",
    "# ]\n",
    "# os.environ[\"MLFLOW_TRACKING_PASSWORD\"] = params[\"ml_flow\"][\n",
    "#     \"MLFLOW_TRACKING_PASSWORD\"\n",
    "# ]\n",
    "#\n",
    "# mlflow.set_experiment(\"all_binary_firefox_experiments\")\n",
    "# mlflow.sklearn.autolog()\n",
    "# mlflow.xgboost.autolog()\n",
    "# mlflow.lightgbm.autolog()"
   ],
   "metadata": {
    "collapsed": false
   }
  },
  {
   "cell_type": "code",
   "execution_count": null,
   "outputs": [],
   "source": [
    "# logged_model = 'runs:/c210d5dc13a641f68fd5feff177ebe8b/model'\n",
    "# # Load model as a PyFuncModel.\n",
    "# loaded_model = mlflow.pyfunc.load_model(logged_model)"
   ],
   "metadata": {
    "collapsed": false,
    "pycharm": {
     "is_executing": true
    }
   }
  },
  {
   "cell_type": "code",
   "execution_count": 25,
   "outputs": [
    {
     "name": "stdout",
     "output_type": "stream",
     "text": [
      "Model accuracy score : 0.9238\n",
      "Balanced accuracy score : 0.9035\n",
      "F1 score : 0.8535\n",
      "Model log-loss score : 0.4956\n",
      "Matthews correlation coefficient score : 0.8021\n",
      "Precision score : 0.8456\n",
      "Recall score : 0.8616\n",
      "Model auc score : 0.9035\n",
      "              precision    recall  f1-score   support\n",
      "\n",
      "           0       0.95      0.95      0.95    596066\n",
      "           1       0.85      0.86      0.85    206747\n",
      "\n",
      "    accuracy                           0.92    802813\n",
      "   macro avg       0.90      0.90      0.90    802813\n",
      "weighted avg       0.92      0.92      0.92    802813\n",
      "\n"
     ]
    },
    {
     "data": {
      "text/plain": "<Figure size 432x288 with 2 Axes>",
      "image/png": "[encoded data removed]"
     },
     "metadata": {
      "needs_background": "light"
     },
     "output_type": "display_data"
    },
    {
     "data": {
      "text/plain": "<Figure size 432x288 with 1 Axes>",
      "image/png": "[encoded data removed]"
     },
     "metadata": {
      "needs_background": "light"
     },
     "output_type": "display_data"
    },
    {
     "data": {
      "text/plain": "<Figure size 432x288 with 1 Axes>",
      "image/png": "[encoded data removed]"
     },
     "metadata": {
      "needs_background": "light"
     },
     "output_type": "display_data"
    }
   ],
   "source": [
    "clf.fit(X_train, y_train[\"tracker\"])\n",
    "calculate_metrics(X_test, y_test)"
   ],
   "metadata": {
    "collapsed": false
   }
  },
  {
   "cell_type": "markdown",
   "source": [
    "\\footnote{. \\url{}, [Accessed Jan. 31, 2023]}"
   ],
   "metadata": {
    "collapsed": false
   }
  },
  {
   "cell_type": "code",
   "execution_count": 10,
   "outputs": [],
   "source": [
    "# from xgboost import XGBClassifier\n",
    "from lightgbm import LGBMClassifier\n",
    "from catboost import CatBoostClassifier\n",
    "from typing import Dict, List, Tuple\n",
    "from sklearn.model_selection import StratifiedKFold\n",
    "from sklearn.base import BaseEstimator"
   ],
   "metadata": {
    "collapsed": false
   }
  },
  {
   "cell_type": "code",
   "execution_count": 46,
   "outputs": [],
   "source": [
    "models = {\n",
    "        \"Random Forest\": RandomForestClassifier(n_estimators=100, n_jobs=-1, random_state=10, criterion=\"gini\",\n",
    "                                                max_features=None),\n",
    "        # \"KNN\": KNeighborsClassifier(n_jobs=-1),\n",
    "        \"Decision Tree\": DecisionTreeClassifier(random_state=10),\n",
    "        \"Gradient Boosting\": GradientBoostingClassifier(random_state=10),\n",
    "        \"Hist Gradient Boosting\": HistGradientBoostingClassifier(\n",
    "                random_state=10, class_weight=\"balanced\"\n",
    "            ),\n",
    "        # \"XGBoost\": XGBClassifier(random_state=10, use_label_encoder=False, eval_metric=\"logloss\"),\n",
    "        # \"LightGBM\": LGBMClassifier(random_state=10, class_weight=\"balanced\"),\n",
    "        # \"CatBoost\": CatBoostClassifier(random_state=10, verbose=0),\n",
    "        # \"MLP\": MLPClassifier(random_state=10),\n",
    "        \"Logistic Regression\": LogisticRegression(random_state=10),\n",
    "        \"Gaussian NB\": GaussianNB()\n",
    "    }"
   ],
   "metadata": {
    "collapsed": false,
    "ExecuteTime": {
     "end_time": "2023-05-03T14:57:05.240834Z",
     "start_time": "2023-05-03T14:57:05.234095Z"
    }
   }
  },
  {
   "cell_type": "code",
   "execution_count": 47,
   "outputs": [],
   "source": [
    "from typing import Dict, List, Tuple"
   ],
   "metadata": {
    "collapsed": false,
    "ExecuteTime": {
     "end_time": "2023-05-03T14:57:31.160697Z",
     "start_time": "2023-05-03T14:57:31.150034Z"
    }
   }
  },
  {
   "cell_type": "code",
   "execution_count": 48,
   "outputs": [],
   "source": [
    "def calculate_metrics(\n",
    "    y_true: pd.Series, y_pred: np.ndarray, y_pred_proba: np.ndarray\n",
    ") -> Dict[str, float]:\n",
    "    score = metrics.log_loss(y_true, y_pred_proba)\n",
    "    auc_score = metrics.roc_auc_score(y_true, y_pred)\n",
    "    f1_score = metrics.f1_score(y_true, y_pred)\n",
    "    bal_acc = metrics.balanced_accuracy_score(y_true, y_pred)\n",
    "    precision = metrics.precision_score(y_true, y_pred)\n",
    "    recall = metrics.recall_score(y_true, y_pred)\n",
    "    mcc = metrics.matthews_corrcoef(y_true, y_pred)\n",
    "\n",
    "    # TODO: Add more metrics here.\n",
    "    # print(metrics.classification_report(y_test, y_pred))\n",
    "    #\n",
    "    # disp_1 = metrics.ConfusionMatrixDisplay.from_predictions(y_test, y_pred)\n",
    "    # disp_2 = metrics.PrecisionRecallDisplay.from_estimator(\n",
    "    #     clf, X_test, y_test, name=\"Random Forest\"\n",
    "    # )\n",
    "    # disp_3 = metrics.RocCurveDisplay.from_estimator(clf, X_test, y_test)\n",
    "    # mlflow.log_figure(disp_1.figure_, \"cm.png\")\n",
    "    # mlflow.log_figure(disp_2.figure_, \"prec_recall.png\")\n",
    "    # mlflow.log_figure(disp_3.figure_, \"roc.png\")\n",
    "\n",
    "    return {\n",
    "        \"accuracy\": metrics.accuracy_score(y_true, y_pred),\n",
    "        \"log_loss\": score,\n",
    "        \"auc\": auc_score,\n",
    "        \"balanced_accuracy\": bal_acc,\n",
    "        \"f1\": f1_score,\n",
    "        \"precision\": precision,\n",
    "        \"recall\": recall,\n",
    "        \"mcc\": mcc,\n",
    "    }"
   ],
   "metadata": {
    "collapsed": false,
    "ExecuteTime": {
     "end_time": "2023-05-03T14:57:32.138075Z",
     "start_time": "2023-05-03T14:57:32.132688Z"
    }
   }
  },
  {
   "cell_type": "code",
   "execution_count": 60,
   "outputs": [],
   "source": [
    "# def perform_cross_validation(\n",
    "#     X: pd.DataFrame, y: pd.Series, clf: Pipeline, cv: StratifiedKFold\n",
    "# ) -> List[Dict[str, float]]:\n",
    "#     all_metrics = []\n",
    "#\n",
    "#     for train_idx, test_idx in cv.split(X, y):\n",
    "#         X_train, y_train = X.iloc[train_idx], y.iloc[train_idx]\n",
    "#         X_test, y_test = X.iloc[test_idx], y.iloc[test_idx]\n",
    "#\n",
    "#         clf.fit(X_train, y_train)\n",
    "#         y_pred = clf.predict(X_test)\n",
    "#         y_pred_proba = clf.predict_proba(X_test)[:, 1]\n",
    "#\n",
    "#         fold_metrics = calculate_metrics(y_test, y_pred, y_pred_proba)\n",
    "#         all_metrics.append(fold_metrics)\n",
    "#\n",
    "#     return all_metrics\n",
    "#\n",
    "#\n",
    "# def mean_metrics(all_metrics: List[Dict[str, float]]) -> Dict[str, float]:\n",
    "#     return {\n",
    "#         metric: np.mean([fold_metrics[metric] for fold_metrics in all_metrics])\n",
    "#         for metric in all_metrics[0].keys()\n",
    "#     }"
   ],
   "metadata": {
    "collapsed": false
   }
  },
  {
   "cell_type": "code",
   "execution_count": 65,
   "outputs": [],
   "source": [
    "# def train_and_evaluate_models(\n",
    "#     models: Dict[str, BaseEstimator],\n",
    "#     X: pd.DataFrame,\n",
    "#     y: pd.Series,\n",
    "#     cv: StratifiedKFold,\n",
    "#     # preprocessor: ColumnTransformer,\n",
    "# ) -> pd.DataFrame:\n",
    "#     all_mean_metrics = {}\n",
    "#\n",
    "#     for model_name, model in models.items():\n",
    "#         print(f\"Training and evaluating {model_name}...\")\n",
    "#\n",
    "#         clf = Pipeline(steps=[(\"classifier\", model)])\n",
    "#         all_metrics = perform_cross_validation(X, y, clf, cv)\n",
    "#         mean_metrics_values = mean_metrics(all_metrics)\n",
    "#\n",
    "#         all_mean_metrics[model_name] = mean_metrics_values\n",
    "#\n",
    "#     return pd.DataFrame(all_mean_metrics).T"
   ],
   "metadata": {
    "collapsed": false
   }
  },
  {
   "cell_type": "code",
   "execution_count": 57,
   "outputs": [],
   "source": [
    "from sklearn.model_selection import cross_validate\n",
    "from sklearn.metrics import make_scorer, matthews_corrcoef\n",
    "from sklearn.base import BaseEstimator\n",
    "from sklearn.model_selection import StratifiedKFold, RepeatedStratifiedKFold\n",
    "from sklearn.model_selection import BaseCrossValidator\n",
    "\n",
    "def calculate_metrics(\n",
    "    y_true: pd.Series, y_pred: np.ndarray, y_pred_proba: np.ndarray\n",
    ") -> Dict[str, float]:\n",
    "    \"\"\"\n",
    "    Calculate classification metrics for a given set of true labels and\n",
    "    predictions.\n",
    "\n",
    "    Parameters\n",
    "    ----------\n",
    "    y_true : pd.Series\n",
    "        The true labels for the test set.\n",
    "    y_pred : np.ndarray\n",
    "        The predicted labels for the test set.\n",
    "    y_pred_proba : np.ndarray\n",
    "        The predicted probabilities for the positive class.\n",
    "\n",
    "    Returns\n",
    "    -------\n",
    "    dict\n",
    "        A dictionary containing various classification metrics.\n",
    "    \"\"\"\n",
    "    score = metrics.log_loss(y_true, y_pred_proba)\n",
    "    auc_score = metrics.roc_auc_score(y_true, y_pred)\n",
    "    f1_score = metrics.f1_score(y_true, y_pred)\n",
    "    bal_acc = metrics.balanced_accuracy_score(y_true, y_pred)\n",
    "    precision = metrics.precision_score(y_true, y_pred)\n",
    "    recall = metrics.recall_score(y_true, y_pred)\n",
    "    mcc = metrics.matthews_corrcoef(y_true, y_pred)\n",
    "\n",
    "    return {\n",
    "        \"accuracy\": metrics.accuracy_score(y_true, y_pred),\n",
    "        \"log_loss\": score,\n",
    "        \"auc\": auc_score,\n",
    "        \"balanced_accuracy\": bal_acc,\n",
    "        \"f1\": f1_score,\n",
    "        \"precision\": precision,\n",
    "        \"recall\": recall,\n",
    "        \"mcc\": mcc,\n",
    "    }\n",
    "\n",
    "\n",
    "def calculate_confusion_matrix_elements(\n",
    "    y_true: pd.Series, y_pred: np.ndarray\n",
    ") -> Dict[str, int]:\n",
    "    \"\"\"\n",
    "    Calculate the confusion matrix elements (FP, TN, FN, TP) for the given true\n",
    "    and predicted values.\n",
    "\n",
    "    Parameters\n",
    "    ----------\n",
    "    y_true : pd.Series\n",
    "        True target values.\n",
    "    y_pred : np.ndarray\n",
    "        Predicted target values.\n",
    "\n",
    "    Returns\n",
    "    -------\n",
    "    Dict[str, int]\n",
    "        A dictionary containing the confusion matrix elements (FP, TN, FN, TP).\n",
    "    \"\"\"\n",
    "    tn, fp, fn, tp = metrics.confusion_matrix(y_true, y_pred).ravel()\n",
    "    return {\"FP\": fp, \"TN\": tn, \"FN\": fn, \"TP\": tp}\n",
    "\n",
    "\n",
    "def train_and_evaluate_models_2(\n",
    "    models: Dict[str, BaseEstimator],\n",
    "    X_train: pd.DataFrame,\n",
    "    y_train: pd.Series,\n",
    "    X_test: pd.DataFrame,\n",
    "    y_test: pd.Series,\n",
    "    cv: BaseCrossValidator,\n",
    "    clf_preprocessor: ColumnTransformer = None,\n",
    ") -> pd.DataFrame:\n",
    "    \"\"\"\n",
    "    Train and evaluate models using cross-validation on the training data and\n",
    "    evaluate them on the test data.\n",
    "\n",
    "    Parameters\n",
    "    ----------\n",
    "    models : Dict[str, BaseEstimator]\n",
    "        A dictionary containing model names as keys and estimator instances as\n",
    "        values.\n",
    "    X_train : pd.DataFrame\n",
    "        Training feature data.\n",
    "    y_train : pd.Series\n",
    "        Training target data.\n",
    "    X_test : pd.DataFrame\n",
    "        Testing feature data.\n",
    "    y_test : pd.Series\n",
    "        Testing target data.\n",
    "    cv : BaseCrossValidator\n",
    "        Cross-validation object (e.g., StratifiedKFold, KFold).\n",
    "    clf_preprocessor : Pipeline\n",
    "        A scikit-learn Pipeline object with the preprocessing step.\n",
    "\n",
    "    Returns\n",
    "    -------\n",
    "    pd.DataFrame\n",
    "        A DataFrame with each row representing a model and each column\n",
    "        representing a metric.\n",
    "    \"\"\"\n",
    "    all_mean_metrics = {}\n",
    "    scoring_metrics = {\n",
    "        \"accuracy\": \"accuracy\",\n",
    "        \"roc_auc\": \"roc_auc\",\n",
    "        \"f1\": \"f1\",\n",
    "        \"balanced_accuracy\": \"balanced_accuracy\",\n",
    "        \"precision\": \"precision\",\n",
    "        \"recall\": \"recall\",\n",
    "        \"neg_log_loss\": \"neg_log_loss\",\n",
    "        \"mcc\": make_scorer(matthews_corrcoef),\n",
    "    }\n",
    "\n",
    "    for model_name, model in models.items():\n",
    "        print(f\"Training and evaluating {model_name}...\")\n",
    "\n",
    "        if type(clf_preprocessor) is not None:\n",
    "            clf_pipeline = Pipeline(\n",
    "                steps=[(\"preprocessor\", clf_preprocessor), (\"classifier\", model)]\n",
    "            )\n",
    "        else:\n",
    "            clf_pipeline = Pipeline(steps=[(\"classifier\", model)])\n",
    "\n",
    "        cv_results = cross_validate(\n",
    "            clf_pipeline,\n",
    "            X_train,\n",
    "            y_train,\n",
    "            cv=cv,\n",
    "            scoring=scoring_metrics,\n",
    "            return_estimator=True,\n",
    "            n_jobs=-1,\n",
    "        )\n",
    "        mean_cv_metrics = {\n",
    "            metric: np.mean(cv_results[\"test_\" + metric])\n",
    "            for metric in scoring_metrics.keys()\n",
    "        }\n",
    "\n",
    "        best_estimator_idx = np.argmax(cv_results[\"test_roc_auc\"])\n",
    "        best_estimator = cv_results[\"estimator\"][best_estimator_idx]\n",
    "        y_pred_test = best_estimator.predict(X_test)\n",
    "        y_pred_proba_test = best_estimator.predict_proba(X_test)[:, 1]\n",
    "\n",
    "        test_metrics = calculate_metrics(y_test, y_pred_test, y_pred_proba_test)\n",
    "        test_metrics.update(calculate_confusion_matrix_elements(y_test, y_pred_test))\n",
    "\n",
    "        mean_cv_metrics.update({\"test_\" + k: v for k, v in test_metrics.items()})\n",
    "        all_mean_metrics[model_name] = mean_cv_metrics\n",
    "\n",
    "    return pd.DataFrame(all_mean_metrics).T"
   ],
   "metadata": {
    "collapsed": false,
    "ExecuteTime": {
     "end_time": "2023-05-03T15:03:59.053155Z",
     "start_time": "2023-05-03T15:03:59.051134Z"
    }
   }
  },
  {
   "cell_type": "code",
   "execution_count": 39,
   "outputs": [],
   "source": [
    "# from sklearn.model_selection import (\n",
    "#     StratifiedShuffleSplit,\n",
    "# )"
   ],
   "metadata": {
    "collapsed": false
   }
  },
  {
   "cell_type": "code",
   "execution_count": 54,
   "outputs": [],
   "source": [
    "# split = StratifiedShuffleSplit(n_splits=1, random_state=10, test_size=0.2)\n",
    "split2 = StratifiedKFold(n_splits=5, random_state=10, shuffle=True)"
   ],
   "metadata": {
    "collapsed": false,
    "ExecuteTime": {
     "end_time": "2023-05-03T14:58:14.383393Z",
     "start_time": "2023-05-03T14:58:14.376299Z"
    }
   }
  },
  {
   "cell_type": "code",
   "execution_count": 58,
   "outputs": [],
   "source": [
    "split3 = RepeatedStratifiedKFold(random_state=10, n_splits=5, n_repeats=5)"
   ],
   "metadata": {
    "collapsed": false,
    "ExecuteTime": {
     "end_time": "2023-05-03T15:05:51.548906Z",
     "start_time": "2023-05-03T15:05:51.541770Z"
    }
   }
  },
  {
   "cell_type": "code",
   "execution_count": 81,
   "outputs": [
    {
     "name": "stdout",
     "output_type": "stream",
     "text": [
      "Training and evaluating Random Forest...\n",
      "[{'accuracy': 0.9658462160622048, 'log_loss': 0.12085990875628944, 'auc': 0.953764239262647, 'balanced_accuracy': 0.953764239262647, 'f1': 0.9390619875368974, 'precision': 0.9527485691468122, 'recall': 0.9257630625969995, 'mcc': 0.9155255116058014}, {'accuracy': 0.9645410929946141, 'log_loss': 0.12558008179223457, 'auc': 0.952462671969036, 'balanced_accuracy': 0.952462671969036, 'f1': 0.9367976147570525, 'precision': 0.9494587235173009, 'recall': 0.9244697361614072, 'mcc': 0.9123184015431312}, {'accuracy': 0.9637690483630815, 'log_loss': 0.13504639109997382, 'auc': 0.9517868958692091, 'balanced_accuracy': 0.951786895869209, 'f1': 0.9354807031326721, 'precision': 0.9472323500165728, 'recall': 0.9240170719089498, 'mcc': 0.9104340027182699}, {'accuracy': 0.9659013621073143, 'log_loss': 0.13802994688443493, 'auc': 0.9539197144588202, 'balanced_accuracy': 0.9539197144588203, 'f1': 0.9391783337158595, 'precision': 0.9525773195876288, 'recall': 0.9261510605276772, 'mcc': 0.9156697028036915}, {'accuracy': 0.9648529411764706, 'log_loss': 0.1314335109067821, 'auc': 0.9531073989386023, 'balanced_accuracy': 0.9531073989386022, 'f1': 0.9374058796569109, 'precision': 0.9492143472783929, 'recall': 0.9258876026644247, 'mcc': 0.9131144580957864}]\n",
      "{'accuracy': 0.9649821321407371, 'log_loss': 0.13018996788794296, 'auc': 0.9530081840996629, 'balanced_accuracy': 0.9530081840996629, 'f1': 0.9375849037598785, 'precision': 0.9502462619093416, 'recall': 0.9252577067718916, 'mcc': 0.9134124153533361}\n",
      "Training and evaluating Decision Tree...\n",
      "[{'accuracy': 0.9652579915810371, 'log_loss': 0.34099308910297776, 'auc': 0.9526126266871654, 'balanced_accuracy': 0.9526126266871654, 'f1': 0.937922879852854, 'precision': 0.9530102790014684, 'recall': 0.923305742369374, 'mcc': 0.914031425344754}, {'accuracy': 0.9640447785886289, 'log_loss': 0.35845330177274815, 'auc': 0.9516871361475178, 'balanced_accuracy': 0.9516871361475177, 'f1': 0.9358772619984265, 'precision': 0.9490691489361702, 'recall': 0.9230470770822555, 'mcc': 0.9110724246447409}, {'accuracy': 0.9633462620172424, 'log_loss': 0.3718815046479271, 'auc': 0.9511601845957511, 'balanced_accuracy': 0.9511601845957511, 'f1': 0.9347043028358112, 'precision': 0.9467958073504047, 'recall': 0.9229177444386963, 'mcc': 0.9093755239066683}, {'accuracy': 0.964724913144979, 'log_loss': 0.3583690033090445, 'auc': 0.952649560246425, 'balanced_accuracy': 0.9526495602464251, 'f1': 0.9371170167447652, 'precision': 0.9499103168803561, 'recall': 0.924663735126746, 'mcc': 0.912770089676586}, {'accuracy': 0.9638051470588235, 'log_loss': 0.3671327483995496, 'auc': 0.9517711334638606, 'balanced_accuracy': 0.9517711334638606, 'f1': 0.9355292884974297, 'precision': 0.9474731396736967, 'recall': 0.9238828170471448, 'mcc': 0.9105146248344675}]\n",
      "{'accuracy': 0.9642358184781422, 'log_loss': 0.3593659294464494, 'auc': 0.951976128228144, 'balanced_accuracy': 0.951976128228144, 'f1': 0.9362301499858573, 'precision': 0.9492517383684194, 'recall': 0.9235634232128433, 'mcc': 0.9115528176814435}\n",
      "Training and evaluating Gradient Boosting...\n",
      "[{'accuracy': 0.9003878605172699, 'log_loss': 0.23781406624582765, 'auc': 0.8696179814910794, 'balanced_accuracy': 0.8696179814910794, 'f1': 0.8200205918496131, 'precision': 0.8429498122226016, 'recall': 0.798305742369374, 'mcc': 0.7517600137097257}, {'accuracy': 0.9003694785022334, 'log_loss': 0.24011438746305075, 'auc': 0.8692542859536677, 'balanced_accuracy': 0.8692542859536678, 'f1': 0.8197778812263083, 'precision': 0.8437371663244353, 'recall': 0.7971417485773409, 'mcc': 0.751588575223511}, {'accuracy': 0.9004797705924523, 'log_loss': 0.23908333613836175, 'auc': 0.8688050520704643, 'balanced_accuracy': 0.8688050520704642, 'f1': 0.8196175118278137, 'precision': 0.845360824742268, 'recall': 0.7953957578892913, 'mcc': 0.7516538958619114}, {'accuracy': 0.899376849690263, 'log_loss': 0.23938921558786871, 'auc': 0.8658124995740065, 'balanced_accuracy': 0.8658124995740064, 'f1': 0.8165918381022582, 'precision': 0.8473091364205256, 'recall': 0.7880237972064149, 'mcc': 0.7483210162944198}, {'accuracy': 0.9000919117647059, 'log_loss': 0.2397291142071544, 'auc': 0.869795879464299, 'balanced_accuracy': 0.8697958794642991, 'f1': 0.8198123528826708, 'precision': 0.8410884353741497, 'recall': 0.7995861087757874, 'mcc': 0.7512184817345934}]\n",
      "{'accuracy': 0.900141174213385, 'log_loss': 0.23922602392845266, 'auc': 0.8686571397107035, 'balanced_accuracy': 0.8686571397107035, 'f1': 0.8191640351777328, 'precision': 0.844089075016796, 'recall': 0.7956906309636418, 'mcc': 0.7509083965648322}\n",
      "CPU times: user 11min 49s, sys: 2.81 s, total: 11min 52s\n",
      "Wall time: 3min 49s\n"
     ]
    },
    {
     "data": {
      "text/plain": "                   accuracy  log_loss       auc  balanced_accuracy        f1   \nRandom Forest      0.964982  0.130190  0.953008           0.953008  0.937585  \\\nDecision Tree      0.964236  0.359366  0.951976           0.951976  0.936230   \nGradient Boosting  0.900141  0.239226  0.868657           0.868657  0.819164   \n\n                   precision    recall       mcc  \nRandom Forest       0.950246  0.925258  0.913412  \nDecision Tree       0.949252  0.923563  0.911553  \nGradient Boosting   0.844089  0.795691  0.750908  ",
      "text/html": "<div>\n<style scoped>\n    .dataframe tbody tr th:only-of-type {\n        vertical-align: middle;\n    }\n\n    .dataframe tbody tr th {\n        vertical-align: top;\n    }\n\n    .dataframe thead th {\n        text-align: right;\n    }\n</style>\n<table border=\"1\" class=\"dataframe\">\n  <thead>\n    <tr style=\"text-align: right;\">\n      <th></th>\n      <th>accuracy</th>\n      <th>log_loss</th>\n      <th>auc</th>\n      <th>balanced_accuracy</th>\n      <th>f1</th>\n      <th>precision</th>\n      <th>recall</th>\n      <th>mcc</th>\n    </tr>\n  </thead>\n  <tbody>\n    <tr>\n      <th>Random Forest</th>\n      <td>0.964982</td>\n      <td>0.130190</td>\n      <td>0.953008</td>\n      <td>0.953008</td>\n      <td>0.937585</td>\n      <td>0.950246</td>\n      <td>0.925258</td>\n      <td>0.913412</td>\n    </tr>\n    <tr>\n      <th>Decision Tree</th>\n      <td>0.964236</td>\n      <td>0.359366</td>\n      <td>0.951976</td>\n      <td>0.951976</td>\n      <td>0.936230</td>\n      <td>0.949252</td>\n      <td>0.923563</td>\n      <td>0.911553</td>\n    </tr>\n    <tr>\n      <th>Gradient Boosting</th>\n      <td>0.900141</td>\n      <td>0.239226</td>\n      <td>0.868657</td>\n      <td>0.868657</td>\n      <td>0.819164</td>\n      <td>0.844089</td>\n      <td>0.795691</td>\n      <td>0.750908</td>\n    </tr>\n  </tbody>\n</table>\n</div>"
     },
     "execution_count": 81,
     "metadata": {},
     "output_type": "execute_result"
    }
   ],
   "source": [
    "# %%time\n",
    "# train_and_evaluate_models(models, X_train, y_train['tracker'], split2)"
   ],
   "metadata": {
    "collapsed": false
   }
  },
  {
   "cell_type": "code",
   "execution_count": 59,
   "outputs": [
    {
     "name": "stdout",
     "output_type": "stream",
     "text": [
      "Training and evaluating Random Forest...\n",
      "Training and evaluating Decision Tree...\n",
      "Training and evaluating Gradient Boosting...\n",
      "Training and evaluating Hist Gradient Boosting...\n"
     ]
    },
    {
     "name": "stderr",
     "output_type": "stream",
     "text": [
      "/Users/wolfrieder/miniconda3/envs/code/lib/python3.9/site-packages/joblib/externals/loky/process_executor.py:700: UserWarning: A worker stopped while some jobs were given to the executor. This can be caused by a too short worker timeout or by a memory leak.\n",
      "  warnings.warn(\n"
     ]
    },
    {
     "name": "stdout",
     "output_type": "stream",
     "text": [
      "Training and evaluating Logistic Regression...\n"
     ]
    },
    {
     "name": "stderr",
     "output_type": "stream",
     "text": [
      "/Users/wolfrieder/miniconda3/envs/code/lib/python3.9/site-packages/sklearn/linear_model/_logistic.py:458: ConvergenceWarning: lbfgs failed to converge (status=1):\n",
      "STOP: TOTAL NO. of ITERATIONS REACHED LIMIT.\n",
      "\n",
      "Increase the number of iterations (max_iter) or scale the data as shown in:\n",
      "    https://scikit-learn.org/stable/modules/preprocessing.html\n",
      "Please also refer to the documentation for alternative solver options:\n",
      "    https://scikit-learn.org/stable/modules/linear_model.html#logistic-regression\n",
      "  n_iter_i = _check_optimize_result(\n",
      "/Users/wolfrieder/miniconda3/envs/code/lib/python3.9/site-packages/sklearn/linear_model/_logistic.py:458: ConvergenceWarning: lbfgs failed to converge (status=1):\n",
      "STOP: TOTAL NO. of ITERATIONS REACHED LIMIT.\n",
      "\n",
      "Increase the number of iterations (max_iter) or scale the data as shown in:\n",
      "    https://scikit-learn.org/stable/modules/preprocessing.html\n",
      "Please also refer to the documentation for alternative solver options:\n",
      "    https://scikit-learn.org/stable/modules/linear_model.html#logistic-regression\n",
      "  n_iter_i = _check_optimize_result(\n",
      "/Users/wolfrieder/miniconda3/envs/code/lib/python3.9/site-packages/sklearn/linear_model/_logistic.py:458: ConvergenceWarning: lbfgs failed to converge (status=1):\n",
      "STOP: TOTAL NO. of ITERATIONS REACHED LIMIT.\n",
      "\n",
      "Increase the number of iterations (max_iter) or scale the data as shown in:\n",
      "    https://scikit-learn.org/stable/modules/preprocessing.html\n",
      "Please also refer to the documentation for alternative solver options:\n",
      "    https://scikit-learn.org/stable/modules/linear_model.html#logistic-regression\n",
      "  n_iter_i = _check_optimize_result(\n",
      "/Users/wolfrieder/miniconda3/envs/code/lib/python3.9/site-packages/sklearn/linear_model/_logistic.py:458: ConvergenceWarning: lbfgs failed to converge (status=1):\n",
      "STOP: TOTAL NO. of ITERATIONS REACHED LIMIT.\n",
      "\n",
      "Increase the number of iterations (max_iter) or scale the data as shown in:\n",
      "    https://scikit-learn.org/stable/modules/preprocessing.html\n",
      "Please also refer to the documentation for alternative solver options:\n",
      "    https://scikit-learn.org/stable/modules/linear_model.html#logistic-regression\n",
      "  n_iter_i = _check_optimize_result(\n",
      "/Users/wolfrieder/miniconda3/envs/code/lib/python3.9/site-packages/sklearn/linear_model/_logistic.py:458: ConvergenceWarning: lbfgs failed to converge (status=1):\n",
      "STOP: TOTAL NO. of ITERATIONS REACHED LIMIT.\n",
      "\n",
      "Increase the number of iterations (max_iter) or scale the data as shown in:\n",
      "    https://scikit-learn.org/stable/modules/preprocessing.html\n",
      "Please also refer to the documentation for alternative solver options:\n",
      "    https://scikit-learn.org/stable/modules/linear_model.html#logistic-regression\n",
      "  n_iter_i = _check_optimize_result(\n",
      "/Users/wolfrieder/miniconda3/envs/code/lib/python3.9/site-packages/sklearn/linear_model/_logistic.py:458: ConvergenceWarning: lbfgs failed to converge (status=1):\n",
      "STOP: TOTAL NO. of ITERATIONS REACHED LIMIT.\n",
      "\n",
      "Increase the number of iterations (max_iter) or scale the data as shown in:\n",
      "    https://scikit-learn.org/stable/modules/preprocessing.html\n",
      "Please also refer to the documentation for alternative solver options:\n",
      "    https://scikit-learn.org/stable/modules/linear_model.html#logistic-regression\n",
      "  n_iter_i = _check_optimize_result(\n",
      "/Users/wolfrieder/miniconda3/envs/code/lib/python3.9/site-packages/sklearn/linear_model/_logistic.py:458: ConvergenceWarning: lbfgs failed to converge (status=1):\n",
      "STOP: TOTAL NO. of ITERATIONS REACHED LIMIT.\n",
      "\n",
      "Increase the number of iterations (max_iter) or scale the data as shown in:\n",
      "    https://scikit-learn.org/stable/modules/preprocessing.html\n",
      "Please also refer to the documentation for alternative solver options:\n",
      "    https://scikit-learn.org/stable/modules/linear_model.html#logistic-regression\n",
      "  n_iter_i = _check_optimize_result(\n",
      "/Users/wolfrieder/miniconda3/envs/code/lib/python3.9/site-packages/joblib/externals/loky/process_executor.py:700: UserWarning: A worker stopped while some jobs were given to the executor. This can be caused by a too short worker timeout or by a memory leak.\n",
      "  warnings.warn(\n",
      "/Users/wolfrieder/miniconda3/envs/code/lib/python3.9/site-packages/sklearn/linear_model/_logistic.py:458: ConvergenceWarning: lbfgs failed to converge (status=1):\n",
      "STOP: TOTAL NO. of ITERATIONS REACHED LIMIT.\n",
      "\n",
      "Increase the number of iterations (max_iter) or scale the data as shown in:\n",
      "    https://scikit-learn.org/stable/modules/preprocessing.html\n",
      "Please also refer to the documentation for alternative solver options:\n",
      "    https://scikit-learn.org/stable/modules/linear_model.html#logistic-regression\n",
      "  n_iter_i = _check_optimize_result(\n",
      "/Users/wolfrieder/miniconda3/envs/code/lib/python3.9/site-packages/sklearn/linear_model/_logistic.py:458: ConvergenceWarning: lbfgs failed to converge (status=1):\n",
      "STOP: TOTAL NO. of ITERATIONS REACHED LIMIT.\n",
      "\n",
      "Increase the number of iterations (max_iter) or scale the data as shown in:\n",
      "    https://scikit-learn.org/stable/modules/preprocessing.html\n",
      "Please also refer to the documentation for alternative solver options:\n",
      "    https://scikit-learn.org/stable/modules/linear_model.html#logistic-regression\n",
      "  n_iter_i = _check_optimize_result(\n",
      "/Users/wolfrieder/miniconda3/envs/code/lib/python3.9/site-packages/sklearn/linear_model/_logistic.py:458: ConvergenceWarning: lbfgs failed to converge (status=1):\n",
      "STOP: TOTAL NO. of ITERATIONS REACHED LIMIT.\n",
      "\n",
      "Increase the number of iterations (max_iter) or scale the data as shown in:\n",
      "    https://scikit-learn.org/stable/modules/preprocessing.html\n",
      "Please also refer to the documentation for alternative solver options:\n",
      "    https://scikit-learn.org/stable/modules/linear_model.html#logistic-regression\n",
      "  n_iter_i = _check_optimize_result(\n",
      "/Users/wolfrieder/miniconda3/envs/code/lib/python3.9/site-packages/sklearn/linear_model/_logistic.py:458: ConvergenceWarning: lbfgs failed to converge (status=1):\n",
      "STOP: TOTAL NO. of ITERATIONS REACHED LIMIT.\n",
      "\n",
      "Increase the number of iterations (max_iter) or scale the data as shown in:\n",
      "    https://scikit-learn.org/stable/modules/preprocessing.html\n",
      "Please also refer to the documentation for alternative solver options:\n",
      "    https://scikit-learn.org/stable/modules/linear_model.html#logistic-regression\n",
      "  n_iter_i = _check_optimize_result(\n",
      "/Users/wolfrieder/miniconda3/envs/code/lib/python3.9/site-packages/sklearn/linear_model/_logistic.py:458: ConvergenceWarning: lbfgs failed to converge (status=1):\n",
      "STOP: TOTAL NO. of ITERATIONS REACHED LIMIT.\n",
      "\n",
      "Increase the number of iterations (max_iter) or scale the data as shown in:\n",
      "    https://scikit-learn.org/stable/modules/preprocessing.html\n",
      "Please also refer to the documentation for alternative solver options:\n",
      "    https://scikit-learn.org/stable/modules/linear_model.html#logistic-regression\n",
      "  n_iter_i = _check_optimize_result(\n",
      "/Users/wolfrieder/miniconda3/envs/code/lib/python3.9/site-packages/sklearn/linear_model/_logistic.py:458: ConvergenceWarning: lbfgs failed to converge (status=1):\n",
      "STOP: TOTAL NO. of ITERATIONS REACHED LIMIT.\n",
      "\n",
      "Increase the number of iterations (max_iter) or scale the data as shown in:\n",
      "    https://scikit-learn.org/stable/modules/preprocessing.html\n",
      "Please also refer to the documentation for alternative solver options:\n",
      "    https://scikit-learn.org/stable/modules/linear_model.html#logistic-regression\n",
      "  n_iter_i = _check_optimize_result(\n",
      "/Users/wolfrieder/miniconda3/envs/code/lib/python3.9/site-packages/sklearn/linear_model/_logistic.py:458: ConvergenceWarning: lbfgs failed to converge (status=1):\n",
      "STOP: TOTAL NO. of ITERATIONS REACHED LIMIT.\n",
      "\n",
      "Increase the number of iterations (max_iter) or scale the data as shown in:\n",
      "    https://scikit-learn.org/stable/modules/preprocessing.html\n",
      "Please also refer to the documentation for alternative solver options:\n",
      "    https://scikit-learn.org/stable/modules/linear_model.html#logistic-regression\n",
      "  n_iter_i = _check_optimize_result(\n",
      "/Users/wolfrieder/miniconda3/envs/code/lib/python3.9/site-packages/sklearn/linear_model/_logistic.py:458: ConvergenceWarning: lbfgs failed to converge (status=1):\n",
      "STOP: TOTAL NO. of ITERATIONS REACHED LIMIT.\n",
      "\n",
      "Increase the number of iterations (max_iter) or scale the data as shown in:\n",
      "    https://scikit-learn.org/stable/modules/preprocessing.html\n",
      "Please also refer to the documentation for alternative solver options:\n",
      "    https://scikit-learn.org/stable/modules/linear_model.html#logistic-regression\n",
      "  n_iter_i = _check_optimize_result(\n",
      "/Users/wolfrieder/miniconda3/envs/code/lib/python3.9/site-packages/sklearn/linear_model/_logistic.py:458: ConvergenceWarning: lbfgs failed to converge (status=1):\n",
      "STOP: TOTAL NO. of ITERATIONS REACHED LIMIT.\n",
      "\n",
      "Increase the number of iterations (max_iter) or scale the data as shown in:\n",
      "    https://scikit-learn.org/stable/modules/preprocessing.html\n",
      "Please also refer to the documentation for alternative solver options:\n",
      "    https://scikit-learn.org/stable/modules/linear_model.html#logistic-regression\n",
      "  n_iter_i = _check_optimize_result(\n",
      "/Users/wolfrieder/miniconda3/envs/code/lib/python3.9/site-packages/sklearn/linear_model/_logistic.py:458: ConvergenceWarning: lbfgs failed to converge (status=1):\n",
      "STOP: TOTAL NO. of ITERATIONS REACHED LIMIT.\n",
      "\n",
      "Increase the number of iterations (max_iter) or scale the data as shown in:\n",
      "    https://scikit-learn.org/stable/modules/preprocessing.html\n",
      "Please also refer to the documentation for alternative solver options:\n",
      "    https://scikit-learn.org/stable/modules/linear_model.html#logistic-regression\n",
      "  n_iter_i = _check_optimize_result(\n",
      "/Users/wolfrieder/miniconda3/envs/code/lib/python3.9/site-packages/sklearn/linear_model/_logistic.py:458: ConvergenceWarning: lbfgs failed to converge (status=1):\n",
      "STOP: TOTAL NO. of ITERATIONS REACHED LIMIT.\n",
      "\n",
      "Increase the number of iterations (max_iter) or scale the data as shown in:\n",
      "    https://scikit-learn.org/stable/modules/preprocessing.html\n",
      "Please also refer to the documentation for alternative solver options:\n",
      "    https://scikit-learn.org/stable/modules/linear_model.html#logistic-regression\n",
      "  n_iter_i = _check_optimize_result(\n",
      "/Users/wolfrieder/miniconda3/envs/code/lib/python3.9/site-packages/sklearn/linear_model/_logistic.py:458: ConvergenceWarning: lbfgs failed to converge (status=1):\n",
      "STOP: TOTAL NO. of ITERATIONS REACHED LIMIT.\n",
      "\n",
      "Increase the number of iterations (max_iter) or scale the data as shown in:\n",
      "    https://scikit-learn.org/stable/modules/preprocessing.html\n",
      "Please also refer to the documentation for alternative solver options:\n",
      "    https://scikit-learn.org/stable/modules/linear_model.html#logistic-regression\n",
      "  n_iter_i = _check_optimize_result(\n",
      "/Users/wolfrieder/miniconda3/envs/code/lib/python3.9/site-packages/sklearn/linear_model/_logistic.py:458: ConvergenceWarning: lbfgs failed to converge (status=1):\n",
      "STOP: TOTAL NO. of ITERATIONS REACHED LIMIT.\n",
      "\n",
      "Increase the number of iterations (max_iter) or scale the data as shown in:\n",
      "    https://scikit-learn.org/stable/modules/preprocessing.html\n",
      "Please also refer to the documentation for alternative solver options:\n",
      "    https://scikit-learn.org/stable/modules/linear_model.html#logistic-regression\n",
      "  n_iter_i = _check_optimize_result(\n",
      "/Users/wolfrieder/miniconda3/envs/code/lib/python3.9/site-packages/sklearn/linear_model/_logistic.py:458: ConvergenceWarning: lbfgs failed to converge (status=1):\n",
      "STOP: TOTAL NO. of ITERATIONS REACHED LIMIT.\n",
      "\n",
      "Increase the number of iterations (max_iter) or scale the data as shown in:\n",
      "    https://scikit-learn.org/stable/modules/preprocessing.html\n",
      "Please also refer to the documentation for alternative solver options:\n",
      "    https://scikit-learn.org/stable/modules/linear_model.html#logistic-regression\n",
      "  n_iter_i = _check_optimize_result(\n",
      "/Users/wolfrieder/miniconda3/envs/code/lib/python3.9/site-packages/sklearn/linear_model/_logistic.py:458: ConvergenceWarning: lbfgs failed to converge (status=1):\n",
      "STOP: TOTAL NO. of ITERATIONS REACHED LIMIT.\n",
      "\n",
      "Increase the number of iterations (max_iter) or scale the data as shown in:\n",
      "    https://scikit-learn.org/stable/modules/preprocessing.html\n",
      "Please also refer to the documentation for alternative solver options:\n",
      "    https://scikit-learn.org/stable/modules/linear_model.html#logistic-regression\n",
      "  n_iter_i = _check_optimize_result(\n",
      "/Users/wolfrieder/miniconda3/envs/code/lib/python3.9/site-packages/sklearn/linear_model/_logistic.py:458: ConvergenceWarning: lbfgs failed to converge (status=1):\n",
      "STOP: TOTAL NO. of ITERATIONS REACHED LIMIT.\n",
      "\n",
      "Increase the number of iterations (max_iter) or scale the data as shown in:\n",
      "    https://scikit-learn.org/stable/modules/preprocessing.html\n",
      "Please also refer to the documentation for alternative solver options:\n",
      "    https://scikit-learn.org/stable/modules/linear_model.html#logistic-regression\n",
      "  n_iter_i = _check_optimize_result(\n",
      "/Users/wolfrieder/miniconda3/envs/code/lib/python3.9/site-packages/sklearn/linear_model/_logistic.py:458: ConvergenceWarning: lbfgs failed to converge (status=1):\n",
      "STOP: TOTAL NO. of ITERATIONS REACHED LIMIT.\n",
      "\n",
      "Increase the number of iterations (max_iter) or scale the data as shown in:\n",
      "    https://scikit-learn.org/stable/modules/preprocessing.html\n",
      "Please also refer to the documentation for alternative solver options:\n",
      "    https://scikit-learn.org/stable/modules/linear_model.html#logistic-regression\n",
      "  n_iter_i = _check_optimize_result(\n",
      "/Users/wolfrieder/miniconda3/envs/code/lib/python3.9/site-packages/sklearn/linear_model/_logistic.py:458: ConvergenceWarning: lbfgs failed to converge (status=1):\n",
      "STOP: TOTAL NO. of ITERATIONS REACHED LIMIT.\n",
      "\n",
      "Increase the number of iterations (max_iter) or scale the data as shown in:\n",
      "    https://scikit-learn.org/stable/modules/preprocessing.html\n",
      "Please also refer to the documentation for alternative solver options:\n",
      "    https://scikit-learn.org/stable/modules/linear_model.html#logistic-regression\n",
      "  n_iter_i = _check_optimize_result(\n"
     ]
    },
    {
     "name": "stdout",
     "output_type": "stream",
     "text": [
      "Training and evaluating Gaussian NB...\n",
      "CPU times: user 51.2 s, sys: 10.5 s, total: 1min 1s\n",
      "Wall time: 10min 15s\n"
     ]
    },
    {
     "data": {
      "text/plain": "                        accuracy   roc_auc        f1  balanced_accuracy   \nRandom Forest           0.965164  0.992425  0.937881           0.953104  \\\nDecision Tree           0.964259  0.984616  0.936250           0.951906   \nGradient Boosting       0.900974  0.957869  0.821022           0.870264   \nHist Gradient Boosting  0.926039  0.980259  0.876540           0.925313   \nLogistic Regression     0.893682  0.952928  0.804707           0.856578   \nGaussian NB             0.868369  0.909600  0.750828           0.816984   \n\n                        precision    recall  neg_log_loss       mcc   \nRandom Forest            0.950968  0.925154     -0.130445  0.913852  \\\nDecision Tree            0.949598  0.923276     -0.359050  0.911602   \nGradient Boosting        0.844232  0.799089     -0.239116  0.753205   \nHist Gradient Boosting   0.834027  0.923631     -0.188115  0.826133   \nLogistic Regression      0.842003  0.770587     -0.244314  0.733225   \nGaussian NB              0.812584  0.697896     -2.536369  0.665675   \n\n                        test_accuracy  test_log_loss  test_auc   \nRandom Forest                0.924923       0.497837  0.904200  \\\nDecision Tree                0.912694       1.777623  0.893912   \nGradient Boosting            0.896864       0.242865  0.864047   \nHist Gradient Boosting       0.903915       0.223676  0.906456   \nLogistic Regression          0.889145       0.254476  0.853642   \nGaussian NB                  0.870433       2.506121  0.802635   \n\n                        test_balanced_accuracy   test_f1  test_precision   \nRandom Forest                         0.904200  0.855282        0.849183  \\\nDecision Tree                         0.893912  0.834577        0.814943   \nGradient Boosting                     0.864047  0.799078        0.801800   \nHist Gradient Boosting                0.906456  0.830137        0.761973   \nLogistic Regression                   0.853642  0.783833        0.787263   \nGaussian NB                           0.802635  0.724889        0.799769   \n\n                        test_recall  test_mcc  test_FP   test_TN  test_FN   \nRandom Forest              0.861468  0.804637  31632.0  564434.0  28641.0  \\\nDecision Tree              0.855180  0.775738  40149.0  555917.0  29941.0   \nGradient Boosting          0.796374  0.729713  40700.0  555366.0  42099.0   \nHist Gradient Boosting     0.911694  0.769868  58881.0  537185.0  18257.0   \nLogistic Regression        0.780432  0.709306  43601.0  552465.0  45395.0   \nGaussian NB                0.662829  0.645956  34309.0  561757.0  69709.0   \n\n                         test_TP  \nRandom Forest           178106.0  \nDecision Tree           176806.0  \nGradient Boosting       164648.0  \nHist Gradient Boosting  188490.0  \nLogistic Regression     161352.0  \nGaussian NB             137038.0  ",
      "text/html": "<div>\n<style scoped>\n    .dataframe tbody tr th:only-of-type {\n        vertical-align: middle;\n    }\n\n    .dataframe tbody tr th {\n        vertical-align: top;\n    }\n\n    .dataframe thead th {\n        text-align: right;\n    }\n</style>\n<table border=\"1\" class=\"dataframe\">\n  <thead>\n    <tr style=\"text-align: right;\">\n      <th></th>\n      <th>accuracy</th>\n      <th>roc_auc</th>\n      <th>f1</th>\n      <th>balanced_accuracy</th>\n      <th>precision</th>\n      <th>recall</th>\n      <th>neg_log_loss</th>\n      <th>mcc</th>\n      <th>test_accuracy</th>\n      <th>test_log_loss</th>\n      <th>test_auc</th>\n      <th>test_balanced_accuracy</th>\n      <th>test_f1</th>\n      <th>test_precision</th>\n      <th>test_recall</th>\n      <th>test_mcc</th>\n      <th>test_FP</th>\n      <th>test_TN</th>\n      <th>test_FN</th>\n      <th>test_TP</th>\n    </tr>\n  </thead>\n  <tbody>\n    <tr>\n      <th>Random Forest</th>\n      <td>0.965164</td>\n      <td>0.992425</td>\n      <td>0.937881</td>\n      <td>0.953104</td>\n      <td>0.950968</td>\n      <td>0.925154</td>\n      <td>-0.130445</td>\n      <td>0.913852</td>\n      <td>0.924923</td>\n      <td>0.497837</td>\n      <td>0.904200</td>\n      <td>0.904200</td>\n      <td>0.855282</td>\n      <td>0.849183</td>\n      <td>0.861468</td>\n      <td>0.804637</td>\n      <td>31632.0</td>\n      <td>564434.0</td>\n      <td>28641.0</td>\n      <td>178106.0</td>\n    </tr>\n    <tr>\n      <th>Decision Tree</th>\n      <td>0.964259</td>\n      <td>0.984616</td>\n      <td>0.936250</td>\n      <td>0.951906</td>\n      <td>0.949598</td>\n      <td>0.923276</td>\n      <td>-0.359050</td>\n      <td>0.911602</td>\n      <td>0.912694</td>\n      <td>1.777623</td>\n      <td>0.893912</td>\n      <td>0.893912</td>\n      <td>0.834577</td>\n      <td>0.814943</td>\n      <td>0.855180</td>\n      <td>0.775738</td>\n      <td>40149.0</td>\n      <td>555917.0</td>\n      <td>29941.0</td>\n      <td>176806.0</td>\n    </tr>\n    <tr>\n      <th>Gradient Boosting</th>\n      <td>0.900974</td>\n      <td>0.957869</td>\n      <td>0.821022</td>\n      <td>0.870264</td>\n      <td>0.844232</td>\n      <td>0.799089</td>\n      <td>-0.239116</td>\n      <td>0.753205</td>\n      <td>0.896864</td>\n      <td>0.242865</td>\n      <td>0.864047</td>\n      <td>0.864047</td>\n      <td>0.799078</td>\n      <td>0.801800</td>\n      <td>0.796374</td>\n      <td>0.729713</td>\n      <td>40700.0</td>\n      <td>555366.0</td>\n      <td>42099.0</td>\n      <td>164648.0</td>\n    </tr>\n    <tr>\n      <th>Hist Gradient Boosting</th>\n      <td>0.926039</td>\n      <td>0.980259</td>\n      <td>0.876540</td>\n      <td>0.925313</td>\n      <td>0.834027</td>\n      <td>0.923631</td>\n      <td>-0.188115</td>\n      <td>0.826133</td>\n      <td>0.903915</td>\n      <td>0.223676</td>\n      <td>0.906456</td>\n      <td>0.906456</td>\n      <td>0.830137</td>\n      <td>0.761973</td>\n      <td>0.911694</td>\n      <td>0.769868</td>\n      <td>58881.0</td>\n      <td>537185.0</td>\n      <td>18257.0</td>\n      <td>188490.0</td>\n    </tr>\n    <tr>\n      <th>Logistic Regression</th>\n      <td>0.893682</td>\n      <td>0.952928</td>\n      <td>0.804707</td>\n      <td>0.856578</td>\n      <td>0.842003</td>\n      <td>0.770587</td>\n      <td>-0.244314</td>\n      <td>0.733225</td>\n      <td>0.889145</td>\n      <td>0.254476</td>\n      <td>0.853642</td>\n      <td>0.853642</td>\n      <td>0.783833</td>\n      <td>0.787263</td>\n      <td>0.780432</td>\n      <td>0.709306</td>\n      <td>43601.0</td>\n      <td>552465.0</td>\n      <td>45395.0</td>\n      <td>161352.0</td>\n    </tr>\n    <tr>\n      <th>Gaussian NB</th>\n      <td>0.868369</td>\n      <td>0.909600</td>\n      <td>0.750828</td>\n      <td>0.816984</td>\n      <td>0.812584</td>\n      <td>0.697896</td>\n      <td>-2.536369</td>\n      <td>0.665675</td>\n      <td>0.870433</td>\n      <td>2.506121</td>\n      <td>0.802635</td>\n      <td>0.802635</td>\n      <td>0.724889</td>\n      <td>0.799769</td>\n      <td>0.662829</td>\n      <td>0.645956</td>\n      <td>34309.0</td>\n      <td>561757.0</td>\n      <td>69709.0</td>\n      <td>137038.0</td>\n    </tr>\n  </tbody>\n</table>\n</div>"
     },
     "execution_count": 59,
     "metadata": {},
     "output_type": "execute_result"
    }
   ],
   "source": [
    "%%time\n",
    "train_and_evaluate_models_2(models, X_train, y_train['tracker'], X_test, y_test['tracker'], split3)"
   ],
   "metadata": {
    "collapsed": false,
    "ExecuteTime": {
     "end_time": "2023-05-03T15:16:16.304151Z",
     "start_time": "2023-05-03T15:06:00.510471Z"
    }
   }
  },
  {
   "cell_type": "code",
   "execution_count": 55,
   "outputs": [
    {
     "name": "stdout",
     "output_type": "stream",
     "text": [
      "Training and evaluating Random Forest...\n",
      "Training and evaluating Decision Tree...\n",
      "Training and evaluating Gradient Boosting...\n",
      "Training and evaluating Hist Gradient Boosting...\n",
      "Training and evaluating Logistic Regression...\n"
     ]
    },
    {
     "name": "stderr",
     "output_type": "stream",
     "text": [
      "/Users/wolfrieder/miniconda3/envs/code/lib/python3.9/site-packages/sklearn/linear_model/_logistic.py:458: ConvergenceWarning: lbfgs failed to converge (status=1):\n",
      "STOP: TOTAL NO. of ITERATIONS REACHED LIMIT.\n",
      "\n",
      "Increase the number of iterations (max_iter) or scale the data as shown in:\n",
      "    https://scikit-learn.org/stable/modules/preprocessing.html\n",
      "Please also refer to the documentation for alternative solver options:\n",
      "    https://scikit-learn.org/stable/modules/linear_model.html#logistic-regression\n",
      "  n_iter_i = _check_optimize_result(\n",
      "/Users/wolfrieder/miniconda3/envs/code/lib/python3.9/site-packages/sklearn/linear_model/_logistic.py:458: ConvergenceWarning: lbfgs failed to converge (status=1):\n",
      "STOP: TOTAL NO. of ITERATIONS REACHED LIMIT.\n",
      "\n",
      "Increase the number of iterations (max_iter) or scale the data as shown in:\n",
      "    https://scikit-learn.org/stable/modules/preprocessing.html\n",
      "Please also refer to the documentation for alternative solver options:\n",
      "    https://scikit-learn.org/stable/modules/linear_model.html#logistic-regression\n",
      "  n_iter_i = _check_optimize_result(\n",
      "/Users/wolfrieder/miniconda3/envs/code/lib/python3.9/site-packages/sklearn/linear_model/_logistic.py:458: ConvergenceWarning: lbfgs failed to converge (status=1):\n",
      "STOP: TOTAL NO. of ITERATIONS REACHED LIMIT.\n",
      "\n",
      "Increase the number of iterations (max_iter) or scale the data as shown in:\n",
      "    https://scikit-learn.org/stable/modules/preprocessing.html\n",
      "Please also refer to the documentation for alternative solver options:\n",
      "    https://scikit-learn.org/stable/modules/linear_model.html#logistic-regression\n",
      "  n_iter_i = _check_optimize_result(\n",
      "/Users/wolfrieder/miniconda3/envs/code/lib/python3.9/site-packages/sklearn/linear_model/_logistic.py:458: ConvergenceWarning: lbfgs failed to converge (status=1):\n",
      "STOP: TOTAL NO. of ITERATIONS REACHED LIMIT.\n",
      "\n",
      "Increase the number of iterations (max_iter) or scale the data as shown in:\n",
      "    https://scikit-learn.org/stable/modules/preprocessing.html\n",
      "Please also refer to the documentation for alternative solver options:\n",
      "    https://scikit-learn.org/stable/modules/linear_model.html#logistic-regression\n",
      "  n_iter_i = _check_optimize_result(\n",
      "/Users/wolfrieder/miniconda3/envs/code/lib/python3.9/site-packages/sklearn/linear_model/_logistic.py:458: ConvergenceWarning: lbfgs failed to converge (status=1):\n",
      "STOP: TOTAL NO. of ITERATIONS REACHED LIMIT.\n",
      "\n",
      "Increase the number of iterations (max_iter) or scale the data as shown in:\n",
      "    https://scikit-learn.org/stable/modules/preprocessing.html\n",
      "Please also refer to the documentation for alternative solver options:\n",
      "    https://scikit-learn.org/stable/modules/linear_model.html#logistic-regression\n",
      "  n_iter_i = _check_optimize_result(\n"
     ]
    },
    {
     "name": "stdout",
     "output_type": "stream",
     "text": [
      "Training and evaluating Gaussian NB...\n",
      "CPU times: user 49.6 s, sys: 7.57 s, total: 57.1 s\n",
      "Wall time: 2min 45s\n"
     ]
    },
    {
     "data": {
      "text/plain": "                        accuracy   roc_auc        f1  balanced_accuracy   \nRandom Forest           0.964989  0.992407  0.937606           0.953056  \\\nDecision Tree           0.964170  0.984496  0.936116           0.951910   \nGradient Boosting       0.900137  0.957926  0.819159           0.868655   \nHist Gradient Boosting  0.926038  0.980257  0.876474           0.925148   \nLogistic Regression     0.893755  0.952913  0.804854           0.856684   \nGaussian NB             0.868741  0.909685  0.751732           0.817600   \n\n                        precision    recall  neg_log_loss       mcc   \nRandom Forest            0.950140  0.925400     -0.130888  0.913435  \\\nDecision Tree            0.949086  0.923499     -0.362650  0.911391   \nGradient Boosting        0.844077  0.795691     -0.239227  0.750900   \nHist Gradient Boosting   0.834350  0.923085     -0.188066  0.826029   \nLogistic Regression      0.842108  0.770768     -0.244328  0.733417   \nGaussian NB              0.812970  0.699078     -2.533527  0.666697   \n\n                        test_accuracy  test_log_loss  test_auc   \nRandom Forest                0.924869       0.491768  0.903496  \\\nDecision Tree                0.916524       1.853453  0.895552   \nGradient Boosting            0.896736       0.242052  0.861205   \nHist Gradient Boosting       0.907269       0.222410  0.909194   \nLogistic Regression          0.894239       0.251980  0.856670   \nGaussian NB                  0.875342       2.472165  0.814077   \n\n                        test_balanced_accuracy   test_f1  test_precision   \nRandom Forest                         0.903496  0.854899        0.850422  \\\nDecision Tree                         0.895552  0.840225        0.828480   \nGradient Boosting                     0.861205  0.797162        0.806603   \nHist Gradient Boosting                0.909194  0.835309        0.769686   \nLogistic Regression                   0.856670  0.791437        0.804066   \nGaussian NB                           0.814077  0.739691        0.800127   \n\n                        test_recall  test_mcc  test_FP   test_TN  test_FN   \nRandom Forest              0.859422  0.804233  31252.0  564814.0  29064.0  \\\nDecision Tree              0.852307  0.783888  36481.0  559585.0  30535.0   \nGradient Boosting          0.787939  0.728001  39059.0  557007.0  43843.0   \nHist Gradient Boosting     0.913164  0.776884  56493.0  539573.0  17953.0   \nLogistic Regression        0.779199  0.720778  39256.0  556810.0  45650.0   \nGaussian NB                0.687744  0.661612  35519.0  560547.0  64558.0   \n\n                         test_TP  \nRandom Forest           177683.0  \nDecision Tree           176212.0  \nGradient Boosting       162904.0  \nHist Gradient Boosting  188794.0  \nLogistic Regression     161097.0  \nGaussian NB             142189.0  ",
      "text/html": "<div>\n<style scoped>\n    .dataframe tbody tr th:only-of-type {\n        vertical-align: middle;\n    }\n\n    .dataframe tbody tr th {\n        vertical-align: top;\n    }\n\n    .dataframe thead th {\n        text-align: right;\n    }\n</style>\n<table border=\"1\" class=\"dataframe\">\n  <thead>\n    <tr style=\"text-align: right;\">\n      <th></th>\n      <th>accuracy</th>\n      <th>roc_auc</th>\n      <th>f1</th>\n      <th>balanced_accuracy</th>\n      <th>precision</th>\n      <th>recall</th>\n      <th>neg_log_loss</th>\n      <th>mcc</th>\n      <th>test_accuracy</th>\n      <th>test_log_loss</th>\n      <th>test_auc</th>\n      <th>test_balanced_accuracy</th>\n      <th>test_f1</th>\n      <th>test_precision</th>\n      <th>test_recall</th>\n      <th>test_mcc</th>\n      <th>test_FP</th>\n      <th>test_TN</th>\n      <th>test_FN</th>\n      <th>test_TP</th>\n    </tr>\n  </thead>\n  <tbody>\n    <tr>\n      <th>Random Forest</th>\n      <td>0.964989</td>\n      <td>0.992407</td>\n      <td>0.937606</td>\n      <td>0.953056</td>\n      <td>0.950140</td>\n      <td>0.925400</td>\n      <td>-0.130888</td>\n      <td>0.913435</td>\n      <td>0.924869</td>\n      <td>0.491768</td>\n      <td>0.903496</td>\n      <td>0.903496</td>\n      <td>0.854899</td>\n      <td>0.850422</td>\n      <td>0.859422</td>\n      <td>0.804233</td>\n      <td>31252.0</td>\n      <td>564814.0</td>\n      <td>29064.0</td>\n      <td>177683.0</td>\n    </tr>\n    <tr>\n      <th>Decision Tree</th>\n      <td>0.964170</td>\n      <td>0.984496</td>\n      <td>0.936116</td>\n      <td>0.951910</td>\n      <td>0.949086</td>\n      <td>0.923499</td>\n      <td>-0.362650</td>\n      <td>0.911391</td>\n      <td>0.916524</td>\n      <td>1.853453</td>\n      <td>0.895552</td>\n      <td>0.895552</td>\n      <td>0.840225</td>\n      <td>0.828480</td>\n      <td>0.852307</td>\n      <td>0.783888</td>\n      <td>36481.0</td>\n      <td>559585.0</td>\n      <td>30535.0</td>\n      <td>176212.0</td>\n    </tr>\n    <tr>\n      <th>Gradient Boosting</th>\n      <td>0.900137</td>\n      <td>0.957926</td>\n      <td>0.819159</td>\n      <td>0.868655</td>\n      <td>0.844077</td>\n      <td>0.795691</td>\n      <td>-0.239227</td>\n      <td>0.750900</td>\n      <td>0.896736</td>\n      <td>0.242052</td>\n      <td>0.861205</td>\n      <td>0.861205</td>\n      <td>0.797162</td>\n      <td>0.806603</td>\n      <td>0.787939</td>\n      <td>0.728001</td>\n      <td>39059.0</td>\n      <td>557007.0</td>\n      <td>43843.0</td>\n      <td>162904.0</td>\n    </tr>\n    <tr>\n      <th>Hist Gradient Boosting</th>\n      <td>0.926038</td>\n      <td>0.980257</td>\n      <td>0.876474</td>\n      <td>0.925148</td>\n      <td>0.834350</td>\n      <td>0.923085</td>\n      <td>-0.188066</td>\n      <td>0.826029</td>\n      <td>0.907269</td>\n      <td>0.222410</td>\n      <td>0.909194</td>\n      <td>0.909194</td>\n      <td>0.835309</td>\n      <td>0.769686</td>\n      <td>0.913164</td>\n      <td>0.776884</td>\n      <td>56493.0</td>\n      <td>539573.0</td>\n      <td>17953.0</td>\n      <td>188794.0</td>\n    </tr>\n    <tr>\n      <th>Logistic Regression</th>\n      <td>0.893755</td>\n      <td>0.952913</td>\n      <td>0.804854</td>\n      <td>0.856684</td>\n      <td>0.842108</td>\n      <td>0.770768</td>\n      <td>-0.244328</td>\n      <td>0.733417</td>\n      <td>0.894239</td>\n      <td>0.251980</td>\n      <td>0.856670</td>\n      <td>0.856670</td>\n      <td>0.791437</td>\n      <td>0.804066</td>\n      <td>0.779199</td>\n      <td>0.720778</td>\n      <td>39256.0</td>\n      <td>556810.0</td>\n      <td>45650.0</td>\n      <td>161097.0</td>\n    </tr>\n    <tr>\n      <th>Gaussian NB</th>\n      <td>0.868741</td>\n      <td>0.909685</td>\n      <td>0.751732</td>\n      <td>0.817600</td>\n      <td>0.812970</td>\n      <td>0.699078</td>\n      <td>-2.533527</td>\n      <td>0.666697</td>\n      <td>0.875342</td>\n      <td>2.472165</td>\n      <td>0.814077</td>\n      <td>0.814077</td>\n      <td>0.739691</td>\n      <td>0.800127</td>\n      <td>0.687744</td>\n      <td>0.661612</td>\n      <td>35519.0</td>\n      <td>560547.0</td>\n      <td>64558.0</td>\n      <td>142189.0</td>\n    </tr>\n  </tbody>\n</table>\n</div>"
     },
     "execution_count": 55,
     "metadata": {},
     "output_type": "execute_result"
    }
   ],
   "source": [
    "%%time\n",
    "train_and_evaluate_models_2(models, X_train, y_train['tracker'], X_test, y_test['tracker'], split2)"
   ],
   "metadata": {
    "collapsed": false,
    "ExecuteTime": {
     "end_time": "2023-05-03T15:01:17.441758Z",
     "start_time": "2023-05-03T14:58:31.474400Z"
    }
   }
  },
  {
   "cell_type": "code",
   "execution_count": 19,
   "outputs": [
    {
     "name": "stderr",
     "output_type": "stream",
     "text": [
      "/Users/wolfrieder/miniconda3/envs/code/lib/python3.9/site-packages/sklearn/base.py:318: UserWarning: Trying to unpickle estimator LabelEncoder from version 1.1.2 when using version 1.2.2. This might lead to breaking code or invalid results. Use at your own risk. For more info please refer to:\n",
      "https://scikit-learn.org/stable/model_persistence.html#security-maintainability-limitations\n",
      "  warnings.warn(\n"
     ]
    }
   ],
   "source": [
    "with open('../models/chrome/08_12_2022/lgbm_binary.sav', \"rb\") as f:\n",
    "    model = pickle.load(f)"
   ],
   "metadata": {
    "collapsed": false
   }
  },
  {
   "cell_type": "code",
   "execution_count": 21,
   "outputs": [
    {
     "data": {
      "text/plain": "        comb_col_non_tracker  comb_col_tracker  pragma_binary   \n0                          0                 0              0  \\\n1                          2                 0              0   \n2                          0                 0              1   \n3                          1                 0              1   \n4                          0                 0              0   \n...                      ...               ...            ...   \n271999                     5                 0              0   \n272000                     0                 0              1   \n272001                     0                 0              0   \n272002                     1                 0              0   \n272003                     5                 0              0   \n\n        content-type_binary  last-modified_binary  accept-ranges_binary   \n0                         1                     0                     0  \\\n1                         1                     1                     0   \n2                         1                     0                     0   \n3                         0                     0                     0   \n4                         1                     0                     0   \n...                     ...                   ...                   ...   \n271999                    1                     1                     1   \n272000                    0                     1                     0   \n272001                    1                     1                     1   \n272002                    1                     1                     1   \n272003                    1                     1                     0   \n\n        etag_binary  p3p_binary  x-xss-protection_binary   \n0                 1           1                        1  \\\n1                 0           0                        0   \n2                 0           1                        1   \n3                 0           0                        0   \n4                 0           0                        0   \n...             ...         ...                      ...   \n271999            1           0                        0   \n272000            0           0                        0   \n272001            1           0                        0   \n272002            1           0                        1   \n272003            1           0                        0   \n\n        x-content-type-options_binary  ...   \n0                                   1  ...  \\\n1                                   1  ...   \n2                                   1  ...   \n3                                   0  ...   \n4                                   0  ...   \n...                               ...  ...   \n271999                              0  ...   \n272000                              1  ...   \n272001                              0  ...   \n272002                              1  ...   \n272003                              0  ...   \n\n        x-amz-meta-codebuild-buildarn_binary   \n0                                          0  \\\n1                                          0   \n2                                          0   \n3                                          0   \n4                                          0   \n...                                      ...   \n271999                                     0   \n272000                                     0   \n272001                                     0   \n272002                                     0   \n272003                                     0   \n\n        x-amz-meta-codebuild-content-md5_binary  x-llid_binary   \n0                                             0              0  \\\n1                                             0              0   \n2                                             0              0   \n3                                             0              0   \n4                                             0              0   \n...                                         ...            ...   \n271999                                        0              0   \n272000                                        0              0   \n272001                                        0              0   \n272002                                        0              0   \n272003                                        0              0   \n\n        x-b3-sampled_binary  x-b3-spanid_binary   \n0                         0                   0  \\\n1                         0                   0   \n2                         0                   0   \n3                         0                   0   \n4                         0                   0   \n...                     ...                 ...   \n271999                    0                   0   \n272000                    0                   0   \n272001                    0                   0   \n272002                    0                   0   \n272003                    0                   0   \n\n        x-hubspot-correlation-id_binary  x-hs-target-asset_binary   \n0                                     0                         0  \\\n1                                     0                         0   \n2                                     0                         0   \n3                                     0                         0   \n4                                     0                         0   \n...                                 ...                       ...   \n271999                                0                         0   \n272000                                0                         0   \n272001                                0                         0   \n272002                                0                         0   \n272003                                0                         0   \n\n        x-hostname_binary  x-cdn-pop_binary  x-cdn-pop-ip_binary  \n0                       0                 0                    0  \n1                       0                 0                    0  \n2                       0                 0                    0  \n3                       0                 0                    0  \n4                       0                 0                    0  \n...                   ...               ...                  ...  \n271999                  0                 0                    0  \n272000                  0                 0                    0  \n272001                  0                 0                    0  \n272002                  0                 0                    0  \n272003                  0                 0                    0  \n\n[272004 rows x 152 columns]",
      "text/html": "<div>\n<style scoped>\n    .dataframe tbody tr th:only-of-type {\n        vertical-align: middle;\n    }\n\n    .dataframe tbody tr th {\n        vertical-align: top;\n    }\n\n    .dataframe thead th {\n        text-align: right;\n    }\n</style>\n<table border=\"1\" class=\"dataframe\">\n  <thead>\n    <tr style=\"text-align: right;\">\n      <th></th>\n      <th>comb_col_non_tracker</th>\n      <th>comb_col_tracker</th>\n      <th>pragma_binary</th>\n      <th>content-type_binary</th>\n      <th>last-modified_binary</th>\n      <th>accept-ranges_binary</th>\n      <th>etag_binary</th>\n      <th>p3p_binary</th>\n      <th>x-xss-protection_binary</th>\n      <th>x-content-type-options_binary</th>\n      <th>...</th>\n      <th>x-amz-meta-codebuild-buildarn_binary</th>\n      <th>x-amz-meta-codebuild-content-md5_binary</th>\n      <th>x-llid_binary</th>\n      <th>x-b3-sampled_binary</th>\n      <th>x-b3-spanid_binary</th>\n      <th>x-hubspot-correlation-id_binary</th>\n      <th>x-hs-target-asset_binary</th>\n      <th>x-hostname_binary</th>\n      <th>x-cdn-pop_binary</th>\n      <th>x-cdn-pop-ip_binary</th>\n    </tr>\n  </thead>\n  <tbody>\n    <tr>\n      <th>0</th>\n      <td>0</td>\n      <td>0</td>\n      <td>0</td>\n      <td>1</td>\n      <td>0</td>\n      <td>0</td>\n      <td>1</td>\n      <td>1</td>\n      <td>1</td>\n      <td>1</td>\n      <td>...</td>\n      <td>0</td>\n      <td>0</td>\n      <td>0</td>\n      <td>0</td>\n      <td>0</td>\n      <td>0</td>\n      <td>0</td>\n      <td>0</td>\n      <td>0</td>\n      <td>0</td>\n    </tr>\n    <tr>\n      <th>1</th>\n      <td>2</td>\n      <td>0</td>\n      <td>0</td>\n      <td>1</td>\n      <td>1</td>\n      <td>0</td>\n      <td>0</td>\n      <td>0</td>\n      <td>0</td>\n      <td>1</td>\n      <td>...</td>\n      <td>0</td>\n      <td>0</td>\n      <td>0</td>\n      <td>0</td>\n      <td>0</td>\n      <td>0</td>\n      <td>0</td>\n      <td>0</td>\n      <td>0</td>\n      <td>0</td>\n    </tr>\n    <tr>\n      <th>2</th>\n      <td>0</td>\n      <td>0</td>\n      <td>1</td>\n      <td>1</td>\n      <td>0</td>\n      <td>0</td>\n      <td>0</td>\n      <td>1</td>\n      <td>1</td>\n      <td>1</td>\n      <td>...</td>\n      <td>0</td>\n      <td>0</td>\n      <td>0</td>\n      <td>0</td>\n      <td>0</td>\n      <td>0</td>\n      <td>0</td>\n      <td>0</td>\n      <td>0</td>\n      <td>0</td>\n    </tr>\n    <tr>\n      <th>3</th>\n      <td>1</td>\n      <td>0</td>\n      <td>1</td>\n      <td>0</td>\n      <td>0</td>\n      <td>0</td>\n      <td>0</td>\n      <td>0</td>\n      <td>0</td>\n      <td>0</td>\n      <td>...</td>\n      <td>0</td>\n      <td>0</td>\n      <td>0</td>\n      <td>0</td>\n      <td>0</td>\n      <td>0</td>\n      <td>0</td>\n      <td>0</td>\n      <td>0</td>\n      <td>0</td>\n    </tr>\n    <tr>\n      <th>4</th>\n      <td>0</td>\n      <td>0</td>\n      <td>0</td>\n      <td>1</td>\n      <td>0</td>\n      <td>0</td>\n      <td>0</td>\n      <td>0</td>\n      <td>0</td>\n      <td>0</td>\n      <td>...</td>\n      <td>0</td>\n      <td>0</td>\n      <td>0</td>\n      <td>0</td>\n      <td>0</td>\n      <td>0</td>\n      <td>0</td>\n      <td>0</td>\n      <td>0</td>\n      <td>0</td>\n    </tr>\n    <tr>\n      <th>...</th>\n      <td>...</td>\n      <td>...</td>\n      <td>...</td>\n      <td>...</td>\n      <td>...</td>\n      <td>...</td>\n      <td>...</td>\n      <td>...</td>\n      <td>...</td>\n      <td>...</td>\n      <td>...</td>\n      <td>...</td>\n      <td>...</td>\n      <td>...</td>\n      <td>...</td>\n      <td>...</td>\n      <td>...</td>\n      <td>...</td>\n      <td>...</td>\n      <td>...</td>\n      <td>...</td>\n    </tr>\n    <tr>\n      <th>271999</th>\n      <td>5</td>\n      <td>0</td>\n      <td>0</td>\n      <td>1</td>\n      <td>1</td>\n      <td>1</td>\n      <td>1</td>\n      <td>0</td>\n      <td>0</td>\n      <td>0</td>\n      <td>...</td>\n      <td>0</td>\n      <td>0</td>\n      <td>0</td>\n      <td>0</td>\n      <td>0</td>\n      <td>0</td>\n      <td>0</td>\n      <td>0</td>\n      <td>0</td>\n      <td>0</td>\n    </tr>\n    <tr>\n      <th>272000</th>\n      <td>0</td>\n      <td>0</td>\n      <td>1</td>\n      <td>0</td>\n      <td>1</td>\n      <td>0</td>\n      <td>0</td>\n      <td>0</td>\n      <td>0</td>\n      <td>1</td>\n      <td>...</td>\n      <td>0</td>\n      <td>0</td>\n      <td>0</td>\n      <td>0</td>\n      <td>0</td>\n      <td>0</td>\n      <td>0</td>\n      <td>0</td>\n      <td>0</td>\n      <td>0</td>\n    </tr>\n    <tr>\n      <th>272001</th>\n      <td>0</td>\n      <td>0</td>\n      <td>0</td>\n      <td>1</td>\n      <td>1</td>\n      <td>1</td>\n      <td>1</td>\n      <td>0</td>\n      <td>0</td>\n      <td>0</td>\n      <td>...</td>\n      <td>0</td>\n      <td>0</td>\n      <td>0</td>\n      <td>0</td>\n      <td>0</td>\n      <td>0</td>\n      <td>0</td>\n      <td>0</td>\n      <td>0</td>\n      <td>0</td>\n    </tr>\n    <tr>\n      <th>272002</th>\n      <td>1</td>\n      <td>0</td>\n      <td>0</td>\n      <td>1</td>\n      <td>1</td>\n      <td>1</td>\n      <td>1</td>\n      <td>0</td>\n      <td>1</td>\n      <td>1</td>\n      <td>...</td>\n      <td>0</td>\n      <td>0</td>\n      <td>0</td>\n      <td>0</td>\n      <td>0</td>\n      <td>0</td>\n      <td>0</td>\n      <td>0</td>\n      <td>0</td>\n      <td>0</td>\n    </tr>\n    <tr>\n      <th>272003</th>\n      <td>5</td>\n      <td>0</td>\n      <td>0</td>\n      <td>1</td>\n      <td>1</td>\n      <td>0</td>\n      <td>1</td>\n      <td>0</td>\n      <td>0</td>\n      <td>0</td>\n      <td>...</td>\n      <td>0</td>\n      <td>0</td>\n      <td>0</td>\n      <td>0</td>\n      <td>0</td>\n      <td>0</td>\n      <td>0</td>\n      <td>0</td>\n      <td>0</td>\n      <td>0</td>\n    </tr>\n  </tbody>\n</table>\n<p>272004 rows × 152 columns</p>\n</div>"
     },
     "execution_count": 21,
     "metadata": {},
     "output_type": "execute_result"
    }
   ],
   "source": [
    "X_train"
   ],
   "metadata": {
    "collapsed": false
   }
  },
  {
   "cell_type": "code",
   "execution_count": 20,
   "outputs": [
    {
     "data": {
      "text/plain": "array([62, 33, 69, 79, 52, 65, 25, 52, 92, 22, 69, 99, 66, 68,  2, 65, 63,\n       37, 22, 75, 59, 34, 16,  9, 67,  9,  2,  5,  0, 45, 29, 32, 12, 22,\n       40, 69, 97, 34, 35, 85, 51, 32, 19, 87, 37, 52, 26, 75, 22, 27, 94,\n       18, 18, 55, 11, 21, 11, 15, 10,  0,  8, 10, 17,  9, 21, 19,  0,  9,\n       26,  7,  6, 12,  3, 11, 25,  3,  1, 18,  1,  4,  4,  1, 10, 16,  2,\n        0,  2,  2, 15,  0, 10, 11,  0,  1, 25,  1, 22,  6,  2,  0,  0,  0,\n        0, 20, 18,  5,  2,  6,  0, 13,  5,  0,  0, 13,  0,  0,  0,  0,  0,\n        0,  0,  1,  0,  0,  0,  2,  3,  0, 11, 10,  9,  0,  9,  2,  1,  3,\n        0,  0,  6,  2,  1,  0,  4,  0,  0,  7,  5,  0,  3,  0],\n      dtype=int32)"
     },
     "execution_count": 20,
     "metadata": {},
     "output_type": "execute_result"
    }
   ],
   "source": [
    "model.feature_importances_"
   ],
   "metadata": {
    "collapsed": false
   }
  },
  {
   "cell_type": "markdown",
   "source": [
    "# ANCIENT CODE"
   ],
   "metadata": {
    "collapsed": false
   }
  },
  {
   "cell_type": "code",
   "execution_count": 118,
   "outputs": [],
   "source": [
    "firefox = pd.read_parquet('../data/processed/firefox/08_12_2022/test_set_01_processed.parquet.gzip')"
   ],
   "metadata": {
    "collapsed": false
   }
  },
  {
   "cell_type": "code",
   "execution_count": 119,
   "outputs": [
    {
     "data": {
      "text/plain": "                            hostname  \\\n0                         vuukle.com   \n1                         vuukle.com   \n2                         vuukle.com   \n3                         vuukle.com   \n4           cookie-cdn.cookiepro.com   \n...                              ...   \n498363      nt.global.ssl.fastly.net   \n498364  region1.google-analytics.com   \n498365  region1.google-analytics.com   \n498366      nt.global.ssl.fastly.net   \n498367      nt.global.ssl.fastly.net   \n\n                                                 pathname    filetype  \\\n0                               /a3a95d10e1d03fe77d6b.png         png   \n1                            /589.1b85456a4e062e8d6232.js          js   \n2                               /29eab20501ed73f16eba.jpg         jpg   \n3                               /22ab1ea08fc1962409f1.png         png   \n4                        /scripttemplates/6.19.0/otTCF.js          js   \n...                                                   ...         ...   \n498363                  /images/1431839055959-1428713.jpg         jpg   \n498364                                         /g/collect  /g/collect   \n498365                                         /g/collect  /g/collect   \n498366  /images/1431846945741-petworthbeautiesbeautyro...         jpg   \n498367  /images/1431916578538-porthmearbarn-livingarea...         jpg   \n\n                                                 filename  \\\n0                                a3a95d10e1d03fe77d6b.png   \n1                             589.1b85456a4e062e8d6232.js   \n2                                29eab20501ed73f16eba.jpg   \n3                                22ab1ea08fc1962409f1.png   \n4                                                otTCF.js   \n...                                                   ...   \n498363                          1431839055959-1428713.jpg   \n498364                                            collect   \n498365                                            collect   \n498366       1431846945741-petworthbeautiesbeautyroom.jpg   \n498367  1431916578538-porthmearbarn-livingarea-mikehen...   \n\n                                 date            content-type  content-length  \\\n0       fri, 12 aug 2022 22:10:52 gmt              image/webp           15780   \n1       fri, 12 aug 2022 22:10:52 gmt  application/javascript            1539   \n2       fri, 12 aug 2022 22:10:52 gmt              image/webp            9952   \n3       fri, 12 aug 2022 22:10:52 gmt              image/webp           41109   \n4       fri, 12 aug 2022 22:10:52 gmt  application/javascript            <NA>   \n...                               ...                     ...             ...   \n498363  fri, 12 aug 2022 17:28:58 gmt              image/webp             230   \n498364  fri, 12 aug 2022 17:28:58 gmt              text/plain               0   \n498365  fri, 12 aug 2022 17:28:58 gmt              text/plain               0   \n498366  fri, 12 aug 2022 17:28:58 gmt              image/webp             206   \n498367  fri, 12 aug 2022 17:28:58 gmt              image/webp             186   \n\n                              cache-control  \\\n0                      public, max-age=7200   \n1                      public, max-age=7200   \n2                      public, max-age=7200   \n3                      public, max-age=7200   \n4                     public, max-age=14400   \n...                                     ...   \n498363                                  NaN   \n498364  no-cache, no-store, must-revalidate   \n498365  no-cache, no-store, must-revalidate   \n498366                                  NaN   \n498367                                  NaN   \n\n                                      content-disposition  \\\n0            inline; filename=\"a3a95d10e1d03fe77d6b.webp\"   \n1                                                     NaN   \n2            inline; filename=\"29eab20501ed73f16eba.webp\"   \n3            inline; filename=\"22ab1ea08fc1962409f1.webp\"   \n4                                                     NaN   \n...                                                   ...   \n498363  inline;filename=1428713.jpg;filename*=utf-8''1...   \n498364                                                NaN   \n498365                                                NaN   \n498366  inline;filename=petworthbeauties_beautyroom.jp...   \n498367  inline;filename=porthmearbarn-livingarea-mikeh...   \n\n                                                 etag  ... x-via-ssl  \\\n0                  \"a76e19b58c5103936ca99a64e6c1d71d\"  ...       NaN   \n1                w/\"573591b2d822f76e9fa661dcdc83c284\"  ...       NaN   \n2                  \"97fe776c2cbd2cbaa24192f89eaefc74\"  ...       NaN   \n3                  \"6193272dc9caf2486c404218e1380542\"  ...       NaN   \n4                                                 NaN  ...       NaN   \n...                                               ...  ...       ...   \n498363  \"lp0kw1rx62w0lmnah1yusy/dyxtczm9x1svbssqydcu\"  ...       NaN   \n498364                                            NaN  ...       NaN   \n498365                                            NaN  ...       NaN   \n498366  \"a+x3kgq0g9qfmdlswkdp6yvat8wg4xh1vd6lv4reg+o\"  ...       NaN   \n498367  \"lbpv4w5y6co+pvn5k4jlxuabj/irpfemcsmusla4now\"  ...       NaN   \n\n       request-time access-control-request-method fss-proxy  x-dc x-llid  \\\n0               NaN                           NaN       NaN   NaN    NaN   \n1               NaN                           NaN       NaN   NaN    NaN   \n2               NaN                           NaN       NaN   NaN    NaN   \n3               NaN                           NaN       NaN   NaN    NaN   \n4               NaN                           NaN       NaN   NaN    NaN   \n...             ...                           ...       ...   ...    ...   \n498363          NaN                           NaN       NaN   NaN    NaN   \n498364          NaN                           NaN       NaN   NaN    NaN   \n498365          NaN                           NaN       NaN   NaN    NaN   \n498366          NaN                           NaN       NaN   NaN    NaN   \n498367          NaN                           NaN       NaN   NaN    NaN   \n\n       x-b3-sampled tracker comb_col_non_tracker comb_col_tracker  \n0               NaN       0                    3                0  \n1               NaN       0                    2                0  \n2               NaN       0                    3                0  \n3               NaN       0                    3                0  \n4               NaN       0                    4                0  \n...             ...     ...                  ...              ...  \n498363          NaN       0                    3                0  \n498364          NaN       1                    0                0  \n498365          NaN       1                    0                0  \n498366          NaN       0                    3                0  \n498367          NaN       0                    3                0  \n\n[498368 rows x 157 columns]",
      "text/html": "<div>\n<style scoped>\n    .dataframe tbody tr th:only-of-type {\n        vertical-align: middle;\n    }\n\n    .dataframe tbody tr th {\n        vertical-align: top;\n    }\n\n    .dataframe thead th {\n        text-align: right;\n    }\n</style>\n<table border=\"1\" class=\"dataframe\">\n  <thead>\n    <tr style=\"text-align: right;\">\n      <th></th>\n      <th>hostname</th>\n      <th>pathname</th>\n      <th>filetype</th>\n      <th>filename</th>\n      <th>date</th>\n      <th>content-type</th>\n      <th>content-length</th>\n      <th>cache-control</th>\n      <th>content-disposition</th>\n      <th>etag</th>\n      <th>...</th>\n      <th>x-via-ssl</th>\n      <th>request-time</th>\n      <th>access-control-request-method</th>\n      <th>fss-proxy</th>\n      <th>x-dc</th>\n      <th>x-llid</th>\n      <th>x-b3-sampled</th>\n      <th>tracker</th>\n      <th>comb_col_non_tracker</th>\n      <th>comb_col_tracker</th>\n    </tr>\n  </thead>\n  <tbody>\n    <tr>\n      <th>0</th>\n      <td>vuukle.com</td>\n      <td>/a3a95d10e1d03fe77d6b.png</td>\n      <td>png</td>\n      <td>a3a95d10e1d03fe77d6b.png</td>\n      <td>fri, 12 aug 2022 22:10:52 gmt</td>\n      <td>image/webp</td>\n      <td>15780</td>\n      <td>public, max-age=7200</td>\n      <td>inline; filename=\"a3a95d10e1d03fe77d6b.webp\"</td>\n      <td>\"a76e19b58c5103936ca99a64e6c1d71d\"</td>\n      <td>...</td>\n      <td>NaN</td>\n      <td>NaN</td>\n      <td>NaN</td>\n      <td>NaN</td>\n      <td>NaN</td>\n      <td>NaN</td>\n      <td>NaN</td>\n      <td>0</td>\n      <td>3</td>\n      <td>0</td>\n    </tr>\n    <tr>\n      <th>1</th>\n      <td>vuukle.com</td>\n      <td>/589.1b85456a4e062e8d6232.js</td>\n      <td>js</td>\n      <td>589.1b85456a4e062e8d6232.js</td>\n      <td>fri, 12 aug 2022 22:10:52 gmt</td>\n      <td>application/javascript</td>\n      <td>1539</td>\n      <td>public, max-age=7200</td>\n      <td>NaN</td>\n      <td>w/\"573591b2d822f76e9fa661dcdc83c284\"</td>\n      <td>...</td>\n      <td>NaN</td>\n      <td>NaN</td>\n      <td>NaN</td>\n      <td>NaN</td>\n      <td>NaN</td>\n      <td>NaN</td>\n      <td>NaN</td>\n      <td>0</td>\n      <td>2</td>\n      <td>0</td>\n    </tr>\n    <tr>\n      <th>2</th>\n      <td>vuukle.com</td>\n      <td>/29eab20501ed73f16eba.jpg</td>\n      <td>jpg</td>\n      <td>29eab20501ed73f16eba.jpg</td>\n      <td>fri, 12 aug 2022 22:10:52 gmt</td>\n      <td>image/webp</td>\n      <td>9952</td>\n      <td>public, max-age=7200</td>\n      <td>inline; filename=\"29eab20501ed73f16eba.webp\"</td>\n      <td>\"97fe776c2cbd2cbaa24192f89eaefc74\"</td>\n      <td>...</td>\n      <td>NaN</td>\n      <td>NaN</td>\n      <td>NaN</td>\n      <td>NaN</td>\n      <td>NaN</td>\n      <td>NaN</td>\n      <td>NaN</td>\n      <td>0</td>\n      <td>3</td>\n      <td>0</td>\n    </tr>\n    <tr>\n      <th>3</th>\n      <td>vuukle.com</td>\n      <td>/22ab1ea08fc1962409f1.png</td>\n      <td>png</td>\n      <td>22ab1ea08fc1962409f1.png</td>\n      <td>fri, 12 aug 2022 22:10:52 gmt</td>\n      <td>image/webp</td>\n      <td>41109</td>\n      <td>public, max-age=7200</td>\n      <td>inline; filename=\"22ab1ea08fc1962409f1.webp\"</td>\n      <td>\"6193272dc9caf2486c404218e1380542\"</td>\n      <td>...</td>\n      <td>NaN</td>\n      <td>NaN</td>\n      <td>NaN</td>\n      <td>NaN</td>\n      <td>NaN</td>\n      <td>NaN</td>\n      <td>NaN</td>\n      <td>0</td>\n      <td>3</td>\n      <td>0</td>\n    </tr>\n    <tr>\n      <th>4</th>\n      <td>cookie-cdn.cookiepro.com</td>\n      <td>/scripttemplates/6.19.0/otTCF.js</td>\n      <td>js</td>\n      <td>otTCF.js</td>\n      <td>fri, 12 aug 2022 22:10:52 gmt</td>\n      <td>application/javascript</td>\n      <td>&lt;NA&gt;</td>\n      <td>public, max-age=14400</td>\n      <td>NaN</td>\n      <td>NaN</td>\n      <td>...</td>\n      <td>NaN</td>\n      <td>NaN</td>\n      <td>NaN</td>\n      <td>NaN</td>\n      <td>NaN</td>\n      <td>NaN</td>\n      <td>NaN</td>\n      <td>0</td>\n      <td>4</td>\n      <td>0</td>\n    </tr>\n    <tr>\n      <th>...</th>\n      <td>...</td>\n      <td>...</td>\n      <td>...</td>\n      <td>...</td>\n      <td>...</td>\n      <td>...</td>\n      <td>...</td>\n      <td>...</td>\n      <td>...</td>\n      <td>...</td>\n      <td>...</td>\n      <td>...</td>\n      <td>...</td>\n      <td>...</td>\n      <td>...</td>\n      <td>...</td>\n      <td>...</td>\n      <td>...</td>\n      <td>...</td>\n      <td>...</td>\n      <td>...</td>\n    </tr>\n    <tr>\n      <th>498363</th>\n      <td>nt.global.ssl.fastly.net</td>\n      <td>/images/1431839055959-1428713.jpg</td>\n      <td>jpg</td>\n      <td>1431839055959-1428713.jpg</td>\n      <td>fri, 12 aug 2022 17:28:58 gmt</td>\n      <td>image/webp</td>\n      <td>230</td>\n      <td>NaN</td>\n      <td>inline;filename=1428713.jpg;filename*=utf-8''1...</td>\n      <td>\"lp0kw1rx62w0lmnah1yusy/dyxtczm9x1svbssqydcu\"</td>\n      <td>...</td>\n      <td>NaN</td>\n      <td>NaN</td>\n      <td>NaN</td>\n      <td>NaN</td>\n      <td>NaN</td>\n      <td>NaN</td>\n      <td>NaN</td>\n      <td>0</td>\n      <td>3</td>\n      <td>0</td>\n    </tr>\n    <tr>\n      <th>498364</th>\n      <td>region1.google-analytics.com</td>\n      <td>/g/collect</td>\n      <td>/g/collect</td>\n      <td>collect</td>\n      <td>fri, 12 aug 2022 17:28:58 gmt</td>\n      <td>text/plain</td>\n      <td>0</td>\n      <td>no-cache, no-store, must-revalidate</td>\n      <td>NaN</td>\n      <td>NaN</td>\n      <td>...</td>\n      <td>NaN</td>\n      <td>NaN</td>\n      <td>NaN</td>\n      <td>NaN</td>\n      <td>NaN</td>\n      <td>NaN</td>\n      <td>NaN</td>\n      <td>1</td>\n      <td>0</td>\n      <td>0</td>\n    </tr>\n    <tr>\n      <th>498365</th>\n      <td>region1.google-analytics.com</td>\n      <td>/g/collect</td>\n      <td>/g/collect</td>\n      <td>collect</td>\n      <td>fri, 12 aug 2022 17:28:58 gmt</td>\n      <td>text/plain</td>\n      <td>0</td>\n      <td>no-cache, no-store, must-revalidate</td>\n      <td>NaN</td>\n      <td>NaN</td>\n      <td>...</td>\n      <td>NaN</td>\n      <td>NaN</td>\n      <td>NaN</td>\n      <td>NaN</td>\n      <td>NaN</td>\n      <td>NaN</td>\n      <td>NaN</td>\n      <td>1</td>\n      <td>0</td>\n      <td>0</td>\n    </tr>\n    <tr>\n      <th>498366</th>\n      <td>nt.global.ssl.fastly.net</td>\n      <td>/images/1431846945741-petworthbeautiesbeautyro...</td>\n      <td>jpg</td>\n      <td>1431846945741-petworthbeautiesbeautyroom.jpg</td>\n      <td>fri, 12 aug 2022 17:28:58 gmt</td>\n      <td>image/webp</td>\n      <td>206</td>\n      <td>NaN</td>\n      <td>inline;filename=petworthbeauties_beautyroom.jp...</td>\n      <td>\"a+x3kgq0g9qfmdlswkdp6yvat8wg4xh1vd6lv4reg+o\"</td>\n      <td>...</td>\n      <td>NaN</td>\n      <td>NaN</td>\n      <td>NaN</td>\n      <td>NaN</td>\n      <td>NaN</td>\n      <td>NaN</td>\n      <td>NaN</td>\n      <td>0</td>\n      <td>3</td>\n      <td>0</td>\n    </tr>\n    <tr>\n      <th>498367</th>\n      <td>nt.global.ssl.fastly.net</td>\n      <td>/images/1431916578538-porthmearbarn-livingarea...</td>\n      <td>jpg</td>\n      <td>1431916578538-porthmearbarn-livingarea-mikehen...</td>\n      <td>fri, 12 aug 2022 17:28:58 gmt</td>\n      <td>image/webp</td>\n      <td>186</td>\n      <td>NaN</td>\n      <td>inline;filename=porthmearbarn-livingarea-mikeh...</td>\n      <td>\"lbpv4w5y6co+pvn5k4jlxuabj/irpfemcsmusla4now\"</td>\n      <td>...</td>\n      <td>NaN</td>\n      <td>NaN</td>\n      <td>NaN</td>\n      <td>NaN</td>\n      <td>NaN</td>\n      <td>NaN</td>\n      <td>NaN</td>\n      <td>0</td>\n      <td>3</td>\n      <td>0</td>\n    </tr>\n  </tbody>\n</table>\n<p>498368 rows × 157 columns</p>\n</div>"
     },
     "execution_count": 119,
     "metadata": {},
     "output_type": "execute_result"
    }
   ],
   "source": [
    "firefox"
   ],
   "metadata": {
    "collapsed": false
   }
  },
  {
   "cell_type": "code",
   "execution_count": 121,
   "outputs": [
    {
     "data": {
      "text/plain": "        pragma_binary  content-type_binary  last-modified_binary  \\\n0                   0                    1                     0   \n1                   1                    1                     0   \n2                   1                    1                     0   \n3                   1                    1                     0   \n4                   1                    1                     1   \n...               ...                  ...                   ...   \n564658              0                    1                     0   \n564659              0                    1                     1   \n564660              0                    1                     1   \n564661              0                    1                     1   \n564662              0                    1                     1   \n\n        accept-ranges_binary  etag_binary  p3p_binary  \\\n0                          0            0           1   \n1                          0            0           1   \n2                          0            0           0   \n3                          0            0           0   \n4                          0            0           0   \n...                      ...          ...         ...   \n564658                     0            0           0   \n564659                     0            1           0   \n564660                     0            1           0   \n564661                     0            1           0   \n564662                     1            1           0   \n\n        x-xss-protection_binary  x-content-type-options_binary  \\\n0                             1                              0   \n1                             1                              1   \n2                             1                              1   \n3                             1                              1   \n4                             1                              1   \n...                         ...                            ...   \n564658                        0                              1   \n564659                        0                              1   \n564660                        0                              1   \n564661                        0                              1   \n564662                        0                              1   \n\n        strict-transport-security_binary  x-robots-tag_binary  ...  \\\n0                                      1                    0  ...   \n1                                      1                    0  ...   \n2                                      1                    0  ...   \n3                                      1                    0  ...   \n4                                      1                    0  ...   \n...                                  ...                  ...  ...   \n564658                                 1                    0  ...   \n564659                                 1                    0  ...   \n564660                                 1                    0  ...   \n564661                                 1                    0  ...   \n564662                                 1                    0  ...   \n\n        x-amz-meta-codebuild-buildarn_binary  \\\n0                                          0   \n1                                          0   \n2                                          0   \n3                                          0   \n4                                          0   \n...                                      ...   \n564658                                     0   \n564659                                     0   \n564660                                     0   \n564661                                     0   \n564662                                     0   \n\n        x-amz-meta-codebuild-content-md5_binary  x-llid_binary  \\\n0                                             0              0   \n1                                             0              0   \n2                                             0              0   \n3                                             0              0   \n4                                             0              0   \n...                                         ...            ...   \n564658                                        0              0   \n564659                                        0              0   \n564660                                        0              0   \n564661                                        0              0   \n564662                                        0              0   \n\n        x-b3-sampled_binary  x-b3-spanid_binary  \\\n0                         0                   0   \n1                         0                   0   \n2                         0                   0   \n3                         0                   0   \n4                         0                   0   \n...                     ...                 ...   \n564658                    0                   0   \n564659                    0                   0   \n564660                    0                   0   \n564661                    0                   0   \n564662                    0                   0   \n\n        x-hubspot-correlation-id_binary  x-hs-target-asset_binary  \\\n0                                     0                         0   \n1                                     0                         0   \n2                                     0                         0   \n3                                     0                         0   \n4                                     0                         0   \n...                                 ...                       ...   \n564658                                0                         0   \n564659                                0                         0   \n564660                                0                         0   \n564661                                0                         0   \n564662                                0                         0   \n\n        x-hostname_binary  x-cdn-pop_binary  x-cdn-pop-ip_binary  \n0                       0                 0                    0  \n1                       0                 0                    0  \n2                       0                 0                    0  \n3                       0                 0                    0  \n4                       0                 0                    0  \n...                   ...               ...                  ...  \n564658                  0                 0                    0  \n564659                  0                 0                    0  \n564660                  0                 0                    0  \n564661                  0                 0                    0  \n564662                  0                 0                    0  \n\n[564663 rows x 150 columns]",
      "text/html": "<div>\n<style scoped>\n    .dataframe tbody tr th:only-of-type {\n        vertical-align: middle;\n    }\n\n    .dataframe tbody tr th {\n        vertical-align: top;\n    }\n\n    .dataframe thead th {\n        text-align: right;\n    }\n</style>\n<table border=\"1\" class=\"dataframe\">\n  <thead>\n    <tr style=\"text-align: right;\">\n      <th></th>\n      <th>pragma_binary</th>\n      <th>content-type_binary</th>\n      <th>last-modified_binary</th>\n      <th>accept-ranges_binary</th>\n      <th>etag_binary</th>\n      <th>p3p_binary</th>\n      <th>x-xss-protection_binary</th>\n      <th>x-content-type-options_binary</th>\n      <th>strict-transport-security_binary</th>\n      <th>x-robots-tag_binary</th>\n      <th>...</th>\n      <th>x-amz-meta-codebuild-buildarn_binary</th>\n      <th>x-amz-meta-codebuild-content-md5_binary</th>\n      <th>x-llid_binary</th>\n      <th>x-b3-sampled_binary</th>\n      <th>x-b3-spanid_binary</th>\n      <th>x-hubspot-correlation-id_binary</th>\n      <th>x-hs-target-asset_binary</th>\n      <th>x-hostname_binary</th>\n      <th>x-cdn-pop_binary</th>\n      <th>x-cdn-pop-ip_binary</th>\n    </tr>\n  </thead>\n  <tbody>\n    <tr>\n      <th>0</th>\n      <td>0</td>\n      <td>1</td>\n      <td>0</td>\n      <td>0</td>\n      <td>0</td>\n      <td>1</td>\n      <td>1</td>\n      <td>0</td>\n      <td>1</td>\n      <td>0</td>\n      <td>...</td>\n      <td>0</td>\n      <td>0</td>\n      <td>0</td>\n      <td>0</td>\n      <td>0</td>\n      <td>0</td>\n      <td>0</td>\n      <td>0</td>\n      <td>0</td>\n      <td>0</td>\n    </tr>\n    <tr>\n      <th>1</th>\n      <td>1</td>\n      <td>1</td>\n      <td>0</td>\n      <td>0</td>\n      <td>0</td>\n      <td>1</td>\n      <td>1</td>\n      <td>1</td>\n      <td>1</td>\n      <td>0</td>\n      <td>...</td>\n      <td>0</td>\n      <td>0</td>\n      <td>0</td>\n      <td>0</td>\n      <td>0</td>\n      <td>0</td>\n      <td>0</td>\n      <td>0</td>\n      <td>0</td>\n      <td>0</td>\n    </tr>\n    <tr>\n      <th>2</th>\n      <td>1</td>\n      <td>1</td>\n      <td>0</td>\n      <td>0</td>\n      <td>0</td>\n      <td>0</td>\n      <td>1</td>\n      <td>1</td>\n      <td>1</td>\n      <td>0</td>\n      <td>...</td>\n      <td>0</td>\n      <td>0</td>\n      <td>0</td>\n      <td>0</td>\n      <td>0</td>\n      <td>0</td>\n      <td>0</td>\n      <td>0</td>\n      <td>0</td>\n      <td>0</td>\n    </tr>\n    <tr>\n      <th>3</th>\n      <td>1</td>\n      <td>1</td>\n      <td>0</td>\n      <td>0</td>\n      <td>0</td>\n      <td>0</td>\n      <td>1</td>\n      <td>1</td>\n      <td>1</td>\n      <td>0</td>\n      <td>...</td>\n      <td>0</td>\n      <td>0</td>\n      <td>0</td>\n      <td>0</td>\n      <td>0</td>\n      <td>0</td>\n      <td>0</td>\n      <td>0</td>\n      <td>0</td>\n      <td>0</td>\n    </tr>\n    <tr>\n      <th>4</th>\n      <td>1</td>\n      <td>1</td>\n      <td>1</td>\n      <td>0</td>\n      <td>0</td>\n      <td>0</td>\n      <td>1</td>\n      <td>1</td>\n      <td>1</td>\n      <td>0</td>\n      <td>...</td>\n      <td>0</td>\n      <td>0</td>\n      <td>0</td>\n      <td>0</td>\n      <td>0</td>\n      <td>0</td>\n      <td>0</td>\n      <td>0</td>\n      <td>0</td>\n      <td>0</td>\n    </tr>\n    <tr>\n      <th>...</th>\n      <td>...</td>\n      <td>...</td>\n      <td>...</td>\n      <td>...</td>\n      <td>...</td>\n      <td>...</td>\n      <td>...</td>\n      <td>...</td>\n      <td>...</td>\n      <td>...</td>\n      <td>...</td>\n      <td>...</td>\n      <td>...</td>\n      <td>...</td>\n      <td>...</td>\n      <td>...</td>\n      <td>...</td>\n      <td>...</td>\n      <td>...</td>\n      <td>...</td>\n      <td>...</td>\n    </tr>\n    <tr>\n      <th>564658</th>\n      <td>0</td>\n      <td>1</td>\n      <td>0</td>\n      <td>0</td>\n      <td>0</td>\n      <td>0</td>\n      <td>0</td>\n      <td>1</td>\n      <td>1</td>\n      <td>0</td>\n      <td>...</td>\n      <td>0</td>\n      <td>0</td>\n      <td>0</td>\n      <td>0</td>\n      <td>0</td>\n      <td>0</td>\n      <td>0</td>\n      <td>0</td>\n      <td>0</td>\n      <td>0</td>\n    </tr>\n    <tr>\n      <th>564659</th>\n      <td>0</td>\n      <td>1</td>\n      <td>1</td>\n      <td>0</td>\n      <td>1</td>\n      <td>0</td>\n      <td>0</td>\n      <td>1</td>\n      <td>1</td>\n      <td>0</td>\n      <td>...</td>\n      <td>0</td>\n      <td>0</td>\n      <td>0</td>\n      <td>0</td>\n      <td>0</td>\n      <td>0</td>\n      <td>0</td>\n      <td>0</td>\n      <td>0</td>\n      <td>0</td>\n    </tr>\n    <tr>\n      <th>564660</th>\n      <td>0</td>\n      <td>1</td>\n      <td>1</td>\n      <td>0</td>\n      <td>1</td>\n      <td>0</td>\n      <td>0</td>\n      <td>1</td>\n      <td>1</td>\n      <td>0</td>\n      <td>...</td>\n      <td>0</td>\n      <td>0</td>\n      <td>0</td>\n      <td>0</td>\n      <td>0</td>\n      <td>0</td>\n      <td>0</td>\n      <td>0</td>\n      <td>0</td>\n      <td>0</td>\n    </tr>\n    <tr>\n      <th>564661</th>\n      <td>0</td>\n      <td>1</td>\n      <td>1</td>\n      <td>0</td>\n      <td>1</td>\n      <td>0</td>\n      <td>0</td>\n      <td>1</td>\n      <td>1</td>\n      <td>0</td>\n      <td>...</td>\n      <td>0</td>\n      <td>0</td>\n      <td>0</td>\n      <td>0</td>\n      <td>0</td>\n      <td>0</td>\n      <td>0</td>\n      <td>0</td>\n      <td>0</td>\n      <td>0</td>\n    </tr>\n    <tr>\n      <th>564662</th>\n      <td>0</td>\n      <td>1</td>\n      <td>1</td>\n      <td>1</td>\n      <td>1</td>\n      <td>0</td>\n      <td>0</td>\n      <td>1</td>\n      <td>1</td>\n      <td>0</td>\n      <td>...</td>\n      <td>0</td>\n      <td>0</td>\n      <td>0</td>\n      <td>0</td>\n      <td>0</td>\n      <td>0</td>\n      <td>0</td>\n      <td>0</td>\n      <td>0</td>\n      <td>0</td>\n    </tr>\n  </tbody>\n</table>\n<p>564663 rows × 150 columns</p>\n</div>"
     },
     "execution_count": 121,
     "metadata": {},
     "output_type": "execute_result"
    }
   ],
   "source": [
    "X_test"
   ],
   "metadata": {
    "collapsed": false
   }
  },
  {
   "cell_type": "code",
   "execution_count": 3,
   "outputs": [],
   "source": [
    "train_data = pd.read_parquet(\n",
    "        \"../data/processed/chrome/08_12_2022/train_set_01_featurized.parquet.gzip\"\n",
    "    )\n",
    "# X_train, y_train = train_data.iloc[:, :-1], train_data[[\"tracker\"]]"
   ],
   "metadata": {
    "collapsed": false
   }
  },
  {
   "cell_type": "code",
   "execution_count": null,
   "outputs": [],
   "source": [
    "test_data = pd.read_parquet(\n",
    "    \"../data/processed/chrome/08_12_2022/test_set_01_featurized.parquet.gzip\"\n",
    "    )\n",
    "# X_test, y_test = test_data.iloc[:, :-1], test_data[[\"tracker\"]]"
   ],
   "metadata": {
    "collapsed": false
   }
  },
  {
   "cell_type": "code",
   "execution_count": 2,
   "outputs": [],
   "source": [
    "from typing import Dict, List, Tuple\n",
    "from sklearn.model_selection import StratifiedKFold"
   ],
   "metadata": {
    "collapsed": false
   }
  },
  {
   "cell_type": "code",
   "execution_count": 35,
   "outputs": [],
   "source": [
    "def calculate_metrics(y_true: pd.Series, y_pred: np.ndarray, y_pred_proba: np.ndarray) -> Dict[str, float]:\n",
    "    \"\"\"\n",
    "    Calculate classification metrics for a given set of true labels and predictions.\n",
    "\n",
    "    Parameters\n",
    "    ----------\n",
    "    y_true : pd.Series\n",
    "        The true labels for the test set.\n",
    "    y_pred : np.ndarray\n",
    "        The predicted labels for the test set.\n",
    "    y_pred_proba : np.ndarray\n",
    "        The predicted probabilities for the positive class.\n",
    "\n",
    "    Returns\n",
    "    -------\n",
    "    dict\n",
    "        A dictionary containing various classification metrics.\n",
    "    \"\"\"\n",
    "    score = metrics.log_loss(y_true, y_pred_proba)\n",
    "    auc_score = metrics.roc_auc_score(y_true, y_pred)\n",
    "    f1_score = metrics.f1_score(y_true, y_pred)\n",
    "    bal_acc = metrics.balanced_accuracy_score(y_true, y_pred)\n",
    "    precision = metrics.precision_score(y_true, y_pred)\n",
    "    recall = metrics.recall_score(y_true, y_pred)\n",
    "    mcc = metrics.matthews_corrcoef(y_true, y_pred)\n",
    "\n",
    "    return {\n",
    "        \"accuracy\": metrics.accuracy_score(y_true, y_pred),\n",
    "        \"log_loss\": score,\n",
    "        \"auc\": auc_score,\n",
    "        \"balanced_accuracy\": bal_acc,\n",
    "        \"f1\": f1_score,\n",
    "        \"precision\": precision,\n",
    "        \"recall\": recall,\n",
    "        \"mcc\": mcc,\n",
    "    }\n",
    "\n",
    "\n",
    "def perform_cross_validation(X: pd.DataFrame, y: pd.Series, clf: Pipeline, cv: StratifiedKFold) -> List[Dict[str, float]]:\n",
    "    \"\"\"\n",
    "    Perform cross-validation for a given classifier and dataset.\n",
    "\n",
    "    Parameters\n",
    "    ----------\n",
    "    X : pd.DataFrame\n",
    "        The feature matrix.\n",
    "    y : pd.Series\n",
    "        The target vector.\n",
    "    clf : Pipeline\n",
    "        The classifier pipeline.\n",
    "    cv : StratifiedKFold\n",
    "        The cross-validator providing train/test indices for each fold.\n",
    "\n",
    "    Returns\n",
    "    -------\n",
    "    list\n",
    "        A list of dictionaries containing classification metrics for each fold.\n",
    "    \"\"\"\n",
    "    all_metrics = []\n",
    "\n",
    "    for train_idx, test_idx in cv.split(X, y):\n",
    "        X_train, y_train = X.iloc[train_idx], y.iloc[train_idx]\n",
    "        X_test, y_test = X.iloc[test_idx], y.iloc[test_idx]\n",
    "\n",
    "        clf.fit(X_train, y_train)\n",
    "        y_pred = clf.predict(X_test)\n",
    "        y_pred_proba = clf.predict_proba(X_test)[:, 1]\n",
    "\n",
    "        fold_metrics = calculate_metrics(y_test, y_pred, y_pred_proba)\n",
    "        all_metrics.append(fold_metrics)\n",
    "\n",
    "    return all_metrics\n",
    "\n",
    "\n",
    "def mean_metrics(all_metrics: List[Dict[str, float]]) -> Dict[str, float]:\n",
    "    \"\"\"\n",
    "    Compute the mean values of classification metrics across folds.\n",
    "\n",
    "    Parameters\n",
    "    ----------\n",
    "    all_metrics : list\n",
    "        A list of dictionaries containing classification metrics for each fold.\n",
    "\n",
    "    Returns\n",
    "    -------\n",
    "    dict\n",
    "        A dictionary containing the mean values of classification metrics.\n",
    "    \"\"\"\n",
    "    return {\n",
    "        metric: np.mean([fold_metrics[metric] for fold_metrics in all_metrics])\n",
    "        for metric in all_metrics[0].keys()\n",
    "    }"
   ],
   "metadata": {
    "collapsed": false
   }
  },
  {
   "cell_type": "code",
   "execution_count": 8,
   "outputs": [],
   "source": [
    "X, y = train_data.iloc[:, :-1], train_data[\"tracker\"]"
   ],
   "metadata": {
    "collapsed": false
   }
  },
  {
   "cell_type": "code",
   "execution_count": 9,
   "outputs": [],
   "source": [
    "model = RandomForestClassifier(\n",
    "    n_estimators=100,\n",
    "    n_jobs=-1,\n",
    "    random_state=10,\n",
    "    criterion=\"gini\",\n",
    "    max_features=None,\n",
    ")"
   ],
   "metadata": {
    "collapsed": false
   }
  },
  {
   "cell_type": "code",
   "execution_count": 10,
   "outputs": [],
   "source": [
    "numeric_transformer = Pipeline(\n",
    "    steps=[(\"scaler\", FunctionTransformer(np.log1p))]\n",
    ")\n",
    "norm_transformer = Pipeline(steps=[(\"norm_scaler\", Normalizer())])\n",
    "\n",
    "preprocessor = ColumnTransformer(\n",
    "    transformers=[\n",
    "        (\"cat\", ce.WOEEncoder(), selector(dtype_include=\"category\")),\n",
    "        (\"num\", numeric_transformer, [\"content-length\"]),\n",
    "        (\"age\", norm_transformer, [\"age\"]),\n",
    "    ]\n",
    ")"
   ],
   "metadata": {
    "collapsed": false
   }
  },
  {
   "cell_type": "code",
   "execution_count": 11,
   "outputs": [],
   "source": [
    "clf = Pipeline(steps=[(\"preprocessor\", preprocessor), (\"classifier\", model)])"
   ],
   "metadata": {
    "collapsed": false
   }
  },
  {
   "cell_type": "code",
   "execution_count": 12,
   "outputs": [
    {
     "data": {
      "text/plain": "Pipeline(steps=[('preprocessor',\n                 ColumnTransformer(transformers=[('cat', WOEEncoder(),\n                                                  <sklearn.compose._column_transformer.make_column_selector object at 0x7fa8ab8b0340>),\n                                                 ('num',\n                                                  Pipeline(steps=[('scaler',\n                                                                   FunctionTransformer(func=<ufunc 'log1p'>))]),\n                                                  ['content-length']),\n                                                 ('age',\n                                                  Pipeline(steps=[('norm_scaler',\n                                                                   Normalizer())]),\n                                                  ['age'])])),\n                ('classifier',\n                 RandomForestClassifier(max_features=None, n_jobs=-1,\n                                        random_state=10))])",
      "text/html": "<style>#sk-container-id-1 {color: black;background-color: white;}#sk-container-id-1 pre{padding: 0;}#sk-container-id-1 div.sk-toggleable {background-color: white;}#sk-container-id-1 label.sk-toggleable__label {cursor: pointer;display: block;width: 100%;margin-bottom: 0;padding: 0.3em;box-sizing: border-box;text-align: center;}#sk-container-id-1 label.sk-toggleable__label-arrow:before {content: \"▸\";float: left;margin-right: 0.25em;color: #696969;}#sk-container-id-1 label.sk-toggleable__label-arrow:hover:before {color: black;}#sk-container-id-1 div.sk-estimator:hover label.sk-toggleable__label-arrow:before {color: black;}#sk-container-id-1 div.sk-toggleable__content {max-height: 0;max-width: 0;overflow: hidden;text-align: left;background-color: #f0f8ff;}#sk-container-id-1 div.sk-toggleable__content pre {margin: 0.2em;color: black;border-radius: 0.25em;background-color: #f0f8ff;}#sk-container-id-1 input.sk-toggleable__control:checked~div.sk-toggleable__content {max-height: 200px;max-width: 100%;overflow: auto;}#sk-container-id-1 input.sk-toggleable__control:checked~label.sk-toggleable__label-arrow:before {content: \"▾\";}#sk-container-id-1 div.sk-estimator input.sk-toggleable__control:checked~label.sk-toggleable__label {background-color: #d4ebff;}#sk-container-id-1 div.sk-label input.sk-toggleable__control:checked~label.sk-toggleable__label {background-color: #d4ebff;}#sk-container-id-1 input.sk-hidden--visually {border: 0;clip: rect(1px 1px 1px 1px);clip: rect(1px, 1px, 1px, 1px);height: 1px;margin: -1px;overflow: hidden;padding: 0;position: absolute;width: 1px;}#sk-container-id-1 div.sk-estimator {font-family: monospace;background-color: #f0f8ff;border: 1px dotted black;border-radius: 0.25em;box-sizing: border-box;margin-bottom: 0.5em;}#sk-container-id-1 div.sk-estimator:hover {background-color: #d4ebff;}#sk-container-id-1 div.sk-parallel-item::after {content: \"\";width: 100%;border-bottom: 1px solid gray;flex-grow: 1;}#sk-container-id-1 div.sk-label:hover label.sk-toggleable__label {background-color: #d4ebff;}#sk-container-id-1 div.sk-serial::before {content: \"\";position: absolute;border-left: 1px solid gray;box-sizing: border-box;top: 0;bottom: 0;left: 50%;z-index: 0;}#sk-container-id-1 div.sk-serial {display: flex;flex-direction: column;align-items: center;background-color: white;padding-right: 0.2em;padding-left: 0.2em;position: relative;}#sk-container-id-1 div.sk-item {position: relative;z-index: 1;}#sk-container-id-1 div.sk-parallel {display: flex;align-items: stretch;justify-content: center;background-color: white;position: relative;}#sk-container-id-1 div.sk-item::before, #sk-container-id-1 div.sk-parallel-item::before {content: \"\";position: absolute;border-left: 1px solid gray;box-sizing: border-box;top: 0;bottom: 0;left: 50%;z-index: -1;}#sk-container-id-1 div.sk-parallel-item {display: flex;flex-direction: column;z-index: 1;position: relative;background-color: white;}#sk-container-id-1 div.sk-parallel-item:first-child::after {align-self: flex-end;width: 50%;}#sk-container-id-1 div.sk-parallel-item:last-child::after {align-self: flex-start;width: 50%;}#sk-container-id-1 div.sk-parallel-item:only-child::after {width: 0;}#sk-container-id-1 div.sk-dashed-wrapped {border: 1px dashed gray;margin: 0 0.4em 0.5em 0.4em;box-sizing: border-box;padding-bottom: 0.4em;background-color: white;}#sk-container-id-1 div.sk-label label {font-family: monospace;font-weight: bold;display: inline-block;line-height: 1.2em;}#sk-container-id-1 div.sk-label-container {text-align: center;}#sk-container-id-1 div.sk-container {/* jupyter's `normalize.less` sets `[hidden] { display: none; }` but bootstrap.min.css set `[hidden] { display: none !important; }` so we also need the `!important` here to be able to override the default hidden behavior on the sphinx rendered scikit-learn.org. See: https://github.com/scikit-learn/scikit-learn/issues/21755 */display: inline-block !important;position: relative;}#sk-container-id-1 div.sk-text-repr-fallback {display: none;}</style><div id=\"sk-container-id-1\" class=\"sk-top-container\"><div class=\"sk-text-repr-fallback\"><pre>Pipeline(steps=[(&#x27;preprocessor&#x27;,\n                 ColumnTransformer(transformers=[(&#x27;cat&#x27;, WOEEncoder(),\n                                                  &lt;sklearn.compose._column_transformer.make_column_selector object at 0x7fa8ab8b0340&gt;),\n                                                 (&#x27;num&#x27;,\n                                                  Pipeline(steps=[(&#x27;scaler&#x27;,\n                                                                   FunctionTransformer(func=&lt;ufunc &#x27;log1p&#x27;&gt;))]),\n                                                  [&#x27;content-length&#x27;]),\n                                                 (&#x27;age&#x27;,\n                                                  Pipeline(steps=[(&#x27;norm_scaler&#x27;,\n                                                                   Normalizer())]),\n                                                  [&#x27;age&#x27;])])),\n                (&#x27;classifier&#x27;,\n                 RandomForestClassifier(max_features=None, n_jobs=-1,\n                                        random_state=10))])</pre><b>In a Jupyter environment, please rerun this cell to show the HTML representation or trust the notebook. <br />On GitHub, the HTML representation is unable to render, please try loading this page with nbviewer.org.</b></div><div class=\"sk-container\" hidden><div class=\"sk-item sk-dashed-wrapped\"><div class=\"sk-label-container\"><div class=\"sk-label sk-toggleable\"><input class=\"sk-toggleable__control sk-hidden--visually\" id=\"sk-estimator-id-1\" type=\"checkbox\" ><label for=\"sk-estimator-id-1\" class=\"sk-toggleable__label sk-toggleable__label-arrow\">Pipeline</label><div class=\"sk-toggleable__content\"><pre>Pipeline(steps=[(&#x27;preprocessor&#x27;,\n                 ColumnTransformer(transformers=[(&#x27;cat&#x27;, WOEEncoder(),\n                                                  &lt;sklearn.compose._column_transformer.make_column_selector object at 0x7fa8ab8b0340&gt;),\n                                                 (&#x27;num&#x27;,\n                                                  Pipeline(steps=[(&#x27;scaler&#x27;,\n                                                                   FunctionTransformer(func=&lt;ufunc &#x27;log1p&#x27;&gt;))]),\n                                                  [&#x27;content-length&#x27;]),\n                                                 (&#x27;age&#x27;,\n                                                  Pipeline(steps=[(&#x27;norm_scaler&#x27;,\n                                                                   Normalizer())]),\n                                                  [&#x27;age&#x27;])])),\n                (&#x27;classifier&#x27;,\n                 RandomForestClassifier(max_features=None, n_jobs=-1,\n                                        random_state=10))])</pre></div></div></div><div class=\"sk-serial\"><div class=\"sk-item sk-dashed-wrapped\"><div class=\"sk-label-container\"><div class=\"sk-label sk-toggleable\"><input class=\"sk-toggleable__control sk-hidden--visually\" id=\"sk-estimator-id-2\" type=\"checkbox\" ><label for=\"sk-estimator-id-2\" class=\"sk-toggleable__label sk-toggleable__label-arrow\">preprocessor: ColumnTransformer</label><div class=\"sk-toggleable__content\"><pre>ColumnTransformer(transformers=[(&#x27;cat&#x27;, WOEEncoder(),\n                                 &lt;sklearn.compose._column_transformer.make_column_selector object at 0x7fa8ab8b0340&gt;),\n                                (&#x27;num&#x27;,\n                                 Pipeline(steps=[(&#x27;scaler&#x27;,\n                                                  FunctionTransformer(func=&lt;ufunc &#x27;log1p&#x27;&gt;))]),\n                                 [&#x27;content-length&#x27;]),\n                                (&#x27;age&#x27;,\n                                 Pipeline(steps=[(&#x27;norm_scaler&#x27;,\n                                                  Normalizer())]),\n                                 [&#x27;age&#x27;])])</pre></div></div></div><div class=\"sk-parallel\"><div class=\"sk-parallel-item\"><div class=\"sk-item\"><div class=\"sk-label-container\"><div class=\"sk-label sk-toggleable\"><input class=\"sk-toggleable__control sk-hidden--visually\" id=\"sk-estimator-id-3\" type=\"checkbox\" ><label for=\"sk-estimator-id-3\" class=\"sk-toggleable__label sk-toggleable__label-arrow\">cat</label><div class=\"sk-toggleable__content\"><pre>&lt;sklearn.compose._column_transformer.make_column_selector object at 0x7fa8ab8b0340&gt;</pre></div></div></div><div class=\"sk-serial\"><div class=\"sk-item\"><div class=\"sk-estimator sk-toggleable\"><input class=\"sk-toggleable__control sk-hidden--visually\" id=\"sk-estimator-id-4\" type=\"checkbox\" ><label for=\"sk-estimator-id-4\" class=\"sk-toggleable__label sk-toggleable__label-arrow\">WOEEncoder</label><div class=\"sk-toggleable__content\"><pre>WOEEncoder()</pre></div></div></div></div></div></div><div class=\"sk-parallel-item\"><div class=\"sk-item\"><div class=\"sk-label-container\"><div class=\"sk-label sk-toggleable\"><input class=\"sk-toggleable__control sk-hidden--visually\" id=\"sk-estimator-id-5\" type=\"checkbox\" ><label for=\"sk-estimator-id-5\" class=\"sk-toggleable__label sk-toggleable__label-arrow\">num</label><div class=\"sk-toggleable__content\"><pre>[&#x27;content-length&#x27;]</pre></div></div></div><div class=\"sk-serial\"><div class=\"sk-item\"><div class=\"sk-serial\"><div class=\"sk-item\"><div class=\"sk-estimator sk-toggleable\"><input class=\"sk-toggleable__control sk-hidden--visually\" id=\"sk-estimator-id-6\" type=\"checkbox\" ><label for=\"sk-estimator-id-6\" class=\"sk-toggleable__label sk-toggleable__label-arrow\">FunctionTransformer</label><div class=\"sk-toggleable__content\"><pre>FunctionTransformer(func=&lt;ufunc &#x27;log1p&#x27;&gt;)</pre></div></div></div></div></div></div></div></div><div class=\"sk-parallel-item\"><div class=\"sk-item\"><div class=\"sk-label-container\"><div class=\"sk-label sk-toggleable\"><input class=\"sk-toggleable__control sk-hidden--visually\" id=\"sk-estimator-id-7\" type=\"checkbox\" ><label for=\"sk-estimator-id-7\" class=\"sk-toggleable__label sk-toggleable__label-arrow\">age</label><div class=\"sk-toggleable__content\"><pre>[&#x27;age&#x27;]</pre></div></div></div><div class=\"sk-serial\"><div class=\"sk-item\"><div class=\"sk-serial\"><div class=\"sk-item\"><div class=\"sk-estimator sk-toggleable\"><input class=\"sk-toggleable__control sk-hidden--visually\" id=\"sk-estimator-id-8\" type=\"checkbox\" ><label for=\"sk-estimator-id-8\" class=\"sk-toggleable__label sk-toggleable__label-arrow\">Normalizer</label><div class=\"sk-toggleable__content\"><pre>Normalizer()</pre></div></div></div></div></div></div></div></div></div></div><div class=\"sk-item\"><div class=\"sk-estimator sk-toggleable\"><input class=\"sk-toggleable__control sk-hidden--visually\" id=\"sk-estimator-id-9\" type=\"checkbox\" ><label for=\"sk-estimator-id-9\" class=\"sk-toggleable__label sk-toggleable__label-arrow\">RandomForestClassifier</label><div class=\"sk-toggleable__content\"><pre>RandomForestClassifier(max_features=None, n_jobs=-1, random_state=10)</pre></div></div></div></div></div></div></div>"
     },
     "execution_count": 12,
     "metadata": {},
     "output_type": "execute_result"
    }
   ],
   "source": [
    "clf"
   ],
   "metadata": {
    "collapsed": false
   }
  },
  {
   "cell_type": "code",
   "execution_count": 13,
   "outputs": [
    {
     "name": "stdout",
     "output_type": "stream",
     "text": [
      "CPU times: user 5min 9s, sys: 2.81 s, total: 5min 12s\n",
      "Wall time: 54.7 s\n"
     ]
    }
   ],
   "source": [
    "%%time\n",
    "cv = StratifiedKFold(n_splits=10, shuffle=True, random_state=10)"
   ],
   "metadata": {
    "collapsed": false
   }
  },
  {
   "cell_type": "code",
   "execution_count": 16,
   "outputs": [],
   "source": [
    "test_data = pd.read_parquet(\n",
    "    \"../data/processed/chrome/08_12_2022/test_set_01_featurized.parquet.gzip\"\n",
    "    )\n",
    "X_test_data, y_test_data = test_data.iloc[:, :-1], test_data[[\"tracker\"]]"
   ],
   "metadata": {
    "collapsed": false
   }
  },
  {
   "cell_type": "code",
   "execution_count": 18,
   "outputs": [],
   "source": [
    "all_metrics = perform_cross_validation(X, y, clf, cv)"
   ],
   "metadata": {
    "collapsed": false
   }
  },
  {
   "cell_type": "code",
   "execution_count": 14,
   "outputs": [],
   "source": [
    "mean_metrics = mean_metrics(all_metrics)"
   ],
   "metadata": {
    "collapsed": false
   }
  },
  {
   "cell_type": "code",
   "execution_count": 19,
   "outputs": [
    {
     "name": "stdout",
     "output_type": "stream",
     "text": [
      "Mean metrics across the folds:\n",
      "accuracy: 0.9999\n",
      "log_loss: 0.0016\n",
      "auc: 0.9999\n",
      "balanced_accuracy: 0.9999\n",
      "f1: 0.9998\n",
      "precision: 0.9999\n",
      "recall: 0.9998\n",
      "mcc: 0.9998\n"
     ]
    }
   ],
   "source": [
    "print(\"Mean metrics across the folds:\")\n",
    "for metric, value in mean_metrics.items():\n",
    "    print(f\"{metric}: {value:.4f}\")"
   ],
   "metadata": {
    "collapsed": false
   }
  },
  {
   "cell_type": "code",
   "execution_count": 23,
   "outputs": [
    {
     "name": "stdout",
     "output_type": "stream",
     "text": [
      "CPU times: user 34 s, sys: 251 ms, total: 34.3 s\n",
      "Wall time: 6.23 s\n"
     ]
    },
    {
     "data": {
      "text/plain": "Pipeline(steps=[('preprocessor',\n                 ColumnTransformer(transformers=[('cat', WOEEncoder(),\n                                                  <sklearn.compose._column_transformer.make_column_selector object at 0x7fa8ab8b0340>),\n                                                 ('num',\n                                                  Pipeline(steps=[('scaler',\n                                                                   FunctionTransformer(func=<ufunc 'log1p'>))]),\n                                                  ['content-length']),\n                                                 ('age',\n                                                  Pipeline(steps=[('norm_scaler',\n                                                                   Normalizer())]),\n                                                  ['age'])])),\n                ('classifier',\n                 RandomForestClassifier(max_features=None, n_jobs=-1,\n                                        random_state=10))])",
      "text/html": "<style>#sk-container-id-2 {color: black;background-color: white;}#sk-container-id-2 pre{padding: 0;}#sk-container-id-2 div.sk-toggleable {background-color: white;}#sk-container-id-2 label.sk-toggleable__label {cursor: pointer;display: block;width: 100%;margin-bottom: 0;padding: 0.3em;box-sizing: border-box;text-align: center;}#sk-container-id-2 label.sk-toggleable__label-arrow:before {content: \"▸\";float: left;margin-right: 0.25em;color: #696969;}#sk-container-id-2 label.sk-toggleable__label-arrow:hover:before {color: black;}#sk-container-id-2 div.sk-estimator:hover label.sk-toggleable__label-arrow:before {color: black;}#sk-container-id-2 div.sk-toggleable__content {max-height: 0;max-width: 0;overflow: hidden;text-align: left;background-color: #f0f8ff;}#sk-container-id-2 div.sk-toggleable__content pre {margin: 0.2em;color: black;border-radius: 0.25em;background-color: #f0f8ff;}#sk-container-id-2 input.sk-toggleable__control:checked~div.sk-toggleable__content {max-height: 200px;max-width: 100%;overflow: auto;}#sk-container-id-2 input.sk-toggleable__control:checked~label.sk-toggleable__label-arrow:before {content: \"▾\";}#sk-container-id-2 div.sk-estimator input.sk-toggleable__control:checked~label.sk-toggleable__label {background-color: #d4ebff;}#sk-container-id-2 div.sk-label input.sk-toggleable__control:checked~label.sk-toggleable__label {background-color: #d4ebff;}#sk-container-id-2 input.sk-hidden--visually {border: 0;clip: rect(1px 1px 1px 1px);clip: rect(1px, 1px, 1px, 1px);height: 1px;margin: -1px;overflow: hidden;padding: 0;position: absolute;width: 1px;}#sk-container-id-2 div.sk-estimator {font-family: monospace;background-color: #f0f8ff;border: 1px dotted black;border-radius: 0.25em;box-sizing: border-box;margin-bottom: 0.5em;}#sk-container-id-2 div.sk-estimator:hover {background-color: #d4ebff;}#sk-container-id-2 div.sk-parallel-item::after {content: \"\";width: 100%;border-bottom: 1px solid gray;flex-grow: 1;}#sk-container-id-2 div.sk-label:hover label.sk-toggleable__label {background-color: #d4ebff;}#sk-container-id-2 div.sk-serial::before {content: \"\";position: absolute;border-left: 1px solid gray;box-sizing: border-box;top: 0;bottom: 0;left: 50%;z-index: 0;}#sk-container-id-2 div.sk-serial {display: flex;flex-direction: column;align-items: center;background-color: white;padding-right: 0.2em;padding-left: 0.2em;position: relative;}#sk-container-id-2 div.sk-item {position: relative;z-index: 1;}#sk-container-id-2 div.sk-parallel {display: flex;align-items: stretch;justify-content: center;background-color: white;position: relative;}#sk-container-id-2 div.sk-item::before, #sk-container-id-2 div.sk-parallel-item::before {content: \"\";position: absolute;border-left: 1px solid gray;box-sizing: border-box;top: 0;bottom: 0;left: 50%;z-index: -1;}#sk-container-id-2 div.sk-parallel-item {display: flex;flex-direction: column;z-index: 1;position: relative;background-color: white;}#sk-container-id-2 div.sk-parallel-item:first-child::after {align-self: flex-end;width: 50%;}#sk-container-id-2 div.sk-parallel-item:last-child::after {align-self: flex-start;width: 50%;}#sk-container-id-2 div.sk-parallel-item:only-child::after {width: 0;}#sk-container-id-2 div.sk-dashed-wrapped {border: 1px dashed gray;margin: 0 0.4em 0.5em 0.4em;box-sizing: border-box;padding-bottom: 0.4em;background-color: white;}#sk-container-id-2 div.sk-label label {font-family: monospace;font-weight: bold;display: inline-block;line-height: 1.2em;}#sk-container-id-2 div.sk-label-container {text-align: center;}#sk-container-id-2 div.sk-container {/* jupyter's `normalize.less` sets `[hidden] { display: none; }` but bootstrap.min.css set `[hidden] { display: none !important; }` so we also need the `!important` here to be able to override the default hidden behavior on the sphinx rendered scikit-learn.org. See: https://github.com/scikit-learn/scikit-learn/issues/21755 */display: inline-block !important;position: relative;}#sk-container-id-2 div.sk-text-repr-fallback {display: none;}</style><div id=\"sk-container-id-2\" class=\"sk-top-container\"><div class=\"sk-text-repr-fallback\"><pre>Pipeline(steps=[(&#x27;preprocessor&#x27;,\n                 ColumnTransformer(transformers=[(&#x27;cat&#x27;, WOEEncoder(),\n                                                  &lt;sklearn.compose._column_transformer.make_column_selector object at 0x7fa8ab8b0340&gt;),\n                                                 (&#x27;num&#x27;,\n                                                  Pipeline(steps=[(&#x27;scaler&#x27;,\n                                                                   FunctionTransformer(func=&lt;ufunc &#x27;log1p&#x27;&gt;))]),\n                                                  [&#x27;content-length&#x27;]),\n                                                 (&#x27;age&#x27;,\n                                                  Pipeline(steps=[(&#x27;norm_scaler&#x27;,\n                                                                   Normalizer())]),\n                                                  [&#x27;age&#x27;])])),\n                (&#x27;classifier&#x27;,\n                 RandomForestClassifier(max_features=None, n_jobs=-1,\n                                        random_state=10))])</pre><b>In a Jupyter environment, please rerun this cell to show the HTML representation or trust the notebook. <br />On GitHub, the HTML representation is unable to render, please try loading this page with nbviewer.org.</b></div><div class=\"sk-container\" hidden><div class=\"sk-item sk-dashed-wrapped\"><div class=\"sk-label-container\"><div class=\"sk-label sk-toggleable\"><input class=\"sk-toggleable__control sk-hidden--visually\" id=\"sk-estimator-id-10\" type=\"checkbox\" ><label for=\"sk-estimator-id-10\" class=\"sk-toggleable__label sk-toggleable__label-arrow\">Pipeline</label><div class=\"sk-toggleable__content\"><pre>Pipeline(steps=[(&#x27;preprocessor&#x27;,\n                 ColumnTransformer(transformers=[(&#x27;cat&#x27;, WOEEncoder(),\n                                                  &lt;sklearn.compose._column_transformer.make_column_selector object at 0x7fa8ab8b0340&gt;),\n                                                 (&#x27;num&#x27;,\n                                                  Pipeline(steps=[(&#x27;scaler&#x27;,\n                                                                   FunctionTransformer(func=&lt;ufunc &#x27;log1p&#x27;&gt;))]),\n                                                  [&#x27;content-length&#x27;]),\n                                                 (&#x27;age&#x27;,\n                                                  Pipeline(steps=[(&#x27;norm_scaler&#x27;,\n                                                                   Normalizer())]),\n                                                  [&#x27;age&#x27;])])),\n                (&#x27;classifier&#x27;,\n                 RandomForestClassifier(max_features=None, n_jobs=-1,\n                                        random_state=10))])</pre></div></div></div><div class=\"sk-serial\"><div class=\"sk-item sk-dashed-wrapped\"><div class=\"sk-label-container\"><div class=\"sk-label sk-toggleable\"><input class=\"sk-toggleable__control sk-hidden--visually\" id=\"sk-estimator-id-11\" type=\"checkbox\" ><label for=\"sk-estimator-id-11\" class=\"sk-toggleable__label sk-toggleable__label-arrow\">preprocessor: ColumnTransformer</label><div class=\"sk-toggleable__content\"><pre>ColumnTransformer(transformers=[(&#x27;cat&#x27;, WOEEncoder(),\n                                 &lt;sklearn.compose._column_transformer.make_column_selector object at 0x7fa8ab8b0340&gt;),\n                                (&#x27;num&#x27;,\n                                 Pipeline(steps=[(&#x27;scaler&#x27;,\n                                                  FunctionTransformer(func=&lt;ufunc &#x27;log1p&#x27;&gt;))]),\n                                 [&#x27;content-length&#x27;]),\n                                (&#x27;age&#x27;,\n                                 Pipeline(steps=[(&#x27;norm_scaler&#x27;,\n                                                  Normalizer())]),\n                                 [&#x27;age&#x27;])])</pre></div></div></div><div class=\"sk-parallel\"><div class=\"sk-parallel-item\"><div class=\"sk-item\"><div class=\"sk-label-container\"><div class=\"sk-label sk-toggleable\"><input class=\"sk-toggleable__control sk-hidden--visually\" id=\"sk-estimator-id-12\" type=\"checkbox\" ><label for=\"sk-estimator-id-12\" class=\"sk-toggleable__label sk-toggleable__label-arrow\">cat</label><div class=\"sk-toggleable__content\"><pre>&lt;sklearn.compose._column_transformer.make_column_selector object at 0x7fa8ab8b0340&gt;</pre></div></div></div><div class=\"sk-serial\"><div class=\"sk-item\"><div class=\"sk-estimator sk-toggleable\"><input class=\"sk-toggleable__control sk-hidden--visually\" id=\"sk-estimator-id-13\" type=\"checkbox\" ><label for=\"sk-estimator-id-13\" class=\"sk-toggleable__label sk-toggleable__label-arrow\">WOEEncoder</label><div class=\"sk-toggleable__content\"><pre>WOEEncoder()</pre></div></div></div></div></div></div><div class=\"sk-parallel-item\"><div class=\"sk-item\"><div class=\"sk-label-container\"><div class=\"sk-label sk-toggleable\"><input class=\"sk-toggleable__control sk-hidden--visually\" id=\"sk-estimator-id-14\" type=\"checkbox\" ><label for=\"sk-estimator-id-14\" class=\"sk-toggleable__label sk-toggleable__label-arrow\">num</label><div class=\"sk-toggleable__content\"><pre>[&#x27;content-length&#x27;]</pre></div></div></div><div class=\"sk-serial\"><div class=\"sk-item\"><div class=\"sk-serial\"><div class=\"sk-item\"><div class=\"sk-estimator sk-toggleable\"><input class=\"sk-toggleable__control sk-hidden--visually\" id=\"sk-estimator-id-15\" type=\"checkbox\" ><label for=\"sk-estimator-id-15\" class=\"sk-toggleable__label sk-toggleable__label-arrow\">FunctionTransformer</label><div class=\"sk-toggleable__content\"><pre>FunctionTransformer(func=&lt;ufunc &#x27;log1p&#x27;&gt;)</pre></div></div></div></div></div></div></div></div><div class=\"sk-parallel-item\"><div class=\"sk-item\"><div class=\"sk-label-container\"><div class=\"sk-label sk-toggleable\"><input class=\"sk-toggleable__control sk-hidden--visually\" id=\"sk-estimator-id-16\" type=\"checkbox\" ><label for=\"sk-estimator-id-16\" class=\"sk-toggleable__label sk-toggleable__label-arrow\">age</label><div class=\"sk-toggleable__content\"><pre>[&#x27;age&#x27;]</pre></div></div></div><div class=\"sk-serial\"><div class=\"sk-item\"><div class=\"sk-serial\"><div class=\"sk-item\"><div class=\"sk-estimator sk-toggleable\"><input class=\"sk-toggleable__control sk-hidden--visually\" id=\"sk-estimator-id-17\" type=\"checkbox\" ><label for=\"sk-estimator-id-17\" class=\"sk-toggleable__label sk-toggleable__label-arrow\">Normalizer</label><div class=\"sk-toggleable__content\"><pre>Normalizer()</pre></div></div></div></div></div></div></div></div></div></div><div class=\"sk-item\"><div class=\"sk-estimator sk-toggleable\"><input class=\"sk-toggleable__control sk-hidden--visually\" id=\"sk-estimator-id-18\" type=\"checkbox\" ><label for=\"sk-estimator-id-18\" class=\"sk-toggleable__label sk-toggleable__label-arrow\">RandomForestClassifier</label><div class=\"sk-toggleable__content\"><pre>RandomForestClassifier(max_features=None, n_jobs=-1, random_state=10)</pre></div></div></div></div></div></div></div>"
     },
     "execution_count": 23,
     "metadata": {},
     "output_type": "execute_result"
    }
   ],
   "source": [
    "%%time\n",
    "final_model = Pipeline(steps=[(\"preprocessor\", preprocessor), (\"classifier\", model)])  # Replace 'model' with your chosen model\n",
    "final_model.fit(X, y)  # Assuming X_train and y_train are your training data"
   ],
   "metadata": {
    "collapsed": false
   }
  },
  {
   "cell_type": "code",
   "execution_count": 30,
   "outputs": [],
   "source": [
    "y_test_pred = final_model.predict(X_test_data)\n",
    "y_test_pred_proba = final_model.predict_proba(X_test_data)"
   ],
   "metadata": {
    "collapsed": false
   }
  },
  {
   "cell_type": "code",
   "execution_count": 32,
   "outputs": [
    {
     "data": {
      "text/plain": "{'accuracy': 0.9999264716695343,\n 'log_loss': 0.0016761614843792978,\n 'auc': 0.9999174477689411,\n 'balanced_accuracy': 0.9999174477689411,\n 'f1': 0.9998706707017408,\n 'precision': 0.9998448088562413,\n 'recall': 0.9998965338851526,\n 'mcc': 0.9998193055376092}"
     },
     "execution_count": 32,
     "metadata": {},
     "output_type": "execute_result"
    }
   ],
   "source": [
    "calculate_metrics(y_test_data, y_test_pred, y_test_pred_proba)"
   ],
   "metadata": {
    "collapsed": false
   }
  },
  {
   "cell_type": "code",
   "execution_count": 42,
   "outputs": [],
   "source": [
    "def calculate_metrics_2(data, y_true):\n",
    "    y_pred = clf.predict(data)\n",
    "    pred_probs = clf.predict_proba(data)\n",
    "    score = metrics.log_loss(y_true, pred_probs)\n",
    "    auc_score = metrics.roc_auc_score(y_true, y_pred)\n",
    "    f1_score = metrics.f1_score(y_true, y_pred)\n",
    "    bal_acc = metrics.balanced_accuracy_score(y_true, y_pred)\n",
    "    precision = metrics.precision_score(y_true, y_pred)\n",
    "    recall = metrics.recall_score(y_true, y_pred)\n",
    "    mcc = metrics.matthews_corrcoef(y_true, y_pred)\n",
    "\n",
    "    print(\n",
    "        \"Model accuracy score : {0:0.4f}\".format(metrics.accuracy_score(y_test_data, y_pred))\n",
    "    )\n",
    "    print(\"Model log-loss score : {0:0.4f}\".format(score))\n",
    "    print(\"Model auc score : {0:0.4f}\".format(auc_score))\n",
    "    print(\"Balanced accuracy score : {0:0.4f}\".format(bal_acc))\n",
    "    print(\"F1 score : {0:0.4f}\".format(f1_score))\n",
    "    print(\"Precision score : {0:0.4f}\".format(precision))\n",
    "    print(\"Recall score : {0:0.4f}\".format(recall))\n",
    "    print(\"Matthews correlation coefficient score : {0:0.4f}\".format(mcc))\n",
    "    print(metrics.classification_report(y_test_data, y_pred))"
   ],
   "metadata": {
    "collapsed": false
   }
  },
  {
   "cell_type": "code",
   "execution_count": 44,
   "outputs": [
    {
     "name": "stdout",
     "output_type": "stream",
     "text": [
      "Model accuracy score : 0.9999\n",
      "Model log-loss score : 0.0017\n",
      "Model auc score : 0.9999\n",
      "Balanced accuracy score : 0.9999\n",
      "F1 score : 0.9999\n",
      "Precision score : 0.9998\n",
      "Recall score : 0.9999\n",
      "Matthews correlation coefficient score : 0.9998\n",
      "              precision    recall  f1-score   support\n",
      "\n",
      "           0       1.00      1.00      1.00     48671\n",
      "           1       1.00      1.00      1.00     19330\n",
      "\n",
      "    accuracy                           1.00     68001\n",
      "   macro avg       1.00      1.00      1.00     68001\n",
      "weighted avg       1.00      1.00      1.00     68001\n",
      "\n"
     ]
    }
   ],
   "source": [
    "calculate_metrics_2(X_test_data, y_test_data)"
   ],
   "metadata": {
    "collapsed": false
   }
  },
  {
   "cell_type": "code",
   "execution_count": 45,
   "outputs": [
    {
     "data": {
      "text/plain": "['content-type',\n 'accept-ranges',\n 'etag',\n 'vary',\n 'content-encoding',\n 'cache-control',\n 'expires',\n 'server',\n 'alt-svc',\n 'cross-origin-resource-policy',\n 'access-control-allow-origin_cumulative']"
     },
     "execution_count": 45,
     "metadata": {},
     "output_type": "execute_result"
    }
   ],
   "source": [
    "list(\n",
    "        train_data.select_dtypes(\"category\").columns.values.tolist()\n",
    "    )"
   ],
   "metadata": {
    "collapsed": false
   }
  }
 ],
 "metadata": {
  "kernelspec": {
   "display_name": "Python 3",
   "language": "python",
   "name": "python3"
  },
  "language_info": {
   "codemirror_mode": {
    "name": "ipython",
    "version": 2
   },
   "file_extension": ".py",
   "mimetype": "text/x-python",
   "name": "python",
   "nbconvert_exporter": "python",
   "pygments_lexer": "ipython2",
   "version": "2.7.6"
  }
 },
 "nbformat": 4,
 "nbformat_minor": 0
}
