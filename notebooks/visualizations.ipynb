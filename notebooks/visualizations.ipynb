{
 "cells": [
  {
   "cell_type": "code",
   "metadata": {
    "collapsed": true,
    "ExecuteTime": {
     "end_time": "2024-06-01T12:28:15.241546Z",
     "start_time": "2024-06-01T12:28:12.606137Z"
    }
   },
   "source": [
    "import numpy as np\n",
    "import pandas as pd\n",
    "import matplotlib.pyplot as plt\n",
    "import seaborn as sns\n",
    "# import seaborn.objects as so\n",
    "import ptitprince as pt\n",
    "from venn import venn\n",
    "from matplotlib.ticker import FuncFormatter\n",
    "from matplotlib.colors import LogNorm, Normalize\n",
    "import umap\n",
    "from scipy.sparse import csr_matrix"
   ],
   "outputs": [
    {
     "name": "stderr",
     "output_type": "stream",
     "text": [
      "/Users/wolfrieder/Documents/github_repos/thesis_project_v2/venv/lib/python3.10/site-packages/umap/distances.py:1063: NumbaDeprecationWarning: \u001B[1mThe 'nopython' keyword argument was not supplied to the 'numba.jit' decorator. The implicit default value for this argument is currently False, but it will be changed to True in Numba 0.59.0. See https://numba.readthedocs.io/en/stable/reference/deprecation.html#deprecation-of-object-mode-fall-back-behaviour-when-using-jit for details.\u001B[0m\n",
      "  @numba.jit()\n",
      "/Users/wolfrieder/Documents/github_repos/thesis_project_v2/venv/lib/python3.10/site-packages/umap/distances.py:1071: NumbaDeprecationWarning: \u001B[1mThe 'nopython' keyword argument was not supplied to the 'numba.jit' decorator. The implicit default value for this argument is currently False, but it will be changed to True in Numba 0.59.0. See https://numba.readthedocs.io/en/stable/reference/deprecation.html#deprecation-of-object-mode-fall-back-behaviour-when-using-jit for details.\u001B[0m\n",
      "  @numba.jit()\n",
      "/Users/wolfrieder/Documents/github_repos/thesis_project_v2/venv/lib/python3.10/site-packages/umap/distances.py:1086: NumbaDeprecationWarning: \u001B[1mThe 'nopython' keyword argument was not supplied to the 'numba.jit' decorator. The implicit default value for this argument is currently False, but it will be changed to True in Numba 0.59.0. See https://numba.readthedocs.io/en/stable/reference/deprecation.html#deprecation-of-object-mode-fall-back-behaviour-when-using-jit for details.\u001B[0m\n",
      "  @numba.jit()\n",
      "/Users/wolfrieder/Documents/github_repos/thesis_project_v2/venv/lib/python3.10/site-packages/umap/umap_.py:660: NumbaDeprecationWarning: \u001B[1mThe 'nopython' keyword argument was not supplied to the 'numba.jit' decorator. The implicit default value for this argument is currently False, but it will be changed to True in Numba 0.59.0. See https://numba.readthedocs.io/en/stable/reference/deprecation.html#deprecation-of-object-mode-fall-back-behaviour-when-using-jit for details.\u001B[0m\n",
      "  @numba.jit()\n"
     ]
    }
   ],
   "execution_count": 1
  },
  {
   "cell_type": "code",
   "source": [
    "# chrome_old_train = pd.read_parquet(\n",
    "#     \"../data/processed/chrome/08_12_2022/train_set_01.parquet.gzip\", engine=\"pyarrow\",\n",
    "#             dtype_backend=\"pyarrow\"\n",
    "# )\n",
    "# chrome_old_test = pd.read_parquet(\n",
    "#     \"../data/processed/chrome/08_12_2022/test_set_01.parquet.gzip\", engine=\"pyarrow\",\n",
    "#             dtype_backend=\"pyarrow\"\n",
    "# )\n",
    "\n",
    "chrome_old = pd.read_parquet(\n",
    "    \"../data/processed/chrome/08_12_2022/merged_data_response.parquet.gzip\", engine=\"pyarrow\",\n",
    "            dtype_backend=\"pyarrow\"\n",
    ")\n",
    "\n",
    "chrome_new = pd.read_parquet('../data/processed/chrome/03_29_2023/merged_data_response.parquet.gzip', engine=\"pyarrow\", dtype_backend=\"pyarrow\")\n",
    "\n",
    "firefox = pd.read_parquet('../data/processed/firefox/08_12_2022/merged_data_response.parquet.gzip', engine=\"pyarrow\",\n",
    "            dtype_backend=\"pyarrow\")\n",
    "\n",
    "brave = pd.read_parquet('../data/processed/brave/08_12_2022/merged_data_response.parquet.gzip', engine=\"pyarrow\",\n",
    "            dtype_backend=\"pyarrow\")\n",
    "\n",
    "# chrome_old = pd.concat([chrome_old_train, chrome_old_test])"
   ],
   "metadata": {
    "collapsed": false,
    "ExecuteTime": {
     "end_time": "2024-05-31T15:51:39.009100Z",
     "start_time": "2024-05-31T15:50:50.761099Z"
    }
   },
   "outputs": [],
   "execution_count": 2
  },
  {
   "cell_type": "code",
   "execution_count": 15,
   "outputs": [],
   "source": [
    "def extract_table_values(df):\n",
    "    total_num = len(df)\n",
    "    \n",
    "    class_1 = len(df[df.tracker == 1])\n",
    "    class_0 = total_num - class_1\n",
    "\n",
    "    # class_distribution_ratio = class_1 / class_0\n",
    "    \n",
    "    col_len = df.shape[1]\n",
    "    class_1_col = df[df.tracker == 1].dropna(axis=1, how='all').shape[1]\n",
    "    class_0_col = df[df.tracker == 0].dropna(axis=1, how='all').shape[1]\n",
    "    \n",
    "    \n",
    "    results = {\n",
    "        'num_resp_nt': class_0,\n",
    "        'num_resp_t': class_1,\n",
    "        'num_resp_total': total_num,\n",
    "        'percent_resp_nt': class_0 / total_num,\n",
    "        'percent_resp_t': class_1 / total_num,\n",
    "        'num_headers_nt': class_0_col,\n",
    "        'num_headers_t': class_1_col,\n",
    "    }\n",
    "    \n",
    "    return results"
   ],
   "metadata": {
    "collapsed": false,
    "ExecuteTime": {
     "end_time": "2023-08-27T20:07:09.084955Z",
     "start_time": "2023-08-27T20:07:09.052426Z"
    }
   }
  },
  {
   "cell_type": "code",
   "execution_count": 16,
   "outputs": [],
   "source": [
    "a = extract_table_values(chrome_old)"
   ],
   "metadata": {
    "collapsed": false,
    "ExecuteTime": {
     "end_time": "2023-08-27T20:08:49.625199Z",
     "start_time": "2023-08-27T20:07:17.209864Z"
    }
   }
  },
  {
   "cell_type": "code",
   "execution_count": 17,
   "outputs": [
    {
     "data": {
      "text/plain": "{'num_resp_nt': 602516,\n 'num_resp_t': 256202,\n 'num_resp_total': 858718,\n 'percent_resp_nt': 0.7016459419739658,\n 'percent_resp_t': 0.29835405802603415,\n 'num_headers_nt': 7577,\n 'num_headers_t': 2213}"
     },
     "execution_count": 17,
     "metadata": {},
     "output_type": "execute_result"
    }
   ],
   "source": [
    "a"
   ],
   "metadata": {
    "collapsed": false,
    "ExecuteTime": {
     "end_time": "2023-08-27T20:11:17.528191Z",
     "start_time": "2023-08-27T20:11:17.497272Z"
    }
   }
  },
  {
   "cell_type": "code",
   "execution_count": 18,
   "outputs": [
    {
     "data": {
      "text/plain": "{'num_resp_nt': 526865,\n 'num_resp_t': 309391,\n 'num_resp_total': 836256,\n 'percent_resp_nt': 0.6300283645199556,\n 'percent_resp_t': 0.3699716354800444,\n 'num_headers_nt': 7322,\n 'num_headers_t': 2516}"
     },
     "execution_count": 18,
     "metadata": {},
     "output_type": "execute_result"
    }
   ],
   "source": [
    "extract_table_values(firefox)"
   ],
   "metadata": {
    "collapsed": false,
    "ExecuteTime": {
     "end_time": "2023-08-27T20:13:12.674235Z",
     "start_time": "2023-08-27T20:11:40.178678Z"
    }
   }
  },
  {
   "cell_type": "code",
   "execution_count": 19,
   "outputs": [
    {
     "data": {
      "text/plain": "{'num_resp_nt': 561694,\n 'num_resp_t': 2969,\n 'num_resp_total': 564663,\n 'percent_resp_nt': 0.9947419965536967,\n 'percent_resp_t': 0.00525800344630337,\n 'num_headers_nt': 7348,\n 'num_headers_t': 237}"
     },
     "execution_count": 19,
     "metadata": {},
     "output_type": "execute_result"
    }
   ],
   "source": [
    "extract_table_values(brave)"
   ],
   "metadata": {
    "collapsed": false,
    "ExecuteTime": {
     "end_time": "2023-08-27T20:14:10.185979Z",
     "start_time": "2023-08-27T20:13:21.675731Z"
    }
   }
  },
  {
   "cell_type": "code",
   "execution_count": 20,
   "outputs": [
    {
     "data": {
      "text/plain": "{'num_resp_nt': 596066,\n 'num_resp_t': 206747,\n 'num_resp_total': 802813,\n 'percent_resp_nt': 0.7424717835909483,\n 'percent_resp_t': 0.25752821640905166,\n 'num_headers_nt': 7398,\n 'num_headers_t': 2164}"
     },
     "execution_count": 20,
     "metadata": {},
     "output_type": "execute_result"
    }
   ],
   "source": [
    "extract_table_values(chrome_new)"
   ],
   "metadata": {
    "collapsed": false,
    "ExecuteTime": {
     "end_time": "2023-08-27T20:15:54.134868Z",
     "start_time": "2023-08-27T20:14:31.560400Z"
    }
   }
  },
  {
   "cell_type": "code",
   "source": [
    "%%time\n",
    "chrome_old_values_count = chrome_old.iloc[:, 6:-2].count().to_numpy()\n",
    "chrome_new_values_count = chrome_new.iloc[:, 6:-2].count().to_numpy()\n",
    "# chrome_old_values_count = pd.DataFrame(chrome_old_values_count.values.reshape(1, -1), columns=chrome_old_values_count.index.tolist())\n",
    "# chrome_old_values_count = chrome_old_values_count.T.sort_values(by=0, ascending=False).T"
   ],
   "metadata": {
    "collapsed": false,
    "ExecuteTime": {
     "end_time": "2024-05-31T15:52:28.255520Z",
     "start_time": "2024-05-31T15:51:54.272479Z"
    }
   },
   "outputs": [
    {
     "name": "stdout",
     "output_type": "stream",
     "text": [
      "CPU times: user 22 s, sys: 6.47 s, total: 28.5 s\n",
      "Wall time: 34 s\n"
     ]
    }
   ],
   "execution_count": 3
  },
  {
   "cell_type": "code",
   "source": [
    "firefox_values_count = firefox.iloc[:, 6:-2].count().to_numpy()\n",
    "brave_values_count = brave.iloc[:, 6:-2].count().to_numpy()"
   ],
   "metadata": {
    "collapsed": false,
    "ExecuteTime": {
     "end_time": "2024-05-31T15:53:20.827360Z",
     "start_time": "2024-05-31T15:52:56.398119Z"
    }
   },
   "outputs": [],
   "execution_count": 4
  },
  {
   "cell_type": "code",
   "source": [
    "chrome_new_values_count[::-1].sort()\n",
    "chrome_old_values_count[::-1].sort()"
   ],
   "metadata": {
    "collapsed": false,
    "ExecuteTime": {
     "end_time": "2024-05-31T15:54:12.271101Z",
     "start_time": "2024-05-31T15:54:12.266778Z"
    }
   },
   "outputs": [],
   "execution_count": 5
  },
  {
   "cell_type": "code",
   "source": [
    "firefox_values_count[::-1].sort()\n",
    "brave_values_count[::-1].sort()"
   ],
   "metadata": {
    "collapsed": false,
    "ExecuteTime": {
     "end_time": "2024-05-31T15:54:13.372794Z",
     "start_time": "2024-05-31T15:54:13.370185Z"
    }
   },
   "outputs": [],
   "execution_count": 6
  },
  {
   "cell_type": "code",
   "source": "header_frequencies_data = pd.DataFrame([chrome_old_values_count, chrome_new_values_count, firefox_values_count, brave_values_count]).T",
   "metadata": {
    "collapsed": false,
    "ExecuteTime": {
     "end_time": "2024-05-31T15:54:17.580021Z",
     "start_time": "2024-05-31T15:54:17.463393Z"
    }
   },
   "outputs": [],
   "execution_count": 7
  },
  {
   "cell_type": "code",
   "source": "header_frequencies_data",
   "metadata": {
    "collapsed": false,
    "ExecuteTime": {
     "end_time": "2024-05-31T15:54:18.874148Z",
     "start_time": "2024-05-31T15:54:18.862837Z"
    }
   },
   "outputs": [
    {
     "data": {
      "text/plain": [
       "             0         1         2         3\n",
       "0     854034.0  798773.0  831673.0  562922.0\n",
       "1     828185.0  776942.0  801280.0  558378.0\n",
       "2     719628.0  664986.0  701945.0  483258.0\n",
       "3     714809.0  656446.0  688631.0  482942.0\n",
       "4     660788.0  604963.0  635125.0  458499.0\n",
       "...        ...       ...       ...       ...\n",
       "8084       1.0       NaN       NaN       NaN\n",
       "8085       1.0       NaN       NaN       NaN\n",
       "8086       1.0       NaN       NaN       NaN\n",
       "8087       1.0       NaN       NaN       NaN\n",
       "8088       1.0       NaN       NaN       NaN\n",
       "\n",
       "[8089 rows x 4 columns]"
      ],
      "text/html": [
       "<div>\n",
       "<style scoped>\n",
       "    .dataframe tbody tr th:only-of-type {\n",
       "        vertical-align: middle;\n",
       "    }\n",
       "\n",
       "    .dataframe tbody tr th {\n",
       "        vertical-align: top;\n",
       "    }\n",
       "\n",
       "    .dataframe thead th {\n",
       "        text-align: right;\n",
       "    }\n",
       "</style>\n",
       "<table border=\"1\" class=\"dataframe\">\n",
       "  <thead>\n",
       "    <tr style=\"text-align: right;\">\n",
       "      <th></th>\n",
       "      <th>0</th>\n",
       "      <th>1</th>\n",
       "      <th>2</th>\n",
       "      <th>3</th>\n",
       "    </tr>\n",
       "  </thead>\n",
       "  <tbody>\n",
       "    <tr>\n",
       "      <th>0</th>\n",
       "      <td>854034.0</td>\n",
       "      <td>798773.0</td>\n",
       "      <td>831673.0</td>\n",
       "      <td>562922.0</td>\n",
       "    </tr>\n",
       "    <tr>\n",
       "      <th>1</th>\n",
       "      <td>828185.0</td>\n",
       "      <td>776942.0</td>\n",
       "      <td>801280.0</td>\n",
       "      <td>558378.0</td>\n",
       "    </tr>\n",
       "    <tr>\n",
       "      <th>2</th>\n",
       "      <td>719628.0</td>\n",
       "      <td>664986.0</td>\n",
       "      <td>701945.0</td>\n",
       "      <td>483258.0</td>\n",
       "    </tr>\n",
       "    <tr>\n",
       "      <th>3</th>\n",
       "      <td>714809.0</td>\n",
       "      <td>656446.0</td>\n",
       "      <td>688631.0</td>\n",
       "      <td>482942.0</td>\n",
       "    </tr>\n",
       "    <tr>\n",
       "      <th>4</th>\n",
       "      <td>660788.0</td>\n",
       "      <td>604963.0</td>\n",
       "      <td>635125.0</td>\n",
       "      <td>458499.0</td>\n",
       "    </tr>\n",
       "    <tr>\n",
       "      <th>...</th>\n",
       "      <td>...</td>\n",
       "      <td>...</td>\n",
       "      <td>...</td>\n",
       "      <td>...</td>\n",
       "    </tr>\n",
       "    <tr>\n",
       "      <th>8084</th>\n",
       "      <td>1.0</td>\n",
       "      <td>NaN</td>\n",
       "      <td>NaN</td>\n",
       "      <td>NaN</td>\n",
       "    </tr>\n",
       "    <tr>\n",
       "      <th>8085</th>\n",
       "      <td>1.0</td>\n",
       "      <td>NaN</td>\n",
       "      <td>NaN</td>\n",
       "      <td>NaN</td>\n",
       "    </tr>\n",
       "    <tr>\n",
       "      <th>8086</th>\n",
       "      <td>1.0</td>\n",
       "      <td>NaN</td>\n",
       "      <td>NaN</td>\n",
       "      <td>NaN</td>\n",
       "    </tr>\n",
       "    <tr>\n",
       "      <th>8087</th>\n",
       "      <td>1.0</td>\n",
       "      <td>NaN</td>\n",
       "      <td>NaN</td>\n",
       "      <td>NaN</td>\n",
       "    </tr>\n",
       "    <tr>\n",
       "      <th>8088</th>\n",
       "      <td>1.0</td>\n",
       "      <td>NaN</td>\n",
       "      <td>NaN</td>\n",
       "      <td>NaN</td>\n",
       "    </tr>\n",
       "  </tbody>\n",
       "</table>\n",
       "<p>8089 rows × 4 columns</p>\n",
       "</div>"
      ]
     },
     "execution_count": 8,
     "metadata": {},
     "output_type": "execute_result"
    }
   ],
   "execution_count": 8
  },
  {
   "metadata": {
    "ExecuteTime": {
     "end_time": "2024-05-31T15:55:25.641931Z",
     "start_time": "2024-05-31T15:55:25.638336Z"
    }
   },
   "cell_type": "code",
   "source": "header_frequencies_data.isnull().sum()",
   "outputs": [
    {
     "data": {
      "text/plain": [
       "0    0\n",
       "1    0\n",
       "2    0\n",
       "3    0\n",
       "dtype: int64"
      ]
     },
     "execution_count": 11,
     "metadata": {},
     "output_type": "execute_result"
    }
   ],
   "execution_count": 11
  },
  {
   "cell_type": "code",
   "source": "header_frequencies_data.replace(np.nan, 0, inplace=True)",
   "metadata": {
    "collapsed": false,
    "ExecuteTime": {
     "end_time": "2024-05-31T15:55:23.851391Z",
     "start_time": "2024-05-31T15:55:23.848627Z"
    }
   },
   "outputs": [],
   "execution_count": 10
  },
  {
   "cell_type": "code",
   "source": "header_frequencies_data.rename(columns={0: 'chrome_old', 1: 'chrome_new', 2: 'firefox', 3: 'brave'}, inplace=True)",
   "metadata": {
    "collapsed": false,
    "ExecuteTime": {
     "end_time": "2024-05-31T15:55:27.494607Z",
     "start_time": "2024-05-31T15:55:27.492071Z"
    }
   },
   "outputs": [],
   "execution_count": 12
  },
  {
   "cell_type": "code",
   "source": "header_frequencies_data",
   "metadata": {
    "collapsed": false,
    "ExecuteTime": {
     "end_time": "2024-05-31T15:55:28.301779Z",
     "start_time": "2024-05-31T15:55:28.294675Z"
    }
   },
   "outputs": [
    {
     "data": {
      "text/plain": [
       "      chrome_old  chrome_new   firefox     brave\n",
       "0       854034.0    798773.0  831673.0  562922.0\n",
       "1       828185.0    776942.0  801280.0  558378.0\n",
       "2       719628.0    664986.0  701945.0  483258.0\n",
       "3       714809.0    656446.0  688631.0  482942.0\n",
       "4       660788.0    604963.0  635125.0  458499.0\n",
       "...          ...         ...       ...       ...\n",
       "8084         1.0         0.0       0.0       0.0\n",
       "8085         1.0         0.0       0.0       0.0\n",
       "8086         1.0         0.0       0.0       0.0\n",
       "8087         1.0         0.0       0.0       0.0\n",
       "8088         1.0         0.0       0.0       0.0\n",
       "\n",
       "[8089 rows x 4 columns]"
      ],
      "text/html": [
       "<div>\n",
       "<style scoped>\n",
       "    .dataframe tbody tr th:only-of-type {\n",
       "        vertical-align: middle;\n",
       "    }\n",
       "\n",
       "    .dataframe tbody tr th {\n",
       "        vertical-align: top;\n",
       "    }\n",
       "\n",
       "    .dataframe thead th {\n",
       "        text-align: right;\n",
       "    }\n",
       "</style>\n",
       "<table border=\"1\" class=\"dataframe\">\n",
       "  <thead>\n",
       "    <tr style=\"text-align: right;\">\n",
       "      <th></th>\n",
       "      <th>chrome_old</th>\n",
       "      <th>chrome_new</th>\n",
       "      <th>firefox</th>\n",
       "      <th>brave</th>\n",
       "    </tr>\n",
       "  </thead>\n",
       "  <tbody>\n",
       "    <tr>\n",
       "      <th>0</th>\n",
       "      <td>854034.0</td>\n",
       "      <td>798773.0</td>\n",
       "      <td>831673.0</td>\n",
       "      <td>562922.0</td>\n",
       "    </tr>\n",
       "    <tr>\n",
       "      <th>1</th>\n",
       "      <td>828185.0</td>\n",
       "      <td>776942.0</td>\n",
       "      <td>801280.0</td>\n",
       "      <td>558378.0</td>\n",
       "    </tr>\n",
       "    <tr>\n",
       "      <th>2</th>\n",
       "      <td>719628.0</td>\n",
       "      <td>664986.0</td>\n",
       "      <td>701945.0</td>\n",
       "      <td>483258.0</td>\n",
       "    </tr>\n",
       "    <tr>\n",
       "      <th>3</th>\n",
       "      <td>714809.0</td>\n",
       "      <td>656446.0</td>\n",
       "      <td>688631.0</td>\n",
       "      <td>482942.0</td>\n",
       "    </tr>\n",
       "    <tr>\n",
       "      <th>4</th>\n",
       "      <td>660788.0</td>\n",
       "      <td>604963.0</td>\n",
       "      <td>635125.0</td>\n",
       "      <td>458499.0</td>\n",
       "    </tr>\n",
       "    <tr>\n",
       "      <th>...</th>\n",
       "      <td>...</td>\n",
       "      <td>...</td>\n",
       "      <td>...</td>\n",
       "      <td>...</td>\n",
       "    </tr>\n",
       "    <tr>\n",
       "      <th>8084</th>\n",
       "      <td>1.0</td>\n",
       "      <td>0.0</td>\n",
       "      <td>0.0</td>\n",
       "      <td>0.0</td>\n",
       "    </tr>\n",
       "    <tr>\n",
       "      <th>8085</th>\n",
       "      <td>1.0</td>\n",
       "      <td>0.0</td>\n",
       "      <td>0.0</td>\n",
       "      <td>0.0</td>\n",
       "    </tr>\n",
       "    <tr>\n",
       "      <th>8086</th>\n",
       "      <td>1.0</td>\n",
       "      <td>0.0</td>\n",
       "      <td>0.0</td>\n",
       "      <td>0.0</td>\n",
       "    </tr>\n",
       "    <tr>\n",
       "      <th>8087</th>\n",
       "      <td>1.0</td>\n",
       "      <td>0.0</td>\n",
       "      <td>0.0</td>\n",
       "      <td>0.0</td>\n",
       "    </tr>\n",
       "    <tr>\n",
       "      <th>8088</th>\n",
       "      <td>1.0</td>\n",
       "      <td>0.0</td>\n",
       "      <td>0.0</td>\n",
       "      <td>0.0</td>\n",
       "    </tr>\n",
       "  </tbody>\n",
       "</table>\n",
       "<p>8089 rows × 4 columns</p>\n",
       "</div>"
      ]
     },
     "execution_count": 13,
     "metadata": {},
     "output_type": "execute_result"
    }
   ],
   "execution_count": 13
  },
  {
   "cell_type": "code",
   "execution_count": 28,
   "outputs": [
    {
     "name": "stderr",
     "output_type": "stream",
     "text": [
      "/Users/wolfrieder/Documents/github_repos/thesis_project_v2/venv/lib/python3.10/site-packages/seaborn/_decorators.py:36: FutureWarning: Pass the following variable as a keyword arg: x. From version 0.12, the only valid positional argument will be `data`, and passing other arguments without an explicit keyword will result in an error or misinterpretation.\n",
      "  warnings.warn(\n"
     ]
    },
    {
     "ename": "ValueError",
     "evalue": "If using all scalar values, you must pass an index",
     "output_type": "error",
     "traceback": [
      "\u001B[0;31m---------------------------------------------------------------------------\u001B[0m",
      "\u001B[0;31mValueError\u001B[0m                                Traceback (most recent call last)",
      "Cell \u001B[0;32mIn[28], line 4\u001B[0m\n\u001B[1;32m      2\u001B[0m fig \u001B[38;5;241m=\u001B[39m plt\u001B[38;5;241m.\u001B[39mfigure(figsize\u001B[38;5;241m=\u001B[39m(\u001B[38;5;241m12\u001B[39m, \u001B[38;5;241m4\u001B[39m))\n\u001B[1;32m      3\u001B[0m grid \u001B[38;5;241m=\u001B[39m plt\u001B[38;5;241m.\u001B[39mGridSpec(\u001B[38;5;241m1\u001B[39m, \u001B[38;5;241m3\u001B[39m)\n\u001B[0;32m----> 4\u001B[0m g \u001B[38;5;241m=\u001B[39m \u001B[43msns\u001B[49m\u001B[38;5;241;43m.\u001B[39;49m\u001B[43mlineplot\u001B[49m\u001B[43m(\u001B[49m\u001B[43ma\u001B[49m\u001B[43m,\u001B[49m\u001B[43m \u001B[49m\u001B[43max\u001B[49m\u001B[38;5;241;43m=\u001B[39;49m\u001B[43mgrid\u001B[49m\u001B[43m[\u001B[49m\u001B[38;5;241;43m0\u001B[39;49m\u001B[43m,\u001B[49m\u001B[43m \u001B[49m\u001B[43m:\u001B[49m\u001B[38;5;241;43m2\u001B[39;49m\u001B[43m]\u001B[49m\u001B[43m)\u001B[49m\n\u001B[1;32m      5\u001B[0m plt\u001B[38;5;241m.\u001B[39myscale(\u001B[38;5;124m'\u001B[39m\u001B[38;5;124mlog\u001B[39m\u001B[38;5;124m'\u001B[39m)\n\u001B[1;32m      6\u001B[0m g\u001B[38;5;241m.\u001B[39mset(\n\u001B[1;32m      7\u001B[0m     \u001B[38;5;66;03m# yticklabels=[0.01, 0.1, 1, 10, 100, 1000, 10000, 100000, 1000000],\u001B[39;00m\n\u001B[1;32m      8\u001B[0m     xlim\u001B[38;5;241m=\u001B[39m(\u001B[38;5;241m0\u001B[39m, \u001B[38;5;241m8000\u001B[39m),\n\u001B[1;32m      9\u001B[0m     title\u001B[38;5;241m=\u001B[39m\u001B[38;5;124m\"\u001B[39m\u001B[38;5;124mNumber of HTTP/S responses per header\u001B[39m\u001B[38;5;124m\"\u001B[39m\n\u001B[1;32m     10\u001B[0m )\n",
      "File \u001B[0;32m~/Documents/github_repos/thesis_project_v2/venv/lib/python3.10/site-packages/seaborn/_decorators.py:46\u001B[0m, in \u001B[0;36m_deprecate_positional_args.<locals>.inner_f\u001B[0;34m(*args, **kwargs)\u001B[0m\n\u001B[1;32m     36\u001B[0m     warnings\u001B[38;5;241m.\u001B[39mwarn(\n\u001B[1;32m     37\u001B[0m         \u001B[38;5;124m\"\u001B[39m\u001B[38;5;124mPass the following variable\u001B[39m\u001B[38;5;132;01m{}\u001B[39;00m\u001B[38;5;124m as \u001B[39m\u001B[38;5;132;01m{}\u001B[39;00m\u001B[38;5;124mkeyword arg\u001B[39m\u001B[38;5;132;01m{}\u001B[39;00m\u001B[38;5;124m: \u001B[39m\u001B[38;5;132;01m{}\u001B[39;00m\u001B[38;5;124m. \u001B[39m\u001B[38;5;124m\"\u001B[39m\n\u001B[1;32m     38\u001B[0m         \u001B[38;5;124m\"\u001B[39m\u001B[38;5;124mFrom version 0.12, the only valid positional argument \u001B[39m\u001B[38;5;124m\"\u001B[39m\n\u001B[0;32m   (...)\u001B[0m\n\u001B[1;32m     43\u001B[0m         \u001B[38;5;167;01mFutureWarning\u001B[39;00m\n\u001B[1;32m     44\u001B[0m     )\n\u001B[1;32m     45\u001B[0m kwargs\u001B[38;5;241m.\u001B[39mupdate({k: arg \u001B[38;5;28;01mfor\u001B[39;00m k, arg \u001B[38;5;129;01min\u001B[39;00m \u001B[38;5;28mzip\u001B[39m(sig\u001B[38;5;241m.\u001B[39mparameters, args)})\n\u001B[0;32m---> 46\u001B[0m \u001B[38;5;28;01mreturn\u001B[39;00m \u001B[43mf\u001B[49m\u001B[43m(\u001B[49m\u001B[38;5;241;43m*\u001B[39;49m\u001B[38;5;241;43m*\u001B[39;49m\u001B[43mkwargs\u001B[49m\u001B[43m)\u001B[49m\n",
      "File \u001B[0;32m~/Documents/github_repos/thesis_project_v2/venv/lib/python3.10/site-packages/seaborn/relational.py:678\u001B[0m, in \u001B[0;36mlineplot\u001B[0;34m(x, y, hue, size, style, data, palette, hue_order, hue_norm, sizes, size_order, size_norm, dashes, markers, style_order, units, estimator, ci, n_boot, seed, sort, err_style, err_kws, legend, ax, **kwargs)\u001B[0m\n\u001B[1;32m    663\u001B[0m \u001B[38;5;129m@_deprecate_positional_args\u001B[39m\n\u001B[1;32m    664\u001B[0m \u001B[38;5;28;01mdef\u001B[39;00m \u001B[38;5;21mlineplot\u001B[39m(\n\u001B[1;32m    665\u001B[0m     \u001B[38;5;241m*\u001B[39m,\n\u001B[0;32m   (...)\u001B[0m\n\u001B[1;32m    674\u001B[0m     legend\u001B[38;5;241m=\u001B[39m\u001B[38;5;124m\"\u001B[39m\u001B[38;5;124mauto\u001B[39m\u001B[38;5;124m\"\u001B[39m, ax\u001B[38;5;241m=\u001B[39m\u001B[38;5;28;01mNone\u001B[39;00m, \u001B[38;5;241m*\u001B[39m\u001B[38;5;241m*\u001B[39mkwargs\n\u001B[1;32m    675\u001B[0m ):\n\u001B[1;32m    677\u001B[0m     variables \u001B[38;5;241m=\u001B[39m _LinePlotter\u001B[38;5;241m.\u001B[39mget_semantics(\u001B[38;5;28mlocals\u001B[39m())\n\u001B[0;32m--> 678\u001B[0m     p \u001B[38;5;241m=\u001B[39m \u001B[43m_LinePlotter\u001B[49m\u001B[43m(\u001B[49m\n\u001B[1;32m    679\u001B[0m \u001B[43m        \u001B[49m\u001B[43mdata\u001B[49m\u001B[38;5;241;43m=\u001B[39;49m\u001B[43mdata\u001B[49m\u001B[43m,\u001B[49m\u001B[43m \u001B[49m\u001B[43mvariables\u001B[49m\u001B[38;5;241;43m=\u001B[39;49m\u001B[43mvariables\u001B[49m\u001B[43m,\u001B[49m\n\u001B[1;32m    680\u001B[0m \u001B[43m        \u001B[49m\u001B[43mestimator\u001B[49m\u001B[38;5;241;43m=\u001B[39;49m\u001B[43mestimator\u001B[49m\u001B[43m,\u001B[49m\u001B[43m \u001B[49m\u001B[43mci\u001B[49m\u001B[38;5;241;43m=\u001B[39;49m\u001B[43mci\u001B[49m\u001B[43m,\u001B[49m\u001B[43m \u001B[49m\u001B[43mn_boot\u001B[49m\u001B[38;5;241;43m=\u001B[39;49m\u001B[43mn_boot\u001B[49m\u001B[43m,\u001B[49m\u001B[43m \u001B[49m\u001B[43mseed\u001B[49m\u001B[38;5;241;43m=\u001B[39;49m\u001B[43mseed\u001B[49m\u001B[43m,\u001B[49m\n\u001B[1;32m    681\u001B[0m \u001B[43m        \u001B[49m\u001B[43msort\u001B[49m\u001B[38;5;241;43m=\u001B[39;49m\u001B[43msort\u001B[49m\u001B[43m,\u001B[49m\u001B[43m \u001B[49m\u001B[43merr_style\u001B[49m\u001B[38;5;241;43m=\u001B[39;49m\u001B[43merr_style\u001B[49m\u001B[43m,\u001B[49m\u001B[43m \u001B[49m\u001B[43merr_kws\u001B[49m\u001B[38;5;241;43m=\u001B[39;49m\u001B[43merr_kws\u001B[49m\u001B[43m,\u001B[49m\u001B[43m \u001B[49m\u001B[43mlegend\u001B[49m\u001B[38;5;241;43m=\u001B[39;49m\u001B[43mlegend\u001B[49m\u001B[43m,\u001B[49m\n\u001B[1;32m    682\u001B[0m \u001B[43m    \u001B[49m\u001B[43m)\u001B[49m\n\u001B[1;32m    684\u001B[0m     p\u001B[38;5;241m.\u001B[39mmap_hue(palette\u001B[38;5;241m=\u001B[39mpalette, order\u001B[38;5;241m=\u001B[39mhue_order, norm\u001B[38;5;241m=\u001B[39mhue_norm)\n\u001B[1;32m    685\u001B[0m     p\u001B[38;5;241m.\u001B[39mmap_size(sizes\u001B[38;5;241m=\u001B[39msizes, order\u001B[38;5;241m=\u001B[39msize_order, norm\u001B[38;5;241m=\u001B[39msize_norm)\n",
      "File \u001B[0;32m~/Documents/github_repos/thesis_project_v2/venv/lib/python3.10/site-packages/seaborn/relational.py:367\u001B[0m, in \u001B[0;36m_LinePlotter.__init__\u001B[0;34m(self, data, variables, estimator, ci, n_boot, seed, sort, err_style, err_kws, legend)\u001B[0m\n\u001B[1;32m    353\u001B[0m \u001B[38;5;28;01mdef\u001B[39;00m \u001B[38;5;21m__init__\u001B[39m(\n\u001B[1;32m    354\u001B[0m     \u001B[38;5;28mself\u001B[39m, \u001B[38;5;241m*\u001B[39m,\n\u001B[1;32m    355\u001B[0m     data\u001B[38;5;241m=\u001B[39m\u001B[38;5;28;01mNone\u001B[39;00m, variables\u001B[38;5;241m=\u001B[39m{},\n\u001B[0;32m   (...)\u001B[0m\n\u001B[1;32m    361\u001B[0m     \u001B[38;5;66;03m# the kind of plot to draw, but for the time being we need to set\u001B[39;00m\n\u001B[1;32m    362\u001B[0m     \u001B[38;5;66;03m# this information so the SizeMapping can use it\u001B[39;00m\n\u001B[1;32m    363\u001B[0m     \u001B[38;5;28mself\u001B[39m\u001B[38;5;241m.\u001B[39m_default_size_range \u001B[38;5;241m=\u001B[39m (\n\u001B[1;32m    364\u001B[0m         np\u001B[38;5;241m.\u001B[39mr_[\u001B[38;5;241m.5\u001B[39m, \u001B[38;5;241m2\u001B[39m] \u001B[38;5;241m*\u001B[39m mpl\u001B[38;5;241m.\u001B[39mrcParams[\u001B[38;5;124m\"\u001B[39m\u001B[38;5;124mlines.linewidth\u001B[39m\u001B[38;5;124m\"\u001B[39m]\n\u001B[1;32m    365\u001B[0m     )\n\u001B[0;32m--> 367\u001B[0m     \u001B[38;5;28;43msuper\u001B[39;49m\u001B[43m(\u001B[49m\u001B[43m)\u001B[49m\u001B[38;5;241;43m.\u001B[39;49m\u001B[38;5;21;43m__init__\u001B[39;49m\u001B[43m(\u001B[49m\u001B[43mdata\u001B[49m\u001B[38;5;241;43m=\u001B[39;49m\u001B[43mdata\u001B[49m\u001B[43m,\u001B[49m\u001B[43m \u001B[49m\u001B[43mvariables\u001B[49m\u001B[38;5;241;43m=\u001B[39;49m\u001B[43mvariables\u001B[49m\u001B[43m)\u001B[49m\n\u001B[1;32m    369\u001B[0m     \u001B[38;5;28mself\u001B[39m\u001B[38;5;241m.\u001B[39mestimator \u001B[38;5;241m=\u001B[39m estimator\n\u001B[1;32m    370\u001B[0m     \u001B[38;5;28mself\u001B[39m\u001B[38;5;241m.\u001B[39mci \u001B[38;5;241m=\u001B[39m ci\n",
      "File \u001B[0;32m~/Documents/github_repos/thesis_project_v2/venv/lib/python3.10/site-packages/seaborn/_core.py:604\u001B[0m, in \u001B[0;36mVectorPlotter.__init__\u001B[0;34m(self, data, variables)\u001B[0m\n\u001B[1;32m    602\u001B[0m \u001B[38;5;28;01mdef\u001B[39;00m \u001B[38;5;21m__init__\u001B[39m(\u001B[38;5;28mself\u001B[39m, data\u001B[38;5;241m=\u001B[39m\u001B[38;5;28;01mNone\u001B[39;00m, variables\u001B[38;5;241m=\u001B[39m{}):\n\u001B[0;32m--> 604\u001B[0m     \u001B[38;5;28;43mself\u001B[39;49m\u001B[38;5;241;43m.\u001B[39;49m\u001B[43massign_variables\u001B[49m\u001B[43m(\u001B[49m\u001B[43mdata\u001B[49m\u001B[43m,\u001B[49m\u001B[43m \u001B[49m\u001B[43mvariables\u001B[49m\u001B[43m)\u001B[49m\n\u001B[1;32m    606\u001B[0m     \u001B[38;5;28;01mfor\u001B[39;00m var, \u001B[38;5;28mcls\u001B[39m \u001B[38;5;129;01min\u001B[39;00m \u001B[38;5;28mself\u001B[39m\u001B[38;5;241m.\u001B[39m_semantic_mappings\u001B[38;5;241m.\u001B[39mitems():\n\u001B[1;32m    607\u001B[0m \n\u001B[1;32m    608\u001B[0m         \u001B[38;5;66;03m# Create the mapping function\u001B[39;00m\n\u001B[1;32m    609\u001B[0m         map_func \u001B[38;5;241m=\u001B[39m partial(\u001B[38;5;28mcls\u001B[39m\u001B[38;5;241m.\u001B[39mmap, plotter\u001B[38;5;241m=\u001B[39m\u001B[38;5;28mself\u001B[39m)\n",
      "File \u001B[0;32m~/Documents/github_repos/thesis_project_v2/venv/lib/python3.10/site-packages/seaborn/_core.py:667\u001B[0m, in \u001B[0;36mVectorPlotter.assign_variables\u001B[0;34m(self, data, variables)\u001B[0m\n\u001B[1;32m    665\u001B[0m \u001B[38;5;28;01melse\u001B[39;00m:\n\u001B[1;32m    666\u001B[0m     \u001B[38;5;28mself\u001B[39m\u001B[38;5;241m.\u001B[39minput_format \u001B[38;5;241m=\u001B[39m \u001B[38;5;124m\"\u001B[39m\u001B[38;5;124mlong\u001B[39m\u001B[38;5;124m\"\u001B[39m\n\u001B[0;32m--> 667\u001B[0m     plot_data, variables \u001B[38;5;241m=\u001B[39m \u001B[38;5;28;43mself\u001B[39;49m\u001B[38;5;241;43m.\u001B[39;49m\u001B[43m_assign_variables_longform\u001B[49m\u001B[43m(\u001B[49m\n\u001B[1;32m    668\u001B[0m \u001B[43m        \u001B[49m\u001B[43mdata\u001B[49m\u001B[43m,\u001B[49m\u001B[43m \u001B[49m\u001B[38;5;241;43m*\u001B[39;49m\u001B[38;5;241;43m*\u001B[39;49m\u001B[43mvariables\u001B[49m\u001B[43m,\u001B[49m\n\u001B[1;32m    669\u001B[0m \u001B[43m    \u001B[49m\u001B[43m)\u001B[49m\n\u001B[1;32m    671\u001B[0m \u001B[38;5;28mself\u001B[39m\u001B[38;5;241m.\u001B[39mplot_data \u001B[38;5;241m=\u001B[39m plot_data\n\u001B[1;32m    672\u001B[0m \u001B[38;5;28mself\u001B[39m\u001B[38;5;241m.\u001B[39mvariables \u001B[38;5;241m=\u001B[39m variables\n",
      "File \u001B[0;32m~/Documents/github_repos/thesis_project_v2/venv/lib/python3.10/site-packages/seaborn/_core.py:911\u001B[0m, in \u001B[0;36mVectorPlotter._assign_variables_longform\u001B[0;34m(self, data, **kwargs)\u001B[0m\n\u001B[1;32m    907\u001B[0m         variables[key] \u001B[38;5;241m=\u001B[39m \u001B[38;5;28mgetattr\u001B[39m(val, \u001B[38;5;124m\"\u001B[39m\u001B[38;5;124mname\u001B[39m\u001B[38;5;124m\"\u001B[39m, \u001B[38;5;28;01mNone\u001B[39;00m)\n\u001B[1;32m    909\u001B[0m \u001B[38;5;66;03m# Construct a tidy plot DataFrame. This will convert a number of\u001B[39;00m\n\u001B[1;32m    910\u001B[0m \u001B[38;5;66;03m# types automatically, aligning on index in case of pandas objects\u001B[39;00m\n\u001B[0;32m--> 911\u001B[0m plot_data \u001B[38;5;241m=\u001B[39m \u001B[43mpd\u001B[49m\u001B[38;5;241;43m.\u001B[39;49m\u001B[43mDataFrame\u001B[49m\u001B[43m(\u001B[49m\u001B[43mplot_data\u001B[49m\u001B[43m)\u001B[49m\n\u001B[1;32m    913\u001B[0m \u001B[38;5;66;03m# Reduce the variables dictionary to fields with valid data\u001B[39;00m\n\u001B[1;32m    914\u001B[0m variables \u001B[38;5;241m=\u001B[39m {\n\u001B[1;32m    915\u001B[0m     var: name\n\u001B[1;32m    916\u001B[0m     \u001B[38;5;28;01mfor\u001B[39;00m var, name \u001B[38;5;129;01min\u001B[39;00m variables\u001B[38;5;241m.\u001B[39mitems()\n\u001B[1;32m    917\u001B[0m     \u001B[38;5;28;01mif\u001B[39;00m plot_data[var]\u001B[38;5;241m.\u001B[39mnotnull()\u001B[38;5;241m.\u001B[39many()\n\u001B[1;32m    918\u001B[0m }\n",
      "File \u001B[0;32m~/Documents/github_repos/thesis_project_v2/venv/lib/python3.10/site-packages/pandas/core/frame.py:709\u001B[0m, in \u001B[0;36mDataFrame.__init__\u001B[0;34m(self, data, index, columns, dtype, copy)\u001B[0m\n\u001B[1;32m    703\u001B[0m     mgr \u001B[38;5;241m=\u001B[39m \u001B[38;5;28mself\u001B[39m\u001B[38;5;241m.\u001B[39m_init_mgr(\n\u001B[1;32m    704\u001B[0m         data, axes\u001B[38;5;241m=\u001B[39m{\u001B[38;5;124m\"\u001B[39m\u001B[38;5;124mindex\u001B[39m\u001B[38;5;124m\"\u001B[39m: index, \u001B[38;5;124m\"\u001B[39m\u001B[38;5;124mcolumns\u001B[39m\u001B[38;5;124m\"\u001B[39m: columns}, dtype\u001B[38;5;241m=\u001B[39mdtype, copy\u001B[38;5;241m=\u001B[39mcopy\n\u001B[1;32m    705\u001B[0m     )\n\u001B[1;32m    707\u001B[0m \u001B[38;5;28;01melif\u001B[39;00m \u001B[38;5;28misinstance\u001B[39m(data, \u001B[38;5;28mdict\u001B[39m):\n\u001B[1;32m    708\u001B[0m     \u001B[38;5;66;03m# GH#38939 de facto copy defaults to False only in non-dict cases\u001B[39;00m\n\u001B[0;32m--> 709\u001B[0m     mgr \u001B[38;5;241m=\u001B[39m \u001B[43mdict_to_mgr\u001B[49m\u001B[43m(\u001B[49m\u001B[43mdata\u001B[49m\u001B[43m,\u001B[49m\u001B[43m \u001B[49m\u001B[43mindex\u001B[49m\u001B[43m,\u001B[49m\u001B[43m \u001B[49m\u001B[43mcolumns\u001B[49m\u001B[43m,\u001B[49m\u001B[43m \u001B[49m\u001B[43mdtype\u001B[49m\u001B[38;5;241;43m=\u001B[39;49m\u001B[43mdtype\u001B[49m\u001B[43m,\u001B[49m\u001B[43m \u001B[49m\u001B[43mcopy\u001B[49m\u001B[38;5;241;43m=\u001B[39;49m\u001B[43mcopy\u001B[49m\u001B[43m,\u001B[49m\u001B[43m \u001B[49m\u001B[43mtyp\u001B[49m\u001B[38;5;241;43m=\u001B[39;49m\u001B[43mmanager\u001B[49m\u001B[43m)\u001B[49m\n\u001B[1;32m    710\u001B[0m \u001B[38;5;28;01melif\u001B[39;00m \u001B[38;5;28misinstance\u001B[39m(data, ma\u001B[38;5;241m.\u001B[39mMaskedArray):\n\u001B[1;32m    711\u001B[0m     \u001B[38;5;28;01mfrom\u001B[39;00m \u001B[38;5;21;01mnumpy\u001B[39;00m\u001B[38;5;21;01m.\u001B[39;00m\u001B[38;5;21;01mma\u001B[39;00m \u001B[38;5;28;01mimport\u001B[39;00m mrecords\n",
      "File \u001B[0;32m~/Documents/github_repos/thesis_project_v2/venv/lib/python3.10/site-packages/pandas/core/internals/construction.py:481\u001B[0m, in \u001B[0;36mdict_to_mgr\u001B[0;34m(data, index, columns, dtype, typ, copy)\u001B[0m\n\u001B[1;32m    477\u001B[0m     \u001B[38;5;28;01melse\u001B[39;00m:\n\u001B[1;32m    478\u001B[0m         \u001B[38;5;66;03m# dtype check to exclude e.g. range objects, scalars\u001B[39;00m\n\u001B[1;32m    479\u001B[0m         arrays \u001B[38;5;241m=\u001B[39m [x\u001B[38;5;241m.\u001B[39mcopy() \u001B[38;5;28;01mif\u001B[39;00m \u001B[38;5;28mhasattr\u001B[39m(x, \u001B[38;5;124m\"\u001B[39m\u001B[38;5;124mdtype\u001B[39m\u001B[38;5;124m\"\u001B[39m) \u001B[38;5;28;01melse\u001B[39;00m x \u001B[38;5;28;01mfor\u001B[39;00m x \u001B[38;5;129;01min\u001B[39;00m arrays]\n\u001B[0;32m--> 481\u001B[0m \u001B[38;5;28;01mreturn\u001B[39;00m \u001B[43marrays_to_mgr\u001B[49m\u001B[43m(\u001B[49m\u001B[43marrays\u001B[49m\u001B[43m,\u001B[49m\u001B[43m \u001B[49m\u001B[43mcolumns\u001B[49m\u001B[43m,\u001B[49m\u001B[43m \u001B[49m\u001B[43mindex\u001B[49m\u001B[43m,\u001B[49m\u001B[43m \u001B[49m\u001B[43mdtype\u001B[49m\u001B[38;5;241;43m=\u001B[39;49m\u001B[43mdtype\u001B[49m\u001B[43m,\u001B[49m\u001B[43m \u001B[49m\u001B[43mtyp\u001B[49m\u001B[38;5;241;43m=\u001B[39;49m\u001B[43mtyp\u001B[49m\u001B[43m,\u001B[49m\u001B[43m \u001B[49m\u001B[43mconsolidate\u001B[49m\u001B[38;5;241;43m=\u001B[39;49m\u001B[43mcopy\u001B[49m\u001B[43m)\u001B[49m\n",
      "File \u001B[0;32m~/Documents/github_repos/thesis_project_v2/venv/lib/python3.10/site-packages/pandas/core/internals/construction.py:115\u001B[0m, in \u001B[0;36marrays_to_mgr\u001B[0;34m(arrays, columns, index, dtype, verify_integrity, typ, consolidate)\u001B[0m\n\u001B[1;32m    112\u001B[0m \u001B[38;5;28;01mif\u001B[39;00m verify_integrity:\n\u001B[1;32m    113\u001B[0m     \u001B[38;5;66;03m# figure out the index, if necessary\u001B[39;00m\n\u001B[1;32m    114\u001B[0m     \u001B[38;5;28;01mif\u001B[39;00m index \u001B[38;5;129;01mis\u001B[39;00m \u001B[38;5;28;01mNone\u001B[39;00m:\n\u001B[0;32m--> 115\u001B[0m         index \u001B[38;5;241m=\u001B[39m \u001B[43m_extract_index\u001B[49m\u001B[43m(\u001B[49m\u001B[43marrays\u001B[49m\u001B[43m)\u001B[49m\n\u001B[1;32m    116\u001B[0m     \u001B[38;5;28;01melse\u001B[39;00m:\n\u001B[1;32m    117\u001B[0m         index \u001B[38;5;241m=\u001B[39m ensure_index(index)\n",
      "File \u001B[0;32m~/Documents/github_repos/thesis_project_v2/venv/lib/python3.10/site-packages/pandas/core/internals/construction.py:645\u001B[0m, in \u001B[0;36m_extract_index\u001B[0;34m(data)\u001B[0m\n\u001B[1;32m    642\u001B[0m         \u001B[38;5;28;01mraise\u001B[39;00m \u001B[38;5;167;01mValueError\u001B[39;00m(\u001B[38;5;124m\"\u001B[39m\u001B[38;5;124mPer-column arrays must each be 1-dimensional\u001B[39m\u001B[38;5;124m\"\u001B[39m)\n\u001B[1;32m    644\u001B[0m \u001B[38;5;28;01mif\u001B[39;00m \u001B[38;5;129;01mnot\u001B[39;00m indexes \u001B[38;5;129;01mand\u001B[39;00m \u001B[38;5;129;01mnot\u001B[39;00m raw_lengths:\n\u001B[0;32m--> 645\u001B[0m     \u001B[38;5;28;01mraise\u001B[39;00m \u001B[38;5;167;01mValueError\u001B[39;00m(\u001B[38;5;124m\"\u001B[39m\u001B[38;5;124mIf using all scalar values, you must pass an index\u001B[39m\u001B[38;5;124m\"\u001B[39m)\n\u001B[1;32m    647\u001B[0m \u001B[38;5;28;01mif\u001B[39;00m have_series:\n\u001B[1;32m    648\u001B[0m     index \u001B[38;5;241m=\u001B[39m union_indexes(indexes)\n",
      "\u001B[0;31mValueError\u001B[0m: If using all scalar values, you must pass an index"
     ]
    },
    {
     "data": {
      "text/plain": "<Figure size 1200x400 with 0 Axes>"
     },
     "metadata": {},
     "output_type": "display_data"
    }
   ],
   "source": [
    "sns.set_theme(style=\"white\", font_scale=1.2)\n",
    "fig = plt.figure(figsize=(12, 4))\n",
    "grid = plt.GridSpec(1, 3)\n",
    "g = sns.lineplot(a, ax=grid[0, :2])\n",
    "plt.yscale('log')\n",
    "g.set(\n",
    "    # yticklabels=[0.01, 0.1, 1, 10, 100, 1000, 10000, 100000, 1000000],\n",
    "    xlim=(0, 8000),\n",
    "    title=\"Number of HTTP/S responses per header\"\n",
    ")\n",
    "f = sns.catplot(a, kind='boxen', ax=grid[0, 2:])\n",
    "plt.yscale('log')"
   ],
   "metadata": {
    "collapsed": false,
    "ExecuteTime": {
     "end_time": "2023-11-21T10:53:47.391837Z",
     "start_time": "2023-11-21T10:53:46.958058Z"
    }
   }
  },
  {
   "cell_type": "code",
   "execution_count": 9,
   "outputs": [
    {
     "data": {
      "text/plain": "(8089, 7896, 8037, 7365)"
     },
     "execution_count": 9,
     "metadata": {},
     "output_type": "execute_result"
    }
   ],
   "source": [
    "len(chrome_old_values_count), len(chrome_new_values_count), len(firefox_values_count), len(brave_values_count)"
   ],
   "metadata": {
    "collapsed": false,
    "ExecuteTime": {
     "end_time": "2023-11-21T10:47:33.061936Z",
     "start_time": "2023-11-21T10:47:33.059338Z"
    }
   }
  },
  {
   "cell_type": "code",
   "execution_count": 29,
   "outputs": [
    {
     "data": {
      "text/plain": "array([854034, 828185, 719628, ...,      1,      1,      1])"
     },
     "execution_count": 29,
     "metadata": {},
     "output_type": "execute_result"
    }
   ],
   "source": [
    "chrome_old_values_count"
   ],
   "metadata": {
    "collapsed": false,
    "ExecuteTime": {
     "end_time": "2023-11-21T10:53:53.434330Z",
     "start_time": "2023-11-21T10:53:53.428193Z"
    }
   }
  },
  {
   "cell_type": "code",
   "execution_count": 47,
   "outputs": [
    {
     "data": {
      "text/plain": "<Figure size 800x1000 with 1 Axes>",
      "image/png": "[encoded data removed]"
     },
     "metadata": {},
     "output_type": "display_data"
    }
   ],
   "source": [
    "# Assuming 'a_long' is your long format dataframe\n",
    "palette = [\"#E69F00\", \"#56B4E9\", \"#009E73\", \"#0072B2\", \"#D55E00\", \"#CC79A7\", \"#F0E442\"]\n",
    "\n",
    "# Start plotting\n",
    "sns.set(style=\"whitegrid\")\n",
    "\n",
    "# Melt the dataframe to long format\n",
    "a_long = pd.melt(a, id_vars=['measurement'], var_name='Browser', value_name='Frequency')\n",
    "\n",
    "# Create the figure and the axes (subplots)\n",
    "fig, ax = plt.subplots(figsize=(8, 10))  # Adjust the size to fit your needs\n",
    "\n",
    "# Create the raincloud plot (horizontal orientation)\n",
    "pt.half_violinplot(y='Browser', x='Frequency', data=a_long, inner=None, bw=.2, \n",
    "                   cut=0, scale=\"area\", width=.6, linewidth=0, alpha=.6, palette=palette, ax=ax, orient='h')\n",
    "\n",
    "# Add the boxplot (horizontal orientation) with whiskers\n",
    "sns.boxplot(y='Browser', x='Frequency', data=a_long, width=.1, linewidth=1, ax=ax,\n",
    "            showcaps=True, boxprops={'facecolor':'none', \"zorder\":10},\n",
    "            whiskerprops={'linewidth':1}, zorder=10, orient='h')\n",
    "\n",
    "# Add a 2D histogram (hexbin plot)\n",
    "# You will need to transform the categorical 'Browser' axis into a numeric scale for hexbin\n",
    "browser_categories = a_long['Browser'].astype('category').cat.codes\n",
    "plt.hexbin(a_long['Frequency'], browser_categories, gridsize=50, cmap='Blues', bins='log', mincnt=1)\n",
    "\n",
    "# Adjust the x scale to logarithmic\n",
    "ax.set_xscale('log')\n",
    "\n",
    "# Format the x-axis to show full numbers (if necessary)\n",
    "ax.xaxis.set_major_formatter(plt.FuncFormatter(lambda x, _: '{:0.0f}'.format(x)))\n",
    "\n",
    "# Set the title and labels\n",
    "ax.set_title(\"Raincloud Plot of HTTP/S Response Header Frequencies by Browser\", fontsize=16)\n",
    "\n",
    "# Set browser labels as per the first image\n",
    "browser_labels = ['Chrome 22', 'Chrome 23', 'Firefox 22', 'Brave 22']\n",
    "ax.set_yticklabels(browser_labels)\n",
    "\n",
    "# Set X and Y labels\n",
    "ax.set_xlabel(\"Frequency\", fontsize=14)\n",
    "ax.set_ylabel(\"Browser\", fontsize=14)\n",
    "\n",
    "# Optionally, remove the top spine for aesthetics similar to the uploaded image if horizontal\n",
    "sns.despine(top=True)\n",
    "\n",
    "plt.tight_layout()\n",
    "plt.show()"
   ],
   "metadata": {
    "collapsed": false,
    "ExecuteTime": {
     "end_time": "2023-11-21T14:04:52.304052Z",
     "start_time": "2023-11-21T14:04:51.767080Z"
    }
   }
  },
  {
   "cell_type": "code",
   "source": [
    "sns.set_theme(style=\"whitegrid\", font_scale=1.2)\n",
    "fig = plt.figure(figsize=(16, 4))\n",
    "grid = plt.GridSpec(1, 3, wspace=0.4)  # Add wspace for space between plots\n",
    "plt.rcParams.update({'mathtext.default': 'regular'})\n",
    "# Line plot\n",
    "ax1 = fig.add_subplot(grid[0, :2])\n",
    "linestyles = ['-', '--', '-.', ':', '-', '--', '-.']\n",
    "colors = [\"#E69F00\", \"#56B4E9\", \"#009E73\", \"#0072B2\", \"#D55E00\", \"#CC79A7\", \"#F0E442\"]\n",
    "labels = ['$Chrome_{22}$', '$Chrome_{23}$', '$Firefox_{22}$', '$Brave_{22}$']\n",
    "\n",
    "# Assuming 'a' is structured with columns for each browser:\n",
    "for idx, browser in enumerate(a.columns):\n",
    "    sns.lineplot(data=a, x=a.index, y=browser, ax=ax1, linestyle=linestyles[idx], color=colors[idx], label=labels[idx]) # Assuming 'a' is the dataset for the line plot\n",
    "ax1.set_yscale('log')\n",
    "ax1.set_ylabel('Frequency (Log Scale)')\n",
    "ax1.set_xlim(0, 8000)\n",
    "ax1.set_title(\"Frequency Distribution of HTTP/S Response Headers by Browser\", fontsize=14)\n",
    "ax1.legend(loc=\"upper right\", title=\"Browser\")\n",
    "\n",
    "# Catplot (boxen plot)\n",
    "# ax2 = fig.add_subplot(grid[0, 2])\n",
    "# sns.boxenplot(data=a, ax=ax2, palette=[\"#E69F00\", \"#56B4E9\", \"#009E73\", \"#0072B2\", \"#D55E00\", \"#CC79A7\", \"#F0E442\"])  # Assuming 'a' is the dataset for the boxen plot\n",
    "# ax2.set_yscale('log')\n",
    "# ax2.set_title(\"Boxen Plot of HTTP/S Response\\n Header Frequencies by Browser\", fontsize=14) \n",
    "# ax2.set_ylabel('Frequency (Log Scale)')\n",
    "# xticklabels = labels\n",
    "# # ax2.set_yticklabels([]) \n",
    "# ax2.set_xticklabels(xticklabels)\n",
    "\n",
    "# Melt the DataFrame for the strip plot\n",
    "# a_melted = a.melt(var_name='Browser', value_name='Frequency')\n",
    "# a_log = np.log10(a + 1)\n",
    "\n",
    "# Heatmap\n",
    "ax2 = fig.add_subplot(grid[0, 2])\n",
    "sns.heatmap(a_log, cmap='YlGnBu', annot=True, fmt=\"g\", cbar_kws={'label': 'Frequency'}, ax=ax2)\n",
    "ax2.set_title(\"Heatmap of HTTP/S Response\\n Header Frequencies by Browser\", fontsize=14)\n",
    "ax2.set_xlabel('Headers')\n",
    "ax2.set_ylabel('Browser')\n",
    "ax2.set_xticks(range(len(a)))\n",
    "ax2.set_xticklabels(a.index, rotation=90)\n",
    "\n",
    "# Jittered Strip Plot\n",
    "# ax2 = fig.add_subplot(grid[0, 2])\n",
    "# sns.stripplot(data=a_melted, x='Browser', y='Frequency', palette=colors, jitter=True, dodge=True, alpha=0.7)\n",
    "# ax2.set_yscale('log')\n",
    "# ax2.set_title(\"Jittered Strip Plot of HTTP/S Response\\n Header Frequencies by Browser\", fontsize=14) \n",
    "# ax2.set_ylabel('Frequency (Log Scale)')\n",
    "# ax2.set_xticklabels(labels)\n",
    "\n",
    "# Bar plot with error bars\n",
    "# ax3 = fig.add_subplot(grid[0, 3])\n",
    "# sns.barplot(data=a, ax=ax3, capsize=0.1, palette=[\"#E69F00\", \"#56B4E9\", \"#009E73\", \"#0072B2\", \"#D55E00\", \"#CC79A7\", \"#F0E442\"])\n",
    "# ax3.set_yscale('log')\n",
    "# ax3.set_yticks(ax1.get_yticks())  # Use the same y-ticks as ax1\n",
    "# ax3.set_yticklabels(ax1.get_yticklabels()) \n",
    "# ax3.set_ylabel('Average Frequency (Log Scale)')\n",
    "# ax3.set_title(\"Average Frequency of HTTP/S Response\\n Headers by Browser with Error Bars\", fontsize=14)\n",
    "\n",
    "# plt.savefig('headers_frequency.pdf', bbox_inches='tight')\n",
    "plt.show()"
   ],
   "metadata": {
    "collapsed": false,
    "ExecuteTime": {
     "end_time": "2024-05-31T08:57:20.994216Z",
     "start_time": "2024-05-31T08:56:08.026206Z"
    }
   },
   "outputs": [
    {
     "data": {
      "text/plain": [
       "<Figure size 1600x400 with 3 Axes>"
      ],
      "image/png": "[encoded data removed]"
     },
     "metadata": {},
     "output_type": "display_data"
    }
   ],
   "execution_count": 32
  },
  {
   "cell_type": "markdown",
   "source": [
    "Figure 1 illustrates the usage of HTTP/S response headers across four different browsers. The left plot (a) displays the frequency distribution of HTTP/S response headers for each browser, showing how often each header is present in the dataset. The right plot (b) presents a boxen plot of the same data, which provides a more detailed view of the distribution, revealing variations and trends among the browsers. The browsers are represented by their abbreviations: CO (Browser 1), CN (Browser 2), F (Browser 3), and B (Browser 4). Both plots are shown on a logarithmic scale to better visualize the wide range of header frequency values."
   ],
   "metadata": {
    "collapsed": false
   }
  },
  {
   "metadata": {
    "ExecuteTime": {
     "end_time": "2024-05-31T09:07:07.257195Z",
     "start_time": "2024-05-31T09:07:07.251643Z"
    }
   },
   "cell_type": "code",
   "source": "np.log10(a['chrome_old'])",
   "outputs": [
    {
     "data": {
      "text/plain": [
       "0       5.931475\n",
       "1       5.918127\n",
       "2       5.857108\n",
       "3       5.854190\n",
       "4       5.820062\n",
       "          ...   \n",
       "8084    0.000000\n",
       "8085    0.000000\n",
       "8086    0.000000\n",
       "8087    0.000000\n",
       "8088    0.000000\n",
       "Name: chrome_old, Length: 8089, dtype: float64"
      ]
     },
     "execution_count": 50,
     "metadata": {},
     "output_type": "execute_result"
    }
   ],
   "execution_count": 50
  },
  {
   "metadata": {
    "ExecuteTime": {
     "end_time": "2024-05-31T09:08:19.127495Z",
     "start_time": "2024-05-31T09:08:19.120826Z"
    }
   },
   "cell_type": "code",
   "source": "a_log",
   "outputs": [
    {
     "data": {
      "text/plain": [
       "      chrome_old  chrome_new   firefox     brave\n",
       "0       5.931476    5.902424  5.919953  5.750449\n",
       "1       5.918128    5.890389  5.903785  5.746929\n",
       "2       5.857109    5.822813  5.846304  5.684180\n",
       "3       5.854191    5.817200  5.837987  5.683896\n",
       "4       5.820063    5.781730  5.802860  5.661339\n",
       "...          ...         ...       ...       ...\n",
       "8084    0.301030    0.000000  0.000000  0.000000\n",
       "8085    0.301030    0.000000  0.000000  0.000000\n",
       "8086    0.301030    0.000000  0.000000  0.000000\n",
       "8087    0.301030    0.000000  0.000000  0.000000\n",
       "8088    0.301030    0.000000  0.000000  0.000000\n",
       "\n",
       "[8089 rows x 4 columns]"
      ],
      "text/html": [
       "<div>\n",
       "<style scoped>\n",
       "    .dataframe tbody tr th:only-of-type {\n",
       "        vertical-align: middle;\n",
       "    }\n",
       "\n",
       "    .dataframe tbody tr th {\n",
       "        vertical-align: top;\n",
       "    }\n",
       "\n",
       "    .dataframe thead th {\n",
       "        text-align: right;\n",
       "    }\n",
       "</style>\n",
       "<table border=\"1\" class=\"dataframe\">\n",
       "  <thead>\n",
       "    <tr style=\"text-align: right;\">\n",
       "      <th></th>\n",
       "      <th>chrome_old</th>\n",
       "      <th>chrome_new</th>\n",
       "      <th>firefox</th>\n",
       "      <th>brave</th>\n",
       "    </tr>\n",
       "  </thead>\n",
       "  <tbody>\n",
       "    <tr>\n",
       "      <th>0</th>\n",
       "      <td>5.931476</td>\n",
       "      <td>5.902424</td>\n",
       "      <td>5.919953</td>\n",
       "      <td>5.750449</td>\n",
       "    </tr>\n",
       "    <tr>\n",
       "      <th>1</th>\n",
       "      <td>5.918128</td>\n",
       "      <td>5.890389</td>\n",
       "      <td>5.903785</td>\n",
       "      <td>5.746929</td>\n",
       "    </tr>\n",
       "    <tr>\n",
       "      <th>2</th>\n",
       "      <td>5.857109</td>\n",
       "      <td>5.822813</td>\n",
       "      <td>5.846304</td>\n",
       "      <td>5.684180</td>\n",
       "    </tr>\n",
       "    <tr>\n",
       "      <th>3</th>\n",
       "      <td>5.854191</td>\n",
       "      <td>5.817200</td>\n",
       "      <td>5.837987</td>\n",
       "      <td>5.683896</td>\n",
       "    </tr>\n",
       "    <tr>\n",
       "      <th>4</th>\n",
       "      <td>5.820063</td>\n",
       "      <td>5.781730</td>\n",
       "      <td>5.802860</td>\n",
       "      <td>5.661339</td>\n",
       "    </tr>\n",
       "    <tr>\n",
       "      <th>...</th>\n",
       "      <td>...</td>\n",
       "      <td>...</td>\n",
       "      <td>...</td>\n",
       "      <td>...</td>\n",
       "    </tr>\n",
       "    <tr>\n",
       "      <th>8084</th>\n",
       "      <td>0.301030</td>\n",
       "      <td>0.000000</td>\n",
       "      <td>0.000000</td>\n",
       "      <td>0.000000</td>\n",
       "    </tr>\n",
       "    <tr>\n",
       "      <th>8085</th>\n",
       "      <td>0.301030</td>\n",
       "      <td>0.000000</td>\n",
       "      <td>0.000000</td>\n",
       "      <td>0.000000</td>\n",
       "    </tr>\n",
       "    <tr>\n",
       "      <th>8086</th>\n",
       "      <td>0.301030</td>\n",
       "      <td>0.000000</td>\n",
       "      <td>0.000000</td>\n",
       "      <td>0.000000</td>\n",
       "    </tr>\n",
       "    <tr>\n",
       "      <th>8087</th>\n",
       "      <td>0.301030</td>\n",
       "      <td>0.000000</td>\n",
       "      <td>0.000000</td>\n",
       "      <td>0.000000</td>\n",
       "    </tr>\n",
       "    <tr>\n",
       "      <th>8088</th>\n",
       "      <td>0.301030</td>\n",
       "      <td>0.000000</td>\n",
       "      <td>0.000000</td>\n",
       "      <td>0.000000</td>\n",
       "    </tr>\n",
       "  </tbody>\n",
       "</table>\n",
       "<p>8089 rows × 4 columns</p>\n",
       "</div>"
      ]
     },
     "execution_count": 51,
     "metadata": {},
     "output_type": "execute_result"
    }
   ],
   "execution_count": 51
  },
  {
   "metadata": {
    "ExecuteTime": {
     "end_time": "2024-05-31T15:59:34.471719Z",
     "start_time": "2024-05-31T15:59:34.010853Z"
    }
   },
   "cell_type": "code",
   "source": [
    "plt.figure(figsize = (10,8))\n",
    "sns.heatmap(header_frequencies_data, cmap = 'YlGnBu', norm=LogNorm(), cbar_kws={'ticks': np.logspace(0, 6, 7)})\n",
    "# Invert the y-axis\n",
    "ax.invert_yaxis()\n",
    "\n",
    "# Set y-axis to a logarithmic scale manually\n",
    "log_ticks = np.logspace(2, 6, num=5)  # Adjust the range according to your data\n",
    "ax.set_yticks(log_ticks)\n",
    "ax.set_yticklabels([f'{int(tick):d}' for tick in log_ticks])\n",
    "\n",
    "# Ensure the log scale is correctly reflected\n",
    "ax.set_yscale('log')\n",
    "\n",
    "plt.show()"
   ],
   "outputs": [
    {
     "data": {
      "text/plain": [
       "<Figure size 1000x800 with 2 Axes>"
      ],
      "image/png": "[encoded data removed]"
     },
     "metadata": {},
     "output_type": "display_data"
    }
   ],
   "execution_count": 27
  },
  {
   "metadata": {
    "ExecuteTime": {
     "end_time": "2024-05-31T15:57:50.133967Z",
     "start_time": "2024-05-31T15:57:50.128459Z"
    }
   },
   "cell_type": "code",
   "source": "header_frequencies_data.replace(0, 1, inplace=True)",
   "outputs": [],
   "execution_count": 20
  },
  {
   "metadata": {
    "ExecuteTime": {
     "end_time": "2024-05-31T15:57:54.873159Z",
     "start_time": "2024-05-31T15:57:54.866982Z"
    }
   },
   "cell_type": "code",
   "source": "header_frequencies_data.min()",
   "outputs": [
    {
     "data": {
      "text/plain": [
       "chrome_old    1.0\n",
       "chrome_new    1.0\n",
       "firefox       1.0\n",
       "brave         1.0\n",
       "dtype: float64"
      ]
     },
     "execution_count": 21,
     "metadata": {},
     "output_type": "execute_result"
    }
   ],
   "execution_count": 21
  },
  {
   "metadata": {
    "ExecuteTime": {
     "end_time": "2024-05-31T15:56:18.255130Z",
     "start_time": "2024-05-31T15:56:17.967608Z"
    }
   },
   "cell_type": "code",
   "source": [
    "sns.set_theme(style=\"ticks\")\n",
    "\n",
    "f, ax = plt.subplots(figsize=(7, 5))\n",
    "sns.despine(f)\n",
    "\n",
    "sns.histplot(\n",
    "    header_frequencies_data,\n",
    "    x=\"chrome_old\",\n",
    "    multiple=\"stack\",\n",
    "    palette=\"light:m_r\",\n",
    "    edgecolor=\".3\",\n",
    "    linewidth=.5,\n",
    "    log_scale=True,\n",
    ")"
   ],
   "outputs": [
    {
     "data": {
      "text/plain": [
       "<Axes: xlabel='chrome_old', ylabel='Count'>"
      ]
     },
     "execution_count": 19,
     "metadata": {},
     "output_type": "execute_result"
    },
    {
     "data": {
      "text/plain": [
       "<Figure size 700x500 with 1 Axes>"
      ],
      "image/png": "[encoded data removed]"
     },
     "metadata": {},
     "output_type": "display_data"
    }
   ],
   "execution_count": 19
  },
  {
   "metadata": {
    "ExecuteTime": {
     "end_time": "2024-05-31T15:58:08.012801Z",
     "start_time": "2024-05-31T15:58:06.966799Z"
    }
   },
   "cell_type": "code",
   "source": [
    "# Create a 2x2 grid of subplots\n",
    "fig, axes = plt.subplots(2, 2, figsize=(14, 10))\n",
    "sns.despine(fig)\n",
    "\n",
    "# List of browsers for iteration\n",
    "browsers = ['chrome_old', 'chrome_new', 'firefox', 'brave']\n",
    "# b = a.replace([np.inf, -np.inf], np.nan).dropna()\n",
    "\n",
    "# Plot histograms for each browser\n",
    "for ax, browser in zip(axes.flat, browsers):\n",
    "    sns.histplot(\n",
    "        header_frequencies_data[browser],\n",
    "        ax=ax,\n",
    "        multiple=\"stack\",\n",
    "        palette=\"light:m_r\",\n",
    "        edgecolor=\".3\",\n",
    "        linewidth=.5,\n",
    "        log_scale=True\n",
    "    )\n",
    "    ax.set_title(browser)\n",
    "\n",
    "plt.tight_layout()\n",
    "plt.show()"
   ],
   "outputs": [
    {
     "data": {
      "text/plain": [
       "<Figure size 1400x1000 with 4 Axes>"
      ],
      "image/png": "[encoded data removed]"
     },
     "metadata": {},
     "output_type": "display_data"
    }
   ],
   "execution_count": 23
  },
  {
   "metadata": {
    "ExecuteTime": {
     "end_time": "2024-05-31T20:04:24.138567Z",
     "start_time": "2024-05-31T20:04:24.124449Z"
    }
   },
   "cell_type": "code",
   "source": "header_frequencies_data",
   "outputs": [
    {
     "data": {
      "text/plain": [
       "      chrome_old  chrome_new   firefox     brave\n",
       "0       854034.0    798773.0  831673.0  562922.0\n",
       "1       828185.0    776942.0  801280.0  558378.0\n",
       "2       719628.0    664986.0  701945.0  483258.0\n",
       "3       714809.0    656446.0  688631.0  482942.0\n",
       "4       660788.0    604963.0  635125.0  458499.0\n",
       "...          ...         ...       ...       ...\n",
       "8084         1.0         1.0       1.0       1.0\n",
       "8085         1.0         1.0       1.0       1.0\n",
       "8086         1.0         1.0       1.0       1.0\n",
       "8087         1.0         1.0       1.0       1.0\n",
       "8088         1.0         1.0       1.0       1.0\n",
       "\n",
       "[8089 rows x 4 columns]"
      ],
      "text/html": [
       "<div>\n",
       "<style scoped>\n",
       "    .dataframe tbody tr th:only-of-type {\n",
       "        vertical-align: middle;\n",
       "    }\n",
       "\n",
       "    .dataframe tbody tr th {\n",
       "        vertical-align: top;\n",
       "    }\n",
       "\n",
       "    .dataframe thead th {\n",
       "        text-align: right;\n",
       "    }\n",
       "</style>\n",
       "<table border=\"1\" class=\"dataframe\">\n",
       "  <thead>\n",
       "    <tr style=\"text-align: right;\">\n",
       "      <th></th>\n",
       "      <th>chrome_old</th>\n",
       "      <th>chrome_new</th>\n",
       "      <th>firefox</th>\n",
       "      <th>brave</th>\n",
       "    </tr>\n",
       "  </thead>\n",
       "  <tbody>\n",
       "    <tr>\n",
       "      <th>0</th>\n",
       "      <td>854034.0</td>\n",
       "      <td>798773.0</td>\n",
       "      <td>831673.0</td>\n",
       "      <td>562922.0</td>\n",
       "    </tr>\n",
       "    <tr>\n",
       "      <th>1</th>\n",
       "      <td>828185.0</td>\n",
       "      <td>776942.0</td>\n",
       "      <td>801280.0</td>\n",
       "      <td>558378.0</td>\n",
       "    </tr>\n",
       "    <tr>\n",
       "      <th>2</th>\n",
       "      <td>719628.0</td>\n",
       "      <td>664986.0</td>\n",
       "      <td>701945.0</td>\n",
       "      <td>483258.0</td>\n",
       "    </tr>\n",
       "    <tr>\n",
       "      <th>3</th>\n",
       "      <td>714809.0</td>\n",
       "      <td>656446.0</td>\n",
       "      <td>688631.0</td>\n",
       "      <td>482942.0</td>\n",
       "    </tr>\n",
       "    <tr>\n",
       "      <th>4</th>\n",
       "      <td>660788.0</td>\n",
       "      <td>604963.0</td>\n",
       "      <td>635125.0</td>\n",
       "      <td>458499.0</td>\n",
       "    </tr>\n",
       "    <tr>\n",
       "      <th>...</th>\n",
       "      <td>...</td>\n",
       "      <td>...</td>\n",
       "      <td>...</td>\n",
       "      <td>...</td>\n",
       "    </tr>\n",
       "    <tr>\n",
       "      <th>8084</th>\n",
       "      <td>1.0</td>\n",
       "      <td>1.0</td>\n",
       "      <td>1.0</td>\n",
       "      <td>1.0</td>\n",
       "    </tr>\n",
       "    <tr>\n",
       "      <th>8085</th>\n",
       "      <td>1.0</td>\n",
       "      <td>1.0</td>\n",
       "      <td>1.0</td>\n",
       "      <td>1.0</td>\n",
       "    </tr>\n",
       "    <tr>\n",
       "      <th>8086</th>\n",
       "      <td>1.0</td>\n",
       "      <td>1.0</td>\n",
       "      <td>1.0</td>\n",
       "      <td>1.0</td>\n",
       "    </tr>\n",
       "    <tr>\n",
       "      <th>8087</th>\n",
       "      <td>1.0</td>\n",
       "      <td>1.0</td>\n",
       "      <td>1.0</td>\n",
       "      <td>1.0</td>\n",
       "    </tr>\n",
       "    <tr>\n",
       "      <th>8088</th>\n",
       "      <td>1.0</td>\n",
       "      <td>1.0</td>\n",
       "      <td>1.0</td>\n",
       "      <td>1.0</td>\n",
       "    </tr>\n",
       "  </tbody>\n",
       "</table>\n",
       "<p>8089 rows × 4 columns</p>\n",
       "</div>"
      ]
     },
     "execution_count": 28,
     "metadata": {},
     "output_type": "execute_result"
    }
   ],
   "execution_count": 28
  },
  {
   "metadata": {
    "ExecuteTime": {
     "end_time": "2024-05-31T20:06:04.225704Z",
     "start_time": "2024-05-31T20:06:04.223565Z"
    }
   },
   "cell_type": "code",
   "source": [
    "from sklearn.manifold import TSNE\n",
    "from sklearn.preprocessing import StandardScaler"
   ],
   "outputs": [],
   "execution_count": 30
  },
  {
   "metadata": {
    "ExecuteTime": {
     "end_time": "2024-05-31T20:09:05.793362Z",
     "start_time": "2024-05-31T20:09:05.787420Z"
    }
   },
   "cell_type": "code",
   "source": "a_melted = header_frequencies_data.melt(var_name='Browser', value_name='Frequency')",
   "outputs": [],
   "execution_count": 34
  },
  {
   "metadata": {
    "ExecuteTime": {
     "end_time": "2024-05-31T20:12:25.178938Z",
     "start_time": "2024-05-31T20:12:25.173732Z"
    }
   },
   "cell_type": "code",
   "source": [
    "%%time\n",
    "scaler = StandardScaler()\n",
    "a_scaled = scaler.fit_transform(header_frequencies_data)"
   ],
   "outputs": [
    {
     "name": "stdout",
     "output_type": "stream",
     "text": [
      "CPU times: user 2.84 ms, sys: 926 µs, total: 3.76 ms\n",
      "Wall time: 2.8 ms\n"
     ]
    }
   ],
   "execution_count": 39
  },
  {
   "metadata": {
    "ExecuteTime": {
     "end_time": "2024-05-31T20:09:47.844071Z",
     "start_time": "2024-05-31T20:09:47.838345Z"
    }
   },
   "cell_type": "code",
   "source": "a_melted",
   "outputs": [
    {
     "data": {
      "text/plain": [
       "          Browser  Frequency\n",
       "0      chrome_old   854034.0\n",
       "1      chrome_old   828185.0\n",
       "2      chrome_old   719628.0\n",
       "3      chrome_old   714809.0\n",
       "4      chrome_old   660788.0\n",
       "...           ...        ...\n",
       "32351       brave        1.0\n",
       "32352       brave        1.0\n",
       "32353       brave        1.0\n",
       "32354       brave        1.0\n",
       "32355       brave        1.0\n",
       "\n",
       "[32356 rows x 2 columns]"
      ],
      "text/html": [
       "<div>\n",
       "<style scoped>\n",
       "    .dataframe tbody tr th:only-of-type {\n",
       "        vertical-align: middle;\n",
       "    }\n",
       "\n",
       "    .dataframe tbody tr th {\n",
       "        vertical-align: top;\n",
       "    }\n",
       "\n",
       "    .dataframe thead th {\n",
       "        text-align: right;\n",
       "    }\n",
       "</style>\n",
       "<table border=\"1\" class=\"dataframe\">\n",
       "  <thead>\n",
       "    <tr style=\"text-align: right;\">\n",
       "      <th></th>\n",
       "      <th>Browser</th>\n",
       "      <th>Frequency</th>\n",
       "    </tr>\n",
       "  </thead>\n",
       "  <tbody>\n",
       "    <tr>\n",
       "      <th>0</th>\n",
       "      <td>chrome_old</td>\n",
       "      <td>854034.0</td>\n",
       "    </tr>\n",
       "    <tr>\n",
       "      <th>1</th>\n",
       "      <td>chrome_old</td>\n",
       "      <td>828185.0</td>\n",
       "    </tr>\n",
       "    <tr>\n",
       "      <th>2</th>\n",
       "      <td>chrome_old</td>\n",
       "      <td>719628.0</td>\n",
       "    </tr>\n",
       "    <tr>\n",
       "      <th>3</th>\n",
       "      <td>chrome_old</td>\n",
       "      <td>714809.0</td>\n",
       "    </tr>\n",
       "    <tr>\n",
       "      <th>4</th>\n",
       "      <td>chrome_old</td>\n",
       "      <td>660788.0</td>\n",
       "    </tr>\n",
       "    <tr>\n",
       "      <th>...</th>\n",
       "      <td>...</td>\n",
       "      <td>...</td>\n",
       "    </tr>\n",
       "    <tr>\n",
       "      <th>32351</th>\n",
       "      <td>brave</td>\n",
       "      <td>1.0</td>\n",
       "    </tr>\n",
       "    <tr>\n",
       "      <th>32352</th>\n",
       "      <td>brave</td>\n",
       "      <td>1.0</td>\n",
       "    </tr>\n",
       "    <tr>\n",
       "      <th>32353</th>\n",
       "      <td>brave</td>\n",
       "      <td>1.0</td>\n",
       "    </tr>\n",
       "    <tr>\n",
       "      <th>32354</th>\n",
       "      <td>brave</td>\n",
       "      <td>1.0</td>\n",
       "    </tr>\n",
       "    <tr>\n",
       "      <th>32355</th>\n",
       "      <td>brave</td>\n",
       "      <td>1.0</td>\n",
       "    </tr>\n",
       "  </tbody>\n",
       "</table>\n",
       "<p>32356 rows × 2 columns</p>\n",
       "</div>"
      ]
     },
     "execution_count": 38,
     "metadata": {},
     "output_type": "execute_result"
    }
   ],
   "execution_count": 38
  },
  {
   "metadata": {
    "ExecuteTime": {
     "end_time": "2024-05-31T20:12:34.606900Z",
     "start_time": "2024-05-31T20:12:29.232138Z"
    }
   },
   "cell_type": "code",
   "source": [
    "%%time\n",
    "tsne = TSNE(n_components=2, perplexity=30, n_iter=300, random_state=10)\n",
    "a_tsne = tsne.fit_transform(a_scaled)"
   ],
   "outputs": [
    {
     "name": "stdout",
     "output_type": "stream",
     "text": [
      "CPU times: user 22.9 s, sys: 16.5 s, total: 39.3 s\n",
      "Wall time: 5.37 s\n"
     ]
    }
   ],
   "execution_count": 40
  },
  {
   "metadata": {
    "ExecuteTime": {
     "end_time": "2024-05-31T20:14:48.840288Z",
     "start_time": "2024-05-31T20:14:48.808709Z"
    }
   },
   "cell_type": "code",
   "source": [
    "tsne_df = pd.DataFrame(a_tsne, columns=['Dim1', 'Dim2'])\n",
    "num_samples = header_frequencies_data.shape[0]\n",
    "tsne_df['Browser'] = np.repeat(['chrome_old', 'chrome_new', 'firefox', 'brave'], num_samples // 4)"
   ],
   "outputs": [
    {
     "ename": "ValueError",
     "evalue": "Length of values (8088) does not match length of index (8089)",
     "output_type": "error",
     "traceback": [
      "\u001B[0;31m---------------------------------------------------------------------------\u001B[0m",
      "\u001B[0;31mValueError\u001B[0m                                Traceback (most recent call last)",
      "Cell \u001B[0;32mIn[48], line 3\u001B[0m\n\u001B[1;32m      1\u001B[0m tsne_df \u001B[38;5;241m=\u001B[39m pd\u001B[38;5;241m.\u001B[39mDataFrame(a_tsne, columns\u001B[38;5;241m=\u001B[39m[\u001B[38;5;124m'\u001B[39m\u001B[38;5;124mDim1\u001B[39m\u001B[38;5;124m'\u001B[39m, \u001B[38;5;124m'\u001B[39m\u001B[38;5;124mDim2\u001B[39m\u001B[38;5;124m'\u001B[39m])\n\u001B[1;32m      2\u001B[0m num_samples \u001B[38;5;241m=\u001B[39m header_frequencies_data\u001B[38;5;241m.\u001B[39mshape[\u001B[38;5;241m0\u001B[39m]\n\u001B[0;32m----> 3\u001B[0m \u001B[43mtsne_df\u001B[49m\u001B[43m[\u001B[49m\u001B[38;5;124;43m'\u001B[39;49m\u001B[38;5;124;43mBrowser\u001B[39;49m\u001B[38;5;124;43m'\u001B[39;49m\u001B[43m]\u001B[49m \u001B[38;5;241m=\u001B[39m np\u001B[38;5;241m.\u001B[39mrepeat([\u001B[38;5;124m'\u001B[39m\u001B[38;5;124mchrome_old\u001B[39m\u001B[38;5;124m'\u001B[39m, \u001B[38;5;124m'\u001B[39m\u001B[38;5;124mchrome_new\u001B[39m\u001B[38;5;124m'\u001B[39m, \u001B[38;5;124m'\u001B[39m\u001B[38;5;124mfirefox\u001B[39m\u001B[38;5;124m'\u001B[39m, \u001B[38;5;124m'\u001B[39m\u001B[38;5;124mbrave\u001B[39m\u001B[38;5;124m'\u001B[39m], num_samples \u001B[38;5;241m/\u001B[39m\u001B[38;5;241m/\u001B[39m \u001B[38;5;241m4\u001B[39m)\n",
      "File \u001B[0;32m~/Documents/github_repos/thesis_project_v2/venv/lib/python3.10/site-packages/pandas/core/frame.py:3960\u001B[0m, in \u001B[0;36mDataFrame.__setitem__\u001B[0;34m(self, key, value)\u001B[0m\n\u001B[1;32m   3957\u001B[0m     \u001B[38;5;28mself\u001B[39m\u001B[38;5;241m.\u001B[39m_setitem_array([key], value)\n\u001B[1;32m   3958\u001B[0m \u001B[38;5;28;01melse\u001B[39;00m:\n\u001B[1;32m   3959\u001B[0m     \u001B[38;5;66;03m# set column\u001B[39;00m\n\u001B[0;32m-> 3960\u001B[0m     \u001B[38;5;28;43mself\u001B[39;49m\u001B[38;5;241;43m.\u001B[39;49m\u001B[43m_set_item\u001B[49m\u001B[43m(\u001B[49m\u001B[43mkey\u001B[49m\u001B[43m,\u001B[49m\u001B[43m \u001B[49m\u001B[43mvalue\u001B[49m\u001B[43m)\u001B[49m\n",
      "File \u001B[0;32m~/Documents/github_repos/thesis_project_v2/venv/lib/python3.10/site-packages/pandas/core/frame.py:4153\u001B[0m, in \u001B[0;36mDataFrame._set_item\u001B[0;34m(self, key, value)\u001B[0m\n\u001B[1;32m   4143\u001B[0m \u001B[38;5;28;01mdef\u001B[39;00m \u001B[38;5;21m_set_item\u001B[39m(\u001B[38;5;28mself\u001B[39m, key, value) \u001B[38;5;241m-\u001B[39m\u001B[38;5;241m>\u001B[39m \u001B[38;5;28;01mNone\u001B[39;00m:\n\u001B[1;32m   4144\u001B[0m \u001B[38;5;250m    \u001B[39m\u001B[38;5;124;03m\"\"\"\u001B[39;00m\n\u001B[1;32m   4145\u001B[0m \u001B[38;5;124;03m    Add series to DataFrame in specified column.\u001B[39;00m\n\u001B[1;32m   4146\u001B[0m \n\u001B[0;32m   (...)\u001B[0m\n\u001B[1;32m   4151\u001B[0m \u001B[38;5;124;03m    ensure homogeneity.\u001B[39;00m\n\u001B[1;32m   4152\u001B[0m \u001B[38;5;124;03m    \"\"\"\u001B[39;00m\n\u001B[0;32m-> 4153\u001B[0m     value \u001B[38;5;241m=\u001B[39m \u001B[38;5;28;43mself\u001B[39;49m\u001B[38;5;241;43m.\u001B[39;49m\u001B[43m_sanitize_column\u001B[49m\u001B[43m(\u001B[49m\u001B[43mvalue\u001B[49m\u001B[43m)\u001B[49m\n\u001B[1;32m   4155\u001B[0m     \u001B[38;5;28;01mif\u001B[39;00m (\n\u001B[1;32m   4156\u001B[0m         key \u001B[38;5;129;01min\u001B[39;00m \u001B[38;5;28mself\u001B[39m\u001B[38;5;241m.\u001B[39mcolumns\n\u001B[1;32m   4157\u001B[0m         \u001B[38;5;129;01mand\u001B[39;00m value\u001B[38;5;241m.\u001B[39mndim \u001B[38;5;241m==\u001B[39m \u001B[38;5;241m1\u001B[39m\n\u001B[1;32m   4158\u001B[0m         \u001B[38;5;129;01mand\u001B[39;00m \u001B[38;5;129;01mnot\u001B[39;00m is_extension_array_dtype(value)\n\u001B[1;32m   4159\u001B[0m     ):\n\u001B[1;32m   4160\u001B[0m         \u001B[38;5;66;03m# broadcast across multiple columns if necessary\u001B[39;00m\n\u001B[1;32m   4161\u001B[0m         \u001B[38;5;28;01mif\u001B[39;00m \u001B[38;5;129;01mnot\u001B[39;00m \u001B[38;5;28mself\u001B[39m\u001B[38;5;241m.\u001B[39mcolumns\u001B[38;5;241m.\u001B[39mis_unique \u001B[38;5;129;01mor\u001B[39;00m \u001B[38;5;28misinstance\u001B[39m(\u001B[38;5;28mself\u001B[39m\u001B[38;5;241m.\u001B[39mcolumns, MultiIndex):\n",
      "File \u001B[0;32m~/Documents/github_repos/thesis_project_v2/venv/lib/python3.10/site-packages/pandas/core/frame.py:4880\u001B[0m, in \u001B[0;36mDataFrame._sanitize_column\u001B[0;34m(self, value)\u001B[0m\n\u001B[1;32m   4877\u001B[0m     \u001B[38;5;28;01mreturn\u001B[39;00m _reindex_for_setitem(Series(value), \u001B[38;5;28mself\u001B[39m\u001B[38;5;241m.\u001B[39mindex)\n\u001B[1;32m   4879\u001B[0m \u001B[38;5;28;01mif\u001B[39;00m is_list_like(value):\n\u001B[0;32m-> 4880\u001B[0m     \u001B[43mcom\u001B[49m\u001B[38;5;241;43m.\u001B[39;49m\u001B[43mrequire_length_match\u001B[49m\u001B[43m(\u001B[49m\u001B[43mvalue\u001B[49m\u001B[43m,\u001B[49m\u001B[43m \u001B[49m\u001B[38;5;28;43mself\u001B[39;49m\u001B[38;5;241;43m.\u001B[39;49m\u001B[43mindex\u001B[49m\u001B[43m)\u001B[49m\n\u001B[1;32m   4881\u001B[0m \u001B[38;5;28;01mreturn\u001B[39;00m sanitize_array(value, \u001B[38;5;28mself\u001B[39m\u001B[38;5;241m.\u001B[39mindex, copy\u001B[38;5;241m=\u001B[39m\u001B[38;5;28;01mTrue\u001B[39;00m, allow_2d\u001B[38;5;241m=\u001B[39m\u001B[38;5;28;01mTrue\u001B[39;00m)\n",
      "File \u001B[0;32m~/Documents/github_repos/thesis_project_v2/venv/lib/python3.10/site-packages/pandas/core/common.py:576\u001B[0m, in \u001B[0;36mrequire_length_match\u001B[0;34m(data, index)\u001B[0m\n\u001B[1;32m    572\u001B[0m \u001B[38;5;250m\u001B[39m\u001B[38;5;124;03m\"\"\"\u001B[39;00m\n\u001B[1;32m    573\u001B[0m \u001B[38;5;124;03mCheck the length of data matches the length of the index.\u001B[39;00m\n\u001B[1;32m    574\u001B[0m \u001B[38;5;124;03m\"\"\"\u001B[39;00m\n\u001B[1;32m    575\u001B[0m \u001B[38;5;28;01mif\u001B[39;00m \u001B[38;5;28mlen\u001B[39m(data) \u001B[38;5;241m!=\u001B[39m \u001B[38;5;28mlen\u001B[39m(index):\n\u001B[0;32m--> 576\u001B[0m     \u001B[38;5;28;01mraise\u001B[39;00m \u001B[38;5;167;01mValueError\u001B[39;00m(\n\u001B[1;32m    577\u001B[0m         \u001B[38;5;124m\"\u001B[39m\u001B[38;5;124mLength of values \u001B[39m\u001B[38;5;124m\"\u001B[39m\n\u001B[1;32m    578\u001B[0m         \u001B[38;5;124mf\u001B[39m\u001B[38;5;124m\"\u001B[39m\u001B[38;5;124m(\u001B[39m\u001B[38;5;132;01m{\u001B[39;00m\u001B[38;5;28mlen\u001B[39m(data)\u001B[38;5;132;01m}\u001B[39;00m\u001B[38;5;124m) \u001B[39m\u001B[38;5;124m\"\u001B[39m\n\u001B[1;32m    579\u001B[0m         \u001B[38;5;124m\"\u001B[39m\u001B[38;5;124mdoes not match length of index \u001B[39m\u001B[38;5;124m\"\u001B[39m\n\u001B[1;32m    580\u001B[0m         \u001B[38;5;124mf\u001B[39m\u001B[38;5;124m\"\u001B[39m\u001B[38;5;124m(\u001B[39m\u001B[38;5;132;01m{\u001B[39;00m\u001B[38;5;28mlen\u001B[39m(index)\u001B[38;5;132;01m}\u001B[39;00m\u001B[38;5;124m)\u001B[39m\u001B[38;5;124m\"\u001B[39m\n\u001B[1;32m    581\u001B[0m     )\n",
      "\u001B[0;31mValueError\u001B[0m: Length of values (8088) does not match length of index (8089)"
     ]
    }
   ],
   "execution_count": 48
  },
  {
   "metadata": {
    "ExecuteTime": {
     "end_time": "2024-05-31T20:29:12.560926Z",
     "start_time": "2024-05-31T20:29:12.558675Z"
    }
   },
   "cell_type": "code",
   "source": "import prince",
   "outputs": [],
   "execution_count": 51
  },
  {
   "metadata": {
    "ExecuteTime": {
     "end_time": "2024-05-31T20:34:32.657502Z",
     "start_time": "2024-05-31T20:34:32.655261Z"
    }
   },
   "cell_type": "code",
   "source": [
    "famd = prince.FAMD(n_components = 5, n_iter = 5, random_state = 101, check_input=True,\n",
    "    engine=\"sklearn\",\n",
    "    handle_unknown=\"error\")"
   ],
   "outputs": [],
   "execution_count": 59
  },
  {
   "metadata": {
    "ExecuteTime": {
     "end_time": "2024-05-31T20:34:42.533688Z",
     "start_time": "2024-05-31T20:34:42.531419Z"
    }
   },
   "cell_type": "code",
   "source": [
    "mca = prince.MCA(\n",
    "    n_components=3,\n",
    "    n_iter=3,\n",
    "    copy=True,\n",
    "    check_input=True,\n",
    "    engine='sklearn',\n",
    "    random_state=42\n",
    ")"
   ],
   "outputs": [],
   "execution_count": 60
  },
  {
   "metadata": {
    "ExecuteTime": {
     "end_time": "2024-05-31T20:32:16.523264Z",
     "start_time": "2024-05-31T20:32:16.520601Z"
    }
   },
   "cell_type": "code",
   "source": "X = header_frequencies_data[header_frequencies_data.columns[0:]]",
   "outputs": [],
   "execution_count": 53
  },
  {
   "metadata": {
    "jupyter": {
     "is_executing": true
    },
    "ExecuteTime": {
     "start_time": "2024-05-31T20:34:53.250929Z"
    }
   },
   "cell_type": "code",
   "source": "mca_fit = mca.fit(chrome_new.iloc[:, 6:-2])",
   "outputs": [],
   "execution_count": null
  },
  {
   "metadata": {
    "ExecuteTime": {
     "end_time": "2024-05-31T20:14:15.567486Z",
     "start_time": "2024-05-31T20:14:15.564757Z"
    }
   },
   "cell_type": "code",
   "source": "header_frequencies_data.shape[0]",
   "outputs": [
    {
     "data": {
      "text/plain": [
       "8089"
      ]
     },
     "execution_count": 46,
     "metadata": {},
     "output_type": "execute_result"
    }
   ],
   "execution_count": 46
  },
  {
   "metadata": {
    "ExecuteTime": {
     "end_time": "2024-05-31T20:13:21.448630Z",
     "start_time": "2024-05-31T20:13:21.300936Z"
    }
   },
   "cell_type": "code",
   "source": [
    "plt.figure(figsize=(10, 8))\n",
    "sns.scatterplot(data=tsne_df, x='Dim1', y='Dim2', hue='Browser', s=100, palette='Set2')\n",
    "plt.title('t-SNE Visualization of HTTP Response Header Frequencies by Browser')\n",
    "plt.xlabel('Dimension 1')\n",
    "plt.ylabel('Dimension 2')\n",
    "plt.legend(title='Browser')\n",
    "plt.show()"
   ],
   "outputs": [
    {
     "ename": "ValueError",
     "evalue": "Could not interpret value `Browser` for parameter `hue`",
     "output_type": "error",
     "traceback": [
      "\u001B[0;31m---------------------------------------------------------------------------\u001B[0m",
      "\u001B[0;31mValueError\u001B[0m                                Traceback (most recent call last)",
      "Cell \u001B[0;32mIn[42], line 2\u001B[0m\n\u001B[1;32m      1\u001B[0m plt\u001B[38;5;241m.\u001B[39mfigure(figsize\u001B[38;5;241m=\u001B[39m(\u001B[38;5;241m10\u001B[39m, \u001B[38;5;241m8\u001B[39m))\n\u001B[0;32m----> 2\u001B[0m \u001B[43msns\u001B[49m\u001B[38;5;241;43m.\u001B[39;49m\u001B[43mscatterplot\u001B[49m\u001B[43m(\u001B[49m\u001B[43mdata\u001B[49m\u001B[38;5;241;43m=\u001B[39;49m\u001B[43mtsne_df\u001B[49m\u001B[43m,\u001B[49m\u001B[43m \u001B[49m\u001B[43mx\u001B[49m\u001B[38;5;241;43m=\u001B[39;49m\u001B[38;5;124;43m'\u001B[39;49m\u001B[38;5;124;43mDim1\u001B[39;49m\u001B[38;5;124;43m'\u001B[39;49m\u001B[43m,\u001B[49m\u001B[43m \u001B[49m\u001B[43my\u001B[49m\u001B[38;5;241;43m=\u001B[39;49m\u001B[38;5;124;43m'\u001B[39;49m\u001B[38;5;124;43mDim2\u001B[39;49m\u001B[38;5;124;43m'\u001B[39;49m\u001B[43m,\u001B[49m\u001B[43m \u001B[49m\u001B[43mhue\u001B[49m\u001B[38;5;241;43m=\u001B[39;49m\u001B[38;5;124;43m'\u001B[39;49m\u001B[38;5;124;43mBrowser\u001B[39;49m\u001B[38;5;124;43m'\u001B[39;49m\u001B[43m,\u001B[49m\u001B[43m \u001B[49m\u001B[43ms\u001B[49m\u001B[38;5;241;43m=\u001B[39;49m\u001B[38;5;241;43m100\u001B[39;49m\u001B[43m,\u001B[49m\u001B[43m \u001B[49m\u001B[43mpalette\u001B[49m\u001B[38;5;241;43m=\u001B[39;49m\u001B[38;5;124;43m'\u001B[39;49m\u001B[38;5;124;43mSet2\u001B[39;49m\u001B[38;5;124;43m'\u001B[39;49m\u001B[43m)\u001B[49m\n\u001B[1;32m      3\u001B[0m plt\u001B[38;5;241m.\u001B[39mtitle(\u001B[38;5;124m'\u001B[39m\u001B[38;5;124mt-SNE Visualization of HTTP Response Header Frequencies by Browser\u001B[39m\u001B[38;5;124m'\u001B[39m)\n\u001B[1;32m      4\u001B[0m plt\u001B[38;5;241m.\u001B[39mxlabel(\u001B[38;5;124m'\u001B[39m\u001B[38;5;124mDimension 1\u001B[39m\u001B[38;5;124m'\u001B[39m)\n",
      "File \u001B[0;32m~/Documents/github_repos/thesis_project_v2/venv/lib/python3.10/site-packages/seaborn/_decorators.py:46\u001B[0m, in \u001B[0;36m_deprecate_positional_args.<locals>.inner_f\u001B[0;34m(*args, **kwargs)\u001B[0m\n\u001B[1;32m     36\u001B[0m     warnings\u001B[38;5;241m.\u001B[39mwarn(\n\u001B[1;32m     37\u001B[0m         \u001B[38;5;124m\"\u001B[39m\u001B[38;5;124mPass the following variable\u001B[39m\u001B[38;5;132;01m{}\u001B[39;00m\u001B[38;5;124m as \u001B[39m\u001B[38;5;132;01m{}\u001B[39;00m\u001B[38;5;124mkeyword arg\u001B[39m\u001B[38;5;132;01m{}\u001B[39;00m\u001B[38;5;124m: \u001B[39m\u001B[38;5;132;01m{}\u001B[39;00m\u001B[38;5;124m. \u001B[39m\u001B[38;5;124m\"\u001B[39m\n\u001B[1;32m     38\u001B[0m         \u001B[38;5;124m\"\u001B[39m\u001B[38;5;124mFrom version 0.12, the only valid positional argument \u001B[39m\u001B[38;5;124m\"\u001B[39m\n\u001B[0;32m   (...)\u001B[0m\n\u001B[1;32m     43\u001B[0m         \u001B[38;5;167;01mFutureWarning\u001B[39;00m\n\u001B[1;32m     44\u001B[0m     )\n\u001B[1;32m     45\u001B[0m kwargs\u001B[38;5;241m.\u001B[39mupdate({k: arg \u001B[38;5;28;01mfor\u001B[39;00m k, arg \u001B[38;5;129;01min\u001B[39;00m \u001B[38;5;28mzip\u001B[39m(sig\u001B[38;5;241m.\u001B[39mparameters, args)})\n\u001B[0;32m---> 46\u001B[0m \u001B[38;5;28;01mreturn\u001B[39;00m \u001B[43mf\u001B[49m\u001B[43m(\u001B[49m\u001B[38;5;241;43m*\u001B[39;49m\u001B[38;5;241;43m*\u001B[39;49m\u001B[43mkwargs\u001B[49m\u001B[43m)\u001B[49m\n",
      "File \u001B[0;32m~/Documents/github_repos/thesis_project_v2/venv/lib/python3.10/site-packages/seaborn/relational.py:794\u001B[0m, in \u001B[0;36mscatterplot\u001B[0;34m(x, y, hue, style, size, data, palette, hue_order, hue_norm, sizes, size_order, size_norm, markers, style_order, x_bins, y_bins, units, estimator, ci, n_boot, alpha, x_jitter, y_jitter, legend, ax, **kwargs)\u001B[0m\n\u001B[1;32m    779\u001B[0m \u001B[38;5;129m@_deprecate_positional_args\u001B[39m\n\u001B[1;32m    780\u001B[0m \u001B[38;5;28;01mdef\u001B[39;00m \u001B[38;5;21mscatterplot\u001B[39m(\n\u001B[1;32m    781\u001B[0m     \u001B[38;5;241m*\u001B[39m,\n\u001B[0;32m   (...)\u001B[0m\n\u001B[1;32m    790\u001B[0m     legend\u001B[38;5;241m=\u001B[39m\u001B[38;5;124m\"\u001B[39m\u001B[38;5;124mauto\u001B[39m\u001B[38;5;124m\"\u001B[39m, ax\u001B[38;5;241m=\u001B[39m\u001B[38;5;28;01mNone\u001B[39;00m, \u001B[38;5;241m*\u001B[39m\u001B[38;5;241m*\u001B[39mkwargs\n\u001B[1;32m    791\u001B[0m ):\n\u001B[1;32m    793\u001B[0m     variables \u001B[38;5;241m=\u001B[39m _ScatterPlotter\u001B[38;5;241m.\u001B[39mget_semantics(\u001B[38;5;28mlocals\u001B[39m())\n\u001B[0;32m--> 794\u001B[0m     p \u001B[38;5;241m=\u001B[39m \u001B[43m_ScatterPlotter\u001B[49m\u001B[43m(\u001B[49m\n\u001B[1;32m    795\u001B[0m \u001B[43m        \u001B[49m\u001B[43mdata\u001B[49m\u001B[38;5;241;43m=\u001B[39;49m\u001B[43mdata\u001B[49m\u001B[43m,\u001B[49m\u001B[43m \u001B[49m\u001B[43mvariables\u001B[49m\u001B[38;5;241;43m=\u001B[39;49m\u001B[43mvariables\u001B[49m\u001B[43m,\u001B[49m\n\u001B[1;32m    796\u001B[0m \u001B[43m        \u001B[49m\u001B[43mx_bins\u001B[49m\u001B[38;5;241;43m=\u001B[39;49m\u001B[43mx_bins\u001B[49m\u001B[43m,\u001B[49m\u001B[43m \u001B[49m\u001B[43my_bins\u001B[49m\u001B[38;5;241;43m=\u001B[39;49m\u001B[43my_bins\u001B[49m\u001B[43m,\u001B[49m\n\u001B[1;32m    797\u001B[0m \u001B[43m        \u001B[49m\u001B[43mestimator\u001B[49m\u001B[38;5;241;43m=\u001B[39;49m\u001B[43mestimator\u001B[49m\u001B[43m,\u001B[49m\u001B[43m \u001B[49m\u001B[43mci\u001B[49m\u001B[38;5;241;43m=\u001B[39;49m\u001B[43mci\u001B[49m\u001B[43m,\u001B[49m\u001B[43m \u001B[49m\u001B[43mn_boot\u001B[49m\u001B[38;5;241;43m=\u001B[39;49m\u001B[43mn_boot\u001B[49m\u001B[43m,\u001B[49m\n\u001B[1;32m    798\u001B[0m \u001B[43m        \u001B[49m\u001B[43malpha\u001B[49m\u001B[38;5;241;43m=\u001B[39;49m\u001B[43malpha\u001B[49m\u001B[43m,\u001B[49m\u001B[43m \u001B[49m\u001B[43mx_jitter\u001B[49m\u001B[38;5;241;43m=\u001B[39;49m\u001B[43mx_jitter\u001B[49m\u001B[43m,\u001B[49m\u001B[43m \u001B[49m\u001B[43my_jitter\u001B[49m\u001B[38;5;241;43m=\u001B[39;49m\u001B[43my_jitter\u001B[49m\u001B[43m,\u001B[49m\u001B[43m \u001B[49m\u001B[43mlegend\u001B[49m\u001B[38;5;241;43m=\u001B[39;49m\u001B[43mlegend\u001B[49m\u001B[43m,\u001B[49m\n\u001B[1;32m    799\u001B[0m \u001B[43m    \u001B[49m\u001B[43m)\u001B[49m\n\u001B[1;32m    801\u001B[0m     p\u001B[38;5;241m.\u001B[39mmap_hue(palette\u001B[38;5;241m=\u001B[39mpalette, order\u001B[38;5;241m=\u001B[39mhue_order, norm\u001B[38;5;241m=\u001B[39mhue_norm)\n\u001B[1;32m    802\u001B[0m     p\u001B[38;5;241m.\u001B[39mmap_size(sizes\u001B[38;5;241m=\u001B[39msizes, order\u001B[38;5;241m=\u001B[39msize_order, norm\u001B[38;5;241m=\u001B[39msize_norm)\n",
      "File \u001B[0;32m~/Documents/github_repos/thesis_project_v2/venv/lib/python3.10/site-packages/seaborn/relational.py:580\u001B[0m, in \u001B[0;36m_ScatterPlotter.__init__\u001B[0;34m(self, data, variables, x_bins, y_bins, estimator, ci, n_boot, alpha, x_jitter, y_jitter, legend)\u001B[0m\n\u001B[1;32m    564\u001B[0m \u001B[38;5;28;01mdef\u001B[39;00m \u001B[38;5;21m__init__\u001B[39m(\n\u001B[1;32m    565\u001B[0m     \u001B[38;5;28mself\u001B[39m, \u001B[38;5;241m*\u001B[39m,\n\u001B[1;32m    566\u001B[0m     data\u001B[38;5;241m=\u001B[39m\u001B[38;5;28;01mNone\u001B[39;00m, variables\u001B[38;5;241m=\u001B[39m{},\n\u001B[0;32m   (...)\u001B[0m\n\u001B[1;32m    574\u001B[0m     \u001B[38;5;66;03m# the kind of plot to draw, but for the time being we need to set\u001B[39;00m\n\u001B[1;32m    575\u001B[0m     \u001B[38;5;66;03m# this information so the SizeMapping can use it\u001B[39;00m\n\u001B[1;32m    576\u001B[0m     \u001B[38;5;28mself\u001B[39m\u001B[38;5;241m.\u001B[39m_default_size_range \u001B[38;5;241m=\u001B[39m (\n\u001B[1;32m    577\u001B[0m         np\u001B[38;5;241m.\u001B[39mr_[\u001B[38;5;241m.5\u001B[39m, \u001B[38;5;241m2\u001B[39m] \u001B[38;5;241m*\u001B[39m np\u001B[38;5;241m.\u001B[39msquare(mpl\u001B[38;5;241m.\u001B[39mrcParams[\u001B[38;5;124m\"\u001B[39m\u001B[38;5;124mlines.markersize\u001B[39m\u001B[38;5;124m\"\u001B[39m])\n\u001B[1;32m    578\u001B[0m     )\n\u001B[0;32m--> 580\u001B[0m     \u001B[38;5;28;43msuper\u001B[39;49m\u001B[43m(\u001B[49m\u001B[43m)\u001B[49m\u001B[38;5;241;43m.\u001B[39;49m\u001B[38;5;21;43m__init__\u001B[39;49m\u001B[43m(\u001B[49m\u001B[43mdata\u001B[49m\u001B[38;5;241;43m=\u001B[39;49m\u001B[43mdata\u001B[49m\u001B[43m,\u001B[49m\u001B[43m \u001B[49m\u001B[43mvariables\u001B[49m\u001B[38;5;241;43m=\u001B[39;49m\u001B[43mvariables\u001B[49m\u001B[43m)\u001B[49m\n\u001B[1;32m    582\u001B[0m     \u001B[38;5;28mself\u001B[39m\u001B[38;5;241m.\u001B[39malpha \u001B[38;5;241m=\u001B[39m alpha\n\u001B[1;32m    583\u001B[0m     \u001B[38;5;28mself\u001B[39m\u001B[38;5;241m.\u001B[39mlegend \u001B[38;5;241m=\u001B[39m legend\n",
      "File \u001B[0;32m~/Documents/github_repos/thesis_project_v2/venv/lib/python3.10/site-packages/seaborn/_core.py:604\u001B[0m, in \u001B[0;36mVectorPlotter.__init__\u001B[0;34m(self, data, variables)\u001B[0m\n\u001B[1;32m    602\u001B[0m \u001B[38;5;28;01mdef\u001B[39;00m \u001B[38;5;21m__init__\u001B[39m(\u001B[38;5;28mself\u001B[39m, data\u001B[38;5;241m=\u001B[39m\u001B[38;5;28;01mNone\u001B[39;00m, variables\u001B[38;5;241m=\u001B[39m{}):\n\u001B[0;32m--> 604\u001B[0m     \u001B[38;5;28;43mself\u001B[39;49m\u001B[38;5;241;43m.\u001B[39;49m\u001B[43massign_variables\u001B[49m\u001B[43m(\u001B[49m\u001B[43mdata\u001B[49m\u001B[43m,\u001B[49m\u001B[43m \u001B[49m\u001B[43mvariables\u001B[49m\u001B[43m)\u001B[49m\n\u001B[1;32m    606\u001B[0m     \u001B[38;5;28;01mfor\u001B[39;00m var, \u001B[38;5;28mcls\u001B[39m \u001B[38;5;129;01min\u001B[39;00m \u001B[38;5;28mself\u001B[39m\u001B[38;5;241m.\u001B[39m_semantic_mappings\u001B[38;5;241m.\u001B[39mitems():\n\u001B[1;32m    607\u001B[0m \n\u001B[1;32m    608\u001B[0m         \u001B[38;5;66;03m# Create the mapping function\u001B[39;00m\n\u001B[1;32m    609\u001B[0m         map_func \u001B[38;5;241m=\u001B[39m partial(\u001B[38;5;28mcls\u001B[39m\u001B[38;5;241m.\u001B[39mmap, plotter\u001B[38;5;241m=\u001B[39m\u001B[38;5;28mself\u001B[39m)\n",
      "File \u001B[0;32m~/Documents/github_repos/thesis_project_v2/venv/lib/python3.10/site-packages/seaborn/_core.py:667\u001B[0m, in \u001B[0;36mVectorPlotter.assign_variables\u001B[0;34m(self, data, variables)\u001B[0m\n\u001B[1;32m    665\u001B[0m \u001B[38;5;28;01melse\u001B[39;00m:\n\u001B[1;32m    666\u001B[0m     \u001B[38;5;28mself\u001B[39m\u001B[38;5;241m.\u001B[39minput_format \u001B[38;5;241m=\u001B[39m \u001B[38;5;124m\"\u001B[39m\u001B[38;5;124mlong\u001B[39m\u001B[38;5;124m\"\u001B[39m\n\u001B[0;32m--> 667\u001B[0m     plot_data, variables \u001B[38;5;241m=\u001B[39m \u001B[38;5;28;43mself\u001B[39;49m\u001B[38;5;241;43m.\u001B[39;49m\u001B[43m_assign_variables_longform\u001B[49m\u001B[43m(\u001B[49m\n\u001B[1;32m    668\u001B[0m \u001B[43m        \u001B[49m\u001B[43mdata\u001B[49m\u001B[43m,\u001B[49m\u001B[43m \u001B[49m\u001B[38;5;241;43m*\u001B[39;49m\u001B[38;5;241;43m*\u001B[39;49m\u001B[43mvariables\u001B[49m\u001B[43m,\u001B[49m\n\u001B[1;32m    669\u001B[0m \u001B[43m    \u001B[49m\u001B[43m)\u001B[49m\n\u001B[1;32m    671\u001B[0m \u001B[38;5;28mself\u001B[39m\u001B[38;5;241m.\u001B[39mplot_data \u001B[38;5;241m=\u001B[39m plot_data\n\u001B[1;32m    672\u001B[0m \u001B[38;5;28mself\u001B[39m\u001B[38;5;241m.\u001B[39mvariables \u001B[38;5;241m=\u001B[39m variables\n",
      "File \u001B[0;32m~/Documents/github_repos/thesis_project_v2/venv/lib/python3.10/site-packages/seaborn/_core.py:887\u001B[0m, in \u001B[0;36mVectorPlotter._assign_variables_longform\u001B[0;34m(self, data, **kwargs)\u001B[0m\n\u001B[1;32m    884\u001B[0m     \u001B[38;5;28;01melse\u001B[39;00m:\n\u001B[1;32m    885\u001B[0m         \u001B[38;5;66;03m# We don't know what this name means\u001B[39;00m\n\u001B[1;32m    886\u001B[0m         err \u001B[38;5;241m=\u001B[39m \u001B[38;5;124mf\u001B[39m\u001B[38;5;124m\"\u001B[39m\u001B[38;5;124mCould not interpret value `\u001B[39m\u001B[38;5;132;01m{\u001B[39;00mval\u001B[38;5;132;01m}\u001B[39;00m\u001B[38;5;124m` for parameter `\u001B[39m\u001B[38;5;132;01m{\u001B[39;00mkey\u001B[38;5;132;01m}\u001B[39;00m\u001B[38;5;124m`\u001B[39m\u001B[38;5;124m\"\u001B[39m\n\u001B[0;32m--> 887\u001B[0m         \u001B[38;5;28;01mraise\u001B[39;00m \u001B[38;5;167;01mValueError\u001B[39;00m(err)\n\u001B[1;32m    889\u001B[0m \u001B[38;5;28;01melse\u001B[39;00m:\n\u001B[1;32m    890\u001B[0m \n\u001B[1;32m    891\u001B[0m     \u001B[38;5;66;03m# Otherwise, assume the value is itself a vector of data\u001B[39;00m\n\u001B[1;32m    892\u001B[0m \n\u001B[1;32m    893\u001B[0m     \u001B[38;5;66;03m# Raise when data is present and a vector can't be combined with it\u001B[39;00m\n\u001B[1;32m    894\u001B[0m     \u001B[38;5;28;01mif\u001B[39;00m \u001B[38;5;28misinstance\u001B[39m(data, pd\u001B[38;5;241m.\u001B[39mDataFrame) \u001B[38;5;129;01mand\u001B[39;00m \u001B[38;5;129;01mnot\u001B[39;00m \u001B[38;5;28misinstance\u001B[39m(val, pd\u001B[38;5;241m.\u001B[39mSeries):\n",
      "\u001B[0;31mValueError\u001B[0m: Could not interpret value `Browser` for parameter `hue`"
     ]
    },
    {
     "data": {
      "text/plain": [
       "<Figure size 1000x800 with 0 Axes>"
      ]
     },
     "metadata": {},
     "output_type": "display_data"
    }
   ],
   "execution_count": 42
  },
  {
   "metadata": {
    "ExecuteTime": {
     "end_time": "2024-05-31T15:48:41.530256Z",
     "start_time": "2024-05-31T15:48:41.524738Z"
    }
   },
   "cell_type": "code",
   "source": "a.isnull().sum()",
   "outputs": [
    {
     "data": {
      "text/plain": [
       "chrome_old    0\n",
       "chrome_new    0\n",
       "firefox       0\n",
       "brave         0\n",
       "dtype: int64"
      ]
     },
     "execution_count": 97,
     "metadata": {},
     "output_type": "execute_result"
    }
   ],
   "execution_count": 97
  },
  {
   "metadata": {
    "ExecuteTime": {
     "end_time": "2024-05-31T15:48:50.097250Z",
     "start_time": "2024-05-31T15:48:50.093164Z"
    }
   },
   "cell_type": "code",
   "source": "a.max()",
   "outputs": [
    {
     "data": {
      "text/plain": [
       "chrome_old    854034.0\n",
       "chrome_new    798773.0\n",
       "firefox       831673.0\n",
       "brave         562922.0\n",
       "dtype: float64"
      ]
     },
     "execution_count": 98,
     "metadata": {},
     "output_type": "execute_result"
    }
   ],
   "execution_count": 98
  },
  {
   "metadata": {
    "ExecuteTime": {
     "end_time": "2024-05-31T15:49:13.235863Z",
     "start_time": "2024-05-31T15:49:13.231996Z"
    }
   },
   "cell_type": "code",
   "source": "a.min()",
   "outputs": [
    {
     "data": {
      "text/plain": [
       "chrome_old    1.0\n",
       "chrome_new    0.0\n",
       "firefox       0.0\n",
       "brave         0.0\n",
       "dtype: float64"
      ]
     },
     "execution_count": 99,
     "metadata": {},
     "output_type": "execute_result"
    }
   ],
   "execution_count": 99
  },
  {
   "cell_type": "code",
   "execution_count": 62,
   "outputs": [
    {
     "ename": "KeyError",
     "evalue": "'y'",
     "output_type": "error",
     "traceback": [
      "\u001B[0;31m---------------------------------------------------------------------------\u001B[0m",
      "\u001B[0;31mKeyError\u001B[0m                                  Traceback (most recent call last)",
      "File \u001B[0;32m~/Documents/github_repos/thesis_project_v2/venv/lib/python3.10/site-packages/pandas/core/indexes/base.py:3652\u001B[0m, in \u001B[0;36mIndex.get_loc\u001B[0;34m(self, key)\u001B[0m\n\u001B[1;32m   3651\u001B[0m \u001B[38;5;28;01mtry\u001B[39;00m:\n\u001B[0;32m-> 3652\u001B[0m     \u001B[38;5;28;01mreturn\u001B[39;00m \u001B[38;5;28;43mself\u001B[39;49m\u001B[38;5;241;43m.\u001B[39;49m\u001B[43m_engine\u001B[49m\u001B[38;5;241;43m.\u001B[39;49m\u001B[43mget_loc\u001B[49m\u001B[43m(\u001B[49m\u001B[43mcasted_key\u001B[49m\u001B[43m)\u001B[49m\n\u001B[1;32m   3653\u001B[0m \u001B[38;5;28;01mexcept\u001B[39;00m \u001B[38;5;167;01mKeyError\u001B[39;00m \u001B[38;5;28;01mas\u001B[39;00m err:\n",
      "File \u001B[0;32m~/Documents/github_repos/thesis_project_v2/venv/lib/python3.10/site-packages/pandas/_libs/index.pyx:147\u001B[0m, in \u001B[0;36mpandas._libs.index.IndexEngine.get_loc\u001B[0;34m()\u001B[0m\n",
      "File \u001B[0;32m~/Documents/github_repos/thesis_project_v2/venv/lib/python3.10/site-packages/pandas/_libs/index.pyx:176\u001B[0m, in \u001B[0;36mpandas._libs.index.IndexEngine.get_loc\u001B[0;34m()\u001B[0m\n",
      "File \u001B[0;32mpandas/_libs/hashtable_class_helper.pxi:7080\u001B[0m, in \u001B[0;36mpandas._libs.hashtable.PyObjectHashTable.get_item\u001B[0;34m()\u001B[0m\n",
      "File \u001B[0;32mpandas/_libs/hashtable_class_helper.pxi:7088\u001B[0m, in \u001B[0;36mpandas._libs.hashtable.PyObjectHashTable.get_item\u001B[0;34m()\u001B[0m\n",
      "\u001B[0;31mKeyError\u001B[0m: 'y'",
      "\nThe above exception was the direct cause of the following exception:\n",
      "\u001B[0;31mKeyError\u001B[0m                                  Traceback (most recent call last)",
      "Cell \u001B[0;32mIn[62], line 17\u001B[0m\n\u001B[1;32m     15\u001B[0m     cumsum_freqs \u001B[38;5;241m=\u001B[39m np\u001B[38;5;241m.\u001B[39mcumsum(sorted_freqs)\n\u001B[1;32m     16\u001B[0m     lorenz_curve \u001B[38;5;241m=\u001B[39m cumsum_freqs \u001B[38;5;241m/\u001B[39m cumsum_freqs[\u001B[38;5;241m-\u001B[39m\u001B[38;5;241m1\u001B[39m]\n\u001B[0;32m---> 17\u001B[0m     \u001B[43msns\u001B[49m\u001B[38;5;241;43m.\u001B[39;49m\u001B[43mlineplot\u001B[49m\u001B[43m(\u001B[49m\u001B[43mx\u001B[49m\u001B[38;5;241;43m=\u001B[39;49m\u001B[43mnp\u001B[49m\u001B[38;5;241;43m.\u001B[39;49m\u001B[43mlinspace\u001B[49m\u001B[43m(\u001B[49m\u001B[38;5;241;43m0\u001B[39;49m\u001B[43m,\u001B[49m\u001B[43m \u001B[49m\u001B[38;5;241;43m1\u001B[39;49m\u001B[43m,\u001B[49m\u001B[43m \u001B[49m\u001B[38;5;28;43mlen\u001B[39;49m\u001B[43m(\u001B[49m\u001B[43mlorenz_curve\u001B[49m\u001B[43m)\u001B[49m\u001B[43m)\u001B[49m\u001B[43m,\u001B[49m\u001B[43m \u001B[49m\u001B[43my\u001B[49m\u001B[38;5;241;43m=\u001B[39;49m\u001B[43mlorenz_curve\u001B[49m\u001B[43m,\u001B[49m\u001B[43m \u001B[49m\u001B[43mlabel\u001B[49m\u001B[38;5;241;43m=\u001B[39;49m\u001B[43mbrowser\u001B[49m\u001B[43m,\u001B[49m\u001B[43m \u001B[49m\u001B[43max\u001B[49m\u001B[38;5;241;43m=\u001B[39;49m\u001B[43maxs\u001B[49m\u001B[43m[\u001B[49m\u001B[38;5;241;43m1\u001B[39;49m\u001B[43m]\u001B[49m\u001B[43m)\u001B[49m\n\u001B[1;32m     19\u001B[0m \u001B[38;5;66;03m# Adding the line of equality\u001B[39;00m\n\u001B[1;32m     20\u001B[0m axs[\u001B[38;5;241m1\u001B[39m]\u001B[38;5;241m.\u001B[39mplot([\u001B[38;5;241m0\u001B[39m, \u001B[38;5;241m1\u001B[39m], [\u001B[38;5;241m0\u001B[39m, \u001B[38;5;241m1\u001B[39m], color\u001B[38;5;241m=\u001B[39m\u001B[38;5;124m'\u001B[39m\u001B[38;5;124mgray\u001B[39m\u001B[38;5;124m'\u001B[39m, linestyle\u001B[38;5;241m=\u001B[39m\u001B[38;5;124m'\u001B[39m\u001B[38;5;124m--\u001B[39m\u001B[38;5;124m'\u001B[39m)\n",
      "File \u001B[0;32m~/Documents/github_repos/thesis_project_v2/venv/lib/python3.10/site-packages/seaborn/relational.py:645\u001B[0m, in \u001B[0;36mlineplot\u001B[0;34m(data, x, y, hue, size, style, units, palette, hue_order, hue_norm, sizes, size_order, size_norm, dashes, markers, style_order, estimator, errorbar, n_boot, seed, orient, sort, err_style, err_kws, legend, ci, ax, **kwargs)\u001B[0m\n\u001B[1;32m    642\u001B[0m color \u001B[38;5;241m=\u001B[39m kwargs\u001B[38;5;241m.\u001B[39mpop(\u001B[38;5;124m\"\u001B[39m\u001B[38;5;124mcolor\u001B[39m\u001B[38;5;124m\"\u001B[39m, kwargs\u001B[38;5;241m.\u001B[39mpop(\u001B[38;5;124m\"\u001B[39m\u001B[38;5;124mc\u001B[39m\u001B[38;5;124m\"\u001B[39m, \u001B[38;5;28;01mNone\u001B[39;00m))\n\u001B[1;32m    643\u001B[0m kwargs[\u001B[38;5;124m\"\u001B[39m\u001B[38;5;124mcolor\u001B[39m\u001B[38;5;124m\"\u001B[39m] \u001B[38;5;241m=\u001B[39m _default_color(ax\u001B[38;5;241m.\u001B[39mplot, hue, color, kwargs)\n\u001B[0;32m--> 645\u001B[0m \u001B[43mp\u001B[49m\u001B[38;5;241;43m.\u001B[39;49m\u001B[43mplot\u001B[49m\u001B[43m(\u001B[49m\u001B[43max\u001B[49m\u001B[43m,\u001B[49m\u001B[43m \u001B[49m\u001B[43mkwargs\u001B[49m\u001B[43m)\u001B[49m\n\u001B[1;32m    646\u001B[0m \u001B[38;5;28;01mreturn\u001B[39;00m ax\n",
      "File \u001B[0;32m~/Documents/github_repos/thesis_project_v2/venv/lib/python3.10/site-packages/seaborn/relational.py:459\u001B[0m, in \u001B[0;36m_LinePlotter.plot\u001B[0;34m(self, ax, kws)\u001B[0m\n\u001B[1;32m    457\u001B[0m         lines\u001B[38;5;241m.\u001B[39mextend(ax\u001B[38;5;241m.\u001B[39mplot(unit_data[\u001B[38;5;124m\"\u001B[39m\u001B[38;5;124mx\u001B[39m\u001B[38;5;124m\"\u001B[39m], unit_data[\u001B[38;5;124m\"\u001B[39m\u001B[38;5;124my\u001B[39m\u001B[38;5;124m\"\u001B[39m], \u001B[38;5;241m*\u001B[39m\u001B[38;5;241m*\u001B[39mkws))\n\u001B[1;32m    458\u001B[0m \u001B[38;5;28;01melse\u001B[39;00m:\n\u001B[0;32m--> 459\u001B[0m     lines \u001B[38;5;241m=\u001B[39m ax\u001B[38;5;241m.\u001B[39mplot(sub_data[\u001B[38;5;124m\"\u001B[39m\u001B[38;5;124mx\u001B[39m\u001B[38;5;124m\"\u001B[39m], \u001B[43msub_data\u001B[49m\u001B[43m[\u001B[49m\u001B[38;5;124;43m\"\u001B[39;49m\u001B[38;5;124;43my\u001B[39;49m\u001B[38;5;124;43m\"\u001B[39;49m\u001B[43m]\u001B[49m, \u001B[38;5;241m*\u001B[39m\u001B[38;5;241m*\u001B[39mkws)\n\u001B[1;32m    461\u001B[0m \u001B[38;5;28;01mfor\u001B[39;00m line \u001B[38;5;129;01min\u001B[39;00m lines:\n\u001B[1;32m    463\u001B[0m     \u001B[38;5;28;01mif\u001B[39;00m \u001B[38;5;124m\"\u001B[39m\u001B[38;5;124mhue\u001B[39m\u001B[38;5;124m\"\u001B[39m \u001B[38;5;129;01min\u001B[39;00m sub_vars:\n",
      "File \u001B[0;32m~/Documents/github_repos/thesis_project_v2/venv/lib/python3.10/site-packages/pandas/core/frame.py:3761\u001B[0m, in \u001B[0;36mDataFrame.__getitem__\u001B[0;34m(self, key)\u001B[0m\n\u001B[1;32m   3759\u001B[0m \u001B[38;5;28;01mif\u001B[39;00m \u001B[38;5;28mself\u001B[39m\u001B[38;5;241m.\u001B[39mcolumns\u001B[38;5;241m.\u001B[39mnlevels \u001B[38;5;241m>\u001B[39m \u001B[38;5;241m1\u001B[39m:\n\u001B[1;32m   3760\u001B[0m     \u001B[38;5;28;01mreturn\u001B[39;00m \u001B[38;5;28mself\u001B[39m\u001B[38;5;241m.\u001B[39m_getitem_multilevel(key)\n\u001B[0;32m-> 3761\u001B[0m indexer \u001B[38;5;241m=\u001B[39m \u001B[38;5;28;43mself\u001B[39;49m\u001B[38;5;241;43m.\u001B[39;49m\u001B[43mcolumns\u001B[49m\u001B[38;5;241;43m.\u001B[39;49m\u001B[43mget_loc\u001B[49m\u001B[43m(\u001B[49m\u001B[43mkey\u001B[49m\u001B[43m)\u001B[49m\n\u001B[1;32m   3762\u001B[0m \u001B[38;5;28;01mif\u001B[39;00m is_integer(indexer):\n\u001B[1;32m   3763\u001B[0m     indexer \u001B[38;5;241m=\u001B[39m [indexer]\n",
      "File \u001B[0;32m~/Documents/github_repos/thesis_project_v2/venv/lib/python3.10/site-packages/pandas/core/indexes/base.py:3654\u001B[0m, in \u001B[0;36mIndex.get_loc\u001B[0;34m(self, key)\u001B[0m\n\u001B[1;32m   3652\u001B[0m     \u001B[38;5;28;01mreturn\u001B[39;00m \u001B[38;5;28mself\u001B[39m\u001B[38;5;241m.\u001B[39m_engine\u001B[38;5;241m.\u001B[39mget_loc(casted_key)\n\u001B[1;32m   3653\u001B[0m \u001B[38;5;28;01mexcept\u001B[39;00m \u001B[38;5;167;01mKeyError\u001B[39;00m \u001B[38;5;28;01mas\u001B[39;00m err:\n\u001B[0;32m-> 3654\u001B[0m     \u001B[38;5;28;01mraise\u001B[39;00m \u001B[38;5;167;01mKeyError\u001B[39;00m(key) \u001B[38;5;28;01mfrom\u001B[39;00m \u001B[38;5;21;01merr\u001B[39;00m\n\u001B[1;32m   3655\u001B[0m \u001B[38;5;28;01mexcept\u001B[39;00m \u001B[38;5;167;01mTypeError\u001B[39;00m:\n\u001B[1;32m   3656\u001B[0m     \u001B[38;5;66;03m# If we have a listlike key, _check_indexing_error will raise\u001B[39;00m\n\u001B[1;32m   3657\u001B[0m     \u001B[38;5;66;03m#  InvalidIndexError. Otherwise we fall through and re-raise\u001B[39;00m\n\u001B[1;32m   3658\u001B[0m     \u001B[38;5;66;03m#  the TypeError.\u001B[39;00m\n\u001B[1;32m   3659\u001B[0m     \u001B[38;5;28mself\u001B[39m\u001B[38;5;241m.\u001B[39m_check_indexing_error(key)\n",
      "\u001B[0;31mKeyError\u001B[0m: 'y'"
     ]
    },
    {
     "data": {
      "text/plain": "<Figure size 1500x700 with 2 Axes>",
      "image/png": "[encoded data removed]"
     },
     "metadata": {},
     "output_type": "display_data"
    }
   ],
   "source": [
    "fig, axs = plt.subplots(1, 2, figsize=(15, 7))\n",
    "\n",
    "# Plotting the ECDF using Seaborn's ecdfplot\n",
    "for browser in a.columns:\n",
    "    sns.ecdfplot(a[browser], label=browser, ax=axs[0])\n",
    "\n",
    "axs[0].set_title(\"CDF of Header Frequencies by Browser\")\n",
    "axs[0].set_xlabel(\"Header Frequency\")\n",
    "axs[0].set_ylabel(\"Cumulative Proportion\")\n",
    "axs[0].legend()\n",
    "\n",
    "# Plotting the Lorenz Curve using Seaborn\n",
    "for browser in a.columns:\n",
    "    sorted_freqs = a[browser].sort_values(ascending=True).values\n",
    "    cumsum_freqs = np.cumsum(sorted_freqs)\n",
    "    lorenz_curve = cumsum_freqs / cumsum_freqs[-1]\n",
    "    sns.lineplot(x=np.linspace(0, 1, len(lorenz_curve)), y=lorenz_curve, label=browser, ax=axs[1])\n",
    "\n",
    "# Adding the line of equality\n",
    "axs[1].plot([0, 1], [0, 1], color='gray', linestyle='--')\n",
    "axs[1].set_title(\"Lorenz Curve of Header Frequencies by Browser\")\n",
    "axs[1].set_xlabel(\"Cumulative Proportion of Headers\")\n",
    "axs[1].set_ylabel(\"Cumulative Proportion of Occurrences\")\n",
    "axs[1].legend()\n",
    "\n",
    "plt.tight_layout()\n",
    "plt.show()"
   ],
   "metadata": {
    "collapsed": false,
    "ExecuteTime": {
     "end_time": "2023-08-30T21:17:10.013972Z",
     "start_time": "2023-08-30T21:17:09.677250Z"
    }
   }
  },
  {
   "cell_type": "code",
   "execution_count": 77,
   "outputs": [],
   "source": [
    "import matplotlib.patches as mpatches"
   ],
   "metadata": {
    "collapsed": false,
    "ExecuteTime": {
     "end_time": "2023-08-30T21:25:53.933563Z",
     "start_time": "2023-08-30T21:25:53.898264Z"
    }
   }
  },
  {
   "cell_type": "code",
   "execution_count": 92,
   "outputs": [
    {
     "data": {
      "text/plain": "<Figure size 400x400 with 0 Axes>"
     },
     "metadata": {},
     "output_type": "display_data"
    },
    {
     "data": {
      "text/plain": "<Figure size 800x800 with 1 Axes>",
      "image/png": "[encoded data removed]"
     },
     "metadata": {},
     "output_type": "display_data"
    }
   ],
   "source": [
    "# Assuming the lists are named list1, list2, list3, and list4\n",
    "set1 = set(chrome_old.columns.to_list())\n",
    "set2 = set(chrome_new.columns.to_list())\n",
    "set3 = set(firefox.columns.to_list())\n",
    "set4 = set(brave.columns.to_list())\n",
    "# Combine all sets into a dictionary\n",
    "data_dict = {\n",
    "    '$Chrome_{22}$': set1,\n",
    "    '$Chrome_{23}$': set2,\n",
    "    '$Firefox_{22}$': set3,\n",
    "    '$Brave_{22}$': set4\n",
    "}\n",
    "\n",
    "plt.figure(figsize=(4, 4))\n",
    "venn(data_dict, cmap=[\"#E69F00\", \"#56B4E9\", \"#009E73\", \"#0072B2\", \"#D55E00\", \"#CC79A7\", \"#F0E442\"])\n",
    "colors=[\"#E69F00\", \"#56B4E9\", \"#009E73\", \"#0072B2\", \"#D55E00\", \"#CC79A7\", \"#F0E442\"]\n",
    "patches = [mpatches.Patch(color=color, label=label) for color, label in zip(colors, labels)]\n",
    "plt.legend(handles=patches, loc='upper center', ncol=4)\n",
    "plt.title(\"Comparing HTTP/S Response Headers between Browsers\", fontsize=14)\n",
    "plt.subplots_adjust(top=0.85, bottom=0.15)\n",
    "plt.savefig('venn.png', bbox_inches='tight', pad_inches=0.1)\n",
    "plt.show()"
   ],
   "metadata": {
    "collapsed": false,
    "ExecuteTime": {
     "end_time": "2023-08-31T08:27:14.840290Z",
     "start_time": "2023-08-31T08:27:14.676632Z"
    }
   }
  },
  {
   "cell_type": "markdown",
   "source": [
    "Figure 1 presents a four-set Venn diagram comparing the HTTP/S response headers between four browsers: CO, CN, F, and B. Each circle in the diagram represents one browser, and the overlapping areas between the circles illustrate the common response headers shared by the corresponding browsers. The numbers within each section of the circles indicate the count of unique response headers for that particular combination of browsers. This visualization enables a comprehensive understanding of the similarities and differences in the HTTP/S response headers used by each browser and highlights the extent to which their header usage overlaps."
   ],
   "metadata": {
    "collapsed": false
   }
  },
  {
   "cell_type": "code",
   "execution_count": 1,
   "outputs": [],
   "source": [
    "def sparsity_ratio(df):\n",
    "    np_array = df.to_numpy()\n",
    "    num_zeros = np.count_nonzero(np_array == 0) + np.isnan(np_array).sum()\n",
    "    total_elements = np_array.size\n",
    "    sparsity = num_zeros / total_elements\n",
    "    return sparsity\n",
    "\n",
    "def density(df):\n",
    "    return 1 - sparsity_ratio(df)\n",
    "\n",
    "def gini_index(df):\n",
    "    np_array = df.to_numpy().flatten()\n",
    "    np_array = np_array[~np.isnan(np_array)]\n",
    "    n = len(np_array)\n",
    "    gini = (np.sum((2 * np.arange(n) - n + 1) * np.sort(np_array))) / (n * np.sum(np_array))\n",
    "    return gini\n",
    "\n",
    "def shannon_entropy(df):\n",
    "    np_array = df.to_numpy()\n",
    "    unique_elements, counts = np.unique(np_array, return_counts=True)\n",
    "    probabilities = counts / counts.sum()\n",
    "    entropy = -np.sum(probabilities * np.log2(probabilities))\n",
    "    return entropy"
   ],
   "metadata": {
    "collapsed": false,
    "ExecuteTime": {
     "end_time": "2023-05-07T20:08:04.347930Z",
     "start_time": "2023-05-07T20:08:04.345623Z"
    }
   }
  },
  {
   "cell_type": "code",
   "execution_count": null,
   "outputs": [],
   "source": [
    "# Usage\n",
    "sparsity = sparsity_ratio(chrome_old)\n",
    "print(\"Sparsity Ratio:\", sparsity)\n",
    "print(\"Density:\", density(chrome_old))"
   ],
   "metadata": {
    "collapsed": false
   }
  },
  {
   "cell_type": "code",
   "execution_count": 5,
   "outputs": [],
   "source": [
    "a = chrome_old.to_numpy()"
   ],
   "metadata": {
    "collapsed": false,
    "ExecuteTime": {
     "end_time": "2023-05-07T20:11:29.794815Z",
     "start_time": "2023-05-07T20:10:44.069458Z"
    }
   }
  },
  {
   "cell_type": "code",
   "execution_count": 8,
   "outputs": [
    {
     "name": "stderr",
     "output_type": "stream",
     "text": [
      "/var/folders/wk/770974_933q_mcw9wsl_nvkw0000gn/T/ipykernel_47247/4176296220.py:1: DeprecationWarning: The truth value of an empty array is ambiguous. Returning False, but in future this will result in an error. Use `array.size > 0` to check that an array is not empty.\n",
      "  np.count_nonzero(a[:100,:100] == 0)\n",
      "/var/folders/wk/770974_933q_mcw9wsl_nvkw0000gn/T/ipykernel_47247/4176296220.py:1: DeprecationWarning: elementwise comparison failed; this will raise an error in the future.\n",
      "  np.count_nonzero(a[:100,:100] == 0)\n"
     ]
    },
    {
     "data": {
      "text/plain": "0"
     },
     "execution_count": 8,
     "metadata": {},
     "output_type": "execute_result"
    }
   ],
   "source": [
    "np.count_nonzero(a[:100,:100] == 0)"
   ],
   "metadata": {
    "collapsed": false,
    "ExecuteTime": {
     "end_time": "2023-05-08T06:22:41.557338Z",
     "start_time": "2023-05-08T06:22:41.552267Z"
    }
   }
  },
  {
   "cell_type": "code",
   "execution_count": 18,
   "outputs": [],
   "source": [
    "import pyarrow as pa"
   ],
   "metadata": {
    "collapsed": false,
    "ExecuteTime": {
     "end_time": "2023-05-08T06:24:48.039155Z",
     "start_time": "2023-05-08T06:24:48.032455Z"
    }
   }
  },
  {
   "cell_type": "code",
   "execution_count": 17,
   "outputs": [
    {
     "data": {
      "text/plain": "hostname              string[pyarrow]\npathname              string[pyarrow]\nfiletype              string[pyarrow]\nfilename              string[pyarrow]\nprotocol              string[pyarrow]\n                           ...       \nx-ta                  string[pyarrow]\nx-cache-cms-status    string[pyarrow]\nx-pbs-appsvrname      string[pyarrow]\nx-pbs-appsvrip        string[pyarrow]\ntracker                int32[pyarrow]\nLength: 5316, dtype: object"
     },
     "execution_count": 17,
     "metadata": {},
     "output_type": "execute_result"
    }
   ],
   "source": [
    "chrome_old.dtypes"
   ],
   "metadata": {
    "collapsed": false,
    "ExecuteTime": {
     "end_time": "2023-05-08T06:24:00.556331Z",
     "start_time": "2023-05-08T06:24:00.552999Z"
    }
   }
  },
  {
   "cell_type": "code",
   "execution_count": 5,
   "outputs": [],
   "source": [
    "# chrome_old_calib = pd.read_parquet(\n",
    "#     \"../data/processed/chrome/08_12_2022/calibration_set_processed.parquet.gzip\", engine=\"pyarrow\",\n",
    "#             dtype_backend=\"pyarrow\"\n",
    "# )\n",
    "# \n",
    "# chrome_old_train = pd.read_parquet(\n",
    "#     \"../data/processed/chrome/08_12_2022/train_set_processed.parquet.gzip\", engine=\"pyarrow\",\n",
    "#             dtype_backend=\"pyarrow\"\n",
    "# )\n",
    "# \n",
    "# chrome_old_test = pd.read_parquet(\n",
    "#     \"../data/processed/chrome/08_12_2022/test_set_processed.parquet.gzip\", engine=\"pyarrow\",\n",
    "#             dtype_backend=\"pyarrow\"\n",
    "# )\n",
    "# \n",
    "# chrome_old_valid = pd.read_parquet(\n",
    "#     \"../data/processed/chrome/08_12_2022/validation_set_processed.parquet.gzip\", engine=\"pyarrow\",\n",
    "#             dtype_backend=\"pyarrow\"\n",
    "# )"
   ],
   "metadata": {
    "collapsed": false,
    "ExecuteTime": {
     "end_time": "2023-08-29T09:21:31.216827Z",
     "start_time": "2023-08-29T09:21:30.984300Z"
    }
   }
  },
  {
   "cell_type": "code",
   "execution_count": 66,
   "outputs": [],
   "source": [
    "chrome_old = pd.read_parquet(\n",
    "    \"../data/processed/chrome/08_12_2022/merged_data.parquet.gzip\", engine=\"pyarrow\",\n",
    "            dtype_backend=\"pyarrow\"\n",
    ")"
   ],
   "metadata": {
    "collapsed": false,
    "ExecuteTime": {
     "end_time": "2023-08-29T12:02:29.435147Z",
     "start_time": "2023-08-29T12:02:18.238161Z"
    }
   }
  },
  {
   "cell_type": "code",
   "execution_count": 33,
   "outputs": [
    {
     "data": {
      "text/plain": "(858718, 8096)"
     },
     "execution_count": 33,
     "metadata": {},
     "output_type": "execute_result"
    }
   ],
   "source": [
    "chrome_old.shape"
   ],
   "metadata": {
    "collapsed": false,
    "ExecuteTime": {
     "end_time": "2023-08-29T09:29:00.330258Z",
     "start_time": "2023-08-29T09:29:00.295940Z"
    }
   }
  },
  {
   "cell_type": "code",
   "execution_count": 34,
   "outputs": [
    {
     "data": {
      "text/plain": "Index(['hostname', 'pathname', 'filetype', 'filename_one', 'protocol', 'query',\n       'x-bapp-server', 'azure-sitename', 'x-powered-by', 'x-yandexuid',\n       ...\n       'access-control-max-age', 'x-edge-cache-tag-at-origin', 'scope',\n       'x-amz-meta-x-deployment-hash', 'x-oneagent-js-injection',\n       'context-type', 'x-ocm-geo', 'tbws3', 'box', 'tracker'],\n      dtype='object', length=8096)"
     },
     "execution_count": 34,
     "metadata": {},
     "output_type": "execute_result"
    }
   ],
   "source": [
    "chrome_old.columns"
   ],
   "metadata": {
    "collapsed": false,
    "ExecuteTime": {
     "end_time": "2023-08-29T09:33:24.633506Z",
     "start_time": "2023-08-29T09:33:24.601718Z"
    }
   }
  },
  {
   "cell_type": "code",
   "execution_count": 9,
   "outputs": [],
   "source": [
    "# chrome_old = pd.concat([chrome_old_calib, chrome_old_train, chrome_old_test, chrome_old_valid], axis=0)"
   ],
   "metadata": {
    "collapsed": false,
    "ExecuteTime": {
     "end_time": "2023-08-29T09:22:51.826381Z",
     "start_time": "2023-08-29T09:22:51.758526Z"
    }
   }
  },
  {
   "cell_type": "code",
   "execution_count": 14,
   "outputs": [
    {
     "data": {
      "text/plain": "(858718, 163)"
     },
     "execution_count": 14,
     "metadata": {},
     "output_type": "execute_result"
    }
   ],
   "source": [
    "chrome_old.shape"
   ],
   "metadata": {
    "collapsed": false,
    "ExecuteTime": {
     "end_time": "2023-08-29T09:23:52.841291Z",
     "start_time": "2023-08-29T09:23:52.807064Z"
    }
   }
  },
  {
   "cell_type": "code",
   "execution_count": 18,
   "outputs": [],
   "source": [
    "col_non_tracker = chrome_old['comb_col_non_tracker']\n",
    "col_tracker = chrome_old['comb_col_tracker']"
   ],
   "metadata": {
    "collapsed": false,
    "ExecuteTime": {
     "end_time": "2023-08-29T09:24:19.329615Z",
     "start_time": "2023-08-29T09:24:19.294765Z"
    }
   }
  },
  {
   "cell_type": "code",
   "execution_count": 27,
   "outputs": [
    {
     "data": {
      "text/plain": "306135"
     },
     "execution_count": 27,
     "metadata": {},
     "output_type": "execute_result"
    }
   ],
   "source": [
    "len(col_non_tracker[col_non_tracker > 0])"
   ],
   "metadata": {
    "collapsed": false,
    "ExecuteTime": {
     "end_time": "2023-08-29T09:27:21.013708Z",
     "start_time": "2023-08-29T09:27:20.990204Z"
    }
   }
  },
  {
   "cell_type": "code",
   "execution_count": 24,
   "outputs": [
    {
     "data": {
      "text/plain": "1"
     },
     "execution_count": 24,
     "metadata": {},
     "output_type": "execute_result"
    }
   ],
   "source": [
    "np.min(col_non_tracker.loc[lambda x: x > 0])"
   ],
   "metadata": {
    "collapsed": false,
    "ExecuteTime": {
     "end_time": "2023-08-29T09:27:00.386563Z",
     "start_time": "2023-08-29T09:27:00.352921Z"
    }
   }
  },
  {
   "cell_type": "code",
   "execution_count": 37,
   "outputs": [],
   "source": [
    "del chrome_old"
   ],
   "metadata": {
    "collapsed": false,
    "ExecuteTime": {
     "end_time": "2023-08-29T09:37:13.016301Z",
     "start_time": "2023-08-29T09:37:13.008791Z"
    }
   }
  },
  {
   "cell_type": "code",
   "execution_count": 44,
   "outputs": [],
   "source": [
    "def compute_headers_count_parquet(filename, chunk_size=10000):\n",
    "    total_rows = pd.read_parquet(filename, columns=['tracker'], engine=\"pyarrow\",\n",
    "            dtype_backend=\"pyarrow\").shape[0]\n",
    "    \n",
    "    counts = []\n",
    "    for start in range(0, total_rows, chunk_size):\n",
    "        chunk = pd.read_parquet(filename, skiprows=range(1, start + 1), nrows=chunk_size, engine=\"pyarrow\",\n",
    "            dtype_backend=\"pyarrow\")\n",
    "\n",
    "        # Assuming the label column is named 'label'\n",
    "        labels = chunk['tracker']\n",
    "        # Drop the label column for counting\n",
    "        chunk.drop(['hostname', 'pathname', 'filetype', 'filename_one', 'protocol', 'query','tracker'], axis=1, inplace=True)\n",
    "        # Count non-NaN headers\n",
    "        non_na_count = chunk.notna().sum(axis=1)\n",
    "        counts.append(pd.DataFrame({'tracker': labels, 'header_count': non_na_count}))\n",
    "    return pd.concat(counts, ignore_index=True)"
   ],
   "metadata": {
    "collapsed": false,
    "ExecuteTime": {
     "end_time": "2023-08-29T09:41:15.707875Z",
     "start_time": "2023-08-29T09:41:15.655854Z"
    }
   }
  },
  {
   "cell_type": "code",
   "execution_count": null,
   "outputs": [],
   "source": [
    "%%time\n",
    "df_counts = compute_headers_count_parquet(\"../data/processed/chrome/08_12_2022/calibration_set.parquet.gzip\")"
   ],
   "metadata": {
    "collapsed": false
   }
  },
  {
   "cell_type": "code",
   "execution_count": 47,
   "outputs": [],
   "source": [
    "chrome_old.drop(['hostname', 'pathname', 'filetype', 'filename_one', 'protocol', 'query','tracker'], axis=1, inplace=True)"
   ],
   "metadata": {
    "collapsed": false,
    "ExecuteTime": {
     "end_time": "2023-08-29T09:44:17.408749Z",
     "start_time": "2023-08-29T09:44:17.308895Z"
    }
   }
  },
  {
   "cell_type": "code",
   "execution_count": 68,
   "outputs": [
    {
     "data": {
      "text/plain": "(858718, 8096)"
     },
     "execution_count": 68,
     "metadata": {},
     "output_type": "execute_result"
    }
   ],
   "source": [
    "chrome_old.shape"
   ],
   "metadata": {
    "collapsed": false,
    "ExecuteTime": {
     "end_time": "2023-08-30T09:05:07.079145Z",
     "start_time": "2023-08-30T09:05:07.054047Z"
    }
   }
  },
  {
   "cell_type": "code",
   "execution_count": 67,
   "outputs": [
    {
     "data": {
      "text/plain": "(200000, 8089)"
     },
     "execution_count": 67,
     "metadata": {},
     "output_type": "execute_result"
    }
   ],
   "source": [
    "chrome_old.loc[chrome_old.tracker == 0].iloc[0:200000, 6:-1].shape"
   ],
   "metadata": {
    "collapsed": false,
    "ExecuteTime": {
     "end_time": "2023-08-29T12:03:09.134450Z",
     "start_time": "2023-08-29T12:02:33.569035Z"
    }
   }
  },
  {
   "cell_type": "code",
   "execution_count": 61,
   "outputs": [
    {
     "name": "stdout",
     "output_type": "stream",
     "text": [
      "CPU times: user 2.87 s, sys: 781 ms, total: 3.65 s\n",
      "Wall time: 4.22 s\n"
     ]
    },
    {
     "data": {
      "text/plain": "0         14\n1         14\n2         14\n3         14\n4         14\n          ..\n199995    17\n199996    18\n199997    16\n199998    15\n199999    18\nLength: 200000, dtype: int64"
     },
     "execution_count": 61,
     "metadata": {},
     "output_type": "execute_result"
    }
   ],
   "source": [
    "%%time\n",
    "chrome_old.iloc[0:200000, 6:-1].notna().sum(axis=1)"
   ],
   "metadata": {
    "collapsed": false,
    "ExecuteTime": {
     "end_time": "2023-08-29T12:01:12.773308Z",
     "start_time": "2023-08-29T12:01:08.616493Z"
    }
   }
  },
  {
   "cell_type": "code",
   "execution_count": 29,
   "outputs": [
    {
     "name": "stdout",
     "output_type": "stream",
     "text": [
      "CPU times: user 11.4 s, sys: 4.5 s, total: 15.9 s\n",
      "Wall time: 19.3 s\n"
     ]
    },
    {
     "data": {
      "text/plain": "0         14\n1         14\n2         14\n3         14\n4         14\n          ..\n858713    15\n858714    15\n858715    15\n858716    15\n858717    15\nLength: 858718, dtype: int64"
     },
     "execution_count": 29,
     "metadata": {},
     "output_type": "execute_result"
    }
   ],
   "source": [
    "%%time\n",
    "chrome_old.iloc[:, 6:-1].count(axis=1)"
   ],
   "metadata": {
    "collapsed": false,
    "ExecuteTime": {
     "end_time": "2023-11-21T09:08:18.072898Z",
     "start_time": "2023-11-21T09:07:58.745405Z"
    }
   }
  },
  {
   "cell_type": "code",
   "execution_count": 30,
   "outputs": [
    {
     "data": {
      "text/plain": "(1, 8089)"
     },
     "execution_count": 30,
     "metadata": {},
     "output_type": "execute_result"
    }
   ],
   "source": [
    "chrome_old.iloc[:1, 6:-1].shape"
   ],
   "metadata": {
    "collapsed": false,
    "ExecuteTime": {
     "end_time": "2023-11-21T09:08:33.482166Z",
     "start_time": "2023-11-21T09:08:33.216449Z"
    }
   }
  },
  {
   "cell_type": "code",
   "execution_count": 28,
   "outputs": [
    {
     "data": {
      "text/plain": "0    8075\ndtype: int64"
     },
     "execution_count": 28,
     "metadata": {},
     "output_type": "execute_result"
    }
   ],
   "source": [
    "chrome_old.iloc[:1, 6:-1].isna().sum(axis=1)"
   ],
   "metadata": {
    "collapsed": false,
    "ExecuteTime": {
     "end_time": "2023-11-21T09:07:41.033304Z",
     "start_time": "2023-11-21T09:07:40.910020Z"
    }
   }
  },
  {
   "cell_type": "code",
   "execution_count": 31,
   "outputs": [],
   "source": [
    "def calc_headers_count(df):\n",
    "    header_counts = df.iloc[:, 6:-1].count(axis=1)\n",
    "    median = header_counts.median()\n",
    "    percentile_25 = header_counts.quantile(0.25)\n",
    "    percentile_75 = header_counts.quantile(0.75)\n",
    "    iqr = percentile_75 - percentile_25\n",
    "\n",
    "    # Calculating mean, median, and std for the number of unique headers\n",
    "    mean_headers = header_counts.mean()\n",
    "    median_headers = median  # same as median calculated above\n",
    "    std_headers = header_counts.std()\n",
    "\n",
    "    return {\n",
    "        'median': median, \n",
    "        '25th_percentile': percentile_25, \n",
    "        '75th_percentile': percentile_75, \n",
    "        'iqr': iqr,\n",
    "        'mean_unique_headers': mean_headers, \n",
    "        'median_unique_headers': median_headers, \n",
    "        'std_unique_headers': std_headers\n",
    "    }"
   ],
   "metadata": {
    "collapsed": false,
    "ExecuteTime": {
     "end_time": "2023-11-21T09:31:23.648550Z",
     "start_time": "2023-11-21T09:31:23.639696Z"
    }
   }
  },
  {
   "cell_type": "code",
   "execution_count": 33,
   "outputs": [],
   "source": [
    "chrome_old_tracker = calc_headers_count(chrome_old[chrome_old.tracker == 1])\n",
    "chrome_old_non_tracker = calc_headers_count(chrome_old[chrome_old.tracker == 0])"
   ],
   "metadata": {
    "collapsed": false,
    "ExecuteTime": {
     "end_time": "2023-11-21T09:34:11.264662Z",
     "start_time": "2023-11-21T09:32:51.827088Z"
    }
   }
  },
  {
   "cell_type": "code",
   "execution_count": 34,
   "outputs": [
    {
     "data": {
      "text/plain": "{'median': 13.0,\n '25th_percentile': 10.0,\n '75th_percentile': 16.0,\n 'iqr': 6.0,\n 'mean_unique_headers': 12.781539566435859,\n 'median_unique_headers': 13.0,\n 'std_unique_headers': 4.217537537498968}"
     },
     "execution_count": 34,
     "metadata": {},
     "output_type": "execute_result"
    }
   ],
   "source": [
    "chrome_old_tracker"
   ],
   "metadata": {
    "collapsed": false,
    "ExecuteTime": {
     "end_time": "2023-11-21T09:34:47.378165Z",
     "start_time": "2023-11-21T09:34:47.355153Z"
    }
   }
  },
  {
   "cell_type": "code",
   "execution_count": 36,
   "outputs": [
    {
     "data": {
      "text/plain": "{'median': 15.0,\n '25th_percentile': 12.0,\n '75th_percentile': 19.0,\n 'iqr': 7.0,\n 'mean_unique_headers': 15.723082872488034,\n 'median_unique_headers': 15.0,\n 'std_unique_headers': 4.878896064786987}"
     },
     "execution_count": 36,
     "metadata": {},
     "output_type": "execute_result"
    }
   ],
   "source": [
    "chrome_old_non_tracker"
   ],
   "metadata": {
    "collapsed": false,
    "ExecuteTime": {
     "end_time": "2023-11-21T09:58:28.358435Z",
     "start_time": "2023-11-21T09:58:28.335072Z"
    }
   }
  },
  {
   "cell_type": "code",
   "execution_count": 35,
   "outputs": [],
   "source": [
    "chrome_new_tracker = calc_headers_count(chrome_new[chrome_new.tracker == 1])\n",
    "chrome_new_non_tracker = calc_headers_count(chrome_new[chrome_new.tracker == 0])"
   ],
   "metadata": {
    "collapsed": false,
    "ExecuteTime": {
     "end_time": "2023-11-21T09:58:14.411133Z",
     "start_time": "2023-11-21T09:57:02.619676Z"
    }
   }
  },
  {
   "cell_type": "code",
   "execution_count": 37,
   "outputs": [
    {
     "data": {
      "text/plain": "{'median': 13.0,\n '25th_percentile': 10.0,\n '75th_percentile': 16.0,\n 'iqr': 6.0,\n 'mean_unique_headers': 12.925783687308643,\n 'median_unique_headers': 13.0,\n 'std_unique_headers': 4.38794889257168}"
     },
     "execution_count": 37,
     "metadata": {},
     "output_type": "execute_result"
    }
   ],
   "source": [
    "chrome_new_tracker"
   ],
   "metadata": {
    "collapsed": false,
    "ExecuteTime": {
     "end_time": "2023-11-21T09:58:47.033121Z",
     "start_time": "2023-11-21T09:58:47.004696Z"
    }
   }
  },
  {
   "cell_type": "code",
   "execution_count": 38,
   "outputs": [
    {
     "data": {
      "text/plain": "{'median': 15.0,\n '25th_percentile': 13.0,\n '75th_percentile': 19.0,\n 'iqr': 6.0,\n 'mean_unique_headers': 15.713786728315322,\n 'median_unique_headers': 15.0,\n 'std_unique_headers': 4.8069659837524465}"
     },
     "execution_count": 38,
     "metadata": {},
     "output_type": "execute_result"
    }
   ],
   "source": [
    "chrome_new_non_tracker"
   ],
   "metadata": {
    "collapsed": false,
    "ExecuteTime": {
     "end_time": "2023-11-21T09:58:53.002200Z",
     "start_time": "2023-11-21T09:58:52.969406Z"
    }
   }
  },
  {
   "cell_type": "code",
   "execution_count": 40,
   "outputs": [],
   "source": [
    "firefox_tracker = calc_headers_count(firefox[firefox.tracker == 1])\n",
    "firefox_non_tracker = calc_headers_count(firefox[firefox.tracker == 0])"
   ],
   "metadata": {
    "collapsed": false,
    "ExecuteTime": {
     "end_time": "2023-11-21T10:02:39.275469Z",
     "start_time": "2023-11-21T10:01:20.518314Z"
    }
   }
  },
  {
   "cell_type": "code",
   "execution_count": 41,
   "outputs": [
    {
     "data": {
      "text/plain": "{'median': 15.0,\n '25th_percentile': 12.0,\n '75th_percentile': 18.0,\n 'iqr': 6.0,\n 'mean_unique_headers': 14.788468313557924,\n 'median_unique_headers': 15.0,\n 'std_unique_headers': 4.505873178792521}"
     },
     "execution_count": 41,
     "metadata": {},
     "output_type": "execute_result"
    }
   ],
   "source": [
    "firefox_tracker"
   ],
   "metadata": {
    "collapsed": false,
    "ExecuteTime": {
     "end_time": "2023-11-21T10:03:22.356756Z",
     "start_time": "2023-11-21T10:03:22.326558Z"
    }
   }
  },
  {
   "cell_type": "code",
   "execution_count": 42,
   "outputs": [
    {
     "data": {
      "text/plain": "{'median': 16.0,\n '25th_percentile': 13.0,\n '75th_percentile': 19.0,\n 'iqr': 6.0,\n 'mean_unique_headers': 16.23389483074412,\n 'median_unique_headers': 16.0,\n 'std_unique_headers': 5.197693636227682}"
     },
     "execution_count": 42,
     "metadata": {},
     "output_type": "execute_result"
    }
   ],
   "source": [
    "firefox_non_tracker"
   ],
   "metadata": {
    "collapsed": false,
    "ExecuteTime": {
     "end_time": "2023-11-21T10:03:28.170227Z",
     "start_time": "2023-11-21T10:03:28.142928Z"
    }
   }
  },
  {
   "cell_type": "code",
   "execution_count": 44,
   "outputs": [],
   "source": [
    "brave_tracker = calc_headers_count(brave[brave.tracker == 1])\n",
    "brave_non_tracker = calc_headers_count(brave[brave.tracker == 0])"
   ],
   "metadata": {
    "collapsed": false,
    "ExecuteTime": {
     "end_time": "2023-11-21T10:06:17.257924Z",
     "start_time": "2023-11-21T10:05:30.156045Z"
    }
   }
  },
  {
   "cell_type": "code",
   "execution_count": 45,
   "outputs": [
    {
     "data": {
      "text/plain": "{'median': 18.0,\n '25th_percentile': 13.0,\n '75th_percentile': 20.0,\n 'iqr': 7.0,\n 'mean_unique_headers': 15.213203098686426,\n 'median_unique_headers': 18.0,\n 'std_unique_headers': 5.892170167707269}"
     },
     "execution_count": 45,
     "metadata": {},
     "output_type": "execute_result"
    }
   ],
   "source": [
    "brave_tracker"
   ],
   "metadata": {
    "collapsed": false,
    "ExecuteTime": {
     "end_time": "2023-11-21T10:07:53.166465Z",
     "start_time": "2023-11-21T10:07:53.135559Z"
    }
   }
  },
  {
   "cell_type": "code",
   "execution_count": 46,
   "outputs": [
    {
     "data": {
      "text/plain": "{'median': 15.0,\n '25th_percentile': 12.0,\n '75th_percentile': 19.0,\n 'iqr': 7.0,\n 'mean_unique_headers': 15.74362553276339,\n 'median_unique_headers': 15.0,\n 'std_unique_headers': 4.796102890526353}"
     },
     "execution_count": 46,
     "metadata": {},
     "output_type": "execute_result"
    }
   ],
   "source": [
    "brave_non_tracker"
   ],
   "metadata": {
    "collapsed": false,
    "ExecuteTime": {
     "end_time": "2023-11-21T10:07:58.353999Z",
     "start_time": "2023-11-21T10:07:58.330885Z"
    }
   }
  },
  {
   "cell_type": "code",
   "execution_count": 47,
   "outputs": [
    {
     "data": {
      "text/plain": "                           hostname                                 pathname   \n0                 imgs.cdn-btsg.com                            /fp/clear.png  \\\n1                        www.aa.com                   /akam/13/pixel_ed6754b   \n2       googleads.g.doubleclick.net                               /pagead/id   \n3            static.doubleclick.net                   /instream/ad_status.js   \n4             jnn-pa.googleapis.com  /$rpc/google.internal.waa.v1.Waa/Create   \n...                             ...                                      ...   \n802808                mc.yandex.com                       /webvisor/56010025   \n802809            www.eveonline.com              /api/arcgoals/current-goals   \n802810                mc.yandex.com                       /webvisor/56010025   \n802811                mc.yandex.com                       /webvisor/56010025   \n802812                mc.yandex.com                       /webvisor/56010025   \n\n             filetype   filename_one protocol   \n0                 png      clear.png    https  \\\n1       pixel_ed6754b  pixel_ed6754b    https   \n2                  id             id    https   \n3                  js   ad_status.js    https   \n4              Create         Create    https   \n...               ...            ...      ...   \n802808       56010025       56010025    https   \n802809  current-goals  current-goals    https   \n802810       56010025       56010025    https   \n802811       56010025       56010025    https   \n802812       56010025       56010025    https   \n\n                                                    query x-flog   \n0       org_id=w2txo5aa&session_id=sx_a23495b252ee4a01...   <NA>  \\\n1                                                           <NA>   \n2                                                           <NA>   \n3                                                           <NA>   \n4                                                           <NA>   \n...                                                   ...    ...   \n802808  wmode=0&wv-part=6&wv-hit=144964618&page-url=ht...   <NA>   \n802809                                                      <NA>   \n802810  wmode=0&wv-part=7&wv-hit=144964618&page-url=ht...   <NA>   \n802811  wmode=0&wv-part=8&wv-hit=144964618&page-url=ht...   <NA>   \n802812  wmode=0&wv-part=9&wv-hit=144964618&page-url=ht...   <NA>   \n\n       x-urbn-scopes x-content-powered-by x-cos-request-id  ...   \n0               <NA>                 <NA>             <NA>  ...  \\\n1               <NA>                 <NA>             <NA>  ...   \n2               <NA>                 <NA>             <NA>  ...   \n3               <NA>                 <NA>             <NA>  ...   \n4               <NA>                 <NA>             <NA>  ...   \n...              ...                  ...              ...  ...   \n802808          <NA>                 <NA>             <NA>  ...   \n802809          <NA>                 <NA>             <NA>  ...   \n802810          <NA>                 <NA>             <NA>  ...   \n802811          <NA>                 <NA>             <NA>  ...   \n802812          <NA>                 <NA>             <NA>  ...   \n\n       x-broadcast-id x-akamai-cache-tag-error x-is-modern-browser   \n0                <NA>                     <NA>                <NA>  \\\n1                <NA>                     <NA>                <NA>   \n2                <NA>                     <NA>                <NA>   \n3                <NA>                     <NA>                <NA>   \n4                <NA>                     <NA>                <NA>   \n...               ...                      ...                 ...   \n802808           <NA>                     <NA>                <NA>   \n802809           <NA>                     <NA>                <NA>   \n802810           <NA>                     <NA>                <NA>   \n802811           <NA>                     <NA>                <NA>   \n802812           <NA>                     <NA>                <NA>   \n\n       zfw-error-code rnt-jn-ext-uuid x-edw-page-name x-ua-device-simple   \n0                <NA>            <NA>            <NA>               <NA>  \\\n1                <NA>            <NA>            <NA>               <NA>   \n2                <NA>            <NA>            <NA>               <NA>   \n3                <NA>            <NA>            <NA>               <NA>   \n4                <NA>            <NA>            <NA>               <NA>   \n...               ...             ...             ...                ...   \n802808           <NA>            <NA>            <NA>               <NA>   \n802809           <NA>            <NA>            <NA>               <NA>   \n802810           <NA>            <NA>            <NA>               <NA>   \n802811           <NA>            <NA>            <NA>               <NA>   \n802812           <NA>            <NA>            <NA>               <NA>   \n\n       x-has-esi show-do-not-sell-link tracker  \n0           <NA>                  <NA>       1  \n1           <NA>                  <NA>       1  \n2           <NA>                  <NA>       1  \n3           <NA>                  <NA>       1  \n4           <NA>                  <NA>       0  \n...          ...                   ...     ...  \n802808      <NA>                  <NA>       1  \n802809      <NA>                  <NA>       0  \n802810      <NA>                  <NA>       1  \n802811      <NA>                  <NA>       1  \n802812      <NA>                  <NA>       1  \n\n[802813 rows x 7903 columns]",
      "text/html": "<div>\n<style scoped>\n    .dataframe tbody tr th:only-of-type {\n        vertical-align: middle;\n    }\n\n    .dataframe tbody tr th {\n        vertical-align: top;\n    }\n\n    .dataframe thead th {\n        text-align: right;\n    }\n</style>\n<table border=\"1\" class=\"dataframe\">\n  <thead>\n    <tr style=\"text-align: right;\">\n      <th></th>\n      <th>hostname</th>\n      <th>pathname</th>\n      <th>filetype</th>\n      <th>filename_one</th>\n      <th>protocol</th>\n      <th>query</th>\n      <th>x-flog</th>\n      <th>x-urbn-scopes</th>\n      <th>x-content-powered-by</th>\n      <th>x-cos-request-id</th>\n      <th>...</th>\n      <th>x-broadcast-id</th>\n      <th>x-akamai-cache-tag-error</th>\n      <th>x-is-modern-browser</th>\n      <th>zfw-error-code</th>\n      <th>rnt-jn-ext-uuid</th>\n      <th>x-edw-page-name</th>\n      <th>x-ua-device-simple</th>\n      <th>x-has-esi</th>\n      <th>show-do-not-sell-link</th>\n      <th>tracker</th>\n    </tr>\n  </thead>\n  <tbody>\n    <tr>\n      <th>0</th>\n      <td>imgs.cdn-btsg.com</td>\n      <td>/fp/clear.png</td>\n      <td>png</td>\n      <td>clear.png</td>\n      <td>https</td>\n      <td>org_id=w2txo5aa&amp;session_id=sx_a23495b252ee4a01...</td>\n      <td>&lt;NA&gt;</td>\n      <td>&lt;NA&gt;</td>\n      <td>&lt;NA&gt;</td>\n      <td>&lt;NA&gt;</td>\n      <td>...</td>\n      <td>&lt;NA&gt;</td>\n      <td>&lt;NA&gt;</td>\n      <td>&lt;NA&gt;</td>\n      <td>&lt;NA&gt;</td>\n      <td>&lt;NA&gt;</td>\n      <td>&lt;NA&gt;</td>\n      <td>&lt;NA&gt;</td>\n      <td>&lt;NA&gt;</td>\n      <td>&lt;NA&gt;</td>\n      <td>1</td>\n    </tr>\n    <tr>\n      <th>1</th>\n      <td>www.aa.com</td>\n      <td>/akam/13/pixel_ed6754b</td>\n      <td>pixel_ed6754b</td>\n      <td>pixel_ed6754b</td>\n      <td>https</td>\n      <td></td>\n      <td>&lt;NA&gt;</td>\n      <td>&lt;NA&gt;</td>\n      <td>&lt;NA&gt;</td>\n      <td>&lt;NA&gt;</td>\n      <td>...</td>\n      <td>&lt;NA&gt;</td>\n      <td>&lt;NA&gt;</td>\n      <td>&lt;NA&gt;</td>\n      <td>&lt;NA&gt;</td>\n      <td>&lt;NA&gt;</td>\n      <td>&lt;NA&gt;</td>\n      <td>&lt;NA&gt;</td>\n      <td>&lt;NA&gt;</td>\n      <td>&lt;NA&gt;</td>\n      <td>1</td>\n    </tr>\n    <tr>\n      <th>2</th>\n      <td>googleads.g.doubleclick.net</td>\n      <td>/pagead/id</td>\n      <td>id</td>\n      <td>id</td>\n      <td>https</td>\n      <td></td>\n      <td>&lt;NA&gt;</td>\n      <td>&lt;NA&gt;</td>\n      <td>&lt;NA&gt;</td>\n      <td>&lt;NA&gt;</td>\n      <td>...</td>\n      <td>&lt;NA&gt;</td>\n      <td>&lt;NA&gt;</td>\n      <td>&lt;NA&gt;</td>\n      <td>&lt;NA&gt;</td>\n      <td>&lt;NA&gt;</td>\n      <td>&lt;NA&gt;</td>\n      <td>&lt;NA&gt;</td>\n      <td>&lt;NA&gt;</td>\n      <td>&lt;NA&gt;</td>\n      <td>1</td>\n    </tr>\n    <tr>\n      <th>3</th>\n      <td>static.doubleclick.net</td>\n      <td>/instream/ad_status.js</td>\n      <td>js</td>\n      <td>ad_status.js</td>\n      <td>https</td>\n      <td></td>\n      <td>&lt;NA&gt;</td>\n      <td>&lt;NA&gt;</td>\n      <td>&lt;NA&gt;</td>\n      <td>&lt;NA&gt;</td>\n      <td>...</td>\n      <td>&lt;NA&gt;</td>\n      <td>&lt;NA&gt;</td>\n      <td>&lt;NA&gt;</td>\n      <td>&lt;NA&gt;</td>\n      <td>&lt;NA&gt;</td>\n      <td>&lt;NA&gt;</td>\n      <td>&lt;NA&gt;</td>\n      <td>&lt;NA&gt;</td>\n      <td>&lt;NA&gt;</td>\n      <td>1</td>\n    </tr>\n    <tr>\n      <th>4</th>\n      <td>jnn-pa.googleapis.com</td>\n      <td>/$rpc/google.internal.waa.v1.Waa/Create</td>\n      <td>Create</td>\n      <td>Create</td>\n      <td>https</td>\n      <td></td>\n      <td>&lt;NA&gt;</td>\n      <td>&lt;NA&gt;</td>\n      <td>&lt;NA&gt;</td>\n      <td>&lt;NA&gt;</td>\n      <td>...</td>\n      <td>&lt;NA&gt;</td>\n      <td>&lt;NA&gt;</td>\n      <td>&lt;NA&gt;</td>\n      <td>&lt;NA&gt;</td>\n      <td>&lt;NA&gt;</td>\n      <td>&lt;NA&gt;</td>\n      <td>&lt;NA&gt;</td>\n      <td>&lt;NA&gt;</td>\n      <td>&lt;NA&gt;</td>\n      <td>0</td>\n    </tr>\n    <tr>\n      <th>...</th>\n      <td>...</td>\n      <td>...</td>\n      <td>...</td>\n      <td>...</td>\n      <td>...</td>\n      <td>...</td>\n      <td>...</td>\n      <td>...</td>\n      <td>...</td>\n      <td>...</td>\n      <td>...</td>\n      <td>...</td>\n      <td>...</td>\n      <td>...</td>\n      <td>...</td>\n      <td>...</td>\n      <td>...</td>\n      <td>...</td>\n      <td>...</td>\n      <td>...</td>\n      <td>...</td>\n    </tr>\n    <tr>\n      <th>802808</th>\n      <td>mc.yandex.com</td>\n      <td>/webvisor/56010025</td>\n      <td>56010025</td>\n      <td>56010025</td>\n      <td>https</td>\n      <td>wmode=0&amp;wv-part=6&amp;wv-hit=144964618&amp;page-url=ht...</td>\n      <td>&lt;NA&gt;</td>\n      <td>&lt;NA&gt;</td>\n      <td>&lt;NA&gt;</td>\n      <td>&lt;NA&gt;</td>\n      <td>...</td>\n      <td>&lt;NA&gt;</td>\n      <td>&lt;NA&gt;</td>\n      <td>&lt;NA&gt;</td>\n      <td>&lt;NA&gt;</td>\n      <td>&lt;NA&gt;</td>\n      <td>&lt;NA&gt;</td>\n      <td>&lt;NA&gt;</td>\n      <td>&lt;NA&gt;</td>\n      <td>&lt;NA&gt;</td>\n      <td>1</td>\n    </tr>\n    <tr>\n      <th>802809</th>\n      <td>www.eveonline.com</td>\n      <td>/api/arcgoals/current-goals</td>\n      <td>current-goals</td>\n      <td>current-goals</td>\n      <td>https</td>\n      <td></td>\n      <td>&lt;NA&gt;</td>\n      <td>&lt;NA&gt;</td>\n      <td>&lt;NA&gt;</td>\n      <td>&lt;NA&gt;</td>\n      <td>...</td>\n      <td>&lt;NA&gt;</td>\n      <td>&lt;NA&gt;</td>\n      <td>&lt;NA&gt;</td>\n      <td>&lt;NA&gt;</td>\n      <td>&lt;NA&gt;</td>\n      <td>&lt;NA&gt;</td>\n      <td>&lt;NA&gt;</td>\n      <td>&lt;NA&gt;</td>\n      <td>&lt;NA&gt;</td>\n      <td>0</td>\n    </tr>\n    <tr>\n      <th>802810</th>\n      <td>mc.yandex.com</td>\n      <td>/webvisor/56010025</td>\n      <td>56010025</td>\n      <td>56010025</td>\n      <td>https</td>\n      <td>wmode=0&amp;wv-part=7&amp;wv-hit=144964618&amp;page-url=ht...</td>\n      <td>&lt;NA&gt;</td>\n      <td>&lt;NA&gt;</td>\n      <td>&lt;NA&gt;</td>\n      <td>&lt;NA&gt;</td>\n      <td>...</td>\n      <td>&lt;NA&gt;</td>\n      <td>&lt;NA&gt;</td>\n      <td>&lt;NA&gt;</td>\n      <td>&lt;NA&gt;</td>\n      <td>&lt;NA&gt;</td>\n      <td>&lt;NA&gt;</td>\n      <td>&lt;NA&gt;</td>\n      <td>&lt;NA&gt;</td>\n      <td>&lt;NA&gt;</td>\n      <td>1</td>\n    </tr>\n    <tr>\n      <th>802811</th>\n      <td>mc.yandex.com</td>\n      <td>/webvisor/56010025</td>\n      <td>56010025</td>\n      <td>56010025</td>\n      <td>https</td>\n      <td>wmode=0&amp;wv-part=8&amp;wv-hit=144964618&amp;page-url=ht...</td>\n      <td>&lt;NA&gt;</td>\n      <td>&lt;NA&gt;</td>\n      <td>&lt;NA&gt;</td>\n      <td>&lt;NA&gt;</td>\n      <td>...</td>\n      <td>&lt;NA&gt;</td>\n      <td>&lt;NA&gt;</td>\n      <td>&lt;NA&gt;</td>\n      <td>&lt;NA&gt;</td>\n      <td>&lt;NA&gt;</td>\n      <td>&lt;NA&gt;</td>\n      <td>&lt;NA&gt;</td>\n      <td>&lt;NA&gt;</td>\n      <td>&lt;NA&gt;</td>\n      <td>1</td>\n    </tr>\n    <tr>\n      <th>802812</th>\n      <td>mc.yandex.com</td>\n      <td>/webvisor/56010025</td>\n      <td>56010025</td>\n      <td>56010025</td>\n      <td>https</td>\n      <td>wmode=0&amp;wv-part=9&amp;wv-hit=144964618&amp;page-url=ht...</td>\n      <td>&lt;NA&gt;</td>\n      <td>&lt;NA&gt;</td>\n      <td>&lt;NA&gt;</td>\n      <td>&lt;NA&gt;</td>\n      <td>...</td>\n      <td>&lt;NA&gt;</td>\n      <td>&lt;NA&gt;</td>\n      <td>&lt;NA&gt;</td>\n      <td>&lt;NA&gt;</td>\n      <td>&lt;NA&gt;</td>\n      <td>&lt;NA&gt;</td>\n      <td>&lt;NA&gt;</td>\n      <td>&lt;NA&gt;</td>\n      <td>&lt;NA&gt;</td>\n      <td>1</td>\n    </tr>\n  </tbody>\n</table>\n<p>802813 rows × 7903 columns</p>\n</div>"
     },
     "execution_count": 47,
     "metadata": {},
     "output_type": "execute_result"
    }
   ],
   "source": [
    "chrome_new"
   ],
   "metadata": {
    "collapsed": false,
    "ExecuteTime": {
     "end_time": "2023-11-21T10:19:09.008107Z",
     "start_time": "2023-11-21T10:19:08.981978Z"
    }
   }
  },
  {
   "cell_type": "code",
   "execution_count": 48,
   "outputs": [],
   "source": [
    "def find_top_k_headers(df, k):\n",
    "    # Count the non-NA values for each header\n",
    "    header_counts = df.count()\n",
    "\n",
    "    # Sort the headers by their counts in descending order\n",
    "    sorted_headers = header_counts.sort_values(ascending=False)\n",
    "\n",
    "    # Return the top k headers\n",
    "    return sorted_headers.head(k)"
   ],
   "metadata": {
    "collapsed": false,
    "ExecuteTime": {
     "end_time": "2023-11-21T10:24:46.421957Z",
     "start_time": "2023-11-21T10:24:46.395856Z"
    }
   }
  },
  {
   "cell_type": "code",
   "execution_count": 64,
   "outputs": [],
   "source": [
    "test_set = chrome_new.iloc[:100000, 6:]"
   ],
   "metadata": {
    "collapsed": false,
    "ExecuteTime": {
     "end_time": "2023-11-21T10:28:44.765441Z",
     "start_time": "2023-11-21T10:28:44.732561Z"
    }
   }
  },
  {
   "cell_type": "code",
   "execution_count": 68,
   "outputs": [
    {
     "name": "stdout",
     "output_type": "stream",
     "text": [
      "CPU times: user 8.06 s, sys: 3.28 s, total: 11.3 s\n",
      "Wall time: 13.3 s\n"
     ]
    },
    {
     "data": {
      "text/plain": "date                           798773\ncontent-type                   776942\ncache-control                  664986\nserver                         656446\ncontent-length                 604963\nlast-modified                  555350\netag                           466739\nvary                           452417\nexpires                        396692\naccess-control-allow-origin    395971\naccept-ranges                  392346\ncontent-encoding               385707\nage                            340327\nstrict-transport-security      276544\nx-content-type-options         253602\nx-cache                        222447\nalt-svc                        215742\nvia                            206439\nx-xss-protection               176975\ncf-ray                         139299\ndtype: int64"
     },
     "execution_count": 68,
     "metadata": {},
     "output_type": "execute_result"
    }
   ],
   "source": [
    "%%time\n",
    "find_top_k_headers(chrome_new.iloc[:, 6:-1], 20)"
   ],
   "metadata": {
    "collapsed": false,
    "ExecuteTime": {
     "end_time": "2023-11-21T10:31:23.627962Z",
     "start_time": "2023-11-21T10:31:10.622163Z"
    }
   }
  },
  {
   "cell_type": "code",
   "execution_count": 70,
   "outputs": [
    {
     "name": "stdout",
     "output_type": "stream",
     "text": [
      "CPU times: user 8.68 s, sys: 3.84 s, total: 12.5 s\n",
      "Wall time: 15.1 s\n"
     ]
    },
    {
     "data": {
      "text/plain": "date                            854034\ncontent-type                    828185\nserver                          719628\ncache-control                   714809\ncontent-length                  660788\nlast-modified                   574373\nvary                            473263\netag                            472688\nexpires                         455714\naccept-ranges                   413704\ncontent-encoding                403951\naccess-control-allow-origin     400512\nage                             356627\nx-content-type-options          275133\nstrict-transport-security       266162\nalt-svc                         234328\nx-cache                         222764\nvia                             209986\nx-xss-protection                204141\ncross-origin-resource-policy    156285\ndtype: int64"
     },
     "execution_count": 70,
     "metadata": {},
     "output_type": "execute_result"
    }
   ],
   "source": [
    "%%time\n",
    "find_top_k_headers(chrome_old.iloc[:, 6:-1], 20)"
   ],
   "metadata": {
    "collapsed": false,
    "ExecuteTime": {
     "end_time": "2023-11-21T10:32:21.906892Z",
     "start_time": "2023-11-21T10:32:06.833550Z"
    }
   }
  },
  {
   "cell_type": "code",
   "execution_count": 71,
   "outputs": [
    {
     "name": "stdout",
     "output_type": "stream",
     "text": [
      "CPU times: user 8.77 s, sys: 3.93 s, total: 12.7 s\n",
      "Wall time: 15.9 s\n"
     ]
    },
    {
     "data": {
      "text/plain": "date                           831673\ncontent-type                   801280\nserver                         701945\ncache-control                  688631\nx-firefox-spdy                 635125\ncontent-length                 632750\nlast-modified                  561388\netag                           459157\nvary                           457586\nexpires                        441063\ncontent-encoding               403026\naccept-ranges                  398295\naccess-control-allow-origin    394032\nage                            348264\nx-content-type-options         273486\nstrict-transport-security      267974\nalt-svc                        229156\nx-cache                        212996\nx-xss-protection               201913\nvia                            198671\ndtype: int64"
     },
     "execution_count": 71,
     "metadata": {},
     "output_type": "execute_result"
    }
   ],
   "source": [
    "%%time\n",
    "find_top_k_headers(firefox.iloc[:, 6:-1], 20)"
   ],
   "metadata": {
    "collapsed": false,
    "ExecuteTime": {
     "end_time": "2023-11-21T10:32:50.181412Z",
     "start_time": "2023-11-21T10:32:34.299810Z"
    }
   }
  },
  {
   "cell_type": "code",
   "execution_count": 72,
   "outputs": [
    {
     "name": "stdout",
     "output_type": "stream",
     "text": [
      "CPU times: user 5.24 s, sys: 1.86 s, total: 7.1 s\n",
      "Wall time: 8.04 s\n"
     ]
    },
    {
     "data": {
      "text/plain": "date                           562922\ncontent-type                   558378\nserver                         483258\ncache-control                  482942\nlast-modified                  458499\ncontent-length                 435750\netag                           391276\naccept-ranges                  352194\nvary                           334742\nexpires                        292661\nage                            290518\ncontent-encoding               263236\naccess-control-allow-origin    248012\nstrict-transport-security      191568\nx-cache                        179780\nx-content-type-options         167447\nvia                            163575\nexpect-ct                      120424\ncf-ray                         117409\ncf-cache-status                113656\ndtype: int64"
     },
     "execution_count": 72,
     "metadata": {},
     "output_type": "execute_result"
    }
   ],
   "source": [
    "%%time\n",
    "find_top_k_headers(brave.iloc[:, 6:-1], 20)"
   ],
   "metadata": {
    "collapsed": false,
    "ExecuteTime": {
     "end_time": "2023-11-21T10:33:14.316099Z",
     "start_time": "2023-11-21T10:33:06.269592Z"
    }
   }
  }
 ],
 "metadata": {
  "kernelspec": {
   "display_name": "Python 3",
   "language": "python",
   "name": "python3"
  },
  "language_info": {
   "codemirror_mode": {
    "name": "ipython",
    "version": 2
   },
   "file_extension": ".py",
   "mimetype": "text/x-python",
   "name": "python",
   "nbconvert_exporter": "python",
   "pygments_lexer": "ipython2",
   "version": "2.7.6"
  }
 },
 "nbformat": 4,
 "nbformat_minor": 0
}
