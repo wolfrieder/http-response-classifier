{
 "cells": [
  {
   "cell_type": "markdown",
   "source": [
    "f# Data Exploration"
   ],
   "metadata": {
    "collapsed": false
   }
  },
  {
   "cell_type": "code",
   "execution_count": 2,
   "source": [
    "import pandas as pd\n",
    "# import swifter\n",
    "\n",
    "import matplotlib.pyplot as plt\n",
    "import seaborn as sns\n",
    "import numpy as np\n",
    "from scipy.stats import ttest_ind, mannwhitneyu, kstest\n",
    "\n",
    "from rapidfuzz import process"
   ],
   "metadata": {
    "collapsed": false
   },
   "outputs": []
  },
  {
   "cell_type": "code",
   "execution_count": 11,
   "source": [
    "%%time\n",
    "\n",
    "# data = pd.read_parquet(\"../data/interim/chrome/08_12_2022/http.0.parquet.gzip\")\n",
    "# data1 = pd.read_parquet(\"../data/interim/chrome/08_12_2022/http.1.parquet.gzip\")\n",
    "# data2 = pd.read_parquet(\"../data/interim/chrome/08_12_2022/http.2.parquet.gzip\")\n",
    "# data3 = pd.read_parquet(\"../data/interim/chrome/08_12_2022/http.3.parquet.gzip\")\n",
    "# data4 = pd.read_parquet(\"../data/interim/chrome/08_12_2022/http.4.parquet.gzip\")\n",
    "# data5 = pd.read_parquet(\"../data/interim/chrome/08_12_2022/http.5.parquet.gzip\")\n",
    "\n",
    "data_train = pd.read_parquet(\n",
    "    \"../data/processed/chrome/08_12_2022/train_set_01.parquet.gzip\",\n",
    "    engine=\"pyarrow\",\n",
    "    dtype_backend='pyarrow',\n",
    ")\n",
    "\n",
    "# data_test = pd.read_parquet(\n",
    "#     \"../data/processed/chrome/08_12_2022/test_set_01.parquet.gzip\"\n",
    "# )"
   ],
   "metadata": {
    "collapsed": false
   },
   "outputs": []
  },
  {
   "cell_type": "code",
   "execution_count": 12,
   "source": [
    "data_train.dtypes"
   ],
   "metadata": {
    "collapsed": false
   },
   "outputs": []
  },
  {
   "cell_type": "code",
   "execution_count": 14,
   "source": [
    "data_train.info(memory_usage=\"deep\")"
   ],
   "metadata": {
    "collapsed": false
   },
   "outputs": []
  },
  {
   "cell_type": "code",
   "execution_count": 5,
   "source": [
    "data = pd.concat([data_train, data_test])"
   ],
   "metadata": {
    "collapsed": false
   },
   "outputs": []
  },
  {
   "cell_type": "code",
   "execution_count": 229,
   "source": [
    "# pandarallel.initialize(progress_bar=True)"
   ],
   "metadata": {
    "collapsed": false
   },
   "outputs": []
  },
  {
   "cell_type": "code",
   "execution_count": 22,
   "source": [
    "%%time\n",
    "data_train"
   ],
   "metadata": {
    "collapsed": false
   },
   "outputs": []
  },
  {
   "cell_type": "code",
   "execution_count": 4,
   "source": [
    "data.info(memory_usage=\"deep\")\n",
    "\n",
    "# 14GB -> 763MB"
   ],
   "metadata": {
    "collapsed": false
   },
   "outputs": []
  },
  {
   "cell_type": "code",
   "execution_count": 8,
   "source": [
    "data.dtypes"
   ],
   "metadata": {
    "collapsed": false
   },
   "outputs": []
  },
  {
   "cell_type": "markdown",
   "source": [
    "### Exploration with New Datatypes"
   ],
   "metadata": {
    "collapsed": false
   }
  },
  {
   "cell_type": "code",
   "execution_count": 116,
   "source": [
    "(data.isna().sum() / len(data)) >= 0.95"
   ],
   "metadata": {
    "collapsed": false
   },
   "outputs": []
  },
  {
   "cell_type": "markdown",
   "source": [
    "### Check Tracking Classification and Create New Label Column"
   ],
   "metadata": {
    "collapsed": false
   }
  },
  {
   "cell_type": "code",
   "execution_count": 270,
   "source": [
    "data[\"easylist\"] = data[\"easylist\"].astype(np.int32)\n",
    "data[\"easyprivacy\"] = data[\"easyprivacy\"].astype(np.int32)"
   ],
   "metadata": {
    "collapsed": false
   },
   "outputs": []
  },
  {
   "cell_type": "code",
   "execution_count": 9,
   "source": [
    "sns.histplot(data, x=\"easylist\")\n",
    "sns.displot(data, x=\"easyprivacy\")"
   ],
   "metadata": {
    "collapsed": false
   },
   "outputs": []
  },
  {
   "cell_type": "code",
   "execution_count": 271,
   "source": [
    "data[\"tracker\"] = np.where(\n",
    "    np.logical_or(data.easylist == 1, data.easyprivacy == 1), 1, 0\n",
    ")\n",
    "data[\"tracker\"] = data[\"tracker\"].astype(np.int32)"
   ],
   "metadata": {
    "collapsed": false
   },
   "outputs": []
  },
  {
   "cell_type": "code",
   "execution_count": 272,
   "source": [
    "%%time\n",
    "data.drop([\"easylist\", \"easyprivacy\"], axis=1, inplace=True)"
   ],
   "metadata": {
    "collapsed": false
   },
   "outputs": []
  },
  {
   "cell_type": "code",
   "execution_count": 4,
   "source": [
    "plt.figure(figsize=(14, 7))\n",
    "sns.histplot(data, x=\"tracker\")"
   ],
   "metadata": {
    "collapsed": false
   },
   "outputs": []
  },
  {
   "cell_type": "code",
   "execution_count": 295,
   "source": [
    "data['tracker'].value_counts()\n",
    "\n",
    "class_0 = len(data[data['tracker'] == 0]) / 10000\n",
    "class_1 = len(data[data['tracker'] == 1]) / 10000\n",
    "\n",
    "class_distribution_ratio = class_1 / class_0\n",
    "print(class_distribution_ratio)\n",
    "print(class_0, class_1)"
   ],
   "metadata": {
    "collapsed": false
   },
   "outputs": []
  },
  {
   "cell_type": "markdown",
   "source": [
    "#### Remove empty columns"
   ],
   "metadata": {
    "collapsed": false
   }
  },
  {
   "cell_type": "code",
   "execution_count": 13,
   "source": [
    "%%time\n",
    "empty_columns = [col for col in data if data[col].isnull().all() == True]"
   ],
   "metadata": {
    "collapsed": false
   },
   "outputs": []
  },
  {
   "cell_type": "code",
   "execution_count": 14,
   "source": [
    "data.drop(empty_columns, axis = 1, inplace = True)"
   ],
   "metadata": {
    "collapsed": false
   },
   "outputs": []
  },
  {
   "cell_type": "markdown",
   "source": [
    "### Put tracker col as last column"
   ],
   "metadata": {
    "collapsed": false
   }
  },
  {
   "cell_type": "code",
   "execution_count": 32,
   "source": [
    "# https://sparkbyexamples.com/pandas/pandas-change-position-of-a-column/\n",
    "temp_cols = data.columns.tolist()\n",
    "index_col = data.columns.get_loc(\"tracker\")\n",
    "new_col_order = temp_cols[0:index_col] + temp_cols[index_col+1:] + temp_cols[index_col:index_col+1]\n",
    "\n",
    "data = data[new_col_order]"
   ],
   "metadata": {
    "collapsed": false
   },
   "outputs": []
  },
  {
   "cell_type": "markdown",
   "source": [
    "#### Remove duplicate columns"
   ],
   "metadata": {
    "collapsed": false
   }
  },
  {
   "cell_type": "code",
   "execution_count": 81,
   "source": [
    "data = data[~data.iloc[:, 6:-2].duplicated(keep=\"first\")].reset_index(drop=True)"
   ],
   "metadata": {
    "collapsed": false
   },
   "outputs": []
  },
  {
   "cell_type": "markdown",
   "source": [
    "#### Add #Values per HTTP Message"
   ],
   "metadata": {
    "collapsed": false
   }
  },
  {
   "cell_type": "code",
   "execution_count": 17,
   "source": [
    "%%time\n",
    "data['header_count'] = data.iloc[:,6:-1].notnull().sum(axis=1)"
   ],
   "metadata": {
    "collapsed": false
   },
   "outputs": []
  },
  {
   "cell_type": "markdown",
   "source": [
    "### Check Column Name Similarity"
   ],
   "metadata": {
    "collapsed": false
   }
  },
  {
   "cell_type": "code",
   "execution_count": 57,
   "source": [
    "def new_fuzzy_string_matching_for_column(col_name, col_values):\n",
    "    result = pd.DataFrame(\n",
    "        process.extract(\n",
    "            col_name, col_values, processor=None, score_cutoff=80, limit=100\n",
    "        ),\n",
    "        columns=[\"fuzzy_match\", \"w_ratio\", \"index\"],\n",
    "    )\n",
    "    result[\"col_name\"] = col_name\n",
    "    return result"
   ],
   "metadata": {
    "collapsed": false
   },
   "outputs": []
  },
  {
   "cell_type": "code",
   "execution_count": 59,
   "source": [
    "%%time\n",
    "data_column_values = data.columns.values[6:-2].tolist()\n",
    "\n",
    "match = [\n",
    "    new_fuzzy_string_matching_for_column(j, data_column_values[i + 1 :])\n",
    "    for i, j in enumerate(data_column_values)\n",
    "    if i != len(data_column_values) - 1\n",
    "]\n",
    "\n",
    "match2 = pd.concat(match, ignore_index=True)\n",
    "print(match2)"
   ],
   "metadata": {
    "collapsed": false
   },
   "outputs": []
  },
  {
   "cell_type": "markdown",
   "source": [
    "Indices from match2 are wrong"
   ],
   "metadata": {
    "collapsed": false
   }
  },
  {
   "cell_type": "code",
   "execution_count": 9,
   "source": [
    "match2[match2['col_name'] == 'content-length']"
   ],
   "metadata": {
    "collapsed": false
   },
   "outputs": []
  },
  {
   "cell_type": "code",
   "execution_count": 26,
   "source": [
    "from scipy.special import comb"
   ],
   "metadata": {
    "collapsed": false
   },
   "outputs": []
  },
  {
   "cell_type": "code",
   "execution_count": 55,
   "source": [
    "import sys\n",
    "sys.setrecursionlimit(100000)"
   ],
   "metadata": {
    "collapsed": false
   },
   "outputs": []
  },
  {
   "cell_type": "code",
   "execution_count": 48,
   "source": [
    "def recursive(a, b):\n",
    "    if a == 1:\n",
    "        return b\n",
    "    else:\n",
    "        # print(a, b, comb(a, 2))\n",
    "        a = a - 1\n",
    "        b = b + a\n",
    "        # print(a, b)\n",
    "        return recursive(a, b)"
   ],
   "metadata": {
    "collapsed": false
   },
   "outputs": []
  },
  {
   "cell_type": "code",
   "execution_count": 46,
   "source": [
    "comb(5316,2)"
   ],
   "metadata": {
    "collapsed": false
   },
   "outputs": []
  },
  {
   "cell_type": "code",
   "execution_count": 60,
   "source": [
    "def find_cols_with_similar_values(fuzzy_match, column):\n",
    "    value_fuzzy = set(data[fuzzy_match].values)\n",
    "    value_column = set(data[column].values)\n",
    "\n",
    "    try:\n",
    "        value_fuzzy.remove(None)\n",
    "        value_column.remove(None)\n",
    "    except KeyError:\n",
    "        pass\n",
    "\n",
    "    if (len([True for i in value_fuzzy if i in value_column]) / len(value_fuzzy)) > 0.5:\n",
    "        return fuzzy_match, column\n",
    "    else:\n",
    "        return None"
   ],
   "metadata": {
    "collapsed": false
   },
   "outputs": []
  },
  {
   "cell_type": "code",
   "execution_count": 61,
   "source": [
    "def select_similar_columns(fuzzy_match, column):\n",
    "    row = match2.loc[(match2['fuzzy_match'] == fuzzy_match) & (match2['col_name'] == column)]\n",
    "    index = row.index[0]\n",
    "    match2.drop(index, inplace=True)\n",
    "    return row"
   ],
   "metadata": {
    "collapsed": false
   },
   "outputs": []
  },
  {
   "cell_type": "code",
   "execution_count": 62,
   "source": [
    "%%time\n",
    "result = [find_cols_with_similar_values(col, col2) for col, col2 in zip(match2['fuzzy_match'], match2['col_name'])]\n",
    "result"
   ],
   "metadata": {
    "collapsed": false
   },
   "outputs": []
  },
  {
   "cell_type": "code",
   "execution_count": 17,
   "source": [
    "similar_values = [select_similar_columns(col[0], col[1]) for col in result if col is not None]"
   ],
   "metadata": {
    "collapsed": false
   },
   "outputs": []
  },
  {
   "cell_type": "code",
   "execution_count": 18,
   "source": [
    "similar_values = pd.concat(similar_values, ignore_index=True)"
   ],
   "metadata": {
    "collapsed": false
   },
   "outputs": []
  },
  {
   "cell_type": "code",
   "execution_count": 19,
   "source": [
    "similar_values"
   ],
   "metadata": {
    "collapsed": false
   },
   "outputs": []
  },
  {
   "cell_type": "code",
   "execution_count": 20,
   "source": [
    "data.reset_index(drop=True, inplace=True)"
   ],
   "metadata": {
    "collapsed": false
   },
   "outputs": []
  },
  {
   "cell_type": "code",
   "execution_count": 21,
   "source": [
    "def merge_similar_columns2(fuzzy_match, col_name):\n",
    "    boolean_mask = data[fuzzy_match].notnull()\n",
    "    new_values = data[boolean_mask][fuzzy_match].to_numpy()\n",
    "    indices_fuzzy_matches = data.index[boolean_mask].tolist()\n",
    "\n",
    "    current_values = data[col_name].to_numpy()\n",
    "    np.put(current_values, indices_fuzzy_matches, new_values)\n",
    "    # data_copy.drop(fuzzy_match, axis=1, inplace=True)"
   ],
   "metadata": {
    "collapsed": false
   },
   "outputs": []
  },
  {
   "cell_type": "code",
   "execution_count": 22,
   "source": [
    "%%time\n",
    "similar_values.apply(lambda x: merge_similar_columns2(x['fuzzy_match'], x['col_name']), axis=1)\n",
    "# data_copy.loc[(data_copy['pramga'] == 'no-cache') & (data_copy['pragma'] == 'no-cache')][['pragma', 'pramga']]\n",
    "# data_copy.loc[(data_copy['pragma'] == 'no-cache')]['pragma']"
   ],
   "metadata": {
    "collapsed": false
   },
   "outputs": []
  },
  {
   "cell_type": "code",
   "execution_count": 24,
   "source": [
    "columns_to_remove = list(set(similar_values.fuzzy_match.values.tolist()))\n",
    "data.drop(columns_to_remove, axis=1, inplace=True)"
   ],
   "metadata": {
    "collapsed": false
   },
   "outputs": []
  },
  {
   "cell_type": "markdown",
   "source": [
    "### Exploration"
   ],
   "metadata": {
    "collapsed": false
   }
  },
  {
   "cell_type": "code",
   "execution_count": 62,
   "source": [
    "%matplotlib inline\n",
    "plt.figure(figsize=(20, 10))\n",
    "\n",
    "ct_values = data[[\"content-type\", \"tracker\"]].dropna()\n",
    "\n",
    "ct_values\n",
    "\n",
    "data[['content-type', 'tracker']].value_counts().head(20)"
   ],
   "metadata": {
    "collapsed": false
   },
   "outputs": []
  },
  {
   "cell_type": "code",
   "execution_count": 64,
   "source": [
    "%matplotlib inline\n",
    "plt.figure(figsize=(20, 10))\n",
    "cl_values = data[[\"content-length\", \"tracker\"]].dropna().astype('Int32')\n",
    "sns.histplot(cl_values[cl_values['content-length'] < 1000], bins=10, x=\"content-length\", hue='tracker', element='step')\n",
    "\n",
    "sns.displot(cl_values[cl_values['content-length'] < 1000], x=\"content-length\", kind='ecdf', hue='tracker')\n",
    "plt.show()"
   ],
   "metadata": {
    "collapsed": false
   },
   "outputs": []
  },
  {
   "cell_type": "code",
   "execution_count": 138,
   "source": [
    "match2[match2.col_name == \"content-length\"]"
   ],
   "metadata": {
    "collapsed": false
   },
   "outputs": []
  },
  {
   "cell_type": "markdown",
   "source": [
    "### Explore Distributions"
   ],
   "metadata": {
    "collapsed": false
   }
  },
  {
   "cell_type": "code",
   "execution_count": 580,
   "source": [
    "relative_na_per_col = pd.DataFrame((data.isna().sum() / len(data)), columns=[\"summary\"])\n",
    "\n",
    "plt.figure(figsize=(14, 7))\n",
    "plt.hist(relative_na_per_col[\"summary\"], log=True, bins=20)\n",
    "plt.xticks(np.arange(0, 1.1, 0.1))\n",
    "plt.xlabel(\"Relative Amount of NAs Per Column\", fontdict={\"fontsize\": 16})\n",
    "plt.title(\"Distribution of #NAs Across All Columns\", fontsize=16, fontweight=\"bold\")"
   ],
   "metadata": {
    "collapsed": false
   },
   "outputs": []
  },
  {
   "cell_type": "code",
   "execution_count": 579,
   "source": [
    "relative_values_per_col = pd.DataFrame((data.count() / len(data)), columns=[\"summary\"])\n",
    "\n",
    "plt.figure(figsize=(14, 7))\n",
    "plt.hist(relative_values_per_col[\"summary\"], log=True, bins=20)\n",
    "plt.xticks(np.arange(0, 1.1, 0.1))\n",
    "plt.xlabel(\"Relative Amount of Values (Non NA) Per Column\", fontdict={\"fontsize\": 16})\n",
    "plt.title(\"Distribution of #Values Across All Columns\", fontsize=16, fontweight=\"bold\")"
   ],
   "metadata": {
    "collapsed": false
   },
   "outputs": []
  },
  {
   "cell_type": "code",
   "execution_count": 139,
   "source": [
    "rel_frequency_per_col = (\n",
    "    data.groupby(\"tracker\").count() / data.groupby(\"tracker\").count().sum()\n",
    ")\n",
    "rel_frequency_per_col.transpose()"
   ],
   "metadata": {
    "collapsed": false
   },
   "outputs": []
  },
  {
   "cell_type": "code",
   "execution_count": 111,
   "source": [
    "columns_with_more_trackers = rel_frequency_per_col.iloc[\n",
    "    :, np.where([rel_frequency_per_col.iloc[1, :] > 0.5])[1]\n",
    "].transpose()\n",
    "columns_with_more_trackers[\"total_frequency\"] = (\n",
    "    data[columns_with_more_trackers.index.values].count().values\n",
    ")\n",
    "columns_with_more_trackers[\"total_nas\"] = (\n",
    "    data[columns_with_more_trackers.index.values].isna().sum().values\n",
    ")\n",
    "columns_with_more_trackers[\"ratio_value_total\"] = columns_with_more_trackers[\n",
    "    \"total_frequency\"\n",
    "] / len(data)\n",
    "\n",
    "columns_with_more_trackers.sort_values(by=[\"total_frequency\"], ascending=False)"
   ],
   "metadata": {
    "collapsed": false
   },
   "outputs": []
  },
  {
   "cell_type": "code",
   "execution_count": 112,
   "source": [
    "columns_with_more_non_trackers = rel_frequency_per_col.iloc[\n",
    "    :, np.where([rel_frequency_per_col.iloc[0, :] > 0.5])[1]\n",
    "].transpose()\n",
    "columns_with_more_non_trackers[\"total_frequency\"] = (\n",
    "    data[columns_with_more_non_trackers.index.values].count().values\n",
    ")\n",
    "columns_with_more_non_trackers[\"total_nas\"] = (\n",
    "    data[columns_with_more_non_trackers.index.values].isna().sum().values\n",
    ")\n",
    "columns_with_more_non_trackers[\"ratio_value_total\"] = columns_with_more_non_trackers[\n",
    "    \"total_frequency\"\n",
    "] / len(data)\n",
    "\n",
    "columns_with_more_non_trackers.sort_values(by=[\"total_frequency\"], ascending=False)"
   ],
   "metadata": {
    "collapsed": false
   },
   "outputs": []
  },
  {
   "cell_type": "code",
   "execution_count": 115,
   "source": [
    "plt.figure(figsize=(20, 7))\n",
    "sns.kdeplot(columns_with_more_trackers.iloc[:, 1])\n",
    "sns.kdeplot(columns_with_more_non_trackers.iloc[:, 0])\n",
    "plt.title(\n",
    "    \"Comparison of Tracker and Non-Tracker Majority within Headers\",\n",
    "    fontdict={\"fontsize\": 16},\n",
    ")\n",
    "plt.xticks(fontsize=14, fontweight=\"bold\", ha=\"right\")"
   ],
   "metadata": {
    "collapsed": false
   },
   "outputs": []
  },
  {
   "cell_type": "code",
   "execution_count": 577,
   "source": [
    "fig, ax = plt.subplots(2, sharex=True, figsize=(14, 7))\n",
    "\n",
    "ax[0].hist(rel_frequency_per_col.loc[1, :], bins=20, color=\"tab:red\")\n",
    "ax[1].hist(rel_frequency_per_col.loc[0, :], bins=20)\n",
    "plt.xticks(np.arange(0, 1.1, 0.1))\n",
    "fig.suptitle(\n",
    "    \"Relative Frequency per Column by Tracker Classification\",\n",
    "    fontsize=16,\n",
    "    fontweight=\"bold\",\n",
    ")"
   ],
   "metadata": {
    "collapsed": false
   },
   "outputs": []
  },
  {
   "cell_type": "code",
   "execution_count": 568,
   "source": [
    "tracker_values = pd.DataFrame(rel_frequency_per_col.loc[1, :])\n",
    "tracker_values = tracker_values[tracker_values[1] >= 0.95]\n",
    "tracker_values.rename(columns={1: \"rel_frequency\"}, inplace=True)\n",
    "tracker_values"
   ],
   "metadata": {
    "collapsed": false
   },
   "outputs": []
  },
  {
   "cell_type": "code",
   "execution_count": 576,
   "source": [
    "plt.figure(figsize=(20, 7))\n",
    "plt.plot(\n",
    "    (\n",
    "        data[\"content-type\"].value_counts().cumsum()\n",
    "        / data[\"content-type\"].value_counts().sum()\n",
    "    )[0:19]\n",
    ")\n",
    "plt.title(\n",
    "    \"Cumulative Distribution of Content-Type Header\", fontsize=16, fontweight=\"bold\"\n",
    ")\n",
    "plt.xticks(rotation=45, fontsize=14, fontweight=\"bold\", ha=\"right\")"
   ],
   "metadata": {
    "collapsed": false
   },
   "outputs": []
  },
  {
   "cell_type": "code",
   "execution_count": 21,
   "source": [
    "def create_value_comparison(header_field, n_values):\n",
    "    header_field_df = pd.DataFrame(\n",
    "    data[[f\"{header_field}\", \"tracker\"]].value_counts()\n",
    "        ).reset_index()\n",
    "    header_field_df.columns = [f\"{header_field}\", \"tracker\", \"frequency\"]\n",
    "    header_field_df.sort_values(by=[\"frequency\"], ascending=False, inplace=True)\n",
    "\n",
    "    test_values = header_field_df[0:n_values][f\"{header_field}\"].values.tolist()\n",
    "    frequent_content_types = (\n",
    "        header_field_df[header_field_df[f\"{header_field}\"].isin(test_values)]\n",
    "        .reset_index()\n",
    "        .sort_values(by=f\"{header_field}\")\n",
    "    )\n",
    "    non_tracker = frequent_content_types[frequent_content_types.tracker == 0]\n",
    "    tracker = frequent_content_types[frequent_content_types.tracker == 1]\n",
    "    return non_tracker, tracker"
   ],
   "metadata": {
    "collapsed": false
   },
   "outputs": []
  },
  {
   "cell_type": "code",
   "execution_count": 22,
   "source": [
    "def create_value_comparison_plot(non_tracker, tracker, n, header_field):\n",
    "    r = np.arange(n)\n",
    "    width = 0.25\n",
    "\n",
    "    plt.figure(figsize=(20, 7))\n",
    "    plt.bar(r, non_tracker[\"frequency\"], log=True, label=\"Non Tracker\", width=width)\n",
    "    plt.bar(r + width, tracker[\"frequency\"], log=True, label=\"Tracker\", width=width)\n",
    "    plt.xticks(\n",
    "        r + width / 2,\n",
    "        non_tracker[f\"{header_field}\"].values.tolist(),\n",
    "        rotation=45,\n",
    "        fontsize=12,\n",
    "        fontweight=\"bold\",\n",
    "        ha=\"right\",\n",
    "    )\n",
    "    plt.legend()"
   ],
   "metadata": {
    "collapsed": false
   },
   "outputs": []
  },
  {
   "cell_type": "code",
   "execution_count": 77,
   "source": [
    "non_tracker_ct, tracker_ct = create_value_comparison(\"content-type\", 34)\n",
    "create_value_comparison_plot(non_tracker_ct, tracker_ct, len(tracker_ct))"
   ],
   "metadata": {
    "collapsed": false
   },
   "outputs": []
  },
  {
   "cell_type": "code",
   "execution_count": 105,
   "source": [
    "non_tracker_cl, tracker_cl = create_value_comparison(\"content-length\", 14)\n",
    "create_value_comparison_plot(non_tracker_cl, tracker_cl, len(tracker_cl), 'content-length')"
   ],
   "metadata": {
    "collapsed": false
   },
   "outputs": []
  },
  {
   "cell_type": "code",
   "execution_count": 143,
   "source": [
    "plt.figure(figsize=(20, 7))\n",
    "plt.plot(\n",
    "    (\n",
    "        data[\"content-length\"].value_counts().cumsum()\n",
    "        / data[\"content-length\"].value_counts().sum()\n",
    "    )[0:40]\n",
    ")\n",
    "plt.title(\n",
    "    \"Cumulative Distribution of Content-Length Header\", fontsize=16, fontweight=\"bold\"\n",
    ")\n",
    "plt.xticks(rotation=45, fontsize=14, fontweight=\"bold\", ha=\"right\")"
   ],
   "metadata": {
    "collapsed": false
   },
   "outputs": []
  },
  {
   "cell_type": "code",
   "execution_count": 122,
   "source": [
    "non_tracker_xss, tracker_xss = create_value_comparison(\"x-xss-protection\", 6)\n",
    "create_value_comparison_plot(non_tracker_xss, tracker_xss, len(tracker_xss), 'x-xss-protection')"
   ],
   "metadata": {
    "collapsed": false
   },
   "outputs": []
  },
  {
   "cell_type": "code",
   "execution_count": 124,
   "source": [
    "non_tracker_cd, tracker_cd = create_value_comparison(\"content-disposition\", 4)\n",
    "create_value_comparison_plot(non_tracker_cd, tracker_cd, len(tracker_cd), 'content-disposition')"
   ],
   "metadata": {
    "collapsed": false
   },
   "outputs": []
  },
  {
   "cell_type": "code",
   "execution_count": 125,
   "source": [
    "non_tracker_p, tracker_p = create_value_comparison(\"pragma\", 4)\n",
    "create_value_comparison_plot(non_tracker_p, tracker_p, len(tracker_p), 'pragma')"
   ],
   "metadata": {
    "collapsed": false
   },
   "outputs": []
  },
  {
   "cell_type": "code",
   "execution_count": 95,
   "source": [
    "non_tracker_cl"
   ],
   "metadata": {
    "collapsed": false
   },
   "outputs": []
  },
  {
   "cell_type": "code",
   "execution_count": 96,
   "source": [
    "tracker_cl"
   ],
   "metadata": {
    "collapsed": false
   },
   "outputs": []
  },
  {
   "cell_type": "code",
   "execution_count": 97,
   "source": [
    "pd.DataFrame(\n",
    "    data[[f\"server\", \"tracker\"]].value_counts()\n",
    "        ).reset_index()"
   ],
   "metadata": {
    "collapsed": false
   },
   "outputs": []
  },
  {
   "cell_type": "code",
   "execution_count": 23,
   "source": [
    "plt.figure(figsize=(20, 7))\n",
    "# TODO change var name, a bit misleading here\n",
    "na_per_row = pd.DataFrame((data.isnull().sum(axis=1) - len(data.columns))*-1)\n",
    "na_per_row[\"tracker\"] = data[\"tracker\"]\n",
    "\n",
    "sns.histplot(na_per_row, hue='tracker', x=na_per_row.columns.values[0])\n",
    "sns.displot(na_per_row, hue='tracker', x=na_per_row.columns.values[0], kind='ecdf')"
   ],
   "metadata": {
    "collapsed": false
   },
   "outputs": []
  },
  {
   "cell_type": "code",
   "execution_count": 24,
   "source": [
    "sns.boxplot(data=na_per_row, y=na_per_row.columns.values[0], x='tracker')\n",
    "sns.displot(na_per_row, hue='tracker', x=na_per_row.columns.values[0], kind='kde', fill=True)"
   ],
   "metadata": {
    "collapsed": false
   },
   "outputs": []
  },
  {
   "cell_type": "code",
   "execution_count": 371,
   "source": [
    "less_ten_headers = data[((data.isnull().sum(axis=1) - len(data.columns))*-1) <= 10].dropna(axis=1, how='all')\n",
    "\n",
    "less_ten_headers"
   ],
   "metadata": {
    "collapsed": false
   },
   "outputs": []
  },
  {
   "cell_type": "code",
   "execution_count": 226,
   "source": [
    "%%time\n",
    "data['content-length'].sample(10000, random_state=10).astype('Int64')"
   ],
   "metadata": {
    "collapsed": false
   },
   "outputs": []
  },
  {
   "cell_type": "code",
   "execution_count": 63,
   "source": [
    "columns_as_category = {i: 'category' for i in data.columns.values[:-2]}"
   ],
   "metadata": {
    "collapsed": false
   },
   "outputs": []
  },
  {
   "cell_type": "code",
   "execution_count": 64,
   "source": [
    "columns_as_category"
   ],
   "metadata": {
    "collapsed": false
   },
   "outputs": []
  },
  {
   "cell_type": "code",
   "execution_count": 65,
   "source": [
    "column_test = data.columns.values[6:-2].tolist()\n",
    "\n",
    "\n",
    "def test_new_categories_update(element):\n",
    "    categories = data[element].astype(\"category\").cat.categories.values.tolist()\n",
    "    try:\n",
    "        np.array(categories, dtype='int64')\n",
    "        return {element: \"Int64\"}\n",
    "    except (ValueError, OverflowError):\n",
    "        return None"
   ],
   "metadata": {
    "collapsed": false
   },
   "outputs": []
  },
  {
   "cell_type": "code",
   "execution_count": 66,
   "source": [
    "%%time\n",
    "braze3 = [test_new_categories_update(element) for element in column_test]"
   ],
   "metadata": {
    "collapsed": false
   },
   "outputs": []
  },
  {
   "cell_type": "code",
   "execution_count": 67,
   "source": [
    "braze3 = list(filter(lambda x: type(x) is dict, braze3))\n",
    "braze3 = {k: v for d in braze3 for k, v in d.items()}\n",
    "braze3"
   ],
   "metadata": {
    "collapsed": false
   },
   "outputs": []
  },
  {
   "cell_type": "code",
   "execution_count": 80,
   "source": [
    "data['x-goog-generation'].astype('Int64').max()"
   ],
   "metadata": {
    "collapsed": false
   },
   "outputs": []
  },
  {
   "cell_type": "code",
   "execution_count": 68,
   "source": [
    "columns_as_category.update(braze3)\n",
    "columns_as_category"
   ],
   "metadata": {
    "collapsed": false
   },
   "outputs": []
  },
  {
   "cell_type": "code",
   "execution_count": 16,
   "source": [
    "del columns_as_category[\"query\"]\n",
    "del columns_as_category[\"protocol\"]\n",
    "data.drop(['protocol', 'query'], axis=1, inplace=True)"
   ],
   "metadata": {
    "collapsed": false
   },
   "outputs": []
  },
  {
   "cell_type": "code",
   "execution_count": 17,
   "source": [
    "data = data.astype(columns_as_category)"
   ],
   "metadata": {
    "collapsed": false
   },
   "outputs": []
  },
  {
   "cell_type": "code",
   "execution_count": 12,
   "source": [
    "data.dtypes"
   ],
   "metadata": {
    "collapsed": false
   },
   "outputs": []
  },
  {
   "cell_type": "code",
   "execution_count": 93,
   "source": [
    "def variance_per_column(column):\n",
    "    unique_values = int(len(set(data[column]))) - 1\n",
    "    na_values = data[column].isna().sum()\n",
    "    rows_with_values = data[column].value_counts().sum()\n",
    "    ratio_real_values =  round(rows_with_values / unique_values, 3)\n",
    "    tracker_ratio = data[data[column].notnull()].tracker.value_counts()\n",
    "    try:\n",
    "        trackers = tracker_ratio[1]\n",
    "    except KeyError:\n",
    "        trackers = 0\n",
    "    try:\n",
    "        non_trackers = tracker_ratio[0]\n",
    "    except KeyError:\n",
    "        non_trackers = 0\n",
    "    return [column, unique_values, rows_with_values,\n",
    "            na_values, round(na_values / len(data), 3), round(rows_with_values/ len(data), 3),\n",
    "            ratio_real_values, trackers, non_trackers]"
   ],
   "metadata": {
    "collapsed": false
   },
   "outputs": []
  },
  {
   "cell_type": "code",
   "execution_count": 34,
   "source": [
    "def reduced_variance_per_column(column):\n",
    "    unique_values = int(len(set(data[column]))) - 1\n",
    "    na_values = data[column].isna().sum()\n",
    "    return [column, unique_values, round(na_values / len(data), 3)]"
   ],
   "metadata": {
    "collapsed": false
   },
   "outputs": []
  },
  {
   "cell_type": "code",
   "execution_count": 150,
   "source": [
    "%%time\n",
    "number_of_elements = np.array([variance_per_column(column) for column in data.iloc[:, 4:].columns])"
   ],
   "metadata": {
    "collapsed": false
   },
   "outputs": []
  },
  {
   "cell_type": "code",
   "execution_count": 35,
   "source": [
    "number_of_elements_reduced = np.array([reduced_variance_per_column(column) for column in data.iloc[:, 4:-2].columns])"
   ],
   "metadata": {
    "collapsed": false
   },
   "outputs": []
  },
  {
   "cell_type": "code",
   "execution_count": 36,
   "source": [
    "summary_table = pd.DataFrame(number_of_elements_reduced, columns=[\"header_name\",\n",
    "                                                          \"unique_values\",\n",
    "                                                          \"na_ratio\"])\n",
    "summary_table['unique_values'] = summary_table['unique_values'].astype(\"Int32\")\n",
    "summary_table[\"na_ratio\"] = summary_table[\"na_ratio\"].astype(\"float32\")"
   ],
   "metadata": {
    "collapsed": false
   },
   "outputs": []
  },
  {
   "cell_type": "code",
   "execution_count": 152,
   "source": [
    "summary_table = pd.DataFrame(number_of_elements, columns=['header_name', 'unique_values',\n",
    "                                                          'non_nas', 'nas', 'na_ratio',\n",
    "                                                          'non_na_ratio', 'ratio_real_values',\n",
    "                                                          'trackers', 'non_trackers'])\n",
    "\n",
    "summary_table['unique_values'] = summary_table['unique_values'].astype(\"Int32\")\n",
    "summary_table['non_nas'] = summary_table['non_nas'].astype(\"Int32\")\n",
    "summary_table['nas'] = summary_table['nas'].astype(\"Int32\")\n",
    "summary_table['na_ratio'] = summary_table['na_ratio'].astype(\"float32\")\n",
    "summary_table['non_na_ratio'] = summary_table['non_na_ratio'].astype(\"float32\")\n",
    "summary_table['ratio_real_values'] = summary_table['ratio_real_values'].astype(\"float32\")\n",
    "summary_table['trackers'] = summary_table['trackers'].astype(\"Int32\")\n",
    "summary_table['non_trackers'] = summary_table['non_trackers'].astype(\"Int32\")\n",
    "\n",
    "summary_table.sort_values(by='ratio_real_values', ascending=False, inplace=True)\n",
    "summary_table.reset_index(drop=True, inplace=True)\n",
    "summary_table.drop([0], inplace=True)\n",
    "summary_table.reset_index(drop=True, inplace=True)"
   ],
   "metadata": {
    "collapsed": false
   },
   "outputs": []
  },
  {
   "cell_type": "code",
   "execution_count": 98,
   "source": [
    "summary_table"
   ],
   "metadata": {
    "collapsed": false
   },
   "outputs": []
  },
  {
   "cell_type": "code",
   "execution_count": 142,
   "source": [
    "summary_table[summary_table['header_name'] == 'date']"
   ],
   "metadata": {
    "collapsed": false
   },
   "outputs": []
  },
  {
   "cell_type": "code",
   "execution_count": 37,
   "source": [
    "remove_headers_with_one_na_ratio = summary_table[summary_table['na_ratio'] == 1].header_name.values.tolist()\n",
    "\n",
    "data.drop(remove_headers_with_one_na_ratio, axis=1, inplace=True)"
   ],
   "metadata": {
    "collapsed": false
   },
   "outputs": []
  },
  {
   "cell_type": "code",
   "execution_count": 38,
   "source": [
    "# summary_table[(summary_table['unique_values'] <= 1) & (summary_table['na_ratio'] != 1)].header_name.values.tolist()\n",
    "\n",
    "remove_headers_with_one_value = summary_table[(summary_table['unique_values'] <= 1) & (summary_table['na_ratio'] != 1)].header_name.values.tolist()"
   ],
   "metadata": {
    "collapsed": false
   },
   "outputs": []
  },
  {
   "cell_type": "code",
   "execution_count": 39,
   "source": [
    "data.drop(remove_headers_with_one_value, axis=1, inplace=True)"
   ],
   "metadata": {
    "collapsed": false
   },
   "outputs": []
  },
  {
   "cell_type": "code",
   "execution_count": 40,
   "source": [
    "data"
   ],
   "metadata": {
    "collapsed": false
   },
   "outputs": []
  },
  {
   "cell_type": "code",
   "execution_count": 1112,
   "source": [
    "sns.boxplot(data=data, x='fastly-restarts')"
   ],
   "metadata": {
    "collapsed": false
   },
   "outputs": []
  },
  {
   "cell_type": "code",
   "execution_count": 41,
   "source": [
    "data.info()"
   ],
   "metadata": {
    "collapsed": false
   },
   "outputs": []
  },
  {
   "cell_type": "markdown",
   "source": [
    "### Check ID Headers"
   ],
   "metadata": {
    "collapsed": false
   }
  },
  {
   "cell_type": "code",
   "execution_count": 261,
   "source": [
    "%%time\n",
    "# [print(col) for col in summary_table.header_name.values if '-id' in col]\n",
    "id_headers = list(filter(lambda y: y != False, map(lambda x: x if x[-2:] == 'id' else False, summary_table.header_name\n",
    "                                            .values)))"
   ],
   "metadata": {
    "collapsed": false
   },
   "outputs": []
  },
  {
   "cell_type": "code",
   "execution_count": 262,
   "source": [
    "summary_table[summary_table['header_name'].isin(id_headers)]"
   ],
   "metadata": {
    "collapsed": false
   },
   "outputs": []
  },
  {
   "cell_type": "markdown",
   "source": [
    "#### Keep relevant columns"
   ],
   "metadata": {
    "collapsed": false
   }
  },
  {
   "cell_type": "code",
   "execution_count": 42,
   "source": [
    "def variance_per_column_2(column):\n",
    "    tracker_ratio = data[data[column].notnull()].tracker.value_counts()\n",
    "    try:\n",
    "        trackers = tracker_ratio[1]\n",
    "    except KeyError:\n",
    "        trackers = 0\n",
    "    try:\n",
    "        non_trackers = tracker_ratio[0]\n",
    "    except KeyError:\n",
    "        non_trackers = 0\n",
    "    return [column, trackers, non_trackers]"
   ],
   "metadata": {
    "collapsed": false
   },
   "outputs": []
  },
  {
   "cell_type": "code",
   "execution_count": 43,
   "source": [
    "number_of_elements_reduced = np.array([variance_per_column_2(column) for column in data.iloc[:, 4:-2].columns])\n",
    "summary_table = pd.DataFrame(number_of_elements_reduced, columns=[\"header_name\",\n",
    "                                                                  \"trackers\",\n",
    "                                                                  \"non_trackers\"])\n",
    "summary_table['trackers'] = summary_table['trackers'].astype(\"Int32\")\n",
    "summary_table[\"non_trackers\"] = summary_table[\"non_trackers\"].astype(\"float32\")\n",
    "summary_table['ratio'] = (summary_table['trackers']/summary_table['non_trackers'])*100\n",
    "summary_table['ratio2'] = (summary_table['non_trackers']/summary_table['trackers'])*100"
   ],
   "metadata": {
    "collapsed": false
   },
   "outputs": []
  },
  {
   "cell_type": "code",
   "execution_count": 44,
   "source": [
    "summary_table"
   ],
   "metadata": {
    "collapsed": false
   },
   "outputs": []
  },
  {
   "cell_type": "code",
   "execution_count": 45,
   "source": [
    "only_non_tracker_col = summary_table[summary_table['ratio'] <= 10].header_name.values.tolist()\n",
    "\n",
    "only_tracker_col = summary_table[summary_table['ratio2'] <= 10].header_name.values.tolist()"
   ],
   "metadata": {
    "collapsed": false
   },
   "outputs": []
  },
  {
   "cell_type": "code",
   "execution_count": 46,
   "source": [
    "summary_table[summary_table['ratio'] <= 10]"
   ],
   "metadata": {
    "collapsed": false
   },
   "outputs": []
  },
  {
   "cell_type": "code",
   "execution_count": 64,
   "source": [
    "only_tracker_col"
   ],
   "metadata": {
    "collapsed": false
   },
   "outputs": []
  },
  {
   "cell_type": "code",
   "execution_count": 77,
   "source": [
    "data[(data['google-creative-id'].notnull()) & (data['google-lineitem-id'].notnull())][['google-lineitem-id', 'google-creative-id']]"
   ],
   "metadata": {
    "collapsed": false
   },
   "outputs": []
  },
  {
   "cell_type": "markdown",
   "source": [
    "# CHANGE COMBINATION TO +1 for each col in col_list"
   ],
   "metadata": {
    "collapsed": false
   }
  },
  {
   "cell_type": "code",
   "execution_count": 117,
   "source": [
    "test_dict = {0: 2, 1:3}\n",
    "\n",
    "test_dict"
   ],
   "metadata": {
    "collapsed": false
   },
   "outputs": []
  },
  {
   "cell_type": "code",
   "execution_count": 78,
   "source": [
    "data[(data['google-creative-id'].notnull()) & (data['tracker'] == 1)].index.tolist()"
   ],
   "metadata": {
    "collapsed": false
   },
   "outputs": []
  },
  {
   "cell_type": "code",
   "execution_count": 101,
   "source": [
    "def concise_information(col_list, classification, dataset):\n",
    "    indices = list()\n",
    "\n",
    "    for col in col_list:\n",
    "        indices.append(dataset[(dataset[col].notnull()) & (dataset['tracker'] == classification)].index.tolist())\n",
    "\n",
    "    return indices"
   ],
   "metadata": {
    "collapsed": false
   },
   "outputs": []
  },
  {
   "cell_type": "code",
   "execution_count": 48,
   "source": [
    "data['comb_col_non_tracker'] = 0\n",
    "data['comb_col_tracker'] = 0"
   ],
   "metadata": {
    "collapsed": false
   },
   "outputs": []
  },
  {
   "cell_type": "code",
   "execution_count": 102,
   "source": [
    "from collections import Counter\n",
    "\n",
    "tests = dict(Counter(list(np.concatenate(concise_information(only_tracker_col, 1, data)).flat)))\n",
    "tests"
   ],
   "metadata": {
    "collapsed": false
   },
   "outputs": []
  },
  {
   "cell_type": "code",
   "execution_count": 103,
   "source": [
    "for key, value in tests.items():\n",
    "    data.at[key, \"comb_col_tracker\"] = value"
   ],
   "metadata": {
    "collapsed": false
   },
   "outputs": []
  },
  {
   "cell_type": "code",
   "execution_count": 105,
   "source": [
    "data[data['comb_col_tracker'] > 3]"
   ],
   "metadata": {
    "collapsed": false
   },
   "outputs": []
  },
  {
   "cell_type": "code",
   "execution_count": 110,
   "source": [
    "%%time\n",
    "for idx in concise_information(only_tracker_col, 1):\n",
    "    data.at[idx, 'comb_col_tracker'] = 1"
   ],
   "metadata": {
    "collapsed": false
   },
   "outputs": []
  },
  {
   "cell_type": "code",
   "execution_count": 111,
   "source": [
    "%%time\n",
    "for idx in concise_information(only_non_tracker_col, 0):\n",
    "    data.at[idx, 'comb_col_non_tracker'] = 1"
   ],
   "metadata": {
    "collapsed": false
   },
   "outputs": []
  },
  {
   "cell_type": "code",
   "execution_count": 112,
   "source": [
    "data.drop(only_non_tracker_col, axis=1, inplace=True)\n",
    "data.drop(only_tracker_col, axis=1, inplace=True)"
   ],
   "metadata": {
    "collapsed": false
   },
   "outputs": []
  },
  {
   "cell_type": "code",
   "execution_count": 113,
   "source": [
    "data"
   ],
   "metadata": {
    "collapsed": false
   },
   "outputs": []
  },
  {
   "cell_type": "code",
   "execution_count": 96,
   "source": [
    "def impute_value(element):\n",
    "    if data[element].dtype == 'category':\n",
    "        data[element] = data[element].cat.add_categories('missing')\n",
    "        data[element].fillna('missing', inplace=True)\n",
    "    else:\n",
    "        data[element].fillna(91219942022, inplace=True)"
   ],
   "metadata": {
    "collapsed": false
   },
   "outputs": []
  },
  {
   "cell_type": "code",
   "execution_count": null,
   "source": [
    "[impute_value(value) for value in data.columns.values]"
   ],
   "metadata": {
    "collapsed": false,
    "pycharm": {
     "is_executing": true
    }
   },
   "outputs": []
  },
  {
   "cell_type": "markdown",
   "source": [
    "#### Outlier detection"
   ],
   "metadata": {
    "collapsed": false
   }
  },
  {
   "cell_type": "code",
   "execution_count": 2,
   "source": [
    "list_of_categorical_cols = list(data.iloc[:, 4:-4].select_dtypes('category').columns.values\n",
    "                                                      .tolist())\n",
    "\n",
    "list_of_integer_cols = list(data.iloc[:, 4:-4].select_dtypes('Int64').columns.values\n",
    "                                                      .tolist())"
   ],
   "metadata": {
    "collapsed": false
   },
   "outputs": []
  },
  {
   "cell_type": "code",
   "execution_count": 1,
   "source": [
    "data.info()"
   ],
   "metadata": {
    "collapsed": false
   },
   "outputs": []
  },
  {
   "cell_type": "code",
   "execution_count": 133,
   "source": [
    "number_of_trackers = len(data[data['tracker'] ==1])\n",
    "number_of_non_trackers = len(data[data['tracker'] == 0])"
   ],
   "metadata": {
    "collapsed": false
   },
   "outputs": []
  },
  {
   "cell_type": "code",
   "execution_count": 134,
   "source": [
    "summary_table['ratio_tracker'] = summary_table['trackers'] / number_of_trackers\n",
    "summary_table['ratio_non_tracker'] = summary_table['non_trackers'] / number_of_non_trackers"
   ],
   "metadata": {
    "collapsed": false
   },
   "outputs": []
  },
  {
   "cell_type": "code",
   "execution_count": 137,
   "source": [
    "summary_table"
   ],
   "metadata": {
    "collapsed": false
   },
   "outputs": []
  },
  {
   "cell_type": "code",
   "execution_count": 266,
   "source": [
    "def impute_value(element, classification):\n",
    "    if element in list_of_integer_cols:\n",
    "        # print(element, classification)\n",
    "        data.loc[data['tracker'] == classification, element]\\\n",
    "            .fillna(data[data['tracker']==classification][element].median())\n",
    "\n",
    "    if element in list_of_categorical_cols:\n",
    "        print(element, classification)\n",
    "        data.loc[data['tracker'] == classification, element] = data.loc[data['tracker'] == classification, element]\\\n",
    "            .fillna(data[data['tracker']==classification][element].mode().iloc[0])"
   ],
   "metadata": {
    "collapsed": false
   },
   "outputs": []
  },
  {
   "cell_type": "code",
   "execution_count": 245,
   "source": [
    "impute_col_list_t = summary_table[summary_table['ratio_tracker'] < 0.4].header_name.values.tolist()\n",
    "impute_col_list_nt = summary_table[summary_table['ratio_non_tracker'] < 0.4].header_name.values.tolist()"
   ],
   "metadata": {
    "collapsed": false
   },
   "outputs": []
  },
  {
   "cell_type": "code",
   "execution_count": 256,
   "source": [
    "for header in impute_col_list_t:\n",
    "    impute_value(header, 0)\n",
    "\n",
    "for header in impute_col_list_t:\n",
    "    impute_value(header, 1)\n",
    "\n",
    "for header in impute_col_list_nt:\n",
    "    impute_value(header, 1)\n",
    "\n",
    "for header in impute_col_list_nt:\n",
    "    impute_value(header, 0)"
   ],
   "metadata": {
    "collapsed": false
   },
   "outputs": []
  },
  {
   "cell_type": "code",
   "execution_count": 253,
   "source": [
    "impute_col_list_t"
   ],
   "metadata": {
    "collapsed": false
   },
   "outputs": []
  },
  {
   "cell_type": "code",
   "execution_count": 259,
   "source": [
    "data[['x-xss-protection', 'tracker']]"
   ],
   "metadata": {
    "collapsed": false
   },
   "outputs": []
  },
  {
   "cell_type": "code",
   "execution_count": 269,
   "source": [
    "impute_value('x-xss-protection', 1)"
   ],
   "metadata": {
    "collapsed": false
   },
   "outputs": []
  },
  {
   "cell_type": "code",
   "execution_count": 270,
   "source": [
    "data[['x-xss-protection', 'tracker']]"
   ],
   "metadata": {
    "collapsed": false
   },
   "outputs": []
  },
  {
   "cell_type": "code",
   "execution_count": 63,
   "source": [
    "data"
   ],
   "metadata": {
    "collapsed": false
   },
   "outputs": []
  }
 ],
 "metadata": {
  "kernelspec": {
   "display_name": "Python 3",
   "language": "python",
   "name": "python3"
  },
  "language_info": {
   "codemirror_mode": {
    "name": "ipython",
    "version": 2
   },
   "file_extension": ".py",
   "mimetype": "text/x-python",
   "name": "python",
   "nbconvert_exporter": "python",
   "pygments_lexer": "ipython2",
   "version": "2.7.6"
  }
 },
 "nbformat": 4,
 "nbformat_minor": 0
}
