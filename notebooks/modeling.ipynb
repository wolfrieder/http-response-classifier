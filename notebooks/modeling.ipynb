{
 "cells": [
  {
   "cell_type": "code",
   "execution_count": 149,
   "metadata": {
    "collapsed": true
   },
   "outputs": [],
   "source": [
    "from sklearn.dummy import DummyClassifier\n",
    "import pandas as pd\n",
    "import numpy as np\n",
    "import xgboost as xgb\n",
    "\n",
    "# from sklearn.impute import KNNImputer\n",
    "from sklearn.ensemble import RandomForestClassifier\n",
    "from sklearn.neighbors import KNeighborsClassifier\n",
    "from sklearn.preprocessing import Normalizer, FunctionTransformer, RobustScaler\n",
    "from sklearn.compose import ColumnTransformer, make_column_selector as selector\n",
    "from sklearn.pipeline import Pipeline\n",
    "from sklearn import tree\n",
    "from sklearn import metrics\n",
    "from sklearn.model_selection import RepeatedStratifiedKFold, cross_val_score\n",
    "import matplotlib.pyplot as plt\n",
    "import seaborn as sns\n",
    "from scipy.stats import kstest, shapiro, probplot\n",
    "import category_encoders as ce"
   ]
  },
  {
   "cell_type": "code",
   "execution_count": 2,
   "outputs": [],
   "source": [
    "train_data = pd.read_parquet(\n",
    "    \"../data/processed/chrome/08_12_2022/train_set_01_featurized.parquet.gzip\"\n",
    ")\n",
    "test_data = pd.read_parquet(\n",
    "    \"../data/processed/chrome/08_12_2022/test_set_01_featurized.parquet.gzip\"\n",
    ")"
   ],
   "metadata": {
    "collapsed": false
   }
  },
  {
   "cell_type": "code",
   "execution_count": 9,
   "outputs": [
    {
     "data": {
      "text/plain": "                          content-type accept-ranges  \\\n0       text/javascript; charset=utf-8       Missing   \n1               application/javascript         bytes   \n2                            image/gif       Missing   \n3                           image/jpeg         bytes   \n4             text/html; charset=utf-8         bytes   \n...                                ...           ...   \n271999                       image/png         bytes   \n272000                       image/gif       Missing   \n272001             binary/octet-stream         bytes   \n272002                 application/xml         bytes   \n272003  text/javascript; charset=utf-8         bytes   \n\n                                      etag  \\\n0                     15601544113783900868   \n1                        0x8da7b64a03a8ae5   \n2                                  Missing   \n3                        0x8da7b64a03a8ae5   \n4                        0x8da7b64a03a8ae5   \n...                                    ...   \n271999                     \"618df712-2509\"   \n272000                             Missing   \n272001  \"4abfa4888190370d347034f9fa43c804\"   \n272002                   \"29a-1630333f5d8\"   \n272003                   0x8da754860160d55   \n\n                                                     vary content-encoding  \\\n0                                         accept-encoding             gzip   \n1                                         accept-encoding             gzip   \n2                                         accept-encoding             gzip   \n3                                         accept-encoding             gzip   \n4                                         accept-encoding             gzip   \n...                                                   ...              ...   \n271999                                    accept-encoding             gzip   \n272000                                    accept-encoding             gzip   \n272001                             accept-encoding,origin             gzip   \n272002  x-edge-forwarded-proto, x-forwarded-host, acce...             gzip   \n272003                                    accept-encoding               br   \n\n                                          cache-control  \\\n0                               public, max-age=1209600   \n1                                     max-age=630720000   \n2                   no-cache, no-store, must-revalidate   \n3                                              no-store   \n4                                    private, max-age=0   \n...                                                 ...   \n271999                                 max-age=31622400   \n272000   no-store, no-cache, must-revalidate, max-age=0   \n272001                                 max-age=31536000   \n272002                            public, max-age=86400   \n272003  public, max-age=432000, no-transform, immutable   \n\n                              expires  content-length    server       age  \\\n0       fri, 26 aug 2022 11:22:22 gmt           13475      cafe    5806.0   \n1       thu, 31 dec 2037 23:55:55 gmt            4768     nginx   90752.0   \n2       fri, 01 jan 1990 00:00:00 gmt              42      cafe      -1.0   \n3       thu, 31 dec 2037 23:55:55 gmt               0     nginx   90752.0   \n4       sun, 01 feb 1970 00:00:00 gmt            7461     nginx   90752.0   \n...                               ...             ...       ...       ...   \n271999  thu, 03 aug 2023 14:44:48 gmt            9481     nginx  845572.0   \n272000  mon, 04 dec 1999 21:29:02 gmt              49      cafe      -1.0   \n272001  thu, 31 dec 2037 23:55:55 gmt           57064  amazons3  709890.0   \n272002  thu, 31 dec 2037 23:55:55 gmt             666     nginx   28523.0   \n272003  thu, 31 dec 2037 23:55:55 gmt           70473     Other   90752.0   \n\n        ... etag_length access-control-allow-origin_cumulative  pragma_binary  \\\n0       ...          20                                Missing              0   \n1       ...          -1                                      *              0   \n2       ...          -1                                Missing              1   \n3       ...          -1                                      *              1   \n4       ...          -1                                Missing              0   \n...     ...         ...                                    ...            ...   \n271999  ...          15                                Missing              0   \n272000  ...          -1                                      *              1   \n272001  ...          34                                  Other              0   \n272002  ...          17                                Missing              0   \n272003  ...          17                                      *              0   \n\n        p3p_binary  x-xss-protection_binary  x-content-type-options_binary  \\\n0                1                        1                              1   \n1                0                        0                              1   \n2                1                        1                              1   \n3                0                        0                              0   \n4                0                        0                              0   \n...            ...                      ...                            ...   \n271999           0                        0                              0   \n272000           0                        0                              1   \n272001           0                        0                              0   \n272002           0                        1                              1   \n272003           0                        0                              0   \n\n        strict-transport-security_binary  \\\n0                                      0   \n1                                      1   \n2                                      0   \n3                                      0   \n4                                      1   \n...                                  ...   \n271999                                 1   \n272000                                 0   \n272001                                 0   \n272002                                 1   \n272003                                 0   \n\n        access-control-allow-credentials_binary  timing-allow-origin_binary  \\\n0                                             0                           1   \n1                                             0                           1   \n2                                             0                           1   \n3                                             0                           1   \n4                                             0                           0   \n...                                         ...                         ...   \n271999                                        0                           0   \n272000                                        0                           1   \n272001                                        1                           0   \n272002                                        0                           0   \n272003                                        0                           1   \n\n        tracker  \n0             1  \n1             0  \n2             1  \n3             0  \n4             0  \n...         ...  \n271999        0  \n272000        1  \n272001        0  \n272002        0  \n272003        0  \n\n[272004 rows x 153 columns]",
      "text/html": "<div>\n<style scoped>\n    .dataframe tbody tr th:only-of-type {\n        vertical-align: middle;\n    }\n\n    .dataframe tbody tr th {\n        vertical-align: top;\n    }\n\n    .dataframe thead th {\n        text-align: right;\n    }\n</style>\n<table border=\"1\" class=\"dataframe\">\n  <thead>\n    <tr style=\"text-align: right;\">\n      <th></th>\n      <th>content-type</th>\n      <th>accept-ranges</th>\n      <th>etag</th>\n      <th>vary</th>\n      <th>content-encoding</th>\n      <th>cache-control</th>\n      <th>expires</th>\n      <th>content-length</th>\n      <th>server</th>\n      <th>age</th>\n      <th>...</th>\n      <th>etag_length</th>\n      <th>access-control-allow-origin_cumulative</th>\n      <th>pragma_binary</th>\n      <th>p3p_binary</th>\n      <th>x-xss-protection_binary</th>\n      <th>x-content-type-options_binary</th>\n      <th>strict-transport-security_binary</th>\n      <th>access-control-allow-credentials_binary</th>\n      <th>timing-allow-origin_binary</th>\n      <th>tracker</th>\n    </tr>\n  </thead>\n  <tbody>\n    <tr>\n      <th>0</th>\n      <td>text/javascript; charset=utf-8</td>\n      <td>Missing</td>\n      <td>15601544113783900868</td>\n      <td>accept-encoding</td>\n      <td>gzip</td>\n      <td>public, max-age=1209600</td>\n      <td>fri, 26 aug 2022 11:22:22 gmt</td>\n      <td>13475</td>\n      <td>cafe</td>\n      <td>5806.0</td>\n      <td>...</td>\n      <td>20</td>\n      <td>Missing</td>\n      <td>0</td>\n      <td>1</td>\n      <td>1</td>\n      <td>1</td>\n      <td>0</td>\n      <td>0</td>\n      <td>1</td>\n      <td>1</td>\n    </tr>\n    <tr>\n      <th>1</th>\n      <td>application/javascript</td>\n      <td>bytes</td>\n      <td>0x8da7b64a03a8ae5</td>\n      <td>accept-encoding</td>\n      <td>gzip</td>\n      <td>max-age=630720000</td>\n      <td>thu, 31 dec 2037 23:55:55 gmt</td>\n      <td>4768</td>\n      <td>nginx</td>\n      <td>90752.0</td>\n      <td>...</td>\n      <td>-1</td>\n      <td>*</td>\n      <td>0</td>\n      <td>0</td>\n      <td>0</td>\n      <td>1</td>\n      <td>1</td>\n      <td>0</td>\n      <td>1</td>\n      <td>0</td>\n    </tr>\n    <tr>\n      <th>2</th>\n      <td>image/gif</td>\n      <td>Missing</td>\n      <td>Missing</td>\n      <td>accept-encoding</td>\n      <td>gzip</td>\n      <td>no-cache, no-store, must-revalidate</td>\n      <td>fri, 01 jan 1990 00:00:00 gmt</td>\n      <td>42</td>\n      <td>cafe</td>\n      <td>-1.0</td>\n      <td>...</td>\n      <td>-1</td>\n      <td>Missing</td>\n      <td>1</td>\n      <td>1</td>\n      <td>1</td>\n      <td>1</td>\n      <td>0</td>\n      <td>0</td>\n      <td>1</td>\n      <td>1</td>\n    </tr>\n    <tr>\n      <th>3</th>\n      <td>image/jpeg</td>\n      <td>bytes</td>\n      <td>0x8da7b64a03a8ae5</td>\n      <td>accept-encoding</td>\n      <td>gzip</td>\n      <td>no-store</td>\n      <td>thu, 31 dec 2037 23:55:55 gmt</td>\n      <td>0</td>\n      <td>nginx</td>\n      <td>90752.0</td>\n      <td>...</td>\n      <td>-1</td>\n      <td>*</td>\n      <td>1</td>\n      <td>0</td>\n      <td>0</td>\n      <td>0</td>\n      <td>0</td>\n      <td>0</td>\n      <td>1</td>\n      <td>0</td>\n    </tr>\n    <tr>\n      <th>4</th>\n      <td>text/html; charset=utf-8</td>\n      <td>bytes</td>\n      <td>0x8da7b64a03a8ae5</td>\n      <td>accept-encoding</td>\n      <td>gzip</td>\n      <td>private, max-age=0</td>\n      <td>sun, 01 feb 1970 00:00:00 gmt</td>\n      <td>7461</td>\n      <td>nginx</td>\n      <td>90752.0</td>\n      <td>...</td>\n      <td>-1</td>\n      <td>Missing</td>\n      <td>0</td>\n      <td>0</td>\n      <td>0</td>\n      <td>0</td>\n      <td>1</td>\n      <td>0</td>\n      <td>0</td>\n      <td>0</td>\n    </tr>\n    <tr>\n      <th>...</th>\n      <td>...</td>\n      <td>...</td>\n      <td>...</td>\n      <td>...</td>\n      <td>...</td>\n      <td>...</td>\n      <td>...</td>\n      <td>...</td>\n      <td>...</td>\n      <td>...</td>\n      <td>...</td>\n      <td>...</td>\n      <td>...</td>\n      <td>...</td>\n      <td>...</td>\n      <td>...</td>\n      <td>...</td>\n      <td>...</td>\n      <td>...</td>\n      <td>...</td>\n      <td>...</td>\n    </tr>\n    <tr>\n      <th>271999</th>\n      <td>image/png</td>\n      <td>bytes</td>\n      <td>\"618df712-2509\"</td>\n      <td>accept-encoding</td>\n      <td>gzip</td>\n      <td>max-age=31622400</td>\n      <td>thu, 03 aug 2023 14:44:48 gmt</td>\n      <td>9481</td>\n      <td>nginx</td>\n      <td>845572.0</td>\n      <td>...</td>\n      <td>15</td>\n      <td>Missing</td>\n      <td>0</td>\n      <td>0</td>\n      <td>0</td>\n      <td>0</td>\n      <td>1</td>\n      <td>0</td>\n      <td>0</td>\n      <td>0</td>\n    </tr>\n    <tr>\n      <th>272000</th>\n      <td>image/gif</td>\n      <td>Missing</td>\n      <td>Missing</td>\n      <td>accept-encoding</td>\n      <td>gzip</td>\n      <td>no-store, no-cache, must-revalidate, max-age=0</td>\n      <td>mon, 04 dec 1999 21:29:02 gmt</td>\n      <td>49</td>\n      <td>cafe</td>\n      <td>-1.0</td>\n      <td>...</td>\n      <td>-1</td>\n      <td>*</td>\n      <td>1</td>\n      <td>0</td>\n      <td>0</td>\n      <td>1</td>\n      <td>0</td>\n      <td>0</td>\n      <td>1</td>\n      <td>1</td>\n    </tr>\n    <tr>\n      <th>272001</th>\n      <td>binary/octet-stream</td>\n      <td>bytes</td>\n      <td>\"4abfa4888190370d347034f9fa43c804\"</td>\n      <td>accept-encoding,origin</td>\n      <td>gzip</td>\n      <td>max-age=31536000</td>\n      <td>thu, 31 dec 2037 23:55:55 gmt</td>\n      <td>57064</td>\n      <td>amazons3</td>\n      <td>709890.0</td>\n      <td>...</td>\n      <td>34</td>\n      <td>Other</td>\n      <td>0</td>\n      <td>0</td>\n      <td>0</td>\n      <td>0</td>\n      <td>0</td>\n      <td>1</td>\n      <td>0</td>\n      <td>0</td>\n    </tr>\n    <tr>\n      <th>272002</th>\n      <td>application/xml</td>\n      <td>bytes</td>\n      <td>\"29a-1630333f5d8\"</td>\n      <td>x-edge-forwarded-proto, x-forwarded-host, acce...</td>\n      <td>gzip</td>\n      <td>public, max-age=86400</td>\n      <td>thu, 31 dec 2037 23:55:55 gmt</td>\n      <td>666</td>\n      <td>nginx</td>\n      <td>28523.0</td>\n      <td>...</td>\n      <td>17</td>\n      <td>Missing</td>\n      <td>0</td>\n      <td>0</td>\n      <td>1</td>\n      <td>1</td>\n      <td>1</td>\n      <td>0</td>\n      <td>0</td>\n      <td>0</td>\n    </tr>\n    <tr>\n      <th>272003</th>\n      <td>text/javascript; charset=utf-8</td>\n      <td>bytes</td>\n      <td>0x8da754860160d55</td>\n      <td>accept-encoding</td>\n      <td>br</td>\n      <td>public, max-age=432000, no-transform, immutable</td>\n      <td>thu, 31 dec 2037 23:55:55 gmt</td>\n      <td>70473</td>\n      <td>Other</td>\n      <td>90752.0</td>\n      <td>...</td>\n      <td>17</td>\n      <td>*</td>\n      <td>0</td>\n      <td>0</td>\n      <td>0</td>\n      <td>0</td>\n      <td>0</td>\n      <td>0</td>\n      <td>1</td>\n      <td>0</td>\n    </tr>\n  </tbody>\n</table>\n<p>272004 rows × 153 columns</p>\n</div>"
     },
     "execution_count": 9,
     "metadata": {},
     "output_type": "execute_result"
    }
   ],
   "source": [
    "train_data"
   ],
   "metadata": {
    "collapsed": false
   }
  },
  {
   "cell_type": "code",
   "execution_count": 7,
   "outputs": [],
   "source": [
    "def check_distribution(dataset, feature):\n",
    "    values = dataset[dataset[feature].notnull()][feature]\n",
    "    sample_size = {5001: 1067, 5000: 880, 2500: 748, 1000: 516, 500: 341, 200: 169}\n",
    "    sample_values = [v for v in sample_size.keys() if len(values) > v]\n",
    "    if len(sample_values) == 0:\n",
    "        n = int(len(values) * 0.1)\n",
    "    else:\n",
    "        n = sample_size[sample_values[0]]\n",
    "    feature_values = values.sample(n=n, random_state=10).to_numpy().astype(np.int64)\n",
    "    stat, p_value = shapiro(feature_values)  # kstest(feature_values, 'norm')\n",
    "    return stat, p_value"
   ],
   "metadata": {
    "collapsed": false
   }
  },
  {
   "cell_type": "code",
   "execution_count": 10,
   "outputs": [],
   "source": [
    "X_train, y_train = train_data.iloc[:, :-1], train_data[[\"tracker\"]]\n",
    "X_test, y_test = test_data.iloc[:, :-1], test_data[[\"tracker\"]]"
   ],
   "metadata": {
    "collapsed": false
   }
  },
  {
   "cell_type": "code",
   "execution_count": null,
   "outputs": [],
   "source": [
    "# scale content-length and age"
   ],
   "metadata": {
    "collapsed": false,
    "pycharm": {
     "is_executing": true
    }
   }
  },
  {
   "cell_type": "code",
   "execution_count": 12,
   "outputs": [
    {
     "data": {
      "text/plain": "content-type                               category\naccept-ranges                              category\netag                                       category\nvary                                       category\ncontent-encoding                           category\n                                             ...   \nx-content-type-options_binary                 int64\nstrict-transport-security_binary              int64\naccess-control-allow-credentials_binary       int64\ntiming-allow-origin_binary                    int64\ntracker                                       uint8\nLength: 153, dtype: object"
     },
     "execution_count": 12,
     "metadata": {},
     "output_type": "execute_result"
    }
   ],
   "source": [
    "train_data.dtypes"
   ],
   "metadata": {
    "collapsed": false
   }
  },
  {
   "cell_type": "code",
   "execution_count": 148,
   "outputs": [
    {
     "name": "stdout",
     "output_type": "stream",
     "text": [
      "CPU times: user 20.1 ms, sys: 1.17 ms, total: 21.3 ms\n",
      "Wall time: 20.1 ms\n"
     ]
    },
    {
     "data": {
      "text/plain": "0.7157431508360171"
     },
     "execution_count": 148,
     "metadata": {},
     "output_type": "execute_result"
    }
   ],
   "source": [
    "%%time\n",
    "dummy_clf = DummyClassifier(strategy=\"most_frequent\", random_state=10)\n",
    "dummy_clf.fit(X_train, y_train)\n",
    "dummy_clf.score(X_train, y_train)"
   ],
   "metadata": {
    "collapsed": false
   }
  },
  {
   "cell_type": "code",
   "execution_count": 89,
   "outputs": [],
   "source": [
    "numeric_transformer = Pipeline(\n",
    "    steps=[(\"scaler\", FunctionTransformer(np.log1p))]\n",
    ")\n",
    "\n",
    "preprocessor = ColumnTransformer(\n",
    "    transformers=[\n",
    "        ('num', numeric_transformer, ['content-length']),\n",
    "        ('cat', ce.WOEEncoder(), selector(dtype_include='category'))\n",
    "    ]\n",
    ")"
   ],
   "metadata": {
    "collapsed": false
   }
  },
  {
   "cell_type": "code",
   "execution_count": 117,
   "outputs": [],
   "source": [
    "clf = Pipeline(\n",
    "    steps=[('preprocessor', preprocessor), ('classifier', RandomForestClassifier(n_estimators=100, n_jobs=-1,\n",
    "                                                                                 random_state=10,\n",
    "                                                                                 criterion='log_loss',\n",
    "                                                                                 max_features=None))]\n",
    ")"
   ],
   "metadata": {
    "collapsed": false
   }
  },
  {
   "cell_type": "code",
   "execution_count": 118,
   "outputs": [
    {
     "data": {
      "text/plain": "Pipeline(steps=[('preprocessor',\n                 ColumnTransformer(transformers=[('num',\n                                                  Pipeline(steps=[('scaler',\n                                                                   FunctionTransformer(func=<ufunc 'log1p'>))]),\n                                                  ['content-length']),\n                                                 ('cat', WOEEncoder(),\n                                                  <sklearn.compose._column_transformer.make_column_selector object at 0x7fe00c55b5b0>)])),\n                ('classifier',\n                 RandomForestClassifier(criterion='log_loss', max_features=None,\n                                        n_jobs=-1, random_state=10))])",
      "text/html": "<style>#sk-container-id-4 {color: black;background-color: white;}#sk-container-id-4 pre{padding: 0;}#sk-container-id-4 div.sk-toggleable {background-color: white;}#sk-container-id-4 label.sk-toggleable__label {cursor: pointer;display: block;width: 100%;margin-bottom: 0;padding: 0.3em;box-sizing: border-box;text-align: center;}#sk-container-id-4 label.sk-toggleable__label-arrow:before {content: \"▸\";float: left;margin-right: 0.25em;color: #696969;}#sk-container-id-4 label.sk-toggleable__label-arrow:hover:before {color: black;}#sk-container-id-4 div.sk-estimator:hover label.sk-toggleable__label-arrow:before {color: black;}#sk-container-id-4 div.sk-toggleable__content {max-height: 0;max-width: 0;overflow: hidden;text-align: left;background-color: #f0f8ff;}#sk-container-id-4 div.sk-toggleable__content pre {margin: 0.2em;color: black;border-radius: 0.25em;background-color: #f0f8ff;}#sk-container-id-4 input.sk-toggleable__control:checked~div.sk-toggleable__content {max-height: 200px;max-width: 100%;overflow: auto;}#sk-container-id-4 input.sk-toggleable__control:checked~label.sk-toggleable__label-arrow:before {content: \"▾\";}#sk-container-id-4 div.sk-estimator input.sk-toggleable__control:checked~label.sk-toggleable__label {background-color: #d4ebff;}#sk-container-id-4 div.sk-label input.sk-toggleable__control:checked~label.sk-toggleable__label {background-color: #d4ebff;}#sk-container-id-4 input.sk-hidden--visually {border: 0;clip: rect(1px 1px 1px 1px);clip: rect(1px, 1px, 1px, 1px);height: 1px;margin: -1px;overflow: hidden;padding: 0;position: absolute;width: 1px;}#sk-container-id-4 div.sk-estimator {font-family: monospace;background-color: #f0f8ff;border: 1px dotted black;border-radius: 0.25em;box-sizing: border-box;margin-bottom: 0.5em;}#sk-container-id-4 div.sk-estimator:hover {background-color: #d4ebff;}#sk-container-id-4 div.sk-parallel-item::after {content: \"\";width: 100%;border-bottom: 1px solid gray;flex-grow: 1;}#sk-container-id-4 div.sk-label:hover label.sk-toggleable__label {background-color: #d4ebff;}#sk-container-id-4 div.sk-serial::before {content: \"\";position: absolute;border-left: 1px solid gray;box-sizing: border-box;top: 0;bottom: 0;left: 50%;z-index: 0;}#sk-container-id-4 div.sk-serial {display: flex;flex-direction: column;align-items: center;background-color: white;padding-right: 0.2em;padding-left: 0.2em;position: relative;}#sk-container-id-4 div.sk-item {position: relative;z-index: 1;}#sk-container-id-4 div.sk-parallel {display: flex;align-items: stretch;justify-content: center;background-color: white;position: relative;}#sk-container-id-4 div.sk-item::before, #sk-container-id-4 div.sk-parallel-item::before {content: \"\";position: absolute;border-left: 1px solid gray;box-sizing: border-box;top: 0;bottom: 0;left: 50%;z-index: -1;}#sk-container-id-4 div.sk-parallel-item {display: flex;flex-direction: column;z-index: 1;position: relative;background-color: white;}#sk-container-id-4 div.sk-parallel-item:first-child::after {align-self: flex-end;width: 50%;}#sk-container-id-4 div.sk-parallel-item:last-child::after {align-self: flex-start;width: 50%;}#sk-container-id-4 div.sk-parallel-item:only-child::after {width: 0;}#sk-container-id-4 div.sk-dashed-wrapped {border: 1px dashed gray;margin: 0 0.4em 0.5em 0.4em;box-sizing: border-box;padding-bottom: 0.4em;background-color: white;}#sk-container-id-4 div.sk-label label {font-family: monospace;font-weight: bold;display: inline-block;line-height: 1.2em;}#sk-container-id-4 div.sk-label-container {text-align: center;}#sk-container-id-4 div.sk-container {/* jupyter's `normalize.less` sets `[hidden] { display: none; }` but bootstrap.min.css set `[hidden] { display: none !important; }` so we also need the `!important` here to be able to override the default hidden behavior on the sphinx rendered scikit-learn.org. See: https://github.com/scikit-learn/scikit-learn/issues/21755 */display: inline-block !important;position: relative;}#sk-container-id-4 div.sk-text-repr-fallback {display: none;}</style><div id=\"sk-container-id-4\" class=\"sk-top-container\"><div class=\"sk-text-repr-fallback\"><pre>Pipeline(steps=[(&#x27;preprocessor&#x27;,\n                 ColumnTransformer(transformers=[(&#x27;num&#x27;,\n                                                  Pipeline(steps=[(&#x27;scaler&#x27;,\n                                                                   FunctionTransformer(func=&lt;ufunc &#x27;log1p&#x27;&gt;))]),\n                                                  [&#x27;content-length&#x27;]),\n                                                 (&#x27;cat&#x27;, WOEEncoder(),\n                                                  &lt;sklearn.compose._column_transformer.make_column_selector object at 0x7fe00c55b5b0&gt;)])),\n                (&#x27;classifier&#x27;,\n                 RandomForestClassifier(criterion=&#x27;log_loss&#x27;, max_features=None,\n                                        n_jobs=-1, random_state=10))])</pre><b>In a Jupyter environment, please rerun this cell to show the HTML representation or trust the notebook. <br />On GitHub, the HTML representation is unable to render, please try loading this page with nbviewer.org.</b></div><div class=\"sk-container\" hidden><div class=\"sk-item sk-dashed-wrapped\"><div class=\"sk-label-container\"><div class=\"sk-label sk-toggleable\"><input class=\"sk-toggleable__control sk-hidden--visually\" id=\"sk-estimator-id-16\" type=\"checkbox\" ><label for=\"sk-estimator-id-16\" class=\"sk-toggleable__label sk-toggleable__label-arrow\">Pipeline</label><div class=\"sk-toggleable__content\"><pre>Pipeline(steps=[(&#x27;preprocessor&#x27;,\n                 ColumnTransformer(transformers=[(&#x27;num&#x27;,\n                                                  Pipeline(steps=[(&#x27;scaler&#x27;,\n                                                                   FunctionTransformer(func=&lt;ufunc &#x27;log1p&#x27;&gt;))]),\n                                                  [&#x27;content-length&#x27;]),\n                                                 (&#x27;cat&#x27;, WOEEncoder(),\n                                                  &lt;sklearn.compose._column_transformer.make_column_selector object at 0x7fe00c55b5b0&gt;)])),\n                (&#x27;classifier&#x27;,\n                 RandomForestClassifier(criterion=&#x27;log_loss&#x27;, max_features=None,\n                                        n_jobs=-1, random_state=10))])</pre></div></div></div><div class=\"sk-serial\"><div class=\"sk-item sk-dashed-wrapped\"><div class=\"sk-label-container\"><div class=\"sk-label sk-toggleable\"><input class=\"sk-toggleable__control sk-hidden--visually\" id=\"sk-estimator-id-17\" type=\"checkbox\" ><label for=\"sk-estimator-id-17\" class=\"sk-toggleable__label sk-toggleable__label-arrow\">preprocessor: ColumnTransformer</label><div class=\"sk-toggleable__content\"><pre>ColumnTransformer(transformers=[(&#x27;num&#x27;,\n                                 Pipeline(steps=[(&#x27;scaler&#x27;,\n                                                  FunctionTransformer(func=&lt;ufunc &#x27;log1p&#x27;&gt;))]),\n                                 [&#x27;content-length&#x27;]),\n                                (&#x27;cat&#x27;, WOEEncoder(),\n                                 &lt;sklearn.compose._column_transformer.make_column_selector object at 0x7fe00c55b5b0&gt;)])</pre></div></div></div><div class=\"sk-parallel\"><div class=\"sk-parallel-item\"><div class=\"sk-item\"><div class=\"sk-label-container\"><div class=\"sk-label sk-toggleable\"><input class=\"sk-toggleable__control sk-hidden--visually\" id=\"sk-estimator-id-18\" type=\"checkbox\" ><label for=\"sk-estimator-id-18\" class=\"sk-toggleable__label sk-toggleable__label-arrow\">num</label><div class=\"sk-toggleable__content\"><pre>[&#x27;content-length&#x27;]</pre></div></div></div><div class=\"sk-serial\"><div class=\"sk-item\"><div class=\"sk-serial\"><div class=\"sk-item\"><div class=\"sk-estimator sk-toggleable\"><input class=\"sk-toggleable__control sk-hidden--visually\" id=\"sk-estimator-id-19\" type=\"checkbox\" ><label for=\"sk-estimator-id-19\" class=\"sk-toggleable__label sk-toggleable__label-arrow\">FunctionTransformer</label><div class=\"sk-toggleable__content\"><pre>FunctionTransformer(func=&lt;ufunc &#x27;log1p&#x27;&gt;)</pre></div></div></div></div></div></div></div></div><div class=\"sk-parallel-item\"><div class=\"sk-item\"><div class=\"sk-label-container\"><div class=\"sk-label sk-toggleable\"><input class=\"sk-toggleable__control sk-hidden--visually\" id=\"sk-estimator-id-20\" type=\"checkbox\" ><label for=\"sk-estimator-id-20\" class=\"sk-toggleable__label sk-toggleable__label-arrow\">cat</label><div class=\"sk-toggleable__content\"><pre>&lt;sklearn.compose._column_transformer.make_column_selector object at 0x7fe00c55b5b0&gt;</pre></div></div></div><div class=\"sk-serial\"><div class=\"sk-item\"><div class=\"sk-estimator sk-toggleable\"><input class=\"sk-toggleable__control sk-hidden--visually\" id=\"sk-estimator-id-21\" type=\"checkbox\" ><label for=\"sk-estimator-id-21\" class=\"sk-toggleable__label sk-toggleable__label-arrow\">WOEEncoder</label><div class=\"sk-toggleable__content\"><pre>WOEEncoder()</pre></div></div></div></div></div></div></div></div><div class=\"sk-item\"><div class=\"sk-estimator sk-toggleable\"><input class=\"sk-toggleable__control sk-hidden--visually\" id=\"sk-estimator-id-22\" type=\"checkbox\" ><label for=\"sk-estimator-id-22\" class=\"sk-toggleable__label sk-toggleable__label-arrow\">RandomForestClassifier</label><div class=\"sk-toggleable__content\"><pre>RandomForestClassifier(criterion=&#x27;log_loss&#x27;, max_features=None, n_jobs=-1,\n                       random_state=10)</pre></div></div></div></div></div></div></div>"
     },
     "execution_count": 118,
     "metadata": {},
     "output_type": "execute_result"
    }
   ],
   "source": [
    "clf.fit(X_train, y_train['tracker'].to_numpy())"
   ],
   "metadata": {
    "collapsed": false
   }
  },
  {
   "cell_type": "code",
   "execution_count": 119,
   "outputs": [
    {
     "data": {
      "text/plain": "0.9995147130189261"
     },
     "execution_count": 119,
     "metadata": {},
     "output_type": "execute_result"
    }
   ],
   "source": [
    "clf.score(X_test, y_test)"
   ],
   "metadata": {
    "collapsed": false
   }
  },
  {
   "cell_type": "code",
   "execution_count": 120,
   "outputs": [
    {
     "name": "stdout",
     "output_type": "stream",
     "text": [
      "Model accuracy score : 0.9995\n"
     ]
    }
   ],
   "source": [
    "y_pred = clf.predict(X_test)\n",
    "print('Model accuracy score : {0:0.4f}'. format(metrics.accuracy_score(y_test, y_pred)))"
   ],
   "metadata": {
    "collapsed": false
   }
  },
  {
   "cell_type": "code",
   "execution_count": 121,
   "outputs": [
    {
     "name": "stdout",
     "output_type": "stream",
     "text": [
      "Model log-loss score : 0.0015\n"
     ]
    }
   ],
   "source": [
    "clf_probs = clf.predict_proba(X_test)\n",
    "score = metrics.log_loss(y_test, clf_probs)\n",
    "print('Model log-loss score : {0:0.4f}'. format(score))"
   ],
   "metadata": {
    "collapsed": false
   }
  },
  {
   "cell_type": "code",
   "execution_count": 136,
   "outputs": [
    {
     "data": {
      "text/plain": "<sklearn.metrics._plot.roc_curve.RocCurveDisplay at 0x7fdf0839cd30>"
     },
     "execution_count": 136,
     "metadata": {},
     "output_type": "execute_result"
    },
    {
     "data": {
      "text/plain": "<Figure size 432x288 with 1 Axes>",
      "image/png": "[encoded data removed]"
     },
     "metadata": {
      "needs_background": "light"
     },
     "output_type": "display_data"
    }
   ],
   "source": [
    "metrics.RocCurveDisplay.from_predictions(y_test, y_pred)"
   ],
   "metadata": {
    "collapsed": false
   }
  },
  {
   "cell_type": "code",
   "execution_count": 141,
   "outputs": [
    {
     "data": {
      "text/plain": "<sklearn.metrics._plot.confusion_matrix.ConfusionMatrixDisplay at 0x7fdfa8571eb0>"
     },
     "execution_count": 141,
     "metadata": {},
     "output_type": "execute_result"
    },
    {
     "data": {
      "text/plain": "<Figure size 432x288 with 2 Axes>",
      "image/png": "[encoded data removed]"
     },
     "metadata": {
      "needs_background": "light"
     },
     "output_type": "display_data"
    }
   ],
   "source": [
    "metrics.ConfusionMatrixDisplay.from_predictions(y_test, y_pred, cmap='spring')\n",
    "# TN FP\n",
    "# FN TP"
   ],
   "metadata": {
    "collapsed": false
   }
  },
  {
   "cell_type": "code",
   "execution_count": 150,
   "outputs": [
    {
     "name": "stdout",
     "output_type": "stream",
     "text": [
      "Accuracy: 1.000 (0.000)\n",
      "CPU times: user 883 ms, sys: 564 ms, total: 1.45 s\n",
      "Wall time: 57.6 s\n"
     ]
    }
   ],
   "source": [
    "%%time\n",
    "cv = RepeatedStratifiedKFold(n_splits=10, n_repeats=3, random_state=1)\n",
    "n_scores = cross_val_score(clf, X_train, y_train, scoring='accuracy', cv=cv, n_jobs=-1, error_score='raise')\n",
    "# report pipeline performance\n",
    "print('Accuracy: %.3f (%.3f)' % (np.mean(n_scores), np.std(n_scores)))"
   ],
   "metadata": {
    "collapsed": false
   }
  },
  {
   "cell_type": "code",
   "execution_count": 122,
   "outputs": [],
   "source": [
    "importance = clf['classifier'].feature_importances_\n",
    "# d = {\"header\": X_train.columns.values.tolist(), \"value\": importance.tolist()}"
   ],
   "metadata": {
    "collapsed": false
   }
  },
  {
   "cell_type": "code",
   "execution_count": 113,
   "outputs": [
    {
     "ename": "ValueError",
     "evalue": "Length of values (12) does not match length of index (152)",
     "output_type": "error",
     "traceback": [
      "\u001B[0;31m---------------------------------------------------------------------------\u001B[0m",
      "\u001B[0;31mValueError\u001B[0m                                Traceback (most recent call last)",
      "Input \u001B[0;32mIn [113]\u001B[0m, in \u001B[0;36m<cell line: 1>\u001B[0;34m()\u001B[0m\n\u001B[0;32m----> 1\u001B[0m feature_scores \u001B[38;5;241m=\u001B[39m \u001B[43mpd\u001B[49m\u001B[38;5;241;43m.\u001B[39;49m\u001B[43mSeries\u001B[49m\u001B[43m(\u001B[49m\u001B[43mclf\u001B[49m\u001B[43m[\u001B[49m\u001B[38;5;124;43m'\u001B[39;49m\u001B[38;5;124;43mclassifier\u001B[39;49m\u001B[38;5;124;43m'\u001B[39;49m\u001B[43m]\u001B[49m\u001B[38;5;241;43m.\u001B[39;49m\u001B[43mfeature_importances_\u001B[49m\u001B[43m,\u001B[49m\u001B[43m \u001B[49m\u001B[43mindex\u001B[49m\u001B[38;5;241;43m=\u001B[39;49m\u001B[43mX_train\u001B[49m\u001B[38;5;241;43m.\u001B[39;49m\u001B[43mcolumns\u001B[49m\u001B[43m)\u001B[49m\u001B[38;5;241m.\u001B[39msort_values(ascending\u001B[38;5;241m=\u001B[39m\u001B[38;5;28;01mFalse\u001B[39;00m)\n",
      "File \u001B[0;32m~/miniconda3/envs/code/lib/python3.9/site-packages/pandas/core/series.py:442\u001B[0m, in \u001B[0;36mSeries.__init__\u001B[0;34m(self, data, index, dtype, name, copy, fastpath)\u001B[0m\n\u001B[1;32m    440\u001B[0m     index \u001B[38;5;241m=\u001B[39m default_index(\u001B[38;5;28mlen\u001B[39m(data))\n\u001B[1;32m    441\u001B[0m \u001B[38;5;28;01melif\u001B[39;00m is_list_like(data):\n\u001B[0;32m--> 442\u001B[0m     \u001B[43mcom\u001B[49m\u001B[38;5;241;43m.\u001B[39;49m\u001B[43mrequire_length_match\u001B[49m\u001B[43m(\u001B[49m\u001B[43mdata\u001B[49m\u001B[43m,\u001B[49m\u001B[43m \u001B[49m\u001B[43mindex\u001B[49m\u001B[43m)\u001B[49m\n\u001B[1;32m    444\u001B[0m \u001B[38;5;66;03m# create/copy the manager\u001B[39;00m\n\u001B[1;32m    445\u001B[0m \u001B[38;5;28;01mif\u001B[39;00m \u001B[38;5;28misinstance\u001B[39m(data, (SingleBlockManager, SingleArrayManager)):\n",
      "File \u001B[0;32m~/miniconda3/envs/code/lib/python3.9/site-packages/pandas/core/common.py:557\u001B[0m, in \u001B[0;36mrequire_length_match\u001B[0;34m(data, index)\u001B[0m\n\u001B[1;32m    553\u001B[0m \u001B[38;5;124;03m\"\"\"\u001B[39;00m\n\u001B[1;32m    554\u001B[0m \u001B[38;5;124;03mCheck the length of data matches the length of the index.\u001B[39;00m\n\u001B[1;32m    555\u001B[0m \u001B[38;5;124;03m\"\"\"\u001B[39;00m\n\u001B[1;32m    556\u001B[0m \u001B[38;5;28;01mif\u001B[39;00m \u001B[38;5;28mlen\u001B[39m(data) \u001B[38;5;241m!=\u001B[39m \u001B[38;5;28mlen\u001B[39m(index):\n\u001B[0;32m--> 557\u001B[0m     \u001B[38;5;28;01mraise\u001B[39;00m \u001B[38;5;167;01mValueError\u001B[39;00m(\n\u001B[1;32m    558\u001B[0m         \u001B[38;5;124m\"\u001B[39m\u001B[38;5;124mLength of values \u001B[39m\u001B[38;5;124m\"\u001B[39m\n\u001B[1;32m    559\u001B[0m         \u001B[38;5;124mf\u001B[39m\u001B[38;5;124m\"\u001B[39m\u001B[38;5;124m(\u001B[39m\u001B[38;5;132;01m{\u001B[39;00m\u001B[38;5;28mlen\u001B[39m(data)\u001B[38;5;132;01m}\u001B[39;00m\u001B[38;5;124m) \u001B[39m\u001B[38;5;124m\"\u001B[39m\n\u001B[1;32m    560\u001B[0m         \u001B[38;5;124m\"\u001B[39m\u001B[38;5;124mdoes not match length of index \u001B[39m\u001B[38;5;124m\"\u001B[39m\n\u001B[1;32m    561\u001B[0m         \u001B[38;5;124mf\u001B[39m\u001B[38;5;124m\"\u001B[39m\u001B[38;5;124m(\u001B[39m\u001B[38;5;132;01m{\u001B[39;00m\u001B[38;5;28mlen\u001B[39m(index)\u001B[38;5;132;01m}\u001B[39;00m\u001B[38;5;124m)\u001B[39m\u001B[38;5;124m\"\u001B[39m\n\u001B[1;32m    562\u001B[0m     )\n",
      "\u001B[0;31mValueError\u001B[0m: Length of values (12) does not match length of index (152)"
     ]
    }
   ],
   "source": [
    "feature_names = [f\"feature {i}\" for i in range(X_train.shape[1])]\n",
    "forest_importances = pd.Series(importance, index=feature_names)\n",
    "\n",
    "fig, ax = plt.subplots()\n",
    "# forest_importances.plot.bar(yerr=std, ax=ax)\n",
    "ax.set_title(\"Feature importances using MDI\")\n",
    "ax.set_ylabel(\"Mean decrease in impurity\")\n",
    "fig.tight_layout()"
   ],
   "metadata": {
    "collapsed": false
   }
  },
  {
   "cell_type": "code",
   "execution_count": 107,
   "outputs": [
    {
     "data": {
      "text/plain": "<Figure size 720x576 with 1 Axes>",
      "image/png": "[encoded data removed]"
     },
     "metadata": {
      "needs_background": "light"
     },
     "output_type": "display_data"
    }
   ],
   "source": [
    "f, ax = plt.subplots(figsize=(10,8))\n",
    "x = X_train['age']\n",
    "x = pd.Series(x, name=\"Age variable\")\n",
    "ax = sns.kdeplot(x, shade=True, color='red')\n",
    "ax.set_title(\"Distribution of age variable\")\n",
    "plt.show()"
   ],
   "metadata": {
    "collapsed": false
   }
  }
 ],
 "metadata": {
  "kernelspec": {
   "display_name": "Python 3",
   "language": "python",
   "name": "python3"
  },
  "language_info": {
   "codemirror_mode": {
    "name": "ipython",
    "version": 2
   },
   "file_extension": ".py",
   "mimetype": "text/x-python",
   "name": "python",
   "nbconvert_exporter": "python",
   "pygments_lexer": "ipython2",
   "version": "2.7.6"
  }
 },
 "nbformat": 4,
 "nbformat_minor": 0
}
