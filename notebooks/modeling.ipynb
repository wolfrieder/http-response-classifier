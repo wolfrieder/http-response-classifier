{
 "cells": [
  {
   "cell_type": "code",
   "execution_count": 51,
   "metadata": {
    "collapsed": true,
    "pycharm": {
     "name": "#%%\n"
    }
   },
   "outputs": [],
   "source": [
    "from sklearn.dummy import DummyClassifier\n",
    "import pandas as pd\n",
    "import numpy as np\n",
    "import xgboost as xgb\n",
    "from sklearn.ensemble import RandomForestClassifier\n",
    "from sklearn import preprocessing\n",
    "import matplotlib.pyplot as plt\n",
    "import seaborn as sns"
   ]
  },
  {
   "cell_type": "code",
   "execution_count": 2,
   "outputs": [],
   "source": [
    "def variance_per_column_2(column):\n",
    "    tracker_ratio = train_data[train_data[column].notnull()].tracker.value_counts()\n",
    "    try:\n",
    "        trackers = tracker_ratio[1]\n",
    "    except KeyError:\n",
    "        trackers = 0\n",
    "    try:\n",
    "        non_trackers = tracker_ratio[0]\n",
    "    except KeyError:\n",
    "        non_trackers = 0\n",
    "    return [column, trackers, non_trackers]"
   ],
   "metadata": {
    "collapsed": false,
    "pycharm": {
     "name": "#%%\n"
    }
   }
  },
  {
   "cell_type": "code",
   "execution_count": 3,
   "outputs": [],
   "source": [
    "train_data = pd.read_parquet(\"../data/processed/chrome/08_12_2022/train_set_01_processed.parquet.gzip\")\n",
    "# test_data = pd.read_parquet(\"../data/processed/test_set_0.parquet.gzip\")\n",
    "# X_train, y_train = train_data.iloc[:, :-1], train_data[[\"tracker\"]]\n",
    "# X_test, y_test = test_data.iloc[:, :-1], test_data[[\"tracker\"]]"
   ],
   "metadata": {
    "collapsed": false,
    "pycharm": {
     "name": "#%%\n"
    }
   }
  },
  {
   "cell_type": "code",
   "execution_count": 69,
   "outputs": [
    {
     "data": {
      "text/plain": "                                       hostname  \\\n0                     tpc.googlesyndication.com   \n1                            res.cdn.office.net   \n2                                www.google.com   \n3       ipv4-c113-lhr004-ix.1.oca.nflxvideo.net   \n4                                      shimo.im   \n...                                         ...   \n253781                           www.criteo.com   \n253782                             ads.adfox.ru   \n253783                  synostatic.synology.com   \n253784                                tenor.com   \n253785                               r.bing.com   \n\n                                                 pathname  \\\n0       /pagead/js/r20220810/r20110914/client/one_clic...   \n1       /officehub/bundles/staying-aware.b8b088b355c55...   \n2                                       /ads/ga-audiences   \n3                                    /speedtest/range/0-0   \n4                                                       /   \n...                                                   ...   \n253781  /wp-content/uploads/2021/01/ss-logo-Lamps-Plus...   \n253782                                      /260122/event   \n253783                     /font/inter/inter-w400-6.woff2   \n253784                                    /opensearch.xml   \n253785              /rp/l_yPzUao8Z_UiytFemwYCOTvU_U.br.js   \n\n                    filetype                                        filename  \\\n0                         js            one_click_handler_one_afma_fy2021.js   \n1                         js  staying-aware.b8b088b355c55b4ea7d6.chunk.v6.js   \n2          /ads/ga-audiences                                    ga-audiences   \n3       /speedtest/range/0-0                                             0-0   \n4                          /                                                   \n...                      ...                                             ...   \n253781                   png                          ss-logo-Lamps-Plus.png   \n253782         /260122/event                                           event   \n253783                 woff2                              inter-w400-6.woff2   \n253784                   xml                                  opensearch.xml   \n253785                    js               l_yPzUao8Z_UiytFemwYCOTvU_U.br.js   \n\n          pragma                    content-type  \\\n0            NaN  text/javascript; charset=utf-8   \n1            NaN          application/javascript   \n2       no-cache                       image/gif   \n3       no-cache                      image/jpeg   \n4            NaN        text/html; charset=utf-8   \n...          ...                             ...   \n253781       NaN                       image/png   \n253782  no-cache                       image/gif   \n253783       NaN             binary/octet-stream   \n253784       NaN                 application/xml   \n253785       NaN  text/javascript; charset=utf-8   \n\n                        last-modified accept-ranges  \\\n0       sun, 17 may 1998 03:00:00 gmt         bytes   \n1       mon, 08 aug 2022 21:56:59 gmt         bytes   \n2       sun, 17 may 1998 03:00:00 gmt         bytes   \n3       thu, 11 aug 2022 21:41:37 gmt         bytes   \n4       thu, 11 aug 2022 21:41:37 gmt         bytes   \n...                               ...           ...   \n253781  fri, 12 nov 2021 05:09:38 gmt         bytes   \n253782  fri, 12 aug 2022 09:22:13 gmt         bytes   \n253783  mon, 20 dec 2021 02:24:19 gmt         bytes   \n253784  thu, 26 apr 2018 18:25:27 gmt         bytes   \n253785  wed, 03 aug 2022 12:04:53 gmt         bytes   \n\n                                      etag  \\\n0                     15601544113783900868   \n1                        0x8da7b64a03a8ae5   \n2                     12862140795212465669   \n3                        0x8da7b64a03a8ae5   \n4                        0x8da7b64a03a8ae5   \n...                                    ...   \n253781                     \"618df712-2509\"   \n253782                12862140795212465669   \n253783  \"4abfa4888190370d347034f9fa43c804\"   \n253784                 w/\"29a-1630333f5d8\"   \n253785                   0x8da754860160d55   \n\n                                                      p3p  ... x-b3-sampled  \\\n0       policyref=\"https://www.googleadservices.com/pa...  ...          NaN   \n1                                                     NaN  ...          NaN   \n2       policyref=\"https://www.googleadservices.com/pa...  ...          NaN   \n3                                                     NaN  ...          NaN   \n4                                                     NaN  ...          NaN   \n...                                                   ...  ...          ...   \n253781                                                NaN  ...          NaN   \n253782                                                NaN  ...          NaN   \n253783                                                NaN  ...          NaN   \n253784                                                NaN  ...          NaN   \n253785                                                NaN  ...          NaN   \n\n       x-b3-spanid x-hubspot-correlation-id x-hs-target-asset x-hostname  \\\n0              NaN                      NaN               NaN        NaN   \n1              NaN                      NaN               NaN        NaN   \n2              NaN                      NaN               NaN        NaN   \n3              NaN                      NaN               NaN        NaN   \n4              NaN                      NaN               NaN        NaN   \n...            ...                      ...               ...        ...   \n253781         NaN                      NaN               NaN        NaN   \n253782         NaN                      NaN               NaN        NaN   \n253783         NaN                      NaN               NaN        NaN   \n253784         NaN                      NaN               NaN        NaN   \n253785         NaN                      NaN               NaN        NaN   \n\n       x-cdn-pop x-cdn-pop-ip header_count comb_col_non_tracker  \\\n0            NaN          NaN           17                    0   \n1            NaN          NaN           14                    1   \n2            NaN          NaN           13                    0   \n3            NaN          NaN           10                    1   \n4            NaN          NaN           10                    0   \n...          ...          ...          ...                  ...   \n253781       NaN          NaN           22                    1   \n253782       NaN          NaN            8                    0   \n253783       NaN          NaN           16                    0   \n253784       NaN          NaN           22                    1   \n253785       NaN          NaN           22                    1   \n\n        comb_col_tracker  \n0                      0  \n1                      0  \n2                      0  \n3                      0  \n4                      0  \n...                  ...  \n253781                 0  \n253782                 0  \n253783                 0  \n253784                 0  \n253785                 0  \n\n[253786 rows x 158 columns]",
      "text/html": "<div>\n<style scoped>\n    .dataframe tbody tr th:only-of-type {\n        vertical-align: middle;\n    }\n\n    .dataframe tbody tr th {\n        vertical-align: top;\n    }\n\n    .dataframe thead th {\n        text-align: right;\n    }\n</style>\n<table border=\"1\" class=\"dataframe\">\n  <thead>\n    <tr style=\"text-align: right;\">\n      <th></th>\n      <th>hostname</th>\n      <th>pathname</th>\n      <th>filetype</th>\n      <th>filename</th>\n      <th>pragma</th>\n      <th>content-type</th>\n      <th>last-modified</th>\n      <th>accept-ranges</th>\n      <th>etag</th>\n      <th>p3p</th>\n      <th>...</th>\n      <th>x-b3-sampled</th>\n      <th>x-b3-spanid</th>\n      <th>x-hubspot-correlation-id</th>\n      <th>x-hs-target-asset</th>\n      <th>x-hostname</th>\n      <th>x-cdn-pop</th>\n      <th>x-cdn-pop-ip</th>\n      <th>header_count</th>\n      <th>comb_col_non_tracker</th>\n      <th>comb_col_tracker</th>\n    </tr>\n  </thead>\n  <tbody>\n    <tr>\n      <th>0</th>\n      <td>tpc.googlesyndication.com</td>\n      <td>/pagead/js/r20220810/r20110914/client/one_clic...</td>\n      <td>js</td>\n      <td>one_click_handler_one_afma_fy2021.js</td>\n      <td>NaN</td>\n      <td>text/javascript; charset=utf-8</td>\n      <td>sun, 17 may 1998 03:00:00 gmt</td>\n      <td>bytes</td>\n      <td>15601544113783900868</td>\n      <td>policyref=\"https://www.googleadservices.com/pa...</td>\n      <td>...</td>\n      <td>NaN</td>\n      <td>NaN</td>\n      <td>NaN</td>\n      <td>NaN</td>\n      <td>NaN</td>\n      <td>NaN</td>\n      <td>NaN</td>\n      <td>17</td>\n      <td>0</td>\n      <td>0</td>\n    </tr>\n    <tr>\n      <th>1</th>\n      <td>res.cdn.office.net</td>\n      <td>/officehub/bundles/staying-aware.b8b088b355c55...</td>\n      <td>js</td>\n      <td>staying-aware.b8b088b355c55b4ea7d6.chunk.v6.js</td>\n      <td>NaN</td>\n      <td>application/javascript</td>\n      <td>mon, 08 aug 2022 21:56:59 gmt</td>\n      <td>bytes</td>\n      <td>0x8da7b64a03a8ae5</td>\n      <td>NaN</td>\n      <td>...</td>\n      <td>NaN</td>\n      <td>NaN</td>\n      <td>NaN</td>\n      <td>NaN</td>\n      <td>NaN</td>\n      <td>NaN</td>\n      <td>NaN</td>\n      <td>14</td>\n      <td>1</td>\n      <td>0</td>\n    </tr>\n    <tr>\n      <th>2</th>\n      <td>www.google.com</td>\n      <td>/ads/ga-audiences</td>\n      <td>/ads/ga-audiences</td>\n      <td>ga-audiences</td>\n      <td>no-cache</td>\n      <td>image/gif</td>\n      <td>sun, 17 may 1998 03:00:00 gmt</td>\n      <td>bytes</td>\n      <td>12862140795212465669</td>\n      <td>policyref=\"https://www.googleadservices.com/pa...</td>\n      <td>...</td>\n      <td>NaN</td>\n      <td>NaN</td>\n      <td>NaN</td>\n      <td>NaN</td>\n      <td>NaN</td>\n      <td>NaN</td>\n      <td>NaN</td>\n      <td>13</td>\n      <td>0</td>\n      <td>0</td>\n    </tr>\n    <tr>\n      <th>3</th>\n      <td>ipv4-c113-lhr004-ix.1.oca.nflxvideo.net</td>\n      <td>/speedtest/range/0-0</td>\n      <td>/speedtest/range/0-0</td>\n      <td>0-0</td>\n      <td>no-cache</td>\n      <td>image/jpeg</td>\n      <td>thu, 11 aug 2022 21:41:37 gmt</td>\n      <td>bytes</td>\n      <td>0x8da7b64a03a8ae5</td>\n      <td>NaN</td>\n      <td>...</td>\n      <td>NaN</td>\n      <td>NaN</td>\n      <td>NaN</td>\n      <td>NaN</td>\n      <td>NaN</td>\n      <td>NaN</td>\n      <td>NaN</td>\n      <td>10</td>\n      <td>1</td>\n      <td>0</td>\n    </tr>\n    <tr>\n      <th>4</th>\n      <td>shimo.im</td>\n      <td>/</td>\n      <td>/</td>\n      <td></td>\n      <td>NaN</td>\n      <td>text/html; charset=utf-8</td>\n      <td>thu, 11 aug 2022 21:41:37 gmt</td>\n      <td>bytes</td>\n      <td>0x8da7b64a03a8ae5</td>\n      <td>NaN</td>\n      <td>...</td>\n      <td>NaN</td>\n      <td>NaN</td>\n      <td>NaN</td>\n      <td>NaN</td>\n      <td>NaN</td>\n      <td>NaN</td>\n      <td>NaN</td>\n      <td>10</td>\n      <td>0</td>\n      <td>0</td>\n    </tr>\n    <tr>\n      <th>...</th>\n      <td>...</td>\n      <td>...</td>\n      <td>...</td>\n      <td>...</td>\n      <td>...</td>\n      <td>...</td>\n      <td>...</td>\n      <td>...</td>\n      <td>...</td>\n      <td>...</td>\n      <td>...</td>\n      <td>...</td>\n      <td>...</td>\n      <td>...</td>\n      <td>...</td>\n      <td>...</td>\n      <td>...</td>\n      <td>...</td>\n      <td>...</td>\n      <td>...</td>\n      <td>...</td>\n    </tr>\n    <tr>\n      <th>253781</th>\n      <td>www.criteo.com</td>\n      <td>/wp-content/uploads/2021/01/ss-logo-Lamps-Plus...</td>\n      <td>png</td>\n      <td>ss-logo-Lamps-Plus.png</td>\n      <td>NaN</td>\n      <td>image/png</td>\n      <td>fri, 12 nov 2021 05:09:38 gmt</td>\n      <td>bytes</td>\n      <td>\"618df712-2509\"</td>\n      <td>NaN</td>\n      <td>...</td>\n      <td>NaN</td>\n      <td>NaN</td>\n      <td>NaN</td>\n      <td>NaN</td>\n      <td>NaN</td>\n      <td>NaN</td>\n      <td>NaN</td>\n      <td>22</td>\n      <td>1</td>\n      <td>0</td>\n    </tr>\n    <tr>\n      <th>253782</th>\n      <td>ads.adfox.ru</td>\n      <td>/260122/event</td>\n      <td>/260122/event</td>\n      <td>event</td>\n      <td>no-cache</td>\n      <td>image/gif</td>\n      <td>fri, 12 aug 2022 09:22:13 gmt</td>\n      <td>bytes</td>\n      <td>12862140795212465669</td>\n      <td>NaN</td>\n      <td>...</td>\n      <td>NaN</td>\n      <td>NaN</td>\n      <td>NaN</td>\n      <td>NaN</td>\n      <td>NaN</td>\n      <td>NaN</td>\n      <td>NaN</td>\n      <td>8</td>\n      <td>0</td>\n      <td>0</td>\n    </tr>\n    <tr>\n      <th>253783</th>\n      <td>synostatic.synology.com</td>\n      <td>/font/inter/inter-w400-6.woff2</td>\n      <td>woff2</td>\n      <td>inter-w400-6.woff2</td>\n      <td>NaN</td>\n      <td>binary/octet-stream</td>\n      <td>mon, 20 dec 2021 02:24:19 gmt</td>\n      <td>bytes</td>\n      <td>\"4abfa4888190370d347034f9fa43c804\"</td>\n      <td>NaN</td>\n      <td>...</td>\n      <td>NaN</td>\n      <td>NaN</td>\n      <td>NaN</td>\n      <td>NaN</td>\n      <td>NaN</td>\n      <td>NaN</td>\n      <td>NaN</td>\n      <td>16</td>\n      <td>0</td>\n      <td>0</td>\n    </tr>\n    <tr>\n      <th>253784</th>\n      <td>tenor.com</td>\n      <td>/opensearch.xml</td>\n      <td>xml</td>\n      <td>opensearch.xml</td>\n      <td>NaN</td>\n      <td>application/xml</td>\n      <td>thu, 26 apr 2018 18:25:27 gmt</td>\n      <td>bytes</td>\n      <td>w/\"29a-1630333f5d8\"</td>\n      <td>NaN</td>\n      <td>...</td>\n      <td>NaN</td>\n      <td>NaN</td>\n      <td>NaN</td>\n      <td>NaN</td>\n      <td>NaN</td>\n      <td>NaN</td>\n      <td>NaN</td>\n      <td>22</td>\n      <td>1</td>\n      <td>0</td>\n    </tr>\n    <tr>\n      <th>253785</th>\n      <td>r.bing.com</td>\n      <td>/rp/l_yPzUao8Z_UiytFemwYCOTvU_U.br.js</td>\n      <td>js</td>\n      <td>l_yPzUao8Z_UiytFemwYCOTvU_U.br.js</td>\n      <td>NaN</td>\n      <td>text/javascript; charset=utf-8</td>\n      <td>wed, 03 aug 2022 12:04:53 gmt</td>\n      <td>bytes</td>\n      <td>0x8da754860160d55</td>\n      <td>NaN</td>\n      <td>...</td>\n      <td>NaN</td>\n      <td>NaN</td>\n      <td>NaN</td>\n      <td>NaN</td>\n      <td>NaN</td>\n      <td>NaN</td>\n      <td>NaN</td>\n      <td>22</td>\n      <td>1</td>\n      <td>0</td>\n    </tr>\n  </tbody>\n</table>\n<p>253786 rows × 158 columns</p>\n</div>"
     },
     "execution_count": 69,
     "metadata": {},
     "output_type": "execute_result"
    }
   ],
   "source": [
    "train_data"
   ],
   "metadata": {
    "collapsed": false,
    "pycharm": {
     "name": "#%%\n"
    }
   }
  },
  {
   "cell_type": "code",
   "execution_count": 4,
   "outputs": [],
   "source": [
    "number_of_elements_reduced = np.array(\n",
    "    [variance_per_column_2(column) for column in train_data.iloc[:, 4:-4].columns]\n",
    ")\n",
    "summary_table = pd.DataFrame(\n",
    "    number_of_elements_reduced, columns=[\"header_name\", \"trackers\", \"non_trackers\"]\n",
    ")\n",
    "summary_table[\"trackers\"] = summary_table[\"trackers\"].astype(\"Int32\")\n",
    "summary_table[\"non_trackers\"] = summary_table[\"non_trackers\"].astype(\"float32\")"
   ],
   "metadata": {
    "collapsed": false,
    "pycharm": {
     "name": "#%%\n"
    }
   }
  },
  {
   "cell_type": "code",
   "execution_count": 82,
   "outputs": [
    {
     "data": {
      "text/plain": "                  header_name  trackers  non_trackers\n0                      pragma     20676        7902.0\n1                content-type     60371      185274.0\n2               last-modified     25139      150164.0\n3               accept-ranges     13512      113677.0\n4                        etag     16516      126917.0\n..                        ...       ...           ...\n146  x-hubspot-correlation-id       127         267.0\n147         x-hs-target-asset        63          76.0\n148                x-hostname       115          61.0\n149                 x-cdn-pop        17         122.0\n150              x-cdn-pop-ip        17         122.0\n\n[151 rows x 3 columns]",
      "text/html": "<div>\n<style scoped>\n    .dataframe tbody tr th:only-of-type {\n        vertical-align: middle;\n    }\n\n    .dataframe tbody tr th {\n        vertical-align: top;\n    }\n\n    .dataframe thead th {\n        text-align: right;\n    }\n</style>\n<table border=\"1\" class=\"dataframe\">\n  <thead>\n    <tr style=\"text-align: right;\">\n      <th></th>\n      <th>header_name</th>\n      <th>trackers</th>\n      <th>non_trackers</th>\n    </tr>\n  </thead>\n  <tbody>\n    <tr>\n      <th>0</th>\n      <td>pragma</td>\n      <td>20676</td>\n      <td>7902.0</td>\n    </tr>\n    <tr>\n      <th>1</th>\n      <td>content-type</td>\n      <td>60371</td>\n      <td>185274.0</td>\n    </tr>\n    <tr>\n      <th>2</th>\n      <td>last-modified</td>\n      <td>25139</td>\n      <td>150164.0</td>\n    </tr>\n    <tr>\n      <th>3</th>\n      <td>accept-ranges</td>\n      <td>13512</td>\n      <td>113677.0</td>\n    </tr>\n    <tr>\n      <th>4</th>\n      <td>etag</td>\n      <td>16516</td>\n      <td>126917.0</td>\n    </tr>\n    <tr>\n      <th>...</th>\n      <td>...</td>\n      <td>...</td>\n      <td>...</td>\n    </tr>\n    <tr>\n      <th>146</th>\n      <td>x-hubspot-correlation-id</td>\n      <td>127</td>\n      <td>267.0</td>\n    </tr>\n    <tr>\n      <th>147</th>\n      <td>x-hs-target-asset</td>\n      <td>63</td>\n      <td>76.0</td>\n    </tr>\n    <tr>\n      <th>148</th>\n      <td>x-hostname</td>\n      <td>115</td>\n      <td>61.0</td>\n    </tr>\n    <tr>\n      <th>149</th>\n      <td>x-cdn-pop</td>\n      <td>17</td>\n      <td>122.0</td>\n    </tr>\n    <tr>\n      <th>150</th>\n      <td>x-cdn-pop-ip</td>\n      <td>17</td>\n      <td>122.0</td>\n    </tr>\n  </tbody>\n</table>\n<p>151 rows × 3 columns</p>\n</div>"
     },
     "execution_count": 82,
     "metadata": {},
     "output_type": "execute_result"
    }
   ],
   "source": [
    "summary_table"
   ],
   "metadata": {
    "collapsed": false,
    "pycharm": {
     "name": "#%%\n"
    }
   }
  },
  {
   "cell_type": "code",
   "execution_count": 5,
   "outputs": [],
   "source": [
    "def test_new_categories_update(element):\n",
    "    categories = train_data[element].astype(\"category\").cat.categories.values.tolist()\n",
    "    try:\n",
    "        np.array(categories, dtype=\"int64\")\n",
    "        return {element: \"Int64\"}\n",
    "    except (ValueError, OverflowError):\n",
    "        return None"
   ],
   "metadata": {
    "collapsed": false,
    "pycharm": {
     "name": "#%%\n"
    }
   }
  },
  {
   "cell_type": "code",
   "execution_count": 6,
   "outputs": [],
   "source": [
    "columns_as_category = {i: \"category\" for i in train_data.columns.values[:-4]}\n",
    "column_test = train_data.columns.values[4:-4].tolist()\n",
    "braze2 = [test_new_categories_update(element) for element in column_test]\n",
    "\n",
    "braze2 = list(filter(lambda x: type(x) is dict, braze2))\n",
    "braze2 = {k: v for d in braze2 for k, v in d.items()}\n",
    "\n",
    "columns_as_category.update(braze2)\n",
    "train_data = train_data.astype(columns_as_category)"
   ],
   "metadata": {
    "collapsed": false,
    "pycharm": {
     "name": "#%%\n"
    }
   }
  },
  {
   "cell_type": "code",
   "execution_count": 7,
   "outputs": [],
   "source": [
    "list_of_categorical_cols = list(train_data.iloc[:, 4:-4].select_dtypes('category').columns.values.tolist())\n",
    "list_of_integer_cols = list(train_data.iloc[:, 4:-4].select_dtypes('Int64').columns.values.tolist())\n",
    "\n",
    "number_of_trackers = len(train_data[train_data['tracker'] == 1])\n",
    "number_of_non_trackers = len(train_data[train_data['tracker'] == 0])\n",
    "summary_table['ratio_tracker'] = summary_table['trackers'] / number_of_trackers\n",
    "summary_table['ratio_non_tracker'] = summary_table['non_trackers'] / number_of_non_trackers\n",
    "\n",
    "impute_col_list_t = summary_table[summary_table['ratio_tracker'] > 0.4].header_name.values.tolist()\n",
    "impute_col_list_nt = summary_table[summary_table['ratio_non_tracker'] > 0.4].header_name.values.tolist()"
   ],
   "metadata": {
    "collapsed": false,
    "pycharm": {
     "name": "#%%\n"
    }
   }
  },
  {
   "cell_type": "code",
   "execution_count": 8,
   "outputs": [],
   "source": [
    "def impute_value(element, classification):\n",
    "    if element in list_of_integer_cols:\n",
    "        train_data.loc[train_data['tracker'] == classification, element] = train_data.loc[train_data['tracker'] ==\n",
    "                                                                                          classification, element]\\\n",
    "            .fillna(int(train_data[train_data['tracker']==classification][element].median()))\n",
    "\n",
    "    if element in list_of_categorical_cols:\n",
    "        train_data.loc[train_data['tracker'] == classification, element] = train_data.loc[train_data['tracker'] ==\n",
    "                                                                                          classification, element]\\\n",
    "            .fillna(train_data[train_data['tracker']==classification][element].mode().iloc[0])"
   ],
   "metadata": {
    "collapsed": false,
    "pycharm": {
     "name": "#%%\n"
    }
   }
  },
  {
   "cell_type": "code",
   "execution_count": 9,
   "outputs": [],
   "source": [
    "for header in impute_col_list_t:\n",
    "    impute_value(header, 0)\n",
    "\n",
    "for header in impute_col_list_t:\n",
    "    impute_value(header, 1)\n",
    "\n",
    "for header in impute_col_list_nt:\n",
    "    impute_value(header, 1)\n",
    "\n",
    "for header in impute_col_list_nt:\n",
    "    impute_value(header, 0)"
   ],
   "metadata": {
    "collapsed": false,
    "pycharm": {
     "name": "#%%\n"
    }
   }
  },
  {
   "cell_type": "markdown",
   "source": [
    "Train dummy classifier"
   ],
   "metadata": {
    "collapsed": false,
    "pycharm": {
     "name": "#%% md\n"
    }
   }
  },
  {
   "cell_type": "code",
   "execution_count": 10,
   "outputs": [],
   "source": [
    "y_train = train_data[['tracker']]"
   ],
   "metadata": {
    "collapsed": false,
    "pycharm": {
     "name": "#%%\n"
    }
   }
  },
  {
   "cell_type": "code",
   "execution_count": 11,
   "outputs": [],
   "source": [
    "train_data.drop('tracker', axis=1, inplace=True)"
   ],
   "metadata": {
    "collapsed": false,
    "pycharm": {
     "name": "#%%\n"
    }
   }
  },
  {
   "cell_type": "code",
   "execution_count": 12,
   "outputs": [],
   "source": [
    "X_train = train_data"
   ],
   "metadata": {
    "collapsed": false,
    "pycharm": {
     "name": "#%%\n"
    }
   }
  },
  {
   "cell_type": "code",
   "execution_count": 98,
   "outputs": [
    {
     "name": "stdout",
     "output_type": "stream",
     "text": [
      "CPU times: user 23.7 ms, sys: 1.14 ms, total: 24.8 ms\n",
      "Wall time: 24.7 ms\n"
     ]
    },
    {
     "data": {
      "text/plain": "0.4994050105206749"
     },
     "execution_count": 98,
     "metadata": {},
     "output_type": "execute_result"
    }
   ],
   "source": [
    "%%time\n",
    "dummy_clf = DummyClassifier(strategy=\"uniform\", random_state=10)\n",
    "dummy_clf.fit(X_train, y_train)\n",
    "dummy_clf.score(X_train, y_train)"
   ],
   "metadata": {
    "collapsed": false,
    "pycharm": {
     "name": "#%%\n"
    }
   }
  },
  {
   "cell_type": "code",
   "execution_count": 60,
   "outputs": [
    {
     "data": {
      "text/plain": "tracker    int32\ndtype: object"
     },
     "execution_count": 60,
     "metadata": {},
     "output_type": "execute_result"
    }
   ],
   "source": [
    "y_train.dtypes"
   ],
   "metadata": {
    "collapsed": false,
    "pycharm": {
     "name": "#%%\n"
    }
   }
  },
  {
   "cell_type": "code",
   "execution_count": 64,
   "outputs": [],
   "source": [
    "model = xgb.XGBClassifier()"
   ],
   "metadata": {
    "collapsed": false,
    "pycharm": {
     "name": "#%%\n"
    }
   }
  },
  {
   "cell_type": "code",
   "execution_count": 15,
   "outputs": [],
   "source": [
    "X_train_2 = X_train.dropna(axis=1, how='any').iloc[:, 4:]"
   ],
   "metadata": {
    "collapsed": false,
    "pycharm": {
     "name": "#%%\n"
    }
   }
  },
  {
   "cell_type": "code",
   "execution_count": 65,
   "outputs": [
    {
     "name": "stderr",
     "output_type": "stream",
     "text": [
      "/Users/wolfrieder/miniconda3/envs/code/lib/python3.9/site-packages/xgboost/sklearn.py:1224: UserWarning: The use of label encoder in XGBClassifier is deprecated and will be removed in a future release. To remove this warning, do the following: 1) Pass option use_label_encoder=False when constructing XGBClassifier object; and 2) Encode your labels (y) as integers starting with 0, i.e. 0, 1, 2, ..., [num_class - 1].\n",
      "  warnings.warn(label_encoder_deprecation_msg, UserWarning)\n"
     ]
    },
    {
     "ename": "ValueError",
     "evalue": "DataFrame.dtypes for data must be int, float, bool or category.  When\ncategorical type is supplied, DMatrix parameter `enable_categorical` must\nbe set to `True`. Invalid columns:content-length",
     "output_type": "error",
     "traceback": [
      "\u001B[0;31m---------------------------------------------------------------------------\u001B[0m",
      "\u001B[0;31mValueError\u001B[0m                                Traceback (most recent call last)",
      "Input \u001B[0;32mIn [65]\u001B[0m, in \u001B[0;36m<cell line: 1>\u001B[0;34m()\u001B[0m\n\u001B[0;32m----> 1\u001B[0m \u001B[43mmodel\u001B[49m\u001B[38;5;241;43m.\u001B[39;49m\u001B[43mfit\u001B[49m\u001B[43m(\u001B[49m\u001B[43mX_train_2\u001B[49m\u001B[43m,\u001B[49m\u001B[43m \u001B[49m\u001B[43mtest\u001B[49m\u001B[43m)\u001B[49m\n",
      "File \u001B[0;32m~/miniconda3/envs/code/lib/python3.9/site-packages/xgboost/core.py:506\u001B[0m, in \u001B[0;36m_deprecate_positional_args.<locals>.inner_f\u001B[0;34m(*args, **kwargs)\u001B[0m\n\u001B[1;32m    504\u001B[0m \u001B[38;5;28;01mfor\u001B[39;00m k, arg \u001B[38;5;129;01min\u001B[39;00m \u001B[38;5;28mzip\u001B[39m(sig\u001B[38;5;241m.\u001B[39mparameters, args):\n\u001B[1;32m    505\u001B[0m     kwargs[k] \u001B[38;5;241m=\u001B[39m arg\n\u001B[0;32m--> 506\u001B[0m \u001B[38;5;28;01mreturn\u001B[39;00m \u001B[43mf\u001B[49m\u001B[43m(\u001B[49m\u001B[38;5;241;43m*\u001B[39;49m\u001B[38;5;241;43m*\u001B[39;49m\u001B[43mkwargs\u001B[49m\u001B[43m)\u001B[49m\n",
      "File \u001B[0;32m~/miniconda3/envs/code/lib/python3.9/site-packages/xgboost/sklearn.py:1231\u001B[0m, in \u001B[0;36mXGBClassifier.fit\u001B[0;34m(self, X, y, sample_weight, base_margin, eval_set, eval_metric, early_stopping_rounds, verbose, xgb_model, sample_weight_eval_set, base_margin_eval_set, feature_weights, callbacks)\u001B[0m\n\u001B[1;32m   1228\u001B[0m     label_transform \u001B[38;5;241m=\u001B[39m \u001B[38;5;28;01mlambda\u001B[39;00m x: x\n\u001B[1;32m   1230\u001B[0m model, feval, params \u001B[38;5;241m=\u001B[39m \u001B[38;5;28mself\u001B[39m\u001B[38;5;241m.\u001B[39m_configure_fit(xgb_model, eval_metric, params)\n\u001B[0;32m-> 1231\u001B[0m train_dmatrix, evals \u001B[38;5;241m=\u001B[39m \u001B[43m_wrap_evaluation_matrices\u001B[49m\u001B[43m(\u001B[49m\n\u001B[1;32m   1232\u001B[0m \u001B[43m    \u001B[49m\u001B[43mmissing\u001B[49m\u001B[38;5;241;43m=\u001B[39;49m\u001B[38;5;28;43mself\u001B[39;49m\u001B[38;5;241;43m.\u001B[39;49m\u001B[43mmissing\u001B[49m\u001B[43m,\u001B[49m\n\u001B[1;32m   1233\u001B[0m \u001B[43m    \u001B[49m\u001B[43mX\u001B[49m\u001B[38;5;241;43m=\u001B[39;49m\u001B[43mX\u001B[49m\u001B[43m,\u001B[49m\n\u001B[1;32m   1234\u001B[0m \u001B[43m    \u001B[49m\u001B[43my\u001B[49m\u001B[38;5;241;43m=\u001B[39;49m\u001B[43my\u001B[49m\u001B[43m,\u001B[49m\n\u001B[1;32m   1235\u001B[0m \u001B[43m    \u001B[49m\u001B[43mgroup\u001B[49m\u001B[38;5;241;43m=\u001B[39;49m\u001B[38;5;28;43;01mNone\u001B[39;49;00m\u001B[43m,\u001B[49m\n\u001B[1;32m   1236\u001B[0m \u001B[43m    \u001B[49m\u001B[43mqid\u001B[49m\u001B[38;5;241;43m=\u001B[39;49m\u001B[38;5;28;43;01mNone\u001B[39;49;00m\u001B[43m,\u001B[49m\n\u001B[1;32m   1237\u001B[0m \u001B[43m    \u001B[49m\u001B[43msample_weight\u001B[49m\u001B[38;5;241;43m=\u001B[39;49m\u001B[43msample_weight\u001B[49m\u001B[43m,\u001B[49m\n\u001B[1;32m   1238\u001B[0m \u001B[43m    \u001B[49m\u001B[43mbase_margin\u001B[49m\u001B[38;5;241;43m=\u001B[39;49m\u001B[43mbase_margin\u001B[49m\u001B[43m,\u001B[49m\n\u001B[1;32m   1239\u001B[0m \u001B[43m    \u001B[49m\u001B[43mfeature_weights\u001B[49m\u001B[38;5;241;43m=\u001B[39;49m\u001B[43mfeature_weights\u001B[49m\u001B[43m,\u001B[49m\n\u001B[1;32m   1240\u001B[0m \u001B[43m    \u001B[49m\u001B[43meval_set\u001B[49m\u001B[38;5;241;43m=\u001B[39;49m\u001B[43meval_set\u001B[49m\u001B[43m,\u001B[49m\n\u001B[1;32m   1241\u001B[0m \u001B[43m    \u001B[49m\u001B[43msample_weight_eval_set\u001B[49m\u001B[38;5;241;43m=\u001B[39;49m\u001B[43msample_weight_eval_set\u001B[49m\u001B[43m,\u001B[49m\n\u001B[1;32m   1242\u001B[0m \u001B[43m    \u001B[49m\u001B[43mbase_margin_eval_set\u001B[49m\u001B[38;5;241;43m=\u001B[39;49m\u001B[43mbase_margin_eval_set\u001B[49m\u001B[43m,\u001B[49m\n\u001B[1;32m   1243\u001B[0m \u001B[43m    \u001B[49m\u001B[43meval_group\u001B[49m\u001B[38;5;241;43m=\u001B[39;49m\u001B[38;5;28;43;01mNone\u001B[39;49;00m\u001B[43m,\u001B[49m\n\u001B[1;32m   1244\u001B[0m \u001B[43m    \u001B[49m\u001B[43meval_qid\u001B[49m\u001B[38;5;241;43m=\u001B[39;49m\u001B[38;5;28;43;01mNone\u001B[39;49;00m\u001B[43m,\u001B[49m\n\u001B[1;32m   1245\u001B[0m \u001B[43m    \u001B[49m\u001B[43mcreate_dmatrix\u001B[49m\u001B[38;5;241;43m=\u001B[39;49m\u001B[38;5;28;43;01mlambda\u001B[39;49;00m\u001B[43m \u001B[49m\u001B[38;5;241;43m*\u001B[39;49m\u001B[38;5;241;43m*\u001B[39;49m\u001B[43mkwargs\u001B[49m\u001B[43m:\u001B[49m\u001B[43m \u001B[49m\u001B[43mDMatrix\u001B[49m\u001B[43m(\u001B[49m\u001B[43mnthread\u001B[49m\u001B[38;5;241;43m=\u001B[39;49m\u001B[38;5;28;43mself\u001B[39;49m\u001B[38;5;241;43m.\u001B[39;49m\u001B[43mn_jobs\u001B[49m\u001B[43m,\u001B[49m\u001B[43m \u001B[49m\u001B[38;5;241;43m*\u001B[39;49m\u001B[38;5;241;43m*\u001B[39;49m\u001B[43mkwargs\u001B[49m\u001B[43m)\u001B[49m\u001B[43m,\u001B[49m\n\u001B[1;32m   1246\u001B[0m \u001B[43m    \u001B[49m\u001B[43menable_categorical\u001B[49m\u001B[38;5;241;43m=\u001B[39;49m\u001B[38;5;28;43mself\u001B[39;49m\u001B[38;5;241;43m.\u001B[39;49m\u001B[43menable_categorical\u001B[49m\u001B[43m,\u001B[49m\n\u001B[1;32m   1247\u001B[0m \u001B[43m    \u001B[49m\u001B[43mlabel_transform\u001B[49m\u001B[38;5;241;43m=\u001B[39;49m\u001B[43mlabel_transform\u001B[49m\u001B[43m,\u001B[49m\n\u001B[1;32m   1248\u001B[0m \u001B[43m\u001B[49m\u001B[43m)\u001B[49m\n\u001B[1;32m   1250\u001B[0m \u001B[38;5;28mself\u001B[39m\u001B[38;5;241m.\u001B[39m_Booster \u001B[38;5;241m=\u001B[39m train(\n\u001B[1;32m   1251\u001B[0m     params,\n\u001B[1;32m   1252\u001B[0m     train_dmatrix,\n\u001B[0;32m   (...)\u001B[0m\n\u001B[1;32m   1261\u001B[0m     callbacks\u001B[38;5;241m=\u001B[39mcallbacks,\n\u001B[1;32m   1262\u001B[0m )\n\u001B[1;32m   1264\u001B[0m \u001B[38;5;28;01mif\u001B[39;00m \u001B[38;5;129;01mnot\u001B[39;00m callable(\u001B[38;5;28mself\u001B[39m\u001B[38;5;241m.\u001B[39mobjective):\n",
      "File \u001B[0;32m~/miniconda3/envs/code/lib/python3.9/site-packages/xgboost/sklearn.py:286\u001B[0m, in \u001B[0;36m_wrap_evaluation_matrices\u001B[0;34m(missing, X, y, group, qid, sample_weight, base_margin, feature_weights, eval_set, sample_weight_eval_set, base_margin_eval_set, eval_group, eval_qid, create_dmatrix, enable_categorical, label_transform)\u001B[0m\n\u001B[1;32m    265\u001B[0m \u001B[38;5;28;01mdef\u001B[39;00m \u001B[38;5;21m_wrap_evaluation_matrices\u001B[39m(\n\u001B[1;32m    266\u001B[0m     missing: \u001B[38;5;28mfloat\u001B[39m,\n\u001B[1;32m    267\u001B[0m     X: Any,\n\u001B[0;32m   (...)\u001B[0m\n\u001B[1;32m    281\u001B[0m     label_transform: Callable \u001B[38;5;241m=\u001B[39m \u001B[38;5;28;01mlambda\u001B[39;00m x: x,\n\u001B[1;32m    282\u001B[0m ) \u001B[38;5;241m-\u001B[39m\u001B[38;5;241m>\u001B[39m Tuple[Any, Optional[List[Tuple[Any, \u001B[38;5;28mstr\u001B[39m]]]]:\n\u001B[1;32m    283\u001B[0m     \u001B[38;5;124;03m\"\"\"Convert array_like evaluation matrices into DMatrix.  Perform validation on the way.\u001B[39;00m\n\u001B[1;32m    284\u001B[0m \n\u001B[1;32m    285\u001B[0m \u001B[38;5;124;03m    \"\"\"\u001B[39;00m\n\u001B[0;32m--> 286\u001B[0m     train_dmatrix \u001B[38;5;241m=\u001B[39m \u001B[43mcreate_dmatrix\u001B[49m\u001B[43m(\u001B[49m\n\u001B[1;32m    287\u001B[0m \u001B[43m        \u001B[49m\u001B[43mdata\u001B[49m\u001B[38;5;241;43m=\u001B[39;49m\u001B[43mX\u001B[49m\u001B[43m,\u001B[49m\n\u001B[1;32m    288\u001B[0m \u001B[43m        \u001B[49m\u001B[43mlabel\u001B[49m\u001B[38;5;241;43m=\u001B[39;49m\u001B[43mlabel_transform\u001B[49m\u001B[43m(\u001B[49m\u001B[43my\u001B[49m\u001B[43m)\u001B[49m\u001B[43m,\u001B[49m\n\u001B[1;32m    289\u001B[0m \u001B[43m        \u001B[49m\u001B[43mgroup\u001B[49m\u001B[38;5;241;43m=\u001B[39;49m\u001B[43mgroup\u001B[49m\u001B[43m,\u001B[49m\n\u001B[1;32m    290\u001B[0m \u001B[43m        \u001B[49m\u001B[43mqid\u001B[49m\u001B[38;5;241;43m=\u001B[39;49m\u001B[43mqid\u001B[49m\u001B[43m,\u001B[49m\n\u001B[1;32m    291\u001B[0m \u001B[43m        \u001B[49m\u001B[43mweight\u001B[49m\u001B[38;5;241;43m=\u001B[39;49m\u001B[43msample_weight\u001B[49m\u001B[43m,\u001B[49m\n\u001B[1;32m    292\u001B[0m \u001B[43m        \u001B[49m\u001B[43mbase_margin\u001B[49m\u001B[38;5;241;43m=\u001B[39;49m\u001B[43mbase_margin\u001B[49m\u001B[43m,\u001B[49m\n\u001B[1;32m    293\u001B[0m \u001B[43m        \u001B[49m\u001B[43mfeature_weights\u001B[49m\u001B[38;5;241;43m=\u001B[39;49m\u001B[43mfeature_weights\u001B[49m\u001B[43m,\u001B[49m\n\u001B[1;32m    294\u001B[0m \u001B[43m        \u001B[49m\u001B[43mmissing\u001B[49m\u001B[38;5;241;43m=\u001B[39;49m\u001B[43mmissing\u001B[49m\u001B[43m,\u001B[49m\n\u001B[1;32m    295\u001B[0m \u001B[43m        \u001B[49m\u001B[43menable_categorical\u001B[49m\u001B[38;5;241;43m=\u001B[39;49m\u001B[43menable_categorical\u001B[49m\u001B[43m,\u001B[49m\n\u001B[1;32m    296\u001B[0m \u001B[43m    \u001B[49m\u001B[43m)\u001B[49m\n\u001B[1;32m    298\u001B[0m     n_validation \u001B[38;5;241m=\u001B[39m \u001B[38;5;241m0\u001B[39m \u001B[38;5;28;01mif\u001B[39;00m eval_set \u001B[38;5;129;01mis\u001B[39;00m \u001B[38;5;28;01mNone\u001B[39;00m \u001B[38;5;28;01melse\u001B[39;00m \u001B[38;5;28mlen\u001B[39m(eval_set)\n\u001B[1;32m    300\u001B[0m     \u001B[38;5;28;01mdef\u001B[39;00m \u001B[38;5;21mvalidate_or_none\u001B[39m(meta: Optional[List], name: \u001B[38;5;28mstr\u001B[39m) \u001B[38;5;241m-\u001B[39m\u001B[38;5;241m>\u001B[39m List:\n",
      "File \u001B[0;32m~/miniconda3/envs/code/lib/python3.9/site-packages/xgboost/sklearn.py:1245\u001B[0m, in \u001B[0;36mXGBClassifier.fit.<locals>.<lambda>\u001B[0;34m(**kwargs)\u001B[0m\n\u001B[1;32m   1228\u001B[0m     label_transform \u001B[38;5;241m=\u001B[39m \u001B[38;5;28;01mlambda\u001B[39;00m x: x\n\u001B[1;32m   1230\u001B[0m model, feval, params \u001B[38;5;241m=\u001B[39m \u001B[38;5;28mself\u001B[39m\u001B[38;5;241m.\u001B[39m_configure_fit(xgb_model, eval_metric, params)\n\u001B[1;32m   1231\u001B[0m train_dmatrix, evals \u001B[38;5;241m=\u001B[39m _wrap_evaluation_matrices(\n\u001B[1;32m   1232\u001B[0m     missing\u001B[38;5;241m=\u001B[39m\u001B[38;5;28mself\u001B[39m\u001B[38;5;241m.\u001B[39mmissing,\n\u001B[1;32m   1233\u001B[0m     X\u001B[38;5;241m=\u001B[39mX,\n\u001B[1;32m   1234\u001B[0m     y\u001B[38;5;241m=\u001B[39my,\n\u001B[1;32m   1235\u001B[0m     group\u001B[38;5;241m=\u001B[39m\u001B[38;5;28;01mNone\u001B[39;00m,\n\u001B[1;32m   1236\u001B[0m     qid\u001B[38;5;241m=\u001B[39m\u001B[38;5;28;01mNone\u001B[39;00m,\n\u001B[1;32m   1237\u001B[0m     sample_weight\u001B[38;5;241m=\u001B[39msample_weight,\n\u001B[1;32m   1238\u001B[0m     base_margin\u001B[38;5;241m=\u001B[39mbase_margin,\n\u001B[1;32m   1239\u001B[0m     feature_weights\u001B[38;5;241m=\u001B[39mfeature_weights,\n\u001B[1;32m   1240\u001B[0m     eval_set\u001B[38;5;241m=\u001B[39meval_set,\n\u001B[1;32m   1241\u001B[0m     sample_weight_eval_set\u001B[38;5;241m=\u001B[39msample_weight_eval_set,\n\u001B[1;32m   1242\u001B[0m     base_margin_eval_set\u001B[38;5;241m=\u001B[39mbase_margin_eval_set,\n\u001B[1;32m   1243\u001B[0m     eval_group\u001B[38;5;241m=\u001B[39m\u001B[38;5;28;01mNone\u001B[39;00m,\n\u001B[1;32m   1244\u001B[0m     eval_qid\u001B[38;5;241m=\u001B[39m\u001B[38;5;28;01mNone\u001B[39;00m,\n\u001B[0;32m-> 1245\u001B[0m     create_dmatrix\u001B[38;5;241m=\u001B[39m\u001B[38;5;28;01mlambda\u001B[39;00m \u001B[38;5;241m*\u001B[39m\u001B[38;5;241m*\u001B[39mkwargs: \u001B[43mDMatrix\u001B[49m\u001B[43m(\u001B[49m\u001B[43mnthread\u001B[49m\u001B[38;5;241;43m=\u001B[39;49m\u001B[38;5;28;43mself\u001B[39;49m\u001B[38;5;241;43m.\u001B[39;49m\u001B[43mn_jobs\u001B[49m\u001B[43m,\u001B[49m\u001B[43m \u001B[49m\u001B[38;5;241;43m*\u001B[39;49m\u001B[38;5;241;43m*\u001B[39;49m\u001B[43mkwargs\u001B[49m\u001B[43m)\u001B[49m,\n\u001B[1;32m   1246\u001B[0m     enable_categorical\u001B[38;5;241m=\u001B[39m\u001B[38;5;28mself\u001B[39m\u001B[38;5;241m.\u001B[39menable_categorical,\n\u001B[1;32m   1247\u001B[0m     label_transform\u001B[38;5;241m=\u001B[39mlabel_transform,\n\u001B[1;32m   1248\u001B[0m )\n\u001B[1;32m   1250\u001B[0m \u001B[38;5;28mself\u001B[39m\u001B[38;5;241m.\u001B[39m_Booster \u001B[38;5;241m=\u001B[39m train(\n\u001B[1;32m   1251\u001B[0m     params,\n\u001B[1;32m   1252\u001B[0m     train_dmatrix,\n\u001B[0;32m   (...)\u001B[0m\n\u001B[1;32m   1261\u001B[0m     callbacks\u001B[38;5;241m=\u001B[39mcallbacks,\n\u001B[1;32m   1262\u001B[0m )\n\u001B[1;32m   1264\u001B[0m \u001B[38;5;28;01mif\u001B[39;00m \u001B[38;5;129;01mnot\u001B[39;00m callable(\u001B[38;5;28mself\u001B[39m\u001B[38;5;241m.\u001B[39mobjective):\n",
      "File \u001B[0;32m~/miniconda3/envs/code/lib/python3.9/site-packages/xgboost/core.py:506\u001B[0m, in \u001B[0;36m_deprecate_positional_args.<locals>.inner_f\u001B[0;34m(*args, **kwargs)\u001B[0m\n\u001B[1;32m    504\u001B[0m \u001B[38;5;28;01mfor\u001B[39;00m k, arg \u001B[38;5;129;01min\u001B[39;00m \u001B[38;5;28mzip\u001B[39m(sig\u001B[38;5;241m.\u001B[39mparameters, args):\n\u001B[1;32m    505\u001B[0m     kwargs[k] \u001B[38;5;241m=\u001B[39m arg\n\u001B[0;32m--> 506\u001B[0m \u001B[38;5;28;01mreturn\u001B[39;00m \u001B[43mf\u001B[49m\u001B[43m(\u001B[49m\u001B[38;5;241;43m*\u001B[39;49m\u001B[38;5;241;43m*\u001B[39;49m\u001B[43mkwargs\u001B[49m\u001B[43m)\u001B[49m\n",
      "File \u001B[0;32m~/miniconda3/envs/code/lib/python3.9/site-packages/xgboost/core.py:616\u001B[0m, in \u001B[0;36mDMatrix.__init__\u001B[0;34m(self, data, label, weight, base_margin, missing, silent, feature_names, feature_types, nthread, group, qid, label_lower_bound, label_upper_bound, feature_weights, enable_categorical)\u001B[0m\n\u001B[1;32m    613\u001B[0m     \u001B[38;5;28;01massert\u001B[39;00m \u001B[38;5;28mself\u001B[39m\u001B[38;5;241m.\u001B[39mhandle \u001B[38;5;129;01mis\u001B[39;00m \u001B[38;5;129;01mnot\u001B[39;00m \u001B[38;5;28;01mNone\u001B[39;00m\n\u001B[1;32m    614\u001B[0m     \u001B[38;5;28;01mreturn\u001B[39;00m\n\u001B[0;32m--> 616\u001B[0m handle, feature_names, feature_types \u001B[38;5;241m=\u001B[39m \u001B[43mdispatch_data_backend\u001B[49m\u001B[43m(\u001B[49m\n\u001B[1;32m    617\u001B[0m \u001B[43m    \u001B[49m\u001B[43mdata\u001B[49m\u001B[43m,\u001B[49m\n\u001B[1;32m    618\u001B[0m \u001B[43m    \u001B[49m\u001B[43mmissing\u001B[49m\u001B[38;5;241;43m=\u001B[39;49m\u001B[38;5;28;43mself\u001B[39;49m\u001B[38;5;241;43m.\u001B[39;49m\u001B[43mmissing\u001B[49m\u001B[43m,\u001B[49m\n\u001B[1;32m    619\u001B[0m \u001B[43m    \u001B[49m\u001B[43mthreads\u001B[49m\u001B[38;5;241;43m=\u001B[39;49m\u001B[38;5;28;43mself\u001B[39;49m\u001B[38;5;241;43m.\u001B[39;49m\u001B[43mnthread\u001B[49m\u001B[43m,\u001B[49m\n\u001B[1;32m    620\u001B[0m \u001B[43m    \u001B[49m\u001B[43mfeature_names\u001B[49m\u001B[38;5;241;43m=\u001B[39;49m\u001B[43mfeature_names\u001B[49m\u001B[43m,\u001B[49m\n\u001B[1;32m    621\u001B[0m \u001B[43m    \u001B[49m\u001B[43mfeature_types\u001B[49m\u001B[38;5;241;43m=\u001B[39;49m\u001B[43mfeature_types\u001B[49m\u001B[43m,\u001B[49m\n\u001B[1;32m    622\u001B[0m \u001B[43m    \u001B[49m\u001B[43menable_categorical\u001B[49m\u001B[38;5;241;43m=\u001B[39;49m\u001B[43menable_categorical\u001B[49m\u001B[43m,\u001B[49m\n\u001B[1;32m    623\u001B[0m \u001B[43m\u001B[49m\u001B[43m)\u001B[49m\n\u001B[1;32m    624\u001B[0m \u001B[38;5;28;01massert\u001B[39;00m handle \u001B[38;5;129;01mis\u001B[39;00m \u001B[38;5;129;01mnot\u001B[39;00m \u001B[38;5;28;01mNone\u001B[39;00m\n\u001B[1;32m    625\u001B[0m \u001B[38;5;28mself\u001B[39m\u001B[38;5;241m.\u001B[39mhandle \u001B[38;5;241m=\u001B[39m handle\n",
      "File \u001B[0;32m~/miniconda3/envs/code/lib/python3.9/site-packages/xgboost/data.py:772\u001B[0m, in \u001B[0;36mdispatch_data_backend\u001B[0;34m(data, missing, threads, feature_names, feature_types, enable_categorical)\u001B[0m\n\u001B[1;32m    770\u001B[0m     \u001B[38;5;28;01mreturn\u001B[39;00m _from_tuple(data, missing, threads, feature_names, feature_types)\n\u001B[1;32m    771\u001B[0m \u001B[38;5;28;01mif\u001B[39;00m _is_pandas_df(data):\n\u001B[0;32m--> 772\u001B[0m     \u001B[38;5;28;01mreturn\u001B[39;00m \u001B[43m_from_pandas_df\u001B[49m\u001B[43m(\u001B[49m\u001B[43mdata\u001B[49m\u001B[43m,\u001B[49m\u001B[43m \u001B[49m\u001B[43menable_categorical\u001B[49m\u001B[43m,\u001B[49m\u001B[43m \u001B[49m\u001B[43mmissing\u001B[49m\u001B[43m,\u001B[49m\u001B[43m \u001B[49m\u001B[43mthreads\u001B[49m\u001B[43m,\u001B[49m\n\u001B[1;32m    773\u001B[0m \u001B[43m                           \u001B[49m\u001B[43mfeature_names\u001B[49m\u001B[43m,\u001B[49m\u001B[43m \u001B[49m\u001B[43mfeature_types\u001B[49m\u001B[43m)\u001B[49m\n\u001B[1;32m    774\u001B[0m \u001B[38;5;28;01mif\u001B[39;00m _is_pandas_series(data):\n\u001B[1;32m    775\u001B[0m     \u001B[38;5;28;01mreturn\u001B[39;00m _from_pandas_series(\n\u001B[1;32m    776\u001B[0m         data, missing, threads, enable_categorical, feature_names, feature_types\n\u001B[1;32m    777\u001B[0m     )\n",
      "File \u001B[0;32m~/miniconda3/envs/code/lib/python3.9/site-packages/xgboost/data.py:312\u001B[0m, in \u001B[0;36m_from_pandas_df\u001B[0;34m(data, enable_categorical, missing, nthread, feature_names, feature_types)\u001B[0m\n\u001B[1;32m    304\u001B[0m \u001B[38;5;28;01mdef\u001B[39;00m \u001B[38;5;21m_from_pandas_df\u001B[39m(\n\u001B[1;32m    305\u001B[0m     data: DataFrame,\n\u001B[1;32m    306\u001B[0m     enable_categorical: \u001B[38;5;28mbool\u001B[39m,\n\u001B[0;32m   (...)\u001B[0m\n\u001B[1;32m    310\u001B[0m     feature_types: Optional[List[\u001B[38;5;28mstr\u001B[39m]],\n\u001B[1;32m    311\u001B[0m ):\n\u001B[0;32m--> 312\u001B[0m     data, feature_names, feature_types \u001B[38;5;241m=\u001B[39m \u001B[43m_transform_pandas_df\u001B[49m\u001B[43m(\u001B[49m\n\u001B[1;32m    313\u001B[0m \u001B[43m        \u001B[49m\u001B[43mdata\u001B[49m\u001B[43m,\u001B[49m\u001B[43m \u001B[49m\u001B[43menable_categorical\u001B[49m\u001B[43m,\u001B[49m\u001B[43m \u001B[49m\u001B[43mfeature_names\u001B[49m\u001B[43m,\u001B[49m\u001B[43m \u001B[49m\u001B[43mfeature_types\u001B[49m\u001B[43m)\u001B[49m\n\u001B[1;32m    314\u001B[0m     \u001B[38;5;28;01mreturn\u001B[39;00m _from_numpy_array(data, missing, nthread, feature_names,\n\u001B[1;32m    315\u001B[0m                              feature_types)\n",
      "File \u001B[0;32m~/miniconda3/envs/code/lib/python3.9/site-packages/xgboost/data.py:256\u001B[0m, in \u001B[0;36m_transform_pandas_df\u001B[0;34m(data, enable_categorical, feature_names, feature_types, meta, meta_type)\u001B[0m\n\u001B[1;32m    248\u001B[0m \u001B[38;5;28;01mfrom\u001B[39;00m \u001B[38;5;21;01mpandas\u001B[39;00m\u001B[38;5;21;01m.\u001B[39;00m\u001B[38;5;21;01mapi\u001B[39;00m\u001B[38;5;21;01m.\u001B[39;00m\u001B[38;5;21;01mtypes\u001B[39;00m \u001B[38;5;28;01mimport\u001B[39;00m is_sparse, is_categorical_dtype\n\u001B[1;32m    250\u001B[0m \u001B[38;5;28;01mif\u001B[39;00m \u001B[38;5;129;01mnot\u001B[39;00m \u001B[38;5;28mall\u001B[39m(\n\u001B[1;32m    251\u001B[0m     dtype\u001B[38;5;241m.\u001B[39mname \u001B[38;5;129;01min\u001B[39;00m _pandas_dtype_mapper\n\u001B[1;32m    252\u001B[0m     \u001B[38;5;129;01mor\u001B[39;00m is_sparse(dtype)\n\u001B[1;32m    253\u001B[0m     \u001B[38;5;129;01mor\u001B[39;00m (is_categorical_dtype(dtype) \u001B[38;5;129;01mand\u001B[39;00m enable_categorical)\n\u001B[1;32m    254\u001B[0m     \u001B[38;5;28;01mfor\u001B[39;00m dtype \u001B[38;5;129;01min\u001B[39;00m data\u001B[38;5;241m.\u001B[39mdtypes\n\u001B[1;32m    255\u001B[0m ):\n\u001B[0;32m--> 256\u001B[0m     \u001B[43m_invalid_dataframe_dtype\u001B[49m\u001B[43m(\u001B[49m\u001B[43mdata\u001B[49m\u001B[43m)\u001B[49m\n\u001B[1;32m    258\u001B[0m \u001B[38;5;66;03m# handle feature names\u001B[39;00m\n\u001B[1;32m    259\u001B[0m \u001B[38;5;28;01mif\u001B[39;00m feature_names \u001B[38;5;129;01mis\u001B[39;00m \u001B[38;5;28;01mNone\u001B[39;00m \u001B[38;5;129;01mand\u001B[39;00m meta \u001B[38;5;129;01mis\u001B[39;00m \u001B[38;5;28;01mNone\u001B[39;00m:\n",
      "File \u001B[0;32m~/miniconda3/envs/code/lib/python3.9/site-packages/xgboost/data.py:236\u001B[0m, in \u001B[0;36m_invalid_dataframe_dtype\u001B[0;34m(data)\u001B[0m\n\u001B[1;32m    231\u001B[0m         err \u001B[38;5;241m=\u001B[39m \u001B[38;5;124m\"\u001B[39m\u001B[38;5;124m\"\u001B[39m\n\u001B[1;32m    233\u001B[0m     msg \u001B[38;5;241m=\u001B[39m \u001B[38;5;124m\"\"\"\u001B[39m\u001B[38;5;124mDataFrame.dtypes for data must be int, float, bool or category.  When\u001B[39m\n\u001B[1;32m    234\u001B[0m \u001B[38;5;124mcategorical type is supplied, DMatrix parameter `enable_categorical` must\u001B[39m\n\u001B[1;32m    235\u001B[0m \u001B[38;5;124mbe set to `True`.\u001B[39m\u001B[38;5;124m\"\"\"\u001B[39m \u001B[38;5;241m+\u001B[39m err\n\u001B[0;32m--> 236\u001B[0m     \u001B[38;5;28;01mraise\u001B[39;00m \u001B[38;5;167;01mValueError\u001B[39;00m(msg)\n",
      "\u001B[0;31mValueError\u001B[0m: DataFrame.dtypes for data must be int, float, bool or category.  When\ncategorical type is supplied, DMatrix parameter `enable_categorical` must\nbe set to `True`. Invalid columns:content-length"
     ]
    }
   ],
   "source": [
    "model.fit(X_train_2, test)"
   ],
   "metadata": {
    "collapsed": false,
    "pycharm": {
     "name": "#%%\n"
    }
   }
  },
  {
   "cell_type": "code",
   "execution_count": 148,
   "outputs": [
    {
     "data": {
      "text/plain": "<253786x424659 sparse matrix of type '<class 'numpy.float64'>'\n\twith 4314362 stored elements in Compressed Sparse Row format>"
     },
     "execution_count": 148,
     "metadata": {},
     "output_type": "execute_result"
    }
   ],
   "source": [
    "preprocessing.OneHotEncoder().fit_transform(X_train_2)"
   ],
   "metadata": {
    "collapsed": false,
    "pycharm": {
     "name": "#%%\n"
    }
   }
  },
  {
   "cell_type": "code",
   "execution_count": 13,
   "outputs": [],
   "source": [
    "label_encoder = preprocessing.LabelEncoder()"
   ],
   "metadata": {
    "collapsed": false,
    "pycharm": {
     "name": "#%%\n"
    }
   }
  },
  {
   "cell_type": "code",
   "execution_count": 17,
   "outputs": [],
   "source": [
    "X_train_2.drop(['date'], axis=1, inplace=True)"
   ],
   "metadata": {
    "collapsed": false,
    "pycharm": {
     "name": "#%%\n"
    }
   }
  },
  {
   "cell_type": "code",
   "execution_count": 61,
   "outputs": [
    {
     "data": {
      "text/plain": "content-type                   int64\nlast-modified                  int64\naccept-ranges                  int64\netag                           int64\nvary                           int64\ncontent-encoding               int64\ncache-control                  int64\nexpires                        int64\ncontent-length                 Int64\nserver                         int64\nage                            int64\nalt-svc                        int64\naccess-control-allow-origin    int64\nheader_count                   int64\ncomb_col_non_tracker           int64\ncomb_col_tracker               int64\ndtype: object"
     },
     "execution_count": 61,
     "metadata": {},
     "output_type": "execute_result"
    }
   ],
   "source": [
    "X_train_2.dtypes"
   ],
   "metadata": {
    "collapsed": false,
    "pycharm": {
     "name": "#%%\n"
    }
   }
  },
  {
   "cell_type": "code",
   "execution_count": 20,
   "outputs": [],
   "source": [
    "X_train_2['content-type'] = label_encoder.fit_transform(X_train_2['content-type'])\n",
    "X_train_2['last-modified'] = label_encoder.fit_transform(X_train_2['last-modified'])\n",
    "X_train_2['accept-ranges'] = label_encoder.fit_transform(X_train_2['accept-ranges'])\n",
    "X_train_2['etag'] = label_encoder.fit_transform(X_train_2['etag'])\n",
    "X_train_2['vary'] = label_encoder.fit_transform(X_train_2['vary'])\n",
    "X_train_2['content-encoding'] = label_encoder.fit_transform(X_train_2['content-encoding'])\n",
    "X_train_2['cache-control'] = label_encoder.fit_transform(X_train_2['cache-control'])\n",
    "X_train_2['expires'] = label_encoder.fit_transform(X_train_2['expires'])\n",
    "X_train_2['server'] = label_encoder.fit_transform(X_train_2['server'])\n",
    "X_train_2['age'] = label_encoder.fit_transform(X_train_2['age'])\n",
    "X_train_2['alt-svc'] = label_encoder.fit_transform(X_train_2['alt-svc'])\n",
    "X_train_2['access-control-allow-origin'] = label_encoder.fit_transform(X_train_2['access-control-allow-origin'])"
   ],
   "metadata": {
    "collapsed": false,
    "pycharm": {
     "name": "#%%\n"
    }
   }
  },
  {
   "cell_type": "code",
   "execution_count": 22,
   "outputs": [],
   "source": [
    "rf = RandomForestClassifier()"
   ],
   "metadata": {
    "collapsed": false,
    "pycharm": {
     "name": "#%%\n"
    }
   }
  },
  {
   "cell_type": "code",
   "execution_count": 34,
   "outputs": [],
   "source": [
    "test = y_train['tracker'].to_numpy()"
   ],
   "metadata": {
    "collapsed": false,
    "pycharm": {
     "name": "#%%\n"
    }
   }
  },
  {
   "cell_type": "code",
   "execution_count": 35,
   "outputs": [
    {
     "data": {
      "text/plain": "RandomForestClassifier()",
      "text/html": "<style>#sk-container-id-2 {color: black;background-color: white;}#sk-container-id-2 pre{padding: 0;}#sk-container-id-2 div.sk-toggleable {background-color: white;}#sk-container-id-2 label.sk-toggleable__label {cursor: pointer;display: block;width: 100%;margin-bottom: 0;padding: 0.3em;box-sizing: border-box;text-align: center;}#sk-container-id-2 label.sk-toggleable__label-arrow:before {content: \"▸\";float: left;margin-right: 0.25em;color: #696969;}#sk-container-id-2 label.sk-toggleable__label-arrow:hover:before {color: black;}#sk-container-id-2 div.sk-estimator:hover label.sk-toggleable__label-arrow:before {color: black;}#sk-container-id-2 div.sk-toggleable__content {max-height: 0;max-width: 0;overflow: hidden;text-align: left;background-color: #f0f8ff;}#sk-container-id-2 div.sk-toggleable__content pre {margin: 0.2em;color: black;border-radius: 0.25em;background-color: #f0f8ff;}#sk-container-id-2 input.sk-toggleable__control:checked~div.sk-toggleable__content {max-height: 200px;max-width: 100%;overflow: auto;}#sk-container-id-2 input.sk-toggleable__control:checked~label.sk-toggleable__label-arrow:before {content: \"▾\";}#sk-container-id-2 div.sk-estimator input.sk-toggleable__control:checked~label.sk-toggleable__label {background-color: #d4ebff;}#sk-container-id-2 div.sk-label input.sk-toggleable__control:checked~label.sk-toggleable__label {background-color: #d4ebff;}#sk-container-id-2 input.sk-hidden--visually {border: 0;clip: rect(1px 1px 1px 1px);clip: rect(1px, 1px, 1px, 1px);height: 1px;margin: -1px;overflow: hidden;padding: 0;position: absolute;width: 1px;}#sk-container-id-2 div.sk-estimator {font-family: monospace;background-color: #f0f8ff;border: 1px dotted black;border-radius: 0.25em;box-sizing: border-box;margin-bottom: 0.5em;}#sk-container-id-2 div.sk-estimator:hover {background-color: #d4ebff;}#sk-container-id-2 div.sk-parallel-item::after {content: \"\";width: 100%;border-bottom: 1px solid gray;flex-grow: 1;}#sk-container-id-2 div.sk-label:hover label.sk-toggleable__label {background-color: #d4ebff;}#sk-container-id-2 div.sk-serial::before {content: \"\";position: absolute;border-left: 1px solid gray;box-sizing: border-box;top: 0;bottom: 0;left: 50%;z-index: 0;}#sk-container-id-2 div.sk-serial {display: flex;flex-direction: column;align-items: center;background-color: white;padding-right: 0.2em;padding-left: 0.2em;position: relative;}#sk-container-id-2 div.sk-item {position: relative;z-index: 1;}#sk-container-id-2 div.sk-parallel {display: flex;align-items: stretch;justify-content: center;background-color: white;position: relative;}#sk-container-id-2 div.sk-item::before, #sk-container-id-2 div.sk-parallel-item::before {content: \"\";position: absolute;border-left: 1px solid gray;box-sizing: border-box;top: 0;bottom: 0;left: 50%;z-index: -1;}#sk-container-id-2 div.sk-parallel-item {display: flex;flex-direction: column;z-index: 1;position: relative;background-color: white;}#sk-container-id-2 div.sk-parallel-item:first-child::after {align-self: flex-end;width: 50%;}#sk-container-id-2 div.sk-parallel-item:last-child::after {align-self: flex-start;width: 50%;}#sk-container-id-2 div.sk-parallel-item:only-child::after {width: 0;}#sk-container-id-2 div.sk-dashed-wrapped {border: 1px dashed gray;margin: 0 0.4em 0.5em 0.4em;box-sizing: border-box;padding-bottom: 0.4em;background-color: white;}#sk-container-id-2 div.sk-label label {font-family: monospace;font-weight: bold;display: inline-block;line-height: 1.2em;}#sk-container-id-2 div.sk-label-container {text-align: center;}#sk-container-id-2 div.sk-container {/* jupyter's `normalize.less` sets `[hidden] { display: none; }` but bootstrap.min.css set `[hidden] { display: none !important; }` so we also need the `!important` here to be able to override the default hidden behavior on the sphinx rendered scikit-learn.org. See: https://github.com/scikit-learn/scikit-learn/issues/21755 */display: inline-block !important;position: relative;}#sk-container-id-2 div.sk-text-repr-fallback {display: none;}</style><div id=\"sk-container-id-2\" class=\"sk-top-container\"><div class=\"sk-text-repr-fallback\"><pre>RandomForestClassifier()</pre><b>In a Jupyter environment, please rerun this cell to show the HTML representation or trust the notebook. <br />On GitHub, the HTML representation is unable to render, please try loading this page with nbviewer.org.</b></div><div class=\"sk-container\" hidden><div class=\"sk-item\"><div class=\"sk-estimator sk-toggleable\"><input class=\"sk-toggleable__control sk-hidden--visually\" id=\"sk-estimator-id-2\" type=\"checkbox\" checked><label for=\"sk-estimator-id-2\" class=\"sk-toggleable__label sk-toggleable__label-arrow\">RandomForestClassifier</label><div class=\"sk-toggleable__content\"><pre>RandomForestClassifier()</pre></div></div></div></div></div>"
     },
     "execution_count": 35,
     "metadata": {},
     "output_type": "execute_result"
    }
   ],
   "source": [
    "rf.fit(X_train_2, test)"
   ],
   "metadata": {
    "collapsed": false,
    "pycharm": {
     "name": "#%%\n"
    }
   }
  },
  {
   "cell_type": "code",
   "execution_count": 36,
   "outputs": [],
   "source": [
    "importance = rf.feature_importances_"
   ],
   "metadata": {
    "collapsed": false,
    "pycharm": {
     "name": "#%%\n"
    }
   }
  },
  {
   "cell_type": "code",
   "execution_count": 47,
   "outputs": [],
   "source": [
    "d = {\"header\": X_train_2.columns.values.tolist(), \"value\": importance.tolist()}"
   ],
   "metadata": {
    "collapsed": false,
    "pycharm": {
     "name": "#%%\n"
    }
   }
  },
  {
   "cell_type": "code",
   "execution_count": 54,
   "outputs": [
    {
     "data": {
      "text/plain": "<AxesSubplot:xlabel='header', ylabel='value'>"
     },
     "execution_count": 54,
     "metadata": {},
     "output_type": "execute_result"
    },
    {
     "data": {
      "text/plain": "<Figure size 2160x720 with 1 Axes>",
      "image/png": "[encoded data removed]"
     },
     "metadata": {
      "needs_background": "light"
     },
     "output_type": "display_data"
    }
   ],
   "source": [
    "%matplotlib inline\n",
    "plt.figure(figsize=(30, 10))\n",
    "sns.barplot(data=pd.DataFrame(d), x='header', y='value')"
   ],
   "metadata": {
    "collapsed": false,
    "pycharm": {
     "name": "#%%\n"
    }
   }
  },
  {
   "cell_type": "code",
   "execution_count": 67,
   "outputs": [
    {
     "data": {
      "text/plain": "0.9999960596723223"
     },
     "execution_count": 67,
     "metadata": {},
     "output_type": "execute_result"
    }
   ],
   "source": [
    "rf.score(X_train_2, test)"
   ],
   "metadata": {
    "collapsed": false,
    "pycharm": {
     "name": "#%%\n"
    }
   }
  },
  {
   "cell_type": "code",
   "execution_count": 68,
   "outputs": [
    {
     "data": {
      "text/plain": "                                       hostname  \\\n0                     tpc.googlesyndication.com   \n1                            res.cdn.office.net   \n2                                www.google.com   \n3       ipv4-c113-lhr004-ix.1.oca.nflxvideo.net   \n4                                      shimo.im   \n...                                         ...   \n253781                           www.criteo.com   \n253782                             ads.adfox.ru   \n253783                  synostatic.synology.com   \n253784                                tenor.com   \n253785                               r.bing.com   \n\n                                                 pathname  \\\n0       /pagead/js/r20220810/r20110914/client/one_clic...   \n1       /officehub/bundles/staying-aware.b8b088b355c55...   \n2                                       /ads/ga-audiences   \n3                                    /speedtest/range/0-0   \n4                                                       /   \n...                                                   ...   \n253781  /wp-content/uploads/2021/01/ss-logo-Lamps-Plus...   \n253782                                      /260122/event   \n253783                     /font/inter/inter-w400-6.woff2   \n253784                                    /opensearch.xml   \n253785              /rp/l_yPzUao8Z_UiytFemwYCOTvU_U.br.js   \n\n                    filetype                                        filename  \\\n0                         js            one_click_handler_one_afma_fy2021.js   \n1                         js  staying-aware.b8b088b355c55b4ea7d6.chunk.v6.js   \n2          /ads/ga-audiences                                    ga-audiences   \n3       /speedtest/range/0-0                                             0-0   \n4                          /                                                   \n...                      ...                                             ...   \n253781                   png                          ss-logo-Lamps-Plus.png   \n253782         /260122/event                                           event   \n253783                 woff2                              inter-w400-6.woff2   \n253784                   xml                                  opensearch.xml   \n253785                    js               l_yPzUao8Z_UiytFemwYCOTvU_U.br.js   \n\n          pragma                    content-type  \\\n0            NaN  text/javascript; charset=utf-8   \n1            NaN          application/javascript   \n2       no-cache                       image/gif   \n3       no-cache                      image/jpeg   \n4            NaN        text/html; charset=utf-8   \n...          ...                             ...   \n253781       NaN                       image/png   \n253782  no-cache                       image/gif   \n253783       NaN             binary/octet-stream   \n253784       NaN                 application/xml   \n253785       NaN  text/javascript; charset=utf-8   \n\n                        last-modified accept-ranges  \\\n0       sun, 17 may 1998 03:00:00 gmt         bytes   \n1       mon, 08 aug 2022 21:56:59 gmt         bytes   \n2       sun, 17 may 1998 03:00:00 gmt         bytes   \n3       thu, 11 aug 2022 21:41:37 gmt         bytes   \n4       thu, 11 aug 2022 21:41:37 gmt         bytes   \n...                               ...           ...   \n253781  fri, 12 nov 2021 05:09:38 gmt         bytes   \n253782  fri, 12 aug 2022 09:22:13 gmt         bytes   \n253783  mon, 20 dec 2021 02:24:19 gmt         bytes   \n253784  thu, 26 apr 2018 18:25:27 gmt         bytes   \n253785  wed, 03 aug 2022 12:04:53 gmt         bytes   \n\n                                      etag  \\\n0                     15601544113783900868   \n1                        0x8da7b64a03a8ae5   \n2                     12862140795212465669   \n3                        0x8da7b64a03a8ae5   \n4                        0x8da7b64a03a8ae5   \n...                                    ...   \n253781                     \"618df712-2509\"   \n253782                12862140795212465669   \n253783  \"4abfa4888190370d347034f9fa43c804\"   \n253784                 w/\"29a-1630333f5d8\"   \n253785                   0x8da754860160d55   \n\n                                                      p3p  ... x-b3-sampled  \\\n0       policyref=\"https://www.googleadservices.com/pa...  ...          NaN   \n1                                                     NaN  ...          NaN   \n2       policyref=\"https://www.googleadservices.com/pa...  ...          NaN   \n3                                                     NaN  ...          NaN   \n4                                                     NaN  ...          NaN   \n...                                                   ...  ...          ...   \n253781                                                NaN  ...          NaN   \n253782                                                NaN  ...          NaN   \n253783                                                NaN  ...          NaN   \n253784                                                NaN  ...          NaN   \n253785                                                NaN  ...          NaN   \n\n       x-b3-spanid x-hubspot-correlation-id x-hs-target-asset x-hostname  \\\n0              NaN                      NaN               NaN        NaN   \n1              NaN                      NaN               NaN        NaN   \n2              NaN                      NaN               NaN        NaN   \n3              NaN                      NaN               NaN        NaN   \n4              NaN                      NaN               NaN        NaN   \n...            ...                      ...               ...        ...   \n253781         NaN                      NaN               NaN        NaN   \n253782         NaN                      NaN               NaN        NaN   \n253783         NaN                      NaN               NaN        NaN   \n253784         NaN                      NaN               NaN        NaN   \n253785         NaN                      NaN               NaN        NaN   \n\n       x-cdn-pop x-cdn-pop-ip header_count comb_col_non_tracker  \\\n0            NaN          NaN           17                    0   \n1            NaN          NaN           14                    1   \n2            NaN          NaN           13                    0   \n3            NaN          NaN           10                    1   \n4            NaN          NaN           10                    0   \n...          ...          ...          ...                  ...   \n253781       NaN          NaN           22                    1   \n253782       NaN          NaN            8                    0   \n253783       NaN          NaN           16                    0   \n253784       NaN          NaN           22                    1   \n253785       NaN          NaN           22                    1   \n\n        comb_col_tracker  \n0                      0  \n1                      0  \n2                      0  \n3                      0  \n4                      0  \n...                  ...  \n253781                 0  \n253782                 0  \n253783                 0  \n253784                 0  \n253785                 0  \n\n[253786 rows x 158 columns]",
      "text/html": "<div>\n<style scoped>\n    .dataframe tbody tr th:only-of-type {\n        vertical-align: middle;\n    }\n\n    .dataframe tbody tr th {\n        vertical-align: top;\n    }\n\n    .dataframe thead th {\n        text-align: right;\n    }\n</style>\n<table border=\"1\" class=\"dataframe\">\n  <thead>\n    <tr style=\"text-align: right;\">\n      <th></th>\n      <th>hostname</th>\n      <th>pathname</th>\n      <th>filetype</th>\n      <th>filename</th>\n      <th>pragma</th>\n      <th>content-type</th>\n      <th>last-modified</th>\n      <th>accept-ranges</th>\n      <th>etag</th>\n      <th>p3p</th>\n      <th>...</th>\n      <th>x-b3-sampled</th>\n      <th>x-b3-spanid</th>\n      <th>x-hubspot-correlation-id</th>\n      <th>x-hs-target-asset</th>\n      <th>x-hostname</th>\n      <th>x-cdn-pop</th>\n      <th>x-cdn-pop-ip</th>\n      <th>header_count</th>\n      <th>comb_col_non_tracker</th>\n      <th>comb_col_tracker</th>\n    </tr>\n  </thead>\n  <tbody>\n    <tr>\n      <th>0</th>\n      <td>tpc.googlesyndication.com</td>\n      <td>/pagead/js/r20220810/r20110914/client/one_clic...</td>\n      <td>js</td>\n      <td>one_click_handler_one_afma_fy2021.js</td>\n      <td>NaN</td>\n      <td>text/javascript; charset=utf-8</td>\n      <td>sun, 17 may 1998 03:00:00 gmt</td>\n      <td>bytes</td>\n      <td>15601544113783900868</td>\n      <td>policyref=\"https://www.googleadservices.com/pa...</td>\n      <td>...</td>\n      <td>NaN</td>\n      <td>NaN</td>\n      <td>NaN</td>\n      <td>NaN</td>\n      <td>NaN</td>\n      <td>NaN</td>\n      <td>NaN</td>\n      <td>17</td>\n      <td>0</td>\n      <td>0</td>\n    </tr>\n    <tr>\n      <th>1</th>\n      <td>res.cdn.office.net</td>\n      <td>/officehub/bundles/staying-aware.b8b088b355c55...</td>\n      <td>js</td>\n      <td>staying-aware.b8b088b355c55b4ea7d6.chunk.v6.js</td>\n      <td>NaN</td>\n      <td>application/javascript</td>\n      <td>mon, 08 aug 2022 21:56:59 gmt</td>\n      <td>bytes</td>\n      <td>0x8da7b64a03a8ae5</td>\n      <td>NaN</td>\n      <td>...</td>\n      <td>NaN</td>\n      <td>NaN</td>\n      <td>NaN</td>\n      <td>NaN</td>\n      <td>NaN</td>\n      <td>NaN</td>\n      <td>NaN</td>\n      <td>14</td>\n      <td>1</td>\n      <td>0</td>\n    </tr>\n    <tr>\n      <th>2</th>\n      <td>www.google.com</td>\n      <td>/ads/ga-audiences</td>\n      <td>/ads/ga-audiences</td>\n      <td>ga-audiences</td>\n      <td>no-cache</td>\n      <td>image/gif</td>\n      <td>sun, 17 may 1998 03:00:00 gmt</td>\n      <td>bytes</td>\n      <td>12862140795212465669</td>\n      <td>policyref=\"https://www.googleadservices.com/pa...</td>\n      <td>...</td>\n      <td>NaN</td>\n      <td>NaN</td>\n      <td>NaN</td>\n      <td>NaN</td>\n      <td>NaN</td>\n      <td>NaN</td>\n      <td>NaN</td>\n      <td>13</td>\n      <td>0</td>\n      <td>0</td>\n    </tr>\n    <tr>\n      <th>3</th>\n      <td>ipv4-c113-lhr004-ix.1.oca.nflxvideo.net</td>\n      <td>/speedtest/range/0-0</td>\n      <td>/speedtest/range/0-0</td>\n      <td>0-0</td>\n      <td>no-cache</td>\n      <td>image/jpeg</td>\n      <td>thu, 11 aug 2022 21:41:37 gmt</td>\n      <td>bytes</td>\n      <td>0x8da7b64a03a8ae5</td>\n      <td>NaN</td>\n      <td>...</td>\n      <td>NaN</td>\n      <td>NaN</td>\n      <td>NaN</td>\n      <td>NaN</td>\n      <td>NaN</td>\n      <td>NaN</td>\n      <td>NaN</td>\n      <td>10</td>\n      <td>1</td>\n      <td>0</td>\n    </tr>\n    <tr>\n      <th>4</th>\n      <td>shimo.im</td>\n      <td>/</td>\n      <td>/</td>\n      <td></td>\n      <td>NaN</td>\n      <td>text/html; charset=utf-8</td>\n      <td>thu, 11 aug 2022 21:41:37 gmt</td>\n      <td>bytes</td>\n      <td>0x8da7b64a03a8ae5</td>\n      <td>NaN</td>\n      <td>...</td>\n      <td>NaN</td>\n      <td>NaN</td>\n      <td>NaN</td>\n      <td>NaN</td>\n      <td>NaN</td>\n      <td>NaN</td>\n      <td>NaN</td>\n      <td>10</td>\n      <td>0</td>\n      <td>0</td>\n    </tr>\n    <tr>\n      <th>...</th>\n      <td>...</td>\n      <td>...</td>\n      <td>...</td>\n      <td>...</td>\n      <td>...</td>\n      <td>...</td>\n      <td>...</td>\n      <td>...</td>\n      <td>...</td>\n      <td>...</td>\n      <td>...</td>\n      <td>...</td>\n      <td>...</td>\n      <td>...</td>\n      <td>...</td>\n      <td>...</td>\n      <td>...</td>\n      <td>...</td>\n      <td>...</td>\n      <td>...</td>\n      <td>...</td>\n    </tr>\n    <tr>\n      <th>253781</th>\n      <td>www.criteo.com</td>\n      <td>/wp-content/uploads/2021/01/ss-logo-Lamps-Plus...</td>\n      <td>png</td>\n      <td>ss-logo-Lamps-Plus.png</td>\n      <td>NaN</td>\n      <td>image/png</td>\n      <td>fri, 12 nov 2021 05:09:38 gmt</td>\n      <td>bytes</td>\n      <td>\"618df712-2509\"</td>\n      <td>NaN</td>\n      <td>...</td>\n      <td>NaN</td>\n      <td>NaN</td>\n      <td>NaN</td>\n      <td>NaN</td>\n      <td>NaN</td>\n      <td>NaN</td>\n      <td>NaN</td>\n      <td>22</td>\n      <td>1</td>\n      <td>0</td>\n    </tr>\n    <tr>\n      <th>253782</th>\n      <td>ads.adfox.ru</td>\n      <td>/260122/event</td>\n      <td>/260122/event</td>\n      <td>event</td>\n      <td>no-cache</td>\n      <td>image/gif</td>\n      <td>fri, 12 aug 2022 09:22:13 gmt</td>\n      <td>bytes</td>\n      <td>12862140795212465669</td>\n      <td>NaN</td>\n      <td>...</td>\n      <td>NaN</td>\n      <td>NaN</td>\n      <td>NaN</td>\n      <td>NaN</td>\n      <td>NaN</td>\n      <td>NaN</td>\n      <td>NaN</td>\n      <td>8</td>\n      <td>0</td>\n      <td>0</td>\n    </tr>\n    <tr>\n      <th>253783</th>\n      <td>synostatic.synology.com</td>\n      <td>/font/inter/inter-w400-6.woff2</td>\n      <td>woff2</td>\n      <td>inter-w400-6.woff2</td>\n      <td>NaN</td>\n      <td>binary/octet-stream</td>\n      <td>mon, 20 dec 2021 02:24:19 gmt</td>\n      <td>bytes</td>\n      <td>\"4abfa4888190370d347034f9fa43c804\"</td>\n      <td>NaN</td>\n      <td>...</td>\n      <td>NaN</td>\n      <td>NaN</td>\n      <td>NaN</td>\n      <td>NaN</td>\n      <td>NaN</td>\n      <td>NaN</td>\n      <td>NaN</td>\n      <td>16</td>\n      <td>0</td>\n      <td>0</td>\n    </tr>\n    <tr>\n      <th>253784</th>\n      <td>tenor.com</td>\n      <td>/opensearch.xml</td>\n      <td>xml</td>\n      <td>opensearch.xml</td>\n      <td>NaN</td>\n      <td>application/xml</td>\n      <td>thu, 26 apr 2018 18:25:27 gmt</td>\n      <td>bytes</td>\n      <td>w/\"29a-1630333f5d8\"</td>\n      <td>NaN</td>\n      <td>...</td>\n      <td>NaN</td>\n      <td>NaN</td>\n      <td>NaN</td>\n      <td>NaN</td>\n      <td>NaN</td>\n      <td>NaN</td>\n      <td>NaN</td>\n      <td>22</td>\n      <td>1</td>\n      <td>0</td>\n    </tr>\n    <tr>\n      <th>253785</th>\n      <td>r.bing.com</td>\n      <td>/rp/l_yPzUao8Z_UiytFemwYCOTvU_U.br.js</td>\n      <td>js</td>\n      <td>l_yPzUao8Z_UiytFemwYCOTvU_U.br.js</td>\n      <td>NaN</td>\n      <td>text/javascript; charset=utf-8</td>\n      <td>wed, 03 aug 2022 12:04:53 gmt</td>\n      <td>bytes</td>\n      <td>0x8da754860160d55</td>\n      <td>NaN</td>\n      <td>...</td>\n      <td>NaN</td>\n      <td>NaN</td>\n      <td>NaN</td>\n      <td>NaN</td>\n      <td>NaN</td>\n      <td>NaN</td>\n      <td>NaN</td>\n      <td>22</td>\n      <td>1</td>\n      <td>0</td>\n    </tr>\n  </tbody>\n</table>\n<p>253786 rows × 158 columns</p>\n</div>"
     },
     "execution_count": 68,
     "metadata": {},
     "output_type": "execute_result"
    }
   ],
   "source": [
    "X_train"
   ],
   "metadata": {
    "collapsed": false,
    "pycharm": {
     "name": "#%%\n"
    }
   }
  }
 ],
 "metadata": {
  "kernelspec": {
   "display_name": "Python 3",
   "language": "python",
   "name": "python3"
  },
  "language_info": {
   "codemirror_mode": {
    "name": "ipython",
    "version": 2
   },
   "file_extension": ".py",
   "mimetype": "text/x-python",
   "name": "python",
   "nbconvert_exporter": "python",
   "pygments_lexer": "ipython2",
   "version": "2.7.6"
  }
 },
 "nbformat": 4,
 "nbformat_minor": 0
}