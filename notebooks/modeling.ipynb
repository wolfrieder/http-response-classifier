{
 "cells": [
  {
   "cell_type": "code",
   "execution_count": 1,
   "metadata": {
    "collapsed": true
   },
   "outputs": [
    {
     "name": "stderr",
     "output_type": "stream",
     "text": [
      "/Users/wolfrieder/miniconda3/envs/code/lib/python3.9/site-packages/xgboost/compat.py:36: FutureWarning: pandas.Int64Index is deprecated and will be removed from pandas in a future version. Use pandas.Index with the appropriate dtype instead.\n",
      "  from pandas import MultiIndex, Int64Index\n"
     ]
    }
   ],
   "source": [
    "from sklearn.dummy import DummyClassifier\n",
    "import pandas as pd\n",
    "import numpy as np\n",
    "import xgboost as xgb\n",
    "# from sklearn.impute import KNNImputer\n",
    "from sklearn.ensemble import RandomForestClassifier\n",
    "from sklearn.neighbors import KNeighborsClassifier\n",
    "from sklearn import preprocessing\n",
    "from sklearn import metrics\n",
    "import matplotlib.pyplot as plt\n",
    "import seaborn as sns\n",
    "from scipy.stats import kstest, shapiro, probplot\n",
    "# import datawig"
   ]
  },
  {
   "cell_type": "code",
   "execution_count": 2,
   "outputs": [],
   "source": [
    "train_data = pd.read_parquet(\"../data/processed/chrome/08_12_2022/train_set_01_processed.parquet.gzip\")\n",
    "test_data = pd.read_parquet(\"../data/processed/chrome/08_12_2022/test_set_01_processed.parquet.gzip\")"
   ],
   "metadata": {
    "collapsed": false
   }
  },
  {
   "cell_type": "code",
   "execution_count": 3,
   "outputs": [
    {
     "data": {
      "text/plain": "                                       hostname  \\\n0                     tpc.googlesyndication.com   \n1                            res.cdn.office.net   \n2                                www.google.com   \n3       ipv4-c113-lhr004-ix.1.oca.nflxvideo.net   \n4                                      shimo.im   \n...                                         ...   \n271999                           www.criteo.com   \n272000                             ads.adfox.ru   \n272001                  synostatic.synology.com   \n272002                                tenor.com   \n272003                               r.bing.com   \n\n                                                 pathname  \\\n0       /pagead/js/r20220810/r20110914/client/one_clic...   \n1       /officehub/bundles/staying-aware.b8b088b355c55...   \n2                                       /ads/ga-audiences   \n3                                    /speedtest/range/0-0   \n4                                                       /   \n...                                                   ...   \n271999  /wp-content/uploads/2021/01/ss-logo-Lamps-Plus...   \n272000                                      /260122/event   \n272001                     /font/inter/inter-w400-6.woff2   \n272002                                    /opensearch.xml   \n272003              /rp/l_yPzUao8Z_UiytFemwYCOTvU_U.br.js   \n\n                    filetype                                        filename  \\\n0                         js            one_click_handler_one_afma_fy2021.js   \n1                         js  staying-aware.b8b088b355c55b4ea7d6.chunk.v6.js   \n2          /ads/ga-audiences                                    ga-audiences   \n3       /speedtest/range/0-0                                             0-0   \n4                          /                                                   \n...                      ...                                             ...   \n271999                   png                          ss-logo-Lamps-Plus.png   \n272000         /260122/event                                           event   \n272001                 woff2                              inter-w400-6.woff2   \n272002                   xml                                  opensearch.xml   \n272003                    js               l_yPzUao8Z_UiytFemwYCOTvU_U.br.js   \n\n          pragma                    content-type  \\\n0            NaN  text/javascript; charset=utf-8   \n1            NaN          application/javascript   \n2       no-cache                       image/gif   \n3       no-cache                             NaN   \n4            NaN        text/html; charset=utf-8   \n...          ...                             ...   \n271999       NaN                       image/png   \n272000  no-cache                             NaN   \n272001       NaN             binary/octet-stream   \n272002       NaN                 application/xml   \n272003       NaN  text/javascript; charset=utf-8   \n\n                        last-modified accept-ranges  \\\n0                                 NaN           NaN   \n1       mon, 08 aug 2022 21:56:59 gmt           NaN   \n2                                 NaN           NaN   \n3                                 NaN           NaN   \n4                                 NaN           NaN   \n...                               ...           ...   \n271999  fri, 12 nov 2021 05:09:38 gmt         bytes   \n272000  fri, 12 aug 2022 09:22:13 gmt           NaN   \n272001  mon, 20 dec 2021 02:24:19 gmt         bytes   \n272002  thu, 26 apr 2018 18:25:27 gmt         bytes   \n272003  wed, 03 aug 2022 12:04:53 gmt           NaN   \n\n                                      etag  \\\n0                     15601544113783900868   \n1                                      NaN   \n2                                      NaN   \n3                                      NaN   \n4                                      NaN   \n...                                    ...   \n271999                     \"618df712-2509\"   \n272000                                 NaN   \n272001  \"4abfa4888190370d347034f9fa43c804\"   \n272002                 w/\"29a-1630333f5d8\"   \n272003                   0x8da754860160d55   \n\n                                                      p3p  ... x-b3-spanid  \\\n0       policyref=\"https://www.googleadservices.com/pa...  ...         NaN   \n1                                                     NaN  ...         NaN   \n2       policyref=\"https://www.googleadservices.com/pa...  ...         NaN   \n3                                                     NaN  ...         NaN   \n4                                                     NaN  ...         NaN   \n...                                                   ...  ...         ...   \n271999                                                NaN  ...         NaN   \n272000                                                NaN  ...         NaN   \n272001                                                NaN  ...         NaN   \n272002                                                NaN  ...         NaN   \n272003                                                NaN  ...         NaN   \n\n       x-hubspot-correlation-id x-hs-target-asset x-hostname x-cdn-pop  \\\n0                           NaN               NaN        NaN       NaN   \n1                           NaN               NaN        NaN       NaN   \n2                           NaN               NaN        NaN       NaN   \n3                           NaN               NaN        NaN       NaN   \n4                           NaN               NaN        NaN       NaN   \n...                         ...               ...        ...       ...   \n271999                      NaN               NaN        NaN       NaN   \n272000                      NaN               NaN        NaN       NaN   \n272001                      NaN               NaN        NaN       NaN   \n272002                      NaN               NaN        NaN       NaN   \n272003                      NaN               NaN        NaN       NaN   \n\n       x-cdn-pop-ip tracker header_count comb_col_non_tracker  \\\n0               NaN       1           17                    0   \n1               NaN       0           14                    2   \n2               NaN       1           13                    0   \n3               NaN       0           10                    1   \n4               NaN       0           10                    1   \n...             ...     ...          ...                  ...   \n271999          NaN       0           22                    5   \n272000          NaN       1            8                    0   \n272001          NaN       0           16                    0   \n272002          NaN       0           22                    2   \n272003          NaN       0           22                    6   \n\n        comb_col_tracker  \n0                      0  \n1                      0  \n2                      0  \n3                      0  \n4                      0  \n...                  ...  \n271999                 0  \n272000                 0  \n272001                 0  \n272002                 0  \n272003                 0  \n\n[272004 rows x 158 columns]",
      "text/html": "<div>\n<style scoped>\n    .dataframe tbody tr th:only-of-type {\n        vertical-align: middle;\n    }\n\n    .dataframe tbody tr th {\n        vertical-align: top;\n    }\n\n    .dataframe thead th {\n        text-align: right;\n    }\n</style>\n<table border=\"1\" class=\"dataframe\">\n  <thead>\n    <tr style=\"text-align: right;\">\n      <th></th>\n      <th>hostname</th>\n      <th>pathname</th>\n      <th>filetype</th>\n      <th>filename</th>\n      <th>pragma</th>\n      <th>content-type</th>\n      <th>last-modified</th>\n      <th>accept-ranges</th>\n      <th>etag</th>\n      <th>p3p</th>\n      <th>...</th>\n      <th>x-b3-spanid</th>\n      <th>x-hubspot-correlation-id</th>\n      <th>x-hs-target-asset</th>\n      <th>x-hostname</th>\n      <th>x-cdn-pop</th>\n      <th>x-cdn-pop-ip</th>\n      <th>tracker</th>\n      <th>header_count</th>\n      <th>comb_col_non_tracker</th>\n      <th>comb_col_tracker</th>\n    </tr>\n  </thead>\n  <tbody>\n    <tr>\n      <th>0</th>\n      <td>tpc.googlesyndication.com</td>\n      <td>/pagead/js/r20220810/r20110914/client/one_clic...</td>\n      <td>js</td>\n      <td>one_click_handler_one_afma_fy2021.js</td>\n      <td>NaN</td>\n      <td>text/javascript; charset=utf-8</td>\n      <td>NaN</td>\n      <td>NaN</td>\n      <td>15601544113783900868</td>\n      <td>policyref=\"https://www.googleadservices.com/pa...</td>\n      <td>...</td>\n      <td>NaN</td>\n      <td>NaN</td>\n      <td>NaN</td>\n      <td>NaN</td>\n      <td>NaN</td>\n      <td>NaN</td>\n      <td>1</td>\n      <td>17</td>\n      <td>0</td>\n      <td>0</td>\n    </tr>\n    <tr>\n      <th>1</th>\n      <td>res.cdn.office.net</td>\n      <td>/officehub/bundles/staying-aware.b8b088b355c55...</td>\n      <td>js</td>\n      <td>staying-aware.b8b088b355c55b4ea7d6.chunk.v6.js</td>\n      <td>NaN</td>\n      <td>application/javascript</td>\n      <td>mon, 08 aug 2022 21:56:59 gmt</td>\n      <td>NaN</td>\n      <td>NaN</td>\n      <td>NaN</td>\n      <td>...</td>\n      <td>NaN</td>\n      <td>NaN</td>\n      <td>NaN</td>\n      <td>NaN</td>\n      <td>NaN</td>\n      <td>NaN</td>\n      <td>0</td>\n      <td>14</td>\n      <td>2</td>\n      <td>0</td>\n    </tr>\n    <tr>\n      <th>2</th>\n      <td>www.google.com</td>\n      <td>/ads/ga-audiences</td>\n      <td>/ads/ga-audiences</td>\n      <td>ga-audiences</td>\n      <td>no-cache</td>\n      <td>image/gif</td>\n      <td>NaN</td>\n      <td>NaN</td>\n      <td>NaN</td>\n      <td>policyref=\"https://www.googleadservices.com/pa...</td>\n      <td>...</td>\n      <td>NaN</td>\n      <td>NaN</td>\n      <td>NaN</td>\n      <td>NaN</td>\n      <td>NaN</td>\n      <td>NaN</td>\n      <td>1</td>\n      <td>13</td>\n      <td>0</td>\n      <td>0</td>\n    </tr>\n    <tr>\n      <th>3</th>\n      <td>ipv4-c113-lhr004-ix.1.oca.nflxvideo.net</td>\n      <td>/speedtest/range/0-0</td>\n      <td>/speedtest/range/0-0</td>\n      <td>0-0</td>\n      <td>no-cache</td>\n      <td>NaN</td>\n      <td>NaN</td>\n      <td>NaN</td>\n      <td>NaN</td>\n      <td>NaN</td>\n      <td>...</td>\n      <td>NaN</td>\n      <td>NaN</td>\n      <td>NaN</td>\n      <td>NaN</td>\n      <td>NaN</td>\n      <td>NaN</td>\n      <td>0</td>\n      <td>10</td>\n      <td>1</td>\n      <td>0</td>\n    </tr>\n    <tr>\n      <th>4</th>\n      <td>shimo.im</td>\n      <td>/</td>\n      <td>/</td>\n      <td></td>\n      <td>NaN</td>\n      <td>text/html; charset=utf-8</td>\n      <td>NaN</td>\n      <td>NaN</td>\n      <td>NaN</td>\n      <td>NaN</td>\n      <td>...</td>\n      <td>NaN</td>\n      <td>NaN</td>\n      <td>NaN</td>\n      <td>NaN</td>\n      <td>NaN</td>\n      <td>NaN</td>\n      <td>0</td>\n      <td>10</td>\n      <td>1</td>\n      <td>0</td>\n    </tr>\n    <tr>\n      <th>...</th>\n      <td>...</td>\n      <td>...</td>\n      <td>...</td>\n      <td>...</td>\n      <td>...</td>\n      <td>...</td>\n      <td>...</td>\n      <td>...</td>\n      <td>...</td>\n      <td>...</td>\n      <td>...</td>\n      <td>...</td>\n      <td>...</td>\n      <td>...</td>\n      <td>...</td>\n      <td>...</td>\n      <td>...</td>\n      <td>...</td>\n      <td>...</td>\n      <td>...</td>\n      <td>...</td>\n    </tr>\n    <tr>\n      <th>271999</th>\n      <td>www.criteo.com</td>\n      <td>/wp-content/uploads/2021/01/ss-logo-Lamps-Plus...</td>\n      <td>png</td>\n      <td>ss-logo-Lamps-Plus.png</td>\n      <td>NaN</td>\n      <td>image/png</td>\n      <td>fri, 12 nov 2021 05:09:38 gmt</td>\n      <td>bytes</td>\n      <td>\"618df712-2509\"</td>\n      <td>NaN</td>\n      <td>...</td>\n      <td>NaN</td>\n      <td>NaN</td>\n      <td>NaN</td>\n      <td>NaN</td>\n      <td>NaN</td>\n      <td>NaN</td>\n      <td>0</td>\n      <td>22</td>\n      <td>5</td>\n      <td>0</td>\n    </tr>\n    <tr>\n      <th>272000</th>\n      <td>ads.adfox.ru</td>\n      <td>/260122/event</td>\n      <td>/260122/event</td>\n      <td>event</td>\n      <td>no-cache</td>\n      <td>NaN</td>\n      <td>fri, 12 aug 2022 09:22:13 gmt</td>\n      <td>NaN</td>\n      <td>NaN</td>\n      <td>NaN</td>\n      <td>...</td>\n      <td>NaN</td>\n      <td>NaN</td>\n      <td>NaN</td>\n      <td>NaN</td>\n      <td>NaN</td>\n      <td>NaN</td>\n      <td>1</td>\n      <td>8</td>\n      <td>0</td>\n      <td>0</td>\n    </tr>\n    <tr>\n      <th>272001</th>\n      <td>synostatic.synology.com</td>\n      <td>/font/inter/inter-w400-6.woff2</td>\n      <td>woff2</td>\n      <td>inter-w400-6.woff2</td>\n      <td>NaN</td>\n      <td>binary/octet-stream</td>\n      <td>mon, 20 dec 2021 02:24:19 gmt</td>\n      <td>bytes</td>\n      <td>\"4abfa4888190370d347034f9fa43c804\"</td>\n      <td>NaN</td>\n      <td>...</td>\n      <td>NaN</td>\n      <td>NaN</td>\n      <td>NaN</td>\n      <td>NaN</td>\n      <td>NaN</td>\n      <td>NaN</td>\n      <td>0</td>\n      <td>16</td>\n      <td>0</td>\n      <td>0</td>\n    </tr>\n    <tr>\n      <th>272002</th>\n      <td>tenor.com</td>\n      <td>/opensearch.xml</td>\n      <td>xml</td>\n      <td>opensearch.xml</td>\n      <td>NaN</td>\n      <td>application/xml</td>\n      <td>thu, 26 apr 2018 18:25:27 gmt</td>\n      <td>bytes</td>\n      <td>w/\"29a-1630333f5d8\"</td>\n      <td>NaN</td>\n      <td>...</td>\n      <td>NaN</td>\n      <td>NaN</td>\n      <td>NaN</td>\n      <td>NaN</td>\n      <td>NaN</td>\n      <td>NaN</td>\n      <td>0</td>\n      <td>22</td>\n      <td>2</td>\n      <td>0</td>\n    </tr>\n    <tr>\n      <th>272003</th>\n      <td>r.bing.com</td>\n      <td>/rp/l_yPzUao8Z_UiytFemwYCOTvU_U.br.js</td>\n      <td>js</td>\n      <td>l_yPzUao8Z_UiytFemwYCOTvU_U.br.js</td>\n      <td>NaN</td>\n      <td>text/javascript; charset=utf-8</td>\n      <td>wed, 03 aug 2022 12:04:53 gmt</td>\n      <td>NaN</td>\n      <td>0x8da754860160d55</td>\n      <td>NaN</td>\n      <td>...</td>\n      <td>NaN</td>\n      <td>NaN</td>\n      <td>NaN</td>\n      <td>NaN</td>\n      <td>NaN</td>\n      <td>NaN</td>\n      <td>0</td>\n      <td>22</td>\n      <td>6</td>\n      <td>0</td>\n    </tr>\n  </tbody>\n</table>\n<p>272004 rows × 158 columns</p>\n</div>"
     },
     "execution_count": 3,
     "metadata": {},
     "output_type": "execute_result"
    }
   ],
   "source": [
    "train_data"
   ],
   "metadata": {
    "collapsed": false
   }
  },
  {
   "cell_type": "code",
   "execution_count": 3,
   "outputs": [],
   "source": [
    "train_data = train_data.iloc[:, 4:]\n",
    "test_data = test_data.iloc[:, 4:]"
   ],
   "metadata": {
    "collapsed": false
   }
  },
  {
   "cell_type": "code",
   "execution_count": 4,
   "outputs": [],
   "source": [
    "list_of_integer_cols = list(train_data.iloc[:, :-4].select_dtypes('Int64').columns.values.tolist())"
   ],
   "metadata": {
    "collapsed": false
   }
  },
  {
   "cell_type": "code",
   "execution_count": 129,
   "outputs": [],
   "source": [
    "a = train_data[train_data['content-length'].notnull()]['content-length'].to_numpy().astype(np.int64)"
   ],
   "metadata": {
    "collapsed": false
   }
  },
  {
   "cell_type": "code",
   "execution_count": 130,
   "outputs": [
    {
     "data": {
      "text/plain": "<Figure size 2160x504 with 1 Axes>",
      "image/png": "[encoded data removed]"
     },
     "metadata": {},
     "output_type": "display_data"
    }
   ],
   "source": [
    "fig2 = plt.figure(figsize=(30, 7))\n",
    "ax3 = fig2.add_subplot(1, 2, 1)\n",
    "probplot(a, dist='norm', plot=ax3)\n",
    "fig2.tight_layout()\n",
    "plt.show()"
   ],
   "metadata": {
    "collapsed": false
   }
  },
  {
   "cell_type": "code",
   "execution_count": 135,
   "outputs": [],
   "source": [
    "def check_distribution(dataset, feature, distribution):\n",
    "    values = dataset[dataset[feature].notnull()][feature]\n",
    "    sample_size = {5001: 1067, 5000: 880, 2500: 748, 1000: 516, 500: 341, 200: 169}\n",
    "    sample_values = [v for v in sample_size.keys() if len(values) > v]\n",
    "    if len(sample_values) == 0:\n",
    "        n = int(len(values) * 0.1)\n",
    "    else:\n",
    "        n = sample_size[sample_values[0]]\n",
    "    feature_values = values.sample(n=n, random_state=10).to_numpy().astype(np.int64)\n",
    "    stat, p_value = shapiro(feature_values) # kstest(feature_values, 'norm')\n",
    "    return stat, p_value"
   ],
   "metadata": {
    "collapsed": false
   }
  },
  {
   "cell_type": "code",
   "execution_count": 136,
   "outputs": [
    {
     "name": "stdout",
     "output_type": "stream",
     "text": [
      "(0.29529869556427, 0.0)\n",
      "(0.6642665863037109, 6.451095634664221e-36)\n",
      "(0.5888121128082275, 1.208368506451395e-27)\n",
      "(0.834446907043457, 1.9135712981441943e-18)\n",
      "(0.15520459413528442, 0.0)\n",
      "(0.26958900690078735, 1.7706358907953323e-34)\n",
      "(0.2968154549598694, 4.278720906236679e-25)\n",
      "(0.8256344795227051, 6.223809987347673e-13)\n",
      "(0.7801094055175781, 4.21312853166199e-21)\n",
      "(0.06737428903579712, 1.2599930966365826e-37)\n",
      "(0.09728425741195679, 3.3768185470753605e-37)\n",
      "(0.695381760597229, 2.8090679716663946e-17)\n",
      "(0.49541109800338745, 8.313267644966734e-22)\n",
      "(0.7211127281188965, 0.0009099743328988552)\n",
      "(0.33079594373703003, 1.3732526136828108e-24)\n"
     ]
    }
   ],
   "source": [
    "for col in list_of_integer_cols:\n",
    "    print(check_distribution(train_data, col, 'norm'))"
   ],
   "metadata": {
    "collapsed": false
   }
  },
  {
   "cell_type": "code",
   "execution_count": 155,
   "outputs": [],
   "source": [
    "def compute_outlier_boundaries(dataset, feature, distribution):\n",
    "    if distribution == 'skewed':\n",
    "        IQR = dataset[feature].quantile(0.75) - dataset[feature].quantile(0.25)\n",
    "        lower_boundary = dataset[feature].quantile(0.25) - (IQR * 1.5)\n",
    "        upper_boundary = dataset[feature].quantile(0.75) + (IQR * 1.5)\n",
    "        # print('Fare outliers are values < {lowerboundary} or > {upperboundary}'.format(lowerboundary=lower_boundary, upperboundary=upper_boundary))\n",
    "        return int(lower_boundary), int(upper_boundary)"
   ],
   "metadata": {
    "collapsed": false
   }
  },
  {
   "cell_type": "code",
   "execution_count": 142,
   "outputs": [
    {
     "name": "stdout",
     "output_type": "stream",
     "text": [
      "Fare outliers are values < -32819.5 or > 55592.5\n"
     ]
    }
   ],
   "source": [
    "compute_outlier_boundaries(train_data, 'content-length', 'skewed')"
   ],
   "metadata": {
    "collapsed": false
   }
  },
  {
   "cell_type": "code",
   "execution_count": 163,
   "outputs": [],
   "source": [
    "def cap_outlier_values(dataset, feature, lower_bound, upper_bound):\n",
    "    dataset.loc[dataset[feature] > upper_bound, feature] = upper_bound\n",
    "    dataset.loc[dataset[feature] < lower_bound, feature] = lower_bound\n",
    "\n",
    "    print(dataset[feature].describe())\n",
    "\n",
    "    # test_dataset.loc[test_dataset[feature] > upper_bound, feature] = upper_bound\n",
    "    # test_dataset.loc[test_dataset[feature] > lower_bound, feature] = lower_bound"
   ],
   "metadata": {
    "collapsed": false
   }
  },
  {
   "cell_type": "code",
   "execution_count": 146,
   "outputs": [],
   "source": [
    "data_copy = train_data.copy(deep=True)"
   ],
   "metadata": {
    "collapsed": false
   }
  },
  {
   "cell_type": "code",
   "execution_count": 165,
   "outputs": [
    {
     "name": "stdout",
     "output_type": "stream",
     "text": [
      "-32819 55592\n",
      "count    211540.0\n",
      "mean     -32819.0\n",
      "std           0.0\n",
      "min      -32819.0\n",
      "25%      -32819.0\n",
      "50%      -32819.0\n",
      "75%      -32819.0\n",
      "max      -32819.0\n",
      "Name: content-length, dtype: float64\n"
     ]
    }
   ],
   "source": [
    "low, up = compute_outlier_boundaries(data_copy, 'content-length', 'skewed')\n",
    "print(low, up)\n",
    "cap_outlier_values(train_data, 'content-length', low, up)"
   ],
   "metadata": {
    "collapsed": false
   }
  },
  {
   "cell_type": "code",
   "execution_count": 180,
   "outputs": [
    {
     "data": {
      "text/plain": "array([13475, 4768, 42, ..., 57064, 666, 70473], dtype=object)"
     },
     "execution_count": 180,
     "metadata": {},
     "output_type": "execute_result"
    }
   ],
   "source": [
    "np.percentile(data_copy[data_copy['content-length'].notnull()]['content-length'], 95)\n",
    "\n",
    "np.where(data_copy[data_copy['content-length'].notnull()]['content-length'] > 122660, 122660,\n",
    "         data_copy[data_copy['content-length'].notnull()]['content-length'])"
   ],
   "metadata": {
    "collapsed": false
   }
  },
  {
   "cell_type": "code",
   "execution_count": 12,
   "outputs": [],
   "source": [
    "# https://sparkbyexamples.com/pandas/pandas-change-position-of-a-column/\n",
    "def label_as_last_column(dataset):\n",
    "    temp_cols = dataset.columns.tolist()\n",
    "    index_col = dataset.columns.get_loc(\"tracker\")\n",
    "    new_col_order = temp_cols[0:index_col] + temp_cols[index_col+1:] + temp_cols[index_col:index_col+1]\n",
    "    return new_col_order"
   ],
   "metadata": {
    "collapsed": false
   }
  },
  {
   "cell_type": "code",
   "execution_count": 13,
   "outputs": [],
   "source": [
    "reordered_cols = label_as_last_column(train_data)\n",
    "train_data = train_data[reordered_cols]\n",
    "test_data = test_data[reordered_cols]"
   ],
   "metadata": {
    "collapsed": false
   }
  },
  {
   "cell_type": "code",
   "execution_count": 8,
   "outputs": [],
   "source": [
    "X_train, y_train = train_data.iloc[:, :-1], train_data[[\"tracker\"]]\n",
    "X_test, y_test = test_data.iloc[:, :-1], test_data[[\"tracker\"]]"
   ],
   "metadata": {
    "collapsed": false
   }
  },
  {
   "cell_type": "code",
   "execution_count": 4,
   "outputs": [],
   "source": [
    "def variance_per_column_2(column):\n",
    "    tracker_ratio = train_data[train_data[column].notnull()].tracker.value_counts()\n",
    "    try:\n",
    "        trackers = tracker_ratio[1]\n",
    "    except KeyError:\n",
    "        trackers = 0\n",
    "    try:\n",
    "        non_trackers = tracker_ratio[0]\n",
    "    except KeyError:\n",
    "        non_trackers = 0\n",
    "    return [column, trackers, non_trackers]"
   ],
   "metadata": {
    "collapsed": false
   }
  },
  {
   "cell_type": "code",
   "execution_count": 5,
   "outputs": [],
   "source": [
    "number_of_elements_reduced = np.array(\n",
    "    [variance_per_column_2(column) for column in train_data.iloc[:, :-4].columns]\n",
    ")\n",
    "summary_table = pd.DataFrame(\n",
    "    number_of_elements_reduced, columns=[\"header_name\", \"trackers\", \"non_trackers\"]\n",
    ")\n",
    "\n",
    "summary_table[\"trackers\"] = summary_table[\"trackers\"].astype(\"Int32\")\n",
    "summary_table[\"non_trackers\"] = summary_table[\"non_trackers\"].astype(\"float32\")"
   ],
   "metadata": {
    "collapsed": false
   }
  },
  {
   "cell_type": "code",
   "execution_count": 6,
   "outputs": [],
   "source": [
    "number_of_trackers = len(train_data[train_data['tracker'] == 1])\n",
    "number_of_non_trackers = len(train_data[train_data['tracker'] == 0])\n",
    "summary_table['ratio_tracker'] = summary_table['trackers'] / number_of_trackers\n",
    "summary_table['ratio_non_tracker'] = summary_table['non_trackers'] / number_of_non_trackers\n",
    "summary_table['tracker_na_ratio'] = train_data[train_data['tracker'] == 1].iloc[:, :-4].isnull().mean().values\n",
    "summary_table['non_tracker_na_ratio'] = train_data[train_data['tracker'] == 0].iloc[:, :-4].isnull().mean().values"
   ],
   "metadata": {
    "collapsed": false
   }
  },
  {
   "cell_type": "code",
   "execution_count": 7,
   "outputs": [
    {
     "data": {
      "text/plain": "                  header_name  trackers  non_trackers  ratio_tracker  \\\n0                      pragma     25805        8853.0       0.333747   \n1                content-type     70183      191835.0       0.907707   \n2               last-modified     27829      154469.0       0.359924   \n3               accept-ranges     15119      116366.0       0.195541   \n4                        etag     18194      129781.0       0.235311   \n..                        ...       ...           ...            ...   \n145  x-hubspot-correlation-id       127         267.0       0.001643   \n146         x-hs-target-asset        63          76.0       0.000815   \n147                x-hostname       116          61.0         0.0015   \n148                 x-cdn-pop        17         122.0        0.00022   \n149              x-cdn-pop-ip        17         122.0        0.00022   \n\n     ratio_non_tracker  tracker_na_ratio  non_tracker_na_ratio  \n0             0.045473          0.666253              0.954527  \n1             0.985361          0.092293              0.014639  \n2             0.793430          0.640076              0.206570  \n3             0.597714          0.804459              0.402286  \n4             0.666620          0.764689              0.333380  \n..                 ...               ...                   ...  \n145           0.001371          0.998357              0.998629  \n146           0.000390          0.999185              0.999610  \n147           0.000313          0.998500              0.999687  \n148           0.000627          0.999780              0.999373  \n149           0.000627          0.999780              0.999373  \n\n[150 rows x 7 columns]",
      "text/html": "<div>\n<style scoped>\n    .dataframe tbody tr th:only-of-type {\n        vertical-align: middle;\n    }\n\n    .dataframe tbody tr th {\n        vertical-align: top;\n    }\n\n    .dataframe thead th {\n        text-align: right;\n    }\n</style>\n<table border=\"1\" class=\"dataframe\">\n  <thead>\n    <tr style=\"text-align: right;\">\n      <th></th>\n      <th>header_name</th>\n      <th>trackers</th>\n      <th>non_trackers</th>\n      <th>ratio_tracker</th>\n      <th>ratio_non_tracker</th>\n      <th>tracker_na_ratio</th>\n      <th>non_tracker_na_ratio</th>\n    </tr>\n  </thead>\n  <tbody>\n    <tr>\n      <th>0</th>\n      <td>pragma</td>\n      <td>25805</td>\n      <td>8853.0</td>\n      <td>0.333747</td>\n      <td>0.045473</td>\n      <td>0.666253</td>\n      <td>0.954527</td>\n    </tr>\n    <tr>\n      <th>1</th>\n      <td>content-type</td>\n      <td>70183</td>\n      <td>191835.0</td>\n      <td>0.907707</td>\n      <td>0.985361</td>\n      <td>0.092293</td>\n      <td>0.014639</td>\n    </tr>\n    <tr>\n      <th>2</th>\n      <td>last-modified</td>\n      <td>27829</td>\n      <td>154469.0</td>\n      <td>0.359924</td>\n      <td>0.793430</td>\n      <td>0.640076</td>\n      <td>0.206570</td>\n    </tr>\n    <tr>\n      <th>3</th>\n      <td>accept-ranges</td>\n      <td>15119</td>\n      <td>116366.0</td>\n      <td>0.195541</td>\n      <td>0.597714</td>\n      <td>0.804459</td>\n      <td>0.402286</td>\n    </tr>\n    <tr>\n      <th>4</th>\n      <td>etag</td>\n      <td>18194</td>\n      <td>129781.0</td>\n      <td>0.235311</td>\n      <td>0.666620</td>\n      <td>0.764689</td>\n      <td>0.333380</td>\n    </tr>\n    <tr>\n      <th>...</th>\n      <td>...</td>\n      <td>...</td>\n      <td>...</td>\n      <td>...</td>\n      <td>...</td>\n      <td>...</td>\n      <td>...</td>\n    </tr>\n    <tr>\n      <th>145</th>\n      <td>x-hubspot-correlation-id</td>\n      <td>127</td>\n      <td>267.0</td>\n      <td>0.001643</td>\n      <td>0.001371</td>\n      <td>0.998357</td>\n      <td>0.998629</td>\n    </tr>\n    <tr>\n      <th>146</th>\n      <td>x-hs-target-asset</td>\n      <td>63</td>\n      <td>76.0</td>\n      <td>0.000815</td>\n      <td>0.000390</td>\n      <td>0.999185</td>\n      <td>0.999610</td>\n    </tr>\n    <tr>\n      <th>147</th>\n      <td>x-hostname</td>\n      <td>116</td>\n      <td>61.0</td>\n      <td>0.0015</td>\n      <td>0.000313</td>\n      <td>0.998500</td>\n      <td>0.999687</td>\n    </tr>\n    <tr>\n      <th>148</th>\n      <td>x-cdn-pop</td>\n      <td>17</td>\n      <td>122.0</td>\n      <td>0.00022</td>\n      <td>0.000627</td>\n      <td>0.999780</td>\n      <td>0.999373</td>\n    </tr>\n    <tr>\n      <th>149</th>\n      <td>x-cdn-pop-ip</td>\n      <td>17</td>\n      <td>122.0</td>\n      <td>0.00022</td>\n      <td>0.000627</td>\n      <td>0.999780</td>\n      <td>0.999373</td>\n    </tr>\n  </tbody>\n</table>\n<p>150 rows × 7 columns</p>\n</div>"
     },
     "execution_count": 7,
     "metadata": {},
     "output_type": "execute_result"
    }
   ],
   "source": [
    "summary_table"
   ],
   "metadata": {
    "collapsed": false
   }
  },
  {
   "cell_type": "code",
   "execution_count": 8,
   "outputs": [],
   "source": [
    "na_ratio_greater_than_85 = summary_table[summary_table['tracker_na_ratio'] >= 0.85].header_name.values.tolist()"
   ],
   "metadata": {
    "collapsed": false
   }
  },
  {
   "cell_type": "code",
   "execution_count": 9,
   "outputs": [
    {
     "name": "stderr",
     "output_type": "stream",
     "text": [
      "<ipython-input-9-1f75fc38838f>:3: PerformanceWarning: DataFrame is highly fragmented.  This is usually the result of calling `frame.insert` many times, which has poor performance.  Consider joining all columns at once using pd.concat(axis=1) instead. To get a de-fragmented frame, use `newframe = frame.copy()`\n",
      "  train_data[f'{elem}_binary'] = np.where(train_data[elem].isnull(), 0, 1)\n",
      "<ipython-input-9-1f75fc38838f>:4: PerformanceWarning: DataFrame is highly fragmented.  This is usually the result of calling `frame.insert` many times, which has poor performance.  Consider joining all columns at once using pd.concat(axis=1) instead. To get a de-fragmented frame, use `newframe = frame.copy()`\n",
      "  test_data[f'{elem}_binary'] = np.where(test_data[elem].isnull(), 0, 1)\n",
      "<ipython-input-9-1f75fc38838f>:3: PerformanceWarning: DataFrame is highly fragmented.  This is usually the result of calling `frame.insert` many times, which has poor performance.  Consider joining all columns at once using pd.concat(axis=1) instead. To get a de-fragmented frame, use `newframe = frame.copy()`\n",
      "  train_data[f'{elem}_binary'] = np.where(train_data[elem].isnull(), 0, 1)\n",
      "<ipython-input-9-1f75fc38838f>:4: PerformanceWarning: DataFrame is highly fragmented.  This is usually the result of calling `frame.insert` many times, which has poor performance.  Consider joining all columns at once using pd.concat(axis=1) instead. To get a de-fragmented frame, use `newframe = frame.copy()`\n",
      "  test_data[f'{elem}_binary'] = np.where(test_data[elem].isnull(), 0, 1)\n",
      "<ipython-input-9-1f75fc38838f>:3: PerformanceWarning: DataFrame is highly fragmented.  This is usually the result of calling `frame.insert` many times, which has poor performance.  Consider joining all columns at once using pd.concat(axis=1) instead. To get a de-fragmented frame, use `newframe = frame.copy()`\n",
      "  train_data[f'{elem}_binary'] = np.where(train_data[elem].isnull(), 0, 1)\n",
      "<ipython-input-9-1f75fc38838f>:4: PerformanceWarning: DataFrame is highly fragmented.  This is usually the result of calling `frame.insert` many times, which has poor performance.  Consider joining all columns at once using pd.concat(axis=1) instead. To get a de-fragmented frame, use `newframe = frame.copy()`\n",
      "  test_data[f'{elem}_binary'] = np.where(test_data[elem].isnull(), 0, 1)\n",
      "<ipython-input-9-1f75fc38838f>:3: PerformanceWarning: DataFrame is highly fragmented.  This is usually the result of calling `frame.insert` many times, which has poor performance.  Consider joining all columns at once using pd.concat(axis=1) instead. To get a de-fragmented frame, use `newframe = frame.copy()`\n",
      "  train_data[f'{elem}_binary'] = np.where(train_data[elem].isnull(), 0, 1)\n",
      "<ipython-input-9-1f75fc38838f>:4: PerformanceWarning: DataFrame is highly fragmented.  This is usually the result of calling `frame.insert` many times, which has poor performance.  Consider joining all columns at once using pd.concat(axis=1) instead. To get a de-fragmented frame, use `newframe = frame.copy()`\n",
      "  test_data[f'{elem}_binary'] = np.where(test_data[elem].isnull(), 0, 1)\n",
      "<ipython-input-9-1f75fc38838f>:3: PerformanceWarning: DataFrame is highly fragmented.  This is usually the result of calling `frame.insert` many times, which has poor performance.  Consider joining all columns at once using pd.concat(axis=1) instead. To get a de-fragmented frame, use `newframe = frame.copy()`\n",
      "  train_data[f'{elem}_binary'] = np.where(train_data[elem].isnull(), 0, 1)\n",
      "<ipython-input-9-1f75fc38838f>:4: PerformanceWarning: DataFrame is highly fragmented.  This is usually the result of calling `frame.insert` many times, which has poor performance.  Consider joining all columns at once using pd.concat(axis=1) instead. To get a de-fragmented frame, use `newframe = frame.copy()`\n",
      "  test_data[f'{elem}_binary'] = np.where(test_data[elem].isnull(), 0, 1)\n",
      "<ipython-input-9-1f75fc38838f>:3: PerformanceWarning: DataFrame is highly fragmented.  This is usually the result of calling `frame.insert` many times, which has poor performance.  Consider joining all columns at once using pd.concat(axis=1) instead. To get a de-fragmented frame, use `newframe = frame.copy()`\n",
      "  train_data[f'{elem}_binary'] = np.where(train_data[elem].isnull(), 0, 1)\n",
      "<ipython-input-9-1f75fc38838f>:4: PerformanceWarning: DataFrame is highly fragmented.  This is usually the result of calling `frame.insert` many times, which has poor performance.  Consider joining all columns at once using pd.concat(axis=1) instead. To get a de-fragmented frame, use `newframe = frame.copy()`\n",
      "  test_data[f'{elem}_binary'] = np.where(test_data[elem].isnull(), 0, 1)\n",
      "<ipython-input-9-1f75fc38838f>:3: PerformanceWarning: DataFrame is highly fragmented.  This is usually the result of calling `frame.insert` many times, which has poor performance.  Consider joining all columns at once using pd.concat(axis=1) instead. To get a de-fragmented frame, use `newframe = frame.copy()`\n",
      "  train_data[f'{elem}_binary'] = np.where(train_data[elem].isnull(), 0, 1)\n",
      "<ipython-input-9-1f75fc38838f>:4: PerformanceWarning: DataFrame is highly fragmented.  This is usually the result of calling `frame.insert` many times, which has poor performance.  Consider joining all columns at once using pd.concat(axis=1) instead. To get a de-fragmented frame, use `newframe = frame.copy()`\n",
      "  test_data[f'{elem}_binary'] = np.where(test_data[elem].isnull(), 0, 1)\n",
      "<ipython-input-9-1f75fc38838f>:3: PerformanceWarning: DataFrame is highly fragmented.  This is usually the result of calling `frame.insert` many times, which has poor performance.  Consider joining all columns at once using pd.concat(axis=1) instead. To get a de-fragmented frame, use `newframe = frame.copy()`\n",
      "  train_data[f'{elem}_binary'] = np.where(train_data[elem].isnull(), 0, 1)\n",
      "<ipython-input-9-1f75fc38838f>:4: PerformanceWarning: DataFrame is highly fragmented.  This is usually the result of calling `frame.insert` many times, which has poor performance.  Consider joining all columns at once using pd.concat(axis=1) instead. To get a de-fragmented frame, use `newframe = frame.copy()`\n",
      "  test_data[f'{elem}_binary'] = np.where(test_data[elem].isnull(), 0, 1)\n",
      "<ipython-input-9-1f75fc38838f>:3: PerformanceWarning: DataFrame is highly fragmented.  This is usually the result of calling `frame.insert` many times, which has poor performance.  Consider joining all columns at once using pd.concat(axis=1) instead. To get a de-fragmented frame, use `newframe = frame.copy()`\n",
      "  train_data[f'{elem}_binary'] = np.where(train_data[elem].isnull(), 0, 1)\n",
      "<ipython-input-9-1f75fc38838f>:4: PerformanceWarning: DataFrame is highly fragmented.  This is usually the result of calling `frame.insert` many times, which has poor performance.  Consider joining all columns at once using pd.concat(axis=1) instead. To get a de-fragmented frame, use `newframe = frame.copy()`\n",
      "  test_data[f'{elem}_binary'] = np.where(test_data[elem].isnull(), 0, 1)\n",
      "<ipython-input-9-1f75fc38838f>:3: PerformanceWarning: DataFrame is highly fragmented.  This is usually the result of calling `frame.insert` many times, which has poor performance.  Consider joining all columns at once using pd.concat(axis=1) instead. To get a de-fragmented frame, use `newframe = frame.copy()`\n",
      "  train_data[f'{elem}_binary'] = np.where(train_data[elem].isnull(), 0, 1)\n",
      "<ipython-input-9-1f75fc38838f>:4: PerformanceWarning: DataFrame is highly fragmented.  This is usually the result of calling `frame.insert` many times, which has poor performance.  Consider joining all columns at once using pd.concat(axis=1) instead. To get a de-fragmented frame, use `newframe = frame.copy()`\n",
      "  test_data[f'{elem}_binary'] = np.where(test_data[elem].isnull(), 0, 1)\n",
      "<ipython-input-9-1f75fc38838f>:3: PerformanceWarning: DataFrame is highly fragmented.  This is usually the result of calling `frame.insert` many times, which has poor performance.  Consider joining all columns at once using pd.concat(axis=1) instead. To get a de-fragmented frame, use `newframe = frame.copy()`\n",
      "  train_data[f'{elem}_binary'] = np.where(train_data[elem].isnull(), 0, 1)\n",
      "<ipython-input-9-1f75fc38838f>:4: PerformanceWarning: DataFrame is highly fragmented.  This is usually the result of calling `frame.insert` many times, which has poor performance.  Consider joining all columns at once using pd.concat(axis=1) instead. To get a de-fragmented frame, use `newframe = frame.copy()`\n",
      "  test_data[f'{elem}_binary'] = np.where(test_data[elem].isnull(), 0, 1)\n",
      "<ipython-input-9-1f75fc38838f>:3: PerformanceWarning: DataFrame is highly fragmented.  This is usually the result of calling `frame.insert` many times, which has poor performance.  Consider joining all columns at once using pd.concat(axis=1) instead. To get a de-fragmented frame, use `newframe = frame.copy()`\n",
      "  train_data[f'{elem}_binary'] = np.where(train_data[elem].isnull(), 0, 1)\n",
      "<ipython-input-9-1f75fc38838f>:4: PerformanceWarning: DataFrame is highly fragmented.  This is usually the result of calling `frame.insert` many times, which has poor performance.  Consider joining all columns at once using pd.concat(axis=1) instead. To get a de-fragmented frame, use `newframe = frame.copy()`\n",
      "  test_data[f'{elem}_binary'] = np.where(test_data[elem].isnull(), 0, 1)\n",
      "<ipython-input-9-1f75fc38838f>:3: PerformanceWarning: DataFrame is highly fragmented.  This is usually the result of calling `frame.insert` many times, which has poor performance.  Consider joining all columns at once using pd.concat(axis=1) instead. To get a de-fragmented frame, use `newframe = frame.copy()`\n",
      "  train_data[f'{elem}_binary'] = np.where(train_data[elem].isnull(), 0, 1)\n",
      "<ipython-input-9-1f75fc38838f>:4: PerformanceWarning: DataFrame is highly fragmented.  This is usually the result of calling `frame.insert` many times, which has poor performance.  Consider joining all columns at once using pd.concat(axis=1) instead. To get a de-fragmented frame, use `newframe = frame.copy()`\n",
      "  test_data[f'{elem}_binary'] = np.where(test_data[elem].isnull(), 0, 1)\n",
      "<ipython-input-9-1f75fc38838f>:3: PerformanceWarning: DataFrame is highly fragmented.  This is usually the result of calling `frame.insert` many times, which has poor performance.  Consider joining all columns at once using pd.concat(axis=1) instead. To get a de-fragmented frame, use `newframe = frame.copy()`\n",
      "  train_data[f'{elem}_binary'] = np.where(train_data[elem].isnull(), 0, 1)\n",
      "<ipython-input-9-1f75fc38838f>:4: PerformanceWarning: DataFrame is highly fragmented.  This is usually the result of calling `frame.insert` many times, which has poor performance.  Consider joining all columns at once using pd.concat(axis=1) instead. To get a de-fragmented frame, use `newframe = frame.copy()`\n",
      "  test_data[f'{elem}_binary'] = np.where(test_data[elem].isnull(), 0, 1)\n",
      "<ipython-input-9-1f75fc38838f>:3: PerformanceWarning: DataFrame is highly fragmented.  This is usually the result of calling `frame.insert` many times, which has poor performance.  Consider joining all columns at once using pd.concat(axis=1) instead. To get a de-fragmented frame, use `newframe = frame.copy()`\n",
      "  train_data[f'{elem}_binary'] = np.where(train_data[elem].isnull(), 0, 1)\n",
      "<ipython-input-9-1f75fc38838f>:4: PerformanceWarning: DataFrame is highly fragmented.  This is usually the result of calling `frame.insert` many times, which has poor performance.  Consider joining all columns at once using pd.concat(axis=1) instead. To get a de-fragmented frame, use `newframe = frame.copy()`\n",
      "  test_data[f'{elem}_binary'] = np.where(test_data[elem].isnull(), 0, 1)\n",
      "<ipython-input-9-1f75fc38838f>:3: PerformanceWarning: DataFrame is highly fragmented.  This is usually the result of calling `frame.insert` many times, which has poor performance.  Consider joining all columns at once using pd.concat(axis=1) instead. To get a de-fragmented frame, use `newframe = frame.copy()`\n",
      "  train_data[f'{elem}_binary'] = np.where(train_data[elem].isnull(), 0, 1)\n",
      "<ipython-input-9-1f75fc38838f>:4: PerformanceWarning: DataFrame is highly fragmented.  This is usually the result of calling `frame.insert` many times, which has poor performance.  Consider joining all columns at once using pd.concat(axis=1) instead. To get a de-fragmented frame, use `newframe = frame.copy()`\n",
      "  test_data[f'{elem}_binary'] = np.where(test_data[elem].isnull(), 0, 1)\n",
      "<ipython-input-9-1f75fc38838f>:3: PerformanceWarning: DataFrame is highly fragmented.  This is usually the result of calling `frame.insert` many times, which has poor performance.  Consider joining all columns at once using pd.concat(axis=1) instead. To get a de-fragmented frame, use `newframe = frame.copy()`\n",
      "  train_data[f'{elem}_binary'] = np.where(train_data[elem].isnull(), 0, 1)\n",
      "<ipython-input-9-1f75fc38838f>:4: PerformanceWarning: DataFrame is highly fragmented.  This is usually the result of calling `frame.insert` many times, which has poor performance.  Consider joining all columns at once using pd.concat(axis=1) instead. To get a de-fragmented frame, use `newframe = frame.copy()`\n",
      "  test_data[f'{elem}_binary'] = np.where(test_data[elem].isnull(), 0, 1)\n",
      "<ipython-input-9-1f75fc38838f>:3: PerformanceWarning: DataFrame is highly fragmented.  This is usually the result of calling `frame.insert` many times, which has poor performance.  Consider joining all columns at once using pd.concat(axis=1) instead. To get a de-fragmented frame, use `newframe = frame.copy()`\n",
      "  train_data[f'{elem}_binary'] = np.where(train_data[elem].isnull(), 0, 1)\n",
      "<ipython-input-9-1f75fc38838f>:4: PerformanceWarning: DataFrame is highly fragmented.  This is usually the result of calling `frame.insert` many times, which has poor performance.  Consider joining all columns at once using pd.concat(axis=1) instead. To get a de-fragmented frame, use `newframe = frame.copy()`\n",
      "  test_data[f'{elem}_binary'] = np.where(test_data[elem].isnull(), 0, 1)\n",
      "<ipython-input-9-1f75fc38838f>:3: PerformanceWarning: DataFrame is highly fragmented.  This is usually the result of calling `frame.insert` many times, which has poor performance.  Consider joining all columns at once using pd.concat(axis=1) instead. To get a de-fragmented frame, use `newframe = frame.copy()`\n",
      "  train_data[f'{elem}_binary'] = np.where(train_data[elem].isnull(), 0, 1)\n",
      "<ipython-input-9-1f75fc38838f>:4: PerformanceWarning: DataFrame is highly fragmented.  This is usually the result of calling `frame.insert` many times, which has poor performance.  Consider joining all columns at once using pd.concat(axis=1) instead. To get a de-fragmented frame, use `newframe = frame.copy()`\n",
      "  test_data[f'{elem}_binary'] = np.where(test_data[elem].isnull(), 0, 1)\n",
      "<ipython-input-9-1f75fc38838f>:3: PerformanceWarning: DataFrame is highly fragmented.  This is usually the result of calling `frame.insert` many times, which has poor performance.  Consider joining all columns at once using pd.concat(axis=1) instead. To get a de-fragmented frame, use `newframe = frame.copy()`\n",
      "  train_data[f'{elem}_binary'] = np.where(train_data[elem].isnull(), 0, 1)\n",
      "<ipython-input-9-1f75fc38838f>:4: PerformanceWarning: DataFrame is highly fragmented.  This is usually the result of calling `frame.insert` many times, which has poor performance.  Consider joining all columns at once using pd.concat(axis=1) instead. To get a de-fragmented frame, use `newframe = frame.copy()`\n",
      "  test_data[f'{elem}_binary'] = np.where(test_data[elem].isnull(), 0, 1)\n",
      "<ipython-input-9-1f75fc38838f>:3: PerformanceWarning: DataFrame is highly fragmented.  This is usually the result of calling `frame.insert` many times, which has poor performance.  Consider joining all columns at once using pd.concat(axis=1) instead. To get a de-fragmented frame, use `newframe = frame.copy()`\n",
      "  train_data[f'{elem}_binary'] = np.where(train_data[elem].isnull(), 0, 1)\n",
      "<ipython-input-9-1f75fc38838f>:4: PerformanceWarning: DataFrame is highly fragmented.  This is usually the result of calling `frame.insert` many times, which has poor performance.  Consider joining all columns at once using pd.concat(axis=1) instead. To get a de-fragmented frame, use `newframe = frame.copy()`\n",
      "  test_data[f'{elem}_binary'] = np.where(test_data[elem].isnull(), 0, 1)\n",
      "<ipython-input-9-1f75fc38838f>:3: PerformanceWarning: DataFrame is highly fragmented.  This is usually the result of calling `frame.insert` many times, which has poor performance.  Consider joining all columns at once using pd.concat(axis=1) instead. To get a de-fragmented frame, use `newframe = frame.copy()`\n",
      "  train_data[f'{elem}_binary'] = np.where(train_data[elem].isnull(), 0, 1)\n",
      "<ipython-input-9-1f75fc38838f>:4: PerformanceWarning: DataFrame is highly fragmented.  This is usually the result of calling `frame.insert` many times, which has poor performance.  Consider joining all columns at once using pd.concat(axis=1) instead. To get a de-fragmented frame, use `newframe = frame.copy()`\n",
      "  test_data[f'{elem}_binary'] = np.where(test_data[elem].isnull(), 0, 1)\n",
      "<ipython-input-9-1f75fc38838f>:3: PerformanceWarning: DataFrame is highly fragmented.  This is usually the result of calling `frame.insert` many times, which has poor performance.  Consider joining all columns at once using pd.concat(axis=1) instead. To get a de-fragmented frame, use `newframe = frame.copy()`\n",
      "  train_data[f'{elem}_binary'] = np.where(train_data[elem].isnull(), 0, 1)\n",
      "<ipython-input-9-1f75fc38838f>:4: PerformanceWarning: DataFrame is highly fragmented.  This is usually the result of calling `frame.insert` many times, which has poor performance.  Consider joining all columns at once using pd.concat(axis=1) instead. To get a de-fragmented frame, use `newframe = frame.copy()`\n",
      "  test_data[f'{elem}_binary'] = np.where(test_data[elem].isnull(), 0, 1)\n",
      "<ipython-input-9-1f75fc38838f>:3: PerformanceWarning: DataFrame is highly fragmented.  This is usually the result of calling `frame.insert` many times, which has poor performance.  Consider joining all columns at once using pd.concat(axis=1) instead. To get a de-fragmented frame, use `newframe = frame.copy()`\n",
      "  train_data[f'{elem}_binary'] = np.where(train_data[elem].isnull(), 0, 1)\n",
      "<ipython-input-9-1f75fc38838f>:4: PerformanceWarning: DataFrame is highly fragmented.  This is usually the result of calling `frame.insert` many times, which has poor performance.  Consider joining all columns at once using pd.concat(axis=1) instead. To get a de-fragmented frame, use `newframe = frame.copy()`\n",
      "  test_data[f'{elem}_binary'] = np.where(test_data[elem].isnull(), 0, 1)\n",
      "<ipython-input-9-1f75fc38838f>:3: PerformanceWarning: DataFrame is highly fragmented.  This is usually the result of calling `frame.insert` many times, which has poor performance.  Consider joining all columns at once using pd.concat(axis=1) instead. To get a de-fragmented frame, use `newframe = frame.copy()`\n",
      "  train_data[f'{elem}_binary'] = np.where(train_data[elem].isnull(), 0, 1)\n",
      "<ipython-input-9-1f75fc38838f>:4: PerformanceWarning: DataFrame is highly fragmented.  This is usually the result of calling `frame.insert` many times, which has poor performance.  Consider joining all columns at once using pd.concat(axis=1) instead. To get a de-fragmented frame, use `newframe = frame.copy()`\n",
      "  test_data[f'{elem}_binary'] = np.where(test_data[elem].isnull(), 0, 1)\n",
      "<ipython-input-9-1f75fc38838f>:3: PerformanceWarning: DataFrame is highly fragmented.  This is usually the result of calling `frame.insert` many times, which has poor performance.  Consider joining all columns at once using pd.concat(axis=1) instead. To get a de-fragmented frame, use `newframe = frame.copy()`\n",
      "  train_data[f'{elem}_binary'] = np.where(train_data[elem].isnull(), 0, 1)\n",
      "<ipython-input-9-1f75fc38838f>:4: PerformanceWarning: DataFrame is highly fragmented.  This is usually the result of calling `frame.insert` many times, which has poor performance.  Consider joining all columns at once using pd.concat(axis=1) instead. To get a de-fragmented frame, use `newframe = frame.copy()`\n",
      "  test_data[f'{elem}_binary'] = np.where(test_data[elem].isnull(), 0, 1)\n",
      "<ipython-input-9-1f75fc38838f>:3: PerformanceWarning: DataFrame is highly fragmented.  This is usually the result of calling `frame.insert` many times, which has poor performance.  Consider joining all columns at once using pd.concat(axis=1) instead. To get a de-fragmented frame, use `newframe = frame.copy()`\n",
      "  train_data[f'{elem}_binary'] = np.where(train_data[elem].isnull(), 0, 1)\n",
      "<ipython-input-9-1f75fc38838f>:4: PerformanceWarning: DataFrame is highly fragmented.  This is usually the result of calling `frame.insert` many times, which has poor performance.  Consider joining all columns at once using pd.concat(axis=1) instead. To get a de-fragmented frame, use `newframe = frame.copy()`\n",
      "  test_data[f'{elem}_binary'] = np.where(test_data[elem].isnull(), 0, 1)\n",
      "<ipython-input-9-1f75fc38838f>:3: PerformanceWarning: DataFrame is highly fragmented.  This is usually the result of calling `frame.insert` many times, which has poor performance.  Consider joining all columns at once using pd.concat(axis=1) instead. To get a de-fragmented frame, use `newframe = frame.copy()`\n",
      "  train_data[f'{elem}_binary'] = np.where(train_data[elem].isnull(), 0, 1)\n",
      "<ipython-input-9-1f75fc38838f>:4: PerformanceWarning: DataFrame is highly fragmented.  This is usually the result of calling `frame.insert` many times, which has poor performance.  Consider joining all columns at once using pd.concat(axis=1) instead. To get a de-fragmented frame, use `newframe = frame.copy()`\n",
      "  test_data[f'{elem}_binary'] = np.where(test_data[elem].isnull(), 0, 1)\n",
      "<ipython-input-9-1f75fc38838f>:3: PerformanceWarning: DataFrame is highly fragmented.  This is usually the result of calling `frame.insert` many times, which has poor performance.  Consider joining all columns at once using pd.concat(axis=1) instead. To get a de-fragmented frame, use `newframe = frame.copy()`\n",
      "  train_data[f'{elem}_binary'] = np.where(train_data[elem].isnull(), 0, 1)\n",
      "<ipython-input-9-1f75fc38838f>:4: PerformanceWarning: DataFrame is highly fragmented.  This is usually the result of calling `frame.insert` many times, which has poor performance.  Consider joining all columns at once using pd.concat(axis=1) instead. To get a de-fragmented frame, use `newframe = frame.copy()`\n",
      "  test_data[f'{elem}_binary'] = np.where(test_data[elem].isnull(), 0, 1)\n",
      "<ipython-input-9-1f75fc38838f>:3: PerformanceWarning: DataFrame is highly fragmented.  This is usually the result of calling `frame.insert` many times, which has poor performance.  Consider joining all columns at once using pd.concat(axis=1) instead. To get a de-fragmented frame, use `newframe = frame.copy()`\n",
      "  train_data[f'{elem}_binary'] = np.where(train_data[elem].isnull(), 0, 1)\n",
      "<ipython-input-9-1f75fc38838f>:4: PerformanceWarning: DataFrame is highly fragmented.  This is usually the result of calling `frame.insert` many times, which has poor performance.  Consider joining all columns at once using pd.concat(axis=1) instead. To get a de-fragmented frame, use `newframe = frame.copy()`\n",
      "  test_data[f'{elem}_binary'] = np.where(test_data[elem].isnull(), 0, 1)\n"
     ]
    }
   ],
   "source": [
    "# list_of_dfs = []\n",
    "for elem in na_ratio_greater_than_85:\n",
    "    train_data[f'{elem}_binary'] = np.where(train_data[elem].isnull(), 0, 1)\n",
    "    test_data[f'{elem}_binary'] = np.where(test_data[elem].isnull(), 0, 1)\n",
    "    # list_of_dfs.append(pd.DataFrame(np.where(X_train[elem].isnull(), 0, 1), columns=[f'{elem}_binary']))\n",
    "\n",
    "# pd.concat(list_of_dfs)"
   ],
   "metadata": {
    "collapsed": false
   }
  },
  {
   "cell_type": "code",
   "execution_count": 15,
   "outputs": [],
   "source": [
    "train_data.drop(na_ratio_greater_than_85, axis=1, inplace=True)\n",
    "test_data.drop(na_ratio_greater_than_85, axis=1, inplace=True)"
   ],
   "metadata": {
    "collapsed": false
   }
  },
  {
   "cell_type": "code",
   "execution_count": 16,
   "outputs": [],
   "source": [
    "train_data.drop(['last-modified', 'date'], axis=1, inplace=True)\n",
    "test_data.drop(['last-modified', 'date'], axis=1, inplace=True)"
   ],
   "metadata": {
    "collapsed": false
   }
  },
  {
   "cell_type": "markdown",
   "source": [
    "if time check sun, 17 may 1998 03:00:00 gmt for last-modified -> trackers"
   ],
   "metadata": {
    "collapsed": false
   }
  },
  {
   "cell_type": "code",
   "execution_count": 15,
   "outputs": [
    {
     "data": {
      "text/plain": "pragma                             category\ncontent-type                       category\naccept-ranges                      category\netag                               category\np3p                                category\n                                     ...   \nx-hubspot-correlation-id_binary       int64\nx-hs-target-asset_binary              int64\nx-hostname_binary                     int64\nx-cdn-pop_binary                      int64\nx-cdn-pop-ip_binary                   int64\nLength: 152, dtype: object"
     },
     "execution_count": 15,
     "metadata": {},
     "output_type": "execute_result"
    }
   ],
   "source": [
    "train_data.dtypes"
   ],
   "metadata": {
    "collapsed": false
   }
  },
  {
   "cell_type": "code",
   "execution_count": 66,
   "outputs": [],
   "source": [
    "int_col_list = list(train_data.iloc[:, :].select_dtypes('Int64').columns.values.tolist())"
   ],
   "metadata": {
    "collapsed": false
   }
  },
  {
   "cell_type": "code",
   "execution_count": 25,
   "outputs": [],
   "source": [
    "df_train, df_test = datawig.utils.random_split(train_data)"
   ],
   "metadata": {
    "collapsed": false
   }
  },
  {
   "cell_type": "code",
   "execution_count": 26,
   "outputs": [],
   "source": [
    "input_cols = train_data.columns.values.tolist()"
   ],
   "metadata": {
    "collapsed": false
   }
  },
  {
   "cell_type": "code",
   "execution_count": 27,
   "outputs": [],
   "source": [
    "input_cols = train_data.columns.values.tolist()"
   ],
   "metadata": {
    "collapsed": false
   }
  },
  {
   "cell_type": "code",
   "execution_count": 104,
   "outputs": [],
   "source": [
    "df_train['etag'] = df_train['etag'].replace({np.nan : pd.NA})"
   ],
   "metadata": {
    "collapsed": false
   }
  },
  {
   "cell_type": "code",
   "execution_count": 116,
   "outputs": [
    {
     "data": {
      "text/plain": "header_count                int64\ncomb_col_non_tracker        int64\ncomb_col_tracker            int64\nx-robots-tag_binary         int64\nconnection_binary           int64\n                            ...  \nx-hs-target-asset_binary    int64\nx-hostname_binary           int64\nx-cdn-pop_binary            int64\nx-cdn-pop-ip_binary         int64\ntracker                     int32\nLength: 132, dtype: object"
     },
     "execution_count": 116,
     "metadata": {},
     "output_type": "execute_result"
    }
   ],
   "source": [
    "train_data[[row for row in input_cols if train_data[row].dtype != 'object']].dtypes"
   ],
   "metadata": {
    "collapsed": false
   }
  },
  {
   "cell_type": "code",
   "execution_count": 32,
   "outputs": [],
   "source": [
    "df_train.dropna(subset=['content-length'], inplace=True)"
   ],
   "metadata": {
    "collapsed": false
   }
  },
  {
   "cell_type": "code",
   "execution_count": 37,
   "outputs": [
    {
     "data": {
      "text/plain": "['tracker',\n 'header_count',\n 'comb_col_non_tracker',\n 'comb_col_tracker',\n 'x-robots-tag_binary',\n 'connection_binary',\n 'x-amz-server-side-encryption_binary',\n 'x-amz-version-id_binary',\n 'x-cache_binary',\n 'via_binary',\n 'x-amz-cf-pop_binary',\n 'x-amz-cf-id_binary',\n 'x-guploader-uploadid_binary',\n 'x-goog-generation_binary',\n 'x-goog-hash_binary',\n 'x-goog-storage-class_binary',\n 'cf-cache-status_binary',\n 'expect-ct_binary',\n 'report-to_binary',\n 'nel_binary',\n 'cf-ray_binary',\n 'set-cookie_binary',\n 'content-security-policy-report-only_binary',\n 'access-control-expose-headers_binary',\n 'access-control-allow-headers_binary',\n 'access-control-max-age_binary',\n 'x-powered-by_binary',\n 'cross-origin-opener-policy-report-only_binary',\n 'content-security-policy_binary',\n 'cross-origin-opener-policy_binary',\n 'x-frame-options_binary',\n 'x-fb-debug_binary',\n 'priority_binary',\n 'x-amz-id-2_binary',\n 'x-amz-request-id_binary',\n 'access-control-allow-methods_binary',\n 'x-served-by_binary',\n 'edge-control_binary',\n 'permissions-policy_binary',\n 'referrer-policy_binary',\n 'x-edgeconnect-midmile-rtt_binary',\n 'x-edgeconnect-origin-mex-latency_binary',\n 'trace-id_binary',\n 'x-envoy-upstream-service-time_binary',\n 'x-timer_binary',\n 'x-aspnet-version_binary',\n 'content-disposition_binary',\n 'accept-ch_binary',\n 'akamai-grn_binary',\n 'x-amz-replication-status_binary',\n 'x-amz-rid_binary',\n 'accept-ch-lifetime_binary',\n 'x-amzn-requestid_binary',\n 'x-hw_binary',\n 'x-edge-location_binary',\n 'x-dns-prefetch-control_binary',\n 'x-request-id_binary',\n 'x-c_binary',\n 'cross-origin-embedder-policy_binary',\n 'x-response-time_binary',\n 'x-connection-hash_binary',\n 'x-amzn-trace-id_binary',\n 'x-cache-hit_binary',\n 'x-traceid_binary',\n 'x-runtime_binary',\n 'status_binary',\n 'x-permitted-cross-domain-policies_binary',\n 'x-dc_binary',\n 'x-tt-logid_binary',\n 'x-tt-trace-host_binary',\n 'x-origin-response-time_binary',\n 'x-akamai-request-id_binary',\n 'x-cache-remote_binary',\n 'x-tt-trace-tag_binary',\n 'x-parent-response-time_binary',\n 'x-region_binary',\n 'x-msedge-ref_binary',\n 'x-tw-cdn_binary',\n 'x-cdn_binary',\n 'retry-after_binary',\n 'x-pinterest-rid_binary',\n 'x-li-fabric_binary',\n 'x-li-pop_binary',\n 'x-li-proto_binary',\n 'x-li-uuid_binary',\n 'request-context_binary',\n 'x-azure-ref_binary',\n 'x-amz-meta-mtime_binary',\n 'request-time_binary',\n 'x-application-context_binary',\n 'x-envoy-decorator-operation_binary',\n 'x-server_binary',\n 'x-host_binary',\n 'ms-cv_binary',\n 'x-trace-id_binary',\n 'x-datacenter_binary',\n 'access-control-request-method_binary',\n 'x-via-ssl_binary',\n 'x-server-name_binary',\n 'x-b3-traceid_binary',\n 'cdn-pullzone_binary',\n 'cdn-uid_binary',\n 'cdn-requestcountrycode_binary',\n 'cdn-proxyver_binary',\n 'cdn-requestpullcode_binary',\n 'cdn-cachedat_binary',\n 'cdn-status_binary',\n 'cdn-requestid_binary',\n 'cdn-storageserver_binary',\n 'cdn-fileserver_binary',\n 'fss-proxy_binary',\n 'x-amz-expiration_binary',\n 'x-amz-meta-s3cmd-attrs_binary',\n 'x-amz-apigw-id_binary',\n 'x-yandex-req-id_binary',\n 'request-id_binary',\n 'server-processing-duration-in-ticks_binary',\n 'x-fastly-to-nlb-rtt_binary',\n 'x-aspnetmvc-version_binary',\n 'x-vcl-time-ms_binary',\n 'requestid_binary',\n 'x-amz-meta-codebuild-content-sha256_binary',\n 'x-amz-meta-codebuild-buildarn_binary',\n 'x-amz-meta-codebuild-content-md5_binary',\n 'x-llid_binary',\n 'x-b3-sampled_binary',\n 'x-b3-spanid_binary',\n 'x-hubspot-correlation-id_binary',\n 'x-hs-target-asset_binary',\n 'x-hostname_binary',\n 'x-cdn-pop_binary',\n 'x-cdn-pop-ip_binary']"
     },
     "execution_count": 37,
     "metadata": {},
     "output_type": "execute_result"
    }
   ],
   "source": [
    "[row for row in input_cols if train_data[row].dtype != 'category']"
   ],
   "metadata": {
    "collapsed": false
   }
  },
  {
   "cell_type": "code",
   "execution_count": 44,
   "outputs": [
    {
     "data": {
      "text/plain": "        content-length  tracker  header_count  comb_col_non_tracker  \\\n248002             740        0             9                     1   \n60016             8072        0            15                     1   \n4675                37        1             7                     0   \n9159              2089        0            13                     2   \n71907               21        0            11                     2   \n...                ...      ...           ...                   ...   \n55305                4        1            14                     0   \n234622             354        0            15                     1   \n240929           15161        1            16                     0   \n67023             8216        0            23                     1   \n104782          116462        0            14                     0   \n\n        comb_col_tracker  x-robots-tag_binary  connection_binary  \\\n248002                 0                    0                  1   \n60016                  0                    0                  0   \n4675                   1                    0                  0   \n9159                   0                    0                  1   \n71907                  0                    0                  1   \n...                  ...                  ...                ...   \n55305                  0                    0                  0   \n234622                 0                    0                  0   \n240929                 0                    0                  0   \n67023                  0                    0                  0   \n104782                 0                    0                  0   \n\n        x-amz-server-side-encryption_binary  x-amz-version-id_binary  \\\n248002                                    0                        0   \n60016                                     0                        0   \n4675                                      0                        0   \n9159                                      0                        0   \n71907                                     0                        0   \n...                                     ...                      ...   \n55305                                     0                        0   \n234622                                    0                        0   \n240929                                    0                        0   \n67023                                     0                        0   \n104782                                    0                        0   \n\n        x-cache_binary  ...  x-amz-meta-codebuild-buildarn_binary  \\\n248002               0  ...                                     0   \n60016                1  ...                                     0   \n4675                 0  ...                                     0   \n9159                 0  ...                                     0   \n71907                0  ...                                     0   \n...                ...  ...                                   ...   \n55305                0  ...                                     0   \n234622               1  ...                                     0   \n240929               0  ...                                     0   \n67023                0  ...                                     0   \n104782               1  ...                                     0   \n\n        x-amz-meta-codebuild-content-md5_binary  x-llid_binary  \\\n248002                                        0              0   \n60016                                         0              0   \n4675                                          0              0   \n9159                                          0              0   \n71907                                         0              0   \n...                                         ...            ...   \n55305                                         0              0   \n234622                                        0              0   \n240929                                        0              0   \n67023                                         0              0   \n104782                                        0              0   \n\n        x-b3-sampled_binary  x-b3-spanid_binary  \\\n248002                    0                   0   \n60016                     0                   0   \n4675                      0                   0   \n9159                      0                   0   \n71907                     0                   0   \n...                     ...                 ...   \n55305                     0                   0   \n234622                    0                   0   \n240929                    0                   0   \n67023                     0                   0   \n104782                    0                   0   \n\n        x-hubspot-correlation-id_binary  x-hs-target-asset_binary  \\\n248002                                0                         0   \n60016                                 0                         0   \n4675                                  0                         0   \n9159                                  0                         0   \n71907                                 0                         0   \n...                                 ...                       ...   \n55305                                 0                         0   \n234622                                0                         0   \n240929                                0                         0   \n67023                                 0                         0   \n104782                                0                         0   \n\n        x-hostname_binary  x-cdn-pop_binary  x-cdn-pop-ip_binary  \n248002                  0                 0                    0  \n60016                   0                 0                    0  \n4675                    0                 0                    0  \n9159                    0                 0                    0  \n71907                   0                 0                    0  \n...                   ...               ...                  ...  \n55305                   0                 0                    0  \n234622                  0                 0                    0  \n240929                  0                 0                    0  \n67023                   0                 0                    0  \n104782                  0                 0                    0  \n\n[169206 rows x 133 columns]",
      "text/html": "<div>\n<style scoped>\n    .dataframe tbody tr th:only-of-type {\n        vertical-align: middle;\n    }\n\n    .dataframe tbody tr th {\n        vertical-align: top;\n    }\n\n    .dataframe thead th {\n        text-align: right;\n    }\n</style>\n<table border=\"1\" class=\"dataframe\">\n  <thead>\n    <tr style=\"text-align: right;\">\n      <th></th>\n      <th>content-length</th>\n      <th>tracker</th>\n      <th>header_count</th>\n      <th>comb_col_non_tracker</th>\n      <th>comb_col_tracker</th>\n      <th>x-robots-tag_binary</th>\n      <th>connection_binary</th>\n      <th>x-amz-server-side-encryption_binary</th>\n      <th>x-amz-version-id_binary</th>\n      <th>x-cache_binary</th>\n      <th>...</th>\n      <th>x-amz-meta-codebuild-buildarn_binary</th>\n      <th>x-amz-meta-codebuild-content-md5_binary</th>\n      <th>x-llid_binary</th>\n      <th>x-b3-sampled_binary</th>\n      <th>x-b3-spanid_binary</th>\n      <th>x-hubspot-correlation-id_binary</th>\n      <th>x-hs-target-asset_binary</th>\n      <th>x-hostname_binary</th>\n      <th>x-cdn-pop_binary</th>\n      <th>x-cdn-pop-ip_binary</th>\n    </tr>\n  </thead>\n  <tbody>\n    <tr>\n      <th>248002</th>\n      <td>740</td>\n      <td>0</td>\n      <td>9</td>\n      <td>1</td>\n      <td>0</td>\n      <td>0</td>\n      <td>1</td>\n      <td>0</td>\n      <td>0</td>\n      <td>0</td>\n      <td>...</td>\n      <td>0</td>\n      <td>0</td>\n      <td>0</td>\n      <td>0</td>\n      <td>0</td>\n      <td>0</td>\n      <td>0</td>\n      <td>0</td>\n      <td>0</td>\n      <td>0</td>\n    </tr>\n    <tr>\n      <th>60016</th>\n      <td>8072</td>\n      <td>0</td>\n      <td>15</td>\n      <td>1</td>\n      <td>0</td>\n      <td>0</td>\n      <td>0</td>\n      <td>0</td>\n      <td>0</td>\n      <td>1</td>\n      <td>...</td>\n      <td>0</td>\n      <td>0</td>\n      <td>0</td>\n      <td>0</td>\n      <td>0</td>\n      <td>0</td>\n      <td>0</td>\n      <td>0</td>\n      <td>0</td>\n      <td>0</td>\n    </tr>\n    <tr>\n      <th>4675</th>\n      <td>37</td>\n      <td>1</td>\n      <td>7</td>\n      <td>0</td>\n      <td>1</td>\n      <td>0</td>\n      <td>0</td>\n      <td>0</td>\n      <td>0</td>\n      <td>0</td>\n      <td>...</td>\n      <td>0</td>\n      <td>0</td>\n      <td>0</td>\n      <td>0</td>\n      <td>0</td>\n      <td>0</td>\n      <td>0</td>\n      <td>0</td>\n      <td>0</td>\n      <td>0</td>\n    </tr>\n    <tr>\n      <th>9159</th>\n      <td>2089</td>\n      <td>0</td>\n      <td>13</td>\n      <td>2</td>\n      <td>0</td>\n      <td>0</td>\n      <td>1</td>\n      <td>0</td>\n      <td>0</td>\n      <td>0</td>\n      <td>...</td>\n      <td>0</td>\n      <td>0</td>\n      <td>0</td>\n      <td>0</td>\n      <td>0</td>\n      <td>0</td>\n      <td>0</td>\n      <td>0</td>\n      <td>0</td>\n      <td>0</td>\n    </tr>\n    <tr>\n      <th>71907</th>\n      <td>21</td>\n      <td>0</td>\n      <td>11</td>\n      <td>2</td>\n      <td>0</td>\n      <td>0</td>\n      <td>1</td>\n      <td>0</td>\n      <td>0</td>\n      <td>0</td>\n      <td>...</td>\n      <td>0</td>\n      <td>0</td>\n      <td>0</td>\n      <td>0</td>\n      <td>0</td>\n      <td>0</td>\n      <td>0</td>\n      <td>0</td>\n      <td>0</td>\n      <td>0</td>\n    </tr>\n    <tr>\n      <th>...</th>\n      <td>...</td>\n      <td>...</td>\n      <td>...</td>\n      <td>...</td>\n      <td>...</td>\n      <td>...</td>\n      <td>...</td>\n      <td>...</td>\n      <td>...</td>\n      <td>...</td>\n      <td>...</td>\n      <td>...</td>\n      <td>...</td>\n      <td>...</td>\n      <td>...</td>\n      <td>...</td>\n      <td>...</td>\n      <td>...</td>\n      <td>...</td>\n      <td>...</td>\n      <td>...</td>\n    </tr>\n    <tr>\n      <th>55305</th>\n      <td>4</td>\n      <td>1</td>\n      <td>14</td>\n      <td>0</td>\n      <td>0</td>\n      <td>0</td>\n      <td>0</td>\n      <td>0</td>\n      <td>0</td>\n      <td>0</td>\n      <td>...</td>\n      <td>0</td>\n      <td>0</td>\n      <td>0</td>\n      <td>0</td>\n      <td>0</td>\n      <td>0</td>\n      <td>0</td>\n      <td>0</td>\n      <td>0</td>\n      <td>0</td>\n    </tr>\n    <tr>\n      <th>234622</th>\n      <td>354</td>\n      <td>0</td>\n      <td>15</td>\n      <td>1</td>\n      <td>0</td>\n      <td>0</td>\n      <td>0</td>\n      <td>0</td>\n      <td>0</td>\n      <td>1</td>\n      <td>...</td>\n      <td>0</td>\n      <td>0</td>\n      <td>0</td>\n      <td>0</td>\n      <td>0</td>\n      <td>0</td>\n      <td>0</td>\n      <td>0</td>\n      <td>0</td>\n      <td>0</td>\n    </tr>\n    <tr>\n      <th>240929</th>\n      <td>15161</td>\n      <td>1</td>\n      <td>16</td>\n      <td>0</td>\n      <td>0</td>\n      <td>0</td>\n      <td>0</td>\n      <td>0</td>\n      <td>0</td>\n      <td>0</td>\n      <td>...</td>\n      <td>0</td>\n      <td>0</td>\n      <td>0</td>\n      <td>0</td>\n      <td>0</td>\n      <td>0</td>\n      <td>0</td>\n      <td>0</td>\n      <td>0</td>\n      <td>0</td>\n    </tr>\n    <tr>\n      <th>67023</th>\n      <td>8216</td>\n      <td>0</td>\n      <td>23</td>\n      <td>1</td>\n      <td>0</td>\n      <td>0</td>\n      <td>0</td>\n      <td>0</td>\n      <td>0</td>\n      <td>0</td>\n      <td>...</td>\n      <td>0</td>\n      <td>0</td>\n      <td>0</td>\n      <td>0</td>\n      <td>0</td>\n      <td>0</td>\n      <td>0</td>\n      <td>0</td>\n      <td>0</td>\n      <td>0</td>\n    </tr>\n    <tr>\n      <th>104782</th>\n      <td>116462</td>\n      <td>0</td>\n      <td>14</td>\n      <td>0</td>\n      <td>0</td>\n      <td>0</td>\n      <td>0</td>\n      <td>0</td>\n      <td>0</td>\n      <td>1</td>\n      <td>...</td>\n      <td>0</td>\n      <td>0</td>\n      <td>0</td>\n      <td>0</td>\n      <td>0</td>\n      <td>0</td>\n      <td>0</td>\n      <td>0</td>\n      <td>0</td>\n      <td>0</td>\n    </tr>\n  </tbody>\n</table>\n<p>169206 rows × 133 columns</p>\n</div>"
     },
     "execution_count": 44,
     "metadata": {},
     "output_type": "execute_result"
    }
   ],
   "source": [
    "df_train[[row for row in train_data.columns.values.tolist() if train_data[row].dtype != 'category']]"
   ],
   "metadata": {
    "collapsed": false
   }
  },
  {
   "cell_type": "code",
   "execution_count": 87,
   "outputs": [],
   "source": [
    "# imputer = datawig.Imputer(\n",
    "#     data_featurizers=[datawig.NumericalFeaturizer(row) for row in input_cols if train_data[row].dtype != 'object'],\n",
    "#     data_encoders=[datawig.NumericalEncoder(row) for row in input_cols if train_data[row].dtype != 'object'],\n",
    "#     label_encoders= [datawig.column_encoders.NumericalEncoder('content-length')],\n",
    "#     output_path = 'artifacts/imputer_model'\n",
    "# )\n",
    "\n",
    "imputer_num = datawig.SimpleImputer(\n",
    "            input_columns=['tracker'],\n",
    "            output_column='server',  # Column to be imputed\n",
    "            output_path='artifacts/imputer_model_num'  # Store model data and metrics\n",
    "            )"
   ],
   "metadata": {
    "collapsed": false
   }
  },
  {
   "cell_type": "code",
   "execution_count": null,
   "outputs": [],
   "source": [
    "imputer_num.fit(train_df=df_train[['tracker', 'server']])"
   ],
   "metadata": {
    "collapsed": false,
    "pycharm": {
     "is_executing": true
    }
   }
  },
  {
   "cell_type": "code",
   "execution_count": null,
   "outputs": [],
   "source": [
    "predictions_num = imputer_num.predict(df_test[['server', 'tracker']])"
   ],
   "metadata": {
    "collapsed": false,
    "pycharm": {
     "is_executing": true
    }
   }
  },
  {
   "cell_type": "code",
   "execution_count": 100,
   "outputs": [
    {
     "ename": "AttributeError",
     "evalue": "'Index' object has no attribute 'contains'",
     "output_type": "error",
     "traceback": [
      "\u001B[0;31m---------------------------------------------------------------------------\u001B[0m",
      "\u001B[0;31mAttributeError\u001B[0m                            Traceback (most recent call last)",
      "Input \u001B[0;32mIn [100]\u001B[0m, in \u001B[0;36m<cell line: 1>\u001B[0;34m()\u001B[0m\n\u001B[0;32m----> 1\u001B[0m \u001B[38;5;28;01mif\u001B[39;00m \u001B[43mdf_test\u001B[49m\u001B[38;5;241;43m.\u001B[39;49m\u001B[43mcolumns\u001B[49m\u001B[38;5;241;43m.\u001B[39;49m\u001B[43mcontains\u001B[49m(\u001B[38;5;124m'\u001B[39m\u001B[38;5;124mserver\u001B[39m\u001B[38;5;124m'\u001B[39m):\n\u001B[1;32m      2\u001B[0m     \u001B[38;5;28mprint\u001B[39m(\u001B[38;5;124m\"\u001B[39m\u001B[38;5;124myes\u001B[39m\u001B[38;5;124m\"\u001B[39m)\n",
      "\u001B[0;31mAttributeError\u001B[0m: 'Index' object has no attribute 'contains'"
     ]
    }
   ],
   "source": [
    "if df_test.columns.contains('server'):\n",
    "    print(\"yes\")"
   ],
   "metadata": {
    "collapsed": false
   }
  },
  {
   "cell_type": "code",
   "execution_count": 83,
   "outputs": [
    {
     "data": {
      "text/plain": "        content-length                     server  tracker  header_count  \\\n7097           77143.0                        NaN        0            12   \n259082          3661.0                        NaN        0            16   \n237076          2500.0  akamai resource optimizer        0            16   \n57567           1054.0                      nginx        0            20   \n13310              NaN                        NaN        0            10   \n...                ...                        ...      ...           ...   \n140296             NaN                      nginx        1            14   \n108445          4833.0                       none        0             9   \n9372           81524.0                      nginx        0            20   \n105595           624.0                        NaN        0             7   \n93553          34934.0                      nginx        0            13   \n\n        comb_col_non_tracker  comb_col_tracker  x-robots-tag_binary  \\\n7097                       0                 0                    0   \n259082                     1                 0                    0   \n237076                     2                 0                    0   \n57567                      4                 0                    0   \n13310                      0                 0                    0   \n...                      ...               ...                  ...   \n140296                     0                 0                    0   \n108445                     0                 0                    0   \n9372                       0                 0                    0   \n105595                     0                 0                    0   \n93553                      1                 0                    0   \n\n        connection_binary  x-amz-server-side-encryption_binary  \\\n7097                    0                                    0   \n259082                  0                                    0   \n237076                  0                                    0   \n57567                   0                                    0   \n13310                   0                                    0   \n...                   ...                                  ...   \n140296                  0                                    0   \n108445                  0                                    0   \n9372                    0                                    0   \n105595                  1                                    0   \n93553                   0                                    0   \n\n        x-amz-version-id_binary  ...  x-amz-meta-codebuild-buildarn_binary  \\\n7097                          0  ...                                     0   \n259082                        0  ...                                     0   \n237076                        0  ...                                     0   \n57567                         0  ...                                     0   \n13310                         0  ...                                     0   \n...                         ...  ...                                   ...   \n140296                        0  ...                                     0   \n108445                        0  ...                                     0   \n9372                          0  ...                                     0   \n105595                        0  ...                                     0   \n93553                         0  ...                                     0   \n\n        x-amz-meta-codebuild-content-md5_binary  x-llid_binary  \\\n7097                                          0              0   \n259082                                        0              0   \n237076                                        0              0   \n57567                                         0              0   \n13310                                         0              0   \n...                                         ...            ...   \n140296                                        0              0   \n108445                                        0              0   \n9372                                          0              0   \n105595                                        0              0   \n93553                                         0              0   \n\n        x-b3-sampled_binary  x-b3-spanid_binary  \\\n7097                      0                   0   \n259082                    0                   0   \n237076                    0                   0   \n57567                     0                   0   \n13310                     0                   0   \n...                     ...                 ...   \n140296                    0                   0   \n108445                    0                   0   \n9372                      0                   0   \n105595                    0                   0   \n93553                     0                   0   \n\n        x-hubspot-correlation-id_binary  x-hs-target-asset_binary  \\\n7097                                  0                         0   \n259082                                0                         0   \n237076                                0                         0   \n57567                                 0                         0   \n13310                                 0                         0   \n...                                 ...                       ...   \n140296                                0                         0   \n108445                                0                         0   \n9372                                  0                         0   \n105595                                0                         0   \n93553                                 0                         0   \n\n        x-hostname_binary  x-cdn-pop_binary  x-cdn-pop-ip_binary  \n7097                    0                 0                    0  \n259082                  0                 0                    0  \n237076                  0                 0                    0  \n57567                   0                 0                    0  \n13310                   0                 0                    0  \n...                   ...               ...                  ...  \n140296                  0                 0                    0  \n108445                  0                 0                    0  \n9372                    0                 0                    0  \n105595                  0                 0                    0  \n93553                   0                 0                    0  \n\n[54400 rows x 134 columns]",
      "text/html": "<div>\n<style scoped>\n    .dataframe tbody tr th:only-of-type {\n        vertical-align: middle;\n    }\n\n    .dataframe tbody tr th {\n        vertical-align: top;\n    }\n\n    .dataframe thead th {\n        text-align: right;\n    }\n</style>\n<table border=\"1\" class=\"dataframe\">\n  <thead>\n    <tr style=\"text-align: right;\">\n      <th></th>\n      <th>content-length</th>\n      <th>server</th>\n      <th>tracker</th>\n      <th>header_count</th>\n      <th>comb_col_non_tracker</th>\n      <th>comb_col_tracker</th>\n      <th>x-robots-tag_binary</th>\n      <th>connection_binary</th>\n      <th>x-amz-server-side-encryption_binary</th>\n      <th>x-amz-version-id_binary</th>\n      <th>...</th>\n      <th>x-amz-meta-codebuild-buildarn_binary</th>\n      <th>x-amz-meta-codebuild-content-md5_binary</th>\n      <th>x-llid_binary</th>\n      <th>x-b3-sampled_binary</th>\n      <th>x-b3-spanid_binary</th>\n      <th>x-hubspot-correlation-id_binary</th>\n      <th>x-hs-target-asset_binary</th>\n      <th>x-hostname_binary</th>\n      <th>x-cdn-pop_binary</th>\n      <th>x-cdn-pop-ip_binary</th>\n    </tr>\n  </thead>\n  <tbody>\n    <tr>\n      <th>7097</th>\n      <td>77143.0</td>\n      <td>NaN</td>\n      <td>0</td>\n      <td>12</td>\n      <td>0</td>\n      <td>0</td>\n      <td>0</td>\n      <td>0</td>\n      <td>0</td>\n      <td>0</td>\n      <td>...</td>\n      <td>0</td>\n      <td>0</td>\n      <td>0</td>\n      <td>0</td>\n      <td>0</td>\n      <td>0</td>\n      <td>0</td>\n      <td>0</td>\n      <td>0</td>\n      <td>0</td>\n    </tr>\n    <tr>\n      <th>259082</th>\n      <td>3661.0</td>\n      <td>NaN</td>\n      <td>0</td>\n      <td>16</td>\n      <td>1</td>\n      <td>0</td>\n      <td>0</td>\n      <td>0</td>\n      <td>0</td>\n      <td>0</td>\n      <td>...</td>\n      <td>0</td>\n      <td>0</td>\n      <td>0</td>\n      <td>0</td>\n      <td>0</td>\n      <td>0</td>\n      <td>0</td>\n      <td>0</td>\n      <td>0</td>\n      <td>0</td>\n    </tr>\n    <tr>\n      <th>237076</th>\n      <td>2500.0</td>\n      <td>akamai resource optimizer</td>\n      <td>0</td>\n      <td>16</td>\n      <td>2</td>\n      <td>0</td>\n      <td>0</td>\n      <td>0</td>\n      <td>0</td>\n      <td>0</td>\n      <td>...</td>\n      <td>0</td>\n      <td>0</td>\n      <td>0</td>\n      <td>0</td>\n      <td>0</td>\n      <td>0</td>\n      <td>0</td>\n      <td>0</td>\n      <td>0</td>\n      <td>0</td>\n    </tr>\n    <tr>\n      <th>57567</th>\n      <td>1054.0</td>\n      <td>nginx</td>\n      <td>0</td>\n      <td>20</td>\n      <td>4</td>\n      <td>0</td>\n      <td>0</td>\n      <td>0</td>\n      <td>0</td>\n      <td>0</td>\n      <td>...</td>\n      <td>0</td>\n      <td>0</td>\n      <td>0</td>\n      <td>0</td>\n      <td>0</td>\n      <td>0</td>\n      <td>0</td>\n      <td>0</td>\n      <td>0</td>\n      <td>0</td>\n    </tr>\n    <tr>\n      <th>13310</th>\n      <td>NaN</td>\n      <td>NaN</td>\n      <td>0</td>\n      <td>10</td>\n      <td>0</td>\n      <td>0</td>\n      <td>0</td>\n      <td>0</td>\n      <td>0</td>\n      <td>0</td>\n      <td>...</td>\n      <td>0</td>\n      <td>0</td>\n      <td>0</td>\n      <td>0</td>\n      <td>0</td>\n      <td>0</td>\n      <td>0</td>\n      <td>0</td>\n      <td>0</td>\n      <td>0</td>\n    </tr>\n    <tr>\n      <th>...</th>\n      <td>...</td>\n      <td>...</td>\n      <td>...</td>\n      <td>...</td>\n      <td>...</td>\n      <td>...</td>\n      <td>...</td>\n      <td>...</td>\n      <td>...</td>\n      <td>...</td>\n      <td>...</td>\n      <td>...</td>\n      <td>...</td>\n      <td>...</td>\n      <td>...</td>\n      <td>...</td>\n      <td>...</td>\n      <td>...</td>\n      <td>...</td>\n      <td>...</td>\n      <td>...</td>\n    </tr>\n    <tr>\n      <th>140296</th>\n      <td>NaN</td>\n      <td>nginx</td>\n      <td>1</td>\n      <td>14</td>\n      <td>0</td>\n      <td>0</td>\n      <td>0</td>\n      <td>0</td>\n      <td>0</td>\n      <td>0</td>\n      <td>...</td>\n      <td>0</td>\n      <td>0</td>\n      <td>0</td>\n      <td>0</td>\n      <td>0</td>\n      <td>0</td>\n      <td>0</td>\n      <td>0</td>\n      <td>0</td>\n      <td>0</td>\n    </tr>\n    <tr>\n      <th>108445</th>\n      <td>4833.0</td>\n      <td>none</td>\n      <td>0</td>\n      <td>9</td>\n      <td>0</td>\n      <td>0</td>\n      <td>0</td>\n      <td>0</td>\n      <td>0</td>\n      <td>0</td>\n      <td>...</td>\n      <td>0</td>\n      <td>0</td>\n      <td>0</td>\n      <td>0</td>\n      <td>0</td>\n      <td>0</td>\n      <td>0</td>\n      <td>0</td>\n      <td>0</td>\n      <td>0</td>\n    </tr>\n    <tr>\n      <th>9372</th>\n      <td>81524.0</td>\n      <td>nginx</td>\n      <td>0</td>\n      <td>20</td>\n      <td>0</td>\n      <td>0</td>\n      <td>0</td>\n      <td>0</td>\n      <td>0</td>\n      <td>0</td>\n      <td>...</td>\n      <td>0</td>\n      <td>0</td>\n      <td>0</td>\n      <td>0</td>\n      <td>0</td>\n      <td>0</td>\n      <td>0</td>\n      <td>0</td>\n      <td>0</td>\n      <td>0</td>\n    </tr>\n    <tr>\n      <th>105595</th>\n      <td>624.0</td>\n      <td>NaN</td>\n      <td>0</td>\n      <td>7</td>\n      <td>0</td>\n      <td>0</td>\n      <td>0</td>\n      <td>1</td>\n      <td>0</td>\n      <td>0</td>\n      <td>...</td>\n      <td>0</td>\n      <td>0</td>\n      <td>0</td>\n      <td>0</td>\n      <td>0</td>\n      <td>0</td>\n      <td>0</td>\n      <td>0</td>\n      <td>0</td>\n      <td>0</td>\n    </tr>\n    <tr>\n      <th>93553</th>\n      <td>34934.0</td>\n      <td>nginx</td>\n      <td>0</td>\n      <td>13</td>\n      <td>1</td>\n      <td>0</td>\n      <td>0</td>\n      <td>0</td>\n      <td>0</td>\n      <td>0</td>\n      <td>...</td>\n      <td>0</td>\n      <td>0</td>\n      <td>0</td>\n      <td>0</td>\n      <td>0</td>\n      <td>0</td>\n      <td>0</td>\n      <td>0</td>\n      <td>0</td>\n      <td>0</td>\n    </tr>\n  </tbody>\n</table>\n<p>54400 rows × 134 columns</p>\n</div>"
     },
     "execution_count": 83,
     "metadata": {},
     "output_type": "execute_result"
    }
   ],
   "source": [
    "df_test[[row for row in train_data.columns.values.tolist() if train_data[row]\n",
    "                                      .dtype != 'category' or row == 'server']]"
   ],
   "metadata": {
    "collapsed": false
   }
  },
  {
   "cell_type": "code",
   "execution_count": 70,
   "outputs": [],
   "source": [
    "df_test['content-length'] = df_test['content-length'].astype('float64')"
   ],
   "metadata": {
    "collapsed": false
   }
  },
  {
   "cell_type": "code",
   "execution_count": 78,
   "outputs": [
    {
     "data": {
      "text/plain": "content-length                     float64\ntracker                              int32\nheader_count                         int64\ncomb_col_non_tracker                 int64\ncomb_col_tracker                     int64\n                                    ...   \nx-hubspot-correlation-id_binary      int64\nx-hs-target-asset_binary             int64\nx-hostname_binary                    int64\nx-cdn-pop_binary                     int64\nx-cdn-pop-ip_binary                  int64\nLength: 133, dtype: object"
     },
     "execution_count": 78,
     "metadata": {},
     "output_type": "execute_result"
    }
   ],
   "source": [
    "df_test[[row for row in train_data.columns.values.tolist() if train_data[row].dtype != 'category']].dtypes"
   ],
   "metadata": {
    "collapsed": false
   }
  },
  {
   "cell_type": "code",
   "execution_count": 37,
   "outputs": [],
   "source": [
    "list_of_categorical_cols = list(X_train.iloc[:, :-3].select_dtypes('category').columns.values.tolist())\n",
    "list_of_integer_cols = list(X_train.iloc[:, :-3].select_dtypes('Int64').columns.values.tolist())"
   ],
   "metadata": {
    "collapsed": false
   }
  },
  {
   "cell_type": "code",
   "execution_count": 11,
   "outputs": [],
   "source": [
    "impute_col_list_t = summary_table[summary_table['ratio_tracker'] > 0.4].header_name.values.tolist()\n",
    "impute_col_list_nt = summary_table[summary_table['ratio_non_tracker'] > 0.4].header_name.values.tolist()"
   ],
   "metadata": {
    "collapsed": false
   }
  },
  {
   "cell_type": "code",
   "execution_count": 13,
   "outputs": [
    {
     "data": {
      "text/plain": "['content-type',\n 'vary',\n 'content-encoding',\n 'cache-control',\n 'expires',\n 'date',\n 'content-length',\n 'server',\n 'alt-svc',\n 'access-control-allow-origin',\n 'cross-origin-resource-policy']"
     },
     "execution_count": 13,
     "metadata": {},
     "output_type": "execute_result"
    }
   ],
   "source": [
    "impute_col_list_t"
   ],
   "metadata": {
    "collapsed": false
   }
  },
  {
   "cell_type": "code",
   "execution_count": 10,
   "outputs": [
    {
     "data": {
      "text/plain": "                  header_name  trackers  non_trackers  ratio_tracker  \\\n0                      pragma     25805        8853.0       0.333747   \n1                content-type     70183      191835.0       0.907707   \n2               last-modified     27829      154469.0       0.359924   \n3               accept-ranges     15119      116366.0       0.195541   \n4                        etag     18194      129781.0       0.235311   \n..                        ...       ...           ...            ...   \n145  x-hubspot-correlation-id       127         267.0       0.001643   \n146         x-hs-target-asset        63          76.0       0.000815   \n147                x-hostname       116          61.0         0.0015   \n148                 x-cdn-pop        17         122.0        0.00022   \n149              x-cdn-pop-ip        17         122.0        0.00022   \n\n     ratio_non_tracker  tracker_na_ratio  non_tracker_na_ratio  \n0             0.045473          0.666253              0.954527  \n1             0.985361          0.092293              0.014639  \n2             0.793430          0.640076              0.206570  \n3             0.597714          0.804459              0.402286  \n4             0.666620          0.764689              0.333380  \n..                 ...               ...                   ...  \n145           0.001371          0.998357              0.998629  \n146           0.000390          0.999185              0.999610  \n147           0.000313          0.998500              0.999687  \n148           0.000627          0.999780              0.999373  \n149           0.000627          0.999780              0.999373  \n\n[150 rows x 7 columns]",
      "text/html": "<div>\n<style scoped>\n    .dataframe tbody tr th:only-of-type {\n        vertical-align: middle;\n    }\n\n    .dataframe tbody tr th {\n        vertical-align: top;\n    }\n\n    .dataframe thead th {\n        text-align: right;\n    }\n</style>\n<table border=\"1\" class=\"dataframe\">\n  <thead>\n    <tr style=\"text-align: right;\">\n      <th></th>\n      <th>header_name</th>\n      <th>trackers</th>\n      <th>non_trackers</th>\n      <th>ratio_tracker</th>\n      <th>ratio_non_tracker</th>\n      <th>tracker_na_ratio</th>\n      <th>non_tracker_na_ratio</th>\n    </tr>\n  </thead>\n  <tbody>\n    <tr>\n      <th>0</th>\n      <td>pragma</td>\n      <td>25805</td>\n      <td>8853.0</td>\n      <td>0.333747</td>\n      <td>0.045473</td>\n      <td>0.666253</td>\n      <td>0.954527</td>\n    </tr>\n    <tr>\n      <th>1</th>\n      <td>content-type</td>\n      <td>70183</td>\n      <td>191835.0</td>\n      <td>0.907707</td>\n      <td>0.985361</td>\n      <td>0.092293</td>\n      <td>0.014639</td>\n    </tr>\n    <tr>\n      <th>2</th>\n      <td>last-modified</td>\n      <td>27829</td>\n      <td>154469.0</td>\n      <td>0.359924</td>\n      <td>0.793430</td>\n      <td>0.640076</td>\n      <td>0.206570</td>\n    </tr>\n    <tr>\n      <th>3</th>\n      <td>accept-ranges</td>\n      <td>15119</td>\n      <td>116366.0</td>\n      <td>0.195541</td>\n      <td>0.597714</td>\n      <td>0.804459</td>\n      <td>0.402286</td>\n    </tr>\n    <tr>\n      <th>4</th>\n      <td>etag</td>\n      <td>18194</td>\n      <td>129781.0</td>\n      <td>0.235311</td>\n      <td>0.666620</td>\n      <td>0.764689</td>\n      <td>0.333380</td>\n    </tr>\n    <tr>\n      <th>...</th>\n      <td>...</td>\n      <td>...</td>\n      <td>...</td>\n      <td>...</td>\n      <td>...</td>\n      <td>...</td>\n      <td>...</td>\n    </tr>\n    <tr>\n      <th>145</th>\n      <td>x-hubspot-correlation-id</td>\n      <td>127</td>\n      <td>267.0</td>\n      <td>0.001643</td>\n      <td>0.001371</td>\n      <td>0.998357</td>\n      <td>0.998629</td>\n    </tr>\n    <tr>\n      <th>146</th>\n      <td>x-hs-target-asset</td>\n      <td>63</td>\n      <td>76.0</td>\n      <td>0.000815</td>\n      <td>0.000390</td>\n      <td>0.999185</td>\n      <td>0.999610</td>\n    </tr>\n    <tr>\n      <th>147</th>\n      <td>x-hostname</td>\n      <td>116</td>\n      <td>61.0</td>\n      <td>0.0015</td>\n      <td>0.000313</td>\n      <td>0.998500</td>\n      <td>0.999687</td>\n    </tr>\n    <tr>\n      <th>148</th>\n      <td>x-cdn-pop</td>\n      <td>17</td>\n      <td>122.0</td>\n      <td>0.00022</td>\n      <td>0.000627</td>\n      <td>0.999780</td>\n      <td>0.999373</td>\n    </tr>\n    <tr>\n      <th>149</th>\n      <td>x-cdn-pop-ip</td>\n      <td>17</td>\n      <td>122.0</td>\n      <td>0.00022</td>\n      <td>0.000627</td>\n      <td>0.999780</td>\n      <td>0.999373</td>\n    </tr>\n  </tbody>\n</table>\n<p>150 rows × 7 columns</p>\n</div>"
     },
     "execution_count": 10,
     "metadata": {},
     "output_type": "execute_result"
    }
   ],
   "source": [
    "summary_table"
   ],
   "metadata": {
    "collapsed": false
   }
  },
  {
   "cell_type": "markdown",
   "source": [
    "### High cardinality features"
   ],
   "metadata": {
    "collapsed": false
   }
  },
  {
   "cell_type": "code",
   "execution_count": 44,
   "outputs": [],
   "source": [
    "# should be in data processing\n",
    "train_data.replace(\" \", np.nan, inplace=True)\n",
    "test_data.replace(\" \", np.nan, inplace=True)\n",
    "\n",
    "train_data.replace(\"\", np.nan, inplace=True)\n",
    "test_data.replace(\"\", np.nan, inplace=True)"
   ],
   "metadata": {
    "collapsed": false
   }
  },
  {
   "cell_type": "code",
   "execution_count": 35,
   "outputs": [
    {
     "data": {
      "text/plain": "                                      etag  \\\n0                     15601544113783900868   \n1                                      NaN   \n2                                      NaN   \n3                                      NaN   \n4                                      NaN   \n...                                    ...   \n271999                     \"618df712-2509\"   \n272000                                 NaN   \n272001  \"4abfa4888190370d347034f9fa43c804\"   \n272002                 w/\"29a-1630333f5d8\"   \n272003                   0x8da754860160d55   \n\n                                          cache-control  \\\n0                               public, max-age=1209600   \n1                                     max-age=630720000   \n2                   no-cache, no-store, must-revalidate   \n3                                              no-store   \n4                                    private, max-age=0   \n...                                                 ...   \n271999                                 max-age=31622400   \n272000   no-store, no-cache, must-revalidate, max-age=0   \n272001                                              NaN   \n272002                            public, max-age=86400   \n272003  public, max-age=432000, no-transform, immutable   \n\n                              expires  content-length  \\\n0       fri, 26 aug 2022 11:22:22 gmt           13475   \n1                                 NaN            4768   \n2       fri, 01 jan 1990 00:00:00 gmt              42   \n3                                 NaN               0   \n4       sun, 01 feb 1970 00:00:00 gmt            <NA>   \n...                               ...             ...   \n271999  thu, 03 aug 2023 14:44:48 gmt            9481   \n272000  mon, 04 dec 1999 21:29:02 gmt            <NA>   \n272001                            NaN           57064   \n272002                            NaN             666   \n272003                            NaN           70473   \n\n                                              server     age  \\\n0                                               cafe    5806   \n1                                                NaN     NaN   \n2                                               cafe     NaN   \n3                                              nginx     NaN   \n4                                                NaN     NaN   \n...                                              ...     ...   \n271999                                         nginx  845572   \n272000                                           NaN     NaN   \n272001                                      amazons3  709890   \n272002                                           NaN   28523   \n272003  windows-azure-blob/1.0 microsoft-httpapi/2.0     NaN   \n\n       access-control-allow-origin  \n0                              NaN  \n1                                *  \n2                              NaN  \n3                                *  \n4                              NaN  \n...                            ...  \n271999                         NaN  \n272000                           *  \n272001    https://www.synology.com  \n272002                         NaN  \n272003                           *  \n\n[272004 rows x 7 columns]",
      "text/html": "<div>\n<style scoped>\n    .dataframe tbody tr th:only-of-type {\n        vertical-align: middle;\n    }\n\n    .dataframe tbody tr th {\n        vertical-align: top;\n    }\n\n    .dataframe thead th {\n        text-align: right;\n    }\n</style>\n<table border=\"1\" class=\"dataframe\">\n  <thead>\n    <tr style=\"text-align: right;\">\n      <th></th>\n      <th>etag</th>\n      <th>cache-control</th>\n      <th>expires</th>\n      <th>content-length</th>\n      <th>server</th>\n      <th>age</th>\n      <th>access-control-allow-origin</th>\n    </tr>\n  </thead>\n  <tbody>\n    <tr>\n      <th>0</th>\n      <td>15601544113783900868</td>\n      <td>public, max-age=1209600</td>\n      <td>fri, 26 aug 2022 11:22:22 gmt</td>\n      <td>13475</td>\n      <td>cafe</td>\n      <td>5806</td>\n      <td>NaN</td>\n    </tr>\n    <tr>\n      <th>1</th>\n      <td>NaN</td>\n      <td>max-age=630720000</td>\n      <td>NaN</td>\n      <td>4768</td>\n      <td>NaN</td>\n      <td>NaN</td>\n      <td>*</td>\n    </tr>\n    <tr>\n      <th>2</th>\n      <td>NaN</td>\n      <td>no-cache, no-store, must-revalidate</td>\n      <td>fri, 01 jan 1990 00:00:00 gmt</td>\n      <td>42</td>\n      <td>cafe</td>\n      <td>NaN</td>\n      <td>NaN</td>\n    </tr>\n    <tr>\n      <th>3</th>\n      <td>NaN</td>\n      <td>no-store</td>\n      <td>NaN</td>\n      <td>0</td>\n      <td>nginx</td>\n      <td>NaN</td>\n      <td>*</td>\n    </tr>\n    <tr>\n      <th>4</th>\n      <td>NaN</td>\n      <td>private, max-age=0</td>\n      <td>sun, 01 feb 1970 00:00:00 gmt</td>\n      <td>&lt;NA&gt;</td>\n      <td>NaN</td>\n      <td>NaN</td>\n      <td>NaN</td>\n    </tr>\n    <tr>\n      <th>...</th>\n      <td>...</td>\n      <td>...</td>\n      <td>...</td>\n      <td>...</td>\n      <td>...</td>\n      <td>...</td>\n      <td>...</td>\n    </tr>\n    <tr>\n      <th>271999</th>\n      <td>\"618df712-2509\"</td>\n      <td>max-age=31622400</td>\n      <td>thu, 03 aug 2023 14:44:48 gmt</td>\n      <td>9481</td>\n      <td>nginx</td>\n      <td>845572</td>\n      <td>NaN</td>\n    </tr>\n    <tr>\n      <th>272000</th>\n      <td>NaN</td>\n      <td>no-store, no-cache, must-revalidate, max-age=0</td>\n      <td>mon, 04 dec 1999 21:29:02 gmt</td>\n      <td>&lt;NA&gt;</td>\n      <td>NaN</td>\n      <td>NaN</td>\n      <td>*</td>\n    </tr>\n    <tr>\n      <th>272001</th>\n      <td>\"4abfa4888190370d347034f9fa43c804\"</td>\n      <td>NaN</td>\n      <td>NaN</td>\n      <td>57064</td>\n      <td>amazons3</td>\n      <td>709890</td>\n      <td>https://www.synology.com</td>\n    </tr>\n    <tr>\n      <th>272002</th>\n      <td>w/\"29a-1630333f5d8\"</td>\n      <td>public, max-age=86400</td>\n      <td>NaN</td>\n      <td>666</td>\n      <td>NaN</td>\n      <td>28523</td>\n      <td>NaN</td>\n    </tr>\n    <tr>\n      <th>272003</th>\n      <td>0x8da754860160d55</td>\n      <td>public, max-age=432000, no-transform, immutable</td>\n      <td>NaN</td>\n      <td>70473</td>\n      <td>windows-azure-blob/1.0 microsoft-httpapi/2.0</td>\n      <td>NaN</td>\n      <td>*</td>\n    </tr>\n  </tbody>\n</table>\n<p>272004 rows × 7 columns</p>\n</div>"
     },
     "execution_count": 35,
     "metadata": {},
     "output_type": "execute_result"
    }
   ],
   "source": [
    "# filter high cardinality features\n",
    "train_data.loc[:, train_data.nunique() > 1000]"
   ],
   "metadata": {
    "collapsed": false
   }
  },
  {
   "cell_type": "code",
   "execution_count": 36,
   "outputs": [],
   "source": [
    "train_data['etag'] = train_data['etag'].astype('object')"
   ],
   "metadata": {
    "collapsed": false
   }
  },
  {
   "cell_type": "code",
   "execution_count": 38,
   "outputs": [],
   "source": [
    "train_data['etag'].replace(to_replace=r'^w\\/', value='', regex=True, inplace=True)"
   ],
   "metadata": {
    "collapsed": false
   }
  },
  {
   "cell_type": "code",
   "execution_count": 39,
   "outputs": [],
   "source": [
    "train_data['etag'] = train_data['etag'].astype('category')"
   ],
   "metadata": {
    "collapsed": false
   }
  },
  {
   "cell_type": "code",
   "execution_count": 46,
   "outputs": [
    {
     "data": {
      "text/plain": "\"1660137096112928\"                               386\n\"ad4b0f606e0f8465bc4c4c170b37e1a3:1463757360\"    370\n12862140795212465669                             324\n0x8da7b64a03a8ae5                                312\n1484984001845508991                              241\n                                                ... \n\"5efd4994-2b\"                                      1\n\"5efc256e:15a\"                                     1\n\"5efb9ec6d8c88d1176a042005edc2108\"                 1\n\"5efb3bfa-b66e1\"                                   1\nzaknedhzmad9temmhrdjeq==                           1\nName: etag, Length: 113852, dtype: int64"
     },
     "execution_count": 46,
     "metadata": {},
     "output_type": "execute_result"
    }
   ],
   "source": [
    "train_data['etag'].value_counts()"
   ],
   "metadata": {
    "collapsed": false
   }
  },
  {
   "cell_type": "code",
   "execution_count": 50,
   "outputs": [
    {
     "name": "stdout",
     "output_type": "stream",
     "text": [
      "CPU times: user 13 µs, sys: 1 µs, total: 14 µs\n",
      "Wall time: 15.7 µs\n"
     ]
    }
   ],
   "source": [
    "%%time\n",
    "train_data['etag'].apply(len)"
   ],
   "metadata": {
    "collapsed": false
   }
  },
  {
   "cell_type": "code",
   "execution_count": 57,
   "outputs": [],
   "source": [
    "from collections import Counter\n",
    "\n",
    "\n",
    "# https://towardsdatascience.com/dealing-with-features-that-have-high-cardinality-1c9212d7ff1b\n",
    "def cumulatively_categorise(column,threshold=0.75,return_categories_list=True):\n",
    "  #Find the threshold value using the percentage and number of instances in the column\n",
    "  threshold_value=int(threshold*len(column))\n",
    "  #Initialise an empty list for our new minimised categories\n",
    "  categories_list=[]\n",
    "  #Initialise a variable to calculate the sum of frequencies\n",
    "  s=0\n",
    "  #Create a counter dictionary of the form unique_value: frequency\n",
    "  counts=Counter(column)\n",
    "\n",
    "  #Loop through the category name and its corresponding frequency after sorting the categories by descending order of frequency\n",
    "  for i,j in counts.most_common():\n",
    "    #Add the frequency to the global sum\n",
    "    s+=dict(counts)[i]\n",
    "    #Append the category name to the list\n",
    "    categories_list.append(i)\n",
    "    #Check if the global sum has reached the threshold value, if so break the loop\n",
    "    if s>=threshold_value:\n",
    "      break\n",
    "  #Append the category Other to the list\n",
    "  categories_list.append('Other')\n",
    "\n",
    "  #Replace all instances not in our new categories by Other\n",
    "  new_column=column.apply(lambda x: x if x in categories_list else 'Other')\n",
    "\n",
    "  #Return transformed column and unique values if return_categories=True\n",
    "  if return_categories_list:\n",
    "    return new_column,categories_list\n",
    "  #Return only the transformed column if return_categories=False\n",
    "  else:\n",
    "    return new_column\n",
    "\n",
    "\n",
    "#Call the function with a default threshold of 75%\n",
    "transformed_column,new_category_list=cumulatively_categorise(train_data['access-control-allow-origin'],return_categories_list=True)"
   ],
   "metadata": {
    "collapsed": false
   }
  },
  {
   "cell_type": "code",
   "execution_count": 60,
   "outputs": [
    {
     "data": {
      "text/plain": "*        102011\nOther     29287\nName: access-control-allow-origin, dtype: int64"
     },
     "execution_count": 60,
     "metadata": {},
     "output_type": "execute_result"
    }
   ],
   "source": [
    "transformed_column.value_counts()"
   ],
   "metadata": {
    "collapsed": false
   }
  },
  {
   "cell_type": "code",
   "execution_count": 66,
   "outputs": [],
   "source": [
    "train_data['age'] = train_data['age'].astype('object')"
   ],
   "metadata": {
    "collapsed": false
   }
  },
  {
   "cell_type": "code",
   "execution_count": 96,
   "outputs": [
    {
     "data": {
      "text/plain": "['0        2']"
     },
     "execution_count": 96,
     "metadata": {},
     "output_type": "execute_result"
    }
   ],
   "source": [
    "[row for row in train_data.loc[train_data.age.notnull(), 'age'].values.tolist() if row == '0        2']"
   ],
   "metadata": {
    "collapsed": false
   }
  },
  {
   "cell_type": "markdown",
   "source": [],
   "metadata": {
    "collapsed": false
   }
  },
  {
   "cell_type": "code",
   "execution_count": 98,
   "outputs": [],
   "source": [
    "train_data.age.replace(to_replace=r'^0        2', value=0, regex=True, inplace=True)"
   ],
   "metadata": {
    "collapsed": false
   }
  },
  {
   "cell_type": "code",
   "execution_count": 111,
   "outputs": [
    {
     "data": {
      "text/plain": "0               0\n5               0\n7         3877441\n9               2\n11         298179\n           ...   \n271996     216994\n271997          0\n271999     845572\n272001          0\n272002      28523\nName: age, Length: 115863, dtype: int64"
     },
     "execution_count": 111,
     "metadata": {},
     "output_type": "execute_result"
    }
   ],
   "source": [
    "train_data.loc[train_data.age.notnull(), 'age'].astype('int64')"
   ],
   "metadata": {
    "collapsed": false
   }
  },
  {
   "cell_type": "code",
   "execution_count": 108,
   "outputs": [
    {
     "data": {
      "text/plain": "       pragma                     content-type accept-ranges etag  p3p  \\\n75032     NaN  application/json; charset=utf-8           NaN  NaN  NaN   \n164954    NaN          text/html;charset=utf-8           NaN  NaN  NaN   \n217966    NaN          text/html;charset=utf-8           NaN  NaN  NaN   \n241165    NaN          text/html;charset=utf-8           NaN  NaN  NaN   \n\n       x-xss-protection x-content-type-options strict-transport-security  \\\n75032               NaN                    NaN                       NaN   \n164954              NaN                    NaN                       NaN   \n217966              NaN                    NaN                       NaN   \n241165              NaN                    NaN                       NaN   \n\n                         vary content-encoding  ...  \\\n75032         accept-encoding              NaN  ...   \n164954  host, accept-encoding             gzip  ...   \n217966        accept-encoding             gzip  ...   \n241165        accept-encoding             gzip  ...   \n\n       x-amz-meta-codebuild-buildarn_binary  \\\n75032                                     0   \n164954                                    0   \n217966                                    0   \n241165                                    0   \n\n       x-amz-meta-codebuild-content-md5_binary  x-llid_binary  \\\n75032                                        0              0   \n164954                                       0              0   \n217966                                       0              0   \n241165                                       0              0   \n\n       x-b3-sampled_binary x-b3-spanid_binary x-hubspot-correlation-id_binary  \\\n75032                    0                  0                               0   \n164954                   0                  0                               0   \n217966                   0                  0                               0   \n241165                   0                  0                               0   \n\n       x-hs-target-asset_binary x-hostname_binary x-cdn-pop_binary  \\\n75032                         0                 0                0   \n164954                        0                 0                0   \n217966                        0                 0                0   \n241165                        0                 0                0   \n\n       x-cdn-pop-ip_binary  \n75032                    0  \n164954                   0  \n217966                   0  \n241165                   0  \n\n[4 rows x 152 columns]",
      "text/html": "<div>\n<style scoped>\n    .dataframe tbody tr th:only-of-type {\n        vertical-align: middle;\n    }\n\n    .dataframe tbody tr th {\n        vertical-align: top;\n    }\n\n    .dataframe thead th {\n        text-align: right;\n    }\n</style>\n<table border=\"1\" class=\"dataframe\">\n  <thead>\n    <tr style=\"text-align: right;\">\n      <th></th>\n      <th>pragma</th>\n      <th>content-type</th>\n      <th>accept-ranges</th>\n      <th>etag</th>\n      <th>p3p</th>\n      <th>x-xss-protection</th>\n      <th>x-content-type-options</th>\n      <th>strict-transport-security</th>\n      <th>vary</th>\n      <th>content-encoding</th>\n      <th>...</th>\n      <th>x-amz-meta-codebuild-buildarn_binary</th>\n      <th>x-amz-meta-codebuild-content-md5_binary</th>\n      <th>x-llid_binary</th>\n      <th>x-b3-sampled_binary</th>\n      <th>x-b3-spanid_binary</th>\n      <th>x-hubspot-correlation-id_binary</th>\n      <th>x-hs-target-asset_binary</th>\n      <th>x-hostname_binary</th>\n      <th>x-cdn-pop_binary</th>\n      <th>x-cdn-pop-ip_binary</th>\n    </tr>\n  </thead>\n  <tbody>\n    <tr>\n      <th>75032</th>\n      <td>NaN</td>\n      <td>application/json; charset=utf-8</td>\n      <td>NaN</td>\n      <td>NaN</td>\n      <td>NaN</td>\n      <td>NaN</td>\n      <td>NaN</td>\n      <td>NaN</td>\n      <td>accept-encoding</td>\n      <td>NaN</td>\n      <td>...</td>\n      <td>0</td>\n      <td>0</td>\n      <td>0</td>\n      <td>0</td>\n      <td>0</td>\n      <td>0</td>\n      <td>0</td>\n      <td>0</td>\n      <td>0</td>\n      <td>0</td>\n    </tr>\n    <tr>\n      <th>164954</th>\n      <td>NaN</td>\n      <td>text/html;charset=utf-8</td>\n      <td>NaN</td>\n      <td>NaN</td>\n      <td>NaN</td>\n      <td>NaN</td>\n      <td>NaN</td>\n      <td>NaN</td>\n      <td>host, accept-encoding</td>\n      <td>gzip</td>\n      <td>...</td>\n      <td>0</td>\n      <td>0</td>\n      <td>0</td>\n      <td>0</td>\n      <td>0</td>\n      <td>0</td>\n      <td>0</td>\n      <td>0</td>\n      <td>0</td>\n      <td>0</td>\n    </tr>\n    <tr>\n      <th>217966</th>\n      <td>NaN</td>\n      <td>text/html;charset=utf-8</td>\n      <td>NaN</td>\n      <td>NaN</td>\n      <td>NaN</td>\n      <td>NaN</td>\n      <td>NaN</td>\n      <td>NaN</td>\n      <td>accept-encoding</td>\n      <td>gzip</td>\n      <td>...</td>\n      <td>0</td>\n      <td>0</td>\n      <td>0</td>\n      <td>0</td>\n      <td>0</td>\n      <td>0</td>\n      <td>0</td>\n      <td>0</td>\n      <td>0</td>\n      <td>0</td>\n    </tr>\n    <tr>\n      <th>241165</th>\n      <td>NaN</td>\n      <td>text/html;charset=utf-8</td>\n      <td>NaN</td>\n      <td>NaN</td>\n      <td>NaN</td>\n      <td>NaN</td>\n      <td>NaN</td>\n      <td>NaN</td>\n      <td>accept-encoding</td>\n      <td>gzip</td>\n      <td>...</td>\n      <td>0</td>\n      <td>0</td>\n      <td>0</td>\n      <td>0</td>\n      <td>0</td>\n      <td>0</td>\n      <td>0</td>\n      <td>0</td>\n      <td>0</td>\n      <td>0</td>\n    </tr>\n  </tbody>\n</table>\n<p>4 rows × 152 columns</p>\n</div>"
     },
     "execution_count": 108,
     "metadata": {},
     "output_type": "execute_result"
    }
   ],
   "source": [
    "train_data[train_data.age == 'null']"
   ],
   "metadata": {
    "collapsed": false
   }
  },
  {
   "cell_type": "code",
   "execution_count": 109,
   "outputs": [],
   "source": [
    "train_data.age.replace(\"null\", np.nan, inplace=True)"
   ],
   "metadata": {
    "collapsed": false
   }
  },
  {
   "cell_type": "code",
   "execution_count": 113,
   "outputs": [
    {
     "data": {
      "text/plain": "0              0.0\n1              NaN\n2              NaN\n3              NaN\n4              NaN\n            ...   \n271999    845572.0\n272000         NaN\n272001         0.0\n272002     28523.0\n272003         NaN\nName: age, Length: 272004, dtype: float64"
     },
     "execution_count": 113,
     "metadata": {},
     "output_type": "execute_result"
    }
   ],
   "source": [
    "train_data.age.astype('float64')"
   ],
   "metadata": {
    "collapsed": false
   }
  },
  {
   "cell_type": "code",
   "execution_count": 114,
   "outputs": [
    {
     "data": {
      "text/plain": "cloudflare                39976\nnginx                     36629\namazons3                  21756\ncafe                      11677\nsffe                      10515\n                          ...  \nbcebos                        1\necacc (dcb/7f20)              1\nopenresty/1.11.2.1            1\nopenresty+                    1\njetty(8.1.9.v20130131)        1\nName: server, Length: 1312, dtype: int64"
     },
     "execution_count": 114,
     "metadata": {},
     "output_type": "execute_result"
    }
   ],
   "source": [
    "train_data.server.value_counts()"
   ],
   "metadata": {
    "collapsed": false
   }
  },
  {
   "cell_type": "code",
   "execution_count": 130,
   "outputs": [],
   "source": [
    "train_data.server = train_data.server.astype('object')"
   ],
   "metadata": {
    "collapsed": false
   }
  },
  {
   "cell_type": "code",
   "execution_count": 138,
   "outputs": [],
   "source": [
    "# train_data.server.replace(to_replace=r'^nginx.*', value='nginx', regex=True, inplace=True)\n",
    "# train_data.server.replace(to_replace=r'^apache.*', value='apache', regex=True, inplace=True)\n",
    "# train_data.server.replace(to_replace=r'^ecacc.*', value='ecacc', regex=True, inplace=True)\n",
    "# train_data.server.replace(to_replace=r'^ecs.*', value='ecs', regex=True, inplace=True)\n",
    "# train_data.server.replace(to_replace=r'^oracle.*', value='oracle', regex=True, inplace=True)\n",
    "# train_data.server.replace(to_replace=r'^mt3.*', value='mt3', regex=True, inplace=True)\n",
    "# train_data.server.replace(to_replace=r'^microsoft.*', value='microsoft', regex=True, inplace=True)\n",
    "\n",
    "train_data.server.replace(to_replace=r'^jetty.*', value='jetty', regex=True, inplace=True)\n",
    "train_data.server.replace(to_replace=r'^ats.*', value='ats', regex=True, inplace=True)\n",
    "train_data.server.replace(to_replace=r'^openresty.*', value='openresty', regex=True, inplace=True)"
   ],
   "metadata": {
    "collapsed": false
   }
  },
  {
   "cell_type": "code",
   "execution_count": 139,
   "outputs": [
    {
     "data": {
      "text/plain": "nginx                                                                        46640\ncloudflare                                                                   39976\namazons3                                                                     21756\napache                                                                       12932\ncafe                                                                         11677\n                                                                             ...  \nycalb                                                                            1\nclingest-secure i-05a627d2e9546ffbd                                              1\nweb_push_view/0.10.0 (web-push-view)                                             1\nmatch/6913.98ef00e9c398630524ec3cc55780a8569dd8e00d (i-08860c73bcd65dae3)        1\nopendns                                                                          1\nName: server, Length: 710, dtype: int64"
     },
     "execution_count": 139,
     "metadata": {},
     "output_type": "execute_result"
    }
   ],
   "source": [
    "train_data.server.value_counts()"
   ],
   "metadata": {
    "collapsed": false
   }
  },
  {
   "cell_type": "code",
   "execution_count": 146,
   "outputs": [],
   "source": [
    "transformed_column_server,new_category_list_server=cumulatively_categorise(train_data.server, threshold=0.9,\n",
    "                                                              return_categories_list=True)"
   ],
   "metadata": {
    "collapsed": false
   }
  },
  {
   "cell_type": "code",
   "execution_count": 147,
   "outputs": [
    {
     "data": {
      "text/plain": "nginx                        46640\ncloudflare                   39976\nOther                        26837\namazons3                     21756\napache                       12932\ncafe                         11677\nsffe                         10515\ngolfe2                        5977\ntengine                       5315\nakamainetstorage              4290\nserver                        3731\nopenresty                     3562\ngoogle tag manager            3305\nesf                           2684\nakamai image manager          2658\nmicrosoft                     2595\nuploadserver                  2396\nakamai resource optimizer     2393\nenvoy                         1771\nproxygen-bolt                 1564\necacc                         1398\ncloudinary                    1389\nistio-envoy                   1297\nats                           1143\necs                           1037\nkittenx                        989\ncontentful images api          752\ngse                            723\ncowboy                         669\nnetlify                        666\nnws_oversea_ap                 648\ncloudfront                     635\nName: server, dtype: int64"
     },
     "execution_count": 147,
     "metadata": {},
     "output_type": "execute_result"
    }
   ],
   "source": [
    "transformed_column_server.value_counts()"
   ],
   "metadata": {
    "collapsed": false
   }
  },
  {
   "cell_type": "code",
   "execution_count": 150,
   "outputs": [
    {
     "data": {
      "text/plain": "0         11886\n43         6475\n42         5072\n35         2267\n2          1750\n          ...  \n12215         1\n11765         1\n270979        1\n110846        1\n70473         1\nName: content-length, Length: 53006, dtype: Int64"
     },
     "execution_count": 150,
     "metadata": {},
     "output_type": "execute_result"
    }
   ],
   "source": [
    "train_data['content-length'].value_counts()"
   ],
   "metadata": {
    "collapsed": false
   }
  },
  {
   "cell_type": "code",
   "execution_count": 154,
   "outputs": [
    {
     "data": {
      "text/plain": "Int64Dtype()"
     },
     "execution_count": 154,
     "metadata": {},
     "output_type": "execute_result"
    }
   ],
   "source": [
    "train_data['content-length'].dtype"
   ],
   "metadata": {
    "collapsed": false
   }
  },
  {
   "cell_type": "code",
   "execution_count": 126,
   "outputs": [],
   "source": [
    "imputed_values_dict = {0: [], 1: []}"
   ],
   "metadata": {
    "collapsed": false
   }
  },
  {
   "cell_type": "code",
   "execution_count": 127,
   "outputs": [],
   "source": [
    "def impute_value(element, classification):\n",
    "    if element in list_of_integer_cols:\n",
    "        value = int(train_data[train_data['tracker']==classification][element].median())\n",
    "        imputed_values_dict[classification].append({element: value})\n",
    "        train_data.loc[train_data['tracker'] == classification, element] = train_data.loc[train_data['tracker'] ==\n",
    "                                                                                          classification, element]\\\n",
    "            .fillna(value)\n",
    "\n",
    "    if element in list_of_categorical_cols:\n",
    "        value = train_data[train_data['tracker']==classification][element].mode().iloc[0]\n",
    "        imputed_values_dict[classification].append({element: value})\n",
    "        train_data.loc[train_data['tracker'] == classification, element] = train_data.loc[train_data['tracker'] ==\n",
    "                                                                                          classification, element]\\\n",
    "            .fillna(value)"
   ],
   "metadata": {
    "collapsed": false
   }
  },
  {
   "cell_type": "code",
   "execution_count": 182,
   "outputs": [],
   "source": [
    "for header in impute_col_list_t:\n",
    "    impute_value(header, 0)\n",
    "\n",
    "for header in impute_col_list_t:\n",
    "    impute_value(header, 1)\n",
    "\n",
    "for header in impute_col_list_nt:\n",
    "    impute_value(header, 1)\n",
    "\n",
    "for header in impute_col_list_nt:\n",
    "    impute_value(header, 0)"
   ],
   "metadata": {
    "collapsed": false
   }
  },
  {
   "cell_type": "code",
   "execution_count": 183,
   "outputs": [],
   "source": [
    "for elem in imputed_values_dict[0]:\n",
    "    (key, value), = elem.items()\n",
    "    test_data.loc[train_data['tracker'] == 0, key] = test_data.loc[train_data['tracker'] == 0, key].fillna(value)\n",
    "    # test_data[test_data['tracker'] == 0][key].fillna(value)"
   ],
   "metadata": {
    "collapsed": false
   }
  },
  {
   "cell_type": "code",
   "execution_count": 184,
   "outputs": [],
   "source": [
    "for elem in imputed_values_dict[1]:\n",
    "    (key, value), = elem.items()\n",
    "    test_data.loc[train_data['tracker'] == 1, key] = test_data.loc[train_data['tracker'] == 1, key].fillna(value)"
   ],
   "metadata": {
    "collapsed": false
   }
  },
  {
   "cell_type": "markdown",
   "source": [
    "Train dummy classifier"
   ],
   "metadata": {
    "collapsed": false
   }
  },
  {
   "cell_type": "code",
   "execution_count": 98,
   "outputs": [
    {
     "name": "stdout",
     "output_type": "stream",
     "text": [
      "CPU times: user 23.7 ms, sys: 1.14 ms, total: 24.8 ms\n",
      "Wall time: 24.7 ms\n"
     ]
    },
    {
     "data": {
      "text/plain": "0.4994050105206749"
     },
     "execution_count": 98,
     "metadata": {},
     "output_type": "execute_result"
    }
   ],
   "source": [
    "%%time\n",
    "dummy_clf = DummyClassifier(strategy=\"uniform\", random_state=10)\n",
    "dummy_clf.fit(X_train, y_train)\n",
    "dummy_clf.score(X_train, y_train)"
   ],
   "metadata": {
    "collapsed": false
   }
  },
  {
   "cell_type": "code",
   "execution_count": 175,
   "outputs": [
    {
     "data": {
      "text/plain": "                       hostname  \\\n0            static.pornpics.de   \n1                 www.apple.com   \n2                www.comodo.com   \n3                   wpastra.com   \n4                     www.o2.pl   \n...                         ...   \n67996           api-2-0.spot.im   \n67997  www.google-analytics.com   \n67998             login.ibm.com   \n67999                    dev.to   \n68000                 uiowa.edu   \n\n                                                pathname  \\\n0                                    /style4/img/1px.png   \n1      /wss/fonts/SF-Pro-Display/v3/sf-pro-display_bo...   \n2      /wp-content/themes/comodo-child/assets/js/jque...   \n3                /wp-content/uploads/2021/12/wp-logo.png   \n4      /MHgxNjAuYikGGjhZbg5vPUVCbEUnWn9nARk4AyIaI2VWT...   \n...                                                  ...   \n67996                 /v1.0.0/owa-gw/spot/sp_psR3LEKl/v2   \n67997                              /plugins/ua/linkid.js   \n67998                        /v1/mgmt/idaas/user/status/   \n67999                                                  /   \n68000  /themes/custom/uids_base/assets/css/components...   \n\n                                                filetype  \\\n0                                                    png   \n1                                                  woff2   \n2                                                     js   \n3                                                    png   \n4      /MHgxNjAuYikGGjhZbg5vPUVCbEUnWn9nARk4AyIaI2VWT...   \n...                                                  ...   \n67996                       0/owa-gw/spot/sp_psR3LEKl/v2   \n67997                                                 js   \n67998                        /v1/mgmt/idaas/user/status/   \n67999                                                  /   \n68000                                                css   \n\n                                                filename pragma  \\\n0                                                1px.png    NaN   \n1                       sf-pro-display_bold-italic.woff2    NaN   \n2                                     jquery.validate.js    NaN   \n3                                            wp-logo.png    NaN   \n4      MHgxNjAuYikGGjhZbg5vPUVCbEUnWn9nARk4AyIaI2VWTn...    NaN   \n...                                                  ...    ...   \n67996                                                 v2    NaN   \n67997                                          linkid.js    NaN   \n67998                                                       NaN   \n67999                                                       NaN   \n68000                                            cta.css    NaN   \n\n                   content-type                  last-modified accept-ranges  \\\n0                     image/png  thu, 26 sep 2019 10:11:41 gmt         bytes   \n1                    font/woff2  thu, 16 jun 2022 22:54:46 gmt           NaN   \n2        application/javascript  thu, 21 jul 2022 02:07:42 gmt         bytes   \n3                    image/webp  thu, 02 dec 2021 07:36:15 gmt         bytes   \n4                     image/png  thu, 14 nov 2019 13:45:36 gmt         bytes   \n...                         ...                            ...           ...   \n67996          application/json                            NaN           NaN   \n67997           text/javascript  tue, 22 oct 2019 18:15:00 gmt         bytes   \n67998          application/json                            NaN           NaN   \n67999  text/html; charset=utf-8                            NaN         bytes   \n68000                  text/css  wed, 27 apr 2022 18:48:45 gmt         bytes   \n\n                                       etag                            p3p  \\\n0                             \"5d8c8edd-44\"                            NaN   \n1                                       NaN                            NaN   \n2                           \"62d8b4ee-957e\"                            NaN   \n3                           \"61a8776f-18ea\"                            NaN   \n4        \"3232f62028480cd85f19072341a56a4c\"                            NaN   \n...                                     ...                            ...   \n67996                                   NaN                            NaN   \n67997                                   NaN                            NaN   \n67998                                   NaN  cp=\"non cur otpi our nor uni\"   \n67999  w/\"45a86e113f5f6aba3e2291d4c140d07c\"                            NaN   \n68000                                   NaN                            NaN   \n\n       ... x-b3-sampled x-b3-spanid x-hubspot-correlation-id  \\\n0      ...         <NA>         NaN                      NaN   \n1      ...         <NA>         NaN                      NaN   \n2      ...         <NA>         NaN                      NaN   \n3      ...         <NA>         NaN                      NaN   \n4      ...         <NA>         NaN                      NaN   \n...    ...          ...         ...                      ...   \n67996  ...         <NA>         NaN                      NaN   \n67997  ...         <NA>         NaN                      NaN   \n67998  ...         <NA>         NaN                      NaN   \n67999  ...         <NA>         NaN                      NaN   \n68000  ...         <NA>         NaN                      NaN   \n\n      x-hs-target-asset x-hostname x-cdn-pop x-cdn-pop-ip header_count  \\\n0                   NaN        NaN       NaN          NaN           14   \n1                   NaN        NaN       NaN          NaN           14   \n2                   NaN        NaN       NaN          NaN           13   \n3                   NaN        NaN       NaN          NaN           24   \n4                   NaN        NaN       NaN          NaN           14   \n...                 ...        ...       ...          ...          ...   \n67996               NaN        NaN       NaN          NaN           16   \n67997               NaN        NaN       NaN          NaN           17   \n67998               NaN        NaN       NaN          NaN           21   \n67999               NaN        NaN       NaN          NaN           28   \n68000               NaN        NaN       NaN          NaN           17   \n\n      comb_col_non_tracker  comb_col_tracker  \n0                        1                 0  \n1                        0                 0  \n2                        0                 0  \n3                        2                 0  \n4                        3                 0  \n...                    ...               ...  \n67996                    0                 0  \n67997                    0                 0  \n67998                    5                 0  \n67999                    4                 0  \n68000                    2                 0  \n\n[68001 rows x 157 columns]",
      "text/html": "<div>\n<style scoped>\n    .dataframe tbody tr th:only-of-type {\n        vertical-align: middle;\n    }\n\n    .dataframe tbody tr th {\n        vertical-align: top;\n    }\n\n    .dataframe thead th {\n        text-align: right;\n    }\n</style>\n<table border=\"1\" class=\"dataframe\">\n  <thead>\n    <tr style=\"text-align: right;\">\n      <th></th>\n      <th>hostname</th>\n      <th>pathname</th>\n      <th>filetype</th>\n      <th>filename</th>\n      <th>pragma</th>\n      <th>content-type</th>\n      <th>last-modified</th>\n      <th>accept-ranges</th>\n      <th>etag</th>\n      <th>p3p</th>\n      <th>...</th>\n      <th>x-b3-sampled</th>\n      <th>x-b3-spanid</th>\n      <th>x-hubspot-correlation-id</th>\n      <th>x-hs-target-asset</th>\n      <th>x-hostname</th>\n      <th>x-cdn-pop</th>\n      <th>x-cdn-pop-ip</th>\n      <th>header_count</th>\n      <th>comb_col_non_tracker</th>\n      <th>comb_col_tracker</th>\n    </tr>\n  </thead>\n  <tbody>\n    <tr>\n      <th>0</th>\n      <td>static.pornpics.de</td>\n      <td>/style4/img/1px.png</td>\n      <td>png</td>\n      <td>1px.png</td>\n      <td>NaN</td>\n      <td>image/png</td>\n      <td>thu, 26 sep 2019 10:11:41 gmt</td>\n      <td>bytes</td>\n      <td>\"5d8c8edd-44\"</td>\n      <td>NaN</td>\n      <td>...</td>\n      <td>&lt;NA&gt;</td>\n      <td>NaN</td>\n      <td>NaN</td>\n      <td>NaN</td>\n      <td>NaN</td>\n      <td>NaN</td>\n      <td>NaN</td>\n      <td>14</td>\n      <td>1</td>\n      <td>0</td>\n    </tr>\n    <tr>\n      <th>1</th>\n      <td>www.apple.com</td>\n      <td>/wss/fonts/SF-Pro-Display/v3/sf-pro-display_bo...</td>\n      <td>woff2</td>\n      <td>sf-pro-display_bold-italic.woff2</td>\n      <td>NaN</td>\n      <td>font/woff2</td>\n      <td>thu, 16 jun 2022 22:54:46 gmt</td>\n      <td>NaN</td>\n      <td>NaN</td>\n      <td>NaN</td>\n      <td>...</td>\n      <td>&lt;NA&gt;</td>\n      <td>NaN</td>\n      <td>NaN</td>\n      <td>NaN</td>\n      <td>NaN</td>\n      <td>NaN</td>\n      <td>NaN</td>\n      <td>14</td>\n      <td>0</td>\n      <td>0</td>\n    </tr>\n    <tr>\n      <th>2</th>\n      <td>www.comodo.com</td>\n      <td>/wp-content/themes/comodo-child/assets/js/jque...</td>\n      <td>js</td>\n      <td>jquery.validate.js</td>\n      <td>NaN</td>\n      <td>application/javascript</td>\n      <td>thu, 21 jul 2022 02:07:42 gmt</td>\n      <td>bytes</td>\n      <td>\"62d8b4ee-957e\"</td>\n      <td>NaN</td>\n      <td>...</td>\n      <td>&lt;NA&gt;</td>\n      <td>NaN</td>\n      <td>NaN</td>\n      <td>NaN</td>\n      <td>NaN</td>\n      <td>NaN</td>\n      <td>NaN</td>\n      <td>13</td>\n      <td>0</td>\n      <td>0</td>\n    </tr>\n    <tr>\n      <th>3</th>\n      <td>wpastra.com</td>\n      <td>/wp-content/uploads/2021/12/wp-logo.png</td>\n      <td>png</td>\n      <td>wp-logo.png</td>\n      <td>NaN</td>\n      <td>image/webp</td>\n      <td>thu, 02 dec 2021 07:36:15 gmt</td>\n      <td>bytes</td>\n      <td>\"61a8776f-18ea\"</td>\n      <td>NaN</td>\n      <td>...</td>\n      <td>&lt;NA&gt;</td>\n      <td>NaN</td>\n      <td>NaN</td>\n      <td>NaN</td>\n      <td>NaN</td>\n      <td>NaN</td>\n      <td>NaN</td>\n      <td>24</td>\n      <td>2</td>\n      <td>0</td>\n    </tr>\n    <tr>\n      <th>4</th>\n      <td>www.o2.pl</td>\n      <td>/MHgxNjAuYikGGjhZbg5vPUVCbEUnWn9nARk4AyIaI2VWT...</td>\n      <td>/MHgxNjAuYikGGjhZbg5vPUVCbEUnWn9nARk4AyIaI2VWT...</td>\n      <td>MHgxNjAuYikGGjhZbg5vPUVCbEUnWn9nARk4AyIaI2VWTn...</td>\n      <td>NaN</td>\n      <td>image/png</td>\n      <td>thu, 14 nov 2019 13:45:36 gmt</td>\n      <td>bytes</td>\n      <td>\"3232f62028480cd85f19072341a56a4c\"</td>\n      <td>NaN</td>\n      <td>...</td>\n      <td>&lt;NA&gt;</td>\n      <td>NaN</td>\n      <td>NaN</td>\n      <td>NaN</td>\n      <td>NaN</td>\n      <td>NaN</td>\n      <td>NaN</td>\n      <td>14</td>\n      <td>3</td>\n      <td>0</td>\n    </tr>\n    <tr>\n      <th>...</th>\n      <td>...</td>\n      <td>...</td>\n      <td>...</td>\n      <td>...</td>\n      <td>...</td>\n      <td>...</td>\n      <td>...</td>\n      <td>...</td>\n      <td>...</td>\n      <td>...</td>\n      <td>...</td>\n      <td>...</td>\n      <td>...</td>\n      <td>...</td>\n      <td>...</td>\n      <td>...</td>\n      <td>...</td>\n      <td>...</td>\n      <td>...</td>\n      <td>...</td>\n      <td>...</td>\n    </tr>\n    <tr>\n      <th>67996</th>\n      <td>api-2-0.spot.im</td>\n      <td>/v1.0.0/owa-gw/spot/sp_psR3LEKl/v2</td>\n      <td>0/owa-gw/spot/sp_psR3LEKl/v2</td>\n      <td>v2</td>\n      <td>NaN</td>\n      <td>application/json</td>\n      <td>NaN</td>\n      <td>NaN</td>\n      <td>NaN</td>\n      <td>NaN</td>\n      <td>...</td>\n      <td>&lt;NA&gt;</td>\n      <td>NaN</td>\n      <td>NaN</td>\n      <td>NaN</td>\n      <td>NaN</td>\n      <td>NaN</td>\n      <td>NaN</td>\n      <td>16</td>\n      <td>0</td>\n      <td>0</td>\n    </tr>\n    <tr>\n      <th>67997</th>\n      <td>www.google-analytics.com</td>\n      <td>/plugins/ua/linkid.js</td>\n      <td>js</td>\n      <td>linkid.js</td>\n      <td>NaN</td>\n      <td>text/javascript</td>\n      <td>tue, 22 oct 2019 18:15:00 gmt</td>\n      <td>bytes</td>\n      <td>NaN</td>\n      <td>NaN</td>\n      <td>...</td>\n      <td>&lt;NA&gt;</td>\n      <td>NaN</td>\n      <td>NaN</td>\n      <td>NaN</td>\n      <td>NaN</td>\n      <td>NaN</td>\n      <td>NaN</td>\n      <td>17</td>\n      <td>0</td>\n      <td>0</td>\n    </tr>\n    <tr>\n      <th>67998</th>\n      <td>login.ibm.com</td>\n      <td>/v1/mgmt/idaas/user/status/</td>\n      <td>/v1/mgmt/idaas/user/status/</td>\n      <td></td>\n      <td>NaN</td>\n      <td>application/json</td>\n      <td>NaN</td>\n      <td>NaN</td>\n      <td>NaN</td>\n      <td>cp=\"non cur otpi our nor uni\"</td>\n      <td>...</td>\n      <td>&lt;NA&gt;</td>\n      <td>NaN</td>\n      <td>NaN</td>\n      <td>NaN</td>\n      <td>NaN</td>\n      <td>NaN</td>\n      <td>NaN</td>\n      <td>21</td>\n      <td>5</td>\n      <td>0</td>\n    </tr>\n    <tr>\n      <th>67999</th>\n      <td>dev.to</td>\n      <td>/</td>\n      <td>/</td>\n      <td></td>\n      <td>NaN</td>\n      <td>text/html; charset=utf-8</td>\n      <td>NaN</td>\n      <td>bytes</td>\n      <td>w/\"45a86e113f5f6aba3e2291d4c140d07c\"</td>\n      <td>NaN</td>\n      <td>...</td>\n      <td>&lt;NA&gt;</td>\n      <td>NaN</td>\n      <td>NaN</td>\n      <td>NaN</td>\n      <td>NaN</td>\n      <td>NaN</td>\n      <td>NaN</td>\n      <td>28</td>\n      <td>4</td>\n      <td>0</td>\n    </tr>\n    <tr>\n      <th>68000</th>\n      <td>uiowa.edu</td>\n      <td>/themes/custom/uids_base/assets/css/components...</td>\n      <td>css</td>\n      <td>cta.css</td>\n      <td>NaN</td>\n      <td>text/css</td>\n      <td>wed, 27 apr 2022 18:48:45 gmt</td>\n      <td>bytes</td>\n      <td>NaN</td>\n      <td>NaN</td>\n      <td>...</td>\n      <td>&lt;NA&gt;</td>\n      <td>NaN</td>\n      <td>NaN</td>\n      <td>NaN</td>\n      <td>NaN</td>\n      <td>NaN</td>\n      <td>NaN</td>\n      <td>17</td>\n      <td>2</td>\n      <td>0</td>\n    </tr>\n  </tbody>\n</table>\n<p>68001 rows × 157 columns</p>\n</div>"
     },
     "execution_count": 175,
     "metadata": {},
     "output_type": "execute_result"
    }
   ],
   "source": [
    "X_test"
   ],
   "metadata": {
    "collapsed": false
   }
  },
  {
   "cell_type": "code",
   "execution_count": 25,
   "outputs": [
    {
     "data": {
      "text/plain": "tracker    int32\ndtype: object"
     },
     "execution_count": 25,
     "metadata": {},
     "output_type": "execute_result"
    }
   ],
   "source": [
    "y_train.dtypes"
   ],
   "metadata": {
    "collapsed": false
   }
  },
  {
   "cell_type": "code",
   "execution_count": 223,
   "outputs": [],
   "source": [
    "a = label_encoder.fit_transform(y_train['tracker'])"
   ],
   "metadata": {
    "collapsed": false
   }
  },
  {
   "cell_type": "code",
   "execution_count": 188,
   "outputs": [],
   "source": [
    "X_test = X_test.dropna(axis=1, how='any').iloc[:, 4:]\n",
    "X_train_2 = X_train.dropna(axis=1, how='any').iloc[:, 4:]"
   ],
   "metadata": {
    "collapsed": false
   }
  },
  {
   "cell_type": "code",
   "execution_count": 213,
   "outputs": [],
   "source": [
    "model = xgb.XGBClassifier()"
   ],
   "metadata": {
    "collapsed": false
   }
  },
  {
   "cell_type": "code",
   "execution_count": 224,
   "outputs": [
    {
     "name": "stderr",
     "output_type": "stream",
     "text": [
      "/Users/wolfrieder/miniconda3/envs/code/lib/python3.9/site-packages/xgboost/sklearn.py:1224: UserWarning: The use of label encoder in XGBClassifier is deprecated and will be removed in a future release. To remove this warning, do the following: 1) Pass option use_label_encoder=False when constructing XGBClassifier object; and 2) Encode your labels (y) as integers starting with 0, i.e. 0, 1, 2, ..., [num_class - 1].\n",
      "  warnings.warn(label_encoder_deprecation_msg, UserWarning)\n"
     ]
    },
    {
     "ename": "ValueError",
     "evalue": "DataFrame.dtypes for data must be int, float, bool or category.  When\ncategorical type is supplied, DMatrix parameter `enable_categorical` must\nbe set to `True`. Invalid columns:content-length",
     "output_type": "error",
     "traceback": [
      "\u001B[0;31m---------------------------------------------------------------------------\u001B[0m",
      "\u001B[0;31mValueError\u001B[0m                                Traceback (most recent call last)",
      "Input \u001B[0;32mIn [224]\u001B[0m, in \u001B[0;36m<cell line: 1>\u001B[0;34m()\u001B[0m\n\u001B[0;32m----> 1\u001B[0m \u001B[43mmodel\u001B[49m\u001B[38;5;241;43m.\u001B[39;49m\u001B[43mfit\u001B[49m\u001B[43m(\u001B[49m\u001B[43mX_train_2\u001B[49m\u001B[43m,\u001B[49m\u001B[43m \u001B[49m\u001B[43ma\u001B[49m\u001B[43m)\u001B[49m\n",
      "File \u001B[0;32m~/miniconda3/envs/code/lib/python3.9/site-packages/xgboost/core.py:506\u001B[0m, in \u001B[0;36m_deprecate_positional_args.<locals>.inner_f\u001B[0;34m(*args, **kwargs)\u001B[0m\n\u001B[1;32m    504\u001B[0m \u001B[38;5;28;01mfor\u001B[39;00m k, arg \u001B[38;5;129;01min\u001B[39;00m \u001B[38;5;28mzip\u001B[39m(sig\u001B[38;5;241m.\u001B[39mparameters, args):\n\u001B[1;32m    505\u001B[0m     kwargs[k] \u001B[38;5;241m=\u001B[39m arg\n\u001B[0;32m--> 506\u001B[0m \u001B[38;5;28;01mreturn\u001B[39;00m \u001B[43mf\u001B[49m\u001B[43m(\u001B[49m\u001B[38;5;241;43m*\u001B[39;49m\u001B[38;5;241;43m*\u001B[39;49m\u001B[43mkwargs\u001B[49m\u001B[43m)\u001B[49m\n",
      "File \u001B[0;32m~/miniconda3/envs/code/lib/python3.9/site-packages/xgboost/sklearn.py:1231\u001B[0m, in \u001B[0;36mXGBClassifier.fit\u001B[0;34m(self, X, y, sample_weight, base_margin, eval_set, eval_metric, early_stopping_rounds, verbose, xgb_model, sample_weight_eval_set, base_margin_eval_set, feature_weights, callbacks)\u001B[0m\n\u001B[1;32m   1228\u001B[0m     label_transform \u001B[38;5;241m=\u001B[39m \u001B[38;5;28;01mlambda\u001B[39;00m x: x\n\u001B[1;32m   1230\u001B[0m model, feval, params \u001B[38;5;241m=\u001B[39m \u001B[38;5;28mself\u001B[39m\u001B[38;5;241m.\u001B[39m_configure_fit(xgb_model, eval_metric, params)\n\u001B[0;32m-> 1231\u001B[0m train_dmatrix, evals \u001B[38;5;241m=\u001B[39m \u001B[43m_wrap_evaluation_matrices\u001B[49m\u001B[43m(\u001B[49m\n\u001B[1;32m   1232\u001B[0m \u001B[43m    \u001B[49m\u001B[43mmissing\u001B[49m\u001B[38;5;241;43m=\u001B[39;49m\u001B[38;5;28;43mself\u001B[39;49m\u001B[38;5;241;43m.\u001B[39;49m\u001B[43mmissing\u001B[49m\u001B[43m,\u001B[49m\n\u001B[1;32m   1233\u001B[0m \u001B[43m    \u001B[49m\u001B[43mX\u001B[49m\u001B[38;5;241;43m=\u001B[39;49m\u001B[43mX\u001B[49m\u001B[43m,\u001B[49m\n\u001B[1;32m   1234\u001B[0m \u001B[43m    \u001B[49m\u001B[43my\u001B[49m\u001B[38;5;241;43m=\u001B[39;49m\u001B[43my\u001B[49m\u001B[43m,\u001B[49m\n\u001B[1;32m   1235\u001B[0m \u001B[43m    \u001B[49m\u001B[43mgroup\u001B[49m\u001B[38;5;241;43m=\u001B[39;49m\u001B[38;5;28;43;01mNone\u001B[39;49;00m\u001B[43m,\u001B[49m\n\u001B[1;32m   1236\u001B[0m \u001B[43m    \u001B[49m\u001B[43mqid\u001B[49m\u001B[38;5;241;43m=\u001B[39;49m\u001B[38;5;28;43;01mNone\u001B[39;49;00m\u001B[43m,\u001B[49m\n\u001B[1;32m   1237\u001B[0m \u001B[43m    \u001B[49m\u001B[43msample_weight\u001B[49m\u001B[38;5;241;43m=\u001B[39;49m\u001B[43msample_weight\u001B[49m\u001B[43m,\u001B[49m\n\u001B[1;32m   1238\u001B[0m \u001B[43m    \u001B[49m\u001B[43mbase_margin\u001B[49m\u001B[38;5;241;43m=\u001B[39;49m\u001B[43mbase_margin\u001B[49m\u001B[43m,\u001B[49m\n\u001B[1;32m   1239\u001B[0m \u001B[43m    \u001B[49m\u001B[43mfeature_weights\u001B[49m\u001B[38;5;241;43m=\u001B[39;49m\u001B[43mfeature_weights\u001B[49m\u001B[43m,\u001B[49m\n\u001B[1;32m   1240\u001B[0m \u001B[43m    \u001B[49m\u001B[43meval_set\u001B[49m\u001B[38;5;241;43m=\u001B[39;49m\u001B[43meval_set\u001B[49m\u001B[43m,\u001B[49m\n\u001B[1;32m   1241\u001B[0m \u001B[43m    \u001B[49m\u001B[43msample_weight_eval_set\u001B[49m\u001B[38;5;241;43m=\u001B[39;49m\u001B[43msample_weight_eval_set\u001B[49m\u001B[43m,\u001B[49m\n\u001B[1;32m   1242\u001B[0m \u001B[43m    \u001B[49m\u001B[43mbase_margin_eval_set\u001B[49m\u001B[38;5;241;43m=\u001B[39;49m\u001B[43mbase_margin_eval_set\u001B[49m\u001B[43m,\u001B[49m\n\u001B[1;32m   1243\u001B[0m \u001B[43m    \u001B[49m\u001B[43meval_group\u001B[49m\u001B[38;5;241;43m=\u001B[39;49m\u001B[38;5;28;43;01mNone\u001B[39;49;00m\u001B[43m,\u001B[49m\n\u001B[1;32m   1244\u001B[0m \u001B[43m    \u001B[49m\u001B[43meval_qid\u001B[49m\u001B[38;5;241;43m=\u001B[39;49m\u001B[38;5;28;43;01mNone\u001B[39;49;00m\u001B[43m,\u001B[49m\n\u001B[1;32m   1245\u001B[0m \u001B[43m    \u001B[49m\u001B[43mcreate_dmatrix\u001B[49m\u001B[38;5;241;43m=\u001B[39;49m\u001B[38;5;28;43;01mlambda\u001B[39;49;00m\u001B[43m \u001B[49m\u001B[38;5;241;43m*\u001B[39;49m\u001B[38;5;241;43m*\u001B[39;49m\u001B[43mkwargs\u001B[49m\u001B[43m:\u001B[49m\u001B[43m \u001B[49m\u001B[43mDMatrix\u001B[49m\u001B[43m(\u001B[49m\u001B[43mnthread\u001B[49m\u001B[38;5;241;43m=\u001B[39;49m\u001B[38;5;28;43mself\u001B[39;49m\u001B[38;5;241;43m.\u001B[39;49m\u001B[43mn_jobs\u001B[49m\u001B[43m,\u001B[49m\u001B[43m \u001B[49m\u001B[38;5;241;43m*\u001B[39;49m\u001B[38;5;241;43m*\u001B[39;49m\u001B[43mkwargs\u001B[49m\u001B[43m)\u001B[49m\u001B[43m,\u001B[49m\n\u001B[1;32m   1246\u001B[0m \u001B[43m    \u001B[49m\u001B[43menable_categorical\u001B[49m\u001B[38;5;241;43m=\u001B[39;49m\u001B[38;5;28;43mself\u001B[39;49m\u001B[38;5;241;43m.\u001B[39;49m\u001B[43menable_categorical\u001B[49m\u001B[43m,\u001B[49m\n\u001B[1;32m   1247\u001B[0m \u001B[43m    \u001B[49m\u001B[43mlabel_transform\u001B[49m\u001B[38;5;241;43m=\u001B[39;49m\u001B[43mlabel_transform\u001B[49m\u001B[43m,\u001B[49m\n\u001B[1;32m   1248\u001B[0m \u001B[43m\u001B[49m\u001B[43m)\u001B[49m\n\u001B[1;32m   1250\u001B[0m \u001B[38;5;28mself\u001B[39m\u001B[38;5;241m.\u001B[39m_Booster \u001B[38;5;241m=\u001B[39m train(\n\u001B[1;32m   1251\u001B[0m     params,\n\u001B[1;32m   1252\u001B[0m     train_dmatrix,\n\u001B[0;32m   (...)\u001B[0m\n\u001B[1;32m   1261\u001B[0m     callbacks\u001B[38;5;241m=\u001B[39mcallbacks,\n\u001B[1;32m   1262\u001B[0m )\n\u001B[1;32m   1264\u001B[0m \u001B[38;5;28;01mif\u001B[39;00m \u001B[38;5;129;01mnot\u001B[39;00m callable(\u001B[38;5;28mself\u001B[39m\u001B[38;5;241m.\u001B[39mobjective):\n",
      "File \u001B[0;32m~/miniconda3/envs/code/lib/python3.9/site-packages/xgboost/sklearn.py:286\u001B[0m, in \u001B[0;36m_wrap_evaluation_matrices\u001B[0;34m(missing, X, y, group, qid, sample_weight, base_margin, feature_weights, eval_set, sample_weight_eval_set, base_margin_eval_set, eval_group, eval_qid, create_dmatrix, enable_categorical, label_transform)\u001B[0m\n\u001B[1;32m    265\u001B[0m \u001B[38;5;28;01mdef\u001B[39;00m \u001B[38;5;21m_wrap_evaluation_matrices\u001B[39m(\n\u001B[1;32m    266\u001B[0m     missing: \u001B[38;5;28mfloat\u001B[39m,\n\u001B[1;32m    267\u001B[0m     X: Any,\n\u001B[0;32m   (...)\u001B[0m\n\u001B[1;32m    281\u001B[0m     label_transform: Callable \u001B[38;5;241m=\u001B[39m \u001B[38;5;28;01mlambda\u001B[39;00m x: x,\n\u001B[1;32m    282\u001B[0m ) \u001B[38;5;241m-\u001B[39m\u001B[38;5;241m>\u001B[39m Tuple[Any, Optional[List[Tuple[Any, \u001B[38;5;28mstr\u001B[39m]]]]:\n\u001B[1;32m    283\u001B[0m     \u001B[38;5;124;03m\"\"\"Convert array_like evaluation matrices into DMatrix.  Perform validation on the way.\u001B[39;00m\n\u001B[1;32m    284\u001B[0m \n\u001B[1;32m    285\u001B[0m \u001B[38;5;124;03m    \"\"\"\u001B[39;00m\n\u001B[0;32m--> 286\u001B[0m     train_dmatrix \u001B[38;5;241m=\u001B[39m \u001B[43mcreate_dmatrix\u001B[49m\u001B[43m(\u001B[49m\n\u001B[1;32m    287\u001B[0m \u001B[43m        \u001B[49m\u001B[43mdata\u001B[49m\u001B[38;5;241;43m=\u001B[39;49m\u001B[43mX\u001B[49m\u001B[43m,\u001B[49m\n\u001B[1;32m    288\u001B[0m \u001B[43m        \u001B[49m\u001B[43mlabel\u001B[49m\u001B[38;5;241;43m=\u001B[39;49m\u001B[43mlabel_transform\u001B[49m\u001B[43m(\u001B[49m\u001B[43my\u001B[49m\u001B[43m)\u001B[49m\u001B[43m,\u001B[49m\n\u001B[1;32m    289\u001B[0m \u001B[43m        \u001B[49m\u001B[43mgroup\u001B[49m\u001B[38;5;241;43m=\u001B[39;49m\u001B[43mgroup\u001B[49m\u001B[43m,\u001B[49m\n\u001B[1;32m    290\u001B[0m \u001B[43m        \u001B[49m\u001B[43mqid\u001B[49m\u001B[38;5;241;43m=\u001B[39;49m\u001B[43mqid\u001B[49m\u001B[43m,\u001B[49m\n\u001B[1;32m    291\u001B[0m \u001B[43m        \u001B[49m\u001B[43mweight\u001B[49m\u001B[38;5;241;43m=\u001B[39;49m\u001B[43msample_weight\u001B[49m\u001B[43m,\u001B[49m\n\u001B[1;32m    292\u001B[0m \u001B[43m        \u001B[49m\u001B[43mbase_margin\u001B[49m\u001B[38;5;241;43m=\u001B[39;49m\u001B[43mbase_margin\u001B[49m\u001B[43m,\u001B[49m\n\u001B[1;32m    293\u001B[0m \u001B[43m        \u001B[49m\u001B[43mfeature_weights\u001B[49m\u001B[38;5;241;43m=\u001B[39;49m\u001B[43mfeature_weights\u001B[49m\u001B[43m,\u001B[49m\n\u001B[1;32m    294\u001B[0m \u001B[43m        \u001B[49m\u001B[43mmissing\u001B[49m\u001B[38;5;241;43m=\u001B[39;49m\u001B[43mmissing\u001B[49m\u001B[43m,\u001B[49m\n\u001B[1;32m    295\u001B[0m \u001B[43m        \u001B[49m\u001B[43menable_categorical\u001B[49m\u001B[38;5;241;43m=\u001B[39;49m\u001B[43menable_categorical\u001B[49m\u001B[43m,\u001B[49m\n\u001B[1;32m    296\u001B[0m \u001B[43m    \u001B[49m\u001B[43m)\u001B[49m\n\u001B[1;32m    298\u001B[0m     n_validation \u001B[38;5;241m=\u001B[39m \u001B[38;5;241m0\u001B[39m \u001B[38;5;28;01mif\u001B[39;00m eval_set \u001B[38;5;129;01mis\u001B[39;00m \u001B[38;5;28;01mNone\u001B[39;00m \u001B[38;5;28;01melse\u001B[39;00m \u001B[38;5;28mlen\u001B[39m(eval_set)\n\u001B[1;32m    300\u001B[0m     \u001B[38;5;28;01mdef\u001B[39;00m \u001B[38;5;21mvalidate_or_none\u001B[39m(meta: Optional[List], name: \u001B[38;5;28mstr\u001B[39m) \u001B[38;5;241m-\u001B[39m\u001B[38;5;241m>\u001B[39m List:\n",
      "File \u001B[0;32m~/miniconda3/envs/code/lib/python3.9/site-packages/xgboost/sklearn.py:1245\u001B[0m, in \u001B[0;36mXGBClassifier.fit.<locals>.<lambda>\u001B[0;34m(**kwargs)\u001B[0m\n\u001B[1;32m   1228\u001B[0m     label_transform \u001B[38;5;241m=\u001B[39m \u001B[38;5;28;01mlambda\u001B[39;00m x: x\n\u001B[1;32m   1230\u001B[0m model, feval, params \u001B[38;5;241m=\u001B[39m \u001B[38;5;28mself\u001B[39m\u001B[38;5;241m.\u001B[39m_configure_fit(xgb_model, eval_metric, params)\n\u001B[1;32m   1231\u001B[0m train_dmatrix, evals \u001B[38;5;241m=\u001B[39m _wrap_evaluation_matrices(\n\u001B[1;32m   1232\u001B[0m     missing\u001B[38;5;241m=\u001B[39m\u001B[38;5;28mself\u001B[39m\u001B[38;5;241m.\u001B[39mmissing,\n\u001B[1;32m   1233\u001B[0m     X\u001B[38;5;241m=\u001B[39mX,\n\u001B[1;32m   1234\u001B[0m     y\u001B[38;5;241m=\u001B[39my,\n\u001B[1;32m   1235\u001B[0m     group\u001B[38;5;241m=\u001B[39m\u001B[38;5;28;01mNone\u001B[39;00m,\n\u001B[1;32m   1236\u001B[0m     qid\u001B[38;5;241m=\u001B[39m\u001B[38;5;28;01mNone\u001B[39;00m,\n\u001B[1;32m   1237\u001B[0m     sample_weight\u001B[38;5;241m=\u001B[39msample_weight,\n\u001B[1;32m   1238\u001B[0m     base_margin\u001B[38;5;241m=\u001B[39mbase_margin,\n\u001B[1;32m   1239\u001B[0m     feature_weights\u001B[38;5;241m=\u001B[39mfeature_weights,\n\u001B[1;32m   1240\u001B[0m     eval_set\u001B[38;5;241m=\u001B[39meval_set,\n\u001B[1;32m   1241\u001B[0m     sample_weight_eval_set\u001B[38;5;241m=\u001B[39msample_weight_eval_set,\n\u001B[1;32m   1242\u001B[0m     base_margin_eval_set\u001B[38;5;241m=\u001B[39mbase_margin_eval_set,\n\u001B[1;32m   1243\u001B[0m     eval_group\u001B[38;5;241m=\u001B[39m\u001B[38;5;28;01mNone\u001B[39;00m,\n\u001B[1;32m   1244\u001B[0m     eval_qid\u001B[38;5;241m=\u001B[39m\u001B[38;5;28;01mNone\u001B[39;00m,\n\u001B[0;32m-> 1245\u001B[0m     create_dmatrix\u001B[38;5;241m=\u001B[39m\u001B[38;5;28;01mlambda\u001B[39;00m \u001B[38;5;241m*\u001B[39m\u001B[38;5;241m*\u001B[39mkwargs: \u001B[43mDMatrix\u001B[49m\u001B[43m(\u001B[49m\u001B[43mnthread\u001B[49m\u001B[38;5;241;43m=\u001B[39;49m\u001B[38;5;28;43mself\u001B[39;49m\u001B[38;5;241;43m.\u001B[39;49m\u001B[43mn_jobs\u001B[49m\u001B[43m,\u001B[49m\u001B[43m \u001B[49m\u001B[38;5;241;43m*\u001B[39;49m\u001B[38;5;241;43m*\u001B[39;49m\u001B[43mkwargs\u001B[49m\u001B[43m)\u001B[49m,\n\u001B[1;32m   1246\u001B[0m     enable_categorical\u001B[38;5;241m=\u001B[39m\u001B[38;5;28mself\u001B[39m\u001B[38;5;241m.\u001B[39menable_categorical,\n\u001B[1;32m   1247\u001B[0m     label_transform\u001B[38;5;241m=\u001B[39mlabel_transform,\n\u001B[1;32m   1248\u001B[0m )\n\u001B[1;32m   1250\u001B[0m \u001B[38;5;28mself\u001B[39m\u001B[38;5;241m.\u001B[39m_Booster \u001B[38;5;241m=\u001B[39m train(\n\u001B[1;32m   1251\u001B[0m     params,\n\u001B[1;32m   1252\u001B[0m     train_dmatrix,\n\u001B[0;32m   (...)\u001B[0m\n\u001B[1;32m   1261\u001B[0m     callbacks\u001B[38;5;241m=\u001B[39mcallbacks,\n\u001B[1;32m   1262\u001B[0m )\n\u001B[1;32m   1264\u001B[0m \u001B[38;5;28;01mif\u001B[39;00m \u001B[38;5;129;01mnot\u001B[39;00m callable(\u001B[38;5;28mself\u001B[39m\u001B[38;5;241m.\u001B[39mobjective):\n",
      "File \u001B[0;32m~/miniconda3/envs/code/lib/python3.9/site-packages/xgboost/core.py:506\u001B[0m, in \u001B[0;36m_deprecate_positional_args.<locals>.inner_f\u001B[0;34m(*args, **kwargs)\u001B[0m\n\u001B[1;32m    504\u001B[0m \u001B[38;5;28;01mfor\u001B[39;00m k, arg \u001B[38;5;129;01min\u001B[39;00m \u001B[38;5;28mzip\u001B[39m(sig\u001B[38;5;241m.\u001B[39mparameters, args):\n\u001B[1;32m    505\u001B[0m     kwargs[k] \u001B[38;5;241m=\u001B[39m arg\n\u001B[0;32m--> 506\u001B[0m \u001B[38;5;28;01mreturn\u001B[39;00m \u001B[43mf\u001B[49m\u001B[43m(\u001B[49m\u001B[38;5;241;43m*\u001B[39;49m\u001B[38;5;241;43m*\u001B[39;49m\u001B[43mkwargs\u001B[49m\u001B[43m)\u001B[49m\n",
      "File \u001B[0;32m~/miniconda3/envs/code/lib/python3.9/site-packages/xgboost/core.py:616\u001B[0m, in \u001B[0;36mDMatrix.__init__\u001B[0;34m(self, data, label, weight, base_margin, missing, silent, feature_names, feature_types, nthread, group, qid, label_lower_bound, label_upper_bound, feature_weights, enable_categorical)\u001B[0m\n\u001B[1;32m    613\u001B[0m     \u001B[38;5;28;01massert\u001B[39;00m \u001B[38;5;28mself\u001B[39m\u001B[38;5;241m.\u001B[39mhandle \u001B[38;5;129;01mis\u001B[39;00m \u001B[38;5;129;01mnot\u001B[39;00m \u001B[38;5;28;01mNone\u001B[39;00m\n\u001B[1;32m    614\u001B[0m     \u001B[38;5;28;01mreturn\u001B[39;00m\n\u001B[0;32m--> 616\u001B[0m handle, feature_names, feature_types \u001B[38;5;241m=\u001B[39m \u001B[43mdispatch_data_backend\u001B[49m\u001B[43m(\u001B[49m\n\u001B[1;32m    617\u001B[0m \u001B[43m    \u001B[49m\u001B[43mdata\u001B[49m\u001B[43m,\u001B[49m\n\u001B[1;32m    618\u001B[0m \u001B[43m    \u001B[49m\u001B[43mmissing\u001B[49m\u001B[38;5;241;43m=\u001B[39;49m\u001B[38;5;28;43mself\u001B[39;49m\u001B[38;5;241;43m.\u001B[39;49m\u001B[43mmissing\u001B[49m\u001B[43m,\u001B[49m\n\u001B[1;32m    619\u001B[0m \u001B[43m    \u001B[49m\u001B[43mthreads\u001B[49m\u001B[38;5;241;43m=\u001B[39;49m\u001B[38;5;28;43mself\u001B[39;49m\u001B[38;5;241;43m.\u001B[39;49m\u001B[43mnthread\u001B[49m\u001B[43m,\u001B[49m\n\u001B[1;32m    620\u001B[0m \u001B[43m    \u001B[49m\u001B[43mfeature_names\u001B[49m\u001B[38;5;241;43m=\u001B[39;49m\u001B[43mfeature_names\u001B[49m\u001B[43m,\u001B[49m\n\u001B[1;32m    621\u001B[0m \u001B[43m    \u001B[49m\u001B[43mfeature_types\u001B[49m\u001B[38;5;241;43m=\u001B[39;49m\u001B[43mfeature_types\u001B[49m\u001B[43m,\u001B[49m\n\u001B[1;32m    622\u001B[0m \u001B[43m    \u001B[49m\u001B[43menable_categorical\u001B[49m\u001B[38;5;241;43m=\u001B[39;49m\u001B[43menable_categorical\u001B[49m\u001B[43m,\u001B[49m\n\u001B[1;32m    623\u001B[0m \u001B[43m\u001B[49m\u001B[43m)\u001B[49m\n\u001B[1;32m    624\u001B[0m \u001B[38;5;28;01massert\u001B[39;00m handle \u001B[38;5;129;01mis\u001B[39;00m \u001B[38;5;129;01mnot\u001B[39;00m \u001B[38;5;28;01mNone\u001B[39;00m\n\u001B[1;32m    625\u001B[0m \u001B[38;5;28mself\u001B[39m\u001B[38;5;241m.\u001B[39mhandle \u001B[38;5;241m=\u001B[39m handle\n",
      "File \u001B[0;32m~/miniconda3/envs/code/lib/python3.9/site-packages/xgboost/data.py:772\u001B[0m, in \u001B[0;36mdispatch_data_backend\u001B[0;34m(data, missing, threads, feature_names, feature_types, enable_categorical)\u001B[0m\n\u001B[1;32m    770\u001B[0m     \u001B[38;5;28;01mreturn\u001B[39;00m _from_tuple(data, missing, threads, feature_names, feature_types)\n\u001B[1;32m    771\u001B[0m \u001B[38;5;28;01mif\u001B[39;00m _is_pandas_df(data):\n\u001B[0;32m--> 772\u001B[0m     \u001B[38;5;28;01mreturn\u001B[39;00m \u001B[43m_from_pandas_df\u001B[49m\u001B[43m(\u001B[49m\u001B[43mdata\u001B[49m\u001B[43m,\u001B[49m\u001B[43m \u001B[49m\u001B[43menable_categorical\u001B[49m\u001B[43m,\u001B[49m\u001B[43m \u001B[49m\u001B[43mmissing\u001B[49m\u001B[43m,\u001B[49m\u001B[43m \u001B[49m\u001B[43mthreads\u001B[49m\u001B[43m,\u001B[49m\n\u001B[1;32m    773\u001B[0m \u001B[43m                           \u001B[49m\u001B[43mfeature_names\u001B[49m\u001B[43m,\u001B[49m\u001B[43m \u001B[49m\u001B[43mfeature_types\u001B[49m\u001B[43m)\u001B[49m\n\u001B[1;32m    774\u001B[0m \u001B[38;5;28;01mif\u001B[39;00m _is_pandas_series(data):\n\u001B[1;32m    775\u001B[0m     \u001B[38;5;28;01mreturn\u001B[39;00m _from_pandas_series(\n\u001B[1;32m    776\u001B[0m         data, missing, threads, enable_categorical, feature_names, feature_types\n\u001B[1;32m    777\u001B[0m     )\n",
      "File \u001B[0;32m~/miniconda3/envs/code/lib/python3.9/site-packages/xgboost/data.py:312\u001B[0m, in \u001B[0;36m_from_pandas_df\u001B[0;34m(data, enable_categorical, missing, nthread, feature_names, feature_types)\u001B[0m\n\u001B[1;32m    304\u001B[0m \u001B[38;5;28;01mdef\u001B[39;00m \u001B[38;5;21m_from_pandas_df\u001B[39m(\n\u001B[1;32m    305\u001B[0m     data: DataFrame,\n\u001B[1;32m    306\u001B[0m     enable_categorical: \u001B[38;5;28mbool\u001B[39m,\n\u001B[0;32m   (...)\u001B[0m\n\u001B[1;32m    310\u001B[0m     feature_types: Optional[List[\u001B[38;5;28mstr\u001B[39m]],\n\u001B[1;32m    311\u001B[0m ):\n\u001B[0;32m--> 312\u001B[0m     data, feature_names, feature_types \u001B[38;5;241m=\u001B[39m \u001B[43m_transform_pandas_df\u001B[49m\u001B[43m(\u001B[49m\n\u001B[1;32m    313\u001B[0m \u001B[43m        \u001B[49m\u001B[43mdata\u001B[49m\u001B[43m,\u001B[49m\u001B[43m \u001B[49m\u001B[43menable_categorical\u001B[49m\u001B[43m,\u001B[49m\u001B[43m \u001B[49m\u001B[43mfeature_names\u001B[49m\u001B[43m,\u001B[49m\u001B[43m \u001B[49m\u001B[43mfeature_types\u001B[49m\u001B[43m)\u001B[49m\n\u001B[1;32m    314\u001B[0m     \u001B[38;5;28;01mreturn\u001B[39;00m _from_numpy_array(data, missing, nthread, feature_names,\n\u001B[1;32m    315\u001B[0m                              feature_types)\n",
      "File \u001B[0;32m~/miniconda3/envs/code/lib/python3.9/site-packages/xgboost/data.py:256\u001B[0m, in \u001B[0;36m_transform_pandas_df\u001B[0;34m(data, enable_categorical, feature_names, feature_types, meta, meta_type)\u001B[0m\n\u001B[1;32m    248\u001B[0m \u001B[38;5;28;01mfrom\u001B[39;00m \u001B[38;5;21;01mpandas\u001B[39;00m\u001B[38;5;21;01m.\u001B[39;00m\u001B[38;5;21;01mapi\u001B[39;00m\u001B[38;5;21;01m.\u001B[39;00m\u001B[38;5;21;01mtypes\u001B[39;00m \u001B[38;5;28;01mimport\u001B[39;00m is_sparse, is_categorical_dtype\n\u001B[1;32m    250\u001B[0m \u001B[38;5;28;01mif\u001B[39;00m \u001B[38;5;129;01mnot\u001B[39;00m \u001B[38;5;28mall\u001B[39m(\n\u001B[1;32m    251\u001B[0m     dtype\u001B[38;5;241m.\u001B[39mname \u001B[38;5;129;01min\u001B[39;00m _pandas_dtype_mapper\n\u001B[1;32m    252\u001B[0m     \u001B[38;5;129;01mor\u001B[39;00m is_sparse(dtype)\n\u001B[1;32m    253\u001B[0m     \u001B[38;5;129;01mor\u001B[39;00m (is_categorical_dtype(dtype) \u001B[38;5;129;01mand\u001B[39;00m enable_categorical)\n\u001B[1;32m    254\u001B[0m     \u001B[38;5;28;01mfor\u001B[39;00m dtype \u001B[38;5;129;01min\u001B[39;00m data\u001B[38;5;241m.\u001B[39mdtypes\n\u001B[1;32m    255\u001B[0m ):\n\u001B[0;32m--> 256\u001B[0m     \u001B[43m_invalid_dataframe_dtype\u001B[49m\u001B[43m(\u001B[49m\u001B[43mdata\u001B[49m\u001B[43m)\u001B[49m\n\u001B[1;32m    258\u001B[0m \u001B[38;5;66;03m# handle feature names\u001B[39;00m\n\u001B[1;32m    259\u001B[0m \u001B[38;5;28;01mif\u001B[39;00m feature_names \u001B[38;5;129;01mis\u001B[39;00m \u001B[38;5;28;01mNone\u001B[39;00m \u001B[38;5;129;01mand\u001B[39;00m meta \u001B[38;5;129;01mis\u001B[39;00m \u001B[38;5;28;01mNone\u001B[39;00m:\n",
      "File \u001B[0;32m~/miniconda3/envs/code/lib/python3.9/site-packages/xgboost/data.py:236\u001B[0m, in \u001B[0;36m_invalid_dataframe_dtype\u001B[0;34m(data)\u001B[0m\n\u001B[1;32m    231\u001B[0m         err \u001B[38;5;241m=\u001B[39m \u001B[38;5;124m\"\u001B[39m\u001B[38;5;124m\"\u001B[39m\n\u001B[1;32m    233\u001B[0m     msg \u001B[38;5;241m=\u001B[39m \u001B[38;5;124m\"\"\"\u001B[39m\u001B[38;5;124mDataFrame.dtypes for data must be int, float, bool or category.  When\u001B[39m\n\u001B[1;32m    234\u001B[0m \u001B[38;5;124mcategorical type is supplied, DMatrix parameter `enable_categorical` must\u001B[39m\n\u001B[1;32m    235\u001B[0m \u001B[38;5;124mbe set to `True`.\u001B[39m\u001B[38;5;124m\"\"\"\u001B[39m \u001B[38;5;241m+\u001B[39m err\n\u001B[0;32m--> 236\u001B[0m     \u001B[38;5;28;01mraise\u001B[39;00m \u001B[38;5;167;01mValueError\u001B[39;00m(msg)\n",
      "\u001B[0;31mValueError\u001B[0m: DataFrame.dtypes for data must be int, float, bool or category.  When\ncategorical type is supplied, DMatrix parameter `enable_categorical` must\nbe set to `True`. Invalid columns:content-length"
     ]
    }
   ],
   "source": [
    "model.fit(X_train_2, a)"
   ],
   "metadata": {
    "collapsed": false
   }
  },
  {
   "cell_type": "code",
   "execution_count": 148,
   "outputs": [
    {
     "data": {
      "text/plain": "<253786x424659 sparse matrix of type '<class 'numpy.float64'>'\n\twith 4314362 stored elements in Compressed Sparse Row format>"
     },
     "execution_count": 148,
     "metadata": {},
     "output_type": "execute_result"
    }
   ],
   "source": [
    "preprocessing.OneHotEncoder().fit_transform(X_train_2)"
   ],
   "metadata": {
    "collapsed": false
   }
  },
  {
   "cell_type": "code",
   "execution_count": 28,
   "outputs": [],
   "source": [
    "label_encoder = preprocessing.LabelEncoder()"
   ],
   "metadata": {
    "collapsed": false
   }
  },
  {
   "cell_type": "code",
   "execution_count": 69,
   "outputs": [],
   "source": [
    "# X_test = X_test[X_train_2.columns.values.tolist()]"
   ],
   "metadata": {
    "collapsed": false
   }
  },
  {
   "cell_type": "code",
   "execution_count": 190,
   "outputs": [],
   "source": [
    "X_test['content-type'] = label_encoder.fit_transform(X_test['content-type'])\n",
    "X_test['last-modified'] = label_encoder.fit_transform(X_test['last-modified'])\n",
    "X_test['accept-ranges'] = label_encoder.fit_transform(X_test['accept-ranges'])\n",
    "X_test['etag'] = label_encoder.fit_transform(X_test['etag'])\n",
    "X_test['vary'] = label_encoder.fit_transform(X_test['vary'])\n",
    "X_test['content-encoding'] = label_encoder.fit_transform(X_test['content-encoding'])\n",
    "X_test['cache-control'] = label_encoder.fit_transform(X_test['cache-control'])\n",
    "X_test['expires'] = label_encoder.fit_transform(X_test['expires'])\n",
    "X_test['server'] = label_encoder.fit_transform(X_test['server'])\n",
    "X_test['age'] = label_encoder.fit_transform(X_test['age'])\n",
    "X_test['alt-svc'] = label_encoder.fit_transform(X_test['alt-svc'])\n",
    "X_test['access-control-allow-origin'] = label_encoder.fit_transform(X_test['access-control-allow-origin'])\n",
    "X_test['date'] = label_encoder.fit_transform(X_test['date'])\n",
    "X_test['cross-origin-resource-policy'] = label_encoder.fit_transform(X_test['cross-origin-resource-policy'])"
   ],
   "metadata": {
    "collapsed": false
   }
  },
  {
   "cell_type": "code",
   "execution_count": 191,
   "outputs": [
    {
     "data": {
      "text/plain": "content-type                    int64\nlast-modified                   int64\naccept-ranges                   int64\netag                            int64\nvary                            int64\ncontent-encoding                int64\ncache-control                   int64\nexpires                         int64\ndate                            int64\ncontent-length                  Int64\nserver                          int64\nage                             int64\nalt-svc                         int64\naccess-control-allow-origin     int64\ncross-origin-resource-policy    int64\nheader_count                    int64\ncomb_col_non_tracker            int64\ncomb_col_tracker                int64\ndtype: object"
     },
     "execution_count": 191,
     "metadata": {},
     "output_type": "execute_result"
    }
   ],
   "source": [
    "X_test.dtypes"
   ],
   "metadata": {
    "collapsed": false
   }
  },
  {
   "cell_type": "code",
   "execution_count": 192,
   "outputs": [],
   "source": [
    "X_train_2['content-type'] = label_encoder.fit_transform(X_train_2['content-type'])\n",
    "X_train_2['last-modified'] = label_encoder.fit_transform(X_train_2['last-modified'])\n",
    "X_train_2['accept-ranges'] = label_encoder.fit_transform(X_train_2['accept-ranges'])\n",
    "X_train_2['etag'] = label_encoder.fit_transform(X_train_2['etag'])\n",
    "X_train_2['vary'] = label_encoder.fit_transform(X_train_2['vary'])\n",
    "X_train_2['content-encoding'] = label_encoder.fit_transform(X_train_2['content-encoding'])\n",
    "X_train_2['cache-control'] = label_encoder.fit_transform(X_train_2['cache-control'])\n",
    "X_train_2['expires'] = label_encoder.fit_transform(X_train_2['expires'])\n",
    "X_train_2['server'] = label_encoder.fit_transform(X_train_2['server'])\n",
    "X_train_2['age'] = label_encoder.fit_transform(X_train_2['age'])\n",
    "X_train_2['alt-svc'] = label_encoder.fit_transform(X_train_2['alt-svc'])\n",
    "X_train_2['access-control-allow-origin'] = label_encoder.fit_transform(X_train_2['access-control-allow-origin'])\n",
    "X_train_2['date'] = label_encoder.fit_transform(X_train_2['date'])\n",
    "X_train_2['cross-origin-resource-policy'] = label_encoder.fit_transform(X_train_2['cross-origin-resource-policy'])"
   ],
   "metadata": {
    "collapsed": false
   }
  },
  {
   "cell_type": "code",
   "execution_count": 206,
   "outputs": [],
   "source": [
    "rf = RandomForestClassifier(n_jobs=-1, n_estimators=1000)"
   ],
   "metadata": {
    "collapsed": false
   }
  },
  {
   "cell_type": "code",
   "execution_count": 207,
   "outputs": [
    {
     "name": "stdout",
     "output_type": "stream",
     "text": [
      "CPU times: user 4min 21s, sys: 1.54 s, total: 4min 22s\n",
      "Wall time: 31.5 s\n"
     ]
    },
    {
     "data": {
      "text/plain": "RandomForestClassifier(n_estimators=1000, n_jobs=-1)",
      "text/html": "<style>#sk-container-id-5 {color: black;background-color: white;}#sk-container-id-5 pre{padding: 0;}#sk-container-id-5 div.sk-toggleable {background-color: white;}#sk-container-id-5 label.sk-toggleable__label {cursor: pointer;display: block;width: 100%;margin-bottom: 0;padding: 0.3em;box-sizing: border-box;text-align: center;}#sk-container-id-5 label.sk-toggleable__label-arrow:before {content: \"▸\";float: left;margin-right: 0.25em;color: #696969;}#sk-container-id-5 label.sk-toggleable__label-arrow:hover:before {color: black;}#sk-container-id-5 div.sk-estimator:hover label.sk-toggleable__label-arrow:before {color: black;}#sk-container-id-5 div.sk-toggleable__content {max-height: 0;max-width: 0;overflow: hidden;text-align: left;background-color: #f0f8ff;}#sk-container-id-5 div.sk-toggleable__content pre {margin: 0.2em;color: black;border-radius: 0.25em;background-color: #f0f8ff;}#sk-container-id-5 input.sk-toggleable__control:checked~div.sk-toggleable__content {max-height: 200px;max-width: 100%;overflow: auto;}#sk-container-id-5 input.sk-toggleable__control:checked~label.sk-toggleable__label-arrow:before {content: \"▾\";}#sk-container-id-5 div.sk-estimator input.sk-toggleable__control:checked~label.sk-toggleable__label {background-color: #d4ebff;}#sk-container-id-5 div.sk-label input.sk-toggleable__control:checked~label.sk-toggleable__label {background-color: #d4ebff;}#sk-container-id-5 input.sk-hidden--visually {border: 0;clip: rect(1px 1px 1px 1px);clip: rect(1px, 1px, 1px, 1px);height: 1px;margin: -1px;overflow: hidden;padding: 0;position: absolute;width: 1px;}#sk-container-id-5 div.sk-estimator {font-family: monospace;background-color: #f0f8ff;border: 1px dotted black;border-radius: 0.25em;box-sizing: border-box;margin-bottom: 0.5em;}#sk-container-id-5 div.sk-estimator:hover {background-color: #d4ebff;}#sk-container-id-5 div.sk-parallel-item::after {content: \"\";width: 100%;border-bottom: 1px solid gray;flex-grow: 1;}#sk-container-id-5 div.sk-label:hover label.sk-toggleable__label {background-color: #d4ebff;}#sk-container-id-5 div.sk-serial::before {content: \"\";position: absolute;border-left: 1px solid gray;box-sizing: border-box;top: 0;bottom: 0;left: 50%;z-index: 0;}#sk-container-id-5 div.sk-serial {display: flex;flex-direction: column;align-items: center;background-color: white;padding-right: 0.2em;padding-left: 0.2em;position: relative;}#sk-container-id-5 div.sk-item {position: relative;z-index: 1;}#sk-container-id-5 div.sk-parallel {display: flex;align-items: stretch;justify-content: center;background-color: white;position: relative;}#sk-container-id-5 div.sk-item::before, #sk-container-id-5 div.sk-parallel-item::before {content: \"\";position: absolute;border-left: 1px solid gray;box-sizing: border-box;top: 0;bottom: 0;left: 50%;z-index: -1;}#sk-container-id-5 div.sk-parallel-item {display: flex;flex-direction: column;z-index: 1;position: relative;background-color: white;}#sk-container-id-5 div.sk-parallel-item:first-child::after {align-self: flex-end;width: 50%;}#sk-container-id-5 div.sk-parallel-item:last-child::after {align-self: flex-start;width: 50%;}#sk-container-id-5 div.sk-parallel-item:only-child::after {width: 0;}#sk-container-id-5 div.sk-dashed-wrapped {border: 1px dashed gray;margin: 0 0.4em 0.5em 0.4em;box-sizing: border-box;padding-bottom: 0.4em;background-color: white;}#sk-container-id-5 div.sk-label label {font-family: monospace;font-weight: bold;display: inline-block;line-height: 1.2em;}#sk-container-id-5 div.sk-label-container {text-align: center;}#sk-container-id-5 div.sk-container {/* jupyter's `normalize.less` sets `[hidden] { display: none; }` but bootstrap.min.css set `[hidden] { display: none !important; }` so we also need the `!important` here to be able to override the default hidden behavior on the sphinx rendered scikit-learn.org. See: https://github.com/scikit-learn/scikit-learn/issues/21755 */display: inline-block !important;position: relative;}#sk-container-id-5 div.sk-text-repr-fallback {display: none;}</style><div id=\"sk-container-id-5\" class=\"sk-top-container\"><div class=\"sk-text-repr-fallback\"><pre>RandomForestClassifier(n_estimators=1000, n_jobs=-1)</pre><b>In a Jupyter environment, please rerun this cell to show the HTML representation or trust the notebook. <br />On GitHub, the HTML representation is unable to render, please try loading this page with nbviewer.org.</b></div><div class=\"sk-container\" hidden><div class=\"sk-item\"><div class=\"sk-estimator sk-toggleable\"><input class=\"sk-toggleable__control sk-hidden--visually\" id=\"sk-estimator-id-5\" type=\"checkbox\" checked><label for=\"sk-estimator-id-5\" class=\"sk-toggleable__label sk-toggleable__label-arrow\">RandomForestClassifier</label><div class=\"sk-toggleable__content\"><pre>RandomForestClassifier(n_estimators=1000, n_jobs=-1)</pre></div></div></div></div></div>"
     },
     "execution_count": 207,
     "metadata": {},
     "output_type": "execute_result"
    }
   ],
   "source": [
    "%%time\n",
    "rf.fit(X_train_2, y_train['tracker'].to_numpy())"
   ],
   "metadata": {
    "collapsed": false
   }
  },
  {
   "cell_type": "code",
   "execution_count": 208,
   "outputs": [],
   "source": [
    "importance = rf.feature_importances_"
   ],
   "metadata": {
    "collapsed": false
   }
  },
  {
   "cell_type": "code",
   "execution_count": 209,
   "outputs": [],
   "source": [
    "d = {\"header\": X_train_2.columns.values.tolist(), \"value\": importance.tolist()}"
   ],
   "metadata": {
    "collapsed": false
   }
  },
  {
   "cell_type": "code",
   "execution_count": 210,
   "outputs": [
    {
     "data": {
      "text/plain": "<AxesSubplot:xlabel='header', ylabel='value'>"
     },
     "execution_count": 210,
     "metadata": {},
     "output_type": "execute_result"
    },
    {
     "data": {
      "text/plain": "<Figure size 2160x720 with 1 Axes>",
      "image/png": "[encoded data removed]"
     },
     "metadata": {
      "needs_background": "light"
     },
     "output_type": "display_data"
    }
   ],
   "source": [
    "%matplotlib inline\n",
    "plt.figure(figsize=(30, 10))\n",
    "sns.barplot(data=pd.DataFrame(d), x='header', y='value')"
   ],
   "metadata": {
    "collapsed": false
   }
  },
  {
   "cell_type": "code",
   "execution_count": 211,
   "outputs": [
    {
     "data": {
      "text/plain": "0.7815326245202276"
     },
     "execution_count": 211,
     "metadata": {},
     "output_type": "execute_result"
    }
   ],
   "source": [
    "rf.score(X_test, y_test['tracker'].to_numpy())"
   ],
   "metadata": {
    "collapsed": false
   }
  },
  {
   "cell_type": "code",
   "execution_count": 212,
   "outputs": [
    {
     "name": "stdout",
     "output_type": "stream",
     "text": [
      "0.46241354102549004\n"
     ]
    }
   ],
   "source": [
    "clf_probs = rf.predict_proba(X_test)\n",
    "score = metrics.log_loss(y_test, clf_probs)\n",
    "print(score)"
   ],
   "metadata": {
    "collapsed": false
   }
  },
  {
   "cell_type": "code",
   "execution_count": 226,
   "outputs": [],
   "source": [
    "knn = KNeighborsClassifier(n_jobs=-1)"
   ],
   "metadata": {
    "collapsed": false
   }
  },
  {
   "cell_type": "code",
   "execution_count": 227,
   "outputs": [
    {
     "name": "stdout",
     "output_type": "stream",
     "text": [
      "CPU times: user 24.8 ms, sys: 15.5 ms, total: 40.3 ms\n",
      "Wall time: 39.1 ms\n"
     ]
    },
    {
     "data": {
      "text/plain": "KNeighborsClassifier(n_jobs=-1)",
      "text/html": "<style>#sk-container-id-6 {color: black;background-color: white;}#sk-container-id-6 pre{padding: 0;}#sk-container-id-6 div.sk-toggleable {background-color: white;}#sk-container-id-6 label.sk-toggleable__label {cursor: pointer;display: block;width: 100%;margin-bottom: 0;padding: 0.3em;box-sizing: border-box;text-align: center;}#sk-container-id-6 label.sk-toggleable__label-arrow:before {content: \"▸\";float: left;margin-right: 0.25em;color: #696969;}#sk-container-id-6 label.sk-toggleable__label-arrow:hover:before {color: black;}#sk-container-id-6 div.sk-estimator:hover label.sk-toggleable__label-arrow:before {color: black;}#sk-container-id-6 div.sk-toggleable__content {max-height: 0;max-width: 0;overflow: hidden;text-align: left;background-color: #f0f8ff;}#sk-container-id-6 div.sk-toggleable__content pre {margin: 0.2em;color: black;border-radius: 0.25em;background-color: #f0f8ff;}#sk-container-id-6 input.sk-toggleable__control:checked~div.sk-toggleable__content {max-height: 200px;max-width: 100%;overflow: auto;}#sk-container-id-6 input.sk-toggleable__control:checked~label.sk-toggleable__label-arrow:before {content: \"▾\";}#sk-container-id-6 div.sk-estimator input.sk-toggleable__control:checked~label.sk-toggleable__label {background-color: #d4ebff;}#sk-container-id-6 div.sk-label input.sk-toggleable__control:checked~label.sk-toggleable__label {background-color: #d4ebff;}#sk-container-id-6 input.sk-hidden--visually {border: 0;clip: rect(1px 1px 1px 1px);clip: rect(1px, 1px, 1px, 1px);height: 1px;margin: -1px;overflow: hidden;padding: 0;position: absolute;width: 1px;}#sk-container-id-6 div.sk-estimator {font-family: monospace;background-color: #f0f8ff;border: 1px dotted black;border-radius: 0.25em;box-sizing: border-box;margin-bottom: 0.5em;}#sk-container-id-6 div.sk-estimator:hover {background-color: #d4ebff;}#sk-container-id-6 div.sk-parallel-item::after {content: \"\";width: 100%;border-bottom: 1px solid gray;flex-grow: 1;}#sk-container-id-6 div.sk-label:hover label.sk-toggleable__label {background-color: #d4ebff;}#sk-container-id-6 div.sk-serial::before {content: \"\";position: absolute;border-left: 1px solid gray;box-sizing: border-box;top: 0;bottom: 0;left: 50%;z-index: 0;}#sk-container-id-6 div.sk-serial {display: flex;flex-direction: column;align-items: center;background-color: white;padding-right: 0.2em;padding-left: 0.2em;position: relative;}#sk-container-id-6 div.sk-item {position: relative;z-index: 1;}#sk-container-id-6 div.sk-parallel {display: flex;align-items: stretch;justify-content: center;background-color: white;position: relative;}#sk-container-id-6 div.sk-item::before, #sk-container-id-6 div.sk-parallel-item::before {content: \"\";position: absolute;border-left: 1px solid gray;box-sizing: border-box;top: 0;bottom: 0;left: 50%;z-index: -1;}#sk-container-id-6 div.sk-parallel-item {display: flex;flex-direction: column;z-index: 1;position: relative;background-color: white;}#sk-container-id-6 div.sk-parallel-item:first-child::after {align-self: flex-end;width: 50%;}#sk-container-id-6 div.sk-parallel-item:last-child::after {align-self: flex-start;width: 50%;}#sk-container-id-6 div.sk-parallel-item:only-child::after {width: 0;}#sk-container-id-6 div.sk-dashed-wrapped {border: 1px dashed gray;margin: 0 0.4em 0.5em 0.4em;box-sizing: border-box;padding-bottom: 0.4em;background-color: white;}#sk-container-id-6 div.sk-label label {font-family: monospace;font-weight: bold;display: inline-block;line-height: 1.2em;}#sk-container-id-6 div.sk-label-container {text-align: center;}#sk-container-id-6 div.sk-container {/* jupyter's `normalize.less` sets `[hidden] { display: none; }` but bootstrap.min.css set `[hidden] { display: none !important; }` so we also need the `!important` here to be able to override the default hidden behavior on the sphinx rendered scikit-learn.org. See: https://github.com/scikit-learn/scikit-learn/issues/21755 */display: inline-block !important;position: relative;}#sk-container-id-6 div.sk-text-repr-fallback {display: none;}</style><div id=\"sk-container-id-6\" class=\"sk-top-container\"><div class=\"sk-text-repr-fallback\"><pre>KNeighborsClassifier(n_jobs=-1)</pre><b>In a Jupyter environment, please rerun this cell to show the HTML representation or trust the notebook. <br />On GitHub, the HTML representation is unable to render, please try loading this page with nbviewer.org.</b></div><div class=\"sk-container\" hidden><div class=\"sk-item\"><div class=\"sk-estimator sk-toggleable\"><input class=\"sk-toggleable__control sk-hidden--visually\" id=\"sk-estimator-id-6\" type=\"checkbox\" checked><label for=\"sk-estimator-id-6\" class=\"sk-toggleable__label sk-toggleable__label-arrow\">KNeighborsClassifier</label><div class=\"sk-toggleable__content\"><pre>KNeighborsClassifier(n_jobs=-1)</pre></div></div></div></div></div>"
     },
     "execution_count": 227,
     "metadata": {},
     "output_type": "execute_result"
    }
   ],
   "source": [
    "%%time\n",
    "knn.fit(X_train_2, y_train['tracker'].to_numpy())"
   ],
   "metadata": {
    "collapsed": false
   }
  },
  {
   "cell_type": "code",
   "execution_count": 228,
   "outputs": [
    {
     "data": {
      "text/plain": "0.6790341318510021"
     },
     "execution_count": 228,
     "metadata": {},
     "output_type": "execute_result"
    }
   ],
   "source": [
    "knn.score(X_test, y_test['tracker'].to_numpy())"
   ],
   "metadata": {
    "collapsed": false
   }
  },
  {
   "cell_type": "code",
   "execution_count": 229,
   "outputs": [],
   "source": [
    "from sklearn.svm import SVC"
   ],
   "metadata": {
    "collapsed": false
   }
  },
  {
   "cell_type": "code",
   "execution_count": null,
   "outputs": [],
   "source": [
    "%%time\n",
    "svm = SVC(kernel='linear')\n",
    "svm.fit(X_train_2, y_train['tracker'].to_numpy())"
   ],
   "metadata": {
    "collapsed": false,
    "pycharm": {
     "is_executing": true
    }
   }
  },
  {
   "cell_type": "code",
   "execution_count": null,
   "outputs": [],
   "source": [
    "svm.score(X_test, y_test['tracker'].to_numpy())"
   ],
   "metadata": {
    "collapsed": false
   }
  }
 ],
 "metadata": {
  "kernelspec": {
   "display_name": "Python 3",
   "language": "python",
   "name": "python3"
  },
  "language_info": {
   "codemirror_mode": {
    "name": "ipython",
    "version": 2
   },
   "file_extension": ".py",
   "mimetype": "text/x-python",
   "name": "python",
   "nbconvert_exporter": "python",
   "pygments_lexer": "ipython2",
   "version": "2.7.6"
  }
 },
 "nbformat": 4,
 "nbformat_minor": 0
}
