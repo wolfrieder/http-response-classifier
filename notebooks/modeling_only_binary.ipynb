{
 "cells": [
  {
   "cell_type": "code",
   "execution_count": 42,
   "metadata": {
    "collapsed": true
   },
   "outputs": [],
   "source": [
    "from sklearn.dummy import DummyClassifier\n",
    "import pandas as pd\n",
    "import numpy as np\n",
    "import xgboost as xgb\n",
    "import lightgbm as lgb\n",
    "\n",
    "# from sklearn.impute import KNNImputer\n",
    "from sklearn.ensemble import RandomForestClassifier, GradientBoostingClassifier\n",
    "from sklearn.tree import DecisionTreeClassifier\n",
    "from sklearn.neighbors import KNeighborsClassifier\n",
    "from sklearn.linear_model import LogisticRegression\n",
    "from sklearn.naive_bayes import GaussianNB\n",
    "from sklearn.preprocessing import (\n",
    "    Normalizer,\n",
    "    FunctionTransformer,\n",
    "    RobustScaler,\n",
    "    LabelEncoder,\n",
    "    MinMaxScaler\n",
    ")\n",
    "from sklearn.compose import ColumnTransformer, make_column_selector as selector\n",
    "from sklearn.pipeline import Pipeline\n",
    "from sklearn import tree\n",
    "from sklearn import metrics\n",
    "from sklearn.model_selection import RepeatedStratifiedKFold, cross_val_score, StratifiedShuffleSplit\n",
    "from sklearn.feature_selection import (\n",
    "    SelectFromModel,\n",
    "    VarianceThreshold,\n",
    "    chi2,\n",
    "    SelectKBest,\n",
    "    mutual_info_classif,\n",
    ")\n",
    "from sklearn.neural_network import MLPClassifier\n",
    "import matplotlib.pyplot as plt\n",
    "import seaborn as sns\n",
    "from scipy.stats import kstest, shapiro, probplot, ks_2samp\n",
    "import category_encoders as ce\n",
    "from catboost import CatBoostClassifier\n",
    "from sklearn.tree import export_graphviz\n",
    "from dython.model_utils import random_forest_feature_importance\n",
    "import mlflow\n",
    "import os\n",
    "import logging\n",
    "import yaml\n",
    "import warnings\n",
    "import pickle"
   ]
  },
  {
   "cell_type": "code",
   "execution_count": 2,
   "outputs": [],
   "source": [
    "logging.basicConfig(level=logging.WARN)\n",
    "logger = logging.getLogger(__name__)"
   ],
   "metadata": {
    "collapsed": false
   }
  },
  {
   "cell_type": "code",
   "execution_count": 32,
   "outputs": [],
   "source": [
    "warnings.filterwarnings(\"ignore\")\n",
    "\n",
    "with open(\"../params.yaml\", \"rb\") as f:\n",
    "    params = yaml.load(f, yaml.FullLoader)\n",
    "\n",
    "mlflow.set_tracking_uri(params[\"ml_flow\"][\"MLFLOW_TRACKING_URI\"])\n",
    "os.environ[\"MLFLOW_TRACKING_USERNAME\"] = params[\"ml_flow\"][\n",
    "    \"MLFLOW_TRACKING_USERNAME\"\n",
    "]\n",
    "os.environ[\"MLFLOW_TRACKING_PASSWORD\"] = params[\"ml_flow\"][\n",
    "    \"MLFLOW_TRACKING_PASSWORD\"\n",
    "]\n",
    "mlflow.set_experiment(\"all_binary_experiments\")\n",
    "# mlflow.sklearn.autolog()\n",
    "# mlflow.xgboost.autolog()\n",
    "# mlflow.lightgbm.autolog()"
   ],
   "metadata": {
    "collapsed": false
   }
  },
  {
   "cell_type": "code",
   "execution_count": 4,
   "outputs": [],
   "source": [
    "# train_data = pd.read_parquet(\n",
    "#     \"../data/processed/chrome/08_12_2022/train_set_all_binary.parquet.gzip\"\n",
    "# )\n",
    "# test_data = pd.read_parquet(\n",
    "#     \"../data/processed/chrome/08_12_2022/test_set_all_binary.parquet.gzip\"\n",
    "# )\n",
    "\n",
    "train_data = pd.read_parquet(\n",
    "        \"../data/processed/chrome/08_12_2022/train_set_01_processed.parquet.gzip\"\n",
    "    )\n",
    "test_data = pd.read_parquet(\n",
    "    \"../data/processed/chrome/08_12_2022/test_set_01_processed.parquet.gzip\"\n",
    "    )"
   ],
   "metadata": {
    "collapsed": false
   }
  },
  {
   "cell_type": "code",
   "execution_count": 8,
   "outputs": [],
   "source": [
    "train_data = train_data.iloc[:, 4:-3]\n",
    "test_data = test_data.iloc[:, 4:-3]"
   ],
   "metadata": {
    "collapsed": false
   }
  },
  {
   "cell_type": "code",
   "execution_count": 5,
   "outputs": [],
   "source": [
    "# train_data.reset_index(inplace=True, drop=True)\n",
    "# test_data.reset_index(inplace=True, drop=True)"
   ],
   "metadata": {
    "collapsed": false
   }
  },
  {
   "cell_type": "code",
   "execution_count": 10,
   "outputs": [],
   "source": [
    "for elem in train_data.iloc[:, :-1].columns.values.tolist():\n",
    "    train_data[f\"{elem}_binary\"] = np.where(train_data[elem].isnull(), 0, 1)\n",
    "    test_data[f\"{elem}_binary\"] = np.where(test_data[elem].isnull(), 0, 1)"
   ],
   "metadata": {
    "collapsed": false
   }
  },
  {
   "cell_type": "code",
   "execution_count": 13,
   "outputs": [],
   "source": [
    "train_data = train_data.iloc[:, 150:]\n",
    "test_data = test_data.iloc[:, 150:]\n",
    "\n",
    "for elem in train_data.columns.values.tolist():\n",
    "    train_data[elem] = train_data[elem].astype(\"uint8\")\n",
    "    test_data[elem] = test_data[elem].astype(\"uint8\")\n",
    "\n",
    "def label_as_last_column(dataset):\n",
    "    temp_cols = dataset.columns.tolist()\n",
    "    index_col = dataset.columns.get_loc(\"tracker\")\n",
    "    new_col_order = (\n",
    "            temp_cols[0:index_col]\n",
    "            + temp_cols[index_col + 1:]\n",
    "            + temp_cols[index_col: index_col + 1]\n",
    "    )\n",
    "    return new_col_order\n",
    "\n",
    "reordered_cols = label_as_last_column(train_data)\n",
    "train_data = train_data[reordered_cols]\n",
    "test_data = test_data[reordered_cols]"
   ],
   "metadata": {
    "collapsed": false
   }
  },
  {
   "cell_type": "code",
   "execution_count": 6,
   "outputs": [
    {
     "name": "stdout",
     "output_type": "stream",
     "text": [
      "CPU times: user 26.1 ms, sys: 1.84 ms, total: 27.9 ms\n",
      "Wall time: 26.6 ms\n"
     ]
    },
    {
     "data": {
      "text/plain": "0.7157431508360171"
     },
     "execution_count": 6,
     "metadata": {},
     "output_type": "execute_result"
    }
   ],
   "source": [
    "# %%time\n",
    "# dummy_clf = DummyClassifier(strategy=\"most_frequent\", random_state=10)\n",
    "# dummy_clf.fit(X_train, y_train)\n",
    "# dummy_clf.score(X_train, y_train)"
   ],
   "metadata": {
    "collapsed": false
   }
  },
  {
   "cell_type": "code",
   "execution_count": 7,
   "outputs": [],
   "source": [
    "# model = RandomForestClassifier(\n",
    "#     n_estimators=100,\n",
    "#     n_jobs=-1,\n",
    "#     random_state=10,\n",
    "#     criterion=\"log_loss\",\n",
    "#     max_features=None,\n",
    "# )\n",
    "\n",
    "# model = KNeighborsClassifier(n_jobs=-1)\n",
    "# model = DecisionTreeClassifier()\n",
    "# model = GradientBoostingClassifier()\n",
    "# model = HistGradientBoostingClassifier()\n",
    "# model = xgb.XGBClassifier()\n",
    "# model = lgb.LGBMClassifier(class_weight=\"balanced\")\n",
    "# model = CatBoostClassifier(thread_count=-1)\n",
    "# model = MLPClassifier()\n",
    "# model = LogisticRegression(n_jobs=-1, random_state=10)"
   ],
   "metadata": {
    "collapsed": false
   }
  },
  {
   "cell_type": "code",
   "execution_count": 9,
   "outputs": [],
   "source": [
    "def calculate_metrics(data, y_true):\n",
    "    y_pred = model.predict(data)\n",
    "    pred_probs = model.predict_proba(data)\n",
    "    score = metrics.log_loss(y_true, pred_probs)\n",
    "    auc_score = metrics.roc_auc_score(y_true, y_pred)\n",
    "    f1_score = metrics.f1_score(y_true, y_pred)\n",
    "    bal_acc = metrics.balanced_accuracy_score(y_true, y_pred)\n",
    "    precision = metrics.precision_score(y_true, y_pred)\n",
    "    recall = metrics.recall_score(y_true, y_pred)\n",
    "    mcc = metrics.matthews_corrcoef(y_true, y_pred)\n",
    "\n",
    "    print(\"Model accuracy score : {0:0.4f}\".format(metrics.accuracy_score(y_test, y_pred)))\n",
    "    print(\"Model log-loss score : {0:0.4f}\".format(score))\n",
    "    print(\"Model auc score : {0:0.4f}\".format(auc_score))\n",
    "    print(\"Balanced accuracy score : {0:0.4f}\".format(bal_acc))\n",
    "    print(\"F1 score : {0:0.4f}\".format(f1_score))\n",
    "    print(\"Precision score : {0:0.4f}\".format(precision))\n",
    "    print(\"Recall score : {0:0.4f}\".format(recall))\n",
    "    print(\"Matthews correlation coefficient score : {0:0.4f}\".format(mcc))\n",
    "    print(metrics.classification_report(y_test, y_pred))\n",
    "\n",
    "    disp_1 = metrics.ConfusionMatrixDisplay.from_predictions(y_test, y_pred)\n",
    "    disp_2 = metrics.PrecisionRecallDisplay.from_estimator(\n",
    "        model, X_test, y_test, name=\"KNN\"\n",
    "    )\n",
    "    disp_3 = metrics.RocCurveDisplay.from_estimator(model, X_test, y_test)\n",
    "    mlflow.log_figure(disp_1.figure_, \"cm.png\")\n",
    "    mlflow.log_figure(disp_2.figure_, \"prec_recall.png\")\n",
    "    mlflow.log_figure(disp_3.figure_, \"roc.png\")"
   ],
   "metadata": {
    "collapsed": false
   }
  },
  {
   "cell_type": "code",
   "execution_count": 15,
   "outputs": [],
   "source": [
    "X_train, y_train = train_data.iloc[:, :-1], train_data[[\"tracker\"]]\n",
    "X_test, y_test = test_data.iloc[:, :-1], test_data[[\"tracker\"]]\n",
    "\n",
    "del train_data\n",
    "del test_data"
   ],
   "metadata": {
    "collapsed": false
   }
  },
  {
   "cell_type": "code",
   "execution_count": 43,
   "outputs": [
    {
     "name": "stdout",
     "output_type": "stream",
     "text": [
      "Model accuracy score : 0.8329\n",
      "Model log-loss score : 3.2883\n",
      "Model auc score : 0.7802\n",
      "Balanced accuracy score : 0.7802\n",
      "F1 score : 0.6912\n",
      "Precision score : 0.7279\n",
      "Recall score : 0.6580\n",
      "Matthews correlation coefficient score : 0.5785\n",
      "              precision    recall  f1-score   support\n",
      "\n",
      "           0       0.87      0.90      0.89     48671\n",
      "           1       0.73      0.66      0.69     19330\n",
      "\n",
      "    accuracy                           0.83     68001\n",
      "   macro avg       0.80      0.78      0.79     68001\n",
      "weighted avg       0.83      0.83      0.83     68001\n",
      "\n"
     ]
    },
    {
     "data": {
      "text/plain": "<Figure size 432x288 with 2 Axes>",
      "image/png": "[encoded data removed]"
     },
     "metadata": {},
     "output_type": "display_data"
    },
    {
     "data": {
      "text/plain": "<Figure size 432x288 with 1 Axes>",
      "image/png": "[encoded data removed]"
     },
     "metadata": {},
     "output_type": "display_data"
    },
    {
     "data": {
      "text/plain": "<Figure size 432x288 with 1 Axes>",
      "image/png": "[encoded data removed]"
     },
     "metadata": {},
     "output_type": "display_data"
    }
   ],
   "source": [
    "with mlflow.start_run():\n",
    "    model = GaussianNB()\n",
    "\n",
    "    model.fit(X_train, y_train[\"tracker\"].to_numpy())\n",
    "    calculate_metrics(X_test, y_test)\n",
    "mlflow.end_run()"
   ],
   "metadata": {
    "collapsed": false
   }
  },
  {
   "cell_type": "code",
   "execution_count": 44,
   "outputs": [],
   "source": [
    "filename = \"nb_binary.sav\"\n",
    "pickle.dump(model, open(f'../models/chrome/08_12_2022/{filename}', 'wb'))"
   ],
   "metadata": {
    "collapsed": false
   }
  }
 ],
 "metadata": {
  "kernelspec": {
   "display_name": "Python 3",
   "language": "python",
   "name": "python3"
  },
  "language_info": {
   "codemirror_mode": {
    "name": "ipython",
    "version": 2
   },
   "file_extension": ".py",
   "mimetype": "text/x-python",
   "name": "python",
   "nbconvert_exporter": "python",
   "pygments_lexer": "ipython2",
   "version": "2.7.6"
  }
 },
 "nbformat": 4,
 "nbformat_minor": 0
}
