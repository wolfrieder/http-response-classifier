{
 "cells": [
  {
   "cell_type": "code",
   "execution_count": 1,
   "metadata": {
    "collapsed": true
   },
   "outputs": [],
   "source": [
    "import logging\n",
    "import os\n",
    "import pickle\n",
    "import warnings\n",
    "\n",
    "import category_encoders as ce\n",
    "import lightgbm as lgb\n",
    "import mlflow\n",
    "import numpy as np\n",
    "import pandas as pd\n",
    "import yaml\n",
    "from sklearn import metrics\n",
    "from sklearn.compose import ColumnTransformer, make_column_selector as selector\n",
    "from sklearn.pipeline import Pipeline\n",
    "# from sklearn.impute import KNNImputer\n",
    "from sklearn.preprocessing import (\n",
    "    Normalizer,\n",
    "    FunctionTransformer\n",
    ")\n",
    "from sklearn.ensemble import RandomForestClassifier"
   ]
  },
  {
   "cell_type": "code",
   "execution_count": 5,
   "outputs": [],
   "source": [
    "logging.basicConfig(level=logging.WARN)\n",
    "logger = logging.getLogger(__name__)"
   ],
   "metadata": {
    "collapsed": false
   }
  },
  {
   "cell_type": "code",
   "execution_count": 71,
   "outputs": [],
   "source": [
    "warnings.filterwarnings(\"ignore\")\n",
    "\n",
    "with open(\"../params.yaml\", \"rb\") as f:\n",
    "    params = yaml.load(f, yaml.FullLoader)\n",
    "\n",
    "mlflow.set_tracking_uri(params[\"ml_flow\"][\"MLFLOW_TRACKING_URI\"])\n",
    "os.environ[\"MLFLOW_TRACKING_USERNAME\"] = params[\"ml_flow\"][\n",
    "    \"MLFLOW_TRACKING_USERNAME\"\n",
    "]\n",
    "os.environ[\"MLFLOW_TRACKING_PASSWORD\"] = params[\"ml_flow\"][\n",
    "    \"MLFLOW_TRACKING_PASSWORD\"\n",
    "]\n",
    "# mlflow.set_experiment(\"imputation_by_label_experiments\")\n",
    "# mlflow.set_experiment(\"simple_imputation_experiments\")\n",
    "mlflow.set_experiment(\"all_binary_experiments\")\n",
    "# mlflow.sklearn.autolog()\n",
    "# mlflow.xgboost.autolog()\n",
    "mlflow.lightgbm.autolog()"
   ],
   "metadata": {
    "collapsed": false
   }
  },
  {
   "cell_type": "code",
   "execution_count": 10,
   "outputs": [],
   "source": [
    "# datasets with all available header fields (binary encoded) is too time consuming\n",
    "# train_data = pd.read_parquet(\n",
    "#     \"../data/processed/chrome/08_12_2022/train_set_all_binary.parquet.gzip\"\n",
    "# )\n",
    "# test_data = pd.read_parquet(\n",
    "#     \"../data/processed/chrome/08_12_2022/test_set_all_binary.parquet.gzip\"\n",
    "# )\n",
    "\n",
    "# reduced data set -> next step is to binary encode the remaining columns\n",
    "train_data = pd.read_parquet(\n",
    "    \"../data/processed/chrome/08_12_2022/train_set_01_processed.parquet.gzip\"\n",
    ")\n",
    "test_data = pd.read_parquet(\n",
    "    \"../data/processed/chrome/08_12_2022/test_set_01_processed.parquet.gzip\"\n",
    ")\n",
    "\n",
    "# test_data = pd.read_parquet(\n",
    "#     \"../data/processed/firefox/08_12_2022/test_set_01_processed.parquet.gzip\"\n",
    "#     )\n",
    "\n",
    "# test_data = pd.read_parquet(\n",
    "#     \"../data/processed/brave/08_12_2022/test_set_all_processed.parquet.gzip\"\n",
    "#     )"
   ],
   "metadata": {
    "collapsed": false
   }
  },
  {
   "cell_type": "code",
   "execution_count": 17,
   "outputs": [
    {
     "data": {
      "text/plain": "          pragma                    content-type  \\\n0            NaN  text/javascript; charset=utf-8   \n1            NaN          application/javascript   \n2       no-cache                       image/gif   \n3       no-cache                             NaN   \n4            NaN        text/html; charset=utf-8   \n...          ...                             ...   \n271999       NaN                       image/png   \n272000  no-cache                             NaN   \n272001       NaN             binary/octet-stream   \n272002       NaN                 application/xml   \n272003       NaN  text/javascript; charset=utf-8   \n\n                        last-modified accept-ranges  \\\n0                                 NaN           NaN   \n1       mon, 08 aug 2022 21:56:59 gmt           NaN   \n2                                 NaN           NaN   \n3                                 NaN           NaN   \n4                                 NaN           NaN   \n...                               ...           ...   \n271999  fri, 12 nov 2021 05:09:38 gmt         bytes   \n272000  fri, 12 aug 2022 09:22:13 gmt           NaN   \n272001  mon, 20 dec 2021 02:24:19 gmt         bytes   \n272002  thu, 26 apr 2018 18:25:27 gmt         bytes   \n272003  wed, 03 aug 2022 12:04:53 gmt           NaN   \n\n                                      etag  \\\n0                     15601544113783900868   \n1                                      NaN   \n2                                      NaN   \n3                                      NaN   \n4                                      NaN   \n...                                    ...   \n271999                     \"618df712-2509\"   \n272000                                 NaN   \n272001  \"4abfa4888190370d347034f9fa43c804\"   \n272002                 w/\"29a-1630333f5d8\"   \n272003                   0x8da754860160d55   \n\n                                                      p3p x-xss-protection  \\\n0       policyref=\"https://www.googleadservices.com/pa...                0   \n1                                                     NaN              NaN   \n2       policyref=\"https://www.googleadservices.com/pa...                0   \n3                                                     NaN              NaN   \n4                                                     NaN              NaN   \n...                                                   ...              ...   \n271999                                                NaN              NaN   \n272000                                                NaN              NaN   \n272001                                                NaN              NaN   \n272002                                                NaN    1; mode=block   \n272003                                                NaN              NaN   \n\n       x-content-type-options            strict-transport-security  \\\n0                     nosniff                                  NaN   \n1                     nosniff  max-age=31536000; includesubdomains   \n2                     nosniff                                  NaN   \n3                         NaN                                  NaN   \n4                         NaN  max-age=15724800; includesubdomains   \n...                       ...                                  ...   \n271999                    NaN                          max-age=300   \n272000                nosniff                                  NaN   \n272001                    NaN                                  NaN   \n272002                nosniff            max-age=31536000; preload   \n272003                    NaN                                  NaN   \n\n       x-robots-tag  ... x-amz-meta-codebuild-buildarn_binary  \\\n0               NaN  ...                                    0   \n1               NaN  ...                                    0   \n2               NaN  ...                                    0   \n3               NaN  ...                                    0   \n4               NaN  ...                                    0   \n...             ...  ...                                  ...   \n271999          NaN  ...                                    0   \n272000          NaN  ...                                    0   \n272001          NaN  ...                                    0   \n272002          NaN  ...                                    0   \n272003          NaN  ...                                    0   \n\n       x-amz-meta-codebuild-content-md5_binary x-llid_binary  \\\n0                                            0             0   \n1                                            0             0   \n2                                            0             0   \n3                                            0             0   \n4                                            0             0   \n...                                        ...           ...   \n271999                                       0             0   \n272000                                       0             0   \n272001                                       0             0   \n272002                                       0             0   \n272003                                       0             0   \n\n       x-b3-sampled_binary x-b3-spanid_binary  \\\n0                        0                  0   \n1                        0                  0   \n2                        0                  0   \n3                        0                  0   \n4                        0                  0   \n...                    ...                ...   \n271999                   0                  0   \n272000                   0                  0   \n272001                   0                  0   \n272002                   0                  0   \n272003                   0                  0   \n\n        x-hubspot-correlation-id_binary x-hs-target-asset_binary  \\\n0                                     0                        0   \n1                                     0                        0   \n2                                     0                        0   \n3                                     0                        0   \n4                                     0                        0   \n...                                 ...                      ...   \n271999                                0                        0   \n272000                                0                        0   \n272001                                0                        0   \n272002                                0                        0   \n272003                                0                        0   \n\n       x-hostname_binary x-cdn-pop_binary x-cdn-pop-ip_binary  \n0                      0                0                   0  \n1                      0                0                   0  \n2                      0                0                   0  \n3                      0                0                   0  \n4                      0                0                   0  \n...                  ...              ...                 ...  \n271999                 0                0                   0  \n272000                 0                0                   0  \n272001                 0                0                   0  \n272002                 0                0                   0  \n272003                 0                0                   0  \n\n[272004 rows x 301 columns]",
      "text/html": "<div>\n<style scoped>\n    .dataframe tbody tr th:only-of-type {\n        vertical-align: middle;\n    }\n\n    .dataframe tbody tr th {\n        vertical-align: top;\n    }\n\n    .dataframe thead th {\n        text-align: right;\n    }\n</style>\n<table border=\"1\" class=\"dataframe\">\n  <thead>\n    <tr style=\"text-align: right;\">\n      <th></th>\n      <th>pragma</th>\n      <th>content-type</th>\n      <th>last-modified</th>\n      <th>accept-ranges</th>\n      <th>etag</th>\n      <th>p3p</th>\n      <th>x-xss-protection</th>\n      <th>x-content-type-options</th>\n      <th>strict-transport-security</th>\n      <th>x-robots-tag</th>\n      <th>...</th>\n      <th>x-amz-meta-codebuild-buildarn_binary</th>\n      <th>x-amz-meta-codebuild-content-md5_binary</th>\n      <th>x-llid_binary</th>\n      <th>x-b3-sampled_binary</th>\n      <th>x-b3-spanid_binary</th>\n      <th>x-hubspot-correlation-id_binary</th>\n      <th>x-hs-target-asset_binary</th>\n      <th>x-hostname_binary</th>\n      <th>x-cdn-pop_binary</th>\n      <th>x-cdn-pop-ip_binary</th>\n    </tr>\n  </thead>\n  <tbody>\n    <tr>\n      <th>0</th>\n      <td>NaN</td>\n      <td>text/javascript; charset=utf-8</td>\n      <td>NaN</td>\n      <td>NaN</td>\n      <td>15601544113783900868</td>\n      <td>policyref=\"https://www.googleadservices.com/pa...</td>\n      <td>0</td>\n      <td>nosniff</td>\n      <td>NaN</td>\n      <td>NaN</td>\n      <td>...</td>\n      <td>0</td>\n      <td>0</td>\n      <td>0</td>\n      <td>0</td>\n      <td>0</td>\n      <td>0</td>\n      <td>0</td>\n      <td>0</td>\n      <td>0</td>\n      <td>0</td>\n    </tr>\n    <tr>\n      <th>1</th>\n      <td>NaN</td>\n      <td>application/javascript</td>\n      <td>mon, 08 aug 2022 21:56:59 gmt</td>\n      <td>NaN</td>\n      <td>NaN</td>\n      <td>NaN</td>\n      <td>NaN</td>\n      <td>nosniff</td>\n      <td>max-age=31536000; includesubdomains</td>\n      <td>NaN</td>\n      <td>...</td>\n      <td>0</td>\n      <td>0</td>\n      <td>0</td>\n      <td>0</td>\n      <td>0</td>\n      <td>0</td>\n      <td>0</td>\n      <td>0</td>\n      <td>0</td>\n      <td>0</td>\n    </tr>\n    <tr>\n      <th>2</th>\n      <td>no-cache</td>\n      <td>image/gif</td>\n      <td>NaN</td>\n      <td>NaN</td>\n      <td>NaN</td>\n      <td>policyref=\"https://www.googleadservices.com/pa...</td>\n      <td>0</td>\n      <td>nosniff</td>\n      <td>NaN</td>\n      <td>NaN</td>\n      <td>...</td>\n      <td>0</td>\n      <td>0</td>\n      <td>0</td>\n      <td>0</td>\n      <td>0</td>\n      <td>0</td>\n      <td>0</td>\n      <td>0</td>\n      <td>0</td>\n      <td>0</td>\n    </tr>\n    <tr>\n      <th>3</th>\n      <td>no-cache</td>\n      <td>NaN</td>\n      <td>NaN</td>\n      <td>NaN</td>\n      <td>NaN</td>\n      <td>NaN</td>\n      <td>NaN</td>\n      <td>NaN</td>\n      <td>NaN</td>\n      <td>NaN</td>\n      <td>...</td>\n      <td>0</td>\n      <td>0</td>\n      <td>0</td>\n      <td>0</td>\n      <td>0</td>\n      <td>0</td>\n      <td>0</td>\n      <td>0</td>\n      <td>0</td>\n      <td>0</td>\n    </tr>\n    <tr>\n      <th>4</th>\n      <td>NaN</td>\n      <td>text/html; charset=utf-8</td>\n      <td>NaN</td>\n      <td>NaN</td>\n      <td>NaN</td>\n      <td>NaN</td>\n      <td>NaN</td>\n      <td>NaN</td>\n      <td>max-age=15724800; includesubdomains</td>\n      <td>NaN</td>\n      <td>...</td>\n      <td>0</td>\n      <td>0</td>\n      <td>0</td>\n      <td>0</td>\n      <td>0</td>\n      <td>0</td>\n      <td>0</td>\n      <td>0</td>\n      <td>0</td>\n      <td>0</td>\n    </tr>\n    <tr>\n      <th>...</th>\n      <td>...</td>\n      <td>...</td>\n      <td>...</td>\n      <td>...</td>\n      <td>...</td>\n      <td>...</td>\n      <td>...</td>\n      <td>...</td>\n      <td>...</td>\n      <td>...</td>\n      <td>...</td>\n      <td>...</td>\n      <td>...</td>\n      <td>...</td>\n      <td>...</td>\n      <td>...</td>\n      <td>...</td>\n      <td>...</td>\n      <td>...</td>\n      <td>...</td>\n      <td>...</td>\n    </tr>\n    <tr>\n      <th>271999</th>\n      <td>NaN</td>\n      <td>image/png</td>\n      <td>fri, 12 nov 2021 05:09:38 gmt</td>\n      <td>bytes</td>\n      <td>\"618df712-2509\"</td>\n      <td>NaN</td>\n      <td>NaN</td>\n      <td>NaN</td>\n      <td>max-age=300</td>\n      <td>NaN</td>\n      <td>...</td>\n      <td>0</td>\n      <td>0</td>\n      <td>0</td>\n      <td>0</td>\n      <td>0</td>\n      <td>0</td>\n      <td>0</td>\n      <td>0</td>\n      <td>0</td>\n      <td>0</td>\n    </tr>\n    <tr>\n      <th>272000</th>\n      <td>no-cache</td>\n      <td>NaN</td>\n      <td>fri, 12 aug 2022 09:22:13 gmt</td>\n      <td>NaN</td>\n      <td>NaN</td>\n      <td>NaN</td>\n      <td>NaN</td>\n      <td>nosniff</td>\n      <td>NaN</td>\n      <td>NaN</td>\n      <td>...</td>\n      <td>0</td>\n      <td>0</td>\n      <td>0</td>\n      <td>0</td>\n      <td>0</td>\n      <td>0</td>\n      <td>0</td>\n      <td>0</td>\n      <td>0</td>\n      <td>0</td>\n    </tr>\n    <tr>\n      <th>272001</th>\n      <td>NaN</td>\n      <td>binary/octet-stream</td>\n      <td>mon, 20 dec 2021 02:24:19 gmt</td>\n      <td>bytes</td>\n      <td>\"4abfa4888190370d347034f9fa43c804\"</td>\n      <td>NaN</td>\n      <td>NaN</td>\n      <td>NaN</td>\n      <td>NaN</td>\n      <td>NaN</td>\n      <td>...</td>\n      <td>0</td>\n      <td>0</td>\n      <td>0</td>\n      <td>0</td>\n      <td>0</td>\n      <td>0</td>\n      <td>0</td>\n      <td>0</td>\n      <td>0</td>\n      <td>0</td>\n    </tr>\n    <tr>\n      <th>272002</th>\n      <td>NaN</td>\n      <td>application/xml</td>\n      <td>thu, 26 apr 2018 18:25:27 gmt</td>\n      <td>bytes</td>\n      <td>w/\"29a-1630333f5d8\"</td>\n      <td>NaN</td>\n      <td>1; mode=block</td>\n      <td>nosniff</td>\n      <td>max-age=31536000; preload</td>\n      <td>NaN</td>\n      <td>...</td>\n      <td>0</td>\n      <td>0</td>\n      <td>0</td>\n      <td>0</td>\n      <td>0</td>\n      <td>0</td>\n      <td>0</td>\n      <td>0</td>\n      <td>0</td>\n      <td>0</td>\n    </tr>\n    <tr>\n      <th>272003</th>\n      <td>NaN</td>\n      <td>text/javascript; charset=utf-8</td>\n      <td>wed, 03 aug 2022 12:04:53 gmt</td>\n      <td>NaN</td>\n      <td>0x8da754860160d55</td>\n      <td>NaN</td>\n      <td>NaN</td>\n      <td>NaN</td>\n      <td>NaN</td>\n      <td>NaN</td>\n      <td>...</td>\n      <td>0</td>\n      <td>0</td>\n      <td>0</td>\n      <td>0</td>\n      <td>0</td>\n      <td>0</td>\n      <td>0</td>\n      <td>0</td>\n      <td>0</td>\n      <td>0</td>\n    </tr>\n  </tbody>\n</table>\n<p>272004 rows × 301 columns</p>\n</div>"
     },
     "execution_count": 17,
     "metadata": {},
     "output_type": "execute_result"
    }
   ],
   "source": [
    "train_data"
   ],
   "metadata": {
    "collapsed": false
   }
  },
  {
   "cell_type": "code",
   "execution_count": 12,
   "outputs": [],
   "source": [
    "del train_data['comb_col_tracker']\n",
    "del train_data['comb_col_non_tracker']\n",
    "\n",
    "del test_data['comb_col_tracker']\n",
    "del test_data['comb_col_non_tracker']"
   ],
   "metadata": {
    "collapsed": false
   }
  },
  {
   "cell_type": "code",
   "execution_count": 13,
   "outputs": [],
   "source": [
    "train_data = train_data.iloc[:, 4:]\n",
    "test_data = test_data.iloc[:, 4:]"
   ],
   "metadata": {
    "collapsed": false
   }
  },
  {
   "cell_type": "code",
   "execution_count": 5,
   "outputs": [],
   "source": [
    "# train_data.reset_index(inplace=True, drop=True)\n",
    "# test_data.reset_index(inplace=True, drop=True)"
   ],
   "metadata": {
    "collapsed": false
   }
  },
  {
   "cell_type": "markdown",
   "source": [
    "### Binary Encoding"
   ],
   "metadata": {
    "collapsed": false
   }
  },
  {
   "cell_type": "code",
   "execution_count": 15,
   "outputs": [
    {
     "name": "stderr",
     "output_type": "stream",
     "text": [
      "<ipython-input-15-8c2879514956>:2: PerformanceWarning: DataFrame is highly fragmented.  This is usually the result of calling `frame.insert` many times, which has poor performance.  Consider joining all columns at once using pd.concat(axis=1) instead. To get a de-fragmented frame, use `newframe = frame.copy()`\n",
      "  train_data[f\"{elem}_binary\"] = np.where(train_data[elem].isnull(), 0, 1)\n",
      "<ipython-input-15-8c2879514956>:3: PerformanceWarning: DataFrame is highly fragmented.  This is usually the result of calling `frame.insert` many times, which has poor performance.  Consider joining all columns at once using pd.concat(axis=1) instead. To get a de-fragmented frame, use `newframe = frame.copy()`\n",
      "  test_data[f\"{elem}_binary\"] = np.where(test_data[elem].isnull(), 0, 1)\n",
      "<ipython-input-15-8c2879514956>:2: PerformanceWarning: DataFrame is highly fragmented.  This is usually the result of calling `frame.insert` many times, which has poor performance.  Consider joining all columns at once using pd.concat(axis=1) instead. To get a de-fragmented frame, use `newframe = frame.copy()`\n",
      "  train_data[f\"{elem}_binary\"] = np.where(train_data[elem].isnull(), 0, 1)\n",
      "<ipython-input-15-8c2879514956>:3: PerformanceWarning: DataFrame is highly fragmented.  This is usually the result of calling `frame.insert` many times, which has poor performance.  Consider joining all columns at once using pd.concat(axis=1) instead. To get a de-fragmented frame, use `newframe = frame.copy()`\n",
      "  test_data[f\"{elem}_binary\"] = np.where(test_data[elem].isnull(), 0, 1)\n",
      "<ipython-input-15-8c2879514956>:2: PerformanceWarning: DataFrame is highly fragmented.  This is usually the result of calling `frame.insert` many times, which has poor performance.  Consider joining all columns at once using pd.concat(axis=1) instead. To get a de-fragmented frame, use `newframe = frame.copy()`\n",
      "  train_data[f\"{elem}_binary\"] = np.where(train_data[elem].isnull(), 0, 1)\n",
      "<ipython-input-15-8c2879514956>:3: PerformanceWarning: DataFrame is highly fragmented.  This is usually the result of calling `frame.insert` many times, which has poor performance.  Consider joining all columns at once using pd.concat(axis=1) instead. To get a de-fragmented frame, use `newframe = frame.copy()`\n",
      "  test_data[f\"{elem}_binary\"] = np.where(test_data[elem].isnull(), 0, 1)\n",
      "<ipython-input-15-8c2879514956>:2: PerformanceWarning: DataFrame is highly fragmented.  This is usually the result of calling `frame.insert` many times, which has poor performance.  Consider joining all columns at once using pd.concat(axis=1) instead. To get a de-fragmented frame, use `newframe = frame.copy()`\n",
      "  train_data[f\"{elem}_binary\"] = np.where(train_data[elem].isnull(), 0, 1)\n",
      "<ipython-input-15-8c2879514956>:3: PerformanceWarning: DataFrame is highly fragmented.  This is usually the result of calling `frame.insert` many times, which has poor performance.  Consider joining all columns at once using pd.concat(axis=1) instead. To get a de-fragmented frame, use `newframe = frame.copy()`\n",
      "  test_data[f\"{elem}_binary\"] = np.where(test_data[elem].isnull(), 0, 1)\n",
      "<ipython-input-15-8c2879514956>:2: PerformanceWarning: DataFrame is highly fragmented.  This is usually the result of calling `frame.insert` many times, which has poor performance.  Consider joining all columns at once using pd.concat(axis=1) instead. To get a de-fragmented frame, use `newframe = frame.copy()`\n",
      "  train_data[f\"{elem}_binary\"] = np.where(train_data[elem].isnull(), 0, 1)\n",
      "<ipython-input-15-8c2879514956>:3: PerformanceWarning: DataFrame is highly fragmented.  This is usually the result of calling `frame.insert` many times, which has poor performance.  Consider joining all columns at once using pd.concat(axis=1) instead. To get a de-fragmented frame, use `newframe = frame.copy()`\n",
      "  test_data[f\"{elem}_binary\"] = np.where(test_data[elem].isnull(), 0, 1)\n",
      "<ipython-input-15-8c2879514956>:2: PerformanceWarning: DataFrame is highly fragmented.  This is usually the result of calling `frame.insert` many times, which has poor performance.  Consider joining all columns at once using pd.concat(axis=1) instead. To get a de-fragmented frame, use `newframe = frame.copy()`\n",
      "  train_data[f\"{elem}_binary\"] = np.where(train_data[elem].isnull(), 0, 1)\n",
      "<ipython-input-15-8c2879514956>:3: PerformanceWarning: DataFrame is highly fragmented.  This is usually the result of calling `frame.insert` many times, which has poor performance.  Consider joining all columns at once using pd.concat(axis=1) instead. To get a de-fragmented frame, use `newframe = frame.copy()`\n",
      "  test_data[f\"{elem}_binary\"] = np.where(test_data[elem].isnull(), 0, 1)\n",
      "<ipython-input-15-8c2879514956>:2: PerformanceWarning: DataFrame is highly fragmented.  This is usually the result of calling `frame.insert` many times, which has poor performance.  Consider joining all columns at once using pd.concat(axis=1) instead. To get a de-fragmented frame, use `newframe = frame.copy()`\n",
      "  train_data[f\"{elem}_binary\"] = np.where(train_data[elem].isnull(), 0, 1)\n",
      "<ipython-input-15-8c2879514956>:3: PerformanceWarning: DataFrame is highly fragmented.  This is usually the result of calling `frame.insert` many times, which has poor performance.  Consider joining all columns at once using pd.concat(axis=1) instead. To get a de-fragmented frame, use `newframe = frame.copy()`\n",
      "  test_data[f\"{elem}_binary\"] = np.where(test_data[elem].isnull(), 0, 1)\n",
      "<ipython-input-15-8c2879514956>:2: PerformanceWarning: DataFrame is highly fragmented.  This is usually the result of calling `frame.insert` many times, which has poor performance.  Consider joining all columns at once using pd.concat(axis=1) instead. To get a de-fragmented frame, use `newframe = frame.copy()`\n",
      "  train_data[f\"{elem}_binary\"] = np.where(train_data[elem].isnull(), 0, 1)\n",
      "<ipython-input-15-8c2879514956>:3: PerformanceWarning: DataFrame is highly fragmented.  This is usually the result of calling `frame.insert` many times, which has poor performance.  Consider joining all columns at once using pd.concat(axis=1) instead. To get a de-fragmented frame, use `newframe = frame.copy()`\n",
      "  test_data[f\"{elem}_binary\"] = np.where(test_data[elem].isnull(), 0, 1)\n",
      "<ipython-input-15-8c2879514956>:2: PerformanceWarning: DataFrame is highly fragmented.  This is usually the result of calling `frame.insert` many times, which has poor performance.  Consider joining all columns at once using pd.concat(axis=1) instead. To get a de-fragmented frame, use `newframe = frame.copy()`\n",
      "  train_data[f\"{elem}_binary\"] = np.where(train_data[elem].isnull(), 0, 1)\n",
      "<ipython-input-15-8c2879514956>:3: PerformanceWarning: DataFrame is highly fragmented.  This is usually the result of calling `frame.insert` many times, which has poor performance.  Consider joining all columns at once using pd.concat(axis=1) instead. To get a de-fragmented frame, use `newframe = frame.copy()`\n",
      "  test_data[f\"{elem}_binary\"] = np.where(test_data[elem].isnull(), 0, 1)\n",
      "<ipython-input-15-8c2879514956>:2: PerformanceWarning: DataFrame is highly fragmented.  This is usually the result of calling `frame.insert` many times, which has poor performance.  Consider joining all columns at once using pd.concat(axis=1) instead. To get a de-fragmented frame, use `newframe = frame.copy()`\n",
      "  train_data[f\"{elem}_binary\"] = np.where(train_data[elem].isnull(), 0, 1)\n",
      "<ipython-input-15-8c2879514956>:3: PerformanceWarning: DataFrame is highly fragmented.  This is usually the result of calling `frame.insert` many times, which has poor performance.  Consider joining all columns at once using pd.concat(axis=1) instead. To get a de-fragmented frame, use `newframe = frame.copy()`\n",
      "  test_data[f\"{elem}_binary\"] = np.where(test_data[elem].isnull(), 0, 1)\n",
      "<ipython-input-15-8c2879514956>:2: PerformanceWarning: DataFrame is highly fragmented.  This is usually the result of calling `frame.insert` many times, which has poor performance.  Consider joining all columns at once using pd.concat(axis=1) instead. To get a de-fragmented frame, use `newframe = frame.copy()`\n",
      "  train_data[f\"{elem}_binary\"] = np.where(train_data[elem].isnull(), 0, 1)\n",
      "<ipython-input-15-8c2879514956>:3: PerformanceWarning: DataFrame is highly fragmented.  This is usually the result of calling `frame.insert` many times, which has poor performance.  Consider joining all columns at once using pd.concat(axis=1) instead. To get a de-fragmented frame, use `newframe = frame.copy()`\n",
      "  test_data[f\"{elem}_binary\"] = np.where(test_data[elem].isnull(), 0, 1)\n",
      "<ipython-input-15-8c2879514956>:2: PerformanceWarning: DataFrame is highly fragmented.  This is usually the result of calling `frame.insert` many times, which has poor performance.  Consider joining all columns at once using pd.concat(axis=1) instead. To get a de-fragmented frame, use `newframe = frame.copy()`\n",
      "  train_data[f\"{elem}_binary\"] = np.where(train_data[elem].isnull(), 0, 1)\n",
      "<ipython-input-15-8c2879514956>:3: PerformanceWarning: DataFrame is highly fragmented.  This is usually the result of calling `frame.insert` many times, which has poor performance.  Consider joining all columns at once using pd.concat(axis=1) instead. To get a de-fragmented frame, use `newframe = frame.copy()`\n",
      "  test_data[f\"{elem}_binary\"] = np.where(test_data[elem].isnull(), 0, 1)\n",
      "<ipython-input-15-8c2879514956>:2: PerformanceWarning: DataFrame is highly fragmented.  This is usually the result of calling `frame.insert` many times, which has poor performance.  Consider joining all columns at once using pd.concat(axis=1) instead. To get a de-fragmented frame, use `newframe = frame.copy()`\n",
      "  train_data[f\"{elem}_binary\"] = np.where(train_data[elem].isnull(), 0, 1)\n",
      "<ipython-input-15-8c2879514956>:3: PerformanceWarning: DataFrame is highly fragmented.  This is usually the result of calling `frame.insert` many times, which has poor performance.  Consider joining all columns at once using pd.concat(axis=1) instead. To get a de-fragmented frame, use `newframe = frame.copy()`\n",
      "  test_data[f\"{elem}_binary\"] = np.where(test_data[elem].isnull(), 0, 1)\n",
      "<ipython-input-15-8c2879514956>:2: PerformanceWarning: DataFrame is highly fragmented.  This is usually the result of calling `frame.insert` many times, which has poor performance.  Consider joining all columns at once using pd.concat(axis=1) instead. To get a de-fragmented frame, use `newframe = frame.copy()`\n",
      "  train_data[f\"{elem}_binary\"] = np.where(train_data[elem].isnull(), 0, 1)\n",
      "<ipython-input-15-8c2879514956>:3: PerformanceWarning: DataFrame is highly fragmented.  This is usually the result of calling `frame.insert` many times, which has poor performance.  Consider joining all columns at once using pd.concat(axis=1) instead. To get a de-fragmented frame, use `newframe = frame.copy()`\n",
      "  test_data[f\"{elem}_binary\"] = np.where(test_data[elem].isnull(), 0, 1)\n",
      "<ipython-input-15-8c2879514956>:2: PerformanceWarning: DataFrame is highly fragmented.  This is usually the result of calling `frame.insert` many times, which has poor performance.  Consider joining all columns at once using pd.concat(axis=1) instead. To get a de-fragmented frame, use `newframe = frame.copy()`\n",
      "  train_data[f\"{elem}_binary\"] = np.where(train_data[elem].isnull(), 0, 1)\n",
      "<ipython-input-15-8c2879514956>:3: PerformanceWarning: DataFrame is highly fragmented.  This is usually the result of calling `frame.insert` many times, which has poor performance.  Consider joining all columns at once using pd.concat(axis=1) instead. To get a de-fragmented frame, use `newframe = frame.copy()`\n",
      "  test_data[f\"{elem}_binary\"] = np.where(test_data[elem].isnull(), 0, 1)\n",
      "<ipython-input-15-8c2879514956>:2: PerformanceWarning: DataFrame is highly fragmented.  This is usually the result of calling `frame.insert` many times, which has poor performance.  Consider joining all columns at once using pd.concat(axis=1) instead. To get a de-fragmented frame, use `newframe = frame.copy()`\n",
      "  train_data[f\"{elem}_binary\"] = np.where(train_data[elem].isnull(), 0, 1)\n",
      "<ipython-input-15-8c2879514956>:3: PerformanceWarning: DataFrame is highly fragmented.  This is usually the result of calling `frame.insert` many times, which has poor performance.  Consider joining all columns at once using pd.concat(axis=1) instead. To get a de-fragmented frame, use `newframe = frame.copy()`\n",
      "  test_data[f\"{elem}_binary\"] = np.where(test_data[elem].isnull(), 0, 1)\n",
      "<ipython-input-15-8c2879514956>:2: PerformanceWarning: DataFrame is highly fragmented.  This is usually the result of calling `frame.insert` many times, which has poor performance.  Consider joining all columns at once using pd.concat(axis=1) instead. To get a de-fragmented frame, use `newframe = frame.copy()`\n",
      "  train_data[f\"{elem}_binary\"] = np.where(train_data[elem].isnull(), 0, 1)\n",
      "<ipython-input-15-8c2879514956>:3: PerformanceWarning: DataFrame is highly fragmented.  This is usually the result of calling `frame.insert` many times, which has poor performance.  Consider joining all columns at once using pd.concat(axis=1) instead. To get a de-fragmented frame, use `newframe = frame.copy()`\n",
      "  test_data[f\"{elem}_binary\"] = np.where(test_data[elem].isnull(), 0, 1)\n",
      "<ipython-input-15-8c2879514956>:2: PerformanceWarning: DataFrame is highly fragmented.  This is usually the result of calling `frame.insert` many times, which has poor performance.  Consider joining all columns at once using pd.concat(axis=1) instead. To get a de-fragmented frame, use `newframe = frame.copy()`\n",
      "  train_data[f\"{elem}_binary\"] = np.where(train_data[elem].isnull(), 0, 1)\n",
      "<ipython-input-15-8c2879514956>:3: PerformanceWarning: DataFrame is highly fragmented.  This is usually the result of calling `frame.insert` many times, which has poor performance.  Consider joining all columns at once using pd.concat(axis=1) instead. To get a de-fragmented frame, use `newframe = frame.copy()`\n",
      "  test_data[f\"{elem}_binary\"] = np.where(test_data[elem].isnull(), 0, 1)\n",
      "<ipython-input-15-8c2879514956>:2: PerformanceWarning: DataFrame is highly fragmented.  This is usually the result of calling `frame.insert` many times, which has poor performance.  Consider joining all columns at once using pd.concat(axis=1) instead. To get a de-fragmented frame, use `newframe = frame.copy()`\n",
      "  train_data[f\"{elem}_binary\"] = np.where(train_data[elem].isnull(), 0, 1)\n",
      "<ipython-input-15-8c2879514956>:3: PerformanceWarning: DataFrame is highly fragmented.  This is usually the result of calling `frame.insert` many times, which has poor performance.  Consider joining all columns at once using pd.concat(axis=1) instead. To get a de-fragmented frame, use `newframe = frame.copy()`\n",
      "  test_data[f\"{elem}_binary\"] = np.where(test_data[elem].isnull(), 0, 1)\n",
      "<ipython-input-15-8c2879514956>:2: PerformanceWarning: DataFrame is highly fragmented.  This is usually the result of calling `frame.insert` many times, which has poor performance.  Consider joining all columns at once using pd.concat(axis=1) instead. To get a de-fragmented frame, use `newframe = frame.copy()`\n",
      "  train_data[f\"{elem}_binary\"] = np.where(train_data[elem].isnull(), 0, 1)\n",
      "<ipython-input-15-8c2879514956>:3: PerformanceWarning: DataFrame is highly fragmented.  This is usually the result of calling `frame.insert` many times, which has poor performance.  Consider joining all columns at once using pd.concat(axis=1) instead. To get a de-fragmented frame, use `newframe = frame.copy()`\n",
      "  test_data[f\"{elem}_binary\"] = np.where(test_data[elem].isnull(), 0, 1)\n",
      "<ipython-input-15-8c2879514956>:2: PerformanceWarning: DataFrame is highly fragmented.  This is usually the result of calling `frame.insert` many times, which has poor performance.  Consider joining all columns at once using pd.concat(axis=1) instead. To get a de-fragmented frame, use `newframe = frame.copy()`\n",
      "  train_data[f\"{elem}_binary\"] = np.where(train_data[elem].isnull(), 0, 1)\n",
      "<ipython-input-15-8c2879514956>:3: PerformanceWarning: DataFrame is highly fragmented.  This is usually the result of calling `frame.insert` many times, which has poor performance.  Consider joining all columns at once using pd.concat(axis=1) instead. To get a de-fragmented frame, use `newframe = frame.copy()`\n",
      "  test_data[f\"{elem}_binary\"] = np.where(test_data[elem].isnull(), 0, 1)\n",
      "<ipython-input-15-8c2879514956>:2: PerformanceWarning: DataFrame is highly fragmented.  This is usually the result of calling `frame.insert` many times, which has poor performance.  Consider joining all columns at once using pd.concat(axis=1) instead. To get a de-fragmented frame, use `newframe = frame.copy()`\n",
      "  train_data[f\"{elem}_binary\"] = np.where(train_data[elem].isnull(), 0, 1)\n",
      "<ipython-input-15-8c2879514956>:3: PerformanceWarning: DataFrame is highly fragmented.  This is usually the result of calling `frame.insert` many times, which has poor performance.  Consider joining all columns at once using pd.concat(axis=1) instead. To get a de-fragmented frame, use `newframe = frame.copy()`\n",
      "  test_data[f\"{elem}_binary\"] = np.where(test_data[elem].isnull(), 0, 1)\n",
      "<ipython-input-15-8c2879514956>:2: PerformanceWarning: DataFrame is highly fragmented.  This is usually the result of calling `frame.insert` many times, which has poor performance.  Consider joining all columns at once using pd.concat(axis=1) instead. To get a de-fragmented frame, use `newframe = frame.copy()`\n",
      "  train_data[f\"{elem}_binary\"] = np.where(train_data[elem].isnull(), 0, 1)\n",
      "<ipython-input-15-8c2879514956>:3: PerformanceWarning: DataFrame is highly fragmented.  This is usually the result of calling `frame.insert` many times, which has poor performance.  Consider joining all columns at once using pd.concat(axis=1) instead. To get a de-fragmented frame, use `newframe = frame.copy()`\n",
      "  test_data[f\"{elem}_binary\"] = np.where(test_data[elem].isnull(), 0, 1)\n",
      "<ipython-input-15-8c2879514956>:2: PerformanceWarning: DataFrame is highly fragmented.  This is usually the result of calling `frame.insert` many times, which has poor performance.  Consider joining all columns at once using pd.concat(axis=1) instead. To get a de-fragmented frame, use `newframe = frame.copy()`\n",
      "  train_data[f\"{elem}_binary\"] = np.where(train_data[elem].isnull(), 0, 1)\n",
      "<ipython-input-15-8c2879514956>:3: PerformanceWarning: DataFrame is highly fragmented.  This is usually the result of calling `frame.insert` many times, which has poor performance.  Consider joining all columns at once using pd.concat(axis=1) instead. To get a de-fragmented frame, use `newframe = frame.copy()`\n",
      "  test_data[f\"{elem}_binary\"] = np.where(test_data[elem].isnull(), 0, 1)\n",
      "<ipython-input-15-8c2879514956>:2: PerformanceWarning: DataFrame is highly fragmented.  This is usually the result of calling `frame.insert` many times, which has poor performance.  Consider joining all columns at once using pd.concat(axis=1) instead. To get a de-fragmented frame, use `newframe = frame.copy()`\n",
      "  train_data[f\"{elem}_binary\"] = np.where(train_data[elem].isnull(), 0, 1)\n",
      "<ipython-input-15-8c2879514956>:3: PerformanceWarning: DataFrame is highly fragmented.  This is usually the result of calling `frame.insert` many times, which has poor performance.  Consider joining all columns at once using pd.concat(axis=1) instead. To get a de-fragmented frame, use `newframe = frame.copy()`\n",
      "  test_data[f\"{elem}_binary\"] = np.where(test_data[elem].isnull(), 0, 1)\n",
      "<ipython-input-15-8c2879514956>:2: PerformanceWarning: DataFrame is highly fragmented.  This is usually the result of calling `frame.insert` many times, which has poor performance.  Consider joining all columns at once using pd.concat(axis=1) instead. To get a de-fragmented frame, use `newframe = frame.copy()`\n",
      "  train_data[f\"{elem}_binary\"] = np.where(train_data[elem].isnull(), 0, 1)\n",
      "<ipython-input-15-8c2879514956>:3: PerformanceWarning: DataFrame is highly fragmented.  This is usually the result of calling `frame.insert` many times, which has poor performance.  Consider joining all columns at once using pd.concat(axis=1) instead. To get a de-fragmented frame, use `newframe = frame.copy()`\n",
      "  test_data[f\"{elem}_binary\"] = np.where(test_data[elem].isnull(), 0, 1)\n",
      "<ipython-input-15-8c2879514956>:2: PerformanceWarning: DataFrame is highly fragmented.  This is usually the result of calling `frame.insert` many times, which has poor performance.  Consider joining all columns at once using pd.concat(axis=1) instead. To get a de-fragmented frame, use `newframe = frame.copy()`\n",
      "  train_data[f\"{elem}_binary\"] = np.where(train_data[elem].isnull(), 0, 1)\n",
      "<ipython-input-15-8c2879514956>:3: PerformanceWarning: DataFrame is highly fragmented.  This is usually the result of calling `frame.insert` many times, which has poor performance.  Consider joining all columns at once using pd.concat(axis=1) instead. To get a de-fragmented frame, use `newframe = frame.copy()`\n",
      "  test_data[f\"{elem}_binary\"] = np.where(test_data[elem].isnull(), 0, 1)\n",
      "<ipython-input-15-8c2879514956>:2: PerformanceWarning: DataFrame is highly fragmented.  This is usually the result of calling `frame.insert` many times, which has poor performance.  Consider joining all columns at once using pd.concat(axis=1) instead. To get a de-fragmented frame, use `newframe = frame.copy()`\n",
      "  train_data[f\"{elem}_binary\"] = np.where(train_data[elem].isnull(), 0, 1)\n",
      "<ipython-input-15-8c2879514956>:3: PerformanceWarning: DataFrame is highly fragmented.  This is usually the result of calling `frame.insert` many times, which has poor performance.  Consider joining all columns at once using pd.concat(axis=1) instead. To get a de-fragmented frame, use `newframe = frame.copy()`\n",
      "  test_data[f\"{elem}_binary\"] = np.where(test_data[elem].isnull(), 0, 1)\n",
      "<ipython-input-15-8c2879514956>:2: PerformanceWarning: DataFrame is highly fragmented.  This is usually the result of calling `frame.insert` many times, which has poor performance.  Consider joining all columns at once using pd.concat(axis=1) instead. To get a de-fragmented frame, use `newframe = frame.copy()`\n",
      "  train_data[f\"{elem}_binary\"] = np.where(train_data[elem].isnull(), 0, 1)\n",
      "<ipython-input-15-8c2879514956>:3: PerformanceWarning: DataFrame is highly fragmented.  This is usually the result of calling `frame.insert` many times, which has poor performance.  Consider joining all columns at once using pd.concat(axis=1) instead. To get a de-fragmented frame, use `newframe = frame.copy()`\n",
      "  test_data[f\"{elem}_binary\"] = np.where(test_data[elem].isnull(), 0, 1)\n",
      "<ipython-input-15-8c2879514956>:2: PerformanceWarning: DataFrame is highly fragmented.  This is usually the result of calling `frame.insert` many times, which has poor performance.  Consider joining all columns at once using pd.concat(axis=1) instead. To get a de-fragmented frame, use `newframe = frame.copy()`\n",
      "  train_data[f\"{elem}_binary\"] = np.where(train_data[elem].isnull(), 0, 1)\n",
      "<ipython-input-15-8c2879514956>:3: PerformanceWarning: DataFrame is highly fragmented.  This is usually the result of calling `frame.insert` many times, which has poor performance.  Consider joining all columns at once using pd.concat(axis=1) instead. To get a de-fragmented frame, use `newframe = frame.copy()`\n",
      "  test_data[f\"{elem}_binary\"] = np.where(test_data[elem].isnull(), 0, 1)\n",
      "<ipython-input-15-8c2879514956>:2: PerformanceWarning: DataFrame is highly fragmented.  This is usually the result of calling `frame.insert` many times, which has poor performance.  Consider joining all columns at once using pd.concat(axis=1) instead. To get a de-fragmented frame, use `newframe = frame.copy()`\n",
      "  train_data[f\"{elem}_binary\"] = np.where(train_data[elem].isnull(), 0, 1)\n",
      "<ipython-input-15-8c2879514956>:3: PerformanceWarning: DataFrame is highly fragmented.  This is usually the result of calling `frame.insert` many times, which has poor performance.  Consider joining all columns at once using pd.concat(axis=1) instead. To get a de-fragmented frame, use `newframe = frame.copy()`\n",
      "  test_data[f\"{elem}_binary\"] = np.where(test_data[elem].isnull(), 0, 1)\n",
      "<ipython-input-15-8c2879514956>:2: PerformanceWarning: DataFrame is highly fragmented.  This is usually the result of calling `frame.insert` many times, which has poor performance.  Consider joining all columns at once using pd.concat(axis=1) instead. To get a de-fragmented frame, use `newframe = frame.copy()`\n",
      "  train_data[f\"{elem}_binary\"] = np.where(train_data[elem].isnull(), 0, 1)\n",
      "<ipython-input-15-8c2879514956>:3: PerformanceWarning: DataFrame is highly fragmented.  This is usually the result of calling `frame.insert` many times, which has poor performance.  Consider joining all columns at once using pd.concat(axis=1) instead. To get a de-fragmented frame, use `newframe = frame.copy()`\n",
      "  test_data[f\"{elem}_binary\"] = np.where(test_data[elem].isnull(), 0, 1)\n",
      "<ipython-input-15-8c2879514956>:2: PerformanceWarning: DataFrame is highly fragmented.  This is usually the result of calling `frame.insert` many times, which has poor performance.  Consider joining all columns at once using pd.concat(axis=1) instead. To get a de-fragmented frame, use `newframe = frame.copy()`\n",
      "  train_data[f\"{elem}_binary\"] = np.where(train_data[elem].isnull(), 0, 1)\n",
      "<ipython-input-15-8c2879514956>:3: PerformanceWarning: DataFrame is highly fragmented.  This is usually the result of calling `frame.insert` many times, which has poor performance.  Consider joining all columns at once using pd.concat(axis=1) instead. To get a de-fragmented frame, use `newframe = frame.copy()`\n",
      "  test_data[f\"{elem}_binary\"] = np.where(test_data[elem].isnull(), 0, 1)\n",
      "<ipython-input-15-8c2879514956>:2: PerformanceWarning: DataFrame is highly fragmented.  This is usually the result of calling `frame.insert` many times, which has poor performance.  Consider joining all columns at once using pd.concat(axis=1) instead. To get a de-fragmented frame, use `newframe = frame.copy()`\n",
      "  train_data[f\"{elem}_binary\"] = np.where(train_data[elem].isnull(), 0, 1)\n",
      "<ipython-input-15-8c2879514956>:3: PerformanceWarning: DataFrame is highly fragmented.  This is usually the result of calling `frame.insert` many times, which has poor performance.  Consider joining all columns at once using pd.concat(axis=1) instead. To get a de-fragmented frame, use `newframe = frame.copy()`\n",
      "  test_data[f\"{elem}_binary\"] = np.where(test_data[elem].isnull(), 0, 1)\n",
      "<ipython-input-15-8c2879514956>:2: PerformanceWarning: DataFrame is highly fragmented.  This is usually the result of calling `frame.insert` many times, which has poor performance.  Consider joining all columns at once using pd.concat(axis=1) instead. To get a de-fragmented frame, use `newframe = frame.copy()`\n",
      "  train_data[f\"{elem}_binary\"] = np.where(train_data[elem].isnull(), 0, 1)\n",
      "<ipython-input-15-8c2879514956>:3: PerformanceWarning: DataFrame is highly fragmented.  This is usually the result of calling `frame.insert` many times, which has poor performance.  Consider joining all columns at once using pd.concat(axis=1) instead. To get a de-fragmented frame, use `newframe = frame.copy()`\n",
      "  test_data[f\"{elem}_binary\"] = np.where(test_data[elem].isnull(), 0, 1)\n",
      "<ipython-input-15-8c2879514956>:2: PerformanceWarning: DataFrame is highly fragmented.  This is usually the result of calling `frame.insert` many times, which has poor performance.  Consider joining all columns at once using pd.concat(axis=1) instead. To get a de-fragmented frame, use `newframe = frame.copy()`\n",
      "  train_data[f\"{elem}_binary\"] = np.where(train_data[elem].isnull(), 0, 1)\n",
      "<ipython-input-15-8c2879514956>:3: PerformanceWarning: DataFrame is highly fragmented.  This is usually the result of calling `frame.insert` many times, which has poor performance.  Consider joining all columns at once using pd.concat(axis=1) instead. To get a de-fragmented frame, use `newframe = frame.copy()`\n",
      "  test_data[f\"{elem}_binary\"] = np.where(test_data[elem].isnull(), 0, 1)\n",
      "<ipython-input-15-8c2879514956>:2: PerformanceWarning: DataFrame is highly fragmented.  This is usually the result of calling `frame.insert` many times, which has poor performance.  Consider joining all columns at once using pd.concat(axis=1) instead. To get a de-fragmented frame, use `newframe = frame.copy()`\n",
      "  train_data[f\"{elem}_binary\"] = np.where(train_data[elem].isnull(), 0, 1)\n",
      "<ipython-input-15-8c2879514956>:3: PerformanceWarning: DataFrame is highly fragmented.  This is usually the result of calling `frame.insert` many times, which has poor performance.  Consider joining all columns at once using pd.concat(axis=1) instead. To get a de-fragmented frame, use `newframe = frame.copy()`\n",
      "  test_data[f\"{elem}_binary\"] = np.where(test_data[elem].isnull(), 0, 1)\n",
      "<ipython-input-15-8c2879514956>:2: PerformanceWarning: DataFrame is highly fragmented.  This is usually the result of calling `frame.insert` many times, which has poor performance.  Consider joining all columns at once using pd.concat(axis=1) instead. To get a de-fragmented frame, use `newframe = frame.copy()`\n",
      "  train_data[f\"{elem}_binary\"] = np.where(train_data[elem].isnull(), 0, 1)\n",
      "<ipython-input-15-8c2879514956>:3: PerformanceWarning: DataFrame is highly fragmented.  This is usually the result of calling `frame.insert` many times, which has poor performance.  Consider joining all columns at once using pd.concat(axis=1) instead. To get a de-fragmented frame, use `newframe = frame.copy()`\n",
      "  test_data[f\"{elem}_binary\"] = np.where(test_data[elem].isnull(), 0, 1)\n",
      "<ipython-input-15-8c2879514956>:2: PerformanceWarning: DataFrame is highly fragmented.  This is usually the result of calling `frame.insert` many times, which has poor performance.  Consider joining all columns at once using pd.concat(axis=1) instead. To get a de-fragmented frame, use `newframe = frame.copy()`\n",
      "  train_data[f\"{elem}_binary\"] = np.where(train_data[elem].isnull(), 0, 1)\n",
      "<ipython-input-15-8c2879514956>:3: PerformanceWarning: DataFrame is highly fragmented.  This is usually the result of calling `frame.insert` many times, which has poor performance.  Consider joining all columns at once using pd.concat(axis=1) instead. To get a de-fragmented frame, use `newframe = frame.copy()`\n",
      "  test_data[f\"{elem}_binary\"] = np.where(test_data[elem].isnull(), 0, 1)\n",
      "<ipython-input-15-8c2879514956>:2: PerformanceWarning: DataFrame is highly fragmented.  This is usually the result of calling `frame.insert` many times, which has poor performance.  Consider joining all columns at once using pd.concat(axis=1) instead. To get a de-fragmented frame, use `newframe = frame.copy()`\n",
      "  train_data[f\"{elem}_binary\"] = np.where(train_data[elem].isnull(), 0, 1)\n",
      "<ipython-input-15-8c2879514956>:3: PerformanceWarning: DataFrame is highly fragmented.  This is usually the result of calling `frame.insert` many times, which has poor performance.  Consider joining all columns at once using pd.concat(axis=1) instead. To get a de-fragmented frame, use `newframe = frame.copy()`\n",
      "  test_data[f\"{elem}_binary\"] = np.where(test_data[elem].isnull(), 0, 1)\n",
      "<ipython-input-15-8c2879514956>:2: PerformanceWarning: DataFrame is highly fragmented.  This is usually the result of calling `frame.insert` many times, which has poor performance.  Consider joining all columns at once using pd.concat(axis=1) instead. To get a de-fragmented frame, use `newframe = frame.copy()`\n",
      "  train_data[f\"{elem}_binary\"] = np.where(train_data[elem].isnull(), 0, 1)\n",
      "<ipython-input-15-8c2879514956>:3: PerformanceWarning: DataFrame is highly fragmented.  This is usually the result of calling `frame.insert` many times, which has poor performance.  Consider joining all columns at once using pd.concat(axis=1) instead. To get a de-fragmented frame, use `newframe = frame.copy()`\n",
      "  test_data[f\"{elem}_binary\"] = np.where(test_data[elem].isnull(), 0, 1)\n",
      "<ipython-input-15-8c2879514956>:2: PerformanceWarning: DataFrame is highly fragmented.  This is usually the result of calling `frame.insert` many times, which has poor performance.  Consider joining all columns at once using pd.concat(axis=1) instead. To get a de-fragmented frame, use `newframe = frame.copy()`\n",
      "  train_data[f\"{elem}_binary\"] = np.where(train_data[elem].isnull(), 0, 1)\n",
      "<ipython-input-15-8c2879514956>:3: PerformanceWarning: DataFrame is highly fragmented.  This is usually the result of calling `frame.insert` many times, which has poor performance.  Consider joining all columns at once using pd.concat(axis=1) instead. To get a de-fragmented frame, use `newframe = frame.copy()`\n",
      "  test_data[f\"{elem}_binary\"] = np.where(test_data[elem].isnull(), 0, 1)\n",
      "<ipython-input-15-8c2879514956>:2: PerformanceWarning: DataFrame is highly fragmented.  This is usually the result of calling `frame.insert` many times, which has poor performance.  Consider joining all columns at once using pd.concat(axis=1) instead. To get a de-fragmented frame, use `newframe = frame.copy()`\n",
      "  train_data[f\"{elem}_binary\"] = np.where(train_data[elem].isnull(), 0, 1)\n",
      "<ipython-input-15-8c2879514956>:3: PerformanceWarning: DataFrame is highly fragmented.  This is usually the result of calling `frame.insert` many times, which has poor performance.  Consider joining all columns at once using pd.concat(axis=1) instead. To get a de-fragmented frame, use `newframe = frame.copy()`\n",
      "  test_data[f\"{elem}_binary\"] = np.where(test_data[elem].isnull(), 0, 1)\n",
      "<ipython-input-15-8c2879514956>:2: PerformanceWarning: DataFrame is highly fragmented.  This is usually the result of calling `frame.insert` many times, which has poor performance.  Consider joining all columns at once using pd.concat(axis=1) instead. To get a de-fragmented frame, use `newframe = frame.copy()`\n",
      "  train_data[f\"{elem}_binary\"] = np.where(train_data[elem].isnull(), 0, 1)\n",
      "<ipython-input-15-8c2879514956>:3: PerformanceWarning: DataFrame is highly fragmented.  This is usually the result of calling `frame.insert` many times, which has poor performance.  Consider joining all columns at once using pd.concat(axis=1) instead. To get a de-fragmented frame, use `newframe = frame.copy()`\n",
      "  test_data[f\"{elem}_binary\"] = np.where(test_data[elem].isnull(), 0, 1)\n",
      "<ipython-input-15-8c2879514956>:2: PerformanceWarning: DataFrame is highly fragmented.  This is usually the result of calling `frame.insert` many times, which has poor performance.  Consider joining all columns at once using pd.concat(axis=1) instead. To get a de-fragmented frame, use `newframe = frame.copy()`\n",
      "  train_data[f\"{elem}_binary\"] = np.where(train_data[elem].isnull(), 0, 1)\n",
      "<ipython-input-15-8c2879514956>:3: PerformanceWarning: DataFrame is highly fragmented.  This is usually the result of calling `frame.insert` many times, which has poor performance.  Consider joining all columns at once using pd.concat(axis=1) instead. To get a de-fragmented frame, use `newframe = frame.copy()`\n",
      "  test_data[f\"{elem}_binary\"] = np.where(test_data[elem].isnull(), 0, 1)\n",
      "<ipython-input-15-8c2879514956>:2: PerformanceWarning: DataFrame is highly fragmented.  This is usually the result of calling `frame.insert` many times, which has poor performance.  Consider joining all columns at once using pd.concat(axis=1) instead. To get a de-fragmented frame, use `newframe = frame.copy()`\n",
      "  train_data[f\"{elem}_binary\"] = np.where(train_data[elem].isnull(), 0, 1)\n",
      "<ipython-input-15-8c2879514956>:3: PerformanceWarning: DataFrame is highly fragmented.  This is usually the result of calling `frame.insert` many times, which has poor performance.  Consider joining all columns at once using pd.concat(axis=1) instead. To get a de-fragmented frame, use `newframe = frame.copy()`\n",
      "  test_data[f\"{elem}_binary\"] = np.where(test_data[elem].isnull(), 0, 1)\n",
      "<ipython-input-15-8c2879514956>:2: PerformanceWarning: DataFrame is highly fragmented.  This is usually the result of calling `frame.insert` many times, which has poor performance.  Consider joining all columns at once using pd.concat(axis=1) instead. To get a de-fragmented frame, use `newframe = frame.copy()`\n",
      "  train_data[f\"{elem}_binary\"] = np.where(train_data[elem].isnull(), 0, 1)\n",
      "<ipython-input-15-8c2879514956>:3: PerformanceWarning: DataFrame is highly fragmented.  This is usually the result of calling `frame.insert` many times, which has poor performance.  Consider joining all columns at once using pd.concat(axis=1) instead. To get a de-fragmented frame, use `newframe = frame.copy()`\n",
      "  test_data[f\"{elem}_binary\"] = np.where(test_data[elem].isnull(), 0, 1)\n",
      "<ipython-input-15-8c2879514956>:2: PerformanceWarning: DataFrame is highly fragmented.  This is usually the result of calling `frame.insert` many times, which has poor performance.  Consider joining all columns at once using pd.concat(axis=1) instead. To get a de-fragmented frame, use `newframe = frame.copy()`\n",
      "  train_data[f\"{elem}_binary\"] = np.where(train_data[elem].isnull(), 0, 1)\n",
      "<ipython-input-15-8c2879514956>:3: PerformanceWarning: DataFrame is highly fragmented.  This is usually the result of calling `frame.insert` many times, which has poor performance.  Consider joining all columns at once using pd.concat(axis=1) instead. To get a de-fragmented frame, use `newframe = frame.copy()`\n",
      "  test_data[f\"{elem}_binary\"] = np.where(test_data[elem].isnull(), 0, 1)\n",
      "<ipython-input-15-8c2879514956>:2: PerformanceWarning: DataFrame is highly fragmented.  This is usually the result of calling `frame.insert` many times, which has poor performance.  Consider joining all columns at once using pd.concat(axis=1) instead. To get a de-fragmented frame, use `newframe = frame.copy()`\n",
      "  train_data[f\"{elem}_binary\"] = np.where(train_data[elem].isnull(), 0, 1)\n",
      "<ipython-input-15-8c2879514956>:3: PerformanceWarning: DataFrame is highly fragmented.  This is usually the result of calling `frame.insert` many times, which has poor performance.  Consider joining all columns at once using pd.concat(axis=1) instead. To get a de-fragmented frame, use `newframe = frame.copy()`\n",
      "  test_data[f\"{elem}_binary\"] = np.where(test_data[elem].isnull(), 0, 1)\n",
      "<ipython-input-15-8c2879514956>:2: PerformanceWarning: DataFrame is highly fragmented.  This is usually the result of calling `frame.insert` many times, which has poor performance.  Consider joining all columns at once using pd.concat(axis=1) instead. To get a de-fragmented frame, use `newframe = frame.copy()`\n",
      "  train_data[f\"{elem}_binary\"] = np.where(train_data[elem].isnull(), 0, 1)\n",
      "<ipython-input-15-8c2879514956>:3: PerformanceWarning: DataFrame is highly fragmented.  This is usually the result of calling `frame.insert` many times, which has poor performance.  Consider joining all columns at once using pd.concat(axis=1) instead. To get a de-fragmented frame, use `newframe = frame.copy()`\n",
      "  test_data[f\"{elem}_binary\"] = np.where(test_data[elem].isnull(), 0, 1)\n",
      "<ipython-input-15-8c2879514956>:2: PerformanceWarning: DataFrame is highly fragmented.  This is usually the result of calling `frame.insert` many times, which has poor performance.  Consider joining all columns at once using pd.concat(axis=1) instead. To get a de-fragmented frame, use `newframe = frame.copy()`\n",
      "  train_data[f\"{elem}_binary\"] = np.where(train_data[elem].isnull(), 0, 1)\n",
      "<ipython-input-15-8c2879514956>:3: PerformanceWarning: DataFrame is highly fragmented.  This is usually the result of calling `frame.insert` many times, which has poor performance.  Consider joining all columns at once using pd.concat(axis=1) instead. To get a de-fragmented frame, use `newframe = frame.copy()`\n",
      "  test_data[f\"{elem}_binary\"] = np.where(test_data[elem].isnull(), 0, 1)\n"
     ]
    }
   ],
   "source": [
    "for elem in train_data.iloc[:, :-1].columns.values.tolist():\n",
    "    train_data[f\"{elem}_binary\"] = np.where(train_data[elem].isnull(), 0, 1)\n",
    "    test_data[f\"{elem}_binary\"] = np.where(test_data[elem].isnull(), 0, 1)"
   ],
   "metadata": {
    "collapsed": false
   }
  },
  {
   "cell_type": "code",
   "execution_count": 18,
   "outputs": [],
   "source": [
    "# remove all old columns as binary encoding created new columns\n",
    "\n",
    "train_data = train_data.iloc[:, 150:]\n",
    "test_data = test_data.iloc[:, 150:]\n",
    "\n",
    "for elem in train_data.columns.values.tolist():\n",
    "    train_data[elem] = train_data[elem].astype(\"uint8\")\n",
    "    test_data[elem] = test_data[elem].astype(\"uint8\")\n",
    "\n",
    "\n",
    "def label_as_last_column(dataset):\n",
    "    temp_cols = dataset.columns.tolist()\n",
    "    index_col = dataset.columns.get_loc(\"tracker\")\n",
    "    new_col_order = (\n",
    "            temp_cols[0:index_col]\n",
    "            + temp_cols[index_col + 1:]\n",
    "            + temp_cols[index_col: index_col + 1]\n",
    "    )\n",
    "    return new_col_order\n",
    "\n",
    "\n",
    "reordered_cols = label_as_last_column(train_data)\n",
    "train_data = train_data[reordered_cols]\n",
    "test_data = test_data[reordered_cols]"
   ],
   "metadata": {
    "collapsed": false
   }
  },
  {
   "cell_type": "code",
   "execution_count": 19,
   "outputs": [
    {
     "data": {
      "text/plain": "       pragma_binary  content-type_binary  last-modified_binary  \\\n0                  0                    1                     1   \n1                  0                    1                     1   \n2                  0                    1                     1   \n3                  0                    1                     1   \n4                  0                    1                     1   \n...              ...                  ...                   ...   \n67996              0                    1                     0   \n67997              0                    1                     1   \n67998              0                    1                     0   \n67999              0                    1                     0   \n68000              0                    1                     1   \n\n       accept-ranges_binary  etag_binary  p3p_binary  x-xss-protection_binary  \\\n0                         1            1           0                        0   \n1                         0            0           0                        1   \n2                         1            1           0                        0   \n3                         1            1           0                        1   \n4                         1            1           0                        0   \n...                     ...          ...         ...                      ...   \n67996                     0            0           0                        0   \n67997                     1            0           0                        1   \n67998                     0            0           1                        1   \n67999                     1            1           0                        1   \n68000                     1            0           0                        0   \n\n       x-content-type-options_binary  strict-transport-security_binary  \\\n0                                  0                                 1   \n1                                  1                                 1   \n2                                  0                                 0   \n3                                  1                                 1   \n4                                  0                                 0   \n...                              ...                               ...   \n67996                              0                                 0   \n67997                              1                                 0   \n67998                              1                                 1   \n67999                              1                                 1   \n68000                              1                                 0   \n\n       x-robots-tag_binary  ...  x-amz-meta-codebuild-content-md5_binary  \\\n0                        0  ...                                        0   \n1                        0  ...                                        0   \n2                        0  ...                                        0   \n3                        0  ...                                        0   \n4                        0  ...                                        0   \n...                    ...  ...                                      ...   \n67996                    0  ...                                        0   \n67997                    0  ...                                        0   \n67998                    0  ...                                        0   \n67999                    0  ...                                        0   \n68000                    0  ...                                        0   \n\n       x-llid_binary  x-b3-sampled_binary  x-b3-spanid_binary  \\\n0                  0                    0                   0   \n1                  0                    0                   0   \n2                  0                    0                   0   \n3                  0                    0                   0   \n4                  0                    0                   0   \n...              ...                  ...                 ...   \n67996              0                    0                   0   \n67997              0                    0                   0   \n67998              0                    0                   0   \n67999              0                    0                   0   \n68000              0                    0                   0   \n\n       x-hubspot-correlation-id_binary  x-hs-target-asset_binary  \\\n0                                    0                         0   \n1                                    0                         0   \n2                                    0                         0   \n3                                    0                         0   \n4                                    0                         0   \n...                                ...                       ...   \n67996                                0                         0   \n67997                                0                         0   \n67998                                0                         0   \n67999                                0                         0   \n68000                                0                         0   \n\n       x-hostname_binary  x-cdn-pop_binary  x-cdn-pop-ip_binary  tracker  \n0                      0                 0                    0        0  \n1                      0                 0                    0        0  \n2                      0                 0                    0        0  \n3                      0                 0                    0        0  \n4                      0                 0                    0        0  \n...                  ...               ...                  ...      ...  \n67996                  0                 0                    0        0  \n67997                  0                 0                    0        1  \n67998                  0                 0                    0        0  \n67999                  0                 0                    0        0  \n68000                  0                 0                    0        0  \n\n[68001 rows x 151 columns]",
      "text/html": "<div>\n<style scoped>\n    .dataframe tbody tr th:only-of-type {\n        vertical-align: middle;\n    }\n\n    .dataframe tbody tr th {\n        vertical-align: top;\n    }\n\n    .dataframe thead th {\n        text-align: right;\n    }\n</style>\n<table border=\"1\" class=\"dataframe\">\n  <thead>\n    <tr style=\"text-align: right;\">\n      <th></th>\n      <th>pragma_binary</th>\n      <th>content-type_binary</th>\n      <th>last-modified_binary</th>\n      <th>accept-ranges_binary</th>\n      <th>etag_binary</th>\n      <th>p3p_binary</th>\n      <th>x-xss-protection_binary</th>\n      <th>x-content-type-options_binary</th>\n      <th>strict-transport-security_binary</th>\n      <th>x-robots-tag_binary</th>\n      <th>...</th>\n      <th>x-amz-meta-codebuild-content-md5_binary</th>\n      <th>x-llid_binary</th>\n      <th>x-b3-sampled_binary</th>\n      <th>x-b3-spanid_binary</th>\n      <th>x-hubspot-correlation-id_binary</th>\n      <th>x-hs-target-asset_binary</th>\n      <th>x-hostname_binary</th>\n      <th>x-cdn-pop_binary</th>\n      <th>x-cdn-pop-ip_binary</th>\n      <th>tracker</th>\n    </tr>\n  </thead>\n  <tbody>\n    <tr>\n      <th>0</th>\n      <td>0</td>\n      <td>1</td>\n      <td>1</td>\n      <td>1</td>\n      <td>1</td>\n      <td>0</td>\n      <td>0</td>\n      <td>0</td>\n      <td>1</td>\n      <td>0</td>\n      <td>...</td>\n      <td>0</td>\n      <td>0</td>\n      <td>0</td>\n      <td>0</td>\n      <td>0</td>\n      <td>0</td>\n      <td>0</td>\n      <td>0</td>\n      <td>0</td>\n      <td>0</td>\n    </tr>\n    <tr>\n      <th>1</th>\n      <td>0</td>\n      <td>1</td>\n      <td>1</td>\n      <td>0</td>\n      <td>0</td>\n      <td>0</td>\n      <td>1</td>\n      <td>1</td>\n      <td>1</td>\n      <td>0</td>\n      <td>...</td>\n      <td>0</td>\n      <td>0</td>\n      <td>0</td>\n      <td>0</td>\n      <td>0</td>\n      <td>0</td>\n      <td>0</td>\n      <td>0</td>\n      <td>0</td>\n      <td>0</td>\n    </tr>\n    <tr>\n      <th>2</th>\n      <td>0</td>\n      <td>1</td>\n      <td>1</td>\n      <td>1</td>\n      <td>1</td>\n      <td>0</td>\n      <td>0</td>\n      <td>0</td>\n      <td>0</td>\n      <td>0</td>\n      <td>...</td>\n      <td>0</td>\n      <td>0</td>\n      <td>0</td>\n      <td>0</td>\n      <td>0</td>\n      <td>0</td>\n      <td>0</td>\n      <td>0</td>\n      <td>0</td>\n      <td>0</td>\n    </tr>\n    <tr>\n      <th>3</th>\n      <td>0</td>\n      <td>1</td>\n      <td>1</td>\n      <td>1</td>\n      <td>1</td>\n      <td>0</td>\n      <td>1</td>\n      <td>1</td>\n      <td>1</td>\n      <td>0</td>\n      <td>...</td>\n      <td>0</td>\n      <td>0</td>\n      <td>0</td>\n      <td>0</td>\n      <td>0</td>\n      <td>0</td>\n      <td>0</td>\n      <td>0</td>\n      <td>0</td>\n      <td>0</td>\n    </tr>\n    <tr>\n      <th>4</th>\n      <td>0</td>\n      <td>1</td>\n      <td>1</td>\n      <td>1</td>\n      <td>1</td>\n      <td>0</td>\n      <td>0</td>\n      <td>0</td>\n      <td>0</td>\n      <td>0</td>\n      <td>...</td>\n      <td>0</td>\n      <td>0</td>\n      <td>0</td>\n      <td>0</td>\n      <td>0</td>\n      <td>0</td>\n      <td>0</td>\n      <td>0</td>\n      <td>0</td>\n      <td>0</td>\n    </tr>\n    <tr>\n      <th>...</th>\n      <td>...</td>\n      <td>...</td>\n      <td>...</td>\n      <td>...</td>\n      <td>...</td>\n      <td>...</td>\n      <td>...</td>\n      <td>...</td>\n      <td>...</td>\n      <td>...</td>\n      <td>...</td>\n      <td>...</td>\n      <td>...</td>\n      <td>...</td>\n      <td>...</td>\n      <td>...</td>\n      <td>...</td>\n      <td>...</td>\n      <td>...</td>\n      <td>...</td>\n      <td>...</td>\n    </tr>\n    <tr>\n      <th>67996</th>\n      <td>0</td>\n      <td>1</td>\n      <td>0</td>\n      <td>0</td>\n      <td>0</td>\n      <td>0</td>\n      <td>0</td>\n      <td>0</td>\n      <td>0</td>\n      <td>0</td>\n      <td>...</td>\n      <td>0</td>\n      <td>0</td>\n      <td>0</td>\n      <td>0</td>\n      <td>0</td>\n      <td>0</td>\n      <td>0</td>\n      <td>0</td>\n      <td>0</td>\n      <td>0</td>\n    </tr>\n    <tr>\n      <th>67997</th>\n      <td>0</td>\n      <td>1</td>\n      <td>1</td>\n      <td>1</td>\n      <td>0</td>\n      <td>0</td>\n      <td>1</td>\n      <td>1</td>\n      <td>0</td>\n      <td>0</td>\n      <td>...</td>\n      <td>0</td>\n      <td>0</td>\n      <td>0</td>\n      <td>0</td>\n      <td>0</td>\n      <td>0</td>\n      <td>0</td>\n      <td>0</td>\n      <td>0</td>\n      <td>1</td>\n    </tr>\n    <tr>\n      <th>67998</th>\n      <td>0</td>\n      <td>1</td>\n      <td>0</td>\n      <td>0</td>\n      <td>0</td>\n      <td>1</td>\n      <td>1</td>\n      <td>1</td>\n      <td>1</td>\n      <td>0</td>\n      <td>...</td>\n      <td>0</td>\n      <td>0</td>\n      <td>0</td>\n      <td>0</td>\n      <td>0</td>\n      <td>0</td>\n      <td>0</td>\n      <td>0</td>\n      <td>0</td>\n      <td>0</td>\n    </tr>\n    <tr>\n      <th>67999</th>\n      <td>0</td>\n      <td>1</td>\n      <td>0</td>\n      <td>1</td>\n      <td>1</td>\n      <td>0</td>\n      <td>1</td>\n      <td>1</td>\n      <td>1</td>\n      <td>0</td>\n      <td>...</td>\n      <td>0</td>\n      <td>0</td>\n      <td>0</td>\n      <td>0</td>\n      <td>0</td>\n      <td>0</td>\n      <td>0</td>\n      <td>0</td>\n      <td>0</td>\n      <td>0</td>\n    </tr>\n    <tr>\n      <th>68000</th>\n      <td>0</td>\n      <td>1</td>\n      <td>1</td>\n      <td>1</td>\n      <td>0</td>\n      <td>0</td>\n      <td>0</td>\n      <td>1</td>\n      <td>0</td>\n      <td>0</td>\n      <td>...</td>\n      <td>0</td>\n      <td>0</td>\n      <td>0</td>\n      <td>0</td>\n      <td>0</td>\n      <td>0</td>\n      <td>0</td>\n      <td>0</td>\n      <td>0</td>\n      <td>0</td>\n    </tr>\n  </tbody>\n</table>\n<p>68001 rows × 151 columns</p>\n</div>"
     },
     "execution_count": 19,
     "metadata": {},
     "output_type": "execute_result"
    }
   ],
   "source": [
    "test_data"
   ],
   "metadata": {
    "collapsed": false
   }
  },
  {
   "cell_type": "markdown",
   "source": [
    "### Binary preparation done --------------------------------------------------------------------------------------------------------------------------------"
   ],
   "metadata": {
    "collapsed": false
   }
  },
  {
   "cell_type": "code",
   "execution_count": 20,
   "outputs": [
    {
     "name": "stderr",
     "output_type": "stream",
     "text": [
      "2022/11/16 11:12:20 INFO mlflow.utils.autologging_utils: Created MLflow autologging run with ID '495c4df3f3154b4897180cebe48f7691', which will track hyperparameters, performance metrics, model artifacts, and lineage information for the current sklearn workflow\n"
     ]
    },
    {
     "name": "stdout",
     "output_type": "stream",
     "text": [
      "CPU times: user 802 ms, sys: 206 ms, total: 1.01 s\n",
      "Wall time: 7.77 s\n"
     ]
    },
    {
     "data": {
      "text/plain": "0.7157431508360171"
     },
     "execution_count": 20,
     "metadata": {},
     "output_type": "execute_result"
    }
   ],
   "source": [
    "# %%time\n",
    "# dummy_clf = DummyClassifier(strategy=\"most_frequent\", random_state=10)\n",
    "# dummy_clf.fit(X_train, y_train)\n",
    "# dummy_clf.score(X_train, y_train)"
   ],
   "metadata": {
    "collapsed": false
   }
  },
  {
   "cell_type": "markdown",
   "source": [
    "### TEST Featurized Dataset with no imputation"
   ],
   "metadata": {
    "collapsed": false
   }
  },
  {
   "cell_type": "code",
   "execution_count": 22,
   "outputs": [],
   "source": [
    "train_data = pd.read_parquet(\n",
    "    \"../data/processed/chrome/08_12_2022/train_set_01_featurized_no_imp.parquet.gzip\"\n",
    ")\n",
    "test_data = pd.read_parquet(\n",
    "    \"../data/processed/chrome/08_12_2022/test_set_01_featurized_no_imp.parquet.gzip\"\n",
    ")"
   ],
   "metadata": {
    "collapsed": false
   }
  },
  {
   "cell_type": "code",
   "execution_count": 23,
   "outputs": [],
   "source": [
    "# perform simple imputation (median, mode), label is not taking into account\n",
    "def impute_value(element):\n",
    "    if element in [\"content-length\", \"age\"]:\n",
    "        value = int(\n",
    "            train_data[element].median()\n",
    "        )\n",
    "        imputed_values_dict[0].append({element: value})\n",
    "        train_data[\n",
    "            element\n",
    "        ] = train_data[element].fillna(\n",
    "            value\n",
    "        )\n",
    "\n",
    "    if element in list_of_categorical_cols:\n",
    "        value = (\n",
    "            train_data[element].mode().iloc[0]\n",
    "        )\n",
    "        imputed_values_dict[0].append({element: value})\n",
    "        train_data[\n",
    "            element\n",
    "        ] = train_data[element].fillna(\n",
    "            value\n",
    "        )\n",
    "\n",
    "\n",
    "list_of_categorical_cols = list(\n",
    "    train_data.select_dtypes(\"category\").columns.values.tolist()\n",
    ")\n",
    "imputed_values_dict = {0: []}\n",
    "for elem in train_data.iloc[:, :19].columns.values.tolist():\n",
    "    impute_value(elem)\n",
    "for elem in imputed_values_dict[0]:\n",
    "    ((key, value),) = elem.items()\n",
    "    if key in list_of_categorical_cols:\n",
    "        if value not in test_data[key].cat.categories:\n",
    "            test_data[key].cat.add_categories(\"Missing\", inplace=True)\n",
    "    test_data[key] = test_data[key\n",
    "    ].fillna(value)"
   ],
   "metadata": {
    "collapsed": false
   }
  },
  {
   "cell_type": "markdown",
   "source": [
    "### Start modeling"
   ],
   "metadata": {
    "collapsed": false
   }
  },
  {
   "cell_type": "code",
   "execution_count": 20,
   "outputs": [],
   "source": [
    "model = RandomForestClassifier(\n",
    "    n_estimators=100,\n",
    "    n_jobs=-1,\n",
    "    random_state=10,\n",
    "    criterion=\"log_loss\",\n",
    "    max_features=None,\n",
    ")\n",
    "\n",
    "# model = KNeighborsClassifier(n_jobs=-1)\n",
    "# model = DecisionTreeClassifier()\n",
    "# model = GradientBoostingClassifier()\n",
    "# model = HistGradientBoostingClassifier()\n",
    "# model = xgb.XGBClassifier()\n",
    "# model = lgb.LGBMClassifier(class_weight=\"balanced\")\n",
    "# model = CatBoostClassifier(thread_count=-1)\n",
    "# model = MLPClassifier()\n",
    "# model = LogisticRegression(n_jobs=-1, random_state=10)\n",
    "# model = GaussianNB()"
   ],
   "metadata": {
    "collapsed": false
   }
  },
  {
   "cell_type": "code",
   "execution_count": 22,
   "outputs": [],
   "source": [
    "# Calculate relevant metrics\n",
    "def calculate_metrics(data, y_true):\n",
    "    y_pred = clf.predict(data)\n",
    "    pred_probs = clf.predict_proba(data)\n",
    "    score = metrics.log_loss(y_true, pred_probs)\n",
    "    auc_score = metrics.roc_auc_score(y_true, y_pred)\n",
    "    f1_score = metrics.f1_score(y_true, y_pred)\n",
    "    bal_acc = metrics.balanced_accuracy_score(y_true, y_pred)\n",
    "    precision = metrics.precision_score(y_true, y_pred)\n",
    "    recall = metrics.recall_score(y_true, y_pred)\n",
    "    mcc = metrics.matthews_corrcoef(y_true, y_pred)\n",
    "\n",
    "    print(\"Model accuracy score : {0:0.4f}\".format(metrics.accuracy_score(y_test, y_pred)))\n",
    "    print(\"Model log-loss score : {0:0.4f}\".format(score))\n",
    "    print(\"Model auc score : {0:0.4f}\".format(auc_score))\n",
    "    print(\"Balanced accuracy score : {0:0.4f}\".format(bal_acc))\n",
    "    print(\"F1 score : {0:0.4f}\".format(f1_score))\n",
    "    print(\"Precision score : {0:0.4f}\".format(precision))\n",
    "    print(\"Recall score : {0:0.4f}\".format(recall))\n",
    "    print(\"Matthews correlation coefficient score : {0:0.4f}\".format(mcc))\n",
    "    print(metrics.classification_report(y_test, y_pred))\n",
    "\n",
    "    disp_1 = metrics.ConfusionMatrixDisplay.from_predictions(y_test, y_pred)\n",
    "    disp_2 = metrics.PrecisionRecallDisplay.from_estimator(\n",
    "        clf, X_test, y_test, name=\"Random Forest\"\n",
    "    )\n",
    "    disp_3 = metrics.RocCurveDisplay.from_estimator(clf, X_test, y_test)\n",
    "    mlflow.log_figure(disp_1.figure_, \"cm.png\")\n",
    "    mlflow.log_figure(disp_2.figure_, \"prec_recall.png\")\n",
    "    mlflow.log_figure(disp_3.figure_, \"roc.png\")"
   ],
   "metadata": {
    "collapsed": false
   }
  },
  {
   "cell_type": "code",
   "execution_count": 23,
   "outputs": [],
   "source": [
    "X_train, y_train = train_data.iloc[:, :-1], train_data[[\"tracker\"]]\n",
    "X_test, y_test = test_data.iloc[:, :-1], test_data[[\"tracker\"]]\n",
    "\n",
    "del train_data\n",
    "del test_data"
   ],
   "metadata": {
    "collapsed": false
   }
  },
  {
   "cell_type": "markdown",
   "source": [
    "### RUN WITHOUT MLFLOW"
   ],
   "metadata": {
    "collapsed": false
   }
  },
  {
   "cell_type": "markdown",
   "source": [
    "For binary"
   ],
   "metadata": {
    "collapsed": false
   }
  },
  {
   "cell_type": "code",
   "execution_count": 26,
   "outputs": [
    {
     "name": "stdout",
     "output_type": "stream",
     "text": [
      "Model accuracy score : 0.9589\n",
      "Model log-loss score : 0.1659\n",
      "Model auc score : 0.9449\n",
      "Balanced accuracy score : 0.9449\n",
      "F1 score : 0.9267\n",
      "Precision score : 0.9413\n",
      "Recall score : 0.9125\n",
      "Matthews correlation coefficient score : 0.8984\n",
      "              precision    recall  f1-score   support\n",
      "\n",
      "           0       0.97      0.98      0.97     48671\n",
      "           1       0.94      0.91      0.93     19330\n",
      "\n",
      "    accuracy                           0.96     68001\n",
      "   macro avg       0.95      0.94      0.95     68001\n",
      "weighted avg       0.96      0.96      0.96     68001\n",
      "\n"
     ]
    },
    {
     "data": {
      "text/plain": "<Figure size 432x288 with 2 Axes>",
      "image/png": "[encoded data removed]"
     },
     "metadata": {},
     "output_type": "display_data"
    },
    {
     "data": {
      "text/plain": "<Figure size 432x288 with 1 Axes>",
      "image/png": "[encoded data removed]"
     },
     "metadata": {},
     "output_type": "display_data"
    },
    {
     "data": {
      "text/plain": "<Figure size 432x288 with 1 Axes>",
      "image/png": "[encoded data removed]"
     },
     "metadata": {},
     "output_type": "display_data"
    }
   ],
   "source": [
    "clf = RandomForestClassifier(\n",
    "    n_estimators=100,\n",
    "    n_jobs=-1,\n",
    "    random_state=10,\n",
    "    criterion=\"log_loss\",\n",
    "    max_features=None,\n",
    ")\n",
    "\n",
    "clf.fit(X_train, y_train[\"tracker\"])\n",
    "calculate_metrics(X_test, y_test)"
   ],
   "metadata": {
    "collapsed": false
   }
  },
  {
   "cell_type": "markdown",
   "source": [
    "If non-binary columns are present"
   ],
   "metadata": {
    "collapsed": false
   }
  },
  {
   "cell_type": "code",
   "execution_count": null,
   "outputs": [],
   "source": [
    "numeric_transformer = Pipeline(steps=[(\"scaler\", FunctionTransformer(np.log1p))])\n",
    "norm_transformer = Pipeline(steps=[(\"norm_scaler\", Normalizer())])\n",
    "# minmax_transformer = Pipeline(steps=[(\"mmscaler\", MinMaxScaler(feature_range=[-1, 1]))])\n",
    "\n",
    "preprocessor = ColumnTransformer(\n",
    "    transformers=[\n",
    "        (\"cat\", ce.WOEEncoder(), selector(dtype_include=\"category\")),\n",
    "        (\"num\", numeric_transformer, ['content-length']),\n",
    "        ('age', norm_transformer, ['age']),\n",
    "    ]\n",
    ")\n",
    "\n",
    "clf = Pipeline(steps=[(\"preprocessor\", preprocessor), (\"classifier\", model)])\n",
    "\n",
    "clf.fit(X_train, y_train[\"tracker\"])\n",
    "calculate_metrics(X_test, y_test)"
   ],
   "metadata": {
    "collapsed": false,
    "pycharm": {
     "is_executing": true
    }
   }
  },
  {
   "cell_type": "markdown",
   "source": [
    "### RUN WITH MLFLOW"
   ],
   "metadata": {
    "collapsed": false
   }
  },
  {
   "cell_type": "code",
   "execution_count": 77,
   "outputs": [
    {
     "name": "stdout",
     "output_type": "stream",
     "text": [
      "Model accuracy score : 0.9115\n",
      "Model log-loss score : 0.2423\n",
      "Model auc score : 0.9055\n",
      "Balanced accuracy score : 0.9055\n",
      "F1 score : 0.8514\n",
      "Precision score : 0.8147\n",
      "Recall score : 0.8915\n",
      "Matthews correlation coefficient score : 0.7902\n",
      "              precision    recall  f1-score   support\n",
      "\n",
      "           0       0.96      0.92      0.94     48671\n",
      "           1       0.81      0.89      0.85     19330\n",
      "\n",
      "    accuracy                           0.91     68001\n",
      "   macro avg       0.88      0.91      0.89     68001\n",
      "weighted avg       0.92      0.91      0.91     68001\n",
      "\n"
     ]
    },
    {
     "data": {
      "text/plain": "<Figure size 432x288 with 2 Axes>",
      "image/png": "[encoded data removed]"
     },
     "metadata": {},
     "output_type": "display_data"
    },
    {
     "data": {
      "text/plain": "<Figure size 432x288 with 1 Axes>",
      "image/png": "[encoded data removed]"
     },
     "metadata": {},
     "output_type": "display_data"
    },
    {
     "data": {
      "text/plain": "<Figure size 432x288 with 1 Axes>",
      "image/png": "[encoded data removed]"
     },
     "metadata": {},
     "output_type": "display_data"
    }
   ],
   "source": [
    "with mlflow.start_run():\n",
    "    clf = lgb.LGBMClassifier(class_weight=\"balanced\")\n",
    "\n",
    "    # numeric_transformer = Pipeline(steps=[(\"scaler\", FunctionTransformer(np.log1p))])\n",
    "    # norm_transformer = Pipeline(steps=[(\"norm_scaler\", Normalizer())])\n",
    "    # # minmax_transformer = Pipeline(steps=[(\"mmscaler\", MinMaxScaler(feature_range=[-1, 1]))])\n",
    "    #\n",
    "    # preprocessor = ColumnTransformer(\n",
    "    #     transformers=[\n",
    "    #         (\"cat\", ce.WOEEncoder(), selector(dtype_include=\"category\")),\n",
    "    #         (\"num\", numeric_transformer, ['content-length']),\n",
    "    #         ('age', norm_transformer, ['age']),\n",
    "    #     ]\n",
    "    # )\n",
    "    #\n",
    "    # clf = Pipeline(steps=[(\"preprocessor\", preprocessor), (\"classifier\", model)])\n",
    "\n",
    "    clf.fit(X_train, y_train[\"tracker\"])\n",
    "    calculate_metrics(X_test, y_test)\n",
    "mlflow.end_run()"
   ],
   "metadata": {
    "collapsed": false
   }
  },
  {
   "cell_type": "code",
   "execution_count": 44,
   "outputs": [],
   "source": [
    "filename = \"nb_binary.sav\"\n",
    "pickle.dump(model, open(f'../models/chrome/08_12_2022/{filename}', 'wb'))"
   ],
   "metadata": {
    "collapsed": false
   }
  },
  {
   "cell_type": "markdown",
   "source": [
    "### OTHER TESTS"
   ],
   "metadata": {
    "collapsed": false
   }
  },
  {
   "cell_type": "code",
   "execution_count": 14,
   "outputs": [],
   "source": [
    "test_data = pd.read_parquet(\n",
    "    \"../data/processed/firefox/08_12_2022/test_set_01_featurized.parquet.gzip\"\n",
    ")"
   ],
   "metadata": {
    "collapsed": false
   }
  },
  {
   "cell_type": "code",
   "execution_count": 17,
   "outputs": [],
   "source": [
    "def label_as_last_column(dataset):\n",
    "    temp_cols = dataset.columns.tolist()\n",
    "    index_col = dataset.columns.get_loc(\"tracker\")\n",
    "    new_col_order = (\n",
    "            temp_cols[0:index_col]\n",
    "            + temp_cols[index_col + 1:]\n",
    "            + temp_cols[index_col: index_col + 1]\n",
    "    )\n",
    "    return new_col_order\n",
    "\n",
    "\n",
    "reordered_cols = label_as_last_column(test_data)\n",
    "test_data = test_data[reordered_cols]"
   ],
   "metadata": {
    "collapsed": false
   }
  },
  {
   "cell_type": "code",
   "execution_count": 37,
   "outputs": [],
   "source": [
    "X_test_2, y_test_2 = test_data_wo_duplicates.iloc[:, :-1], test_data_wo_duplicates[[\"tracker\"]]"
   ],
   "metadata": {
    "collapsed": false
   }
  },
  {
   "cell_type": "code",
   "execution_count": 21,
   "outputs": [],
   "source": [
    "logged_model = 'runs:/40c7bb184746499a82f08cbafdc81c02/model'\n",
    "# Load model as a PyFuncModel.\n",
    "loaded_model = mlflow.pyfunc.load_model(logged_model)"
   ],
   "metadata": {
    "collapsed": false
   }
  },
  {
   "cell_type": "code",
   "execution_count": 32,
   "outputs": [],
   "source": [
    "def calculate_metrics_2(data, y_true):\n",
    "    y_pred = loaded_model.predict(data)\n",
    "    # pred_probs = loaded_model.predict_proba(data)\n",
    "    # score = metrics.log_loss(y_true, pred_probs)\n",
    "    auc_score = metrics.roc_auc_score(y_true, y_pred)\n",
    "    f1_score = metrics.f1_score(y_true, y_pred)\n",
    "    bal_acc = metrics.balanced_accuracy_score(y_true, y_pred)\n",
    "    precision = metrics.precision_score(y_true, y_pred)\n",
    "    recall = metrics.recall_score(y_true, y_pred)\n",
    "    mcc = metrics.matthews_corrcoef(y_true, y_pred)\n",
    "\n",
    "    print(\"Model accuracy score : {0:0.4f}\".format(metrics.accuracy_score(y_true, y_pred)))\n",
    "    # print(\"Model log-loss score : {0:0.4f}\".format(score))\n",
    "    print(\"Model auc score : {0:0.4f}\".format(auc_score))\n",
    "    print(\"Balanced accuracy score : {0:0.4f}\".format(bal_acc))\n",
    "    print(\"F1 score : {0:0.4f}\".format(f1_score))\n",
    "    print(\"Precision score : {0:0.4f}\".format(precision))\n",
    "    print(\"Recall score : {0:0.4f}\".format(recall))\n",
    "    print(\"Matthews correlation coefficient score : {0:0.4f}\".format(mcc))\n",
    "    print(metrics.classification_report(y_true, y_pred))\n",
    "\n",
    "    disp_1 = metrics.ConfusionMatrixDisplay.from_predictions(y_true, y_pred)\n",
    "    disp_2 = metrics.PrecisionRecallDisplay.from_estimator(\n",
    "        loaded_model, data, y_test_2, name=\"Random Forest\"\n",
    "    )\n",
    "    disp_3 = metrics.RocCurveDisplay.from_estimator(loaded_model, data, y_true)\n",
    "    mlflow.log_figure(disp_1.figure_, \"cm.png\")\n",
    "    mlflow.log_figure(disp_2.figure_, \"prec_recall.png\")\n",
    "    mlflow.log_figure(disp_3.figure_, \"roc.png\")"
   ],
   "metadata": {
    "collapsed": false
   }
  },
  {
   "cell_type": "code",
   "execution_count": 38,
   "outputs": [
    {
     "name": "stdout",
     "output_type": "stream",
     "text": [
      "Model accuracy score : 0.9994\n",
      "Model auc score : 0.9993\n",
      "Balanced accuracy score : 0.9993\n",
      "F1 score : 0.9987\n",
      "Precision score : 0.9984\n",
      "Recall score : 0.9989\n",
      "Matthews correlation coefficient score : 0.9983\n",
      "              precision    recall  f1-score   support\n",
      "\n",
      "           0       1.00      1.00      1.00    221886\n",
      "           1       1.00      1.00      1.00     58622\n",
      "\n",
      "    accuracy                           1.00    280508\n",
      "   macro avg       1.00      1.00      1.00    280508\n",
      "weighted avg       1.00      1.00      1.00    280508\n",
      "\n"
     ]
    },
    {
     "ename": "ValueError",
     "evalue": "PrecisionRecallDisplay.from_estimator only supports classifiers",
     "output_type": "error",
     "traceback": [
      "\u001B[0;31m---------------------------------------------------------------------------\u001B[0m",
      "\u001B[0;31mValueError\u001B[0m                                Traceback (most recent call last)",
      "Input \u001B[0;32mIn [38]\u001B[0m, in \u001B[0;36m<cell line: 1>\u001B[0;34m()\u001B[0m\n\u001B[0;32m----> 1\u001B[0m \u001B[43mcalculate_metrics_2\u001B[49m\u001B[43m(\u001B[49m\u001B[43mX_test_2\u001B[49m\u001B[43m,\u001B[49m\u001B[43m \u001B[49m\u001B[43my_test_2\u001B[49m\u001B[43m)\u001B[49m\n",
      "Input \u001B[0;32mIn [32]\u001B[0m, in \u001B[0;36mcalculate_metrics_2\u001B[0;34m(data, y_true)\u001B[0m\n\u001B[1;32m     20\u001B[0m \u001B[38;5;28mprint\u001B[39m(metrics\u001B[38;5;241m.\u001B[39mclassification_report(y_true, y_pred))\n\u001B[1;32m     22\u001B[0m disp_1 \u001B[38;5;241m=\u001B[39m metrics\u001B[38;5;241m.\u001B[39mConfusionMatrixDisplay\u001B[38;5;241m.\u001B[39mfrom_predictions(y_true, y_pred)\n\u001B[0;32m---> 23\u001B[0m disp_2 \u001B[38;5;241m=\u001B[39m \u001B[43mmetrics\u001B[49m\u001B[38;5;241;43m.\u001B[39;49m\u001B[43mPrecisionRecallDisplay\u001B[49m\u001B[38;5;241;43m.\u001B[39;49m\u001B[43mfrom_estimator\u001B[49m\u001B[43m(\u001B[49m\n\u001B[1;32m     24\u001B[0m \u001B[43m    \u001B[49m\u001B[43mloaded_model\u001B[49m\u001B[43m,\u001B[49m\u001B[43m \u001B[49m\u001B[43mdata\u001B[49m\u001B[43m,\u001B[49m\u001B[43m \u001B[49m\u001B[43my_test_2\u001B[49m\u001B[43m,\u001B[49m\u001B[43m \u001B[49m\u001B[43mname\u001B[49m\u001B[38;5;241;43m=\u001B[39;49m\u001B[38;5;124;43m\"\u001B[39;49m\u001B[38;5;124;43mRandom Forest\u001B[39;49m\u001B[38;5;124;43m\"\u001B[39;49m\n\u001B[1;32m     25\u001B[0m \u001B[43m\u001B[49m\u001B[43m)\u001B[49m\n\u001B[1;32m     26\u001B[0m disp_3 \u001B[38;5;241m=\u001B[39m metrics\u001B[38;5;241m.\u001B[39mRocCurveDisplay\u001B[38;5;241m.\u001B[39mfrom_estimator(loaded_model, data, y_true)\n\u001B[1;32m     27\u001B[0m mlflow\u001B[38;5;241m.\u001B[39mlog_figure(disp_1\u001B[38;5;241m.\u001B[39mfigure_, \u001B[38;5;124m\"\u001B[39m\u001B[38;5;124mcm.png\u001B[39m\u001B[38;5;124m\"\u001B[39m)\n",
      "File \u001B[0;32m~/miniconda3/envs/code/lib/python3.9/site-packages/sklearn/metrics/_plot/precision_recall_curve.py:273\u001B[0m, in \u001B[0;36mPrecisionRecallDisplay.from_estimator\u001B[0;34m(cls, estimator, X, y, sample_weight, pos_label, response_method, name, ax, **kwargs)\u001B[0m\n\u001B[1;32m    271\u001B[0m check_matplotlib_support(method_name)\n\u001B[1;32m    272\u001B[0m \u001B[38;5;28;01mif\u001B[39;00m \u001B[38;5;129;01mnot\u001B[39;00m is_classifier(estimator):\n\u001B[0;32m--> 273\u001B[0m     \u001B[38;5;28;01mraise\u001B[39;00m \u001B[38;5;167;01mValueError\u001B[39;00m(\u001B[38;5;124mf\u001B[39m\u001B[38;5;124m\"\u001B[39m\u001B[38;5;132;01m{\u001B[39;00mmethod_name\u001B[38;5;132;01m}\u001B[39;00m\u001B[38;5;124m only supports classifiers\u001B[39m\u001B[38;5;124m\"\u001B[39m)\n\u001B[1;32m    274\u001B[0m y_pred, pos_label \u001B[38;5;241m=\u001B[39m _get_response(\n\u001B[1;32m    275\u001B[0m     X,\n\u001B[1;32m    276\u001B[0m     estimator,\n\u001B[1;32m    277\u001B[0m     response_method,\n\u001B[1;32m    278\u001B[0m     pos_label\u001B[38;5;241m=\u001B[39mpos_label,\n\u001B[1;32m    279\u001B[0m )\n\u001B[1;32m    281\u001B[0m name \u001B[38;5;241m=\u001B[39m name \u001B[38;5;28;01mif\u001B[39;00m name \u001B[38;5;129;01mis\u001B[39;00m \u001B[38;5;129;01mnot\u001B[39;00m \u001B[38;5;28;01mNone\u001B[39;00m \u001B[38;5;28;01melse\u001B[39;00m estimator\u001B[38;5;241m.\u001B[39m\u001B[38;5;18m__class__\u001B[39m\u001B[38;5;241m.\u001B[39m\u001B[38;5;18m__name__\u001B[39m\n",
      "\u001B[0;31mValueError\u001B[0m: PrecisionRecallDisplay.from_estimator only supports classifiers"
     ]
    },
    {
     "data": {
      "text/plain": "<Figure size 432x288 with 2 Axes>",
      "image/png": "[encoded data removed]"
     },
     "metadata": {},
     "output_type": "display_data"
    }
   ],
   "source": [
    "calculate_metrics_2(X_test_2, y_test_2)"
   ],
   "metadata": {
    "collapsed": false
   }
  },
  {
   "cell_type": "code",
   "execution_count": 36,
   "outputs": [],
   "source": [
    "test_data_wo_duplicates = test_data[~test_data.iloc[:, 6:-1].duplicated(keep=\"first\")].reset_index(drop=True)"
   ],
   "metadata": {
    "collapsed": false
   }
  }
 ],
 "metadata": {
  "kernelspec": {
   "display_name": "Python 3",
   "language": "python",
   "name": "python3"
  },
  "language_info": {
   "codemirror_mode": {
    "name": "ipython",
    "version": 2
   },
   "file_extension": ".py",
   "mimetype": "text/x-python",
   "name": "python",
   "nbconvert_exporter": "python",
   "pygments_lexer": "ipython2",
   "version": "2.7.6"
  }
 },
 "nbformat": 4,
 "nbformat_minor": 0
}
