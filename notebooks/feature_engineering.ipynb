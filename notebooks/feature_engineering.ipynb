{
 "cells": [
  {
   "cell_type": "code",
   "execution_count": 2,
   "metadata": {
    "collapsed": true
   },
   "outputs": [
    {
     "name": "stderr",
     "output_type": "stream",
     "text": [
      "/Users/wolfrieder/miniconda3/envs/code/lib/python3.9/site-packages/xgboost/compat.py:36: FutureWarning: pandas.Int64Index is deprecated and will be removed from pandas in a future version. Use pandas.Index with the appropriate dtype instead.\n",
      "  from pandas import MultiIndex, Int64Index\n"
     ]
    }
   ],
   "source": [
    "import matplotlib.pyplot as plt\n",
    "import numpy as np\n",
    "import pandas as pd\n",
    "import seaborn as sns\n",
    "import xgboost as xgb\n",
    "from scipy.stats import shapiro, probplot\n",
    "from sklearn import metrics\n",
    "from sklearn.dummy import DummyClassifier\n",
    "# from sklearn.impute import KNNImputer\n",
    "from sklearn.ensemble import RandomForestClassifier\n",
    "from sklearn.neighbors import KNeighborsClassifier\n",
    "\n",
    "# import datawig"
   ]
  },
  {
   "cell_type": "code",
   "execution_count": 12,
   "outputs": [],
   "source": [
    "data = pd.read_parquet(\n",
    "    \"../data/processed/chrome/08_12_2022/train_set_01.parquet.gzip\"\n",
    ")\n",
    "\n",
    "data_test = pd.read_parquet('../data/processed/firefox/08_12_2022/test_set.parquet.gzip')"
   ],
   "metadata": {
    "collapsed": false
   }
  },
  {
   "cell_type": "code",
   "execution_count": 15,
   "outputs": [],
   "source": [
    "empty_columns = [col for col in data if data[col].isnull().all() == True]\n",
    "data.drop(empty_columns, axis=1, inplace=True)"
   ],
   "metadata": {
    "collapsed": false
   }
  },
  {
   "cell_type": "code",
   "execution_count": 26,
   "outputs": [],
   "source": [
    "columns = empty_columns + data_test.columns.values.tolist()"
   ],
   "metadata": {
    "collapsed": false
   }
  },
  {
   "cell_type": "code",
   "execution_count": 28,
   "outputs": [],
   "source": [
    "empty_columns = ([x for x in columns if columns.count(x) > 1])"
   ],
   "metadata": {
    "collapsed": false
   }
  },
  {
   "cell_type": "code",
   "execution_count": 31,
   "outputs": [],
   "source": [
    "data_test.drop(empty_columns, axis=1, inplace=True)"
   ],
   "metadata": {
    "collapsed": false
   }
  },
  {
   "cell_type": "code",
   "execution_count": 116,
   "outputs": [],
   "source": [
    "firefox_columns = data_test.columns.values.tolist()\n",
    "chrome_columns = data.columns.values.tolist()"
   ],
   "metadata": {
    "collapsed": false
   }
  },
  {
   "cell_type": "code",
   "execution_count": 41,
   "outputs": [],
   "source": [
    "cols_not_in_chrome = list(set(firefox_columns).difference(chrome_columns))"
   ],
   "metadata": {
    "collapsed": false
   }
  },
  {
   "cell_type": "code",
   "execution_count": 43,
   "outputs": [],
   "source": [
    "data_test.drop(cols_not_in_chrome, axis=1, inplace=True)"
   ],
   "metadata": {
    "collapsed": false
   }
  },
  {
   "cell_type": "code",
   "execution_count": 48,
   "outputs": [
    {
     "data": {
      "text/plain": "['front',\n 'x-rh-edge-cache-status',\n 'queryhash',\n 'x-imbo-imagevariation',\n 'x-returned-forwarded-entry-proto',\n 'x-system',\n 'x-accelerating',\n 'arrserver',\n 'x-uncompressed-size',\n 'x-lpb-version',\n 'x-apw-social',\n 'scg',\n 'x-remoteip',\n 'x-fpc',\n 'x-proxy-scache',\n 'x-mobile-tovima-loginview-hashed-on',\n 'x-orig-src',\n 'x-lat',\n 'vnd-eo-span-id',\n 'x-apw-authorization-denied',\n 'x-queue-time',\n 'x-amz-meta-aspera.transfer',\n 'x-yandex-items-count',\n 'x-apw-oac-pids',\n 'x-tanea2013-poll-id',\n 'no-retry',\n 'x-rsrc',\n 'content-origin',\n 'x-article-cache',\n 'x-spotx-exception-conf-id',\n 'x-redhat-debug',\n 'uip-status',\n 'branch',\n 'ot-requestid',\n 'x-cmp-answers',\n 'x-applogic',\n 'x-io',\n 'x-server-epoch',\n 'x-hayabusa-cf-cachekey',\n 'x-gateway-route',\n 'x-nodeip',\n 'rate-limit',\n 'x-amz-meta-mutable',\n 'x-isvalidated',\n 'x-dv-response',\n 'x-apw-access-action',\n 'incap-client-ip',\n 'x-mrs-cache',\n 'x-obvious-info',\n 'x-highwire-smart-code',\n 'x-tableau-cf-response-time',\n 'x-rendering-stack',\n 'br-cnn',\n 'x_shaw_transaction_id',\n 'x-cachettl',\n 'x-ratelimit-client-id',\n 'x-dynad-assets',\n 'x-decepticon',\n 'x-cookievimapremiumaspnetsession-hashed-on',\n 'x-duo-request-host',\n 'x-requestuuid',\n 'x-proxy-edge',\n 'origin-latency',\n 'x-spotx-exception-conf-message',\n 'levelcache',\n 'cf-access-domain',\n 'x-20m-webserver',\n 'feloma-cache',\n 'x-cache-timestamp',\n 'x-blopf',\n 'srvb',\n 'x-cookie-aspnet-session',\n 'x-pw-cluster-node',\n 'vnd-eo-prana-client-receive',\n 'app-origin',\n 'x-cdn-cache-id',\n 'x-categoryname',\n 'x-xy-ntype',\n 'x-amz-meta-content-length',\n 'br-geo-edition',\n 'n-sid',\n 'x-cdn-name',\n 'author',\n 'vnd.eo.span-id',\n 'x-cdn-edge',\n 'amp-same-origin',\n 'x-webim-version',\n 'x-tkpd-srv-go',\n 'x-amz-meta-longexpire',\n 'x-tkp-srv-id',\n 'mode',\n 'x-bc-host',\n 'x-rh-edge-alb-dc',\n 'x-ms-clitelem',\n 'trd-ts',\n 'x-proxy-ecacheb',\n 'hz-serverid',\n 'x-lpb-pod',\n 'akamai-zipcode',\n 'x-logjam-request-id',\n 'f',\n 'x-cache-lang',\n 'backup-from',\n 'x-bip',\n 'edge-start',\n 'x-vhe-cache',\n 'build',\n 'aliaka_real_ip',\n 'x-berlioz-country',\n 'ect',\n 'x-hit-loginstatus',\n 'vnd.odesk.request-id',\n 'x-opentracing',\n 'vnd.eo.parent-span-id',\n 'x-github-repository',\n 'x-zeus-shell-cacheable',\n 'x-apm-trace-id',\n 'x-cachestatus',\n 'x-cache-status-secondary',\n 'x-granicus-server',\n 'x-sdch-encode',\n 'x-mrs-cache-hits',\n 'x-vhg-cache',\n 'vnd-eo-trace-id',\n 'x-applogic-instance',\n 'x-slate-uuid',\n 'x-fc-error-type',\n 'x-bc-app-description',\n 'x-logjam-request-action',\n 'tp2-cache',\n 'x-debug-access-control-allow-credentials',\n 'x-mrf-shard',\n 'x-manifest-version-id',\n 'dummy',\n 'x-amzn-appsync-tokensconsumed',\n 'x-fin-ex',\n 'x-git-sha',\n 'x-debug-access-control-http-origin',\n 'nginx-cqvip',\n 'img-skip-reason',\n 'x-jsid',\n 'x-gd',\n 'x-agile-brick-disabled',\n 'x-mobile-tovima-loginview',\n 'x-4s',\n 'x-mshield-cache-status',\n 'x-apw-authentication-failed',\n 'x-hayabusa-converted-by',\n 'x-applogic-status',\n 'vnd-eo-server-ss',\n 'x-employment',\n 'x-breqcount',\n 'x-ec-bbr-enable',\n 'x-mrf-type',\n 'x-tovimapoll-id',\n 'rm-privacypolicy',\n 'x-ae',\n 'fss-cache-status',\n 'x-hs-status',\n 'br-platform',\n 'x-apw-access-token',\n 'x-applogic-filter-executions',\n 'x-proxy-ecache',\n 'x-iw-cache-key',\n 'x-upwork-target-status',\n 'x-failure-reason',\n 'x-vhz3-cache',\n 'x-microcachable',\n 'x-flipkart-ab-ids',\n 'x-hit-user-id',\n 'x-returned-forwarded-proto',\n 'cat-child-message-id',\n 'x-img-webp-skip-reason',\n 'x-referrer-policy',\n 'x-pmu',\n 'x-tovima-pollhost-hashed-on',\n 'x-cos-meta-oss-etag',\n 'x-origin-domain',\n 'x-apw-access-object',\n 'x-lastmodification',\n 'istl-redirect-to',\n 'x-partner_guid',\n 'x-graphql-cache',\n 'x-pw-front-node',\n 'x-sw-id',\n 'x-rh-edge-reference-id',\n 'artist',\n 'akamai-cache-control',\n 'x-verity',\n 'nord-request-id',\n 'x-tanea2013-poll-cookie',\n 'x-sppdebug',\n 'x-proxy-edgeb',\n 'giproxy-languageonlypath',\n 'x-tkp-page',\n 'x-apw-fraud-detected',\n 'x-bhma-premium',\n 'x-apw-amp-type',\n 'x-arrg45',\n 'x_real_time',\n 'servedby',\n 'x-udesk-ifc',\n 'x-ignore-cache',\n 'x-zeus-shell-expiry-timestamp',\n 'supports-loading-mode',\n 'x-compressed-length',\n 'x-feature-imgmedia',\n 'sage-no-cache',\n 'x-handler-duration',\n 'x-hit-route',\n 'ede-bundle_params',\n 'x-nginx-id',\n 'stored-vary-value',\n 'z_ak_client_ip',\n 'x-applogic-proxy-attempts',\n 'app-name',\n 'x-ab-test2',\n 'x-imbo-shorturl',\n 'x-spdwp-ngx',\n 'x-sessionid',\n 'dropped-udsids',\n 'x-error-code',\n 'x-spotx-exception-conf-result',\n 'x-framework-lang',\n 'x-ab',\n 'c3uid',\n 'x-ab-test1',\n 'x-amz-meta-sha1',\n 'x-fpc-key',\n 'x-nxn-cache',\n 'backup-by-error',\n 'x-shopify-generated-cart-token',\n 'x-backendorigin',\n 'x-relap-cookie',\n 'x-pimcore-output-cache-disable-reason',\n 'x-ws',\n 'x-sbistracker',\n 'giproxy-truncatedpath',\n 'x-cos-meta-sha1base36',\n 'x-sspid',\n 'x-bc-app-id',\n 'x-tkpd-origin-match',\n 'vnd.eo.trace-id',\n 'x-cache-scope',\n 'x-xy-cip',\n 'x-uniq-id',\n 'x-20m-cache',\n 'x-arrrg1',\n 'x-amz-meta-app-build',\n 'x-obvious-tid',\n 'istl-response',\n 'vnd.eo.request-id',\n 'x-amz-meta-app-deployment-id',\n 'x-ua-device-simple',\n 'x-apw-hits',\n 'x-cache_status',\n 'x-mw-request-id',\n 'iiq-data',\n 'x-proto-rule',\n 'x-elapsetime',\n 'x-routeinfo',\n 'x-nx-resp',\n 'x-jungle',\n 'x-azion-ip',\n 'x-ua-detected',\n 'vnd-eo-server-sr',\n 'br-user-type',\n 'br-tags',\n 'pragrma',\n 'x-spreaker-from-cache',\n 'x-server-elapsed',\n 'x-tanea2013-pollhost-hashed-on',\n 'x-o1-p2',\n 'x-jungle-id',\n 'x-is-eu',\n 'x-rh-edge-request-id',\n 'x-tovimapoll-cookie',\n 'x-new-rule-triggered',\n 'x-mobile-vanity',\n 'x-ingress-point',\n 'x-specific-page',\n 'fss-real-path',\n 'x-ion-healthy',\n 'vnd-eo-parent-span-id',\n 'x-asnno',\n 'x-sessionid_expires',\n 'refresh',\n 'x-debug-resp',\n 'cf-version',\n 'x-upstream-address',\n 'x-rs',\n 'product',\n 'x-shimo-proxy',\n 'x-mrs-age',\n 'x-debug-access-control-allow-origin',\n 'x-tkpd-gql-dc',\n 'x-amz-meta-app-id',\n 'smrid',\n 'x-mrf-rendered',\n 'x-my-name',\n 'x-wormhole-fragment',\n 'x-worker-version',\n 'x-varnish-error',\n 'x-my-reqtime',\n 'x-response-itag',\n 'x-liquid-rendered-at',\n 'x-highwire-sitecode']"
     },
     "execution_count": 48,
     "metadata": {},
     "output_type": "execute_result"
    }
   ],
   "source": [
    "list(set(chrome_columns).difference(firefox_columns))"
   ],
   "metadata": {
    "collapsed": false
   }
  },
  {
   "cell_type": "code",
   "execution_count": 52,
   "outputs": [],
   "source": [
    "from rapidfuzz import process\n",
    "\n",
    "\n",
    "def new_fuzzy_string_matching_for_column(col_name, col_values):\n",
    "    fuzzy_result = pd.DataFrame(\n",
    "        process.extract(\n",
    "            col_name, col_values, processor=None, score_cutoff=80, limit=100\n",
    "        ),\n",
    "        columns=[\"fuzzy_match\", \"w_ratio\", \"index\"],\n",
    "    )\n",
    "    fuzzy_result[\"col_name\"] = col_name\n",
    "    return fuzzy_result"
   ],
   "metadata": {
    "collapsed": false
   }
  },
  {
   "cell_type": "code",
   "execution_count": 56,
   "outputs": [],
   "source": [
    "data_column_values = data.columns.values[6:-1].tolist()\n",
    "match = [\n",
    "    new_fuzzy_string_matching_for_column(j, data_column_values[i + 1:])\n",
    "    for i, j in enumerate(data_column_values)\n",
    "    if i != len(data_column_values) - 1\n",
    "]\n",
    "\n",
    "match2 = pd.concat(match, ignore_index=True)\n",
    "del match"
   ],
   "metadata": {
    "collapsed": false
   }
  },
  {
   "cell_type": "code",
   "execution_count": 58,
   "outputs": [],
   "source": [
    "def find_cols_with_similar_values(fuzzy_match, column):\n",
    "    value_fuzzy = set(data[fuzzy_match].values)\n",
    "    value_column = set(data[column].values)\n",
    "\n",
    "    try:\n",
    "        value_fuzzy.remove(None)\n",
    "        value_column.remove(None)\n",
    "    except KeyError:\n",
    "        pass\n",
    "\n",
    "    if (len([True for i in value_fuzzy if i in value_column]) / len(value_fuzzy)) > 0.5:\n",
    "        return fuzzy_match, column\n",
    "    else:\n",
    "        return None"
   ],
   "metadata": {
    "collapsed": false
   }
  },
  {
   "cell_type": "code",
   "execution_count": 59,
   "outputs": [],
   "source": [
    "result = [\n",
    "    find_cols_with_similar_values(col, col2)\n",
    "    for col, col2 in zip(match2[\"fuzzy_match\"], match2[\"col_name\"])\n",
    "]"
   ],
   "metadata": {
    "collapsed": false
   }
  },
  {
   "cell_type": "code",
   "execution_count": 61,
   "outputs": [],
   "source": [
    "def select_similar_columns(fuzzy_match, column):\n",
    "    row = match2.loc[\n",
    "        (match2[\"fuzzy_match\"] == fuzzy_match) & (match2[\"col_name\"] == column)\n",
    "        ]\n",
    "    index = row.index[0]\n",
    "    match2.drop(index, inplace=True)\n",
    "    return row\n",
    "\n",
    "\n",
    "similar_values = [\n",
    "    select_similar_columns(col[0], col[1]) for col in result if col is not None\n",
    "]\n",
    "\n",
    "similar_values_test = pd.concat(similar_values, ignore_index=True)\n",
    "similar_values = pd.concat(similar_values, ignore_index=True)"
   ],
   "metadata": {
    "collapsed": false
   }
  },
  {
   "cell_type": "code",
   "execution_count": 71,
   "outputs": [],
   "source": [
    "values = list(set(similar_values.col_name.values.tolist() + similar_values.fuzzy_match.values.tolist()))"
   ],
   "metadata": {
    "collapsed": false
   }
  },
  {
   "cell_type": "code",
   "execution_count": 74,
   "outputs": [],
   "source": [
    "cols_not_in_firefox = list(set(values).difference(firefox_columns))"
   ],
   "metadata": {
    "collapsed": false
   }
  },
  {
   "cell_type": "code",
   "execution_count": 83,
   "outputs": [],
   "source": [
    "similar_values_test = similar_values_test[~similar_values_test['fuzzy_match'].isin(cols_not_in_firefox)]"
   ],
   "metadata": {
    "collapsed": false
   }
  },
  {
   "cell_type": "code",
   "execution_count": 85,
   "outputs": [],
   "source": [
    "similar_values_test = similar_values_test[~similar_values_test['col_name'].isin(cols_not_in_firefox)]"
   ],
   "metadata": {
    "collapsed": false
   }
  },
  {
   "cell_type": "code",
   "execution_count": 88,
   "outputs": [
    {
     "data": {
      "text/plain": "0       None\n1       None\n2       None\n3       None\n4       None\n        ... \n1634    None\n1635    None\n1636    None\n1637    None\n1638    None\nLength: 1639, dtype: object"
     },
     "execution_count": 88,
     "metadata": {},
     "output_type": "execute_result"
    }
   ],
   "source": [
    "def merge_similar_columns2(fuzzy_match, col_name):\n",
    "    boolean_mask = data[fuzzy_match].notnull()\n",
    "    new_values = data[boolean_mask][fuzzy_match].to_numpy()\n",
    "    indices_fuzzy_matches = data.index[boolean_mask].tolist()\n",
    "\n",
    "    current_values = data[col_name].to_numpy()\n",
    "    np.put(current_values, indices_fuzzy_matches, new_values)\n",
    "\n",
    "\n",
    "data.reset_index(drop=True, inplace=True)\n",
    "similar_values.apply(\n",
    "    lambda x: merge_similar_columns2(x[\"fuzzy_match\"], x[\"col_name\"]), axis=1\n",
    ")"
   ],
   "metadata": {
    "collapsed": false
   }
  },
  {
   "cell_type": "code",
   "execution_count": 90,
   "outputs": [
    {
     "data": {
      "text/plain": "1       None\n2       None\n3       None\n4       None\n5       None\n        ... \n1634    None\n1635    None\n1636    None\n1637    None\n1638    None\nLength: 1488, dtype: object"
     },
     "execution_count": 90,
     "metadata": {},
     "output_type": "execute_result"
    }
   ],
   "source": [
    "def merge_similar_columns2_test(fuzzy_match, col_name):\n",
    "    boolean_mask = data_test[fuzzy_match].notnull()\n",
    "    new_values = data_test[boolean_mask][fuzzy_match].to_numpy()\n",
    "    indices_fuzzy_matches = data_test.index[boolean_mask].tolist()\n",
    "\n",
    "    current_values = data_test[col_name].to_numpy()\n",
    "    np.put(current_values, indices_fuzzy_matches, new_values)\n",
    "\n",
    "\n",
    "similar_values_test.apply(\n",
    "    lambda x: merge_similar_columns2_test(x[\"fuzzy_match\"], x[\"col_name\"]),\n",
    "    axis=1,\n",
    ")"
   ],
   "metadata": {
    "collapsed": false
   }
  },
  {
   "cell_type": "code",
   "execution_count": 91,
   "outputs": [],
   "source": [
    "columns_to_remove = list(set(similar_values.fuzzy_match.values.tolist()))\n",
    "data.drop(columns_to_remove, axis=1, inplace=True)"
   ],
   "metadata": {
    "collapsed": false
   }
  },
  {
   "cell_type": "code",
   "execution_count": 92,
   "outputs": [],
   "source": [
    "columns_to_remove = list(set(similar_values_test.fuzzy_match.values.tolist()))\n",
    "data_test.drop(columns_to_remove, axis=1, inplace=True)"
   ],
   "metadata": {
    "collapsed": false
   }
  },
  {
   "cell_type": "code",
   "execution_count": 101,
   "outputs": [],
   "source": [
    "def test_new_categories_update(element, dataset):\n",
    "    categories = dataset[element].astype(\"category\").cat.categories.values.tolist()\n",
    "    try:\n",
    "        np.array(categories, dtype=\"int64\")\n",
    "        return {element: \"Int64\"}\n",
    "    except (ValueError, OverflowError):\n",
    "        return None\n",
    "\n",
    "\n",
    "def create_categories_list(dataset):\n",
    "    dtype_list = {i: \"category\" for i in dataset.columns.values[:-1]}\n",
    "    current_columns = dataset.columns.values[6:-1].tolist()\n",
    "    int64_columns = [\n",
    "        test_new_categories_update(element, dataset) for element in current_columns\n",
    "    ]\n",
    "\n",
    "    int64_columns = list(filter(lambda x: type(x) is dict, int64_columns))\n",
    "    int64_columns = {k: v for d in int64_columns for k, v in d.items()}\n",
    "\n",
    "    dtype_list.update(int64_columns)\n",
    "    del dtype_list[\"query\"]\n",
    "    del dtype_list[\"protocol\"]\n",
    "    return dtype_list"
   ],
   "metadata": {
    "collapsed": false
   }
  },
  {
   "cell_type": "code",
   "execution_count": 102,
   "outputs": [],
   "source": [
    "list_of_dtypes = create_categories_list(data)\n",
    "list_of_dtypes_test = create_categories_list(data_test)\n",
    "data.drop([\"protocol\", \"query\"], axis=1, inplace=True)\n",
    "data_test.drop([\"protocol\", \"query\"], axis=1, inplace=True)\n",
    "data = data.astype(list_of_dtypes)\n",
    "data_test = data_test.astype(list_of_dtypes_test)"
   ],
   "metadata": {
    "collapsed": false
   }
  },
  {
   "cell_type": "code",
   "execution_count": 110,
   "outputs": [],
   "source": [
    "def reduced_variance_per_column(column):\n",
    "    unique_values = int(len(set(data[column]))) - 1\n",
    "    na_values = data[column].isna().sum()\n",
    "    return [column, unique_values, round(na_values / len(data), 3)]\n",
    "\n",
    "\n",
    "number_of_elements = np.array(\n",
    "    [\n",
    "        reduced_variance_per_column(column)\n",
    "        for column in data.iloc[:, 4:-2].columns\n",
    "    ]\n",
    ")"
   ],
   "metadata": {
    "collapsed": false
   }
  },
  {
   "cell_type": "code",
   "execution_count": 112,
   "outputs": [],
   "source": [
    "summary_table = pd.DataFrame(\n",
    "    number_of_elements, columns=[\"header_name\", \"unique_values\", \"na_ratio\"]\n",
    ")\n",
    "summary_table[\"unique_values\"] = summary_table[\"unique_values\"].astype(\"Int32\")\n",
    "summary_table[\"na_ratio\"] = summary_table[\"na_ratio\"].astype(\"float32\")\n",
    "remove_headers_with_one_na_ratio = summary_table[\n",
    "    summary_table[\"na_ratio\"] == 1\n",
    "    ].header_name.values.tolist()\n",
    "remove_headers_with_one_value = summary_table[\n",
    "    (summary_table[\"unique_values\"] <= 1) & (summary_table[\"na_ratio\"] != 1)\n",
    "    ].header_name.values.tolist()"
   ],
   "metadata": {
    "collapsed": false
   }
  },
  {
   "cell_type": "code",
   "execution_count": null,
   "outputs": [],
   "source": [
    "data.drop(remove_headers_with_one_na_ratio, axis=1, inplace=True)\n",
    "data.drop(remove_headers_with_one_value, axis=1, inplace=True)"
   ],
   "metadata": {
    "collapsed": false,
    "pycharm": {
     "is_executing": true
    }
   }
  },
  {
   "cell_type": "code",
   "execution_count": 134,
   "outputs": [],
   "source": [
    "col_intersection = list(set(remove_headers_with_one_na_ratio).intersection(firefox_columns))"
   ],
   "metadata": {
    "collapsed": false
   }
  },
  {
   "cell_type": "code",
   "execution_count": 137,
   "outputs": [],
   "source": [
    "data_test.drop(col_intersection, axis=1, inplace=True)"
   ],
   "metadata": {
    "collapsed": false
   }
  },
  {
   "cell_type": "code",
   "execution_count": 138,
   "outputs": [],
   "source": [
    "firefox_columns = data_test.columns.values.tolist()\n",
    "col_intersection = list(set(remove_headers_with_one_value).intersection(firefox_columns))"
   ],
   "metadata": {
    "collapsed": false
   }
  },
  {
   "cell_type": "code",
   "execution_count": 140,
   "outputs": [],
   "source": [
    "data_test.drop(col_intersection, axis=1, inplace=True)"
   ],
   "metadata": {
    "collapsed": false
   }
  },
  {
   "cell_type": "code",
   "execution_count": 158,
   "outputs": [],
   "source": [
    "def variance_per_column_2(column):\n",
    "    tracker_ratio = data[data[column].notnull()].tracker.value_counts()\n",
    "    try:\n",
    "        trackers = tracker_ratio[1]\n",
    "    except KeyError:\n",
    "        trackers = 0\n",
    "    try:\n",
    "        non_trackers = tracker_ratio[0]\n",
    "    except KeyError:\n",
    "        non_trackers = 0\n",
    "    return [column, trackers, non_trackers]\n",
    "\n",
    "\n",
    "def create_summary_table(dataset):\n",
    "    number_of_elements_reduced = np.array(\n",
    "        [variance_per_column_2(column) for column in dataset.iloc[:, 4:-1].columns]\n",
    "    )\n",
    "    summary_table_2 = pd.DataFrame(\n",
    "        number_of_elements_reduced, columns=[\"header_name\", \"trackers\", \"non_trackers\"]\n",
    "    )\n",
    "    summary_table_2[\"trackers\"] = summary_table_2[\"trackers\"].astype(\"Int32\")\n",
    "    summary_table_2[\"non_trackers\"] = summary_table_2[\"non_trackers\"].astype(\"float32\")\n",
    "    summary_table_2[\"ratio\"] = (\n",
    "                                       summary_table_2[\"trackers\"] / summary_table_2[\"non_trackers\"]\n",
    "                               ) * 100\n",
    "    summary_table_2[\"ratio2\"] = (\n",
    "                                        summary_table_2[\"non_trackers\"] / summary_table_2[\"trackers\"]\n",
    "                                ) * 100\n",
    "    return summary_table_2\n",
    "\n",
    "\n",
    "summary_table2 = create_summary_table(data)"
   ],
   "metadata": {
    "collapsed": false
   }
  },
  {
   "cell_type": "code",
   "execution_count": 163,
   "outputs": [],
   "source": [
    "\n",
    "\n",
    "def concise_information(col_list, classification, dataset):\n",
    "    indices = list()\n",
    "\n",
    "    for col in col_list:\n",
    "        indices.append(\n",
    "            dataset[\n",
    "                (dataset[col].notnull()) & (dataset[\"tracker\"] == classification)\n",
    "                ].index.tolist()\n",
    "        )\n",
    "\n",
    "    return indices\n",
    "\n",
    "\n",
    "def find_cols_to_combine(information_table):\n",
    "    only_non_trackers = information_table[\n",
    "        information_table[\"ratio\"] <= 10\n",
    "        ].header_name.values.tolist()\n",
    "    only_trackers = information_table[\n",
    "        information_table[\"ratio2\"] <= 10\n",
    "        ].header_name.values.tolist()\n",
    "    return only_non_trackers, only_trackers\n",
    "\n",
    "\n",
    "def concise_information_wrapper(dataset, table):\n",
    "    only_non_tracker_cols, only_tracker_cols = find_cols_to_combine(table)\n",
    "\n",
    "    dataset[\"comb_col_non_tracker\"] = 0\n",
    "    dataset[\"comb_col_tracker\"] = 0\n",
    "\n",
    "    col_tracker = dict(\n",
    "        Counter(\n",
    "            list(\n",
    "                np.concatenate(concise_information(only_tracker_cols, 1, dataset)).flat\n",
    "            )\n",
    "        )\n",
    "    )\n",
    "    col_non_tracker = dict(\n",
    "        Counter(\n",
    "            list(\n",
    "                np.concatenate(\n",
    "                    concise_information(only_non_tracker_cols, 0, dataset)\n",
    "                ).flat\n",
    "            )\n",
    "        )\n",
    "    )\n",
    "\n",
    "    for key, value in col_tracker.items():\n",
    "        dataset.at[key, \"comb_col_tracker\"] = value\n",
    "\n",
    "    for key, value in col_non_tracker.items():\n",
    "        dataset.at[key, \"comb_col_non_tracker\"] = value\n",
    "\n",
    "\n",
    "concise_information_wrapper(data, summary_table2)\n",
    "# concise_information_wrapper(data_test, summary_table2)"
   ],
   "metadata": {
    "collapsed": false
   }
  },
  {
   "cell_type": "code",
   "execution_count": 165,
   "outputs": [],
   "source": [
    "data_copy = data_test.copy(deep=True)"
   ],
   "metadata": {
    "collapsed": false
   }
  },
  {
   "cell_type": "code",
   "execution_count": 175,
   "outputs": [],
   "source": [
    "firefox_summary_table = summary_table2[~summary_table2.header_name.isin(list(set(data.columns.values.tolist())\n",
    "                                                                             .difference(\n",
    "    data_test.columns.values.tolist())))]\n",
    "\n",
    "concise_information_wrapper(data_test, firefox_summary_table)"
   ],
   "metadata": {
    "collapsed": false
   }
  },
  {
   "cell_type": "code",
   "execution_count": 176,
   "outputs": [],
   "source": [
    "only_non_tracker_col, only_tracker_col = find_cols_to_combine(summary_table2)"
   ],
   "metadata": {
    "collapsed": false
   }
  },
  {
   "cell_type": "code",
   "execution_count": 178,
   "outputs": [],
   "source": [
    "data.drop(only_non_tracker_col, axis=1, inplace=True)\n",
    "data.drop(only_tracker_col, axis=1, inplace=True)"
   ],
   "metadata": {
    "collapsed": false
   }
  },
  {
   "cell_type": "code",
   "execution_count": null,
   "outputs": [],
   "source": [
    "a = ['edge-start', 'origin-latency', 'x-uniq-id', 'x-requestuuid', 'x-sbistracker', 'x-cdn-cache-id']"
   ],
   "metadata": {
    "collapsed": false
   }
  },
  {
   "cell_type": "code",
   "execution_count": 198,
   "outputs": [],
   "source": [
    "data_test.drop(list(set(only_non_tracker_col).difference(a)), axis=1, inplace=True)\n",
    "data_test.drop(only_tracker_col, axis=1, inplace=True)"
   ],
   "metadata": {
    "collapsed": false
   }
  },
  {
   "cell_type": "code",
   "execution_count": 202,
   "outputs": [
    {
     "data": {
      "text/plain": "['cdn-name']"
     },
     "execution_count": 202,
     "metadata": {},
     "output_type": "execute_result"
    }
   ],
   "source": [
    "list(set(data_test.columns.values.tolist()).difference(data.columns.values.tolist()))"
   ],
   "metadata": {
    "collapsed": false
   }
  },
  {
   "cell_type": "code",
   "execution_count": 204,
   "outputs": [],
   "source": [
    "data_test.drop('cdn-name', axis=1, inplace=True)"
   ],
   "metadata": {
    "collapsed": false
   }
  },
  {
   "cell_type": "code",
   "execution_count": 205,
   "outputs": [],
   "source": [
    "data_test.to_parquet(\n",
    "    \"../data/processed/firefox/08_12_2022/test_set_01_processed.parquet.gzip\",\n",
    "    compression=\"gzip\",\n",
    ")"
   ],
   "metadata": {
    "collapsed": false
   }
  },
  {
   "cell_type": "code",
   "execution_count": 3,
   "outputs": [],
   "source": [
    "train_data = pd.read_parquet(\n",
    "    \"../data/processed/chrome/08_12_2022/train_set_01_processed.parquet.gzip\"\n",
    ")\n",
    "test_data = pd.read_parquet(\n",
    "    \"../data/processed/firefox/08_12_2022/test_set_01_processed.parquet.gzip\"\n",
    ")"
   ],
   "metadata": {
    "collapsed": false
   }
  },
  {
   "cell_type": "code",
   "execution_count": 8,
   "outputs": [
    {
     "data": {
      "text/plain": "                                       hostname  \\\n0                     tpc.googlesyndication.com   \n1                            res.cdn.office.net   \n2                                www.google.com   \n3       ipv4-c113-lhr004-ix.1.oca.nflxvideo.net   \n4                                      shimo.im   \n...                                         ...   \n271999                           www.criteo.com   \n272000                             ads.adfox.ru   \n272001                  synostatic.synology.com   \n272002                                tenor.com   \n272003                               r.bing.com   \n\n                                                 pathname  \\\n0       /pagead/js/r20220810/r20110914/client/one_clic...   \n1       /officehub/bundles/staying-aware.b8b088b355c55...   \n2                                       /ads/ga-audiences   \n3                                    /speedtest/range/0-0   \n4                                                       /   \n...                                                   ...   \n271999  /wp-content/uploads/2021/01/ss-logo-Lamps-Plus...   \n272000                                      /260122/event   \n272001                     /font/inter/inter-w400-6.woff2   \n272002                                    /opensearch.xml   \n272003              /rp/l_yPzUao8Z_UiytFemwYCOTvU_U.br.js   \n\n                    filetype                                        filename  \\\n0                         js            one_click_handler_one_afma_fy2021.js   \n1                         js  staying-aware.b8b088b355c55b4ea7d6.chunk.v6.js   \n2          /ads/ga-audiences                                    ga-audiences   \n3       /speedtest/range/0-0                                             0-0   \n4                          /                                                   \n...                      ...                                             ...   \n271999                   png                          ss-logo-Lamps-Plus.png   \n272000         /260122/event                                           event   \n272001                 woff2                              inter-w400-6.woff2   \n272002                   xml                                  opensearch.xml   \n272003                    js               l_yPzUao8Z_UiytFemwYCOTvU_U.br.js   \n\n          pragma                    content-type  \\\n0            NaN  text/javascript; charset=utf-8   \n1            NaN          application/javascript   \n2       no-cache                       image/gif   \n3       no-cache                             NaN   \n4            NaN        text/html; charset=utf-8   \n...          ...                             ...   \n271999       NaN                       image/png   \n272000  no-cache                             NaN   \n272001       NaN             binary/octet-stream   \n272002       NaN                 application/xml   \n272003       NaN  text/javascript; charset=utf-8   \n\n                        last-modified accept-ranges  \\\n0                                 NaN           NaN   \n1       mon, 08 aug 2022 21:56:59 gmt           NaN   \n2                                 NaN           NaN   \n3                                 NaN           NaN   \n4                                 NaN           NaN   \n...                               ...           ...   \n271999  fri, 12 nov 2021 05:09:38 gmt         bytes   \n272000  fri, 12 aug 2022 09:22:13 gmt           NaN   \n272001  mon, 20 dec 2021 02:24:19 gmt         bytes   \n272002  thu, 26 apr 2018 18:25:27 gmt         bytes   \n272003  wed, 03 aug 2022 12:04:53 gmt           NaN   \n\n                                      etag  \\\n0                     15601544113783900868   \n1                                      NaN   \n2                                      NaN   \n3                                      NaN   \n4                                      NaN   \n...                                    ...   \n271999                     \"618df712-2509\"   \n272000                                 NaN   \n272001  \"4abfa4888190370d347034f9fa43c804\"   \n272002                 w/\"29a-1630333f5d8\"   \n272003                   0x8da754860160d55   \n\n                                                      p3p  ... x-b3-sampled  \\\n0       policyref=\"https://www.googleadservices.com/pa...  ...          NaN   \n1                                                     NaN  ...          NaN   \n2       policyref=\"https://www.googleadservices.com/pa...  ...          NaN   \n3                                                     NaN  ...          NaN   \n4                                                     NaN  ...          NaN   \n...                                                   ...  ...          ...   \n271999                                                NaN  ...          NaN   \n272000                                                NaN  ...          NaN   \n272001                                                NaN  ...          NaN   \n272002                                                NaN  ...          NaN   \n272003                                                NaN  ...          NaN   \n\n       x-b3-spanid x-hubspot-correlation-id x-hs-target-asset x-hostname  \\\n0              NaN                      NaN               NaN        NaN   \n1              NaN                      NaN               NaN        NaN   \n2              NaN                      NaN               NaN        NaN   \n3              NaN                      NaN               NaN        NaN   \n4              NaN                      NaN               NaN        NaN   \n...            ...                      ...               ...        ...   \n271999         NaN                      NaN               NaN        NaN   \n272000         NaN                      NaN               NaN        NaN   \n272001         NaN                      NaN               NaN        NaN   \n272002         NaN                      NaN               NaN        NaN   \n272003         NaN                      NaN               NaN        NaN   \n\n       x-cdn-pop x-cdn-pop-ip tracker comb_col_non_tracker  comb_col_tracker  \n0            NaN          NaN       1                    0                 0  \n1            NaN          NaN       0                    2                 0  \n2            NaN          NaN       1                    0                 0  \n3            NaN          NaN       0                    1                 0  \n4            NaN          NaN       0                    1                 0  \n...          ...          ...     ...                  ...               ...  \n271999       NaN          NaN       0                    5                 0  \n272000       NaN          NaN       1                    0                 0  \n272001       NaN          NaN       0                    0                 0  \n272002       NaN          NaN       0                    2                 0  \n272003       NaN          NaN       0                    6                 0  \n\n[272004 rows x 157 columns]",
      "text/html": "<div>\n<style scoped>\n    .dataframe tbody tr th:only-of-type {\n        vertical-align: middle;\n    }\n\n    .dataframe tbody tr th {\n        vertical-align: top;\n    }\n\n    .dataframe thead th {\n        text-align: right;\n    }\n</style>\n<table border=\"1\" class=\"dataframe\">\n  <thead>\n    <tr style=\"text-align: right;\">\n      <th></th>\n      <th>hostname</th>\n      <th>pathname</th>\n      <th>filetype</th>\n      <th>filename</th>\n      <th>pragma</th>\n      <th>content-type</th>\n      <th>last-modified</th>\n      <th>accept-ranges</th>\n      <th>etag</th>\n      <th>p3p</th>\n      <th>...</th>\n      <th>x-b3-sampled</th>\n      <th>x-b3-spanid</th>\n      <th>x-hubspot-correlation-id</th>\n      <th>x-hs-target-asset</th>\n      <th>x-hostname</th>\n      <th>x-cdn-pop</th>\n      <th>x-cdn-pop-ip</th>\n      <th>tracker</th>\n      <th>comb_col_non_tracker</th>\n      <th>comb_col_tracker</th>\n    </tr>\n  </thead>\n  <tbody>\n    <tr>\n      <th>0</th>\n      <td>tpc.googlesyndication.com</td>\n      <td>/pagead/js/r20220810/r20110914/client/one_clic...</td>\n      <td>js</td>\n      <td>one_click_handler_one_afma_fy2021.js</td>\n      <td>NaN</td>\n      <td>text/javascript; charset=utf-8</td>\n      <td>NaN</td>\n      <td>NaN</td>\n      <td>15601544113783900868</td>\n      <td>policyref=\"https://www.googleadservices.com/pa...</td>\n      <td>...</td>\n      <td>NaN</td>\n      <td>NaN</td>\n      <td>NaN</td>\n      <td>NaN</td>\n      <td>NaN</td>\n      <td>NaN</td>\n      <td>NaN</td>\n      <td>1</td>\n      <td>0</td>\n      <td>0</td>\n    </tr>\n    <tr>\n      <th>1</th>\n      <td>res.cdn.office.net</td>\n      <td>/officehub/bundles/staying-aware.b8b088b355c55...</td>\n      <td>js</td>\n      <td>staying-aware.b8b088b355c55b4ea7d6.chunk.v6.js</td>\n      <td>NaN</td>\n      <td>application/javascript</td>\n      <td>mon, 08 aug 2022 21:56:59 gmt</td>\n      <td>NaN</td>\n      <td>NaN</td>\n      <td>NaN</td>\n      <td>...</td>\n      <td>NaN</td>\n      <td>NaN</td>\n      <td>NaN</td>\n      <td>NaN</td>\n      <td>NaN</td>\n      <td>NaN</td>\n      <td>NaN</td>\n      <td>0</td>\n      <td>2</td>\n      <td>0</td>\n    </tr>\n    <tr>\n      <th>2</th>\n      <td>www.google.com</td>\n      <td>/ads/ga-audiences</td>\n      <td>/ads/ga-audiences</td>\n      <td>ga-audiences</td>\n      <td>no-cache</td>\n      <td>image/gif</td>\n      <td>NaN</td>\n      <td>NaN</td>\n      <td>NaN</td>\n      <td>policyref=\"https://www.googleadservices.com/pa...</td>\n      <td>...</td>\n      <td>NaN</td>\n      <td>NaN</td>\n      <td>NaN</td>\n      <td>NaN</td>\n      <td>NaN</td>\n      <td>NaN</td>\n      <td>NaN</td>\n      <td>1</td>\n      <td>0</td>\n      <td>0</td>\n    </tr>\n    <tr>\n      <th>3</th>\n      <td>ipv4-c113-lhr004-ix.1.oca.nflxvideo.net</td>\n      <td>/speedtest/range/0-0</td>\n      <td>/speedtest/range/0-0</td>\n      <td>0-0</td>\n      <td>no-cache</td>\n      <td>NaN</td>\n      <td>NaN</td>\n      <td>NaN</td>\n      <td>NaN</td>\n      <td>NaN</td>\n      <td>...</td>\n      <td>NaN</td>\n      <td>NaN</td>\n      <td>NaN</td>\n      <td>NaN</td>\n      <td>NaN</td>\n      <td>NaN</td>\n      <td>NaN</td>\n      <td>0</td>\n      <td>1</td>\n      <td>0</td>\n    </tr>\n    <tr>\n      <th>4</th>\n      <td>shimo.im</td>\n      <td>/</td>\n      <td>/</td>\n      <td></td>\n      <td>NaN</td>\n      <td>text/html; charset=utf-8</td>\n      <td>NaN</td>\n      <td>NaN</td>\n      <td>NaN</td>\n      <td>NaN</td>\n      <td>...</td>\n      <td>NaN</td>\n      <td>NaN</td>\n      <td>NaN</td>\n      <td>NaN</td>\n      <td>NaN</td>\n      <td>NaN</td>\n      <td>NaN</td>\n      <td>0</td>\n      <td>1</td>\n      <td>0</td>\n    </tr>\n    <tr>\n      <th>...</th>\n      <td>...</td>\n      <td>...</td>\n      <td>...</td>\n      <td>...</td>\n      <td>...</td>\n      <td>...</td>\n      <td>...</td>\n      <td>...</td>\n      <td>...</td>\n      <td>...</td>\n      <td>...</td>\n      <td>...</td>\n      <td>...</td>\n      <td>...</td>\n      <td>...</td>\n      <td>...</td>\n      <td>...</td>\n      <td>...</td>\n      <td>...</td>\n      <td>...</td>\n      <td>...</td>\n    </tr>\n    <tr>\n      <th>271999</th>\n      <td>www.criteo.com</td>\n      <td>/wp-content/uploads/2021/01/ss-logo-Lamps-Plus...</td>\n      <td>png</td>\n      <td>ss-logo-Lamps-Plus.png</td>\n      <td>NaN</td>\n      <td>image/png</td>\n      <td>fri, 12 nov 2021 05:09:38 gmt</td>\n      <td>bytes</td>\n      <td>\"618df712-2509\"</td>\n      <td>NaN</td>\n      <td>...</td>\n      <td>NaN</td>\n      <td>NaN</td>\n      <td>NaN</td>\n      <td>NaN</td>\n      <td>NaN</td>\n      <td>NaN</td>\n      <td>NaN</td>\n      <td>0</td>\n      <td>5</td>\n      <td>0</td>\n    </tr>\n    <tr>\n      <th>272000</th>\n      <td>ads.adfox.ru</td>\n      <td>/260122/event</td>\n      <td>/260122/event</td>\n      <td>event</td>\n      <td>no-cache</td>\n      <td>NaN</td>\n      <td>fri, 12 aug 2022 09:22:13 gmt</td>\n      <td>NaN</td>\n      <td>NaN</td>\n      <td>NaN</td>\n      <td>...</td>\n      <td>NaN</td>\n      <td>NaN</td>\n      <td>NaN</td>\n      <td>NaN</td>\n      <td>NaN</td>\n      <td>NaN</td>\n      <td>NaN</td>\n      <td>1</td>\n      <td>0</td>\n      <td>0</td>\n    </tr>\n    <tr>\n      <th>272001</th>\n      <td>synostatic.synology.com</td>\n      <td>/font/inter/inter-w400-6.woff2</td>\n      <td>woff2</td>\n      <td>inter-w400-6.woff2</td>\n      <td>NaN</td>\n      <td>binary/octet-stream</td>\n      <td>mon, 20 dec 2021 02:24:19 gmt</td>\n      <td>bytes</td>\n      <td>\"4abfa4888190370d347034f9fa43c804\"</td>\n      <td>NaN</td>\n      <td>...</td>\n      <td>NaN</td>\n      <td>NaN</td>\n      <td>NaN</td>\n      <td>NaN</td>\n      <td>NaN</td>\n      <td>NaN</td>\n      <td>NaN</td>\n      <td>0</td>\n      <td>0</td>\n      <td>0</td>\n    </tr>\n    <tr>\n      <th>272002</th>\n      <td>tenor.com</td>\n      <td>/opensearch.xml</td>\n      <td>xml</td>\n      <td>opensearch.xml</td>\n      <td>NaN</td>\n      <td>application/xml</td>\n      <td>thu, 26 apr 2018 18:25:27 gmt</td>\n      <td>bytes</td>\n      <td>w/\"29a-1630333f5d8\"</td>\n      <td>NaN</td>\n      <td>...</td>\n      <td>NaN</td>\n      <td>NaN</td>\n      <td>NaN</td>\n      <td>NaN</td>\n      <td>NaN</td>\n      <td>NaN</td>\n      <td>NaN</td>\n      <td>0</td>\n      <td>2</td>\n      <td>0</td>\n    </tr>\n    <tr>\n      <th>272003</th>\n      <td>r.bing.com</td>\n      <td>/rp/l_yPzUao8Z_UiytFemwYCOTvU_U.br.js</td>\n      <td>js</td>\n      <td>l_yPzUao8Z_UiytFemwYCOTvU_U.br.js</td>\n      <td>NaN</td>\n      <td>text/javascript; charset=utf-8</td>\n      <td>wed, 03 aug 2022 12:04:53 gmt</td>\n      <td>NaN</td>\n      <td>0x8da754860160d55</td>\n      <td>NaN</td>\n      <td>...</td>\n      <td>NaN</td>\n      <td>NaN</td>\n      <td>NaN</td>\n      <td>NaN</td>\n      <td>NaN</td>\n      <td>NaN</td>\n      <td>NaN</td>\n      <td>0</td>\n      <td>6</td>\n      <td>0</td>\n    </tr>\n  </tbody>\n</table>\n<p>272004 rows × 157 columns</p>\n</div>"
     },
     "execution_count": 8,
     "metadata": {},
     "output_type": "execute_result"
    }
   ],
   "source": [
    "train_data"
   ],
   "metadata": {
    "collapsed": false
   }
  },
  {
   "cell_type": "code",
   "execution_count": 9,
   "outputs": [
    {
     "data": {
      "text/plain": "                            hostname  \\\n0                         vuukle.com   \n1                         vuukle.com   \n2                         vuukle.com   \n3                         vuukle.com   \n4           cookie-cdn.cookiepro.com   \n...                              ...   \n498363      nt.global.ssl.fastly.net   \n498364  region1.google-analytics.com   \n498365  region1.google-analytics.com   \n498366      nt.global.ssl.fastly.net   \n498367      nt.global.ssl.fastly.net   \n\n                                                 pathname    filetype  \\\n0                               /a3a95d10e1d03fe77d6b.png         png   \n1                            /589.1b85456a4e062e8d6232.js          js   \n2                               /29eab20501ed73f16eba.jpg         jpg   \n3                               /22ab1ea08fc1962409f1.png         png   \n4                        /scripttemplates/6.19.0/otTCF.js          js   \n...                                                   ...         ...   \n498363                  /images/1431839055959-1428713.jpg         jpg   \n498364                                         /g/collect  /g/collect   \n498365                                         /g/collect  /g/collect   \n498366  /images/1431846945741-petworthbeautiesbeautyro...         jpg   \n498367  /images/1431916578538-porthmearbarn-livingarea...         jpg   \n\n                                                 filename  \\\n0                                a3a95d10e1d03fe77d6b.png   \n1                             589.1b85456a4e062e8d6232.js   \n2                                29eab20501ed73f16eba.jpg   \n3                                22ab1ea08fc1962409f1.png   \n4                                                otTCF.js   \n...                                                   ...   \n498363                          1431839055959-1428713.jpg   \n498364                                            collect   \n498365                                            collect   \n498366       1431846945741-petworthbeautiesbeautyroom.jpg   \n498367  1431916578538-porthmearbarn-livingarea-mikehen...   \n\n                                 date            content-type  content-length  \\\n0       fri, 12 aug 2022 22:10:52 gmt              image/webp           15780   \n1       fri, 12 aug 2022 22:10:52 gmt  application/javascript            1539   \n2       fri, 12 aug 2022 22:10:52 gmt              image/webp            9952   \n3       fri, 12 aug 2022 22:10:52 gmt              image/webp           41109   \n4       fri, 12 aug 2022 22:10:52 gmt  application/javascript            <NA>   \n...                               ...                     ...             ...   \n498363  fri, 12 aug 2022 17:28:58 gmt              image/webp             230   \n498364  fri, 12 aug 2022 17:28:58 gmt              text/plain               0   \n498365  fri, 12 aug 2022 17:28:58 gmt              text/plain               0   \n498366  fri, 12 aug 2022 17:28:58 gmt              image/webp             206   \n498367  fri, 12 aug 2022 17:28:58 gmt              image/webp             186   \n\n                              cache-control  \\\n0                      public, max-age=7200   \n1                      public, max-age=7200   \n2                      public, max-age=7200   \n3                      public, max-age=7200   \n4                     public, max-age=14400   \n...                                     ...   \n498363                                  NaN   \n498364  no-cache, no-store, must-revalidate   \n498365  no-cache, no-store, must-revalidate   \n498366                                  NaN   \n498367                                  NaN   \n\n                                      content-disposition  \\\n0            inline; filename=\"a3a95d10e1d03fe77d6b.webp\"   \n1                                                     NaN   \n2            inline; filename=\"29eab20501ed73f16eba.webp\"   \n3            inline; filename=\"22ab1ea08fc1962409f1.webp\"   \n4                                                     NaN   \n...                                                   ...   \n498363  inline;filename=1428713.jpg;filename*=utf-8''1...   \n498364                                                NaN   \n498365                                                NaN   \n498366  inline;filename=petworthbeauties_beautyroom.jp...   \n498367  inline;filename=porthmearbarn-livingarea-mikeh...   \n\n                                                 etag  ... x-via-ssl  \\\n0                  \"a76e19b58c5103936ca99a64e6c1d71d\"  ...       NaN   \n1                w/\"573591b2d822f76e9fa661dcdc83c284\"  ...       NaN   \n2                  \"97fe776c2cbd2cbaa24192f89eaefc74\"  ...       NaN   \n3                  \"6193272dc9caf2486c404218e1380542\"  ...       NaN   \n4                                                 NaN  ...       NaN   \n...                                               ...  ...       ...   \n498363  \"lp0kw1rx62w0lmnah1yusy/dyxtczm9x1svbssqydcu\"  ...       NaN   \n498364                                            NaN  ...       NaN   \n498365                                            NaN  ...       NaN   \n498366  \"a+x3kgq0g9qfmdlswkdp6yvat8wg4xh1vd6lv4reg+o\"  ...       NaN   \n498367  \"lbpv4w5y6co+pvn5k4jlxuabj/irpfemcsmusla4now\"  ...       NaN   \n\n       request-time access-control-request-method fss-proxy  x-dc x-llid  \\\n0               NaN                           NaN       NaN   NaN    NaN   \n1               NaN                           NaN       NaN   NaN    NaN   \n2               NaN                           NaN       NaN   NaN    NaN   \n3               NaN                           NaN       NaN   NaN    NaN   \n4               NaN                           NaN       NaN   NaN    NaN   \n...             ...                           ...       ...   ...    ...   \n498363          NaN                           NaN       NaN   NaN    NaN   \n498364          NaN                           NaN       NaN   NaN    NaN   \n498365          NaN                           NaN       NaN   NaN    NaN   \n498366          NaN                           NaN       NaN   NaN    NaN   \n498367          NaN                           NaN       NaN   NaN    NaN   \n\n       x-b3-sampled tracker comb_col_non_tracker comb_col_tracker  \n0               NaN       0                    3                0  \n1               NaN       0                    2                0  \n2               NaN       0                    3                0  \n3               NaN       0                    3                0  \n4               NaN       0                    4                0  \n...             ...     ...                  ...              ...  \n498363          NaN       0                    3                0  \n498364          NaN       1                    0                0  \n498365          NaN       1                    0                0  \n498366          NaN       0                    3                0  \n498367          NaN       0                    3                0  \n\n[498368 rows x 157 columns]",
      "text/html": "<div>\n<style scoped>\n    .dataframe tbody tr th:only-of-type {\n        vertical-align: middle;\n    }\n\n    .dataframe tbody tr th {\n        vertical-align: top;\n    }\n\n    .dataframe thead th {\n        text-align: right;\n    }\n</style>\n<table border=\"1\" class=\"dataframe\">\n  <thead>\n    <tr style=\"text-align: right;\">\n      <th></th>\n      <th>hostname</th>\n      <th>pathname</th>\n      <th>filetype</th>\n      <th>filename</th>\n      <th>date</th>\n      <th>content-type</th>\n      <th>content-length</th>\n      <th>cache-control</th>\n      <th>content-disposition</th>\n      <th>etag</th>\n      <th>...</th>\n      <th>x-via-ssl</th>\n      <th>request-time</th>\n      <th>access-control-request-method</th>\n      <th>fss-proxy</th>\n      <th>x-dc</th>\n      <th>x-llid</th>\n      <th>x-b3-sampled</th>\n      <th>tracker</th>\n      <th>comb_col_non_tracker</th>\n      <th>comb_col_tracker</th>\n    </tr>\n  </thead>\n  <tbody>\n    <tr>\n      <th>0</th>\n      <td>vuukle.com</td>\n      <td>/a3a95d10e1d03fe77d6b.png</td>\n      <td>png</td>\n      <td>a3a95d10e1d03fe77d6b.png</td>\n      <td>fri, 12 aug 2022 22:10:52 gmt</td>\n      <td>image/webp</td>\n      <td>15780</td>\n      <td>public, max-age=7200</td>\n      <td>inline; filename=\"a3a95d10e1d03fe77d6b.webp\"</td>\n      <td>\"a76e19b58c5103936ca99a64e6c1d71d\"</td>\n      <td>...</td>\n      <td>NaN</td>\n      <td>NaN</td>\n      <td>NaN</td>\n      <td>NaN</td>\n      <td>NaN</td>\n      <td>NaN</td>\n      <td>NaN</td>\n      <td>0</td>\n      <td>3</td>\n      <td>0</td>\n    </tr>\n    <tr>\n      <th>1</th>\n      <td>vuukle.com</td>\n      <td>/589.1b85456a4e062e8d6232.js</td>\n      <td>js</td>\n      <td>589.1b85456a4e062e8d6232.js</td>\n      <td>fri, 12 aug 2022 22:10:52 gmt</td>\n      <td>application/javascript</td>\n      <td>1539</td>\n      <td>public, max-age=7200</td>\n      <td>NaN</td>\n      <td>w/\"573591b2d822f76e9fa661dcdc83c284\"</td>\n      <td>...</td>\n      <td>NaN</td>\n      <td>NaN</td>\n      <td>NaN</td>\n      <td>NaN</td>\n      <td>NaN</td>\n      <td>NaN</td>\n      <td>NaN</td>\n      <td>0</td>\n      <td>2</td>\n      <td>0</td>\n    </tr>\n    <tr>\n      <th>2</th>\n      <td>vuukle.com</td>\n      <td>/29eab20501ed73f16eba.jpg</td>\n      <td>jpg</td>\n      <td>29eab20501ed73f16eba.jpg</td>\n      <td>fri, 12 aug 2022 22:10:52 gmt</td>\n      <td>image/webp</td>\n      <td>9952</td>\n      <td>public, max-age=7200</td>\n      <td>inline; filename=\"29eab20501ed73f16eba.webp\"</td>\n      <td>\"97fe776c2cbd2cbaa24192f89eaefc74\"</td>\n      <td>...</td>\n      <td>NaN</td>\n      <td>NaN</td>\n      <td>NaN</td>\n      <td>NaN</td>\n      <td>NaN</td>\n      <td>NaN</td>\n      <td>NaN</td>\n      <td>0</td>\n      <td>3</td>\n      <td>0</td>\n    </tr>\n    <tr>\n      <th>3</th>\n      <td>vuukle.com</td>\n      <td>/22ab1ea08fc1962409f1.png</td>\n      <td>png</td>\n      <td>22ab1ea08fc1962409f1.png</td>\n      <td>fri, 12 aug 2022 22:10:52 gmt</td>\n      <td>image/webp</td>\n      <td>41109</td>\n      <td>public, max-age=7200</td>\n      <td>inline; filename=\"22ab1ea08fc1962409f1.webp\"</td>\n      <td>\"6193272dc9caf2486c404218e1380542\"</td>\n      <td>...</td>\n      <td>NaN</td>\n      <td>NaN</td>\n      <td>NaN</td>\n      <td>NaN</td>\n      <td>NaN</td>\n      <td>NaN</td>\n      <td>NaN</td>\n      <td>0</td>\n      <td>3</td>\n      <td>0</td>\n    </tr>\n    <tr>\n      <th>4</th>\n      <td>cookie-cdn.cookiepro.com</td>\n      <td>/scripttemplates/6.19.0/otTCF.js</td>\n      <td>js</td>\n      <td>otTCF.js</td>\n      <td>fri, 12 aug 2022 22:10:52 gmt</td>\n      <td>application/javascript</td>\n      <td>&lt;NA&gt;</td>\n      <td>public, max-age=14400</td>\n      <td>NaN</td>\n      <td>NaN</td>\n      <td>...</td>\n      <td>NaN</td>\n      <td>NaN</td>\n      <td>NaN</td>\n      <td>NaN</td>\n      <td>NaN</td>\n      <td>NaN</td>\n      <td>NaN</td>\n      <td>0</td>\n      <td>4</td>\n      <td>0</td>\n    </tr>\n    <tr>\n      <th>...</th>\n      <td>...</td>\n      <td>...</td>\n      <td>...</td>\n      <td>...</td>\n      <td>...</td>\n      <td>...</td>\n      <td>...</td>\n      <td>...</td>\n      <td>...</td>\n      <td>...</td>\n      <td>...</td>\n      <td>...</td>\n      <td>...</td>\n      <td>...</td>\n      <td>...</td>\n      <td>...</td>\n      <td>...</td>\n      <td>...</td>\n      <td>...</td>\n      <td>...</td>\n      <td>...</td>\n    </tr>\n    <tr>\n      <th>498363</th>\n      <td>nt.global.ssl.fastly.net</td>\n      <td>/images/1431839055959-1428713.jpg</td>\n      <td>jpg</td>\n      <td>1431839055959-1428713.jpg</td>\n      <td>fri, 12 aug 2022 17:28:58 gmt</td>\n      <td>image/webp</td>\n      <td>230</td>\n      <td>NaN</td>\n      <td>inline;filename=1428713.jpg;filename*=utf-8''1...</td>\n      <td>\"lp0kw1rx62w0lmnah1yusy/dyxtczm9x1svbssqydcu\"</td>\n      <td>...</td>\n      <td>NaN</td>\n      <td>NaN</td>\n      <td>NaN</td>\n      <td>NaN</td>\n      <td>NaN</td>\n      <td>NaN</td>\n      <td>NaN</td>\n      <td>0</td>\n      <td>3</td>\n      <td>0</td>\n    </tr>\n    <tr>\n      <th>498364</th>\n      <td>region1.google-analytics.com</td>\n      <td>/g/collect</td>\n      <td>/g/collect</td>\n      <td>collect</td>\n      <td>fri, 12 aug 2022 17:28:58 gmt</td>\n      <td>text/plain</td>\n      <td>0</td>\n      <td>no-cache, no-store, must-revalidate</td>\n      <td>NaN</td>\n      <td>NaN</td>\n      <td>...</td>\n      <td>NaN</td>\n      <td>NaN</td>\n      <td>NaN</td>\n      <td>NaN</td>\n      <td>NaN</td>\n      <td>NaN</td>\n      <td>NaN</td>\n      <td>1</td>\n      <td>0</td>\n      <td>0</td>\n    </tr>\n    <tr>\n      <th>498365</th>\n      <td>region1.google-analytics.com</td>\n      <td>/g/collect</td>\n      <td>/g/collect</td>\n      <td>collect</td>\n      <td>fri, 12 aug 2022 17:28:58 gmt</td>\n      <td>text/plain</td>\n      <td>0</td>\n      <td>no-cache, no-store, must-revalidate</td>\n      <td>NaN</td>\n      <td>NaN</td>\n      <td>...</td>\n      <td>NaN</td>\n      <td>NaN</td>\n      <td>NaN</td>\n      <td>NaN</td>\n      <td>NaN</td>\n      <td>NaN</td>\n      <td>NaN</td>\n      <td>1</td>\n      <td>0</td>\n      <td>0</td>\n    </tr>\n    <tr>\n      <th>498366</th>\n      <td>nt.global.ssl.fastly.net</td>\n      <td>/images/1431846945741-petworthbeautiesbeautyro...</td>\n      <td>jpg</td>\n      <td>1431846945741-petworthbeautiesbeautyroom.jpg</td>\n      <td>fri, 12 aug 2022 17:28:58 gmt</td>\n      <td>image/webp</td>\n      <td>206</td>\n      <td>NaN</td>\n      <td>inline;filename=petworthbeauties_beautyroom.jp...</td>\n      <td>\"a+x3kgq0g9qfmdlswkdp6yvat8wg4xh1vd6lv4reg+o\"</td>\n      <td>...</td>\n      <td>NaN</td>\n      <td>NaN</td>\n      <td>NaN</td>\n      <td>NaN</td>\n      <td>NaN</td>\n      <td>NaN</td>\n      <td>NaN</td>\n      <td>0</td>\n      <td>3</td>\n      <td>0</td>\n    </tr>\n    <tr>\n      <th>498367</th>\n      <td>nt.global.ssl.fastly.net</td>\n      <td>/images/1431916578538-porthmearbarn-livingarea...</td>\n      <td>jpg</td>\n      <td>1431916578538-porthmearbarn-livingarea-mikehen...</td>\n      <td>fri, 12 aug 2022 17:28:58 gmt</td>\n      <td>image/webp</td>\n      <td>186</td>\n      <td>NaN</td>\n      <td>inline;filename=porthmearbarn-livingarea-mikeh...</td>\n      <td>\"lbpv4w5y6co+pvn5k4jlxuabj/irpfemcsmusla4now\"</td>\n      <td>...</td>\n      <td>NaN</td>\n      <td>NaN</td>\n      <td>NaN</td>\n      <td>NaN</td>\n      <td>NaN</td>\n      <td>NaN</td>\n      <td>NaN</td>\n      <td>0</td>\n      <td>3</td>\n      <td>0</td>\n    </tr>\n  </tbody>\n</table>\n<p>498368 rows × 157 columns</p>\n</div>"
     },
     "execution_count": 9,
     "metadata": {},
     "output_type": "execute_result"
    }
   ],
   "source": [
    "test_data"
   ],
   "metadata": {
    "collapsed": false
   }
  },
  {
   "cell_type": "code",
   "execution_count": 7,
   "outputs": [],
   "source": [
    "train_data.drop('header_count', axis=1, inplace=True)"
   ],
   "metadata": {
    "collapsed": false
   }
  },
  {
   "cell_type": "code",
   "execution_count": 10,
   "outputs": [],
   "source": [
    "train_data = train_data.iloc[:, 4:]\n",
    "test_data = test_data.iloc[:, 4:]"
   ],
   "metadata": {
    "collapsed": false
   }
  },
  {
   "cell_type": "code",
   "execution_count": 129,
   "outputs": [],
   "source": [
    "a = (\n",
    "    train_data[train_data[\"content-length\"].notnull()][\"content-length\"]\n",
    "    .to_numpy()\n",
    "    .astype(np.int64)\n",
    ")"
   ],
   "metadata": {
    "collapsed": false
   }
  },
  {
   "cell_type": "code",
   "execution_count": 130,
   "outputs": [
    {
     "data": {
      "text/plain": "<Figure size 2160x504 with 1 Axes>",
      "image/png": "[encoded data removed]"
     },
     "metadata": {},
     "output_type": "display_data"
    }
   ],
   "source": [
    "fig2 = plt.figure(figsize=(30, 7))\n",
    "ax3 = fig2.add_subplot(1, 2, 1)\n",
    "probplot(a, dist=\"norm\", plot=ax3)\n",
    "fig2.tight_layout()\n",
    "plt.show()"
   ],
   "metadata": {
    "collapsed": false
   }
  },
  {
   "cell_type": "code",
   "execution_count": 6,
   "outputs": [],
   "source": [
    "def check_distribution(dataset, feature, distribution):\n",
    "    values = dataset[dataset[feature].notnull()][feature]\n",
    "    sample_size = {5001: 1067, 5000: 880, 2500: 748, 1000: 516, 500: 341, 200: 169}\n",
    "    sample_values = [v for v in sample_size.keys() if len(values) > v]\n",
    "    if len(sample_values) == 0:\n",
    "        n = int(len(values) * 0.1)\n",
    "    else:\n",
    "        n = sample_size[sample_values[0]]\n",
    "    feature_values = values.sample(n=n, random_state=10).to_numpy().astype(np.int64)\n",
    "    stat, p_value = shapiro(feature_values)  # kstest(feature_values, 'norm')\n",
    "    return stat, p_value"
   ],
   "metadata": {
    "collapsed": false
   }
  },
  {
   "cell_type": "code",
   "execution_count": 28,
   "outputs": [],
   "source": [
    "list_of_integer_cols = list(train_data.select_dtypes(\"Int64\").columns.values.tolist())\n",
    "list_of_float_cols = list(train_data.select_dtypes(\"Float64\").columns.values.tolist())"
   ],
   "metadata": {
    "collapsed": false
   }
  },
  {
   "cell_type": "code",
   "execution_count": 23,
   "outputs": [
    {
     "data": {
      "text/plain": "['content-length',\n 'x-robots-tag_binary',\n 'connection_binary',\n 'x-amz-server-side-encryption_binary',\n 'x-amz-version-id_binary',\n 'x-cache_binary',\n 'via_binary',\n 'x-amz-cf-pop_binary',\n 'x-amz-cf-id_binary',\n 'x-guploader-uploadid_binary',\n 'x-goog-generation_binary',\n 'x-goog-hash_binary',\n 'x-goog-storage-class_binary',\n 'cf-cache-status_binary',\n 'expect-ct_binary',\n 'report-to_binary',\n 'nel_binary',\n 'cf-ray_binary',\n 'set-cookie_binary',\n 'content-security-policy-report-only_binary',\n 'access-control-expose-headers_binary',\n 'access-control-allow-headers_binary',\n 'access-control-max-age_binary',\n 'x-powered-by_binary',\n 'cross-origin-opener-policy-report-only_binary',\n 'content-security-policy_binary',\n 'cross-origin-opener-policy_binary',\n 'x-frame-options_binary',\n 'x-fb-debug_binary',\n 'priority_binary',\n 'x-amz-id-2_binary',\n 'x-amz-request-id_binary',\n 'access-control-allow-methods_binary',\n 'x-served-by_binary',\n 'edge-control_binary',\n 'permissions-policy_binary',\n 'referrer-policy_binary',\n 'x-edgeconnect-midmile-rtt_binary',\n 'x-edgeconnect-origin-mex-latency_binary',\n 'trace-id_binary',\n 'x-envoy-upstream-service-time_binary',\n 'x-timer_binary',\n 'x-aspnet-version_binary',\n 'content-disposition_binary',\n 'accept-ch_binary',\n 'akamai-grn_binary',\n 'x-amz-replication-status_binary',\n 'x-amz-rid_binary',\n 'accept-ch-lifetime_binary',\n 'x-amzn-requestid_binary',\n 'x-hw_binary',\n 'x-edge-location_binary',\n 'x-dns-prefetch-control_binary',\n 'x-request-id_binary',\n 'x-c_binary',\n 'cross-origin-embedder-policy_binary',\n 'x-response-time_binary',\n 'x-connection-hash_binary',\n 'x-amzn-trace-id_binary',\n 'x-cache-hit_binary',\n 'x-traceid_binary',\n 'x-runtime_binary',\n 'status_binary',\n 'x-permitted-cross-domain-policies_binary',\n 'x-dc_binary',\n 'x-tt-logid_binary',\n 'x-tt-trace-host_binary',\n 'x-origin-response-time_binary',\n 'x-akamai-request-id_binary',\n 'x-cache-remote_binary',\n 'x-tt-trace-tag_binary',\n 'x-parent-response-time_binary',\n 'x-region_binary',\n 'x-msedge-ref_binary',\n 'x-tw-cdn_binary',\n 'x-cdn_binary',\n 'retry-after_binary',\n 'x-pinterest-rid_binary',\n 'x-li-fabric_binary',\n 'x-li-pop_binary',\n 'x-li-proto_binary',\n 'x-li-uuid_binary',\n 'request-context_binary',\n 'x-azure-ref_binary',\n 'x-amz-meta-mtime_binary',\n 'request-time_binary',\n 'x-application-context_binary',\n 'x-envoy-decorator-operation_binary',\n 'x-server_binary',\n 'x-host_binary',\n 'ms-cv_binary',\n 'x-trace-id_binary',\n 'x-datacenter_binary',\n 'access-control-request-method_binary',\n 'x-via-ssl_binary',\n 'x-server-name_binary',\n 'x-b3-traceid_binary',\n 'cdn-pullzone_binary',\n 'cdn-uid_binary',\n 'cdn-requestcountrycode_binary',\n 'cdn-proxyver_binary',\n 'cdn-requestpullcode_binary',\n 'cdn-cachedat_binary',\n 'cdn-status_binary',\n 'cdn-requestid_binary',\n 'cdn-storageserver_binary',\n 'cdn-fileserver_binary',\n 'fss-proxy_binary',\n 'x-amz-expiration_binary',\n 'x-amz-meta-s3cmd-attrs_binary',\n 'x-amz-apigw-id_binary',\n 'x-yandex-req-id_binary',\n 'request-id_binary',\n 'server-processing-duration-in-ticks_binary',\n 'x-fastly-to-nlb-rtt_binary',\n 'x-aspnetmvc-version_binary',\n 'x-vcl-time-ms_binary',\n 'requestid_binary',\n 'x-amz-meta-codebuild-content-sha256_binary',\n 'x-amz-meta-codebuild-buildarn_binary',\n 'x-amz-meta-codebuild-content-md5_binary',\n 'x-llid_binary',\n 'x-b3-sampled_binary',\n 'x-b3-spanid_binary',\n 'x-hubspot-correlation-id_binary',\n 'x-hs-target-asset_binary',\n 'x-hostname_binary',\n 'x-cdn-pop_binary',\n 'x-cdn-pop-ip_binary']"
     },
     "execution_count": 23,
     "metadata": {},
     "output_type": "execute_result"
    }
   ],
   "source": [
    "list_of_integer_cols"
   ],
   "metadata": {
    "collapsed": false
   }
  },
  {
   "cell_type": "code",
   "execution_count": 13,
   "outputs": [],
   "source": [
    "train_data[\"comb_col_non_tracker\"] = train_data[\"comb_col_non_tracker\"].astype(\"uint8\")\n",
    "train_data[\"comb_col_tracker\"] = train_data[\"comb_col_tracker\"].astype(\"uint8\")\n",
    "train_data[\"header_count\"] = train_data[\"header_count\"].astype(\"uint8\")\n",
    "train_data[\"tracker\"] = train_data[\"tracker\"].astype(\"uint8\")"
   ],
   "metadata": {
    "collapsed": false
   }
  },
  {
   "cell_type": "code",
   "execution_count": 14,
   "outputs": [],
   "source": [
    "test_data[\"comb_col_non_tracker\"] = test_data[\"comb_col_non_tracker\"].astype(\"uint8\")\n",
    "test_data[\"comb_col_tracker\"] = test_data[\"comb_col_tracker\"].astype(\"uint8\")\n",
    "test_data[\"header_count\"] = test_data[\"header_count\"].astype(\"uint8\")\n",
    "test_data[\"tracker\"] = test_data[\"tracker\"].astype(\"uint8\")"
   ],
   "metadata": {
    "collapsed": false
   }
  },
  {
   "cell_type": "code",
   "execution_count": 17,
   "outputs": [
    {
     "name": "stdout",
     "output_type": "stream",
     "text": [
      "<class 'pandas.core.frame.DataFrame'>\n",
      "RangeIndex: 272004 entries, 0 to 272003\n",
      "Columns: 153 entries, pragma to comb_col_tracker\n",
      "dtypes: Int64(15), category(135), uint8(3)\n",
      "memory usage: 114.5 MB\n"
     ]
    }
   ],
   "source": [
    "train_data.info()"
   ],
   "metadata": {
    "collapsed": false
   }
  },
  {
   "cell_type": "code",
   "execution_count": 317,
   "outputs": [
    {
     "data": {
      "text/plain": "214.0"
     },
     "execution_count": 317,
     "metadata": {},
     "output_type": "execute_result"
    }
   ],
   "source": [
    "train_data[\"etag_length\"].max()"
   ],
   "metadata": {
    "collapsed": false
   }
  },
  {
   "cell_type": "code",
   "execution_count": 136,
   "outputs": [
    {
     "name": "stdout",
     "output_type": "stream",
     "text": [
      "(0.29529869556427, 0.0)\n",
      "(0.6642665863037109, 6.451095634664221e-36)\n",
      "(0.5888121128082275, 1.208368506451395e-27)\n",
      "(0.834446907043457, 1.9135712981441943e-18)\n",
      "(0.15520459413528442, 0.0)\n",
      "(0.26958900690078735, 1.7706358907953323e-34)\n",
      "(0.2968154549598694, 4.278720906236679e-25)\n",
      "(0.8256344795227051, 6.223809987347673e-13)\n",
      "(0.7801094055175781, 4.21312853166199e-21)\n",
      "(0.06737428903579712, 1.2599930966365826e-37)\n",
      "(0.09728425741195679, 3.3768185470753605e-37)\n",
      "(0.695381760597229, 2.8090679716663946e-17)\n",
      "(0.49541109800338745, 8.313267644966734e-22)\n",
      "(0.7211127281188965, 0.0009099743328988552)\n",
      "(0.33079594373703003, 1.3732526136828108e-24)\n"
     ]
    }
   ],
   "source": [
    "for col in list_of_integer_cols:\n",
    "    print(check_distribution(train_data, col, \"norm\"))"
   ],
   "metadata": {
    "collapsed": false
   }
  },
  {
   "cell_type": "code",
   "execution_count": 155,
   "outputs": [],
   "source": [
    "def compute_outlier_boundaries(dataset, feature, distribution):\n",
    "    if distribution == \"skewed\":\n",
    "        IQR = dataset[feature].quantile(0.75) - dataset[feature].quantile(0.25)\n",
    "        lower_boundary = dataset[feature].quantile(0.25) - (IQR * 1.5)\n",
    "        upper_boundary = dataset[feature].quantile(0.75) + (IQR * 1.5)\n",
    "        # print('Fare outliers are values < {lowerboundary} or > {upperboundary}'.format(lowerboundary=lower_boundary, upperboundary=upper_boundary))\n",
    "        return int(lower_boundary), int(upper_boundary)"
   ],
   "metadata": {
    "collapsed": false
   }
  },
  {
   "cell_type": "code",
   "execution_count": 142,
   "outputs": [
    {
     "name": "stdout",
     "output_type": "stream",
     "text": [
      "Fare outliers are values < -32819.5 or > 55592.5\n"
     ]
    }
   ],
   "source": [
    "compute_outlier_boundaries(train_data, \"content-length\", \"skewed\")"
   ],
   "metadata": {
    "collapsed": false
   }
  },
  {
   "cell_type": "code",
   "execution_count": 163,
   "outputs": [],
   "source": [
    "def cap_outlier_values(dataset, feature, lower_bound, upper_bound):\n",
    "    dataset.loc[dataset[feature] > upper_bound, feature] = upper_bound\n",
    "    dataset.loc[dataset[feature] < lower_bound, feature] = lower_bound\n",
    "\n",
    "    print(dataset[feature].describe())\n",
    "\n",
    "    # test_dataset.loc[test_dataset[feature] > upper_bound, feature] = upper_bound\n",
    "    # test_dataset.loc[test_dataset[feature] > lower_bound, feature] = lower_bound"
   ],
   "metadata": {
    "collapsed": false
   }
  },
  {
   "cell_type": "code",
   "execution_count": 146,
   "outputs": [],
   "source": [
    "data_copy = train_data.copy(deep=True)"
   ],
   "metadata": {
    "collapsed": false
   }
  },
  {
   "cell_type": "code",
   "execution_count": 165,
   "outputs": [
    {
     "name": "stdout",
     "output_type": "stream",
     "text": [
      "-32819 55592\n",
      "count    211540.0\n",
      "mean     -32819.0\n",
      "std           0.0\n",
      "min      -32819.0\n",
      "25%      -32819.0\n",
      "50%      -32819.0\n",
      "75%      -32819.0\n",
      "max      -32819.0\n",
      "Name: content-length, dtype: float64\n"
     ]
    }
   ],
   "source": [
    "low, up = compute_outlier_boundaries(data_copy, \"content-length\", \"skewed\")\n",
    "print(low, up)\n",
    "cap_outlier_values(train_data, \"content-length\", low, up)"
   ],
   "metadata": {
    "collapsed": false
   }
  },
  {
   "cell_type": "code",
   "execution_count": 180,
   "outputs": [
    {
     "data": {
      "text/plain": "array([13475, 4768, 42, ..., 57064, 666, 70473], dtype=object)"
     },
     "execution_count": 180,
     "metadata": {},
     "output_type": "execute_result"
    }
   ],
   "source": [
    "np.percentile(data_copy[data_copy[\"content-length\"].notnull()][\"content-length\"], 95)\n",
    "\n",
    "np.where(\n",
    "    data_copy[data_copy[\"content-length\"].notnull()][\"content-length\"] > 122660,\n",
    "    122660,\n",
    "    data_copy[data_copy[\"content-length\"].notnull()][\"content-length\"],\n",
    ")"
   ],
   "metadata": {
    "collapsed": false
   }
  },
  {
   "cell_type": "code",
   "execution_count": 127,
   "outputs": [],
   "source": [
    "# https://sparkbyexamples.com/pandas/pandas-change-position-of-a-column/\n",
    "def label_as_last_column(dataset):\n",
    "    temp_cols = dataset.columns.tolist()\n",
    "    index_col = dataset.columns.get_loc(\"tracker\")\n",
    "    new_col_order = (\n",
    "            temp_cols[0:index_col]\n",
    "            + temp_cols[index_col + 1:]\n",
    "            + temp_cols[index_col: index_col + 1]\n",
    "    )\n",
    "    return new_col_order"
   ],
   "metadata": {
    "collapsed": false
   }
  },
  {
   "cell_type": "code",
   "execution_count": 128,
   "outputs": [],
   "source": [
    "reordered_cols = label_as_last_column(train_data)\n",
    "train_data = train_data[reordered_cols]\n",
    "test_data = test_data[reordered_cols]"
   ],
   "metadata": {
    "collapsed": false
   }
  },
  {
   "cell_type": "code",
   "execution_count": 8,
   "outputs": [],
   "source": [
    "X_train, y_train = train_data.iloc[:, :-1], train_data[[\"tracker\"]]\n",
    "X_test, y_test = test_data.iloc[:, :-1], test_data[[\"tracker\"]]"
   ],
   "metadata": {
    "collapsed": false
   }
  },
  {
   "cell_type": "code",
   "execution_count": 18,
   "outputs": [],
   "source": [
    "def variance_per_column_2(column):\n",
    "    tracker_ratio = train_data[train_data[column].notnull()].tracker.value_counts()\n",
    "    try:\n",
    "        trackers = tracker_ratio[1]\n",
    "    except KeyError:\n",
    "        trackers = 0\n",
    "    try:\n",
    "        non_trackers = tracker_ratio[0]\n",
    "    except KeyError:\n",
    "        non_trackers = 0\n",
    "    return [column, trackers, non_trackers]"
   ],
   "metadata": {
    "collapsed": false
   }
  },
  {
   "cell_type": "markdown",
   "source": [
    "### ONLY THREE CAUSE HEADER_COUNT"
   ],
   "metadata": {
    "collapsed": false
   }
  },
  {
   "cell_type": "code",
   "execution_count": 20,
   "outputs": [],
   "source": [
    "number_of_elements_reduced = np.array(\n",
    "    [variance_per_column_2(column) for column in train_data.iloc[:, :-3].columns]\n",
    ")\n",
    "summary_table = pd.DataFrame(\n",
    "    number_of_elements_reduced, columns=[\"header_name\", \"trackers\", \"non_trackers\"]\n",
    ")\n",
    "\n",
    "summary_table[\"trackers\"] = summary_table[\"trackers\"].astype(\"Int32\")\n",
    "summary_table[\"non_trackers\"] = summary_table[\"non_trackers\"].astype(\"float32\")"
   ],
   "metadata": {
    "collapsed": false
   }
  },
  {
   "cell_type": "code",
   "execution_count": 21,
   "outputs": [],
   "source": [
    "number_of_trackers = len(train_data[train_data[\"tracker\"] == 1])\n",
    "number_of_non_trackers = len(train_data[train_data[\"tracker\"] == 0])\n",
    "summary_table[\"ratio_tracker\"] = summary_table[\"trackers\"] / number_of_trackers\n",
    "summary_table[\"ratio_non_tracker\"] = (\n",
    "        summary_table[\"non_trackers\"] / number_of_non_trackers\n",
    ")\n",
    "summary_table[\"tracker_na_ratio\"] = (\n",
    "    train_data[train_data[\"tracker\"] == 1].iloc[:, :-3].isnull().mean().values\n",
    ")\n",
    "summary_table[\"non_tracker_na_ratio\"] = (\n",
    "    train_data[train_data[\"tracker\"] == 0].iloc[:, :-3].isnull().mean().values\n",
    ")"
   ],
   "metadata": {
    "collapsed": false
   }
  },
  {
   "cell_type": "code",
   "execution_count": 22,
   "outputs": [
    {
     "data": {
      "text/plain": "                  header_name  trackers  non_trackers  ratio_tracker  \\\n0                      pragma     25805        8853.0       0.333747   \n1                content-type     70183      191835.0       0.907707   \n2               last-modified     27829      154469.0       0.359924   \n3               accept-ranges     15119      116366.0       0.195541   \n4                        etag     18194      129781.0       0.235311   \n..                        ...       ...           ...            ...   \n145  x-hubspot-correlation-id       127         267.0       0.001643   \n146         x-hs-target-asset        63          76.0       0.000815   \n147                x-hostname       116          61.0         0.0015   \n148                 x-cdn-pop        17         122.0        0.00022   \n149              x-cdn-pop-ip        17         122.0        0.00022   \n\n     ratio_non_tracker  tracker_na_ratio  non_tracker_na_ratio  \n0             0.045473          0.666253              0.954527  \n1             0.985361          0.092293              0.014639  \n2             0.793430          0.640076              0.206570  \n3             0.597714          0.804459              0.402286  \n4             0.666620          0.764689              0.333380  \n..                 ...               ...                   ...  \n145           0.001371          0.998357              0.998629  \n146           0.000390          0.999185              0.999610  \n147           0.000313          0.998500              0.999687  \n148           0.000627          0.999780              0.999373  \n149           0.000627          0.999780              0.999373  \n\n[150 rows x 7 columns]",
      "text/html": "<div>\n<style scoped>\n    .dataframe tbody tr th:only-of-type {\n        vertical-align: middle;\n    }\n\n    .dataframe tbody tr th {\n        vertical-align: top;\n    }\n\n    .dataframe thead th {\n        text-align: right;\n    }\n</style>\n<table border=\"1\" class=\"dataframe\">\n  <thead>\n    <tr style=\"text-align: right;\">\n      <th></th>\n      <th>header_name</th>\n      <th>trackers</th>\n      <th>non_trackers</th>\n      <th>ratio_tracker</th>\n      <th>ratio_non_tracker</th>\n      <th>tracker_na_ratio</th>\n      <th>non_tracker_na_ratio</th>\n    </tr>\n  </thead>\n  <tbody>\n    <tr>\n      <th>0</th>\n      <td>pragma</td>\n      <td>25805</td>\n      <td>8853.0</td>\n      <td>0.333747</td>\n      <td>0.045473</td>\n      <td>0.666253</td>\n      <td>0.954527</td>\n    </tr>\n    <tr>\n      <th>1</th>\n      <td>content-type</td>\n      <td>70183</td>\n      <td>191835.0</td>\n      <td>0.907707</td>\n      <td>0.985361</td>\n      <td>0.092293</td>\n      <td>0.014639</td>\n    </tr>\n    <tr>\n      <th>2</th>\n      <td>last-modified</td>\n      <td>27829</td>\n      <td>154469.0</td>\n      <td>0.359924</td>\n      <td>0.793430</td>\n      <td>0.640076</td>\n      <td>0.206570</td>\n    </tr>\n    <tr>\n      <th>3</th>\n      <td>accept-ranges</td>\n      <td>15119</td>\n      <td>116366.0</td>\n      <td>0.195541</td>\n      <td>0.597714</td>\n      <td>0.804459</td>\n      <td>0.402286</td>\n    </tr>\n    <tr>\n      <th>4</th>\n      <td>etag</td>\n      <td>18194</td>\n      <td>129781.0</td>\n      <td>0.235311</td>\n      <td>0.666620</td>\n      <td>0.764689</td>\n      <td>0.333380</td>\n    </tr>\n    <tr>\n      <th>...</th>\n      <td>...</td>\n      <td>...</td>\n      <td>...</td>\n      <td>...</td>\n      <td>...</td>\n      <td>...</td>\n      <td>...</td>\n    </tr>\n    <tr>\n      <th>145</th>\n      <td>x-hubspot-correlation-id</td>\n      <td>127</td>\n      <td>267.0</td>\n      <td>0.001643</td>\n      <td>0.001371</td>\n      <td>0.998357</td>\n      <td>0.998629</td>\n    </tr>\n    <tr>\n      <th>146</th>\n      <td>x-hs-target-asset</td>\n      <td>63</td>\n      <td>76.0</td>\n      <td>0.000815</td>\n      <td>0.000390</td>\n      <td>0.999185</td>\n      <td>0.999610</td>\n    </tr>\n    <tr>\n      <th>147</th>\n      <td>x-hostname</td>\n      <td>116</td>\n      <td>61.0</td>\n      <td>0.0015</td>\n      <td>0.000313</td>\n      <td>0.998500</td>\n      <td>0.999687</td>\n    </tr>\n    <tr>\n      <th>148</th>\n      <td>x-cdn-pop</td>\n      <td>17</td>\n      <td>122.0</td>\n      <td>0.00022</td>\n      <td>0.000627</td>\n      <td>0.999780</td>\n      <td>0.999373</td>\n    </tr>\n    <tr>\n      <th>149</th>\n      <td>x-cdn-pop-ip</td>\n      <td>17</td>\n      <td>122.0</td>\n      <td>0.00022</td>\n      <td>0.000627</td>\n      <td>0.999780</td>\n      <td>0.999373</td>\n    </tr>\n  </tbody>\n</table>\n<p>150 rows × 7 columns</p>\n</div>"
     },
     "execution_count": 22,
     "metadata": {},
     "output_type": "execute_result"
    }
   ],
   "source": [
    "summary_table"
   ],
   "metadata": {
    "collapsed": false
   }
  },
  {
   "cell_type": "code",
   "execution_count": 23,
   "outputs": [],
   "source": [
    "na_ratio_greater_than_85 = summary_table[\n",
    "    summary_table[\"tracker_na_ratio\"] >= 0.85\n",
    "    ].header_name.values.tolist()"
   ],
   "metadata": {
    "collapsed": false
   }
  },
  {
   "cell_type": "code",
   "execution_count": 24,
   "outputs": [
    {
     "name": "stderr",
     "output_type": "stream",
     "text": [
      "<ipython-input-24-9efd6fc69951>:4: PerformanceWarning: DataFrame is highly fragmented.  This is usually the result of calling `frame.insert` many times, which has poor performance.  Consider joining all columns at once using pd.concat(axis=1) instead. To get a de-fragmented frame, use `newframe = frame.copy()`\n",
      "  test_data[f\"{elem}_binary\"] = np.where(test_data[elem].isnull(), 0, 1)\n",
      "<ipython-input-24-9efd6fc69951>:4: PerformanceWarning: DataFrame is highly fragmented.  This is usually the result of calling `frame.insert` many times, which has poor performance.  Consider joining all columns at once using pd.concat(axis=1) instead. To get a de-fragmented frame, use `newframe = frame.copy()`\n",
      "  test_data[f\"{elem}_binary\"] = np.where(test_data[elem].isnull(), 0, 1)\n",
      "<ipython-input-24-9efd6fc69951>:3: PerformanceWarning: DataFrame is highly fragmented.  This is usually the result of calling `frame.insert` many times, which has poor performance.  Consider joining all columns at once using pd.concat(axis=1) instead. To get a de-fragmented frame, use `newframe = frame.copy()`\n",
      "  train_data[f\"{elem}_binary\"] = np.where(train_data[elem].isnull(), 0, 1)\n",
      "<ipython-input-24-9efd6fc69951>:4: PerformanceWarning: DataFrame is highly fragmented.  This is usually the result of calling `frame.insert` many times, which has poor performance.  Consider joining all columns at once using pd.concat(axis=1) instead. To get a de-fragmented frame, use `newframe = frame.copy()`\n",
      "  test_data[f\"{elem}_binary\"] = np.where(test_data[elem].isnull(), 0, 1)\n",
      "<ipython-input-24-9efd6fc69951>:3: PerformanceWarning: DataFrame is highly fragmented.  This is usually the result of calling `frame.insert` many times, which has poor performance.  Consider joining all columns at once using pd.concat(axis=1) instead. To get a de-fragmented frame, use `newframe = frame.copy()`\n",
      "  train_data[f\"{elem}_binary\"] = np.where(train_data[elem].isnull(), 0, 1)\n",
      "<ipython-input-24-9efd6fc69951>:4: PerformanceWarning: DataFrame is highly fragmented.  This is usually the result of calling `frame.insert` many times, which has poor performance.  Consider joining all columns at once using pd.concat(axis=1) instead. To get a de-fragmented frame, use `newframe = frame.copy()`\n",
      "  test_data[f\"{elem}_binary\"] = np.where(test_data[elem].isnull(), 0, 1)\n",
      "<ipython-input-24-9efd6fc69951>:3: PerformanceWarning: DataFrame is highly fragmented.  This is usually the result of calling `frame.insert` many times, which has poor performance.  Consider joining all columns at once using pd.concat(axis=1) instead. To get a de-fragmented frame, use `newframe = frame.copy()`\n",
      "  train_data[f\"{elem}_binary\"] = np.where(train_data[elem].isnull(), 0, 1)\n",
      "<ipython-input-24-9efd6fc69951>:4: PerformanceWarning: DataFrame is highly fragmented.  This is usually the result of calling `frame.insert` many times, which has poor performance.  Consider joining all columns at once using pd.concat(axis=1) instead. To get a de-fragmented frame, use `newframe = frame.copy()`\n",
      "  test_data[f\"{elem}_binary\"] = np.where(test_data[elem].isnull(), 0, 1)\n",
      "<ipython-input-24-9efd6fc69951>:3: PerformanceWarning: DataFrame is highly fragmented.  This is usually the result of calling `frame.insert` many times, which has poor performance.  Consider joining all columns at once using pd.concat(axis=1) instead. To get a de-fragmented frame, use `newframe = frame.copy()`\n",
      "  train_data[f\"{elem}_binary\"] = np.where(train_data[elem].isnull(), 0, 1)\n",
      "<ipython-input-24-9efd6fc69951>:4: PerformanceWarning: DataFrame is highly fragmented.  This is usually the result of calling `frame.insert` many times, which has poor performance.  Consider joining all columns at once using pd.concat(axis=1) instead. To get a de-fragmented frame, use `newframe = frame.copy()`\n",
      "  test_data[f\"{elem}_binary\"] = np.where(test_data[elem].isnull(), 0, 1)\n",
      "<ipython-input-24-9efd6fc69951>:3: PerformanceWarning: DataFrame is highly fragmented.  This is usually the result of calling `frame.insert` many times, which has poor performance.  Consider joining all columns at once using pd.concat(axis=1) instead. To get a de-fragmented frame, use `newframe = frame.copy()`\n",
      "  train_data[f\"{elem}_binary\"] = np.where(train_data[elem].isnull(), 0, 1)\n",
      "<ipython-input-24-9efd6fc69951>:4: PerformanceWarning: DataFrame is highly fragmented.  This is usually the result of calling `frame.insert` many times, which has poor performance.  Consider joining all columns at once using pd.concat(axis=1) instead. To get a de-fragmented frame, use `newframe = frame.copy()`\n",
      "  test_data[f\"{elem}_binary\"] = np.where(test_data[elem].isnull(), 0, 1)\n",
      "<ipython-input-24-9efd6fc69951>:3: PerformanceWarning: DataFrame is highly fragmented.  This is usually the result of calling `frame.insert` many times, which has poor performance.  Consider joining all columns at once using pd.concat(axis=1) instead. To get a de-fragmented frame, use `newframe = frame.copy()`\n",
      "  train_data[f\"{elem}_binary\"] = np.where(train_data[elem].isnull(), 0, 1)\n",
      "<ipython-input-24-9efd6fc69951>:4: PerformanceWarning: DataFrame is highly fragmented.  This is usually the result of calling `frame.insert` many times, which has poor performance.  Consider joining all columns at once using pd.concat(axis=1) instead. To get a de-fragmented frame, use `newframe = frame.copy()`\n",
      "  test_data[f\"{elem}_binary\"] = np.where(test_data[elem].isnull(), 0, 1)\n",
      "<ipython-input-24-9efd6fc69951>:3: PerformanceWarning: DataFrame is highly fragmented.  This is usually the result of calling `frame.insert` many times, which has poor performance.  Consider joining all columns at once using pd.concat(axis=1) instead. To get a de-fragmented frame, use `newframe = frame.copy()`\n",
      "  train_data[f\"{elem}_binary\"] = np.where(train_data[elem].isnull(), 0, 1)\n",
      "<ipython-input-24-9efd6fc69951>:4: PerformanceWarning: DataFrame is highly fragmented.  This is usually the result of calling `frame.insert` many times, which has poor performance.  Consider joining all columns at once using pd.concat(axis=1) instead. To get a de-fragmented frame, use `newframe = frame.copy()`\n",
      "  test_data[f\"{elem}_binary\"] = np.where(test_data[elem].isnull(), 0, 1)\n",
      "<ipython-input-24-9efd6fc69951>:3: PerformanceWarning: DataFrame is highly fragmented.  This is usually the result of calling `frame.insert` many times, which has poor performance.  Consider joining all columns at once using pd.concat(axis=1) instead. To get a de-fragmented frame, use `newframe = frame.copy()`\n",
      "  train_data[f\"{elem}_binary\"] = np.where(train_data[elem].isnull(), 0, 1)\n",
      "<ipython-input-24-9efd6fc69951>:4: PerformanceWarning: DataFrame is highly fragmented.  This is usually the result of calling `frame.insert` many times, which has poor performance.  Consider joining all columns at once using pd.concat(axis=1) instead. To get a de-fragmented frame, use `newframe = frame.copy()`\n",
      "  test_data[f\"{elem}_binary\"] = np.where(test_data[elem].isnull(), 0, 1)\n",
      "<ipython-input-24-9efd6fc69951>:3: PerformanceWarning: DataFrame is highly fragmented.  This is usually the result of calling `frame.insert` many times, which has poor performance.  Consider joining all columns at once using pd.concat(axis=1) instead. To get a de-fragmented frame, use `newframe = frame.copy()`\n",
      "  train_data[f\"{elem}_binary\"] = np.where(train_data[elem].isnull(), 0, 1)\n",
      "<ipython-input-24-9efd6fc69951>:4: PerformanceWarning: DataFrame is highly fragmented.  This is usually the result of calling `frame.insert` many times, which has poor performance.  Consider joining all columns at once using pd.concat(axis=1) instead. To get a de-fragmented frame, use `newframe = frame.copy()`\n",
      "  test_data[f\"{elem}_binary\"] = np.where(test_data[elem].isnull(), 0, 1)\n",
      "<ipython-input-24-9efd6fc69951>:3: PerformanceWarning: DataFrame is highly fragmented.  This is usually the result of calling `frame.insert` many times, which has poor performance.  Consider joining all columns at once using pd.concat(axis=1) instead. To get a de-fragmented frame, use `newframe = frame.copy()`\n",
      "  train_data[f\"{elem}_binary\"] = np.where(train_data[elem].isnull(), 0, 1)\n",
      "<ipython-input-24-9efd6fc69951>:4: PerformanceWarning: DataFrame is highly fragmented.  This is usually the result of calling `frame.insert` many times, which has poor performance.  Consider joining all columns at once using pd.concat(axis=1) instead. To get a de-fragmented frame, use `newframe = frame.copy()`\n",
      "  test_data[f\"{elem}_binary\"] = np.where(test_data[elem].isnull(), 0, 1)\n",
      "<ipython-input-24-9efd6fc69951>:3: PerformanceWarning: DataFrame is highly fragmented.  This is usually the result of calling `frame.insert` many times, which has poor performance.  Consider joining all columns at once using pd.concat(axis=1) instead. To get a de-fragmented frame, use `newframe = frame.copy()`\n",
      "  train_data[f\"{elem}_binary\"] = np.where(train_data[elem].isnull(), 0, 1)\n",
      "<ipython-input-24-9efd6fc69951>:4: PerformanceWarning: DataFrame is highly fragmented.  This is usually the result of calling `frame.insert` many times, which has poor performance.  Consider joining all columns at once using pd.concat(axis=1) instead. To get a de-fragmented frame, use `newframe = frame.copy()`\n",
      "  test_data[f\"{elem}_binary\"] = np.where(test_data[elem].isnull(), 0, 1)\n",
      "<ipython-input-24-9efd6fc69951>:3: PerformanceWarning: DataFrame is highly fragmented.  This is usually the result of calling `frame.insert` many times, which has poor performance.  Consider joining all columns at once using pd.concat(axis=1) instead. To get a de-fragmented frame, use `newframe = frame.copy()`\n",
      "  train_data[f\"{elem}_binary\"] = np.where(train_data[elem].isnull(), 0, 1)\n",
      "<ipython-input-24-9efd6fc69951>:4: PerformanceWarning: DataFrame is highly fragmented.  This is usually the result of calling `frame.insert` many times, which has poor performance.  Consider joining all columns at once using pd.concat(axis=1) instead. To get a de-fragmented frame, use `newframe = frame.copy()`\n",
      "  test_data[f\"{elem}_binary\"] = np.where(test_data[elem].isnull(), 0, 1)\n",
      "<ipython-input-24-9efd6fc69951>:3: PerformanceWarning: DataFrame is highly fragmented.  This is usually the result of calling `frame.insert` many times, which has poor performance.  Consider joining all columns at once using pd.concat(axis=1) instead. To get a de-fragmented frame, use `newframe = frame.copy()`\n",
      "  train_data[f\"{elem}_binary\"] = np.where(train_data[elem].isnull(), 0, 1)\n",
      "<ipython-input-24-9efd6fc69951>:4: PerformanceWarning: DataFrame is highly fragmented.  This is usually the result of calling `frame.insert` many times, which has poor performance.  Consider joining all columns at once using pd.concat(axis=1) instead. To get a de-fragmented frame, use `newframe = frame.copy()`\n",
      "  test_data[f\"{elem}_binary\"] = np.where(test_data[elem].isnull(), 0, 1)\n",
      "<ipython-input-24-9efd6fc69951>:3: PerformanceWarning: DataFrame is highly fragmented.  This is usually the result of calling `frame.insert` many times, which has poor performance.  Consider joining all columns at once using pd.concat(axis=1) instead. To get a de-fragmented frame, use `newframe = frame.copy()`\n",
      "  train_data[f\"{elem}_binary\"] = np.where(train_data[elem].isnull(), 0, 1)\n",
      "<ipython-input-24-9efd6fc69951>:4: PerformanceWarning: DataFrame is highly fragmented.  This is usually the result of calling `frame.insert` many times, which has poor performance.  Consider joining all columns at once using pd.concat(axis=1) instead. To get a de-fragmented frame, use `newframe = frame.copy()`\n",
      "  test_data[f\"{elem}_binary\"] = np.where(test_data[elem].isnull(), 0, 1)\n",
      "<ipython-input-24-9efd6fc69951>:3: PerformanceWarning: DataFrame is highly fragmented.  This is usually the result of calling `frame.insert` many times, which has poor performance.  Consider joining all columns at once using pd.concat(axis=1) instead. To get a de-fragmented frame, use `newframe = frame.copy()`\n",
      "  train_data[f\"{elem}_binary\"] = np.where(train_data[elem].isnull(), 0, 1)\n",
      "<ipython-input-24-9efd6fc69951>:4: PerformanceWarning: DataFrame is highly fragmented.  This is usually the result of calling `frame.insert` many times, which has poor performance.  Consider joining all columns at once using pd.concat(axis=1) instead. To get a de-fragmented frame, use `newframe = frame.copy()`\n",
      "  test_data[f\"{elem}_binary\"] = np.where(test_data[elem].isnull(), 0, 1)\n",
      "<ipython-input-24-9efd6fc69951>:3: PerformanceWarning: DataFrame is highly fragmented.  This is usually the result of calling `frame.insert` many times, which has poor performance.  Consider joining all columns at once using pd.concat(axis=1) instead. To get a de-fragmented frame, use `newframe = frame.copy()`\n",
      "  train_data[f\"{elem}_binary\"] = np.where(train_data[elem].isnull(), 0, 1)\n",
      "<ipython-input-24-9efd6fc69951>:4: PerformanceWarning: DataFrame is highly fragmented.  This is usually the result of calling `frame.insert` many times, which has poor performance.  Consider joining all columns at once using pd.concat(axis=1) instead. To get a de-fragmented frame, use `newframe = frame.copy()`\n",
      "  test_data[f\"{elem}_binary\"] = np.where(test_data[elem].isnull(), 0, 1)\n",
      "<ipython-input-24-9efd6fc69951>:3: PerformanceWarning: DataFrame is highly fragmented.  This is usually the result of calling `frame.insert` many times, which has poor performance.  Consider joining all columns at once using pd.concat(axis=1) instead. To get a de-fragmented frame, use `newframe = frame.copy()`\n",
      "  train_data[f\"{elem}_binary\"] = np.where(train_data[elem].isnull(), 0, 1)\n",
      "<ipython-input-24-9efd6fc69951>:4: PerformanceWarning: DataFrame is highly fragmented.  This is usually the result of calling `frame.insert` many times, which has poor performance.  Consider joining all columns at once using pd.concat(axis=1) instead. To get a de-fragmented frame, use `newframe = frame.copy()`\n",
      "  test_data[f\"{elem}_binary\"] = np.where(test_data[elem].isnull(), 0, 1)\n",
      "<ipython-input-24-9efd6fc69951>:3: PerformanceWarning: DataFrame is highly fragmented.  This is usually the result of calling `frame.insert` many times, which has poor performance.  Consider joining all columns at once using pd.concat(axis=1) instead. To get a de-fragmented frame, use `newframe = frame.copy()`\n",
      "  train_data[f\"{elem}_binary\"] = np.where(train_data[elem].isnull(), 0, 1)\n",
      "<ipython-input-24-9efd6fc69951>:4: PerformanceWarning: DataFrame is highly fragmented.  This is usually the result of calling `frame.insert` many times, which has poor performance.  Consider joining all columns at once using pd.concat(axis=1) instead. To get a de-fragmented frame, use `newframe = frame.copy()`\n",
      "  test_data[f\"{elem}_binary\"] = np.where(test_data[elem].isnull(), 0, 1)\n",
      "<ipython-input-24-9efd6fc69951>:3: PerformanceWarning: DataFrame is highly fragmented.  This is usually the result of calling `frame.insert` many times, which has poor performance.  Consider joining all columns at once using pd.concat(axis=1) instead. To get a de-fragmented frame, use `newframe = frame.copy()`\n",
      "  train_data[f\"{elem}_binary\"] = np.where(train_data[elem].isnull(), 0, 1)\n",
      "<ipython-input-24-9efd6fc69951>:4: PerformanceWarning: DataFrame is highly fragmented.  This is usually the result of calling `frame.insert` many times, which has poor performance.  Consider joining all columns at once using pd.concat(axis=1) instead. To get a de-fragmented frame, use `newframe = frame.copy()`\n",
      "  test_data[f\"{elem}_binary\"] = np.where(test_data[elem].isnull(), 0, 1)\n",
      "<ipython-input-24-9efd6fc69951>:3: PerformanceWarning: DataFrame is highly fragmented.  This is usually the result of calling `frame.insert` many times, which has poor performance.  Consider joining all columns at once using pd.concat(axis=1) instead. To get a de-fragmented frame, use `newframe = frame.copy()`\n",
      "  train_data[f\"{elem}_binary\"] = np.where(train_data[elem].isnull(), 0, 1)\n",
      "<ipython-input-24-9efd6fc69951>:4: PerformanceWarning: DataFrame is highly fragmented.  This is usually the result of calling `frame.insert` many times, which has poor performance.  Consider joining all columns at once using pd.concat(axis=1) instead. To get a de-fragmented frame, use `newframe = frame.copy()`\n",
      "  test_data[f\"{elem}_binary\"] = np.where(test_data[elem].isnull(), 0, 1)\n",
      "<ipython-input-24-9efd6fc69951>:3: PerformanceWarning: DataFrame is highly fragmented.  This is usually the result of calling `frame.insert` many times, which has poor performance.  Consider joining all columns at once using pd.concat(axis=1) instead. To get a de-fragmented frame, use `newframe = frame.copy()`\n",
      "  train_data[f\"{elem}_binary\"] = np.where(train_data[elem].isnull(), 0, 1)\n",
      "<ipython-input-24-9efd6fc69951>:4: PerformanceWarning: DataFrame is highly fragmented.  This is usually the result of calling `frame.insert` many times, which has poor performance.  Consider joining all columns at once using pd.concat(axis=1) instead. To get a de-fragmented frame, use `newframe = frame.copy()`\n",
      "  test_data[f\"{elem}_binary\"] = np.where(test_data[elem].isnull(), 0, 1)\n",
      "<ipython-input-24-9efd6fc69951>:3: PerformanceWarning: DataFrame is highly fragmented.  This is usually the result of calling `frame.insert` many times, which has poor performance.  Consider joining all columns at once using pd.concat(axis=1) instead. To get a de-fragmented frame, use `newframe = frame.copy()`\n",
      "  train_data[f\"{elem}_binary\"] = np.where(train_data[elem].isnull(), 0, 1)\n",
      "<ipython-input-24-9efd6fc69951>:4: PerformanceWarning: DataFrame is highly fragmented.  This is usually the result of calling `frame.insert` many times, which has poor performance.  Consider joining all columns at once using pd.concat(axis=1) instead. To get a de-fragmented frame, use `newframe = frame.copy()`\n",
      "  test_data[f\"{elem}_binary\"] = np.where(test_data[elem].isnull(), 0, 1)\n",
      "<ipython-input-24-9efd6fc69951>:3: PerformanceWarning: DataFrame is highly fragmented.  This is usually the result of calling `frame.insert` many times, which has poor performance.  Consider joining all columns at once using pd.concat(axis=1) instead. To get a de-fragmented frame, use `newframe = frame.copy()`\n",
      "  train_data[f\"{elem}_binary\"] = np.where(train_data[elem].isnull(), 0, 1)\n",
      "<ipython-input-24-9efd6fc69951>:4: PerformanceWarning: DataFrame is highly fragmented.  This is usually the result of calling `frame.insert` many times, which has poor performance.  Consider joining all columns at once using pd.concat(axis=1) instead. To get a de-fragmented frame, use `newframe = frame.copy()`\n",
      "  test_data[f\"{elem}_binary\"] = np.where(test_data[elem].isnull(), 0, 1)\n",
      "<ipython-input-24-9efd6fc69951>:3: PerformanceWarning: DataFrame is highly fragmented.  This is usually the result of calling `frame.insert` many times, which has poor performance.  Consider joining all columns at once using pd.concat(axis=1) instead. To get a de-fragmented frame, use `newframe = frame.copy()`\n",
      "  train_data[f\"{elem}_binary\"] = np.where(train_data[elem].isnull(), 0, 1)\n",
      "<ipython-input-24-9efd6fc69951>:4: PerformanceWarning: DataFrame is highly fragmented.  This is usually the result of calling `frame.insert` many times, which has poor performance.  Consider joining all columns at once using pd.concat(axis=1) instead. To get a de-fragmented frame, use `newframe = frame.copy()`\n",
      "  test_data[f\"{elem}_binary\"] = np.where(test_data[elem].isnull(), 0, 1)\n",
      "<ipython-input-24-9efd6fc69951>:3: PerformanceWarning: DataFrame is highly fragmented.  This is usually the result of calling `frame.insert` many times, which has poor performance.  Consider joining all columns at once using pd.concat(axis=1) instead. To get a de-fragmented frame, use `newframe = frame.copy()`\n",
      "  train_data[f\"{elem}_binary\"] = np.where(train_data[elem].isnull(), 0, 1)\n",
      "<ipython-input-24-9efd6fc69951>:4: PerformanceWarning: DataFrame is highly fragmented.  This is usually the result of calling `frame.insert` many times, which has poor performance.  Consider joining all columns at once using pd.concat(axis=1) instead. To get a de-fragmented frame, use `newframe = frame.copy()`\n",
      "  test_data[f\"{elem}_binary\"] = np.where(test_data[elem].isnull(), 0, 1)\n",
      "<ipython-input-24-9efd6fc69951>:3: PerformanceWarning: DataFrame is highly fragmented.  This is usually the result of calling `frame.insert` many times, which has poor performance.  Consider joining all columns at once using pd.concat(axis=1) instead. To get a de-fragmented frame, use `newframe = frame.copy()`\n",
      "  train_data[f\"{elem}_binary\"] = np.where(train_data[elem].isnull(), 0, 1)\n",
      "<ipython-input-24-9efd6fc69951>:4: PerformanceWarning: DataFrame is highly fragmented.  This is usually the result of calling `frame.insert` many times, which has poor performance.  Consider joining all columns at once using pd.concat(axis=1) instead. To get a de-fragmented frame, use `newframe = frame.copy()`\n",
      "  test_data[f\"{elem}_binary\"] = np.where(test_data[elem].isnull(), 0, 1)\n",
      "<ipython-input-24-9efd6fc69951>:3: PerformanceWarning: DataFrame is highly fragmented.  This is usually the result of calling `frame.insert` many times, which has poor performance.  Consider joining all columns at once using pd.concat(axis=1) instead. To get a de-fragmented frame, use `newframe = frame.copy()`\n",
      "  train_data[f\"{elem}_binary\"] = np.where(train_data[elem].isnull(), 0, 1)\n",
      "<ipython-input-24-9efd6fc69951>:4: PerformanceWarning: DataFrame is highly fragmented.  This is usually the result of calling `frame.insert` many times, which has poor performance.  Consider joining all columns at once using pd.concat(axis=1) instead. To get a de-fragmented frame, use `newframe = frame.copy()`\n",
      "  test_data[f\"{elem}_binary\"] = np.where(test_data[elem].isnull(), 0, 1)\n",
      "<ipython-input-24-9efd6fc69951>:3: PerformanceWarning: DataFrame is highly fragmented.  This is usually the result of calling `frame.insert` many times, which has poor performance.  Consider joining all columns at once using pd.concat(axis=1) instead. To get a de-fragmented frame, use `newframe = frame.copy()`\n",
      "  train_data[f\"{elem}_binary\"] = np.where(train_data[elem].isnull(), 0, 1)\n",
      "<ipython-input-24-9efd6fc69951>:4: PerformanceWarning: DataFrame is highly fragmented.  This is usually the result of calling `frame.insert` many times, which has poor performance.  Consider joining all columns at once using pd.concat(axis=1) instead. To get a de-fragmented frame, use `newframe = frame.copy()`\n",
      "  test_data[f\"{elem}_binary\"] = np.where(test_data[elem].isnull(), 0, 1)\n",
      "<ipython-input-24-9efd6fc69951>:3: PerformanceWarning: DataFrame is highly fragmented.  This is usually the result of calling `frame.insert` many times, which has poor performance.  Consider joining all columns at once using pd.concat(axis=1) instead. To get a de-fragmented frame, use `newframe = frame.copy()`\n",
      "  train_data[f\"{elem}_binary\"] = np.where(train_data[elem].isnull(), 0, 1)\n",
      "<ipython-input-24-9efd6fc69951>:4: PerformanceWarning: DataFrame is highly fragmented.  This is usually the result of calling `frame.insert` many times, which has poor performance.  Consider joining all columns at once using pd.concat(axis=1) instead. To get a de-fragmented frame, use `newframe = frame.copy()`\n",
      "  test_data[f\"{elem}_binary\"] = np.where(test_data[elem].isnull(), 0, 1)\n"
     ]
    }
   ],
   "source": [
    "# list_of_dfs = []\n",
    "for elem in na_ratio_greater_than_85:\n",
    "    train_data[f\"{elem}_binary\"] = np.where(train_data[elem].isnull(), 0, 1)\n",
    "    test_data[f\"{elem}_binary\"] = np.where(test_data[elem].isnull(), 0, 1)\n",
    "    # list_of_dfs.append(pd.DataFrame(np.where(X_train[elem].isnull(), 0, 1), columns=[f'{elem}_binary']))\n",
    "\n",
    "# pd.concat(list_of_dfs)"
   ],
   "metadata": {
    "collapsed": false
   }
  },
  {
   "cell_type": "code",
   "execution_count": 29,
   "outputs": [],
   "source": [
    "binary_cols = list(filter(lambda x: \"_binary\" in x, list_of_integer_cols))\n",
    "for elem in binary_cols:\n",
    "    train_data[elem] = train_data[elem].astype(\"uint8\")\n",
    "    test_data[elem] = train_data[elem].astype(\"uint8\")"
   ],
   "metadata": {
    "collapsed": false
   }
  },
  {
   "cell_type": "code",
   "execution_count": 25,
   "outputs": [],
   "source": [
    "train_data.drop(na_ratio_greater_than_85, axis=1, inplace=True)\n",
    "test_data.drop(na_ratio_greater_than_85, axis=1, inplace=True)"
   ],
   "metadata": {
    "collapsed": false
   }
  },
  {
   "cell_type": "code",
   "execution_count": 26,
   "outputs": [],
   "source": [
    "train_data.drop([\"last-modified\", \"date\"], axis=1, inplace=True)\n",
    "test_data.drop([\"last-modified\", \"date\"], axis=1, inplace=True)"
   ],
   "metadata": {
    "collapsed": false
   }
  },
  {
   "cell_type": "markdown",
   "source": [
    "if time check sun, 17 may 1998 03:00:00 gmt for last-modified -> trackers"
   ],
   "metadata": {
    "collapsed": false
   }
  },
  {
   "cell_type": "code",
   "execution_count": 30,
   "outputs": [
    {
     "data": {
      "text/plain": "pragma                             category\ncontent-type                       category\naccept-ranges                      category\netag                               category\np3p                                category\n                                     ...   \nx-hubspot-correlation-id_binary       uint8\nx-hs-target-asset_binary              uint8\nx-hostname_binary                     uint8\nx-cdn-pop_binary                      uint8\nx-cdn-pop-ip_binary                   uint8\nLength: 151, dtype: object"
     },
     "execution_count": 30,
     "metadata": {},
     "output_type": "execute_result"
    }
   ],
   "source": [
    "train_data.dtypes"
   ],
   "metadata": {
    "collapsed": false
   }
  },
  {
   "cell_type": "code",
   "execution_count": 66,
   "outputs": [],
   "source": [
    "int_col_list = list(\n",
    "    train_data.iloc[:, :].select_dtypes(\"Int64\").columns.values.tolist()\n",
    ")"
   ],
   "metadata": {
    "collapsed": false
   }
  },
  {
   "cell_type": "code",
   "execution_count": 25,
   "outputs": [],
   "source": [
    "df_train, df_test = datawig.utils.random_split(train_data)"
   ],
   "metadata": {
    "collapsed": false
   }
  },
  {
   "cell_type": "code",
   "execution_count": 26,
   "outputs": [],
   "source": [
    "input_cols = train_data.columns.values.tolist()"
   ],
   "metadata": {
    "collapsed": false
   }
  },
  {
   "cell_type": "code",
   "execution_count": 27,
   "outputs": [],
   "source": [
    "input_cols = train_data.columns.values.tolist()"
   ],
   "metadata": {
    "collapsed": false
   }
  },
  {
   "cell_type": "code",
   "execution_count": 104,
   "outputs": [],
   "source": [
    "df_train[\"etag\"] = df_train[\"etag\"].replace({np.nan: pd.NA})"
   ],
   "metadata": {
    "collapsed": false
   }
  },
  {
   "cell_type": "code",
   "execution_count": 116,
   "outputs": [
    {
     "data": {
      "text/plain": "header_count                int64\ncomb_col_non_tracker        int64\ncomb_col_tracker            int64\nx-robots-tag_binary         int64\nconnection_binary           int64\n                            ...  \nx-hs-target-asset_binary    int64\nx-hostname_binary           int64\nx-cdn-pop_binary            int64\nx-cdn-pop-ip_binary         int64\ntracker                     int32\nLength: 132, dtype: object"
     },
     "execution_count": 116,
     "metadata": {},
     "output_type": "execute_result"
    }
   ],
   "source": [
    "train_data[[row for row in input_cols if train_data[row].dtype != \"object\"]].dtypes"
   ],
   "metadata": {
    "collapsed": false
   }
  },
  {
   "cell_type": "code",
   "execution_count": 32,
   "outputs": [],
   "source": [
    "df_train.dropna(subset=[\"content-length\"], inplace=True)"
   ],
   "metadata": {
    "collapsed": false
   }
  },
  {
   "cell_type": "code",
   "execution_count": 37,
   "outputs": [
    {
     "data": {
      "text/plain": "['tracker',\n 'header_count',\n 'comb_col_non_tracker',\n 'comb_col_tracker',\n 'x-robots-tag_binary',\n 'connection_binary',\n 'x-amz-server-side-encryption_binary',\n 'x-amz-version-id_binary',\n 'x-cache_binary',\n 'via_binary',\n 'x-amz-cf-pop_binary',\n 'x-amz-cf-id_binary',\n 'x-guploader-uploadid_binary',\n 'x-goog-generation_binary',\n 'x-goog-hash_binary',\n 'x-goog-storage-class_binary',\n 'cf-cache-status_binary',\n 'expect-ct_binary',\n 'report-to_binary',\n 'nel_binary',\n 'cf-ray_binary',\n 'set-cookie_binary',\n 'content-security-policy-report-only_binary',\n 'access-control-expose-headers_binary',\n 'access-control-allow-headers_binary',\n 'access-control-max-age_binary',\n 'x-powered-by_binary',\n 'cross-origin-opener-policy-report-only_binary',\n 'content-security-policy_binary',\n 'cross-origin-opener-policy_binary',\n 'x-frame-options_binary',\n 'x-fb-debug_binary',\n 'priority_binary',\n 'x-amz-id-2_binary',\n 'x-amz-request-id_binary',\n 'access-control-allow-methods_binary',\n 'x-served-by_binary',\n 'edge-control_binary',\n 'permissions-policy_binary',\n 'referrer-policy_binary',\n 'x-edgeconnect-midmile-rtt_binary',\n 'x-edgeconnect-origin-mex-latency_binary',\n 'trace-id_binary',\n 'x-envoy-upstream-service-time_binary',\n 'x-timer_binary',\n 'x-aspnet-version_binary',\n 'content-disposition_binary',\n 'accept-ch_binary',\n 'akamai-grn_binary',\n 'x-amz-replication-status_binary',\n 'x-amz-rid_binary',\n 'accept-ch-lifetime_binary',\n 'x-amzn-requestid_binary',\n 'x-hw_binary',\n 'x-edge-location_binary',\n 'x-dns-prefetch-control_binary',\n 'x-request-id_binary',\n 'x-c_binary',\n 'cross-origin-embedder-policy_binary',\n 'x-response-time_binary',\n 'x-connection-hash_binary',\n 'x-amzn-trace-id_binary',\n 'x-cache-hit_binary',\n 'x-traceid_binary',\n 'x-runtime_binary',\n 'status_binary',\n 'x-permitted-cross-domain-policies_binary',\n 'x-dc_binary',\n 'x-tt-logid_binary',\n 'x-tt-trace-host_binary',\n 'x-origin-response-time_binary',\n 'x-akamai-request-id_binary',\n 'x-cache-remote_binary',\n 'x-tt-trace-tag_binary',\n 'x-parent-response-time_binary',\n 'x-region_binary',\n 'x-msedge-ref_binary',\n 'x-tw-cdn_binary',\n 'x-cdn_binary',\n 'retry-after_binary',\n 'x-pinterest-rid_binary',\n 'x-li-fabric_binary',\n 'x-li-pop_binary',\n 'x-li-proto_binary',\n 'x-li-uuid_binary',\n 'request-context_binary',\n 'x-azure-ref_binary',\n 'x-amz-meta-mtime_binary',\n 'request-time_binary',\n 'x-application-context_binary',\n 'x-envoy-decorator-operation_binary',\n 'x-server_binary',\n 'x-host_binary',\n 'ms-cv_binary',\n 'x-trace-id_binary',\n 'x-datacenter_binary',\n 'access-control-request-method_binary',\n 'x-via-ssl_binary',\n 'x-server-name_binary',\n 'x-b3-traceid_binary',\n 'cdn-pullzone_binary',\n 'cdn-uid_binary',\n 'cdn-requestcountrycode_binary',\n 'cdn-proxyver_binary',\n 'cdn-requestpullcode_binary',\n 'cdn-cachedat_binary',\n 'cdn-status_binary',\n 'cdn-requestid_binary',\n 'cdn-storageserver_binary',\n 'cdn-fileserver_binary',\n 'fss-proxy_binary',\n 'x-amz-expiration_binary',\n 'x-amz-meta-s3cmd-attrs_binary',\n 'x-amz-apigw-id_binary',\n 'x-yandex-req-id_binary',\n 'request-id_binary',\n 'server-processing-duration-in-ticks_binary',\n 'x-fastly-to-nlb-rtt_binary',\n 'x-aspnetmvc-version_binary',\n 'x-vcl-time-ms_binary',\n 'requestid_binary',\n 'x-amz-meta-codebuild-content-sha256_binary',\n 'x-amz-meta-codebuild-buildarn_binary',\n 'x-amz-meta-codebuild-content-md5_binary',\n 'x-llid_binary',\n 'x-b3-sampled_binary',\n 'x-b3-spanid_binary',\n 'x-hubspot-correlation-id_binary',\n 'x-hs-target-asset_binary',\n 'x-hostname_binary',\n 'x-cdn-pop_binary',\n 'x-cdn-pop-ip_binary']"
     },
     "execution_count": 37,
     "metadata": {},
     "output_type": "execute_result"
    }
   ],
   "source": [
    "[row for row in input_cols if train_data[row].dtype != \"category\"]"
   ],
   "metadata": {
    "collapsed": false
   }
  },
  {
   "cell_type": "code",
   "execution_count": 44,
   "outputs": [
    {
     "data": {
      "text/plain": "        content-length  tracker  header_count  comb_col_non_tracker  \\\n248002             740        0             9                     1   \n60016             8072        0            15                     1   \n4675                37        1             7                     0   \n9159              2089        0            13                     2   \n71907               21        0            11                     2   \n...                ...      ...           ...                   ...   \n55305                4        1            14                     0   \n234622             354        0            15                     1   \n240929           15161        1            16                     0   \n67023             8216        0            23                     1   \n104782          116462        0            14                     0   \n\n        comb_col_tracker  x-robots-tag_binary  connection_binary  \\\n248002                 0                    0                  1   \n60016                  0                    0                  0   \n4675                   1                    0                  0   \n9159                   0                    0                  1   \n71907                  0                    0                  1   \n...                  ...                  ...                ...   \n55305                  0                    0                  0   \n234622                 0                    0                  0   \n240929                 0                    0                  0   \n67023                  0                    0                  0   \n104782                 0                    0                  0   \n\n        x-amz-server-side-encryption_binary  x-amz-version-id_binary  \\\n248002                                    0                        0   \n60016                                     0                        0   \n4675                                      0                        0   \n9159                                      0                        0   \n71907                                     0                        0   \n...                                     ...                      ...   \n55305                                     0                        0   \n234622                                    0                        0   \n240929                                    0                        0   \n67023                                     0                        0   \n104782                                    0                        0   \n\n        x-cache_binary  ...  x-amz-meta-codebuild-buildarn_binary  \\\n248002               0  ...                                     0   \n60016                1  ...                                     0   \n4675                 0  ...                                     0   \n9159                 0  ...                                     0   \n71907                0  ...                                     0   \n...                ...  ...                                   ...   \n55305                0  ...                                     0   \n234622               1  ...                                     0   \n240929               0  ...                                     0   \n67023                0  ...                                     0   \n104782               1  ...                                     0   \n\n        x-amz-meta-codebuild-content-md5_binary  x-llid_binary  \\\n248002                                        0              0   \n60016                                         0              0   \n4675                                          0              0   \n9159                                          0              0   \n71907                                         0              0   \n...                                         ...            ...   \n55305                                         0              0   \n234622                                        0              0   \n240929                                        0              0   \n67023                                         0              0   \n104782                                        0              0   \n\n        x-b3-sampled_binary  x-b3-spanid_binary  \\\n248002                    0                   0   \n60016                     0                   0   \n4675                      0                   0   \n9159                      0                   0   \n71907                     0                   0   \n...                     ...                 ...   \n55305                     0                   0   \n234622                    0                   0   \n240929                    0                   0   \n67023                     0                   0   \n104782                    0                   0   \n\n        x-hubspot-correlation-id_binary  x-hs-target-asset_binary  \\\n248002                                0                         0   \n60016                                 0                         0   \n4675                                  0                         0   \n9159                                  0                         0   \n71907                                 0                         0   \n...                                 ...                       ...   \n55305                                 0                         0   \n234622                                0                         0   \n240929                                0                         0   \n67023                                 0                         0   \n104782                                0                         0   \n\n        x-hostname_binary  x-cdn-pop_binary  x-cdn-pop-ip_binary  \n248002                  0                 0                    0  \n60016                   0                 0                    0  \n4675                    0                 0                    0  \n9159                    0                 0                    0  \n71907                   0                 0                    0  \n...                   ...               ...                  ...  \n55305                   0                 0                    0  \n234622                  0                 0                    0  \n240929                  0                 0                    0  \n67023                   0                 0                    0  \n104782                  0                 0                    0  \n\n[169206 rows x 133 columns]",
      "text/html": "<div>\n<style scoped>\n    .dataframe tbody tr th:only-of-type {\n        vertical-align: middle;\n    }\n\n    .dataframe tbody tr th {\n        vertical-align: top;\n    }\n\n    .dataframe thead th {\n        text-align: right;\n    }\n</style>\n<table border=\"1\" class=\"dataframe\">\n  <thead>\n    <tr style=\"text-align: right;\">\n      <th></th>\n      <th>content-length</th>\n      <th>tracker</th>\n      <th>header_count</th>\n      <th>comb_col_non_tracker</th>\n      <th>comb_col_tracker</th>\n      <th>x-robots-tag_binary</th>\n      <th>connection_binary</th>\n      <th>x-amz-server-side-encryption_binary</th>\n      <th>x-amz-version-id_binary</th>\n      <th>x-cache_binary</th>\n      <th>...</th>\n      <th>x-amz-meta-codebuild-buildarn_binary</th>\n      <th>x-amz-meta-codebuild-content-md5_binary</th>\n      <th>x-llid_binary</th>\n      <th>x-b3-sampled_binary</th>\n      <th>x-b3-spanid_binary</th>\n      <th>x-hubspot-correlation-id_binary</th>\n      <th>x-hs-target-asset_binary</th>\n      <th>x-hostname_binary</th>\n      <th>x-cdn-pop_binary</th>\n      <th>x-cdn-pop-ip_binary</th>\n    </tr>\n  </thead>\n  <tbody>\n    <tr>\n      <th>248002</th>\n      <td>740</td>\n      <td>0</td>\n      <td>9</td>\n      <td>1</td>\n      <td>0</td>\n      <td>0</td>\n      <td>1</td>\n      <td>0</td>\n      <td>0</td>\n      <td>0</td>\n      <td>...</td>\n      <td>0</td>\n      <td>0</td>\n      <td>0</td>\n      <td>0</td>\n      <td>0</td>\n      <td>0</td>\n      <td>0</td>\n      <td>0</td>\n      <td>0</td>\n      <td>0</td>\n    </tr>\n    <tr>\n      <th>60016</th>\n      <td>8072</td>\n      <td>0</td>\n      <td>15</td>\n      <td>1</td>\n      <td>0</td>\n      <td>0</td>\n      <td>0</td>\n      <td>0</td>\n      <td>0</td>\n      <td>1</td>\n      <td>...</td>\n      <td>0</td>\n      <td>0</td>\n      <td>0</td>\n      <td>0</td>\n      <td>0</td>\n      <td>0</td>\n      <td>0</td>\n      <td>0</td>\n      <td>0</td>\n      <td>0</td>\n    </tr>\n    <tr>\n      <th>4675</th>\n      <td>37</td>\n      <td>1</td>\n      <td>7</td>\n      <td>0</td>\n      <td>1</td>\n      <td>0</td>\n      <td>0</td>\n      <td>0</td>\n      <td>0</td>\n      <td>0</td>\n      <td>...</td>\n      <td>0</td>\n      <td>0</td>\n      <td>0</td>\n      <td>0</td>\n      <td>0</td>\n      <td>0</td>\n      <td>0</td>\n      <td>0</td>\n      <td>0</td>\n      <td>0</td>\n    </tr>\n    <tr>\n      <th>9159</th>\n      <td>2089</td>\n      <td>0</td>\n      <td>13</td>\n      <td>2</td>\n      <td>0</td>\n      <td>0</td>\n      <td>1</td>\n      <td>0</td>\n      <td>0</td>\n      <td>0</td>\n      <td>...</td>\n      <td>0</td>\n      <td>0</td>\n      <td>0</td>\n      <td>0</td>\n      <td>0</td>\n      <td>0</td>\n      <td>0</td>\n      <td>0</td>\n      <td>0</td>\n      <td>0</td>\n    </tr>\n    <tr>\n      <th>71907</th>\n      <td>21</td>\n      <td>0</td>\n      <td>11</td>\n      <td>2</td>\n      <td>0</td>\n      <td>0</td>\n      <td>1</td>\n      <td>0</td>\n      <td>0</td>\n      <td>0</td>\n      <td>...</td>\n      <td>0</td>\n      <td>0</td>\n      <td>0</td>\n      <td>0</td>\n      <td>0</td>\n      <td>0</td>\n      <td>0</td>\n      <td>0</td>\n      <td>0</td>\n      <td>0</td>\n    </tr>\n    <tr>\n      <th>...</th>\n      <td>...</td>\n      <td>...</td>\n      <td>...</td>\n      <td>...</td>\n      <td>...</td>\n      <td>...</td>\n      <td>...</td>\n      <td>...</td>\n      <td>...</td>\n      <td>...</td>\n      <td>...</td>\n      <td>...</td>\n      <td>...</td>\n      <td>...</td>\n      <td>...</td>\n      <td>...</td>\n      <td>...</td>\n      <td>...</td>\n      <td>...</td>\n      <td>...</td>\n      <td>...</td>\n    </tr>\n    <tr>\n      <th>55305</th>\n      <td>4</td>\n      <td>1</td>\n      <td>14</td>\n      <td>0</td>\n      <td>0</td>\n      <td>0</td>\n      <td>0</td>\n      <td>0</td>\n      <td>0</td>\n      <td>0</td>\n      <td>...</td>\n      <td>0</td>\n      <td>0</td>\n      <td>0</td>\n      <td>0</td>\n      <td>0</td>\n      <td>0</td>\n      <td>0</td>\n      <td>0</td>\n      <td>0</td>\n      <td>0</td>\n    </tr>\n    <tr>\n      <th>234622</th>\n      <td>354</td>\n      <td>0</td>\n      <td>15</td>\n      <td>1</td>\n      <td>0</td>\n      <td>0</td>\n      <td>0</td>\n      <td>0</td>\n      <td>0</td>\n      <td>1</td>\n      <td>...</td>\n      <td>0</td>\n      <td>0</td>\n      <td>0</td>\n      <td>0</td>\n      <td>0</td>\n      <td>0</td>\n      <td>0</td>\n      <td>0</td>\n      <td>0</td>\n      <td>0</td>\n    </tr>\n    <tr>\n      <th>240929</th>\n      <td>15161</td>\n      <td>1</td>\n      <td>16</td>\n      <td>0</td>\n      <td>0</td>\n      <td>0</td>\n      <td>0</td>\n      <td>0</td>\n      <td>0</td>\n      <td>0</td>\n      <td>...</td>\n      <td>0</td>\n      <td>0</td>\n      <td>0</td>\n      <td>0</td>\n      <td>0</td>\n      <td>0</td>\n      <td>0</td>\n      <td>0</td>\n      <td>0</td>\n      <td>0</td>\n    </tr>\n    <tr>\n      <th>67023</th>\n      <td>8216</td>\n      <td>0</td>\n      <td>23</td>\n      <td>1</td>\n      <td>0</td>\n      <td>0</td>\n      <td>0</td>\n      <td>0</td>\n      <td>0</td>\n      <td>0</td>\n      <td>...</td>\n      <td>0</td>\n      <td>0</td>\n      <td>0</td>\n      <td>0</td>\n      <td>0</td>\n      <td>0</td>\n      <td>0</td>\n      <td>0</td>\n      <td>0</td>\n      <td>0</td>\n    </tr>\n    <tr>\n      <th>104782</th>\n      <td>116462</td>\n      <td>0</td>\n      <td>14</td>\n      <td>0</td>\n      <td>0</td>\n      <td>0</td>\n      <td>0</td>\n      <td>0</td>\n      <td>0</td>\n      <td>1</td>\n      <td>...</td>\n      <td>0</td>\n      <td>0</td>\n      <td>0</td>\n      <td>0</td>\n      <td>0</td>\n      <td>0</td>\n      <td>0</td>\n      <td>0</td>\n      <td>0</td>\n      <td>0</td>\n    </tr>\n  </tbody>\n</table>\n<p>169206 rows × 133 columns</p>\n</div>"
     },
     "execution_count": 44,
     "metadata": {},
     "output_type": "execute_result"
    }
   ],
   "source": [
    "df_train[\n",
    "    [\n",
    "        row\n",
    "        for row in train_data.columns.values.tolist()\n",
    "        if train_data[row].dtype != \"category\"\n",
    "    ]\n",
    "]"
   ],
   "metadata": {
    "collapsed": false
   }
  },
  {
   "cell_type": "code",
   "execution_count": 87,
   "outputs": [],
   "source": [
    "# imputer = datawig.Imputer(\n",
    "#     data_featurizers=[datawig.NumericalFeaturizer(row) for row in input_cols if train_data[row].dtype != 'object'],\n",
    "#     data_encoders=[datawig.NumericalEncoder(row) for row in input_cols if train_data[row].dtype != 'object'],\n",
    "#     label_encoders= [datawig.column_encoders.NumericalEncoder('content-length')],\n",
    "#     output_path = 'artifacts/imputer_model'\n",
    "# )\n",
    "\n",
    "imputer_num = datawig.SimpleImputer(\n",
    "    input_columns=[\"tracker\"],\n",
    "    output_column=\"server\",  # Column to be imputed\n",
    "    output_path=\"artifacts/imputer_model_num\",  # Store model data and metrics\n",
    ")"
   ],
   "metadata": {
    "collapsed": false
   }
  },
  {
   "cell_type": "code",
   "execution_count": null,
   "outputs": [],
   "source": [
    "imputer_num.fit(train_df=df_train[[\"tracker\", \"server\"]])"
   ],
   "metadata": {
    "collapsed": false,
    "pycharm": {
     "is_executing": true
    }
   }
  },
  {
   "cell_type": "code",
   "execution_count": null,
   "outputs": [],
   "source": [
    "predictions_num = imputer_num.predict(df_test[[\"server\", \"tracker\"]])"
   ],
   "metadata": {
    "collapsed": false,
    "pycharm": {
     "is_executing": true
    }
   }
  },
  {
   "cell_type": "code",
   "execution_count": 100,
   "outputs": [
    {
     "ename": "AttributeError",
     "evalue": "'Index' object has no attribute 'contains'",
     "output_type": "error",
     "traceback": [
      "\u001B[0;31m---------------------------------------------------------------------------\u001B[0m",
      "\u001B[0;31mAttributeError\u001B[0m                            Traceback (most recent call last)",
      "Input \u001B[0;32mIn [100]\u001B[0m, in \u001B[0;36m<cell line: 1>\u001B[0;34m()\u001B[0m\n\u001B[0;32m----> 1\u001B[0m \u001B[38;5;28;01mif\u001B[39;00m \u001B[43mdf_test\u001B[49m\u001B[38;5;241;43m.\u001B[39;49m\u001B[43mcolumns\u001B[49m\u001B[38;5;241;43m.\u001B[39;49m\u001B[43mcontains\u001B[49m(\u001B[38;5;124m'\u001B[39m\u001B[38;5;124mserver\u001B[39m\u001B[38;5;124m'\u001B[39m):\n\u001B[1;32m      2\u001B[0m     \u001B[38;5;28mprint\u001B[39m(\u001B[38;5;124m\"\u001B[39m\u001B[38;5;124myes\u001B[39m\u001B[38;5;124m\"\u001B[39m)\n",
      "\u001B[0;31mAttributeError\u001B[0m: 'Index' object has no attribute 'contains'"
     ]
    }
   ],
   "source": [
    "if df_test.columns.contains(\"server\"):\n",
    "    print(\"yes\")"
   ],
   "metadata": {
    "collapsed": false
   }
  },
  {
   "cell_type": "code",
   "execution_count": 31,
   "outputs": [],
   "source": [
    "list_of_categorical_cols = list(\n",
    "    train_data.select_dtypes(\"category\").columns.values.tolist()\n",
    ")\n",
    "# list_of_integer_cols = list(X_train.iloc[:, :-3].select_dtypes('Int64').columns.values.tolist())"
   ],
   "metadata": {
    "collapsed": false
   }
  },
  {
   "cell_type": "code",
   "execution_count": 31,
   "outputs": [
    {
     "data": {
      "text/plain": "['pragma',\n 'content-type',\n 'accept-ranges',\n 'etag',\n 'p3p',\n 'x-xss-protection',\n 'x-content-type-options',\n 'strict-transport-security',\n 'vary',\n 'content-encoding',\n 'cache-control',\n 'expires',\n 'server',\n 'age',\n 'alt-svc',\n 'access-control-allow-credentials',\n 'access-control-allow-origin',\n 'cross-origin-resource-policy',\n 'timing-allow-origin']"
     },
     "execution_count": 31,
     "metadata": {},
     "output_type": "execute_result"
    }
   ],
   "source": [
    "list_of_categorical_cols"
   ],
   "metadata": {
    "collapsed": false
   }
  },
  {
   "cell_type": "code",
   "execution_count": 60,
   "outputs": [],
   "source": [
    "impute_col_list_t = summary_table[\n",
    "    summary_table[\"ratio_tracker\"] > 0.4\n",
    "    ].header_name.values.tolist()\n",
    "impute_col_list_nt = summary_table[\n",
    "    summary_table[\"ratio_non_tracker\"] > 0.4\n",
    "    ].header_name.values.tolist()"
   ],
   "metadata": {
    "collapsed": false
   }
  },
  {
   "cell_type": "code",
   "execution_count": 193,
   "outputs": [
    {
     "data": {
      "text/plain": "['content-type',\n 'vary',\n 'content-encoding',\n 'cache-control',\n 'expires',\n 'date',\n 'content-length',\n 'server',\n 'alt-svc',\n 'access-control-allow-origin',\n 'cross-origin-resource-policy']"
     },
     "execution_count": 193,
     "metadata": {},
     "output_type": "execute_result"
    }
   ],
   "source": [
    "impute_col_list_t"
   ],
   "metadata": {
    "collapsed": false
   }
  },
  {
   "cell_type": "code",
   "execution_count": 200,
   "outputs": [],
   "source": [
    "train_data[\"cache-control\"] = train_data[\"cache-control\"].astype(\"category\")"
   ],
   "metadata": {
    "collapsed": false
   }
  },
  {
   "cell_type": "code",
   "execution_count": 201,
   "outputs": [
    {
     "data": {
      "text/plain": "pragma                                    category\ncontent-type                              category\naccept-ranges                             category\netag                                      category\np3p                                       category\n                                            ...   \nx-hostname_binary                            int64\nx-cdn-pop_binary                             int64\nx-cdn-pop-ip_binary                          int64\netag_length                                float64\naccess-control-allow-origin_cumulative    category\nLength: 153, dtype: object"
     },
     "execution_count": 201,
     "metadata": {},
     "output_type": "execute_result"
    }
   ],
   "source": [
    "train_data.dtypes"
   ],
   "metadata": {
    "collapsed": false
   }
  },
  {
   "cell_type": "code",
   "execution_count": 10,
   "outputs": [
    {
     "data": {
      "text/plain": "                  header_name  trackers  non_trackers  ratio_tracker  \\\n0                      pragma     25805        8853.0       0.333747   \n1                content-type     70183      191835.0       0.907707   \n2               last-modified     27829      154469.0       0.359924   \n3               accept-ranges     15119      116366.0       0.195541   \n4                        etag     18194      129781.0       0.235311   \n..                        ...       ...           ...            ...   \n145  x-hubspot-correlation-id       127         267.0       0.001643   \n146         x-hs-target-asset        63          76.0       0.000815   \n147                x-hostname       116          61.0         0.0015   \n148                 x-cdn-pop        17         122.0        0.00022   \n149              x-cdn-pop-ip        17         122.0        0.00022   \n\n     ratio_non_tracker  tracker_na_ratio  non_tracker_na_ratio  \n0             0.045473          0.666253              0.954527  \n1             0.985361          0.092293              0.014639  \n2             0.793430          0.640076              0.206570  \n3             0.597714          0.804459              0.402286  \n4             0.666620          0.764689              0.333380  \n..                 ...               ...                   ...  \n145           0.001371          0.998357              0.998629  \n146           0.000390          0.999185              0.999610  \n147           0.000313          0.998500              0.999687  \n148           0.000627          0.999780              0.999373  \n149           0.000627          0.999780              0.999373  \n\n[150 rows x 7 columns]",
      "text/html": "<div>\n<style scoped>\n    .dataframe tbody tr th:only-of-type {\n        vertical-align: middle;\n    }\n\n    .dataframe tbody tr th {\n        vertical-align: top;\n    }\n\n    .dataframe thead th {\n        text-align: right;\n    }\n</style>\n<table border=\"1\" class=\"dataframe\">\n  <thead>\n    <tr style=\"text-align: right;\">\n      <th></th>\n      <th>header_name</th>\n      <th>trackers</th>\n      <th>non_trackers</th>\n      <th>ratio_tracker</th>\n      <th>ratio_non_tracker</th>\n      <th>tracker_na_ratio</th>\n      <th>non_tracker_na_ratio</th>\n    </tr>\n  </thead>\n  <tbody>\n    <tr>\n      <th>0</th>\n      <td>pragma</td>\n      <td>25805</td>\n      <td>8853.0</td>\n      <td>0.333747</td>\n      <td>0.045473</td>\n      <td>0.666253</td>\n      <td>0.954527</td>\n    </tr>\n    <tr>\n      <th>1</th>\n      <td>content-type</td>\n      <td>70183</td>\n      <td>191835.0</td>\n      <td>0.907707</td>\n      <td>0.985361</td>\n      <td>0.092293</td>\n      <td>0.014639</td>\n    </tr>\n    <tr>\n      <th>2</th>\n      <td>last-modified</td>\n      <td>27829</td>\n      <td>154469.0</td>\n      <td>0.359924</td>\n      <td>0.793430</td>\n      <td>0.640076</td>\n      <td>0.206570</td>\n    </tr>\n    <tr>\n      <th>3</th>\n      <td>accept-ranges</td>\n      <td>15119</td>\n      <td>116366.0</td>\n      <td>0.195541</td>\n      <td>0.597714</td>\n      <td>0.804459</td>\n      <td>0.402286</td>\n    </tr>\n    <tr>\n      <th>4</th>\n      <td>etag</td>\n      <td>18194</td>\n      <td>129781.0</td>\n      <td>0.235311</td>\n      <td>0.666620</td>\n      <td>0.764689</td>\n      <td>0.333380</td>\n    </tr>\n    <tr>\n      <th>...</th>\n      <td>...</td>\n      <td>...</td>\n      <td>...</td>\n      <td>...</td>\n      <td>...</td>\n      <td>...</td>\n      <td>...</td>\n    </tr>\n    <tr>\n      <th>145</th>\n      <td>x-hubspot-correlation-id</td>\n      <td>127</td>\n      <td>267.0</td>\n      <td>0.001643</td>\n      <td>0.001371</td>\n      <td>0.998357</td>\n      <td>0.998629</td>\n    </tr>\n    <tr>\n      <th>146</th>\n      <td>x-hs-target-asset</td>\n      <td>63</td>\n      <td>76.0</td>\n      <td>0.000815</td>\n      <td>0.000390</td>\n      <td>0.999185</td>\n      <td>0.999610</td>\n    </tr>\n    <tr>\n      <th>147</th>\n      <td>x-hostname</td>\n      <td>116</td>\n      <td>61.0</td>\n      <td>0.0015</td>\n      <td>0.000313</td>\n      <td>0.998500</td>\n      <td>0.999687</td>\n    </tr>\n    <tr>\n      <th>148</th>\n      <td>x-cdn-pop</td>\n      <td>17</td>\n      <td>122.0</td>\n      <td>0.00022</td>\n      <td>0.000627</td>\n      <td>0.999780</td>\n      <td>0.999373</td>\n    </tr>\n    <tr>\n      <th>149</th>\n      <td>x-cdn-pop-ip</td>\n      <td>17</td>\n      <td>122.0</td>\n      <td>0.00022</td>\n      <td>0.000627</td>\n      <td>0.999780</td>\n      <td>0.999373</td>\n    </tr>\n  </tbody>\n</table>\n<p>150 rows × 7 columns</p>\n</div>"
     },
     "execution_count": 10,
     "metadata": {},
     "output_type": "execute_result"
    }
   ],
   "source": [
    "summary_table"
   ],
   "metadata": {
    "collapsed": false
   }
  },
  {
   "cell_type": "markdown",
   "source": [
    "### High cardinality features"
   ],
   "metadata": {
    "collapsed": false
   }
  },
  {
   "cell_type": "code",
   "execution_count": 32,
   "outputs": [],
   "source": [
    "# should be in data processing\n",
    "train_data.replace(\" \", np.nan, inplace=True)\n",
    "test_data.replace(\" \", np.nan, inplace=True)\n",
    "\n",
    "train_data.replace(\"\", np.nan, inplace=True)\n",
    "test_data.replace(\"\", np.nan, inplace=True)"
   ],
   "metadata": {
    "collapsed": false
   }
  },
  {
   "cell_type": "code",
   "execution_count": 163,
   "outputs": [
    {
     "data": {
      "text/plain": "                          content-type                                etag  \\\n0       text/javascript; charset=utf-8                15601544113783900868   \n1               application/javascript                                 NaN   \n2                            image/gif                                 NaN   \n3                                  NaN                                 NaN   \n4             text/html; charset=utf-8                                 NaN   \n...                                ...                                 ...   \n271999                       image/png                     \"618df712-2509\"   \n272000                             NaN                                 NaN   \n272001             binary/octet-stream  \"4abfa4888190370d347034f9fa43c804\"   \n272002                 application/xml                   \"29a-1630333f5d8\"   \n272003  text/javascript; charset=utf-8                   0x8da754860160d55   \n\n                                                      p3p  \\\n0       policyref=\"https://www.googleadservices.com/pa...   \n1                                                     NaN   \n2       policyref=\"https://www.googleadservices.com/pa...   \n3                                                     NaN   \n4                                                     NaN   \n...                                                   ...   \n271999                                                NaN   \n272000                                                NaN   \n272001                                                NaN   \n272002                                                NaN   \n272003                                                NaN   \n\n                  strict-transport-security  \\\n0                                       NaN   \n1       max-age=31536000; includesubdomains   \n2                                       NaN   \n3                                       NaN   \n4       max-age=15724800; includesubdomains   \n...                                     ...   \n271999                          max-age=300   \n272000                                  NaN   \n272001                                  NaN   \n272002            max-age=31536000; preload   \n272003                                  NaN   \n\n                                                     vary  \\\n0                                         accept-encoding   \n1                                         accept-encoding   \n2                                                     NaN   \n3                                                     NaN   \n4                                         accept-encoding   \n...                                                   ...   \n271999                                                NaN   \n272000                                                NaN   \n272001                             accept-encoding,origin   \n272002  x-edge-forwarded-proto, x-forwarded-host, acce...   \n272003                                                NaN   \n\n                                          cache-control  \\\n0                               public, max-age=1209600   \n1                                     max-age=630720000   \n2                   no-cache, no-store, must-revalidate   \n3                                              no-store   \n4                                    private, max-age=0   \n...                                                 ...   \n271999                                 max-age=31622400   \n272000   no-store, no-cache, must-revalidate, max-age=0   \n272001                                              NaN   \n272002                            public, max-age=86400   \n272003  public, max-age=432000, no-transform, immutable   \n\n                              expires  content-length  \\\n0       fri, 26 aug 2022 11:22:22 gmt           13475   \n1                                 NaN            4768   \n2       fri, 01 jan 1990 00:00:00 gmt              42   \n3                                 NaN               0   \n4       sun, 01 feb 1970 00:00:00 gmt            <NA>   \n...                               ...             ...   \n271999  thu, 03 aug 2023 14:44:48 gmt            9481   \n272000  mon, 04 dec 1999 21:29:02 gmt            <NA>   \n272001                            NaN           57064   \n272002                            NaN             666   \n272003                            NaN           70473   \n\n                                              server     age  \\\n0                                               cafe       0   \n1                                                NaN     NaN   \n2                                               cafe     NaN   \n3                                              nginx     NaN   \n4                                                NaN     NaN   \n...                                              ...     ...   \n271999                                         nginx  845572   \n272000                                           NaN     NaN   \n272001                                      amazons3       0   \n272002                                           NaN   28523   \n272003  windows-azure-blob/1.0 microsoft-httpapi/2.0     NaN   \n\n       access-control-allow-origin  \n0                              NaN  \n1                                *  \n2                              NaN  \n3                                *  \n4                              NaN  \n...                            ...  \n271999                         NaN  \n272000                           *  \n272001    https://www.synology.com  \n272002                         NaN  \n272003                           *  \n\n[272004 rows x 11 columns]",
      "text/html": "<div>\n<style scoped>\n    .dataframe tbody tr th:only-of-type {\n        vertical-align: middle;\n    }\n\n    .dataframe tbody tr th {\n        vertical-align: top;\n    }\n\n    .dataframe thead th {\n        text-align: right;\n    }\n</style>\n<table border=\"1\" class=\"dataframe\">\n  <thead>\n    <tr style=\"text-align: right;\">\n      <th></th>\n      <th>content-type</th>\n      <th>etag</th>\n      <th>p3p</th>\n      <th>strict-transport-security</th>\n      <th>vary</th>\n      <th>cache-control</th>\n      <th>expires</th>\n      <th>content-length</th>\n      <th>server</th>\n      <th>age</th>\n      <th>access-control-allow-origin</th>\n    </tr>\n  </thead>\n  <tbody>\n    <tr>\n      <th>0</th>\n      <td>text/javascript; charset=utf-8</td>\n      <td>15601544113783900868</td>\n      <td>policyref=\"https://www.googleadservices.com/pa...</td>\n      <td>NaN</td>\n      <td>accept-encoding</td>\n      <td>public, max-age=1209600</td>\n      <td>fri, 26 aug 2022 11:22:22 gmt</td>\n      <td>13475</td>\n      <td>cafe</td>\n      <td>0</td>\n      <td>NaN</td>\n    </tr>\n    <tr>\n      <th>1</th>\n      <td>application/javascript</td>\n      <td>NaN</td>\n      <td>NaN</td>\n      <td>max-age=31536000; includesubdomains</td>\n      <td>accept-encoding</td>\n      <td>max-age=630720000</td>\n      <td>NaN</td>\n      <td>4768</td>\n      <td>NaN</td>\n      <td>NaN</td>\n      <td>*</td>\n    </tr>\n    <tr>\n      <th>2</th>\n      <td>image/gif</td>\n      <td>NaN</td>\n      <td>policyref=\"https://www.googleadservices.com/pa...</td>\n      <td>NaN</td>\n      <td>NaN</td>\n      <td>no-cache, no-store, must-revalidate</td>\n      <td>fri, 01 jan 1990 00:00:00 gmt</td>\n      <td>42</td>\n      <td>cafe</td>\n      <td>NaN</td>\n      <td>NaN</td>\n    </tr>\n    <tr>\n      <th>3</th>\n      <td>NaN</td>\n      <td>NaN</td>\n      <td>NaN</td>\n      <td>NaN</td>\n      <td>NaN</td>\n      <td>no-store</td>\n      <td>NaN</td>\n      <td>0</td>\n      <td>nginx</td>\n      <td>NaN</td>\n      <td>*</td>\n    </tr>\n    <tr>\n      <th>4</th>\n      <td>text/html; charset=utf-8</td>\n      <td>NaN</td>\n      <td>NaN</td>\n      <td>max-age=15724800; includesubdomains</td>\n      <td>accept-encoding</td>\n      <td>private, max-age=0</td>\n      <td>sun, 01 feb 1970 00:00:00 gmt</td>\n      <td>&lt;NA&gt;</td>\n      <td>NaN</td>\n      <td>NaN</td>\n      <td>NaN</td>\n    </tr>\n    <tr>\n      <th>...</th>\n      <td>...</td>\n      <td>...</td>\n      <td>...</td>\n      <td>...</td>\n      <td>...</td>\n      <td>...</td>\n      <td>...</td>\n      <td>...</td>\n      <td>...</td>\n      <td>...</td>\n      <td>...</td>\n    </tr>\n    <tr>\n      <th>271999</th>\n      <td>image/png</td>\n      <td>\"618df712-2509\"</td>\n      <td>NaN</td>\n      <td>max-age=300</td>\n      <td>NaN</td>\n      <td>max-age=31622400</td>\n      <td>thu, 03 aug 2023 14:44:48 gmt</td>\n      <td>9481</td>\n      <td>nginx</td>\n      <td>845572</td>\n      <td>NaN</td>\n    </tr>\n    <tr>\n      <th>272000</th>\n      <td>NaN</td>\n      <td>NaN</td>\n      <td>NaN</td>\n      <td>NaN</td>\n      <td>NaN</td>\n      <td>no-store, no-cache, must-revalidate, max-age=0</td>\n      <td>mon, 04 dec 1999 21:29:02 gmt</td>\n      <td>&lt;NA&gt;</td>\n      <td>NaN</td>\n      <td>NaN</td>\n      <td>*</td>\n    </tr>\n    <tr>\n      <th>272001</th>\n      <td>binary/octet-stream</td>\n      <td>\"4abfa4888190370d347034f9fa43c804\"</td>\n      <td>NaN</td>\n      <td>NaN</td>\n      <td>accept-encoding,origin</td>\n      <td>NaN</td>\n      <td>NaN</td>\n      <td>57064</td>\n      <td>amazons3</td>\n      <td>0</td>\n      <td>https://www.synology.com</td>\n    </tr>\n    <tr>\n      <th>272002</th>\n      <td>application/xml</td>\n      <td>\"29a-1630333f5d8\"</td>\n      <td>NaN</td>\n      <td>max-age=31536000; preload</td>\n      <td>x-edge-forwarded-proto, x-forwarded-host, acce...</td>\n      <td>public, max-age=86400</td>\n      <td>NaN</td>\n      <td>666</td>\n      <td>NaN</td>\n      <td>28523</td>\n      <td>NaN</td>\n    </tr>\n    <tr>\n      <th>272003</th>\n      <td>text/javascript; charset=utf-8</td>\n      <td>0x8da754860160d55</td>\n      <td>NaN</td>\n      <td>NaN</td>\n      <td>NaN</td>\n      <td>public, max-age=432000, no-transform, immutable</td>\n      <td>NaN</td>\n      <td>70473</td>\n      <td>windows-azure-blob/1.0 microsoft-httpapi/2.0</td>\n      <td>NaN</td>\n      <td>*</td>\n    </tr>\n  </tbody>\n</table>\n<p>272004 rows × 11 columns</p>\n</div>"
     },
     "execution_count": 163,
     "metadata": {},
     "output_type": "execute_result"
    }
   ],
   "source": [
    "# filter high cardinality features\n",
    "train_data.loc[:, train_data.nunique() > 100]"
   ],
   "metadata": {
    "collapsed": false
   }
  },
  {
   "cell_type": "code",
   "execution_count": 33,
   "outputs": [],
   "source": [
    "train_data[\"etag\"] = train_data[\"etag\"].astype(\"object\")\n",
    "train_data[\"etag\"].replace(to_replace=r\"^w\\/\", value=\"\", regex=True, inplace=True)\n",
    "train_data.etag.replace(to_replace=r'\\\"', value=\"\", regex=True, inplace=True)\n",
    "train_data[\"etag\"] = train_data[\"etag\"].astype(\"category\")"
   ],
   "metadata": {
    "collapsed": false
   }
  },
  {
   "cell_type": "code",
   "execution_count": 8,
   "outputs": [
    {
     "data": {
      "text/plain": "1660137096112928                               386\nad4b0f606e0f8465bc4c4c170b37e1a3:1463757360    370\n12862140795212465669                           324\n0x8da7b64a03a8ae5                              312\n1484984001845508991                            241\n                                              ... \n5cad9-17e980c73e0                                1\n5cad620d-4a23                                    1\n5cad4c20b02e5b7d1d72345cbcfa9e48                 1\n5caca3c3-1317                                    1\n{fbf44a8c-5644-449e-8832-8b692e7f3175},1         1\nName: etag, Length: 113845, dtype: int64"
     },
     "execution_count": 8,
     "metadata": {},
     "output_type": "execute_result"
    }
   ],
   "source": [
    "train_data[\"etag\"].value_counts()"
   ],
   "metadata": {
    "collapsed": false
   }
  },
  {
   "cell_type": "code",
   "execution_count": 35,
   "outputs": [
    {
     "name": "stdout",
     "output_type": "stream",
     "text": [
      "CPU times: user 29 ms, sys: 1.36 ms, total: 30.4 ms\n",
      "Wall time: 29 ms\n"
     ]
    }
   ],
   "source": [
    "% % time\n",
    "train_data[\"etag_length\"] = train_data.etag.apply(len)"
   ],
   "metadata": {
    "collapsed": false
   }
  },
  {
   "cell_type": "code",
   "execution_count": 36,
   "outputs": [],
   "source": [
    "test_data.etag = test_data.etag.astype(\"object\")\n",
    "test_data.etag.replace(to_replace=r\"^w\\/\", value=\"\", regex=True, inplace=True)\n",
    "test_data.etag.replace(to_replace=r'\\\"', value=\"\", regex=True, inplace=True)\n",
    "test_data.etag = test_data.etag.astype(\"category\")\n",
    "test_data[\"etag_length\"] = test_data.etag.apply(len)\n",
    "\n",
    "train_data[\"etag_length\"].fillna(-1, inplace=True)\n",
    "test_data[\"etag_length\"].fillna(-1, inplace=True)\n",
    "\n",
    "train_data.etag_length = train_data.etag_length.astype(\"int16\")\n",
    "test_data.etag_length = test_data.etag_length.astype(\"int16\")"
   ],
   "metadata": {
    "collapsed": false
   }
  },
  {
   "cell_type": "code",
   "execution_count": 37,
   "outputs": [],
   "source": [
    "from collections import Counter\n",
    "\n",
    "\n",
    "# https://towardsdatascience.com/dealing-with-features-that-have-high-cardinality-1c9212d7ff1b\n",
    "def cumulatively_categorise(column, threshold=0.75, return_categories_list=True):\n",
    "    # Find the threshold value using the percentage and number of instances in the column\n",
    "    threshold_value = int(threshold * len(column))\n",
    "    # Initialise an empty list for our new minimised categories\n",
    "    categories_list = []\n",
    "    # Initialise a variable to calculate the sum of frequencies\n",
    "    s = 0\n",
    "    # Create a counter dictionary of the form unique_value: frequency\n",
    "    counts = Counter(column)\n",
    "\n",
    "    # Loop through the category name and its corresponding frequency after sorting the categories by descending order of frequency\n",
    "    for i, j in counts.most_common():\n",
    "        # Add the frequency to the global sum\n",
    "        s += dict(counts)[i]\n",
    "        # Append the category name to the list\n",
    "        categories_list.append(i)\n",
    "        # Check if the global sum has reached the threshold value, if so break the loop\n",
    "        if s >= threshold_value:\n",
    "            break\n",
    "    # Append the category Other to the list\n",
    "    categories_list.append(\"Other\")\n",
    "\n",
    "    # Replace all instances not in our new categories by Other\n",
    "    new_column = column.apply(lambda x: x if x in categories_list else \"Other\")\n",
    "\n",
    "    # Return transformed column and unique values if return_categories=True\n",
    "    if return_categories_list:\n",
    "        return new_column, categories_list\n",
    "    # Return only the transformed column if return_categories=False\n",
    "    else:\n",
    "        return new_column\n",
    "\n",
    "\n",
    "# Call the function with a default threshold of 75%\n",
    "transformed_column, new_category_list = cumulatively_categorise(\n",
    "    train_data[\"access-control-allow-origin\"], return_categories_list=True\n",
    ")"
   ],
   "metadata": {
    "collapsed": false
   }
  },
  {
   "cell_type": "code",
   "execution_count": 12,
   "outputs": [
    {
     "data": {
      "text/plain": "140706"
     },
     "execution_count": 12,
     "metadata": {},
     "output_type": "execute_result"
    }
   ],
   "source": [
    "train_data[\"access-control-allow-origin\"].isna().sum()"
   ],
   "metadata": {
    "collapsed": false
   }
  },
  {
   "cell_type": "code",
   "execution_count": 10,
   "outputs": [
    {
     "data": {
      "text/plain": "*        102011\nOther     29287\nName: access-control-allow-origin, dtype: int64"
     },
     "execution_count": 10,
     "metadata": {},
     "output_type": "execute_result"
    }
   ],
   "source": [
    "transformed_column.value_counts()"
   ],
   "metadata": {
    "collapsed": false
   }
  },
  {
   "cell_type": "code",
   "execution_count": 38,
   "outputs": [],
   "source": [
    "transformed_column_test, new_category_list_test = cumulatively_categorise(\n",
    "    test_data[\"access-control-allow-origin\"], return_categories_list=True\n",
    ")"
   ],
   "metadata": {
    "collapsed": false
   }
  },
  {
   "cell_type": "code",
   "execution_count": 39,
   "outputs": [
    {
     "data": {
      "text/plain": "*        183356\nOther     53383\nName: access-control-allow-origin, dtype: int64"
     },
     "execution_count": 39,
     "metadata": {},
     "output_type": "execute_result"
    }
   ],
   "source": [
    "transformed_column_test.value_counts()"
   ],
   "metadata": {
    "collapsed": false
   }
  },
  {
   "cell_type": "code",
   "execution_count": 40,
   "outputs": [],
   "source": [
    "train_data[\"access-control-allow-origin_cumulative\"] = transformed_column\n",
    "train_data[\"access-control-allow-origin_cumulative\"] = train_data[\n",
    "    \"access-control-allow-origin_cumulative\"\n",
    "].astype(\"category\")\n",
    "train_data.drop(\"access-control-allow-origin\", axis=1, inplace=True)"
   ],
   "metadata": {
    "collapsed": false
   }
  },
  {
   "cell_type": "code",
   "execution_count": 41,
   "outputs": [],
   "source": [
    "test_data[\"access-control-allow-origin_cumulative\"] = transformed_column_test\n",
    "test_data[\"access-control-allow-origin_cumulative\"] = test_data[\n",
    "    \"access-control-allow-origin_cumulative\"\n",
    "].astype(\"category\")\n",
    "test_data.drop(\"access-control-allow-origin\", axis=1, inplace=True)"
   ],
   "metadata": {
    "collapsed": false
   }
  },
  {
   "cell_type": "code",
   "execution_count": 42,
   "outputs": [],
   "source": [
    "train_data[\"age\"] = train_data[\"age\"].astype(\"object\")"
   ],
   "metadata": {
    "collapsed": false
   }
  },
  {
   "cell_type": "code",
   "execution_count": 43,
   "outputs": [],
   "source": [
    "train_data.age.replace(to_replace=r\"^0.*\\d\", value=0, regex=True, inplace=True)\n",
    "train_data.age.replace(to_replace=r\"^60;\", value=60, regex=True, inplace=True)"
   ],
   "metadata": {
    "collapsed": false
   }
  },
  {
   "cell_type": "code",
   "execution_count": 44,
   "outputs": [],
   "source": [
    "test_data[\"age\"] = test_data[\"age\"].astype(\"object\")"
   ],
   "metadata": {
    "collapsed": false
   }
  },
  {
   "cell_type": "code",
   "execution_count": 58,
   "outputs": [],
   "source": [
    "test_data.age.replace(to_replace=r\"^0.*\\d\", value=0, regex=True, inplace=True)\n",
    "test_data.age.replace(to_replace=r\"^60;\", value=60, regex=True, inplace=True)\n",
    "test_data.age.replace(to_replace=r\"^\\d*,.*\", value=617, regex=True, inplace=True)  # firefox\n",
    "test_data.age.replace(\"null\", np.nan, inplace=True)\n",
    "test_data.age = test_data.age.astype(\"float64\")"
   ],
   "metadata": {
    "collapsed": false
   }
  },
  {
   "cell_type": "code",
   "execution_count": 60,
   "outputs": [],
   "source": [
    "train_data.age.replace(\"null\", np.nan, inplace=True)\n",
    "train_data.age = train_data.age.astype(\"float64\")"
   ],
   "metadata": {
    "collapsed": false
   }
  },
  {
   "cell_type": "code",
   "execution_count": 114,
   "outputs": [
    {
     "data": {
      "text/plain": "cloudflare                39976\nnginx                     36629\namazons3                  21756\ncafe                      11677\nsffe                      10515\n                          ...  \nbcebos                        1\necacc (dcb/7f20)              1\nopenresty/1.11.2.1            1\nopenresty+                    1\njetty(8.1.9.v20130131)        1\nName: server, Length: 1312, dtype: int64"
     },
     "execution_count": 114,
     "metadata": {},
     "output_type": "execute_result"
    }
   ],
   "source": [
    "train_data.server.value_counts()"
   ],
   "metadata": {
    "collapsed": false
   }
  },
  {
   "cell_type": "code",
   "execution_count": 61,
   "outputs": [],
   "source": [
    "train_data.server = train_data.server.astype(\"object\")\n",
    "test_data.server = test_data.server.astype(\"object\")"
   ],
   "metadata": {
    "collapsed": false
   }
  },
  {
   "cell_type": "code",
   "execution_count": 62,
   "outputs": [],
   "source": [
    "server_values = [\n",
    "    \"nginx\",\n",
    "    \"apache\",\n",
    "    \"ecacc\",\n",
    "    \"ecs\",\n",
    "    \"oracle\",\n",
    "    \"mt3\",\n",
    "    \"microsoft\",\n",
    "    \"jetty\",\n",
    "    \"ats\",\n",
    "    \"openresty\",\n",
    "]"
   ],
   "metadata": {
    "collapsed": false
   }
  },
  {
   "cell_type": "code",
   "execution_count": 63,
   "outputs": [],
   "source": [
    "for elem in server_values:\n",
    "    train_data.server.replace(\n",
    "        to_replace=rf\"^{elem}.*\", value=f\"{elem}\", regex=True, inplace=True\n",
    "    )\n",
    "    test_data.server.replace(\n",
    "        to_replace=rf\"^{elem}.*\", value=f\"{elem}\", regex=True, inplace=True\n",
    "    )"
   ],
   "metadata": {
    "collapsed": false
   }
  },
  {
   "cell_type": "code",
   "execution_count": 139,
   "outputs": [
    {
     "data": {
      "text/plain": "nginx                                                                        46640\ncloudflare                                                                   39976\namazons3                                                                     21756\napache                                                                       12932\ncafe                                                                         11677\n                                                                             ...  \nycalb                                                                            1\nclingest-secure i-05a627d2e9546ffbd                                              1\nweb_push_view/0.10.0 (web-push-view)                                             1\nmatch/6913.98ef00e9c398630524ec3cc55780a8569dd8e00d (i-08860c73bcd65dae3)        1\nopendns                                                                          1\nName: server, Length: 710, dtype: int64"
     },
     "execution_count": 139,
     "metadata": {},
     "output_type": "execute_result"
    }
   ],
   "source": [
    "train_data.server.value_counts()"
   ],
   "metadata": {
    "collapsed": false
   }
  },
  {
   "cell_type": "code",
   "execution_count": 64,
   "outputs": [],
   "source": [
    "transformed_column_server, new_category_list_server = cumulatively_categorise(\n",
    "    train_data.server, threshold=0.9, return_categories_list=True\n",
    ")\n",
    "\n",
    "transformed_column_server_test, new_category_list_server_test = cumulatively_categorise(\n",
    "    test_data.server, threshold=0.9, return_categories_list=True\n",
    ")"
   ],
   "metadata": {
    "collapsed": false
   }
  },
  {
   "cell_type": "code",
   "execution_count": 65,
   "outputs": [],
   "source": [
    "train_data.server = transformed_column_server\n",
    "train_data.server = train_data.server.astype(\"category\")\n",
    "\n",
    "test_data.server = transformed_column_server\n",
    "test_data.server = test_data.server.astype(\"category\")"
   ],
   "metadata": {
    "collapsed": false
   }
  },
  {
   "cell_type": "code",
   "execution_count": 66,
   "outputs": [
    {
     "data": {
      "text/plain": "server                 tracker\nnginx                  0          36919\ncloudflare             0          34679\nOther                  0          20437\namazons3               0          18115\ncafe                   1          11477\n                                  ...  \ngoogle tag manager     0             15\nnws_oversea_ap         1              8\nakamai image manager   1              7\nnetlify                1              4\ncontentful images api  1              2\nLength: 62, dtype: int64"
     },
     "execution_count": 66,
     "metadata": {},
     "output_type": "execute_result"
    }
   ],
   "source": [
    "train_data[['server', 'tracker']].value_counts()"
   ],
   "metadata": {
    "collapsed": false
   }
  },
  {
   "cell_type": "code",
   "execution_count": 159,
   "outputs": [],
   "source": [
    "train_data[\"cache-control\"] = train_data[\"cache-control\"].astype(\"object\")"
   ],
   "metadata": {
    "collapsed": false
   }
  },
  {
   "cell_type": "code",
   "execution_count": 160,
   "outputs": [
    {
     "data": {
      "text/plain": "max-age=31536000                       18699\npublic, max-age=31536000               18666\nno-cache, no-store, must-revalidate    11071\nmax-age=2592000                         8227\nmax-age=315360000                       5528\n                                       ...  \nmax-age=1078733                            1\nmax-age=36039                              1\nmax-age=44887                              1\nmax-age=167890                             1\nprivate, max-age=2996                      1\nName: cache-control, Length: 15441, dtype: int64"
     },
     "execution_count": 160,
     "metadata": {},
     "output_type": "execute_result"
    }
   ],
   "source": [
    "train_data[\"cache-control\"].value_counts()"
   ],
   "metadata": {
    "collapsed": false
   }
  },
  {
   "cell_type": "code",
   "execution_count": 162,
   "outputs": [
    {
     "data": {
      "text/plain": "               0          1\n0       max-age=    1209600\n1       max-age=  630720000\n2            NaN        NaN\n3            NaN        NaN\n4       max-age=          0\n...          ...        ...\n271999  max-age=   31622400\n272000  max-age=          0\n272001       NaN        NaN\n272002  max-age=      86400\n272003  max-age=     432000\n\n[272004 rows x 2 columns]",
      "text/html": "<div>\n<style scoped>\n    .dataframe tbody tr th:only-of-type {\n        vertical-align: middle;\n    }\n\n    .dataframe tbody tr th {\n        vertical-align: top;\n    }\n\n    .dataframe thead th {\n        text-align: right;\n    }\n</style>\n<table border=\"1\" class=\"dataframe\">\n  <thead>\n    <tr style=\"text-align: right;\">\n      <th></th>\n      <th>0</th>\n      <th>1</th>\n    </tr>\n  </thead>\n  <tbody>\n    <tr>\n      <th>0</th>\n      <td>max-age=</td>\n      <td>1209600</td>\n    </tr>\n    <tr>\n      <th>1</th>\n      <td>max-age=</td>\n      <td>630720000</td>\n    </tr>\n    <tr>\n      <th>2</th>\n      <td>NaN</td>\n      <td>NaN</td>\n    </tr>\n    <tr>\n      <th>3</th>\n      <td>NaN</td>\n      <td>NaN</td>\n    </tr>\n    <tr>\n      <th>4</th>\n      <td>max-age=</td>\n      <td>0</td>\n    </tr>\n    <tr>\n      <th>...</th>\n      <td>...</td>\n      <td>...</td>\n    </tr>\n    <tr>\n      <th>271999</th>\n      <td>max-age=</td>\n      <td>31622400</td>\n    </tr>\n    <tr>\n      <th>272000</th>\n      <td>max-age=</td>\n      <td>0</td>\n    </tr>\n    <tr>\n      <th>272001</th>\n      <td>NaN</td>\n      <td>NaN</td>\n    </tr>\n    <tr>\n      <th>272002</th>\n      <td>max-age=</td>\n      <td>86400</td>\n    </tr>\n    <tr>\n      <th>272003</th>\n      <td>max-age=</td>\n      <td>432000</td>\n    </tr>\n  </tbody>\n</table>\n<p>272004 rows × 2 columns</p>\n</div>"
     },
     "execution_count": 162,
     "metadata": {},
     "output_type": "execute_result"
    }
   ],
   "source": [
    "train_data[\"cache-control\"].str.extract(\"(max\\-age\\=)(\\d*)\")"
   ],
   "metadata": {
    "collapsed": false
   }
  },
  {
   "cell_type": "code",
   "execution_count": 189,
   "outputs": [
    {
     "data": {
      "text/plain": "x-xss-protection                                                                                                                                                                                                                       tracker\n0                                                                                                                                                                                                                                      1          23176\n1; mode=block                                                                                                                                                                                                                          0          22367\n0                                                                                                                                                                                                                                      0          10751\n1; mode=block                                                                                                                                                                                                                          1           2613\n1                                                                                                                                                                                                                                      0           1951\n1;mode=block                                                                                                                                                                                                                           0            751\n1; mode=block;                                                                                                                                                                                                                         0            140\n1;                                                                                                                                                                                                                                     0             89\n1; mode = block                                                                                                                                                                                                                        0             87\n1; mode=block; report=https://trustarc.com?gdsih-xxp-report;                                                                                                                                                                           0             72\n1                                                                                                                                                                                                                                      1             55\n1;  mode=block                                                                                                                                                                                                                         0             54\nblock                                                                                                                                                                                                                                  0             46\n1; mode=block; report=https://cspreport.mail.ru/xxssprotection                                                                                                                                                                         0             41\n1 ; mode=block                                                                                                                                                                                                                         0             36\n1; mode=block always                                                                                                                                                                                                                   0             31\n1;mode=block                                                                                                                                                                                                                           1             27\n1;report=https://csp.surveymonkey.com/report?e=false&c=prod&ar=true                                                                                                                                                                    0             25\n1; report=/xss_reports                                                                                                                                                                                                                 0             23\n1; mode=block; report=https://cspreport.mail.ru/xxssprotection                                                                                                                                                                         1             15\n1; mode=block; report=https://report-uri.highwebmedia.com/r/t/xss/enforce                                                                                                                                                              0             14\n1; mode=block; report=https://eset.report-uri.com/r/d/xss/enforce                                                                                                                                                                      0             13\n1; report=/hc/csp                                                                                                                                                                                                                      0             13\n1;                                                                                                                                                                                                                                     1             13\nmode=block                                                                                                                                                                                                                             0             10\n1; report=/csp-report                                                                                                                                                                                                                  0              9\n1; mode=block;                                                                                                                                                                                                                         1              7\n'1;mode=block'                                                                                                                                                                                                                         0              7\n1;  mode=block                                                                                                                                                                                                                         1              7\n0; mode=block                                                                                                                                                                                                                          0              6\n1; mode=block; report=https://www.hse.ru/n/api/xss/report                                                                                                                                                                              0              5\n1; report=/seclog/xss                                                                                                                                                                                                                  0              3\n1; mode=block; report=/beacon/csp.php                                                                                                                                                                                                  1              2\n                                                                                                                                                                                                                                       0              2\n1; report=https://www.yelp.com/xss_protection_report                                                                                                                                                                                   0              2\n1; report=/hc/csp                                                                                                                                                                                                                      1              2\n\"1; mode=block\" always                                                                                                                                                                                                                 0              2\n1; mode=block; report=/xss-report?source%5baction%5d=index&source%5bapp%5d=brochure&source%5bcontroller%5d=home&source%5bdomain%5d=www.shopify.com&source%5bsection%5d=brochure&source%5buuid%5d=5748c896-2559-4d24-9be7-dfc6547cde7f  0              1\n1; report=https://pf.newegg.com/csp?source=xss                                                                                                                                                                                         0              1\n1; report=https://allegroapi.io/seclog/xss                                                                                                                                                                                             0              1\n1; mode=block; report=https://www.netflix.com/ichnaea/log/freeform/xssreport                                                                                                                                                           0              1\n1; mode=block; report=/xss-report?source%5baction%5d=update&source%5bapp%5d=shopify&source%5bcontroller%5d=storefront_section%2fcart&source%5bsection%5d=storefront&source%5buuid%5d=485f17e3-09e1-4302-af14-f4c808f2d52a              0              1\n1; mode=block; report=/client-errors/xss                                                                                                                                                                                               0              1\n1; mode = block                                                                                                                                                                                                                        1              1\nx-xss-protection: 1; mode=block                                                                                                                                                                                                        1              1\ndtype: int64"
     },
     "execution_count": 189,
     "metadata": {},
     "output_type": "execute_result"
    }
   ],
   "source": [
    "train_data[[\"x-xss-protection\", \"tracker\"]].value_counts()"
   ],
   "metadata": {
    "collapsed": false
   }
  },
  {
   "cell_type": "code",
   "execution_count": 300,
   "outputs": [
    {
     "data": {
      "text/plain": "0.9077070319067758"
     },
     "execution_count": 300,
     "metadata": {},
     "output_type": "execute_result"
    }
   ],
   "source": [
    "# summary_table.loc[summary_table.header_name == 'content-type', 'ratio_non_tracker'][1]\n",
    "summary_table.loc[summary_table.header_name == \"content-type\", \"ratio_tracker\"].values[\n",
    "    0\n",
    "]"
   ],
   "metadata": {
    "collapsed": false
   }
  },
  {
   "cell_type": "code",
   "execution_count": 273,
   "outputs": [
    {
     "name": "stderr",
     "output_type": "stream",
     "text": [
      "<ipython-input-273-6227d5e2ff1c>:1: FutureWarning: The `inplace` parameter in pandas.Categorical.add_categories is deprecated and will be removed in a future version. Removing unused categories will always return a new Categorical object.\n",
      "  train_data['content-type'].cat.add_categories('Missing', inplace=True)\n"
     ]
    }
   ],
   "source": [
    "train_data[\"content-type\"].cat.add_categories(\"Missing\", inplace=True)"
   ],
   "metadata": {
    "collapsed": false
   }
  },
  {
   "cell_type": "code",
   "execution_count": 274,
   "outputs": [
    {
     "data": {
      "text/plain": "Index(['*', '*/*', '.jpg', 'app/json; charset=utf-8',\n       'application/atom+xml; charset=utf-8', 'application/dash+xml',\n       'application/ecmascript', 'application/font', 'application/font-otf',\n       'application/font-sfnt',\n       ...\n       'unknown', 'unknown/unknown', 'video/m2ts', 'video/mp2t', 'video/mp2ts',\n       'video/mp4', 'video/webm', 'webp', 'x-font/ttf', 'Missing'],\n      dtype='object', length=324)"
     },
     "execution_count": 274,
     "metadata": {},
     "output_type": "execute_result"
    }
   ],
   "source": [
    "train_data[\"content-type\"].cat.categories"
   ],
   "metadata": {
    "collapsed": false
   }
  },
  {
   "cell_type": "code",
   "execution_count": 68,
   "outputs": [],
   "source": [
    "impute_col_list_t = summary_table[\n",
    "    summary_table[\"ratio_tracker\"] > 0.4\n",
    "    ].header_name.values.tolist()\n",
    "impute_col_list_nt = summary_table[\n",
    "    summary_table[\"ratio_non_tracker\"] > 0.4\n",
    "    ].header_name.values.tolist()\n",
    "\n",
    "list_of_categorical_cols = list(\n",
    "    train_data.select_dtypes(\"category\").columns.values.tolist()\n",
    ")"
   ],
   "metadata": {
    "collapsed": false
   }
  },
  {
   "cell_type": "code",
   "execution_count": 67,
   "outputs": [],
   "source": [
    "imputed_values_dict = {0: [], 1: []}"
   ],
   "metadata": {
    "collapsed": false
   }
  },
  {
   "cell_type": "code",
   "execution_count": 71,
   "outputs": [],
   "source": [
    "def impute_value(element, classification):\n",
    "    check = (\n",
    "        summary_table.loc[summary_table.header_name == element, \"ratio_tracker\"].values[\n",
    "            0\n",
    "        ]\n",
    "        if classification == 1\n",
    "        else summary_table.loc[\n",
    "            summary_table.header_name == element, \"ratio_non_tracker\"\n",
    "        ].values[0]\n",
    "    )\n",
    "    if element in [\"content-length\", \"age\"]:\n",
    "        value = int(\n",
    "            train_data[train_data[\"tracker\"] == classification][element].median()\n",
    "        )\n",
    "        if check < 0.4:\n",
    "            value = -1\n",
    "        imputed_values_dict[classification].append({element: value})\n",
    "        train_data.loc[\n",
    "            train_data[\"tracker\"] == classification, element\n",
    "        ] = train_data.loc[train_data[\"tracker\"] == classification, element].fillna(\n",
    "            value\n",
    "        )\n",
    "\n",
    "    if element in list_of_categorical_cols:\n",
    "        value = (\n",
    "            train_data[train_data[\"tracker\"] == classification][element].mode().iloc[0]\n",
    "        )\n",
    "        if check < 0.4:\n",
    "            value = \"Missing\"\n",
    "            if value not in train_data[element].cat.categories:\n",
    "                train_data[element].cat.add_categories(\"Missing\", inplace=True)\n",
    "        imputed_values_dict[classification].append({element: value})\n",
    "        train_data.loc[\n",
    "            train_data[\"tracker\"] == classification, element\n",
    "        ] = train_data.loc[train_data[\"tracker\"] == classification, element].fillna(\n",
    "            value\n",
    "        )"
   ],
   "metadata": {
    "collapsed": false
   }
  },
  {
   "cell_type": "code",
   "execution_count": 72,
   "outputs": [
    {
     "name": "stderr",
     "output_type": "stream",
     "text": [
      "<ipython-input-71-00f6118db46e>:31: FutureWarning: The `inplace` parameter in pandas.Categorical.add_categories is deprecated and will be removed in a future version. Removing unused categories will always return a new Categorical object.\n",
      "  train_data[element].cat.add_categories(\"Missing\", inplace=True)\n",
      "<ipython-input-71-00f6118db46e>:31: FutureWarning: The `inplace` parameter in pandas.Categorical.add_categories is deprecated and will be removed in a future version. Removing unused categories will always return a new Categorical object.\n",
      "  train_data[element].cat.add_categories(\"Missing\", inplace=True)\n",
      "<ipython-input-71-00f6118db46e>:31: FutureWarning: The `inplace` parameter in pandas.Categorical.add_categories is deprecated and will be removed in a future version. Removing unused categories will always return a new Categorical object.\n",
      "  train_data[element].cat.add_categories(\"Missing\", inplace=True)\n",
      "<ipython-input-71-00f6118db46e>:31: FutureWarning: The `inplace` parameter in pandas.Categorical.add_categories is deprecated and will be removed in a future version. Removing unused categories will always return a new Categorical object.\n",
      "  train_data[element].cat.add_categories(\"Missing\", inplace=True)\n"
     ]
    }
   ],
   "source": [
    "for header in impute_col_list_t:\n",
    "    impute_value(header, 0)\n",
    "\n",
    "for header in impute_col_list_t:\n",
    "    impute_value(header, 1)\n",
    "\n",
    "for header in impute_col_list_nt:\n",
    "    impute_value(header, 1)\n",
    "\n",
    "for header in impute_col_list_nt:\n",
    "    impute_value(header, 0)"
   ],
   "metadata": {
    "collapsed": false
   }
  },
  {
   "cell_type": "code",
   "execution_count": 67,
   "outputs": [],
   "source": [
    "current_header = train_data.columns.tolist()"
   ],
   "metadata": {
    "collapsed": false
   }
  },
  {
   "cell_type": "code",
   "execution_count": 69,
   "outputs": [],
   "source": [
    "impute_col_list_t = list(filter(lambda x: x in current_header, impute_col_list_t))\n",
    "impute_col_list_nt = list(filter(lambda x: x in current_header, impute_col_list_nt))"
   ],
   "metadata": {
    "collapsed": false
   }
  },
  {
   "cell_type": "code",
   "execution_count": 309,
   "outputs": [
    {
     "data": {
      "text/plain": "pragma                                    237590\ncontent-type                                   0\naccept-ranges                                  0\netag                                           0\np3p                                       245640\n                                           ...  \nx-hostname_binary                              0\nx-cdn-pop_binary                               0\nx-cdn-pop-ip_binary                            0\netag_length                               124033\naccess-control-allow-origin_cumulative    140706\nLength: 153, dtype: int64"
     },
     "execution_count": 309,
     "metadata": {},
     "output_type": "execute_result"
    }
   ],
   "source": [
    "train_data.isna().sum()"
   ],
   "metadata": {
    "collapsed": false
   }
  },
  {
   "cell_type": "code",
   "execution_count": 99,
   "outputs": [
    {
     "data": {
      "text/plain": "{0: [{'content-type': 'image/jpeg'},\n  {'vary': 'accept-encoding'},\n  {'content-encoding': 'gzip'},\n  {'cache-control': 'max-age=31536000'},\n  {'expires': 'thu, 31 dec 2037 23:55:55 gmt'},\n  {'content-length': 7461},\n  {'server': 'nginx'},\n  {'alt-svc': 'Missing'},\n  {'cross-origin-resource-policy': 'Missing'},\n  {'content-type': 'image/jpeg'},\n  {'accept-ranges': 'bytes'},\n  {'etag': '0x8da7b64a03a8ae5'},\n  {'vary': 'accept-encoding'},\n  {'content-encoding': 'gzip'},\n  {'cache-control': 'max-age=31536000'},\n  {'expires': 'thu, 31 dec 2037 23:55:55 gmt'},\n  {'content-length': 7461},\n  {'server': 'nginx'},\n  {'age': 90752}],\n 1: [{'content-type': 'image/gif'},\n  {'vary': 'accept-encoding'},\n  {'content-encoding': 'gzip'},\n  {'cache-control': 'no-cache, no-store, must-revalidate'},\n  {'expires': 'fri, 01 jan 1990 00:00:00 gmt'},\n  {'content-length': 49},\n  {'server': 'cafe'},\n  {'alt-svc': 'h3=\":443\"; ma=2592000,h3-29=\":443\"; ma=2592000,h3-q050=\":443\"; ma=2592000,h3-q046=\":443\"; ma=2592000,h3-q043=\":443\"; ma=2592000,quic=\":443\"; ma=2592000; v=\"46,43\"'},\n  {'cross-origin-resource-policy': 'cross-origin'},\n  {'content-type': 'image/gif'},\n  {'accept-ranges': 'Missing'},\n  {'etag': 'Missing'},\n  {'vary': 'accept-encoding'},\n  {'content-encoding': 'gzip'},\n  {'cache-control': 'no-cache, no-store, must-revalidate'},\n  {'expires': 'fri, 01 jan 1990 00:00:00 gmt'},\n  {'content-length': 49},\n  {'server': 'cafe'},\n  {'age': -1}]}"
     },
     "execution_count": 99,
     "metadata": {},
     "output_type": "execute_result"
    }
   ],
   "source": [
    "imputed_values_dict"
   ],
   "metadata": {
    "collapsed": false
   }
  },
  {
   "cell_type": "code",
   "execution_count": 73,
   "outputs": [
    {
     "name": "stderr",
     "output_type": "stream",
     "text": [
      "<ipython-input-73-b11c3de4da39>:5: FutureWarning: The `inplace` parameter in pandas.Categorical.add_categories is deprecated and will be removed in a future version. Removing unused categories will always return a new Categorical object.\n",
      "  test_data[key].cat.add_categories(\"Missing\", inplace=True)\n",
      "<ipython-input-73-b11c3de4da39>:5: FutureWarning: The `inplace` parameter in pandas.Categorical.add_categories is deprecated and will be removed in a future version. Removing unused categories will always return a new Categorical object.\n",
      "  test_data[key].cat.add_categories(\"Missing\", inplace=True)\n"
     ]
    }
   ],
   "source": [
    "for elem in imputed_values_dict[0]:\n",
    "    ((key, value),) = elem.items()\n",
    "    if key in list_of_categorical_cols:\n",
    "        if value not in test_data[key].cat.categories:\n",
    "            test_data[key].cat.add_categories(\"Missing\", inplace=True)\n",
    "    test_data.loc[test_data[\"tracker\"] == 0, key] = test_data.loc[\n",
    "        test_data[\"tracker\"] == 0, key\n",
    "    ].fillna(value)"
   ],
   "metadata": {
    "collapsed": false
   }
  },
  {
   "cell_type": "code",
   "execution_count": 74,
   "outputs": [
    {
     "name": "stderr",
     "output_type": "stream",
     "text": [
      "<ipython-input-74-2e2fb51d01e0>:5: FutureWarning: The `inplace` parameter in pandas.Categorical.add_categories is deprecated and will be removed in a future version. Removing unused categories will always return a new Categorical object.\n",
      "  test_data[key].cat.add_categories(\"Missing\", inplace=True)\n",
      "<ipython-input-74-2e2fb51d01e0>:5: FutureWarning: The `inplace` parameter in pandas.Categorical.add_categories is deprecated and will be removed in a future version. Removing unused categories will always return a new Categorical object.\n",
      "  test_data[key].cat.add_categories(\"Missing\", inplace=True)\n"
     ]
    }
   ],
   "source": [
    "for elem in imputed_values_dict[1]:\n",
    "    ((key, value),) = elem.items()\n",
    "    if key in list_of_categorical_cols:\n",
    "        if value not in test_data[key].cat.categories:\n",
    "            test_data[key].cat.add_categories(\"Missing\", inplace=True)\n",
    "    test_data.loc[test_data[\"tracker\"] == 1, key] = test_data.loc[\n",
    "        test_data[\"tracker\"] == 1, key\n",
    "    ].fillna(value)"
   ],
   "metadata": {
    "collapsed": false
   }
  },
  {
   "cell_type": "code",
   "execution_count": 75,
   "outputs": [
    {
     "name": "stderr",
     "output_type": "stream",
     "text": [
      "<ipython-input-75-020923fbd66e>:1: FutureWarning: The `inplace` parameter in pandas.Categorical.add_categories is deprecated and will be removed in a future version. Removing unused categories will always return a new Categorical object.\n",
      "  train_data[\"access-control-allow-origin_cumulative\"].cat.add_categories(\n",
      "<ipython-input-75-020923fbd66e>:4: FutureWarning: The `inplace` parameter in pandas.Categorical.add_categories is deprecated and will be removed in a future version. Removing unused categories will always return a new Categorical object.\n",
      "  test_data[\"access-control-allow-origin_cumulative\"].cat.add_categories(\n"
     ]
    }
   ],
   "source": [
    "train_data[\"access-control-allow-origin_cumulative\"].cat.add_categories(\n",
    "    \"Missing\", inplace=True\n",
    ")\n",
    "test_data[\"access-control-allow-origin_cumulative\"].cat.add_categories(\n",
    "    \"Missing\", inplace=True\n",
    ")\n",
    "train_data[\"access-control-allow-origin_cumulative\"].fillna(\"Missing\", inplace=True)\n",
    "test_data[\"access-control-allow-origin_cumulative\"].fillna(\"Missing\", inplace=True)"
   ],
   "metadata": {
    "collapsed": false
   }
  },
  {
   "cell_type": "code",
   "execution_count": 76,
   "outputs": [
    {
     "data": {
      "text/plain": "pragma                                    237590\ncontent-type                                   0\naccept-ranges                                  0\netag                                           0\np3p                                       245640\n                                           ...  \nx-hostname_binary                              0\nx-cdn-pop_binary                               0\nx-cdn-pop-ip_binary                            0\netag_length                                    0\naccess-control-allow-origin_cumulative         0\nLength: 152, dtype: int64"
     },
     "execution_count": 76,
     "metadata": {},
     "output_type": "execute_result"
    }
   ],
   "source": [
    "train_data.isna().sum()"
   ],
   "metadata": {
    "collapsed": false
   }
  },
  {
   "cell_type": "code",
   "execution_count": 77,
   "outputs": [],
   "source": [
    "for elem in [\n",
    "    \"pragma\",\n",
    "    \"p3p\",\n",
    "    \"x-xss-protection\",\n",
    "    \"x-content-type-options\",\n",
    "    \"strict-transport-security\",\n",
    "    \"access-control-allow-credentials\",\n",
    "    \"timing-allow-origin\",\n",
    "]:\n",
    "    train_data[f\"{elem}_binary\"] = np.where(train_data[elem].isnull(), 0, 1)\n",
    "    test_data[f\"{elem}_binary\"] = np.where(test_data[elem].isnull(), 0, 1)"
   ],
   "metadata": {
    "collapsed": false
   }
  },
  {
   "cell_type": "code",
   "execution_count": 78,
   "outputs": [],
   "source": [
    "train_data.drop(\n",
    "    [\n",
    "        \"pragma\",\n",
    "        \"p3p\",\n",
    "        \"x-xss-protection\",\n",
    "        \"x-content-type-options\",\n",
    "        \"strict-transport-security\",\n",
    "        \"access-control-allow-credentials\",\n",
    "        \"timing-allow-origin\",\n",
    "    ],\n",
    "    axis=1,\n",
    "    inplace=True,\n",
    ")\n",
    "test_data.drop(\n",
    "    [\n",
    "        \"pragma\",\n",
    "        \"p3p\",\n",
    "        \"x-xss-protection\",\n",
    "        \"x-content-type-options\",\n",
    "        \"strict-transport-security\",\n",
    "        \"access-control-allow-credentials\",\n",
    "        \"timing-allow-origin\",\n",
    "    ],\n",
    "    axis=1,\n",
    "    inplace=True,\n",
    ")"
   ],
   "metadata": {
    "collapsed": false
   }
  },
  {
   "cell_type": "code",
   "execution_count": 79,
   "outputs": [],
   "source": [
    "train_data.to_parquet(\n",
    "    \"../data/processed/chrome/08_12_2022/train_set_01_featurized.parquet.gzip\"\n",
    ")\n",
    "test_data.to_parquet(\n",
    "    \"../data/processed/chrome/08_12_2022/test_set_01_featurized.parquet.gzip\"\n",
    ")"
   ],
   "metadata": {
    "collapsed": false
   }
  },
  {
   "cell_type": "markdown",
   "source": [
    "Train dummy classifier"
   ],
   "metadata": {
    "collapsed": false
   }
  },
  {
   "cell_type": "code",
   "execution_count": 98,
   "outputs": [
    {
     "name": "stdout",
     "output_type": "stream",
     "text": [
      "CPU times: user 23.7 ms, sys: 1.14 ms, total: 24.8 ms\n",
      "Wall time: 24.7 ms\n"
     ]
    },
    {
     "data": {
      "text/plain": "0.4994050105206749"
     },
     "execution_count": 98,
     "metadata": {},
     "output_type": "execute_result"
    }
   ],
   "source": [
    "% % time\n",
    "dummy_clf = DummyClassifier(strategy=\"uniform\", random_state=10)\n",
    "dummy_clf.fit(X_train, y_train)\n",
    "dummy_clf.score(X_train, y_train)"
   ],
   "metadata": {
    "collapsed": false
   }
  },
  {
   "cell_type": "code",
   "execution_count": 175,
   "outputs": [
    {
     "data": {
      "text/plain": "                       hostname  \\\n0            static.pornpics.de   \n1                 www.apple.com   \n2                www.comodo.com   \n3                   wpastra.com   \n4                     www.o2.pl   \n...                         ...   \n67996           api-2-0.spot.im   \n67997  www.google-analytics.com   \n67998             login.ibm.com   \n67999                    dev.to   \n68000                 uiowa.edu   \n\n                                                pathname  \\\n0                                    /style4/img/1px.png   \n1      /wss/fonts/SF-Pro-Display/v3/sf-pro-display_bo...   \n2      /wp-content/themes/comodo-child/assets/js/jque...   \n3                /wp-content/uploads/2021/12/wp-logo.png   \n4      /MHgxNjAuYikGGjhZbg5vPUVCbEUnWn9nARk4AyIaI2VWT...   \n...                                                  ...   \n67996                 /v1.0.0/owa-gw/spot/sp_psR3LEKl/v2   \n67997                              /plugins/ua/linkid.js   \n67998                        /v1/mgmt/idaas/user/status/   \n67999                                                  /   \n68000  /themes/custom/uids_base/assets/css/components...   \n\n                                                filetype  \\\n0                                                    png   \n1                                                  woff2   \n2                                                     js   \n3                                                    png   \n4      /MHgxNjAuYikGGjhZbg5vPUVCbEUnWn9nARk4AyIaI2VWT...   \n...                                                  ...   \n67996                       0/owa-gw/spot/sp_psR3LEKl/v2   \n67997                                                 js   \n67998                        /v1/mgmt/idaas/user/status/   \n67999                                                  /   \n68000                                                css   \n\n                                                filename pragma  \\\n0                                                1px.png    NaN   \n1                       sf-pro-display_bold-italic.woff2    NaN   \n2                                     jquery.validate.js    NaN   \n3                                            wp-logo.png    NaN   \n4      MHgxNjAuYikGGjhZbg5vPUVCbEUnWn9nARk4AyIaI2VWTn...    NaN   \n...                                                  ...    ...   \n67996                                                 v2    NaN   \n67997                                          linkid.js    NaN   \n67998                                                       NaN   \n67999                                                       NaN   \n68000                                            cta.css    NaN   \n\n                   content-type                  last-modified accept-ranges  \\\n0                     image/png  thu, 26 sep 2019 10:11:41 gmt         bytes   \n1                    font/woff2  thu, 16 jun 2022 22:54:46 gmt           NaN   \n2        application/javascript  thu, 21 jul 2022 02:07:42 gmt         bytes   \n3                    image/webp  thu, 02 dec 2021 07:36:15 gmt         bytes   \n4                     image/png  thu, 14 nov 2019 13:45:36 gmt         bytes   \n...                         ...                            ...           ...   \n67996          application/json                            NaN           NaN   \n67997           text/javascript  tue, 22 oct 2019 18:15:00 gmt         bytes   \n67998          application/json                            NaN           NaN   \n67999  text/html; charset=utf-8                            NaN         bytes   \n68000                  text/css  wed, 27 apr 2022 18:48:45 gmt         bytes   \n\n                                       etag                            p3p  \\\n0                             \"5d8c8edd-44\"                            NaN   \n1                                       NaN                            NaN   \n2                           \"62d8b4ee-957e\"                            NaN   \n3                           \"61a8776f-18ea\"                            NaN   \n4        \"3232f62028480cd85f19072341a56a4c\"                            NaN   \n...                                     ...                            ...   \n67996                                   NaN                            NaN   \n67997                                   NaN                            NaN   \n67998                                   NaN  cp=\"non cur otpi our nor uni\"   \n67999  w/\"45a86e113f5f6aba3e2291d4c140d07c\"                            NaN   \n68000                                   NaN                            NaN   \n\n       ... x-b3-sampled x-b3-spanid x-hubspot-correlation-id  \\\n0      ...         <NA>         NaN                      NaN   \n1      ...         <NA>         NaN                      NaN   \n2      ...         <NA>         NaN                      NaN   \n3      ...         <NA>         NaN                      NaN   \n4      ...         <NA>         NaN                      NaN   \n...    ...          ...         ...                      ...   \n67996  ...         <NA>         NaN                      NaN   \n67997  ...         <NA>         NaN                      NaN   \n67998  ...         <NA>         NaN                      NaN   \n67999  ...         <NA>         NaN                      NaN   \n68000  ...         <NA>         NaN                      NaN   \n\n      x-hs-target-asset x-hostname x-cdn-pop x-cdn-pop-ip header_count  \\\n0                   NaN        NaN       NaN          NaN           14   \n1                   NaN        NaN       NaN          NaN           14   \n2                   NaN        NaN       NaN          NaN           13   \n3                   NaN        NaN       NaN          NaN           24   \n4                   NaN        NaN       NaN          NaN           14   \n...                 ...        ...       ...          ...          ...   \n67996               NaN        NaN       NaN          NaN           16   \n67997               NaN        NaN       NaN          NaN           17   \n67998               NaN        NaN       NaN          NaN           21   \n67999               NaN        NaN       NaN          NaN           28   \n68000               NaN        NaN       NaN          NaN           17   \n\n      comb_col_non_tracker  comb_col_tracker  \n0                        1                 0  \n1                        0                 0  \n2                        0                 0  \n3                        2                 0  \n4                        3                 0  \n...                    ...               ...  \n67996                    0                 0  \n67997                    0                 0  \n67998                    5                 0  \n67999                    4                 0  \n68000                    2                 0  \n\n[68001 rows x 157 columns]",
      "text/html": "<div>\n<style scoped>\n    .dataframe tbody tr th:only-of-type {\n        vertical-align: middle;\n    }\n\n    .dataframe tbody tr th {\n        vertical-align: top;\n    }\n\n    .dataframe thead th {\n        text-align: right;\n    }\n</style>\n<table border=\"1\" class=\"dataframe\">\n  <thead>\n    <tr style=\"text-align: right;\">\n      <th></th>\n      <th>hostname</th>\n      <th>pathname</th>\n      <th>filetype</th>\n      <th>filename</th>\n      <th>pragma</th>\n      <th>content-type</th>\n      <th>last-modified</th>\n      <th>accept-ranges</th>\n      <th>etag</th>\n      <th>p3p</th>\n      <th>...</th>\n      <th>x-b3-sampled</th>\n      <th>x-b3-spanid</th>\n      <th>x-hubspot-correlation-id</th>\n      <th>x-hs-target-asset</th>\n      <th>x-hostname</th>\n      <th>x-cdn-pop</th>\n      <th>x-cdn-pop-ip</th>\n      <th>header_count</th>\n      <th>comb_col_non_tracker</th>\n      <th>comb_col_tracker</th>\n    </tr>\n  </thead>\n  <tbody>\n    <tr>\n      <th>0</th>\n      <td>static.pornpics.de</td>\n      <td>/style4/img/1px.png</td>\n      <td>png</td>\n      <td>1px.png</td>\n      <td>NaN</td>\n      <td>image/png</td>\n      <td>thu, 26 sep 2019 10:11:41 gmt</td>\n      <td>bytes</td>\n      <td>\"5d8c8edd-44\"</td>\n      <td>NaN</td>\n      <td>...</td>\n      <td>&lt;NA&gt;</td>\n      <td>NaN</td>\n      <td>NaN</td>\n      <td>NaN</td>\n      <td>NaN</td>\n      <td>NaN</td>\n      <td>NaN</td>\n      <td>14</td>\n      <td>1</td>\n      <td>0</td>\n    </tr>\n    <tr>\n      <th>1</th>\n      <td>www.apple.com</td>\n      <td>/wss/fonts/SF-Pro-Display/v3/sf-pro-display_bo...</td>\n      <td>woff2</td>\n      <td>sf-pro-display_bold-italic.woff2</td>\n      <td>NaN</td>\n      <td>font/woff2</td>\n      <td>thu, 16 jun 2022 22:54:46 gmt</td>\n      <td>NaN</td>\n      <td>NaN</td>\n      <td>NaN</td>\n      <td>...</td>\n      <td>&lt;NA&gt;</td>\n      <td>NaN</td>\n      <td>NaN</td>\n      <td>NaN</td>\n      <td>NaN</td>\n      <td>NaN</td>\n      <td>NaN</td>\n      <td>14</td>\n      <td>0</td>\n      <td>0</td>\n    </tr>\n    <tr>\n      <th>2</th>\n      <td>www.comodo.com</td>\n      <td>/wp-content/themes/comodo-child/assets/js/jque...</td>\n      <td>js</td>\n      <td>jquery.validate.js</td>\n      <td>NaN</td>\n      <td>application/javascript</td>\n      <td>thu, 21 jul 2022 02:07:42 gmt</td>\n      <td>bytes</td>\n      <td>\"62d8b4ee-957e\"</td>\n      <td>NaN</td>\n      <td>...</td>\n      <td>&lt;NA&gt;</td>\n      <td>NaN</td>\n      <td>NaN</td>\n      <td>NaN</td>\n      <td>NaN</td>\n      <td>NaN</td>\n      <td>NaN</td>\n      <td>13</td>\n      <td>0</td>\n      <td>0</td>\n    </tr>\n    <tr>\n      <th>3</th>\n      <td>wpastra.com</td>\n      <td>/wp-content/uploads/2021/12/wp-logo.png</td>\n      <td>png</td>\n      <td>wp-logo.png</td>\n      <td>NaN</td>\n      <td>image/webp</td>\n      <td>thu, 02 dec 2021 07:36:15 gmt</td>\n      <td>bytes</td>\n      <td>\"61a8776f-18ea\"</td>\n      <td>NaN</td>\n      <td>...</td>\n      <td>&lt;NA&gt;</td>\n      <td>NaN</td>\n      <td>NaN</td>\n      <td>NaN</td>\n      <td>NaN</td>\n      <td>NaN</td>\n      <td>NaN</td>\n      <td>24</td>\n      <td>2</td>\n      <td>0</td>\n    </tr>\n    <tr>\n      <th>4</th>\n      <td>www.o2.pl</td>\n      <td>/MHgxNjAuYikGGjhZbg5vPUVCbEUnWn9nARk4AyIaI2VWT...</td>\n      <td>/MHgxNjAuYikGGjhZbg5vPUVCbEUnWn9nARk4AyIaI2VWT...</td>\n      <td>MHgxNjAuYikGGjhZbg5vPUVCbEUnWn9nARk4AyIaI2VWTn...</td>\n      <td>NaN</td>\n      <td>image/png</td>\n      <td>thu, 14 nov 2019 13:45:36 gmt</td>\n      <td>bytes</td>\n      <td>\"3232f62028480cd85f19072341a56a4c\"</td>\n      <td>NaN</td>\n      <td>...</td>\n      <td>&lt;NA&gt;</td>\n      <td>NaN</td>\n      <td>NaN</td>\n      <td>NaN</td>\n      <td>NaN</td>\n      <td>NaN</td>\n      <td>NaN</td>\n      <td>14</td>\n      <td>3</td>\n      <td>0</td>\n    </tr>\n    <tr>\n      <th>...</th>\n      <td>...</td>\n      <td>...</td>\n      <td>...</td>\n      <td>...</td>\n      <td>...</td>\n      <td>...</td>\n      <td>...</td>\n      <td>...</td>\n      <td>...</td>\n      <td>...</td>\n      <td>...</td>\n      <td>...</td>\n      <td>...</td>\n      <td>...</td>\n      <td>...</td>\n      <td>...</td>\n      <td>...</td>\n      <td>...</td>\n      <td>...</td>\n      <td>...</td>\n      <td>...</td>\n    </tr>\n    <tr>\n      <th>67996</th>\n      <td>api-2-0.spot.im</td>\n      <td>/v1.0.0/owa-gw/spot/sp_psR3LEKl/v2</td>\n      <td>0/owa-gw/spot/sp_psR3LEKl/v2</td>\n      <td>v2</td>\n      <td>NaN</td>\n      <td>application/json</td>\n      <td>NaN</td>\n      <td>NaN</td>\n      <td>NaN</td>\n      <td>NaN</td>\n      <td>...</td>\n      <td>&lt;NA&gt;</td>\n      <td>NaN</td>\n      <td>NaN</td>\n      <td>NaN</td>\n      <td>NaN</td>\n      <td>NaN</td>\n      <td>NaN</td>\n      <td>16</td>\n      <td>0</td>\n      <td>0</td>\n    </tr>\n    <tr>\n      <th>67997</th>\n      <td>www.google-analytics.com</td>\n      <td>/plugins/ua/linkid.js</td>\n      <td>js</td>\n      <td>linkid.js</td>\n      <td>NaN</td>\n      <td>text/javascript</td>\n      <td>tue, 22 oct 2019 18:15:00 gmt</td>\n      <td>bytes</td>\n      <td>NaN</td>\n      <td>NaN</td>\n      <td>...</td>\n      <td>&lt;NA&gt;</td>\n      <td>NaN</td>\n      <td>NaN</td>\n      <td>NaN</td>\n      <td>NaN</td>\n      <td>NaN</td>\n      <td>NaN</td>\n      <td>17</td>\n      <td>0</td>\n      <td>0</td>\n    </tr>\n    <tr>\n      <th>67998</th>\n      <td>login.ibm.com</td>\n      <td>/v1/mgmt/idaas/user/status/</td>\n      <td>/v1/mgmt/idaas/user/status/</td>\n      <td></td>\n      <td>NaN</td>\n      <td>application/json</td>\n      <td>NaN</td>\n      <td>NaN</td>\n      <td>NaN</td>\n      <td>cp=\"non cur otpi our nor uni\"</td>\n      <td>...</td>\n      <td>&lt;NA&gt;</td>\n      <td>NaN</td>\n      <td>NaN</td>\n      <td>NaN</td>\n      <td>NaN</td>\n      <td>NaN</td>\n      <td>NaN</td>\n      <td>21</td>\n      <td>5</td>\n      <td>0</td>\n    </tr>\n    <tr>\n      <th>67999</th>\n      <td>dev.to</td>\n      <td>/</td>\n      <td>/</td>\n      <td></td>\n      <td>NaN</td>\n      <td>text/html; charset=utf-8</td>\n      <td>NaN</td>\n      <td>bytes</td>\n      <td>w/\"45a86e113f5f6aba3e2291d4c140d07c\"</td>\n      <td>NaN</td>\n      <td>...</td>\n      <td>&lt;NA&gt;</td>\n      <td>NaN</td>\n      <td>NaN</td>\n      <td>NaN</td>\n      <td>NaN</td>\n      <td>NaN</td>\n      <td>NaN</td>\n      <td>28</td>\n      <td>4</td>\n      <td>0</td>\n    </tr>\n    <tr>\n      <th>68000</th>\n      <td>uiowa.edu</td>\n      <td>/themes/custom/uids_base/assets/css/components...</td>\n      <td>css</td>\n      <td>cta.css</td>\n      <td>NaN</td>\n      <td>text/css</td>\n      <td>wed, 27 apr 2022 18:48:45 gmt</td>\n      <td>bytes</td>\n      <td>NaN</td>\n      <td>NaN</td>\n      <td>...</td>\n      <td>&lt;NA&gt;</td>\n      <td>NaN</td>\n      <td>NaN</td>\n      <td>NaN</td>\n      <td>NaN</td>\n      <td>NaN</td>\n      <td>NaN</td>\n      <td>17</td>\n      <td>2</td>\n      <td>0</td>\n    </tr>\n  </tbody>\n</table>\n<p>68001 rows × 157 columns</p>\n</div>"
     },
     "execution_count": 175,
     "metadata": {},
     "output_type": "execute_result"
    }
   ],
   "source": [
    "X_test"
   ],
   "metadata": {
    "collapsed": false
   }
  },
  {
   "cell_type": "code",
   "execution_count": 25,
   "outputs": [
    {
     "data": {
      "text/plain": "tracker    int32\ndtype: object"
     },
     "execution_count": 25,
     "metadata": {},
     "output_type": "execute_result"
    }
   ],
   "source": [
    "y_train.dtypes"
   ],
   "metadata": {
    "collapsed": false
   }
  },
  {
   "cell_type": "code",
   "execution_count": 223,
   "outputs": [],
   "source": [
    "a = label_encoder.fit_transform(y_train[\"tracker\"])"
   ],
   "metadata": {
    "collapsed": false
   }
  },
  {
   "cell_type": "code",
   "execution_count": 188,
   "outputs": [],
   "source": [
    "X_test = X_test.dropna(axis=1, how=\"any\").iloc[:, 4:]\n",
    "X_train_2 = X_train.dropna(axis=1, how=\"any\").iloc[:, 4:]"
   ],
   "metadata": {
    "collapsed": false
   }
  },
  {
   "cell_type": "code",
   "execution_count": 213,
   "outputs": [],
   "source": [
    "model = xgb.XGBClassifier()"
   ],
   "metadata": {
    "collapsed": false
   }
  },
  {
   "cell_type": "code",
   "execution_count": 224,
   "outputs": [
    {
     "name": "stderr",
     "output_type": "stream",
     "text": [
      "/Users/wolfrieder/miniconda3/envs/code/lib/python3.9/site-packages/xgboost/sklearn.py:1224: UserWarning: The use of label encoder in XGBClassifier is deprecated and will be removed in a future release. To remove this warning, do the following: 1) Pass option use_label_encoder=False when constructing XGBClassifier object; and 2) Encode your labels (y) as integers starting with 0, i.e. 0, 1, 2, ..., [num_class - 1].\n",
      "  warnings.warn(label_encoder_deprecation_msg, UserWarning)\n"
     ]
    },
    {
     "ename": "ValueError",
     "evalue": "DataFrame.dtypes for data must be int, float, bool or category.  When\ncategorical type is supplied, DMatrix parameter `enable_categorical` must\nbe set to `True`. Invalid columns:content-length",
     "output_type": "error",
     "traceback": [
      "\u001B[0;31m---------------------------------------------------------------------------\u001B[0m",
      "\u001B[0;31mValueError\u001B[0m                                Traceback (most recent call last)",
      "Input \u001B[0;32mIn [224]\u001B[0m, in \u001B[0;36m<cell line: 1>\u001B[0;34m()\u001B[0m\n\u001B[0;32m----> 1\u001B[0m \u001B[43mmodel\u001B[49m\u001B[38;5;241;43m.\u001B[39;49m\u001B[43mfit\u001B[49m\u001B[43m(\u001B[49m\u001B[43mX_train_2\u001B[49m\u001B[43m,\u001B[49m\u001B[43m \u001B[49m\u001B[43ma\u001B[49m\u001B[43m)\u001B[49m\n",
      "File \u001B[0;32m~/miniconda3/envs/code/lib/python3.9/site-packages/xgboost/core.py:506\u001B[0m, in \u001B[0;36m_deprecate_positional_args.<locals>.inner_f\u001B[0;34m(*args, **kwargs)\u001B[0m\n\u001B[1;32m    504\u001B[0m \u001B[38;5;28;01mfor\u001B[39;00m k, arg \u001B[38;5;129;01min\u001B[39;00m \u001B[38;5;28mzip\u001B[39m(sig\u001B[38;5;241m.\u001B[39mparameters, args):\n\u001B[1;32m    505\u001B[0m     kwargs[k] \u001B[38;5;241m=\u001B[39m arg\n\u001B[0;32m--> 506\u001B[0m \u001B[38;5;28;01mreturn\u001B[39;00m \u001B[43mf\u001B[49m\u001B[43m(\u001B[49m\u001B[38;5;241;43m*\u001B[39;49m\u001B[38;5;241;43m*\u001B[39;49m\u001B[43mkwargs\u001B[49m\u001B[43m)\u001B[49m\n",
      "File \u001B[0;32m~/miniconda3/envs/code/lib/python3.9/site-packages/xgboost/sklearn.py:1231\u001B[0m, in \u001B[0;36mXGBClassifier.fit\u001B[0;34m(self, X, y, sample_weight, base_margin, eval_set, eval_metric, early_stopping_rounds, verbose, xgb_model, sample_weight_eval_set, base_margin_eval_set, feature_weights, callbacks)\u001B[0m\n\u001B[1;32m   1228\u001B[0m     label_transform \u001B[38;5;241m=\u001B[39m \u001B[38;5;28;01mlambda\u001B[39;00m x: x\n\u001B[1;32m   1230\u001B[0m model, feval, params \u001B[38;5;241m=\u001B[39m \u001B[38;5;28mself\u001B[39m\u001B[38;5;241m.\u001B[39m_configure_fit(xgb_model, eval_metric, params)\n\u001B[0;32m-> 1231\u001B[0m train_dmatrix, evals \u001B[38;5;241m=\u001B[39m \u001B[43m_wrap_evaluation_matrices\u001B[49m\u001B[43m(\u001B[49m\n\u001B[1;32m   1232\u001B[0m \u001B[43m    \u001B[49m\u001B[43mmissing\u001B[49m\u001B[38;5;241;43m=\u001B[39;49m\u001B[38;5;28;43mself\u001B[39;49m\u001B[38;5;241;43m.\u001B[39;49m\u001B[43mmissing\u001B[49m\u001B[43m,\u001B[49m\n\u001B[1;32m   1233\u001B[0m \u001B[43m    \u001B[49m\u001B[43mX\u001B[49m\u001B[38;5;241;43m=\u001B[39;49m\u001B[43mX\u001B[49m\u001B[43m,\u001B[49m\n\u001B[1;32m   1234\u001B[0m \u001B[43m    \u001B[49m\u001B[43my\u001B[49m\u001B[38;5;241;43m=\u001B[39;49m\u001B[43my\u001B[49m\u001B[43m,\u001B[49m\n\u001B[1;32m   1235\u001B[0m \u001B[43m    \u001B[49m\u001B[43mgroup\u001B[49m\u001B[38;5;241;43m=\u001B[39;49m\u001B[38;5;28;43;01mNone\u001B[39;49;00m\u001B[43m,\u001B[49m\n\u001B[1;32m   1236\u001B[0m \u001B[43m    \u001B[49m\u001B[43mqid\u001B[49m\u001B[38;5;241;43m=\u001B[39;49m\u001B[38;5;28;43;01mNone\u001B[39;49;00m\u001B[43m,\u001B[49m\n\u001B[1;32m   1237\u001B[0m \u001B[43m    \u001B[49m\u001B[43msample_weight\u001B[49m\u001B[38;5;241;43m=\u001B[39;49m\u001B[43msample_weight\u001B[49m\u001B[43m,\u001B[49m\n\u001B[1;32m   1238\u001B[0m \u001B[43m    \u001B[49m\u001B[43mbase_margin\u001B[49m\u001B[38;5;241;43m=\u001B[39;49m\u001B[43mbase_margin\u001B[49m\u001B[43m,\u001B[49m\n\u001B[1;32m   1239\u001B[0m \u001B[43m    \u001B[49m\u001B[43mfeature_weights\u001B[49m\u001B[38;5;241;43m=\u001B[39;49m\u001B[43mfeature_weights\u001B[49m\u001B[43m,\u001B[49m\n\u001B[1;32m   1240\u001B[0m \u001B[43m    \u001B[49m\u001B[43meval_set\u001B[49m\u001B[38;5;241;43m=\u001B[39;49m\u001B[43meval_set\u001B[49m\u001B[43m,\u001B[49m\n\u001B[1;32m   1241\u001B[0m \u001B[43m    \u001B[49m\u001B[43msample_weight_eval_set\u001B[49m\u001B[38;5;241;43m=\u001B[39;49m\u001B[43msample_weight_eval_set\u001B[49m\u001B[43m,\u001B[49m\n\u001B[1;32m   1242\u001B[0m \u001B[43m    \u001B[49m\u001B[43mbase_margin_eval_set\u001B[49m\u001B[38;5;241;43m=\u001B[39;49m\u001B[43mbase_margin_eval_set\u001B[49m\u001B[43m,\u001B[49m\n\u001B[1;32m   1243\u001B[0m \u001B[43m    \u001B[49m\u001B[43meval_group\u001B[49m\u001B[38;5;241;43m=\u001B[39;49m\u001B[38;5;28;43;01mNone\u001B[39;49;00m\u001B[43m,\u001B[49m\n\u001B[1;32m   1244\u001B[0m \u001B[43m    \u001B[49m\u001B[43meval_qid\u001B[49m\u001B[38;5;241;43m=\u001B[39;49m\u001B[38;5;28;43;01mNone\u001B[39;49;00m\u001B[43m,\u001B[49m\n\u001B[1;32m   1245\u001B[0m \u001B[43m    \u001B[49m\u001B[43mcreate_dmatrix\u001B[49m\u001B[38;5;241;43m=\u001B[39;49m\u001B[38;5;28;43;01mlambda\u001B[39;49;00m\u001B[43m \u001B[49m\u001B[38;5;241;43m*\u001B[39;49m\u001B[38;5;241;43m*\u001B[39;49m\u001B[43mkwargs\u001B[49m\u001B[43m:\u001B[49m\u001B[43m \u001B[49m\u001B[43mDMatrix\u001B[49m\u001B[43m(\u001B[49m\u001B[43mnthread\u001B[49m\u001B[38;5;241;43m=\u001B[39;49m\u001B[38;5;28;43mself\u001B[39;49m\u001B[38;5;241;43m.\u001B[39;49m\u001B[43mn_jobs\u001B[49m\u001B[43m,\u001B[49m\u001B[43m \u001B[49m\u001B[38;5;241;43m*\u001B[39;49m\u001B[38;5;241;43m*\u001B[39;49m\u001B[43mkwargs\u001B[49m\u001B[43m)\u001B[49m\u001B[43m,\u001B[49m\n\u001B[1;32m   1246\u001B[0m \u001B[43m    \u001B[49m\u001B[43menable_categorical\u001B[49m\u001B[38;5;241;43m=\u001B[39;49m\u001B[38;5;28;43mself\u001B[39;49m\u001B[38;5;241;43m.\u001B[39;49m\u001B[43menable_categorical\u001B[49m\u001B[43m,\u001B[49m\n\u001B[1;32m   1247\u001B[0m \u001B[43m    \u001B[49m\u001B[43mlabel_transform\u001B[49m\u001B[38;5;241;43m=\u001B[39;49m\u001B[43mlabel_transform\u001B[49m\u001B[43m,\u001B[49m\n\u001B[1;32m   1248\u001B[0m \u001B[43m\u001B[49m\u001B[43m)\u001B[49m\n\u001B[1;32m   1250\u001B[0m \u001B[38;5;28mself\u001B[39m\u001B[38;5;241m.\u001B[39m_Booster \u001B[38;5;241m=\u001B[39m train(\n\u001B[1;32m   1251\u001B[0m     params,\n\u001B[1;32m   1252\u001B[0m     train_dmatrix,\n\u001B[0;32m   (...)\u001B[0m\n\u001B[1;32m   1261\u001B[0m     callbacks\u001B[38;5;241m=\u001B[39mcallbacks,\n\u001B[1;32m   1262\u001B[0m )\n\u001B[1;32m   1264\u001B[0m \u001B[38;5;28;01mif\u001B[39;00m \u001B[38;5;129;01mnot\u001B[39;00m callable(\u001B[38;5;28mself\u001B[39m\u001B[38;5;241m.\u001B[39mobjective):\n",
      "File \u001B[0;32m~/miniconda3/envs/code/lib/python3.9/site-packages/xgboost/sklearn.py:286\u001B[0m, in \u001B[0;36m_wrap_evaluation_matrices\u001B[0;34m(missing, X, y, group, qid, sample_weight, base_margin, feature_weights, eval_set, sample_weight_eval_set, base_margin_eval_set, eval_group, eval_qid, create_dmatrix, enable_categorical, label_transform)\u001B[0m\n\u001B[1;32m    265\u001B[0m \u001B[38;5;28;01mdef\u001B[39;00m \u001B[38;5;21m_wrap_evaluation_matrices\u001B[39m(\n\u001B[1;32m    266\u001B[0m     missing: \u001B[38;5;28mfloat\u001B[39m,\n\u001B[1;32m    267\u001B[0m     X: Any,\n\u001B[0;32m   (...)\u001B[0m\n\u001B[1;32m    281\u001B[0m     label_transform: Callable \u001B[38;5;241m=\u001B[39m \u001B[38;5;28;01mlambda\u001B[39;00m x: x,\n\u001B[1;32m    282\u001B[0m ) \u001B[38;5;241m-\u001B[39m\u001B[38;5;241m>\u001B[39m Tuple[Any, Optional[List[Tuple[Any, \u001B[38;5;28mstr\u001B[39m]]]]:\n\u001B[1;32m    283\u001B[0m     \u001B[38;5;124;03m\"\"\"Convert array_like evaluation matrices into DMatrix.  Perform validation on the way.\u001B[39;00m\n\u001B[1;32m    284\u001B[0m \n\u001B[1;32m    285\u001B[0m \u001B[38;5;124;03m    \"\"\"\u001B[39;00m\n\u001B[0;32m--> 286\u001B[0m     train_dmatrix \u001B[38;5;241m=\u001B[39m \u001B[43mcreate_dmatrix\u001B[49m\u001B[43m(\u001B[49m\n\u001B[1;32m    287\u001B[0m \u001B[43m        \u001B[49m\u001B[43mdata\u001B[49m\u001B[38;5;241;43m=\u001B[39;49m\u001B[43mX\u001B[49m\u001B[43m,\u001B[49m\n\u001B[1;32m    288\u001B[0m \u001B[43m        \u001B[49m\u001B[43mlabel\u001B[49m\u001B[38;5;241;43m=\u001B[39;49m\u001B[43mlabel_transform\u001B[49m\u001B[43m(\u001B[49m\u001B[43my\u001B[49m\u001B[43m)\u001B[49m\u001B[43m,\u001B[49m\n\u001B[1;32m    289\u001B[0m \u001B[43m        \u001B[49m\u001B[43mgroup\u001B[49m\u001B[38;5;241;43m=\u001B[39;49m\u001B[43mgroup\u001B[49m\u001B[43m,\u001B[49m\n\u001B[1;32m    290\u001B[0m \u001B[43m        \u001B[49m\u001B[43mqid\u001B[49m\u001B[38;5;241;43m=\u001B[39;49m\u001B[43mqid\u001B[49m\u001B[43m,\u001B[49m\n\u001B[1;32m    291\u001B[0m \u001B[43m        \u001B[49m\u001B[43mweight\u001B[49m\u001B[38;5;241;43m=\u001B[39;49m\u001B[43msample_weight\u001B[49m\u001B[43m,\u001B[49m\n\u001B[1;32m    292\u001B[0m \u001B[43m        \u001B[49m\u001B[43mbase_margin\u001B[49m\u001B[38;5;241;43m=\u001B[39;49m\u001B[43mbase_margin\u001B[49m\u001B[43m,\u001B[49m\n\u001B[1;32m    293\u001B[0m \u001B[43m        \u001B[49m\u001B[43mfeature_weights\u001B[49m\u001B[38;5;241;43m=\u001B[39;49m\u001B[43mfeature_weights\u001B[49m\u001B[43m,\u001B[49m\n\u001B[1;32m    294\u001B[0m \u001B[43m        \u001B[49m\u001B[43mmissing\u001B[49m\u001B[38;5;241;43m=\u001B[39;49m\u001B[43mmissing\u001B[49m\u001B[43m,\u001B[49m\n\u001B[1;32m    295\u001B[0m \u001B[43m        \u001B[49m\u001B[43menable_categorical\u001B[49m\u001B[38;5;241;43m=\u001B[39;49m\u001B[43menable_categorical\u001B[49m\u001B[43m,\u001B[49m\n\u001B[1;32m    296\u001B[0m \u001B[43m    \u001B[49m\u001B[43m)\u001B[49m\n\u001B[1;32m    298\u001B[0m     n_validation \u001B[38;5;241m=\u001B[39m \u001B[38;5;241m0\u001B[39m \u001B[38;5;28;01mif\u001B[39;00m eval_set \u001B[38;5;129;01mis\u001B[39;00m \u001B[38;5;28;01mNone\u001B[39;00m \u001B[38;5;28;01melse\u001B[39;00m \u001B[38;5;28mlen\u001B[39m(eval_set)\n\u001B[1;32m    300\u001B[0m     \u001B[38;5;28;01mdef\u001B[39;00m \u001B[38;5;21mvalidate_or_none\u001B[39m(meta: Optional[List], name: \u001B[38;5;28mstr\u001B[39m) \u001B[38;5;241m-\u001B[39m\u001B[38;5;241m>\u001B[39m List:\n",
      "File \u001B[0;32m~/miniconda3/envs/code/lib/python3.9/site-packages/xgboost/sklearn.py:1245\u001B[0m, in \u001B[0;36mXGBClassifier.fit.<locals>.<lambda>\u001B[0;34m(**kwargs)\u001B[0m\n\u001B[1;32m   1228\u001B[0m     label_transform \u001B[38;5;241m=\u001B[39m \u001B[38;5;28;01mlambda\u001B[39;00m x: x\n\u001B[1;32m   1230\u001B[0m model, feval, params \u001B[38;5;241m=\u001B[39m \u001B[38;5;28mself\u001B[39m\u001B[38;5;241m.\u001B[39m_configure_fit(xgb_model, eval_metric, params)\n\u001B[1;32m   1231\u001B[0m train_dmatrix, evals \u001B[38;5;241m=\u001B[39m _wrap_evaluation_matrices(\n\u001B[1;32m   1232\u001B[0m     missing\u001B[38;5;241m=\u001B[39m\u001B[38;5;28mself\u001B[39m\u001B[38;5;241m.\u001B[39mmissing,\n\u001B[1;32m   1233\u001B[0m     X\u001B[38;5;241m=\u001B[39mX,\n\u001B[1;32m   1234\u001B[0m     y\u001B[38;5;241m=\u001B[39my,\n\u001B[1;32m   1235\u001B[0m     group\u001B[38;5;241m=\u001B[39m\u001B[38;5;28;01mNone\u001B[39;00m,\n\u001B[1;32m   1236\u001B[0m     qid\u001B[38;5;241m=\u001B[39m\u001B[38;5;28;01mNone\u001B[39;00m,\n\u001B[1;32m   1237\u001B[0m     sample_weight\u001B[38;5;241m=\u001B[39msample_weight,\n\u001B[1;32m   1238\u001B[0m     base_margin\u001B[38;5;241m=\u001B[39mbase_margin,\n\u001B[1;32m   1239\u001B[0m     feature_weights\u001B[38;5;241m=\u001B[39mfeature_weights,\n\u001B[1;32m   1240\u001B[0m     eval_set\u001B[38;5;241m=\u001B[39meval_set,\n\u001B[1;32m   1241\u001B[0m     sample_weight_eval_set\u001B[38;5;241m=\u001B[39msample_weight_eval_set,\n\u001B[1;32m   1242\u001B[0m     base_margin_eval_set\u001B[38;5;241m=\u001B[39mbase_margin_eval_set,\n\u001B[1;32m   1243\u001B[0m     eval_group\u001B[38;5;241m=\u001B[39m\u001B[38;5;28;01mNone\u001B[39;00m,\n\u001B[1;32m   1244\u001B[0m     eval_qid\u001B[38;5;241m=\u001B[39m\u001B[38;5;28;01mNone\u001B[39;00m,\n\u001B[0;32m-> 1245\u001B[0m     create_dmatrix\u001B[38;5;241m=\u001B[39m\u001B[38;5;28;01mlambda\u001B[39;00m \u001B[38;5;241m*\u001B[39m\u001B[38;5;241m*\u001B[39mkwargs: \u001B[43mDMatrix\u001B[49m\u001B[43m(\u001B[49m\u001B[43mnthread\u001B[49m\u001B[38;5;241;43m=\u001B[39;49m\u001B[38;5;28;43mself\u001B[39;49m\u001B[38;5;241;43m.\u001B[39;49m\u001B[43mn_jobs\u001B[49m\u001B[43m,\u001B[49m\u001B[43m \u001B[49m\u001B[38;5;241;43m*\u001B[39;49m\u001B[38;5;241;43m*\u001B[39;49m\u001B[43mkwargs\u001B[49m\u001B[43m)\u001B[49m,\n\u001B[1;32m   1246\u001B[0m     enable_categorical\u001B[38;5;241m=\u001B[39m\u001B[38;5;28mself\u001B[39m\u001B[38;5;241m.\u001B[39menable_categorical,\n\u001B[1;32m   1247\u001B[0m     label_transform\u001B[38;5;241m=\u001B[39mlabel_transform,\n\u001B[1;32m   1248\u001B[0m )\n\u001B[1;32m   1250\u001B[0m \u001B[38;5;28mself\u001B[39m\u001B[38;5;241m.\u001B[39m_Booster \u001B[38;5;241m=\u001B[39m train(\n\u001B[1;32m   1251\u001B[0m     params,\n\u001B[1;32m   1252\u001B[0m     train_dmatrix,\n\u001B[0;32m   (...)\u001B[0m\n\u001B[1;32m   1261\u001B[0m     callbacks\u001B[38;5;241m=\u001B[39mcallbacks,\n\u001B[1;32m   1262\u001B[0m )\n\u001B[1;32m   1264\u001B[0m \u001B[38;5;28;01mif\u001B[39;00m \u001B[38;5;129;01mnot\u001B[39;00m callable(\u001B[38;5;28mself\u001B[39m\u001B[38;5;241m.\u001B[39mobjective):\n",
      "File \u001B[0;32m~/miniconda3/envs/code/lib/python3.9/site-packages/xgboost/core.py:506\u001B[0m, in \u001B[0;36m_deprecate_positional_args.<locals>.inner_f\u001B[0;34m(*args, **kwargs)\u001B[0m\n\u001B[1;32m    504\u001B[0m \u001B[38;5;28;01mfor\u001B[39;00m k, arg \u001B[38;5;129;01min\u001B[39;00m \u001B[38;5;28mzip\u001B[39m(sig\u001B[38;5;241m.\u001B[39mparameters, args):\n\u001B[1;32m    505\u001B[0m     kwargs[k] \u001B[38;5;241m=\u001B[39m arg\n\u001B[0;32m--> 506\u001B[0m \u001B[38;5;28;01mreturn\u001B[39;00m \u001B[43mf\u001B[49m\u001B[43m(\u001B[49m\u001B[38;5;241;43m*\u001B[39;49m\u001B[38;5;241;43m*\u001B[39;49m\u001B[43mkwargs\u001B[49m\u001B[43m)\u001B[49m\n",
      "File \u001B[0;32m~/miniconda3/envs/code/lib/python3.9/site-packages/xgboost/core.py:616\u001B[0m, in \u001B[0;36mDMatrix.__init__\u001B[0;34m(self, data, label, weight, base_margin, missing, silent, feature_names, feature_types, nthread, group, qid, label_lower_bound, label_upper_bound, feature_weights, enable_categorical)\u001B[0m\n\u001B[1;32m    613\u001B[0m     \u001B[38;5;28;01massert\u001B[39;00m \u001B[38;5;28mself\u001B[39m\u001B[38;5;241m.\u001B[39mhandle \u001B[38;5;129;01mis\u001B[39;00m \u001B[38;5;129;01mnot\u001B[39;00m \u001B[38;5;28;01mNone\u001B[39;00m\n\u001B[1;32m    614\u001B[0m     \u001B[38;5;28;01mreturn\u001B[39;00m\n\u001B[0;32m--> 616\u001B[0m handle, feature_names, feature_types \u001B[38;5;241m=\u001B[39m \u001B[43mdispatch_data_backend\u001B[49m\u001B[43m(\u001B[49m\n\u001B[1;32m    617\u001B[0m \u001B[43m    \u001B[49m\u001B[43mdata\u001B[49m\u001B[43m,\u001B[49m\n\u001B[1;32m    618\u001B[0m \u001B[43m    \u001B[49m\u001B[43mmissing\u001B[49m\u001B[38;5;241;43m=\u001B[39;49m\u001B[38;5;28;43mself\u001B[39;49m\u001B[38;5;241;43m.\u001B[39;49m\u001B[43mmissing\u001B[49m\u001B[43m,\u001B[49m\n\u001B[1;32m    619\u001B[0m \u001B[43m    \u001B[49m\u001B[43mthreads\u001B[49m\u001B[38;5;241;43m=\u001B[39;49m\u001B[38;5;28;43mself\u001B[39;49m\u001B[38;5;241;43m.\u001B[39;49m\u001B[43mnthread\u001B[49m\u001B[43m,\u001B[49m\n\u001B[1;32m    620\u001B[0m \u001B[43m    \u001B[49m\u001B[43mfeature_names\u001B[49m\u001B[38;5;241;43m=\u001B[39;49m\u001B[43mfeature_names\u001B[49m\u001B[43m,\u001B[49m\n\u001B[1;32m    621\u001B[0m \u001B[43m    \u001B[49m\u001B[43mfeature_types\u001B[49m\u001B[38;5;241;43m=\u001B[39;49m\u001B[43mfeature_types\u001B[49m\u001B[43m,\u001B[49m\n\u001B[1;32m    622\u001B[0m \u001B[43m    \u001B[49m\u001B[43menable_categorical\u001B[49m\u001B[38;5;241;43m=\u001B[39;49m\u001B[43menable_categorical\u001B[49m\u001B[43m,\u001B[49m\n\u001B[1;32m    623\u001B[0m \u001B[43m\u001B[49m\u001B[43m)\u001B[49m\n\u001B[1;32m    624\u001B[0m \u001B[38;5;28;01massert\u001B[39;00m handle \u001B[38;5;129;01mis\u001B[39;00m \u001B[38;5;129;01mnot\u001B[39;00m \u001B[38;5;28;01mNone\u001B[39;00m\n\u001B[1;32m    625\u001B[0m \u001B[38;5;28mself\u001B[39m\u001B[38;5;241m.\u001B[39mhandle \u001B[38;5;241m=\u001B[39m handle\n",
      "File \u001B[0;32m~/miniconda3/envs/code/lib/python3.9/site-packages/xgboost/data.py:772\u001B[0m, in \u001B[0;36mdispatch_data_backend\u001B[0;34m(data, missing, threads, feature_names, feature_types, enable_categorical)\u001B[0m\n\u001B[1;32m    770\u001B[0m     \u001B[38;5;28;01mreturn\u001B[39;00m _from_tuple(data, missing, threads, feature_names, feature_types)\n\u001B[1;32m    771\u001B[0m \u001B[38;5;28;01mif\u001B[39;00m _is_pandas_df(data):\n\u001B[0;32m--> 772\u001B[0m     \u001B[38;5;28;01mreturn\u001B[39;00m \u001B[43m_from_pandas_df\u001B[49m\u001B[43m(\u001B[49m\u001B[43mdata\u001B[49m\u001B[43m,\u001B[49m\u001B[43m \u001B[49m\u001B[43menable_categorical\u001B[49m\u001B[43m,\u001B[49m\u001B[43m \u001B[49m\u001B[43mmissing\u001B[49m\u001B[43m,\u001B[49m\u001B[43m \u001B[49m\u001B[43mthreads\u001B[49m\u001B[43m,\u001B[49m\n\u001B[1;32m    773\u001B[0m \u001B[43m                           \u001B[49m\u001B[43mfeature_names\u001B[49m\u001B[43m,\u001B[49m\u001B[43m \u001B[49m\u001B[43mfeature_types\u001B[49m\u001B[43m)\u001B[49m\n\u001B[1;32m    774\u001B[0m \u001B[38;5;28;01mif\u001B[39;00m _is_pandas_series(data):\n\u001B[1;32m    775\u001B[0m     \u001B[38;5;28;01mreturn\u001B[39;00m _from_pandas_series(\n\u001B[1;32m    776\u001B[0m         data, missing, threads, enable_categorical, feature_names, feature_types\n\u001B[1;32m    777\u001B[0m     )\n",
      "File \u001B[0;32m~/miniconda3/envs/code/lib/python3.9/site-packages/xgboost/data.py:312\u001B[0m, in \u001B[0;36m_from_pandas_df\u001B[0;34m(data, enable_categorical, missing, nthread, feature_names, feature_types)\u001B[0m\n\u001B[1;32m    304\u001B[0m \u001B[38;5;28;01mdef\u001B[39;00m \u001B[38;5;21m_from_pandas_df\u001B[39m(\n\u001B[1;32m    305\u001B[0m     data: DataFrame,\n\u001B[1;32m    306\u001B[0m     enable_categorical: \u001B[38;5;28mbool\u001B[39m,\n\u001B[0;32m   (...)\u001B[0m\n\u001B[1;32m    310\u001B[0m     feature_types: Optional[List[\u001B[38;5;28mstr\u001B[39m]],\n\u001B[1;32m    311\u001B[0m ):\n\u001B[0;32m--> 312\u001B[0m     data, feature_names, feature_types \u001B[38;5;241m=\u001B[39m \u001B[43m_transform_pandas_df\u001B[49m\u001B[43m(\u001B[49m\n\u001B[1;32m    313\u001B[0m \u001B[43m        \u001B[49m\u001B[43mdata\u001B[49m\u001B[43m,\u001B[49m\u001B[43m \u001B[49m\u001B[43menable_categorical\u001B[49m\u001B[43m,\u001B[49m\u001B[43m \u001B[49m\u001B[43mfeature_names\u001B[49m\u001B[43m,\u001B[49m\u001B[43m \u001B[49m\u001B[43mfeature_types\u001B[49m\u001B[43m)\u001B[49m\n\u001B[1;32m    314\u001B[0m     \u001B[38;5;28;01mreturn\u001B[39;00m _from_numpy_array(data, missing, nthread, feature_names,\n\u001B[1;32m    315\u001B[0m                              feature_types)\n",
      "File \u001B[0;32m~/miniconda3/envs/code/lib/python3.9/site-packages/xgboost/data.py:256\u001B[0m, in \u001B[0;36m_transform_pandas_df\u001B[0;34m(data, enable_categorical, feature_names, feature_types, meta, meta_type)\u001B[0m\n\u001B[1;32m    248\u001B[0m \u001B[38;5;28;01mfrom\u001B[39;00m \u001B[38;5;21;01mpandas\u001B[39;00m\u001B[38;5;21;01m.\u001B[39;00m\u001B[38;5;21;01mapi\u001B[39;00m\u001B[38;5;21;01m.\u001B[39;00m\u001B[38;5;21;01mtypes\u001B[39;00m \u001B[38;5;28;01mimport\u001B[39;00m is_sparse, is_categorical_dtype\n\u001B[1;32m    250\u001B[0m \u001B[38;5;28;01mif\u001B[39;00m \u001B[38;5;129;01mnot\u001B[39;00m \u001B[38;5;28mall\u001B[39m(\n\u001B[1;32m    251\u001B[0m     dtype\u001B[38;5;241m.\u001B[39mname \u001B[38;5;129;01min\u001B[39;00m _pandas_dtype_mapper\n\u001B[1;32m    252\u001B[0m     \u001B[38;5;129;01mor\u001B[39;00m is_sparse(dtype)\n\u001B[1;32m    253\u001B[0m     \u001B[38;5;129;01mor\u001B[39;00m (is_categorical_dtype(dtype) \u001B[38;5;129;01mand\u001B[39;00m enable_categorical)\n\u001B[1;32m    254\u001B[0m     \u001B[38;5;28;01mfor\u001B[39;00m dtype \u001B[38;5;129;01min\u001B[39;00m data\u001B[38;5;241m.\u001B[39mdtypes\n\u001B[1;32m    255\u001B[0m ):\n\u001B[0;32m--> 256\u001B[0m     \u001B[43m_invalid_dataframe_dtype\u001B[49m\u001B[43m(\u001B[49m\u001B[43mdata\u001B[49m\u001B[43m)\u001B[49m\n\u001B[1;32m    258\u001B[0m \u001B[38;5;66;03m# handle feature names\u001B[39;00m\n\u001B[1;32m    259\u001B[0m \u001B[38;5;28;01mif\u001B[39;00m feature_names \u001B[38;5;129;01mis\u001B[39;00m \u001B[38;5;28;01mNone\u001B[39;00m \u001B[38;5;129;01mand\u001B[39;00m meta \u001B[38;5;129;01mis\u001B[39;00m \u001B[38;5;28;01mNone\u001B[39;00m:\n",
      "File \u001B[0;32m~/miniconda3/envs/code/lib/python3.9/site-packages/xgboost/data.py:236\u001B[0m, in \u001B[0;36m_invalid_dataframe_dtype\u001B[0;34m(data)\u001B[0m\n\u001B[1;32m    231\u001B[0m         err \u001B[38;5;241m=\u001B[39m \u001B[38;5;124m\"\u001B[39m\u001B[38;5;124m\"\u001B[39m\n\u001B[1;32m    233\u001B[0m     msg \u001B[38;5;241m=\u001B[39m \u001B[38;5;124m\"\"\"\u001B[39m\u001B[38;5;124mDataFrame.dtypes for data must be int, float, bool or category.  When\u001B[39m\n\u001B[1;32m    234\u001B[0m \u001B[38;5;124mcategorical type is supplied, DMatrix parameter `enable_categorical` must\u001B[39m\n\u001B[1;32m    235\u001B[0m \u001B[38;5;124mbe set to `True`.\u001B[39m\u001B[38;5;124m\"\"\"\u001B[39m \u001B[38;5;241m+\u001B[39m err\n\u001B[0;32m--> 236\u001B[0m     \u001B[38;5;28;01mraise\u001B[39;00m \u001B[38;5;167;01mValueError\u001B[39;00m(msg)\n",
      "\u001B[0;31mValueError\u001B[0m: DataFrame.dtypes for data must be int, float, bool or category.  When\ncategorical type is supplied, DMatrix parameter `enable_categorical` must\nbe set to `True`. Invalid columns:content-length"
     ]
    }
   ],
   "source": [
    "model.fit(X_train_2, a)"
   ],
   "metadata": {
    "collapsed": false
   }
  },
  {
   "cell_type": "code",
   "execution_count": 206,
   "outputs": [],
   "source": [
    "rf = RandomForestClassifier(n_jobs=-1, n_estimators=1000)"
   ],
   "metadata": {
    "collapsed": false
   }
  },
  {
   "cell_type": "code",
   "execution_count": 207,
   "outputs": [
    {
     "name": "stdout",
     "output_type": "stream",
     "text": [
      "CPU times: user 4min 21s, sys: 1.54 s, total: 4min 22s\n",
      "Wall time: 31.5 s\n"
     ]
    },
    {
     "data": {
      "text/plain": "RandomForestClassifier(n_estimators=1000, n_jobs=-1)",
      "text/html": "<style>#sk-container-id-5 {color: black;background-color: white;}#sk-container-id-5 pre{padding: 0;}#sk-container-id-5 div.sk-toggleable {background-color: white;}#sk-container-id-5 label.sk-toggleable__label {cursor: pointer;display: block;width: 100%;margin-bottom: 0;padding: 0.3em;box-sizing: border-box;text-align: center;}#sk-container-id-5 label.sk-toggleable__label-arrow:before {content: \"▸\";float: left;margin-right: 0.25em;color: #696969;}#sk-container-id-5 label.sk-toggleable__label-arrow:hover:before {color: black;}#sk-container-id-5 div.sk-estimator:hover label.sk-toggleable__label-arrow:before {color: black;}#sk-container-id-5 div.sk-toggleable__content {max-height: 0;max-width: 0;overflow: hidden;text-align: left;background-color: #f0f8ff;}#sk-container-id-5 div.sk-toggleable__content pre {margin: 0.2em;color: black;border-radius: 0.25em;background-color: #f0f8ff;}#sk-container-id-5 input.sk-toggleable__control:checked~div.sk-toggleable__content {max-height: 200px;max-width: 100%;overflow: auto;}#sk-container-id-5 input.sk-toggleable__control:checked~label.sk-toggleable__label-arrow:before {content: \"▾\";}#sk-container-id-5 div.sk-estimator input.sk-toggleable__control:checked~label.sk-toggleable__label {background-color: #d4ebff;}#sk-container-id-5 div.sk-label input.sk-toggleable__control:checked~label.sk-toggleable__label {background-color: #d4ebff;}#sk-container-id-5 input.sk-hidden--visually {border: 0;clip: rect(1px 1px 1px 1px);clip: rect(1px, 1px, 1px, 1px);height: 1px;margin: -1px;overflow: hidden;padding: 0;position: absolute;width: 1px;}#sk-container-id-5 div.sk-estimator {font-family: monospace;background-color: #f0f8ff;border: 1px dotted black;border-radius: 0.25em;box-sizing: border-box;margin-bottom: 0.5em;}#sk-container-id-5 div.sk-estimator:hover {background-color: #d4ebff;}#sk-container-id-5 div.sk-parallel-item::after {content: \"\";width: 100%;border-bottom: 1px solid gray;flex-grow: 1;}#sk-container-id-5 div.sk-label:hover label.sk-toggleable__label {background-color: #d4ebff;}#sk-container-id-5 div.sk-serial::before {content: \"\";position: absolute;border-left: 1px solid gray;box-sizing: border-box;top: 0;bottom: 0;left: 50%;z-index: 0;}#sk-container-id-5 div.sk-serial {display: flex;flex-direction: column;align-items: center;background-color: white;padding-right: 0.2em;padding-left: 0.2em;position: relative;}#sk-container-id-5 div.sk-item {position: relative;z-index: 1;}#sk-container-id-5 div.sk-parallel {display: flex;align-items: stretch;justify-content: center;background-color: white;position: relative;}#sk-container-id-5 div.sk-item::before, #sk-container-id-5 div.sk-parallel-item::before {content: \"\";position: absolute;border-left: 1px solid gray;box-sizing: border-box;top: 0;bottom: 0;left: 50%;z-index: -1;}#sk-container-id-5 div.sk-parallel-item {display: flex;flex-direction: column;z-index: 1;position: relative;background-color: white;}#sk-container-id-5 div.sk-parallel-item:first-child::after {align-self: flex-end;width: 50%;}#sk-container-id-5 div.sk-parallel-item:last-child::after {align-self: flex-start;width: 50%;}#sk-container-id-5 div.sk-parallel-item:only-child::after {width: 0;}#sk-container-id-5 div.sk-dashed-wrapped {border: 1px dashed gray;margin: 0 0.4em 0.5em 0.4em;box-sizing: border-box;padding-bottom: 0.4em;background-color: white;}#sk-container-id-5 div.sk-label label {font-family: monospace;font-weight: bold;display: inline-block;line-height: 1.2em;}#sk-container-id-5 div.sk-label-container {text-align: center;}#sk-container-id-5 div.sk-container {/* jupyter's `normalize.less` sets `[hidden] { display: none; }` but bootstrap.min.css set `[hidden] { display: none !important; }` so we also need the `!important` here to be able to override the default hidden behavior on the sphinx rendered scikit-learn.org. See: https://github.com/scikit-learn/scikit-learn/issues/21755 */display: inline-block !important;position: relative;}#sk-container-id-5 div.sk-text-repr-fallback {display: none;}</style><div id=\"sk-container-id-5\" class=\"sk-top-container\"><div class=\"sk-text-repr-fallback\"><pre>RandomForestClassifier(n_estimators=1000, n_jobs=-1)</pre><b>In a Jupyter environment, please rerun this cell to show the HTML representation or trust the notebook. <br />On GitHub, the HTML representation is unable to render, please try loading this page with nbviewer.org.</b></div><div class=\"sk-container\" hidden><div class=\"sk-item\"><div class=\"sk-estimator sk-toggleable\"><input class=\"sk-toggleable__control sk-hidden--visually\" id=\"sk-estimator-id-5\" type=\"checkbox\" checked><label for=\"sk-estimator-id-5\" class=\"sk-toggleable__label sk-toggleable__label-arrow\">RandomForestClassifier</label><div class=\"sk-toggleable__content\"><pre>RandomForestClassifier(n_estimators=1000, n_jobs=-1)</pre></div></div></div></div></div>"
     },
     "execution_count": 207,
     "metadata": {},
     "output_type": "execute_result"
    }
   ],
   "source": [
    "% % time\n",
    "rf.fit(X_train_2, y_train[\"tracker\"].to_numpy())"
   ],
   "metadata": {
    "collapsed": false
   }
  },
  {
   "cell_type": "code",
   "execution_count": 208,
   "outputs": [],
   "source": [
    "importance = rf.feature_importances_"
   ],
   "metadata": {
    "collapsed": false
   }
  },
  {
   "cell_type": "code",
   "execution_count": 209,
   "outputs": [],
   "source": [
    "d = {\"header\": X_train_2.columns.values.tolist(), \"value\": importance.tolist()}"
   ],
   "metadata": {
    "collapsed": false
   }
  },
  {
   "cell_type": "code",
   "execution_count": 210,
   "outputs": [
    {
     "data": {
      "text/plain": "<AxesSubplot:xlabel='header', ylabel='value'>"
     },
     "execution_count": 210,
     "metadata": {},
     "output_type": "execute_result"
    },
    {
     "data": {
      "text/plain": "<Figure size 2160x720 with 1 Axes>",
      "image/png": "[encoded data removed]"
     },
     "metadata": {
      "needs_background": "light"
     },
     "output_type": "display_data"
    }
   ],
   "source": [
    "% matplotlib inline\n",
    "plt.figure(figsize=(30, 10))\n",
    "sns.barplot(data=pd.DataFrame(d), x=\"header\", y=\"value\")"
   ],
   "metadata": {
    "collapsed": false
   }
  },
  {
   "cell_type": "code",
   "execution_count": 211,
   "outputs": [
    {
     "data": {
      "text/plain": "0.7815326245202276"
     },
     "execution_count": 211,
     "metadata": {},
     "output_type": "execute_result"
    }
   ],
   "source": [
    "rf.score(X_test, y_test[\"tracker\"].to_numpy())"
   ],
   "metadata": {
    "collapsed": false
   }
  },
  {
   "cell_type": "code",
   "execution_count": 212,
   "outputs": [
    {
     "name": "stdout",
     "output_type": "stream",
     "text": [
      "0.46241354102549004\n"
     ]
    }
   ],
   "source": [
    "clf_probs = rf.predict_proba(X_test)\n",
    "score = metrics.log_loss(y_test, clf_probs)\n",
    "print(score)"
   ],
   "metadata": {
    "collapsed": false
   }
  },
  {
   "cell_type": "code",
   "execution_count": 226,
   "outputs": [],
   "source": [
    "knn = KNeighborsClassifier(n_jobs=-1)"
   ],
   "metadata": {
    "collapsed": false
   }
  },
  {
   "cell_type": "code",
   "execution_count": 227,
   "outputs": [
    {
     "name": "stdout",
     "output_type": "stream",
     "text": [
      "CPU times: user 24.8 ms, sys: 15.5 ms, total: 40.3 ms\n",
      "Wall time: 39.1 ms\n"
     ]
    },
    {
     "data": {
      "text/plain": "KNeighborsClassifier(n_jobs=-1)",
      "text/html": "<style>#sk-container-id-6 {color: black;background-color: white;}#sk-container-id-6 pre{padding: 0;}#sk-container-id-6 div.sk-toggleable {background-color: white;}#sk-container-id-6 label.sk-toggleable__label {cursor: pointer;display: block;width: 100%;margin-bottom: 0;padding: 0.3em;box-sizing: border-box;text-align: center;}#sk-container-id-6 label.sk-toggleable__label-arrow:before {content: \"▸\";float: left;margin-right: 0.25em;color: #696969;}#sk-container-id-6 label.sk-toggleable__label-arrow:hover:before {color: black;}#sk-container-id-6 div.sk-estimator:hover label.sk-toggleable__label-arrow:before {color: black;}#sk-container-id-6 div.sk-toggleable__content {max-height: 0;max-width: 0;overflow: hidden;text-align: left;background-color: #f0f8ff;}#sk-container-id-6 div.sk-toggleable__content pre {margin: 0.2em;color: black;border-radius: 0.25em;background-color: #f0f8ff;}#sk-container-id-6 input.sk-toggleable__control:checked~div.sk-toggleable__content {max-height: 200px;max-width: 100%;overflow: auto;}#sk-container-id-6 input.sk-toggleable__control:checked~label.sk-toggleable__label-arrow:before {content: \"▾\";}#sk-container-id-6 div.sk-estimator input.sk-toggleable__control:checked~label.sk-toggleable__label {background-color: #d4ebff;}#sk-container-id-6 div.sk-label input.sk-toggleable__control:checked~label.sk-toggleable__label {background-color: #d4ebff;}#sk-container-id-6 input.sk-hidden--visually {border: 0;clip: rect(1px 1px 1px 1px);clip: rect(1px, 1px, 1px, 1px);height: 1px;margin: -1px;overflow: hidden;padding: 0;position: absolute;width: 1px;}#sk-container-id-6 div.sk-estimator {font-family: monospace;background-color: #f0f8ff;border: 1px dotted black;border-radius: 0.25em;box-sizing: border-box;margin-bottom: 0.5em;}#sk-container-id-6 div.sk-estimator:hover {background-color: #d4ebff;}#sk-container-id-6 div.sk-parallel-item::after {content: \"\";width: 100%;border-bottom: 1px solid gray;flex-grow: 1;}#sk-container-id-6 div.sk-label:hover label.sk-toggleable__label {background-color: #d4ebff;}#sk-container-id-6 div.sk-serial::before {content: \"\";position: absolute;border-left: 1px solid gray;box-sizing: border-box;top: 0;bottom: 0;left: 50%;z-index: 0;}#sk-container-id-6 div.sk-serial {display: flex;flex-direction: column;align-items: center;background-color: white;padding-right: 0.2em;padding-left: 0.2em;position: relative;}#sk-container-id-6 div.sk-item {position: relative;z-index: 1;}#sk-container-id-6 div.sk-parallel {display: flex;align-items: stretch;justify-content: center;background-color: white;position: relative;}#sk-container-id-6 div.sk-item::before, #sk-container-id-6 div.sk-parallel-item::before {content: \"\";position: absolute;border-left: 1px solid gray;box-sizing: border-box;top: 0;bottom: 0;left: 50%;z-index: -1;}#sk-container-id-6 div.sk-parallel-item {display: flex;flex-direction: column;z-index: 1;position: relative;background-color: white;}#sk-container-id-6 div.sk-parallel-item:first-child::after {align-self: flex-end;width: 50%;}#sk-container-id-6 div.sk-parallel-item:last-child::after {align-self: flex-start;width: 50%;}#sk-container-id-6 div.sk-parallel-item:only-child::after {width: 0;}#sk-container-id-6 div.sk-dashed-wrapped {border: 1px dashed gray;margin: 0 0.4em 0.5em 0.4em;box-sizing: border-box;padding-bottom: 0.4em;background-color: white;}#sk-container-id-6 div.sk-label label {font-family: monospace;font-weight: bold;display: inline-block;line-height: 1.2em;}#sk-container-id-6 div.sk-label-container {text-align: center;}#sk-container-id-6 div.sk-container {/* jupyter's `normalize.less` sets `[hidden] { display: none; }` but bootstrap.min.css set `[hidden] { display: none !important; }` so we also need the `!important` here to be able to override the default hidden behavior on the sphinx rendered scikit-learn.org. See: https://github.com/scikit-learn/scikit-learn/issues/21755 */display: inline-block !important;position: relative;}#sk-container-id-6 div.sk-text-repr-fallback {display: none;}</style><div id=\"sk-container-id-6\" class=\"sk-top-container\"><div class=\"sk-text-repr-fallback\"><pre>KNeighborsClassifier(n_jobs=-1)</pre><b>In a Jupyter environment, please rerun this cell to show the HTML representation or trust the notebook. <br />On GitHub, the HTML representation is unable to render, please try loading this page with nbviewer.org.</b></div><div class=\"sk-container\" hidden><div class=\"sk-item\"><div class=\"sk-estimator sk-toggleable\"><input class=\"sk-toggleable__control sk-hidden--visually\" id=\"sk-estimator-id-6\" type=\"checkbox\" checked><label for=\"sk-estimator-id-6\" class=\"sk-toggleable__label sk-toggleable__label-arrow\">KNeighborsClassifier</label><div class=\"sk-toggleable__content\"><pre>KNeighborsClassifier(n_jobs=-1)</pre></div></div></div></div></div>"
     },
     "execution_count": 227,
     "metadata": {},
     "output_type": "execute_result"
    }
   ],
   "source": [
    "% % time\n",
    "knn.fit(X_train_2, y_train[\"tracker\"].to_numpy())"
   ],
   "metadata": {
    "collapsed": false
   }
  },
  {
   "cell_type": "code",
   "execution_count": 228,
   "outputs": [
    {
     "data": {
      "text/plain": "0.6790341318510021"
     },
     "execution_count": 228,
     "metadata": {},
     "output_type": "execute_result"
    }
   ],
   "source": [
    "knn.score(X_test, y_test[\"tracker\"].to_numpy())"
   ],
   "metadata": {
    "collapsed": false
   }
  },
  {
   "cell_type": "code",
   "execution_count": 229,
   "outputs": [],
   "source": [
    "from sklearn.svm import SVC"
   ],
   "metadata": {
    "collapsed": false
   }
  },
  {
   "cell_type": "code",
   "execution_count": null,
   "outputs": [],
   "source": [
    "% % time\n",
    "svm = SVC(kernel=\"linear\")\n",
    "svm.fit(X_train_2, y_train[\"tracker\"].to_numpy())"
   ],
   "metadata": {
    "collapsed": false,
    "pycharm": {
     "is_executing": true
    }
   }
  },
  {
   "cell_type": "code",
   "execution_count": null,
   "outputs": [],
   "source": [
    "svm.score(X_test, y_test[\"tracker\"].to_numpy())"
   ],
   "metadata": {
    "collapsed": false
   }
  }
 ],
 "metadata": {
  "kernelspec": {
   "display_name": "Python 3",
   "language": "python",
   "name": "python3"
  },
  "language_info": {
   "codemirror_mode": {
    "name": "ipython",
    "version": 2
   },
   "file_extension": ".py",
   "mimetype": "text/x-python",
   "name": "python",
   "nbconvert_exporter": "python",
   "pygments_lexer": "ipython2",
   "version": "2.7.6"
  }
 },
 "nbformat": 4,
 "nbformat_minor": 0
}
