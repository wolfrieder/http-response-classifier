{
 "cells": [
  {
   "cell_type": "code",
   "execution_count": 1,
   "metadata": {
    "collapsed": true
   },
   "outputs": [],
   "source": [
    "import pandas as pd\n",
    "\n",
    "from src.pipeline_functions import data_preprocessing_functions as dpf"
   ]
  },
  {
   "cell_type": "code",
   "execution_count": 2,
   "outputs": [
    {
     "name": "stderr",
     "output_type": "stream",
     "text": [
      "UsageError: Line magic function `%` not found.\n"
     ]
    }
   ],
   "source": [
    "% load_ext autoreload\n",
    "% autoreload 2"
   ],
   "metadata": {
    "collapsed": false
   }
  },
  {
   "cell_type": "code",
   "execution_count": 3,
   "outputs": [
    {
     "name": "stdout",
     "output_type": "stream",
     "text": [
      "Hello\n"
     ]
    }
   ],
   "source": [
    "if len('d') > 0:\n",
    "    print('Hello')"
   ],
   "metadata": {
    "collapsed": false
   }
  },
  {
   "cell_type": "code",
   "execution_count": 2,
   "outputs": [],
   "source": [
    "OTHER_TEST_DATA = True"
   ],
   "metadata": {
    "collapsed": false
   }
  },
  {
   "cell_type": "code",
   "execution_count": 2,
   "outputs": [],
   "source": [
    "data_train = pd.read_parquet(\n",
    "    \"../data/processed/chrome/08_12_2022/train_set_01.parquet.gzip\",\n",
    "    engine=\"pyarrow\",\n",
    "    dtype_backend=\"pyarrow\",\n",
    ")"
   ],
   "metadata": {
    "collapsed": false
   }
  },
  {
   "cell_type": "code",
   "execution_count": 3,
   "outputs": [],
   "source": [
    "data_test = pd.read_parquet(\n",
    "    \"../data/interim/chrome/03_29_2023/merged_data.parquet.gzip\",\n",
    "    engine=\"pyarrow\",\n",
    "    dtype_backend=\"pyarrow\",\n",
    ")"
   ],
   "metadata": {
    "collapsed": false
   }
  },
  {
   "cell_type": "code",
   "execution_count": 4,
   "outputs": [
    {
     "data": {
      "text/plain": "                                       hostname   \n256683                tpc.googlesyndication.com  \\\n14233                        res.cdn.office.net   \n100818                           www.google.com   \n106109  ipv4-c113-lhr004-ix.1.oca.nflxvideo.net   \n126395                                 shimo.im   \n...                                         ...   \n31179                            www.criteo.com   \n9931                               ads.adfox.ru   \n256544                  synostatic.synology.com   \n184101                                tenor.com   \n157680                               r.bing.com   \n\n                                                 pathname   \n256683  /pagead/js/r20220810/r20110914/client/one_clic...  \\\n14233   /officehub/bundles/staying-aware.b8b088b355c55...   \n100818                                  /ads/ga-audiences   \n106109                               /speedtest/range/0-0   \n126395                                                  /   \n...                                                   ...   \n31179   /wp-content/uploads/2021/01/ss-logo-Lamps-Plus...   \n9931                                        /260122/event   \n256544                     /font/inter/inter-w400-6.woff2   \n184101                                    /opensearch.xml   \n157680              /rp/l_yPzUao8Z_UiytFemwYCOTvU_U.br.js   \n\n                    filetype                                        filename   \n256683                    js            one_click_handler_one_afma_fy2021.js  \\\n14233                     js  staying-aware.b8b088b355c55b4ea7d6.chunk.v6.js   \n100818     /ads/ga-audiences                                    ga-audiences   \n106109  /speedtest/range/0-0                                             0-0   \n126395                     /                                                   \n...                      ...                                             ...   \n31179                    png                          ss-logo-Lamps-Plus.png   \n9931           /260122/event                                           event   \n256544                 woff2                              inter-w400-6.woff2   \n184101                   xml                                  opensearch.xml   \n157680                    js               l_yPzUao8Z_UiytFemwYCOTvU_U.br.js   \n\n       protocol                                              query    pragma   \n256683   https:                                                 []      <NA>  \\\n14233    https:                                                 []      <NA>   \n100818   https:  [array(['t', 'sr'], dtype=object) array(['aip'...  no-cache   \n106109   https:  [array(['c', 'de'], dtype=object) array(['n', ...  no-cache   \n126395   https:                                                 []      <NA>   \n...         ...                                                ...       ...   \n31179    https:                                                 []      <NA>   \n9931     https:  [array(['pm', 'cyz'], dtype=object)\n array(['h...  no-cache   \n256544   https:                                                 []      <NA>   \n184101   https:                                                 []      <NA>   \n157680   https:                                                 []      <NA>   \n\n                          content-type                  last-modified   \n256683  text/javascript; charset=utf-8                           <NA>  \\\n14233           application/javascript  mon, 08 aug 2022 21:56:59 gmt   \n100818                       image/gif                           <NA>   \n106109                            <NA>                           <NA>   \n126395        text/html; charset=utf-8                           <NA>   \n...                                ...                            ...   \n31179                        image/png  fri, 12 nov 2021 05:09:38 gmt   \n9931                              <NA>  fri, 12 aug 2022 09:22:13 gmt   \n256544             binary/octet-stream  mon, 20 dec 2021 02:24:19 gmt   \n184101                 application/xml  thu, 26 apr 2018 18:25:27 gmt   \n157680  text/javascript; charset=utf-8  wed, 03 aug 2022 12:04:53 gmt   \n\n       accept-ranges  ... xc-version x-amzn-waf-action generated   \n256683          <NA>  ...       <NA>              <NA>      <NA>  \\\n14233           <NA>  ...       <NA>              <NA>      <NA>   \n100818          <NA>  ...       <NA>              <NA>      <NA>   \n106109          <NA>  ...       <NA>              <NA>      <NA>   \n126395          <NA>  ...       <NA>              <NA>      <NA>   \n...              ...  ...        ...               ...       ...   \n31179          bytes  ...       <NA>              <NA>      <NA>   \n9931            <NA>  ...       <NA>              <NA>      <NA>   \n256544         bytes  ...       <NA>              <NA>      <NA>   \n184101         bytes  ...       <NA>              <NA>      <NA>   \n157680          <NA>  ...       <NA>              <NA>      <NA>   \n\n       x-amz-req-time-micros debug_plat_b  x-ta x-cache-cms-status   \n256683                  <NA>         <NA>  <NA>               <NA>  \\\n14233                   <NA>         <NA>  <NA>               <NA>   \n100818                  <NA>         <NA>  <NA>               <NA>   \n106109                  <NA>         <NA>  <NA>               <NA>   \n126395                  <NA>         <NA>  <NA>               <NA>   \n...                      ...          ...   ...                ...   \n31179                   <NA>         <NA>  <NA>               <NA>   \n9931                    <NA>         <NA>  <NA>               <NA>   \n256544                  <NA>         <NA>  <NA>               <NA>   \n184101                  <NA>         <NA>  <NA>               <NA>   \n157680                  <NA>         <NA>  <NA>               <NA>   \n\n       x-pbs-appsvrname x-pbs-appsvrip tracker  \n256683             <NA>           <NA>       1  \n14233              <NA>           <NA>       0  \n100818             <NA>           <NA>       1  \n106109             <NA>           <NA>       0  \n126395             <NA>           <NA>       0  \n...                 ...            ...     ...  \n31179              <NA>           <NA>       0  \n9931               <NA>           <NA>       1  \n256544             <NA>           <NA>       0  \n184101             <NA>           <NA>       0  \n157680             <NA>           <NA>       0  \n\n[272004 rows x 5316 columns]",
      "text/html": "<div>\n<style scoped>\n    .dataframe tbody tr th:only-of-type {\n        vertical-align: middle;\n    }\n\n    .dataframe tbody tr th {\n        vertical-align: top;\n    }\n\n    .dataframe thead th {\n        text-align: right;\n    }\n</style>\n<table border=\"1\" class=\"dataframe\">\n  <thead>\n    <tr style=\"text-align: right;\">\n      <th></th>\n      <th>hostname</th>\n      <th>pathname</th>\n      <th>filetype</th>\n      <th>filename</th>\n      <th>protocol</th>\n      <th>query</th>\n      <th>pragma</th>\n      <th>content-type</th>\n      <th>last-modified</th>\n      <th>accept-ranges</th>\n      <th>...</th>\n      <th>xc-version</th>\n      <th>x-amzn-waf-action</th>\n      <th>generated</th>\n      <th>x-amz-req-time-micros</th>\n      <th>debug_plat_b</th>\n      <th>x-ta</th>\n      <th>x-cache-cms-status</th>\n      <th>x-pbs-appsvrname</th>\n      <th>x-pbs-appsvrip</th>\n      <th>tracker</th>\n    </tr>\n  </thead>\n  <tbody>\n    <tr>\n      <th>256683</th>\n      <td>tpc.googlesyndication.com</td>\n      <td>/pagead/js/r20220810/r20110914/client/one_clic...</td>\n      <td>js</td>\n      <td>one_click_handler_one_afma_fy2021.js</td>\n      <td>https:</td>\n      <td>[]</td>\n      <td>&lt;NA&gt;</td>\n      <td>text/javascript; charset=utf-8</td>\n      <td>&lt;NA&gt;</td>\n      <td>&lt;NA&gt;</td>\n      <td>...</td>\n      <td>&lt;NA&gt;</td>\n      <td>&lt;NA&gt;</td>\n      <td>&lt;NA&gt;</td>\n      <td>&lt;NA&gt;</td>\n      <td>&lt;NA&gt;</td>\n      <td>&lt;NA&gt;</td>\n      <td>&lt;NA&gt;</td>\n      <td>&lt;NA&gt;</td>\n      <td>&lt;NA&gt;</td>\n      <td>1</td>\n    </tr>\n    <tr>\n      <th>14233</th>\n      <td>res.cdn.office.net</td>\n      <td>/officehub/bundles/staying-aware.b8b088b355c55...</td>\n      <td>js</td>\n      <td>staying-aware.b8b088b355c55b4ea7d6.chunk.v6.js</td>\n      <td>https:</td>\n      <td>[]</td>\n      <td>&lt;NA&gt;</td>\n      <td>application/javascript</td>\n      <td>mon, 08 aug 2022 21:56:59 gmt</td>\n      <td>&lt;NA&gt;</td>\n      <td>...</td>\n      <td>&lt;NA&gt;</td>\n      <td>&lt;NA&gt;</td>\n      <td>&lt;NA&gt;</td>\n      <td>&lt;NA&gt;</td>\n      <td>&lt;NA&gt;</td>\n      <td>&lt;NA&gt;</td>\n      <td>&lt;NA&gt;</td>\n      <td>&lt;NA&gt;</td>\n      <td>&lt;NA&gt;</td>\n      <td>0</td>\n    </tr>\n    <tr>\n      <th>100818</th>\n      <td>www.google.com</td>\n      <td>/ads/ga-audiences</td>\n      <td>/ads/ga-audiences</td>\n      <td>ga-audiences</td>\n      <td>https:</td>\n      <td>[array(['t', 'sr'], dtype=object) array(['aip'...</td>\n      <td>no-cache</td>\n      <td>image/gif</td>\n      <td>&lt;NA&gt;</td>\n      <td>&lt;NA&gt;</td>\n      <td>...</td>\n      <td>&lt;NA&gt;</td>\n      <td>&lt;NA&gt;</td>\n      <td>&lt;NA&gt;</td>\n      <td>&lt;NA&gt;</td>\n      <td>&lt;NA&gt;</td>\n      <td>&lt;NA&gt;</td>\n      <td>&lt;NA&gt;</td>\n      <td>&lt;NA&gt;</td>\n      <td>&lt;NA&gt;</td>\n      <td>1</td>\n    </tr>\n    <tr>\n      <th>106109</th>\n      <td>ipv4-c113-lhr004-ix.1.oca.nflxvideo.net</td>\n      <td>/speedtest/range/0-0</td>\n      <td>/speedtest/range/0-0</td>\n      <td>0-0</td>\n      <td>https:</td>\n      <td>[array(['c', 'de'], dtype=object) array(['n', ...</td>\n      <td>no-cache</td>\n      <td>&lt;NA&gt;</td>\n      <td>&lt;NA&gt;</td>\n      <td>&lt;NA&gt;</td>\n      <td>...</td>\n      <td>&lt;NA&gt;</td>\n      <td>&lt;NA&gt;</td>\n      <td>&lt;NA&gt;</td>\n      <td>&lt;NA&gt;</td>\n      <td>&lt;NA&gt;</td>\n      <td>&lt;NA&gt;</td>\n      <td>&lt;NA&gt;</td>\n      <td>&lt;NA&gt;</td>\n      <td>&lt;NA&gt;</td>\n      <td>0</td>\n    </tr>\n    <tr>\n      <th>126395</th>\n      <td>shimo.im</td>\n      <td>/</td>\n      <td>/</td>\n      <td></td>\n      <td>https:</td>\n      <td>[]</td>\n      <td>&lt;NA&gt;</td>\n      <td>text/html; charset=utf-8</td>\n      <td>&lt;NA&gt;</td>\n      <td>&lt;NA&gt;</td>\n      <td>...</td>\n      <td>&lt;NA&gt;</td>\n      <td>&lt;NA&gt;</td>\n      <td>&lt;NA&gt;</td>\n      <td>&lt;NA&gt;</td>\n      <td>&lt;NA&gt;</td>\n      <td>&lt;NA&gt;</td>\n      <td>&lt;NA&gt;</td>\n      <td>&lt;NA&gt;</td>\n      <td>&lt;NA&gt;</td>\n      <td>0</td>\n    </tr>\n    <tr>\n      <th>...</th>\n      <td>...</td>\n      <td>...</td>\n      <td>...</td>\n      <td>...</td>\n      <td>...</td>\n      <td>...</td>\n      <td>...</td>\n      <td>...</td>\n      <td>...</td>\n      <td>...</td>\n      <td>...</td>\n      <td>...</td>\n      <td>...</td>\n      <td>...</td>\n      <td>...</td>\n      <td>...</td>\n      <td>...</td>\n      <td>...</td>\n      <td>...</td>\n      <td>...</td>\n      <td>...</td>\n    </tr>\n    <tr>\n      <th>31179</th>\n      <td>www.criteo.com</td>\n      <td>/wp-content/uploads/2021/01/ss-logo-Lamps-Plus...</td>\n      <td>png</td>\n      <td>ss-logo-Lamps-Plus.png</td>\n      <td>https:</td>\n      <td>[]</td>\n      <td>&lt;NA&gt;</td>\n      <td>image/png</td>\n      <td>fri, 12 nov 2021 05:09:38 gmt</td>\n      <td>bytes</td>\n      <td>...</td>\n      <td>&lt;NA&gt;</td>\n      <td>&lt;NA&gt;</td>\n      <td>&lt;NA&gt;</td>\n      <td>&lt;NA&gt;</td>\n      <td>&lt;NA&gt;</td>\n      <td>&lt;NA&gt;</td>\n      <td>&lt;NA&gt;</td>\n      <td>&lt;NA&gt;</td>\n      <td>&lt;NA&gt;</td>\n      <td>0</td>\n    </tr>\n    <tr>\n      <th>9931</th>\n      <td>ads.adfox.ru</td>\n      <td>/260122/event</td>\n      <td>/260122/event</td>\n      <td>event</td>\n      <td>https:</td>\n      <td>[array(['pm', 'cyz'], dtype=object)\n array(['h...</td>\n      <td>no-cache</td>\n      <td>&lt;NA&gt;</td>\n      <td>fri, 12 aug 2022 09:22:13 gmt</td>\n      <td>&lt;NA&gt;</td>\n      <td>...</td>\n      <td>&lt;NA&gt;</td>\n      <td>&lt;NA&gt;</td>\n      <td>&lt;NA&gt;</td>\n      <td>&lt;NA&gt;</td>\n      <td>&lt;NA&gt;</td>\n      <td>&lt;NA&gt;</td>\n      <td>&lt;NA&gt;</td>\n      <td>&lt;NA&gt;</td>\n      <td>&lt;NA&gt;</td>\n      <td>1</td>\n    </tr>\n    <tr>\n      <th>256544</th>\n      <td>synostatic.synology.com</td>\n      <td>/font/inter/inter-w400-6.woff2</td>\n      <td>woff2</td>\n      <td>inter-w400-6.woff2</td>\n      <td>https:</td>\n      <td>[]</td>\n      <td>&lt;NA&gt;</td>\n      <td>binary/octet-stream</td>\n      <td>mon, 20 dec 2021 02:24:19 gmt</td>\n      <td>bytes</td>\n      <td>...</td>\n      <td>&lt;NA&gt;</td>\n      <td>&lt;NA&gt;</td>\n      <td>&lt;NA&gt;</td>\n      <td>&lt;NA&gt;</td>\n      <td>&lt;NA&gt;</td>\n      <td>&lt;NA&gt;</td>\n      <td>&lt;NA&gt;</td>\n      <td>&lt;NA&gt;</td>\n      <td>&lt;NA&gt;</td>\n      <td>0</td>\n    </tr>\n    <tr>\n      <th>184101</th>\n      <td>tenor.com</td>\n      <td>/opensearch.xml</td>\n      <td>xml</td>\n      <td>opensearch.xml</td>\n      <td>https:</td>\n      <td>[]</td>\n      <td>&lt;NA&gt;</td>\n      <td>application/xml</td>\n      <td>thu, 26 apr 2018 18:25:27 gmt</td>\n      <td>bytes</td>\n      <td>...</td>\n      <td>&lt;NA&gt;</td>\n      <td>&lt;NA&gt;</td>\n      <td>&lt;NA&gt;</td>\n      <td>&lt;NA&gt;</td>\n      <td>&lt;NA&gt;</td>\n      <td>&lt;NA&gt;</td>\n      <td>&lt;NA&gt;</td>\n      <td>&lt;NA&gt;</td>\n      <td>&lt;NA&gt;</td>\n      <td>0</td>\n    </tr>\n    <tr>\n      <th>157680</th>\n      <td>r.bing.com</td>\n      <td>/rp/l_yPzUao8Z_UiytFemwYCOTvU_U.br.js</td>\n      <td>js</td>\n      <td>l_yPzUao8Z_UiytFemwYCOTvU_U.br.js</td>\n      <td>https:</td>\n      <td>[]</td>\n      <td>&lt;NA&gt;</td>\n      <td>text/javascript; charset=utf-8</td>\n      <td>wed, 03 aug 2022 12:04:53 gmt</td>\n      <td>&lt;NA&gt;</td>\n      <td>...</td>\n      <td>&lt;NA&gt;</td>\n      <td>&lt;NA&gt;</td>\n      <td>&lt;NA&gt;</td>\n      <td>&lt;NA&gt;</td>\n      <td>&lt;NA&gt;</td>\n      <td>&lt;NA&gt;</td>\n      <td>&lt;NA&gt;</td>\n      <td>&lt;NA&gt;</td>\n      <td>&lt;NA&gt;</td>\n      <td>0</td>\n    </tr>\n  </tbody>\n</table>\n<p>272004 rows × 5316 columns</p>\n</div>"
     },
     "execution_count": 4,
     "metadata": {},
     "output_type": "execute_result"
    }
   ],
   "source": [
    "data_train"
   ],
   "metadata": {
    "collapsed": false
   }
  },
  {
   "cell_type": "code",
   "execution_count": 6,
   "outputs": [
    {
     "data": {
      "text/plain": "                           hostname                                 pathname   \n0                 imgs.cdn-btsg.com                            /fp/clear.png  \\\n1                        www.aa.com                   /akam/13/pixel_ed6754b   \n2       googleads.g.doubleclick.net                               /pagead/id   \n3            static.doubleclick.net                   /instream/ad_status.js   \n4             jnn-pa.googleapis.com  /$rpc/google.internal.waa.v1.Waa/Create   \n...                             ...                                      ...   \n802808                mc.yandex.com                       /webvisor/56010025   \n802809            www.eveonline.com              /api/arcgoals/current-goals   \n802810                mc.yandex.com                       /webvisor/56010025   \n802811                mc.yandex.com                       /webvisor/56010025   \n802812                mc.yandex.com                       /webvisor/56010025   \n\n             filetype       filename protocol   \n0                 png      clear.png    https  \\\n1       pixel_ed6754b  pixel_ed6754b    https   \n2                  id             id    https   \n3                  js   ad_status.js    https   \n4              Create         Create    https   \n...               ...            ...      ...   \n802808       56010025       56010025    https   \n802809  current-goals  current-goals    https   \n802810       56010025       56010025    https   \n802811       56010025       56010025    https   \n802812       56010025       56010025    https   \n\n                                                    query   x-i   \n0       org_id=w2txo5aa&session_id=sx_a23495b252ee4a01...  <NA>  \\\n1                                                          <NA>   \n2                                                          <NA>   \n3                                                          <NA>   \n4                                                          <NA>   \n...                                                   ...   ...   \n802808  wmode=0&wv-part=6&wv-hit=144964618&page-url=ht...  <NA>   \n802809                                                     <NA>   \n802810  wmode=0&wv-part=7&wv-hit=144964618&page-url=ht...  <NA>   \n802811  wmode=0&wv-part=8&wv-hit=144964618&page-url=ht...  <NA>   \n802812  wmode=0&wv-part=9&wv-hit=144964618&page-url=ht...  <NA>   \n\n       x-amz-delete-marker xiaomi-security-center x-contentful-region  ...   \n0                     <NA>                   <NA>                <NA>  ...  \\\n1                     <NA>                   <NA>                <NA>  ...   \n2                     <NA>                   <NA>                <NA>  ...   \n3                     <NA>                   <NA>                <NA>  ...   \n4                     <NA>                   <NA>                <NA>  ...   \n...                    ...                    ...                 ...  ...   \n802808                <NA>                   <NA>                <NA>  ...   \n802809                <NA>                   <NA>                <NA>  ...   \n802810                <NA>                   <NA>                <NA>  ...   \n802811                <NA>                   <NA>                <NA>  ...   \n802812                <NA>                   <NA>                <NA>  ...   \n\n       x-kicker-powered-by x-ms-meta-aijssdksrc x-gocache-cachestatus   \n0                     <NA>                 <NA>                  <NA>  \\\n1                     <NA>                 <NA>                  <NA>   \n2                     <NA>                 <NA>                  <NA>   \n3                     <NA>                 <NA>                  <NA>   \n4                     <NA>                 <NA>                  <NA>   \n...                    ...                  ...                   ...   \n802808                <NA>                 <NA>                  <NA>   \n802809                <NA>                 <NA>                  <NA>   \n802810                <NA>                 <NA>                  <NA>   \n802811                <NA>                 <NA>                  <NA>   \n802812                <NA>                 <NA>                  <NA>   \n\n       grpc-metadata-content-type x-nyt-pagetype x-languagecookie x-user-type   \n0                            <NA>           <NA>             <NA>        <NA>  \\\n1                            <NA>           <NA>             <NA>        <NA>   \n2                            <NA>           <NA>             <NA>        <NA>   \n3                            <NA>           <NA>             <NA>        <NA>   \n4                            <NA>           <NA>             <NA>        <NA>   \n...                           ...            ...              ...         ...   \n802808                       <NA>           <NA>             <NA>        <NA>   \n802809                       <NA>           <NA>             <NA>        <NA>   \n802810                       <NA>           <NA>             <NA>        <NA>   \n802811                       <NA>           <NA>             <NA>        <NA>   \n802812                       <NA>           <NA>             <NA>        <NA>   \n\n       geo-country function-execution-id tracker  \n0             <NA>                  <NA>       1  \n1             <NA>                  <NA>       1  \n2             <NA>                  <NA>       1  \n3             <NA>                  <NA>       1  \n4             <NA>                  <NA>       0  \n...            ...                   ...     ...  \n802808        <NA>                  <NA>       1  \n802809        <NA>                  <NA>       0  \n802810        <NA>                  <NA>       1  \n802811        <NA>                  <NA>       1  \n802812        <NA>                  <NA>       1  \n\n[802813 rows x 7903 columns]",
      "text/html": "<div>\n<style scoped>\n    .dataframe tbody tr th:only-of-type {\n        vertical-align: middle;\n    }\n\n    .dataframe tbody tr th {\n        vertical-align: top;\n    }\n\n    .dataframe thead th {\n        text-align: right;\n    }\n</style>\n<table border=\"1\" class=\"dataframe\">\n  <thead>\n    <tr style=\"text-align: right;\">\n      <th></th>\n      <th>hostname</th>\n      <th>pathname</th>\n      <th>filetype</th>\n      <th>filename</th>\n      <th>protocol</th>\n      <th>query</th>\n      <th>x-i</th>\n      <th>x-amz-delete-marker</th>\n      <th>xiaomi-security-center</th>\n      <th>x-contentful-region</th>\n      <th>...</th>\n      <th>x-kicker-powered-by</th>\n      <th>x-ms-meta-aijssdksrc</th>\n      <th>x-gocache-cachestatus</th>\n      <th>grpc-metadata-content-type</th>\n      <th>x-nyt-pagetype</th>\n      <th>x-languagecookie</th>\n      <th>x-user-type</th>\n      <th>geo-country</th>\n      <th>function-execution-id</th>\n      <th>tracker</th>\n    </tr>\n  </thead>\n  <tbody>\n    <tr>\n      <th>0</th>\n      <td>imgs.cdn-btsg.com</td>\n      <td>/fp/clear.png</td>\n      <td>png</td>\n      <td>clear.png</td>\n      <td>https</td>\n      <td>org_id=w2txo5aa&amp;session_id=sx_a23495b252ee4a01...</td>\n      <td>&lt;NA&gt;</td>\n      <td>&lt;NA&gt;</td>\n      <td>&lt;NA&gt;</td>\n      <td>&lt;NA&gt;</td>\n      <td>...</td>\n      <td>&lt;NA&gt;</td>\n      <td>&lt;NA&gt;</td>\n      <td>&lt;NA&gt;</td>\n      <td>&lt;NA&gt;</td>\n      <td>&lt;NA&gt;</td>\n      <td>&lt;NA&gt;</td>\n      <td>&lt;NA&gt;</td>\n      <td>&lt;NA&gt;</td>\n      <td>&lt;NA&gt;</td>\n      <td>1</td>\n    </tr>\n    <tr>\n      <th>1</th>\n      <td>www.aa.com</td>\n      <td>/akam/13/pixel_ed6754b</td>\n      <td>pixel_ed6754b</td>\n      <td>pixel_ed6754b</td>\n      <td>https</td>\n      <td></td>\n      <td>&lt;NA&gt;</td>\n      <td>&lt;NA&gt;</td>\n      <td>&lt;NA&gt;</td>\n      <td>&lt;NA&gt;</td>\n      <td>...</td>\n      <td>&lt;NA&gt;</td>\n      <td>&lt;NA&gt;</td>\n      <td>&lt;NA&gt;</td>\n      <td>&lt;NA&gt;</td>\n      <td>&lt;NA&gt;</td>\n      <td>&lt;NA&gt;</td>\n      <td>&lt;NA&gt;</td>\n      <td>&lt;NA&gt;</td>\n      <td>&lt;NA&gt;</td>\n      <td>1</td>\n    </tr>\n    <tr>\n      <th>2</th>\n      <td>googleads.g.doubleclick.net</td>\n      <td>/pagead/id</td>\n      <td>id</td>\n      <td>id</td>\n      <td>https</td>\n      <td></td>\n      <td>&lt;NA&gt;</td>\n      <td>&lt;NA&gt;</td>\n      <td>&lt;NA&gt;</td>\n      <td>&lt;NA&gt;</td>\n      <td>...</td>\n      <td>&lt;NA&gt;</td>\n      <td>&lt;NA&gt;</td>\n      <td>&lt;NA&gt;</td>\n      <td>&lt;NA&gt;</td>\n      <td>&lt;NA&gt;</td>\n      <td>&lt;NA&gt;</td>\n      <td>&lt;NA&gt;</td>\n      <td>&lt;NA&gt;</td>\n      <td>&lt;NA&gt;</td>\n      <td>1</td>\n    </tr>\n    <tr>\n      <th>3</th>\n      <td>static.doubleclick.net</td>\n      <td>/instream/ad_status.js</td>\n      <td>js</td>\n      <td>ad_status.js</td>\n      <td>https</td>\n      <td></td>\n      <td>&lt;NA&gt;</td>\n      <td>&lt;NA&gt;</td>\n      <td>&lt;NA&gt;</td>\n      <td>&lt;NA&gt;</td>\n      <td>...</td>\n      <td>&lt;NA&gt;</td>\n      <td>&lt;NA&gt;</td>\n      <td>&lt;NA&gt;</td>\n      <td>&lt;NA&gt;</td>\n      <td>&lt;NA&gt;</td>\n      <td>&lt;NA&gt;</td>\n      <td>&lt;NA&gt;</td>\n      <td>&lt;NA&gt;</td>\n      <td>&lt;NA&gt;</td>\n      <td>1</td>\n    </tr>\n    <tr>\n      <th>4</th>\n      <td>jnn-pa.googleapis.com</td>\n      <td>/$rpc/google.internal.waa.v1.Waa/Create</td>\n      <td>Create</td>\n      <td>Create</td>\n      <td>https</td>\n      <td></td>\n      <td>&lt;NA&gt;</td>\n      <td>&lt;NA&gt;</td>\n      <td>&lt;NA&gt;</td>\n      <td>&lt;NA&gt;</td>\n      <td>...</td>\n      <td>&lt;NA&gt;</td>\n      <td>&lt;NA&gt;</td>\n      <td>&lt;NA&gt;</td>\n      <td>&lt;NA&gt;</td>\n      <td>&lt;NA&gt;</td>\n      <td>&lt;NA&gt;</td>\n      <td>&lt;NA&gt;</td>\n      <td>&lt;NA&gt;</td>\n      <td>&lt;NA&gt;</td>\n      <td>0</td>\n    </tr>\n    <tr>\n      <th>...</th>\n      <td>...</td>\n      <td>...</td>\n      <td>...</td>\n      <td>...</td>\n      <td>...</td>\n      <td>...</td>\n      <td>...</td>\n      <td>...</td>\n      <td>...</td>\n      <td>...</td>\n      <td>...</td>\n      <td>...</td>\n      <td>...</td>\n      <td>...</td>\n      <td>...</td>\n      <td>...</td>\n      <td>...</td>\n      <td>...</td>\n      <td>...</td>\n      <td>...</td>\n      <td>...</td>\n    </tr>\n    <tr>\n      <th>802808</th>\n      <td>mc.yandex.com</td>\n      <td>/webvisor/56010025</td>\n      <td>56010025</td>\n      <td>56010025</td>\n      <td>https</td>\n      <td>wmode=0&amp;wv-part=6&amp;wv-hit=144964618&amp;page-url=ht...</td>\n      <td>&lt;NA&gt;</td>\n      <td>&lt;NA&gt;</td>\n      <td>&lt;NA&gt;</td>\n      <td>&lt;NA&gt;</td>\n      <td>...</td>\n      <td>&lt;NA&gt;</td>\n      <td>&lt;NA&gt;</td>\n      <td>&lt;NA&gt;</td>\n      <td>&lt;NA&gt;</td>\n      <td>&lt;NA&gt;</td>\n      <td>&lt;NA&gt;</td>\n      <td>&lt;NA&gt;</td>\n      <td>&lt;NA&gt;</td>\n      <td>&lt;NA&gt;</td>\n      <td>1</td>\n    </tr>\n    <tr>\n      <th>802809</th>\n      <td>www.eveonline.com</td>\n      <td>/api/arcgoals/current-goals</td>\n      <td>current-goals</td>\n      <td>current-goals</td>\n      <td>https</td>\n      <td></td>\n      <td>&lt;NA&gt;</td>\n      <td>&lt;NA&gt;</td>\n      <td>&lt;NA&gt;</td>\n      <td>&lt;NA&gt;</td>\n      <td>...</td>\n      <td>&lt;NA&gt;</td>\n      <td>&lt;NA&gt;</td>\n      <td>&lt;NA&gt;</td>\n      <td>&lt;NA&gt;</td>\n      <td>&lt;NA&gt;</td>\n      <td>&lt;NA&gt;</td>\n      <td>&lt;NA&gt;</td>\n      <td>&lt;NA&gt;</td>\n      <td>&lt;NA&gt;</td>\n      <td>0</td>\n    </tr>\n    <tr>\n      <th>802810</th>\n      <td>mc.yandex.com</td>\n      <td>/webvisor/56010025</td>\n      <td>56010025</td>\n      <td>56010025</td>\n      <td>https</td>\n      <td>wmode=0&amp;wv-part=7&amp;wv-hit=144964618&amp;page-url=ht...</td>\n      <td>&lt;NA&gt;</td>\n      <td>&lt;NA&gt;</td>\n      <td>&lt;NA&gt;</td>\n      <td>&lt;NA&gt;</td>\n      <td>...</td>\n      <td>&lt;NA&gt;</td>\n      <td>&lt;NA&gt;</td>\n      <td>&lt;NA&gt;</td>\n      <td>&lt;NA&gt;</td>\n      <td>&lt;NA&gt;</td>\n      <td>&lt;NA&gt;</td>\n      <td>&lt;NA&gt;</td>\n      <td>&lt;NA&gt;</td>\n      <td>&lt;NA&gt;</td>\n      <td>1</td>\n    </tr>\n    <tr>\n      <th>802811</th>\n      <td>mc.yandex.com</td>\n      <td>/webvisor/56010025</td>\n      <td>56010025</td>\n      <td>56010025</td>\n      <td>https</td>\n      <td>wmode=0&amp;wv-part=8&amp;wv-hit=144964618&amp;page-url=ht...</td>\n      <td>&lt;NA&gt;</td>\n      <td>&lt;NA&gt;</td>\n      <td>&lt;NA&gt;</td>\n      <td>&lt;NA&gt;</td>\n      <td>...</td>\n      <td>&lt;NA&gt;</td>\n      <td>&lt;NA&gt;</td>\n      <td>&lt;NA&gt;</td>\n      <td>&lt;NA&gt;</td>\n      <td>&lt;NA&gt;</td>\n      <td>&lt;NA&gt;</td>\n      <td>&lt;NA&gt;</td>\n      <td>&lt;NA&gt;</td>\n      <td>&lt;NA&gt;</td>\n      <td>1</td>\n    </tr>\n    <tr>\n      <th>802812</th>\n      <td>mc.yandex.com</td>\n      <td>/webvisor/56010025</td>\n      <td>56010025</td>\n      <td>56010025</td>\n      <td>https</td>\n      <td>wmode=0&amp;wv-part=9&amp;wv-hit=144964618&amp;page-url=ht...</td>\n      <td>&lt;NA&gt;</td>\n      <td>&lt;NA&gt;</td>\n      <td>&lt;NA&gt;</td>\n      <td>&lt;NA&gt;</td>\n      <td>...</td>\n      <td>&lt;NA&gt;</td>\n      <td>&lt;NA&gt;</td>\n      <td>&lt;NA&gt;</td>\n      <td>&lt;NA&gt;</td>\n      <td>&lt;NA&gt;</td>\n      <td>&lt;NA&gt;</td>\n      <td>&lt;NA&gt;</td>\n      <td>&lt;NA&gt;</td>\n      <td>&lt;NA&gt;</td>\n      <td>1</td>\n    </tr>\n  </tbody>\n</table>\n<p>802813 rows × 7903 columns</p>\n</div>"
     },
     "execution_count": 6,
     "metadata": {},
     "output_type": "execute_result"
    }
   ],
   "source": [
    "data_test"
   ],
   "metadata": {
    "collapsed": false
   }
  },
  {
   "cell_type": "code",
   "execution_count": 7,
   "outputs": [
    {
     "name": "stdout",
     "output_type": "stream",
     "text": [
      "<class 'pandas.core.frame.DataFrame'>\n",
      "Index: 272004 entries, 256683 to 157680\n",
      "Columns: 5316 entries, hostname to tracker\n",
      "dtypes: int32[pyarrow](1), list<item: list<item: string>>[pyarrow](1), null[pyarrow](200), string[pyarrow](5114)\n",
      "memory usage: 5.5 GB\n"
     ]
    }
   ],
   "source": [
    "data_train.info(memory_usage=\"deep\")"
   ],
   "metadata": {
    "collapsed": false
   }
  },
  {
   "cell_type": "code",
   "execution_count": 4,
   "outputs": [
    {
     "name": "stdout",
     "output_type": "stream",
     "text": [
      "<class 'pandas.core.frame.DataFrame'>\n",
      "RangeIndex: 802813 entries, 0 to 802812\n",
      "Columns: 7903 entries, hostname to tracker\n",
      "dtypes: int64[pyarrow](1), string[pyarrow](7902)\n",
      "memory usage: 24.8 GB\n"
     ]
    }
   ],
   "source": [
    "data_test.info(memory_usage=\"deep\")"
   ],
   "metadata": {
    "collapsed": false
   }
  },
  {
   "cell_type": "code",
   "execution_count": 4,
   "outputs": [
    {
     "name": "stdout",
     "output_type": "stream",
     "text": [
      "CPU times: user 1.75 s, sys: 11.3 ms, total: 1.76 s\n",
      "Wall time: 1.77 s\n"
     ]
    }
   ],
   "source": [
    "%%time\n",
    "empty_columns = [col for col in data_train if data_train[col].isnull().all() == True]"
   ],
   "metadata": {
    "collapsed": false
   }
  },
  {
   "cell_type": "code",
   "execution_count": 5,
   "outputs": [],
   "source": [
    "data_train.drop(empty_columns, axis=1, inplace=True)"
   ],
   "metadata": {
    "collapsed": false
   }
  },
  {
   "cell_type": "code",
   "execution_count": 6,
   "outputs": [],
   "source": [
    "columns = empty_columns + data_test.columns.values.tolist()\n",
    "empty_columns = [x for x in columns if columns.count(x) > 1]"
   ],
   "metadata": {
    "collapsed": false
   }
  },
  {
   "cell_type": "code",
   "execution_count": 7,
   "outputs": [],
   "source": [
    "data_test.drop(empty_columns, axis=1, inplace=True)"
   ],
   "metadata": {
    "collapsed": false
   }
  },
  {
   "cell_type": "code",
   "execution_count": 8,
   "outputs": [],
   "source": [
    "test_columns = data_test.columns.values.tolist()\n",
    "train_columns = data_train.columns.values.tolist()\n",
    "cols_not_in_train = list(set(test_columns).difference(train_columns))"
   ],
   "metadata": {
    "collapsed": false
   }
  },
  {
   "cell_type": "code",
   "execution_count": 9,
   "outputs": [
    {
     "data": {
      "text/plain": "3208"
     },
     "execution_count": 9,
     "metadata": {},
     "output_type": "execute_result"
    }
   ],
   "source": [
    "len(cols_not_in_train)"
   ],
   "metadata": {
    "collapsed": false
   }
  },
  {
   "cell_type": "code",
   "execution_count": 10,
   "outputs": [],
   "source": [
    "data_test.drop(cols_not_in_train, axis=1, inplace=True)"
   ],
   "metadata": {
    "collapsed": false
   }
  },
  {
   "cell_type": "code",
   "execution_count": 11,
   "outputs": [
    {
     "data": {
      "text/plain": "                           hostname                                 pathname   \n0                 imgs.cdn-btsg.com                            /fp/clear.png  \\\n1                        www.aa.com                   /akam/13/pixel_ed6754b   \n2       googleads.g.doubleclick.net                               /pagead/id   \n3            static.doubleclick.net                   /instream/ad_status.js   \n4             jnn-pa.googleapis.com  /$rpc/google.internal.waa.v1.Waa/Create   \n...                             ...                                      ...   \n802808                mc.yandex.com                       /webvisor/56010025   \n802809            www.eveonline.com              /api/arcgoals/current-goals   \n802810                mc.yandex.com                       /webvisor/56010025   \n802811                mc.yandex.com                       /webvisor/56010025   \n802812                mc.yandex.com                       /webvisor/56010025   \n\n             filetype       filename protocol   \n0                 png      clear.png    https  \\\n1       pixel_ed6754b  pixel_ed6754b    https   \n2                  id             id    https   \n3                  js   ad_status.js    https   \n4              Create         Create    https   \n...               ...            ...      ...   \n802808       56010025       56010025    https   \n802809  current-goals  current-goals    https   \n802810       56010025       56010025    https   \n802811       56010025       56010025    https   \n802812       56010025       56010025    https   \n\n                                                    query   x-i   \n0       org_id=w2txo5aa&session_id=sx_a23495b252ee4a01...  <NA>  \\\n1                                                          <NA>   \n2                                                          <NA>   \n3                                                          <NA>   \n4                                                          <NA>   \n...                                                   ...   ...   \n802808  wmode=0&wv-part=6&wv-hit=144964618&page-url=ht...  <NA>   \n802809                                                     <NA>   \n802810  wmode=0&wv-part=7&wv-hit=144964618&page-url=ht...  <NA>   \n802811  wmode=0&wv-part=8&wv-hit=144964618&page-url=ht...  <NA>   \n802812  wmode=0&wv-part=9&wv-hit=144964618&page-url=ht...  <NA>   \n\n       x-amz-delete-marker xiaomi-security-center x-contentful-region  ...   \n0                     <NA>                   <NA>                <NA>  ...  \\\n1                     <NA>                   <NA>                <NA>  ...   \n2                     <NA>                   <NA>                <NA>  ...   \n3                     <NA>                   <NA>                <NA>  ...   \n4                     <NA>                   <NA>                <NA>  ...   \n...                    ...                    ...                 ...  ...   \n802808                <NA>                   <NA>                <NA>  ...   \n802809                <NA>                   <NA>                <NA>  ...   \n802810                <NA>                   <NA>                <NA>  ...   \n802811                <NA>                   <NA>                <NA>  ...   \n802812                <NA>                   <NA>                <NA>  ...   \n\n       x-pinterest-rid x-esi-enable x-nce-cacheresult x-ms-meta-aijssdksrc   \n0                 <NA>         <NA>              <NA>                 <NA>  \\\n1                 <NA>         <NA>              <NA>                 <NA>   \n2                 <NA>         <NA>              <NA>                 <NA>   \n3                 <NA>         <NA>              <NA>                 <NA>   \n4                 <NA>         <NA>              <NA>                 <NA>   \n...                ...          ...               ...                  ...   \n802808            <NA>         <NA>              <NA>                 <NA>   \n802809            <NA>         <NA>              <NA>                 <NA>   \n802810            <NA>         <NA>              <NA>                 <NA>   \n802811            <NA>         <NA>              <NA>                 <NA>   \n802812            <NA>         <NA>              <NA>                 <NA>   \n\n       grpc-metadata-content-type x-nyt-pagetype x-languagecookie geo-country   \n0                            <NA>           <NA>             <NA>        <NA>  \\\n1                            <NA>           <NA>             <NA>        <NA>   \n2                            <NA>           <NA>             <NA>        <NA>   \n3                            <NA>           <NA>             <NA>        <NA>   \n4                            <NA>           <NA>             <NA>        <NA>   \n...                           ...            ...              ...         ...   \n802808                       <NA>           <NA>             <NA>        <NA>   \n802809                       <NA>           <NA>             <NA>        <NA>   \n802810                       <NA>           <NA>             <NA>        <NA>   \n802811                       <NA>           <NA>             <NA>        <NA>   \n802812                       <NA>           <NA>             <NA>        <NA>   \n\n       function-execution-id tracker  \n0                       <NA>       1  \n1                       <NA>       1  \n2                       <NA>       1  \n3                       <NA>       1  \n4                       <NA>       0  \n...                      ...     ...  \n802808                  <NA>       1  \n802809                  <NA>       0  \n802810                  <NA>       1  \n802811                  <NA>       1  \n802812                  <NA>       1  \n\n[802813 rows x 4532 columns]",
      "text/html": "<div>\n<style scoped>\n    .dataframe tbody tr th:only-of-type {\n        vertical-align: middle;\n    }\n\n    .dataframe tbody tr th {\n        vertical-align: top;\n    }\n\n    .dataframe thead th {\n        text-align: right;\n    }\n</style>\n<table border=\"1\" class=\"dataframe\">\n  <thead>\n    <tr style=\"text-align: right;\">\n      <th></th>\n      <th>hostname</th>\n      <th>pathname</th>\n      <th>filetype</th>\n      <th>filename</th>\n      <th>protocol</th>\n      <th>query</th>\n      <th>x-i</th>\n      <th>x-amz-delete-marker</th>\n      <th>xiaomi-security-center</th>\n      <th>x-contentful-region</th>\n      <th>...</th>\n      <th>x-pinterest-rid</th>\n      <th>x-esi-enable</th>\n      <th>x-nce-cacheresult</th>\n      <th>x-ms-meta-aijssdksrc</th>\n      <th>grpc-metadata-content-type</th>\n      <th>x-nyt-pagetype</th>\n      <th>x-languagecookie</th>\n      <th>geo-country</th>\n      <th>function-execution-id</th>\n      <th>tracker</th>\n    </tr>\n  </thead>\n  <tbody>\n    <tr>\n      <th>0</th>\n      <td>imgs.cdn-btsg.com</td>\n      <td>/fp/clear.png</td>\n      <td>png</td>\n      <td>clear.png</td>\n      <td>https</td>\n      <td>org_id=w2txo5aa&amp;session_id=sx_a23495b252ee4a01...</td>\n      <td>&lt;NA&gt;</td>\n      <td>&lt;NA&gt;</td>\n      <td>&lt;NA&gt;</td>\n      <td>&lt;NA&gt;</td>\n      <td>...</td>\n      <td>&lt;NA&gt;</td>\n      <td>&lt;NA&gt;</td>\n      <td>&lt;NA&gt;</td>\n      <td>&lt;NA&gt;</td>\n      <td>&lt;NA&gt;</td>\n      <td>&lt;NA&gt;</td>\n      <td>&lt;NA&gt;</td>\n      <td>&lt;NA&gt;</td>\n      <td>&lt;NA&gt;</td>\n      <td>1</td>\n    </tr>\n    <tr>\n      <th>1</th>\n      <td>www.aa.com</td>\n      <td>/akam/13/pixel_ed6754b</td>\n      <td>pixel_ed6754b</td>\n      <td>pixel_ed6754b</td>\n      <td>https</td>\n      <td></td>\n      <td>&lt;NA&gt;</td>\n      <td>&lt;NA&gt;</td>\n      <td>&lt;NA&gt;</td>\n      <td>&lt;NA&gt;</td>\n      <td>...</td>\n      <td>&lt;NA&gt;</td>\n      <td>&lt;NA&gt;</td>\n      <td>&lt;NA&gt;</td>\n      <td>&lt;NA&gt;</td>\n      <td>&lt;NA&gt;</td>\n      <td>&lt;NA&gt;</td>\n      <td>&lt;NA&gt;</td>\n      <td>&lt;NA&gt;</td>\n      <td>&lt;NA&gt;</td>\n      <td>1</td>\n    </tr>\n    <tr>\n      <th>2</th>\n      <td>googleads.g.doubleclick.net</td>\n      <td>/pagead/id</td>\n      <td>id</td>\n      <td>id</td>\n      <td>https</td>\n      <td></td>\n      <td>&lt;NA&gt;</td>\n      <td>&lt;NA&gt;</td>\n      <td>&lt;NA&gt;</td>\n      <td>&lt;NA&gt;</td>\n      <td>...</td>\n      <td>&lt;NA&gt;</td>\n      <td>&lt;NA&gt;</td>\n      <td>&lt;NA&gt;</td>\n      <td>&lt;NA&gt;</td>\n      <td>&lt;NA&gt;</td>\n      <td>&lt;NA&gt;</td>\n      <td>&lt;NA&gt;</td>\n      <td>&lt;NA&gt;</td>\n      <td>&lt;NA&gt;</td>\n      <td>1</td>\n    </tr>\n    <tr>\n      <th>3</th>\n      <td>static.doubleclick.net</td>\n      <td>/instream/ad_status.js</td>\n      <td>js</td>\n      <td>ad_status.js</td>\n      <td>https</td>\n      <td></td>\n      <td>&lt;NA&gt;</td>\n      <td>&lt;NA&gt;</td>\n      <td>&lt;NA&gt;</td>\n      <td>&lt;NA&gt;</td>\n      <td>...</td>\n      <td>&lt;NA&gt;</td>\n      <td>&lt;NA&gt;</td>\n      <td>&lt;NA&gt;</td>\n      <td>&lt;NA&gt;</td>\n      <td>&lt;NA&gt;</td>\n      <td>&lt;NA&gt;</td>\n      <td>&lt;NA&gt;</td>\n      <td>&lt;NA&gt;</td>\n      <td>&lt;NA&gt;</td>\n      <td>1</td>\n    </tr>\n    <tr>\n      <th>4</th>\n      <td>jnn-pa.googleapis.com</td>\n      <td>/$rpc/google.internal.waa.v1.Waa/Create</td>\n      <td>Create</td>\n      <td>Create</td>\n      <td>https</td>\n      <td></td>\n      <td>&lt;NA&gt;</td>\n      <td>&lt;NA&gt;</td>\n      <td>&lt;NA&gt;</td>\n      <td>&lt;NA&gt;</td>\n      <td>...</td>\n      <td>&lt;NA&gt;</td>\n      <td>&lt;NA&gt;</td>\n      <td>&lt;NA&gt;</td>\n      <td>&lt;NA&gt;</td>\n      <td>&lt;NA&gt;</td>\n      <td>&lt;NA&gt;</td>\n      <td>&lt;NA&gt;</td>\n      <td>&lt;NA&gt;</td>\n      <td>&lt;NA&gt;</td>\n      <td>0</td>\n    </tr>\n    <tr>\n      <th>...</th>\n      <td>...</td>\n      <td>...</td>\n      <td>...</td>\n      <td>...</td>\n      <td>...</td>\n      <td>...</td>\n      <td>...</td>\n      <td>...</td>\n      <td>...</td>\n      <td>...</td>\n      <td>...</td>\n      <td>...</td>\n      <td>...</td>\n      <td>...</td>\n      <td>...</td>\n      <td>...</td>\n      <td>...</td>\n      <td>...</td>\n      <td>...</td>\n      <td>...</td>\n      <td>...</td>\n    </tr>\n    <tr>\n      <th>802808</th>\n      <td>mc.yandex.com</td>\n      <td>/webvisor/56010025</td>\n      <td>56010025</td>\n      <td>56010025</td>\n      <td>https</td>\n      <td>wmode=0&amp;wv-part=6&amp;wv-hit=144964618&amp;page-url=ht...</td>\n      <td>&lt;NA&gt;</td>\n      <td>&lt;NA&gt;</td>\n      <td>&lt;NA&gt;</td>\n      <td>&lt;NA&gt;</td>\n      <td>...</td>\n      <td>&lt;NA&gt;</td>\n      <td>&lt;NA&gt;</td>\n      <td>&lt;NA&gt;</td>\n      <td>&lt;NA&gt;</td>\n      <td>&lt;NA&gt;</td>\n      <td>&lt;NA&gt;</td>\n      <td>&lt;NA&gt;</td>\n      <td>&lt;NA&gt;</td>\n      <td>&lt;NA&gt;</td>\n      <td>1</td>\n    </tr>\n    <tr>\n      <th>802809</th>\n      <td>www.eveonline.com</td>\n      <td>/api/arcgoals/current-goals</td>\n      <td>current-goals</td>\n      <td>current-goals</td>\n      <td>https</td>\n      <td></td>\n      <td>&lt;NA&gt;</td>\n      <td>&lt;NA&gt;</td>\n      <td>&lt;NA&gt;</td>\n      <td>&lt;NA&gt;</td>\n      <td>...</td>\n      <td>&lt;NA&gt;</td>\n      <td>&lt;NA&gt;</td>\n      <td>&lt;NA&gt;</td>\n      <td>&lt;NA&gt;</td>\n      <td>&lt;NA&gt;</td>\n      <td>&lt;NA&gt;</td>\n      <td>&lt;NA&gt;</td>\n      <td>&lt;NA&gt;</td>\n      <td>&lt;NA&gt;</td>\n      <td>0</td>\n    </tr>\n    <tr>\n      <th>802810</th>\n      <td>mc.yandex.com</td>\n      <td>/webvisor/56010025</td>\n      <td>56010025</td>\n      <td>56010025</td>\n      <td>https</td>\n      <td>wmode=0&amp;wv-part=7&amp;wv-hit=144964618&amp;page-url=ht...</td>\n      <td>&lt;NA&gt;</td>\n      <td>&lt;NA&gt;</td>\n      <td>&lt;NA&gt;</td>\n      <td>&lt;NA&gt;</td>\n      <td>...</td>\n      <td>&lt;NA&gt;</td>\n      <td>&lt;NA&gt;</td>\n      <td>&lt;NA&gt;</td>\n      <td>&lt;NA&gt;</td>\n      <td>&lt;NA&gt;</td>\n      <td>&lt;NA&gt;</td>\n      <td>&lt;NA&gt;</td>\n      <td>&lt;NA&gt;</td>\n      <td>&lt;NA&gt;</td>\n      <td>1</td>\n    </tr>\n    <tr>\n      <th>802811</th>\n      <td>mc.yandex.com</td>\n      <td>/webvisor/56010025</td>\n      <td>56010025</td>\n      <td>56010025</td>\n      <td>https</td>\n      <td>wmode=0&amp;wv-part=8&amp;wv-hit=144964618&amp;page-url=ht...</td>\n      <td>&lt;NA&gt;</td>\n      <td>&lt;NA&gt;</td>\n      <td>&lt;NA&gt;</td>\n      <td>&lt;NA&gt;</td>\n      <td>...</td>\n      <td>&lt;NA&gt;</td>\n      <td>&lt;NA&gt;</td>\n      <td>&lt;NA&gt;</td>\n      <td>&lt;NA&gt;</td>\n      <td>&lt;NA&gt;</td>\n      <td>&lt;NA&gt;</td>\n      <td>&lt;NA&gt;</td>\n      <td>&lt;NA&gt;</td>\n      <td>&lt;NA&gt;</td>\n      <td>1</td>\n    </tr>\n    <tr>\n      <th>802812</th>\n      <td>mc.yandex.com</td>\n      <td>/webvisor/56010025</td>\n      <td>56010025</td>\n      <td>56010025</td>\n      <td>https</td>\n      <td>wmode=0&amp;wv-part=9&amp;wv-hit=144964618&amp;page-url=ht...</td>\n      <td>&lt;NA&gt;</td>\n      <td>&lt;NA&gt;</td>\n      <td>&lt;NA&gt;</td>\n      <td>&lt;NA&gt;</td>\n      <td>...</td>\n      <td>&lt;NA&gt;</td>\n      <td>&lt;NA&gt;</td>\n      <td>&lt;NA&gt;</td>\n      <td>&lt;NA&gt;</td>\n      <td>&lt;NA&gt;</td>\n      <td>&lt;NA&gt;</td>\n      <td>&lt;NA&gt;</td>\n      <td>&lt;NA&gt;</td>\n      <td>&lt;NA&gt;</td>\n      <td>1</td>\n    </tr>\n  </tbody>\n</table>\n<p>802813 rows × 4532 columns</p>\n</div>"
     },
     "execution_count": 11,
     "metadata": {},
     "output_type": "execute_result"
    }
   ],
   "source": [
    "data_test"
   ],
   "metadata": {
    "collapsed": false
   }
  },
  {
   "cell_type": "code",
   "execution_count": 12,
   "outputs": [],
   "source": [
    "data_train.reset_index(drop=True, inplace=True)"
   ],
   "metadata": {
    "collapsed": false
   }
  },
  {
   "cell_type": "code",
   "execution_count": 13,
   "outputs": [
    {
     "name": "stdout",
     "output_type": "stream",
     "text": [
      "CPU times: user 2min 12s, sys: 1.1 s, total: 2min 13s\n",
      "Wall time: 2min 14s\n"
     ]
    }
   ],
   "source": [
    "%%time\n",
    "data_column_values = data_train.columns.values[6:-1].tolist()\n",
    "match = [\n",
    "    dpf.new_fuzzy_string_matching_for_column(j, data_column_values[i + 1:])\n",
    "    for i, j in enumerate(data_column_values)\n",
    "    if i != len(data_column_values) - 1\n",
    "]\n",
    "\n",
    "match2 = pd.concat(match, ignore_index=True)\n",
    "del match\n",
    "\n",
    "result = [\n",
    "    dpf.find_cols_with_similar_values(col, col2, data_train)\n",
    "    for col, col2 in zip(match2[\"fuzzy_match\"], match2[\"col_name\"])\n",
    "]"
   ],
   "metadata": {
    "collapsed": false
   }
  },
  {
   "cell_type": "code",
   "execution_count": 14,
   "outputs": [
    {
     "data": {
      "text/plain": "                     fuzzy_match    w_ratio index                 col_name\n0                        pragrma  92.307692  3532                   pragma\n1      x-akamai-pragma-client-ip  90.000000   390                   pragma\n2               pragma-directive  90.000000  2534                   pragma\n3                         pramga  83.333333  1041                   pragma\n4                 x-content-type  92.307692   722             content-type\n...                          ...        ...   ...                      ...\n25933                    x-width  90.000000     8                      wid\n25934    nrk-application-version  90.000000     0          nrk-application\n25935                 xc-version  80.000000    12  nrk-application-version\n25936                  x-adstyle  82.352941     2                 x-adtype\n25937             x-pbs-appsvrip  80.000000     0         x-pbs-appsvrname\n\n[25938 rows x 4 columns]",
      "text/html": "<div>\n<style scoped>\n    .dataframe tbody tr th:only-of-type {\n        vertical-align: middle;\n    }\n\n    .dataframe tbody tr th {\n        vertical-align: top;\n    }\n\n    .dataframe thead th {\n        text-align: right;\n    }\n</style>\n<table border=\"1\" class=\"dataframe\">\n  <thead>\n    <tr style=\"text-align: right;\">\n      <th></th>\n      <th>fuzzy_match</th>\n      <th>w_ratio</th>\n      <th>index</th>\n      <th>col_name</th>\n    </tr>\n  </thead>\n  <tbody>\n    <tr>\n      <th>0</th>\n      <td>pragrma</td>\n      <td>92.307692</td>\n      <td>3532</td>\n      <td>pragma</td>\n    </tr>\n    <tr>\n      <th>1</th>\n      <td>x-akamai-pragma-client-ip</td>\n      <td>90.000000</td>\n      <td>390</td>\n      <td>pragma</td>\n    </tr>\n    <tr>\n      <th>2</th>\n      <td>pragma-directive</td>\n      <td>90.000000</td>\n      <td>2534</td>\n      <td>pragma</td>\n    </tr>\n    <tr>\n      <th>3</th>\n      <td>pramga</td>\n      <td>83.333333</td>\n      <td>1041</td>\n      <td>pragma</td>\n    </tr>\n    <tr>\n      <th>4</th>\n      <td>x-content-type</td>\n      <td>92.307692</td>\n      <td>722</td>\n      <td>content-type</td>\n    </tr>\n    <tr>\n      <th>...</th>\n      <td>...</td>\n      <td>...</td>\n      <td>...</td>\n      <td>...</td>\n    </tr>\n    <tr>\n      <th>25933</th>\n      <td>x-width</td>\n      <td>90.000000</td>\n      <td>8</td>\n      <td>wid</td>\n    </tr>\n    <tr>\n      <th>25934</th>\n      <td>nrk-application-version</td>\n      <td>90.000000</td>\n      <td>0</td>\n      <td>nrk-application</td>\n    </tr>\n    <tr>\n      <th>25935</th>\n      <td>xc-version</td>\n      <td>80.000000</td>\n      <td>12</td>\n      <td>nrk-application-version</td>\n    </tr>\n    <tr>\n      <th>25936</th>\n      <td>x-adstyle</td>\n      <td>82.352941</td>\n      <td>2</td>\n      <td>x-adtype</td>\n    </tr>\n    <tr>\n      <th>25937</th>\n      <td>x-pbs-appsvrip</td>\n      <td>80.000000</td>\n      <td>0</td>\n      <td>x-pbs-appsvrname</td>\n    </tr>\n  </tbody>\n</table>\n<p>25938 rows × 4 columns</p>\n</div>"
     },
     "execution_count": 14,
     "metadata": {},
     "output_type": "execute_result"
    }
   ],
   "source": [
    "match2"
   ],
   "metadata": {
    "collapsed": false
   }
  },
  {
   "cell_type": "code",
   "execution_count": 16,
   "outputs": [],
   "source": [
    "data_train.reset_index(drop=True, inplace=True)\n",
    "data_test.reset_index(drop=True, inplace=True)"
   ],
   "metadata": {
    "collapsed": false
   }
  },
  {
   "cell_type": "code",
   "execution_count": 17,
   "outputs": [
    {
     "name": "stdout",
     "output_type": "stream",
     "text": [
      "CPU times: user 6.68 s, sys: 45 ms, total: 6.73 s\n",
      "Wall time: 6.84 s\n"
     ]
    }
   ],
   "source": [
    "%%time\n",
    "similar_values = [\n",
    "    dpf.select_similar_columns(col[0], col[1], match2) for col in result if col is not None\n",
    "]\n",
    "\n",
    "similar_values_test = pd.concat(similar_values, ignore_index=True)\n",
    "similar_values = pd.concat(similar_values, ignore_index=True)"
   ],
   "metadata": {
    "collapsed": false
   }
  },
  {
   "cell_type": "code",
   "execution_count": 18,
   "outputs": [
    {
     "name": "stdout",
     "output_type": "stream",
     "text": [
      "CPU times: user 2.86 ms, sys: 1.05 ms, total: 3.91 ms\n",
      "Wall time: 4.03 ms\n"
     ]
    }
   ],
   "source": [
    "%%time\n",
    "other_columns = data_test.columns.values.tolist()\n",
    "values = list(set(similar_values.col_name.values.tolist() + similar_values.fuzzy_match.values.tolist()))\n",
    "cols_not_in_other = list(set(values).difference(other_columns))\n",
    "similar_values_test = similar_values_test[~similar_values_test['fuzzy_match'].isin(cols_not_in_other)]\n",
    "similar_values_test = similar_values_test[~similar_values_test['col_name'].isin(cols_not_in_other)]"
   ],
   "metadata": {
    "collapsed": false
   }
  },
  {
   "cell_type": "code",
   "execution_count": 19,
   "outputs": [
    {
     "name": "stdout",
     "output_type": "stream",
     "text": [
      "CPU times: user 14.6 s, sys: 1.8 s, total: 16.4 s\n",
      "Wall time: 16.9 s\n"
     ]
    },
    {
     "data": {
      "text/plain": "0       None\n1       None\n2       None\n3       None\n5       None\n        ... \n1623    None\n1624    None\n1626    None\n1628    None\n1630    None\nLength: 1250, dtype: object"
     },
     "execution_count": 19,
     "metadata": {},
     "output_type": "execute_result"
    }
   ],
   "source": [
    "%%time\n",
    "similar_values.apply(\n",
    "    lambda x: dpf.merge_similar_columns(x[\"fuzzy_match\"], x[\"col_name\"], data_train), axis=1\n",
    ")\n",
    "\n",
    "similar_values_test.apply(\n",
    "    lambda x: dpf.merge_similar_columns(x[\"fuzzy_match\"], x[\"col_name\"], data_test),\n",
    "    axis=1,\n",
    ")"
   ],
   "metadata": {
    "collapsed": false
   }
  },
  {
   "cell_type": "code",
   "execution_count": 20,
   "outputs": [],
   "source": [
    "columns_to_remove = list(set(similar_values.fuzzy_match.values.tolist()))\n",
    "data_train.drop(columns_to_remove, axis=1, inplace=True)\n",
    "\n",
    "columns_to_remove = list(set(similar_values_test.fuzzy_match.values.tolist()))\n",
    "data_test.drop(columns_to_remove, axis=1, inplace=True)"
   ],
   "metadata": {
    "collapsed": false
   }
  },
  {
   "cell_type": "code",
   "execution_count": 21,
   "outputs": [],
   "source": [
    "del match2\n",
    "del result\n",
    "del similar_values\n",
    "del similar_values_test\n",
    "del columns_to_remove"
   ],
   "metadata": {
    "collapsed": false
   }
  },
  {
   "cell_type": "code",
   "execution_count": 22,
   "outputs": [],
   "source": [
    "data_train = data_train.iloc[:, 6:]\n",
    "data_test = data_test.iloc[:, 6:]"
   ],
   "metadata": {
    "collapsed": false
   }
  },
  {
   "cell_type": "code",
   "execution_count": 23,
   "outputs": [
    {
     "name": "stdout",
     "output_type": "stream",
     "text": [
      "CPU times: user 1min 4s, sys: 5.08 s, total: 1min 9s\n",
      "Wall time: 1min 12s\n"
     ]
    }
   ],
   "source": [
    "%%time\n",
    "list_of_dtypes = dpf.create_categories_list(data_train)\n",
    "list_of_dtypes_test = dpf.create_categories_list(data_test)"
   ],
   "metadata": {
    "collapsed": false
   }
  },
  {
   "cell_type": "code",
   "execution_count": 24,
   "outputs": [
    {
     "name": "stdout",
     "output_type": "stream",
     "text": [
      "CPU times: user 1min 49s, sys: 8.66 s, total: 1min 57s\n",
      "Wall time: 2min 1s\n"
     ]
    }
   ],
   "source": [
    "%%time\n",
    "data_train = data_train.astype(list_of_dtypes)\n",
    "data_test = data_test.astype(list_of_dtypes_test)"
   ],
   "metadata": {
    "collapsed": false
   }
  },
  {
   "cell_type": "code",
   "execution_count": 30,
   "outputs": [
    {
     "name": "stdout",
     "output_type": "stream",
     "text": [
      "CPU times: user 7.15 s, sys: 1.46 s, total: 8.61 s\n",
      "Wall time: 9.18 s\n"
     ]
    }
   ],
   "source": [
    "%%time\n",
    "summary_table = dpf.create_summary_table(data_train.iloc[:, :-1])\n",
    "remove_headers_with_one_na_ratio = summary_table[\n",
    "    summary_table[\"na_ratio\"] == 1\n",
    "    ].header_name.values.tolist()\n",
    "remove_headers_with_one_value = summary_table[\n",
    "    (summary_table[\"unique_values\"] <= 1) & (summary_table[\"na_ratio\"] != 1)\n",
    "    ].header_name.values.tolist()"
   ],
   "metadata": {
    "collapsed": false
   }
  },
  {
   "cell_type": "code",
   "execution_count": 31,
   "outputs": [],
   "source": [
    "data_train.drop(remove_headers_with_one_na_ratio, axis=1, inplace=True)\n",
    "data_train.drop(remove_headers_with_one_value, axis=1, inplace=True)"
   ],
   "metadata": {
    "collapsed": false
   }
  },
  {
   "cell_type": "code",
   "execution_count": 32,
   "outputs": [],
   "source": [
    "other_columns = data_test.columns.values.tolist()\n",
    "col_intersection = list(set(remove_headers_with_one_na_ratio).intersection(other_columns))\n",
    "data_test.drop(col_intersection, axis=1, inplace=True)"
   ],
   "metadata": {
    "collapsed": false
   }
  },
  {
   "cell_type": "code",
   "execution_count": 33,
   "outputs": [],
   "source": [
    "other_columns = data_test.columns.values.tolist()\n",
    "col_intersection = list(set(remove_headers_with_one_value).intersection(other_columns))\n",
    "data_test.drop(col_intersection, axis=1, inplace=True)"
   ],
   "metadata": {
    "collapsed": false
   }
  },
  {
   "cell_type": "code",
   "execution_count": 34,
   "outputs": [],
   "source": [
    "test_columns = data_test.columns.values.tolist()\n",
    "train_columns = data_train.columns.values.tolist()\n",
    "cols_not_in_train = list(set(test_columns).difference(train_columns))"
   ],
   "metadata": {
    "collapsed": false
   }
  },
  {
   "cell_type": "code",
   "execution_count": 35,
   "outputs": [],
   "source": [
    "data_test.drop(cols_not_in_train, axis=1, inplace=True)"
   ],
   "metadata": {
    "collapsed": false
   }
  },
  {
   "cell_type": "code",
   "execution_count": 36,
   "outputs": [],
   "source": [
    "summary_table2 = dpf.create_summary_table_2(data_train)"
   ],
   "metadata": {
    "collapsed": false
   }
  },
  {
   "cell_type": "code",
   "execution_count": 37,
   "outputs": [],
   "source": [
    "dpf.concise_information_wrapper(data_train, summary_table2)"
   ],
   "metadata": {
    "collapsed": false
   }
  },
  {
   "cell_type": "code",
   "execution_count": 38,
   "outputs": [],
   "source": [
    "other_summary_table = summary_table2[\n",
    "    ~summary_table2.header_name.isin(list(set(data_train.columns.values.tolist())\n",
    "    .difference(data_test.columns.values.tolist())))]\n",
    "\n",
    "dpf.concise_information_wrapper(data_test, other_summary_table)"
   ],
   "metadata": {
    "collapsed": false
   }
  },
  {
   "cell_type": "code",
   "execution_count": 39,
   "outputs": [],
   "source": [
    "only_non_tracker_col, only_tracker_col = dpf.find_cols_to_combine(summary_table2)\n",
    "data_train.drop(only_non_tracker_col, axis=1, inplace=True)\n",
    "data_train.drop(only_tracker_col, axis=1, inplace=True)"
   ],
   "metadata": {
    "collapsed": false
   }
  },
  {
   "cell_type": "code",
   "execution_count": 40,
   "outputs": [],
   "source": [
    "other_columns = data_test.columns.values.tolist()\n",
    "chrome_columns = data_train.columns.values.tolist()\n",
    "cols_not_in_chrome = list(set(other_columns).difference(chrome_columns))\n",
    "data_test.drop(cols_not_in_chrome, axis=1, inplace=True)"
   ],
   "metadata": {
    "collapsed": false
   }
  },
  {
   "cell_type": "code",
   "execution_count": 41,
   "outputs": [
    {
     "data": {
      "text/plain": "['x-cached-since',\n 'x-jsd-version-type',\n 'x-object-meta-mtime',\n 'x-amz-meta-s3b-last-modified',\n 'x-cloud-trace-context',\n 'rbz-geo-countrycode',\n 'x-vcap-request-id',\n 'x-sbistracker',\n 'x-im-result-width',\n 'x-server-id',\n 'x-azure-ref-originshield',\n 'x-dispatcher',\n 'x-contentstack-organization',\n 'cf-bgj',\n 'edge-start',\n 'content-range',\n 'nw-session-trace',\n 'imagex-fmt',\n 'x-mserver',\n 'x-ee-request-id',\n 'x-qiniu-zone',\n 'x-id',\n 'x-fb-trip-id',\n 'x-77-nzt',\n 'origin-agent-cluster',\n 'akamai-true-ttl',\n 'x-oss-request-id',\n 'edge-cache-tag',\n 'x-oss-storage-class',\n 'x-svszone',\n 'ar-cache',\n 'x-fw-server',\n 'api-version',\n 'akamai-mon-iucid-del',\n 'content-md5',\n 'x-svr',\n 'cpc-age',\n 'x-tb',\n 'x-m-reqid',\n 'nginx-cache',\n 'x-ftr-dc',\n 'x-amz-meta-release',\n 'x-bce-content-crc32',\n 's-rt',\n 'x-hits',\n 'x-midtier',\n 'x-node',\n 'x-ak-request-id',\n 'eagleid',\n 'z-url-modified',\n 'wn',\n 'size',\n 'x-readtime',\n 'x-styx-req-id',\n 'x-mnrequest-id',\n 'x-goog-meta-width',\n 'x-delay',\n 'cdchost',\n 'x-pc',\n 'x-goog-meta-height',\n 'x-fetcher-etag',\n 'x-nyt-edge-cache',\n 'x-requestuuid',\n 'server-timing',\n 'kcs-via',\n 'fastly-stats',\n 'surrogate-key',\n 'x-origin',\n 'x-trans-id',\n 'x-akamai-transformed',\n 'x-datastream-cache-status',\n 'ohc-cache-hit',\n 'x-edge',\n 'x-image-server-original-size',\n 'proxy-status',\n 'x-oss-hash-crc64ecma',\n 'v-ttl',\n 'x-sovrn-pod',\n 'x-nws-log-uuid',\n 'x-version',\n 'served-from',\n 'x-fw-hash',\n 'x-coursera-trace-id-hex',\n 'x-ebay-pop-id',\n 'x-oracle-dms-rid',\n 'x-varnish-director',\n 'x-saycdn-ttl',\n 'ak-uuid',\n 'x-icici-grn',\n 'onion-location',\n 'x-image-dimensions',\n 'google-lineitem-id',\n 'x-ratelimit-remaining',\n 'x-proxy-cache-info',\n 'ohc-file-size',\n 'x-image-server-response',\n 'x-page-cache',\n 'vcl_data',\n 'fastly-io-info',\n 'x-akamai-edgescape',\n 'x-clacks-overhead',\n 'x-requestid',\n 'xkey',\n 'x-bucket-code',\n 'ar-sid',\n 'x-bce-request-id',\n 'surrogate-control',\n 'x-random',\n 'x-serial',\n 'quic-version',\n 'rlogid',\n 'z-ttl',\n 'x-ms-request-id',\n 'atl-traceid',\n 'x-needle-checksum',\n 'x-cos-request-id',\n 'cdnsip',\n 'origin-latency',\n 'host-header',\n 'x-info',\n 'x-ms-blob-type',\n 'x-cacheable',\n 'feature-policy',\n 'x-swift-cachetime',\n 'x-swift-savetime',\n 'x-via-cdn',\n 'x-rq',\n 'ar-request-id',\n 'x-geo-country',\n 'traceparent',\n 'x-request-ip',\n 'x-ms-version',\n 'x-ftr-backend-server',\n 'x-cld-skey',\n 'z-backend-name',\n 'x-im-original-width',\n 'x-cdn-provider',\n 'x-iinfo',\n 'x-nws-uuid-verify',\n 'x-ban',\n 'x-country-code',\n 'x-vg-webcache',\n 'x-edge-location-klb',\n 'x-ttl',\n 'x-sucuri-cache',\n 'public-key-pins',\n 'x-ratelimit-limit',\n 'z-url-original',\n 'x-fetcher-last-modified',\n 'x-px',\n 'cache-status',\n 'x-ah-environment',\n 'x-imgix-id',\n 'network_info',\n 'x-vercel-id',\n 'x-via-edge',\n 'x-cache-hits',\n 'x-tcp-info',\n 'x-resp-code',\n 'x-cos-hash-crc64ecma',\n 'x-amz-storage-class',\n 'x-ks-cache',\n 'cf-resized',\n 'x-ftr-balancer',\n 'x-image-server-cost-estimate',\n 'remaining_edge_ttl',\n 'fastly-io-url',\n 'x-frontend',\n 'fastly-io-warning',\n 'cdn-cache',\n 'x-coursera-request-id',\n 'tp-cache',\n 'x-nyt-route',\n 'cf-ipcountry',\n 'actual-object-ttl',\n 'x-bce-debug-id',\n 'x-ccdn-cachettl',\n 'x-ton-expected-size',\n 'x-nc',\n 'google-mediationtag-id',\n 'keep-alive',\n 'x-77-cache',\n 'xserver',\n 'x-log',\n 'x-drupal-cache',\n '-x-adobe-smart-imaging',\n 'x-debug',\n 'x-jsd-version',\n 'x-source-image-dimensions',\n 'x-cached',\n 'nw-session-id',\n 'x-proxy-origin',\n 'x-cdn-request-id',\n 'x-nf-request-id',\n 'x-qnm-cache',\n 'ce-version',\n 'x-goog-meta-goog-reserved-file-mtime',\n 'cdn-type',\n 'x-bdcdn-cache-status',\n 'x-tid',\n 'x-oracle-dms-ecid',\n 'x-response-cache',\n 'x-vg-webserver',\n 'x-tos-response-time',\n 'yjs-id',\n 'x-image-server-fetch-real',\n 'x-edgeconnect-cache-status',\n 'server-node',\n 'x-vcl-version',\n 'x-cdn-cache-id',\n 'country-code',\n 'x-storage-error-category',\n 'x-upstream',\n 'object-status',\n 'x-amz-meta-created-unix-time-millis',\n 'x-rid',\n 'x-hs-cf-lambda',\n 'x-fastly-pre-flight-cache-status',\n 'x-matched-path',\n 'ki-cache-type',\n 'x-accel-expires',\n 'x-cache-status',\n 'x-response-date',\n 'x-ua-compatible',\n 'x-webstats-respid',\n 'x-vhost',\n 'x_req_id',\n 'x-test-debug',\n 'cross-origin-embedder-policy-report-only',\n 'x-varnish-remaining-ttl',\n 'x-amz-meta-surrogate-key',\n 'content-language',\n 'abp',\n 'x-oss-server-time',\n 'x-datasrc',\n 'x-cache-lookup',\n 'x-tos-request-id',\n 'critical-ch',\n 'x-age',\n 'x-fw-type',\n 'edge-copy-time',\n 'x-openstack-request-id',\n 'z-surrogate-keys',\n 'x-amz-meta-index-tag',\n 'client-ip',\n 'cf-polished',\n 'x-debug-hit',\n 'x-via',\n 'fastly-io-ratio',\n 'x-gateway-skip-cache',\n 'x-77-pop',\n 'google-mediationgroup-id',\n 'x-hcs-proxy-type',\n 'x-pantheon-styx-hostname',\n 'x-device',\n 'x-reqid',\n 'x-ratelimit-reset',\n 'x-cdn-diag',\n 'x-image-server-fetch-estimate',\n 'x-amz-meta-cb-modifiedtime',\n 'xzp',\n 'x-generator',\n 'ali-swift-global-savetime',\n 'x-seen-by',\n 'link',\n 'x-haystack-needlechecksum',\n 'server-time',\n 'x-cdn-edge-cache',\n 'x-uniq-id',\n 'x-fastly-request-id',\n 'x-trace',\n 'x-grace',\n 'x-gateway-cache-key',\n 'x-amz-ir-id',\n 'x-ws-request-id',\n 'x-ttlset',\n 'x-backend',\n 'x-client-ip',\n 'x-vg-tlsproxy',\n 'x-ser',\n 'ec-version',\n 'x-ac',\n 'x-link-via',\n 'x-canonical-ops',\n 'google-creative-id',\n 'x-image-server-store-time',\n 'x-source',\n 'x-77-nzt-ray',\n 'x-gateway-request-id',\n 'x-url',\n 'ar-atime',\n 'x-country',\n 'x-api-version',\n 'x-ftr-request-id',\n 'an-x-request-uuid',\n 'x-varnish-cache',\n 'x-times',\n 'x-nginx-request-id',\n 'x-vname',\n 'x-webkit-csp',\n 'x-svc-build-time',\n 'eagleeye-traceid',\n 'x-check-cacheable',\n 'x-daa-tunnel',\n 'x-animated',\n 'x-proxy-cache',\n 'x-fw-static',\n 'x-wix-request-id',\n 'x-m-log',\n 'x-response-cinfo',\n 'x-varnish',\n 'x-fb-content-md5',\n 'x-origin-time',\n 'x-timestamp',\n 'service-worker-allowed',\n 'x-backend-server',\n 'x-oss-object-type',\n 'x-drupal-dynamic-cache',\n 'x-ftr-backend',\n 'dcs']"
     },
     "execution_count": 41,
     "metadata": {},
     "output_type": "execute_result"
    }
   ],
   "source": [
    "cols_not_in_chrome"
   ],
   "metadata": {
    "collapsed": false
   }
  },
  {
   "cell_type": "code",
   "execution_count": 42,
   "outputs": [
    {
     "data": {
      "text/plain": "[]"
     },
     "execution_count": 42,
     "metadata": {},
     "output_type": "execute_result"
    }
   ],
   "source": [
    "other_columns = data_test.columns.values.tolist()\n",
    "chrome_columns = data_train.columns.values.tolist()\n",
    "list(set(other_columns).difference(chrome_columns))"
   ],
   "metadata": {
    "collapsed": false
   }
  },
  {
   "cell_type": "code",
   "execution_count": 44,
   "outputs": [],
   "source": [
    "data_train['tracker'] = data_train['tracker'].astype('Int32')\n",
    "data_test['tracker'] = data_test['tracker'].astype('Int32')"
   ],
   "metadata": {
    "collapsed": false
   }
  },
  {
   "cell_type": "code",
   "execution_count": 45,
   "outputs": [],
   "source": [
    "def label_as_last_column(dataset):\n",
    "    temp_cols = dataset.columns.tolist()\n",
    "    index_col = dataset.columns.get_loc(\"tracker\")\n",
    "    new_col_order = (\n",
    "            temp_cols[0:index_col]\n",
    "            + temp_cols[index_col + 1:]\n",
    "            + temp_cols[index_col: index_col + 1]\n",
    "    )\n",
    "    return new_col_order"
   ],
   "metadata": {
    "collapsed": false
   }
  },
  {
   "cell_type": "code",
   "execution_count": 46,
   "outputs": [],
   "source": [
    "reordered_cols = label_as_last_column(data_train)\n",
    "data_test = data_test[reordered_cols]"
   ],
   "metadata": {
    "collapsed": false
   }
  },
  {
   "cell_type": "code",
   "execution_count": 47,
   "outputs": [],
   "source": [
    "data_test.to_parquet(\n",
    "            \"../data/processed/chrome/03_29_2023/test_set_merged_processed.parquet.gzip\",\n",
    "            compression=\"gzip\",\n",
    "        )"
   ],
   "metadata": {
    "collapsed": false
   }
  },
  {
   "cell_type": "code",
   "execution_count": 54,
   "outputs": [],
   "source": [
    "data_train.to_parquet(\n",
    "            \"../data/processed/chrome/08_12_2022/train_set_01_processed.parquet.gzip\",\n",
    "            compression=\"gzip\",\n",
    "        )"
   ],
   "metadata": {
    "collapsed": false
   }
  }
 ],
 "metadata": {
  "kernelspec": {
   "display_name": "Python 3",
   "language": "python",
   "name": "python3"
  },
  "language_info": {
   "codemirror_mode": {
    "name": "ipython",
    "version": 2
   },
   "file_extension": ".py",
   "mimetype": "text/x-python",
   "name": "python",
   "nbconvert_exporter": "python",
   "pygments_lexer": "ipython2",
   "version": "2.7.6"
  }
 },
 "nbformat": 4,
 "nbformat_minor": 0
}
